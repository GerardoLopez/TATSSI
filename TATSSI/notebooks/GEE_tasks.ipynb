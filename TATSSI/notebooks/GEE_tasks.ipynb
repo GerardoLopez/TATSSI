{
 "cells": [
  {
   "cell_type": "markdown",
   "metadata": {},
   "source": [
    "# Tools for Analyzing Time Series of Satellite Imagery (TATSSI)"
   ]
  },
  {
   "cell_type": "markdown",
   "metadata": {},
   "source": [
    "## Download data from the GEE\n",
    "TATSSI allows to dowload data products from Google Earth Engine [GEE](https://developers.google.com/earth-engine/datasets/) and create and process time series from different sensors such as:\n",
    "\n",
    "* Moderate Resolution Imaging Spectroradiometer [MODIS](https://lpdaac.usgs.gov/data/get-started-data/collection-overview/#MODIS_anchor)\n",
    "* Visible Infrared Imaging Radiometer Suite [VIIRS](https://lpdaac.usgs.gov/data/get-started-data/collection-overview/#S-NPPVIIRS_anchor)\n",
    "* Sentinel-2 MultiSpectral Instrument [MSI](https://developers.google.com/earth-engine/datasets/catalog/COPERNICUS_S2_SR)\n",
    "\n",
    "Downloading products from the GEE requires a Google Account, please, first regsiter as a user to get the login credentials and follow the instructions to authenticate to the Earth Engine using the [Python API](https://developers.google.com/earth-engine/python_install).\n",
    "\n",
    "1. Select your are of study, you can save it as a GeoJSON file, e.g. from the [geojson.io](http://geojson.io/) site.\n",
    "2. For the time being you need to match the official MODIS product bands and the GEE bands since the band names are not consistent.\n",
    "3. Generate the time series, you can then use the rest of the (awesome) TATSSI tools!"
   ]
  },
  {
   "cell_type": "code",
   "execution_count": null,
   "metadata": {
    "ExecuteTime": {
     "end_time": "2021-08-31T13:20:17.014459Z",
     "start_time": "2021-08-31T13:20:13.306606Z"
    }
   },
   "outputs": [],
   "source": [
    "# Import libraries\n",
    "import os\n",
    "import json\n",
    "from datetime import datetime as dt\n",
    "\n",
    "import ee\n",
    "\n",
    "try:\n",
    "    ee.Initialize()\n",
    "except Exception as e:\n",
    "    ee.Authenticate()\n",
    "    ee.Initialize()\n"
   ]
  },
  {
   "cell_type": "code",
   "execution_count": 137,
   "metadata": {
    "ExecuteTime": {
     "end_time": "2021-08-31T15:17:35.483392Z",
     "start_time": "2021-08-31T15:17:35.464693Z"
    },
    "hide_input": false
   },
   "outputs": [
    {
     "name": "stdout",
     "output_type": "stream",
     "text": [
      "ee.Geometry({\n",
      "  \"type\": \"Polygon\",\n",
      "  \"coordinates\": [\n",
      "    [\n",
      "      [\n",
      "        0.549488067626953,\n",
      "        52.90983377391108\n",
      "      ],\n",
      "      [\n",
      "        0.6102561950683594,\n",
      "        52.90983377391108\n",
      "      ],\n",
      "      [\n",
      "        0.6102561950683594,\n",
      "        52.94646577407651\n",
      "      ],\n",
      "      [\n",
      "        0.549488067626953,\n",
      "        52.94646577407651\n",
      "      ],\n",
      "      [\n",
      "        0.549488067626953,\n",
      "        52.90983377391108\n",
      "      ]\n",
      "    ]\n",
      "  ],\n",
      "  \"evenOdd\": true\n",
      "})\n"
     ]
    }
   ],
   "source": [
    "# Area of study\n",
    "with open('field_UK.json') as json_file:\n",
    "    region = json.load(json_file)\n",
    "    \n",
    "region = region['features'][0]['geometry']['coordinates']\n",
    "geometry = ee.Geometry.Polygon(region)\n",
    "print(geometry)"
   ]
  },
  {
   "cell_type": "markdown",
   "metadata": {},
   "source": [
    "For this example we will use the MODIS MOD13A2 product. Match the band names from the [LPDAAC](https://lpdaac.usgs.gov/products/mod13a2v006/) and the [GEE](https://developers.google.com/earth-engine/datasets/catalog/MODIS_006_MOD13A2)."
   ]
  },
  {
   "cell_type": "code",
   "execution_count": 192,
   "metadata": {
    "ExecuteTime": {
     "end_time": "2021-09-02T10:01:37.801608Z",
     "start_time": "2021-09-02T10:01:37.787025Z"
    }
   },
   "outputs": [],
   "source": [
    "# Dates as YYYY-MM-DD\n",
    "start_date, end_date = '2018-01-01', '2018-12-31'\n",
    "\n",
    "# Get Sentinel-2 MSI data\n",
    "# product_name = 'S2_SR'\n",
    "product_name = 'S1_GRD'\n",
    "\n",
    "# Product using GEE nomenclature\n",
    "product = f'COPERNICUS/{product_name}'\n",
    "\n",
    "# Get GEE collection\n",
    "# bands = ['B2', 'B3', 'B4', 'B5', 'B6', 'B7', 'B8', 'B8A', 'B11', 'B12']\n",
    "# resolutions = [10, 10, 10, 20, 20, 20, 10, 20, 20, 20]\n",
    "\n",
    "bands = ['VH', 'VV']\n",
    "resolutions = [10, 10]\n",
    "\n",
    "ee_collection = (ee.ImageCollection(product).\n",
    "                 filterBounds(geometry).\n",
    "                 filterDate(start_date, end_date).\n",
    "                 select(bands))\n"
   ]
  },
  {
   "cell_type": "code",
   "execution_count": 193,
   "metadata": {
    "ExecuteTime": {
     "end_time": "2021-09-02T10:01:38.836091Z",
     "start_time": "2021-09-02T10:01:38.814202Z"
    }
   },
   "outputs": [],
   "source": [
    "# Change to corresponding UTM Zone EPSG code\n",
    "# e.g. for the UK, UTM 30N, EPSG:32630\n",
    "# https://spatialreference.org/ref/epsg/wgs-84-utm-zone-30n/\n",
    "\n",
    "crs = 'EPSG:32630'\n",
    "\n",
    "tasks = []\n",
    "\n",
    "for resolution, band in zip(resolutions, bands):\n",
    "    tasks.append(ee.batch.Export.image.toCloudStorage(\n",
    "        image=ee_collection.select(band).toBands(),\n",
    "        region=geometry,\n",
    "        description=band,\n",
    "        bucket='sentinel1_bs',\n",
    "        fileNamePrefix=f'{band}_example_3years',\n",
    "        scale=resolution,\n",
    "        crs=crs,\n",
    "        maxPixels=1e13))"
   ]
  },
  {
   "cell_type": "code",
   "execution_count": 194,
   "metadata": {
    "ExecuteTime": {
     "end_time": "2021-09-02T10:01:40.916136Z",
     "start_time": "2021-09-02T10:01:39.439172Z"
    }
   },
   "outputs": [],
   "source": [
    "for task in tasks:\n",
    "    task.start()"
   ]
  },
  {
   "cell_type": "code",
   "execution_count": 197,
   "metadata": {
    "ExecuteTime": {
     "end_time": "2021-09-02T12:06:39.543811Z",
     "start_time": "2021-09-02T12:06:38.852889Z"
    }
   },
   "outputs": [
    {
     "data": {
      "text/plain": [
       "{'state': 'COMPLETED',\n",
       " 'description': 'VH',\n",
       " 'creation_timestamp_ms': 1630576899767,\n",
       " 'update_timestamp_ms': 1630577131098,\n",
       " 'start_timestamp_ms': 1630576912207,\n",
       " 'task_type': 'EXPORT_IMAGE',\n",
       " 'destination_uris': ['https://console.developers.google.com/storage/browser/sentinel1_bs/'],\n",
       " 'id': 'GH7W45QLNIGRTFPFQIJUMU5A',\n",
       " 'name': 'projects/earthengine-legacy/operations/GH7W45QLNIGRTFPFQIJUMU5A'}"
      ]
     },
     "execution_count": 197,
     "metadata": {},
     "output_type": "execute_result"
    }
   ],
   "source": [
    "tasks[0].status()"
   ]
  },
  {
   "cell_type": "code",
   "execution_count": 198,
   "metadata": {
    "ExecuteTime": {
     "end_time": "2021-09-02T12:10:49.904258Z",
     "start_time": "2021-09-02T12:10:48.535422Z"
    }
   },
   "outputs": [
    {
     "name": "stdout",
     "output_type": "stream",
     "text": [
      "2021-09-02 11:01:52.207000\n",
      "2021-09-02 11:07:58.353000\n"
     ]
    }
   ],
   "source": [
    "print(dt.fromtimestamp(tasks[0].status()['start_timestamp_ms']/1000.0))\n",
    "print(dt.fromtimestamp(tasks[-1].status()['update_timestamp_ms']/1000.0))"
   ]
  },
  {
   "cell_type": "code",
   "execution_count": null,
   "metadata": {},
   "outputs": [],
   "source": []
  }
 ],
 "metadata": {
  "kernelspec": {
   "display_name": "Python 3",
   "language": "python",
   "name": "python3"
  },
  "language_info": {
   "codemirror_mode": {
    "name": "ipython",
    "version": 3
   },
   "file_extension": ".py",
   "mimetype": "text/x-python",
   "name": "python",
   "nbconvert_exporter": "python",
   "pygments_lexer": "ipython3",
   "version": "3.7.3"
  },
  "toc": {
   "base_numbering": 1,
   "nav_menu": {},
   "number_sections": false,
   "sideBar": false,
   "skip_h1_title": false,
   "title_cell": "Table of Contents",
   "title_sidebar": "Contents",
   "toc_cell": false,
   "toc_position": {},
   "toc_section_display": false,
   "toc_window_display": false
  },
  "varInspector": {
   "cols": {
    "lenName": 16,
    "lenType": 16,
    "lenVar": 40
   },
   "kernels_config": {
    "python": {
     "delete_cmd_postfix": "",
     "delete_cmd_prefix": "del ",
     "library": "var_list.py",
     "varRefreshCmd": "print(var_dic_list())"
    },
    "r": {
     "delete_cmd_postfix": ") ",
     "delete_cmd_prefix": "rm(",
     "library": "var_list.r",
     "varRefreshCmd": "cat(var_dic_list()) "
    }
   },
   "types_to_exclude": [
    "module",
    "function",
    "builtin_function_or_method",
    "instance",
    "_Feature"
   ],
   "window_display": false
  }
 },
 "nbformat": 4,
 "nbformat_minor": 4
}
