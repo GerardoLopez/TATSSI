{
 "cells": [
  {
   "cell_type": "markdown",
   "metadata": {},
   "source": [
    "# Tools for Analyzing Time Series of Satellite Imagery (TATSSI)"
   ]
  },
  {
   "cell_type": "markdown",
   "metadata": {},
   "source": [
    "## Download data from the GEE\n",
    "TATSSI allows to dowload data products from Google Earth Engine [GEE](https://developers.google.com/earth-engine/datasets/) and create and process time series from different sensors such as:\n",
    "\n",
    "* Moderate Resolution Imaging Spectroradiometer [MODIS](https://lpdaac.usgs.gov/data/get-started-data/collection-overview/#MODIS_anchor)\n",
    "* Visible Infrared Imaging Radiometer Suite [VIIRS](https://lpdaac.usgs.gov/data/get-started-data/collection-overview/#S-NPPVIIRS_anchor)\n",
    "* Sentinel-2 MultiSpectral Instrument [MSI](https://developers.google.com/earth-engine/datasets/catalog/COPERNICUS_S2_SR)\n",
    "\n",
    "Downloading products from the GEE requires a Google Account, please, first regsiter as a user to get the login credentials and follow the instructions to authenticate to the Earth Engine using the [Python API](https://developers.google.com/earth-engine/python_install).\n",
    "\n",
    "1. Select your are of study, you can save it as a GeoJSON file, e.g. from the [geojson.io](http://geojson.io/) site.\n",
    "2. For the time being you need to match the official MODIS product bands and the GEE bands since the band names are not consistent.\n",
    "3. Generate the time series, you can then use the rest of the (awesome) TATSSI tools!"
   ]
  },
  {
   "cell_type": "code",
   "execution_count": 1,
   "metadata": {
    "ExecuteTime": {
     "end_time": "2022-04-26T14:11:08.851591Z",
     "start_time": "2022-04-26T14:10:32.942667Z"
    }
   },
   "outputs": [
    {
     "data": {
      "text/html": [
       "<p>To authorize access needed by Earth Engine, open the following\n",
       "        URL in a web browser and follow the instructions:</p>\n",
       "        <p><a href=https://accounts.google.com/o/oauth2/auth?client_id=517222506229-vsmmajv00ul0bs7p89v5m89qs8eb9359.apps.googleusercontent.com&scope=https%3A%2F%2Fwww.googleapis.com%2Fauth%2Fearthengine+https%3A%2F%2Fwww.googleapis.com%2Fauth%2Fdevstorage.full_control&redirect_uri=urn%3Aietf%3Awg%3Aoauth%3A2.0%3Aoob&response_type=code&code_challenge=5Wb7s-Nk4Re3EQ1RmQNE6YAxqiy7KOMhXsOCFOgnIMs&code_challenge_method=S256>https://accounts.google.com/o/oauth2/auth?client_id=517222506229-vsmmajv00ul0bs7p89v5m89qs8eb9359.apps.googleusercontent.com&scope=https%3A%2F%2Fwww.googleapis.com%2Fauth%2Fearthengine+https%3A%2F%2Fwww.googleapis.com%2Fauth%2Fdevstorage.full_control&redirect_uri=urn%3Aietf%3Awg%3Aoauth%3A2.0%3Aoob&response_type=code&code_challenge=5Wb7s-Nk4Re3EQ1RmQNE6YAxqiy7KOMhXsOCFOgnIMs&code_challenge_method=S256</a></p>\n",
       "        <p>The authorization workflow will generate a code, which you\n",
       "        should paste in the box below</p>\n",
       "        "
      ],
      "text/plain": [
       "<IPython.core.display.HTML object>"
      ]
     },
     "metadata": {},
     "output_type": "display_data"
    },
    {
     "name": "stdout",
     "output_type": "stream",
     "text": [
      "Enter verification code: 4/1AX4XfWhfe7B62Bx3HPuwlXx-VDNdCl6pwHvUaxEhfiSHix4-fQZP3Q1M3I4\n",
      "\n",
      "Successfully saved authorization token.\n"
     ]
    }
   ],
   "source": [
    "# Import libraries\n",
    "import os\n",
    "import json\n",
    "from datetime import datetime as dt\n",
    "\n",
    "import ee\n",
    "\n",
    "try:\n",
    "    ee.Initialize()\n",
    "except Exception as e:\n",
    "    ee.Authenticate()\n",
    "    ee.Initialize()\n",
    "\n",
    "from helpers import utils\n",
    "from TATSSI.download.gee_downloader import export_collection\n",
    "from TATSSI.download.gee_downloader import get_variables\n",
    "\n",
    "from TATSSI.time_series.generator import Generator"
   ]
  },
  {
   "cell_type": "code",
   "execution_count": 2,
   "metadata": {
    "ExecuteTime": {
     "end_time": "2022-04-26T14:15:24.952543Z",
     "start_time": "2022-04-26T14:15:24.934909Z"
    },
    "hide_input": false
   },
   "outputs": [
    {
     "name": "stdout",
     "output_type": "stream",
     "text": [
      "ee.Geometry({\n",
      "  \"type\": \"Polygon\",\n",
      "  \"coordinates\": [\n",
      "    [\n",
      "      [\n",
      "        -1.5763235092163086,\n",
      "        53.77559550401067\n",
      "      ],\n",
      "      [\n",
      "        -1.568073034286499,\n",
      "        53.77559550401067\n",
      "      ],\n",
      "      [\n",
      "        -1.568073034286499,\n",
      "        53.77990661754899\n",
      "      ],\n",
      "      [\n",
      "        -1.5763235092163086,\n",
      "        53.77990661754899\n",
      "      ],\n",
      "      [\n",
      "        -1.5763235092163086,\n",
      "        53.77559550401067\n",
      "      ]\n",
      "    ]\n",
      "  ],\n",
      "  \"evenOdd\": true\n",
      "})\n"
     ]
    }
   ],
   "source": [
    "# Area of study\n",
    "with open('Leeds.geojson') as json_file:\n",
    "    region = json.load(json_file)\n",
    "    \n",
    "region = region['features'][0]['geometry']['coordinates']\n",
    "geometry = ee.Geometry.Polygon(region)\n",
    "print(geometry)"
   ]
  },
  {
   "cell_type": "markdown",
   "metadata": {},
   "source": [
    "For this example we will use the Sentinel-2 SR product."
   ]
  },
  {
   "cell_type": "code",
   "execution_count": 3,
   "metadata": {
    "ExecuteTime": {
     "end_time": "2022-04-26T14:16:57.855120Z",
     "start_time": "2022-04-26T14:16:57.801437Z"
    }
   },
   "outputs": [],
   "source": [
    "# Dates as YYYY-MM-DD\n",
    "start_date, end_date = '2021-01-01', '2021-12-31'\n",
    "\n",
    "# Get Sentinel-2 MSI data\n",
    "product_name = 'S2_SR'\n",
    "\n",
    "# Product using GEE nomenclature\n",
    "product = f'COPERNICUS/{product_name}'\n",
    "\n",
    "# Get GEE collection\n",
    "ee_collection = (ee.ImageCollection(product).\n",
    "                 filterBounds(geometry).\n",
    "                 filterDate(start_date, end_date).\n",
    "                 select(['B1', 'B2', 'B3']))\n"
   ]
  },
  {
   "cell_type": "code",
   "execution_count": 4,
   "metadata": {
    "ExecuteTime": {
     "end_time": "2022-04-26T14:18:14.171602Z",
     "start_time": "2022-04-26T14:18:14.144719Z"
    }
   },
   "outputs": [],
   "source": [
    "# Change to corresponding UTM Zone\n",
    "# e.g. for the UK \n",
    "crs = 'EPSG:32630'\n",
    "\n",
    "task_b1 = ee.batch.Export.image.toCloudStorage(\n",
    "    image=ee_collection.select('B1').toBands(),\n",
    "    region=geometry,\n",
    "    description='B1',\n",
    "    bucket='clearsky',\n",
    "    fileNamePrefix='B3_Leeds',\n",
    "    scale=10,\n",
    "    crs=crs,\n",
    "    maxPixels=1e13)\n",
    "\n",
    "task_b2 = ee.batch.Export.image.toCloudStorage(\n",
    "    image=ee_collection.select('B2').toBands(),\n",
    "    region=geometry,\n",
    "    description='B2',\n",
    "    bucket='clearsky',\n",
    "    fileNamePrefix='B3_Leeds',\n",
    "    scale=10,\n",
    "    crs=crs,\n",
    "    maxPixels=1e13)\n",
    "\n",
    "task_b3 = ee.batch.Export.image.toCloudStorage(\n",
    "    image=ee_collection.select('B3').toBands(),\n",
    "    region=geometry,\n",
    "    description='B3',\n",
    "    bucket='clearsky',\n",
    "    fileNamePrefix='B3_Leeds',\n",
    "    scale=10,\n",
    "    crs=crs,\n",
    "    maxPixels=1e13)"
   ]
  },
  {
   "cell_type": "code",
   "execution_count": 5,
   "metadata": {
    "ExecuteTime": {
     "end_time": "2022-04-26T14:18:22.746362Z",
     "start_time": "2022-04-26T14:18:21.005779Z"
    }
   },
   "outputs": [
    {
     "name": "stderr",
     "output_type": "stream",
     "text": [
      "INFO:googleapiclient.discovery:URL being requested: POST https://earthengine.googleapis.com/v1alpha/projects/earthengine-legacy/image:export?alt=json\n",
      "INFO:googleapiclient.discovery:URL being requested: POST https://earthengine.googleapis.com/v1alpha/projects/earthengine-legacy/image:export?alt=json\n",
      "INFO:googleapiclient.discovery:URL being requested: POST https://earthengine.googleapis.com/v1alpha/projects/earthengine-legacy/image:export?alt=json\n"
     ]
    }
   ],
   "source": [
    "task_b1.start()\n",
    "task_b2.start()\n",
    "task_b3.start()"
   ]
  },
  {
   "cell_type": "code",
   "execution_count": 17,
   "metadata": {
    "ExecuteTime": {
     "end_time": "2022-04-26T14:23:08.376688Z",
     "start_time": "2022-04-26T14:23:08.190014Z"
    }
   },
   "outputs": [
    {
     "name": "stderr",
     "output_type": "stream",
     "text": [
      "INFO:googleapiclient.discovery:URL being requested: GET https://earthengine.googleapis.com/v1alpha/projects/earthengine-legacy/operations/IR2ATOEQKUYXISL2GE4HWH32?alt=json\n"
     ]
    },
    {
     "data": {
      "text/plain": [
       "{'state': 'COMPLETED',\n",
       " 'description': 'B1',\n",
       " 'creation_timestamp_ms': 1650982701669,\n",
       " 'update_timestamp_ms': 1650982867456,\n",
       " 'start_timestamp_ms': 1650982792523,\n",
       " 'task_type': 'EXPORT_IMAGE',\n",
       " 'destination_uris': ['https://console.developers.google.com/storage/browser/clearsky/'],\n",
       " 'id': 'IR2ATOEQKUYXISL2GE4HWH32',\n",
       " 'name': 'projects/earthengine-legacy/operations/IR2ATOEQKUYXISL2GE4HWH32'}"
      ]
     },
     "execution_count": 17,
     "metadata": {},
     "output_type": "execute_result"
    }
   ],
   "source": [
    "task_b1.status()"
   ]
  },
  {
   "cell_type": "code",
   "execution_count": 18,
   "metadata": {
    "ExecuteTime": {
     "end_time": "2022-04-26T14:23:15.201519Z",
     "start_time": "2022-04-26T14:23:15.012763Z"
    }
   },
   "outputs": [
    {
     "name": "stderr",
     "output_type": "stream",
     "text": [
      "INFO:googleapiclient.discovery:URL being requested: GET https://earthengine.googleapis.com/v1alpha/projects/earthengine-legacy/operations/2CFB4R2PF4HXMNSICXRMSNX3?alt=json\n"
     ]
    },
    {
     "data": {
      "text/plain": [
       "{'state': 'RUNNING',\n",
       " 'description': 'B2',\n",
       " 'creation_timestamp_ms': 1650982702123,\n",
       " 'update_timestamp_ms': 1650982958243,\n",
       " 'start_timestamp_ms': 1650982955546,\n",
       " 'task_type': 'EXPORT_IMAGE',\n",
       " 'id': '2CFB4R2PF4HXMNSICXRMSNX3',\n",
       " 'name': 'projects/earthengine-legacy/operations/2CFB4R2PF4HXMNSICXRMSNX3'}"
      ]
     },
     "execution_count": 18,
     "metadata": {},
     "output_type": "execute_result"
    }
   ],
   "source": [
    "task_b2.status()"
   ]
  },
  {
   "cell_type": "code",
   "execution_count": 19,
   "metadata": {
    "ExecuteTime": {
     "end_time": "2022-04-26T14:23:18.992426Z",
     "start_time": "2022-04-26T14:23:18.814073Z"
    }
   },
   "outputs": [
    {
     "name": "stderr",
     "output_type": "stream",
     "text": [
      "INFO:googleapiclient.discovery:URL being requested: GET https://earthengine.googleapis.com/v1alpha/projects/earthengine-legacy/operations/2I3GULTO2PS3LTZD3QYJPU4G?alt=json\n"
     ]
    },
    {
     "data": {
      "text/plain": [
       "{'state': 'READY',\n",
       " 'description': 'B3',\n",
       " 'creation_timestamp_ms': 1650982702682,\n",
       " 'update_timestamp_ms': 1650982702682,\n",
       " 'start_timestamp_ms': 0,\n",
       " 'task_type': 'EXPORT_IMAGE',\n",
       " 'id': '2I3GULTO2PS3LTZD3QYJPU4G',\n",
       " 'name': 'projects/earthengine-legacy/operations/2I3GULTO2PS3LTZD3QYJPU4G'}"
      ]
     },
     "execution_count": 19,
     "metadata": {},
     "output_type": "execute_result"
    }
   ],
   "source": [
    "task_b3.status()"
   ]
  },
  {
   "cell_type": "code",
   "execution_count": 86,
   "metadata": {
    "ExecuteTime": {
     "end_time": "2021-08-31T14:12:25.600175Z",
     "start_time": "2021-08-31T14:12:25.000288Z"
    }
   },
   "outputs": [
    {
     "name": "stdout",
     "output_type": "stream",
     "text": [
      "2021-08-31 15:04:28.571000\n",
      "2021-08-31 15:10:56.450000\n"
     ]
    }
   ],
   "source": [
    "print(dt.fromtimestamp(task_b3.status()['start_timestamp_ms']/1000.0))\n",
    "print(dt.fromtimestamp(task_b3.status()['update_timestamp_ms']/1000.0))"
   ]
  },
  {
   "cell_type": "markdown",
   "metadata": {},
   "source": [
    "Get the data!"
   ]
  },
  {
   "cell_type": "code",
   "execution_count": 13,
   "metadata": {
    "ExecuteTime": {
     "end_time": "2022-04-26T14:20:23.546475Z",
     "start_time": "2022-04-26T14:20:23.525318Z"
    },
    "scrolled": true
   },
   "outputs": [
    {
     "ename": "NameError",
     "evalue": "name 'bands' is not defined",
     "output_type": "error",
     "traceback": [
      "\u001b[0;31m---------------------------------------------------------------------------\u001b[0m",
      "\u001b[0;31mNameError\u001b[0m                                 Traceback (most recent call last)",
      "\u001b[0;32m<ipython-input-13-1d69e2efeeb1>\u001b[0m in \u001b[0;36m<module>\u001b[0;34m\u001b[0m\n\u001b[1;32m      1\u001b[0m \u001b[0moutput_dir\u001b[0m \u001b[0;34m=\u001b[0m \u001b[0;34m'/tmp'\u001b[0m\u001b[0;34m\u001b[0m\u001b[0;34m\u001b[0m\u001b[0m\n\u001b[1;32m      2\u001b[0m \u001b[0;31m# Export image collection\u001b[0m\u001b[0;34m\u001b[0m\u001b[0;34m\u001b[0m\u001b[0;34m\u001b[0m\u001b[0m\n\u001b[0;32m----> 3\u001b[0;31m datasets = export_collection(ee_collection, output_dir, bands=bands,\n\u001b[0m\u001b[1;32m      4\u001b[0m                              \u001b[0mproduct\u001b[0m\u001b[0;34m=\u001b[0m\u001b[0mproduct\u001b[0m\u001b[0;34m,\u001b[0m \u001b[0mscale\u001b[0m\u001b[0;34m=\u001b[0m\u001b[0;32mNone\u001b[0m\u001b[0;34m,\u001b[0m \u001b[0mcrs\u001b[0m\u001b[0;34m=\u001b[0m\u001b[0;34m'EPSG:32630'\u001b[0m\u001b[0;34m,\u001b[0m\u001b[0;34m\u001b[0m\u001b[0;34m\u001b[0m\u001b[0m\n\u001b[1;32m      5\u001b[0m                              region=region, file_per_band=True)\n",
      "\u001b[0;31mNameError\u001b[0m: name 'bands' is not defined"
     ]
    }
   ],
   "source": [
    "output_dir = '/tmp'\n",
    "# Export image collection\n",
    "datasets = export_collection(ee_collection, output_dir, bands=bands,\n",
    "                             product=product, scale=None, crs='EPSG:32630',\n",
    "                             region=region, file_per_band=True)"
   ]
  },
  {
   "cell_type": "code",
   "execution_count": null,
   "metadata": {
    "ExecuteTime": {
     "end_time": "2021-04-12T13:17:36.600223Z",
     "start_time": "2021-04-12T13:17:35.616073Z"
    }
   },
   "outputs": [],
   "source": [
    "ee_object = ee.Image(ee_collection.toList( int(ee_collection.size().getInfo()) ).get(0))"
   ]
  },
  {
   "cell_type": "code",
   "execution_count": null,
   "metadata": {
    "ExecuteTime": {
     "end_time": "2021-04-12T14:30:06.883639Z",
     "start_time": "2021-04-12T14:30:06.817178Z"
    }
   },
   "outputs": [],
   "source": [
    "ee_collection.select?"
   ]
  },
  {
   "cell_type": "code",
   "execution_count": null,
   "metadata": {
    "ExecuteTime": {
     "end_time": "2021-04-12T13:18:32.507578Z",
     "start_time": "2021-04-12T13:18:31.824132Z"
    }
   },
   "outputs": [],
   "source": [
    "_date = ee_object.get('system:index').getInfo()\n",
    "name = f'{_date}.tif'\n",
    "filename = os.path.join(os.path.abspath(output_dir), name)"
   ]
  },
  {
   "cell_type": "code",
   "execution_count": null,
   "metadata": {
    "ExecuteTime": {
     "end_time": "2021-04-12T14:19:11.232331Z",
     "start_time": "2021-04-12T14:19:11.217121Z"
    }
   },
   "outputs": [],
   "source": [
    "params"
   ]
  },
  {
   "cell_type": "code",
   "execution_count": null,
   "metadata": {
    "ExecuteTime": {
     "end_time": "2021-04-12T14:27:01.325741Z",
     "start_time": "2021-04-12T14:26:52.461099Z"
    }
   },
   "outputs": [],
   "source": [
    "for band in bands:\n",
    "    print(band, ee_object.select(band).projection().getInfo())\n",
    "\n",
    "    \n",
    "#url = ee_object.select(['B8A']).getDownloadURL(params)\n"
   ]
  },
  {
   "cell_type": "markdown",
   "metadata": {},
   "source": [
    "Create TATSSI time series."
   ]
  },
  {
   "cell_type": "code",
   "execution_count": null,
   "metadata": {
    "ExecuteTime": {
     "end_time": "2021-03-30T09:04:54.541644Z",
     "start_time": "2021-03-30T08:59:34.417820Z"
    },
    "scrolled": true
   },
   "outputs": [],
   "source": [
    "# TATSSI Time Series Generator object\n",
    "tsg = Generator(source_dir=output_dir, product=product_name,\n",
    "                version=version, data_format='tif',\n",
    "                progressBar=None, preprocessed=True)\n",
    "\n",
    "# Create layerstacks\n",
    "tsg._Generator__datasets = datasets\n",
    "for dataset in tsg._Generator__datasets:\n",
    "    tsg._Generator__generate_layerstack(dataset, 'tif')\n",
    "\n",
    "# For the associated product layers, decode the corresponding QA bands\n",
    "tsg._Generator__decode_qa('tif')"
   ]
  },
  {
   "cell_type": "code",
   "execution_count": null,
   "metadata": {},
   "outputs": [],
   "source": []
  }
 ],
 "metadata": {
  "kernelspec": {
   "display_name": "Python 3",
   "language": "python",
   "name": "python3"
  },
  "language_info": {
   "codemirror_mode": {
    "name": "ipython",
    "version": 3
   },
   "file_extension": ".py",
   "mimetype": "text/x-python",
   "name": "python",
   "nbconvert_exporter": "python",
   "pygments_lexer": "ipython3",
   "version": "3.7.3"
  },
  "toc": {
   "base_numbering": 1,
   "nav_menu": {},
   "number_sections": false,
   "sideBar": false,
   "skip_h1_title": false,
   "title_cell": "Table of Contents",
   "title_sidebar": "Contents",
   "toc_cell": false,
   "toc_position": {},
   "toc_section_display": false,
   "toc_window_display": false
  },
  "varInspector": {
   "cols": {
    "lenName": 16,
    "lenType": 16,
    "lenVar": 40
   },
   "kernels_config": {
    "python": {
     "delete_cmd_postfix": "",
     "delete_cmd_prefix": "del ",
     "library": "var_list.py",
     "varRefreshCmd": "print(var_dic_list())"
    },
    "r": {
     "delete_cmd_postfix": ") ",
     "delete_cmd_prefix": "rm(",
     "library": "var_list.r",
     "varRefreshCmd": "cat(var_dic_list()) "
    }
   },
   "types_to_exclude": [
    "module",
    "function",
    "builtin_function_or_method",
    "instance",
    "_Feature"
   ],
   "window_display": false
  }
 },
 "nbformat": 4,
 "nbformat_minor": 4
}
