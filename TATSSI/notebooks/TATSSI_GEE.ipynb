{
 "cells": [
  {
   "cell_type": "markdown",
   "metadata": {},
   "source": [
    "# Tools for Analyzing Time Series of Satellite Imagery (TATSSI)"
   ]
  },
  {
   "cell_type": "markdown",
   "metadata": {},
   "source": [
    "## Download data from the GEE\n",
    "TATSSI allows to dowload data products from Google Earth Engine [GEE](https://developers.google.com/earth-engine/datasets/) and create and process time series from different sensors such as:\n",
    "\n",
    "* Moderate Resolution Imaging Spectroradiometer [MODIS](https://lpdaac.usgs.gov/data/get-started-data/collection-overview/#MODIS_anchor)\n",
    "* Visible Infrared Imaging Radiometer Suite [VIIRS](https://lpdaac.usgs.gov/data/get-started-data/collection-overview/#S-NPPVIIRS_anchor)\n",
    "\n",
    "Downloading products from the GEE requires a Google Account, please, first regsiter as a user to get the login credentials and follow the instructions to authenticate to the Earth Engine using the [Python API](https://developers.google.com/earth-engine/python_install).\n",
    "\n",
    "1. Select your are of study, you can save it as a GeoJSON file, e.g. from the [geojson.io](http://geojson.io/) site.\n",
    "2. For the time being you need to match the official MODIS product bands and the GEE bands since the band names are not consistent.\n",
    "3. Generate the time series, you can then use the rest of the (awesome) TATSSI tools!"
   ]
  },
  {
   "cell_type": "code",
   "execution_count": 2,
   "metadata": {
    "ExecuteTime": {
     "end_time": "2020-12-16T10:25:05.895094Z",
     "start_time": "2020-12-16T10:25:01.695472Z"
    }
   },
   "outputs": [],
   "source": [
    "# Import libraries\n",
    "import os\n",
    "import json\n",
    "\n",
    "import ee\n",
    "try:\n",
    "    ee.Initialize()\n",
    "except Exception as e:\n",
    "    ee.Authenticate()\n",
    "    ee.Initialize()\n",
    "\n",
    "from helpers import utils\n",
    "from TATSSI.download.gee_downloader import export_collection\n",
    "from TATSSI.time_series.generator import Generator"
   ]
  },
  {
   "cell_type": "code",
   "execution_count": 3,
   "metadata": {
    "ExecuteTime": {
     "end_time": "2020-12-16T10:25:05.939691Z",
     "start_time": "2020-12-16T10:25:05.925987Z"
    },
    "hide_input": false,
    "scrolled": false
   },
   "outputs": [
    {
     "name": "stdout",
     "output_type": "stream",
     "text": [
      "ee.Geometry({\n",
      "  \"type\": \"Polygon\",\n",
      "  \"coordinates\": [\n",
      "    [\n",
      "      [\n",
      "        -103.32092285156249,\n",
      "        27.768620944918666\n",
      "      ],\n",
      "      [\n",
      "        -101.0577392578125,\n",
      "        27.768620944918666\n",
      "      ],\n",
      "      [\n",
      "        -101.0577392578125,\n",
      "        29.46829664171322\n",
      "      ],\n",
      "      [\n",
      "        -103.32092285156249,\n",
      "        29.46829664171322\n",
      "      ],\n",
      "      [\n",
      "        -103.32092285156249,\n",
      "        27.768620944918666\n",
      "      ]\n",
      "    ]\n",
      "  ],\n",
      "  \"evenOdd\": true\n",
      "})\n"
     ]
    }
   ],
   "source": [
    "# Area of study\n",
    "with open('coahuila.geojson') as json_file:\n",
    "    region = json.load(json_file)\n",
    "    \n",
    "region = region['features'][0]['geometry']['coordinates']\n",
    "geometry = ee.Geometry.Polygon(region)\n",
    "print(geometry)"
   ]
  },
  {
   "cell_type": "markdown",
   "metadata": {},
   "source": [
    "For this example we will use the MODIS MOD13A2 product. Match the band names from the [LPDAAC](https://lpdaac.usgs.gov/products/mod13a2v006/) and the [GEE](https://developers.google.com/earth-engine/datasets/catalog/MODIS_006_MOD13A2)."
   ]
  },
  {
   "cell_type": "code",
   "execution_count": 7,
   "metadata": {
    "ExecuteTime": {
     "end_time": "2020-12-16T10:33:07.312181Z",
     "start_time": "2020-12-16T10:33:07.301942Z"
    }
   },
   "outputs": [],
   "source": [
    "# Dictionary with \"GEE\" : \"LPDAAC\"\n",
    "bands = {\"DayOfYear\"       : \"1_km_16_days_composite_day_of_the_year\",\n",
    "         \"EVI\"             : \"1_km_16_days_EVI\",\n",
    "         \"RelativeAzimuth\" : \"1_km_16_days_relative_azimuth_angle\",\n",
    "         \"SummaryQA\"       : \"1_km_16_days_pixel_reliability\",\n",
    "         \"sur_refl_b02\"    : \"1_km_16_days_NIR_reflectance\",\n",
    "         \"sur_refl_b07\"    : \"1_km_16_days_MIR_reflectance\",\n",
    "         \"DetailedQA\"      : \"1_km_16_days_VI_Quality\",\n",
    "         \"NDVI\"            : \"1_km_16_days_NDVI\",\n",
    "         \"SolarZenith\"     : \"1_km_16_days_sun_zenith_angle\",\n",
    "         \"sur_refl_b01\"    : \"1_km_16_days_red_reflectance\",\n",
    "         \"sur_refl_b03\"    : \"1_km_16_days_blue_reflectance\",\n",
    "         \"ViewZenith\"      : \"1_km_16_days_view_zenith_angle\"}"
   ]
  },
  {
   "cell_type": "markdown",
   "metadata": {},
   "source": [
    "Set the download parameters"
   ]
  },
  {
   "cell_type": "code",
   "execution_count": 17,
   "metadata": {
    "ExecuteTime": {
     "end_time": "2020-12-16T14:03:22.145798Z",
     "start_time": "2020-12-16T14:03:22.134526Z"
    }
   },
   "outputs": [],
   "source": [
    "# Dates as YYYY-MM-DD\n",
    "start_date, end_date = '2008-01-01', '2020-12-01'\n",
    "\n",
    "# Get MODIS data\n",
    "product_name = 'MOD13A2'\n",
    "version = '006'\n",
    "\n",
    "# Product using GEE nomenclature\n",
    "product = f'MODIS/{version}/{product_name}'\n",
    "\n",
    "# Get GEE collection\n",
    "ee_collection = (ee.ImageCollection(product).\n",
    "                 filterBounds(geometry).\n",
    "                 filterDate(start_date, end_date))\n",
    "\n",
    "# Output directory\n",
    "output_dir = '/home/glopez/Projects/TATSSI/data/test_gee'"
   ]
  },
  {
   "cell_type": "markdown",
   "metadata": {},
   "source": [
    "Get the data!"
   ]
  },
  {
   "cell_type": "code",
   "execution_count": 18,
   "metadata": {
    "ExecuteTime": {
     "end_time": "2020-12-16T14:20:42.149530Z",
     "start_time": "2020-12-16T14:03:24.787028Z"
    },
    "scrolled": true
   },
   "outputs": [
    {
     "name": "stderr",
     "output_type": "stream",
     "text": [
      "INFO:googleapiclient.discovery:URL being requested: POST https://earthengine.googleapis.com/v1alpha/projects/earthengine-legacy/value:compute?prettyPrint=false&alt=json\n",
      "INFO:googleapiclient.discovery:URL being requested: POST https://earthengine.googleapis.com/v1alpha/projects/earthengine-legacy/value:compute?prettyPrint=false&alt=json\n",
      "INFO:TATSSI.download.gee_downloader:Total number of images: 297\n",
      "\n",
      "INFO:googleapiclient.discovery:URL being requested: POST https://earthengine.googleapis.com/v1alpha/projects/earthengine-legacy/value:compute?prettyPrint=false&alt=json\n",
      "INFO:TATSSI.download.gee_downloader:Exporting 1/297: 2008_01_01.tif\n",
      "INFO:googleapiclient.discovery:URL being requested: POST https://earthengine.googleapis.com/v1alpha/projects/earthengine-legacy/thumbnails?fields=name&alt=json\n"
     ]
    },
    {
     "name": "stdout",
     "output_type": "stream",
     "text": [
      "Generating URL ...\n"
     ]
    },
    {
     "name": "stderr",
     "output_type": "stream",
     "text": [
      "INFO:TATSSI.download.gee_downloader:Downloading data from https://earthengine.googleapis.com/v1alpha/projects/earthengine-legacy/thumbnails/92af76f2bfcefdf0f3473898f90f3aa6-f7944f190bd67b2c5ef18fe5d06da15c:getPixels\n",
      "Please wait ...\n",
      "INFO:TATSSI.download.gee_downloader:Data downloaded to /home/glopez/Projects/TATSSI/data/test_gee\n",
      "INFO:googleapiclient.discovery:URL being requested: POST https://earthengine.googleapis.com/v1alpha/projects/earthengine-legacy/value:compute?prettyPrint=false&alt=json\n",
      "INFO:TATSSI.download.gee_downloader:Exporting 2/297: 2008_01_17.tif\n",
      "INFO:googleapiclient.discovery:URL being requested: POST https://earthengine.googleapis.com/v1alpha/projects/earthengine-legacy/thumbnails?fields=name&alt=json\n"
     ]
    },
    {
     "name": "stdout",
     "output_type": "stream",
     "text": [
      "Generating URL ...\n"
     ]
    },
    {
     "name": "stderr",
     "output_type": "stream",
     "text": [
      "INFO:TATSSI.download.gee_downloader:Downloading data from https://earthengine.googleapis.com/v1alpha/projects/earthengine-legacy/thumbnails/0ae89cb626f3c0d3b8e898c580331816-e15d843dfdd81c3334fcb736f991fc21:getPixels\n",
      "Please wait ...\n",
      "INFO:TATSSI.download.gee_downloader:Data downloaded to /home/glopez/Projects/TATSSI/data/test_gee\n",
      "INFO:googleapiclient.discovery:URL being requested: POST https://earthengine.googleapis.com/v1alpha/projects/earthengine-legacy/value:compute?prettyPrint=false&alt=json\n",
      "INFO:TATSSI.download.gee_downloader:Exporting 3/297: 2008_02_02.tif\n",
      "INFO:googleapiclient.discovery:URL being requested: POST https://earthengine.googleapis.com/v1alpha/projects/earthengine-legacy/thumbnails?fields=name&alt=json\n"
     ]
    },
    {
     "name": "stdout",
     "output_type": "stream",
     "text": [
      "Generating URL ...\n"
     ]
    },
    {
     "name": "stderr",
     "output_type": "stream",
     "text": [
      "INFO:TATSSI.download.gee_downloader:Downloading data from https://earthengine.googleapis.com/v1alpha/projects/earthengine-legacy/thumbnails/cc5014596673210acd41a638afa7597a-fff5c6480fbb213c8f2b4a0f8aeecd0d:getPixels\n",
      "Please wait ...\n",
      "INFO:TATSSI.download.gee_downloader:Data downloaded to /home/glopez/Projects/TATSSI/data/test_gee\n",
      "INFO:googleapiclient.discovery:URL being requested: POST https://earthengine.googleapis.com/v1alpha/projects/earthengine-legacy/value:compute?prettyPrint=false&alt=json\n",
      "INFO:TATSSI.download.gee_downloader:Exporting 4/297: 2008_02_18.tif\n",
      "INFO:googleapiclient.discovery:URL being requested: POST https://earthengine.googleapis.com/v1alpha/projects/earthengine-legacy/thumbnails?fields=name&alt=json\n"
     ]
    },
    {
     "name": "stdout",
     "output_type": "stream",
     "text": [
      "Generating URL ...\n"
     ]
    },
    {
     "name": "stderr",
     "output_type": "stream",
     "text": [
      "INFO:TATSSI.download.gee_downloader:Downloading data from https://earthengine.googleapis.com/v1alpha/projects/earthengine-legacy/thumbnails/a25db3677eb9c0c50a7aa4ec5c995b76-722a6b3d4a640844883b3a95beebbd6f:getPixels\n",
      "Please wait ...\n",
      "INFO:TATSSI.download.gee_downloader:Data downloaded to /home/glopez/Projects/TATSSI/data/test_gee\n",
      "INFO:googleapiclient.discovery:URL being requested: POST https://earthengine.googleapis.com/v1alpha/projects/earthengine-legacy/value:compute?prettyPrint=false&alt=json\n",
      "INFO:TATSSI.download.gee_downloader:Exporting 5/297: 2008_03_05.tif\n",
      "INFO:googleapiclient.discovery:URL being requested: POST https://earthengine.googleapis.com/v1alpha/projects/earthengine-legacy/thumbnails?fields=name&alt=json\n"
     ]
    },
    {
     "name": "stdout",
     "output_type": "stream",
     "text": [
      "Generating URL ...\n"
     ]
    },
    {
     "name": "stderr",
     "output_type": "stream",
     "text": [
      "INFO:TATSSI.download.gee_downloader:Downloading data from https://earthengine.googleapis.com/v1alpha/projects/earthengine-legacy/thumbnails/02032d25ee989f2b1cc36c2288a9eb7d-3f2a785de6b2402894d07fcc00abaf7c:getPixels\n",
      "Please wait ...\n",
      "INFO:TATSSI.download.gee_downloader:Data downloaded to /home/glopez/Projects/TATSSI/data/test_gee\n",
      "INFO:googleapiclient.discovery:URL being requested: POST https://earthengine.googleapis.com/v1alpha/projects/earthengine-legacy/value:compute?prettyPrint=false&alt=json\n",
      "INFO:TATSSI.download.gee_downloader:Exporting 6/297: 2008_03_21.tif\n",
      "INFO:googleapiclient.discovery:URL being requested: POST https://earthengine.googleapis.com/v1alpha/projects/earthengine-legacy/thumbnails?fields=name&alt=json\n"
     ]
    },
    {
     "name": "stdout",
     "output_type": "stream",
     "text": [
      "Generating URL ...\n"
     ]
    },
    {
     "name": "stderr",
     "output_type": "stream",
     "text": [
      "INFO:TATSSI.download.gee_downloader:Downloading data from https://earthengine.googleapis.com/v1alpha/projects/earthengine-legacy/thumbnails/e952445d146939b63b27f33f9048d8bd-002b96c4aa4fc024aa9d20c684a3eaf8:getPixels\n",
      "Please wait ...\n",
      "INFO:TATSSI.download.gee_downloader:Data downloaded to /home/glopez/Projects/TATSSI/data/test_gee\n",
      "INFO:googleapiclient.discovery:URL being requested: POST https://earthengine.googleapis.com/v1alpha/projects/earthengine-legacy/value:compute?prettyPrint=false&alt=json\n",
      "INFO:TATSSI.download.gee_downloader:Exporting 7/297: 2008_04_06.tif\n",
      "INFO:googleapiclient.discovery:URL being requested: POST https://earthengine.googleapis.com/v1alpha/projects/earthengine-legacy/thumbnails?fields=name&alt=json\n"
     ]
    },
    {
     "name": "stdout",
     "output_type": "stream",
     "text": [
      "Generating URL ...\n"
     ]
    },
    {
     "name": "stderr",
     "output_type": "stream",
     "text": [
      "INFO:TATSSI.download.gee_downloader:Downloading data from https://earthengine.googleapis.com/v1alpha/projects/earthengine-legacy/thumbnails/b8b7545aa14b72847553c397e63e7bba-f4ba21334d72bb6620f0ef79b515350c:getPixels\n",
      "Please wait ...\n",
      "INFO:TATSSI.download.gee_downloader:Data downloaded to /home/glopez/Projects/TATSSI/data/test_gee\n",
      "INFO:googleapiclient.discovery:URL being requested: POST https://earthengine.googleapis.com/v1alpha/projects/earthengine-legacy/value:compute?prettyPrint=false&alt=json\n",
      "INFO:TATSSI.download.gee_downloader:Exporting 8/297: 2008_04_22.tif\n",
      "INFO:googleapiclient.discovery:URL being requested: POST https://earthengine.googleapis.com/v1alpha/projects/earthengine-legacy/thumbnails?fields=name&alt=json\n"
     ]
    },
    {
     "name": "stdout",
     "output_type": "stream",
     "text": [
      "Generating URL ...\n"
     ]
    },
    {
     "name": "stderr",
     "output_type": "stream",
     "text": [
      "INFO:TATSSI.download.gee_downloader:Downloading data from https://earthengine.googleapis.com/v1alpha/projects/earthengine-legacy/thumbnails/1c8035efcbc7e37f3625f3575c47bbe2-b61bad57fa5d4c4f8f33403903091236:getPixels\n",
      "Please wait ...\n",
      "INFO:TATSSI.download.gee_downloader:Data downloaded to /home/glopez/Projects/TATSSI/data/test_gee\n",
      "INFO:googleapiclient.discovery:URL being requested: POST https://earthengine.googleapis.com/v1alpha/projects/earthengine-legacy/value:compute?prettyPrint=false&alt=json\n",
      "INFO:TATSSI.download.gee_downloader:Exporting 9/297: 2008_05_08.tif\n",
      "INFO:googleapiclient.discovery:URL being requested: POST https://earthengine.googleapis.com/v1alpha/projects/earthengine-legacy/thumbnails?fields=name&alt=json\n"
     ]
    },
    {
     "name": "stdout",
     "output_type": "stream",
     "text": [
      "Generating URL ...\n"
     ]
    },
    {
     "name": "stderr",
     "output_type": "stream",
     "text": [
      "INFO:TATSSI.download.gee_downloader:Downloading data from https://earthengine.googleapis.com/v1alpha/projects/earthengine-legacy/thumbnails/d8740044f56d7c5cd4b41b28221b1a9b-635ba7f01ff284944c7bcefa7cf856ff:getPixels\n",
      "Please wait ...\n",
      "INFO:TATSSI.download.gee_downloader:Data downloaded to /home/glopez/Projects/TATSSI/data/test_gee\n",
      "INFO:googleapiclient.discovery:URL being requested: POST https://earthengine.googleapis.com/v1alpha/projects/earthengine-legacy/value:compute?prettyPrint=false&alt=json\n",
      "INFO:TATSSI.download.gee_downloader:Exporting 10/297: 2008_05_24.tif\n",
      "INFO:googleapiclient.discovery:URL being requested: POST https://earthengine.googleapis.com/v1alpha/projects/earthengine-legacy/thumbnails?fields=name&alt=json\n"
     ]
    },
    {
     "name": "stdout",
     "output_type": "stream",
     "text": [
      "Generating URL ...\n"
     ]
    },
    {
     "name": "stderr",
     "output_type": "stream",
     "text": [
      "INFO:TATSSI.download.gee_downloader:Downloading data from https://earthengine.googleapis.com/v1alpha/projects/earthengine-legacy/thumbnails/60321ffeee46855672a31a627d55f9fb-df169d3628408d6cb0421e13e0c27f08:getPixels\n",
      "Please wait ...\n",
      "INFO:TATSSI.download.gee_downloader:Data downloaded to /home/glopez/Projects/TATSSI/data/test_gee\n",
      "INFO:googleapiclient.discovery:URL being requested: POST https://earthengine.googleapis.com/v1alpha/projects/earthengine-legacy/value:compute?prettyPrint=false&alt=json\n",
      "INFO:TATSSI.download.gee_downloader:Exporting 11/297: 2008_06_09.tif\n",
      "INFO:googleapiclient.discovery:URL being requested: POST https://earthengine.googleapis.com/v1alpha/projects/earthengine-legacy/thumbnails?fields=name&alt=json\n"
     ]
    },
    {
     "name": "stdout",
     "output_type": "stream",
     "text": [
      "Generating URL ...\n"
     ]
    },
    {
     "name": "stderr",
     "output_type": "stream",
     "text": [
      "INFO:TATSSI.download.gee_downloader:Downloading data from https://earthengine.googleapis.com/v1alpha/projects/earthengine-legacy/thumbnails/b2fc368af4ec2454c4b9828320250aa1-7a3a6fbc71b6dcac60df5f8d2b7bff81:getPixels\n",
      "Please wait ...\n",
      "INFO:TATSSI.download.gee_downloader:Data downloaded to /home/glopez/Projects/TATSSI/data/test_gee\n",
      "INFO:googleapiclient.discovery:URL being requested: POST https://earthengine.googleapis.com/v1alpha/projects/earthengine-legacy/value:compute?prettyPrint=false&alt=json\n",
      "INFO:TATSSI.download.gee_downloader:Exporting 12/297: 2008_06_25.tif\n",
      "INFO:googleapiclient.discovery:URL being requested: POST https://earthengine.googleapis.com/v1alpha/projects/earthengine-legacy/thumbnails?fields=name&alt=json\n"
     ]
    },
    {
     "name": "stdout",
     "output_type": "stream",
     "text": [
      "Generating URL ...\n"
     ]
    },
    {
     "name": "stderr",
     "output_type": "stream",
     "text": [
      "INFO:TATSSI.download.gee_downloader:Downloading data from https://earthengine.googleapis.com/v1alpha/projects/earthengine-legacy/thumbnails/9d271176a942097f71da231ceb518567-ba30437acfb2fd1a062f6d66376d3ddd:getPixels\n",
      "Please wait ...\n",
      "INFO:TATSSI.download.gee_downloader:Data downloaded to /home/glopez/Projects/TATSSI/data/test_gee\n",
      "INFO:googleapiclient.discovery:URL being requested: POST https://earthengine.googleapis.com/v1alpha/projects/earthengine-legacy/value:compute?prettyPrint=false&alt=json\n",
      "INFO:TATSSI.download.gee_downloader:Exporting 13/297: 2008_07_11.tif\n",
      "INFO:googleapiclient.discovery:URL being requested: POST https://earthengine.googleapis.com/v1alpha/projects/earthengine-legacy/thumbnails?fields=name&alt=json\n"
     ]
    },
    {
     "name": "stdout",
     "output_type": "stream",
     "text": [
      "Generating URL ...\n"
     ]
    },
    {
     "name": "stderr",
     "output_type": "stream",
     "text": [
      "INFO:TATSSI.download.gee_downloader:Downloading data from https://earthengine.googleapis.com/v1alpha/projects/earthengine-legacy/thumbnails/c05362eca4bf2a406332f1029901b057-e73ce21fa50a444cca5d5adc42011e9c:getPixels\n",
      "Please wait ...\n",
      "INFO:TATSSI.download.gee_downloader:Data downloaded to /home/glopez/Projects/TATSSI/data/test_gee\n",
      "INFO:googleapiclient.discovery:URL being requested: POST https://earthengine.googleapis.com/v1alpha/projects/earthengine-legacy/value:compute?prettyPrint=false&alt=json\n",
      "INFO:TATSSI.download.gee_downloader:Exporting 14/297: 2008_07_27.tif\n",
      "INFO:googleapiclient.discovery:URL being requested: POST https://earthengine.googleapis.com/v1alpha/projects/earthengine-legacy/thumbnails?fields=name&alt=json\n"
     ]
    },
    {
     "name": "stdout",
     "output_type": "stream",
     "text": [
      "Generating URL ...\n"
     ]
    },
    {
     "name": "stderr",
     "output_type": "stream",
     "text": [
      "INFO:TATSSI.download.gee_downloader:Downloading data from https://earthengine.googleapis.com/v1alpha/projects/earthengine-legacy/thumbnails/ca5064918f1902b8e1fbee577c751d15-75a4b49559b82947e328047a67c59273:getPixels\n",
      "Please wait ...\n",
      "INFO:TATSSI.download.gee_downloader:Data downloaded to /home/glopez/Projects/TATSSI/data/test_gee\n",
      "INFO:googleapiclient.discovery:URL being requested: POST https://earthengine.googleapis.com/v1alpha/projects/earthengine-legacy/value:compute?prettyPrint=false&alt=json\n",
      "INFO:TATSSI.download.gee_downloader:Exporting 15/297: 2008_08_12.tif\n",
      "INFO:googleapiclient.discovery:URL being requested: POST https://earthengine.googleapis.com/v1alpha/projects/earthengine-legacy/thumbnails?fields=name&alt=json\n"
     ]
    },
    {
     "name": "stdout",
     "output_type": "stream",
     "text": [
      "Generating URL ...\n"
     ]
    },
    {
     "name": "stderr",
     "output_type": "stream",
     "text": [
      "INFO:TATSSI.download.gee_downloader:Downloading data from https://earthengine.googleapis.com/v1alpha/projects/earthengine-legacy/thumbnails/26d9a0bf2a217f3b571c732eb631139c-60e1f446436f8b3cf79a65fe2a7f6c4c:getPixels\n",
      "Please wait ...\n",
      "INFO:TATSSI.download.gee_downloader:Data downloaded to /home/glopez/Projects/TATSSI/data/test_gee\n",
      "INFO:googleapiclient.discovery:URL being requested: POST https://earthengine.googleapis.com/v1alpha/projects/earthengine-legacy/value:compute?prettyPrint=false&alt=json\n",
      "INFO:TATSSI.download.gee_downloader:Exporting 16/297: 2008_08_28.tif\n",
      "INFO:googleapiclient.discovery:URL being requested: POST https://earthengine.googleapis.com/v1alpha/projects/earthengine-legacy/thumbnails?fields=name&alt=json\n"
     ]
    },
    {
     "name": "stdout",
     "output_type": "stream",
     "text": [
      "Generating URL ...\n"
     ]
    },
    {
     "name": "stderr",
     "output_type": "stream",
     "text": [
      "INFO:TATSSI.download.gee_downloader:Downloading data from https://earthengine.googleapis.com/v1alpha/projects/earthengine-legacy/thumbnails/048c2323934ca052c960b2c0839801fe-fda37bfc0e46c830159c9f914742e656:getPixels\n",
      "Please wait ...\n",
      "INFO:TATSSI.download.gee_downloader:Data downloaded to /home/glopez/Projects/TATSSI/data/test_gee\n",
      "INFO:googleapiclient.discovery:URL being requested: POST https://earthengine.googleapis.com/v1alpha/projects/earthengine-legacy/value:compute?prettyPrint=false&alt=json\n",
      "INFO:TATSSI.download.gee_downloader:Exporting 17/297: 2008_09_13.tif\n",
      "INFO:googleapiclient.discovery:URL being requested: POST https://earthengine.googleapis.com/v1alpha/projects/earthengine-legacy/thumbnails?fields=name&alt=json\n"
     ]
    },
    {
     "name": "stdout",
     "output_type": "stream",
     "text": [
      "Generating URL ...\n"
     ]
    },
    {
     "name": "stderr",
     "output_type": "stream",
     "text": [
      "INFO:TATSSI.download.gee_downloader:Downloading data from https://earthengine.googleapis.com/v1alpha/projects/earthengine-legacy/thumbnails/cef85a9b038cd6d5e8f2950cd0b814ea-7bd67dcb29bb4bcf1f4a50845e51b8f7:getPixels\n",
      "Please wait ...\n",
      "INFO:TATSSI.download.gee_downloader:Data downloaded to /home/glopez/Projects/TATSSI/data/test_gee\n",
      "INFO:googleapiclient.discovery:URL being requested: POST https://earthengine.googleapis.com/v1alpha/projects/earthengine-legacy/value:compute?prettyPrint=false&alt=json\n",
      "INFO:TATSSI.download.gee_downloader:Exporting 18/297: 2008_09_29.tif\n",
      "INFO:googleapiclient.discovery:URL being requested: POST https://earthengine.googleapis.com/v1alpha/projects/earthengine-legacy/thumbnails?fields=name&alt=json\n"
     ]
    },
    {
     "name": "stdout",
     "output_type": "stream",
     "text": [
      "Generating URL ...\n"
     ]
    },
    {
     "name": "stderr",
     "output_type": "stream",
     "text": [
      "INFO:TATSSI.download.gee_downloader:Downloading data from https://earthengine.googleapis.com/v1alpha/projects/earthengine-legacy/thumbnails/15184d52aa519b9eb33b32f046095f33-49e78a69c7f9eb77b169abe8729496e3:getPixels\n",
      "Please wait ...\n",
      "INFO:TATSSI.download.gee_downloader:Data downloaded to /home/glopez/Projects/TATSSI/data/test_gee\n",
      "INFO:googleapiclient.discovery:URL being requested: POST https://earthengine.googleapis.com/v1alpha/projects/earthengine-legacy/value:compute?prettyPrint=false&alt=json\n",
      "INFO:TATSSI.download.gee_downloader:Exporting 19/297: 2008_10_15.tif\n",
      "INFO:googleapiclient.discovery:URL being requested: POST https://earthengine.googleapis.com/v1alpha/projects/earthengine-legacy/thumbnails?fields=name&alt=json\n"
     ]
    },
    {
     "name": "stdout",
     "output_type": "stream",
     "text": [
      "Generating URL ...\n"
     ]
    },
    {
     "name": "stderr",
     "output_type": "stream",
     "text": [
      "INFO:TATSSI.download.gee_downloader:Downloading data from https://earthengine.googleapis.com/v1alpha/projects/earthengine-legacy/thumbnails/ed74c8a2a5eae68e56fe4a7dda6a5484-afbfd8fd9e4e9ef1e9f232a2d4d78fbf:getPixels\n",
      "Please wait ...\n",
      "INFO:TATSSI.download.gee_downloader:Data downloaded to /home/glopez/Projects/TATSSI/data/test_gee\n",
      "INFO:googleapiclient.discovery:URL being requested: POST https://earthengine.googleapis.com/v1alpha/projects/earthengine-legacy/value:compute?prettyPrint=false&alt=json\n",
      "INFO:TATSSI.download.gee_downloader:Exporting 20/297: 2008_10_31.tif\n",
      "INFO:googleapiclient.discovery:URL being requested: POST https://earthengine.googleapis.com/v1alpha/projects/earthengine-legacy/thumbnails?fields=name&alt=json\n"
     ]
    },
    {
     "name": "stdout",
     "output_type": "stream",
     "text": [
      "Generating URL ...\n"
     ]
    },
    {
     "name": "stderr",
     "output_type": "stream",
     "text": [
      "INFO:TATSSI.download.gee_downloader:Downloading data from https://earthengine.googleapis.com/v1alpha/projects/earthengine-legacy/thumbnails/4331c20636697ef0bfcf2daa5428592e-454af07ad993fb9a0d87bc92360a54b8:getPixels\n",
      "Please wait ...\n",
      "INFO:TATSSI.download.gee_downloader:Data downloaded to /home/glopez/Projects/TATSSI/data/test_gee\n",
      "INFO:googleapiclient.discovery:URL being requested: POST https://earthengine.googleapis.com/v1alpha/projects/earthengine-legacy/value:compute?prettyPrint=false&alt=json\n",
      "INFO:TATSSI.download.gee_downloader:Exporting 21/297: 2008_11_16.tif\n",
      "INFO:googleapiclient.discovery:URL being requested: POST https://earthengine.googleapis.com/v1alpha/projects/earthengine-legacy/thumbnails?fields=name&alt=json\n"
     ]
    },
    {
     "name": "stdout",
     "output_type": "stream",
     "text": [
      "Generating URL ...\n"
     ]
    },
    {
     "name": "stderr",
     "output_type": "stream",
     "text": [
      "INFO:TATSSI.download.gee_downloader:Downloading data from https://earthengine.googleapis.com/v1alpha/projects/earthengine-legacy/thumbnails/ee508b4b922efa94b745d9ef3aeabb66-8d077ae41a4976a62e024ab18003b7ad:getPixels\n",
      "Please wait ...\n",
      "INFO:TATSSI.download.gee_downloader:Data downloaded to /home/glopez/Projects/TATSSI/data/test_gee\n",
      "INFO:googleapiclient.discovery:URL being requested: POST https://earthengine.googleapis.com/v1alpha/projects/earthengine-legacy/value:compute?prettyPrint=false&alt=json\n",
      "INFO:TATSSI.download.gee_downloader:Exporting 22/297: 2008_12_02.tif\n",
      "INFO:googleapiclient.discovery:URL being requested: POST https://earthengine.googleapis.com/v1alpha/projects/earthengine-legacy/thumbnails?fields=name&alt=json\n"
     ]
    },
    {
     "name": "stdout",
     "output_type": "stream",
     "text": [
      "Generating URL ...\n"
     ]
    },
    {
     "name": "stderr",
     "output_type": "stream",
     "text": [
      "INFO:TATSSI.download.gee_downloader:Downloading data from https://earthengine.googleapis.com/v1alpha/projects/earthengine-legacy/thumbnails/4e74781217d5c718f2d8b5d0e5a24b24-952bfac536837297fc3bd19a2926b50f:getPixels\n",
      "Please wait ...\n",
      "INFO:TATSSI.download.gee_downloader:Data downloaded to /home/glopez/Projects/TATSSI/data/test_gee\n",
      "INFO:googleapiclient.discovery:URL being requested: POST https://earthengine.googleapis.com/v1alpha/projects/earthengine-legacy/value:compute?prettyPrint=false&alt=json\n",
      "INFO:TATSSI.download.gee_downloader:Exporting 23/297: 2008_12_18.tif\n",
      "INFO:googleapiclient.discovery:URL being requested: POST https://earthengine.googleapis.com/v1alpha/projects/earthengine-legacy/thumbnails?fields=name&alt=json\n"
     ]
    },
    {
     "name": "stdout",
     "output_type": "stream",
     "text": [
      "Generating URL ...\n"
     ]
    },
    {
     "name": "stderr",
     "output_type": "stream",
     "text": [
      "INFO:TATSSI.download.gee_downloader:Downloading data from https://earthengine.googleapis.com/v1alpha/projects/earthengine-legacy/thumbnails/cbd1fc72072c38ff6f4a7e280b6f11cd-f62fd7c1b9401ef0cd349df7c2efeeed:getPixels\n",
      "Please wait ...\n",
      "INFO:TATSSI.download.gee_downloader:Data downloaded to /home/glopez/Projects/TATSSI/data/test_gee\n",
      "INFO:googleapiclient.discovery:URL being requested: POST https://earthengine.googleapis.com/v1alpha/projects/earthengine-legacy/value:compute?prettyPrint=false&alt=json\n",
      "INFO:TATSSI.download.gee_downloader:Exporting 24/297: 2009_01_01.tif\n",
      "INFO:googleapiclient.discovery:URL being requested: POST https://earthengine.googleapis.com/v1alpha/projects/earthengine-legacy/thumbnails?fields=name&alt=json\n"
     ]
    },
    {
     "name": "stdout",
     "output_type": "stream",
     "text": [
      "Generating URL ...\n"
     ]
    },
    {
     "name": "stderr",
     "output_type": "stream",
     "text": [
      "INFO:TATSSI.download.gee_downloader:Downloading data from https://earthengine.googleapis.com/v1alpha/projects/earthengine-legacy/thumbnails/e786d1ce98bc3593621fd1e180d31e89-cdf562d237889786249098c77e4acedc:getPixels\n",
      "Please wait ...\n",
      "INFO:TATSSI.download.gee_downloader:Data downloaded to /home/glopez/Projects/TATSSI/data/test_gee\n",
      "INFO:googleapiclient.discovery:URL being requested: POST https://earthengine.googleapis.com/v1alpha/projects/earthengine-legacy/value:compute?prettyPrint=false&alt=json\n",
      "INFO:TATSSI.download.gee_downloader:Exporting 25/297: 2009_01_17.tif\n",
      "INFO:googleapiclient.discovery:URL being requested: POST https://earthengine.googleapis.com/v1alpha/projects/earthengine-legacy/thumbnails?fields=name&alt=json\n"
     ]
    },
    {
     "name": "stdout",
     "output_type": "stream",
     "text": [
      "Generating URL ...\n"
     ]
    },
    {
     "name": "stderr",
     "output_type": "stream",
     "text": [
      "INFO:TATSSI.download.gee_downloader:Downloading data from https://earthengine.googleapis.com/v1alpha/projects/earthengine-legacy/thumbnails/4dc6e1ad659dbd5fcb031cf563054e22-094e02c6c40a595c421051e2b3171bf0:getPixels\n",
      "Please wait ...\n",
      "INFO:TATSSI.download.gee_downloader:Data downloaded to /home/glopez/Projects/TATSSI/data/test_gee\n",
      "INFO:googleapiclient.discovery:URL being requested: POST https://earthengine.googleapis.com/v1alpha/projects/earthengine-legacy/value:compute?prettyPrint=false&alt=json\n",
      "INFO:TATSSI.download.gee_downloader:Exporting 26/297: 2009_02_02.tif\n",
      "INFO:googleapiclient.discovery:URL being requested: POST https://earthengine.googleapis.com/v1alpha/projects/earthengine-legacy/thumbnails?fields=name&alt=json\n"
     ]
    },
    {
     "name": "stdout",
     "output_type": "stream",
     "text": [
      "Generating URL ...\n"
     ]
    },
    {
     "name": "stderr",
     "output_type": "stream",
     "text": [
      "INFO:TATSSI.download.gee_downloader:Downloading data from https://earthengine.googleapis.com/v1alpha/projects/earthengine-legacy/thumbnails/7508e3e2d9ef93240c843ccc7448df64-26e4b7c657e0a9d9a2afda3afca39e49:getPixels\n",
      "Please wait ...\n",
      "INFO:TATSSI.download.gee_downloader:Data downloaded to /home/glopez/Projects/TATSSI/data/test_gee\n",
      "INFO:googleapiclient.discovery:URL being requested: POST https://earthengine.googleapis.com/v1alpha/projects/earthengine-legacy/value:compute?prettyPrint=false&alt=json\n",
      "INFO:TATSSI.download.gee_downloader:Exporting 27/297: 2009_02_18.tif\n",
      "INFO:googleapiclient.discovery:URL being requested: POST https://earthengine.googleapis.com/v1alpha/projects/earthengine-legacy/thumbnails?fields=name&alt=json\n"
     ]
    },
    {
     "name": "stdout",
     "output_type": "stream",
     "text": [
      "Generating URL ...\n"
     ]
    },
    {
     "name": "stderr",
     "output_type": "stream",
     "text": [
      "INFO:TATSSI.download.gee_downloader:Downloading data from https://earthengine.googleapis.com/v1alpha/projects/earthengine-legacy/thumbnails/6dffc628881643f20cd2654b953829a0-739111be7fac3c19f04ad34cdd8e9f11:getPixels\n",
      "Please wait ...\n",
      "INFO:TATSSI.download.gee_downloader:Data downloaded to /home/glopez/Projects/TATSSI/data/test_gee\n",
      "INFO:googleapiclient.discovery:URL being requested: POST https://earthengine.googleapis.com/v1alpha/projects/earthengine-legacy/value:compute?prettyPrint=false&alt=json\n",
      "INFO:TATSSI.download.gee_downloader:Exporting 28/297: 2009_03_06.tif\n",
      "INFO:googleapiclient.discovery:URL being requested: POST https://earthengine.googleapis.com/v1alpha/projects/earthengine-legacy/thumbnails?fields=name&alt=json\n"
     ]
    },
    {
     "name": "stdout",
     "output_type": "stream",
     "text": [
      "Generating URL ...\n"
     ]
    },
    {
     "name": "stderr",
     "output_type": "stream",
     "text": [
      "INFO:TATSSI.download.gee_downloader:Downloading data from https://earthengine.googleapis.com/v1alpha/projects/earthengine-legacy/thumbnails/f13004262a60499498aca07cf3612682-9ddc82face8d3ad8b5ba4ea2cf567f91:getPixels\n",
      "Please wait ...\n",
      "INFO:TATSSI.download.gee_downloader:Data downloaded to /home/glopez/Projects/TATSSI/data/test_gee\n",
      "INFO:googleapiclient.discovery:URL being requested: POST https://earthengine.googleapis.com/v1alpha/projects/earthengine-legacy/value:compute?prettyPrint=false&alt=json\n",
      "INFO:TATSSI.download.gee_downloader:Exporting 29/297: 2009_03_22.tif\n",
      "INFO:googleapiclient.discovery:URL being requested: POST https://earthengine.googleapis.com/v1alpha/projects/earthengine-legacy/thumbnails?fields=name&alt=json\n"
     ]
    },
    {
     "name": "stdout",
     "output_type": "stream",
     "text": [
      "Generating URL ...\n"
     ]
    },
    {
     "name": "stderr",
     "output_type": "stream",
     "text": [
      "INFO:TATSSI.download.gee_downloader:Downloading data from https://earthengine.googleapis.com/v1alpha/projects/earthengine-legacy/thumbnails/b714216c8e40bf502d1362a424215ae8-772ff2c18d9787639ce2940bbdafa613:getPixels\n",
      "Please wait ...\n",
      "INFO:TATSSI.download.gee_downloader:Data downloaded to /home/glopez/Projects/TATSSI/data/test_gee\n",
      "INFO:googleapiclient.discovery:URL being requested: POST https://earthengine.googleapis.com/v1alpha/projects/earthengine-legacy/value:compute?prettyPrint=false&alt=json\n",
      "INFO:TATSSI.download.gee_downloader:Exporting 30/297: 2009_04_07.tif\n",
      "INFO:googleapiclient.discovery:URL being requested: POST https://earthengine.googleapis.com/v1alpha/projects/earthengine-legacy/thumbnails?fields=name&alt=json\n"
     ]
    },
    {
     "name": "stdout",
     "output_type": "stream",
     "text": [
      "Generating URL ...\n"
     ]
    },
    {
     "name": "stderr",
     "output_type": "stream",
     "text": [
      "INFO:TATSSI.download.gee_downloader:Downloading data from https://earthengine.googleapis.com/v1alpha/projects/earthengine-legacy/thumbnails/89a7910129ab263a6bd6351c1f2cb5cc-46ec612458429578ffa9ded5cc496244:getPixels\n",
      "Please wait ...\n",
      "INFO:TATSSI.download.gee_downloader:Data downloaded to /home/glopez/Projects/TATSSI/data/test_gee\n",
      "INFO:googleapiclient.discovery:URL being requested: POST https://earthengine.googleapis.com/v1alpha/projects/earthengine-legacy/value:compute?prettyPrint=false&alt=json\n",
      "INFO:TATSSI.download.gee_downloader:Exporting 31/297: 2009_04_23.tif\n",
      "INFO:googleapiclient.discovery:URL being requested: POST https://earthengine.googleapis.com/v1alpha/projects/earthengine-legacy/thumbnails?fields=name&alt=json\n"
     ]
    },
    {
     "name": "stdout",
     "output_type": "stream",
     "text": [
      "Generating URL ...\n"
     ]
    },
    {
     "name": "stderr",
     "output_type": "stream",
     "text": [
      "INFO:TATSSI.download.gee_downloader:Downloading data from https://earthengine.googleapis.com/v1alpha/projects/earthengine-legacy/thumbnails/c3b62c48caef3a5d6ba1de014dcc6143-ccf1fd5d0b780432bf8aa937e1d529ed:getPixels\n",
      "Please wait ...\n",
      "INFO:TATSSI.download.gee_downloader:Data downloaded to /home/glopez/Projects/TATSSI/data/test_gee\n",
      "INFO:googleapiclient.discovery:URL being requested: POST https://earthengine.googleapis.com/v1alpha/projects/earthengine-legacy/value:compute?prettyPrint=false&alt=json\n",
      "INFO:TATSSI.download.gee_downloader:Exporting 32/297: 2009_05_09.tif\n",
      "INFO:googleapiclient.discovery:URL being requested: POST https://earthengine.googleapis.com/v1alpha/projects/earthengine-legacy/thumbnails?fields=name&alt=json\n"
     ]
    },
    {
     "name": "stdout",
     "output_type": "stream",
     "text": [
      "Generating URL ...\n"
     ]
    },
    {
     "name": "stderr",
     "output_type": "stream",
     "text": [
      "INFO:TATSSI.download.gee_downloader:Downloading data from https://earthengine.googleapis.com/v1alpha/projects/earthengine-legacy/thumbnails/7e27e18b6013a8d7a0f9410aee0d529d-eb5b1dfb1bfa00253aee81898ff69ece:getPixels\n",
      "Please wait ...\n",
      "INFO:TATSSI.download.gee_downloader:Data downloaded to /home/glopez/Projects/TATSSI/data/test_gee\n",
      "INFO:googleapiclient.discovery:URL being requested: POST https://earthengine.googleapis.com/v1alpha/projects/earthengine-legacy/value:compute?prettyPrint=false&alt=json\n",
      "INFO:TATSSI.download.gee_downloader:Exporting 33/297: 2009_05_25.tif\n",
      "INFO:googleapiclient.discovery:URL being requested: POST https://earthengine.googleapis.com/v1alpha/projects/earthengine-legacy/thumbnails?fields=name&alt=json\n"
     ]
    },
    {
     "name": "stdout",
     "output_type": "stream",
     "text": [
      "Generating URL ...\n"
     ]
    },
    {
     "name": "stderr",
     "output_type": "stream",
     "text": [
      "INFO:TATSSI.download.gee_downloader:Downloading data from https://earthengine.googleapis.com/v1alpha/projects/earthengine-legacy/thumbnails/12c1237ee25648555da2313a09dfe240-cd063c3c6126cda6fa2c30821ffb9058:getPixels\n",
      "Please wait ...\n",
      "INFO:TATSSI.download.gee_downloader:Data downloaded to /home/glopez/Projects/TATSSI/data/test_gee\n",
      "INFO:googleapiclient.discovery:URL being requested: POST https://earthengine.googleapis.com/v1alpha/projects/earthengine-legacy/value:compute?prettyPrint=false&alt=json\n",
      "INFO:TATSSI.download.gee_downloader:Exporting 34/297: 2009_06_10.tif\n",
      "INFO:googleapiclient.discovery:URL being requested: POST https://earthengine.googleapis.com/v1alpha/projects/earthengine-legacy/thumbnails?fields=name&alt=json\n"
     ]
    },
    {
     "name": "stdout",
     "output_type": "stream",
     "text": [
      "Generating URL ...\n"
     ]
    },
    {
     "name": "stderr",
     "output_type": "stream",
     "text": [
      "INFO:TATSSI.download.gee_downloader:Downloading data from https://earthengine.googleapis.com/v1alpha/projects/earthengine-legacy/thumbnails/85102ab65e715f7c1b8589ff64fbec33-ab61c8641542e50d7c4ae9d27241618d:getPixels\n",
      "Please wait ...\n",
      "INFO:TATSSI.download.gee_downloader:Data downloaded to /home/glopez/Projects/TATSSI/data/test_gee\n",
      "INFO:googleapiclient.discovery:URL being requested: POST https://earthengine.googleapis.com/v1alpha/projects/earthengine-legacy/value:compute?prettyPrint=false&alt=json\n",
      "INFO:TATSSI.download.gee_downloader:Exporting 35/297: 2009_06_26.tif\n",
      "INFO:googleapiclient.discovery:URL being requested: POST https://earthengine.googleapis.com/v1alpha/projects/earthengine-legacy/thumbnails?fields=name&alt=json\n"
     ]
    },
    {
     "name": "stdout",
     "output_type": "stream",
     "text": [
      "Generating URL ...\n"
     ]
    },
    {
     "name": "stderr",
     "output_type": "stream",
     "text": [
      "INFO:TATSSI.download.gee_downloader:Downloading data from https://earthengine.googleapis.com/v1alpha/projects/earthengine-legacy/thumbnails/33314830ffadded1d6f20605ae802229-f6321c9cbff2fefdbf5ba9ff8edc763b:getPixels\n",
      "Please wait ...\n",
      "INFO:TATSSI.download.gee_downloader:Data downloaded to /home/glopez/Projects/TATSSI/data/test_gee\n",
      "INFO:googleapiclient.discovery:URL being requested: POST https://earthengine.googleapis.com/v1alpha/projects/earthengine-legacy/value:compute?prettyPrint=false&alt=json\n",
      "INFO:TATSSI.download.gee_downloader:Exporting 36/297: 2009_07_12.tif\n",
      "INFO:googleapiclient.discovery:URL being requested: POST https://earthengine.googleapis.com/v1alpha/projects/earthengine-legacy/thumbnails?fields=name&alt=json\n"
     ]
    },
    {
     "name": "stdout",
     "output_type": "stream",
     "text": [
      "Generating URL ...\n"
     ]
    },
    {
     "name": "stderr",
     "output_type": "stream",
     "text": [
      "INFO:TATSSI.download.gee_downloader:Downloading data from https://earthengine.googleapis.com/v1alpha/projects/earthengine-legacy/thumbnails/528d609897444c1bacb83034eb792f21-b0f5aaa8352101a6f22cede6c5c52b99:getPixels\n",
      "Please wait ...\n",
      "INFO:TATSSI.download.gee_downloader:Data downloaded to /home/glopez/Projects/TATSSI/data/test_gee\n",
      "INFO:googleapiclient.discovery:URL being requested: POST https://earthengine.googleapis.com/v1alpha/projects/earthengine-legacy/value:compute?prettyPrint=false&alt=json\n",
      "INFO:TATSSI.download.gee_downloader:Exporting 37/297: 2009_07_28.tif\n",
      "INFO:googleapiclient.discovery:URL being requested: POST https://earthengine.googleapis.com/v1alpha/projects/earthengine-legacy/thumbnails?fields=name&alt=json\n"
     ]
    },
    {
     "name": "stdout",
     "output_type": "stream",
     "text": [
      "Generating URL ...\n"
     ]
    },
    {
     "name": "stderr",
     "output_type": "stream",
     "text": [
      "INFO:TATSSI.download.gee_downloader:Downloading data from https://earthengine.googleapis.com/v1alpha/projects/earthengine-legacy/thumbnails/8fd53eea716cd61a1abe1aded87ed7ce-8d7878fd1454ac873a279a14a271481b:getPixels\n",
      "Please wait ...\n",
      "INFO:TATSSI.download.gee_downloader:Data downloaded to /home/glopez/Projects/TATSSI/data/test_gee\n",
      "INFO:googleapiclient.discovery:URL being requested: POST https://earthengine.googleapis.com/v1alpha/projects/earthengine-legacy/value:compute?prettyPrint=false&alt=json\n",
      "INFO:TATSSI.download.gee_downloader:Exporting 38/297: 2009_08_13.tif\n",
      "INFO:googleapiclient.discovery:URL being requested: POST https://earthengine.googleapis.com/v1alpha/projects/earthengine-legacy/thumbnails?fields=name&alt=json\n"
     ]
    },
    {
     "name": "stdout",
     "output_type": "stream",
     "text": [
      "Generating URL ...\n"
     ]
    },
    {
     "name": "stderr",
     "output_type": "stream",
     "text": [
      "INFO:TATSSI.download.gee_downloader:Downloading data from https://earthengine.googleapis.com/v1alpha/projects/earthengine-legacy/thumbnails/4d9136c98d542467cf04949f1ebf0b8a-4ade7ce55d714ca551ee4c3e547db5c8:getPixels\n",
      "Please wait ...\n",
      "INFO:TATSSI.download.gee_downloader:Data downloaded to /home/glopez/Projects/TATSSI/data/test_gee\n",
      "INFO:googleapiclient.discovery:URL being requested: POST https://earthengine.googleapis.com/v1alpha/projects/earthengine-legacy/value:compute?prettyPrint=false&alt=json\n",
      "INFO:TATSSI.download.gee_downloader:Exporting 39/297: 2009_08_29.tif\n",
      "INFO:googleapiclient.discovery:URL being requested: POST https://earthengine.googleapis.com/v1alpha/projects/earthengine-legacy/thumbnails?fields=name&alt=json\n"
     ]
    },
    {
     "name": "stdout",
     "output_type": "stream",
     "text": [
      "Generating URL ...\n"
     ]
    },
    {
     "name": "stderr",
     "output_type": "stream",
     "text": [
      "INFO:TATSSI.download.gee_downloader:Downloading data from https://earthengine.googleapis.com/v1alpha/projects/earthengine-legacy/thumbnails/b310dc56610f468b4ce75510f36d567b-2ac7423cd7cd36e59e06fa1b638a7d96:getPixels\n",
      "Please wait ...\n",
      "INFO:TATSSI.download.gee_downloader:Data downloaded to /home/glopez/Projects/TATSSI/data/test_gee\n",
      "INFO:googleapiclient.discovery:URL being requested: POST https://earthengine.googleapis.com/v1alpha/projects/earthengine-legacy/value:compute?prettyPrint=false&alt=json\n",
      "INFO:TATSSI.download.gee_downloader:Exporting 40/297: 2009_09_14.tif\n",
      "INFO:googleapiclient.discovery:URL being requested: POST https://earthengine.googleapis.com/v1alpha/projects/earthengine-legacy/thumbnails?fields=name&alt=json\n"
     ]
    },
    {
     "name": "stdout",
     "output_type": "stream",
     "text": [
      "Generating URL ...\n"
     ]
    },
    {
     "name": "stderr",
     "output_type": "stream",
     "text": [
      "INFO:TATSSI.download.gee_downloader:Downloading data from https://earthengine.googleapis.com/v1alpha/projects/earthengine-legacy/thumbnails/c34a75c2f56317227f5d7ce0fcfb81c7-cf70f70680979dfcd4b7a8bb60aac8d5:getPixels\n",
      "Please wait ...\n",
      "INFO:TATSSI.download.gee_downloader:Data downloaded to /home/glopez/Projects/TATSSI/data/test_gee\n",
      "INFO:googleapiclient.discovery:URL being requested: POST https://earthengine.googleapis.com/v1alpha/projects/earthengine-legacy/value:compute?prettyPrint=false&alt=json\n",
      "INFO:TATSSI.download.gee_downloader:Exporting 41/297: 2009_09_30.tif\n",
      "INFO:googleapiclient.discovery:URL being requested: POST https://earthengine.googleapis.com/v1alpha/projects/earthengine-legacy/thumbnails?fields=name&alt=json\n"
     ]
    },
    {
     "name": "stdout",
     "output_type": "stream",
     "text": [
      "Generating URL ...\n"
     ]
    },
    {
     "name": "stderr",
     "output_type": "stream",
     "text": [
      "INFO:TATSSI.download.gee_downloader:Downloading data from https://earthengine.googleapis.com/v1alpha/projects/earthengine-legacy/thumbnails/7ffe2736734d36b1c6bbc2d0fbddac78-8dfa92e811b1ab29c34a150f2fa067ab:getPixels\n",
      "Please wait ...\n",
      "INFO:TATSSI.download.gee_downloader:Data downloaded to /home/glopez/Projects/TATSSI/data/test_gee\n",
      "INFO:googleapiclient.discovery:URL being requested: POST https://earthengine.googleapis.com/v1alpha/projects/earthengine-legacy/value:compute?prettyPrint=false&alt=json\n",
      "INFO:TATSSI.download.gee_downloader:Exporting 42/297: 2009_10_16.tif\n",
      "INFO:googleapiclient.discovery:URL being requested: POST https://earthengine.googleapis.com/v1alpha/projects/earthengine-legacy/thumbnails?fields=name&alt=json\n"
     ]
    },
    {
     "name": "stdout",
     "output_type": "stream",
     "text": [
      "Generating URL ...\n"
     ]
    },
    {
     "name": "stderr",
     "output_type": "stream",
     "text": [
      "INFO:TATSSI.download.gee_downloader:Downloading data from https://earthengine.googleapis.com/v1alpha/projects/earthengine-legacy/thumbnails/311c5d5f55f5806b75fd3aad7979ad25-83080104cd4e150d7baa2f5a522e793e:getPixels\n",
      "Please wait ...\n",
      "INFO:TATSSI.download.gee_downloader:Data downloaded to /home/glopez/Projects/TATSSI/data/test_gee\n",
      "INFO:googleapiclient.discovery:URL being requested: POST https://earthengine.googleapis.com/v1alpha/projects/earthengine-legacy/value:compute?prettyPrint=false&alt=json\n",
      "INFO:TATSSI.download.gee_downloader:Exporting 43/297: 2009_11_01.tif\n",
      "INFO:googleapiclient.discovery:URL being requested: POST https://earthengine.googleapis.com/v1alpha/projects/earthengine-legacy/thumbnails?fields=name&alt=json\n"
     ]
    },
    {
     "name": "stdout",
     "output_type": "stream",
     "text": [
      "Generating URL ...\n"
     ]
    },
    {
     "name": "stderr",
     "output_type": "stream",
     "text": [
      "INFO:TATSSI.download.gee_downloader:Downloading data from https://earthengine.googleapis.com/v1alpha/projects/earthengine-legacy/thumbnails/e7e4ff7b99a78984cedcfb86c8ab2f29-3d580ce46a45b913cfc310cdaaf4a807:getPixels\n",
      "Please wait ...\n",
      "INFO:TATSSI.download.gee_downloader:Data downloaded to /home/glopez/Projects/TATSSI/data/test_gee\n",
      "INFO:googleapiclient.discovery:URL being requested: POST https://earthengine.googleapis.com/v1alpha/projects/earthengine-legacy/value:compute?prettyPrint=false&alt=json\n",
      "INFO:TATSSI.download.gee_downloader:Exporting 44/297: 2009_11_17.tif\n",
      "INFO:googleapiclient.discovery:URL being requested: POST https://earthengine.googleapis.com/v1alpha/projects/earthengine-legacy/thumbnails?fields=name&alt=json\n"
     ]
    },
    {
     "name": "stdout",
     "output_type": "stream",
     "text": [
      "Generating URL ...\n"
     ]
    },
    {
     "name": "stderr",
     "output_type": "stream",
     "text": [
      "INFO:TATSSI.download.gee_downloader:Downloading data from https://earthengine.googleapis.com/v1alpha/projects/earthengine-legacy/thumbnails/caeeb659aaced87c3711d0c866af885d-cffc5a77705db929675bae3db3039156:getPixels\n",
      "Please wait ...\n",
      "INFO:TATSSI.download.gee_downloader:Data downloaded to /home/glopez/Projects/TATSSI/data/test_gee\n",
      "INFO:googleapiclient.discovery:URL being requested: POST https://earthengine.googleapis.com/v1alpha/projects/earthengine-legacy/value:compute?prettyPrint=false&alt=json\n",
      "INFO:TATSSI.download.gee_downloader:Exporting 45/297: 2009_12_03.tif\n",
      "INFO:googleapiclient.discovery:URL being requested: POST https://earthengine.googleapis.com/v1alpha/projects/earthengine-legacy/thumbnails?fields=name&alt=json\n"
     ]
    },
    {
     "name": "stdout",
     "output_type": "stream",
     "text": [
      "Generating URL ...\n"
     ]
    },
    {
     "name": "stderr",
     "output_type": "stream",
     "text": [
      "INFO:TATSSI.download.gee_downloader:Downloading data from https://earthengine.googleapis.com/v1alpha/projects/earthengine-legacy/thumbnails/7ce0ea41a06fac01d2b5cf84b12bc92d-79a513de62365119c528097691dbb199:getPixels\n",
      "Please wait ...\n",
      "INFO:TATSSI.download.gee_downloader:Data downloaded to /home/glopez/Projects/TATSSI/data/test_gee\n",
      "INFO:googleapiclient.discovery:URL being requested: POST https://earthengine.googleapis.com/v1alpha/projects/earthengine-legacy/value:compute?prettyPrint=false&alt=json\n",
      "INFO:TATSSI.download.gee_downloader:Exporting 46/297: 2009_12_19.tif\n",
      "INFO:googleapiclient.discovery:URL being requested: POST https://earthengine.googleapis.com/v1alpha/projects/earthengine-legacy/thumbnails?fields=name&alt=json\n"
     ]
    },
    {
     "name": "stdout",
     "output_type": "stream",
     "text": [
      "Generating URL ...\n"
     ]
    },
    {
     "name": "stderr",
     "output_type": "stream",
     "text": [
      "INFO:TATSSI.download.gee_downloader:Downloading data from https://earthengine.googleapis.com/v1alpha/projects/earthengine-legacy/thumbnails/54aa3185f194dc1acd1aed58f20290ff-200b799678273b83fd0c41bbd37357ec:getPixels\n",
      "Please wait ...\n",
      "INFO:TATSSI.download.gee_downloader:Data downloaded to /home/glopez/Projects/TATSSI/data/test_gee\n",
      "INFO:googleapiclient.discovery:URL being requested: POST https://earthengine.googleapis.com/v1alpha/projects/earthengine-legacy/value:compute?prettyPrint=false&alt=json\n",
      "INFO:TATSSI.download.gee_downloader:Exporting 47/297: 2010_01_01.tif\n",
      "INFO:googleapiclient.discovery:URL being requested: POST https://earthengine.googleapis.com/v1alpha/projects/earthengine-legacy/thumbnails?fields=name&alt=json\n"
     ]
    },
    {
     "name": "stdout",
     "output_type": "stream",
     "text": [
      "Generating URL ...\n"
     ]
    },
    {
     "name": "stderr",
     "output_type": "stream",
     "text": [
      "INFO:TATSSI.download.gee_downloader:Downloading data from https://earthengine.googleapis.com/v1alpha/projects/earthengine-legacy/thumbnails/c9b66765853e441420434865821d1f88-e05cf2ecbed6155214a72aa21f79781b:getPixels\n",
      "Please wait ...\n",
      "INFO:TATSSI.download.gee_downloader:Data downloaded to /home/glopez/Projects/TATSSI/data/test_gee\n",
      "INFO:googleapiclient.discovery:URL being requested: POST https://earthengine.googleapis.com/v1alpha/projects/earthengine-legacy/value:compute?prettyPrint=false&alt=json\n",
      "INFO:TATSSI.download.gee_downloader:Exporting 48/297: 2010_01_17.tif\n",
      "INFO:googleapiclient.discovery:URL being requested: POST https://earthengine.googleapis.com/v1alpha/projects/earthengine-legacy/thumbnails?fields=name&alt=json\n"
     ]
    },
    {
     "name": "stdout",
     "output_type": "stream",
     "text": [
      "Generating URL ...\n"
     ]
    },
    {
     "name": "stderr",
     "output_type": "stream",
     "text": [
      "INFO:TATSSI.download.gee_downloader:Downloading data from https://earthengine.googleapis.com/v1alpha/projects/earthengine-legacy/thumbnails/4202098bda1b2da192e3f440fcc2b59f-8fd767e3624c6337279b595e26bd833c:getPixels\n",
      "Please wait ...\n",
      "INFO:TATSSI.download.gee_downloader:Data downloaded to /home/glopez/Projects/TATSSI/data/test_gee\n",
      "INFO:googleapiclient.discovery:URL being requested: POST https://earthengine.googleapis.com/v1alpha/projects/earthengine-legacy/value:compute?prettyPrint=false&alt=json\n",
      "INFO:TATSSI.download.gee_downloader:Exporting 49/297: 2010_02_02.tif\n",
      "INFO:googleapiclient.discovery:URL being requested: POST https://earthengine.googleapis.com/v1alpha/projects/earthengine-legacy/thumbnails?fields=name&alt=json\n"
     ]
    },
    {
     "name": "stdout",
     "output_type": "stream",
     "text": [
      "Generating URL ...\n"
     ]
    },
    {
     "name": "stderr",
     "output_type": "stream",
     "text": [
      "INFO:TATSSI.download.gee_downloader:Downloading data from https://earthengine.googleapis.com/v1alpha/projects/earthengine-legacy/thumbnails/c5ffb17a99d5784094d46604dcbdadcd-a8b5ba05b840537557881d459f546c21:getPixels\n",
      "Please wait ...\n",
      "INFO:TATSSI.download.gee_downloader:Data downloaded to /home/glopez/Projects/TATSSI/data/test_gee\n",
      "INFO:googleapiclient.discovery:URL being requested: POST https://earthengine.googleapis.com/v1alpha/projects/earthengine-legacy/value:compute?prettyPrint=false&alt=json\n",
      "INFO:TATSSI.download.gee_downloader:Exporting 50/297: 2010_02_18.tif\n",
      "INFO:googleapiclient.discovery:URL being requested: POST https://earthengine.googleapis.com/v1alpha/projects/earthengine-legacy/thumbnails?fields=name&alt=json\n"
     ]
    },
    {
     "name": "stdout",
     "output_type": "stream",
     "text": [
      "Generating URL ...\n"
     ]
    },
    {
     "name": "stderr",
     "output_type": "stream",
     "text": [
      "INFO:TATSSI.download.gee_downloader:Downloading data from https://earthengine.googleapis.com/v1alpha/projects/earthengine-legacy/thumbnails/597e2646f0dc11ba5ef1b9da3c535c48-be1213dc2aefabec4702baf502e85d3e:getPixels\n",
      "Please wait ...\n",
      "INFO:TATSSI.download.gee_downloader:Data downloaded to /home/glopez/Projects/TATSSI/data/test_gee\n",
      "INFO:googleapiclient.discovery:URL being requested: POST https://earthengine.googleapis.com/v1alpha/projects/earthengine-legacy/value:compute?prettyPrint=false&alt=json\n",
      "INFO:TATSSI.download.gee_downloader:Exporting 51/297: 2010_03_06.tif\n",
      "INFO:googleapiclient.discovery:URL being requested: POST https://earthengine.googleapis.com/v1alpha/projects/earthengine-legacy/thumbnails?fields=name&alt=json\n"
     ]
    },
    {
     "name": "stdout",
     "output_type": "stream",
     "text": [
      "Generating URL ...\n"
     ]
    },
    {
     "name": "stderr",
     "output_type": "stream",
     "text": [
      "INFO:TATSSI.download.gee_downloader:Downloading data from https://earthengine.googleapis.com/v1alpha/projects/earthengine-legacy/thumbnails/eda4c179cad24bbae9beb77fe0a6ce54-9162fd2208da8851f087d9c8aa4c8201:getPixels\n",
      "Please wait ...\n",
      "INFO:TATSSI.download.gee_downloader:Data downloaded to /home/glopez/Projects/TATSSI/data/test_gee\n",
      "INFO:googleapiclient.discovery:URL being requested: POST https://earthengine.googleapis.com/v1alpha/projects/earthengine-legacy/value:compute?prettyPrint=false&alt=json\n",
      "INFO:TATSSI.download.gee_downloader:Exporting 52/297: 2010_03_22.tif\n",
      "INFO:googleapiclient.discovery:URL being requested: POST https://earthengine.googleapis.com/v1alpha/projects/earthengine-legacy/thumbnails?fields=name&alt=json\n"
     ]
    },
    {
     "name": "stdout",
     "output_type": "stream",
     "text": [
      "Generating URL ...\n"
     ]
    },
    {
     "name": "stderr",
     "output_type": "stream",
     "text": [
      "INFO:TATSSI.download.gee_downloader:Downloading data from https://earthengine.googleapis.com/v1alpha/projects/earthengine-legacy/thumbnails/0fe5c54372259c93760ab5a120adc605-b76e7acd52414e008a36b1198506c63a:getPixels\n",
      "Please wait ...\n",
      "INFO:TATSSI.download.gee_downloader:Data downloaded to /home/glopez/Projects/TATSSI/data/test_gee\n",
      "INFO:googleapiclient.discovery:URL being requested: POST https://earthengine.googleapis.com/v1alpha/projects/earthengine-legacy/value:compute?prettyPrint=false&alt=json\n",
      "INFO:TATSSI.download.gee_downloader:Exporting 53/297: 2010_04_07.tif\n",
      "INFO:googleapiclient.discovery:URL being requested: POST https://earthengine.googleapis.com/v1alpha/projects/earthengine-legacy/thumbnails?fields=name&alt=json\n"
     ]
    },
    {
     "name": "stdout",
     "output_type": "stream",
     "text": [
      "Generating URL ...\n"
     ]
    },
    {
     "name": "stderr",
     "output_type": "stream",
     "text": [
      "INFO:TATSSI.download.gee_downloader:Downloading data from https://earthengine.googleapis.com/v1alpha/projects/earthengine-legacy/thumbnails/2b63240bb3381261b5fd05cdda1ed1f4-597b82e60e89fcb6e3ca1ac9d5297434:getPixels\n",
      "Please wait ...\n",
      "INFO:TATSSI.download.gee_downloader:Data downloaded to /home/glopez/Projects/TATSSI/data/test_gee\n",
      "INFO:googleapiclient.discovery:URL being requested: POST https://earthengine.googleapis.com/v1alpha/projects/earthengine-legacy/value:compute?prettyPrint=false&alt=json\n",
      "INFO:TATSSI.download.gee_downloader:Exporting 54/297: 2010_04_23.tif\n",
      "INFO:googleapiclient.discovery:URL being requested: POST https://earthengine.googleapis.com/v1alpha/projects/earthengine-legacy/thumbnails?fields=name&alt=json\n"
     ]
    },
    {
     "name": "stdout",
     "output_type": "stream",
     "text": [
      "Generating URL ...\n"
     ]
    },
    {
     "name": "stderr",
     "output_type": "stream",
     "text": [
      "INFO:TATSSI.download.gee_downloader:Downloading data from https://earthengine.googleapis.com/v1alpha/projects/earthengine-legacy/thumbnails/b50c2524c7a6e109963493fd864ceb80-01db1c5a67284ee2d0e7f20532f0b414:getPixels\n",
      "Please wait ...\n",
      "INFO:TATSSI.download.gee_downloader:Data downloaded to /home/glopez/Projects/TATSSI/data/test_gee\n",
      "INFO:googleapiclient.discovery:URL being requested: POST https://earthengine.googleapis.com/v1alpha/projects/earthengine-legacy/value:compute?prettyPrint=false&alt=json\n",
      "INFO:TATSSI.download.gee_downloader:Exporting 55/297: 2010_05_09.tif\n",
      "INFO:googleapiclient.discovery:URL being requested: POST https://earthengine.googleapis.com/v1alpha/projects/earthengine-legacy/thumbnails?fields=name&alt=json\n"
     ]
    },
    {
     "name": "stdout",
     "output_type": "stream",
     "text": [
      "Generating URL ...\n"
     ]
    },
    {
     "name": "stderr",
     "output_type": "stream",
     "text": [
      "INFO:TATSSI.download.gee_downloader:Downloading data from https://earthengine.googleapis.com/v1alpha/projects/earthengine-legacy/thumbnails/dc488aff50e8363390ced92da0adae37-59d6b164abc8d5ab4a77f9ddf1b95b77:getPixels\n",
      "Please wait ...\n",
      "INFO:TATSSI.download.gee_downloader:Data downloaded to /home/glopez/Projects/TATSSI/data/test_gee\n",
      "INFO:googleapiclient.discovery:URL being requested: POST https://earthengine.googleapis.com/v1alpha/projects/earthengine-legacy/value:compute?prettyPrint=false&alt=json\n",
      "INFO:TATSSI.download.gee_downloader:Exporting 56/297: 2010_05_25.tif\n",
      "INFO:googleapiclient.discovery:URL being requested: POST https://earthengine.googleapis.com/v1alpha/projects/earthengine-legacy/thumbnails?fields=name&alt=json\n"
     ]
    },
    {
     "name": "stdout",
     "output_type": "stream",
     "text": [
      "Generating URL ...\n"
     ]
    },
    {
     "name": "stderr",
     "output_type": "stream",
     "text": [
      "INFO:TATSSI.download.gee_downloader:Downloading data from https://earthengine.googleapis.com/v1alpha/projects/earthengine-legacy/thumbnails/3407454af1368a785db6bea8623608a1-534b58d7ad34497c687ec8a41cf4251e:getPixels\n",
      "Please wait ...\n",
      "INFO:TATSSI.download.gee_downloader:Data downloaded to /home/glopez/Projects/TATSSI/data/test_gee\n",
      "INFO:googleapiclient.discovery:URL being requested: POST https://earthengine.googleapis.com/v1alpha/projects/earthengine-legacy/value:compute?prettyPrint=false&alt=json\n",
      "INFO:TATSSI.download.gee_downloader:Exporting 57/297: 2010_06_10.tif\n",
      "INFO:googleapiclient.discovery:URL being requested: POST https://earthengine.googleapis.com/v1alpha/projects/earthengine-legacy/thumbnails?fields=name&alt=json\n"
     ]
    },
    {
     "name": "stdout",
     "output_type": "stream",
     "text": [
      "Generating URL ...\n"
     ]
    },
    {
     "name": "stderr",
     "output_type": "stream",
     "text": [
      "INFO:TATSSI.download.gee_downloader:Downloading data from https://earthengine.googleapis.com/v1alpha/projects/earthengine-legacy/thumbnails/86498bcf95e08d04534bc29b56be6dd3-eb34dcd7226b0e678680504bca48cae7:getPixels\n",
      "Please wait ...\n",
      "INFO:TATSSI.download.gee_downloader:Data downloaded to /home/glopez/Projects/TATSSI/data/test_gee\n",
      "INFO:googleapiclient.discovery:URL being requested: POST https://earthengine.googleapis.com/v1alpha/projects/earthengine-legacy/value:compute?prettyPrint=false&alt=json\n",
      "INFO:TATSSI.download.gee_downloader:Exporting 58/297: 2010_06_26.tif\n",
      "INFO:googleapiclient.discovery:URL being requested: POST https://earthengine.googleapis.com/v1alpha/projects/earthengine-legacy/thumbnails?fields=name&alt=json\n"
     ]
    },
    {
     "name": "stdout",
     "output_type": "stream",
     "text": [
      "Generating URL ...\n"
     ]
    },
    {
     "name": "stderr",
     "output_type": "stream",
     "text": [
      "INFO:TATSSI.download.gee_downloader:Downloading data from https://earthengine.googleapis.com/v1alpha/projects/earthengine-legacy/thumbnails/b58238104b6b4a07301d0308085b177c-2dc7bc1542c25a33dcd033a70c10de18:getPixels\n",
      "Please wait ...\n",
      "INFO:TATSSI.download.gee_downloader:Data downloaded to /home/glopez/Projects/TATSSI/data/test_gee\n",
      "INFO:googleapiclient.discovery:URL being requested: POST https://earthengine.googleapis.com/v1alpha/projects/earthengine-legacy/value:compute?prettyPrint=false&alt=json\n",
      "INFO:TATSSI.download.gee_downloader:Exporting 59/297: 2010_07_12.tif\n",
      "INFO:googleapiclient.discovery:URL being requested: POST https://earthengine.googleapis.com/v1alpha/projects/earthengine-legacy/thumbnails?fields=name&alt=json\n"
     ]
    },
    {
     "name": "stdout",
     "output_type": "stream",
     "text": [
      "Generating URL ...\n"
     ]
    },
    {
     "name": "stderr",
     "output_type": "stream",
     "text": [
      "INFO:TATSSI.download.gee_downloader:Downloading data from https://earthengine.googleapis.com/v1alpha/projects/earthengine-legacy/thumbnails/7b88350efeeaafc2d6c60aafa38257f1-6f17e1b28740954e64d90291c2bb9209:getPixels\n",
      "Please wait ...\n",
      "INFO:TATSSI.download.gee_downloader:Data downloaded to /home/glopez/Projects/TATSSI/data/test_gee\n",
      "INFO:googleapiclient.discovery:URL being requested: POST https://earthengine.googleapis.com/v1alpha/projects/earthengine-legacy/value:compute?prettyPrint=false&alt=json\n",
      "INFO:TATSSI.download.gee_downloader:Exporting 60/297: 2010_07_28.tif\n",
      "INFO:googleapiclient.discovery:URL being requested: POST https://earthengine.googleapis.com/v1alpha/projects/earthengine-legacy/thumbnails?fields=name&alt=json\n"
     ]
    },
    {
     "name": "stdout",
     "output_type": "stream",
     "text": [
      "Generating URL ...\n"
     ]
    },
    {
     "name": "stderr",
     "output_type": "stream",
     "text": [
      "INFO:TATSSI.download.gee_downloader:Downloading data from https://earthengine.googleapis.com/v1alpha/projects/earthengine-legacy/thumbnails/6be8b08b0f58352a42bd929ba61b177d-b336af7c811694430d980a3ed12e2dbd:getPixels\n",
      "Please wait ...\n",
      "INFO:TATSSI.download.gee_downloader:Data downloaded to /home/glopez/Projects/TATSSI/data/test_gee\n",
      "INFO:googleapiclient.discovery:URL being requested: POST https://earthengine.googleapis.com/v1alpha/projects/earthengine-legacy/value:compute?prettyPrint=false&alt=json\n",
      "INFO:TATSSI.download.gee_downloader:Exporting 61/297: 2010_08_13.tif\n",
      "INFO:googleapiclient.discovery:URL being requested: POST https://earthengine.googleapis.com/v1alpha/projects/earthengine-legacy/thumbnails?fields=name&alt=json\n"
     ]
    },
    {
     "name": "stdout",
     "output_type": "stream",
     "text": [
      "Generating URL ...\n"
     ]
    },
    {
     "name": "stderr",
     "output_type": "stream",
     "text": [
      "INFO:TATSSI.download.gee_downloader:Downloading data from https://earthengine.googleapis.com/v1alpha/projects/earthengine-legacy/thumbnails/e1e657b3be92af7b9e41544a85dfec87-8fbe61a76f70ff5deac467752dd6c881:getPixels\n",
      "Please wait ...\n",
      "INFO:TATSSI.download.gee_downloader:Data downloaded to /home/glopez/Projects/TATSSI/data/test_gee\n",
      "INFO:googleapiclient.discovery:URL being requested: POST https://earthengine.googleapis.com/v1alpha/projects/earthengine-legacy/value:compute?prettyPrint=false&alt=json\n",
      "INFO:TATSSI.download.gee_downloader:Exporting 62/297: 2010_08_29.tif\n",
      "INFO:googleapiclient.discovery:URL being requested: POST https://earthengine.googleapis.com/v1alpha/projects/earthengine-legacy/thumbnails?fields=name&alt=json\n"
     ]
    },
    {
     "name": "stdout",
     "output_type": "stream",
     "text": [
      "Generating URL ...\n"
     ]
    },
    {
     "name": "stderr",
     "output_type": "stream",
     "text": [
      "INFO:TATSSI.download.gee_downloader:Downloading data from https://earthengine.googleapis.com/v1alpha/projects/earthengine-legacy/thumbnails/bc9638ae762eb53064e5a90432fc65b9-3532aaf386d642a6954248f0f89115fb:getPixels\n",
      "Please wait ...\n",
      "INFO:TATSSI.download.gee_downloader:Data downloaded to /home/glopez/Projects/TATSSI/data/test_gee\n",
      "INFO:googleapiclient.discovery:URL being requested: POST https://earthengine.googleapis.com/v1alpha/projects/earthengine-legacy/value:compute?prettyPrint=false&alt=json\n",
      "INFO:TATSSI.download.gee_downloader:Exporting 63/297: 2010_09_14.tif\n",
      "INFO:googleapiclient.discovery:URL being requested: POST https://earthengine.googleapis.com/v1alpha/projects/earthengine-legacy/thumbnails?fields=name&alt=json\n"
     ]
    },
    {
     "name": "stdout",
     "output_type": "stream",
     "text": [
      "Generating URL ...\n"
     ]
    },
    {
     "name": "stderr",
     "output_type": "stream",
     "text": [
      "INFO:TATSSI.download.gee_downloader:Downloading data from https://earthengine.googleapis.com/v1alpha/projects/earthengine-legacy/thumbnails/ce7a744f6074326597f3a8439a13b306-426aef0a6db3545eec5e76533ba81dfc:getPixels\n",
      "Please wait ...\n",
      "INFO:TATSSI.download.gee_downloader:Data downloaded to /home/glopez/Projects/TATSSI/data/test_gee\n",
      "INFO:googleapiclient.discovery:URL being requested: POST https://earthengine.googleapis.com/v1alpha/projects/earthengine-legacy/value:compute?prettyPrint=false&alt=json\n",
      "INFO:TATSSI.download.gee_downloader:Exporting 64/297: 2010_09_30.tif\n",
      "INFO:googleapiclient.discovery:URL being requested: POST https://earthengine.googleapis.com/v1alpha/projects/earthengine-legacy/thumbnails?fields=name&alt=json\n"
     ]
    },
    {
     "name": "stdout",
     "output_type": "stream",
     "text": [
      "Generating URL ...\n"
     ]
    },
    {
     "name": "stderr",
     "output_type": "stream",
     "text": [
      "INFO:TATSSI.download.gee_downloader:Downloading data from https://earthengine.googleapis.com/v1alpha/projects/earthengine-legacy/thumbnails/0b8b95090f06fe2242d48cc76bfb1da7-16fa65c46ac61a93c84277c540e9eeb1:getPixels\n",
      "Please wait ...\n",
      "INFO:TATSSI.download.gee_downloader:Data downloaded to /home/glopez/Projects/TATSSI/data/test_gee\n",
      "INFO:googleapiclient.discovery:URL being requested: POST https://earthengine.googleapis.com/v1alpha/projects/earthengine-legacy/value:compute?prettyPrint=false&alt=json\n",
      "INFO:TATSSI.download.gee_downloader:Exporting 65/297: 2010_10_16.tif\n",
      "INFO:googleapiclient.discovery:URL being requested: POST https://earthengine.googleapis.com/v1alpha/projects/earthengine-legacy/thumbnails?fields=name&alt=json\n"
     ]
    },
    {
     "name": "stdout",
     "output_type": "stream",
     "text": [
      "Generating URL ...\n"
     ]
    },
    {
     "name": "stderr",
     "output_type": "stream",
     "text": [
      "INFO:TATSSI.download.gee_downloader:Downloading data from https://earthengine.googleapis.com/v1alpha/projects/earthengine-legacy/thumbnails/a6603e494ee03d4f601130529d305703-11885dbbb89e6c2a03a95d53aa564202:getPixels\n",
      "Please wait ...\n",
      "INFO:TATSSI.download.gee_downloader:Data downloaded to /home/glopez/Projects/TATSSI/data/test_gee\n",
      "INFO:googleapiclient.discovery:URL being requested: POST https://earthengine.googleapis.com/v1alpha/projects/earthengine-legacy/value:compute?prettyPrint=false&alt=json\n",
      "INFO:TATSSI.download.gee_downloader:Exporting 66/297: 2010_11_01.tif\n",
      "INFO:googleapiclient.discovery:URL being requested: POST https://earthengine.googleapis.com/v1alpha/projects/earthengine-legacy/thumbnails?fields=name&alt=json\n"
     ]
    },
    {
     "name": "stdout",
     "output_type": "stream",
     "text": [
      "Generating URL ...\n"
     ]
    },
    {
     "name": "stderr",
     "output_type": "stream",
     "text": [
      "INFO:TATSSI.download.gee_downloader:Downloading data from https://earthengine.googleapis.com/v1alpha/projects/earthengine-legacy/thumbnails/e8eafa1566559923741bbade6b1aee5c-d61c0acb18f1f0dc6a0671ba83e6f46a:getPixels\n",
      "Please wait ...\n",
      "INFO:TATSSI.download.gee_downloader:Data downloaded to /home/glopez/Projects/TATSSI/data/test_gee\n",
      "INFO:googleapiclient.discovery:URL being requested: POST https://earthengine.googleapis.com/v1alpha/projects/earthengine-legacy/value:compute?prettyPrint=false&alt=json\n",
      "INFO:TATSSI.download.gee_downloader:Exporting 67/297: 2010_11_17.tif\n",
      "INFO:googleapiclient.discovery:URL being requested: POST https://earthengine.googleapis.com/v1alpha/projects/earthengine-legacy/thumbnails?fields=name&alt=json\n"
     ]
    },
    {
     "name": "stdout",
     "output_type": "stream",
     "text": [
      "Generating URL ...\n"
     ]
    },
    {
     "name": "stderr",
     "output_type": "stream",
     "text": [
      "INFO:TATSSI.download.gee_downloader:Downloading data from https://earthengine.googleapis.com/v1alpha/projects/earthengine-legacy/thumbnails/c5ddf801024596cc11616c761b3f8c93-d2aa7cb8586a9288c0281002e52b73b8:getPixels\n",
      "Please wait ...\n",
      "INFO:TATSSI.download.gee_downloader:Data downloaded to /home/glopez/Projects/TATSSI/data/test_gee\n",
      "INFO:googleapiclient.discovery:URL being requested: POST https://earthengine.googleapis.com/v1alpha/projects/earthengine-legacy/value:compute?prettyPrint=false&alt=json\n",
      "INFO:TATSSI.download.gee_downloader:Exporting 68/297: 2010_12_03.tif\n",
      "INFO:googleapiclient.discovery:URL being requested: POST https://earthengine.googleapis.com/v1alpha/projects/earthengine-legacy/thumbnails?fields=name&alt=json\n"
     ]
    },
    {
     "name": "stdout",
     "output_type": "stream",
     "text": [
      "Generating URL ...\n"
     ]
    },
    {
     "name": "stderr",
     "output_type": "stream",
     "text": [
      "INFO:TATSSI.download.gee_downloader:Downloading data from https://earthengine.googleapis.com/v1alpha/projects/earthengine-legacy/thumbnails/1a0a5b0dde4c5f63ab3ef2e851bdaf6a-34fcd5fa82246f82133e4811e1628d95:getPixels\n",
      "Please wait ...\n",
      "INFO:TATSSI.download.gee_downloader:Data downloaded to /home/glopez/Projects/TATSSI/data/test_gee\n",
      "INFO:googleapiclient.discovery:URL being requested: POST https://earthengine.googleapis.com/v1alpha/projects/earthengine-legacy/value:compute?prettyPrint=false&alt=json\n",
      "INFO:TATSSI.download.gee_downloader:Exporting 69/297: 2010_12_19.tif\n",
      "INFO:googleapiclient.discovery:URL being requested: POST https://earthengine.googleapis.com/v1alpha/projects/earthengine-legacy/thumbnails?fields=name&alt=json\n"
     ]
    },
    {
     "name": "stdout",
     "output_type": "stream",
     "text": [
      "Generating URL ...\n"
     ]
    },
    {
     "name": "stderr",
     "output_type": "stream",
     "text": [
      "INFO:TATSSI.download.gee_downloader:Downloading data from https://earthengine.googleapis.com/v1alpha/projects/earthengine-legacy/thumbnails/5725a70d51ef6341c643438e1ee40da3-c5fbe11f1ec9b89d6a9a0a6efb33ea35:getPixels\n",
      "Please wait ...\n",
      "INFO:TATSSI.download.gee_downloader:Data downloaded to /home/glopez/Projects/TATSSI/data/test_gee\n",
      "INFO:googleapiclient.discovery:URL being requested: POST https://earthengine.googleapis.com/v1alpha/projects/earthengine-legacy/value:compute?prettyPrint=false&alt=json\n",
      "INFO:TATSSI.download.gee_downloader:Exporting 70/297: 2011_01_01.tif\n",
      "INFO:googleapiclient.discovery:URL being requested: POST https://earthengine.googleapis.com/v1alpha/projects/earthengine-legacy/thumbnails?fields=name&alt=json\n"
     ]
    },
    {
     "name": "stdout",
     "output_type": "stream",
     "text": [
      "Generating URL ...\n"
     ]
    },
    {
     "name": "stderr",
     "output_type": "stream",
     "text": [
      "INFO:TATSSI.download.gee_downloader:Downloading data from https://earthengine.googleapis.com/v1alpha/projects/earthengine-legacy/thumbnails/c04b6ffbc2721e823d48c6fc7f6cd79f-33350ae1a7d60c3fcfaa8b937af74997:getPixels\n",
      "Please wait ...\n",
      "INFO:TATSSI.download.gee_downloader:Data downloaded to /home/glopez/Projects/TATSSI/data/test_gee\n",
      "INFO:googleapiclient.discovery:URL being requested: POST https://earthengine.googleapis.com/v1alpha/projects/earthengine-legacy/value:compute?prettyPrint=false&alt=json\n",
      "INFO:TATSSI.download.gee_downloader:Exporting 71/297: 2011_01_17.tif\n",
      "INFO:googleapiclient.discovery:URL being requested: POST https://earthengine.googleapis.com/v1alpha/projects/earthengine-legacy/thumbnails?fields=name&alt=json\n"
     ]
    },
    {
     "name": "stdout",
     "output_type": "stream",
     "text": [
      "Generating URL ...\n"
     ]
    },
    {
     "name": "stderr",
     "output_type": "stream",
     "text": [
      "INFO:TATSSI.download.gee_downloader:Downloading data from https://earthengine.googleapis.com/v1alpha/projects/earthengine-legacy/thumbnails/9810175897ac669f2d692aade067b7ea-0c2d53f8c05d241439272d53dd0f0968:getPixels\n",
      "Please wait ...\n",
      "INFO:TATSSI.download.gee_downloader:Data downloaded to /home/glopez/Projects/TATSSI/data/test_gee\n",
      "INFO:googleapiclient.discovery:URL being requested: POST https://earthengine.googleapis.com/v1alpha/projects/earthengine-legacy/value:compute?prettyPrint=false&alt=json\n",
      "INFO:TATSSI.download.gee_downloader:Exporting 72/297: 2011_02_02.tif\n",
      "INFO:googleapiclient.discovery:URL being requested: POST https://earthengine.googleapis.com/v1alpha/projects/earthengine-legacy/thumbnails?fields=name&alt=json\n"
     ]
    },
    {
     "name": "stdout",
     "output_type": "stream",
     "text": [
      "Generating URL ...\n"
     ]
    },
    {
     "name": "stderr",
     "output_type": "stream",
     "text": [
      "INFO:TATSSI.download.gee_downloader:Downloading data from https://earthengine.googleapis.com/v1alpha/projects/earthengine-legacy/thumbnails/39e4173d92566da481d2727a570735f3-b0cf14175912a29a7e7e16c4d1c56d0b:getPixels\n",
      "Please wait ...\n",
      "INFO:TATSSI.download.gee_downloader:Data downloaded to /home/glopez/Projects/TATSSI/data/test_gee\n",
      "INFO:googleapiclient.discovery:URL being requested: POST https://earthengine.googleapis.com/v1alpha/projects/earthengine-legacy/value:compute?prettyPrint=false&alt=json\n",
      "INFO:TATSSI.download.gee_downloader:Exporting 73/297: 2011_02_18.tif\n",
      "INFO:googleapiclient.discovery:URL being requested: POST https://earthengine.googleapis.com/v1alpha/projects/earthengine-legacy/thumbnails?fields=name&alt=json\n"
     ]
    },
    {
     "name": "stdout",
     "output_type": "stream",
     "text": [
      "Generating URL ...\n"
     ]
    },
    {
     "name": "stderr",
     "output_type": "stream",
     "text": [
      "INFO:TATSSI.download.gee_downloader:Downloading data from https://earthengine.googleapis.com/v1alpha/projects/earthengine-legacy/thumbnails/ac31eded7746c314be7a3c2637a1d25b-0a6073cf4861c77f760f12b9ed279196:getPixels\n",
      "Please wait ...\n",
      "INFO:TATSSI.download.gee_downloader:Data downloaded to /home/glopez/Projects/TATSSI/data/test_gee\n",
      "INFO:googleapiclient.discovery:URL being requested: POST https://earthengine.googleapis.com/v1alpha/projects/earthengine-legacy/value:compute?prettyPrint=false&alt=json\n",
      "INFO:TATSSI.download.gee_downloader:Exporting 74/297: 2011_03_06.tif\n",
      "INFO:googleapiclient.discovery:URL being requested: POST https://earthengine.googleapis.com/v1alpha/projects/earthengine-legacy/thumbnails?fields=name&alt=json\n"
     ]
    },
    {
     "name": "stdout",
     "output_type": "stream",
     "text": [
      "Generating URL ...\n"
     ]
    },
    {
     "name": "stderr",
     "output_type": "stream",
     "text": [
      "INFO:TATSSI.download.gee_downloader:Downloading data from https://earthengine.googleapis.com/v1alpha/projects/earthengine-legacy/thumbnails/ad71547e89ca2fc4a105912f907507e4-78df2bf4845a209dd2f5216cb26505ca:getPixels\n",
      "Please wait ...\n",
      "INFO:TATSSI.download.gee_downloader:Data downloaded to /home/glopez/Projects/TATSSI/data/test_gee\n",
      "INFO:googleapiclient.discovery:URL being requested: POST https://earthengine.googleapis.com/v1alpha/projects/earthengine-legacy/value:compute?prettyPrint=false&alt=json\n",
      "INFO:TATSSI.download.gee_downloader:Exporting 75/297: 2011_03_22.tif\n",
      "INFO:googleapiclient.discovery:URL being requested: POST https://earthengine.googleapis.com/v1alpha/projects/earthengine-legacy/thumbnails?fields=name&alt=json\n"
     ]
    },
    {
     "name": "stdout",
     "output_type": "stream",
     "text": [
      "Generating URL ...\n"
     ]
    },
    {
     "name": "stderr",
     "output_type": "stream",
     "text": [
      "INFO:TATSSI.download.gee_downloader:Downloading data from https://earthengine.googleapis.com/v1alpha/projects/earthengine-legacy/thumbnails/1b017e6421c8833b4d7d8c5bb412f265-2a968a4765a84791d8b91e9bd705ac16:getPixels\n",
      "Please wait ...\n",
      "INFO:TATSSI.download.gee_downloader:Data downloaded to /home/glopez/Projects/TATSSI/data/test_gee\n",
      "INFO:googleapiclient.discovery:URL being requested: POST https://earthengine.googleapis.com/v1alpha/projects/earthengine-legacy/value:compute?prettyPrint=false&alt=json\n",
      "INFO:TATSSI.download.gee_downloader:Exporting 76/297: 2011_04_07.tif\n",
      "INFO:googleapiclient.discovery:URL being requested: POST https://earthengine.googleapis.com/v1alpha/projects/earthengine-legacy/thumbnails?fields=name&alt=json\n"
     ]
    },
    {
     "name": "stdout",
     "output_type": "stream",
     "text": [
      "Generating URL ...\n"
     ]
    },
    {
     "name": "stderr",
     "output_type": "stream",
     "text": [
      "INFO:TATSSI.download.gee_downloader:Downloading data from https://earthengine.googleapis.com/v1alpha/projects/earthengine-legacy/thumbnails/0c62e9c4e256e99569afcdd09f47a76c-e00ea39da48fbef6228536da479c57b0:getPixels\n",
      "Please wait ...\n",
      "INFO:TATSSI.download.gee_downloader:Data downloaded to /home/glopez/Projects/TATSSI/data/test_gee\n",
      "INFO:googleapiclient.discovery:URL being requested: POST https://earthengine.googleapis.com/v1alpha/projects/earthengine-legacy/value:compute?prettyPrint=false&alt=json\n",
      "INFO:TATSSI.download.gee_downloader:Exporting 77/297: 2011_04_23.tif\n",
      "INFO:googleapiclient.discovery:URL being requested: POST https://earthengine.googleapis.com/v1alpha/projects/earthengine-legacy/thumbnails?fields=name&alt=json\n"
     ]
    },
    {
     "name": "stdout",
     "output_type": "stream",
     "text": [
      "Generating URL ...\n"
     ]
    },
    {
     "name": "stderr",
     "output_type": "stream",
     "text": [
      "INFO:TATSSI.download.gee_downloader:Downloading data from https://earthengine.googleapis.com/v1alpha/projects/earthengine-legacy/thumbnails/c6ed88495151e8ee0ba5951e75b8cc3d-65629a9b59317afe3da288d3b774ee56:getPixels\n",
      "Please wait ...\n",
      "INFO:TATSSI.download.gee_downloader:Data downloaded to /home/glopez/Projects/TATSSI/data/test_gee\n",
      "INFO:googleapiclient.discovery:URL being requested: POST https://earthengine.googleapis.com/v1alpha/projects/earthengine-legacy/value:compute?prettyPrint=false&alt=json\n",
      "INFO:TATSSI.download.gee_downloader:Exporting 78/297: 2011_05_09.tif\n",
      "INFO:googleapiclient.discovery:URL being requested: POST https://earthengine.googleapis.com/v1alpha/projects/earthengine-legacy/thumbnails?fields=name&alt=json\n"
     ]
    },
    {
     "name": "stdout",
     "output_type": "stream",
     "text": [
      "Generating URL ...\n"
     ]
    },
    {
     "name": "stderr",
     "output_type": "stream",
     "text": [
      "INFO:TATSSI.download.gee_downloader:Downloading data from https://earthengine.googleapis.com/v1alpha/projects/earthengine-legacy/thumbnails/08638b2f233294589fca3bc8fecae8f0-d8ddeda1ad2d8c0102812a6d5573a696:getPixels\n",
      "Please wait ...\n",
      "INFO:TATSSI.download.gee_downloader:Data downloaded to /home/glopez/Projects/TATSSI/data/test_gee\n",
      "INFO:googleapiclient.discovery:URL being requested: POST https://earthengine.googleapis.com/v1alpha/projects/earthengine-legacy/value:compute?prettyPrint=false&alt=json\n",
      "INFO:TATSSI.download.gee_downloader:Exporting 79/297: 2011_05_25.tif\n",
      "INFO:googleapiclient.discovery:URL being requested: POST https://earthengine.googleapis.com/v1alpha/projects/earthengine-legacy/thumbnails?fields=name&alt=json\n"
     ]
    },
    {
     "name": "stdout",
     "output_type": "stream",
     "text": [
      "Generating URL ...\n"
     ]
    },
    {
     "name": "stderr",
     "output_type": "stream",
     "text": [
      "INFO:TATSSI.download.gee_downloader:Downloading data from https://earthengine.googleapis.com/v1alpha/projects/earthengine-legacy/thumbnails/520d95e6a146ddb96f3b3f3e0ea1c8dd-f5bed963aff33d4c836f9a782daf0b78:getPixels\n",
      "Please wait ...\n",
      "INFO:TATSSI.download.gee_downloader:Data downloaded to /home/glopez/Projects/TATSSI/data/test_gee\n",
      "INFO:googleapiclient.discovery:URL being requested: POST https://earthengine.googleapis.com/v1alpha/projects/earthengine-legacy/value:compute?prettyPrint=false&alt=json\n",
      "INFO:TATSSI.download.gee_downloader:Exporting 80/297: 2011_06_10.tif\n",
      "INFO:googleapiclient.discovery:URL being requested: POST https://earthengine.googleapis.com/v1alpha/projects/earthengine-legacy/thumbnails?fields=name&alt=json\n"
     ]
    },
    {
     "name": "stdout",
     "output_type": "stream",
     "text": [
      "Generating URL ...\n"
     ]
    },
    {
     "name": "stderr",
     "output_type": "stream",
     "text": [
      "INFO:TATSSI.download.gee_downloader:Downloading data from https://earthengine.googleapis.com/v1alpha/projects/earthengine-legacy/thumbnails/946c7ac3f4c3a1f1e8afd329b58a7b8d-0b81b366468110cd35cf512f2b4ad171:getPixels\n",
      "Please wait ...\n",
      "INFO:TATSSI.download.gee_downloader:Data downloaded to /home/glopez/Projects/TATSSI/data/test_gee\n",
      "INFO:googleapiclient.discovery:URL being requested: POST https://earthengine.googleapis.com/v1alpha/projects/earthengine-legacy/value:compute?prettyPrint=false&alt=json\n",
      "INFO:TATSSI.download.gee_downloader:Exporting 81/297: 2011_06_26.tif\n",
      "INFO:googleapiclient.discovery:URL being requested: POST https://earthengine.googleapis.com/v1alpha/projects/earthengine-legacy/thumbnails?fields=name&alt=json\n"
     ]
    },
    {
     "name": "stdout",
     "output_type": "stream",
     "text": [
      "Generating URL ...\n"
     ]
    },
    {
     "name": "stderr",
     "output_type": "stream",
     "text": [
      "INFO:TATSSI.download.gee_downloader:Downloading data from https://earthengine.googleapis.com/v1alpha/projects/earthengine-legacy/thumbnails/6cac40007e314436c636ae8fd7d54fbe-6e199d3cecc87f86e0a9aad6af683c0e:getPixels\n",
      "Please wait ...\n",
      "INFO:TATSSI.download.gee_downloader:Data downloaded to /home/glopez/Projects/TATSSI/data/test_gee\n",
      "INFO:googleapiclient.discovery:URL being requested: POST https://earthengine.googleapis.com/v1alpha/projects/earthengine-legacy/value:compute?prettyPrint=false&alt=json\n",
      "INFO:TATSSI.download.gee_downloader:Exporting 82/297: 2011_07_12.tif\n",
      "INFO:googleapiclient.discovery:URL being requested: POST https://earthengine.googleapis.com/v1alpha/projects/earthengine-legacy/thumbnails?fields=name&alt=json\n"
     ]
    },
    {
     "name": "stdout",
     "output_type": "stream",
     "text": [
      "Generating URL ...\n"
     ]
    },
    {
     "name": "stderr",
     "output_type": "stream",
     "text": [
      "INFO:TATSSI.download.gee_downloader:Downloading data from https://earthengine.googleapis.com/v1alpha/projects/earthengine-legacy/thumbnails/d2bfcb538e1e3b52606b538b649e96c8-bf7cc7482fccd7a54483a7c0e4ec7116:getPixels\n",
      "Please wait ...\n",
      "INFO:TATSSI.download.gee_downloader:Data downloaded to /home/glopez/Projects/TATSSI/data/test_gee\n",
      "INFO:googleapiclient.discovery:URL being requested: POST https://earthengine.googleapis.com/v1alpha/projects/earthengine-legacy/value:compute?prettyPrint=false&alt=json\n",
      "INFO:TATSSI.download.gee_downloader:Exporting 83/297: 2011_07_28.tif\n",
      "INFO:googleapiclient.discovery:URL being requested: POST https://earthengine.googleapis.com/v1alpha/projects/earthengine-legacy/thumbnails?fields=name&alt=json\n"
     ]
    },
    {
     "name": "stdout",
     "output_type": "stream",
     "text": [
      "Generating URL ...\n"
     ]
    },
    {
     "name": "stderr",
     "output_type": "stream",
     "text": [
      "INFO:TATSSI.download.gee_downloader:Downloading data from https://earthengine.googleapis.com/v1alpha/projects/earthengine-legacy/thumbnails/c92a50b6b28ac791e7f412b86b3d5b6c-2e219d2cf338265b37fa234bbd6e88eb:getPixels\n",
      "Please wait ...\n",
      "INFO:TATSSI.download.gee_downloader:Data downloaded to /home/glopez/Projects/TATSSI/data/test_gee\n",
      "INFO:googleapiclient.discovery:URL being requested: POST https://earthengine.googleapis.com/v1alpha/projects/earthengine-legacy/value:compute?prettyPrint=false&alt=json\n",
      "INFO:TATSSI.download.gee_downloader:Exporting 84/297: 2011_08_13.tif\n",
      "INFO:googleapiclient.discovery:URL being requested: POST https://earthengine.googleapis.com/v1alpha/projects/earthengine-legacy/thumbnails?fields=name&alt=json\n"
     ]
    },
    {
     "name": "stdout",
     "output_type": "stream",
     "text": [
      "Generating URL ...\n"
     ]
    },
    {
     "name": "stderr",
     "output_type": "stream",
     "text": [
      "INFO:TATSSI.download.gee_downloader:Downloading data from https://earthengine.googleapis.com/v1alpha/projects/earthengine-legacy/thumbnails/80534f925bc0750548ee0bfb34902429-095c21d9fd44103234df676c53ec90f5:getPixels\n",
      "Please wait ...\n",
      "INFO:TATSSI.download.gee_downloader:Data downloaded to /home/glopez/Projects/TATSSI/data/test_gee\n",
      "INFO:googleapiclient.discovery:URL being requested: POST https://earthengine.googleapis.com/v1alpha/projects/earthengine-legacy/value:compute?prettyPrint=false&alt=json\n",
      "INFO:TATSSI.download.gee_downloader:Exporting 85/297: 2011_08_29.tif\n",
      "INFO:googleapiclient.discovery:URL being requested: POST https://earthengine.googleapis.com/v1alpha/projects/earthengine-legacy/thumbnails?fields=name&alt=json\n"
     ]
    },
    {
     "name": "stdout",
     "output_type": "stream",
     "text": [
      "Generating URL ...\n"
     ]
    },
    {
     "name": "stderr",
     "output_type": "stream",
     "text": [
      "INFO:TATSSI.download.gee_downloader:Downloading data from https://earthengine.googleapis.com/v1alpha/projects/earthengine-legacy/thumbnails/c74737759327984a78281ca03396f7e5-1a188b5c0f81b13b804cf07330ff3a33:getPixels\n",
      "Please wait ...\n",
      "INFO:TATSSI.download.gee_downloader:Data downloaded to /home/glopez/Projects/TATSSI/data/test_gee\n",
      "INFO:googleapiclient.discovery:URL being requested: POST https://earthengine.googleapis.com/v1alpha/projects/earthengine-legacy/value:compute?prettyPrint=false&alt=json\n",
      "INFO:TATSSI.download.gee_downloader:Exporting 86/297: 2011_09_14.tif\n",
      "INFO:googleapiclient.discovery:URL being requested: POST https://earthengine.googleapis.com/v1alpha/projects/earthengine-legacy/thumbnails?fields=name&alt=json\n"
     ]
    },
    {
     "name": "stdout",
     "output_type": "stream",
     "text": [
      "Generating URL ...\n"
     ]
    },
    {
     "name": "stderr",
     "output_type": "stream",
     "text": [
      "INFO:TATSSI.download.gee_downloader:Downloading data from https://earthengine.googleapis.com/v1alpha/projects/earthengine-legacy/thumbnails/bb8e82f3df1ecee3a377747e568f96cc-e5e7dac7b2b41c68d62510ea8d096136:getPixels\n",
      "Please wait ...\n",
      "INFO:TATSSI.download.gee_downloader:Data downloaded to /home/glopez/Projects/TATSSI/data/test_gee\n",
      "INFO:googleapiclient.discovery:URL being requested: POST https://earthengine.googleapis.com/v1alpha/projects/earthengine-legacy/value:compute?prettyPrint=false&alt=json\n",
      "INFO:TATSSI.download.gee_downloader:Exporting 87/297: 2011_09_30.tif\n",
      "INFO:googleapiclient.discovery:URL being requested: POST https://earthengine.googleapis.com/v1alpha/projects/earthengine-legacy/thumbnails?fields=name&alt=json\n"
     ]
    },
    {
     "name": "stdout",
     "output_type": "stream",
     "text": [
      "Generating URL ...\n"
     ]
    },
    {
     "name": "stderr",
     "output_type": "stream",
     "text": [
      "INFO:TATSSI.download.gee_downloader:Downloading data from https://earthengine.googleapis.com/v1alpha/projects/earthengine-legacy/thumbnails/f57343ec23eea4c46c78503baa094b80-eb507bdb57d59c374579d924a470115f:getPixels\n",
      "Please wait ...\n",
      "INFO:TATSSI.download.gee_downloader:Data downloaded to /home/glopez/Projects/TATSSI/data/test_gee\n",
      "INFO:googleapiclient.discovery:URL being requested: POST https://earthengine.googleapis.com/v1alpha/projects/earthengine-legacy/value:compute?prettyPrint=false&alt=json\n",
      "INFO:TATSSI.download.gee_downloader:Exporting 88/297: 2011_10_16.tif\n",
      "INFO:googleapiclient.discovery:URL being requested: POST https://earthengine.googleapis.com/v1alpha/projects/earthengine-legacy/thumbnails?fields=name&alt=json\n"
     ]
    },
    {
     "name": "stdout",
     "output_type": "stream",
     "text": [
      "Generating URL ...\n"
     ]
    },
    {
     "name": "stderr",
     "output_type": "stream",
     "text": [
      "INFO:TATSSI.download.gee_downloader:Downloading data from https://earthengine.googleapis.com/v1alpha/projects/earthengine-legacy/thumbnails/d4fb9777c5638171a6112307fb4ada50-c21b02690538c05bdc87625a0c26c057:getPixels\n",
      "Please wait ...\n",
      "INFO:TATSSI.download.gee_downloader:Data downloaded to /home/glopez/Projects/TATSSI/data/test_gee\n",
      "INFO:googleapiclient.discovery:URL being requested: POST https://earthengine.googleapis.com/v1alpha/projects/earthengine-legacy/value:compute?prettyPrint=false&alt=json\n",
      "INFO:TATSSI.download.gee_downloader:Exporting 89/297: 2011_11_01.tif\n",
      "INFO:googleapiclient.discovery:URL being requested: POST https://earthengine.googleapis.com/v1alpha/projects/earthengine-legacy/thumbnails?fields=name&alt=json\n"
     ]
    },
    {
     "name": "stdout",
     "output_type": "stream",
     "text": [
      "Generating URL ...\n"
     ]
    },
    {
     "name": "stderr",
     "output_type": "stream",
     "text": [
      "INFO:TATSSI.download.gee_downloader:Downloading data from https://earthengine.googleapis.com/v1alpha/projects/earthengine-legacy/thumbnails/b679e021080796d24392967d4f9bf299-21eb48e3b43bf400437f2e6e6586c5bf:getPixels\n",
      "Please wait ...\n",
      "INFO:TATSSI.download.gee_downloader:Data downloaded to /home/glopez/Projects/TATSSI/data/test_gee\n",
      "INFO:googleapiclient.discovery:URL being requested: POST https://earthengine.googleapis.com/v1alpha/projects/earthengine-legacy/value:compute?prettyPrint=false&alt=json\n",
      "INFO:TATSSI.download.gee_downloader:Exporting 90/297: 2011_11_17.tif\n",
      "INFO:googleapiclient.discovery:URL being requested: POST https://earthengine.googleapis.com/v1alpha/projects/earthengine-legacy/thumbnails?fields=name&alt=json\n"
     ]
    },
    {
     "name": "stdout",
     "output_type": "stream",
     "text": [
      "Generating URL ...\n"
     ]
    },
    {
     "name": "stderr",
     "output_type": "stream",
     "text": [
      "INFO:TATSSI.download.gee_downloader:Downloading data from https://earthengine.googleapis.com/v1alpha/projects/earthengine-legacy/thumbnails/cacd6975053711071218a6c3b33ac748-4e5385af947c558d96cf1eb7923f2c4c:getPixels\n",
      "Please wait ...\n",
      "INFO:TATSSI.download.gee_downloader:Data downloaded to /home/glopez/Projects/TATSSI/data/test_gee\n",
      "INFO:googleapiclient.discovery:URL being requested: POST https://earthengine.googleapis.com/v1alpha/projects/earthengine-legacy/value:compute?prettyPrint=false&alt=json\n",
      "INFO:TATSSI.download.gee_downloader:Exporting 91/297: 2011_12_03.tif\n",
      "INFO:googleapiclient.discovery:URL being requested: POST https://earthengine.googleapis.com/v1alpha/projects/earthengine-legacy/thumbnails?fields=name&alt=json\n"
     ]
    },
    {
     "name": "stdout",
     "output_type": "stream",
     "text": [
      "Generating URL ...\n"
     ]
    },
    {
     "name": "stderr",
     "output_type": "stream",
     "text": [
      "INFO:TATSSI.download.gee_downloader:Downloading data from https://earthengine.googleapis.com/v1alpha/projects/earthengine-legacy/thumbnails/09c2c13b80d38aefd13680476b2f995f-420acf3a1722189f448922f6661b81e1:getPixels\n",
      "Please wait ...\n",
      "INFO:TATSSI.download.gee_downloader:Data downloaded to /home/glopez/Projects/TATSSI/data/test_gee\n",
      "INFO:googleapiclient.discovery:URL being requested: POST https://earthengine.googleapis.com/v1alpha/projects/earthengine-legacy/value:compute?prettyPrint=false&alt=json\n",
      "INFO:TATSSI.download.gee_downloader:Exporting 92/297: 2011_12_19.tif\n",
      "INFO:googleapiclient.discovery:URL being requested: POST https://earthengine.googleapis.com/v1alpha/projects/earthengine-legacy/thumbnails?fields=name&alt=json\n"
     ]
    },
    {
     "name": "stdout",
     "output_type": "stream",
     "text": [
      "Generating URL ...\n"
     ]
    },
    {
     "name": "stderr",
     "output_type": "stream",
     "text": [
      "INFO:TATSSI.download.gee_downloader:Downloading data from https://earthengine.googleapis.com/v1alpha/projects/earthengine-legacy/thumbnails/03c3c94e50ecf8ffab2721cd1a9cbd73-4ddfd68b4a2add70d255cd3aa0ae673e:getPixels\n",
      "Please wait ...\n",
      "INFO:TATSSI.download.gee_downloader:Data downloaded to /home/glopez/Projects/TATSSI/data/test_gee\n",
      "INFO:googleapiclient.discovery:URL being requested: POST https://earthengine.googleapis.com/v1alpha/projects/earthengine-legacy/value:compute?prettyPrint=false&alt=json\n",
      "INFO:TATSSI.download.gee_downloader:Exporting 93/297: 2012_01_01.tif\n",
      "INFO:googleapiclient.discovery:URL being requested: POST https://earthengine.googleapis.com/v1alpha/projects/earthengine-legacy/thumbnails?fields=name&alt=json\n"
     ]
    },
    {
     "name": "stdout",
     "output_type": "stream",
     "text": [
      "Generating URL ...\n"
     ]
    },
    {
     "name": "stderr",
     "output_type": "stream",
     "text": [
      "INFO:TATSSI.download.gee_downloader:Downloading data from https://earthengine.googleapis.com/v1alpha/projects/earthengine-legacy/thumbnails/ae69c65058c8a728058025d5a4c74ce3-aaf0ac4239f022e397fa2b335eb2f708:getPixels\n",
      "Please wait ...\n",
      "INFO:TATSSI.download.gee_downloader:Data downloaded to /home/glopez/Projects/TATSSI/data/test_gee\n",
      "INFO:googleapiclient.discovery:URL being requested: POST https://earthengine.googleapis.com/v1alpha/projects/earthengine-legacy/value:compute?prettyPrint=false&alt=json\n",
      "INFO:TATSSI.download.gee_downloader:Exporting 94/297: 2012_01_17.tif\n",
      "INFO:googleapiclient.discovery:URL being requested: POST https://earthengine.googleapis.com/v1alpha/projects/earthengine-legacy/thumbnails?fields=name&alt=json\n"
     ]
    },
    {
     "name": "stdout",
     "output_type": "stream",
     "text": [
      "Generating URL ...\n"
     ]
    },
    {
     "name": "stderr",
     "output_type": "stream",
     "text": [
      "INFO:TATSSI.download.gee_downloader:Downloading data from https://earthengine.googleapis.com/v1alpha/projects/earthengine-legacy/thumbnails/b571dcda10f0012da2ae3a7babae06f9-041b2afb1c2ab7828f3fadc1716ea637:getPixels\n",
      "Please wait ...\n",
      "INFO:TATSSI.download.gee_downloader:Data downloaded to /home/glopez/Projects/TATSSI/data/test_gee\n",
      "INFO:googleapiclient.discovery:URL being requested: POST https://earthengine.googleapis.com/v1alpha/projects/earthengine-legacy/value:compute?prettyPrint=false&alt=json\n",
      "INFO:TATSSI.download.gee_downloader:Exporting 95/297: 2012_02_02.tif\n",
      "INFO:googleapiclient.discovery:URL being requested: POST https://earthengine.googleapis.com/v1alpha/projects/earthengine-legacy/thumbnails?fields=name&alt=json\n"
     ]
    },
    {
     "name": "stdout",
     "output_type": "stream",
     "text": [
      "Generating URL ...\n"
     ]
    },
    {
     "name": "stderr",
     "output_type": "stream",
     "text": [
      "INFO:TATSSI.download.gee_downloader:Downloading data from https://earthengine.googleapis.com/v1alpha/projects/earthengine-legacy/thumbnails/d6d39f092ee456343344bacb7e9bd9be-dbfb3b087d1a8f7fbdfcfc5cbd9f8730:getPixels\n",
      "Please wait ...\n",
      "INFO:TATSSI.download.gee_downloader:Data downloaded to /home/glopez/Projects/TATSSI/data/test_gee\n",
      "INFO:googleapiclient.discovery:URL being requested: POST https://earthengine.googleapis.com/v1alpha/projects/earthengine-legacy/value:compute?prettyPrint=false&alt=json\n",
      "INFO:TATSSI.download.gee_downloader:Exporting 96/297: 2012_02_18.tif\n",
      "INFO:googleapiclient.discovery:URL being requested: POST https://earthengine.googleapis.com/v1alpha/projects/earthengine-legacy/thumbnails?fields=name&alt=json\n"
     ]
    },
    {
     "name": "stdout",
     "output_type": "stream",
     "text": [
      "Generating URL ...\n"
     ]
    },
    {
     "name": "stderr",
     "output_type": "stream",
     "text": [
      "INFO:TATSSI.download.gee_downloader:Downloading data from https://earthengine.googleapis.com/v1alpha/projects/earthengine-legacy/thumbnails/3c683a321ab7173d4b5673c68437bf1a-4a8cc7beee40e94216a3479b7b6b508d:getPixels\n",
      "Please wait ...\n",
      "INFO:TATSSI.download.gee_downloader:Data downloaded to /home/glopez/Projects/TATSSI/data/test_gee\n",
      "INFO:googleapiclient.discovery:URL being requested: POST https://earthengine.googleapis.com/v1alpha/projects/earthengine-legacy/value:compute?prettyPrint=false&alt=json\n",
      "INFO:TATSSI.download.gee_downloader:Exporting 97/297: 2012_03_05.tif\n",
      "INFO:googleapiclient.discovery:URL being requested: POST https://earthengine.googleapis.com/v1alpha/projects/earthengine-legacy/thumbnails?fields=name&alt=json\n"
     ]
    },
    {
     "name": "stdout",
     "output_type": "stream",
     "text": [
      "Generating URL ...\n"
     ]
    },
    {
     "name": "stderr",
     "output_type": "stream",
     "text": [
      "INFO:TATSSI.download.gee_downloader:Downloading data from https://earthengine.googleapis.com/v1alpha/projects/earthengine-legacy/thumbnails/77d2df217b9e91e752ab57d1697f897b-16ea65eb49b5da66921ce88d4da79531:getPixels\n",
      "Please wait ...\n",
      "INFO:TATSSI.download.gee_downloader:Data downloaded to /home/glopez/Projects/TATSSI/data/test_gee\n",
      "INFO:googleapiclient.discovery:URL being requested: POST https://earthengine.googleapis.com/v1alpha/projects/earthengine-legacy/value:compute?prettyPrint=false&alt=json\n",
      "INFO:TATSSI.download.gee_downloader:Exporting 98/297: 2012_03_21.tif\n",
      "INFO:googleapiclient.discovery:URL being requested: POST https://earthengine.googleapis.com/v1alpha/projects/earthengine-legacy/thumbnails?fields=name&alt=json\n"
     ]
    },
    {
     "name": "stdout",
     "output_type": "stream",
     "text": [
      "Generating URL ...\n"
     ]
    },
    {
     "name": "stderr",
     "output_type": "stream",
     "text": [
      "INFO:TATSSI.download.gee_downloader:Downloading data from https://earthengine.googleapis.com/v1alpha/projects/earthengine-legacy/thumbnails/c195ba03078e912a916c25a95985ac2a-369ed57d52159edad0c57e9fdcf832b5:getPixels\n",
      "Please wait ...\n",
      "INFO:TATSSI.download.gee_downloader:Data downloaded to /home/glopez/Projects/TATSSI/data/test_gee\n",
      "INFO:googleapiclient.discovery:URL being requested: POST https://earthengine.googleapis.com/v1alpha/projects/earthengine-legacy/value:compute?prettyPrint=false&alt=json\n",
      "INFO:TATSSI.download.gee_downloader:Exporting 99/297: 2012_04_06.tif\n",
      "INFO:googleapiclient.discovery:URL being requested: POST https://earthengine.googleapis.com/v1alpha/projects/earthengine-legacy/thumbnails?fields=name&alt=json\n"
     ]
    },
    {
     "name": "stdout",
     "output_type": "stream",
     "text": [
      "Generating URL ...\n"
     ]
    },
    {
     "name": "stderr",
     "output_type": "stream",
     "text": [
      "INFO:TATSSI.download.gee_downloader:Downloading data from https://earthengine.googleapis.com/v1alpha/projects/earthengine-legacy/thumbnails/ba404fb0513a56a35c6ec6719d9f20a8-ecece3079b63af541d606a964d8ccf01:getPixels\n",
      "Please wait ...\n",
      "INFO:TATSSI.download.gee_downloader:Data downloaded to /home/glopez/Projects/TATSSI/data/test_gee\n",
      "INFO:googleapiclient.discovery:URL being requested: POST https://earthengine.googleapis.com/v1alpha/projects/earthengine-legacy/value:compute?prettyPrint=false&alt=json\n",
      "INFO:TATSSI.download.gee_downloader:Exporting 100/297: 2012_04_22.tif\n",
      "INFO:googleapiclient.discovery:URL being requested: POST https://earthengine.googleapis.com/v1alpha/projects/earthengine-legacy/thumbnails?fields=name&alt=json\n"
     ]
    },
    {
     "name": "stdout",
     "output_type": "stream",
     "text": [
      "Generating URL ...\n"
     ]
    },
    {
     "name": "stderr",
     "output_type": "stream",
     "text": [
      "INFO:TATSSI.download.gee_downloader:Downloading data from https://earthengine.googleapis.com/v1alpha/projects/earthengine-legacy/thumbnails/5b4eff1498209144ccc3d84a05f53c84-48b216d7728d424f80c30763dcb735f8:getPixels\n",
      "Please wait ...\n",
      "INFO:TATSSI.download.gee_downloader:Data downloaded to /home/glopez/Projects/TATSSI/data/test_gee\n",
      "INFO:googleapiclient.discovery:URL being requested: POST https://earthengine.googleapis.com/v1alpha/projects/earthengine-legacy/value:compute?prettyPrint=false&alt=json\n",
      "INFO:TATSSI.download.gee_downloader:Exporting 101/297: 2012_05_08.tif\n",
      "INFO:googleapiclient.discovery:URL being requested: POST https://earthengine.googleapis.com/v1alpha/projects/earthengine-legacy/thumbnails?fields=name&alt=json\n"
     ]
    },
    {
     "name": "stdout",
     "output_type": "stream",
     "text": [
      "Generating URL ...\n"
     ]
    },
    {
     "name": "stderr",
     "output_type": "stream",
     "text": [
      "INFO:TATSSI.download.gee_downloader:Downloading data from https://earthengine.googleapis.com/v1alpha/projects/earthengine-legacy/thumbnails/926bde6ba25f5d1e05e6c483118bbac9-f76d57e8987686c6f887239ab777fc1e:getPixels\n",
      "Please wait ...\n",
      "INFO:TATSSI.download.gee_downloader:Data downloaded to /home/glopez/Projects/TATSSI/data/test_gee\n",
      "INFO:googleapiclient.discovery:URL being requested: POST https://earthengine.googleapis.com/v1alpha/projects/earthengine-legacy/value:compute?prettyPrint=false&alt=json\n",
      "INFO:TATSSI.download.gee_downloader:Exporting 102/297: 2012_05_24.tif\n",
      "INFO:googleapiclient.discovery:URL being requested: POST https://earthengine.googleapis.com/v1alpha/projects/earthengine-legacy/thumbnails?fields=name&alt=json\n"
     ]
    },
    {
     "name": "stdout",
     "output_type": "stream",
     "text": [
      "Generating URL ...\n"
     ]
    },
    {
     "name": "stderr",
     "output_type": "stream",
     "text": [
      "INFO:TATSSI.download.gee_downloader:Downloading data from https://earthengine.googleapis.com/v1alpha/projects/earthengine-legacy/thumbnails/1e4d3324f581c164592d0709e98e4ef8-ecc6ba43f00238a7fb5f4465b177bca8:getPixels\n",
      "Please wait ...\n",
      "INFO:TATSSI.download.gee_downloader:Data downloaded to /home/glopez/Projects/TATSSI/data/test_gee\n",
      "INFO:googleapiclient.discovery:URL being requested: POST https://earthengine.googleapis.com/v1alpha/projects/earthengine-legacy/value:compute?prettyPrint=false&alt=json\n",
      "INFO:TATSSI.download.gee_downloader:Exporting 103/297: 2012_06_09.tif\n",
      "INFO:googleapiclient.discovery:URL being requested: POST https://earthengine.googleapis.com/v1alpha/projects/earthengine-legacy/thumbnails?fields=name&alt=json\n"
     ]
    },
    {
     "name": "stdout",
     "output_type": "stream",
     "text": [
      "Generating URL ...\n"
     ]
    },
    {
     "name": "stderr",
     "output_type": "stream",
     "text": [
      "INFO:TATSSI.download.gee_downloader:Downloading data from https://earthengine.googleapis.com/v1alpha/projects/earthengine-legacy/thumbnails/b4b328a9dae9918a66ddb3518120c543-0eb741168fdb30295eeddd1b61ab4129:getPixels\n",
      "Please wait ...\n",
      "INFO:TATSSI.download.gee_downloader:Data downloaded to /home/glopez/Projects/TATSSI/data/test_gee\n",
      "INFO:googleapiclient.discovery:URL being requested: POST https://earthengine.googleapis.com/v1alpha/projects/earthengine-legacy/value:compute?prettyPrint=false&alt=json\n",
      "INFO:TATSSI.download.gee_downloader:Exporting 104/297: 2012_06_25.tif\n",
      "INFO:googleapiclient.discovery:URL being requested: POST https://earthengine.googleapis.com/v1alpha/projects/earthengine-legacy/thumbnails?fields=name&alt=json\n"
     ]
    },
    {
     "name": "stdout",
     "output_type": "stream",
     "text": [
      "Generating URL ...\n"
     ]
    },
    {
     "name": "stderr",
     "output_type": "stream",
     "text": [
      "INFO:TATSSI.download.gee_downloader:Downloading data from https://earthengine.googleapis.com/v1alpha/projects/earthengine-legacy/thumbnails/ad4ec5371a88a32198dba5e730c26c30-145384d8cd47600f0f52335b34089a05:getPixels\n",
      "Please wait ...\n",
      "INFO:TATSSI.download.gee_downloader:Data downloaded to /home/glopez/Projects/TATSSI/data/test_gee\n",
      "INFO:googleapiclient.discovery:URL being requested: POST https://earthengine.googleapis.com/v1alpha/projects/earthengine-legacy/value:compute?prettyPrint=false&alt=json\n",
      "INFO:TATSSI.download.gee_downloader:Exporting 105/297: 2012_07_11.tif\n",
      "INFO:googleapiclient.discovery:URL being requested: POST https://earthengine.googleapis.com/v1alpha/projects/earthengine-legacy/thumbnails?fields=name&alt=json\n"
     ]
    },
    {
     "name": "stdout",
     "output_type": "stream",
     "text": [
      "Generating URL ...\n"
     ]
    },
    {
     "name": "stderr",
     "output_type": "stream",
     "text": [
      "INFO:TATSSI.download.gee_downloader:Downloading data from https://earthengine.googleapis.com/v1alpha/projects/earthengine-legacy/thumbnails/1d65b634922c0e3f97437b1021e4d7e1-1e41f1d31dca3a4dbda6660aa95fe676:getPixels\n",
      "Please wait ...\n",
      "INFO:TATSSI.download.gee_downloader:Data downloaded to /home/glopez/Projects/TATSSI/data/test_gee\n",
      "INFO:googleapiclient.discovery:URL being requested: POST https://earthengine.googleapis.com/v1alpha/projects/earthengine-legacy/value:compute?prettyPrint=false&alt=json\n",
      "INFO:TATSSI.download.gee_downloader:Exporting 106/297: 2012_07_27.tif\n",
      "INFO:googleapiclient.discovery:URL being requested: POST https://earthengine.googleapis.com/v1alpha/projects/earthengine-legacy/thumbnails?fields=name&alt=json\n"
     ]
    },
    {
     "name": "stdout",
     "output_type": "stream",
     "text": [
      "Generating URL ...\n"
     ]
    },
    {
     "name": "stderr",
     "output_type": "stream",
     "text": [
      "INFO:TATSSI.download.gee_downloader:Downloading data from https://earthengine.googleapis.com/v1alpha/projects/earthengine-legacy/thumbnails/282bcdf9dfecba5b508976163b41962e-19d23e7035de33c94b98293b9620d1fd:getPixels\n",
      "Please wait ...\n",
      "INFO:TATSSI.download.gee_downloader:Data downloaded to /home/glopez/Projects/TATSSI/data/test_gee\n",
      "INFO:googleapiclient.discovery:URL being requested: POST https://earthengine.googleapis.com/v1alpha/projects/earthengine-legacy/value:compute?prettyPrint=false&alt=json\n",
      "INFO:TATSSI.download.gee_downloader:Exporting 107/297: 2012_08_12.tif\n",
      "INFO:googleapiclient.discovery:URL being requested: POST https://earthengine.googleapis.com/v1alpha/projects/earthengine-legacy/thumbnails?fields=name&alt=json\n"
     ]
    },
    {
     "name": "stdout",
     "output_type": "stream",
     "text": [
      "Generating URL ...\n"
     ]
    },
    {
     "name": "stderr",
     "output_type": "stream",
     "text": [
      "INFO:TATSSI.download.gee_downloader:Downloading data from https://earthengine.googleapis.com/v1alpha/projects/earthengine-legacy/thumbnails/10f5f250ce93d52a91b806010a7ed04a-7872eb0c8ef7faa845ca0a30b5cb0640:getPixels\n",
      "Please wait ...\n",
      "INFO:TATSSI.download.gee_downloader:Data downloaded to /home/glopez/Projects/TATSSI/data/test_gee\n",
      "INFO:googleapiclient.discovery:URL being requested: POST https://earthengine.googleapis.com/v1alpha/projects/earthengine-legacy/value:compute?prettyPrint=false&alt=json\n",
      "INFO:TATSSI.download.gee_downloader:Exporting 108/297: 2012_08_28.tif\n",
      "INFO:googleapiclient.discovery:URL being requested: POST https://earthengine.googleapis.com/v1alpha/projects/earthengine-legacy/thumbnails?fields=name&alt=json\n"
     ]
    },
    {
     "name": "stdout",
     "output_type": "stream",
     "text": [
      "Generating URL ...\n"
     ]
    },
    {
     "name": "stderr",
     "output_type": "stream",
     "text": [
      "INFO:TATSSI.download.gee_downloader:Downloading data from https://earthengine.googleapis.com/v1alpha/projects/earthengine-legacy/thumbnails/3f53ff3d504ecc29999fd158b7b8b1da-dcde6d897f6a3d0d7e54150c97547f5d:getPixels\n",
      "Please wait ...\n",
      "INFO:TATSSI.download.gee_downloader:Data downloaded to /home/glopez/Projects/TATSSI/data/test_gee\n",
      "INFO:googleapiclient.discovery:URL being requested: POST https://earthengine.googleapis.com/v1alpha/projects/earthengine-legacy/value:compute?prettyPrint=false&alt=json\n",
      "INFO:TATSSI.download.gee_downloader:Exporting 109/297: 2012_09_13.tif\n",
      "INFO:googleapiclient.discovery:URL being requested: POST https://earthengine.googleapis.com/v1alpha/projects/earthengine-legacy/thumbnails?fields=name&alt=json\n"
     ]
    },
    {
     "name": "stdout",
     "output_type": "stream",
     "text": [
      "Generating URL ...\n"
     ]
    },
    {
     "name": "stderr",
     "output_type": "stream",
     "text": [
      "INFO:TATSSI.download.gee_downloader:Downloading data from https://earthengine.googleapis.com/v1alpha/projects/earthengine-legacy/thumbnails/27a9259f12d8e8dc7c8903db4b39255a-7c3d3655ef3f5331f3f2b3c6b05643cb:getPixels\n",
      "Please wait ...\n",
      "INFO:TATSSI.download.gee_downloader:Data downloaded to /home/glopez/Projects/TATSSI/data/test_gee\n",
      "INFO:googleapiclient.discovery:URL being requested: POST https://earthengine.googleapis.com/v1alpha/projects/earthengine-legacy/value:compute?prettyPrint=false&alt=json\n",
      "INFO:TATSSI.download.gee_downloader:Exporting 110/297: 2012_09_29.tif\n",
      "INFO:googleapiclient.discovery:URL being requested: POST https://earthengine.googleapis.com/v1alpha/projects/earthengine-legacy/thumbnails?fields=name&alt=json\n"
     ]
    },
    {
     "name": "stdout",
     "output_type": "stream",
     "text": [
      "Generating URL ...\n"
     ]
    },
    {
     "name": "stderr",
     "output_type": "stream",
     "text": [
      "INFO:TATSSI.download.gee_downloader:Downloading data from https://earthengine.googleapis.com/v1alpha/projects/earthengine-legacy/thumbnails/b66aef12991a229860f7116478155800-2a4db9e0390fb86087411774210baff3:getPixels\n",
      "Please wait ...\n",
      "INFO:TATSSI.download.gee_downloader:Data downloaded to /home/glopez/Projects/TATSSI/data/test_gee\n",
      "INFO:googleapiclient.discovery:URL being requested: POST https://earthengine.googleapis.com/v1alpha/projects/earthengine-legacy/value:compute?prettyPrint=false&alt=json\n",
      "INFO:TATSSI.download.gee_downloader:Exporting 111/297: 2012_10_15.tif\n",
      "INFO:googleapiclient.discovery:URL being requested: POST https://earthengine.googleapis.com/v1alpha/projects/earthengine-legacy/thumbnails?fields=name&alt=json\n"
     ]
    },
    {
     "name": "stdout",
     "output_type": "stream",
     "text": [
      "Generating URL ...\n"
     ]
    },
    {
     "name": "stderr",
     "output_type": "stream",
     "text": [
      "INFO:TATSSI.download.gee_downloader:Downloading data from https://earthengine.googleapis.com/v1alpha/projects/earthengine-legacy/thumbnails/fc7cbd404e6ebd02d79561eba179a909-0c5cbf71cf61617eb265b30dcf967836:getPixels\n",
      "Please wait ...\n",
      "INFO:TATSSI.download.gee_downloader:Data downloaded to /home/glopez/Projects/TATSSI/data/test_gee\n",
      "INFO:googleapiclient.discovery:URL being requested: POST https://earthengine.googleapis.com/v1alpha/projects/earthengine-legacy/value:compute?prettyPrint=false&alt=json\n",
      "INFO:TATSSI.download.gee_downloader:Exporting 112/297: 2012_10_31.tif\n",
      "INFO:googleapiclient.discovery:URL being requested: POST https://earthengine.googleapis.com/v1alpha/projects/earthengine-legacy/thumbnails?fields=name&alt=json\n"
     ]
    },
    {
     "name": "stdout",
     "output_type": "stream",
     "text": [
      "Generating URL ...\n"
     ]
    },
    {
     "name": "stderr",
     "output_type": "stream",
     "text": [
      "INFO:TATSSI.download.gee_downloader:Downloading data from https://earthengine.googleapis.com/v1alpha/projects/earthengine-legacy/thumbnails/144da54dad50e9fc1b484cbb6f09b18f-94a35745ed222be880a03a9a4b214772:getPixels\n",
      "Please wait ...\n",
      "INFO:TATSSI.download.gee_downloader:Data downloaded to /home/glopez/Projects/TATSSI/data/test_gee\n",
      "INFO:googleapiclient.discovery:URL being requested: POST https://earthengine.googleapis.com/v1alpha/projects/earthengine-legacy/value:compute?prettyPrint=false&alt=json\n",
      "INFO:TATSSI.download.gee_downloader:Exporting 113/297: 2012_11_16.tif\n",
      "INFO:googleapiclient.discovery:URL being requested: POST https://earthengine.googleapis.com/v1alpha/projects/earthengine-legacy/thumbnails?fields=name&alt=json\n"
     ]
    },
    {
     "name": "stdout",
     "output_type": "stream",
     "text": [
      "Generating URL ...\n"
     ]
    },
    {
     "name": "stderr",
     "output_type": "stream",
     "text": [
      "INFO:TATSSI.download.gee_downloader:Downloading data from https://earthengine.googleapis.com/v1alpha/projects/earthengine-legacy/thumbnails/06f859986224656e85d6f567aeb8c6e3-15eb014f76a44fdcf1f90d50ea0f0793:getPixels\n",
      "Please wait ...\n",
      "INFO:TATSSI.download.gee_downloader:Data downloaded to /home/glopez/Projects/TATSSI/data/test_gee\n",
      "INFO:googleapiclient.discovery:URL being requested: POST https://earthengine.googleapis.com/v1alpha/projects/earthengine-legacy/value:compute?prettyPrint=false&alt=json\n",
      "INFO:TATSSI.download.gee_downloader:Exporting 114/297: 2012_12_02.tif\n",
      "INFO:googleapiclient.discovery:URL being requested: POST https://earthengine.googleapis.com/v1alpha/projects/earthengine-legacy/thumbnails?fields=name&alt=json\n"
     ]
    },
    {
     "name": "stdout",
     "output_type": "stream",
     "text": [
      "Generating URL ...\n"
     ]
    },
    {
     "name": "stderr",
     "output_type": "stream",
     "text": [
      "INFO:TATSSI.download.gee_downloader:Downloading data from https://earthengine.googleapis.com/v1alpha/projects/earthengine-legacy/thumbnails/17a42d1520913e0342c3c8653674f7fa-6957cbdd85204100729df0c23ddb6a61:getPixels\n",
      "Please wait ...\n",
      "INFO:TATSSI.download.gee_downloader:Data downloaded to /home/glopez/Projects/TATSSI/data/test_gee\n",
      "INFO:googleapiclient.discovery:URL being requested: POST https://earthengine.googleapis.com/v1alpha/projects/earthengine-legacy/value:compute?prettyPrint=false&alt=json\n",
      "INFO:TATSSI.download.gee_downloader:Exporting 115/297: 2012_12_18.tif\n",
      "INFO:googleapiclient.discovery:URL being requested: POST https://earthengine.googleapis.com/v1alpha/projects/earthengine-legacy/thumbnails?fields=name&alt=json\n"
     ]
    },
    {
     "name": "stdout",
     "output_type": "stream",
     "text": [
      "Generating URL ...\n"
     ]
    },
    {
     "name": "stderr",
     "output_type": "stream",
     "text": [
      "INFO:TATSSI.download.gee_downloader:Downloading data from https://earthengine.googleapis.com/v1alpha/projects/earthengine-legacy/thumbnails/25caba54242517afe6c80cf87ea68b99-4979256b70cbb04b29315831d95839b4:getPixels\n",
      "Please wait ...\n",
      "INFO:TATSSI.download.gee_downloader:Data downloaded to /home/glopez/Projects/TATSSI/data/test_gee\n",
      "INFO:googleapiclient.discovery:URL being requested: POST https://earthengine.googleapis.com/v1alpha/projects/earthengine-legacy/value:compute?prettyPrint=false&alt=json\n",
      "INFO:TATSSI.download.gee_downloader:Exporting 116/297: 2013_01_01.tif\n",
      "INFO:googleapiclient.discovery:URL being requested: POST https://earthengine.googleapis.com/v1alpha/projects/earthengine-legacy/thumbnails?fields=name&alt=json\n"
     ]
    },
    {
     "name": "stdout",
     "output_type": "stream",
     "text": [
      "Generating URL ...\n"
     ]
    },
    {
     "name": "stderr",
     "output_type": "stream",
     "text": [
      "INFO:TATSSI.download.gee_downloader:Downloading data from https://earthengine.googleapis.com/v1alpha/projects/earthengine-legacy/thumbnails/f1a806ecc1ec4374022ba271550c6de8-2d058bb2f34000b69a1cdd0d64f6e6ad:getPixels\n",
      "Please wait ...\n",
      "INFO:TATSSI.download.gee_downloader:Data downloaded to /home/glopez/Projects/TATSSI/data/test_gee\n",
      "INFO:googleapiclient.discovery:URL being requested: POST https://earthengine.googleapis.com/v1alpha/projects/earthengine-legacy/value:compute?prettyPrint=false&alt=json\n",
      "INFO:TATSSI.download.gee_downloader:Exporting 117/297: 2013_01_17.tif\n",
      "INFO:googleapiclient.discovery:URL being requested: POST https://earthengine.googleapis.com/v1alpha/projects/earthengine-legacy/thumbnails?fields=name&alt=json\n"
     ]
    },
    {
     "name": "stdout",
     "output_type": "stream",
     "text": [
      "Generating URL ...\n"
     ]
    },
    {
     "name": "stderr",
     "output_type": "stream",
     "text": [
      "INFO:TATSSI.download.gee_downloader:Downloading data from https://earthengine.googleapis.com/v1alpha/projects/earthengine-legacy/thumbnails/69aa099e9ba5d2d238c7bd1811f727a8-0762a1eed000545f896b5c6b4d3e5824:getPixels\n",
      "Please wait ...\n",
      "INFO:TATSSI.download.gee_downloader:Data downloaded to /home/glopez/Projects/TATSSI/data/test_gee\n",
      "INFO:googleapiclient.discovery:URL being requested: POST https://earthengine.googleapis.com/v1alpha/projects/earthengine-legacy/value:compute?prettyPrint=false&alt=json\n",
      "INFO:TATSSI.download.gee_downloader:Exporting 118/297: 2013_02_02.tif\n",
      "INFO:googleapiclient.discovery:URL being requested: POST https://earthengine.googleapis.com/v1alpha/projects/earthengine-legacy/thumbnails?fields=name&alt=json\n"
     ]
    },
    {
     "name": "stdout",
     "output_type": "stream",
     "text": [
      "Generating URL ...\n"
     ]
    },
    {
     "name": "stderr",
     "output_type": "stream",
     "text": [
      "INFO:TATSSI.download.gee_downloader:Downloading data from https://earthengine.googleapis.com/v1alpha/projects/earthengine-legacy/thumbnails/9712c094d819d97bfb0c3673a82e6a44-48437b56ccb9cfb46009c25c80a852ce:getPixels\n",
      "Please wait ...\n",
      "INFO:TATSSI.download.gee_downloader:Data downloaded to /home/glopez/Projects/TATSSI/data/test_gee\n",
      "INFO:googleapiclient.discovery:URL being requested: POST https://earthengine.googleapis.com/v1alpha/projects/earthengine-legacy/value:compute?prettyPrint=false&alt=json\n",
      "INFO:TATSSI.download.gee_downloader:Exporting 119/297: 2013_02_18.tif\n",
      "INFO:googleapiclient.discovery:URL being requested: POST https://earthengine.googleapis.com/v1alpha/projects/earthengine-legacy/thumbnails?fields=name&alt=json\n"
     ]
    },
    {
     "name": "stdout",
     "output_type": "stream",
     "text": [
      "Generating URL ...\n"
     ]
    },
    {
     "name": "stderr",
     "output_type": "stream",
     "text": [
      "INFO:TATSSI.download.gee_downloader:Downloading data from https://earthengine.googleapis.com/v1alpha/projects/earthengine-legacy/thumbnails/cf26f342e13b616afeef98ea3718b0e4-4a318d2e92fae64c844b66c9293eaab6:getPixels\n",
      "Please wait ...\n",
      "INFO:TATSSI.download.gee_downloader:Data downloaded to /home/glopez/Projects/TATSSI/data/test_gee\n",
      "INFO:googleapiclient.discovery:URL being requested: POST https://earthengine.googleapis.com/v1alpha/projects/earthengine-legacy/value:compute?prettyPrint=false&alt=json\n",
      "INFO:TATSSI.download.gee_downloader:Exporting 120/297: 2013_03_06.tif\n",
      "INFO:googleapiclient.discovery:URL being requested: POST https://earthengine.googleapis.com/v1alpha/projects/earthengine-legacy/thumbnails?fields=name&alt=json\n"
     ]
    },
    {
     "name": "stdout",
     "output_type": "stream",
     "text": [
      "Generating URL ...\n"
     ]
    },
    {
     "name": "stderr",
     "output_type": "stream",
     "text": [
      "INFO:TATSSI.download.gee_downloader:Downloading data from https://earthengine.googleapis.com/v1alpha/projects/earthengine-legacy/thumbnails/7428ba1883fe8bcb894d70cb409187de-450457714144a2a7e1f7bcd8b5cd4ef8:getPixels\n",
      "Please wait ...\n",
      "INFO:TATSSI.download.gee_downloader:Data downloaded to /home/glopez/Projects/TATSSI/data/test_gee\n",
      "INFO:googleapiclient.discovery:URL being requested: POST https://earthengine.googleapis.com/v1alpha/projects/earthengine-legacy/value:compute?prettyPrint=false&alt=json\n",
      "INFO:TATSSI.download.gee_downloader:Exporting 121/297: 2013_03_22.tif\n",
      "INFO:googleapiclient.discovery:URL being requested: POST https://earthengine.googleapis.com/v1alpha/projects/earthengine-legacy/thumbnails?fields=name&alt=json\n"
     ]
    },
    {
     "name": "stdout",
     "output_type": "stream",
     "text": [
      "Generating URL ...\n"
     ]
    },
    {
     "name": "stderr",
     "output_type": "stream",
     "text": [
      "INFO:TATSSI.download.gee_downloader:Downloading data from https://earthengine.googleapis.com/v1alpha/projects/earthengine-legacy/thumbnails/fa46ab142bc56f7ac727b47e4998f9c7-2b7c57b0d8ead3c3cece95f68fa25f7b:getPixels\n",
      "Please wait ...\n",
      "INFO:TATSSI.download.gee_downloader:Data downloaded to /home/glopez/Projects/TATSSI/data/test_gee\n",
      "INFO:googleapiclient.discovery:URL being requested: POST https://earthengine.googleapis.com/v1alpha/projects/earthengine-legacy/value:compute?prettyPrint=false&alt=json\n",
      "INFO:TATSSI.download.gee_downloader:Exporting 122/297: 2013_04_07.tif\n",
      "INFO:googleapiclient.discovery:URL being requested: POST https://earthengine.googleapis.com/v1alpha/projects/earthengine-legacy/thumbnails?fields=name&alt=json\n"
     ]
    },
    {
     "name": "stdout",
     "output_type": "stream",
     "text": [
      "Generating URL ...\n"
     ]
    },
    {
     "name": "stderr",
     "output_type": "stream",
     "text": [
      "INFO:TATSSI.download.gee_downloader:Downloading data from https://earthengine.googleapis.com/v1alpha/projects/earthengine-legacy/thumbnails/1c17bdb44b9c0b1fc45c8dcdd09f1700-0fb67219a73ec870286d0d6ae6f9a00e:getPixels\n",
      "Please wait ...\n",
      "INFO:TATSSI.download.gee_downloader:Data downloaded to /home/glopez/Projects/TATSSI/data/test_gee\n",
      "INFO:googleapiclient.discovery:URL being requested: POST https://earthengine.googleapis.com/v1alpha/projects/earthengine-legacy/value:compute?prettyPrint=false&alt=json\n",
      "INFO:TATSSI.download.gee_downloader:Exporting 123/297: 2013_04_23.tif\n",
      "INFO:googleapiclient.discovery:URL being requested: POST https://earthengine.googleapis.com/v1alpha/projects/earthengine-legacy/thumbnails?fields=name&alt=json\n"
     ]
    },
    {
     "name": "stdout",
     "output_type": "stream",
     "text": [
      "Generating URL ...\n"
     ]
    },
    {
     "name": "stderr",
     "output_type": "stream",
     "text": [
      "INFO:TATSSI.download.gee_downloader:Downloading data from https://earthengine.googleapis.com/v1alpha/projects/earthengine-legacy/thumbnails/76aeeb691d42a196be7c7ba66b391b04-5f48bad4031117b539fc113c23c8f732:getPixels\n",
      "Please wait ...\n",
      "INFO:TATSSI.download.gee_downloader:Data downloaded to /home/glopez/Projects/TATSSI/data/test_gee\n",
      "INFO:googleapiclient.discovery:URL being requested: POST https://earthengine.googleapis.com/v1alpha/projects/earthengine-legacy/value:compute?prettyPrint=false&alt=json\n",
      "INFO:TATSSI.download.gee_downloader:Exporting 124/297: 2013_05_09.tif\n",
      "INFO:googleapiclient.discovery:URL being requested: POST https://earthengine.googleapis.com/v1alpha/projects/earthengine-legacy/thumbnails?fields=name&alt=json\n"
     ]
    },
    {
     "name": "stdout",
     "output_type": "stream",
     "text": [
      "Generating URL ...\n"
     ]
    },
    {
     "name": "stderr",
     "output_type": "stream",
     "text": [
      "INFO:TATSSI.download.gee_downloader:Downloading data from https://earthengine.googleapis.com/v1alpha/projects/earthengine-legacy/thumbnails/5407c7dff46c91ca2ad8e4c355f19b5b-d278259021887688b6df6e1308a48aff:getPixels\n",
      "Please wait ...\n",
      "INFO:TATSSI.download.gee_downloader:Data downloaded to /home/glopez/Projects/TATSSI/data/test_gee\n",
      "INFO:googleapiclient.discovery:URL being requested: POST https://earthengine.googleapis.com/v1alpha/projects/earthengine-legacy/value:compute?prettyPrint=false&alt=json\n",
      "INFO:TATSSI.download.gee_downloader:Exporting 125/297: 2013_05_25.tif\n",
      "INFO:googleapiclient.discovery:URL being requested: POST https://earthengine.googleapis.com/v1alpha/projects/earthengine-legacy/thumbnails?fields=name&alt=json\n"
     ]
    },
    {
     "name": "stdout",
     "output_type": "stream",
     "text": [
      "Generating URL ...\n"
     ]
    },
    {
     "name": "stderr",
     "output_type": "stream",
     "text": [
      "INFO:TATSSI.download.gee_downloader:Downloading data from https://earthengine.googleapis.com/v1alpha/projects/earthengine-legacy/thumbnails/b4a558b6c013196578c64571046fec2c-0068a0ccf7d7e33ad58688bf201a31bd:getPixels\n",
      "Please wait ...\n",
      "INFO:TATSSI.download.gee_downloader:Data downloaded to /home/glopez/Projects/TATSSI/data/test_gee\n",
      "INFO:googleapiclient.discovery:URL being requested: POST https://earthengine.googleapis.com/v1alpha/projects/earthengine-legacy/value:compute?prettyPrint=false&alt=json\n",
      "INFO:TATSSI.download.gee_downloader:Exporting 126/297: 2013_06_10.tif\n",
      "INFO:googleapiclient.discovery:URL being requested: POST https://earthengine.googleapis.com/v1alpha/projects/earthengine-legacy/thumbnails?fields=name&alt=json\n"
     ]
    },
    {
     "name": "stdout",
     "output_type": "stream",
     "text": [
      "Generating URL ...\n"
     ]
    },
    {
     "name": "stderr",
     "output_type": "stream",
     "text": [
      "INFO:TATSSI.download.gee_downloader:Downloading data from https://earthengine.googleapis.com/v1alpha/projects/earthengine-legacy/thumbnails/967287a257ec4affce94b6a347b6bf87-ba50153120175d9d0869009b5e7dc03d:getPixels\n",
      "Please wait ...\n",
      "INFO:TATSSI.download.gee_downloader:Data downloaded to /home/glopez/Projects/TATSSI/data/test_gee\n",
      "INFO:googleapiclient.discovery:URL being requested: POST https://earthengine.googleapis.com/v1alpha/projects/earthengine-legacy/value:compute?prettyPrint=false&alt=json\n",
      "INFO:TATSSI.download.gee_downloader:Exporting 127/297: 2013_06_26.tif\n",
      "INFO:googleapiclient.discovery:URL being requested: POST https://earthengine.googleapis.com/v1alpha/projects/earthengine-legacy/thumbnails?fields=name&alt=json\n"
     ]
    },
    {
     "name": "stdout",
     "output_type": "stream",
     "text": [
      "Generating URL ...\n"
     ]
    },
    {
     "name": "stderr",
     "output_type": "stream",
     "text": [
      "INFO:TATSSI.download.gee_downloader:Downloading data from https://earthengine.googleapis.com/v1alpha/projects/earthengine-legacy/thumbnails/1aa50ff504697129c9229924a0f755ba-c06d4ad824c853c4cb121ca3c7e4d9ea:getPixels\n",
      "Please wait ...\n",
      "INFO:TATSSI.download.gee_downloader:Data downloaded to /home/glopez/Projects/TATSSI/data/test_gee\n",
      "INFO:googleapiclient.discovery:URL being requested: POST https://earthengine.googleapis.com/v1alpha/projects/earthengine-legacy/value:compute?prettyPrint=false&alt=json\n",
      "INFO:TATSSI.download.gee_downloader:Exporting 128/297: 2013_07_12.tif\n",
      "INFO:googleapiclient.discovery:URL being requested: POST https://earthengine.googleapis.com/v1alpha/projects/earthengine-legacy/thumbnails?fields=name&alt=json\n"
     ]
    },
    {
     "name": "stdout",
     "output_type": "stream",
     "text": [
      "Generating URL ...\n"
     ]
    },
    {
     "name": "stderr",
     "output_type": "stream",
     "text": [
      "INFO:TATSSI.download.gee_downloader:Downloading data from https://earthengine.googleapis.com/v1alpha/projects/earthengine-legacy/thumbnails/cf5ee691986beb7e8b85aa4fab97acc6-23cc99ee77a5ffb8767cb1d833885d9b:getPixels\n",
      "Please wait ...\n",
      "INFO:TATSSI.download.gee_downloader:Data downloaded to /home/glopez/Projects/TATSSI/data/test_gee\n",
      "INFO:googleapiclient.discovery:URL being requested: POST https://earthengine.googleapis.com/v1alpha/projects/earthengine-legacy/value:compute?prettyPrint=false&alt=json\n",
      "INFO:TATSSI.download.gee_downloader:Exporting 129/297: 2013_07_28.tif\n",
      "INFO:googleapiclient.discovery:URL being requested: POST https://earthengine.googleapis.com/v1alpha/projects/earthengine-legacy/thumbnails?fields=name&alt=json\n"
     ]
    },
    {
     "name": "stdout",
     "output_type": "stream",
     "text": [
      "Generating URL ...\n"
     ]
    },
    {
     "name": "stderr",
     "output_type": "stream",
     "text": [
      "INFO:TATSSI.download.gee_downloader:Downloading data from https://earthengine.googleapis.com/v1alpha/projects/earthengine-legacy/thumbnails/b28029b1421ce8f16d4556614a28b9f7-b3ad4201e16218d9aa6718caba120bf5:getPixels\n",
      "Please wait ...\n",
      "INFO:TATSSI.download.gee_downloader:Data downloaded to /home/glopez/Projects/TATSSI/data/test_gee\n",
      "INFO:googleapiclient.discovery:URL being requested: POST https://earthengine.googleapis.com/v1alpha/projects/earthengine-legacy/value:compute?prettyPrint=false&alt=json\n",
      "INFO:TATSSI.download.gee_downloader:Exporting 130/297: 2013_08_13.tif\n",
      "INFO:googleapiclient.discovery:URL being requested: POST https://earthengine.googleapis.com/v1alpha/projects/earthengine-legacy/thumbnails?fields=name&alt=json\n"
     ]
    },
    {
     "name": "stdout",
     "output_type": "stream",
     "text": [
      "Generating URL ...\n"
     ]
    },
    {
     "name": "stderr",
     "output_type": "stream",
     "text": [
      "INFO:TATSSI.download.gee_downloader:Downloading data from https://earthengine.googleapis.com/v1alpha/projects/earthengine-legacy/thumbnails/a3ad65ef0fde7bb94eda92ebea971276-a8217d9158d0f07e5d8e2148979cbb15:getPixels\n",
      "Please wait ...\n",
      "INFO:TATSSI.download.gee_downloader:Data downloaded to /home/glopez/Projects/TATSSI/data/test_gee\n",
      "INFO:googleapiclient.discovery:URL being requested: POST https://earthengine.googleapis.com/v1alpha/projects/earthengine-legacy/value:compute?prettyPrint=false&alt=json\n",
      "INFO:TATSSI.download.gee_downloader:Exporting 131/297: 2013_08_29.tif\n",
      "INFO:googleapiclient.discovery:URL being requested: POST https://earthengine.googleapis.com/v1alpha/projects/earthengine-legacy/thumbnails?fields=name&alt=json\n"
     ]
    },
    {
     "name": "stdout",
     "output_type": "stream",
     "text": [
      "Generating URL ...\n"
     ]
    },
    {
     "name": "stderr",
     "output_type": "stream",
     "text": [
      "INFO:TATSSI.download.gee_downloader:Downloading data from https://earthengine.googleapis.com/v1alpha/projects/earthengine-legacy/thumbnails/bb796587da22cdca10411c34a2843175-83a2559a621999e6d7de43335271a9e2:getPixels\n",
      "Please wait ...\n",
      "INFO:TATSSI.download.gee_downloader:Data downloaded to /home/glopez/Projects/TATSSI/data/test_gee\n",
      "INFO:googleapiclient.discovery:URL being requested: POST https://earthengine.googleapis.com/v1alpha/projects/earthengine-legacy/value:compute?prettyPrint=false&alt=json\n",
      "INFO:TATSSI.download.gee_downloader:Exporting 132/297: 2013_09_14.tif\n",
      "INFO:googleapiclient.discovery:URL being requested: POST https://earthengine.googleapis.com/v1alpha/projects/earthengine-legacy/thumbnails?fields=name&alt=json\n"
     ]
    },
    {
     "name": "stdout",
     "output_type": "stream",
     "text": [
      "Generating URL ...\n"
     ]
    },
    {
     "name": "stderr",
     "output_type": "stream",
     "text": [
      "INFO:TATSSI.download.gee_downloader:Downloading data from https://earthengine.googleapis.com/v1alpha/projects/earthengine-legacy/thumbnails/01f4d9fe4d296d27067f17b9a99f4d0f-8a5d4d6496e3e3bd0d1577fd83efce41:getPixels\n",
      "Please wait ...\n",
      "INFO:TATSSI.download.gee_downloader:Data downloaded to /home/glopez/Projects/TATSSI/data/test_gee\n",
      "INFO:googleapiclient.discovery:URL being requested: POST https://earthengine.googleapis.com/v1alpha/projects/earthengine-legacy/value:compute?prettyPrint=false&alt=json\n",
      "INFO:TATSSI.download.gee_downloader:Exporting 133/297: 2013_09_30.tif\n",
      "INFO:googleapiclient.discovery:URL being requested: POST https://earthengine.googleapis.com/v1alpha/projects/earthengine-legacy/thumbnails?fields=name&alt=json\n"
     ]
    },
    {
     "name": "stdout",
     "output_type": "stream",
     "text": [
      "Generating URL ...\n"
     ]
    },
    {
     "name": "stderr",
     "output_type": "stream",
     "text": [
      "INFO:TATSSI.download.gee_downloader:Downloading data from https://earthengine.googleapis.com/v1alpha/projects/earthengine-legacy/thumbnails/5dac0ba098c2d9398942101ba8c45c7d-d30ff292f0bce94e49b3028852b2cbe7:getPixels\n",
      "Please wait ...\n",
      "INFO:TATSSI.download.gee_downloader:Data downloaded to /home/glopez/Projects/TATSSI/data/test_gee\n",
      "INFO:googleapiclient.discovery:URL being requested: POST https://earthengine.googleapis.com/v1alpha/projects/earthengine-legacy/value:compute?prettyPrint=false&alt=json\n",
      "INFO:TATSSI.download.gee_downloader:Exporting 134/297: 2013_10_16.tif\n",
      "INFO:googleapiclient.discovery:URL being requested: POST https://earthengine.googleapis.com/v1alpha/projects/earthengine-legacy/thumbnails?fields=name&alt=json\n"
     ]
    },
    {
     "name": "stdout",
     "output_type": "stream",
     "text": [
      "Generating URL ...\n"
     ]
    },
    {
     "name": "stderr",
     "output_type": "stream",
     "text": [
      "INFO:TATSSI.download.gee_downloader:Downloading data from https://earthengine.googleapis.com/v1alpha/projects/earthengine-legacy/thumbnails/bb8d52eb08b6ada54a06ca715c079599-632ac70a53fdbd0d44b4b8fd30f152b7:getPixels\n",
      "Please wait ...\n",
      "INFO:TATSSI.download.gee_downloader:Data downloaded to /home/glopez/Projects/TATSSI/data/test_gee\n",
      "INFO:googleapiclient.discovery:URL being requested: POST https://earthengine.googleapis.com/v1alpha/projects/earthengine-legacy/value:compute?prettyPrint=false&alt=json\n",
      "INFO:TATSSI.download.gee_downloader:Exporting 135/297: 2013_11_01.tif\n",
      "INFO:googleapiclient.discovery:URL being requested: POST https://earthengine.googleapis.com/v1alpha/projects/earthengine-legacy/thumbnails?fields=name&alt=json\n"
     ]
    },
    {
     "name": "stdout",
     "output_type": "stream",
     "text": [
      "Generating URL ...\n"
     ]
    },
    {
     "name": "stderr",
     "output_type": "stream",
     "text": [
      "INFO:TATSSI.download.gee_downloader:Downloading data from https://earthengine.googleapis.com/v1alpha/projects/earthengine-legacy/thumbnails/65e2953f996b97fb8fded60bdf2437b1-2924ec30a25c05dd96a431d68925e229:getPixels\n",
      "Please wait ...\n",
      "INFO:TATSSI.download.gee_downloader:Data downloaded to /home/glopez/Projects/TATSSI/data/test_gee\n",
      "INFO:googleapiclient.discovery:URL being requested: POST https://earthengine.googleapis.com/v1alpha/projects/earthengine-legacy/value:compute?prettyPrint=false&alt=json\n",
      "INFO:TATSSI.download.gee_downloader:Exporting 136/297: 2013_11_17.tif\n",
      "INFO:googleapiclient.discovery:URL being requested: POST https://earthengine.googleapis.com/v1alpha/projects/earthengine-legacy/thumbnails?fields=name&alt=json\n"
     ]
    },
    {
     "name": "stdout",
     "output_type": "stream",
     "text": [
      "Generating URL ...\n"
     ]
    },
    {
     "name": "stderr",
     "output_type": "stream",
     "text": [
      "INFO:TATSSI.download.gee_downloader:Downloading data from https://earthengine.googleapis.com/v1alpha/projects/earthengine-legacy/thumbnails/a3627ee827779ccc787de6109b9fe8ec-880c2c3ed90bdd26bd37c2cb6ef3079e:getPixels\n",
      "Please wait ...\n",
      "INFO:TATSSI.download.gee_downloader:Data downloaded to /home/glopez/Projects/TATSSI/data/test_gee\n",
      "INFO:googleapiclient.discovery:URL being requested: POST https://earthengine.googleapis.com/v1alpha/projects/earthengine-legacy/value:compute?prettyPrint=false&alt=json\n",
      "INFO:TATSSI.download.gee_downloader:Exporting 137/297: 2013_12_03.tif\n",
      "INFO:googleapiclient.discovery:URL being requested: POST https://earthengine.googleapis.com/v1alpha/projects/earthengine-legacy/thumbnails?fields=name&alt=json\n"
     ]
    },
    {
     "name": "stdout",
     "output_type": "stream",
     "text": [
      "Generating URL ...\n"
     ]
    },
    {
     "name": "stderr",
     "output_type": "stream",
     "text": [
      "INFO:TATSSI.download.gee_downloader:Downloading data from https://earthengine.googleapis.com/v1alpha/projects/earthengine-legacy/thumbnails/33d098866dea601375606e0c83367b6c-8322cdb313c5b491aa7ef057a3fd6a8f:getPixels\n",
      "Please wait ...\n",
      "INFO:TATSSI.download.gee_downloader:Data downloaded to /home/glopez/Projects/TATSSI/data/test_gee\n",
      "INFO:googleapiclient.discovery:URL being requested: POST https://earthengine.googleapis.com/v1alpha/projects/earthengine-legacy/value:compute?prettyPrint=false&alt=json\n",
      "INFO:TATSSI.download.gee_downloader:Exporting 138/297: 2013_12_19.tif\n",
      "INFO:googleapiclient.discovery:URL being requested: POST https://earthengine.googleapis.com/v1alpha/projects/earthengine-legacy/thumbnails?fields=name&alt=json\n"
     ]
    },
    {
     "name": "stdout",
     "output_type": "stream",
     "text": [
      "Generating URL ...\n"
     ]
    },
    {
     "name": "stderr",
     "output_type": "stream",
     "text": [
      "INFO:TATSSI.download.gee_downloader:Downloading data from https://earthengine.googleapis.com/v1alpha/projects/earthengine-legacy/thumbnails/b4b6cf82cff7e430a764cb36d1ea96b2-4dd12ba4d7de95fb8bc0d06668d1bef2:getPixels\n",
      "Please wait ...\n",
      "INFO:TATSSI.download.gee_downloader:Data downloaded to /home/glopez/Projects/TATSSI/data/test_gee\n",
      "INFO:googleapiclient.discovery:URL being requested: POST https://earthengine.googleapis.com/v1alpha/projects/earthengine-legacy/value:compute?prettyPrint=false&alt=json\n",
      "INFO:TATSSI.download.gee_downloader:Exporting 139/297: 2014_01_01.tif\n",
      "INFO:googleapiclient.discovery:URL being requested: POST https://earthengine.googleapis.com/v1alpha/projects/earthengine-legacy/thumbnails?fields=name&alt=json\n"
     ]
    },
    {
     "name": "stdout",
     "output_type": "stream",
     "text": [
      "Generating URL ...\n"
     ]
    },
    {
     "name": "stderr",
     "output_type": "stream",
     "text": [
      "INFO:TATSSI.download.gee_downloader:Downloading data from https://earthengine.googleapis.com/v1alpha/projects/earthengine-legacy/thumbnails/666940a2adb26a91a16d037122717efd-1640ecbf342b29f9461e599507d01cba:getPixels\n",
      "Please wait ...\n",
      "INFO:TATSSI.download.gee_downloader:Data downloaded to /home/glopez/Projects/TATSSI/data/test_gee\n",
      "INFO:googleapiclient.discovery:URL being requested: POST https://earthengine.googleapis.com/v1alpha/projects/earthengine-legacy/value:compute?prettyPrint=false&alt=json\n",
      "INFO:TATSSI.download.gee_downloader:Exporting 140/297: 2014_01_17.tif\n",
      "INFO:googleapiclient.discovery:URL being requested: POST https://earthengine.googleapis.com/v1alpha/projects/earthengine-legacy/thumbnails?fields=name&alt=json\n"
     ]
    },
    {
     "name": "stdout",
     "output_type": "stream",
     "text": [
      "Generating URL ...\n"
     ]
    },
    {
     "name": "stderr",
     "output_type": "stream",
     "text": [
      "INFO:TATSSI.download.gee_downloader:Downloading data from https://earthengine.googleapis.com/v1alpha/projects/earthengine-legacy/thumbnails/af8e2cb44e9fae2e76afbdbf02ff9faa-b8ba5a3b52bb54b346bf2836714331f1:getPixels\n",
      "Please wait ...\n",
      "INFO:TATSSI.download.gee_downloader:Data downloaded to /home/glopez/Projects/TATSSI/data/test_gee\n",
      "INFO:googleapiclient.discovery:URL being requested: POST https://earthengine.googleapis.com/v1alpha/projects/earthengine-legacy/value:compute?prettyPrint=false&alt=json\n",
      "INFO:TATSSI.download.gee_downloader:Exporting 141/297: 2014_02_02.tif\n",
      "INFO:googleapiclient.discovery:URL being requested: POST https://earthengine.googleapis.com/v1alpha/projects/earthengine-legacy/thumbnails?fields=name&alt=json\n"
     ]
    },
    {
     "name": "stdout",
     "output_type": "stream",
     "text": [
      "Generating URL ...\n"
     ]
    },
    {
     "name": "stderr",
     "output_type": "stream",
     "text": [
      "INFO:TATSSI.download.gee_downloader:Downloading data from https://earthengine.googleapis.com/v1alpha/projects/earthengine-legacy/thumbnails/dd02c1f66418e7e0fe386d445c93664e-0f630ebe506c72d5ff645940123beb40:getPixels\n",
      "Please wait ...\n",
      "INFO:TATSSI.download.gee_downloader:Data downloaded to /home/glopez/Projects/TATSSI/data/test_gee\n",
      "INFO:googleapiclient.discovery:URL being requested: POST https://earthengine.googleapis.com/v1alpha/projects/earthengine-legacy/value:compute?prettyPrint=false&alt=json\n",
      "INFO:TATSSI.download.gee_downloader:Exporting 142/297: 2014_02_18.tif\n",
      "INFO:googleapiclient.discovery:URL being requested: POST https://earthengine.googleapis.com/v1alpha/projects/earthengine-legacy/thumbnails?fields=name&alt=json\n"
     ]
    },
    {
     "name": "stdout",
     "output_type": "stream",
     "text": [
      "Generating URL ...\n"
     ]
    },
    {
     "name": "stderr",
     "output_type": "stream",
     "text": [
      "INFO:TATSSI.download.gee_downloader:Downloading data from https://earthengine.googleapis.com/v1alpha/projects/earthengine-legacy/thumbnails/987647eccbf938a642df0d6df14a2229-3803ad58408a30b37f4f89e77cf5c7af:getPixels\n",
      "Please wait ...\n",
      "INFO:TATSSI.download.gee_downloader:Data downloaded to /home/glopez/Projects/TATSSI/data/test_gee\n",
      "INFO:googleapiclient.discovery:URL being requested: POST https://earthengine.googleapis.com/v1alpha/projects/earthengine-legacy/value:compute?prettyPrint=false&alt=json\n",
      "INFO:TATSSI.download.gee_downloader:Exporting 143/297: 2014_03_06.tif\n",
      "INFO:googleapiclient.discovery:URL being requested: POST https://earthengine.googleapis.com/v1alpha/projects/earthengine-legacy/thumbnails?fields=name&alt=json\n"
     ]
    },
    {
     "name": "stdout",
     "output_type": "stream",
     "text": [
      "Generating URL ...\n"
     ]
    },
    {
     "name": "stderr",
     "output_type": "stream",
     "text": [
      "INFO:TATSSI.download.gee_downloader:Downloading data from https://earthengine.googleapis.com/v1alpha/projects/earthengine-legacy/thumbnails/25bd3e2c6483949a66a58bb722870a91-fd7f63c72bf9c92dc1977d5046e06073:getPixels\n",
      "Please wait ...\n",
      "INFO:TATSSI.download.gee_downloader:Data downloaded to /home/glopez/Projects/TATSSI/data/test_gee\n",
      "INFO:googleapiclient.discovery:URL being requested: POST https://earthengine.googleapis.com/v1alpha/projects/earthengine-legacy/value:compute?prettyPrint=false&alt=json\n",
      "INFO:TATSSI.download.gee_downloader:Exporting 144/297: 2014_03_22.tif\n",
      "INFO:googleapiclient.discovery:URL being requested: POST https://earthengine.googleapis.com/v1alpha/projects/earthengine-legacy/thumbnails?fields=name&alt=json\n"
     ]
    },
    {
     "name": "stdout",
     "output_type": "stream",
     "text": [
      "Generating URL ...\n"
     ]
    },
    {
     "name": "stderr",
     "output_type": "stream",
     "text": [
      "INFO:TATSSI.download.gee_downloader:Downloading data from https://earthengine.googleapis.com/v1alpha/projects/earthengine-legacy/thumbnails/bfe5da1cbf593ea84b5b4e3c12d84621-7ffd10ae54c0ce47e1cb766909074c80:getPixels\n",
      "Please wait ...\n",
      "INFO:TATSSI.download.gee_downloader:Data downloaded to /home/glopez/Projects/TATSSI/data/test_gee\n",
      "INFO:googleapiclient.discovery:URL being requested: POST https://earthengine.googleapis.com/v1alpha/projects/earthengine-legacy/value:compute?prettyPrint=false&alt=json\n",
      "INFO:TATSSI.download.gee_downloader:Exporting 145/297: 2014_04_07.tif\n",
      "INFO:googleapiclient.discovery:URL being requested: POST https://earthengine.googleapis.com/v1alpha/projects/earthengine-legacy/thumbnails?fields=name&alt=json\n"
     ]
    },
    {
     "name": "stdout",
     "output_type": "stream",
     "text": [
      "Generating URL ...\n"
     ]
    },
    {
     "name": "stderr",
     "output_type": "stream",
     "text": [
      "INFO:TATSSI.download.gee_downloader:Downloading data from https://earthengine.googleapis.com/v1alpha/projects/earthengine-legacy/thumbnails/5f7cfd400a73feefad0c5fc705e55755-192fdd4825ef7cb6a24d30a49d22e4d0:getPixels\n",
      "Please wait ...\n",
      "INFO:TATSSI.download.gee_downloader:Data downloaded to /home/glopez/Projects/TATSSI/data/test_gee\n",
      "INFO:googleapiclient.discovery:URL being requested: POST https://earthengine.googleapis.com/v1alpha/projects/earthengine-legacy/value:compute?prettyPrint=false&alt=json\n",
      "INFO:TATSSI.download.gee_downloader:Exporting 146/297: 2014_04_23.tif\n",
      "INFO:googleapiclient.discovery:URL being requested: POST https://earthengine.googleapis.com/v1alpha/projects/earthengine-legacy/thumbnails?fields=name&alt=json\n"
     ]
    },
    {
     "name": "stdout",
     "output_type": "stream",
     "text": [
      "Generating URL ...\n"
     ]
    },
    {
     "name": "stderr",
     "output_type": "stream",
     "text": [
      "INFO:TATSSI.download.gee_downloader:Downloading data from https://earthengine.googleapis.com/v1alpha/projects/earthengine-legacy/thumbnails/d966e3d9d5c3450ee5b9d5c6834fb80c-dd2c6e5efe20cfa7075460ccf9198b22:getPixels\n",
      "Please wait ...\n",
      "INFO:TATSSI.download.gee_downloader:Data downloaded to /home/glopez/Projects/TATSSI/data/test_gee\n",
      "INFO:googleapiclient.discovery:URL being requested: POST https://earthengine.googleapis.com/v1alpha/projects/earthengine-legacy/value:compute?prettyPrint=false&alt=json\n",
      "INFO:TATSSI.download.gee_downloader:Exporting 147/297: 2014_05_09.tif\n",
      "INFO:googleapiclient.discovery:URL being requested: POST https://earthengine.googleapis.com/v1alpha/projects/earthengine-legacy/thumbnails?fields=name&alt=json\n"
     ]
    },
    {
     "name": "stdout",
     "output_type": "stream",
     "text": [
      "Generating URL ...\n"
     ]
    },
    {
     "name": "stderr",
     "output_type": "stream",
     "text": [
      "INFO:TATSSI.download.gee_downloader:Downloading data from https://earthengine.googleapis.com/v1alpha/projects/earthengine-legacy/thumbnails/25adf4fd7f92d17727affcf3625484f5-8fc34cc68de78705723ae0c6d83bd4e3:getPixels\n",
      "Please wait ...\n",
      "INFO:TATSSI.download.gee_downloader:Data downloaded to /home/glopez/Projects/TATSSI/data/test_gee\n",
      "INFO:googleapiclient.discovery:URL being requested: POST https://earthengine.googleapis.com/v1alpha/projects/earthengine-legacy/value:compute?prettyPrint=false&alt=json\n",
      "INFO:TATSSI.download.gee_downloader:Exporting 148/297: 2014_05_25.tif\n",
      "INFO:googleapiclient.discovery:URL being requested: POST https://earthengine.googleapis.com/v1alpha/projects/earthengine-legacy/thumbnails?fields=name&alt=json\n"
     ]
    },
    {
     "name": "stdout",
     "output_type": "stream",
     "text": [
      "Generating URL ...\n"
     ]
    },
    {
     "name": "stderr",
     "output_type": "stream",
     "text": [
      "INFO:TATSSI.download.gee_downloader:Downloading data from https://earthengine.googleapis.com/v1alpha/projects/earthengine-legacy/thumbnails/6a07cb7b73c311a7f0f60305bd2258db-8180dc07606aa275e949e83f0c58fc9e:getPixels\n",
      "Please wait ...\n",
      "INFO:TATSSI.download.gee_downloader:Data downloaded to /home/glopez/Projects/TATSSI/data/test_gee\n",
      "INFO:googleapiclient.discovery:URL being requested: POST https://earthengine.googleapis.com/v1alpha/projects/earthengine-legacy/value:compute?prettyPrint=false&alt=json\n",
      "INFO:TATSSI.download.gee_downloader:Exporting 149/297: 2014_06_10.tif\n",
      "INFO:googleapiclient.discovery:URL being requested: POST https://earthengine.googleapis.com/v1alpha/projects/earthengine-legacy/thumbnails?fields=name&alt=json\n"
     ]
    },
    {
     "name": "stdout",
     "output_type": "stream",
     "text": [
      "Generating URL ...\n"
     ]
    },
    {
     "name": "stderr",
     "output_type": "stream",
     "text": [
      "INFO:TATSSI.download.gee_downloader:Downloading data from https://earthengine.googleapis.com/v1alpha/projects/earthengine-legacy/thumbnails/30a232b755b5bbf9f4eb911e79b428fb-710f1ef8e8c832d9f76f4af666d79986:getPixels\n",
      "Please wait ...\n",
      "INFO:TATSSI.download.gee_downloader:Data downloaded to /home/glopez/Projects/TATSSI/data/test_gee\n",
      "INFO:googleapiclient.discovery:URL being requested: POST https://earthengine.googleapis.com/v1alpha/projects/earthengine-legacy/value:compute?prettyPrint=false&alt=json\n",
      "INFO:TATSSI.download.gee_downloader:Exporting 150/297: 2014_06_26.tif\n",
      "INFO:googleapiclient.discovery:URL being requested: POST https://earthengine.googleapis.com/v1alpha/projects/earthengine-legacy/thumbnails?fields=name&alt=json\n"
     ]
    },
    {
     "name": "stdout",
     "output_type": "stream",
     "text": [
      "Generating URL ...\n"
     ]
    },
    {
     "name": "stderr",
     "output_type": "stream",
     "text": [
      "INFO:TATSSI.download.gee_downloader:Downloading data from https://earthengine.googleapis.com/v1alpha/projects/earthengine-legacy/thumbnails/5dd50ef30520b519db38e1c1a3595838-f0d48b00e55bda8c35ce5153a107a09b:getPixels\n",
      "Please wait ...\n",
      "INFO:TATSSI.download.gee_downloader:Data downloaded to /home/glopez/Projects/TATSSI/data/test_gee\n",
      "INFO:googleapiclient.discovery:URL being requested: POST https://earthengine.googleapis.com/v1alpha/projects/earthengine-legacy/value:compute?prettyPrint=false&alt=json\n",
      "INFO:TATSSI.download.gee_downloader:Exporting 151/297: 2014_07_12.tif\n",
      "INFO:googleapiclient.discovery:URL being requested: POST https://earthengine.googleapis.com/v1alpha/projects/earthengine-legacy/thumbnails?fields=name&alt=json\n"
     ]
    },
    {
     "name": "stdout",
     "output_type": "stream",
     "text": [
      "Generating URL ...\n"
     ]
    },
    {
     "name": "stderr",
     "output_type": "stream",
     "text": [
      "INFO:TATSSI.download.gee_downloader:Downloading data from https://earthengine.googleapis.com/v1alpha/projects/earthengine-legacy/thumbnails/babcc4afcc0a757a1dc859756d6644ca-f392cb7b84341e3f712dc64b2b72e3f5:getPixels\n",
      "Please wait ...\n",
      "INFO:TATSSI.download.gee_downloader:Data downloaded to /home/glopez/Projects/TATSSI/data/test_gee\n",
      "INFO:googleapiclient.discovery:URL being requested: POST https://earthengine.googleapis.com/v1alpha/projects/earthengine-legacy/value:compute?prettyPrint=false&alt=json\n",
      "INFO:TATSSI.download.gee_downloader:Exporting 152/297: 2014_07_28.tif\n",
      "INFO:googleapiclient.discovery:URL being requested: POST https://earthengine.googleapis.com/v1alpha/projects/earthengine-legacy/thumbnails?fields=name&alt=json\n"
     ]
    },
    {
     "name": "stdout",
     "output_type": "stream",
     "text": [
      "Generating URL ...\n"
     ]
    },
    {
     "name": "stderr",
     "output_type": "stream",
     "text": [
      "INFO:TATSSI.download.gee_downloader:Downloading data from https://earthengine.googleapis.com/v1alpha/projects/earthengine-legacy/thumbnails/6d5b2a7adc4e04de5cbc0bcef37903cb-6487f4f4e297c9214d83b082e3f7e816:getPixels\n",
      "Please wait ...\n",
      "INFO:TATSSI.download.gee_downloader:Data downloaded to /home/glopez/Projects/TATSSI/data/test_gee\n",
      "INFO:googleapiclient.discovery:URL being requested: POST https://earthengine.googleapis.com/v1alpha/projects/earthengine-legacy/value:compute?prettyPrint=false&alt=json\n",
      "INFO:TATSSI.download.gee_downloader:Exporting 153/297: 2014_08_13.tif\n",
      "INFO:googleapiclient.discovery:URL being requested: POST https://earthengine.googleapis.com/v1alpha/projects/earthengine-legacy/thumbnails?fields=name&alt=json\n"
     ]
    },
    {
     "name": "stdout",
     "output_type": "stream",
     "text": [
      "Generating URL ...\n"
     ]
    },
    {
     "name": "stderr",
     "output_type": "stream",
     "text": [
      "INFO:TATSSI.download.gee_downloader:Downloading data from https://earthengine.googleapis.com/v1alpha/projects/earthengine-legacy/thumbnails/0549ee064205ad33ba102343c3dbe481-ea8d6ea0a5de8d306f653e2ebdc36be0:getPixels\n",
      "Please wait ...\n",
      "INFO:TATSSI.download.gee_downloader:Data downloaded to /home/glopez/Projects/TATSSI/data/test_gee\n",
      "INFO:googleapiclient.discovery:URL being requested: POST https://earthengine.googleapis.com/v1alpha/projects/earthengine-legacy/value:compute?prettyPrint=false&alt=json\n",
      "INFO:TATSSI.download.gee_downloader:Exporting 154/297: 2014_08_29.tif\n",
      "INFO:googleapiclient.discovery:URL being requested: POST https://earthengine.googleapis.com/v1alpha/projects/earthengine-legacy/thumbnails?fields=name&alt=json\n"
     ]
    },
    {
     "name": "stdout",
     "output_type": "stream",
     "text": [
      "Generating URL ...\n"
     ]
    },
    {
     "name": "stderr",
     "output_type": "stream",
     "text": [
      "INFO:TATSSI.download.gee_downloader:Downloading data from https://earthengine.googleapis.com/v1alpha/projects/earthengine-legacy/thumbnails/3b879dc8980acd47c98bdf804fb76df5-2bc9d54ea723f6b6fbe2ef69a9f29cde:getPixels\n",
      "Please wait ...\n",
      "INFO:TATSSI.download.gee_downloader:Data downloaded to /home/glopez/Projects/TATSSI/data/test_gee\n",
      "INFO:googleapiclient.discovery:URL being requested: POST https://earthengine.googleapis.com/v1alpha/projects/earthengine-legacy/value:compute?prettyPrint=false&alt=json\n",
      "INFO:TATSSI.download.gee_downloader:Exporting 155/297: 2014_09_14.tif\n",
      "INFO:googleapiclient.discovery:URL being requested: POST https://earthengine.googleapis.com/v1alpha/projects/earthengine-legacy/thumbnails?fields=name&alt=json\n"
     ]
    },
    {
     "name": "stdout",
     "output_type": "stream",
     "text": [
      "Generating URL ...\n"
     ]
    },
    {
     "name": "stderr",
     "output_type": "stream",
     "text": [
      "INFO:TATSSI.download.gee_downloader:Downloading data from https://earthengine.googleapis.com/v1alpha/projects/earthengine-legacy/thumbnails/7c06b31eb6e4bcf6a1c5acb8f2e3f1a0-7ecaa34915b7429e364ba0bb26a93c50:getPixels\n",
      "Please wait ...\n",
      "INFO:TATSSI.download.gee_downloader:Data downloaded to /home/glopez/Projects/TATSSI/data/test_gee\n",
      "INFO:googleapiclient.discovery:URL being requested: POST https://earthengine.googleapis.com/v1alpha/projects/earthengine-legacy/value:compute?prettyPrint=false&alt=json\n",
      "INFO:TATSSI.download.gee_downloader:Exporting 156/297: 2014_09_30.tif\n",
      "INFO:googleapiclient.discovery:URL being requested: POST https://earthengine.googleapis.com/v1alpha/projects/earthengine-legacy/thumbnails?fields=name&alt=json\n"
     ]
    },
    {
     "name": "stdout",
     "output_type": "stream",
     "text": [
      "Generating URL ...\n"
     ]
    },
    {
     "name": "stderr",
     "output_type": "stream",
     "text": [
      "INFO:TATSSI.download.gee_downloader:Downloading data from https://earthengine.googleapis.com/v1alpha/projects/earthengine-legacy/thumbnails/eef762051eed8b804f98708f561c33d2-be5ed864a8d89845e3ac19da8cd7b7a2:getPixels\n",
      "Please wait ...\n",
      "INFO:TATSSI.download.gee_downloader:Data downloaded to /home/glopez/Projects/TATSSI/data/test_gee\n",
      "INFO:googleapiclient.discovery:URL being requested: POST https://earthengine.googleapis.com/v1alpha/projects/earthengine-legacy/value:compute?prettyPrint=false&alt=json\n",
      "INFO:TATSSI.download.gee_downloader:Exporting 157/297: 2014_10_16.tif\n",
      "INFO:googleapiclient.discovery:URL being requested: POST https://earthengine.googleapis.com/v1alpha/projects/earthengine-legacy/thumbnails?fields=name&alt=json\n"
     ]
    },
    {
     "name": "stdout",
     "output_type": "stream",
     "text": [
      "Generating URL ...\n"
     ]
    },
    {
     "name": "stderr",
     "output_type": "stream",
     "text": [
      "INFO:TATSSI.download.gee_downloader:Downloading data from https://earthengine.googleapis.com/v1alpha/projects/earthengine-legacy/thumbnails/5a42211bd82927da3032d16d47476a16-68b6f8823faba28e88bae48e969e59c9:getPixels\n",
      "Please wait ...\n",
      "INFO:TATSSI.download.gee_downloader:Data downloaded to /home/glopez/Projects/TATSSI/data/test_gee\n",
      "INFO:googleapiclient.discovery:URL being requested: POST https://earthengine.googleapis.com/v1alpha/projects/earthengine-legacy/value:compute?prettyPrint=false&alt=json\n",
      "INFO:TATSSI.download.gee_downloader:Exporting 158/297: 2014_11_01.tif\n",
      "INFO:googleapiclient.discovery:URL being requested: POST https://earthengine.googleapis.com/v1alpha/projects/earthengine-legacy/thumbnails?fields=name&alt=json\n"
     ]
    },
    {
     "name": "stdout",
     "output_type": "stream",
     "text": [
      "Generating URL ...\n"
     ]
    },
    {
     "name": "stderr",
     "output_type": "stream",
     "text": [
      "INFO:TATSSI.download.gee_downloader:Downloading data from https://earthengine.googleapis.com/v1alpha/projects/earthengine-legacy/thumbnails/4cf6c43a88ee11a73be6e098a5821182-93fb498e2427af9ffdf718b16dee8246:getPixels\n",
      "Please wait ...\n",
      "INFO:TATSSI.download.gee_downloader:Data downloaded to /home/glopez/Projects/TATSSI/data/test_gee\n",
      "INFO:googleapiclient.discovery:URL being requested: POST https://earthengine.googleapis.com/v1alpha/projects/earthengine-legacy/value:compute?prettyPrint=false&alt=json\n",
      "INFO:TATSSI.download.gee_downloader:Exporting 159/297: 2014_11_17.tif\n",
      "INFO:googleapiclient.discovery:URL being requested: POST https://earthengine.googleapis.com/v1alpha/projects/earthengine-legacy/thumbnails?fields=name&alt=json\n"
     ]
    },
    {
     "name": "stdout",
     "output_type": "stream",
     "text": [
      "Generating URL ...\n"
     ]
    },
    {
     "name": "stderr",
     "output_type": "stream",
     "text": [
      "INFO:TATSSI.download.gee_downloader:Downloading data from https://earthengine.googleapis.com/v1alpha/projects/earthengine-legacy/thumbnails/903e01117bc6f55553c51bf47a85029d-ca0ecd826aba5b65499e0691e2f9a76a:getPixels\n",
      "Please wait ...\n",
      "INFO:TATSSI.download.gee_downloader:Data downloaded to /home/glopez/Projects/TATSSI/data/test_gee\n",
      "INFO:googleapiclient.discovery:URL being requested: POST https://earthengine.googleapis.com/v1alpha/projects/earthengine-legacy/value:compute?prettyPrint=false&alt=json\n",
      "INFO:TATSSI.download.gee_downloader:Exporting 160/297: 2014_12_03.tif\n",
      "INFO:googleapiclient.discovery:URL being requested: POST https://earthengine.googleapis.com/v1alpha/projects/earthengine-legacy/thumbnails?fields=name&alt=json\n"
     ]
    },
    {
     "name": "stdout",
     "output_type": "stream",
     "text": [
      "Generating URL ...\n"
     ]
    },
    {
     "name": "stderr",
     "output_type": "stream",
     "text": [
      "INFO:TATSSI.download.gee_downloader:Downloading data from https://earthengine.googleapis.com/v1alpha/projects/earthengine-legacy/thumbnails/4b2d6eb97648d29b41bee9e3cf79ad5c-fb8c3672f962860242de42ba6aaf9c5f:getPixels\n",
      "Please wait ...\n",
      "INFO:TATSSI.download.gee_downloader:Data downloaded to /home/glopez/Projects/TATSSI/data/test_gee\n",
      "INFO:googleapiclient.discovery:URL being requested: POST https://earthengine.googleapis.com/v1alpha/projects/earthengine-legacy/value:compute?prettyPrint=false&alt=json\n",
      "INFO:TATSSI.download.gee_downloader:Exporting 161/297: 2014_12_19.tif\n",
      "INFO:googleapiclient.discovery:URL being requested: POST https://earthengine.googleapis.com/v1alpha/projects/earthengine-legacy/thumbnails?fields=name&alt=json\n"
     ]
    },
    {
     "name": "stdout",
     "output_type": "stream",
     "text": [
      "Generating URL ...\n"
     ]
    },
    {
     "name": "stderr",
     "output_type": "stream",
     "text": [
      "INFO:TATSSI.download.gee_downloader:Downloading data from https://earthengine.googleapis.com/v1alpha/projects/earthengine-legacy/thumbnails/11bd34bda7459388ce44af8f19ff43c8-ba5321a9de338b6a5ac3c2fdabc5040c:getPixels\n",
      "Please wait ...\n",
      "INFO:TATSSI.download.gee_downloader:Data downloaded to /home/glopez/Projects/TATSSI/data/test_gee\n",
      "INFO:googleapiclient.discovery:URL being requested: POST https://earthengine.googleapis.com/v1alpha/projects/earthengine-legacy/value:compute?prettyPrint=false&alt=json\n",
      "INFO:TATSSI.download.gee_downloader:Exporting 162/297: 2015_01_01.tif\n",
      "INFO:googleapiclient.discovery:URL being requested: POST https://earthengine.googleapis.com/v1alpha/projects/earthengine-legacy/thumbnails?fields=name&alt=json\n"
     ]
    },
    {
     "name": "stdout",
     "output_type": "stream",
     "text": [
      "Generating URL ...\n"
     ]
    },
    {
     "name": "stderr",
     "output_type": "stream",
     "text": [
      "INFO:TATSSI.download.gee_downloader:Downloading data from https://earthengine.googleapis.com/v1alpha/projects/earthengine-legacy/thumbnails/fddc1687f3d6192865f95a851df9e384-97f6a2603bd246ec3301a0f89fb8ef76:getPixels\n",
      "Please wait ...\n",
      "INFO:TATSSI.download.gee_downloader:Data downloaded to /home/glopez/Projects/TATSSI/data/test_gee\n",
      "INFO:googleapiclient.discovery:URL being requested: POST https://earthengine.googleapis.com/v1alpha/projects/earthengine-legacy/value:compute?prettyPrint=false&alt=json\n",
      "INFO:TATSSI.download.gee_downloader:Exporting 163/297: 2015_01_17.tif\n",
      "INFO:googleapiclient.discovery:URL being requested: POST https://earthengine.googleapis.com/v1alpha/projects/earthengine-legacy/thumbnails?fields=name&alt=json\n"
     ]
    },
    {
     "name": "stdout",
     "output_type": "stream",
     "text": [
      "Generating URL ...\n"
     ]
    },
    {
     "name": "stderr",
     "output_type": "stream",
     "text": [
      "INFO:TATSSI.download.gee_downloader:Downloading data from https://earthengine.googleapis.com/v1alpha/projects/earthengine-legacy/thumbnails/680eb53412f4cfad8d67cf1e25601c21-a68277ea43fff345170b4d773b00dcdd:getPixels\n",
      "Please wait ...\n",
      "INFO:TATSSI.download.gee_downloader:Data downloaded to /home/glopez/Projects/TATSSI/data/test_gee\n",
      "INFO:googleapiclient.discovery:URL being requested: POST https://earthengine.googleapis.com/v1alpha/projects/earthengine-legacy/value:compute?prettyPrint=false&alt=json\n",
      "INFO:TATSSI.download.gee_downloader:Exporting 164/297: 2015_02_02.tif\n",
      "INFO:googleapiclient.discovery:URL being requested: POST https://earthengine.googleapis.com/v1alpha/projects/earthengine-legacy/thumbnails?fields=name&alt=json\n"
     ]
    },
    {
     "name": "stdout",
     "output_type": "stream",
     "text": [
      "Generating URL ...\n"
     ]
    },
    {
     "name": "stderr",
     "output_type": "stream",
     "text": [
      "INFO:TATSSI.download.gee_downloader:Downloading data from https://earthengine.googleapis.com/v1alpha/projects/earthengine-legacy/thumbnails/2d93821d72dac7a9179a6d8078ff3fad-ec7713c7a0be8e44bc7165de64dd3f00:getPixels\n",
      "Please wait ...\n",
      "INFO:TATSSI.download.gee_downloader:Data downloaded to /home/glopez/Projects/TATSSI/data/test_gee\n",
      "INFO:googleapiclient.discovery:URL being requested: POST https://earthengine.googleapis.com/v1alpha/projects/earthengine-legacy/value:compute?prettyPrint=false&alt=json\n",
      "INFO:TATSSI.download.gee_downloader:Exporting 165/297: 2015_02_18.tif\n",
      "INFO:googleapiclient.discovery:URL being requested: POST https://earthengine.googleapis.com/v1alpha/projects/earthengine-legacy/thumbnails?fields=name&alt=json\n"
     ]
    },
    {
     "name": "stdout",
     "output_type": "stream",
     "text": [
      "Generating URL ...\n"
     ]
    },
    {
     "name": "stderr",
     "output_type": "stream",
     "text": [
      "INFO:TATSSI.download.gee_downloader:Downloading data from https://earthengine.googleapis.com/v1alpha/projects/earthengine-legacy/thumbnails/bb62936a324839eb568232f3cf59aacb-ed5f926a2b766c3380768dc305fe7d83:getPixels\n",
      "Please wait ...\n",
      "INFO:TATSSI.download.gee_downloader:Data downloaded to /home/glopez/Projects/TATSSI/data/test_gee\n",
      "INFO:googleapiclient.discovery:URL being requested: POST https://earthengine.googleapis.com/v1alpha/projects/earthengine-legacy/value:compute?prettyPrint=false&alt=json\n",
      "INFO:TATSSI.download.gee_downloader:Exporting 166/297: 2015_03_06.tif\n",
      "INFO:googleapiclient.discovery:URL being requested: POST https://earthengine.googleapis.com/v1alpha/projects/earthengine-legacy/thumbnails?fields=name&alt=json\n"
     ]
    },
    {
     "name": "stdout",
     "output_type": "stream",
     "text": [
      "Generating URL ...\n"
     ]
    },
    {
     "name": "stderr",
     "output_type": "stream",
     "text": [
      "INFO:TATSSI.download.gee_downloader:Downloading data from https://earthengine.googleapis.com/v1alpha/projects/earthengine-legacy/thumbnails/db0eeacf7607bbd720ed18591cc51a84-55163c718913dbb276cfd1c74b9e4ce9:getPixels\n",
      "Please wait ...\n",
      "INFO:TATSSI.download.gee_downloader:Data downloaded to /home/glopez/Projects/TATSSI/data/test_gee\n",
      "INFO:googleapiclient.discovery:URL being requested: POST https://earthengine.googleapis.com/v1alpha/projects/earthengine-legacy/value:compute?prettyPrint=false&alt=json\n",
      "INFO:TATSSI.download.gee_downloader:Exporting 167/297: 2015_03_22.tif\n",
      "INFO:googleapiclient.discovery:URL being requested: POST https://earthengine.googleapis.com/v1alpha/projects/earthengine-legacy/thumbnails?fields=name&alt=json\n"
     ]
    },
    {
     "name": "stdout",
     "output_type": "stream",
     "text": [
      "Generating URL ...\n"
     ]
    },
    {
     "name": "stderr",
     "output_type": "stream",
     "text": [
      "INFO:TATSSI.download.gee_downloader:Downloading data from https://earthengine.googleapis.com/v1alpha/projects/earthengine-legacy/thumbnails/f747f56df1228a29d80bb57a4d7072f4-95a30eda1dd7705b9c5f54856d1398fb:getPixels\n",
      "Please wait ...\n",
      "INFO:TATSSI.download.gee_downloader:Data downloaded to /home/glopez/Projects/TATSSI/data/test_gee\n",
      "INFO:googleapiclient.discovery:URL being requested: POST https://earthengine.googleapis.com/v1alpha/projects/earthengine-legacy/value:compute?prettyPrint=false&alt=json\n",
      "INFO:TATSSI.download.gee_downloader:Exporting 168/297: 2015_04_07.tif\n",
      "INFO:googleapiclient.discovery:URL being requested: POST https://earthengine.googleapis.com/v1alpha/projects/earthengine-legacy/thumbnails?fields=name&alt=json\n"
     ]
    },
    {
     "name": "stdout",
     "output_type": "stream",
     "text": [
      "Generating URL ...\n"
     ]
    },
    {
     "name": "stderr",
     "output_type": "stream",
     "text": [
      "INFO:TATSSI.download.gee_downloader:Downloading data from https://earthengine.googleapis.com/v1alpha/projects/earthengine-legacy/thumbnails/c278dc227fdef59db222d534ffbd627e-a3b19b96264902d1f69ef2c8abbe55a9:getPixels\n",
      "Please wait ...\n",
      "INFO:TATSSI.download.gee_downloader:Data downloaded to /home/glopez/Projects/TATSSI/data/test_gee\n",
      "INFO:googleapiclient.discovery:URL being requested: POST https://earthengine.googleapis.com/v1alpha/projects/earthengine-legacy/value:compute?prettyPrint=false&alt=json\n",
      "INFO:TATSSI.download.gee_downloader:Exporting 169/297: 2015_04_23.tif\n",
      "INFO:googleapiclient.discovery:URL being requested: POST https://earthengine.googleapis.com/v1alpha/projects/earthengine-legacy/thumbnails?fields=name&alt=json\n"
     ]
    },
    {
     "name": "stdout",
     "output_type": "stream",
     "text": [
      "Generating URL ...\n"
     ]
    },
    {
     "name": "stderr",
     "output_type": "stream",
     "text": [
      "INFO:TATSSI.download.gee_downloader:Downloading data from https://earthengine.googleapis.com/v1alpha/projects/earthengine-legacy/thumbnails/4ad268c708e683ee04bbdbdcda6ddd81-449aeca164389fe4b4a560867ca25a96:getPixels\n",
      "Please wait ...\n",
      "INFO:TATSSI.download.gee_downloader:Data downloaded to /home/glopez/Projects/TATSSI/data/test_gee\n",
      "INFO:googleapiclient.discovery:URL being requested: POST https://earthengine.googleapis.com/v1alpha/projects/earthengine-legacy/value:compute?prettyPrint=false&alt=json\n",
      "INFO:TATSSI.download.gee_downloader:Exporting 170/297: 2015_05_09.tif\n",
      "INFO:googleapiclient.discovery:URL being requested: POST https://earthengine.googleapis.com/v1alpha/projects/earthengine-legacy/thumbnails?fields=name&alt=json\n"
     ]
    },
    {
     "name": "stdout",
     "output_type": "stream",
     "text": [
      "Generating URL ...\n"
     ]
    },
    {
     "name": "stderr",
     "output_type": "stream",
     "text": [
      "INFO:TATSSI.download.gee_downloader:Downloading data from https://earthengine.googleapis.com/v1alpha/projects/earthengine-legacy/thumbnails/ca7200b0a54b4ec8e9c242df939358d5-a6e31acf546900a359f13b68ba0f2440:getPixels\n",
      "Please wait ...\n",
      "INFO:TATSSI.download.gee_downloader:Data downloaded to /home/glopez/Projects/TATSSI/data/test_gee\n",
      "INFO:googleapiclient.discovery:URL being requested: POST https://earthengine.googleapis.com/v1alpha/projects/earthengine-legacy/value:compute?prettyPrint=false&alt=json\n",
      "INFO:TATSSI.download.gee_downloader:Exporting 171/297: 2015_05_25.tif\n",
      "INFO:googleapiclient.discovery:URL being requested: POST https://earthengine.googleapis.com/v1alpha/projects/earthengine-legacy/thumbnails?fields=name&alt=json\n"
     ]
    },
    {
     "name": "stdout",
     "output_type": "stream",
     "text": [
      "Generating URL ...\n"
     ]
    },
    {
     "name": "stderr",
     "output_type": "stream",
     "text": [
      "INFO:TATSSI.download.gee_downloader:Downloading data from https://earthengine.googleapis.com/v1alpha/projects/earthengine-legacy/thumbnails/45130e00cdbcc81c67460276ae14060c-fafaa34fb5f2c0a86799eb132923f9e0:getPixels\n",
      "Please wait ...\n",
      "INFO:TATSSI.download.gee_downloader:Data downloaded to /home/glopez/Projects/TATSSI/data/test_gee\n",
      "INFO:googleapiclient.discovery:URL being requested: POST https://earthengine.googleapis.com/v1alpha/projects/earthengine-legacy/value:compute?prettyPrint=false&alt=json\n",
      "INFO:TATSSI.download.gee_downloader:Exporting 172/297: 2015_06_10.tif\n",
      "INFO:googleapiclient.discovery:URL being requested: POST https://earthengine.googleapis.com/v1alpha/projects/earthengine-legacy/thumbnails?fields=name&alt=json\n"
     ]
    },
    {
     "name": "stdout",
     "output_type": "stream",
     "text": [
      "Generating URL ...\n"
     ]
    },
    {
     "name": "stderr",
     "output_type": "stream",
     "text": [
      "INFO:TATSSI.download.gee_downloader:Downloading data from https://earthengine.googleapis.com/v1alpha/projects/earthengine-legacy/thumbnails/b3a005d89743dbb3badf7833525efa22-bf5e5854984b7c198f9362c346a54227:getPixels\n",
      "Please wait ...\n",
      "INFO:TATSSI.download.gee_downloader:Data downloaded to /home/glopez/Projects/TATSSI/data/test_gee\n",
      "INFO:googleapiclient.discovery:URL being requested: POST https://earthengine.googleapis.com/v1alpha/projects/earthengine-legacy/value:compute?prettyPrint=false&alt=json\n",
      "INFO:TATSSI.download.gee_downloader:Exporting 173/297: 2015_06_26.tif\n",
      "INFO:googleapiclient.discovery:URL being requested: POST https://earthengine.googleapis.com/v1alpha/projects/earthengine-legacy/thumbnails?fields=name&alt=json\n"
     ]
    },
    {
     "name": "stdout",
     "output_type": "stream",
     "text": [
      "Generating URL ...\n"
     ]
    },
    {
     "name": "stderr",
     "output_type": "stream",
     "text": [
      "INFO:TATSSI.download.gee_downloader:Downloading data from https://earthengine.googleapis.com/v1alpha/projects/earthengine-legacy/thumbnails/7abe6a26488866d0eacee4582f93e637-2cc64d5810d5358f2e9dca0ec32d78e0:getPixels\n",
      "Please wait ...\n",
      "INFO:TATSSI.download.gee_downloader:Data downloaded to /home/glopez/Projects/TATSSI/data/test_gee\n",
      "INFO:googleapiclient.discovery:URL being requested: POST https://earthengine.googleapis.com/v1alpha/projects/earthengine-legacy/value:compute?prettyPrint=false&alt=json\n",
      "INFO:TATSSI.download.gee_downloader:Exporting 174/297: 2015_07_12.tif\n",
      "INFO:googleapiclient.discovery:URL being requested: POST https://earthengine.googleapis.com/v1alpha/projects/earthengine-legacy/thumbnails?fields=name&alt=json\n"
     ]
    },
    {
     "name": "stdout",
     "output_type": "stream",
     "text": [
      "Generating URL ...\n"
     ]
    },
    {
     "name": "stderr",
     "output_type": "stream",
     "text": [
      "INFO:TATSSI.download.gee_downloader:Downloading data from https://earthengine.googleapis.com/v1alpha/projects/earthengine-legacy/thumbnails/27b8d1feffc615d700790aebba546dc3-21312d5104326b0272137aec4d058243:getPixels\n",
      "Please wait ...\n",
      "INFO:TATSSI.download.gee_downloader:Data downloaded to /home/glopez/Projects/TATSSI/data/test_gee\n",
      "INFO:googleapiclient.discovery:URL being requested: POST https://earthengine.googleapis.com/v1alpha/projects/earthengine-legacy/value:compute?prettyPrint=false&alt=json\n",
      "INFO:TATSSI.download.gee_downloader:Exporting 175/297: 2015_07_28.tif\n",
      "INFO:googleapiclient.discovery:URL being requested: POST https://earthengine.googleapis.com/v1alpha/projects/earthengine-legacy/thumbnails?fields=name&alt=json\n"
     ]
    },
    {
     "name": "stdout",
     "output_type": "stream",
     "text": [
      "Generating URL ...\n"
     ]
    },
    {
     "name": "stderr",
     "output_type": "stream",
     "text": [
      "INFO:TATSSI.download.gee_downloader:Downloading data from https://earthengine.googleapis.com/v1alpha/projects/earthengine-legacy/thumbnails/280fc9b221283557401e6e955a14782c-8849bb2397461cb26a5f6b4d4a60d840:getPixels\n",
      "Please wait ...\n",
      "INFO:TATSSI.download.gee_downloader:Data downloaded to /home/glopez/Projects/TATSSI/data/test_gee\n",
      "INFO:googleapiclient.discovery:URL being requested: POST https://earthengine.googleapis.com/v1alpha/projects/earthengine-legacy/value:compute?prettyPrint=false&alt=json\n",
      "INFO:TATSSI.download.gee_downloader:Exporting 176/297: 2015_08_13.tif\n",
      "INFO:googleapiclient.discovery:URL being requested: POST https://earthengine.googleapis.com/v1alpha/projects/earthengine-legacy/thumbnails?fields=name&alt=json\n"
     ]
    },
    {
     "name": "stdout",
     "output_type": "stream",
     "text": [
      "Generating URL ...\n"
     ]
    },
    {
     "name": "stderr",
     "output_type": "stream",
     "text": [
      "INFO:TATSSI.download.gee_downloader:Downloading data from https://earthengine.googleapis.com/v1alpha/projects/earthengine-legacy/thumbnails/809063497e9c81ea131e08d5b4f0b205-c22b663b995fc4bc110f3b338c6d5364:getPixels\n",
      "Please wait ...\n",
      "INFO:TATSSI.download.gee_downloader:Data downloaded to /home/glopez/Projects/TATSSI/data/test_gee\n",
      "INFO:googleapiclient.discovery:URL being requested: POST https://earthengine.googleapis.com/v1alpha/projects/earthengine-legacy/value:compute?prettyPrint=false&alt=json\n",
      "INFO:TATSSI.download.gee_downloader:Exporting 177/297: 2015_08_29.tif\n",
      "INFO:googleapiclient.discovery:URL being requested: POST https://earthengine.googleapis.com/v1alpha/projects/earthengine-legacy/thumbnails?fields=name&alt=json\n"
     ]
    },
    {
     "name": "stdout",
     "output_type": "stream",
     "text": [
      "Generating URL ...\n"
     ]
    },
    {
     "name": "stderr",
     "output_type": "stream",
     "text": [
      "INFO:TATSSI.download.gee_downloader:Downloading data from https://earthengine.googleapis.com/v1alpha/projects/earthengine-legacy/thumbnails/b145635ee831773ba50c10d81d11728f-c2045a21a69332e76c63ff2b7aac8d7c:getPixels\n",
      "Please wait ...\n",
      "INFO:TATSSI.download.gee_downloader:Data downloaded to /home/glopez/Projects/TATSSI/data/test_gee\n",
      "INFO:googleapiclient.discovery:URL being requested: POST https://earthengine.googleapis.com/v1alpha/projects/earthengine-legacy/value:compute?prettyPrint=false&alt=json\n",
      "INFO:TATSSI.download.gee_downloader:Exporting 178/297: 2015_09_14.tif\n",
      "INFO:googleapiclient.discovery:URL being requested: POST https://earthengine.googleapis.com/v1alpha/projects/earthengine-legacy/thumbnails?fields=name&alt=json\n"
     ]
    },
    {
     "name": "stdout",
     "output_type": "stream",
     "text": [
      "Generating URL ...\n"
     ]
    },
    {
     "name": "stderr",
     "output_type": "stream",
     "text": [
      "INFO:TATSSI.download.gee_downloader:Downloading data from https://earthengine.googleapis.com/v1alpha/projects/earthengine-legacy/thumbnails/82f4f909d3308bcf59ef8f0ffcad3e54-4467a76ea1d764a19551468743e9c695:getPixels\n",
      "Please wait ...\n",
      "INFO:TATSSI.download.gee_downloader:Data downloaded to /home/glopez/Projects/TATSSI/data/test_gee\n",
      "INFO:googleapiclient.discovery:URL being requested: POST https://earthengine.googleapis.com/v1alpha/projects/earthengine-legacy/value:compute?prettyPrint=false&alt=json\n",
      "INFO:TATSSI.download.gee_downloader:Exporting 179/297: 2015_09_30.tif\n",
      "INFO:googleapiclient.discovery:URL being requested: POST https://earthengine.googleapis.com/v1alpha/projects/earthengine-legacy/thumbnails?fields=name&alt=json\n"
     ]
    },
    {
     "name": "stdout",
     "output_type": "stream",
     "text": [
      "Generating URL ...\n"
     ]
    },
    {
     "name": "stderr",
     "output_type": "stream",
     "text": [
      "INFO:TATSSI.download.gee_downloader:Downloading data from https://earthengine.googleapis.com/v1alpha/projects/earthengine-legacy/thumbnails/116d2161cd102bdf4cfd7229561e4d32-b0589882a48315340ef8d74847143d73:getPixels\n",
      "Please wait ...\n",
      "INFO:TATSSI.download.gee_downloader:Data downloaded to /home/glopez/Projects/TATSSI/data/test_gee\n",
      "INFO:googleapiclient.discovery:URL being requested: POST https://earthengine.googleapis.com/v1alpha/projects/earthengine-legacy/value:compute?prettyPrint=false&alt=json\n",
      "INFO:TATSSI.download.gee_downloader:Exporting 180/297: 2015_10_16.tif\n",
      "INFO:googleapiclient.discovery:URL being requested: POST https://earthengine.googleapis.com/v1alpha/projects/earthengine-legacy/thumbnails?fields=name&alt=json\n"
     ]
    },
    {
     "name": "stdout",
     "output_type": "stream",
     "text": [
      "Generating URL ...\n"
     ]
    },
    {
     "name": "stderr",
     "output_type": "stream",
     "text": [
      "INFO:TATSSI.download.gee_downloader:Downloading data from https://earthengine.googleapis.com/v1alpha/projects/earthengine-legacy/thumbnails/8fba837069492103047066d84b2212b7-f53f644bbcd7d009b1b275e2a32eeb59:getPixels\n",
      "Please wait ...\n",
      "INFO:TATSSI.download.gee_downloader:Data downloaded to /home/glopez/Projects/TATSSI/data/test_gee\n",
      "INFO:googleapiclient.discovery:URL being requested: POST https://earthengine.googleapis.com/v1alpha/projects/earthengine-legacy/value:compute?prettyPrint=false&alt=json\n",
      "INFO:TATSSI.download.gee_downloader:Exporting 181/297: 2015_11_01.tif\n",
      "INFO:googleapiclient.discovery:URL being requested: POST https://earthengine.googleapis.com/v1alpha/projects/earthengine-legacy/thumbnails?fields=name&alt=json\n"
     ]
    },
    {
     "name": "stdout",
     "output_type": "stream",
     "text": [
      "Generating URL ...\n"
     ]
    },
    {
     "name": "stderr",
     "output_type": "stream",
     "text": [
      "INFO:TATSSI.download.gee_downloader:Downloading data from https://earthengine.googleapis.com/v1alpha/projects/earthengine-legacy/thumbnails/c9047ded27c5b7a64aa7c4cb54e78a11-80f3528519e3b9c95ef8242df31b31e2:getPixels\n",
      "Please wait ...\n",
      "INFO:TATSSI.download.gee_downloader:Data downloaded to /home/glopez/Projects/TATSSI/data/test_gee\n",
      "INFO:googleapiclient.discovery:URL being requested: POST https://earthengine.googleapis.com/v1alpha/projects/earthengine-legacy/value:compute?prettyPrint=false&alt=json\n",
      "INFO:TATSSI.download.gee_downloader:Exporting 182/297: 2015_11_17.tif\n",
      "INFO:googleapiclient.discovery:URL being requested: POST https://earthengine.googleapis.com/v1alpha/projects/earthengine-legacy/thumbnails?fields=name&alt=json\n"
     ]
    },
    {
     "name": "stdout",
     "output_type": "stream",
     "text": [
      "Generating URL ...\n"
     ]
    },
    {
     "name": "stderr",
     "output_type": "stream",
     "text": [
      "INFO:TATSSI.download.gee_downloader:Downloading data from https://earthengine.googleapis.com/v1alpha/projects/earthengine-legacy/thumbnails/15a30a4a2881949baecff5fb09d28fcf-bfd5982d2d931d385e2d05cc7f641fcf:getPixels\n",
      "Please wait ...\n",
      "INFO:TATSSI.download.gee_downloader:Data downloaded to /home/glopez/Projects/TATSSI/data/test_gee\n",
      "INFO:googleapiclient.discovery:URL being requested: POST https://earthengine.googleapis.com/v1alpha/projects/earthengine-legacy/value:compute?prettyPrint=false&alt=json\n",
      "INFO:TATSSI.download.gee_downloader:Exporting 183/297: 2015_12_03.tif\n",
      "INFO:googleapiclient.discovery:URL being requested: POST https://earthengine.googleapis.com/v1alpha/projects/earthengine-legacy/thumbnails?fields=name&alt=json\n"
     ]
    },
    {
     "name": "stdout",
     "output_type": "stream",
     "text": [
      "Generating URL ...\n"
     ]
    },
    {
     "name": "stderr",
     "output_type": "stream",
     "text": [
      "INFO:TATSSI.download.gee_downloader:Downloading data from https://earthengine.googleapis.com/v1alpha/projects/earthengine-legacy/thumbnails/d70cc25edc75ed8afab7872e8760af87-3e54373140015633ad1bf92505333b87:getPixels\n",
      "Please wait ...\n",
      "INFO:TATSSI.download.gee_downloader:Data downloaded to /home/glopez/Projects/TATSSI/data/test_gee\n",
      "INFO:googleapiclient.discovery:URL being requested: POST https://earthengine.googleapis.com/v1alpha/projects/earthengine-legacy/value:compute?prettyPrint=false&alt=json\n",
      "INFO:TATSSI.download.gee_downloader:Exporting 184/297: 2015_12_19.tif\n",
      "INFO:googleapiclient.discovery:URL being requested: POST https://earthengine.googleapis.com/v1alpha/projects/earthengine-legacy/thumbnails?fields=name&alt=json\n"
     ]
    },
    {
     "name": "stdout",
     "output_type": "stream",
     "text": [
      "Generating URL ...\n"
     ]
    },
    {
     "name": "stderr",
     "output_type": "stream",
     "text": [
      "INFO:TATSSI.download.gee_downloader:Downloading data from https://earthengine.googleapis.com/v1alpha/projects/earthengine-legacy/thumbnails/9ae4f5528af15ac566475f45d3f6fec8-2281206e68f90ac50fe902d086b0e847:getPixels\n",
      "Please wait ...\n",
      "INFO:TATSSI.download.gee_downloader:Data downloaded to /home/glopez/Projects/TATSSI/data/test_gee\n",
      "INFO:googleapiclient.discovery:URL being requested: POST https://earthengine.googleapis.com/v1alpha/projects/earthengine-legacy/value:compute?prettyPrint=false&alt=json\n",
      "INFO:TATSSI.download.gee_downloader:Exporting 185/297: 2016_01_01.tif\n",
      "INFO:googleapiclient.discovery:URL being requested: POST https://earthengine.googleapis.com/v1alpha/projects/earthengine-legacy/thumbnails?fields=name&alt=json\n"
     ]
    },
    {
     "name": "stdout",
     "output_type": "stream",
     "text": [
      "Generating URL ...\n"
     ]
    },
    {
     "name": "stderr",
     "output_type": "stream",
     "text": [
      "INFO:TATSSI.download.gee_downloader:Downloading data from https://earthengine.googleapis.com/v1alpha/projects/earthengine-legacy/thumbnails/060b4623583594c6b38d47d2598a64a9-bce95f361ae424d6c9d999a200f6793f:getPixels\n",
      "Please wait ...\n",
      "INFO:TATSSI.download.gee_downloader:Data downloaded to /home/glopez/Projects/TATSSI/data/test_gee\n",
      "INFO:googleapiclient.discovery:URL being requested: POST https://earthengine.googleapis.com/v1alpha/projects/earthengine-legacy/value:compute?prettyPrint=false&alt=json\n",
      "INFO:TATSSI.download.gee_downloader:Exporting 186/297: 2016_01_17.tif\n",
      "INFO:googleapiclient.discovery:URL being requested: POST https://earthengine.googleapis.com/v1alpha/projects/earthengine-legacy/thumbnails?fields=name&alt=json\n"
     ]
    },
    {
     "name": "stdout",
     "output_type": "stream",
     "text": [
      "Generating URL ...\n"
     ]
    },
    {
     "name": "stderr",
     "output_type": "stream",
     "text": [
      "INFO:TATSSI.download.gee_downloader:Downloading data from https://earthengine.googleapis.com/v1alpha/projects/earthengine-legacy/thumbnails/15da5f89d1ab7b57d9b04106067b3b25-13697373870de89e059f83c6d5ca2cbe:getPixels\n",
      "Please wait ...\n",
      "INFO:TATSSI.download.gee_downloader:Data downloaded to /home/glopez/Projects/TATSSI/data/test_gee\n",
      "INFO:googleapiclient.discovery:URL being requested: POST https://earthengine.googleapis.com/v1alpha/projects/earthengine-legacy/value:compute?prettyPrint=false&alt=json\n",
      "INFO:TATSSI.download.gee_downloader:Exporting 187/297: 2016_02_02.tif\n",
      "INFO:googleapiclient.discovery:URL being requested: POST https://earthengine.googleapis.com/v1alpha/projects/earthengine-legacy/thumbnails?fields=name&alt=json\n"
     ]
    },
    {
     "name": "stdout",
     "output_type": "stream",
     "text": [
      "Generating URL ...\n"
     ]
    },
    {
     "name": "stderr",
     "output_type": "stream",
     "text": [
      "INFO:TATSSI.download.gee_downloader:Downloading data from https://earthengine.googleapis.com/v1alpha/projects/earthengine-legacy/thumbnails/d116b9bb7d817f6c6f3a7a45206ec65d-4b003fe8ee54d433aca23d6acbb6d89c:getPixels\n",
      "Please wait ...\n",
      "INFO:TATSSI.download.gee_downloader:Data downloaded to /home/glopez/Projects/TATSSI/data/test_gee\n",
      "INFO:googleapiclient.discovery:URL being requested: POST https://earthengine.googleapis.com/v1alpha/projects/earthengine-legacy/value:compute?prettyPrint=false&alt=json\n",
      "INFO:TATSSI.download.gee_downloader:Exporting 188/297: 2016_02_18.tif\n",
      "INFO:googleapiclient.discovery:URL being requested: POST https://earthengine.googleapis.com/v1alpha/projects/earthengine-legacy/thumbnails?fields=name&alt=json\n"
     ]
    },
    {
     "name": "stdout",
     "output_type": "stream",
     "text": [
      "Generating URL ...\n"
     ]
    },
    {
     "name": "stderr",
     "output_type": "stream",
     "text": [
      "INFO:TATSSI.download.gee_downloader:Downloading data from https://earthengine.googleapis.com/v1alpha/projects/earthengine-legacy/thumbnails/fb0ab1ad25fe4a2eafef478cda387df6-36b70bf475aed94940dc2b636f2bb0c7:getPixels\n",
      "Please wait ...\n",
      "INFO:TATSSI.download.gee_downloader:Data downloaded to /home/glopez/Projects/TATSSI/data/test_gee\n",
      "INFO:googleapiclient.discovery:URL being requested: POST https://earthengine.googleapis.com/v1alpha/projects/earthengine-legacy/value:compute?prettyPrint=false&alt=json\n",
      "INFO:TATSSI.download.gee_downloader:Exporting 189/297: 2016_03_05.tif\n",
      "INFO:googleapiclient.discovery:URL being requested: POST https://earthengine.googleapis.com/v1alpha/projects/earthengine-legacy/thumbnails?fields=name&alt=json\n"
     ]
    },
    {
     "name": "stdout",
     "output_type": "stream",
     "text": [
      "Generating URL ...\n"
     ]
    },
    {
     "name": "stderr",
     "output_type": "stream",
     "text": [
      "INFO:TATSSI.download.gee_downloader:Downloading data from https://earthengine.googleapis.com/v1alpha/projects/earthengine-legacy/thumbnails/f92de9dc4b8d41dfdc80ce177dc524cd-66f7826a8ccac035d706b17d2656ecd0:getPixels\n",
      "Please wait ...\n",
      "INFO:TATSSI.download.gee_downloader:Data downloaded to /home/glopez/Projects/TATSSI/data/test_gee\n",
      "INFO:googleapiclient.discovery:URL being requested: POST https://earthengine.googleapis.com/v1alpha/projects/earthengine-legacy/value:compute?prettyPrint=false&alt=json\n",
      "INFO:TATSSI.download.gee_downloader:Exporting 190/297: 2016_03_21.tif\n",
      "INFO:googleapiclient.discovery:URL being requested: POST https://earthengine.googleapis.com/v1alpha/projects/earthengine-legacy/thumbnails?fields=name&alt=json\n"
     ]
    },
    {
     "name": "stdout",
     "output_type": "stream",
     "text": [
      "Generating URL ...\n"
     ]
    },
    {
     "name": "stderr",
     "output_type": "stream",
     "text": [
      "INFO:TATSSI.download.gee_downloader:Downloading data from https://earthengine.googleapis.com/v1alpha/projects/earthengine-legacy/thumbnails/48650d3ac206328a5f4a24fc23c0b7ab-9e0817c4a160d86448d8ea3be5196624:getPixels\n",
      "Please wait ...\n",
      "INFO:TATSSI.download.gee_downloader:Data downloaded to /home/glopez/Projects/TATSSI/data/test_gee\n",
      "INFO:googleapiclient.discovery:URL being requested: POST https://earthengine.googleapis.com/v1alpha/projects/earthengine-legacy/value:compute?prettyPrint=false&alt=json\n",
      "INFO:TATSSI.download.gee_downloader:Exporting 191/297: 2016_04_06.tif\n",
      "INFO:googleapiclient.discovery:URL being requested: POST https://earthengine.googleapis.com/v1alpha/projects/earthengine-legacy/thumbnails?fields=name&alt=json\n"
     ]
    },
    {
     "name": "stdout",
     "output_type": "stream",
     "text": [
      "Generating URL ...\n"
     ]
    },
    {
     "name": "stderr",
     "output_type": "stream",
     "text": [
      "INFO:TATSSI.download.gee_downloader:Downloading data from https://earthengine.googleapis.com/v1alpha/projects/earthengine-legacy/thumbnails/101965498bd3227218edc2682c0341c3-1fd5e5f6f4d48c0d2170bc14b84a281b:getPixels\n",
      "Please wait ...\n",
      "INFO:TATSSI.download.gee_downloader:Data downloaded to /home/glopez/Projects/TATSSI/data/test_gee\n",
      "INFO:googleapiclient.discovery:URL being requested: POST https://earthengine.googleapis.com/v1alpha/projects/earthengine-legacy/value:compute?prettyPrint=false&alt=json\n",
      "INFO:TATSSI.download.gee_downloader:Exporting 192/297: 2016_04_22.tif\n",
      "INFO:googleapiclient.discovery:URL being requested: POST https://earthengine.googleapis.com/v1alpha/projects/earthengine-legacy/thumbnails?fields=name&alt=json\n"
     ]
    },
    {
     "name": "stdout",
     "output_type": "stream",
     "text": [
      "Generating URL ...\n"
     ]
    },
    {
     "name": "stderr",
     "output_type": "stream",
     "text": [
      "INFO:TATSSI.download.gee_downloader:Downloading data from https://earthengine.googleapis.com/v1alpha/projects/earthengine-legacy/thumbnails/c963e1abaad81a2f8383a71fda33430f-119dfe1ec70611ceb8031a1a743dfe45:getPixels\n",
      "Please wait ...\n",
      "INFO:TATSSI.download.gee_downloader:Data downloaded to /home/glopez/Projects/TATSSI/data/test_gee\n",
      "INFO:googleapiclient.discovery:URL being requested: POST https://earthengine.googleapis.com/v1alpha/projects/earthengine-legacy/value:compute?prettyPrint=false&alt=json\n",
      "INFO:TATSSI.download.gee_downloader:Exporting 193/297: 2016_05_08.tif\n",
      "INFO:googleapiclient.discovery:URL being requested: POST https://earthengine.googleapis.com/v1alpha/projects/earthengine-legacy/thumbnails?fields=name&alt=json\n"
     ]
    },
    {
     "name": "stdout",
     "output_type": "stream",
     "text": [
      "Generating URL ...\n"
     ]
    },
    {
     "name": "stderr",
     "output_type": "stream",
     "text": [
      "INFO:TATSSI.download.gee_downloader:Downloading data from https://earthengine.googleapis.com/v1alpha/projects/earthengine-legacy/thumbnails/7ccaa6107f298f6b388171ce8f70b3ba-bb95df5c53ae2f5221efc52cfcfb0397:getPixels\n",
      "Please wait ...\n",
      "INFO:TATSSI.download.gee_downloader:Data downloaded to /home/glopez/Projects/TATSSI/data/test_gee\n",
      "INFO:googleapiclient.discovery:URL being requested: POST https://earthengine.googleapis.com/v1alpha/projects/earthengine-legacy/value:compute?prettyPrint=false&alt=json\n",
      "INFO:TATSSI.download.gee_downloader:Exporting 194/297: 2016_05_24.tif\n",
      "INFO:googleapiclient.discovery:URL being requested: POST https://earthengine.googleapis.com/v1alpha/projects/earthengine-legacy/thumbnails?fields=name&alt=json\n"
     ]
    },
    {
     "name": "stdout",
     "output_type": "stream",
     "text": [
      "Generating URL ...\n"
     ]
    },
    {
     "name": "stderr",
     "output_type": "stream",
     "text": [
      "INFO:TATSSI.download.gee_downloader:Downloading data from https://earthengine.googleapis.com/v1alpha/projects/earthengine-legacy/thumbnails/9dd205315551151c89a7746efbc8c716-3ca225a5c643c7df6765011d9c343eca:getPixels\n",
      "Please wait ...\n",
      "INFO:TATSSI.download.gee_downloader:Data downloaded to /home/glopez/Projects/TATSSI/data/test_gee\n",
      "INFO:googleapiclient.discovery:URL being requested: POST https://earthengine.googleapis.com/v1alpha/projects/earthengine-legacy/value:compute?prettyPrint=false&alt=json\n",
      "INFO:TATSSI.download.gee_downloader:Exporting 195/297: 2016_06_09.tif\n",
      "INFO:googleapiclient.discovery:URL being requested: POST https://earthengine.googleapis.com/v1alpha/projects/earthengine-legacy/thumbnails?fields=name&alt=json\n"
     ]
    },
    {
     "name": "stdout",
     "output_type": "stream",
     "text": [
      "Generating URL ...\n"
     ]
    },
    {
     "name": "stderr",
     "output_type": "stream",
     "text": [
      "INFO:TATSSI.download.gee_downloader:Downloading data from https://earthengine.googleapis.com/v1alpha/projects/earthengine-legacy/thumbnails/4d61715f7e37578621427755e903d835-df3f0b0f1c98b188bc87f23d24f95bfa:getPixels\n",
      "Please wait ...\n",
      "INFO:TATSSI.download.gee_downloader:Data downloaded to /home/glopez/Projects/TATSSI/data/test_gee\n",
      "INFO:googleapiclient.discovery:URL being requested: POST https://earthengine.googleapis.com/v1alpha/projects/earthengine-legacy/value:compute?prettyPrint=false&alt=json\n",
      "INFO:TATSSI.download.gee_downloader:Exporting 196/297: 2016_06_25.tif\n",
      "INFO:googleapiclient.discovery:URL being requested: POST https://earthengine.googleapis.com/v1alpha/projects/earthengine-legacy/thumbnails?fields=name&alt=json\n"
     ]
    },
    {
     "name": "stdout",
     "output_type": "stream",
     "text": [
      "Generating URL ...\n"
     ]
    },
    {
     "name": "stderr",
     "output_type": "stream",
     "text": [
      "INFO:TATSSI.download.gee_downloader:Downloading data from https://earthengine.googleapis.com/v1alpha/projects/earthengine-legacy/thumbnails/6bf8bc58b0c36e6c6a2b250af2de9bc9-3c25f2f8ceb93123caa48c1dbfad35d8:getPixels\n",
      "Please wait ...\n",
      "INFO:TATSSI.download.gee_downloader:Data downloaded to /home/glopez/Projects/TATSSI/data/test_gee\n",
      "INFO:googleapiclient.discovery:URL being requested: POST https://earthengine.googleapis.com/v1alpha/projects/earthengine-legacy/value:compute?prettyPrint=false&alt=json\n",
      "INFO:TATSSI.download.gee_downloader:Exporting 197/297: 2016_07_11.tif\n",
      "INFO:googleapiclient.discovery:URL being requested: POST https://earthengine.googleapis.com/v1alpha/projects/earthengine-legacy/thumbnails?fields=name&alt=json\n"
     ]
    },
    {
     "name": "stdout",
     "output_type": "stream",
     "text": [
      "Generating URL ...\n"
     ]
    },
    {
     "name": "stderr",
     "output_type": "stream",
     "text": [
      "INFO:TATSSI.download.gee_downloader:Downloading data from https://earthengine.googleapis.com/v1alpha/projects/earthengine-legacy/thumbnails/8c60a3cb244b617212bb1388806de5c0-0be2bb2202257014f05d22f05ee09fe9:getPixels\n",
      "Please wait ...\n",
      "INFO:TATSSI.download.gee_downloader:Data downloaded to /home/glopez/Projects/TATSSI/data/test_gee\n",
      "INFO:googleapiclient.discovery:URL being requested: POST https://earthengine.googleapis.com/v1alpha/projects/earthengine-legacy/value:compute?prettyPrint=false&alt=json\n",
      "INFO:TATSSI.download.gee_downloader:Exporting 198/297: 2016_07_27.tif\n",
      "INFO:googleapiclient.discovery:URL being requested: POST https://earthengine.googleapis.com/v1alpha/projects/earthengine-legacy/thumbnails?fields=name&alt=json\n"
     ]
    },
    {
     "name": "stdout",
     "output_type": "stream",
     "text": [
      "Generating URL ...\n"
     ]
    },
    {
     "name": "stderr",
     "output_type": "stream",
     "text": [
      "INFO:TATSSI.download.gee_downloader:Downloading data from https://earthengine.googleapis.com/v1alpha/projects/earthengine-legacy/thumbnails/bf88d77f93d29e570851a71d981d9685-01076729e9f9268e4f84326552e9926d:getPixels\n",
      "Please wait ...\n",
      "INFO:TATSSI.download.gee_downloader:Data downloaded to /home/glopez/Projects/TATSSI/data/test_gee\n",
      "INFO:googleapiclient.discovery:URL being requested: POST https://earthengine.googleapis.com/v1alpha/projects/earthengine-legacy/value:compute?prettyPrint=false&alt=json\n",
      "INFO:TATSSI.download.gee_downloader:Exporting 199/297: 2016_08_12.tif\n",
      "INFO:googleapiclient.discovery:URL being requested: POST https://earthengine.googleapis.com/v1alpha/projects/earthengine-legacy/thumbnails?fields=name&alt=json\n"
     ]
    },
    {
     "name": "stdout",
     "output_type": "stream",
     "text": [
      "Generating URL ...\n"
     ]
    },
    {
     "name": "stderr",
     "output_type": "stream",
     "text": [
      "INFO:TATSSI.download.gee_downloader:Downloading data from https://earthengine.googleapis.com/v1alpha/projects/earthengine-legacy/thumbnails/9fa4c3d503ec743c345117acaac9ea6c-90c9bead81ced636621917e31ff10386:getPixels\n",
      "Please wait ...\n",
      "INFO:TATSSI.download.gee_downloader:Data downloaded to /home/glopez/Projects/TATSSI/data/test_gee\n",
      "INFO:googleapiclient.discovery:URL being requested: POST https://earthengine.googleapis.com/v1alpha/projects/earthengine-legacy/value:compute?prettyPrint=false&alt=json\n",
      "INFO:TATSSI.download.gee_downloader:Exporting 200/297: 2016_08_28.tif\n",
      "INFO:googleapiclient.discovery:URL being requested: POST https://earthengine.googleapis.com/v1alpha/projects/earthengine-legacy/thumbnails?fields=name&alt=json\n"
     ]
    },
    {
     "name": "stdout",
     "output_type": "stream",
     "text": [
      "Generating URL ...\n"
     ]
    },
    {
     "name": "stderr",
     "output_type": "stream",
     "text": [
      "INFO:TATSSI.download.gee_downloader:Downloading data from https://earthengine.googleapis.com/v1alpha/projects/earthengine-legacy/thumbnails/47348bd386ff10d93f25da12dd3b64db-4e5727ae87ef93c863db307bcbe510c4:getPixels\n",
      "Please wait ...\n",
      "INFO:TATSSI.download.gee_downloader:Data downloaded to /home/glopez/Projects/TATSSI/data/test_gee\n",
      "INFO:googleapiclient.discovery:URL being requested: POST https://earthengine.googleapis.com/v1alpha/projects/earthengine-legacy/value:compute?prettyPrint=false&alt=json\n",
      "INFO:TATSSI.download.gee_downloader:Exporting 201/297: 2016_09_13.tif\n",
      "INFO:googleapiclient.discovery:URL being requested: POST https://earthengine.googleapis.com/v1alpha/projects/earthengine-legacy/thumbnails?fields=name&alt=json\n"
     ]
    },
    {
     "name": "stdout",
     "output_type": "stream",
     "text": [
      "Generating URL ...\n"
     ]
    },
    {
     "name": "stderr",
     "output_type": "stream",
     "text": [
      "INFO:TATSSI.download.gee_downloader:Downloading data from https://earthengine.googleapis.com/v1alpha/projects/earthengine-legacy/thumbnails/8a9c9ebc5c3aef394baf0bc55e3131d4-22ebc24929bed0761f492d8555670f42:getPixels\n",
      "Please wait ...\n",
      "INFO:TATSSI.download.gee_downloader:Data downloaded to /home/glopez/Projects/TATSSI/data/test_gee\n",
      "INFO:googleapiclient.discovery:URL being requested: POST https://earthengine.googleapis.com/v1alpha/projects/earthengine-legacy/value:compute?prettyPrint=false&alt=json\n",
      "INFO:TATSSI.download.gee_downloader:Exporting 202/297: 2016_09_29.tif\n",
      "INFO:googleapiclient.discovery:URL being requested: POST https://earthengine.googleapis.com/v1alpha/projects/earthengine-legacy/thumbnails?fields=name&alt=json\n"
     ]
    },
    {
     "name": "stdout",
     "output_type": "stream",
     "text": [
      "Generating URL ...\n"
     ]
    },
    {
     "name": "stderr",
     "output_type": "stream",
     "text": [
      "INFO:TATSSI.download.gee_downloader:Downloading data from https://earthengine.googleapis.com/v1alpha/projects/earthengine-legacy/thumbnails/47e6018ca48498e1b2e62d5af82bb2d9-c6a0945d318bf2f3fcbd8fd961f95970:getPixels\n",
      "Please wait ...\n",
      "INFO:TATSSI.download.gee_downloader:Data downloaded to /home/glopez/Projects/TATSSI/data/test_gee\n",
      "INFO:googleapiclient.discovery:URL being requested: POST https://earthengine.googleapis.com/v1alpha/projects/earthengine-legacy/value:compute?prettyPrint=false&alt=json\n",
      "INFO:TATSSI.download.gee_downloader:Exporting 203/297: 2016_10_15.tif\n",
      "INFO:googleapiclient.discovery:URL being requested: POST https://earthengine.googleapis.com/v1alpha/projects/earthengine-legacy/thumbnails?fields=name&alt=json\n"
     ]
    },
    {
     "name": "stdout",
     "output_type": "stream",
     "text": [
      "Generating URL ...\n"
     ]
    },
    {
     "name": "stderr",
     "output_type": "stream",
     "text": [
      "INFO:TATSSI.download.gee_downloader:Downloading data from https://earthengine.googleapis.com/v1alpha/projects/earthengine-legacy/thumbnails/94e52be16d19d0005f97fecaa3e2b4c0-5c482e35e6938755ab606dcfa726d733:getPixels\n",
      "Please wait ...\n",
      "INFO:TATSSI.download.gee_downloader:Data downloaded to /home/glopez/Projects/TATSSI/data/test_gee\n",
      "INFO:googleapiclient.discovery:URL being requested: POST https://earthengine.googleapis.com/v1alpha/projects/earthengine-legacy/value:compute?prettyPrint=false&alt=json\n",
      "INFO:TATSSI.download.gee_downloader:Exporting 204/297: 2016_10_31.tif\n",
      "INFO:googleapiclient.discovery:URL being requested: POST https://earthengine.googleapis.com/v1alpha/projects/earthengine-legacy/thumbnails?fields=name&alt=json\n"
     ]
    },
    {
     "name": "stdout",
     "output_type": "stream",
     "text": [
      "Generating URL ...\n"
     ]
    },
    {
     "name": "stderr",
     "output_type": "stream",
     "text": [
      "INFO:TATSSI.download.gee_downloader:Downloading data from https://earthengine.googleapis.com/v1alpha/projects/earthengine-legacy/thumbnails/814e4e9f71b2cd6f306203ba3971ad90-a0d318ba7329e479ed3f9be0268e9df4:getPixels\n",
      "Please wait ...\n",
      "INFO:TATSSI.download.gee_downloader:Data downloaded to /home/glopez/Projects/TATSSI/data/test_gee\n",
      "INFO:googleapiclient.discovery:URL being requested: POST https://earthengine.googleapis.com/v1alpha/projects/earthengine-legacy/value:compute?prettyPrint=false&alt=json\n",
      "INFO:TATSSI.download.gee_downloader:Exporting 205/297: 2016_11_16.tif\n",
      "INFO:googleapiclient.discovery:URL being requested: POST https://earthengine.googleapis.com/v1alpha/projects/earthengine-legacy/thumbnails?fields=name&alt=json\n"
     ]
    },
    {
     "name": "stdout",
     "output_type": "stream",
     "text": [
      "Generating URL ...\n"
     ]
    },
    {
     "name": "stderr",
     "output_type": "stream",
     "text": [
      "INFO:TATSSI.download.gee_downloader:Downloading data from https://earthengine.googleapis.com/v1alpha/projects/earthengine-legacy/thumbnails/176a4f6e04f5a74c1fb5940307d46724-08e4824a6f0b232339f52cd09a15ee43:getPixels\n",
      "Please wait ...\n",
      "INFO:TATSSI.download.gee_downloader:Data downloaded to /home/glopez/Projects/TATSSI/data/test_gee\n",
      "INFO:googleapiclient.discovery:URL being requested: POST https://earthengine.googleapis.com/v1alpha/projects/earthengine-legacy/value:compute?prettyPrint=false&alt=json\n",
      "INFO:TATSSI.download.gee_downloader:Exporting 206/297: 2016_12_02.tif\n",
      "INFO:googleapiclient.discovery:URL being requested: POST https://earthengine.googleapis.com/v1alpha/projects/earthengine-legacy/thumbnails?fields=name&alt=json\n"
     ]
    },
    {
     "name": "stdout",
     "output_type": "stream",
     "text": [
      "Generating URL ...\n"
     ]
    },
    {
     "name": "stderr",
     "output_type": "stream",
     "text": [
      "INFO:TATSSI.download.gee_downloader:Downloading data from https://earthengine.googleapis.com/v1alpha/projects/earthengine-legacy/thumbnails/dc2d42fe8566a2af493e4f5881648233-8c3fcd6312ccb7405281130181ccc922:getPixels\n",
      "Please wait ...\n",
      "INFO:TATSSI.download.gee_downloader:Data downloaded to /home/glopez/Projects/TATSSI/data/test_gee\n",
      "INFO:googleapiclient.discovery:URL being requested: POST https://earthengine.googleapis.com/v1alpha/projects/earthengine-legacy/value:compute?prettyPrint=false&alt=json\n",
      "INFO:TATSSI.download.gee_downloader:Exporting 207/297: 2016_12_18.tif\n",
      "INFO:googleapiclient.discovery:URL being requested: POST https://earthengine.googleapis.com/v1alpha/projects/earthengine-legacy/thumbnails?fields=name&alt=json\n"
     ]
    },
    {
     "name": "stdout",
     "output_type": "stream",
     "text": [
      "Generating URL ...\n"
     ]
    },
    {
     "name": "stderr",
     "output_type": "stream",
     "text": [
      "INFO:TATSSI.download.gee_downloader:Downloading data from https://earthengine.googleapis.com/v1alpha/projects/earthengine-legacy/thumbnails/9a5f27fdb4707aa087a5f065d738270b-601b2e7faa657717f58ddca0a63e17a3:getPixels\n",
      "Please wait ...\n",
      "INFO:TATSSI.download.gee_downloader:Data downloaded to /home/glopez/Projects/TATSSI/data/test_gee\n",
      "INFO:googleapiclient.discovery:URL being requested: POST https://earthengine.googleapis.com/v1alpha/projects/earthengine-legacy/value:compute?prettyPrint=false&alt=json\n",
      "INFO:TATSSI.download.gee_downloader:Exporting 208/297: 2017_01_01.tif\n",
      "INFO:googleapiclient.discovery:URL being requested: POST https://earthengine.googleapis.com/v1alpha/projects/earthengine-legacy/thumbnails?fields=name&alt=json\n"
     ]
    },
    {
     "name": "stdout",
     "output_type": "stream",
     "text": [
      "Generating URL ...\n"
     ]
    },
    {
     "name": "stderr",
     "output_type": "stream",
     "text": [
      "INFO:TATSSI.download.gee_downloader:Downloading data from https://earthengine.googleapis.com/v1alpha/projects/earthengine-legacy/thumbnails/a099558386b981505a89140e3aba1ac7-678c431714ec83c4d90fe7fec6182195:getPixels\n",
      "Please wait ...\n",
      "INFO:TATSSI.download.gee_downloader:Data downloaded to /home/glopez/Projects/TATSSI/data/test_gee\n",
      "INFO:googleapiclient.discovery:URL being requested: POST https://earthengine.googleapis.com/v1alpha/projects/earthengine-legacy/value:compute?prettyPrint=false&alt=json\n",
      "INFO:TATSSI.download.gee_downloader:Exporting 209/297: 2017_01_17.tif\n",
      "INFO:googleapiclient.discovery:URL being requested: POST https://earthengine.googleapis.com/v1alpha/projects/earthengine-legacy/thumbnails?fields=name&alt=json\n"
     ]
    },
    {
     "name": "stdout",
     "output_type": "stream",
     "text": [
      "Generating URL ...\n"
     ]
    },
    {
     "name": "stderr",
     "output_type": "stream",
     "text": [
      "INFO:TATSSI.download.gee_downloader:Downloading data from https://earthengine.googleapis.com/v1alpha/projects/earthengine-legacy/thumbnails/1b6d9d5e742d93cc66c5c2882fd64018-1376f8a8d812a41d0739d3a6d8d8485a:getPixels\n",
      "Please wait ...\n",
      "INFO:TATSSI.download.gee_downloader:Data downloaded to /home/glopez/Projects/TATSSI/data/test_gee\n",
      "INFO:googleapiclient.discovery:URL being requested: POST https://earthengine.googleapis.com/v1alpha/projects/earthengine-legacy/value:compute?prettyPrint=false&alt=json\n",
      "INFO:TATSSI.download.gee_downloader:Exporting 210/297: 2017_02_02.tif\n",
      "INFO:googleapiclient.discovery:URL being requested: POST https://earthengine.googleapis.com/v1alpha/projects/earthengine-legacy/thumbnails?fields=name&alt=json\n"
     ]
    },
    {
     "name": "stdout",
     "output_type": "stream",
     "text": [
      "Generating URL ...\n"
     ]
    },
    {
     "name": "stderr",
     "output_type": "stream",
     "text": [
      "INFO:TATSSI.download.gee_downloader:Downloading data from https://earthengine.googleapis.com/v1alpha/projects/earthengine-legacy/thumbnails/a146e79c3a346559a3e9ee2fdc6efbde-08aa302bea81decb8c3d7fb818cc76d9:getPixels\n",
      "Please wait ...\n",
      "INFO:TATSSI.download.gee_downloader:Data downloaded to /home/glopez/Projects/TATSSI/data/test_gee\n",
      "INFO:googleapiclient.discovery:URL being requested: POST https://earthengine.googleapis.com/v1alpha/projects/earthengine-legacy/value:compute?prettyPrint=false&alt=json\n",
      "INFO:TATSSI.download.gee_downloader:Exporting 211/297: 2017_02_18.tif\n",
      "INFO:googleapiclient.discovery:URL being requested: POST https://earthengine.googleapis.com/v1alpha/projects/earthengine-legacy/thumbnails?fields=name&alt=json\n"
     ]
    },
    {
     "name": "stdout",
     "output_type": "stream",
     "text": [
      "Generating URL ...\n"
     ]
    },
    {
     "name": "stderr",
     "output_type": "stream",
     "text": [
      "INFO:TATSSI.download.gee_downloader:Downloading data from https://earthengine.googleapis.com/v1alpha/projects/earthengine-legacy/thumbnails/177ecbe3121935902623d1e499bbd603-7a0e77f5be61d8fb965dc4934741ecdb:getPixels\n",
      "Please wait ...\n",
      "INFO:TATSSI.download.gee_downloader:Data downloaded to /home/glopez/Projects/TATSSI/data/test_gee\n",
      "INFO:googleapiclient.discovery:URL being requested: POST https://earthengine.googleapis.com/v1alpha/projects/earthengine-legacy/value:compute?prettyPrint=false&alt=json\n",
      "INFO:TATSSI.download.gee_downloader:Exporting 212/297: 2017_03_06.tif\n",
      "INFO:googleapiclient.discovery:URL being requested: POST https://earthengine.googleapis.com/v1alpha/projects/earthengine-legacy/thumbnails?fields=name&alt=json\n"
     ]
    },
    {
     "name": "stdout",
     "output_type": "stream",
     "text": [
      "Generating URL ...\n"
     ]
    },
    {
     "name": "stderr",
     "output_type": "stream",
     "text": [
      "INFO:TATSSI.download.gee_downloader:Downloading data from https://earthengine.googleapis.com/v1alpha/projects/earthengine-legacy/thumbnails/d46c60b3d7b4e552ae1e78cd5aec1fd6-de4b6d85505fb912541a3ef342d60d83:getPixels\n",
      "Please wait ...\n",
      "INFO:TATSSI.download.gee_downloader:Data downloaded to /home/glopez/Projects/TATSSI/data/test_gee\n",
      "INFO:googleapiclient.discovery:URL being requested: POST https://earthengine.googleapis.com/v1alpha/projects/earthengine-legacy/value:compute?prettyPrint=false&alt=json\n",
      "INFO:TATSSI.download.gee_downloader:Exporting 213/297: 2017_03_22.tif\n",
      "INFO:googleapiclient.discovery:URL being requested: POST https://earthengine.googleapis.com/v1alpha/projects/earthengine-legacy/thumbnails?fields=name&alt=json\n"
     ]
    },
    {
     "name": "stdout",
     "output_type": "stream",
     "text": [
      "Generating URL ...\n"
     ]
    },
    {
     "name": "stderr",
     "output_type": "stream",
     "text": [
      "INFO:TATSSI.download.gee_downloader:Downloading data from https://earthengine.googleapis.com/v1alpha/projects/earthengine-legacy/thumbnails/c8a6aaeb27290f589b75f2ed6b4e1a7c-4a54a3a4ab11aa0004341fb7125bbbcb:getPixels\n",
      "Please wait ...\n",
      "INFO:TATSSI.download.gee_downloader:Data downloaded to /home/glopez/Projects/TATSSI/data/test_gee\n",
      "INFO:googleapiclient.discovery:URL being requested: POST https://earthengine.googleapis.com/v1alpha/projects/earthengine-legacy/value:compute?prettyPrint=false&alt=json\n",
      "INFO:TATSSI.download.gee_downloader:Exporting 214/297: 2017_04_07.tif\n",
      "INFO:googleapiclient.discovery:URL being requested: POST https://earthengine.googleapis.com/v1alpha/projects/earthengine-legacy/thumbnails?fields=name&alt=json\n"
     ]
    },
    {
     "name": "stdout",
     "output_type": "stream",
     "text": [
      "Generating URL ...\n"
     ]
    },
    {
     "name": "stderr",
     "output_type": "stream",
     "text": [
      "INFO:TATSSI.download.gee_downloader:Downloading data from https://earthengine.googleapis.com/v1alpha/projects/earthengine-legacy/thumbnails/789186c3c810ddb2284fe2e5195fff18-8d4a88ff890cba58df3361a246262b33:getPixels\n",
      "Please wait ...\n",
      "INFO:TATSSI.download.gee_downloader:Data downloaded to /home/glopez/Projects/TATSSI/data/test_gee\n",
      "INFO:googleapiclient.discovery:URL being requested: POST https://earthengine.googleapis.com/v1alpha/projects/earthengine-legacy/value:compute?prettyPrint=false&alt=json\n",
      "INFO:TATSSI.download.gee_downloader:Exporting 215/297: 2017_04_23.tif\n",
      "INFO:googleapiclient.discovery:URL being requested: POST https://earthengine.googleapis.com/v1alpha/projects/earthengine-legacy/thumbnails?fields=name&alt=json\n"
     ]
    },
    {
     "name": "stdout",
     "output_type": "stream",
     "text": [
      "Generating URL ...\n"
     ]
    },
    {
     "name": "stderr",
     "output_type": "stream",
     "text": [
      "INFO:TATSSI.download.gee_downloader:Downloading data from https://earthengine.googleapis.com/v1alpha/projects/earthengine-legacy/thumbnails/604965aa3b3d4e6e29884024a2c8a9f1-60bdc7abfac90529eae7c274dc97a1b3:getPixels\n",
      "Please wait ...\n",
      "INFO:TATSSI.download.gee_downloader:Data downloaded to /home/glopez/Projects/TATSSI/data/test_gee\n",
      "INFO:googleapiclient.discovery:URL being requested: POST https://earthengine.googleapis.com/v1alpha/projects/earthengine-legacy/value:compute?prettyPrint=false&alt=json\n",
      "INFO:TATSSI.download.gee_downloader:Exporting 216/297: 2017_05_09.tif\n",
      "INFO:googleapiclient.discovery:URL being requested: POST https://earthengine.googleapis.com/v1alpha/projects/earthengine-legacy/thumbnails?fields=name&alt=json\n"
     ]
    },
    {
     "name": "stdout",
     "output_type": "stream",
     "text": [
      "Generating URL ...\n"
     ]
    },
    {
     "name": "stderr",
     "output_type": "stream",
     "text": [
      "INFO:TATSSI.download.gee_downloader:Downloading data from https://earthengine.googleapis.com/v1alpha/projects/earthengine-legacy/thumbnails/736e3fcab70d4c89c15322f39729a3c0-75827192ab49d1c235bf325863ec0752:getPixels\n",
      "Please wait ...\n",
      "INFO:TATSSI.download.gee_downloader:Data downloaded to /home/glopez/Projects/TATSSI/data/test_gee\n",
      "INFO:googleapiclient.discovery:URL being requested: POST https://earthengine.googleapis.com/v1alpha/projects/earthengine-legacy/value:compute?prettyPrint=false&alt=json\n",
      "INFO:TATSSI.download.gee_downloader:Exporting 217/297: 2017_05_25.tif\n",
      "INFO:googleapiclient.discovery:URL being requested: POST https://earthengine.googleapis.com/v1alpha/projects/earthengine-legacy/thumbnails?fields=name&alt=json\n"
     ]
    },
    {
     "name": "stdout",
     "output_type": "stream",
     "text": [
      "Generating URL ...\n"
     ]
    },
    {
     "name": "stderr",
     "output_type": "stream",
     "text": [
      "INFO:TATSSI.download.gee_downloader:Downloading data from https://earthengine.googleapis.com/v1alpha/projects/earthengine-legacy/thumbnails/6a819a0a29ff399b93b856622edd4988-ea371e11c1ea25f94f462b3044f50bd6:getPixels\n",
      "Please wait ...\n",
      "INFO:TATSSI.download.gee_downloader:Data downloaded to /home/glopez/Projects/TATSSI/data/test_gee\n",
      "INFO:googleapiclient.discovery:URL being requested: POST https://earthengine.googleapis.com/v1alpha/projects/earthengine-legacy/value:compute?prettyPrint=false&alt=json\n",
      "INFO:TATSSI.download.gee_downloader:Exporting 218/297: 2017_06_10.tif\n",
      "INFO:googleapiclient.discovery:URL being requested: POST https://earthengine.googleapis.com/v1alpha/projects/earthengine-legacy/thumbnails?fields=name&alt=json\n"
     ]
    },
    {
     "name": "stdout",
     "output_type": "stream",
     "text": [
      "Generating URL ...\n"
     ]
    },
    {
     "name": "stderr",
     "output_type": "stream",
     "text": [
      "INFO:TATSSI.download.gee_downloader:Downloading data from https://earthengine.googleapis.com/v1alpha/projects/earthengine-legacy/thumbnails/da36f50db8db3dfd312bd7be9e4fb2e6-5e5ebf51f3d1bb36c7d6dcde9f55a85c:getPixels\n",
      "Please wait ...\n",
      "INFO:TATSSI.download.gee_downloader:Data downloaded to /home/glopez/Projects/TATSSI/data/test_gee\n",
      "INFO:googleapiclient.discovery:URL being requested: POST https://earthengine.googleapis.com/v1alpha/projects/earthengine-legacy/value:compute?prettyPrint=false&alt=json\n",
      "INFO:TATSSI.download.gee_downloader:Exporting 219/297: 2017_06_26.tif\n",
      "INFO:googleapiclient.discovery:URL being requested: POST https://earthengine.googleapis.com/v1alpha/projects/earthengine-legacy/thumbnails?fields=name&alt=json\n"
     ]
    },
    {
     "name": "stdout",
     "output_type": "stream",
     "text": [
      "Generating URL ...\n"
     ]
    },
    {
     "name": "stderr",
     "output_type": "stream",
     "text": [
      "INFO:TATSSI.download.gee_downloader:Downloading data from https://earthengine.googleapis.com/v1alpha/projects/earthengine-legacy/thumbnails/5cd2fd9e2aafcab7fcfefde3b007cb2c-f044f74b1555f200d033d9f445ae5ca8:getPixels\n",
      "Please wait ...\n",
      "INFO:TATSSI.download.gee_downloader:Data downloaded to /home/glopez/Projects/TATSSI/data/test_gee\n",
      "INFO:googleapiclient.discovery:URL being requested: POST https://earthengine.googleapis.com/v1alpha/projects/earthengine-legacy/value:compute?prettyPrint=false&alt=json\n",
      "INFO:TATSSI.download.gee_downloader:Exporting 220/297: 2017_07_12.tif\n",
      "INFO:googleapiclient.discovery:URL being requested: POST https://earthengine.googleapis.com/v1alpha/projects/earthengine-legacy/thumbnails?fields=name&alt=json\n"
     ]
    },
    {
     "name": "stdout",
     "output_type": "stream",
     "text": [
      "Generating URL ...\n"
     ]
    },
    {
     "name": "stderr",
     "output_type": "stream",
     "text": [
      "INFO:TATSSI.download.gee_downloader:Downloading data from https://earthengine.googleapis.com/v1alpha/projects/earthengine-legacy/thumbnails/204d79b7ebacebdf345960d73bd2470e-b1c3ae6d5b5990f1da4397871c56f29e:getPixels\n",
      "Please wait ...\n",
      "INFO:TATSSI.download.gee_downloader:Data downloaded to /home/glopez/Projects/TATSSI/data/test_gee\n",
      "INFO:googleapiclient.discovery:URL being requested: POST https://earthengine.googleapis.com/v1alpha/projects/earthengine-legacy/value:compute?prettyPrint=false&alt=json\n",
      "INFO:TATSSI.download.gee_downloader:Exporting 221/297: 2017_07_28.tif\n",
      "INFO:googleapiclient.discovery:URL being requested: POST https://earthengine.googleapis.com/v1alpha/projects/earthengine-legacy/thumbnails?fields=name&alt=json\n"
     ]
    },
    {
     "name": "stdout",
     "output_type": "stream",
     "text": [
      "Generating URL ...\n"
     ]
    },
    {
     "name": "stderr",
     "output_type": "stream",
     "text": [
      "INFO:TATSSI.download.gee_downloader:Downloading data from https://earthengine.googleapis.com/v1alpha/projects/earthengine-legacy/thumbnails/9a62d692aac5aa73f0fb9db2106589fc-60c5d362e3268db37d9e8ee251e41828:getPixels\n",
      "Please wait ...\n",
      "INFO:TATSSI.download.gee_downloader:Data downloaded to /home/glopez/Projects/TATSSI/data/test_gee\n",
      "INFO:googleapiclient.discovery:URL being requested: POST https://earthengine.googleapis.com/v1alpha/projects/earthengine-legacy/value:compute?prettyPrint=false&alt=json\n",
      "INFO:TATSSI.download.gee_downloader:Exporting 222/297: 2017_08_13.tif\n",
      "INFO:googleapiclient.discovery:URL being requested: POST https://earthengine.googleapis.com/v1alpha/projects/earthengine-legacy/thumbnails?fields=name&alt=json\n"
     ]
    },
    {
     "name": "stdout",
     "output_type": "stream",
     "text": [
      "Generating URL ...\n"
     ]
    },
    {
     "name": "stderr",
     "output_type": "stream",
     "text": [
      "INFO:TATSSI.download.gee_downloader:Downloading data from https://earthengine.googleapis.com/v1alpha/projects/earthengine-legacy/thumbnails/2ff50a6136de4aea7799c284d43c2023-60ee6efbcde7c8aec94d2496ebc842dd:getPixels\n",
      "Please wait ...\n",
      "INFO:TATSSI.download.gee_downloader:Data downloaded to /home/glopez/Projects/TATSSI/data/test_gee\n",
      "INFO:googleapiclient.discovery:URL being requested: POST https://earthengine.googleapis.com/v1alpha/projects/earthengine-legacy/value:compute?prettyPrint=false&alt=json\n",
      "INFO:TATSSI.download.gee_downloader:Exporting 223/297: 2017_08_29.tif\n",
      "INFO:googleapiclient.discovery:URL being requested: POST https://earthengine.googleapis.com/v1alpha/projects/earthengine-legacy/thumbnails?fields=name&alt=json\n"
     ]
    },
    {
     "name": "stdout",
     "output_type": "stream",
     "text": [
      "Generating URL ...\n"
     ]
    },
    {
     "name": "stderr",
     "output_type": "stream",
     "text": [
      "INFO:TATSSI.download.gee_downloader:Downloading data from https://earthengine.googleapis.com/v1alpha/projects/earthengine-legacy/thumbnails/4fde30c6b734b33251a7295f15f9f958-dceec7aa317c2968f144e5216c68cbb2:getPixels\n",
      "Please wait ...\n",
      "INFO:TATSSI.download.gee_downloader:Data downloaded to /home/glopez/Projects/TATSSI/data/test_gee\n",
      "INFO:googleapiclient.discovery:URL being requested: POST https://earthengine.googleapis.com/v1alpha/projects/earthengine-legacy/value:compute?prettyPrint=false&alt=json\n",
      "INFO:TATSSI.download.gee_downloader:Exporting 224/297: 2017_09_14.tif\n",
      "INFO:googleapiclient.discovery:URL being requested: POST https://earthengine.googleapis.com/v1alpha/projects/earthengine-legacy/thumbnails?fields=name&alt=json\n"
     ]
    },
    {
     "name": "stdout",
     "output_type": "stream",
     "text": [
      "Generating URL ...\n"
     ]
    },
    {
     "name": "stderr",
     "output_type": "stream",
     "text": [
      "INFO:TATSSI.download.gee_downloader:Downloading data from https://earthengine.googleapis.com/v1alpha/projects/earthengine-legacy/thumbnails/3b0fdb2dc6ba36807c7d71a2aaa28fec-d209d5869f0d1e8bc6d0d1658ee0e88c:getPixels\n",
      "Please wait ...\n",
      "INFO:TATSSI.download.gee_downloader:Data downloaded to /home/glopez/Projects/TATSSI/data/test_gee\n",
      "INFO:googleapiclient.discovery:URL being requested: POST https://earthengine.googleapis.com/v1alpha/projects/earthengine-legacy/value:compute?prettyPrint=false&alt=json\n",
      "INFO:TATSSI.download.gee_downloader:Exporting 225/297: 2017_09_30.tif\n",
      "INFO:googleapiclient.discovery:URL being requested: POST https://earthengine.googleapis.com/v1alpha/projects/earthengine-legacy/thumbnails?fields=name&alt=json\n"
     ]
    },
    {
     "name": "stdout",
     "output_type": "stream",
     "text": [
      "Generating URL ...\n"
     ]
    },
    {
     "name": "stderr",
     "output_type": "stream",
     "text": [
      "INFO:TATSSI.download.gee_downloader:Downloading data from https://earthengine.googleapis.com/v1alpha/projects/earthengine-legacy/thumbnails/8a97ace32c5e784d967916dd62cf5264-d9df463aa2e492a14e33d2cdcfe52e1b:getPixels\n",
      "Please wait ...\n",
      "INFO:TATSSI.download.gee_downloader:Data downloaded to /home/glopez/Projects/TATSSI/data/test_gee\n",
      "INFO:googleapiclient.discovery:URL being requested: POST https://earthengine.googleapis.com/v1alpha/projects/earthengine-legacy/value:compute?prettyPrint=false&alt=json\n",
      "INFO:TATSSI.download.gee_downloader:Exporting 226/297: 2017_10_16.tif\n",
      "INFO:googleapiclient.discovery:URL being requested: POST https://earthengine.googleapis.com/v1alpha/projects/earthengine-legacy/thumbnails?fields=name&alt=json\n"
     ]
    },
    {
     "name": "stdout",
     "output_type": "stream",
     "text": [
      "Generating URL ...\n"
     ]
    },
    {
     "name": "stderr",
     "output_type": "stream",
     "text": [
      "INFO:TATSSI.download.gee_downloader:Downloading data from https://earthengine.googleapis.com/v1alpha/projects/earthengine-legacy/thumbnails/206e830415ed3e7fd4c1fef476172988-49b61d37e807c37c02d9412228552096:getPixels\n",
      "Please wait ...\n",
      "INFO:TATSSI.download.gee_downloader:Data downloaded to /home/glopez/Projects/TATSSI/data/test_gee\n",
      "INFO:googleapiclient.discovery:URL being requested: POST https://earthengine.googleapis.com/v1alpha/projects/earthengine-legacy/value:compute?prettyPrint=false&alt=json\n",
      "INFO:TATSSI.download.gee_downloader:Exporting 227/297: 2017_11_01.tif\n",
      "INFO:googleapiclient.discovery:URL being requested: POST https://earthengine.googleapis.com/v1alpha/projects/earthengine-legacy/thumbnails?fields=name&alt=json\n"
     ]
    },
    {
     "name": "stdout",
     "output_type": "stream",
     "text": [
      "Generating URL ...\n"
     ]
    },
    {
     "name": "stderr",
     "output_type": "stream",
     "text": [
      "INFO:TATSSI.download.gee_downloader:Downloading data from https://earthengine.googleapis.com/v1alpha/projects/earthengine-legacy/thumbnails/f27d5b41fa2519ae6eb4500e4f61a066-14144ef685915c29e91c13dbeea63f08:getPixels\n",
      "Please wait ...\n",
      "INFO:TATSSI.download.gee_downloader:Data downloaded to /home/glopez/Projects/TATSSI/data/test_gee\n",
      "INFO:googleapiclient.discovery:URL being requested: POST https://earthengine.googleapis.com/v1alpha/projects/earthengine-legacy/value:compute?prettyPrint=false&alt=json\n",
      "INFO:TATSSI.download.gee_downloader:Exporting 228/297: 2017_11_17.tif\n",
      "INFO:googleapiclient.discovery:URL being requested: POST https://earthengine.googleapis.com/v1alpha/projects/earthengine-legacy/thumbnails?fields=name&alt=json\n"
     ]
    },
    {
     "name": "stdout",
     "output_type": "stream",
     "text": [
      "Generating URL ...\n"
     ]
    },
    {
     "name": "stderr",
     "output_type": "stream",
     "text": [
      "INFO:TATSSI.download.gee_downloader:Downloading data from https://earthengine.googleapis.com/v1alpha/projects/earthengine-legacy/thumbnails/e0727f25c858eb93ebbd4a75a93cafea-4af753fcc913dcdbaab0ed10b248ebe3:getPixels\n",
      "Please wait ...\n",
      "INFO:TATSSI.download.gee_downloader:Data downloaded to /home/glopez/Projects/TATSSI/data/test_gee\n",
      "INFO:googleapiclient.discovery:URL being requested: POST https://earthengine.googleapis.com/v1alpha/projects/earthengine-legacy/value:compute?prettyPrint=false&alt=json\n",
      "INFO:TATSSI.download.gee_downloader:Exporting 229/297: 2017_12_03.tif\n",
      "INFO:googleapiclient.discovery:URL being requested: POST https://earthengine.googleapis.com/v1alpha/projects/earthengine-legacy/thumbnails?fields=name&alt=json\n"
     ]
    },
    {
     "name": "stdout",
     "output_type": "stream",
     "text": [
      "Generating URL ...\n"
     ]
    },
    {
     "name": "stderr",
     "output_type": "stream",
     "text": [
      "INFO:TATSSI.download.gee_downloader:Downloading data from https://earthengine.googleapis.com/v1alpha/projects/earthengine-legacy/thumbnails/afd5c1a90d2268e4cfa1feb9093be509-dfb4185b00800980c10826be5b930857:getPixels\n",
      "Please wait ...\n",
      "INFO:TATSSI.download.gee_downloader:Data downloaded to /home/glopez/Projects/TATSSI/data/test_gee\n",
      "INFO:googleapiclient.discovery:URL being requested: POST https://earthengine.googleapis.com/v1alpha/projects/earthengine-legacy/value:compute?prettyPrint=false&alt=json\n",
      "INFO:TATSSI.download.gee_downloader:Exporting 230/297: 2017_12_19.tif\n",
      "INFO:googleapiclient.discovery:URL being requested: POST https://earthengine.googleapis.com/v1alpha/projects/earthengine-legacy/thumbnails?fields=name&alt=json\n"
     ]
    },
    {
     "name": "stdout",
     "output_type": "stream",
     "text": [
      "Generating URL ...\n"
     ]
    },
    {
     "name": "stderr",
     "output_type": "stream",
     "text": [
      "INFO:TATSSI.download.gee_downloader:Downloading data from https://earthengine.googleapis.com/v1alpha/projects/earthengine-legacy/thumbnails/54bb98fa2ea06fd535190f9824c34430-106f353364388bfdf30572a5e78d5504:getPixels\n",
      "Please wait ...\n",
      "INFO:TATSSI.download.gee_downloader:Data downloaded to /home/glopez/Projects/TATSSI/data/test_gee\n",
      "INFO:googleapiclient.discovery:URL being requested: POST https://earthengine.googleapis.com/v1alpha/projects/earthengine-legacy/value:compute?prettyPrint=false&alt=json\n",
      "INFO:TATSSI.download.gee_downloader:Exporting 231/297: 2018_01_01.tif\n",
      "INFO:googleapiclient.discovery:URL being requested: POST https://earthengine.googleapis.com/v1alpha/projects/earthengine-legacy/thumbnails?fields=name&alt=json\n"
     ]
    },
    {
     "name": "stdout",
     "output_type": "stream",
     "text": [
      "Generating URL ...\n"
     ]
    },
    {
     "name": "stderr",
     "output_type": "stream",
     "text": [
      "INFO:TATSSI.download.gee_downloader:Downloading data from https://earthengine.googleapis.com/v1alpha/projects/earthengine-legacy/thumbnails/cf7005894c15ee0570e2e205d0ee975b-64071d1d6a5cb1dc7e734e87be18437f:getPixels\n",
      "Please wait ...\n",
      "INFO:TATSSI.download.gee_downloader:Data downloaded to /home/glopez/Projects/TATSSI/data/test_gee\n",
      "INFO:googleapiclient.discovery:URL being requested: POST https://earthengine.googleapis.com/v1alpha/projects/earthengine-legacy/value:compute?prettyPrint=false&alt=json\n",
      "INFO:TATSSI.download.gee_downloader:Exporting 232/297: 2018_01_17.tif\n",
      "INFO:googleapiclient.discovery:URL being requested: POST https://earthengine.googleapis.com/v1alpha/projects/earthengine-legacy/thumbnails?fields=name&alt=json\n"
     ]
    },
    {
     "name": "stdout",
     "output_type": "stream",
     "text": [
      "Generating URL ...\n"
     ]
    },
    {
     "name": "stderr",
     "output_type": "stream",
     "text": [
      "INFO:TATSSI.download.gee_downloader:Downloading data from https://earthengine.googleapis.com/v1alpha/projects/earthengine-legacy/thumbnails/0f319b24c036907a7204a87a9914a22a-ae13c519eeb7d10167b52529db60341a:getPixels\n",
      "Please wait ...\n",
      "INFO:TATSSI.download.gee_downloader:Data downloaded to /home/glopez/Projects/TATSSI/data/test_gee\n",
      "INFO:googleapiclient.discovery:URL being requested: POST https://earthengine.googleapis.com/v1alpha/projects/earthengine-legacy/value:compute?prettyPrint=false&alt=json\n",
      "INFO:TATSSI.download.gee_downloader:Exporting 233/297: 2018_02_02.tif\n",
      "INFO:googleapiclient.discovery:URL being requested: POST https://earthengine.googleapis.com/v1alpha/projects/earthengine-legacy/thumbnails?fields=name&alt=json\n"
     ]
    },
    {
     "name": "stdout",
     "output_type": "stream",
     "text": [
      "Generating URL ...\n"
     ]
    },
    {
     "name": "stderr",
     "output_type": "stream",
     "text": [
      "INFO:TATSSI.download.gee_downloader:Downloading data from https://earthengine.googleapis.com/v1alpha/projects/earthengine-legacy/thumbnails/ba98f677d204c7f558af3ede06f8e1d9-bfe5deb9c5fce8921e380362c69242e1:getPixels\n",
      "Please wait ...\n",
      "INFO:TATSSI.download.gee_downloader:Data downloaded to /home/glopez/Projects/TATSSI/data/test_gee\n",
      "INFO:googleapiclient.discovery:URL being requested: POST https://earthengine.googleapis.com/v1alpha/projects/earthengine-legacy/value:compute?prettyPrint=false&alt=json\n",
      "INFO:TATSSI.download.gee_downloader:Exporting 234/297: 2018_02_18.tif\n",
      "INFO:googleapiclient.discovery:URL being requested: POST https://earthengine.googleapis.com/v1alpha/projects/earthengine-legacy/thumbnails?fields=name&alt=json\n"
     ]
    },
    {
     "name": "stdout",
     "output_type": "stream",
     "text": [
      "Generating URL ...\n"
     ]
    },
    {
     "name": "stderr",
     "output_type": "stream",
     "text": [
      "INFO:TATSSI.download.gee_downloader:Downloading data from https://earthengine.googleapis.com/v1alpha/projects/earthengine-legacy/thumbnails/d626a4cdebd5af7f55814ae3bc373ef3-5937f1107f05fb43ef81855fabeebb76:getPixels\n",
      "Please wait ...\n",
      "INFO:TATSSI.download.gee_downloader:Data downloaded to /home/glopez/Projects/TATSSI/data/test_gee\n",
      "INFO:googleapiclient.discovery:URL being requested: POST https://earthengine.googleapis.com/v1alpha/projects/earthengine-legacy/value:compute?prettyPrint=false&alt=json\n",
      "INFO:TATSSI.download.gee_downloader:Exporting 235/297: 2018_03_06.tif\n",
      "INFO:googleapiclient.discovery:URL being requested: POST https://earthengine.googleapis.com/v1alpha/projects/earthengine-legacy/thumbnails?fields=name&alt=json\n"
     ]
    },
    {
     "name": "stdout",
     "output_type": "stream",
     "text": [
      "Generating URL ...\n"
     ]
    },
    {
     "name": "stderr",
     "output_type": "stream",
     "text": [
      "INFO:TATSSI.download.gee_downloader:Downloading data from https://earthengine.googleapis.com/v1alpha/projects/earthengine-legacy/thumbnails/cc3b63319d2c8f0d2cf82bd76ac17d0b-feed62fbcb1329960838409ca77558ff:getPixels\n",
      "Please wait ...\n",
      "INFO:TATSSI.download.gee_downloader:Data downloaded to /home/glopez/Projects/TATSSI/data/test_gee\n",
      "INFO:googleapiclient.discovery:URL being requested: POST https://earthengine.googleapis.com/v1alpha/projects/earthengine-legacy/value:compute?prettyPrint=false&alt=json\n",
      "INFO:TATSSI.download.gee_downloader:Exporting 236/297: 2018_03_22.tif\n",
      "INFO:googleapiclient.discovery:URL being requested: POST https://earthengine.googleapis.com/v1alpha/projects/earthengine-legacy/thumbnails?fields=name&alt=json\n"
     ]
    },
    {
     "name": "stdout",
     "output_type": "stream",
     "text": [
      "Generating URL ...\n"
     ]
    },
    {
     "name": "stderr",
     "output_type": "stream",
     "text": [
      "INFO:TATSSI.download.gee_downloader:Downloading data from https://earthengine.googleapis.com/v1alpha/projects/earthengine-legacy/thumbnails/755d90932c9b1814e722d3ae712b9bc1-5961b6bae2b4ce9707dca1cf6685f35e:getPixels\n",
      "Please wait ...\n",
      "INFO:TATSSI.download.gee_downloader:Data downloaded to /home/glopez/Projects/TATSSI/data/test_gee\n",
      "INFO:googleapiclient.discovery:URL being requested: POST https://earthengine.googleapis.com/v1alpha/projects/earthengine-legacy/value:compute?prettyPrint=false&alt=json\n",
      "INFO:TATSSI.download.gee_downloader:Exporting 237/297: 2018_04_07.tif\n",
      "INFO:googleapiclient.discovery:URL being requested: POST https://earthengine.googleapis.com/v1alpha/projects/earthengine-legacy/thumbnails?fields=name&alt=json\n"
     ]
    },
    {
     "name": "stdout",
     "output_type": "stream",
     "text": [
      "Generating URL ...\n"
     ]
    },
    {
     "name": "stderr",
     "output_type": "stream",
     "text": [
      "INFO:TATSSI.download.gee_downloader:Downloading data from https://earthengine.googleapis.com/v1alpha/projects/earthengine-legacy/thumbnails/943115a80b5365d976c5de32b8b1b3b0-bf11e49bea4c4ec5c52cbd01116c7904:getPixels\n",
      "Please wait ...\n",
      "INFO:TATSSI.download.gee_downloader:Data downloaded to /home/glopez/Projects/TATSSI/data/test_gee\n",
      "INFO:googleapiclient.discovery:URL being requested: POST https://earthengine.googleapis.com/v1alpha/projects/earthengine-legacy/value:compute?prettyPrint=false&alt=json\n",
      "INFO:TATSSI.download.gee_downloader:Exporting 238/297: 2018_04_23.tif\n",
      "INFO:googleapiclient.discovery:URL being requested: POST https://earthengine.googleapis.com/v1alpha/projects/earthengine-legacy/thumbnails?fields=name&alt=json\n"
     ]
    },
    {
     "name": "stdout",
     "output_type": "stream",
     "text": [
      "Generating URL ...\n"
     ]
    },
    {
     "name": "stderr",
     "output_type": "stream",
     "text": [
      "INFO:TATSSI.download.gee_downloader:Downloading data from https://earthengine.googleapis.com/v1alpha/projects/earthengine-legacy/thumbnails/6f54810b4ce3760f1b61c1fb89fa3bac-828eefc0ddbccbf016e5911df91569b1:getPixels\n",
      "Please wait ...\n",
      "INFO:TATSSI.download.gee_downloader:Data downloaded to /home/glopez/Projects/TATSSI/data/test_gee\n",
      "INFO:googleapiclient.discovery:URL being requested: POST https://earthengine.googleapis.com/v1alpha/projects/earthengine-legacy/value:compute?prettyPrint=false&alt=json\n",
      "INFO:TATSSI.download.gee_downloader:Exporting 239/297: 2018_05_09.tif\n",
      "INFO:googleapiclient.discovery:URL being requested: POST https://earthengine.googleapis.com/v1alpha/projects/earthengine-legacy/thumbnails?fields=name&alt=json\n"
     ]
    },
    {
     "name": "stdout",
     "output_type": "stream",
     "text": [
      "Generating URL ...\n"
     ]
    },
    {
     "name": "stderr",
     "output_type": "stream",
     "text": [
      "INFO:TATSSI.download.gee_downloader:Downloading data from https://earthengine.googleapis.com/v1alpha/projects/earthengine-legacy/thumbnails/e1b7b7d82a8dd183d3d54df87b9a1e55-d3bd6361640a1bf8dbe499a691477424:getPixels\n",
      "Please wait ...\n",
      "INFO:TATSSI.download.gee_downloader:Data downloaded to /home/glopez/Projects/TATSSI/data/test_gee\n",
      "INFO:googleapiclient.discovery:URL being requested: POST https://earthengine.googleapis.com/v1alpha/projects/earthengine-legacy/value:compute?prettyPrint=false&alt=json\n",
      "INFO:TATSSI.download.gee_downloader:Exporting 240/297: 2018_05_25.tif\n",
      "INFO:googleapiclient.discovery:URL being requested: POST https://earthengine.googleapis.com/v1alpha/projects/earthengine-legacy/thumbnails?fields=name&alt=json\n"
     ]
    },
    {
     "name": "stdout",
     "output_type": "stream",
     "text": [
      "Generating URL ...\n"
     ]
    },
    {
     "name": "stderr",
     "output_type": "stream",
     "text": [
      "INFO:TATSSI.download.gee_downloader:Downloading data from https://earthengine.googleapis.com/v1alpha/projects/earthengine-legacy/thumbnails/45ff6a6fec18db75fd379224406a5a9a-7a2a89ed86f14ba97ce8e7bf52c1a967:getPixels\n",
      "Please wait ...\n",
      "INFO:TATSSI.download.gee_downloader:Data downloaded to /home/glopez/Projects/TATSSI/data/test_gee\n",
      "INFO:googleapiclient.discovery:URL being requested: POST https://earthengine.googleapis.com/v1alpha/projects/earthengine-legacy/value:compute?prettyPrint=false&alt=json\n",
      "INFO:TATSSI.download.gee_downloader:Exporting 241/297: 2018_06_10.tif\n",
      "INFO:googleapiclient.discovery:URL being requested: POST https://earthengine.googleapis.com/v1alpha/projects/earthengine-legacy/thumbnails?fields=name&alt=json\n"
     ]
    },
    {
     "name": "stdout",
     "output_type": "stream",
     "text": [
      "Generating URL ...\n"
     ]
    },
    {
     "name": "stderr",
     "output_type": "stream",
     "text": [
      "INFO:TATSSI.download.gee_downloader:Downloading data from https://earthengine.googleapis.com/v1alpha/projects/earthengine-legacy/thumbnails/2219128a379a0ff758e9142efa050e6c-47f6e8035d1ff0a73dc2dd365445c0b8:getPixels\n",
      "Please wait ...\n",
      "INFO:TATSSI.download.gee_downloader:Data downloaded to /home/glopez/Projects/TATSSI/data/test_gee\n",
      "INFO:googleapiclient.discovery:URL being requested: POST https://earthengine.googleapis.com/v1alpha/projects/earthengine-legacy/value:compute?prettyPrint=false&alt=json\n",
      "INFO:TATSSI.download.gee_downloader:Exporting 242/297: 2018_06_26.tif\n",
      "INFO:googleapiclient.discovery:URL being requested: POST https://earthengine.googleapis.com/v1alpha/projects/earthengine-legacy/thumbnails?fields=name&alt=json\n"
     ]
    },
    {
     "name": "stdout",
     "output_type": "stream",
     "text": [
      "Generating URL ...\n"
     ]
    },
    {
     "name": "stderr",
     "output_type": "stream",
     "text": [
      "INFO:TATSSI.download.gee_downloader:Downloading data from https://earthengine.googleapis.com/v1alpha/projects/earthengine-legacy/thumbnails/93b4b37846a1c4bc01232fa268761ea1-14cf20b5dbc0236e00fc101d342b40b5:getPixels\n",
      "Please wait ...\n",
      "INFO:TATSSI.download.gee_downloader:Data downloaded to /home/glopez/Projects/TATSSI/data/test_gee\n",
      "INFO:googleapiclient.discovery:URL being requested: POST https://earthengine.googleapis.com/v1alpha/projects/earthengine-legacy/value:compute?prettyPrint=false&alt=json\n",
      "INFO:TATSSI.download.gee_downloader:Exporting 243/297: 2018_07_12.tif\n",
      "INFO:googleapiclient.discovery:URL being requested: POST https://earthengine.googleapis.com/v1alpha/projects/earthengine-legacy/thumbnails?fields=name&alt=json\n"
     ]
    },
    {
     "name": "stdout",
     "output_type": "stream",
     "text": [
      "Generating URL ...\n"
     ]
    },
    {
     "name": "stderr",
     "output_type": "stream",
     "text": [
      "INFO:TATSSI.download.gee_downloader:Downloading data from https://earthengine.googleapis.com/v1alpha/projects/earthengine-legacy/thumbnails/f5f2ecc9cb7b35137786063390291b07-50d4860e4978adeab621b1828f583486:getPixels\n",
      "Please wait ...\n",
      "INFO:TATSSI.download.gee_downloader:Data downloaded to /home/glopez/Projects/TATSSI/data/test_gee\n",
      "INFO:googleapiclient.discovery:URL being requested: POST https://earthengine.googleapis.com/v1alpha/projects/earthengine-legacy/value:compute?prettyPrint=false&alt=json\n",
      "INFO:TATSSI.download.gee_downloader:Exporting 244/297: 2018_07_28.tif\n",
      "INFO:googleapiclient.discovery:URL being requested: POST https://earthengine.googleapis.com/v1alpha/projects/earthengine-legacy/thumbnails?fields=name&alt=json\n"
     ]
    },
    {
     "name": "stdout",
     "output_type": "stream",
     "text": [
      "Generating URL ...\n"
     ]
    },
    {
     "name": "stderr",
     "output_type": "stream",
     "text": [
      "INFO:TATSSI.download.gee_downloader:Downloading data from https://earthengine.googleapis.com/v1alpha/projects/earthengine-legacy/thumbnails/450e1a9b318b0c54b4f8fa01a5f52db2-14b07ba9a79526f686c7e7edd18279a8:getPixels\n",
      "Please wait ...\n",
      "INFO:TATSSI.download.gee_downloader:Data downloaded to /home/glopez/Projects/TATSSI/data/test_gee\n",
      "INFO:googleapiclient.discovery:URL being requested: POST https://earthengine.googleapis.com/v1alpha/projects/earthengine-legacy/value:compute?prettyPrint=false&alt=json\n",
      "INFO:TATSSI.download.gee_downloader:Exporting 245/297: 2018_08_13.tif\n",
      "INFO:googleapiclient.discovery:URL being requested: POST https://earthengine.googleapis.com/v1alpha/projects/earthengine-legacy/thumbnails?fields=name&alt=json\n"
     ]
    },
    {
     "name": "stdout",
     "output_type": "stream",
     "text": [
      "Generating URL ...\n"
     ]
    },
    {
     "name": "stderr",
     "output_type": "stream",
     "text": [
      "INFO:TATSSI.download.gee_downloader:Downloading data from https://earthengine.googleapis.com/v1alpha/projects/earthengine-legacy/thumbnails/4376e71be7b2a9196a5d80cbe7e4232e-72c5183bfdafcf6feb8ef710dd6e8d5b:getPixels\n",
      "Please wait ...\n",
      "INFO:TATSSI.download.gee_downloader:Data downloaded to /home/glopez/Projects/TATSSI/data/test_gee\n",
      "INFO:googleapiclient.discovery:URL being requested: POST https://earthengine.googleapis.com/v1alpha/projects/earthengine-legacy/value:compute?prettyPrint=false&alt=json\n",
      "INFO:TATSSI.download.gee_downloader:Exporting 246/297: 2018_08_29.tif\n",
      "INFO:googleapiclient.discovery:URL being requested: POST https://earthengine.googleapis.com/v1alpha/projects/earthengine-legacy/thumbnails?fields=name&alt=json\n"
     ]
    },
    {
     "name": "stdout",
     "output_type": "stream",
     "text": [
      "Generating URL ...\n"
     ]
    },
    {
     "name": "stderr",
     "output_type": "stream",
     "text": [
      "INFO:TATSSI.download.gee_downloader:Downloading data from https://earthengine.googleapis.com/v1alpha/projects/earthengine-legacy/thumbnails/e03be66dbed94e44f95259e48f1da89b-80fdfb222d20d5bac0d15d7efe28b791:getPixels\n",
      "Please wait ...\n",
      "INFO:TATSSI.download.gee_downloader:Data downloaded to /home/glopez/Projects/TATSSI/data/test_gee\n",
      "INFO:googleapiclient.discovery:URL being requested: POST https://earthengine.googleapis.com/v1alpha/projects/earthengine-legacy/value:compute?prettyPrint=false&alt=json\n",
      "INFO:TATSSI.download.gee_downloader:Exporting 247/297: 2018_09_14.tif\n",
      "INFO:googleapiclient.discovery:URL being requested: POST https://earthengine.googleapis.com/v1alpha/projects/earthengine-legacy/thumbnails?fields=name&alt=json\n"
     ]
    },
    {
     "name": "stdout",
     "output_type": "stream",
     "text": [
      "Generating URL ...\n"
     ]
    },
    {
     "name": "stderr",
     "output_type": "stream",
     "text": [
      "INFO:TATSSI.download.gee_downloader:Downloading data from https://earthengine.googleapis.com/v1alpha/projects/earthengine-legacy/thumbnails/8a27c67bb9db611bf28f80198973617f-fa5fe961247bd541ecde090409e83b52:getPixels\n",
      "Please wait ...\n",
      "INFO:TATSSI.download.gee_downloader:Data downloaded to /home/glopez/Projects/TATSSI/data/test_gee\n",
      "INFO:googleapiclient.discovery:URL being requested: POST https://earthengine.googleapis.com/v1alpha/projects/earthengine-legacy/value:compute?prettyPrint=false&alt=json\n",
      "INFO:TATSSI.download.gee_downloader:Exporting 248/297: 2018_09_30.tif\n",
      "INFO:googleapiclient.discovery:URL being requested: POST https://earthengine.googleapis.com/v1alpha/projects/earthengine-legacy/thumbnails?fields=name&alt=json\n"
     ]
    },
    {
     "name": "stdout",
     "output_type": "stream",
     "text": [
      "Generating URL ...\n"
     ]
    },
    {
     "name": "stderr",
     "output_type": "stream",
     "text": [
      "INFO:TATSSI.download.gee_downloader:Downloading data from https://earthengine.googleapis.com/v1alpha/projects/earthengine-legacy/thumbnails/0bed55c36dd41ec4e73a0f9b3f8fe4e7-49760ab95287583405ec4e504010bd79:getPixels\n",
      "Please wait ...\n",
      "INFO:TATSSI.download.gee_downloader:Data downloaded to /home/glopez/Projects/TATSSI/data/test_gee\n",
      "INFO:googleapiclient.discovery:URL being requested: POST https://earthengine.googleapis.com/v1alpha/projects/earthengine-legacy/value:compute?prettyPrint=false&alt=json\n",
      "INFO:TATSSI.download.gee_downloader:Exporting 249/297: 2018_10_16.tif\n",
      "INFO:googleapiclient.discovery:URL being requested: POST https://earthengine.googleapis.com/v1alpha/projects/earthengine-legacy/thumbnails?fields=name&alt=json\n"
     ]
    },
    {
     "name": "stdout",
     "output_type": "stream",
     "text": [
      "Generating URL ...\n"
     ]
    },
    {
     "name": "stderr",
     "output_type": "stream",
     "text": [
      "INFO:TATSSI.download.gee_downloader:Downloading data from https://earthengine.googleapis.com/v1alpha/projects/earthengine-legacy/thumbnails/b3a3cbda964a87bf3f06f34bbdb3d6c1-8f507426a8ade449b580c3dd0c150ac3:getPixels\n",
      "Please wait ...\n",
      "INFO:TATSSI.download.gee_downloader:Data downloaded to /home/glopez/Projects/TATSSI/data/test_gee\n",
      "INFO:googleapiclient.discovery:URL being requested: POST https://earthengine.googleapis.com/v1alpha/projects/earthengine-legacy/value:compute?prettyPrint=false&alt=json\n",
      "INFO:TATSSI.download.gee_downloader:Exporting 250/297: 2018_11_01.tif\n",
      "INFO:googleapiclient.discovery:URL being requested: POST https://earthengine.googleapis.com/v1alpha/projects/earthengine-legacy/thumbnails?fields=name&alt=json\n"
     ]
    },
    {
     "name": "stdout",
     "output_type": "stream",
     "text": [
      "Generating URL ...\n"
     ]
    },
    {
     "name": "stderr",
     "output_type": "stream",
     "text": [
      "INFO:TATSSI.download.gee_downloader:Downloading data from https://earthengine.googleapis.com/v1alpha/projects/earthengine-legacy/thumbnails/bcb9e97ee1b5957778f2674d1e9e84e0-8b84b32d30a11d5ebb6f8b382bbb477c:getPixels\n",
      "Please wait ...\n",
      "INFO:TATSSI.download.gee_downloader:Data downloaded to /home/glopez/Projects/TATSSI/data/test_gee\n",
      "INFO:googleapiclient.discovery:URL being requested: POST https://earthengine.googleapis.com/v1alpha/projects/earthengine-legacy/value:compute?prettyPrint=false&alt=json\n",
      "INFO:TATSSI.download.gee_downloader:Exporting 251/297: 2018_11_17.tif\n",
      "INFO:googleapiclient.discovery:URL being requested: POST https://earthengine.googleapis.com/v1alpha/projects/earthengine-legacy/thumbnails?fields=name&alt=json\n"
     ]
    },
    {
     "name": "stdout",
     "output_type": "stream",
     "text": [
      "Generating URL ...\n"
     ]
    },
    {
     "name": "stderr",
     "output_type": "stream",
     "text": [
      "INFO:TATSSI.download.gee_downloader:Downloading data from https://earthengine.googleapis.com/v1alpha/projects/earthengine-legacy/thumbnails/e8d8959bc4424f692e32218c1306a994-f425439dc3a55b7e2125b09612358623:getPixels\n",
      "Please wait ...\n",
      "INFO:TATSSI.download.gee_downloader:Data downloaded to /home/glopez/Projects/TATSSI/data/test_gee\n",
      "INFO:googleapiclient.discovery:URL being requested: POST https://earthengine.googleapis.com/v1alpha/projects/earthengine-legacy/value:compute?prettyPrint=false&alt=json\n",
      "INFO:TATSSI.download.gee_downloader:Exporting 252/297: 2018_12_03.tif\n",
      "INFO:googleapiclient.discovery:URL being requested: POST https://earthengine.googleapis.com/v1alpha/projects/earthengine-legacy/thumbnails?fields=name&alt=json\n"
     ]
    },
    {
     "name": "stdout",
     "output_type": "stream",
     "text": [
      "Generating URL ...\n"
     ]
    },
    {
     "name": "stderr",
     "output_type": "stream",
     "text": [
      "INFO:TATSSI.download.gee_downloader:Downloading data from https://earthengine.googleapis.com/v1alpha/projects/earthengine-legacy/thumbnails/4be862bbeb9ecccb7da3fded6b75e492-a03282e8118c92a31c954c433ffb78df:getPixels\n",
      "Please wait ...\n",
      "INFO:TATSSI.download.gee_downloader:Data downloaded to /home/glopez/Projects/TATSSI/data/test_gee\n",
      "INFO:googleapiclient.discovery:URL being requested: POST https://earthengine.googleapis.com/v1alpha/projects/earthengine-legacy/value:compute?prettyPrint=false&alt=json\n",
      "INFO:TATSSI.download.gee_downloader:Exporting 253/297: 2018_12_19.tif\n",
      "INFO:googleapiclient.discovery:URL being requested: POST https://earthengine.googleapis.com/v1alpha/projects/earthengine-legacy/thumbnails?fields=name&alt=json\n"
     ]
    },
    {
     "name": "stdout",
     "output_type": "stream",
     "text": [
      "Generating URL ...\n"
     ]
    },
    {
     "name": "stderr",
     "output_type": "stream",
     "text": [
      "INFO:TATSSI.download.gee_downloader:Downloading data from https://earthengine.googleapis.com/v1alpha/projects/earthengine-legacy/thumbnails/7074062356f63fcc96bc96b1f03010df-b71b0efaeb02bc51f46f8d10e60839dd:getPixels\n",
      "Please wait ...\n",
      "INFO:TATSSI.download.gee_downloader:Data downloaded to /home/glopez/Projects/TATSSI/data/test_gee\n",
      "INFO:googleapiclient.discovery:URL being requested: POST https://earthengine.googleapis.com/v1alpha/projects/earthengine-legacy/value:compute?prettyPrint=false&alt=json\n",
      "INFO:TATSSI.download.gee_downloader:Exporting 254/297: 2019_01_01.tif\n",
      "INFO:googleapiclient.discovery:URL being requested: POST https://earthengine.googleapis.com/v1alpha/projects/earthengine-legacy/thumbnails?fields=name&alt=json\n"
     ]
    },
    {
     "name": "stdout",
     "output_type": "stream",
     "text": [
      "Generating URL ...\n"
     ]
    },
    {
     "name": "stderr",
     "output_type": "stream",
     "text": [
      "INFO:TATSSI.download.gee_downloader:Downloading data from https://earthengine.googleapis.com/v1alpha/projects/earthengine-legacy/thumbnails/ef4406d7e285ece79ed617c10a4e2310-6ed5ce9992ef17857ac1f013b7964e76:getPixels\n",
      "Please wait ...\n",
      "INFO:TATSSI.download.gee_downloader:Data downloaded to /home/glopez/Projects/TATSSI/data/test_gee\n",
      "INFO:googleapiclient.discovery:URL being requested: POST https://earthengine.googleapis.com/v1alpha/projects/earthengine-legacy/value:compute?prettyPrint=false&alt=json\n",
      "INFO:TATSSI.download.gee_downloader:Exporting 255/297: 2019_01_17.tif\n",
      "INFO:googleapiclient.discovery:URL being requested: POST https://earthengine.googleapis.com/v1alpha/projects/earthengine-legacy/thumbnails?fields=name&alt=json\n"
     ]
    },
    {
     "name": "stdout",
     "output_type": "stream",
     "text": [
      "Generating URL ...\n"
     ]
    },
    {
     "name": "stderr",
     "output_type": "stream",
     "text": [
      "INFO:TATSSI.download.gee_downloader:Downloading data from https://earthengine.googleapis.com/v1alpha/projects/earthengine-legacy/thumbnails/6ba370f9ae58dff02be1b42113f40a41-fac52c563b4574763751e365945ce67d:getPixels\n",
      "Please wait ...\n",
      "INFO:TATSSI.download.gee_downloader:Data downloaded to /home/glopez/Projects/TATSSI/data/test_gee\n",
      "INFO:googleapiclient.discovery:URL being requested: POST https://earthengine.googleapis.com/v1alpha/projects/earthengine-legacy/value:compute?prettyPrint=false&alt=json\n",
      "INFO:TATSSI.download.gee_downloader:Exporting 256/297: 2019_02_02.tif\n",
      "INFO:googleapiclient.discovery:URL being requested: POST https://earthengine.googleapis.com/v1alpha/projects/earthengine-legacy/thumbnails?fields=name&alt=json\n"
     ]
    },
    {
     "name": "stdout",
     "output_type": "stream",
     "text": [
      "Generating URL ...\n"
     ]
    },
    {
     "name": "stderr",
     "output_type": "stream",
     "text": [
      "INFO:TATSSI.download.gee_downloader:Downloading data from https://earthengine.googleapis.com/v1alpha/projects/earthengine-legacy/thumbnails/117693b5a18e3a210b5fe3e02aa18235-0720d50e389d0dbc395da6ed352a7b96:getPixels\n",
      "Please wait ...\n",
      "INFO:TATSSI.download.gee_downloader:Data downloaded to /home/glopez/Projects/TATSSI/data/test_gee\n",
      "INFO:googleapiclient.discovery:URL being requested: POST https://earthengine.googleapis.com/v1alpha/projects/earthengine-legacy/value:compute?prettyPrint=false&alt=json\n",
      "INFO:TATSSI.download.gee_downloader:Exporting 257/297: 2019_02_18.tif\n",
      "INFO:googleapiclient.discovery:URL being requested: POST https://earthengine.googleapis.com/v1alpha/projects/earthengine-legacy/thumbnails?fields=name&alt=json\n"
     ]
    },
    {
     "name": "stdout",
     "output_type": "stream",
     "text": [
      "Generating URL ...\n"
     ]
    },
    {
     "name": "stderr",
     "output_type": "stream",
     "text": [
      "INFO:TATSSI.download.gee_downloader:Downloading data from https://earthengine.googleapis.com/v1alpha/projects/earthengine-legacy/thumbnails/5910f9db98ef752fcb53a0a09cf0ae5e-4d454511c9040681e8f0ea6022db7ecc:getPixels\n",
      "Please wait ...\n",
      "INFO:TATSSI.download.gee_downloader:Data downloaded to /home/glopez/Projects/TATSSI/data/test_gee\n",
      "INFO:googleapiclient.discovery:URL being requested: POST https://earthengine.googleapis.com/v1alpha/projects/earthengine-legacy/value:compute?prettyPrint=false&alt=json\n",
      "INFO:TATSSI.download.gee_downloader:Exporting 258/297: 2019_03_06.tif\n",
      "INFO:googleapiclient.discovery:URL being requested: POST https://earthengine.googleapis.com/v1alpha/projects/earthengine-legacy/thumbnails?fields=name&alt=json\n"
     ]
    },
    {
     "name": "stdout",
     "output_type": "stream",
     "text": [
      "Generating URL ...\n"
     ]
    },
    {
     "name": "stderr",
     "output_type": "stream",
     "text": [
      "INFO:TATSSI.download.gee_downloader:Downloading data from https://earthengine.googleapis.com/v1alpha/projects/earthengine-legacy/thumbnails/ef318eb153b8217fd85abd60c5f930bc-9903d0dce880de4c131c7987d20a3275:getPixels\n",
      "Please wait ...\n",
      "INFO:TATSSI.download.gee_downloader:Data downloaded to /home/glopez/Projects/TATSSI/data/test_gee\n",
      "INFO:googleapiclient.discovery:URL being requested: POST https://earthengine.googleapis.com/v1alpha/projects/earthengine-legacy/value:compute?prettyPrint=false&alt=json\n",
      "INFO:TATSSI.download.gee_downloader:Exporting 259/297: 2019_03_22.tif\n",
      "INFO:googleapiclient.discovery:URL being requested: POST https://earthengine.googleapis.com/v1alpha/projects/earthengine-legacy/thumbnails?fields=name&alt=json\n"
     ]
    },
    {
     "name": "stdout",
     "output_type": "stream",
     "text": [
      "Generating URL ...\n"
     ]
    },
    {
     "name": "stderr",
     "output_type": "stream",
     "text": [
      "INFO:TATSSI.download.gee_downloader:Downloading data from https://earthengine.googleapis.com/v1alpha/projects/earthengine-legacy/thumbnails/3e8da8fbc51b5f683cd6e15d02ce0382-f25ef8defc6db98b6f07ca0361c3e93b:getPixels\n",
      "Please wait ...\n",
      "INFO:TATSSI.download.gee_downloader:Data downloaded to /home/glopez/Projects/TATSSI/data/test_gee\n",
      "INFO:googleapiclient.discovery:URL being requested: POST https://earthengine.googleapis.com/v1alpha/projects/earthengine-legacy/value:compute?prettyPrint=false&alt=json\n",
      "INFO:TATSSI.download.gee_downloader:Exporting 260/297: 2019_04_07.tif\n",
      "INFO:googleapiclient.discovery:URL being requested: POST https://earthengine.googleapis.com/v1alpha/projects/earthengine-legacy/thumbnails?fields=name&alt=json\n"
     ]
    },
    {
     "name": "stdout",
     "output_type": "stream",
     "text": [
      "Generating URL ...\n"
     ]
    },
    {
     "name": "stderr",
     "output_type": "stream",
     "text": [
      "INFO:TATSSI.download.gee_downloader:Downloading data from https://earthengine.googleapis.com/v1alpha/projects/earthengine-legacy/thumbnails/a6ec68b6f98c1ff68bccb26cfa46b195-2bcb0d50ad2c6ec5d3db64769d50ad81:getPixels\n",
      "Please wait ...\n",
      "INFO:TATSSI.download.gee_downloader:Data downloaded to /home/glopez/Projects/TATSSI/data/test_gee\n",
      "INFO:googleapiclient.discovery:URL being requested: POST https://earthengine.googleapis.com/v1alpha/projects/earthengine-legacy/value:compute?prettyPrint=false&alt=json\n",
      "INFO:TATSSI.download.gee_downloader:Exporting 261/297: 2019_04_23.tif\n",
      "INFO:googleapiclient.discovery:URL being requested: POST https://earthengine.googleapis.com/v1alpha/projects/earthengine-legacy/thumbnails?fields=name&alt=json\n"
     ]
    },
    {
     "name": "stdout",
     "output_type": "stream",
     "text": [
      "Generating URL ...\n"
     ]
    },
    {
     "name": "stderr",
     "output_type": "stream",
     "text": [
      "INFO:TATSSI.download.gee_downloader:Downloading data from https://earthengine.googleapis.com/v1alpha/projects/earthengine-legacy/thumbnails/b4c6ec4eb27bed0de51eeac43075867f-6ebca7f02ec18f046f1173081def2611:getPixels\n",
      "Please wait ...\n",
      "INFO:TATSSI.download.gee_downloader:Data downloaded to /home/glopez/Projects/TATSSI/data/test_gee\n",
      "INFO:googleapiclient.discovery:URL being requested: POST https://earthengine.googleapis.com/v1alpha/projects/earthengine-legacy/value:compute?prettyPrint=false&alt=json\n",
      "INFO:TATSSI.download.gee_downloader:Exporting 262/297: 2019_05_09.tif\n",
      "INFO:googleapiclient.discovery:URL being requested: POST https://earthengine.googleapis.com/v1alpha/projects/earthengine-legacy/thumbnails?fields=name&alt=json\n"
     ]
    },
    {
     "name": "stdout",
     "output_type": "stream",
     "text": [
      "Generating URL ...\n"
     ]
    },
    {
     "name": "stderr",
     "output_type": "stream",
     "text": [
      "INFO:TATSSI.download.gee_downloader:Downloading data from https://earthengine.googleapis.com/v1alpha/projects/earthengine-legacy/thumbnails/f00bab8913433a684d726345fb4eba37-77f898ad5f2244063b65b913c494d929:getPixels\n",
      "Please wait ...\n",
      "INFO:TATSSI.download.gee_downloader:Data downloaded to /home/glopez/Projects/TATSSI/data/test_gee\n",
      "INFO:googleapiclient.discovery:URL being requested: POST https://earthengine.googleapis.com/v1alpha/projects/earthengine-legacy/value:compute?prettyPrint=false&alt=json\n",
      "INFO:TATSSI.download.gee_downloader:Exporting 263/297: 2019_05_25.tif\n",
      "INFO:googleapiclient.discovery:URL being requested: POST https://earthengine.googleapis.com/v1alpha/projects/earthengine-legacy/thumbnails?fields=name&alt=json\n"
     ]
    },
    {
     "name": "stdout",
     "output_type": "stream",
     "text": [
      "Generating URL ...\n"
     ]
    },
    {
     "name": "stderr",
     "output_type": "stream",
     "text": [
      "INFO:TATSSI.download.gee_downloader:Downloading data from https://earthengine.googleapis.com/v1alpha/projects/earthengine-legacy/thumbnails/42880ec4b16a4ccd927e7fab772606e0-6b8d456d3f55f27066ce77e0b178433a:getPixels\n",
      "Please wait ...\n",
      "INFO:TATSSI.download.gee_downloader:Data downloaded to /home/glopez/Projects/TATSSI/data/test_gee\n",
      "INFO:googleapiclient.discovery:URL being requested: POST https://earthengine.googleapis.com/v1alpha/projects/earthengine-legacy/value:compute?prettyPrint=false&alt=json\n",
      "INFO:TATSSI.download.gee_downloader:Exporting 264/297: 2019_06_10.tif\n",
      "INFO:googleapiclient.discovery:URL being requested: POST https://earthengine.googleapis.com/v1alpha/projects/earthengine-legacy/thumbnails?fields=name&alt=json\n"
     ]
    },
    {
     "name": "stdout",
     "output_type": "stream",
     "text": [
      "Generating URL ...\n"
     ]
    },
    {
     "name": "stderr",
     "output_type": "stream",
     "text": [
      "INFO:TATSSI.download.gee_downloader:Downloading data from https://earthengine.googleapis.com/v1alpha/projects/earthengine-legacy/thumbnails/c03e3ddad26c39353f3299cbb65693fb-47e1e1b403f9133cc9027540ad209ef9:getPixels\n",
      "Please wait ...\n",
      "INFO:TATSSI.download.gee_downloader:Data downloaded to /home/glopez/Projects/TATSSI/data/test_gee\n",
      "INFO:googleapiclient.discovery:URL being requested: POST https://earthengine.googleapis.com/v1alpha/projects/earthengine-legacy/value:compute?prettyPrint=false&alt=json\n",
      "INFO:TATSSI.download.gee_downloader:Exporting 265/297: 2019_06_26.tif\n",
      "INFO:googleapiclient.discovery:URL being requested: POST https://earthengine.googleapis.com/v1alpha/projects/earthengine-legacy/thumbnails?fields=name&alt=json\n"
     ]
    },
    {
     "name": "stdout",
     "output_type": "stream",
     "text": [
      "Generating URL ...\n"
     ]
    },
    {
     "name": "stderr",
     "output_type": "stream",
     "text": [
      "INFO:TATSSI.download.gee_downloader:Downloading data from https://earthengine.googleapis.com/v1alpha/projects/earthengine-legacy/thumbnails/e92d35bdc86e7b24a10f16ca02ee4049-5dbb197b379570148c86f9562555be71:getPixels\n",
      "Please wait ...\n",
      "INFO:TATSSI.download.gee_downloader:Data downloaded to /home/glopez/Projects/TATSSI/data/test_gee\n",
      "INFO:googleapiclient.discovery:URL being requested: POST https://earthengine.googleapis.com/v1alpha/projects/earthengine-legacy/value:compute?prettyPrint=false&alt=json\n",
      "INFO:TATSSI.download.gee_downloader:Exporting 266/297: 2019_07_12.tif\n",
      "INFO:googleapiclient.discovery:URL being requested: POST https://earthengine.googleapis.com/v1alpha/projects/earthengine-legacy/thumbnails?fields=name&alt=json\n"
     ]
    },
    {
     "name": "stdout",
     "output_type": "stream",
     "text": [
      "Generating URL ...\n"
     ]
    },
    {
     "name": "stderr",
     "output_type": "stream",
     "text": [
      "INFO:TATSSI.download.gee_downloader:Downloading data from https://earthengine.googleapis.com/v1alpha/projects/earthengine-legacy/thumbnails/ddbc8ab02700152237eb3549a809236c-44e71b005e12552eec5438fb0ddcf534:getPixels\n",
      "Please wait ...\n",
      "INFO:TATSSI.download.gee_downloader:Data downloaded to /home/glopez/Projects/TATSSI/data/test_gee\n",
      "INFO:googleapiclient.discovery:URL being requested: POST https://earthengine.googleapis.com/v1alpha/projects/earthengine-legacy/value:compute?prettyPrint=false&alt=json\n",
      "INFO:TATSSI.download.gee_downloader:Exporting 267/297: 2019_07_28.tif\n",
      "INFO:googleapiclient.discovery:URL being requested: POST https://earthengine.googleapis.com/v1alpha/projects/earthengine-legacy/thumbnails?fields=name&alt=json\n"
     ]
    },
    {
     "name": "stdout",
     "output_type": "stream",
     "text": [
      "Generating URL ...\n"
     ]
    },
    {
     "name": "stderr",
     "output_type": "stream",
     "text": [
      "INFO:TATSSI.download.gee_downloader:Downloading data from https://earthengine.googleapis.com/v1alpha/projects/earthengine-legacy/thumbnails/a4646ff1e7128e36735739b379377a46-4c4657759fba389f557a597a8abc1596:getPixels\n",
      "Please wait ...\n",
      "INFO:TATSSI.download.gee_downloader:Data downloaded to /home/glopez/Projects/TATSSI/data/test_gee\n",
      "INFO:googleapiclient.discovery:URL being requested: POST https://earthengine.googleapis.com/v1alpha/projects/earthengine-legacy/value:compute?prettyPrint=false&alt=json\n",
      "INFO:TATSSI.download.gee_downloader:Exporting 268/297: 2019_08_13.tif\n",
      "INFO:googleapiclient.discovery:URL being requested: POST https://earthengine.googleapis.com/v1alpha/projects/earthengine-legacy/thumbnails?fields=name&alt=json\n"
     ]
    },
    {
     "name": "stdout",
     "output_type": "stream",
     "text": [
      "Generating URL ...\n"
     ]
    },
    {
     "name": "stderr",
     "output_type": "stream",
     "text": [
      "INFO:TATSSI.download.gee_downloader:Downloading data from https://earthengine.googleapis.com/v1alpha/projects/earthengine-legacy/thumbnails/cce7fbd90efea0b2aa3a51b479af40dd-90132e6a1a098a3d8ed4745dc2762e79:getPixels\n",
      "Please wait ...\n",
      "INFO:TATSSI.download.gee_downloader:Data downloaded to /home/glopez/Projects/TATSSI/data/test_gee\n",
      "INFO:googleapiclient.discovery:URL being requested: POST https://earthengine.googleapis.com/v1alpha/projects/earthengine-legacy/value:compute?prettyPrint=false&alt=json\n",
      "INFO:TATSSI.download.gee_downloader:Exporting 269/297: 2019_08_29.tif\n",
      "INFO:googleapiclient.discovery:URL being requested: POST https://earthengine.googleapis.com/v1alpha/projects/earthengine-legacy/thumbnails?fields=name&alt=json\n"
     ]
    },
    {
     "name": "stdout",
     "output_type": "stream",
     "text": [
      "Generating URL ...\n"
     ]
    },
    {
     "name": "stderr",
     "output_type": "stream",
     "text": [
      "INFO:TATSSI.download.gee_downloader:Downloading data from https://earthengine.googleapis.com/v1alpha/projects/earthengine-legacy/thumbnails/75257bae326ce060b3b10199ba0d08a1-dfe41fc52b1bec7f41f057a1875050bf:getPixels\n",
      "Please wait ...\n",
      "INFO:TATSSI.download.gee_downloader:Data downloaded to /home/glopez/Projects/TATSSI/data/test_gee\n",
      "INFO:googleapiclient.discovery:URL being requested: POST https://earthengine.googleapis.com/v1alpha/projects/earthengine-legacy/value:compute?prettyPrint=false&alt=json\n",
      "INFO:TATSSI.download.gee_downloader:Exporting 270/297: 2019_09_14.tif\n",
      "INFO:googleapiclient.discovery:URL being requested: POST https://earthengine.googleapis.com/v1alpha/projects/earthengine-legacy/thumbnails?fields=name&alt=json\n"
     ]
    },
    {
     "name": "stdout",
     "output_type": "stream",
     "text": [
      "Generating URL ...\n"
     ]
    },
    {
     "name": "stderr",
     "output_type": "stream",
     "text": [
      "INFO:TATSSI.download.gee_downloader:Downloading data from https://earthengine.googleapis.com/v1alpha/projects/earthengine-legacy/thumbnails/90e9a517d216386bf25c2c6bde93be6e-3a49a4cff648d5c9537f983acc78e790:getPixels\n",
      "Please wait ...\n",
      "INFO:TATSSI.download.gee_downloader:Data downloaded to /home/glopez/Projects/TATSSI/data/test_gee\n",
      "INFO:googleapiclient.discovery:URL being requested: POST https://earthengine.googleapis.com/v1alpha/projects/earthengine-legacy/value:compute?prettyPrint=false&alt=json\n",
      "INFO:TATSSI.download.gee_downloader:Exporting 271/297: 2019_09_30.tif\n",
      "INFO:googleapiclient.discovery:URL being requested: POST https://earthengine.googleapis.com/v1alpha/projects/earthengine-legacy/thumbnails?fields=name&alt=json\n"
     ]
    },
    {
     "name": "stdout",
     "output_type": "stream",
     "text": [
      "Generating URL ...\n"
     ]
    },
    {
     "name": "stderr",
     "output_type": "stream",
     "text": [
      "INFO:TATSSI.download.gee_downloader:Downloading data from https://earthengine.googleapis.com/v1alpha/projects/earthengine-legacy/thumbnails/0638b6425b8e1a6dbb3b8e9fb9b26c67-aef89b94a089b915414c71e01f3bf2f7:getPixels\n",
      "Please wait ...\n",
      "INFO:TATSSI.download.gee_downloader:Data downloaded to /home/glopez/Projects/TATSSI/data/test_gee\n",
      "INFO:googleapiclient.discovery:URL being requested: POST https://earthengine.googleapis.com/v1alpha/projects/earthengine-legacy/value:compute?prettyPrint=false&alt=json\n",
      "INFO:TATSSI.download.gee_downloader:Exporting 272/297: 2019_10_16.tif\n",
      "INFO:googleapiclient.discovery:URL being requested: POST https://earthengine.googleapis.com/v1alpha/projects/earthengine-legacy/thumbnails?fields=name&alt=json\n"
     ]
    },
    {
     "name": "stdout",
     "output_type": "stream",
     "text": [
      "Generating URL ...\n"
     ]
    },
    {
     "name": "stderr",
     "output_type": "stream",
     "text": [
      "INFO:TATSSI.download.gee_downloader:Downloading data from https://earthengine.googleapis.com/v1alpha/projects/earthengine-legacy/thumbnails/75bf75a33cbdbd8cefc3bc06b6eb2096-ccd27e1c23b3dd2aa5205e1b3dc757ab:getPixels\n",
      "Please wait ...\n",
      "INFO:TATSSI.download.gee_downloader:Data downloaded to /home/glopez/Projects/TATSSI/data/test_gee\n",
      "INFO:googleapiclient.discovery:URL being requested: POST https://earthengine.googleapis.com/v1alpha/projects/earthengine-legacy/value:compute?prettyPrint=false&alt=json\n",
      "INFO:TATSSI.download.gee_downloader:Exporting 273/297: 2019_11_01.tif\n",
      "INFO:googleapiclient.discovery:URL being requested: POST https://earthengine.googleapis.com/v1alpha/projects/earthengine-legacy/thumbnails?fields=name&alt=json\n"
     ]
    },
    {
     "name": "stdout",
     "output_type": "stream",
     "text": [
      "Generating URL ...\n"
     ]
    },
    {
     "name": "stderr",
     "output_type": "stream",
     "text": [
      "INFO:TATSSI.download.gee_downloader:Downloading data from https://earthengine.googleapis.com/v1alpha/projects/earthengine-legacy/thumbnails/da5fdac0f5567f513e63ae3353b757c6-5a98fa1cd247ae28070052acd5b6d5b3:getPixels\n",
      "Please wait ...\n",
      "INFO:TATSSI.download.gee_downloader:Data downloaded to /home/glopez/Projects/TATSSI/data/test_gee\n",
      "INFO:googleapiclient.discovery:URL being requested: POST https://earthengine.googleapis.com/v1alpha/projects/earthengine-legacy/value:compute?prettyPrint=false&alt=json\n",
      "INFO:TATSSI.download.gee_downloader:Exporting 274/297: 2019_11_17.tif\n",
      "INFO:googleapiclient.discovery:URL being requested: POST https://earthengine.googleapis.com/v1alpha/projects/earthengine-legacy/thumbnails?fields=name&alt=json\n"
     ]
    },
    {
     "name": "stdout",
     "output_type": "stream",
     "text": [
      "Generating URL ...\n"
     ]
    },
    {
     "name": "stderr",
     "output_type": "stream",
     "text": [
      "INFO:TATSSI.download.gee_downloader:Downloading data from https://earthengine.googleapis.com/v1alpha/projects/earthengine-legacy/thumbnails/01aa8ab4c3ba629a25b06bec2030a7cd-871570f7c02a262c1b37a3995b4c5ee6:getPixels\n",
      "Please wait ...\n",
      "INFO:TATSSI.download.gee_downloader:Data downloaded to /home/glopez/Projects/TATSSI/data/test_gee\n",
      "INFO:googleapiclient.discovery:URL being requested: POST https://earthengine.googleapis.com/v1alpha/projects/earthengine-legacy/value:compute?prettyPrint=false&alt=json\n",
      "INFO:TATSSI.download.gee_downloader:Exporting 275/297: 2019_12_03.tif\n",
      "INFO:googleapiclient.discovery:URL being requested: POST https://earthengine.googleapis.com/v1alpha/projects/earthengine-legacy/thumbnails?fields=name&alt=json\n"
     ]
    },
    {
     "name": "stdout",
     "output_type": "stream",
     "text": [
      "Generating URL ...\n"
     ]
    },
    {
     "name": "stderr",
     "output_type": "stream",
     "text": [
      "INFO:TATSSI.download.gee_downloader:Downloading data from https://earthengine.googleapis.com/v1alpha/projects/earthengine-legacy/thumbnails/3c025e8cb56e2055653d14767de5601b-d94e0ebdb8fc2fe8956e2bf2d3d6ff86:getPixels\n",
      "Please wait ...\n",
      "INFO:TATSSI.download.gee_downloader:Data downloaded to /home/glopez/Projects/TATSSI/data/test_gee\n",
      "INFO:googleapiclient.discovery:URL being requested: POST https://earthengine.googleapis.com/v1alpha/projects/earthengine-legacy/value:compute?prettyPrint=false&alt=json\n",
      "INFO:TATSSI.download.gee_downloader:Exporting 276/297: 2019_12_19.tif\n",
      "INFO:googleapiclient.discovery:URL being requested: POST https://earthengine.googleapis.com/v1alpha/projects/earthengine-legacy/thumbnails?fields=name&alt=json\n"
     ]
    },
    {
     "name": "stdout",
     "output_type": "stream",
     "text": [
      "Generating URL ...\n"
     ]
    },
    {
     "name": "stderr",
     "output_type": "stream",
     "text": [
      "INFO:TATSSI.download.gee_downloader:Downloading data from https://earthengine.googleapis.com/v1alpha/projects/earthengine-legacy/thumbnails/e39e9326b2ac4312776b9ff769e66aef-236bfb4047a88f264239a8ee09e164e9:getPixels\n",
      "Please wait ...\n",
      "INFO:TATSSI.download.gee_downloader:Data downloaded to /home/glopez/Projects/TATSSI/data/test_gee\n",
      "INFO:googleapiclient.discovery:URL being requested: POST https://earthengine.googleapis.com/v1alpha/projects/earthengine-legacy/value:compute?prettyPrint=false&alt=json\n",
      "INFO:TATSSI.download.gee_downloader:Exporting 277/297: 2020_01_01.tif\n",
      "INFO:googleapiclient.discovery:URL being requested: POST https://earthengine.googleapis.com/v1alpha/projects/earthengine-legacy/thumbnails?fields=name&alt=json\n"
     ]
    },
    {
     "name": "stdout",
     "output_type": "stream",
     "text": [
      "Generating URL ...\n"
     ]
    },
    {
     "name": "stderr",
     "output_type": "stream",
     "text": [
      "INFO:TATSSI.download.gee_downloader:Downloading data from https://earthengine.googleapis.com/v1alpha/projects/earthengine-legacy/thumbnails/46faa92baa9633a5c0c69de35e881116-a17a4c35f380b9a4ec81a225b9a05a4f:getPixels\n",
      "Please wait ...\n",
      "INFO:TATSSI.download.gee_downloader:Data downloaded to /home/glopez/Projects/TATSSI/data/test_gee\n",
      "INFO:googleapiclient.discovery:URL being requested: POST https://earthengine.googleapis.com/v1alpha/projects/earthengine-legacy/value:compute?prettyPrint=false&alt=json\n",
      "INFO:TATSSI.download.gee_downloader:Exporting 278/297: 2020_01_17.tif\n",
      "INFO:googleapiclient.discovery:URL being requested: POST https://earthengine.googleapis.com/v1alpha/projects/earthengine-legacy/thumbnails?fields=name&alt=json\n"
     ]
    },
    {
     "name": "stdout",
     "output_type": "stream",
     "text": [
      "Generating URL ...\n"
     ]
    },
    {
     "name": "stderr",
     "output_type": "stream",
     "text": [
      "INFO:TATSSI.download.gee_downloader:Downloading data from https://earthengine.googleapis.com/v1alpha/projects/earthengine-legacy/thumbnails/e87b239551b289db1551c5938f014245-6c9616019d8a5401f80cf5f19da7fe96:getPixels\n",
      "Please wait ...\n",
      "INFO:TATSSI.download.gee_downloader:Data downloaded to /home/glopez/Projects/TATSSI/data/test_gee\n",
      "INFO:googleapiclient.discovery:URL being requested: POST https://earthengine.googleapis.com/v1alpha/projects/earthengine-legacy/value:compute?prettyPrint=false&alt=json\n",
      "INFO:TATSSI.download.gee_downloader:Exporting 279/297: 2020_02_02.tif\n",
      "INFO:googleapiclient.discovery:URL being requested: POST https://earthengine.googleapis.com/v1alpha/projects/earthengine-legacy/thumbnails?fields=name&alt=json\n"
     ]
    },
    {
     "name": "stdout",
     "output_type": "stream",
     "text": [
      "Generating URL ...\n"
     ]
    },
    {
     "name": "stderr",
     "output_type": "stream",
     "text": [
      "INFO:TATSSI.download.gee_downloader:Downloading data from https://earthengine.googleapis.com/v1alpha/projects/earthengine-legacy/thumbnails/e69cb345e87a2867292aa4dd713b180a-2dba4c0c7e2ae38f0cda180569e1b780:getPixels\n",
      "Please wait ...\n",
      "INFO:TATSSI.download.gee_downloader:Data downloaded to /home/glopez/Projects/TATSSI/data/test_gee\n",
      "INFO:googleapiclient.discovery:URL being requested: POST https://earthengine.googleapis.com/v1alpha/projects/earthengine-legacy/value:compute?prettyPrint=false&alt=json\n",
      "INFO:TATSSI.download.gee_downloader:Exporting 280/297: 2020_02_18.tif\n",
      "INFO:googleapiclient.discovery:URL being requested: POST https://earthengine.googleapis.com/v1alpha/projects/earthengine-legacy/thumbnails?fields=name&alt=json\n"
     ]
    },
    {
     "name": "stdout",
     "output_type": "stream",
     "text": [
      "Generating URL ...\n"
     ]
    },
    {
     "name": "stderr",
     "output_type": "stream",
     "text": [
      "INFO:TATSSI.download.gee_downloader:Downloading data from https://earthengine.googleapis.com/v1alpha/projects/earthengine-legacy/thumbnails/63dcd305e33dd44cfac6ac615033f9ce-85b4e4efc0c0007ceb83b4f26f7cd339:getPixels\n",
      "Please wait ...\n",
      "INFO:TATSSI.download.gee_downloader:Data downloaded to /home/glopez/Projects/TATSSI/data/test_gee\n",
      "INFO:googleapiclient.discovery:URL being requested: POST https://earthengine.googleapis.com/v1alpha/projects/earthengine-legacy/value:compute?prettyPrint=false&alt=json\n",
      "INFO:TATSSI.download.gee_downloader:Exporting 281/297: 2020_03_05.tif\n",
      "INFO:googleapiclient.discovery:URL being requested: POST https://earthengine.googleapis.com/v1alpha/projects/earthengine-legacy/thumbnails?fields=name&alt=json\n"
     ]
    },
    {
     "name": "stdout",
     "output_type": "stream",
     "text": [
      "Generating URL ...\n"
     ]
    },
    {
     "name": "stderr",
     "output_type": "stream",
     "text": [
      "INFO:TATSSI.download.gee_downloader:Downloading data from https://earthengine.googleapis.com/v1alpha/projects/earthengine-legacy/thumbnails/1fac7b498228afa69f0d3ba4ea7a42ec-0e06cfc2ac2d3ce2ecd56350e508cc58:getPixels\n",
      "Please wait ...\n",
      "INFO:TATSSI.download.gee_downloader:Data downloaded to /home/glopez/Projects/TATSSI/data/test_gee\n",
      "INFO:googleapiclient.discovery:URL being requested: POST https://earthengine.googleapis.com/v1alpha/projects/earthengine-legacy/value:compute?prettyPrint=false&alt=json\n",
      "INFO:TATSSI.download.gee_downloader:Exporting 282/297: 2020_03_21.tif\n",
      "INFO:googleapiclient.discovery:URL being requested: POST https://earthengine.googleapis.com/v1alpha/projects/earthengine-legacy/thumbnails?fields=name&alt=json\n"
     ]
    },
    {
     "name": "stdout",
     "output_type": "stream",
     "text": [
      "Generating URL ...\n"
     ]
    },
    {
     "name": "stderr",
     "output_type": "stream",
     "text": [
      "INFO:TATSSI.download.gee_downloader:Downloading data from https://earthengine.googleapis.com/v1alpha/projects/earthengine-legacy/thumbnails/2ca3f568b1a40a8276d057b5829b58ce-73b082542a861dc6325a43fa09b11fbf:getPixels\n",
      "Please wait ...\n",
      "INFO:TATSSI.download.gee_downloader:Data downloaded to /home/glopez/Projects/TATSSI/data/test_gee\n",
      "INFO:googleapiclient.discovery:URL being requested: POST https://earthengine.googleapis.com/v1alpha/projects/earthengine-legacy/value:compute?prettyPrint=false&alt=json\n",
      "INFO:TATSSI.download.gee_downloader:Exporting 283/297: 2020_04_06.tif\n",
      "INFO:googleapiclient.discovery:URL being requested: POST https://earthengine.googleapis.com/v1alpha/projects/earthengine-legacy/thumbnails?fields=name&alt=json\n"
     ]
    },
    {
     "name": "stdout",
     "output_type": "stream",
     "text": [
      "Generating URL ...\n"
     ]
    },
    {
     "name": "stderr",
     "output_type": "stream",
     "text": [
      "INFO:TATSSI.download.gee_downloader:Downloading data from https://earthengine.googleapis.com/v1alpha/projects/earthengine-legacy/thumbnails/f8d87d737604b38b997a29660194e415-46f56101c6adf322e76a27e704eeeedd:getPixels\n",
      "Please wait ...\n",
      "INFO:TATSSI.download.gee_downloader:Data downloaded to /home/glopez/Projects/TATSSI/data/test_gee\n",
      "INFO:googleapiclient.discovery:URL being requested: POST https://earthengine.googleapis.com/v1alpha/projects/earthengine-legacy/value:compute?prettyPrint=false&alt=json\n",
      "INFO:TATSSI.download.gee_downloader:Exporting 284/297: 2020_04_22.tif\n",
      "INFO:googleapiclient.discovery:URL being requested: POST https://earthengine.googleapis.com/v1alpha/projects/earthengine-legacy/thumbnails?fields=name&alt=json\n"
     ]
    },
    {
     "name": "stdout",
     "output_type": "stream",
     "text": [
      "Generating URL ...\n"
     ]
    },
    {
     "name": "stderr",
     "output_type": "stream",
     "text": [
      "INFO:TATSSI.download.gee_downloader:Downloading data from https://earthengine.googleapis.com/v1alpha/projects/earthengine-legacy/thumbnails/8a2cb24f1cf112b5483e04fd35a709fb-9b4274bb28cc41cdea2a471fd603a002:getPixels\n",
      "Please wait ...\n",
      "INFO:TATSSI.download.gee_downloader:Data downloaded to /home/glopez/Projects/TATSSI/data/test_gee\n",
      "INFO:googleapiclient.discovery:URL being requested: POST https://earthengine.googleapis.com/v1alpha/projects/earthengine-legacy/value:compute?prettyPrint=false&alt=json\n",
      "INFO:TATSSI.download.gee_downloader:Exporting 285/297: 2020_05_08.tif\n",
      "INFO:googleapiclient.discovery:URL being requested: POST https://earthengine.googleapis.com/v1alpha/projects/earthengine-legacy/thumbnails?fields=name&alt=json\n"
     ]
    },
    {
     "name": "stdout",
     "output_type": "stream",
     "text": [
      "Generating URL ...\n"
     ]
    },
    {
     "name": "stderr",
     "output_type": "stream",
     "text": [
      "INFO:TATSSI.download.gee_downloader:Downloading data from https://earthengine.googleapis.com/v1alpha/projects/earthengine-legacy/thumbnails/d31d2e935db0f4013e9c48ec34bc490a-ca14fabef5fb32903c6a577a373feb07:getPixels\n",
      "Please wait ...\n",
      "INFO:TATSSI.download.gee_downloader:Data downloaded to /home/glopez/Projects/TATSSI/data/test_gee\n",
      "INFO:googleapiclient.discovery:URL being requested: POST https://earthengine.googleapis.com/v1alpha/projects/earthengine-legacy/value:compute?prettyPrint=false&alt=json\n",
      "INFO:TATSSI.download.gee_downloader:Exporting 286/297: 2020_05_24.tif\n",
      "INFO:googleapiclient.discovery:URL being requested: POST https://earthengine.googleapis.com/v1alpha/projects/earthengine-legacy/thumbnails?fields=name&alt=json\n"
     ]
    },
    {
     "name": "stdout",
     "output_type": "stream",
     "text": [
      "Generating URL ...\n"
     ]
    },
    {
     "name": "stderr",
     "output_type": "stream",
     "text": [
      "INFO:TATSSI.download.gee_downloader:Downloading data from https://earthengine.googleapis.com/v1alpha/projects/earthengine-legacy/thumbnails/aabd92ce901b963640f14661979ee198-9e87d76c5235ad19007e573f5a84f153:getPixels\n",
      "Please wait ...\n",
      "INFO:TATSSI.download.gee_downloader:Data downloaded to /home/glopez/Projects/TATSSI/data/test_gee\n",
      "INFO:googleapiclient.discovery:URL being requested: POST https://earthengine.googleapis.com/v1alpha/projects/earthengine-legacy/value:compute?prettyPrint=false&alt=json\n",
      "INFO:TATSSI.download.gee_downloader:Exporting 287/297: 2020_06_09.tif\n",
      "INFO:googleapiclient.discovery:URL being requested: POST https://earthengine.googleapis.com/v1alpha/projects/earthengine-legacy/thumbnails?fields=name&alt=json\n"
     ]
    },
    {
     "name": "stdout",
     "output_type": "stream",
     "text": [
      "Generating URL ...\n"
     ]
    },
    {
     "name": "stderr",
     "output_type": "stream",
     "text": [
      "INFO:TATSSI.download.gee_downloader:Downloading data from https://earthengine.googleapis.com/v1alpha/projects/earthengine-legacy/thumbnails/3ce5b3ae336e35dfb3864519b3cab2b8-a894f5da8166aabd5e0d263e2620210d:getPixels\n",
      "Please wait ...\n",
      "INFO:TATSSI.download.gee_downloader:Data downloaded to /home/glopez/Projects/TATSSI/data/test_gee\n",
      "INFO:googleapiclient.discovery:URL being requested: POST https://earthengine.googleapis.com/v1alpha/projects/earthengine-legacy/value:compute?prettyPrint=false&alt=json\n",
      "INFO:TATSSI.download.gee_downloader:Exporting 288/297: 2020_06_25.tif\n",
      "INFO:googleapiclient.discovery:URL being requested: POST https://earthengine.googleapis.com/v1alpha/projects/earthengine-legacy/thumbnails?fields=name&alt=json\n"
     ]
    },
    {
     "name": "stdout",
     "output_type": "stream",
     "text": [
      "Generating URL ...\n"
     ]
    },
    {
     "name": "stderr",
     "output_type": "stream",
     "text": [
      "INFO:TATSSI.download.gee_downloader:Downloading data from https://earthengine.googleapis.com/v1alpha/projects/earthengine-legacy/thumbnails/cf764e52721735625d7f0c9fca2277ae-d2ea46c023dd54a424017a1139cf5827:getPixels\n",
      "Please wait ...\n",
      "INFO:TATSSI.download.gee_downloader:Data downloaded to /home/glopez/Projects/TATSSI/data/test_gee\n",
      "INFO:googleapiclient.discovery:URL being requested: POST https://earthengine.googleapis.com/v1alpha/projects/earthengine-legacy/value:compute?prettyPrint=false&alt=json\n",
      "INFO:TATSSI.download.gee_downloader:Exporting 289/297: 2020_07_11.tif\n",
      "INFO:googleapiclient.discovery:URL being requested: POST https://earthengine.googleapis.com/v1alpha/projects/earthengine-legacy/thumbnails?fields=name&alt=json\n"
     ]
    },
    {
     "name": "stdout",
     "output_type": "stream",
     "text": [
      "Generating URL ...\n"
     ]
    },
    {
     "name": "stderr",
     "output_type": "stream",
     "text": [
      "INFO:TATSSI.download.gee_downloader:Downloading data from https://earthengine.googleapis.com/v1alpha/projects/earthengine-legacy/thumbnails/aee158c902145200a556118b5e49f11a-bff908907e288b1ebc56eb6080a7cf8c:getPixels\n",
      "Please wait ...\n",
      "INFO:TATSSI.download.gee_downloader:Data downloaded to /home/glopez/Projects/TATSSI/data/test_gee\n",
      "INFO:googleapiclient.discovery:URL being requested: POST https://earthengine.googleapis.com/v1alpha/projects/earthengine-legacy/value:compute?prettyPrint=false&alt=json\n",
      "INFO:TATSSI.download.gee_downloader:Exporting 290/297: 2020_07_27.tif\n",
      "INFO:googleapiclient.discovery:URL being requested: POST https://earthengine.googleapis.com/v1alpha/projects/earthengine-legacy/thumbnails?fields=name&alt=json\n"
     ]
    },
    {
     "name": "stdout",
     "output_type": "stream",
     "text": [
      "Generating URL ...\n"
     ]
    },
    {
     "name": "stderr",
     "output_type": "stream",
     "text": [
      "INFO:TATSSI.download.gee_downloader:Downloading data from https://earthengine.googleapis.com/v1alpha/projects/earthengine-legacy/thumbnails/701b6c0d23a239dc4cfe0b8684c7109e-f2705714d99af312dbd747fac351a900:getPixels\n",
      "Please wait ...\n",
      "INFO:TATSSI.download.gee_downloader:Data downloaded to /home/glopez/Projects/TATSSI/data/test_gee\n",
      "INFO:googleapiclient.discovery:URL being requested: POST https://earthengine.googleapis.com/v1alpha/projects/earthengine-legacy/value:compute?prettyPrint=false&alt=json\n",
      "INFO:TATSSI.download.gee_downloader:Exporting 291/297: 2020_08_12.tif\n",
      "INFO:googleapiclient.discovery:URL being requested: POST https://earthengine.googleapis.com/v1alpha/projects/earthengine-legacy/thumbnails?fields=name&alt=json\n"
     ]
    },
    {
     "name": "stdout",
     "output_type": "stream",
     "text": [
      "Generating URL ...\n"
     ]
    },
    {
     "name": "stderr",
     "output_type": "stream",
     "text": [
      "INFO:TATSSI.download.gee_downloader:Downloading data from https://earthengine.googleapis.com/v1alpha/projects/earthengine-legacy/thumbnails/3750cda5a12a37dd969d4723f456ddde-f1243f3fcdbbb5ecb48a0d0493f00769:getPixels\n",
      "Please wait ...\n",
      "INFO:TATSSI.download.gee_downloader:Data downloaded to /home/glopez/Projects/TATSSI/data/test_gee\n",
      "INFO:googleapiclient.discovery:URL being requested: POST https://earthengine.googleapis.com/v1alpha/projects/earthengine-legacy/value:compute?prettyPrint=false&alt=json\n",
      "INFO:TATSSI.download.gee_downloader:Exporting 292/297: 2020_08_28.tif\n",
      "INFO:googleapiclient.discovery:URL being requested: POST https://earthengine.googleapis.com/v1alpha/projects/earthengine-legacy/thumbnails?fields=name&alt=json\n"
     ]
    },
    {
     "name": "stdout",
     "output_type": "stream",
     "text": [
      "Generating URL ...\n"
     ]
    },
    {
     "name": "stderr",
     "output_type": "stream",
     "text": [
      "INFO:TATSSI.download.gee_downloader:Downloading data from https://earthengine.googleapis.com/v1alpha/projects/earthengine-legacy/thumbnails/058a8d0aad05ca659abdf9ddcde8aa75-507c819891103d8e70e575f648d461c5:getPixels\n",
      "Please wait ...\n",
      "INFO:TATSSI.download.gee_downloader:Data downloaded to /home/glopez/Projects/TATSSI/data/test_gee\n",
      "INFO:googleapiclient.discovery:URL being requested: POST https://earthengine.googleapis.com/v1alpha/projects/earthengine-legacy/value:compute?prettyPrint=false&alt=json\n",
      "INFO:TATSSI.download.gee_downloader:Exporting 293/297: 2020_09_13.tif\n",
      "INFO:googleapiclient.discovery:URL being requested: POST https://earthengine.googleapis.com/v1alpha/projects/earthengine-legacy/thumbnails?fields=name&alt=json\n"
     ]
    },
    {
     "name": "stdout",
     "output_type": "stream",
     "text": [
      "Generating URL ...\n"
     ]
    },
    {
     "name": "stderr",
     "output_type": "stream",
     "text": [
      "INFO:TATSSI.download.gee_downloader:Downloading data from https://earthengine.googleapis.com/v1alpha/projects/earthengine-legacy/thumbnails/85cdcd28a50b5d5d88a6c6bf1fa7fec5-fe0abc448b92463e824cbd549ca8074b:getPixels\n",
      "Please wait ...\n",
      "INFO:TATSSI.download.gee_downloader:Data downloaded to /home/glopez/Projects/TATSSI/data/test_gee\n",
      "INFO:googleapiclient.discovery:URL being requested: POST https://earthengine.googleapis.com/v1alpha/projects/earthengine-legacy/value:compute?prettyPrint=false&alt=json\n",
      "INFO:TATSSI.download.gee_downloader:Exporting 294/297: 2020_09_29.tif\n",
      "INFO:googleapiclient.discovery:URL being requested: POST https://earthengine.googleapis.com/v1alpha/projects/earthengine-legacy/thumbnails?fields=name&alt=json\n"
     ]
    },
    {
     "name": "stdout",
     "output_type": "stream",
     "text": [
      "Generating URL ...\n"
     ]
    },
    {
     "name": "stderr",
     "output_type": "stream",
     "text": [
      "INFO:TATSSI.download.gee_downloader:Downloading data from https://earthengine.googleapis.com/v1alpha/projects/earthengine-legacy/thumbnails/0ef504e884dd295d95f2a525d2911d33-f02033cdce77467e923c2b7a1b847f87:getPixels\n",
      "Please wait ...\n",
      "INFO:TATSSI.download.gee_downloader:Data downloaded to /home/glopez/Projects/TATSSI/data/test_gee\n",
      "INFO:googleapiclient.discovery:URL being requested: POST https://earthengine.googleapis.com/v1alpha/projects/earthengine-legacy/value:compute?prettyPrint=false&alt=json\n",
      "INFO:TATSSI.download.gee_downloader:Exporting 295/297: 2020_10_15.tif\n",
      "INFO:googleapiclient.discovery:URL being requested: POST https://earthengine.googleapis.com/v1alpha/projects/earthengine-legacy/thumbnails?fields=name&alt=json\n"
     ]
    },
    {
     "name": "stdout",
     "output_type": "stream",
     "text": [
      "Generating URL ...\n"
     ]
    },
    {
     "name": "stderr",
     "output_type": "stream",
     "text": [
      "INFO:TATSSI.download.gee_downloader:Downloading data from https://earthengine.googleapis.com/v1alpha/projects/earthengine-legacy/thumbnails/dfac1f9a6f33f4e8b8caa5ec0ae103b1-f554ca9e20fd3e2f2c4b780fdb785f84:getPixels\n",
      "Please wait ...\n",
      "INFO:TATSSI.download.gee_downloader:Data downloaded to /home/glopez/Projects/TATSSI/data/test_gee\n",
      "INFO:googleapiclient.discovery:URL being requested: POST https://earthengine.googleapis.com/v1alpha/projects/earthengine-legacy/value:compute?prettyPrint=false&alt=json\n",
      "INFO:TATSSI.download.gee_downloader:Exporting 296/297: 2020_10_31.tif\n",
      "INFO:googleapiclient.discovery:URL being requested: POST https://earthengine.googleapis.com/v1alpha/projects/earthengine-legacy/thumbnails?fields=name&alt=json\n"
     ]
    },
    {
     "name": "stdout",
     "output_type": "stream",
     "text": [
      "Generating URL ...\n"
     ]
    },
    {
     "name": "stderr",
     "output_type": "stream",
     "text": [
      "INFO:TATSSI.download.gee_downloader:Downloading data from https://earthengine.googleapis.com/v1alpha/projects/earthengine-legacy/thumbnails/fe1e6675e1da31dd8e8929cd5714675f-97bbc2591e4f60c86249667ed0edccb6:getPixels\n",
      "Please wait ...\n",
      "INFO:TATSSI.download.gee_downloader:Data downloaded to /home/glopez/Projects/TATSSI/data/test_gee\n",
      "INFO:googleapiclient.discovery:URL being requested: POST https://earthengine.googleapis.com/v1alpha/projects/earthengine-legacy/value:compute?prettyPrint=false&alt=json\n",
      "INFO:TATSSI.download.gee_downloader:Exporting 297/297: 2020_11_16.tif\n",
      "INFO:googleapiclient.discovery:URL being requested: POST https://earthengine.googleapis.com/v1alpha/projects/earthengine-legacy/thumbnails?fields=name&alt=json\n"
     ]
    },
    {
     "name": "stdout",
     "output_type": "stream",
     "text": [
      "Generating URL ...\n"
     ]
    },
    {
     "name": "stderr",
     "output_type": "stream",
     "text": [
      "INFO:TATSSI.download.gee_downloader:Downloading data from https://earthengine.googleapis.com/v1alpha/projects/earthengine-legacy/thumbnails/16ee0d7306bd9aad0a556395330a761e-670956aad915dee2be22159afe5ca6e0:getPixels\n",
      "Please wait ...\n",
      "INFO:TATSSI.download.gee_downloader:Data downloaded to /home/glopez/Projects/TATSSI/data/test_gee\n"
     ]
    }
   ],
   "source": [
    "# Export image collection\n",
    "datasets = export_collection(ee_collection, output_dir, bands=bands,\n",
    "                             product=product, version=version,\n",
    "                             scale=None, crs='EPSG:4326', region=region,\n",
    "                             file_per_band=True)"
   ]
  },
  {
   "cell_type": "markdown",
   "metadata": {},
   "source": [
    "Create TATSSI time series."
   ]
  },
  {
   "cell_type": "code",
   "execution_count": 19,
   "metadata": {
    "ExecuteTime": {
     "end_time": "2020-12-16T15:16:59.760478Z",
     "start_time": "2020-12-16T15:11:47.148348Z"
    },
    "scrolled": true
   },
   "outputs": [
    {
     "name": "stderr",
     "output_type": "stream",
     "text": [
      "INFO:TATSSI.time_series.generator:Layer stack for 1_km_16_days_NDVI created successfully.\n",
      "INFO:TATSSI.time_series.generator:Layer stack for 1_km_16_days_EVI created successfully.\n",
      "INFO:TATSSI.time_series.generator:Layer stack for 1_km_16_days_VI_Quality created successfully.\n",
      "INFO:TATSSI.time_series.generator:Layer stack for 1_km_16_days_red_reflectance created successfully.\n",
      "INFO:TATSSI.time_series.generator:Layer stack for 1_km_16_days_NIR_reflectance created successfully.\n",
      "INFO:TATSSI.time_series.generator:Layer stack for 1_km_16_days_blue_reflectance created successfully.\n",
      "INFO:TATSSI.time_series.generator:Layer stack for 1_km_16_days_MIR_reflectance created successfully.\n",
      "INFO:TATSSI.time_series.generator:Layer stack for 1_km_16_days_view_zenith_angle created successfully.\n",
      "INFO:TATSSI.time_series.generator:Layer stack for 1_km_16_days_sun_zenith_angle created successfully.\n",
      "INFO:TATSSI.time_series.generator:Layer stack for 1_km_16_days_relative_azimuth_angle created successfully.\n",
      "INFO:TATSSI.time_series.generator:Layer stack for 1_km_16_days_composite_day_of_the_year created successfully.\n",
      "INFO:TATSSI.time_series.generator:Layer stack for 1_km_16_days_pixel_reliability created successfully.\n",
      "INFO:TATSSI.qa.EOS.quality:Decoding MOD13A2.006...\n",
      "INFO:TATSSI.qa.EOS.quality:File /home/glopez/Projects/TATSSI/data/test_gee/1_km_16_days_VI_Quality/MOD13A2.2008_01_01.006.1_km_16_days_VI_Quality.tif\n",
      "INFO:TATSSI.qa.EOS.quality:Decoding QA layer MODLAND...\n",
      "INFO:TATSSI.qa.EOS.quality:Decoding QA layer VI Usefulness...\n",
      "INFO:TATSSI.qa.EOS.quality:Decoding QA layer Aerosol Quantity...\n",
      "INFO:TATSSI.qa.EOS.quality:Decoding QA layer Adjacent cloud detected...\n",
      "INFO:TATSSI.qa.EOS.quality:Decoding QA layer Atmosphere BRDF Correction...\n",
      "INFO:TATSSI.qa.EOS.quality:Decoding QA layer Mixed Clouds...\n",
      "INFO:TATSSI.qa.EOS.quality:Decoding QA layer Land/Water Mask...\n",
      "INFO:TATSSI.qa.EOS.quality:Decoding QA layer Possible snow/ice...\n",
      "INFO:TATSSI.qa.EOS.quality:Decoding QA layer Possible shadow...\n",
      "INFO:TATSSI.qa.EOS.quality:Decoding finished.\n",
      "INFO:TATSSI.qa.EOS.quality:Decoding MOD13A2.006...\n",
      "INFO:TATSSI.qa.EOS.quality:File /home/glopez/Projects/TATSSI/data/test_gee/1_km_16_days_VI_Quality/MOD13A2.2008_01_17.006.1_km_16_days_VI_Quality.tif\n",
      "INFO:TATSSI.qa.EOS.quality:Decoding QA layer MODLAND...\n",
      "INFO:TATSSI.qa.EOS.quality:Decoding QA layer VI Usefulness...\n",
      "INFO:TATSSI.qa.EOS.quality:Decoding QA layer Aerosol Quantity...\n",
      "INFO:TATSSI.qa.EOS.quality:Decoding QA layer Adjacent cloud detected...\n",
      "INFO:TATSSI.qa.EOS.quality:Decoding QA layer Atmosphere BRDF Correction...\n",
      "INFO:TATSSI.qa.EOS.quality:Decoding QA layer Mixed Clouds...\n",
      "INFO:TATSSI.qa.EOS.quality:Decoding QA layer Land/Water Mask...\n",
      "INFO:TATSSI.qa.EOS.quality:Decoding QA layer Possible snow/ice...\n",
      "INFO:TATSSI.qa.EOS.quality:Decoding QA layer Possible shadow...\n",
      "INFO:TATSSI.qa.EOS.quality:Decoding finished.\n",
      "INFO:TATSSI.qa.EOS.quality:Decoding MOD13A2.006...\n",
      "INFO:TATSSI.qa.EOS.quality:File /home/glopez/Projects/TATSSI/data/test_gee/1_km_16_days_VI_Quality/MOD13A2.2008_02_02.006.1_km_16_days_VI_Quality.tif\n",
      "INFO:TATSSI.qa.EOS.quality:Decoding QA layer MODLAND...\n",
      "INFO:TATSSI.qa.EOS.quality:Decoding QA layer VI Usefulness...\n",
      "INFO:TATSSI.qa.EOS.quality:Decoding QA layer Aerosol Quantity...\n",
      "INFO:TATSSI.qa.EOS.quality:Decoding QA layer Adjacent cloud detected...\n",
      "INFO:TATSSI.qa.EOS.quality:Decoding QA layer Atmosphere BRDF Correction...\n",
      "INFO:TATSSI.qa.EOS.quality:Decoding QA layer Mixed Clouds...\n",
      "INFO:TATSSI.qa.EOS.quality:Decoding QA layer Land/Water Mask...\n",
      "INFO:TATSSI.qa.EOS.quality:Decoding QA layer Possible snow/ice...\n",
      "INFO:TATSSI.qa.EOS.quality:Decoding QA layer Possible shadow...\n",
      "INFO:TATSSI.qa.EOS.quality:Decoding finished.\n",
      "INFO:TATSSI.qa.EOS.quality:Decoding MOD13A2.006...\n",
      "INFO:TATSSI.qa.EOS.quality:File /home/glopez/Projects/TATSSI/data/test_gee/1_km_16_days_VI_Quality/MOD13A2.2008_02_18.006.1_km_16_days_VI_Quality.tif\n",
      "INFO:TATSSI.qa.EOS.quality:Decoding QA layer MODLAND...\n",
      "INFO:TATSSI.qa.EOS.quality:Decoding QA layer VI Usefulness...\n",
      "INFO:TATSSI.qa.EOS.quality:Decoding QA layer Aerosol Quantity...\n",
      "INFO:TATSSI.qa.EOS.quality:Decoding QA layer Adjacent cloud detected...\n",
      "INFO:TATSSI.qa.EOS.quality:Decoding QA layer Atmosphere BRDF Correction...\n",
      "INFO:TATSSI.qa.EOS.quality:Decoding QA layer Mixed Clouds...\n",
      "INFO:TATSSI.qa.EOS.quality:Decoding QA layer Land/Water Mask...\n",
      "INFO:TATSSI.qa.EOS.quality:Decoding QA layer Possible snow/ice...\n",
      "INFO:TATSSI.qa.EOS.quality:Decoding QA layer Possible shadow...\n",
      "INFO:TATSSI.qa.EOS.quality:Decoding finished.\n",
      "INFO:TATSSI.qa.EOS.quality:Decoding MOD13A2.006...\n",
      "INFO:TATSSI.qa.EOS.quality:File /home/glopez/Projects/TATSSI/data/test_gee/1_km_16_days_VI_Quality/MOD13A2.2008_03_05.006.1_km_16_days_VI_Quality.tif\n",
      "INFO:TATSSI.qa.EOS.quality:Decoding QA layer MODLAND...\n",
      "INFO:TATSSI.qa.EOS.quality:Decoding QA layer VI Usefulness...\n",
      "INFO:TATSSI.qa.EOS.quality:Decoding QA layer Aerosol Quantity...\n",
      "INFO:TATSSI.qa.EOS.quality:Decoding QA layer Adjacent cloud detected...\n",
      "INFO:TATSSI.qa.EOS.quality:Decoding QA layer Atmosphere BRDF Correction...\n",
      "INFO:TATSSI.qa.EOS.quality:Decoding QA layer Mixed Clouds...\n",
      "INFO:TATSSI.qa.EOS.quality:Decoding QA layer Land/Water Mask...\n",
      "INFO:TATSSI.qa.EOS.quality:Decoding QA layer Possible snow/ice...\n",
      "INFO:TATSSI.qa.EOS.quality:Decoding QA layer Possible shadow...\n",
      "INFO:TATSSI.qa.EOS.quality:Decoding finished.\n",
      "INFO:TATSSI.qa.EOS.quality:Decoding MOD13A2.006...\n",
      "INFO:TATSSI.qa.EOS.quality:File /home/glopez/Projects/TATSSI/data/test_gee/1_km_16_days_VI_Quality/MOD13A2.2008_03_21.006.1_km_16_days_VI_Quality.tif\n",
      "INFO:TATSSI.qa.EOS.quality:Decoding QA layer MODLAND...\n",
      "INFO:TATSSI.qa.EOS.quality:Decoding QA layer VI Usefulness...\n",
      "INFO:TATSSI.qa.EOS.quality:Decoding QA layer Aerosol Quantity...\n",
      "INFO:TATSSI.qa.EOS.quality:Decoding QA layer Adjacent cloud detected...\n",
      "INFO:TATSSI.qa.EOS.quality:Decoding QA layer Atmosphere BRDF Correction...\n",
      "INFO:TATSSI.qa.EOS.quality:Decoding QA layer Mixed Clouds...\n",
      "INFO:TATSSI.qa.EOS.quality:Decoding QA layer Land/Water Mask...\n",
      "INFO:TATSSI.qa.EOS.quality:Decoding QA layer Possible snow/ice...\n",
      "INFO:TATSSI.qa.EOS.quality:Decoding QA layer Possible shadow...\n",
      "INFO:TATSSI.qa.EOS.quality:Decoding finished.\n",
      "INFO:TATSSI.qa.EOS.quality:Decoding MOD13A2.006...\n",
      "INFO:TATSSI.qa.EOS.quality:File /home/glopez/Projects/TATSSI/data/test_gee/1_km_16_days_VI_Quality/MOD13A2.2008_04_06.006.1_km_16_days_VI_Quality.tif\n",
      "INFO:TATSSI.qa.EOS.quality:Decoding QA layer MODLAND...\n",
      "INFO:TATSSI.qa.EOS.quality:Decoding QA layer VI Usefulness...\n",
      "INFO:TATSSI.qa.EOS.quality:Decoding QA layer Aerosol Quantity...\n",
      "INFO:TATSSI.qa.EOS.quality:Decoding QA layer Adjacent cloud detected...\n",
      "INFO:TATSSI.qa.EOS.quality:Decoding QA layer Atmosphere BRDF Correction...\n",
      "INFO:TATSSI.qa.EOS.quality:Decoding QA layer Mixed Clouds...\n",
      "INFO:TATSSI.qa.EOS.quality:Decoding QA layer Land/Water Mask...\n",
      "INFO:TATSSI.qa.EOS.quality:Decoding QA layer Possible snow/ice...\n",
      "INFO:TATSSI.qa.EOS.quality:Decoding QA layer Possible shadow...\n",
      "INFO:TATSSI.qa.EOS.quality:Decoding finished.\n",
      "INFO:TATSSI.qa.EOS.quality:Decoding MOD13A2.006...\n",
      "INFO:TATSSI.qa.EOS.quality:File /home/glopez/Projects/TATSSI/data/test_gee/1_km_16_days_VI_Quality/MOD13A2.2008_04_22.006.1_km_16_days_VI_Quality.tif\n",
      "INFO:TATSSI.qa.EOS.quality:Decoding QA layer MODLAND...\n",
      "INFO:TATSSI.qa.EOS.quality:Decoding QA layer VI Usefulness...\n",
      "INFO:TATSSI.qa.EOS.quality:Decoding QA layer Aerosol Quantity...\n",
      "INFO:TATSSI.qa.EOS.quality:Decoding QA layer Adjacent cloud detected...\n",
      "INFO:TATSSI.qa.EOS.quality:Decoding QA layer Atmosphere BRDF Correction...\n",
      "INFO:TATSSI.qa.EOS.quality:Decoding QA layer Mixed Clouds...\n",
      "INFO:TATSSI.qa.EOS.quality:Decoding QA layer Land/Water Mask...\n",
      "INFO:TATSSI.qa.EOS.quality:Decoding QA layer Possible snow/ice...\n",
      "INFO:TATSSI.qa.EOS.quality:Decoding QA layer Possible shadow...\n",
      "INFO:TATSSI.qa.EOS.quality:Decoding finished.\n",
      "INFO:TATSSI.qa.EOS.quality:Decoding MOD13A2.006...\n",
      "INFO:TATSSI.qa.EOS.quality:File /home/glopez/Projects/TATSSI/data/test_gee/1_km_16_days_VI_Quality/MOD13A2.2008_05_08.006.1_km_16_days_VI_Quality.tif\n",
      "INFO:TATSSI.qa.EOS.quality:Decoding QA layer MODLAND...\n",
      "INFO:TATSSI.qa.EOS.quality:Decoding QA layer VI Usefulness...\n",
      "INFO:TATSSI.qa.EOS.quality:Decoding QA layer Aerosol Quantity...\n"
     ]
    },
    {
     "name": "stderr",
     "output_type": "stream",
     "text": [
      "INFO:TATSSI.qa.EOS.quality:Decoding QA layer Adjacent cloud detected...\n",
      "INFO:TATSSI.qa.EOS.quality:Decoding QA layer Atmosphere BRDF Correction...\n",
      "INFO:TATSSI.qa.EOS.quality:Decoding QA layer Mixed Clouds...\n",
      "INFO:TATSSI.qa.EOS.quality:Decoding QA layer Land/Water Mask...\n",
      "INFO:TATSSI.qa.EOS.quality:Decoding QA layer Possible snow/ice...\n",
      "INFO:TATSSI.qa.EOS.quality:Decoding QA layer Possible shadow...\n",
      "INFO:TATSSI.qa.EOS.quality:Decoding finished.\n",
      "INFO:TATSSI.qa.EOS.quality:Decoding MOD13A2.006...\n",
      "INFO:TATSSI.qa.EOS.quality:File /home/glopez/Projects/TATSSI/data/test_gee/1_km_16_days_VI_Quality/MOD13A2.2008_05_24.006.1_km_16_days_VI_Quality.tif\n",
      "INFO:TATSSI.qa.EOS.quality:Decoding QA layer MODLAND...\n",
      "INFO:TATSSI.qa.EOS.quality:Decoding QA layer VI Usefulness...\n",
      "INFO:TATSSI.qa.EOS.quality:Decoding QA layer Aerosol Quantity...\n",
      "INFO:TATSSI.qa.EOS.quality:Decoding QA layer Adjacent cloud detected...\n",
      "INFO:TATSSI.qa.EOS.quality:Decoding QA layer Atmosphere BRDF Correction...\n",
      "INFO:TATSSI.qa.EOS.quality:Decoding QA layer Mixed Clouds...\n",
      "INFO:TATSSI.qa.EOS.quality:Decoding QA layer Land/Water Mask...\n",
      "INFO:TATSSI.qa.EOS.quality:Decoding QA layer Possible snow/ice...\n",
      "INFO:TATSSI.qa.EOS.quality:Decoding QA layer Possible shadow...\n",
      "INFO:TATSSI.qa.EOS.quality:Decoding finished.\n",
      "INFO:TATSSI.qa.EOS.quality:Decoding MOD13A2.006...\n",
      "INFO:TATSSI.qa.EOS.quality:File /home/glopez/Projects/TATSSI/data/test_gee/1_km_16_days_VI_Quality/MOD13A2.2008_06_09.006.1_km_16_days_VI_Quality.tif\n",
      "INFO:TATSSI.qa.EOS.quality:Decoding QA layer MODLAND...\n",
      "INFO:TATSSI.qa.EOS.quality:Decoding QA layer VI Usefulness...\n",
      "INFO:TATSSI.qa.EOS.quality:Decoding QA layer Aerosol Quantity...\n",
      "INFO:TATSSI.qa.EOS.quality:Decoding QA layer Adjacent cloud detected...\n",
      "INFO:TATSSI.qa.EOS.quality:Decoding QA layer Atmosphere BRDF Correction...\n",
      "INFO:TATSSI.qa.EOS.quality:Decoding QA layer Mixed Clouds...\n",
      "INFO:TATSSI.qa.EOS.quality:Decoding QA layer Land/Water Mask...\n",
      "INFO:TATSSI.qa.EOS.quality:Decoding QA layer Possible snow/ice...\n",
      "INFO:TATSSI.qa.EOS.quality:Decoding QA layer Possible shadow...\n",
      "INFO:TATSSI.qa.EOS.quality:Decoding finished.\n",
      "INFO:TATSSI.qa.EOS.quality:Decoding MOD13A2.006...\n",
      "INFO:TATSSI.qa.EOS.quality:File /home/glopez/Projects/TATSSI/data/test_gee/1_km_16_days_VI_Quality/MOD13A2.2008_06_25.006.1_km_16_days_VI_Quality.tif\n",
      "INFO:TATSSI.qa.EOS.quality:Decoding QA layer MODLAND...\n",
      "INFO:TATSSI.qa.EOS.quality:Decoding QA layer VI Usefulness...\n",
      "INFO:TATSSI.qa.EOS.quality:Decoding QA layer Aerosol Quantity...\n",
      "INFO:TATSSI.qa.EOS.quality:Decoding QA layer Adjacent cloud detected...\n",
      "INFO:TATSSI.qa.EOS.quality:Decoding QA layer Atmosphere BRDF Correction...\n",
      "INFO:TATSSI.qa.EOS.quality:Decoding QA layer Mixed Clouds...\n",
      "INFO:TATSSI.qa.EOS.quality:Decoding QA layer Land/Water Mask...\n",
      "INFO:TATSSI.qa.EOS.quality:Decoding QA layer Possible snow/ice...\n",
      "INFO:TATSSI.qa.EOS.quality:Decoding QA layer Possible shadow...\n",
      "INFO:TATSSI.qa.EOS.quality:Decoding finished.\n",
      "INFO:TATSSI.qa.EOS.quality:Decoding MOD13A2.006...\n",
      "INFO:TATSSI.qa.EOS.quality:File /home/glopez/Projects/TATSSI/data/test_gee/1_km_16_days_VI_Quality/MOD13A2.2008_07_11.006.1_km_16_days_VI_Quality.tif\n",
      "INFO:TATSSI.qa.EOS.quality:Decoding QA layer MODLAND...\n",
      "INFO:TATSSI.qa.EOS.quality:Decoding QA layer VI Usefulness...\n",
      "INFO:TATSSI.qa.EOS.quality:Decoding QA layer Aerosol Quantity...\n",
      "INFO:TATSSI.qa.EOS.quality:Decoding QA layer Adjacent cloud detected...\n",
      "INFO:TATSSI.qa.EOS.quality:Decoding QA layer Atmosphere BRDF Correction...\n",
      "INFO:TATSSI.qa.EOS.quality:Decoding QA layer Mixed Clouds...\n",
      "INFO:TATSSI.qa.EOS.quality:Decoding QA layer Land/Water Mask...\n",
      "INFO:TATSSI.qa.EOS.quality:Decoding QA layer Possible snow/ice...\n",
      "INFO:TATSSI.qa.EOS.quality:Decoding QA layer Possible shadow...\n",
      "INFO:TATSSI.qa.EOS.quality:Decoding finished.\n",
      "INFO:TATSSI.qa.EOS.quality:Decoding MOD13A2.006...\n",
      "INFO:TATSSI.qa.EOS.quality:File /home/glopez/Projects/TATSSI/data/test_gee/1_km_16_days_VI_Quality/MOD13A2.2008_07_27.006.1_km_16_days_VI_Quality.tif\n",
      "INFO:TATSSI.qa.EOS.quality:Decoding QA layer MODLAND...\n",
      "INFO:TATSSI.qa.EOS.quality:Decoding QA layer VI Usefulness...\n",
      "INFO:TATSSI.qa.EOS.quality:Decoding QA layer Aerosol Quantity...\n",
      "INFO:TATSSI.qa.EOS.quality:Decoding QA layer Adjacent cloud detected...\n",
      "INFO:TATSSI.qa.EOS.quality:Decoding QA layer Atmosphere BRDF Correction...\n",
      "INFO:TATSSI.qa.EOS.quality:Decoding QA layer Mixed Clouds...\n",
      "INFO:TATSSI.qa.EOS.quality:Decoding QA layer Land/Water Mask...\n",
      "INFO:TATSSI.qa.EOS.quality:Decoding QA layer Possible snow/ice...\n",
      "INFO:TATSSI.qa.EOS.quality:Decoding QA layer Possible shadow...\n",
      "INFO:TATSSI.qa.EOS.quality:Decoding finished.\n",
      "INFO:TATSSI.qa.EOS.quality:Decoding MOD13A2.006...\n",
      "INFO:TATSSI.qa.EOS.quality:File /home/glopez/Projects/TATSSI/data/test_gee/1_km_16_days_VI_Quality/MOD13A2.2008_08_12.006.1_km_16_days_VI_Quality.tif\n",
      "INFO:TATSSI.qa.EOS.quality:Decoding QA layer MODLAND...\n",
      "INFO:TATSSI.qa.EOS.quality:Decoding QA layer VI Usefulness...\n",
      "INFO:TATSSI.qa.EOS.quality:Decoding QA layer Aerosol Quantity...\n",
      "INFO:TATSSI.qa.EOS.quality:Decoding QA layer Adjacent cloud detected...\n",
      "INFO:TATSSI.qa.EOS.quality:Decoding QA layer Atmosphere BRDF Correction...\n",
      "INFO:TATSSI.qa.EOS.quality:Decoding QA layer Mixed Clouds...\n",
      "INFO:TATSSI.qa.EOS.quality:Decoding QA layer Land/Water Mask...\n",
      "INFO:TATSSI.qa.EOS.quality:Decoding QA layer Possible snow/ice...\n",
      "INFO:TATSSI.qa.EOS.quality:Decoding QA layer Possible shadow...\n",
      "INFO:TATSSI.qa.EOS.quality:Decoding finished.\n",
      "INFO:TATSSI.qa.EOS.quality:Decoding MOD13A2.006...\n",
      "INFO:TATSSI.qa.EOS.quality:File /home/glopez/Projects/TATSSI/data/test_gee/1_km_16_days_VI_Quality/MOD13A2.2008_08_28.006.1_km_16_days_VI_Quality.tif\n",
      "INFO:TATSSI.qa.EOS.quality:Decoding QA layer MODLAND...\n",
      "INFO:TATSSI.qa.EOS.quality:Decoding QA layer VI Usefulness...\n",
      "INFO:TATSSI.qa.EOS.quality:Decoding QA layer Aerosol Quantity...\n",
      "INFO:TATSSI.qa.EOS.quality:Decoding QA layer Adjacent cloud detected...\n",
      "INFO:TATSSI.qa.EOS.quality:Decoding QA layer Atmosphere BRDF Correction...\n",
      "INFO:TATSSI.qa.EOS.quality:Decoding QA layer Mixed Clouds...\n",
      "INFO:TATSSI.qa.EOS.quality:Decoding QA layer Land/Water Mask...\n",
      "INFO:TATSSI.qa.EOS.quality:Decoding QA layer Possible snow/ice...\n",
      "INFO:TATSSI.qa.EOS.quality:Decoding QA layer Possible shadow...\n",
      "INFO:TATSSI.qa.EOS.quality:Decoding finished.\n",
      "INFO:TATSSI.qa.EOS.quality:Decoding MOD13A2.006...\n",
      "INFO:TATSSI.qa.EOS.quality:File /home/glopez/Projects/TATSSI/data/test_gee/1_km_16_days_VI_Quality/MOD13A2.2008_09_13.006.1_km_16_days_VI_Quality.tif\n",
      "INFO:TATSSI.qa.EOS.quality:Decoding QA layer MODLAND...\n",
      "INFO:TATSSI.qa.EOS.quality:Decoding QA layer VI Usefulness...\n",
      "INFO:TATSSI.qa.EOS.quality:Decoding QA layer Aerosol Quantity...\n",
      "INFO:TATSSI.qa.EOS.quality:Decoding QA layer Adjacent cloud detected...\n",
      "INFO:TATSSI.qa.EOS.quality:Decoding QA layer Atmosphere BRDF Correction...\n",
      "INFO:TATSSI.qa.EOS.quality:Decoding QA layer Mixed Clouds...\n",
      "INFO:TATSSI.qa.EOS.quality:Decoding QA layer Land/Water Mask...\n",
      "INFO:TATSSI.qa.EOS.quality:Decoding QA layer Possible snow/ice...\n",
      "INFO:TATSSI.qa.EOS.quality:Decoding QA layer Possible shadow...\n",
      "INFO:TATSSI.qa.EOS.quality:Decoding finished.\n",
      "INFO:TATSSI.qa.EOS.quality:Decoding MOD13A2.006...\n",
      "INFO:TATSSI.qa.EOS.quality:File /home/glopez/Projects/TATSSI/data/test_gee/1_km_16_days_VI_Quality/MOD13A2.2008_09_29.006.1_km_16_days_VI_Quality.tif\n",
      "INFO:TATSSI.qa.EOS.quality:Decoding QA layer MODLAND...\n",
      "INFO:TATSSI.qa.EOS.quality:Decoding QA layer VI Usefulness...\n",
      "INFO:TATSSI.qa.EOS.quality:Decoding QA layer Aerosol Quantity...\n",
      "INFO:TATSSI.qa.EOS.quality:Decoding QA layer Adjacent cloud detected...\n",
      "INFO:TATSSI.qa.EOS.quality:Decoding QA layer Atmosphere BRDF Correction...\n",
      "INFO:TATSSI.qa.EOS.quality:Decoding QA layer Mixed Clouds...\n",
      "INFO:TATSSI.qa.EOS.quality:Decoding QA layer Land/Water Mask...\n",
      "INFO:TATSSI.qa.EOS.quality:Decoding QA layer Possible snow/ice...\n",
      "INFO:TATSSI.qa.EOS.quality:Decoding QA layer Possible shadow...\n",
      "INFO:TATSSI.qa.EOS.quality:Decoding finished.\n",
      "INFO:TATSSI.qa.EOS.quality:Decoding MOD13A2.006...\n",
      "INFO:TATSSI.qa.EOS.quality:File /home/glopez/Projects/TATSSI/data/test_gee/1_km_16_days_VI_Quality/MOD13A2.2008_10_15.006.1_km_16_days_VI_Quality.tif\n",
      "INFO:TATSSI.qa.EOS.quality:Decoding QA layer MODLAND...\n"
     ]
    },
    {
     "name": "stderr",
     "output_type": "stream",
     "text": [
      "INFO:TATSSI.qa.EOS.quality:Decoding QA layer VI Usefulness...\n",
      "INFO:TATSSI.qa.EOS.quality:Decoding QA layer Aerosol Quantity...\n",
      "INFO:TATSSI.qa.EOS.quality:Decoding QA layer Adjacent cloud detected...\n",
      "INFO:TATSSI.qa.EOS.quality:Decoding QA layer Atmosphere BRDF Correction...\n",
      "INFO:TATSSI.qa.EOS.quality:Decoding QA layer Mixed Clouds...\n",
      "INFO:TATSSI.qa.EOS.quality:Decoding QA layer Land/Water Mask...\n",
      "INFO:TATSSI.qa.EOS.quality:Decoding QA layer Possible snow/ice...\n",
      "INFO:TATSSI.qa.EOS.quality:Decoding QA layer Possible shadow...\n",
      "INFO:TATSSI.qa.EOS.quality:Decoding finished.\n",
      "INFO:TATSSI.qa.EOS.quality:Decoding MOD13A2.006...\n",
      "INFO:TATSSI.qa.EOS.quality:File /home/glopez/Projects/TATSSI/data/test_gee/1_km_16_days_VI_Quality/MOD13A2.2008_10_31.006.1_km_16_days_VI_Quality.tif\n",
      "INFO:TATSSI.qa.EOS.quality:Decoding QA layer MODLAND...\n",
      "INFO:TATSSI.qa.EOS.quality:Decoding QA layer VI Usefulness...\n",
      "INFO:TATSSI.qa.EOS.quality:Decoding QA layer Aerosol Quantity...\n",
      "INFO:TATSSI.qa.EOS.quality:Decoding QA layer Adjacent cloud detected...\n",
      "INFO:TATSSI.qa.EOS.quality:Decoding QA layer Atmosphere BRDF Correction...\n",
      "INFO:TATSSI.qa.EOS.quality:Decoding QA layer Mixed Clouds...\n",
      "INFO:TATSSI.qa.EOS.quality:Decoding QA layer Land/Water Mask...\n",
      "INFO:TATSSI.qa.EOS.quality:Decoding QA layer Possible snow/ice...\n",
      "INFO:TATSSI.qa.EOS.quality:Decoding QA layer Possible shadow...\n",
      "INFO:TATSSI.qa.EOS.quality:Decoding finished.\n",
      "INFO:TATSSI.qa.EOS.quality:Decoding MOD13A2.006...\n",
      "INFO:TATSSI.qa.EOS.quality:File /home/glopez/Projects/TATSSI/data/test_gee/1_km_16_days_VI_Quality/MOD13A2.2008_11_16.006.1_km_16_days_VI_Quality.tif\n",
      "INFO:TATSSI.qa.EOS.quality:Decoding QA layer MODLAND...\n",
      "INFO:TATSSI.qa.EOS.quality:Decoding QA layer VI Usefulness...\n",
      "INFO:TATSSI.qa.EOS.quality:Decoding QA layer Aerosol Quantity...\n",
      "INFO:TATSSI.qa.EOS.quality:Decoding QA layer Adjacent cloud detected...\n",
      "INFO:TATSSI.qa.EOS.quality:Decoding QA layer Atmosphere BRDF Correction...\n",
      "INFO:TATSSI.qa.EOS.quality:Decoding QA layer Mixed Clouds...\n",
      "INFO:TATSSI.qa.EOS.quality:Decoding QA layer Land/Water Mask...\n",
      "INFO:TATSSI.qa.EOS.quality:Decoding QA layer Possible snow/ice...\n",
      "INFO:TATSSI.qa.EOS.quality:Decoding QA layer Possible shadow...\n",
      "INFO:TATSSI.qa.EOS.quality:Decoding finished.\n",
      "INFO:TATSSI.qa.EOS.quality:Decoding MOD13A2.006...\n",
      "INFO:TATSSI.qa.EOS.quality:File /home/glopez/Projects/TATSSI/data/test_gee/1_km_16_days_VI_Quality/MOD13A2.2008_12_02.006.1_km_16_days_VI_Quality.tif\n",
      "INFO:TATSSI.qa.EOS.quality:Decoding QA layer MODLAND...\n",
      "INFO:TATSSI.qa.EOS.quality:Decoding QA layer VI Usefulness...\n",
      "INFO:TATSSI.qa.EOS.quality:Decoding QA layer Aerosol Quantity...\n",
      "INFO:TATSSI.qa.EOS.quality:Decoding QA layer Adjacent cloud detected...\n",
      "INFO:TATSSI.qa.EOS.quality:Decoding QA layer Atmosphere BRDF Correction...\n",
      "INFO:TATSSI.qa.EOS.quality:Decoding QA layer Mixed Clouds...\n",
      "INFO:TATSSI.qa.EOS.quality:Decoding QA layer Land/Water Mask...\n",
      "INFO:TATSSI.qa.EOS.quality:Decoding QA layer Possible snow/ice...\n",
      "INFO:TATSSI.qa.EOS.quality:Decoding QA layer Possible shadow...\n",
      "INFO:TATSSI.qa.EOS.quality:Decoding finished.\n",
      "INFO:TATSSI.qa.EOS.quality:Decoding MOD13A2.006...\n",
      "INFO:TATSSI.qa.EOS.quality:File /home/glopez/Projects/TATSSI/data/test_gee/1_km_16_days_VI_Quality/MOD13A2.2008_12_18.006.1_km_16_days_VI_Quality.tif\n",
      "INFO:TATSSI.qa.EOS.quality:Decoding QA layer MODLAND...\n",
      "INFO:TATSSI.qa.EOS.quality:Decoding QA layer VI Usefulness...\n",
      "INFO:TATSSI.qa.EOS.quality:Decoding QA layer Aerosol Quantity...\n",
      "INFO:TATSSI.qa.EOS.quality:Decoding QA layer Adjacent cloud detected...\n",
      "INFO:TATSSI.qa.EOS.quality:Decoding QA layer Atmosphere BRDF Correction...\n",
      "INFO:TATSSI.qa.EOS.quality:Decoding QA layer Mixed Clouds...\n",
      "INFO:TATSSI.qa.EOS.quality:Decoding QA layer Land/Water Mask...\n",
      "INFO:TATSSI.qa.EOS.quality:Decoding QA layer Possible snow/ice...\n",
      "INFO:TATSSI.qa.EOS.quality:Decoding QA layer Possible shadow...\n",
      "INFO:TATSSI.qa.EOS.quality:Decoding finished.\n",
      "INFO:TATSSI.qa.EOS.quality:Decoding MOD13A2.006...\n",
      "INFO:TATSSI.qa.EOS.quality:File /home/glopez/Projects/TATSSI/data/test_gee/1_km_16_days_VI_Quality/MOD13A2.2009_01_01.006.1_km_16_days_VI_Quality.tif\n",
      "INFO:TATSSI.qa.EOS.quality:Decoding QA layer MODLAND...\n",
      "INFO:TATSSI.qa.EOS.quality:Decoding QA layer VI Usefulness...\n",
      "INFO:TATSSI.qa.EOS.quality:Decoding QA layer Aerosol Quantity...\n",
      "INFO:TATSSI.qa.EOS.quality:Decoding QA layer Adjacent cloud detected...\n",
      "INFO:TATSSI.qa.EOS.quality:Decoding QA layer Atmosphere BRDF Correction...\n",
      "INFO:TATSSI.qa.EOS.quality:Decoding QA layer Mixed Clouds...\n",
      "INFO:TATSSI.qa.EOS.quality:Decoding QA layer Land/Water Mask...\n",
      "INFO:TATSSI.qa.EOS.quality:Decoding QA layer Possible snow/ice...\n",
      "INFO:TATSSI.qa.EOS.quality:Decoding QA layer Possible shadow...\n",
      "INFO:TATSSI.qa.EOS.quality:Decoding finished.\n",
      "INFO:TATSSI.qa.EOS.quality:Decoding MOD13A2.006...\n",
      "INFO:TATSSI.qa.EOS.quality:File /home/glopez/Projects/TATSSI/data/test_gee/1_km_16_days_VI_Quality/MOD13A2.2009_01_17.006.1_km_16_days_VI_Quality.tif\n",
      "INFO:TATSSI.qa.EOS.quality:Decoding QA layer MODLAND...\n",
      "INFO:TATSSI.qa.EOS.quality:Decoding QA layer VI Usefulness...\n",
      "INFO:TATSSI.qa.EOS.quality:Decoding QA layer Aerosol Quantity...\n",
      "INFO:TATSSI.qa.EOS.quality:Decoding QA layer Adjacent cloud detected...\n",
      "INFO:TATSSI.qa.EOS.quality:Decoding QA layer Atmosphere BRDF Correction...\n",
      "INFO:TATSSI.qa.EOS.quality:Decoding QA layer Mixed Clouds...\n",
      "INFO:TATSSI.qa.EOS.quality:Decoding QA layer Land/Water Mask...\n",
      "INFO:TATSSI.qa.EOS.quality:Decoding QA layer Possible snow/ice...\n",
      "INFO:TATSSI.qa.EOS.quality:Decoding QA layer Possible shadow...\n",
      "INFO:TATSSI.qa.EOS.quality:Decoding finished.\n",
      "INFO:TATSSI.qa.EOS.quality:Decoding MOD13A2.006...\n",
      "INFO:TATSSI.qa.EOS.quality:File /home/glopez/Projects/TATSSI/data/test_gee/1_km_16_days_VI_Quality/MOD13A2.2009_02_02.006.1_km_16_days_VI_Quality.tif\n",
      "INFO:TATSSI.qa.EOS.quality:Decoding QA layer MODLAND...\n",
      "INFO:TATSSI.qa.EOS.quality:Decoding QA layer VI Usefulness...\n",
      "INFO:TATSSI.qa.EOS.quality:Decoding QA layer Aerosol Quantity...\n",
      "INFO:TATSSI.qa.EOS.quality:Decoding QA layer Adjacent cloud detected...\n",
      "INFO:TATSSI.qa.EOS.quality:Decoding QA layer Atmosphere BRDF Correction...\n",
      "INFO:TATSSI.qa.EOS.quality:Decoding QA layer Mixed Clouds...\n",
      "INFO:TATSSI.qa.EOS.quality:Decoding QA layer Land/Water Mask...\n",
      "INFO:TATSSI.qa.EOS.quality:Decoding QA layer Possible snow/ice...\n",
      "INFO:TATSSI.qa.EOS.quality:Decoding QA layer Possible shadow...\n",
      "INFO:TATSSI.qa.EOS.quality:Decoding finished.\n",
      "INFO:TATSSI.qa.EOS.quality:Decoding MOD13A2.006...\n",
      "INFO:TATSSI.qa.EOS.quality:File /home/glopez/Projects/TATSSI/data/test_gee/1_km_16_days_VI_Quality/MOD13A2.2009_02_18.006.1_km_16_days_VI_Quality.tif\n",
      "INFO:TATSSI.qa.EOS.quality:Decoding QA layer MODLAND...\n",
      "INFO:TATSSI.qa.EOS.quality:Decoding QA layer VI Usefulness...\n",
      "INFO:TATSSI.qa.EOS.quality:Decoding QA layer Aerosol Quantity...\n",
      "INFO:TATSSI.qa.EOS.quality:Decoding QA layer Adjacent cloud detected...\n",
      "INFO:TATSSI.qa.EOS.quality:Decoding QA layer Atmosphere BRDF Correction...\n",
      "INFO:TATSSI.qa.EOS.quality:Decoding QA layer Mixed Clouds...\n",
      "INFO:TATSSI.qa.EOS.quality:Decoding QA layer Land/Water Mask...\n",
      "INFO:TATSSI.qa.EOS.quality:Decoding QA layer Possible snow/ice...\n",
      "INFO:TATSSI.qa.EOS.quality:Decoding QA layer Possible shadow...\n",
      "INFO:TATSSI.qa.EOS.quality:Decoding finished.\n",
      "INFO:TATSSI.qa.EOS.quality:Decoding MOD13A2.006...\n",
      "INFO:TATSSI.qa.EOS.quality:File /home/glopez/Projects/TATSSI/data/test_gee/1_km_16_days_VI_Quality/MOD13A2.2009_03_06.006.1_km_16_days_VI_Quality.tif\n",
      "INFO:TATSSI.qa.EOS.quality:Decoding QA layer MODLAND...\n",
      "INFO:TATSSI.qa.EOS.quality:Decoding QA layer VI Usefulness...\n",
      "INFO:TATSSI.qa.EOS.quality:Decoding QA layer Aerosol Quantity...\n",
      "INFO:TATSSI.qa.EOS.quality:Decoding QA layer Adjacent cloud detected...\n",
      "INFO:TATSSI.qa.EOS.quality:Decoding QA layer Atmosphere BRDF Correction...\n",
      "INFO:TATSSI.qa.EOS.quality:Decoding QA layer Mixed Clouds...\n",
      "INFO:TATSSI.qa.EOS.quality:Decoding QA layer Land/Water Mask...\n",
      "INFO:TATSSI.qa.EOS.quality:Decoding QA layer Possible snow/ice...\n",
      "INFO:TATSSI.qa.EOS.quality:Decoding QA layer Possible shadow...\n",
      "INFO:TATSSI.qa.EOS.quality:Decoding finished.\n",
      "INFO:TATSSI.qa.EOS.quality:Decoding MOD13A2.006...\n",
      "INFO:TATSSI.qa.EOS.quality:File /home/glopez/Projects/TATSSI/data/test_gee/1_km_16_days_VI_Quality/MOD13A2.2009_03_22.006.1_km_16_days_VI_Quality.tif\n"
     ]
    },
    {
     "name": "stderr",
     "output_type": "stream",
     "text": [
      "INFO:TATSSI.qa.EOS.quality:Decoding QA layer MODLAND...\n",
      "INFO:TATSSI.qa.EOS.quality:Decoding QA layer VI Usefulness...\n",
      "INFO:TATSSI.qa.EOS.quality:Decoding QA layer Aerosol Quantity...\n",
      "INFO:TATSSI.qa.EOS.quality:Decoding QA layer Adjacent cloud detected...\n",
      "INFO:TATSSI.qa.EOS.quality:Decoding QA layer Atmosphere BRDF Correction...\n",
      "INFO:TATSSI.qa.EOS.quality:Decoding QA layer Mixed Clouds...\n",
      "INFO:TATSSI.qa.EOS.quality:Decoding QA layer Land/Water Mask...\n",
      "INFO:TATSSI.qa.EOS.quality:Decoding QA layer Possible snow/ice...\n",
      "INFO:TATSSI.qa.EOS.quality:Decoding QA layer Possible shadow...\n",
      "INFO:TATSSI.qa.EOS.quality:Decoding finished.\n",
      "INFO:TATSSI.qa.EOS.quality:Decoding MOD13A2.006...\n",
      "INFO:TATSSI.qa.EOS.quality:File /home/glopez/Projects/TATSSI/data/test_gee/1_km_16_days_VI_Quality/MOD13A2.2009_04_07.006.1_km_16_days_VI_Quality.tif\n",
      "INFO:TATSSI.qa.EOS.quality:Decoding QA layer MODLAND...\n",
      "INFO:TATSSI.qa.EOS.quality:Decoding QA layer VI Usefulness...\n",
      "INFO:TATSSI.qa.EOS.quality:Decoding QA layer Aerosol Quantity...\n",
      "INFO:TATSSI.qa.EOS.quality:Decoding QA layer Adjacent cloud detected...\n",
      "INFO:TATSSI.qa.EOS.quality:Decoding QA layer Atmosphere BRDF Correction...\n",
      "INFO:TATSSI.qa.EOS.quality:Decoding QA layer Mixed Clouds...\n",
      "INFO:TATSSI.qa.EOS.quality:Decoding QA layer Land/Water Mask...\n",
      "INFO:TATSSI.qa.EOS.quality:Decoding QA layer Possible snow/ice...\n",
      "INFO:TATSSI.qa.EOS.quality:Decoding QA layer Possible shadow...\n",
      "INFO:TATSSI.qa.EOS.quality:Decoding finished.\n",
      "INFO:TATSSI.qa.EOS.quality:Decoding MOD13A2.006...\n",
      "INFO:TATSSI.qa.EOS.quality:File /home/glopez/Projects/TATSSI/data/test_gee/1_km_16_days_VI_Quality/MOD13A2.2009_04_23.006.1_km_16_days_VI_Quality.tif\n",
      "INFO:TATSSI.qa.EOS.quality:Decoding QA layer MODLAND...\n",
      "INFO:TATSSI.qa.EOS.quality:Decoding QA layer VI Usefulness...\n",
      "INFO:TATSSI.qa.EOS.quality:Decoding QA layer Aerosol Quantity...\n",
      "INFO:TATSSI.qa.EOS.quality:Decoding QA layer Adjacent cloud detected...\n",
      "INFO:TATSSI.qa.EOS.quality:Decoding QA layer Atmosphere BRDF Correction...\n",
      "INFO:TATSSI.qa.EOS.quality:Decoding QA layer Mixed Clouds...\n",
      "INFO:TATSSI.qa.EOS.quality:Decoding QA layer Land/Water Mask...\n",
      "INFO:TATSSI.qa.EOS.quality:Decoding QA layer Possible snow/ice...\n",
      "INFO:TATSSI.qa.EOS.quality:Decoding QA layer Possible shadow...\n",
      "INFO:TATSSI.qa.EOS.quality:Decoding finished.\n",
      "INFO:TATSSI.qa.EOS.quality:Decoding MOD13A2.006...\n",
      "INFO:TATSSI.qa.EOS.quality:File /home/glopez/Projects/TATSSI/data/test_gee/1_km_16_days_VI_Quality/MOD13A2.2009_05_09.006.1_km_16_days_VI_Quality.tif\n",
      "INFO:TATSSI.qa.EOS.quality:Decoding QA layer MODLAND...\n",
      "INFO:TATSSI.qa.EOS.quality:Decoding QA layer VI Usefulness...\n",
      "INFO:TATSSI.qa.EOS.quality:Decoding QA layer Aerosol Quantity...\n",
      "INFO:TATSSI.qa.EOS.quality:Decoding QA layer Adjacent cloud detected...\n",
      "INFO:TATSSI.qa.EOS.quality:Decoding QA layer Atmosphere BRDF Correction...\n",
      "INFO:TATSSI.qa.EOS.quality:Decoding QA layer Mixed Clouds...\n",
      "INFO:TATSSI.qa.EOS.quality:Decoding QA layer Land/Water Mask...\n",
      "INFO:TATSSI.qa.EOS.quality:Decoding QA layer Possible snow/ice...\n",
      "INFO:TATSSI.qa.EOS.quality:Decoding QA layer Possible shadow...\n",
      "INFO:TATSSI.qa.EOS.quality:Decoding finished.\n",
      "INFO:TATSSI.qa.EOS.quality:Decoding MOD13A2.006...\n",
      "INFO:TATSSI.qa.EOS.quality:File /home/glopez/Projects/TATSSI/data/test_gee/1_km_16_days_VI_Quality/MOD13A2.2009_05_25.006.1_km_16_days_VI_Quality.tif\n",
      "INFO:TATSSI.qa.EOS.quality:Decoding QA layer MODLAND...\n",
      "INFO:TATSSI.qa.EOS.quality:Decoding QA layer VI Usefulness...\n",
      "INFO:TATSSI.qa.EOS.quality:Decoding QA layer Aerosol Quantity...\n",
      "INFO:TATSSI.qa.EOS.quality:Decoding QA layer Adjacent cloud detected...\n",
      "INFO:TATSSI.qa.EOS.quality:Decoding QA layer Atmosphere BRDF Correction...\n",
      "INFO:TATSSI.qa.EOS.quality:Decoding QA layer Mixed Clouds...\n",
      "INFO:TATSSI.qa.EOS.quality:Decoding QA layer Land/Water Mask...\n",
      "INFO:TATSSI.qa.EOS.quality:Decoding QA layer Possible snow/ice...\n",
      "INFO:TATSSI.qa.EOS.quality:Decoding QA layer Possible shadow...\n",
      "INFO:TATSSI.qa.EOS.quality:Decoding finished.\n",
      "INFO:TATSSI.qa.EOS.quality:Decoding MOD13A2.006...\n",
      "INFO:TATSSI.qa.EOS.quality:File /home/glopez/Projects/TATSSI/data/test_gee/1_km_16_days_VI_Quality/MOD13A2.2009_06_10.006.1_km_16_days_VI_Quality.tif\n",
      "INFO:TATSSI.qa.EOS.quality:Decoding QA layer MODLAND...\n",
      "INFO:TATSSI.qa.EOS.quality:Decoding QA layer VI Usefulness...\n",
      "INFO:TATSSI.qa.EOS.quality:Decoding QA layer Aerosol Quantity...\n",
      "INFO:TATSSI.qa.EOS.quality:Decoding QA layer Adjacent cloud detected...\n",
      "INFO:TATSSI.qa.EOS.quality:Decoding QA layer Atmosphere BRDF Correction...\n",
      "INFO:TATSSI.qa.EOS.quality:Decoding QA layer Mixed Clouds...\n",
      "INFO:TATSSI.qa.EOS.quality:Decoding QA layer Land/Water Mask...\n",
      "INFO:TATSSI.qa.EOS.quality:Decoding QA layer Possible snow/ice...\n",
      "INFO:TATSSI.qa.EOS.quality:Decoding QA layer Possible shadow...\n",
      "INFO:TATSSI.qa.EOS.quality:Decoding finished.\n",
      "INFO:TATSSI.qa.EOS.quality:Decoding MOD13A2.006...\n",
      "INFO:TATSSI.qa.EOS.quality:File /home/glopez/Projects/TATSSI/data/test_gee/1_km_16_days_VI_Quality/MOD13A2.2009_06_26.006.1_km_16_days_VI_Quality.tif\n",
      "INFO:TATSSI.qa.EOS.quality:Decoding QA layer MODLAND...\n",
      "INFO:TATSSI.qa.EOS.quality:Decoding QA layer VI Usefulness...\n",
      "INFO:TATSSI.qa.EOS.quality:Decoding QA layer Aerosol Quantity...\n",
      "INFO:TATSSI.qa.EOS.quality:Decoding QA layer Adjacent cloud detected...\n",
      "INFO:TATSSI.qa.EOS.quality:Decoding QA layer Atmosphere BRDF Correction...\n",
      "INFO:TATSSI.qa.EOS.quality:Decoding QA layer Mixed Clouds...\n",
      "INFO:TATSSI.qa.EOS.quality:Decoding QA layer Land/Water Mask...\n",
      "INFO:TATSSI.qa.EOS.quality:Decoding QA layer Possible snow/ice...\n",
      "INFO:TATSSI.qa.EOS.quality:Decoding QA layer Possible shadow...\n",
      "INFO:TATSSI.qa.EOS.quality:Decoding finished.\n",
      "INFO:TATSSI.qa.EOS.quality:Decoding MOD13A2.006...\n",
      "INFO:TATSSI.qa.EOS.quality:File /home/glopez/Projects/TATSSI/data/test_gee/1_km_16_days_VI_Quality/MOD13A2.2009_07_12.006.1_km_16_days_VI_Quality.tif\n",
      "INFO:TATSSI.qa.EOS.quality:Decoding QA layer MODLAND...\n",
      "INFO:TATSSI.qa.EOS.quality:Decoding QA layer VI Usefulness...\n",
      "INFO:TATSSI.qa.EOS.quality:Decoding QA layer Aerosol Quantity...\n",
      "INFO:TATSSI.qa.EOS.quality:Decoding QA layer Adjacent cloud detected...\n",
      "INFO:TATSSI.qa.EOS.quality:Decoding QA layer Atmosphere BRDF Correction...\n",
      "INFO:TATSSI.qa.EOS.quality:Decoding QA layer Mixed Clouds...\n",
      "INFO:TATSSI.qa.EOS.quality:Decoding QA layer Land/Water Mask...\n",
      "INFO:TATSSI.qa.EOS.quality:Decoding QA layer Possible snow/ice...\n",
      "INFO:TATSSI.qa.EOS.quality:Decoding QA layer Possible shadow...\n",
      "INFO:TATSSI.qa.EOS.quality:Decoding finished.\n",
      "INFO:TATSSI.qa.EOS.quality:Decoding MOD13A2.006...\n",
      "INFO:TATSSI.qa.EOS.quality:File /home/glopez/Projects/TATSSI/data/test_gee/1_km_16_days_VI_Quality/MOD13A2.2009_07_28.006.1_km_16_days_VI_Quality.tif\n",
      "INFO:TATSSI.qa.EOS.quality:Decoding QA layer MODLAND...\n",
      "INFO:TATSSI.qa.EOS.quality:Decoding QA layer VI Usefulness...\n",
      "INFO:TATSSI.qa.EOS.quality:Decoding QA layer Aerosol Quantity...\n",
      "INFO:TATSSI.qa.EOS.quality:Decoding QA layer Adjacent cloud detected...\n",
      "INFO:TATSSI.qa.EOS.quality:Decoding QA layer Atmosphere BRDF Correction...\n",
      "INFO:TATSSI.qa.EOS.quality:Decoding QA layer Mixed Clouds...\n",
      "INFO:TATSSI.qa.EOS.quality:Decoding QA layer Land/Water Mask...\n",
      "INFO:TATSSI.qa.EOS.quality:Decoding QA layer Possible snow/ice...\n",
      "INFO:TATSSI.qa.EOS.quality:Decoding QA layer Possible shadow...\n",
      "INFO:TATSSI.qa.EOS.quality:Decoding finished.\n",
      "INFO:TATSSI.qa.EOS.quality:Decoding MOD13A2.006...\n",
      "INFO:TATSSI.qa.EOS.quality:File /home/glopez/Projects/TATSSI/data/test_gee/1_km_16_days_VI_Quality/MOD13A2.2009_08_13.006.1_km_16_days_VI_Quality.tif\n",
      "INFO:TATSSI.qa.EOS.quality:Decoding QA layer MODLAND...\n",
      "INFO:TATSSI.qa.EOS.quality:Decoding QA layer VI Usefulness...\n",
      "INFO:TATSSI.qa.EOS.quality:Decoding QA layer Aerosol Quantity...\n",
      "INFO:TATSSI.qa.EOS.quality:Decoding QA layer Adjacent cloud detected...\n",
      "INFO:TATSSI.qa.EOS.quality:Decoding QA layer Atmosphere BRDF Correction...\n",
      "INFO:TATSSI.qa.EOS.quality:Decoding QA layer Mixed Clouds...\n",
      "INFO:TATSSI.qa.EOS.quality:Decoding QA layer Land/Water Mask...\n",
      "INFO:TATSSI.qa.EOS.quality:Decoding QA layer Possible snow/ice...\n",
      "INFO:TATSSI.qa.EOS.quality:Decoding QA layer Possible shadow...\n",
      "INFO:TATSSI.qa.EOS.quality:Decoding finished.\n",
      "INFO:TATSSI.qa.EOS.quality:Decoding MOD13A2.006...\n",
      "INFO:TATSSI.qa.EOS.quality:File /home/glopez/Projects/TATSSI/data/test_gee/1_km_16_days_VI_Quality/MOD13A2.2009_08_29.006.1_km_16_days_VI_Quality.tif\n"
     ]
    },
    {
     "name": "stderr",
     "output_type": "stream",
     "text": [
      "INFO:TATSSI.qa.EOS.quality:Decoding QA layer MODLAND...\n",
      "INFO:TATSSI.qa.EOS.quality:Decoding QA layer VI Usefulness...\n",
      "INFO:TATSSI.qa.EOS.quality:Decoding QA layer Aerosol Quantity...\n",
      "INFO:TATSSI.qa.EOS.quality:Decoding QA layer Adjacent cloud detected...\n",
      "INFO:TATSSI.qa.EOS.quality:Decoding QA layer Atmosphere BRDF Correction...\n",
      "INFO:TATSSI.qa.EOS.quality:Decoding QA layer Mixed Clouds...\n",
      "INFO:TATSSI.qa.EOS.quality:Decoding QA layer Land/Water Mask...\n",
      "INFO:TATSSI.qa.EOS.quality:Decoding QA layer Possible snow/ice...\n",
      "INFO:TATSSI.qa.EOS.quality:Decoding QA layer Possible shadow...\n",
      "INFO:TATSSI.qa.EOS.quality:Decoding finished.\n",
      "INFO:TATSSI.qa.EOS.quality:Decoding MOD13A2.006...\n",
      "INFO:TATSSI.qa.EOS.quality:File /home/glopez/Projects/TATSSI/data/test_gee/1_km_16_days_VI_Quality/MOD13A2.2009_09_14.006.1_km_16_days_VI_Quality.tif\n",
      "INFO:TATSSI.qa.EOS.quality:Decoding QA layer MODLAND...\n",
      "INFO:TATSSI.qa.EOS.quality:Decoding QA layer VI Usefulness...\n",
      "INFO:TATSSI.qa.EOS.quality:Decoding QA layer Aerosol Quantity...\n",
      "INFO:TATSSI.qa.EOS.quality:Decoding QA layer Adjacent cloud detected...\n",
      "INFO:TATSSI.qa.EOS.quality:Decoding QA layer Atmosphere BRDF Correction...\n",
      "INFO:TATSSI.qa.EOS.quality:Decoding QA layer Mixed Clouds...\n",
      "INFO:TATSSI.qa.EOS.quality:Decoding QA layer Land/Water Mask...\n",
      "INFO:TATSSI.qa.EOS.quality:Decoding QA layer Possible snow/ice...\n",
      "INFO:TATSSI.qa.EOS.quality:Decoding QA layer Possible shadow...\n",
      "INFO:TATSSI.qa.EOS.quality:Decoding finished.\n",
      "INFO:TATSSI.qa.EOS.quality:Decoding MOD13A2.006...\n",
      "INFO:TATSSI.qa.EOS.quality:File /home/glopez/Projects/TATSSI/data/test_gee/1_km_16_days_VI_Quality/MOD13A2.2009_09_30.006.1_km_16_days_VI_Quality.tif\n",
      "INFO:TATSSI.qa.EOS.quality:Decoding QA layer MODLAND...\n",
      "INFO:TATSSI.qa.EOS.quality:Decoding QA layer VI Usefulness...\n",
      "INFO:TATSSI.qa.EOS.quality:Decoding QA layer Aerosol Quantity...\n",
      "INFO:TATSSI.qa.EOS.quality:Decoding QA layer Adjacent cloud detected...\n",
      "INFO:TATSSI.qa.EOS.quality:Decoding QA layer Atmosphere BRDF Correction...\n",
      "INFO:TATSSI.qa.EOS.quality:Decoding QA layer Mixed Clouds...\n",
      "INFO:TATSSI.qa.EOS.quality:Decoding QA layer Land/Water Mask...\n",
      "INFO:TATSSI.qa.EOS.quality:Decoding QA layer Possible snow/ice...\n",
      "INFO:TATSSI.qa.EOS.quality:Decoding QA layer Possible shadow...\n",
      "INFO:TATSSI.qa.EOS.quality:Decoding finished.\n",
      "INFO:TATSSI.qa.EOS.quality:Decoding MOD13A2.006...\n",
      "INFO:TATSSI.qa.EOS.quality:File /home/glopez/Projects/TATSSI/data/test_gee/1_km_16_days_VI_Quality/MOD13A2.2009_10_16.006.1_km_16_days_VI_Quality.tif\n",
      "INFO:TATSSI.qa.EOS.quality:Decoding QA layer MODLAND...\n",
      "INFO:TATSSI.qa.EOS.quality:Decoding QA layer VI Usefulness...\n",
      "INFO:TATSSI.qa.EOS.quality:Decoding QA layer Aerosol Quantity...\n",
      "INFO:TATSSI.qa.EOS.quality:Decoding QA layer Adjacent cloud detected...\n",
      "INFO:TATSSI.qa.EOS.quality:Decoding QA layer Atmosphere BRDF Correction...\n",
      "INFO:TATSSI.qa.EOS.quality:Decoding QA layer Mixed Clouds...\n",
      "INFO:TATSSI.qa.EOS.quality:Decoding QA layer Land/Water Mask...\n",
      "INFO:TATSSI.qa.EOS.quality:Decoding QA layer Possible snow/ice...\n",
      "INFO:TATSSI.qa.EOS.quality:Decoding QA layer Possible shadow...\n",
      "INFO:TATSSI.qa.EOS.quality:Decoding finished.\n",
      "INFO:TATSSI.qa.EOS.quality:Decoding MOD13A2.006...\n",
      "INFO:TATSSI.qa.EOS.quality:File /home/glopez/Projects/TATSSI/data/test_gee/1_km_16_days_VI_Quality/MOD13A2.2009_11_01.006.1_km_16_days_VI_Quality.tif\n",
      "INFO:TATSSI.qa.EOS.quality:Decoding QA layer MODLAND...\n",
      "INFO:TATSSI.qa.EOS.quality:Decoding QA layer VI Usefulness...\n",
      "INFO:TATSSI.qa.EOS.quality:Decoding QA layer Aerosol Quantity...\n",
      "INFO:TATSSI.qa.EOS.quality:Decoding QA layer Adjacent cloud detected...\n",
      "INFO:TATSSI.qa.EOS.quality:Decoding QA layer Atmosphere BRDF Correction...\n",
      "INFO:TATSSI.qa.EOS.quality:Decoding QA layer Mixed Clouds...\n",
      "INFO:TATSSI.qa.EOS.quality:Decoding QA layer Land/Water Mask...\n",
      "INFO:TATSSI.qa.EOS.quality:Decoding QA layer Possible snow/ice...\n",
      "INFO:TATSSI.qa.EOS.quality:Decoding QA layer Possible shadow...\n",
      "INFO:TATSSI.qa.EOS.quality:Decoding finished.\n",
      "INFO:TATSSI.qa.EOS.quality:Decoding MOD13A2.006...\n",
      "INFO:TATSSI.qa.EOS.quality:File /home/glopez/Projects/TATSSI/data/test_gee/1_km_16_days_VI_Quality/MOD13A2.2009_11_17.006.1_km_16_days_VI_Quality.tif\n",
      "INFO:TATSSI.qa.EOS.quality:Decoding QA layer MODLAND...\n",
      "INFO:TATSSI.qa.EOS.quality:Decoding QA layer VI Usefulness...\n",
      "INFO:TATSSI.qa.EOS.quality:Decoding QA layer Aerosol Quantity...\n",
      "INFO:TATSSI.qa.EOS.quality:Decoding QA layer Adjacent cloud detected...\n",
      "INFO:TATSSI.qa.EOS.quality:Decoding QA layer Atmosphere BRDF Correction...\n",
      "INFO:TATSSI.qa.EOS.quality:Decoding QA layer Mixed Clouds...\n",
      "INFO:TATSSI.qa.EOS.quality:Decoding QA layer Land/Water Mask...\n",
      "INFO:TATSSI.qa.EOS.quality:Decoding QA layer Possible snow/ice...\n",
      "INFO:TATSSI.qa.EOS.quality:Decoding QA layer Possible shadow...\n",
      "INFO:TATSSI.qa.EOS.quality:Decoding finished.\n",
      "INFO:TATSSI.qa.EOS.quality:Decoding MOD13A2.006...\n",
      "INFO:TATSSI.qa.EOS.quality:File /home/glopez/Projects/TATSSI/data/test_gee/1_km_16_days_VI_Quality/MOD13A2.2009_12_03.006.1_km_16_days_VI_Quality.tif\n",
      "INFO:TATSSI.qa.EOS.quality:Decoding QA layer MODLAND...\n",
      "INFO:TATSSI.qa.EOS.quality:Decoding QA layer VI Usefulness...\n",
      "INFO:TATSSI.qa.EOS.quality:Decoding QA layer Aerosol Quantity...\n",
      "INFO:TATSSI.qa.EOS.quality:Decoding QA layer Adjacent cloud detected...\n",
      "INFO:TATSSI.qa.EOS.quality:Decoding QA layer Atmosphere BRDF Correction...\n",
      "INFO:TATSSI.qa.EOS.quality:Decoding QA layer Mixed Clouds...\n",
      "INFO:TATSSI.qa.EOS.quality:Decoding QA layer Land/Water Mask...\n",
      "INFO:TATSSI.qa.EOS.quality:Decoding QA layer Possible snow/ice...\n",
      "INFO:TATSSI.qa.EOS.quality:Decoding QA layer Possible shadow...\n",
      "INFO:TATSSI.qa.EOS.quality:Decoding finished.\n",
      "INFO:TATSSI.qa.EOS.quality:Decoding MOD13A2.006...\n",
      "INFO:TATSSI.qa.EOS.quality:File /home/glopez/Projects/TATSSI/data/test_gee/1_km_16_days_VI_Quality/MOD13A2.2009_12_19.006.1_km_16_days_VI_Quality.tif\n",
      "INFO:TATSSI.qa.EOS.quality:Decoding QA layer MODLAND...\n",
      "INFO:TATSSI.qa.EOS.quality:Decoding QA layer VI Usefulness...\n",
      "INFO:TATSSI.qa.EOS.quality:Decoding QA layer Aerosol Quantity...\n",
      "INFO:TATSSI.qa.EOS.quality:Decoding QA layer Adjacent cloud detected...\n",
      "INFO:TATSSI.qa.EOS.quality:Decoding QA layer Atmosphere BRDF Correction...\n",
      "INFO:TATSSI.qa.EOS.quality:Decoding QA layer Mixed Clouds...\n",
      "INFO:TATSSI.qa.EOS.quality:Decoding QA layer Land/Water Mask...\n",
      "INFO:TATSSI.qa.EOS.quality:Decoding QA layer Possible snow/ice...\n",
      "INFO:TATSSI.qa.EOS.quality:Decoding QA layer Possible shadow...\n",
      "INFO:TATSSI.qa.EOS.quality:Decoding finished.\n",
      "INFO:TATSSI.qa.EOS.quality:Decoding MOD13A2.006...\n",
      "INFO:TATSSI.qa.EOS.quality:File /home/glopez/Projects/TATSSI/data/test_gee/1_km_16_days_VI_Quality/MOD13A2.2010_01_01.006.1_km_16_days_VI_Quality.tif\n",
      "INFO:TATSSI.qa.EOS.quality:Decoding QA layer MODLAND...\n",
      "INFO:TATSSI.qa.EOS.quality:Decoding QA layer VI Usefulness...\n",
      "INFO:TATSSI.qa.EOS.quality:Decoding QA layer Aerosol Quantity...\n",
      "INFO:TATSSI.qa.EOS.quality:Decoding QA layer Adjacent cloud detected...\n",
      "INFO:TATSSI.qa.EOS.quality:Decoding QA layer Atmosphere BRDF Correction...\n",
      "INFO:TATSSI.qa.EOS.quality:Decoding QA layer Mixed Clouds...\n",
      "INFO:TATSSI.qa.EOS.quality:Decoding QA layer Land/Water Mask...\n",
      "INFO:TATSSI.qa.EOS.quality:Decoding QA layer Possible snow/ice...\n",
      "INFO:TATSSI.qa.EOS.quality:Decoding QA layer Possible shadow...\n",
      "INFO:TATSSI.qa.EOS.quality:Decoding finished.\n",
      "INFO:TATSSI.qa.EOS.quality:Decoding MOD13A2.006...\n",
      "INFO:TATSSI.qa.EOS.quality:File /home/glopez/Projects/TATSSI/data/test_gee/1_km_16_days_VI_Quality/MOD13A2.2010_01_17.006.1_km_16_days_VI_Quality.tif\n",
      "INFO:TATSSI.qa.EOS.quality:Decoding QA layer MODLAND...\n",
      "INFO:TATSSI.qa.EOS.quality:Decoding QA layer VI Usefulness...\n",
      "INFO:TATSSI.qa.EOS.quality:Decoding QA layer Aerosol Quantity...\n",
      "INFO:TATSSI.qa.EOS.quality:Decoding QA layer Adjacent cloud detected...\n",
      "INFO:TATSSI.qa.EOS.quality:Decoding QA layer Atmosphere BRDF Correction...\n",
      "INFO:TATSSI.qa.EOS.quality:Decoding QA layer Mixed Clouds...\n",
      "INFO:TATSSI.qa.EOS.quality:Decoding QA layer Land/Water Mask...\n",
      "INFO:TATSSI.qa.EOS.quality:Decoding QA layer Possible snow/ice...\n",
      "INFO:TATSSI.qa.EOS.quality:Decoding QA layer Possible shadow...\n",
      "INFO:TATSSI.qa.EOS.quality:Decoding finished.\n",
      "INFO:TATSSI.qa.EOS.quality:Decoding MOD13A2.006...\n",
      "INFO:TATSSI.qa.EOS.quality:File /home/glopez/Projects/TATSSI/data/test_gee/1_km_16_days_VI_Quality/MOD13A2.2010_02_02.006.1_km_16_days_VI_Quality.tif\n"
     ]
    },
    {
     "name": "stderr",
     "output_type": "stream",
     "text": [
      "INFO:TATSSI.qa.EOS.quality:Decoding QA layer MODLAND...\n",
      "INFO:TATSSI.qa.EOS.quality:Decoding QA layer VI Usefulness...\n",
      "INFO:TATSSI.qa.EOS.quality:Decoding QA layer Aerosol Quantity...\n",
      "INFO:TATSSI.qa.EOS.quality:Decoding QA layer Adjacent cloud detected...\n",
      "INFO:TATSSI.qa.EOS.quality:Decoding QA layer Atmosphere BRDF Correction...\n",
      "INFO:TATSSI.qa.EOS.quality:Decoding QA layer Mixed Clouds...\n",
      "INFO:TATSSI.qa.EOS.quality:Decoding QA layer Land/Water Mask...\n",
      "INFO:TATSSI.qa.EOS.quality:Decoding QA layer Possible snow/ice...\n",
      "INFO:TATSSI.qa.EOS.quality:Decoding QA layer Possible shadow...\n",
      "INFO:TATSSI.qa.EOS.quality:Decoding finished.\n",
      "INFO:TATSSI.qa.EOS.quality:Decoding MOD13A2.006...\n",
      "INFO:TATSSI.qa.EOS.quality:File /home/glopez/Projects/TATSSI/data/test_gee/1_km_16_days_VI_Quality/MOD13A2.2010_02_18.006.1_km_16_days_VI_Quality.tif\n",
      "INFO:TATSSI.qa.EOS.quality:Decoding QA layer MODLAND...\n",
      "INFO:TATSSI.qa.EOS.quality:Decoding QA layer VI Usefulness...\n",
      "INFO:TATSSI.qa.EOS.quality:Decoding QA layer Aerosol Quantity...\n",
      "INFO:TATSSI.qa.EOS.quality:Decoding QA layer Adjacent cloud detected...\n",
      "INFO:TATSSI.qa.EOS.quality:Decoding QA layer Atmosphere BRDF Correction...\n",
      "INFO:TATSSI.qa.EOS.quality:Decoding QA layer Mixed Clouds...\n",
      "INFO:TATSSI.qa.EOS.quality:Decoding QA layer Land/Water Mask...\n",
      "INFO:TATSSI.qa.EOS.quality:Decoding QA layer Possible snow/ice...\n",
      "INFO:TATSSI.qa.EOS.quality:Decoding QA layer Possible shadow...\n",
      "INFO:TATSSI.qa.EOS.quality:Decoding finished.\n",
      "INFO:TATSSI.qa.EOS.quality:Decoding MOD13A2.006...\n",
      "INFO:TATSSI.qa.EOS.quality:File /home/glopez/Projects/TATSSI/data/test_gee/1_km_16_days_VI_Quality/MOD13A2.2010_03_06.006.1_km_16_days_VI_Quality.tif\n",
      "INFO:TATSSI.qa.EOS.quality:Decoding QA layer MODLAND...\n",
      "INFO:TATSSI.qa.EOS.quality:Decoding QA layer VI Usefulness...\n",
      "INFO:TATSSI.qa.EOS.quality:Decoding QA layer Aerosol Quantity...\n",
      "INFO:TATSSI.qa.EOS.quality:Decoding QA layer Adjacent cloud detected...\n",
      "INFO:TATSSI.qa.EOS.quality:Decoding QA layer Atmosphere BRDF Correction...\n",
      "INFO:TATSSI.qa.EOS.quality:Decoding QA layer Mixed Clouds...\n",
      "INFO:TATSSI.qa.EOS.quality:Decoding QA layer Land/Water Mask...\n",
      "INFO:TATSSI.qa.EOS.quality:Decoding QA layer Possible snow/ice...\n",
      "INFO:TATSSI.qa.EOS.quality:Decoding QA layer Possible shadow...\n",
      "INFO:TATSSI.qa.EOS.quality:Decoding finished.\n",
      "INFO:TATSSI.qa.EOS.quality:Decoding MOD13A2.006...\n",
      "INFO:TATSSI.qa.EOS.quality:File /home/glopez/Projects/TATSSI/data/test_gee/1_km_16_days_VI_Quality/MOD13A2.2010_03_22.006.1_km_16_days_VI_Quality.tif\n",
      "INFO:TATSSI.qa.EOS.quality:Decoding QA layer MODLAND...\n",
      "INFO:TATSSI.qa.EOS.quality:Decoding QA layer VI Usefulness...\n",
      "INFO:TATSSI.qa.EOS.quality:Decoding QA layer Aerosol Quantity...\n",
      "INFO:TATSSI.qa.EOS.quality:Decoding QA layer Adjacent cloud detected...\n",
      "INFO:TATSSI.qa.EOS.quality:Decoding QA layer Atmosphere BRDF Correction...\n",
      "INFO:TATSSI.qa.EOS.quality:Decoding QA layer Mixed Clouds...\n",
      "INFO:TATSSI.qa.EOS.quality:Decoding QA layer Land/Water Mask...\n",
      "INFO:TATSSI.qa.EOS.quality:Decoding QA layer Possible snow/ice...\n",
      "INFO:TATSSI.qa.EOS.quality:Decoding QA layer Possible shadow...\n",
      "INFO:TATSSI.qa.EOS.quality:Decoding finished.\n",
      "INFO:TATSSI.qa.EOS.quality:Decoding MOD13A2.006...\n",
      "INFO:TATSSI.qa.EOS.quality:File /home/glopez/Projects/TATSSI/data/test_gee/1_km_16_days_VI_Quality/MOD13A2.2010_04_07.006.1_km_16_days_VI_Quality.tif\n",
      "INFO:TATSSI.qa.EOS.quality:Decoding QA layer MODLAND...\n",
      "INFO:TATSSI.qa.EOS.quality:Decoding QA layer VI Usefulness...\n",
      "INFO:TATSSI.qa.EOS.quality:Decoding QA layer Aerosol Quantity...\n",
      "INFO:TATSSI.qa.EOS.quality:Decoding QA layer Adjacent cloud detected...\n",
      "INFO:TATSSI.qa.EOS.quality:Decoding QA layer Atmosphere BRDF Correction...\n",
      "INFO:TATSSI.qa.EOS.quality:Decoding QA layer Mixed Clouds...\n",
      "INFO:TATSSI.qa.EOS.quality:Decoding QA layer Land/Water Mask...\n",
      "INFO:TATSSI.qa.EOS.quality:Decoding QA layer Possible snow/ice...\n",
      "INFO:TATSSI.qa.EOS.quality:Decoding QA layer Possible shadow...\n",
      "INFO:TATSSI.qa.EOS.quality:Decoding finished.\n",
      "INFO:TATSSI.qa.EOS.quality:Decoding MOD13A2.006...\n",
      "INFO:TATSSI.qa.EOS.quality:File /home/glopez/Projects/TATSSI/data/test_gee/1_km_16_days_VI_Quality/MOD13A2.2010_04_23.006.1_km_16_days_VI_Quality.tif\n",
      "INFO:TATSSI.qa.EOS.quality:Decoding QA layer MODLAND...\n",
      "INFO:TATSSI.qa.EOS.quality:Decoding QA layer VI Usefulness...\n",
      "INFO:TATSSI.qa.EOS.quality:Decoding QA layer Aerosol Quantity...\n",
      "INFO:TATSSI.qa.EOS.quality:Decoding QA layer Adjacent cloud detected...\n",
      "INFO:TATSSI.qa.EOS.quality:Decoding QA layer Atmosphere BRDF Correction...\n",
      "INFO:TATSSI.qa.EOS.quality:Decoding QA layer Mixed Clouds...\n",
      "INFO:TATSSI.qa.EOS.quality:Decoding QA layer Land/Water Mask...\n",
      "INFO:TATSSI.qa.EOS.quality:Decoding QA layer Possible snow/ice...\n",
      "INFO:TATSSI.qa.EOS.quality:Decoding QA layer Possible shadow...\n",
      "INFO:TATSSI.qa.EOS.quality:Decoding finished.\n",
      "INFO:TATSSI.qa.EOS.quality:Decoding MOD13A2.006...\n",
      "INFO:TATSSI.qa.EOS.quality:File /home/glopez/Projects/TATSSI/data/test_gee/1_km_16_days_VI_Quality/MOD13A2.2010_05_09.006.1_km_16_days_VI_Quality.tif\n",
      "INFO:TATSSI.qa.EOS.quality:Decoding QA layer MODLAND...\n",
      "INFO:TATSSI.qa.EOS.quality:Decoding QA layer VI Usefulness...\n",
      "INFO:TATSSI.qa.EOS.quality:Decoding QA layer Aerosol Quantity...\n",
      "INFO:TATSSI.qa.EOS.quality:Decoding QA layer Adjacent cloud detected...\n",
      "INFO:TATSSI.qa.EOS.quality:Decoding QA layer Atmosphere BRDF Correction...\n",
      "INFO:TATSSI.qa.EOS.quality:Decoding QA layer Mixed Clouds...\n",
      "INFO:TATSSI.qa.EOS.quality:Decoding QA layer Land/Water Mask...\n",
      "INFO:TATSSI.qa.EOS.quality:Decoding QA layer Possible snow/ice...\n",
      "INFO:TATSSI.qa.EOS.quality:Decoding QA layer Possible shadow...\n",
      "INFO:TATSSI.qa.EOS.quality:Decoding finished.\n",
      "INFO:TATSSI.qa.EOS.quality:Decoding MOD13A2.006...\n",
      "INFO:TATSSI.qa.EOS.quality:File /home/glopez/Projects/TATSSI/data/test_gee/1_km_16_days_VI_Quality/MOD13A2.2010_05_25.006.1_km_16_days_VI_Quality.tif\n",
      "INFO:TATSSI.qa.EOS.quality:Decoding QA layer MODLAND...\n",
      "INFO:TATSSI.qa.EOS.quality:Decoding QA layer VI Usefulness...\n",
      "INFO:TATSSI.qa.EOS.quality:Decoding QA layer Aerosol Quantity...\n",
      "INFO:TATSSI.qa.EOS.quality:Decoding QA layer Adjacent cloud detected...\n",
      "INFO:TATSSI.qa.EOS.quality:Decoding QA layer Atmosphere BRDF Correction...\n",
      "INFO:TATSSI.qa.EOS.quality:Decoding QA layer Mixed Clouds...\n",
      "INFO:TATSSI.qa.EOS.quality:Decoding QA layer Land/Water Mask...\n",
      "INFO:TATSSI.qa.EOS.quality:Decoding QA layer Possible snow/ice...\n",
      "INFO:TATSSI.qa.EOS.quality:Decoding QA layer Possible shadow...\n",
      "INFO:TATSSI.qa.EOS.quality:Decoding finished.\n",
      "INFO:TATSSI.qa.EOS.quality:Decoding MOD13A2.006...\n",
      "INFO:TATSSI.qa.EOS.quality:File /home/glopez/Projects/TATSSI/data/test_gee/1_km_16_days_VI_Quality/MOD13A2.2010_06_10.006.1_km_16_days_VI_Quality.tif\n",
      "INFO:TATSSI.qa.EOS.quality:Decoding QA layer MODLAND...\n",
      "INFO:TATSSI.qa.EOS.quality:Decoding QA layer VI Usefulness...\n",
      "INFO:TATSSI.qa.EOS.quality:Decoding QA layer Aerosol Quantity...\n",
      "INFO:TATSSI.qa.EOS.quality:Decoding QA layer Adjacent cloud detected...\n",
      "INFO:TATSSI.qa.EOS.quality:Decoding QA layer Atmosphere BRDF Correction...\n",
      "INFO:TATSSI.qa.EOS.quality:Decoding QA layer Mixed Clouds...\n",
      "INFO:TATSSI.qa.EOS.quality:Decoding QA layer Land/Water Mask...\n",
      "INFO:TATSSI.qa.EOS.quality:Decoding QA layer Possible snow/ice...\n",
      "INFO:TATSSI.qa.EOS.quality:Decoding QA layer Possible shadow...\n",
      "INFO:TATSSI.qa.EOS.quality:Decoding finished.\n",
      "INFO:TATSSI.qa.EOS.quality:Decoding MOD13A2.006...\n",
      "INFO:TATSSI.qa.EOS.quality:File /home/glopez/Projects/TATSSI/data/test_gee/1_km_16_days_VI_Quality/MOD13A2.2010_06_26.006.1_km_16_days_VI_Quality.tif\n",
      "INFO:TATSSI.qa.EOS.quality:Decoding QA layer MODLAND...\n",
      "INFO:TATSSI.qa.EOS.quality:Decoding QA layer VI Usefulness...\n",
      "INFO:TATSSI.qa.EOS.quality:Decoding QA layer Aerosol Quantity...\n",
      "INFO:TATSSI.qa.EOS.quality:Decoding QA layer Adjacent cloud detected...\n",
      "INFO:TATSSI.qa.EOS.quality:Decoding QA layer Atmosphere BRDF Correction...\n",
      "INFO:TATSSI.qa.EOS.quality:Decoding QA layer Mixed Clouds...\n",
      "INFO:TATSSI.qa.EOS.quality:Decoding QA layer Land/Water Mask...\n",
      "INFO:TATSSI.qa.EOS.quality:Decoding QA layer Possible snow/ice...\n",
      "INFO:TATSSI.qa.EOS.quality:Decoding QA layer Possible shadow...\n",
      "INFO:TATSSI.qa.EOS.quality:Decoding finished.\n",
      "INFO:TATSSI.qa.EOS.quality:Decoding MOD13A2.006...\n",
      "INFO:TATSSI.qa.EOS.quality:File /home/glopez/Projects/TATSSI/data/test_gee/1_km_16_days_VI_Quality/MOD13A2.2010_07_12.006.1_km_16_days_VI_Quality.tif\n"
     ]
    },
    {
     "name": "stderr",
     "output_type": "stream",
     "text": [
      "INFO:TATSSI.qa.EOS.quality:Decoding QA layer MODLAND...\n",
      "INFO:TATSSI.qa.EOS.quality:Decoding QA layer VI Usefulness...\n",
      "INFO:TATSSI.qa.EOS.quality:Decoding QA layer Aerosol Quantity...\n",
      "INFO:TATSSI.qa.EOS.quality:Decoding QA layer Adjacent cloud detected...\n",
      "INFO:TATSSI.qa.EOS.quality:Decoding QA layer Atmosphere BRDF Correction...\n",
      "INFO:TATSSI.qa.EOS.quality:Decoding QA layer Mixed Clouds...\n",
      "INFO:TATSSI.qa.EOS.quality:Decoding QA layer Land/Water Mask...\n",
      "INFO:TATSSI.qa.EOS.quality:Decoding QA layer Possible snow/ice...\n",
      "INFO:TATSSI.qa.EOS.quality:Decoding QA layer Possible shadow...\n",
      "INFO:TATSSI.qa.EOS.quality:Decoding finished.\n",
      "INFO:TATSSI.qa.EOS.quality:Decoding MOD13A2.006...\n",
      "INFO:TATSSI.qa.EOS.quality:File /home/glopez/Projects/TATSSI/data/test_gee/1_km_16_days_VI_Quality/MOD13A2.2010_07_28.006.1_km_16_days_VI_Quality.tif\n",
      "INFO:TATSSI.qa.EOS.quality:Decoding QA layer MODLAND...\n",
      "INFO:TATSSI.qa.EOS.quality:Decoding QA layer VI Usefulness...\n",
      "INFO:TATSSI.qa.EOS.quality:Decoding QA layer Aerosol Quantity...\n",
      "INFO:TATSSI.qa.EOS.quality:Decoding QA layer Adjacent cloud detected...\n",
      "INFO:TATSSI.qa.EOS.quality:Decoding QA layer Atmosphere BRDF Correction...\n",
      "INFO:TATSSI.qa.EOS.quality:Decoding QA layer Mixed Clouds...\n",
      "INFO:TATSSI.qa.EOS.quality:Decoding QA layer Land/Water Mask...\n",
      "INFO:TATSSI.qa.EOS.quality:Decoding QA layer Possible snow/ice...\n",
      "INFO:TATSSI.qa.EOS.quality:Decoding QA layer Possible shadow...\n",
      "INFO:TATSSI.qa.EOS.quality:Decoding finished.\n",
      "INFO:TATSSI.qa.EOS.quality:Decoding MOD13A2.006...\n",
      "INFO:TATSSI.qa.EOS.quality:File /home/glopez/Projects/TATSSI/data/test_gee/1_km_16_days_VI_Quality/MOD13A2.2010_08_13.006.1_km_16_days_VI_Quality.tif\n",
      "INFO:TATSSI.qa.EOS.quality:Decoding QA layer MODLAND...\n",
      "INFO:TATSSI.qa.EOS.quality:Decoding QA layer VI Usefulness...\n",
      "INFO:TATSSI.qa.EOS.quality:Decoding QA layer Aerosol Quantity...\n",
      "INFO:TATSSI.qa.EOS.quality:Decoding QA layer Adjacent cloud detected...\n",
      "INFO:TATSSI.qa.EOS.quality:Decoding QA layer Atmosphere BRDF Correction...\n",
      "INFO:TATSSI.qa.EOS.quality:Decoding QA layer Mixed Clouds...\n",
      "INFO:TATSSI.qa.EOS.quality:Decoding QA layer Land/Water Mask...\n",
      "INFO:TATSSI.qa.EOS.quality:Decoding QA layer Possible snow/ice...\n",
      "INFO:TATSSI.qa.EOS.quality:Decoding QA layer Possible shadow...\n",
      "INFO:TATSSI.qa.EOS.quality:Decoding finished.\n",
      "INFO:TATSSI.qa.EOS.quality:Decoding MOD13A2.006...\n",
      "INFO:TATSSI.qa.EOS.quality:File /home/glopez/Projects/TATSSI/data/test_gee/1_km_16_days_VI_Quality/MOD13A2.2010_08_29.006.1_km_16_days_VI_Quality.tif\n",
      "INFO:TATSSI.qa.EOS.quality:Decoding QA layer MODLAND...\n",
      "INFO:TATSSI.qa.EOS.quality:Decoding QA layer VI Usefulness...\n",
      "INFO:TATSSI.qa.EOS.quality:Decoding QA layer Aerosol Quantity...\n",
      "INFO:TATSSI.qa.EOS.quality:Decoding QA layer Adjacent cloud detected...\n",
      "INFO:TATSSI.qa.EOS.quality:Decoding QA layer Atmosphere BRDF Correction...\n",
      "INFO:TATSSI.qa.EOS.quality:Decoding QA layer Mixed Clouds...\n",
      "INFO:TATSSI.qa.EOS.quality:Decoding QA layer Land/Water Mask...\n",
      "INFO:TATSSI.qa.EOS.quality:Decoding QA layer Possible snow/ice...\n",
      "INFO:TATSSI.qa.EOS.quality:Decoding QA layer Possible shadow...\n",
      "INFO:TATSSI.qa.EOS.quality:Decoding finished.\n",
      "INFO:TATSSI.qa.EOS.quality:Decoding MOD13A2.006...\n",
      "INFO:TATSSI.qa.EOS.quality:File /home/glopez/Projects/TATSSI/data/test_gee/1_km_16_days_VI_Quality/MOD13A2.2010_09_14.006.1_km_16_days_VI_Quality.tif\n",
      "INFO:TATSSI.qa.EOS.quality:Decoding QA layer MODLAND...\n",
      "INFO:TATSSI.qa.EOS.quality:Decoding QA layer VI Usefulness...\n",
      "INFO:TATSSI.qa.EOS.quality:Decoding QA layer Aerosol Quantity...\n",
      "INFO:TATSSI.qa.EOS.quality:Decoding QA layer Adjacent cloud detected...\n",
      "INFO:TATSSI.qa.EOS.quality:Decoding QA layer Atmosphere BRDF Correction...\n",
      "INFO:TATSSI.qa.EOS.quality:Decoding QA layer Mixed Clouds...\n",
      "INFO:TATSSI.qa.EOS.quality:Decoding QA layer Land/Water Mask...\n",
      "INFO:TATSSI.qa.EOS.quality:Decoding QA layer Possible snow/ice...\n",
      "INFO:TATSSI.qa.EOS.quality:Decoding QA layer Possible shadow...\n",
      "INFO:TATSSI.qa.EOS.quality:Decoding finished.\n",
      "INFO:TATSSI.qa.EOS.quality:Decoding MOD13A2.006...\n",
      "INFO:TATSSI.qa.EOS.quality:File /home/glopez/Projects/TATSSI/data/test_gee/1_km_16_days_VI_Quality/MOD13A2.2010_09_30.006.1_km_16_days_VI_Quality.tif\n",
      "INFO:TATSSI.qa.EOS.quality:Decoding QA layer MODLAND...\n",
      "INFO:TATSSI.qa.EOS.quality:Decoding QA layer VI Usefulness...\n",
      "INFO:TATSSI.qa.EOS.quality:Decoding QA layer Aerosol Quantity...\n",
      "INFO:TATSSI.qa.EOS.quality:Decoding QA layer Adjacent cloud detected...\n",
      "INFO:TATSSI.qa.EOS.quality:Decoding QA layer Atmosphere BRDF Correction...\n",
      "INFO:TATSSI.qa.EOS.quality:Decoding QA layer Mixed Clouds...\n",
      "INFO:TATSSI.qa.EOS.quality:Decoding QA layer Land/Water Mask...\n",
      "INFO:TATSSI.qa.EOS.quality:Decoding QA layer Possible snow/ice...\n",
      "INFO:TATSSI.qa.EOS.quality:Decoding QA layer Possible shadow...\n",
      "INFO:TATSSI.qa.EOS.quality:Decoding finished.\n",
      "INFO:TATSSI.qa.EOS.quality:Decoding MOD13A2.006...\n",
      "INFO:TATSSI.qa.EOS.quality:File /home/glopez/Projects/TATSSI/data/test_gee/1_km_16_days_VI_Quality/MOD13A2.2010_10_16.006.1_km_16_days_VI_Quality.tif\n",
      "INFO:TATSSI.qa.EOS.quality:Decoding QA layer MODLAND...\n",
      "INFO:TATSSI.qa.EOS.quality:Decoding QA layer VI Usefulness...\n",
      "INFO:TATSSI.qa.EOS.quality:Decoding QA layer Aerosol Quantity...\n",
      "INFO:TATSSI.qa.EOS.quality:Decoding QA layer Adjacent cloud detected...\n",
      "INFO:TATSSI.qa.EOS.quality:Decoding QA layer Atmosphere BRDF Correction...\n",
      "INFO:TATSSI.qa.EOS.quality:Decoding QA layer Mixed Clouds...\n",
      "INFO:TATSSI.qa.EOS.quality:Decoding QA layer Land/Water Mask...\n",
      "INFO:TATSSI.qa.EOS.quality:Decoding QA layer Possible snow/ice...\n",
      "INFO:TATSSI.qa.EOS.quality:Decoding QA layer Possible shadow...\n",
      "INFO:TATSSI.qa.EOS.quality:Decoding finished.\n",
      "INFO:TATSSI.qa.EOS.quality:Decoding MOD13A2.006...\n",
      "INFO:TATSSI.qa.EOS.quality:File /home/glopez/Projects/TATSSI/data/test_gee/1_km_16_days_VI_Quality/MOD13A2.2010_11_01.006.1_km_16_days_VI_Quality.tif\n",
      "INFO:TATSSI.qa.EOS.quality:Decoding QA layer MODLAND...\n",
      "INFO:TATSSI.qa.EOS.quality:Decoding QA layer VI Usefulness...\n",
      "INFO:TATSSI.qa.EOS.quality:Decoding QA layer Aerosol Quantity...\n",
      "INFO:TATSSI.qa.EOS.quality:Decoding QA layer Adjacent cloud detected...\n",
      "INFO:TATSSI.qa.EOS.quality:Decoding QA layer Atmosphere BRDF Correction...\n",
      "INFO:TATSSI.qa.EOS.quality:Decoding QA layer Mixed Clouds...\n",
      "INFO:TATSSI.qa.EOS.quality:Decoding QA layer Land/Water Mask...\n",
      "INFO:TATSSI.qa.EOS.quality:Decoding QA layer Possible snow/ice...\n",
      "INFO:TATSSI.qa.EOS.quality:Decoding QA layer Possible shadow...\n",
      "INFO:TATSSI.qa.EOS.quality:Decoding finished.\n",
      "INFO:TATSSI.qa.EOS.quality:Decoding MOD13A2.006...\n",
      "INFO:TATSSI.qa.EOS.quality:File /home/glopez/Projects/TATSSI/data/test_gee/1_km_16_days_VI_Quality/MOD13A2.2010_11_17.006.1_km_16_days_VI_Quality.tif\n",
      "INFO:TATSSI.qa.EOS.quality:Decoding QA layer MODLAND...\n",
      "INFO:TATSSI.qa.EOS.quality:Decoding QA layer VI Usefulness...\n",
      "INFO:TATSSI.qa.EOS.quality:Decoding QA layer Aerosol Quantity...\n",
      "INFO:TATSSI.qa.EOS.quality:Decoding QA layer Adjacent cloud detected...\n",
      "INFO:TATSSI.qa.EOS.quality:Decoding QA layer Atmosphere BRDF Correction...\n",
      "INFO:TATSSI.qa.EOS.quality:Decoding QA layer Mixed Clouds...\n",
      "INFO:TATSSI.qa.EOS.quality:Decoding QA layer Land/Water Mask...\n",
      "INFO:TATSSI.qa.EOS.quality:Decoding QA layer Possible snow/ice...\n",
      "INFO:TATSSI.qa.EOS.quality:Decoding QA layer Possible shadow...\n",
      "INFO:TATSSI.qa.EOS.quality:Decoding finished.\n",
      "INFO:TATSSI.qa.EOS.quality:Decoding MOD13A2.006...\n",
      "INFO:TATSSI.qa.EOS.quality:File /home/glopez/Projects/TATSSI/data/test_gee/1_km_16_days_VI_Quality/MOD13A2.2010_12_03.006.1_km_16_days_VI_Quality.tif\n",
      "INFO:TATSSI.qa.EOS.quality:Decoding QA layer MODLAND...\n",
      "INFO:TATSSI.qa.EOS.quality:Decoding QA layer VI Usefulness...\n",
      "INFO:TATSSI.qa.EOS.quality:Decoding QA layer Aerosol Quantity...\n",
      "INFO:TATSSI.qa.EOS.quality:Decoding QA layer Adjacent cloud detected...\n",
      "INFO:TATSSI.qa.EOS.quality:Decoding QA layer Atmosphere BRDF Correction...\n",
      "INFO:TATSSI.qa.EOS.quality:Decoding QA layer Mixed Clouds...\n",
      "INFO:TATSSI.qa.EOS.quality:Decoding QA layer Land/Water Mask...\n",
      "INFO:TATSSI.qa.EOS.quality:Decoding QA layer Possible snow/ice...\n",
      "INFO:TATSSI.qa.EOS.quality:Decoding QA layer Possible shadow...\n",
      "INFO:TATSSI.qa.EOS.quality:Decoding finished.\n",
      "INFO:TATSSI.qa.EOS.quality:Decoding MOD13A2.006...\n",
      "INFO:TATSSI.qa.EOS.quality:File /home/glopez/Projects/TATSSI/data/test_gee/1_km_16_days_VI_Quality/MOD13A2.2010_12_19.006.1_km_16_days_VI_Quality.tif\n"
     ]
    },
    {
     "name": "stderr",
     "output_type": "stream",
     "text": [
      "INFO:TATSSI.qa.EOS.quality:Decoding QA layer MODLAND...\n",
      "INFO:TATSSI.qa.EOS.quality:Decoding QA layer VI Usefulness...\n",
      "INFO:TATSSI.qa.EOS.quality:Decoding QA layer Aerosol Quantity...\n",
      "INFO:TATSSI.qa.EOS.quality:Decoding QA layer Adjacent cloud detected...\n",
      "INFO:TATSSI.qa.EOS.quality:Decoding QA layer Atmosphere BRDF Correction...\n",
      "INFO:TATSSI.qa.EOS.quality:Decoding QA layer Mixed Clouds...\n",
      "INFO:TATSSI.qa.EOS.quality:Decoding QA layer Land/Water Mask...\n",
      "INFO:TATSSI.qa.EOS.quality:Decoding QA layer Possible snow/ice...\n",
      "INFO:TATSSI.qa.EOS.quality:Decoding QA layer Possible shadow...\n",
      "INFO:TATSSI.qa.EOS.quality:Decoding finished.\n",
      "INFO:TATSSI.qa.EOS.quality:Decoding MOD13A2.006...\n",
      "INFO:TATSSI.qa.EOS.quality:File /home/glopez/Projects/TATSSI/data/test_gee/1_km_16_days_VI_Quality/MOD13A2.2011_01_01.006.1_km_16_days_VI_Quality.tif\n",
      "INFO:TATSSI.qa.EOS.quality:Decoding QA layer MODLAND...\n",
      "INFO:TATSSI.qa.EOS.quality:Decoding QA layer VI Usefulness...\n",
      "INFO:TATSSI.qa.EOS.quality:Decoding QA layer Aerosol Quantity...\n",
      "INFO:TATSSI.qa.EOS.quality:Decoding QA layer Adjacent cloud detected...\n",
      "INFO:TATSSI.qa.EOS.quality:Decoding QA layer Atmosphere BRDF Correction...\n",
      "INFO:TATSSI.qa.EOS.quality:Decoding QA layer Mixed Clouds...\n",
      "INFO:TATSSI.qa.EOS.quality:Decoding QA layer Land/Water Mask...\n",
      "INFO:TATSSI.qa.EOS.quality:Decoding QA layer Possible snow/ice...\n",
      "INFO:TATSSI.qa.EOS.quality:Decoding QA layer Possible shadow...\n",
      "INFO:TATSSI.qa.EOS.quality:Decoding finished.\n",
      "INFO:TATSSI.qa.EOS.quality:Decoding MOD13A2.006...\n",
      "INFO:TATSSI.qa.EOS.quality:File /home/glopez/Projects/TATSSI/data/test_gee/1_km_16_days_VI_Quality/MOD13A2.2011_01_17.006.1_km_16_days_VI_Quality.tif\n",
      "INFO:TATSSI.qa.EOS.quality:Decoding QA layer MODLAND...\n",
      "INFO:TATSSI.qa.EOS.quality:Decoding QA layer VI Usefulness...\n",
      "INFO:TATSSI.qa.EOS.quality:Decoding QA layer Aerosol Quantity...\n",
      "INFO:TATSSI.qa.EOS.quality:Decoding QA layer Adjacent cloud detected...\n",
      "INFO:TATSSI.qa.EOS.quality:Decoding QA layer Atmosphere BRDF Correction...\n",
      "INFO:TATSSI.qa.EOS.quality:Decoding QA layer Mixed Clouds...\n",
      "INFO:TATSSI.qa.EOS.quality:Decoding QA layer Land/Water Mask...\n",
      "INFO:TATSSI.qa.EOS.quality:Decoding QA layer Possible snow/ice...\n",
      "INFO:TATSSI.qa.EOS.quality:Decoding QA layer Possible shadow...\n",
      "INFO:TATSSI.qa.EOS.quality:Decoding finished.\n",
      "INFO:TATSSI.qa.EOS.quality:Decoding MOD13A2.006...\n",
      "INFO:TATSSI.qa.EOS.quality:File /home/glopez/Projects/TATSSI/data/test_gee/1_km_16_days_VI_Quality/MOD13A2.2011_02_02.006.1_km_16_days_VI_Quality.tif\n",
      "INFO:TATSSI.qa.EOS.quality:Decoding QA layer MODLAND...\n",
      "INFO:TATSSI.qa.EOS.quality:Decoding QA layer VI Usefulness...\n",
      "INFO:TATSSI.qa.EOS.quality:Decoding QA layer Aerosol Quantity...\n",
      "INFO:TATSSI.qa.EOS.quality:Decoding QA layer Adjacent cloud detected...\n",
      "INFO:TATSSI.qa.EOS.quality:Decoding QA layer Atmosphere BRDF Correction...\n",
      "INFO:TATSSI.qa.EOS.quality:Decoding QA layer Mixed Clouds...\n",
      "INFO:TATSSI.qa.EOS.quality:Decoding QA layer Land/Water Mask...\n",
      "INFO:TATSSI.qa.EOS.quality:Decoding QA layer Possible snow/ice...\n",
      "INFO:TATSSI.qa.EOS.quality:Decoding QA layer Possible shadow...\n",
      "INFO:TATSSI.qa.EOS.quality:Decoding finished.\n",
      "INFO:TATSSI.qa.EOS.quality:Decoding MOD13A2.006...\n",
      "INFO:TATSSI.qa.EOS.quality:File /home/glopez/Projects/TATSSI/data/test_gee/1_km_16_days_VI_Quality/MOD13A2.2011_02_18.006.1_km_16_days_VI_Quality.tif\n",
      "INFO:TATSSI.qa.EOS.quality:Decoding QA layer MODLAND...\n",
      "INFO:TATSSI.qa.EOS.quality:Decoding QA layer VI Usefulness...\n",
      "INFO:TATSSI.qa.EOS.quality:Decoding QA layer Aerosol Quantity...\n",
      "INFO:TATSSI.qa.EOS.quality:Decoding QA layer Adjacent cloud detected...\n",
      "INFO:TATSSI.qa.EOS.quality:Decoding QA layer Atmosphere BRDF Correction...\n",
      "INFO:TATSSI.qa.EOS.quality:Decoding QA layer Mixed Clouds...\n",
      "INFO:TATSSI.qa.EOS.quality:Decoding QA layer Land/Water Mask...\n",
      "INFO:TATSSI.qa.EOS.quality:Decoding QA layer Possible snow/ice...\n",
      "INFO:TATSSI.qa.EOS.quality:Decoding QA layer Possible shadow...\n",
      "INFO:TATSSI.qa.EOS.quality:Decoding finished.\n",
      "INFO:TATSSI.qa.EOS.quality:Decoding MOD13A2.006...\n",
      "INFO:TATSSI.qa.EOS.quality:File /home/glopez/Projects/TATSSI/data/test_gee/1_km_16_days_VI_Quality/MOD13A2.2011_03_06.006.1_km_16_days_VI_Quality.tif\n",
      "INFO:TATSSI.qa.EOS.quality:Decoding QA layer MODLAND...\n",
      "INFO:TATSSI.qa.EOS.quality:Decoding QA layer VI Usefulness...\n",
      "INFO:TATSSI.qa.EOS.quality:Decoding QA layer Aerosol Quantity...\n",
      "INFO:TATSSI.qa.EOS.quality:Decoding QA layer Adjacent cloud detected...\n",
      "INFO:TATSSI.qa.EOS.quality:Decoding QA layer Atmosphere BRDF Correction...\n",
      "INFO:TATSSI.qa.EOS.quality:Decoding QA layer Mixed Clouds...\n",
      "INFO:TATSSI.qa.EOS.quality:Decoding QA layer Land/Water Mask...\n",
      "INFO:TATSSI.qa.EOS.quality:Decoding QA layer Possible snow/ice...\n",
      "INFO:TATSSI.qa.EOS.quality:Decoding QA layer Possible shadow...\n",
      "INFO:TATSSI.qa.EOS.quality:Decoding finished.\n",
      "INFO:TATSSI.qa.EOS.quality:Decoding MOD13A2.006...\n",
      "INFO:TATSSI.qa.EOS.quality:File /home/glopez/Projects/TATSSI/data/test_gee/1_km_16_days_VI_Quality/MOD13A2.2011_03_22.006.1_km_16_days_VI_Quality.tif\n",
      "INFO:TATSSI.qa.EOS.quality:Decoding QA layer MODLAND...\n",
      "INFO:TATSSI.qa.EOS.quality:Decoding QA layer VI Usefulness...\n",
      "INFO:TATSSI.qa.EOS.quality:Decoding QA layer Aerosol Quantity...\n",
      "INFO:TATSSI.qa.EOS.quality:Decoding QA layer Adjacent cloud detected...\n",
      "INFO:TATSSI.qa.EOS.quality:Decoding QA layer Atmosphere BRDF Correction...\n",
      "INFO:TATSSI.qa.EOS.quality:Decoding QA layer Mixed Clouds...\n",
      "INFO:TATSSI.qa.EOS.quality:Decoding QA layer Land/Water Mask...\n",
      "INFO:TATSSI.qa.EOS.quality:Decoding QA layer Possible snow/ice...\n",
      "INFO:TATSSI.qa.EOS.quality:Decoding QA layer Possible shadow...\n",
      "INFO:TATSSI.qa.EOS.quality:Decoding finished.\n",
      "INFO:TATSSI.qa.EOS.quality:Decoding MOD13A2.006...\n",
      "INFO:TATSSI.qa.EOS.quality:File /home/glopez/Projects/TATSSI/data/test_gee/1_km_16_days_VI_Quality/MOD13A2.2011_04_07.006.1_km_16_days_VI_Quality.tif\n",
      "INFO:TATSSI.qa.EOS.quality:Decoding QA layer MODLAND...\n",
      "INFO:TATSSI.qa.EOS.quality:Decoding QA layer VI Usefulness...\n",
      "INFO:TATSSI.qa.EOS.quality:Decoding QA layer Aerosol Quantity...\n",
      "INFO:TATSSI.qa.EOS.quality:Decoding QA layer Adjacent cloud detected...\n",
      "INFO:TATSSI.qa.EOS.quality:Decoding QA layer Atmosphere BRDF Correction...\n",
      "INFO:TATSSI.qa.EOS.quality:Decoding QA layer Mixed Clouds...\n",
      "INFO:TATSSI.qa.EOS.quality:Decoding QA layer Land/Water Mask...\n",
      "INFO:TATSSI.qa.EOS.quality:Decoding QA layer Possible snow/ice...\n",
      "INFO:TATSSI.qa.EOS.quality:Decoding QA layer Possible shadow...\n",
      "INFO:TATSSI.qa.EOS.quality:Decoding finished.\n",
      "INFO:TATSSI.qa.EOS.quality:Decoding MOD13A2.006...\n",
      "INFO:TATSSI.qa.EOS.quality:File /home/glopez/Projects/TATSSI/data/test_gee/1_km_16_days_VI_Quality/MOD13A2.2011_04_23.006.1_km_16_days_VI_Quality.tif\n",
      "INFO:TATSSI.qa.EOS.quality:Decoding QA layer MODLAND...\n",
      "INFO:TATSSI.qa.EOS.quality:Decoding QA layer VI Usefulness...\n",
      "INFO:TATSSI.qa.EOS.quality:Decoding QA layer Aerosol Quantity...\n",
      "INFO:TATSSI.qa.EOS.quality:Decoding QA layer Adjacent cloud detected...\n",
      "INFO:TATSSI.qa.EOS.quality:Decoding QA layer Atmosphere BRDF Correction...\n",
      "INFO:TATSSI.qa.EOS.quality:Decoding QA layer Mixed Clouds...\n",
      "INFO:TATSSI.qa.EOS.quality:Decoding QA layer Land/Water Mask...\n",
      "INFO:TATSSI.qa.EOS.quality:Decoding QA layer Possible snow/ice...\n",
      "INFO:TATSSI.qa.EOS.quality:Decoding QA layer Possible shadow...\n",
      "INFO:TATSSI.qa.EOS.quality:Decoding finished.\n",
      "INFO:TATSSI.qa.EOS.quality:Decoding MOD13A2.006...\n",
      "INFO:TATSSI.qa.EOS.quality:File /home/glopez/Projects/TATSSI/data/test_gee/1_km_16_days_VI_Quality/MOD13A2.2011_05_09.006.1_km_16_days_VI_Quality.tif\n",
      "INFO:TATSSI.qa.EOS.quality:Decoding QA layer MODLAND...\n",
      "INFO:TATSSI.qa.EOS.quality:Decoding QA layer VI Usefulness...\n",
      "INFO:TATSSI.qa.EOS.quality:Decoding QA layer Aerosol Quantity...\n",
      "INFO:TATSSI.qa.EOS.quality:Decoding QA layer Adjacent cloud detected...\n",
      "INFO:TATSSI.qa.EOS.quality:Decoding QA layer Atmosphere BRDF Correction...\n",
      "INFO:TATSSI.qa.EOS.quality:Decoding QA layer Mixed Clouds...\n",
      "INFO:TATSSI.qa.EOS.quality:Decoding QA layer Land/Water Mask...\n",
      "INFO:TATSSI.qa.EOS.quality:Decoding QA layer Possible snow/ice...\n",
      "INFO:TATSSI.qa.EOS.quality:Decoding QA layer Possible shadow...\n",
      "INFO:TATSSI.qa.EOS.quality:Decoding finished.\n",
      "INFO:TATSSI.qa.EOS.quality:Decoding MOD13A2.006...\n",
      "INFO:TATSSI.qa.EOS.quality:File /home/glopez/Projects/TATSSI/data/test_gee/1_km_16_days_VI_Quality/MOD13A2.2011_05_25.006.1_km_16_days_VI_Quality.tif\n"
     ]
    },
    {
     "name": "stderr",
     "output_type": "stream",
     "text": [
      "INFO:TATSSI.qa.EOS.quality:Decoding QA layer MODLAND...\n",
      "INFO:TATSSI.qa.EOS.quality:Decoding QA layer VI Usefulness...\n",
      "INFO:TATSSI.qa.EOS.quality:Decoding QA layer Aerosol Quantity...\n",
      "INFO:TATSSI.qa.EOS.quality:Decoding QA layer Adjacent cloud detected...\n",
      "INFO:TATSSI.qa.EOS.quality:Decoding QA layer Atmosphere BRDF Correction...\n",
      "INFO:TATSSI.qa.EOS.quality:Decoding QA layer Mixed Clouds...\n",
      "INFO:TATSSI.qa.EOS.quality:Decoding QA layer Land/Water Mask...\n",
      "INFO:TATSSI.qa.EOS.quality:Decoding QA layer Possible snow/ice...\n",
      "INFO:TATSSI.qa.EOS.quality:Decoding QA layer Possible shadow...\n",
      "INFO:TATSSI.qa.EOS.quality:Decoding finished.\n",
      "INFO:TATSSI.qa.EOS.quality:Decoding MOD13A2.006...\n",
      "INFO:TATSSI.qa.EOS.quality:File /home/glopez/Projects/TATSSI/data/test_gee/1_km_16_days_VI_Quality/MOD13A2.2011_06_10.006.1_km_16_days_VI_Quality.tif\n",
      "INFO:TATSSI.qa.EOS.quality:Decoding QA layer MODLAND...\n",
      "INFO:TATSSI.qa.EOS.quality:Decoding QA layer VI Usefulness...\n",
      "INFO:TATSSI.qa.EOS.quality:Decoding QA layer Aerosol Quantity...\n",
      "INFO:TATSSI.qa.EOS.quality:Decoding QA layer Adjacent cloud detected...\n",
      "INFO:TATSSI.qa.EOS.quality:Decoding QA layer Atmosphere BRDF Correction...\n",
      "INFO:TATSSI.qa.EOS.quality:Decoding QA layer Mixed Clouds...\n",
      "INFO:TATSSI.qa.EOS.quality:Decoding QA layer Land/Water Mask...\n",
      "INFO:TATSSI.qa.EOS.quality:Decoding QA layer Possible snow/ice...\n",
      "INFO:TATSSI.qa.EOS.quality:Decoding QA layer Possible shadow...\n",
      "INFO:TATSSI.qa.EOS.quality:Decoding finished.\n",
      "INFO:TATSSI.qa.EOS.quality:Decoding MOD13A2.006...\n",
      "INFO:TATSSI.qa.EOS.quality:File /home/glopez/Projects/TATSSI/data/test_gee/1_km_16_days_VI_Quality/MOD13A2.2011_06_26.006.1_km_16_days_VI_Quality.tif\n",
      "INFO:TATSSI.qa.EOS.quality:Decoding QA layer MODLAND...\n",
      "INFO:TATSSI.qa.EOS.quality:Decoding QA layer VI Usefulness...\n",
      "INFO:TATSSI.qa.EOS.quality:Decoding QA layer Aerosol Quantity...\n",
      "INFO:TATSSI.qa.EOS.quality:Decoding QA layer Adjacent cloud detected...\n",
      "INFO:TATSSI.qa.EOS.quality:Decoding QA layer Atmosphere BRDF Correction...\n",
      "INFO:TATSSI.qa.EOS.quality:Decoding QA layer Mixed Clouds...\n",
      "INFO:TATSSI.qa.EOS.quality:Decoding QA layer Land/Water Mask...\n",
      "INFO:TATSSI.qa.EOS.quality:Decoding QA layer Possible snow/ice...\n",
      "INFO:TATSSI.qa.EOS.quality:Decoding QA layer Possible shadow...\n",
      "INFO:TATSSI.qa.EOS.quality:Decoding finished.\n",
      "INFO:TATSSI.qa.EOS.quality:Decoding MOD13A2.006...\n",
      "INFO:TATSSI.qa.EOS.quality:File /home/glopez/Projects/TATSSI/data/test_gee/1_km_16_days_VI_Quality/MOD13A2.2011_07_12.006.1_km_16_days_VI_Quality.tif\n",
      "INFO:TATSSI.qa.EOS.quality:Decoding QA layer MODLAND...\n",
      "INFO:TATSSI.qa.EOS.quality:Decoding QA layer VI Usefulness...\n",
      "INFO:TATSSI.qa.EOS.quality:Decoding QA layer Aerosol Quantity...\n",
      "INFO:TATSSI.qa.EOS.quality:Decoding QA layer Adjacent cloud detected...\n",
      "INFO:TATSSI.qa.EOS.quality:Decoding QA layer Atmosphere BRDF Correction...\n",
      "INFO:TATSSI.qa.EOS.quality:Decoding QA layer Mixed Clouds...\n",
      "INFO:TATSSI.qa.EOS.quality:Decoding QA layer Land/Water Mask...\n",
      "INFO:TATSSI.qa.EOS.quality:Decoding QA layer Possible snow/ice...\n",
      "INFO:TATSSI.qa.EOS.quality:Decoding QA layer Possible shadow...\n",
      "INFO:TATSSI.qa.EOS.quality:Decoding finished.\n",
      "INFO:TATSSI.qa.EOS.quality:Decoding MOD13A2.006...\n",
      "INFO:TATSSI.qa.EOS.quality:File /home/glopez/Projects/TATSSI/data/test_gee/1_km_16_days_VI_Quality/MOD13A2.2011_07_28.006.1_km_16_days_VI_Quality.tif\n",
      "INFO:TATSSI.qa.EOS.quality:Decoding QA layer MODLAND...\n",
      "INFO:TATSSI.qa.EOS.quality:Decoding QA layer VI Usefulness...\n",
      "INFO:TATSSI.qa.EOS.quality:Decoding QA layer Aerosol Quantity...\n",
      "INFO:TATSSI.qa.EOS.quality:Decoding QA layer Adjacent cloud detected...\n",
      "INFO:TATSSI.qa.EOS.quality:Decoding QA layer Atmosphere BRDF Correction...\n",
      "INFO:TATSSI.qa.EOS.quality:Decoding QA layer Mixed Clouds...\n",
      "INFO:TATSSI.qa.EOS.quality:Decoding QA layer Land/Water Mask...\n",
      "INFO:TATSSI.qa.EOS.quality:Decoding QA layer Possible snow/ice...\n",
      "INFO:TATSSI.qa.EOS.quality:Decoding QA layer Possible shadow...\n",
      "INFO:TATSSI.qa.EOS.quality:Decoding finished.\n",
      "INFO:TATSSI.qa.EOS.quality:Decoding MOD13A2.006...\n",
      "INFO:TATSSI.qa.EOS.quality:File /home/glopez/Projects/TATSSI/data/test_gee/1_km_16_days_VI_Quality/MOD13A2.2011_08_13.006.1_km_16_days_VI_Quality.tif\n",
      "INFO:TATSSI.qa.EOS.quality:Decoding QA layer MODLAND...\n",
      "INFO:TATSSI.qa.EOS.quality:Decoding QA layer VI Usefulness...\n",
      "INFO:TATSSI.qa.EOS.quality:Decoding QA layer Aerosol Quantity...\n",
      "INFO:TATSSI.qa.EOS.quality:Decoding QA layer Adjacent cloud detected...\n",
      "INFO:TATSSI.qa.EOS.quality:Decoding QA layer Atmosphere BRDF Correction...\n",
      "INFO:TATSSI.qa.EOS.quality:Decoding QA layer Mixed Clouds...\n",
      "INFO:TATSSI.qa.EOS.quality:Decoding QA layer Land/Water Mask...\n",
      "INFO:TATSSI.qa.EOS.quality:Decoding QA layer Possible snow/ice...\n",
      "INFO:TATSSI.qa.EOS.quality:Decoding QA layer Possible shadow...\n",
      "INFO:TATSSI.qa.EOS.quality:Decoding finished.\n",
      "INFO:TATSSI.qa.EOS.quality:Decoding MOD13A2.006...\n",
      "INFO:TATSSI.qa.EOS.quality:File /home/glopez/Projects/TATSSI/data/test_gee/1_km_16_days_VI_Quality/MOD13A2.2011_08_29.006.1_km_16_days_VI_Quality.tif\n",
      "INFO:TATSSI.qa.EOS.quality:Decoding QA layer MODLAND...\n",
      "INFO:TATSSI.qa.EOS.quality:Decoding QA layer VI Usefulness...\n",
      "INFO:TATSSI.qa.EOS.quality:Decoding QA layer Aerosol Quantity...\n",
      "INFO:TATSSI.qa.EOS.quality:Decoding QA layer Adjacent cloud detected...\n",
      "INFO:TATSSI.qa.EOS.quality:Decoding QA layer Atmosphere BRDF Correction...\n",
      "INFO:TATSSI.qa.EOS.quality:Decoding QA layer Mixed Clouds...\n",
      "INFO:TATSSI.qa.EOS.quality:Decoding QA layer Land/Water Mask...\n",
      "INFO:TATSSI.qa.EOS.quality:Decoding QA layer Possible snow/ice...\n",
      "INFO:TATSSI.qa.EOS.quality:Decoding QA layer Possible shadow...\n",
      "INFO:TATSSI.qa.EOS.quality:Decoding finished.\n",
      "INFO:TATSSI.qa.EOS.quality:Decoding MOD13A2.006...\n",
      "INFO:TATSSI.qa.EOS.quality:File /home/glopez/Projects/TATSSI/data/test_gee/1_km_16_days_VI_Quality/MOD13A2.2011_09_14.006.1_km_16_days_VI_Quality.tif\n",
      "INFO:TATSSI.qa.EOS.quality:Decoding QA layer MODLAND...\n",
      "INFO:TATSSI.qa.EOS.quality:Decoding QA layer VI Usefulness...\n",
      "INFO:TATSSI.qa.EOS.quality:Decoding QA layer Aerosol Quantity...\n",
      "INFO:TATSSI.qa.EOS.quality:Decoding QA layer Adjacent cloud detected...\n",
      "INFO:TATSSI.qa.EOS.quality:Decoding QA layer Atmosphere BRDF Correction...\n",
      "INFO:TATSSI.qa.EOS.quality:Decoding QA layer Mixed Clouds...\n",
      "INFO:TATSSI.qa.EOS.quality:Decoding QA layer Land/Water Mask...\n",
      "INFO:TATSSI.qa.EOS.quality:Decoding QA layer Possible snow/ice...\n",
      "INFO:TATSSI.qa.EOS.quality:Decoding QA layer Possible shadow...\n",
      "INFO:TATSSI.qa.EOS.quality:Decoding finished.\n",
      "INFO:TATSSI.qa.EOS.quality:Decoding MOD13A2.006...\n",
      "INFO:TATSSI.qa.EOS.quality:File /home/glopez/Projects/TATSSI/data/test_gee/1_km_16_days_VI_Quality/MOD13A2.2011_09_30.006.1_km_16_days_VI_Quality.tif\n",
      "INFO:TATSSI.qa.EOS.quality:Decoding QA layer MODLAND...\n",
      "INFO:TATSSI.qa.EOS.quality:Decoding QA layer VI Usefulness...\n",
      "INFO:TATSSI.qa.EOS.quality:Decoding QA layer Aerosol Quantity...\n",
      "INFO:TATSSI.qa.EOS.quality:Decoding QA layer Adjacent cloud detected...\n",
      "INFO:TATSSI.qa.EOS.quality:Decoding QA layer Atmosphere BRDF Correction...\n",
      "INFO:TATSSI.qa.EOS.quality:Decoding QA layer Mixed Clouds...\n",
      "INFO:TATSSI.qa.EOS.quality:Decoding QA layer Land/Water Mask...\n",
      "INFO:TATSSI.qa.EOS.quality:Decoding QA layer Possible snow/ice...\n",
      "INFO:TATSSI.qa.EOS.quality:Decoding QA layer Possible shadow...\n",
      "INFO:TATSSI.qa.EOS.quality:Decoding finished.\n",
      "INFO:TATSSI.qa.EOS.quality:Decoding MOD13A2.006...\n",
      "INFO:TATSSI.qa.EOS.quality:File /home/glopez/Projects/TATSSI/data/test_gee/1_km_16_days_VI_Quality/MOD13A2.2011_10_16.006.1_km_16_days_VI_Quality.tif\n",
      "INFO:TATSSI.qa.EOS.quality:Decoding QA layer MODLAND...\n",
      "INFO:TATSSI.qa.EOS.quality:Decoding QA layer VI Usefulness...\n",
      "INFO:TATSSI.qa.EOS.quality:Decoding QA layer Aerosol Quantity...\n",
      "INFO:TATSSI.qa.EOS.quality:Decoding QA layer Adjacent cloud detected...\n",
      "INFO:TATSSI.qa.EOS.quality:Decoding QA layer Atmosphere BRDF Correction...\n",
      "INFO:TATSSI.qa.EOS.quality:Decoding QA layer Mixed Clouds...\n",
      "INFO:TATSSI.qa.EOS.quality:Decoding QA layer Land/Water Mask...\n",
      "INFO:TATSSI.qa.EOS.quality:Decoding QA layer Possible snow/ice...\n",
      "INFO:TATSSI.qa.EOS.quality:Decoding QA layer Possible shadow...\n",
      "INFO:TATSSI.qa.EOS.quality:Decoding finished.\n",
      "INFO:TATSSI.qa.EOS.quality:Decoding MOD13A2.006...\n",
      "INFO:TATSSI.qa.EOS.quality:File /home/glopez/Projects/TATSSI/data/test_gee/1_km_16_days_VI_Quality/MOD13A2.2011_11_01.006.1_km_16_days_VI_Quality.tif\n"
     ]
    },
    {
     "name": "stderr",
     "output_type": "stream",
     "text": [
      "INFO:TATSSI.qa.EOS.quality:Decoding QA layer MODLAND...\n",
      "INFO:TATSSI.qa.EOS.quality:Decoding QA layer VI Usefulness...\n",
      "INFO:TATSSI.qa.EOS.quality:Decoding QA layer Aerosol Quantity...\n",
      "INFO:TATSSI.qa.EOS.quality:Decoding QA layer Adjacent cloud detected...\n",
      "INFO:TATSSI.qa.EOS.quality:Decoding QA layer Atmosphere BRDF Correction...\n",
      "INFO:TATSSI.qa.EOS.quality:Decoding QA layer Mixed Clouds...\n",
      "INFO:TATSSI.qa.EOS.quality:Decoding QA layer Land/Water Mask...\n",
      "INFO:TATSSI.qa.EOS.quality:Decoding QA layer Possible snow/ice...\n",
      "INFO:TATSSI.qa.EOS.quality:Decoding QA layer Possible shadow...\n",
      "INFO:TATSSI.qa.EOS.quality:Decoding finished.\n",
      "INFO:TATSSI.qa.EOS.quality:Decoding MOD13A2.006...\n",
      "INFO:TATSSI.qa.EOS.quality:File /home/glopez/Projects/TATSSI/data/test_gee/1_km_16_days_VI_Quality/MOD13A2.2011_11_17.006.1_km_16_days_VI_Quality.tif\n",
      "INFO:TATSSI.qa.EOS.quality:Decoding QA layer MODLAND...\n",
      "INFO:TATSSI.qa.EOS.quality:Decoding QA layer VI Usefulness...\n",
      "INFO:TATSSI.qa.EOS.quality:Decoding QA layer Aerosol Quantity...\n",
      "INFO:TATSSI.qa.EOS.quality:Decoding QA layer Adjacent cloud detected...\n",
      "INFO:TATSSI.qa.EOS.quality:Decoding QA layer Atmosphere BRDF Correction...\n",
      "INFO:TATSSI.qa.EOS.quality:Decoding QA layer Mixed Clouds...\n",
      "INFO:TATSSI.qa.EOS.quality:Decoding QA layer Land/Water Mask...\n",
      "INFO:TATSSI.qa.EOS.quality:Decoding QA layer Possible snow/ice...\n",
      "INFO:TATSSI.qa.EOS.quality:Decoding QA layer Possible shadow...\n",
      "INFO:TATSSI.qa.EOS.quality:Decoding finished.\n",
      "INFO:TATSSI.qa.EOS.quality:Decoding MOD13A2.006...\n",
      "INFO:TATSSI.qa.EOS.quality:File /home/glopez/Projects/TATSSI/data/test_gee/1_km_16_days_VI_Quality/MOD13A2.2011_12_03.006.1_km_16_days_VI_Quality.tif\n",
      "INFO:TATSSI.qa.EOS.quality:Decoding QA layer MODLAND...\n",
      "INFO:TATSSI.qa.EOS.quality:Decoding QA layer VI Usefulness...\n",
      "INFO:TATSSI.qa.EOS.quality:Decoding QA layer Aerosol Quantity...\n",
      "INFO:TATSSI.qa.EOS.quality:Decoding QA layer Adjacent cloud detected...\n",
      "INFO:TATSSI.qa.EOS.quality:Decoding QA layer Atmosphere BRDF Correction...\n",
      "INFO:TATSSI.qa.EOS.quality:Decoding QA layer Mixed Clouds...\n",
      "INFO:TATSSI.qa.EOS.quality:Decoding QA layer Land/Water Mask...\n",
      "INFO:TATSSI.qa.EOS.quality:Decoding QA layer Possible snow/ice...\n",
      "INFO:TATSSI.qa.EOS.quality:Decoding QA layer Possible shadow...\n",
      "INFO:TATSSI.qa.EOS.quality:Decoding finished.\n",
      "INFO:TATSSI.qa.EOS.quality:Decoding MOD13A2.006...\n",
      "INFO:TATSSI.qa.EOS.quality:File /home/glopez/Projects/TATSSI/data/test_gee/1_km_16_days_VI_Quality/MOD13A2.2011_12_19.006.1_km_16_days_VI_Quality.tif\n",
      "INFO:TATSSI.qa.EOS.quality:Decoding QA layer MODLAND...\n",
      "INFO:TATSSI.qa.EOS.quality:Decoding QA layer VI Usefulness...\n",
      "INFO:TATSSI.qa.EOS.quality:Decoding QA layer Aerosol Quantity...\n",
      "INFO:TATSSI.qa.EOS.quality:Decoding QA layer Adjacent cloud detected...\n",
      "INFO:TATSSI.qa.EOS.quality:Decoding QA layer Atmosphere BRDF Correction...\n",
      "INFO:TATSSI.qa.EOS.quality:Decoding QA layer Mixed Clouds...\n",
      "INFO:TATSSI.qa.EOS.quality:Decoding QA layer Land/Water Mask...\n",
      "INFO:TATSSI.qa.EOS.quality:Decoding QA layer Possible snow/ice...\n",
      "INFO:TATSSI.qa.EOS.quality:Decoding QA layer Possible shadow...\n",
      "INFO:TATSSI.qa.EOS.quality:Decoding finished.\n",
      "INFO:TATSSI.qa.EOS.quality:Decoding MOD13A2.006...\n",
      "INFO:TATSSI.qa.EOS.quality:File /home/glopez/Projects/TATSSI/data/test_gee/1_km_16_days_VI_Quality/MOD13A2.2012_01_01.006.1_km_16_days_VI_Quality.tif\n",
      "INFO:TATSSI.qa.EOS.quality:Decoding QA layer MODLAND...\n",
      "INFO:TATSSI.qa.EOS.quality:Decoding QA layer VI Usefulness...\n",
      "INFO:TATSSI.qa.EOS.quality:Decoding QA layer Aerosol Quantity...\n",
      "INFO:TATSSI.qa.EOS.quality:Decoding QA layer Adjacent cloud detected...\n",
      "INFO:TATSSI.qa.EOS.quality:Decoding QA layer Atmosphere BRDF Correction...\n",
      "INFO:TATSSI.qa.EOS.quality:Decoding QA layer Mixed Clouds...\n",
      "INFO:TATSSI.qa.EOS.quality:Decoding QA layer Land/Water Mask...\n",
      "INFO:TATSSI.qa.EOS.quality:Decoding QA layer Possible snow/ice...\n",
      "INFO:TATSSI.qa.EOS.quality:Decoding QA layer Possible shadow...\n",
      "INFO:TATSSI.qa.EOS.quality:Decoding finished.\n",
      "INFO:TATSSI.qa.EOS.quality:Decoding MOD13A2.006...\n",
      "INFO:TATSSI.qa.EOS.quality:File /home/glopez/Projects/TATSSI/data/test_gee/1_km_16_days_VI_Quality/MOD13A2.2012_01_17.006.1_km_16_days_VI_Quality.tif\n",
      "INFO:TATSSI.qa.EOS.quality:Decoding QA layer MODLAND...\n",
      "INFO:TATSSI.qa.EOS.quality:Decoding QA layer VI Usefulness...\n",
      "INFO:TATSSI.qa.EOS.quality:Decoding QA layer Aerosol Quantity...\n",
      "INFO:TATSSI.qa.EOS.quality:Decoding QA layer Adjacent cloud detected...\n",
      "INFO:TATSSI.qa.EOS.quality:Decoding QA layer Atmosphere BRDF Correction...\n",
      "INFO:TATSSI.qa.EOS.quality:Decoding QA layer Mixed Clouds...\n",
      "INFO:TATSSI.qa.EOS.quality:Decoding QA layer Land/Water Mask...\n",
      "INFO:TATSSI.qa.EOS.quality:Decoding QA layer Possible snow/ice...\n",
      "INFO:TATSSI.qa.EOS.quality:Decoding QA layer Possible shadow...\n",
      "INFO:TATSSI.qa.EOS.quality:Decoding finished.\n",
      "INFO:TATSSI.qa.EOS.quality:Decoding MOD13A2.006...\n",
      "INFO:TATSSI.qa.EOS.quality:File /home/glopez/Projects/TATSSI/data/test_gee/1_km_16_days_VI_Quality/MOD13A2.2012_02_02.006.1_km_16_days_VI_Quality.tif\n",
      "INFO:TATSSI.qa.EOS.quality:Decoding QA layer MODLAND...\n",
      "INFO:TATSSI.qa.EOS.quality:Decoding QA layer VI Usefulness...\n",
      "INFO:TATSSI.qa.EOS.quality:Decoding QA layer Aerosol Quantity...\n",
      "INFO:TATSSI.qa.EOS.quality:Decoding QA layer Adjacent cloud detected...\n",
      "INFO:TATSSI.qa.EOS.quality:Decoding QA layer Atmosphere BRDF Correction...\n",
      "INFO:TATSSI.qa.EOS.quality:Decoding QA layer Mixed Clouds...\n",
      "INFO:TATSSI.qa.EOS.quality:Decoding QA layer Land/Water Mask...\n",
      "INFO:TATSSI.qa.EOS.quality:Decoding QA layer Possible snow/ice...\n",
      "INFO:TATSSI.qa.EOS.quality:Decoding QA layer Possible shadow...\n",
      "INFO:TATSSI.qa.EOS.quality:Decoding finished.\n",
      "INFO:TATSSI.qa.EOS.quality:Decoding MOD13A2.006...\n",
      "INFO:TATSSI.qa.EOS.quality:File /home/glopez/Projects/TATSSI/data/test_gee/1_km_16_days_VI_Quality/MOD13A2.2012_02_18.006.1_km_16_days_VI_Quality.tif\n",
      "INFO:TATSSI.qa.EOS.quality:Decoding QA layer MODLAND...\n",
      "INFO:TATSSI.qa.EOS.quality:Decoding QA layer VI Usefulness...\n",
      "INFO:TATSSI.qa.EOS.quality:Decoding QA layer Aerosol Quantity...\n",
      "INFO:TATSSI.qa.EOS.quality:Decoding QA layer Adjacent cloud detected...\n",
      "INFO:TATSSI.qa.EOS.quality:Decoding QA layer Atmosphere BRDF Correction...\n",
      "INFO:TATSSI.qa.EOS.quality:Decoding QA layer Mixed Clouds...\n",
      "INFO:TATSSI.qa.EOS.quality:Decoding QA layer Land/Water Mask...\n",
      "INFO:TATSSI.qa.EOS.quality:Decoding QA layer Possible snow/ice...\n",
      "INFO:TATSSI.qa.EOS.quality:Decoding QA layer Possible shadow...\n",
      "INFO:TATSSI.qa.EOS.quality:Decoding finished.\n",
      "INFO:TATSSI.qa.EOS.quality:Decoding MOD13A2.006...\n",
      "INFO:TATSSI.qa.EOS.quality:File /home/glopez/Projects/TATSSI/data/test_gee/1_km_16_days_VI_Quality/MOD13A2.2012_03_05.006.1_km_16_days_VI_Quality.tif\n",
      "INFO:TATSSI.qa.EOS.quality:Decoding QA layer MODLAND...\n",
      "INFO:TATSSI.qa.EOS.quality:Decoding QA layer VI Usefulness...\n",
      "INFO:TATSSI.qa.EOS.quality:Decoding QA layer Aerosol Quantity...\n",
      "INFO:TATSSI.qa.EOS.quality:Decoding QA layer Adjacent cloud detected...\n",
      "INFO:TATSSI.qa.EOS.quality:Decoding QA layer Atmosphere BRDF Correction...\n",
      "INFO:TATSSI.qa.EOS.quality:Decoding QA layer Mixed Clouds...\n",
      "INFO:TATSSI.qa.EOS.quality:Decoding QA layer Land/Water Mask...\n",
      "INFO:TATSSI.qa.EOS.quality:Decoding QA layer Possible snow/ice...\n",
      "INFO:TATSSI.qa.EOS.quality:Decoding QA layer Possible shadow...\n",
      "INFO:TATSSI.qa.EOS.quality:Decoding finished.\n",
      "INFO:TATSSI.qa.EOS.quality:Decoding MOD13A2.006...\n",
      "INFO:TATSSI.qa.EOS.quality:File /home/glopez/Projects/TATSSI/data/test_gee/1_km_16_days_VI_Quality/MOD13A2.2012_03_21.006.1_km_16_days_VI_Quality.tif\n",
      "INFO:TATSSI.qa.EOS.quality:Decoding QA layer MODLAND...\n",
      "INFO:TATSSI.qa.EOS.quality:Decoding QA layer VI Usefulness...\n",
      "INFO:TATSSI.qa.EOS.quality:Decoding QA layer Aerosol Quantity...\n",
      "INFO:TATSSI.qa.EOS.quality:Decoding QA layer Adjacent cloud detected...\n",
      "INFO:TATSSI.qa.EOS.quality:Decoding QA layer Atmosphere BRDF Correction...\n",
      "INFO:TATSSI.qa.EOS.quality:Decoding QA layer Mixed Clouds...\n",
      "INFO:TATSSI.qa.EOS.quality:Decoding QA layer Land/Water Mask...\n",
      "INFO:TATSSI.qa.EOS.quality:Decoding QA layer Possible snow/ice...\n",
      "INFO:TATSSI.qa.EOS.quality:Decoding QA layer Possible shadow...\n",
      "INFO:TATSSI.qa.EOS.quality:Decoding finished.\n",
      "INFO:TATSSI.qa.EOS.quality:Decoding MOD13A2.006...\n",
      "INFO:TATSSI.qa.EOS.quality:File /home/glopez/Projects/TATSSI/data/test_gee/1_km_16_days_VI_Quality/MOD13A2.2012_04_06.006.1_km_16_days_VI_Quality.tif\n"
     ]
    },
    {
     "name": "stderr",
     "output_type": "stream",
     "text": [
      "INFO:TATSSI.qa.EOS.quality:Decoding QA layer MODLAND...\n",
      "INFO:TATSSI.qa.EOS.quality:Decoding QA layer VI Usefulness...\n",
      "INFO:TATSSI.qa.EOS.quality:Decoding QA layer Aerosol Quantity...\n",
      "INFO:TATSSI.qa.EOS.quality:Decoding QA layer Adjacent cloud detected...\n",
      "INFO:TATSSI.qa.EOS.quality:Decoding QA layer Atmosphere BRDF Correction...\n",
      "INFO:TATSSI.qa.EOS.quality:Decoding QA layer Mixed Clouds...\n",
      "INFO:TATSSI.qa.EOS.quality:Decoding QA layer Land/Water Mask...\n",
      "INFO:TATSSI.qa.EOS.quality:Decoding QA layer Possible snow/ice...\n",
      "INFO:TATSSI.qa.EOS.quality:Decoding QA layer Possible shadow...\n",
      "INFO:TATSSI.qa.EOS.quality:Decoding finished.\n",
      "INFO:TATSSI.qa.EOS.quality:Decoding MOD13A2.006...\n",
      "INFO:TATSSI.qa.EOS.quality:File /home/glopez/Projects/TATSSI/data/test_gee/1_km_16_days_VI_Quality/MOD13A2.2012_04_22.006.1_km_16_days_VI_Quality.tif\n",
      "INFO:TATSSI.qa.EOS.quality:Decoding QA layer MODLAND...\n",
      "INFO:TATSSI.qa.EOS.quality:Decoding QA layer VI Usefulness...\n",
      "INFO:TATSSI.qa.EOS.quality:Decoding QA layer Aerosol Quantity...\n",
      "INFO:TATSSI.qa.EOS.quality:Decoding QA layer Adjacent cloud detected...\n",
      "INFO:TATSSI.qa.EOS.quality:Decoding QA layer Atmosphere BRDF Correction...\n",
      "INFO:TATSSI.qa.EOS.quality:Decoding QA layer Mixed Clouds...\n",
      "INFO:TATSSI.qa.EOS.quality:Decoding QA layer Land/Water Mask...\n",
      "INFO:TATSSI.qa.EOS.quality:Decoding QA layer Possible snow/ice...\n",
      "INFO:TATSSI.qa.EOS.quality:Decoding QA layer Possible shadow...\n",
      "INFO:TATSSI.qa.EOS.quality:Decoding finished.\n",
      "INFO:TATSSI.qa.EOS.quality:Decoding MOD13A2.006...\n",
      "INFO:TATSSI.qa.EOS.quality:File /home/glopez/Projects/TATSSI/data/test_gee/1_km_16_days_VI_Quality/MOD13A2.2012_05_08.006.1_km_16_days_VI_Quality.tif\n",
      "INFO:TATSSI.qa.EOS.quality:Decoding QA layer MODLAND...\n",
      "INFO:TATSSI.qa.EOS.quality:Decoding QA layer VI Usefulness...\n",
      "INFO:TATSSI.qa.EOS.quality:Decoding QA layer Aerosol Quantity...\n",
      "INFO:TATSSI.qa.EOS.quality:Decoding QA layer Adjacent cloud detected...\n",
      "INFO:TATSSI.qa.EOS.quality:Decoding QA layer Atmosphere BRDF Correction...\n",
      "INFO:TATSSI.qa.EOS.quality:Decoding QA layer Mixed Clouds...\n",
      "INFO:TATSSI.qa.EOS.quality:Decoding QA layer Land/Water Mask...\n",
      "INFO:TATSSI.qa.EOS.quality:Decoding QA layer Possible snow/ice...\n",
      "INFO:TATSSI.qa.EOS.quality:Decoding QA layer Possible shadow...\n",
      "INFO:TATSSI.qa.EOS.quality:Decoding finished.\n",
      "INFO:TATSSI.qa.EOS.quality:Decoding MOD13A2.006...\n",
      "INFO:TATSSI.qa.EOS.quality:File /home/glopez/Projects/TATSSI/data/test_gee/1_km_16_days_VI_Quality/MOD13A2.2012_05_24.006.1_km_16_days_VI_Quality.tif\n",
      "INFO:TATSSI.qa.EOS.quality:Decoding QA layer MODLAND...\n",
      "INFO:TATSSI.qa.EOS.quality:Decoding QA layer VI Usefulness...\n",
      "INFO:TATSSI.qa.EOS.quality:Decoding QA layer Aerosol Quantity...\n",
      "INFO:TATSSI.qa.EOS.quality:Decoding QA layer Adjacent cloud detected...\n",
      "INFO:TATSSI.qa.EOS.quality:Decoding QA layer Atmosphere BRDF Correction...\n",
      "INFO:TATSSI.qa.EOS.quality:Decoding QA layer Mixed Clouds...\n",
      "INFO:TATSSI.qa.EOS.quality:Decoding QA layer Land/Water Mask...\n",
      "INFO:TATSSI.qa.EOS.quality:Decoding QA layer Possible snow/ice...\n",
      "INFO:TATSSI.qa.EOS.quality:Decoding QA layer Possible shadow...\n",
      "INFO:TATSSI.qa.EOS.quality:Decoding finished.\n",
      "INFO:TATSSI.qa.EOS.quality:Decoding MOD13A2.006...\n",
      "INFO:TATSSI.qa.EOS.quality:File /home/glopez/Projects/TATSSI/data/test_gee/1_km_16_days_VI_Quality/MOD13A2.2012_06_09.006.1_km_16_days_VI_Quality.tif\n",
      "INFO:TATSSI.qa.EOS.quality:Decoding QA layer MODLAND...\n",
      "INFO:TATSSI.qa.EOS.quality:Decoding QA layer VI Usefulness...\n",
      "INFO:TATSSI.qa.EOS.quality:Decoding QA layer Aerosol Quantity...\n",
      "INFO:TATSSI.qa.EOS.quality:Decoding QA layer Adjacent cloud detected...\n",
      "INFO:TATSSI.qa.EOS.quality:Decoding QA layer Atmosphere BRDF Correction...\n",
      "INFO:TATSSI.qa.EOS.quality:Decoding QA layer Mixed Clouds...\n",
      "INFO:TATSSI.qa.EOS.quality:Decoding QA layer Land/Water Mask...\n",
      "INFO:TATSSI.qa.EOS.quality:Decoding QA layer Possible snow/ice...\n",
      "INFO:TATSSI.qa.EOS.quality:Decoding QA layer Possible shadow...\n",
      "INFO:TATSSI.qa.EOS.quality:Decoding finished.\n",
      "INFO:TATSSI.qa.EOS.quality:Decoding MOD13A2.006...\n",
      "INFO:TATSSI.qa.EOS.quality:File /home/glopez/Projects/TATSSI/data/test_gee/1_km_16_days_VI_Quality/MOD13A2.2012_06_25.006.1_km_16_days_VI_Quality.tif\n",
      "INFO:TATSSI.qa.EOS.quality:Decoding QA layer MODLAND...\n",
      "INFO:TATSSI.qa.EOS.quality:Decoding QA layer VI Usefulness...\n",
      "INFO:TATSSI.qa.EOS.quality:Decoding QA layer Aerosol Quantity...\n",
      "INFO:TATSSI.qa.EOS.quality:Decoding QA layer Adjacent cloud detected...\n",
      "INFO:TATSSI.qa.EOS.quality:Decoding QA layer Atmosphere BRDF Correction...\n",
      "INFO:TATSSI.qa.EOS.quality:Decoding QA layer Mixed Clouds...\n",
      "INFO:TATSSI.qa.EOS.quality:Decoding QA layer Land/Water Mask...\n",
      "INFO:TATSSI.qa.EOS.quality:Decoding QA layer Possible snow/ice...\n",
      "INFO:TATSSI.qa.EOS.quality:Decoding QA layer Possible shadow...\n",
      "INFO:TATSSI.qa.EOS.quality:Decoding finished.\n",
      "INFO:TATSSI.qa.EOS.quality:Decoding MOD13A2.006...\n",
      "INFO:TATSSI.qa.EOS.quality:File /home/glopez/Projects/TATSSI/data/test_gee/1_km_16_days_VI_Quality/MOD13A2.2012_07_11.006.1_km_16_days_VI_Quality.tif\n",
      "INFO:TATSSI.qa.EOS.quality:Decoding QA layer MODLAND...\n",
      "INFO:TATSSI.qa.EOS.quality:Decoding QA layer VI Usefulness...\n",
      "INFO:TATSSI.qa.EOS.quality:Decoding QA layer Aerosol Quantity...\n",
      "INFO:TATSSI.qa.EOS.quality:Decoding QA layer Adjacent cloud detected...\n",
      "INFO:TATSSI.qa.EOS.quality:Decoding QA layer Atmosphere BRDF Correction...\n",
      "INFO:TATSSI.qa.EOS.quality:Decoding QA layer Mixed Clouds...\n",
      "INFO:TATSSI.qa.EOS.quality:Decoding QA layer Land/Water Mask...\n",
      "INFO:TATSSI.qa.EOS.quality:Decoding QA layer Possible snow/ice...\n",
      "INFO:TATSSI.qa.EOS.quality:Decoding QA layer Possible shadow...\n",
      "INFO:TATSSI.qa.EOS.quality:Decoding finished.\n",
      "INFO:TATSSI.qa.EOS.quality:Decoding MOD13A2.006...\n",
      "INFO:TATSSI.qa.EOS.quality:File /home/glopez/Projects/TATSSI/data/test_gee/1_km_16_days_VI_Quality/MOD13A2.2012_07_27.006.1_km_16_days_VI_Quality.tif\n",
      "INFO:TATSSI.qa.EOS.quality:Decoding QA layer MODLAND...\n",
      "INFO:TATSSI.qa.EOS.quality:Decoding QA layer VI Usefulness...\n",
      "INFO:TATSSI.qa.EOS.quality:Decoding QA layer Aerosol Quantity...\n",
      "INFO:TATSSI.qa.EOS.quality:Decoding QA layer Adjacent cloud detected...\n",
      "INFO:TATSSI.qa.EOS.quality:Decoding QA layer Atmosphere BRDF Correction...\n",
      "INFO:TATSSI.qa.EOS.quality:Decoding QA layer Mixed Clouds...\n",
      "INFO:TATSSI.qa.EOS.quality:Decoding QA layer Land/Water Mask...\n",
      "INFO:TATSSI.qa.EOS.quality:Decoding QA layer Possible snow/ice...\n",
      "INFO:TATSSI.qa.EOS.quality:Decoding QA layer Possible shadow...\n",
      "INFO:TATSSI.qa.EOS.quality:Decoding finished.\n",
      "INFO:TATSSI.qa.EOS.quality:Decoding MOD13A2.006...\n",
      "INFO:TATSSI.qa.EOS.quality:File /home/glopez/Projects/TATSSI/data/test_gee/1_km_16_days_VI_Quality/MOD13A2.2012_08_12.006.1_km_16_days_VI_Quality.tif\n",
      "INFO:TATSSI.qa.EOS.quality:Decoding QA layer MODLAND...\n",
      "INFO:TATSSI.qa.EOS.quality:Decoding QA layer VI Usefulness...\n",
      "INFO:TATSSI.qa.EOS.quality:Decoding QA layer Aerosol Quantity...\n",
      "INFO:TATSSI.qa.EOS.quality:Decoding QA layer Adjacent cloud detected...\n",
      "INFO:TATSSI.qa.EOS.quality:Decoding QA layer Atmosphere BRDF Correction...\n",
      "INFO:TATSSI.qa.EOS.quality:Decoding QA layer Mixed Clouds...\n",
      "INFO:TATSSI.qa.EOS.quality:Decoding QA layer Land/Water Mask...\n",
      "INFO:TATSSI.qa.EOS.quality:Decoding QA layer Possible snow/ice...\n",
      "INFO:TATSSI.qa.EOS.quality:Decoding QA layer Possible shadow...\n",
      "INFO:TATSSI.qa.EOS.quality:Decoding finished.\n",
      "INFO:TATSSI.qa.EOS.quality:Decoding MOD13A2.006...\n",
      "INFO:TATSSI.qa.EOS.quality:File /home/glopez/Projects/TATSSI/data/test_gee/1_km_16_days_VI_Quality/MOD13A2.2012_08_28.006.1_km_16_days_VI_Quality.tif\n",
      "INFO:TATSSI.qa.EOS.quality:Decoding QA layer MODLAND...\n",
      "INFO:TATSSI.qa.EOS.quality:Decoding QA layer VI Usefulness...\n",
      "INFO:TATSSI.qa.EOS.quality:Decoding QA layer Aerosol Quantity...\n",
      "INFO:TATSSI.qa.EOS.quality:Decoding QA layer Adjacent cloud detected...\n",
      "INFO:TATSSI.qa.EOS.quality:Decoding QA layer Atmosphere BRDF Correction...\n",
      "INFO:TATSSI.qa.EOS.quality:Decoding QA layer Mixed Clouds...\n",
      "INFO:TATSSI.qa.EOS.quality:Decoding QA layer Land/Water Mask...\n",
      "INFO:TATSSI.qa.EOS.quality:Decoding QA layer Possible snow/ice...\n",
      "INFO:TATSSI.qa.EOS.quality:Decoding QA layer Possible shadow...\n",
      "INFO:TATSSI.qa.EOS.quality:Decoding finished.\n",
      "INFO:TATSSI.qa.EOS.quality:Decoding MOD13A2.006...\n",
      "INFO:TATSSI.qa.EOS.quality:File /home/glopez/Projects/TATSSI/data/test_gee/1_km_16_days_VI_Quality/MOD13A2.2012_09_13.006.1_km_16_days_VI_Quality.tif\n"
     ]
    },
    {
     "name": "stderr",
     "output_type": "stream",
     "text": [
      "INFO:TATSSI.qa.EOS.quality:Decoding QA layer MODLAND...\n",
      "INFO:TATSSI.qa.EOS.quality:Decoding QA layer VI Usefulness...\n",
      "INFO:TATSSI.qa.EOS.quality:Decoding QA layer Aerosol Quantity...\n",
      "INFO:TATSSI.qa.EOS.quality:Decoding QA layer Adjacent cloud detected...\n",
      "INFO:TATSSI.qa.EOS.quality:Decoding QA layer Atmosphere BRDF Correction...\n",
      "INFO:TATSSI.qa.EOS.quality:Decoding QA layer Mixed Clouds...\n",
      "INFO:TATSSI.qa.EOS.quality:Decoding QA layer Land/Water Mask...\n",
      "INFO:TATSSI.qa.EOS.quality:Decoding QA layer Possible snow/ice...\n",
      "INFO:TATSSI.qa.EOS.quality:Decoding QA layer Possible shadow...\n",
      "INFO:TATSSI.qa.EOS.quality:Decoding finished.\n",
      "INFO:TATSSI.qa.EOS.quality:Decoding MOD13A2.006...\n",
      "INFO:TATSSI.qa.EOS.quality:File /home/glopez/Projects/TATSSI/data/test_gee/1_km_16_days_VI_Quality/MOD13A2.2012_09_29.006.1_km_16_days_VI_Quality.tif\n",
      "INFO:TATSSI.qa.EOS.quality:Decoding QA layer MODLAND...\n",
      "INFO:TATSSI.qa.EOS.quality:Decoding QA layer VI Usefulness...\n",
      "INFO:TATSSI.qa.EOS.quality:Decoding QA layer Aerosol Quantity...\n",
      "INFO:TATSSI.qa.EOS.quality:Decoding QA layer Adjacent cloud detected...\n",
      "INFO:TATSSI.qa.EOS.quality:Decoding QA layer Atmosphere BRDF Correction...\n",
      "INFO:TATSSI.qa.EOS.quality:Decoding QA layer Mixed Clouds...\n",
      "INFO:TATSSI.qa.EOS.quality:Decoding QA layer Land/Water Mask...\n",
      "INFO:TATSSI.qa.EOS.quality:Decoding QA layer Possible snow/ice...\n",
      "INFO:TATSSI.qa.EOS.quality:Decoding QA layer Possible shadow...\n",
      "INFO:TATSSI.qa.EOS.quality:Decoding finished.\n",
      "INFO:TATSSI.qa.EOS.quality:Decoding MOD13A2.006...\n",
      "INFO:TATSSI.qa.EOS.quality:File /home/glopez/Projects/TATSSI/data/test_gee/1_km_16_days_VI_Quality/MOD13A2.2012_10_15.006.1_km_16_days_VI_Quality.tif\n",
      "INFO:TATSSI.qa.EOS.quality:Decoding QA layer MODLAND...\n",
      "INFO:TATSSI.qa.EOS.quality:Decoding QA layer VI Usefulness...\n",
      "INFO:TATSSI.qa.EOS.quality:Decoding QA layer Aerosol Quantity...\n",
      "INFO:TATSSI.qa.EOS.quality:Decoding QA layer Adjacent cloud detected...\n",
      "INFO:TATSSI.qa.EOS.quality:Decoding QA layer Atmosphere BRDF Correction...\n",
      "INFO:TATSSI.qa.EOS.quality:Decoding QA layer Mixed Clouds...\n",
      "INFO:TATSSI.qa.EOS.quality:Decoding QA layer Land/Water Mask...\n",
      "INFO:TATSSI.qa.EOS.quality:Decoding QA layer Possible snow/ice...\n",
      "INFO:TATSSI.qa.EOS.quality:Decoding QA layer Possible shadow...\n",
      "INFO:TATSSI.qa.EOS.quality:Decoding finished.\n",
      "INFO:TATSSI.qa.EOS.quality:Decoding MOD13A2.006...\n",
      "INFO:TATSSI.qa.EOS.quality:File /home/glopez/Projects/TATSSI/data/test_gee/1_km_16_days_VI_Quality/MOD13A2.2012_10_31.006.1_km_16_days_VI_Quality.tif\n",
      "INFO:TATSSI.qa.EOS.quality:Decoding QA layer MODLAND...\n",
      "INFO:TATSSI.qa.EOS.quality:Decoding QA layer VI Usefulness...\n",
      "INFO:TATSSI.qa.EOS.quality:Decoding QA layer Aerosol Quantity...\n",
      "INFO:TATSSI.qa.EOS.quality:Decoding QA layer Adjacent cloud detected...\n",
      "INFO:TATSSI.qa.EOS.quality:Decoding QA layer Atmosphere BRDF Correction...\n",
      "INFO:TATSSI.qa.EOS.quality:Decoding QA layer Mixed Clouds...\n",
      "INFO:TATSSI.qa.EOS.quality:Decoding QA layer Land/Water Mask...\n",
      "INFO:TATSSI.qa.EOS.quality:Decoding QA layer Possible snow/ice...\n",
      "INFO:TATSSI.qa.EOS.quality:Decoding QA layer Possible shadow...\n",
      "INFO:TATSSI.qa.EOS.quality:Decoding finished.\n",
      "INFO:TATSSI.qa.EOS.quality:Decoding MOD13A2.006...\n",
      "INFO:TATSSI.qa.EOS.quality:File /home/glopez/Projects/TATSSI/data/test_gee/1_km_16_days_VI_Quality/MOD13A2.2012_11_16.006.1_km_16_days_VI_Quality.tif\n",
      "INFO:TATSSI.qa.EOS.quality:Decoding QA layer MODLAND...\n",
      "INFO:TATSSI.qa.EOS.quality:Decoding QA layer VI Usefulness...\n",
      "INFO:TATSSI.qa.EOS.quality:Decoding QA layer Aerosol Quantity...\n",
      "INFO:TATSSI.qa.EOS.quality:Decoding QA layer Adjacent cloud detected...\n",
      "INFO:TATSSI.qa.EOS.quality:Decoding QA layer Atmosphere BRDF Correction...\n",
      "INFO:TATSSI.qa.EOS.quality:Decoding QA layer Mixed Clouds...\n",
      "INFO:TATSSI.qa.EOS.quality:Decoding QA layer Land/Water Mask...\n",
      "INFO:TATSSI.qa.EOS.quality:Decoding QA layer Possible snow/ice...\n",
      "INFO:TATSSI.qa.EOS.quality:Decoding QA layer Possible shadow...\n",
      "INFO:TATSSI.qa.EOS.quality:Decoding finished.\n",
      "INFO:TATSSI.qa.EOS.quality:Decoding MOD13A2.006...\n",
      "INFO:TATSSI.qa.EOS.quality:File /home/glopez/Projects/TATSSI/data/test_gee/1_km_16_days_VI_Quality/MOD13A2.2012_12_02.006.1_km_16_days_VI_Quality.tif\n",
      "INFO:TATSSI.qa.EOS.quality:Decoding QA layer MODLAND...\n",
      "INFO:TATSSI.qa.EOS.quality:Decoding QA layer VI Usefulness...\n",
      "INFO:TATSSI.qa.EOS.quality:Decoding QA layer Aerosol Quantity...\n",
      "INFO:TATSSI.qa.EOS.quality:Decoding QA layer Adjacent cloud detected...\n",
      "INFO:TATSSI.qa.EOS.quality:Decoding QA layer Atmosphere BRDF Correction...\n",
      "INFO:TATSSI.qa.EOS.quality:Decoding QA layer Mixed Clouds...\n",
      "INFO:TATSSI.qa.EOS.quality:Decoding QA layer Land/Water Mask...\n",
      "INFO:TATSSI.qa.EOS.quality:Decoding QA layer Possible snow/ice...\n",
      "INFO:TATSSI.qa.EOS.quality:Decoding QA layer Possible shadow...\n",
      "INFO:TATSSI.qa.EOS.quality:Decoding finished.\n",
      "INFO:TATSSI.qa.EOS.quality:Decoding MOD13A2.006...\n",
      "INFO:TATSSI.qa.EOS.quality:File /home/glopez/Projects/TATSSI/data/test_gee/1_km_16_days_VI_Quality/MOD13A2.2012_12_18.006.1_km_16_days_VI_Quality.tif\n",
      "INFO:TATSSI.qa.EOS.quality:Decoding QA layer MODLAND...\n",
      "INFO:TATSSI.qa.EOS.quality:Decoding QA layer VI Usefulness...\n",
      "INFO:TATSSI.qa.EOS.quality:Decoding QA layer Aerosol Quantity...\n",
      "INFO:TATSSI.qa.EOS.quality:Decoding QA layer Adjacent cloud detected...\n",
      "INFO:TATSSI.qa.EOS.quality:Decoding QA layer Atmosphere BRDF Correction...\n",
      "INFO:TATSSI.qa.EOS.quality:Decoding QA layer Mixed Clouds...\n",
      "INFO:TATSSI.qa.EOS.quality:Decoding QA layer Land/Water Mask...\n",
      "INFO:TATSSI.qa.EOS.quality:Decoding QA layer Possible snow/ice...\n",
      "INFO:TATSSI.qa.EOS.quality:Decoding QA layer Possible shadow...\n",
      "INFO:TATSSI.qa.EOS.quality:Decoding finished.\n",
      "INFO:TATSSI.qa.EOS.quality:Decoding MOD13A2.006...\n",
      "INFO:TATSSI.qa.EOS.quality:File /home/glopez/Projects/TATSSI/data/test_gee/1_km_16_days_VI_Quality/MOD13A2.2013_01_01.006.1_km_16_days_VI_Quality.tif\n",
      "INFO:TATSSI.qa.EOS.quality:Decoding QA layer MODLAND...\n",
      "INFO:TATSSI.qa.EOS.quality:Decoding QA layer VI Usefulness...\n",
      "INFO:TATSSI.qa.EOS.quality:Decoding QA layer Aerosol Quantity...\n",
      "INFO:TATSSI.qa.EOS.quality:Decoding QA layer Adjacent cloud detected...\n",
      "INFO:TATSSI.qa.EOS.quality:Decoding QA layer Atmosphere BRDF Correction...\n",
      "INFO:TATSSI.qa.EOS.quality:Decoding QA layer Mixed Clouds...\n",
      "INFO:TATSSI.qa.EOS.quality:Decoding QA layer Land/Water Mask...\n",
      "INFO:TATSSI.qa.EOS.quality:Decoding QA layer Possible snow/ice...\n",
      "INFO:TATSSI.qa.EOS.quality:Decoding QA layer Possible shadow...\n",
      "INFO:TATSSI.qa.EOS.quality:Decoding finished.\n",
      "INFO:TATSSI.qa.EOS.quality:Decoding MOD13A2.006...\n",
      "INFO:TATSSI.qa.EOS.quality:File /home/glopez/Projects/TATSSI/data/test_gee/1_km_16_days_VI_Quality/MOD13A2.2013_01_17.006.1_km_16_days_VI_Quality.tif\n",
      "INFO:TATSSI.qa.EOS.quality:Decoding QA layer MODLAND...\n",
      "INFO:TATSSI.qa.EOS.quality:Decoding QA layer VI Usefulness...\n",
      "INFO:TATSSI.qa.EOS.quality:Decoding QA layer Aerosol Quantity...\n",
      "INFO:TATSSI.qa.EOS.quality:Decoding QA layer Adjacent cloud detected...\n",
      "INFO:TATSSI.qa.EOS.quality:Decoding QA layer Atmosphere BRDF Correction...\n",
      "INFO:TATSSI.qa.EOS.quality:Decoding QA layer Mixed Clouds...\n",
      "INFO:TATSSI.qa.EOS.quality:Decoding QA layer Land/Water Mask...\n",
      "INFO:TATSSI.qa.EOS.quality:Decoding QA layer Possible snow/ice...\n",
      "INFO:TATSSI.qa.EOS.quality:Decoding QA layer Possible shadow...\n",
      "INFO:TATSSI.qa.EOS.quality:Decoding finished.\n",
      "INFO:TATSSI.qa.EOS.quality:Decoding MOD13A2.006...\n",
      "INFO:TATSSI.qa.EOS.quality:File /home/glopez/Projects/TATSSI/data/test_gee/1_km_16_days_VI_Quality/MOD13A2.2013_02_02.006.1_km_16_days_VI_Quality.tif\n",
      "INFO:TATSSI.qa.EOS.quality:Decoding QA layer MODLAND...\n",
      "INFO:TATSSI.qa.EOS.quality:Decoding QA layer VI Usefulness...\n",
      "INFO:TATSSI.qa.EOS.quality:Decoding QA layer Aerosol Quantity...\n",
      "INFO:TATSSI.qa.EOS.quality:Decoding QA layer Adjacent cloud detected...\n",
      "INFO:TATSSI.qa.EOS.quality:Decoding QA layer Atmosphere BRDF Correction...\n",
      "INFO:TATSSI.qa.EOS.quality:Decoding QA layer Mixed Clouds...\n",
      "INFO:TATSSI.qa.EOS.quality:Decoding QA layer Land/Water Mask...\n",
      "INFO:TATSSI.qa.EOS.quality:Decoding QA layer Possible snow/ice...\n",
      "INFO:TATSSI.qa.EOS.quality:Decoding QA layer Possible shadow...\n",
      "INFO:TATSSI.qa.EOS.quality:Decoding finished.\n",
      "INFO:TATSSI.qa.EOS.quality:Decoding MOD13A2.006...\n",
      "INFO:TATSSI.qa.EOS.quality:File /home/glopez/Projects/TATSSI/data/test_gee/1_km_16_days_VI_Quality/MOD13A2.2013_02_18.006.1_km_16_days_VI_Quality.tif\n"
     ]
    },
    {
     "name": "stderr",
     "output_type": "stream",
     "text": [
      "INFO:TATSSI.qa.EOS.quality:Decoding QA layer MODLAND...\n",
      "INFO:TATSSI.qa.EOS.quality:Decoding QA layer VI Usefulness...\n",
      "INFO:TATSSI.qa.EOS.quality:Decoding QA layer Aerosol Quantity...\n",
      "INFO:TATSSI.qa.EOS.quality:Decoding QA layer Adjacent cloud detected...\n",
      "INFO:TATSSI.qa.EOS.quality:Decoding QA layer Atmosphere BRDF Correction...\n",
      "INFO:TATSSI.qa.EOS.quality:Decoding QA layer Mixed Clouds...\n",
      "INFO:TATSSI.qa.EOS.quality:Decoding QA layer Land/Water Mask...\n",
      "INFO:TATSSI.qa.EOS.quality:Decoding QA layer Possible snow/ice...\n",
      "INFO:TATSSI.qa.EOS.quality:Decoding QA layer Possible shadow...\n",
      "INFO:TATSSI.qa.EOS.quality:Decoding finished.\n",
      "INFO:TATSSI.qa.EOS.quality:Decoding MOD13A2.006...\n",
      "INFO:TATSSI.qa.EOS.quality:File /home/glopez/Projects/TATSSI/data/test_gee/1_km_16_days_VI_Quality/MOD13A2.2013_03_06.006.1_km_16_days_VI_Quality.tif\n",
      "INFO:TATSSI.qa.EOS.quality:Decoding QA layer MODLAND...\n",
      "INFO:TATSSI.qa.EOS.quality:Decoding QA layer VI Usefulness...\n",
      "INFO:TATSSI.qa.EOS.quality:Decoding QA layer Aerosol Quantity...\n",
      "INFO:TATSSI.qa.EOS.quality:Decoding QA layer Adjacent cloud detected...\n",
      "INFO:TATSSI.qa.EOS.quality:Decoding QA layer Atmosphere BRDF Correction...\n",
      "INFO:TATSSI.qa.EOS.quality:Decoding QA layer Mixed Clouds...\n",
      "INFO:TATSSI.qa.EOS.quality:Decoding QA layer Land/Water Mask...\n",
      "INFO:TATSSI.qa.EOS.quality:Decoding QA layer Possible snow/ice...\n",
      "INFO:TATSSI.qa.EOS.quality:Decoding QA layer Possible shadow...\n",
      "INFO:TATSSI.qa.EOS.quality:Decoding finished.\n",
      "INFO:TATSSI.qa.EOS.quality:Decoding MOD13A2.006...\n",
      "INFO:TATSSI.qa.EOS.quality:File /home/glopez/Projects/TATSSI/data/test_gee/1_km_16_days_VI_Quality/MOD13A2.2013_03_22.006.1_km_16_days_VI_Quality.tif\n",
      "INFO:TATSSI.qa.EOS.quality:Decoding QA layer MODLAND...\n",
      "INFO:TATSSI.qa.EOS.quality:Decoding QA layer VI Usefulness...\n",
      "INFO:TATSSI.qa.EOS.quality:Decoding QA layer Aerosol Quantity...\n",
      "INFO:TATSSI.qa.EOS.quality:Decoding QA layer Adjacent cloud detected...\n",
      "INFO:TATSSI.qa.EOS.quality:Decoding QA layer Atmosphere BRDF Correction...\n",
      "INFO:TATSSI.qa.EOS.quality:Decoding QA layer Mixed Clouds...\n",
      "INFO:TATSSI.qa.EOS.quality:Decoding QA layer Land/Water Mask...\n",
      "INFO:TATSSI.qa.EOS.quality:Decoding QA layer Possible snow/ice...\n",
      "INFO:TATSSI.qa.EOS.quality:Decoding QA layer Possible shadow...\n",
      "INFO:TATSSI.qa.EOS.quality:Decoding finished.\n",
      "INFO:TATSSI.qa.EOS.quality:Decoding MOD13A2.006...\n",
      "INFO:TATSSI.qa.EOS.quality:File /home/glopez/Projects/TATSSI/data/test_gee/1_km_16_days_VI_Quality/MOD13A2.2013_04_07.006.1_km_16_days_VI_Quality.tif\n",
      "INFO:TATSSI.qa.EOS.quality:Decoding QA layer MODLAND...\n",
      "INFO:TATSSI.qa.EOS.quality:Decoding QA layer VI Usefulness...\n",
      "INFO:TATSSI.qa.EOS.quality:Decoding QA layer Aerosol Quantity...\n",
      "INFO:TATSSI.qa.EOS.quality:Decoding QA layer Adjacent cloud detected...\n",
      "INFO:TATSSI.qa.EOS.quality:Decoding QA layer Atmosphere BRDF Correction...\n",
      "INFO:TATSSI.qa.EOS.quality:Decoding QA layer Mixed Clouds...\n",
      "INFO:TATSSI.qa.EOS.quality:Decoding QA layer Land/Water Mask...\n",
      "INFO:TATSSI.qa.EOS.quality:Decoding QA layer Possible snow/ice...\n",
      "INFO:TATSSI.qa.EOS.quality:Decoding QA layer Possible shadow...\n",
      "INFO:TATSSI.qa.EOS.quality:Decoding finished.\n",
      "INFO:TATSSI.qa.EOS.quality:Decoding MOD13A2.006...\n",
      "INFO:TATSSI.qa.EOS.quality:File /home/glopez/Projects/TATSSI/data/test_gee/1_km_16_days_VI_Quality/MOD13A2.2013_04_23.006.1_km_16_days_VI_Quality.tif\n",
      "INFO:TATSSI.qa.EOS.quality:Decoding QA layer MODLAND...\n",
      "INFO:TATSSI.qa.EOS.quality:Decoding QA layer VI Usefulness...\n",
      "INFO:TATSSI.qa.EOS.quality:Decoding QA layer Aerosol Quantity...\n",
      "INFO:TATSSI.qa.EOS.quality:Decoding QA layer Adjacent cloud detected...\n",
      "INFO:TATSSI.qa.EOS.quality:Decoding QA layer Atmosphere BRDF Correction...\n",
      "INFO:TATSSI.qa.EOS.quality:Decoding QA layer Mixed Clouds...\n",
      "INFO:TATSSI.qa.EOS.quality:Decoding QA layer Land/Water Mask...\n",
      "INFO:TATSSI.qa.EOS.quality:Decoding QA layer Possible snow/ice...\n",
      "INFO:TATSSI.qa.EOS.quality:Decoding QA layer Possible shadow...\n",
      "INFO:TATSSI.qa.EOS.quality:Decoding finished.\n",
      "INFO:TATSSI.qa.EOS.quality:Decoding MOD13A2.006...\n",
      "INFO:TATSSI.qa.EOS.quality:File /home/glopez/Projects/TATSSI/data/test_gee/1_km_16_days_VI_Quality/MOD13A2.2013_05_09.006.1_km_16_days_VI_Quality.tif\n",
      "INFO:TATSSI.qa.EOS.quality:Decoding QA layer MODLAND...\n",
      "INFO:TATSSI.qa.EOS.quality:Decoding QA layer VI Usefulness...\n",
      "INFO:TATSSI.qa.EOS.quality:Decoding QA layer Aerosol Quantity...\n",
      "INFO:TATSSI.qa.EOS.quality:Decoding QA layer Adjacent cloud detected...\n",
      "INFO:TATSSI.qa.EOS.quality:Decoding QA layer Atmosphere BRDF Correction...\n",
      "INFO:TATSSI.qa.EOS.quality:Decoding QA layer Mixed Clouds...\n",
      "INFO:TATSSI.qa.EOS.quality:Decoding QA layer Land/Water Mask...\n",
      "INFO:TATSSI.qa.EOS.quality:Decoding QA layer Possible snow/ice...\n",
      "INFO:TATSSI.qa.EOS.quality:Decoding QA layer Possible shadow...\n",
      "INFO:TATSSI.qa.EOS.quality:Decoding finished.\n",
      "INFO:TATSSI.qa.EOS.quality:Decoding MOD13A2.006...\n",
      "INFO:TATSSI.qa.EOS.quality:File /home/glopez/Projects/TATSSI/data/test_gee/1_km_16_days_VI_Quality/MOD13A2.2013_05_25.006.1_km_16_days_VI_Quality.tif\n",
      "INFO:TATSSI.qa.EOS.quality:Decoding QA layer MODLAND...\n",
      "INFO:TATSSI.qa.EOS.quality:Decoding QA layer VI Usefulness...\n",
      "INFO:TATSSI.qa.EOS.quality:Decoding QA layer Aerosol Quantity...\n",
      "INFO:TATSSI.qa.EOS.quality:Decoding QA layer Adjacent cloud detected...\n",
      "INFO:TATSSI.qa.EOS.quality:Decoding QA layer Atmosphere BRDF Correction...\n",
      "INFO:TATSSI.qa.EOS.quality:Decoding QA layer Mixed Clouds...\n",
      "INFO:TATSSI.qa.EOS.quality:Decoding QA layer Land/Water Mask...\n",
      "INFO:TATSSI.qa.EOS.quality:Decoding QA layer Possible snow/ice...\n",
      "INFO:TATSSI.qa.EOS.quality:Decoding QA layer Possible shadow...\n",
      "INFO:TATSSI.qa.EOS.quality:Decoding finished.\n",
      "INFO:TATSSI.qa.EOS.quality:Decoding MOD13A2.006...\n",
      "INFO:TATSSI.qa.EOS.quality:File /home/glopez/Projects/TATSSI/data/test_gee/1_km_16_days_VI_Quality/MOD13A2.2013_06_10.006.1_km_16_days_VI_Quality.tif\n",
      "INFO:TATSSI.qa.EOS.quality:Decoding QA layer MODLAND...\n",
      "INFO:TATSSI.qa.EOS.quality:Decoding QA layer VI Usefulness...\n",
      "INFO:TATSSI.qa.EOS.quality:Decoding QA layer Aerosol Quantity...\n",
      "INFO:TATSSI.qa.EOS.quality:Decoding QA layer Adjacent cloud detected...\n",
      "INFO:TATSSI.qa.EOS.quality:Decoding QA layer Atmosphere BRDF Correction...\n",
      "INFO:TATSSI.qa.EOS.quality:Decoding QA layer Mixed Clouds...\n",
      "INFO:TATSSI.qa.EOS.quality:Decoding QA layer Land/Water Mask...\n",
      "INFO:TATSSI.qa.EOS.quality:Decoding QA layer Possible snow/ice...\n",
      "INFO:TATSSI.qa.EOS.quality:Decoding QA layer Possible shadow...\n",
      "INFO:TATSSI.qa.EOS.quality:Decoding finished.\n",
      "INFO:TATSSI.qa.EOS.quality:Decoding MOD13A2.006...\n",
      "INFO:TATSSI.qa.EOS.quality:File /home/glopez/Projects/TATSSI/data/test_gee/1_km_16_days_VI_Quality/MOD13A2.2013_06_26.006.1_km_16_days_VI_Quality.tif\n",
      "INFO:TATSSI.qa.EOS.quality:Decoding QA layer MODLAND...\n",
      "INFO:TATSSI.qa.EOS.quality:Decoding QA layer VI Usefulness...\n",
      "INFO:TATSSI.qa.EOS.quality:Decoding QA layer Aerosol Quantity...\n",
      "INFO:TATSSI.qa.EOS.quality:Decoding QA layer Adjacent cloud detected...\n",
      "INFO:TATSSI.qa.EOS.quality:Decoding QA layer Atmosphere BRDF Correction...\n",
      "INFO:TATSSI.qa.EOS.quality:Decoding QA layer Mixed Clouds...\n",
      "INFO:TATSSI.qa.EOS.quality:Decoding QA layer Land/Water Mask...\n",
      "INFO:TATSSI.qa.EOS.quality:Decoding QA layer Possible snow/ice...\n",
      "INFO:TATSSI.qa.EOS.quality:Decoding QA layer Possible shadow...\n",
      "INFO:TATSSI.qa.EOS.quality:Decoding finished.\n",
      "INFO:TATSSI.qa.EOS.quality:Decoding MOD13A2.006...\n",
      "INFO:TATSSI.qa.EOS.quality:File /home/glopez/Projects/TATSSI/data/test_gee/1_km_16_days_VI_Quality/MOD13A2.2013_07_12.006.1_km_16_days_VI_Quality.tif\n",
      "INFO:TATSSI.qa.EOS.quality:Decoding QA layer MODLAND...\n",
      "INFO:TATSSI.qa.EOS.quality:Decoding QA layer VI Usefulness...\n",
      "INFO:TATSSI.qa.EOS.quality:Decoding QA layer Aerosol Quantity...\n",
      "INFO:TATSSI.qa.EOS.quality:Decoding QA layer Adjacent cloud detected...\n",
      "INFO:TATSSI.qa.EOS.quality:Decoding QA layer Atmosphere BRDF Correction...\n",
      "INFO:TATSSI.qa.EOS.quality:Decoding QA layer Mixed Clouds...\n",
      "INFO:TATSSI.qa.EOS.quality:Decoding QA layer Land/Water Mask...\n",
      "INFO:TATSSI.qa.EOS.quality:Decoding QA layer Possible snow/ice...\n",
      "INFO:TATSSI.qa.EOS.quality:Decoding QA layer Possible shadow...\n",
      "INFO:TATSSI.qa.EOS.quality:Decoding finished.\n",
      "INFO:TATSSI.qa.EOS.quality:Decoding MOD13A2.006...\n",
      "INFO:TATSSI.qa.EOS.quality:File /home/glopez/Projects/TATSSI/data/test_gee/1_km_16_days_VI_Quality/MOD13A2.2013_07_28.006.1_km_16_days_VI_Quality.tif\n"
     ]
    },
    {
     "name": "stderr",
     "output_type": "stream",
     "text": [
      "INFO:TATSSI.qa.EOS.quality:Decoding QA layer MODLAND...\n",
      "INFO:TATSSI.qa.EOS.quality:Decoding QA layer VI Usefulness...\n",
      "INFO:TATSSI.qa.EOS.quality:Decoding QA layer Aerosol Quantity...\n",
      "INFO:TATSSI.qa.EOS.quality:Decoding QA layer Adjacent cloud detected...\n",
      "INFO:TATSSI.qa.EOS.quality:Decoding QA layer Atmosphere BRDF Correction...\n",
      "INFO:TATSSI.qa.EOS.quality:Decoding QA layer Mixed Clouds...\n",
      "INFO:TATSSI.qa.EOS.quality:Decoding QA layer Land/Water Mask...\n",
      "INFO:TATSSI.qa.EOS.quality:Decoding QA layer Possible snow/ice...\n",
      "INFO:TATSSI.qa.EOS.quality:Decoding QA layer Possible shadow...\n",
      "INFO:TATSSI.qa.EOS.quality:Decoding finished.\n",
      "INFO:TATSSI.qa.EOS.quality:Decoding MOD13A2.006...\n",
      "INFO:TATSSI.qa.EOS.quality:File /home/glopez/Projects/TATSSI/data/test_gee/1_km_16_days_VI_Quality/MOD13A2.2013_08_13.006.1_km_16_days_VI_Quality.tif\n",
      "INFO:TATSSI.qa.EOS.quality:Decoding QA layer MODLAND...\n",
      "INFO:TATSSI.qa.EOS.quality:Decoding QA layer VI Usefulness...\n",
      "INFO:TATSSI.qa.EOS.quality:Decoding QA layer Aerosol Quantity...\n",
      "INFO:TATSSI.qa.EOS.quality:Decoding QA layer Adjacent cloud detected...\n",
      "INFO:TATSSI.qa.EOS.quality:Decoding QA layer Atmosphere BRDF Correction...\n",
      "INFO:TATSSI.qa.EOS.quality:Decoding QA layer Mixed Clouds...\n",
      "INFO:TATSSI.qa.EOS.quality:Decoding QA layer Land/Water Mask...\n",
      "INFO:TATSSI.qa.EOS.quality:Decoding QA layer Possible snow/ice...\n",
      "INFO:TATSSI.qa.EOS.quality:Decoding QA layer Possible shadow...\n",
      "INFO:TATSSI.qa.EOS.quality:Decoding finished.\n",
      "INFO:TATSSI.qa.EOS.quality:Decoding MOD13A2.006...\n",
      "INFO:TATSSI.qa.EOS.quality:File /home/glopez/Projects/TATSSI/data/test_gee/1_km_16_days_VI_Quality/MOD13A2.2013_08_29.006.1_km_16_days_VI_Quality.tif\n",
      "INFO:TATSSI.qa.EOS.quality:Decoding QA layer MODLAND...\n",
      "INFO:TATSSI.qa.EOS.quality:Decoding QA layer VI Usefulness...\n",
      "INFO:TATSSI.qa.EOS.quality:Decoding QA layer Aerosol Quantity...\n",
      "INFO:TATSSI.qa.EOS.quality:Decoding QA layer Adjacent cloud detected...\n",
      "INFO:TATSSI.qa.EOS.quality:Decoding QA layer Atmosphere BRDF Correction...\n",
      "INFO:TATSSI.qa.EOS.quality:Decoding QA layer Mixed Clouds...\n",
      "INFO:TATSSI.qa.EOS.quality:Decoding QA layer Land/Water Mask...\n",
      "INFO:TATSSI.qa.EOS.quality:Decoding QA layer Possible snow/ice...\n",
      "INFO:TATSSI.qa.EOS.quality:Decoding QA layer Possible shadow...\n",
      "INFO:TATSSI.qa.EOS.quality:Decoding finished.\n",
      "INFO:TATSSI.qa.EOS.quality:Decoding MOD13A2.006...\n",
      "INFO:TATSSI.qa.EOS.quality:File /home/glopez/Projects/TATSSI/data/test_gee/1_km_16_days_VI_Quality/MOD13A2.2013_09_14.006.1_km_16_days_VI_Quality.tif\n",
      "INFO:TATSSI.qa.EOS.quality:Decoding QA layer MODLAND...\n",
      "INFO:TATSSI.qa.EOS.quality:Decoding QA layer VI Usefulness...\n",
      "INFO:TATSSI.qa.EOS.quality:Decoding QA layer Aerosol Quantity...\n",
      "INFO:TATSSI.qa.EOS.quality:Decoding QA layer Adjacent cloud detected...\n",
      "INFO:TATSSI.qa.EOS.quality:Decoding QA layer Atmosphere BRDF Correction...\n",
      "INFO:TATSSI.qa.EOS.quality:Decoding QA layer Mixed Clouds...\n",
      "INFO:TATSSI.qa.EOS.quality:Decoding QA layer Land/Water Mask...\n",
      "INFO:TATSSI.qa.EOS.quality:Decoding QA layer Possible snow/ice...\n",
      "INFO:TATSSI.qa.EOS.quality:Decoding QA layer Possible shadow...\n",
      "INFO:TATSSI.qa.EOS.quality:Decoding finished.\n",
      "INFO:TATSSI.qa.EOS.quality:Decoding MOD13A2.006...\n",
      "INFO:TATSSI.qa.EOS.quality:File /home/glopez/Projects/TATSSI/data/test_gee/1_km_16_days_VI_Quality/MOD13A2.2013_09_30.006.1_km_16_days_VI_Quality.tif\n",
      "INFO:TATSSI.qa.EOS.quality:Decoding QA layer MODLAND...\n",
      "INFO:TATSSI.qa.EOS.quality:Decoding QA layer VI Usefulness...\n",
      "INFO:TATSSI.qa.EOS.quality:Decoding QA layer Aerosol Quantity...\n",
      "INFO:TATSSI.qa.EOS.quality:Decoding QA layer Adjacent cloud detected...\n",
      "INFO:TATSSI.qa.EOS.quality:Decoding QA layer Atmosphere BRDF Correction...\n",
      "INFO:TATSSI.qa.EOS.quality:Decoding QA layer Mixed Clouds...\n",
      "INFO:TATSSI.qa.EOS.quality:Decoding QA layer Land/Water Mask...\n",
      "INFO:TATSSI.qa.EOS.quality:Decoding QA layer Possible snow/ice...\n",
      "INFO:TATSSI.qa.EOS.quality:Decoding QA layer Possible shadow...\n",
      "INFO:TATSSI.qa.EOS.quality:Decoding finished.\n",
      "INFO:TATSSI.qa.EOS.quality:Decoding MOD13A2.006...\n",
      "INFO:TATSSI.qa.EOS.quality:File /home/glopez/Projects/TATSSI/data/test_gee/1_km_16_days_VI_Quality/MOD13A2.2013_10_16.006.1_km_16_days_VI_Quality.tif\n",
      "INFO:TATSSI.qa.EOS.quality:Decoding QA layer MODLAND...\n",
      "INFO:TATSSI.qa.EOS.quality:Decoding QA layer VI Usefulness...\n",
      "INFO:TATSSI.qa.EOS.quality:Decoding QA layer Aerosol Quantity...\n",
      "INFO:TATSSI.qa.EOS.quality:Decoding QA layer Adjacent cloud detected...\n",
      "INFO:TATSSI.qa.EOS.quality:Decoding QA layer Atmosphere BRDF Correction...\n",
      "INFO:TATSSI.qa.EOS.quality:Decoding QA layer Mixed Clouds...\n",
      "INFO:TATSSI.qa.EOS.quality:Decoding QA layer Land/Water Mask...\n",
      "INFO:TATSSI.qa.EOS.quality:Decoding QA layer Possible snow/ice...\n",
      "INFO:TATSSI.qa.EOS.quality:Decoding QA layer Possible shadow...\n",
      "INFO:TATSSI.qa.EOS.quality:Decoding finished.\n",
      "INFO:TATSSI.qa.EOS.quality:Decoding MOD13A2.006...\n",
      "INFO:TATSSI.qa.EOS.quality:File /home/glopez/Projects/TATSSI/data/test_gee/1_km_16_days_VI_Quality/MOD13A2.2013_11_01.006.1_km_16_days_VI_Quality.tif\n",
      "INFO:TATSSI.qa.EOS.quality:Decoding QA layer MODLAND...\n",
      "INFO:TATSSI.qa.EOS.quality:Decoding QA layer VI Usefulness...\n",
      "INFO:TATSSI.qa.EOS.quality:Decoding QA layer Aerosol Quantity...\n",
      "INFO:TATSSI.qa.EOS.quality:Decoding QA layer Adjacent cloud detected...\n",
      "INFO:TATSSI.qa.EOS.quality:Decoding QA layer Atmosphere BRDF Correction...\n",
      "INFO:TATSSI.qa.EOS.quality:Decoding QA layer Mixed Clouds...\n",
      "INFO:TATSSI.qa.EOS.quality:Decoding QA layer Land/Water Mask...\n",
      "INFO:TATSSI.qa.EOS.quality:Decoding QA layer Possible snow/ice...\n",
      "INFO:TATSSI.qa.EOS.quality:Decoding QA layer Possible shadow...\n",
      "INFO:TATSSI.qa.EOS.quality:Decoding finished.\n",
      "INFO:TATSSI.qa.EOS.quality:Decoding MOD13A2.006...\n",
      "INFO:TATSSI.qa.EOS.quality:File /home/glopez/Projects/TATSSI/data/test_gee/1_km_16_days_VI_Quality/MOD13A2.2013_11_17.006.1_km_16_days_VI_Quality.tif\n",
      "INFO:TATSSI.qa.EOS.quality:Decoding QA layer MODLAND...\n",
      "INFO:TATSSI.qa.EOS.quality:Decoding QA layer VI Usefulness...\n",
      "INFO:TATSSI.qa.EOS.quality:Decoding QA layer Aerosol Quantity...\n",
      "INFO:TATSSI.qa.EOS.quality:Decoding QA layer Adjacent cloud detected...\n",
      "INFO:TATSSI.qa.EOS.quality:Decoding QA layer Atmosphere BRDF Correction...\n",
      "INFO:TATSSI.qa.EOS.quality:Decoding QA layer Mixed Clouds...\n",
      "INFO:TATSSI.qa.EOS.quality:Decoding QA layer Land/Water Mask...\n",
      "INFO:TATSSI.qa.EOS.quality:Decoding QA layer Possible snow/ice...\n",
      "INFO:TATSSI.qa.EOS.quality:Decoding QA layer Possible shadow...\n",
      "INFO:TATSSI.qa.EOS.quality:Decoding finished.\n",
      "INFO:TATSSI.qa.EOS.quality:Decoding MOD13A2.006...\n",
      "INFO:TATSSI.qa.EOS.quality:File /home/glopez/Projects/TATSSI/data/test_gee/1_km_16_days_VI_Quality/MOD13A2.2013_12_03.006.1_km_16_days_VI_Quality.tif\n",
      "INFO:TATSSI.qa.EOS.quality:Decoding QA layer MODLAND...\n",
      "INFO:TATSSI.qa.EOS.quality:Decoding QA layer VI Usefulness...\n",
      "INFO:TATSSI.qa.EOS.quality:Decoding QA layer Aerosol Quantity...\n",
      "INFO:TATSSI.qa.EOS.quality:Decoding QA layer Adjacent cloud detected...\n",
      "INFO:TATSSI.qa.EOS.quality:Decoding QA layer Atmosphere BRDF Correction...\n",
      "INFO:TATSSI.qa.EOS.quality:Decoding QA layer Mixed Clouds...\n",
      "INFO:TATSSI.qa.EOS.quality:Decoding QA layer Land/Water Mask...\n",
      "INFO:TATSSI.qa.EOS.quality:Decoding QA layer Possible snow/ice...\n",
      "INFO:TATSSI.qa.EOS.quality:Decoding QA layer Possible shadow...\n",
      "INFO:TATSSI.qa.EOS.quality:Decoding finished.\n",
      "INFO:TATSSI.qa.EOS.quality:Decoding MOD13A2.006...\n",
      "INFO:TATSSI.qa.EOS.quality:File /home/glopez/Projects/TATSSI/data/test_gee/1_km_16_days_VI_Quality/MOD13A2.2013_12_19.006.1_km_16_days_VI_Quality.tif\n",
      "INFO:TATSSI.qa.EOS.quality:Decoding QA layer MODLAND...\n",
      "INFO:TATSSI.qa.EOS.quality:Decoding QA layer VI Usefulness...\n",
      "INFO:TATSSI.qa.EOS.quality:Decoding QA layer Aerosol Quantity...\n",
      "INFO:TATSSI.qa.EOS.quality:Decoding QA layer Adjacent cloud detected...\n",
      "INFO:TATSSI.qa.EOS.quality:Decoding QA layer Atmosphere BRDF Correction...\n",
      "INFO:TATSSI.qa.EOS.quality:Decoding QA layer Mixed Clouds...\n",
      "INFO:TATSSI.qa.EOS.quality:Decoding QA layer Land/Water Mask...\n",
      "INFO:TATSSI.qa.EOS.quality:Decoding QA layer Possible snow/ice...\n",
      "INFO:TATSSI.qa.EOS.quality:Decoding QA layer Possible shadow...\n",
      "INFO:TATSSI.qa.EOS.quality:Decoding finished.\n",
      "INFO:TATSSI.qa.EOS.quality:Decoding MOD13A2.006...\n",
      "INFO:TATSSI.qa.EOS.quality:File /home/glopez/Projects/TATSSI/data/test_gee/1_km_16_days_VI_Quality/MOD13A2.2014_01_01.006.1_km_16_days_VI_Quality.tif\n"
     ]
    },
    {
     "name": "stderr",
     "output_type": "stream",
     "text": [
      "INFO:TATSSI.qa.EOS.quality:Decoding QA layer MODLAND...\n",
      "INFO:TATSSI.qa.EOS.quality:Decoding QA layer VI Usefulness...\n",
      "INFO:TATSSI.qa.EOS.quality:Decoding QA layer Aerosol Quantity...\n",
      "INFO:TATSSI.qa.EOS.quality:Decoding QA layer Adjacent cloud detected...\n",
      "INFO:TATSSI.qa.EOS.quality:Decoding QA layer Atmosphere BRDF Correction...\n",
      "INFO:TATSSI.qa.EOS.quality:Decoding QA layer Mixed Clouds...\n",
      "INFO:TATSSI.qa.EOS.quality:Decoding QA layer Land/Water Mask...\n",
      "INFO:TATSSI.qa.EOS.quality:Decoding QA layer Possible snow/ice...\n",
      "INFO:TATSSI.qa.EOS.quality:Decoding QA layer Possible shadow...\n",
      "INFO:TATSSI.qa.EOS.quality:Decoding finished.\n",
      "INFO:TATSSI.qa.EOS.quality:Decoding MOD13A2.006...\n",
      "INFO:TATSSI.qa.EOS.quality:File /home/glopez/Projects/TATSSI/data/test_gee/1_km_16_days_VI_Quality/MOD13A2.2014_01_17.006.1_km_16_days_VI_Quality.tif\n",
      "INFO:TATSSI.qa.EOS.quality:Decoding QA layer MODLAND...\n",
      "INFO:TATSSI.qa.EOS.quality:Decoding QA layer VI Usefulness...\n",
      "INFO:TATSSI.qa.EOS.quality:Decoding QA layer Aerosol Quantity...\n",
      "INFO:TATSSI.qa.EOS.quality:Decoding QA layer Adjacent cloud detected...\n",
      "INFO:TATSSI.qa.EOS.quality:Decoding QA layer Atmosphere BRDF Correction...\n",
      "INFO:TATSSI.qa.EOS.quality:Decoding QA layer Mixed Clouds...\n",
      "INFO:TATSSI.qa.EOS.quality:Decoding QA layer Land/Water Mask...\n",
      "INFO:TATSSI.qa.EOS.quality:Decoding QA layer Possible snow/ice...\n",
      "INFO:TATSSI.qa.EOS.quality:Decoding QA layer Possible shadow...\n",
      "INFO:TATSSI.qa.EOS.quality:Decoding finished.\n",
      "INFO:TATSSI.qa.EOS.quality:Decoding MOD13A2.006...\n",
      "INFO:TATSSI.qa.EOS.quality:File /home/glopez/Projects/TATSSI/data/test_gee/1_km_16_days_VI_Quality/MOD13A2.2014_02_02.006.1_km_16_days_VI_Quality.tif\n",
      "INFO:TATSSI.qa.EOS.quality:Decoding QA layer MODLAND...\n",
      "INFO:TATSSI.qa.EOS.quality:Decoding QA layer VI Usefulness...\n",
      "INFO:TATSSI.qa.EOS.quality:Decoding QA layer Aerosol Quantity...\n",
      "INFO:TATSSI.qa.EOS.quality:Decoding QA layer Adjacent cloud detected...\n",
      "INFO:TATSSI.qa.EOS.quality:Decoding QA layer Atmosphere BRDF Correction...\n",
      "INFO:TATSSI.qa.EOS.quality:Decoding QA layer Mixed Clouds...\n",
      "INFO:TATSSI.qa.EOS.quality:Decoding QA layer Land/Water Mask...\n",
      "INFO:TATSSI.qa.EOS.quality:Decoding QA layer Possible snow/ice...\n",
      "INFO:TATSSI.qa.EOS.quality:Decoding QA layer Possible shadow...\n",
      "INFO:TATSSI.qa.EOS.quality:Decoding finished.\n",
      "INFO:TATSSI.qa.EOS.quality:Decoding MOD13A2.006...\n",
      "INFO:TATSSI.qa.EOS.quality:File /home/glopez/Projects/TATSSI/data/test_gee/1_km_16_days_VI_Quality/MOD13A2.2014_02_18.006.1_km_16_days_VI_Quality.tif\n",
      "INFO:TATSSI.qa.EOS.quality:Decoding QA layer MODLAND...\n",
      "INFO:TATSSI.qa.EOS.quality:Decoding QA layer VI Usefulness...\n",
      "INFO:TATSSI.qa.EOS.quality:Decoding QA layer Aerosol Quantity...\n",
      "INFO:TATSSI.qa.EOS.quality:Decoding QA layer Adjacent cloud detected...\n",
      "INFO:TATSSI.qa.EOS.quality:Decoding QA layer Atmosphere BRDF Correction...\n",
      "INFO:TATSSI.qa.EOS.quality:Decoding QA layer Mixed Clouds...\n",
      "INFO:TATSSI.qa.EOS.quality:Decoding QA layer Land/Water Mask...\n",
      "INFO:TATSSI.qa.EOS.quality:Decoding QA layer Possible snow/ice...\n",
      "INFO:TATSSI.qa.EOS.quality:Decoding QA layer Possible shadow...\n",
      "INFO:TATSSI.qa.EOS.quality:Decoding finished.\n",
      "INFO:TATSSI.qa.EOS.quality:Decoding MOD13A2.006...\n",
      "INFO:TATSSI.qa.EOS.quality:File /home/glopez/Projects/TATSSI/data/test_gee/1_km_16_days_VI_Quality/MOD13A2.2014_03_06.006.1_km_16_days_VI_Quality.tif\n",
      "INFO:TATSSI.qa.EOS.quality:Decoding QA layer MODLAND...\n",
      "INFO:TATSSI.qa.EOS.quality:Decoding QA layer VI Usefulness...\n",
      "INFO:TATSSI.qa.EOS.quality:Decoding QA layer Aerosol Quantity...\n",
      "INFO:TATSSI.qa.EOS.quality:Decoding QA layer Adjacent cloud detected...\n",
      "INFO:TATSSI.qa.EOS.quality:Decoding QA layer Atmosphere BRDF Correction...\n",
      "INFO:TATSSI.qa.EOS.quality:Decoding QA layer Mixed Clouds...\n",
      "INFO:TATSSI.qa.EOS.quality:Decoding QA layer Land/Water Mask...\n",
      "INFO:TATSSI.qa.EOS.quality:Decoding QA layer Possible snow/ice...\n",
      "INFO:TATSSI.qa.EOS.quality:Decoding QA layer Possible shadow...\n",
      "INFO:TATSSI.qa.EOS.quality:Decoding finished.\n",
      "INFO:TATSSI.qa.EOS.quality:Decoding MOD13A2.006...\n",
      "INFO:TATSSI.qa.EOS.quality:File /home/glopez/Projects/TATSSI/data/test_gee/1_km_16_days_VI_Quality/MOD13A2.2014_03_22.006.1_km_16_days_VI_Quality.tif\n",
      "INFO:TATSSI.qa.EOS.quality:Decoding QA layer MODLAND...\n",
      "INFO:TATSSI.qa.EOS.quality:Decoding QA layer VI Usefulness...\n",
      "INFO:TATSSI.qa.EOS.quality:Decoding QA layer Aerosol Quantity...\n",
      "INFO:TATSSI.qa.EOS.quality:Decoding QA layer Adjacent cloud detected...\n",
      "INFO:TATSSI.qa.EOS.quality:Decoding QA layer Atmosphere BRDF Correction...\n",
      "INFO:TATSSI.qa.EOS.quality:Decoding QA layer Mixed Clouds...\n",
      "INFO:TATSSI.qa.EOS.quality:Decoding QA layer Land/Water Mask...\n",
      "INFO:TATSSI.qa.EOS.quality:Decoding QA layer Possible snow/ice...\n",
      "INFO:TATSSI.qa.EOS.quality:Decoding QA layer Possible shadow...\n",
      "INFO:TATSSI.qa.EOS.quality:Decoding finished.\n",
      "INFO:TATSSI.qa.EOS.quality:Decoding MOD13A2.006...\n",
      "INFO:TATSSI.qa.EOS.quality:File /home/glopez/Projects/TATSSI/data/test_gee/1_km_16_days_VI_Quality/MOD13A2.2014_04_07.006.1_km_16_days_VI_Quality.tif\n",
      "INFO:TATSSI.qa.EOS.quality:Decoding QA layer MODLAND...\n",
      "INFO:TATSSI.qa.EOS.quality:Decoding QA layer VI Usefulness...\n",
      "INFO:TATSSI.qa.EOS.quality:Decoding QA layer Aerosol Quantity...\n",
      "INFO:TATSSI.qa.EOS.quality:Decoding QA layer Adjacent cloud detected...\n",
      "INFO:TATSSI.qa.EOS.quality:Decoding QA layer Atmosphere BRDF Correction...\n",
      "INFO:TATSSI.qa.EOS.quality:Decoding QA layer Mixed Clouds...\n",
      "INFO:TATSSI.qa.EOS.quality:Decoding QA layer Land/Water Mask...\n",
      "INFO:TATSSI.qa.EOS.quality:Decoding QA layer Possible snow/ice...\n",
      "INFO:TATSSI.qa.EOS.quality:Decoding QA layer Possible shadow...\n",
      "INFO:TATSSI.qa.EOS.quality:Decoding finished.\n",
      "INFO:TATSSI.qa.EOS.quality:Decoding MOD13A2.006...\n",
      "INFO:TATSSI.qa.EOS.quality:File /home/glopez/Projects/TATSSI/data/test_gee/1_km_16_days_VI_Quality/MOD13A2.2014_04_23.006.1_km_16_days_VI_Quality.tif\n",
      "INFO:TATSSI.qa.EOS.quality:Decoding QA layer MODLAND...\n",
      "INFO:TATSSI.qa.EOS.quality:Decoding QA layer VI Usefulness...\n",
      "INFO:TATSSI.qa.EOS.quality:Decoding QA layer Aerosol Quantity...\n",
      "INFO:TATSSI.qa.EOS.quality:Decoding QA layer Adjacent cloud detected...\n",
      "INFO:TATSSI.qa.EOS.quality:Decoding QA layer Atmosphere BRDF Correction...\n",
      "INFO:TATSSI.qa.EOS.quality:Decoding QA layer Mixed Clouds...\n",
      "INFO:TATSSI.qa.EOS.quality:Decoding QA layer Land/Water Mask...\n",
      "INFO:TATSSI.qa.EOS.quality:Decoding QA layer Possible snow/ice...\n",
      "INFO:TATSSI.qa.EOS.quality:Decoding QA layer Possible shadow...\n",
      "INFO:TATSSI.qa.EOS.quality:Decoding finished.\n",
      "INFO:TATSSI.qa.EOS.quality:Decoding MOD13A2.006...\n",
      "INFO:TATSSI.qa.EOS.quality:File /home/glopez/Projects/TATSSI/data/test_gee/1_km_16_days_VI_Quality/MOD13A2.2014_05_09.006.1_km_16_days_VI_Quality.tif\n",
      "INFO:TATSSI.qa.EOS.quality:Decoding QA layer MODLAND...\n",
      "INFO:TATSSI.qa.EOS.quality:Decoding QA layer VI Usefulness...\n",
      "INFO:TATSSI.qa.EOS.quality:Decoding QA layer Aerosol Quantity...\n",
      "INFO:TATSSI.qa.EOS.quality:Decoding QA layer Adjacent cloud detected...\n",
      "INFO:TATSSI.qa.EOS.quality:Decoding QA layer Atmosphere BRDF Correction...\n",
      "INFO:TATSSI.qa.EOS.quality:Decoding QA layer Mixed Clouds...\n",
      "INFO:TATSSI.qa.EOS.quality:Decoding QA layer Land/Water Mask...\n",
      "INFO:TATSSI.qa.EOS.quality:Decoding QA layer Possible snow/ice...\n",
      "INFO:TATSSI.qa.EOS.quality:Decoding QA layer Possible shadow...\n",
      "INFO:TATSSI.qa.EOS.quality:Decoding finished.\n",
      "INFO:TATSSI.qa.EOS.quality:Decoding MOD13A2.006...\n",
      "INFO:TATSSI.qa.EOS.quality:File /home/glopez/Projects/TATSSI/data/test_gee/1_km_16_days_VI_Quality/MOD13A2.2014_05_25.006.1_km_16_days_VI_Quality.tif\n",
      "INFO:TATSSI.qa.EOS.quality:Decoding QA layer MODLAND...\n",
      "INFO:TATSSI.qa.EOS.quality:Decoding QA layer VI Usefulness...\n",
      "INFO:TATSSI.qa.EOS.quality:Decoding QA layer Aerosol Quantity...\n",
      "INFO:TATSSI.qa.EOS.quality:Decoding QA layer Adjacent cloud detected...\n",
      "INFO:TATSSI.qa.EOS.quality:Decoding QA layer Atmosphere BRDF Correction...\n",
      "INFO:TATSSI.qa.EOS.quality:Decoding QA layer Mixed Clouds...\n",
      "INFO:TATSSI.qa.EOS.quality:Decoding QA layer Land/Water Mask...\n",
      "INFO:TATSSI.qa.EOS.quality:Decoding QA layer Possible snow/ice...\n",
      "INFO:TATSSI.qa.EOS.quality:Decoding QA layer Possible shadow...\n",
      "INFO:TATSSI.qa.EOS.quality:Decoding finished.\n",
      "INFO:TATSSI.qa.EOS.quality:Decoding MOD13A2.006...\n",
      "INFO:TATSSI.qa.EOS.quality:File /home/glopez/Projects/TATSSI/data/test_gee/1_km_16_days_VI_Quality/MOD13A2.2014_06_10.006.1_km_16_days_VI_Quality.tif\n"
     ]
    },
    {
     "name": "stderr",
     "output_type": "stream",
     "text": [
      "INFO:TATSSI.qa.EOS.quality:Decoding QA layer MODLAND...\n",
      "INFO:TATSSI.qa.EOS.quality:Decoding QA layer VI Usefulness...\n",
      "INFO:TATSSI.qa.EOS.quality:Decoding QA layer Aerosol Quantity...\n",
      "INFO:TATSSI.qa.EOS.quality:Decoding QA layer Adjacent cloud detected...\n",
      "INFO:TATSSI.qa.EOS.quality:Decoding QA layer Atmosphere BRDF Correction...\n",
      "INFO:TATSSI.qa.EOS.quality:Decoding QA layer Mixed Clouds...\n",
      "INFO:TATSSI.qa.EOS.quality:Decoding QA layer Land/Water Mask...\n",
      "INFO:TATSSI.qa.EOS.quality:Decoding QA layer Possible snow/ice...\n",
      "INFO:TATSSI.qa.EOS.quality:Decoding QA layer Possible shadow...\n",
      "INFO:TATSSI.qa.EOS.quality:Decoding finished.\n",
      "INFO:TATSSI.qa.EOS.quality:Decoding MOD13A2.006...\n",
      "INFO:TATSSI.qa.EOS.quality:File /home/glopez/Projects/TATSSI/data/test_gee/1_km_16_days_VI_Quality/MOD13A2.2014_06_26.006.1_km_16_days_VI_Quality.tif\n",
      "INFO:TATSSI.qa.EOS.quality:Decoding QA layer MODLAND...\n",
      "INFO:TATSSI.qa.EOS.quality:Decoding QA layer VI Usefulness...\n",
      "INFO:TATSSI.qa.EOS.quality:Decoding QA layer Aerosol Quantity...\n",
      "INFO:TATSSI.qa.EOS.quality:Decoding QA layer Adjacent cloud detected...\n",
      "INFO:TATSSI.qa.EOS.quality:Decoding QA layer Atmosphere BRDF Correction...\n",
      "INFO:TATSSI.qa.EOS.quality:Decoding QA layer Mixed Clouds...\n",
      "INFO:TATSSI.qa.EOS.quality:Decoding QA layer Land/Water Mask...\n",
      "INFO:TATSSI.qa.EOS.quality:Decoding QA layer Possible snow/ice...\n",
      "INFO:TATSSI.qa.EOS.quality:Decoding QA layer Possible shadow...\n",
      "INFO:TATSSI.qa.EOS.quality:Decoding finished.\n",
      "INFO:TATSSI.qa.EOS.quality:Decoding MOD13A2.006...\n",
      "INFO:TATSSI.qa.EOS.quality:File /home/glopez/Projects/TATSSI/data/test_gee/1_km_16_days_VI_Quality/MOD13A2.2014_07_12.006.1_km_16_days_VI_Quality.tif\n",
      "INFO:TATSSI.qa.EOS.quality:Decoding QA layer MODLAND...\n",
      "INFO:TATSSI.qa.EOS.quality:Decoding QA layer VI Usefulness...\n",
      "INFO:TATSSI.qa.EOS.quality:Decoding QA layer Aerosol Quantity...\n",
      "INFO:TATSSI.qa.EOS.quality:Decoding QA layer Adjacent cloud detected...\n",
      "INFO:TATSSI.qa.EOS.quality:Decoding QA layer Atmosphere BRDF Correction...\n",
      "INFO:TATSSI.qa.EOS.quality:Decoding QA layer Mixed Clouds...\n",
      "INFO:TATSSI.qa.EOS.quality:Decoding QA layer Land/Water Mask...\n",
      "INFO:TATSSI.qa.EOS.quality:Decoding QA layer Possible snow/ice...\n",
      "INFO:TATSSI.qa.EOS.quality:Decoding QA layer Possible shadow...\n",
      "INFO:TATSSI.qa.EOS.quality:Decoding finished.\n",
      "INFO:TATSSI.qa.EOS.quality:Decoding MOD13A2.006...\n",
      "INFO:TATSSI.qa.EOS.quality:File /home/glopez/Projects/TATSSI/data/test_gee/1_km_16_days_VI_Quality/MOD13A2.2014_07_28.006.1_km_16_days_VI_Quality.tif\n",
      "INFO:TATSSI.qa.EOS.quality:Decoding QA layer MODLAND...\n",
      "INFO:TATSSI.qa.EOS.quality:Decoding QA layer VI Usefulness...\n",
      "INFO:TATSSI.qa.EOS.quality:Decoding QA layer Aerosol Quantity...\n",
      "INFO:TATSSI.qa.EOS.quality:Decoding QA layer Adjacent cloud detected...\n",
      "INFO:TATSSI.qa.EOS.quality:Decoding QA layer Atmosphere BRDF Correction...\n",
      "INFO:TATSSI.qa.EOS.quality:Decoding QA layer Mixed Clouds...\n",
      "INFO:TATSSI.qa.EOS.quality:Decoding QA layer Land/Water Mask...\n",
      "INFO:TATSSI.qa.EOS.quality:Decoding QA layer Possible snow/ice...\n",
      "INFO:TATSSI.qa.EOS.quality:Decoding QA layer Possible shadow...\n",
      "INFO:TATSSI.qa.EOS.quality:Decoding finished.\n",
      "INFO:TATSSI.qa.EOS.quality:Decoding MOD13A2.006...\n",
      "INFO:TATSSI.qa.EOS.quality:File /home/glopez/Projects/TATSSI/data/test_gee/1_km_16_days_VI_Quality/MOD13A2.2014_08_13.006.1_km_16_days_VI_Quality.tif\n",
      "INFO:TATSSI.qa.EOS.quality:Decoding QA layer MODLAND...\n",
      "INFO:TATSSI.qa.EOS.quality:Decoding QA layer VI Usefulness...\n",
      "INFO:TATSSI.qa.EOS.quality:Decoding QA layer Aerosol Quantity...\n",
      "INFO:TATSSI.qa.EOS.quality:Decoding QA layer Adjacent cloud detected...\n",
      "INFO:TATSSI.qa.EOS.quality:Decoding QA layer Atmosphere BRDF Correction...\n",
      "INFO:TATSSI.qa.EOS.quality:Decoding QA layer Mixed Clouds...\n",
      "INFO:TATSSI.qa.EOS.quality:Decoding QA layer Land/Water Mask...\n",
      "INFO:TATSSI.qa.EOS.quality:Decoding QA layer Possible snow/ice...\n",
      "INFO:TATSSI.qa.EOS.quality:Decoding QA layer Possible shadow...\n",
      "INFO:TATSSI.qa.EOS.quality:Decoding finished.\n",
      "INFO:TATSSI.qa.EOS.quality:Decoding MOD13A2.006...\n",
      "INFO:TATSSI.qa.EOS.quality:File /home/glopez/Projects/TATSSI/data/test_gee/1_km_16_days_VI_Quality/MOD13A2.2014_08_29.006.1_km_16_days_VI_Quality.tif\n",
      "INFO:TATSSI.qa.EOS.quality:Decoding QA layer MODLAND...\n",
      "INFO:TATSSI.qa.EOS.quality:Decoding QA layer VI Usefulness...\n",
      "INFO:TATSSI.qa.EOS.quality:Decoding QA layer Aerosol Quantity...\n",
      "INFO:TATSSI.qa.EOS.quality:Decoding QA layer Adjacent cloud detected...\n",
      "INFO:TATSSI.qa.EOS.quality:Decoding QA layer Atmosphere BRDF Correction...\n",
      "INFO:TATSSI.qa.EOS.quality:Decoding QA layer Mixed Clouds...\n",
      "INFO:TATSSI.qa.EOS.quality:Decoding QA layer Land/Water Mask...\n",
      "INFO:TATSSI.qa.EOS.quality:Decoding QA layer Possible snow/ice...\n",
      "INFO:TATSSI.qa.EOS.quality:Decoding QA layer Possible shadow...\n",
      "INFO:TATSSI.qa.EOS.quality:Decoding finished.\n",
      "INFO:TATSSI.qa.EOS.quality:Decoding MOD13A2.006...\n",
      "INFO:TATSSI.qa.EOS.quality:File /home/glopez/Projects/TATSSI/data/test_gee/1_km_16_days_VI_Quality/MOD13A2.2014_09_14.006.1_km_16_days_VI_Quality.tif\n",
      "INFO:TATSSI.qa.EOS.quality:Decoding QA layer MODLAND...\n",
      "INFO:TATSSI.qa.EOS.quality:Decoding QA layer VI Usefulness...\n",
      "INFO:TATSSI.qa.EOS.quality:Decoding QA layer Aerosol Quantity...\n",
      "INFO:TATSSI.qa.EOS.quality:Decoding QA layer Adjacent cloud detected...\n",
      "INFO:TATSSI.qa.EOS.quality:Decoding QA layer Atmosphere BRDF Correction...\n",
      "INFO:TATSSI.qa.EOS.quality:Decoding QA layer Mixed Clouds...\n",
      "INFO:TATSSI.qa.EOS.quality:Decoding QA layer Land/Water Mask...\n",
      "INFO:TATSSI.qa.EOS.quality:Decoding QA layer Possible snow/ice...\n",
      "INFO:TATSSI.qa.EOS.quality:Decoding QA layer Possible shadow...\n",
      "INFO:TATSSI.qa.EOS.quality:Decoding finished.\n",
      "INFO:TATSSI.qa.EOS.quality:Decoding MOD13A2.006...\n",
      "INFO:TATSSI.qa.EOS.quality:File /home/glopez/Projects/TATSSI/data/test_gee/1_km_16_days_VI_Quality/MOD13A2.2014_09_30.006.1_km_16_days_VI_Quality.tif\n",
      "INFO:TATSSI.qa.EOS.quality:Decoding QA layer MODLAND...\n",
      "INFO:TATSSI.qa.EOS.quality:Decoding QA layer VI Usefulness...\n",
      "INFO:TATSSI.qa.EOS.quality:Decoding QA layer Aerosol Quantity...\n",
      "INFO:TATSSI.qa.EOS.quality:Decoding QA layer Adjacent cloud detected...\n",
      "INFO:TATSSI.qa.EOS.quality:Decoding QA layer Atmosphere BRDF Correction...\n",
      "INFO:TATSSI.qa.EOS.quality:Decoding QA layer Mixed Clouds...\n",
      "INFO:TATSSI.qa.EOS.quality:Decoding QA layer Land/Water Mask...\n",
      "INFO:TATSSI.qa.EOS.quality:Decoding QA layer Possible snow/ice...\n",
      "INFO:TATSSI.qa.EOS.quality:Decoding QA layer Possible shadow...\n",
      "INFO:TATSSI.qa.EOS.quality:Decoding finished.\n",
      "INFO:TATSSI.qa.EOS.quality:Decoding MOD13A2.006...\n",
      "INFO:TATSSI.qa.EOS.quality:File /home/glopez/Projects/TATSSI/data/test_gee/1_km_16_days_VI_Quality/MOD13A2.2014_10_16.006.1_km_16_days_VI_Quality.tif\n",
      "INFO:TATSSI.qa.EOS.quality:Decoding QA layer MODLAND...\n",
      "INFO:TATSSI.qa.EOS.quality:Decoding QA layer VI Usefulness...\n",
      "INFO:TATSSI.qa.EOS.quality:Decoding QA layer Aerosol Quantity...\n",
      "INFO:TATSSI.qa.EOS.quality:Decoding QA layer Adjacent cloud detected...\n",
      "INFO:TATSSI.qa.EOS.quality:Decoding QA layer Atmosphere BRDF Correction...\n",
      "INFO:TATSSI.qa.EOS.quality:Decoding QA layer Mixed Clouds...\n",
      "INFO:TATSSI.qa.EOS.quality:Decoding QA layer Land/Water Mask...\n",
      "INFO:TATSSI.qa.EOS.quality:Decoding QA layer Possible snow/ice...\n",
      "INFO:TATSSI.qa.EOS.quality:Decoding QA layer Possible shadow...\n",
      "INFO:TATSSI.qa.EOS.quality:Decoding finished.\n",
      "INFO:TATSSI.qa.EOS.quality:Decoding MOD13A2.006...\n",
      "INFO:TATSSI.qa.EOS.quality:File /home/glopez/Projects/TATSSI/data/test_gee/1_km_16_days_VI_Quality/MOD13A2.2014_11_01.006.1_km_16_days_VI_Quality.tif\n",
      "INFO:TATSSI.qa.EOS.quality:Decoding QA layer MODLAND...\n",
      "INFO:TATSSI.qa.EOS.quality:Decoding QA layer VI Usefulness...\n",
      "INFO:TATSSI.qa.EOS.quality:Decoding QA layer Aerosol Quantity...\n",
      "INFO:TATSSI.qa.EOS.quality:Decoding QA layer Adjacent cloud detected...\n",
      "INFO:TATSSI.qa.EOS.quality:Decoding QA layer Atmosphere BRDF Correction...\n",
      "INFO:TATSSI.qa.EOS.quality:Decoding QA layer Mixed Clouds...\n",
      "INFO:TATSSI.qa.EOS.quality:Decoding QA layer Land/Water Mask...\n",
      "INFO:TATSSI.qa.EOS.quality:Decoding QA layer Possible snow/ice...\n",
      "INFO:TATSSI.qa.EOS.quality:Decoding QA layer Possible shadow...\n",
      "INFO:TATSSI.qa.EOS.quality:Decoding finished.\n",
      "INFO:TATSSI.qa.EOS.quality:Decoding MOD13A2.006...\n",
      "INFO:TATSSI.qa.EOS.quality:File /home/glopez/Projects/TATSSI/data/test_gee/1_km_16_days_VI_Quality/MOD13A2.2014_11_17.006.1_km_16_days_VI_Quality.tif\n"
     ]
    },
    {
     "name": "stderr",
     "output_type": "stream",
     "text": [
      "INFO:TATSSI.qa.EOS.quality:Decoding QA layer MODLAND...\n",
      "INFO:TATSSI.qa.EOS.quality:Decoding QA layer VI Usefulness...\n",
      "INFO:TATSSI.qa.EOS.quality:Decoding QA layer Aerosol Quantity...\n",
      "INFO:TATSSI.qa.EOS.quality:Decoding QA layer Adjacent cloud detected...\n",
      "INFO:TATSSI.qa.EOS.quality:Decoding QA layer Atmosphere BRDF Correction...\n",
      "INFO:TATSSI.qa.EOS.quality:Decoding QA layer Mixed Clouds...\n",
      "INFO:TATSSI.qa.EOS.quality:Decoding QA layer Land/Water Mask...\n",
      "INFO:TATSSI.qa.EOS.quality:Decoding QA layer Possible snow/ice...\n",
      "INFO:TATSSI.qa.EOS.quality:Decoding QA layer Possible shadow...\n",
      "INFO:TATSSI.qa.EOS.quality:Decoding finished.\n",
      "INFO:TATSSI.qa.EOS.quality:Decoding MOD13A2.006...\n",
      "INFO:TATSSI.qa.EOS.quality:File /home/glopez/Projects/TATSSI/data/test_gee/1_km_16_days_VI_Quality/MOD13A2.2014_12_03.006.1_km_16_days_VI_Quality.tif\n",
      "INFO:TATSSI.qa.EOS.quality:Decoding QA layer MODLAND...\n",
      "INFO:TATSSI.qa.EOS.quality:Decoding QA layer VI Usefulness...\n",
      "INFO:TATSSI.qa.EOS.quality:Decoding QA layer Aerosol Quantity...\n",
      "INFO:TATSSI.qa.EOS.quality:Decoding QA layer Adjacent cloud detected...\n",
      "INFO:TATSSI.qa.EOS.quality:Decoding QA layer Atmosphere BRDF Correction...\n",
      "INFO:TATSSI.qa.EOS.quality:Decoding QA layer Mixed Clouds...\n",
      "INFO:TATSSI.qa.EOS.quality:Decoding QA layer Land/Water Mask...\n",
      "INFO:TATSSI.qa.EOS.quality:Decoding QA layer Possible snow/ice...\n",
      "INFO:TATSSI.qa.EOS.quality:Decoding QA layer Possible shadow...\n",
      "INFO:TATSSI.qa.EOS.quality:Decoding finished.\n",
      "INFO:TATSSI.qa.EOS.quality:Decoding MOD13A2.006...\n",
      "INFO:TATSSI.qa.EOS.quality:File /home/glopez/Projects/TATSSI/data/test_gee/1_km_16_days_VI_Quality/MOD13A2.2014_12_19.006.1_km_16_days_VI_Quality.tif\n",
      "INFO:TATSSI.qa.EOS.quality:Decoding QA layer MODLAND...\n",
      "INFO:TATSSI.qa.EOS.quality:Decoding QA layer VI Usefulness...\n",
      "INFO:TATSSI.qa.EOS.quality:Decoding QA layer Aerosol Quantity...\n",
      "INFO:TATSSI.qa.EOS.quality:Decoding QA layer Adjacent cloud detected...\n",
      "INFO:TATSSI.qa.EOS.quality:Decoding QA layer Atmosphere BRDF Correction...\n",
      "INFO:TATSSI.qa.EOS.quality:Decoding QA layer Mixed Clouds...\n",
      "INFO:TATSSI.qa.EOS.quality:Decoding QA layer Land/Water Mask...\n",
      "INFO:TATSSI.qa.EOS.quality:Decoding QA layer Possible snow/ice...\n",
      "INFO:TATSSI.qa.EOS.quality:Decoding QA layer Possible shadow...\n",
      "INFO:TATSSI.qa.EOS.quality:Decoding finished.\n",
      "INFO:TATSSI.qa.EOS.quality:Decoding MOD13A2.006...\n",
      "INFO:TATSSI.qa.EOS.quality:File /home/glopez/Projects/TATSSI/data/test_gee/1_km_16_days_VI_Quality/MOD13A2.2015_01_01.006.1_km_16_days_VI_Quality.tif\n",
      "INFO:TATSSI.qa.EOS.quality:Decoding QA layer MODLAND...\n",
      "INFO:TATSSI.qa.EOS.quality:Decoding QA layer VI Usefulness...\n",
      "INFO:TATSSI.qa.EOS.quality:Decoding QA layer Aerosol Quantity...\n",
      "INFO:TATSSI.qa.EOS.quality:Decoding QA layer Adjacent cloud detected...\n",
      "INFO:TATSSI.qa.EOS.quality:Decoding QA layer Atmosphere BRDF Correction...\n",
      "INFO:TATSSI.qa.EOS.quality:Decoding QA layer Mixed Clouds...\n",
      "INFO:TATSSI.qa.EOS.quality:Decoding QA layer Land/Water Mask...\n",
      "INFO:TATSSI.qa.EOS.quality:Decoding QA layer Possible snow/ice...\n",
      "INFO:TATSSI.qa.EOS.quality:Decoding QA layer Possible shadow...\n",
      "INFO:TATSSI.qa.EOS.quality:Decoding finished.\n",
      "INFO:TATSSI.qa.EOS.quality:Decoding MOD13A2.006...\n",
      "INFO:TATSSI.qa.EOS.quality:File /home/glopez/Projects/TATSSI/data/test_gee/1_km_16_days_VI_Quality/MOD13A2.2015_01_17.006.1_km_16_days_VI_Quality.tif\n",
      "INFO:TATSSI.qa.EOS.quality:Decoding QA layer MODLAND...\n",
      "INFO:TATSSI.qa.EOS.quality:Decoding QA layer VI Usefulness...\n",
      "INFO:TATSSI.qa.EOS.quality:Decoding QA layer Aerosol Quantity...\n",
      "INFO:TATSSI.qa.EOS.quality:Decoding QA layer Adjacent cloud detected...\n",
      "INFO:TATSSI.qa.EOS.quality:Decoding QA layer Atmosphere BRDF Correction...\n",
      "INFO:TATSSI.qa.EOS.quality:Decoding QA layer Mixed Clouds...\n",
      "INFO:TATSSI.qa.EOS.quality:Decoding QA layer Land/Water Mask...\n",
      "INFO:TATSSI.qa.EOS.quality:Decoding QA layer Possible snow/ice...\n",
      "INFO:TATSSI.qa.EOS.quality:Decoding QA layer Possible shadow...\n",
      "INFO:TATSSI.qa.EOS.quality:Decoding finished.\n",
      "INFO:TATSSI.qa.EOS.quality:Decoding MOD13A2.006...\n",
      "INFO:TATSSI.qa.EOS.quality:File /home/glopez/Projects/TATSSI/data/test_gee/1_km_16_days_VI_Quality/MOD13A2.2015_02_02.006.1_km_16_days_VI_Quality.tif\n",
      "INFO:TATSSI.qa.EOS.quality:Decoding QA layer MODLAND...\n",
      "INFO:TATSSI.qa.EOS.quality:Decoding QA layer VI Usefulness...\n",
      "INFO:TATSSI.qa.EOS.quality:Decoding QA layer Aerosol Quantity...\n",
      "INFO:TATSSI.qa.EOS.quality:Decoding QA layer Adjacent cloud detected...\n",
      "INFO:TATSSI.qa.EOS.quality:Decoding QA layer Atmosphere BRDF Correction...\n",
      "INFO:TATSSI.qa.EOS.quality:Decoding QA layer Mixed Clouds...\n",
      "INFO:TATSSI.qa.EOS.quality:Decoding QA layer Land/Water Mask...\n",
      "INFO:TATSSI.qa.EOS.quality:Decoding QA layer Possible snow/ice...\n",
      "INFO:TATSSI.qa.EOS.quality:Decoding QA layer Possible shadow...\n",
      "INFO:TATSSI.qa.EOS.quality:Decoding finished.\n",
      "INFO:TATSSI.qa.EOS.quality:Decoding MOD13A2.006...\n",
      "INFO:TATSSI.qa.EOS.quality:File /home/glopez/Projects/TATSSI/data/test_gee/1_km_16_days_VI_Quality/MOD13A2.2015_02_18.006.1_km_16_days_VI_Quality.tif\n",
      "INFO:TATSSI.qa.EOS.quality:Decoding QA layer MODLAND...\n",
      "INFO:TATSSI.qa.EOS.quality:Decoding QA layer VI Usefulness...\n",
      "INFO:TATSSI.qa.EOS.quality:Decoding QA layer Aerosol Quantity...\n",
      "INFO:TATSSI.qa.EOS.quality:Decoding QA layer Adjacent cloud detected...\n",
      "INFO:TATSSI.qa.EOS.quality:Decoding QA layer Atmosphere BRDF Correction...\n",
      "INFO:TATSSI.qa.EOS.quality:Decoding QA layer Mixed Clouds...\n",
      "INFO:TATSSI.qa.EOS.quality:Decoding QA layer Land/Water Mask...\n",
      "INFO:TATSSI.qa.EOS.quality:Decoding QA layer Possible snow/ice...\n",
      "INFO:TATSSI.qa.EOS.quality:Decoding QA layer Possible shadow...\n",
      "INFO:TATSSI.qa.EOS.quality:Decoding finished.\n",
      "INFO:TATSSI.qa.EOS.quality:Decoding MOD13A2.006...\n",
      "INFO:TATSSI.qa.EOS.quality:File /home/glopez/Projects/TATSSI/data/test_gee/1_km_16_days_VI_Quality/MOD13A2.2015_03_06.006.1_km_16_days_VI_Quality.tif\n",
      "INFO:TATSSI.qa.EOS.quality:Decoding QA layer MODLAND...\n",
      "INFO:TATSSI.qa.EOS.quality:Decoding QA layer VI Usefulness...\n",
      "INFO:TATSSI.qa.EOS.quality:Decoding QA layer Aerosol Quantity...\n",
      "INFO:TATSSI.qa.EOS.quality:Decoding QA layer Adjacent cloud detected...\n",
      "INFO:TATSSI.qa.EOS.quality:Decoding QA layer Atmosphere BRDF Correction...\n",
      "INFO:TATSSI.qa.EOS.quality:Decoding QA layer Mixed Clouds...\n",
      "INFO:TATSSI.qa.EOS.quality:Decoding QA layer Land/Water Mask...\n",
      "INFO:TATSSI.qa.EOS.quality:Decoding QA layer Possible snow/ice...\n",
      "INFO:TATSSI.qa.EOS.quality:Decoding QA layer Possible shadow...\n",
      "INFO:TATSSI.qa.EOS.quality:Decoding finished.\n",
      "INFO:TATSSI.qa.EOS.quality:Decoding MOD13A2.006...\n",
      "INFO:TATSSI.qa.EOS.quality:File /home/glopez/Projects/TATSSI/data/test_gee/1_km_16_days_VI_Quality/MOD13A2.2015_03_22.006.1_km_16_days_VI_Quality.tif\n",
      "INFO:TATSSI.qa.EOS.quality:Decoding QA layer MODLAND...\n",
      "INFO:TATSSI.qa.EOS.quality:Decoding QA layer VI Usefulness...\n",
      "INFO:TATSSI.qa.EOS.quality:Decoding QA layer Aerosol Quantity...\n",
      "INFO:TATSSI.qa.EOS.quality:Decoding QA layer Adjacent cloud detected...\n",
      "INFO:TATSSI.qa.EOS.quality:Decoding QA layer Atmosphere BRDF Correction...\n",
      "INFO:TATSSI.qa.EOS.quality:Decoding QA layer Mixed Clouds...\n",
      "INFO:TATSSI.qa.EOS.quality:Decoding QA layer Land/Water Mask...\n",
      "INFO:TATSSI.qa.EOS.quality:Decoding QA layer Possible snow/ice...\n",
      "INFO:TATSSI.qa.EOS.quality:Decoding QA layer Possible shadow...\n",
      "INFO:TATSSI.qa.EOS.quality:Decoding finished.\n",
      "INFO:TATSSI.qa.EOS.quality:Decoding MOD13A2.006...\n",
      "INFO:TATSSI.qa.EOS.quality:File /home/glopez/Projects/TATSSI/data/test_gee/1_km_16_days_VI_Quality/MOD13A2.2015_04_07.006.1_km_16_days_VI_Quality.tif\n",
      "INFO:TATSSI.qa.EOS.quality:Decoding QA layer MODLAND...\n",
      "INFO:TATSSI.qa.EOS.quality:Decoding QA layer VI Usefulness...\n",
      "INFO:TATSSI.qa.EOS.quality:Decoding QA layer Aerosol Quantity...\n",
      "INFO:TATSSI.qa.EOS.quality:Decoding QA layer Adjacent cloud detected...\n",
      "INFO:TATSSI.qa.EOS.quality:Decoding QA layer Atmosphere BRDF Correction...\n",
      "INFO:TATSSI.qa.EOS.quality:Decoding QA layer Mixed Clouds...\n",
      "INFO:TATSSI.qa.EOS.quality:Decoding QA layer Land/Water Mask...\n",
      "INFO:TATSSI.qa.EOS.quality:Decoding QA layer Possible snow/ice...\n",
      "INFO:TATSSI.qa.EOS.quality:Decoding QA layer Possible shadow...\n",
      "INFO:TATSSI.qa.EOS.quality:Decoding finished.\n",
      "INFO:TATSSI.qa.EOS.quality:Decoding MOD13A2.006...\n",
      "INFO:TATSSI.qa.EOS.quality:File /home/glopez/Projects/TATSSI/data/test_gee/1_km_16_days_VI_Quality/MOD13A2.2015_04_23.006.1_km_16_days_VI_Quality.tif\n"
     ]
    },
    {
     "name": "stderr",
     "output_type": "stream",
     "text": [
      "INFO:TATSSI.qa.EOS.quality:Decoding QA layer MODLAND...\n",
      "INFO:TATSSI.qa.EOS.quality:Decoding QA layer VI Usefulness...\n",
      "INFO:TATSSI.qa.EOS.quality:Decoding QA layer Aerosol Quantity...\n",
      "INFO:TATSSI.qa.EOS.quality:Decoding QA layer Adjacent cloud detected...\n",
      "INFO:TATSSI.qa.EOS.quality:Decoding QA layer Atmosphere BRDF Correction...\n",
      "INFO:TATSSI.qa.EOS.quality:Decoding QA layer Mixed Clouds...\n",
      "INFO:TATSSI.qa.EOS.quality:Decoding QA layer Land/Water Mask...\n",
      "INFO:TATSSI.qa.EOS.quality:Decoding QA layer Possible snow/ice...\n",
      "INFO:TATSSI.qa.EOS.quality:Decoding QA layer Possible shadow...\n",
      "INFO:TATSSI.qa.EOS.quality:Decoding finished.\n",
      "INFO:TATSSI.qa.EOS.quality:Decoding MOD13A2.006...\n",
      "INFO:TATSSI.qa.EOS.quality:File /home/glopez/Projects/TATSSI/data/test_gee/1_km_16_days_VI_Quality/MOD13A2.2015_05_09.006.1_km_16_days_VI_Quality.tif\n",
      "INFO:TATSSI.qa.EOS.quality:Decoding QA layer MODLAND...\n",
      "INFO:TATSSI.qa.EOS.quality:Decoding QA layer VI Usefulness...\n",
      "INFO:TATSSI.qa.EOS.quality:Decoding QA layer Aerosol Quantity...\n",
      "INFO:TATSSI.qa.EOS.quality:Decoding QA layer Adjacent cloud detected...\n",
      "INFO:TATSSI.qa.EOS.quality:Decoding QA layer Atmosphere BRDF Correction...\n",
      "INFO:TATSSI.qa.EOS.quality:Decoding QA layer Mixed Clouds...\n",
      "INFO:TATSSI.qa.EOS.quality:Decoding QA layer Land/Water Mask...\n",
      "INFO:TATSSI.qa.EOS.quality:Decoding QA layer Possible snow/ice...\n",
      "INFO:TATSSI.qa.EOS.quality:Decoding QA layer Possible shadow...\n",
      "INFO:TATSSI.qa.EOS.quality:Decoding finished.\n",
      "INFO:TATSSI.qa.EOS.quality:Decoding MOD13A2.006...\n",
      "INFO:TATSSI.qa.EOS.quality:File /home/glopez/Projects/TATSSI/data/test_gee/1_km_16_days_VI_Quality/MOD13A2.2015_05_25.006.1_km_16_days_VI_Quality.tif\n",
      "INFO:TATSSI.qa.EOS.quality:Decoding QA layer MODLAND...\n",
      "INFO:TATSSI.qa.EOS.quality:Decoding QA layer VI Usefulness...\n",
      "INFO:TATSSI.qa.EOS.quality:Decoding QA layer Aerosol Quantity...\n",
      "INFO:TATSSI.qa.EOS.quality:Decoding QA layer Adjacent cloud detected...\n",
      "INFO:TATSSI.qa.EOS.quality:Decoding QA layer Atmosphere BRDF Correction...\n",
      "INFO:TATSSI.qa.EOS.quality:Decoding QA layer Mixed Clouds...\n",
      "INFO:TATSSI.qa.EOS.quality:Decoding QA layer Land/Water Mask...\n",
      "INFO:TATSSI.qa.EOS.quality:Decoding QA layer Possible snow/ice...\n",
      "INFO:TATSSI.qa.EOS.quality:Decoding QA layer Possible shadow...\n",
      "INFO:TATSSI.qa.EOS.quality:Decoding finished.\n",
      "INFO:TATSSI.qa.EOS.quality:Decoding MOD13A2.006...\n",
      "INFO:TATSSI.qa.EOS.quality:File /home/glopez/Projects/TATSSI/data/test_gee/1_km_16_days_VI_Quality/MOD13A2.2015_06_10.006.1_km_16_days_VI_Quality.tif\n",
      "INFO:TATSSI.qa.EOS.quality:Decoding QA layer MODLAND...\n",
      "INFO:TATSSI.qa.EOS.quality:Decoding QA layer VI Usefulness...\n",
      "INFO:TATSSI.qa.EOS.quality:Decoding QA layer Aerosol Quantity...\n",
      "INFO:TATSSI.qa.EOS.quality:Decoding QA layer Adjacent cloud detected...\n",
      "INFO:TATSSI.qa.EOS.quality:Decoding QA layer Atmosphere BRDF Correction...\n",
      "INFO:TATSSI.qa.EOS.quality:Decoding QA layer Mixed Clouds...\n",
      "INFO:TATSSI.qa.EOS.quality:Decoding QA layer Land/Water Mask...\n",
      "INFO:TATSSI.qa.EOS.quality:Decoding QA layer Possible snow/ice...\n",
      "INFO:TATSSI.qa.EOS.quality:Decoding QA layer Possible shadow...\n",
      "INFO:TATSSI.qa.EOS.quality:Decoding finished.\n",
      "INFO:TATSSI.qa.EOS.quality:Decoding MOD13A2.006...\n",
      "INFO:TATSSI.qa.EOS.quality:File /home/glopez/Projects/TATSSI/data/test_gee/1_km_16_days_VI_Quality/MOD13A2.2015_06_26.006.1_km_16_days_VI_Quality.tif\n",
      "INFO:TATSSI.qa.EOS.quality:Decoding QA layer MODLAND...\n",
      "INFO:TATSSI.qa.EOS.quality:Decoding QA layer VI Usefulness...\n",
      "INFO:TATSSI.qa.EOS.quality:Decoding QA layer Aerosol Quantity...\n",
      "INFO:TATSSI.qa.EOS.quality:Decoding QA layer Adjacent cloud detected...\n",
      "INFO:TATSSI.qa.EOS.quality:Decoding QA layer Atmosphere BRDF Correction...\n",
      "INFO:TATSSI.qa.EOS.quality:Decoding QA layer Mixed Clouds...\n",
      "INFO:TATSSI.qa.EOS.quality:Decoding QA layer Land/Water Mask...\n",
      "INFO:TATSSI.qa.EOS.quality:Decoding QA layer Possible snow/ice...\n",
      "INFO:TATSSI.qa.EOS.quality:Decoding QA layer Possible shadow...\n",
      "INFO:TATSSI.qa.EOS.quality:Decoding finished.\n",
      "INFO:TATSSI.qa.EOS.quality:Decoding MOD13A2.006...\n",
      "INFO:TATSSI.qa.EOS.quality:File /home/glopez/Projects/TATSSI/data/test_gee/1_km_16_days_VI_Quality/MOD13A2.2015_07_12.006.1_km_16_days_VI_Quality.tif\n",
      "INFO:TATSSI.qa.EOS.quality:Decoding QA layer MODLAND...\n",
      "INFO:TATSSI.qa.EOS.quality:Decoding QA layer VI Usefulness...\n",
      "INFO:TATSSI.qa.EOS.quality:Decoding QA layer Aerosol Quantity...\n",
      "INFO:TATSSI.qa.EOS.quality:Decoding QA layer Adjacent cloud detected...\n",
      "INFO:TATSSI.qa.EOS.quality:Decoding QA layer Atmosphere BRDF Correction...\n",
      "INFO:TATSSI.qa.EOS.quality:Decoding QA layer Mixed Clouds...\n",
      "INFO:TATSSI.qa.EOS.quality:Decoding QA layer Land/Water Mask...\n",
      "INFO:TATSSI.qa.EOS.quality:Decoding QA layer Possible snow/ice...\n",
      "INFO:TATSSI.qa.EOS.quality:Decoding QA layer Possible shadow...\n",
      "INFO:TATSSI.qa.EOS.quality:Decoding finished.\n",
      "INFO:TATSSI.qa.EOS.quality:Decoding MOD13A2.006...\n",
      "INFO:TATSSI.qa.EOS.quality:File /home/glopez/Projects/TATSSI/data/test_gee/1_km_16_days_VI_Quality/MOD13A2.2015_07_28.006.1_km_16_days_VI_Quality.tif\n",
      "INFO:TATSSI.qa.EOS.quality:Decoding QA layer MODLAND...\n",
      "INFO:TATSSI.qa.EOS.quality:Decoding QA layer VI Usefulness...\n",
      "INFO:TATSSI.qa.EOS.quality:Decoding QA layer Aerosol Quantity...\n",
      "INFO:TATSSI.qa.EOS.quality:Decoding QA layer Adjacent cloud detected...\n",
      "INFO:TATSSI.qa.EOS.quality:Decoding QA layer Atmosphere BRDF Correction...\n",
      "INFO:TATSSI.qa.EOS.quality:Decoding QA layer Mixed Clouds...\n",
      "INFO:TATSSI.qa.EOS.quality:Decoding QA layer Land/Water Mask...\n",
      "INFO:TATSSI.qa.EOS.quality:Decoding QA layer Possible snow/ice...\n",
      "INFO:TATSSI.qa.EOS.quality:Decoding QA layer Possible shadow...\n",
      "INFO:TATSSI.qa.EOS.quality:Decoding finished.\n",
      "INFO:TATSSI.qa.EOS.quality:Decoding MOD13A2.006...\n",
      "INFO:TATSSI.qa.EOS.quality:File /home/glopez/Projects/TATSSI/data/test_gee/1_km_16_days_VI_Quality/MOD13A2.2015_08_13.006.1_km_16_days_VI_Quality.tif\n",
      "INFO:TATSSI.qa.EOS.quality:Decoding QA layer MODLAND...\n",
      "INFO:TATSSI.qa.EOS.quality:Decoding QA layer VI Usefulness...\n",
      "INFO:TATSSI.qa.EOS.quality:Decoding QA layer Aerosol Quantity...\n",
      "INFO:TATSSI.qa.EOS.quality:Decoding QA layer Adjacent cloud detected...\n",
      "INFO:TATSSI.qa.EOS.quality:Decoding QA layer Atmosphere BRDF Correction...\n",
      "INFO:TATSSI.qa.EOS.quality:Decoding QA layer Mixed Clouds...\n",
      "INFO:TATSSI.qa.EOS.quality:Decoding QA layer Land/Water Mask...\n",
      "INFO:TATSSI.qa.EOS.quality:Decoding QA layer Possible snow/ice...\n",
      "INFO:TATSSI.qa.EOS.quality:Decoding QA layer Possible shadow...\n",
      "INFO:TATSSI.qa.EOS.quality:Decoding finished.\n",
      "INFO:TATSSI.qa.EOS.quality:Decoding MOD13A2.006...\n",
      "INFO:TATSSI.qa.EOS.quality:File /home/glopez/Projects/TATSSI/data/test_gee/1_km_16_days_VI_Quality/MOD13A2.2015_08_29.006.1_km_16_days_VI_Quality.tif\n",
      "INFO:TATSSI.qa.EOS.quality:Decoding QA layer MODLAND...\n",
      "INFO:TATSSI.qa.EOS.quality:Decoding QA layer VI Usefulness...\n",
      "INFO:TATSSI.qa.EOS.quality:Decoding QA layer Aerosol Quantity...\n",
      "INFO:TATSSI.qa.EOS.quality:Decoding QA layer Adjacent cloud detected...\n",
      "INFO:TATSSI.qa.EOS.quality:Decoding QA layer Atmosphere BRDF Correction...\n",
      "INFO:TATSSI.qa.EOS.quality:Decoding QA layer Mixed Clouds...\n",
      "INFO:TATSSI.qa.EOS.quality:Decoding QA layer Land/Water Mask...\n",
      "INFO:TATSSI.qa.EOS.quality:Decoding QA layer Possible snow/ice...\n",
      "INFO:TATSSI.qa.EOS.quality:Decoding QA layer Possible shadow...\n",
      "INFO:TATSSI.qa.EOS.quality:Decoding finished.\n",
      "INFO:TATSSI.qa.EOS.quality:Decoding MOD13A2.006...\n",
      "INFO:TATSSI.qa.EOS.quality:File /home/glopez/Projects/TATSSI/data/test_gee/1_km_16_days_VI_Quality/MOD13A2.2015_09_14.006.1_km_16_days_VI_Quality.tif\n",
      "INFO:TATSSI.qa.EOS.quality:Decoding QA layer MODLAND...\n",
      "INFO:TATSSI.qa.EOS.quality:Decoding QA layer VI Usefulness...\n",
      "INFO:TATSSI.qa.EOS.quality:Decoding QA layer Aerosol Quantity...\n",
      "INFO:TATSSI.qa.EOS.quality:Decoding QA layer Adjacent cloud detected...\n",
      "INFO:TATSSI.qa.EOS.quality:Decoding QA layer Atmosphere BRDF Correction...\n",
      "INFO:TATSSI.qa.EOS.quality:Decoding QA layer Mixed Clouds...\n",
      "INFO:TATSSI.qa.EOS.quality:Decoding QA layer Land/Water Mask...\n",
      "INFO:TATSSI.qa.EOS.quality:Decoding QA layer Possible snow/ice...\n",
      "INFO:TATSSI.qa.EOS.quality:Decoding QA layer Possible shadow...\n",
      "INFO:TATSSI.qa.EOS.quality:Decoding finished.\n",
      "INFO:TATSSI.qa.EOS.quality:Decoding MOD13A2.006...\n",
      "INFO:TATSSI.qa.EOS.quality:File /home/glopez/Projects/TATSSI/data/test_gee/1_km_16_days_VI_Quality/MOD13A2.2015_09_30.006.1_km_16_days_VI_Quality.tif\n"
     ]
    },
    {
     "name": "stderr",
     "output_type": "stream",
     "text": [
      "INFO:TATSSI.qa.EOS.quality:Decoding QA layer MODLAND...\n",
      "INFO:TATSSI.qa.EOS.quality:Decoding QA layer VI Usefulness...\n",
      "INFO:TATSSI.qa.EOS.quality:Decoding QA layer Aerosol Quantity...\n",
      "INFO:TATSSI.qa.EOS.quality:Decoding QA layer Adjacent cloud detected...\n",
      "INFO:TATSSI.qa.EOS.quality:Decoding QA layer Atmosphere BRDF Correction...\n",
      "INFO:TATSSI.qa.EOS.quality:Decoding QA layer Mixed Clouds...\n",
      "INFO:TATSSI.qa.EOS.quality:Decoding QA layer Land/Water Mask...\n",
      "INFO:TATSSI.qa.EOS.quality:Decoding QA layer Possible snow/ice...\n",
      "INFO:TATSSI.qa.EOS.quality:Decoding QA layer Possible shadow...\n",
      "INFO:TATSSI.qa.EOS.quality:Decoding finished.\n",
      "INFO:TATSSI.qa.EOS.quality:Decoding MOD13A2.006...\n",
      "INFO:TATSSI.qa.EOS.quality:File /home/glopez/Projects/TATSSI/data/test_gee/1_km_16_days_VI_Quality/MOD13A2.2015_10_16.006.1_km_16_days_VI_Quality.tif\n",
      "INFO:TATSSI.qa.EOS.quality:Decoding QA layer MODLAND...\n",
      "INFO:TATSSI.qa.EOS.quality:Decoding QA layer VI Usefulness...\n",
      "INFO:TATSSI.qa.EOS.quality:Decoding QA layer Aerosol Quantity...\n",
      "INFO:TATSSI.qa.EOS.quality:Decoding QA layer Adjacent cloud detected...\n",
      "INFO:TATSSI.qa.EOS.quality:Decoding QA layer Atmosphere BRDF Correction...\n",
      "INFO:TATSSI.qa.EOS.quality:Decoding QA layer Mixed Clouds...\n",
      "INFO:TATSSI.qa.EOS.quality:Decoding QA layer Land/Water Mask...\n",
      "INFO:TATSSI.qa.EOS.quality:Decoding QA layer Possible snow/ice...\n",
      "INFO:TATSSI.qa.EOS.quality:Decoding QA layer Possible shadow...\n",
      "INFO:TATSSI.qa.EOS.quality:Decoding finished.\n",
      "INFO:TATSSI.qa.EOS.quality:Decoding MOD13A2.006...\n",
      "INFO:TATSSI.qa.EOS.quality:File /home/glopez/Projects/TATSSI/data/test_gee/1_km_16_days_VI_Quality/MOD13A2.2015_11_01.006.1_km_16_days_VI_Quality.tif\n",
      "INFO:TATSSI.qa.EOS.quality:Decoding QA layer MODLAND...\n",
      "INFO:TATSSI.qa.EOS.quality:Decoding QA layer VI Usefulness...\n",
      "INFO:TATSSI.qa.EOS.quality:Decoding QA layer Aerosol Quantity...\n",
      "INFO:TATSSI.qa.EOS.quality:Decoding QA layer Adjacent cloud detected...\n",
      "INFO:TATSSI.qa.EOS.quality:Decoding QA layer Atmosphere BRDF Correction...\n",
      "INFO:TATSSI.qa.EOS.quality:Decoding QA layer Mixed Clouds...\n",
      "INFO:TATSSI.qa.EOS.quality:Decoding QA layer Land/Water Mask...\n",
      "INFO:TATSSI.qa.EOS.quality:Decoding QA layer Possible snow/ice...\n",
      "INFO:TATSSI.qa.EOS.quality:Decoding QA layer Possible shadow...\n",
      "INFO:TATSSI.qa.EOS.quality:Decoding finished.\n",
      "INFO:TATSSI.qa.EOS.quality:Decoding MOD13A2.006...\n",
      "INFO:TATSSI.qa.EOS.quality:File /home/glopez/Projects/TATSSI/data/test_gee/1_km_16_days_VI_Quality/MOD13A2.2015_11_17.006.1_km_16_days_VI_Quality.tif\n",
      "INFO:TATSSI.qa.EOS.quality:Decoding QA layer MODLAND...\n",
      "INFO:TATSSI.qa.EOS.quality:Decoding QA layer VI Usefulness...\n",
      "INFO:TATSSI.qa.EOS.quality:Decoding QA layer Aerosol Quantity...\n",
      "INFO:TATSSI.qa.EOS.quality:Decoding QA layer Adjacent cloud detected...\n",
      "INFO:TATSSI.qa.EOS.quality:Decoding QA layer Atmosphere BRDF Correction...\n",
      "INFO:TATSSI.qa.EOS.quality:Decoding QA layer Mixed Clouds...\n",
      "INFO:TATSSI.qa.EOS.quality:Decoding QA layer Land/Water Mask...\n",
      "INFO:TATSSI.qa.EOS.quality:Decoding QA layer Possible snow/ice...\n",
      "INFO:TATSSI.qa.EOS.quality:Decoding QA layer Possible shadow...\n",
      "INFO:TATSSI.qa.EOS.quality:Decoding finished.\n",
      "INFO:TATSSI.qa.EOS.quality:Decoding MOD13A2.006...\n",
      "INFO:TATSSI.qa.EOS.quality:File /home/glopez/Projects/TATSSI/data/test_gee/1_km_16_days_VI_Quality/MOD13A2.2015_12_03.006.1_km_16_days_VI_Quality.tif\n",
      "INFO:TATSSI.qa.EOS.quality:Decoding QA layer MODLAND...\n",
      "INFO:TATSSI.qa.EOS.quality:Decoding QA layer VI Usefulness...\n",
      "INFO:TATSSI.qa.EOS.quality:Decoding QA layer Aerosol Quantity...\n",
      "INFO:TATSSI.qa.EOS.quality:Decoding QA layer Adjacent cloud detected...\n",
      "INFO:TATSSI.qa.EOS.quality:Decoding QA layer Atmosphere BRDF Correction...\n",
      "INFO:TATSSI.qa.EOS.quality:Decoding QA layer Mixed Clouds...\n",
      "INFO:TATSSI.qa.EOS.quality:Decoding QA layer Land/Water Mask...\n",
      "INFO:TATSSI.qa.EOS.quality:Decoding QA layer Possible snow/ice...\n",
      "INFO:TATSSI.qa.EOS.quality:Decoding QA layer Possible shadow...\n",
      "INFO:TATSSI.qa.EOS.quality:Decoding finished.\n",
      "INFO:TATSSI.qa.EOS.quality:Decoding MOD13A2.006...\n",
      "INFO:TATSSI.qa.EOS.quality:File /home/glopez/Projects/TATSSI/data/test_gee/1_km_16_days_VI_Quality/MOD13A2.2015_12_19.006.1_km_16_days_VI_Quality.tif\n",
      "INFO:TATSSI.qa.EOS.quality:Decoding QA layer MODLAND...\n",
      "INFO:TATSSI.qa.EOS.quality:Decoding QA layer VI Usefulness...\n",
      "INFO:TATSSI.qa.EOS.quality:Decoding QA layer Aerosol Quantity...\n",
      "INFO:TATSSI.qa.EOS.quality:Decoding QA layer Adjacent cloud detected...\n",
      "INFO:TATSSI.qa.EOS.quality:Decoding QA layer Atmosphere BRDF Correction...\n",
      "INFO:TATSSI.qa.EOS.quality:Decoding QA layer Mixed Clouds...\n",
      "INFO:TATSSI.qa.EOS.quality:Decoding QA layer Land/Water Mask...\n",
      "INFO:TATSSI.qa.EOS.quality:Decoding QA layer Possible snow/ice...\n",
      "INFO:TATSSI.qa.EOS.quality:Decoding QA layer Possible shadow...\n",
      "INFO:TATSSI.qa.EOS.quality:Decoding finished.\n",
      "INFO:TATSSI.qa.EOS.quality:Decoding MOD13A2.006...\n",
      "INFO:TATSSI.qa.EOS.quality:File /home/glopez/Projects/TATSSI/data/test_gee/1_km_16_days_VI_Quality/MOD13A2.2016_01_01.006.1_km_16_days_VI_Quality.tif\n",
      "INFO:TATSSI.qa.EOS.quality:Decoding QA layer MODLAND...\n",
      "INFO:TATSSI.qa.EOS.quality:Decoding QA layer VI Usefulness...\n",
      "INFO:TATSSI.qa.EOS.quality:Decoding QA layer Aerosol Quantity...\n",
      "INFO:TATSSI.qa.EOS.quality:Decoding QA layer Adjacent cloud detected...\n",
      "INFO:TATSSI.qa.EOS.quality:Decoding QA layer Atmosphere BRDF Correction...\n",
      "INFO:TATSSI.qa.EOS.quality:Decoding QA layer Mixed Clouds...\n",
      "INFO:TATSSI.qa.EOS.quality:Decoding QA layer Land/Water Mask...\n",
      "INFO:TATSSI.qa.EOS.quality:Decoding QA layer Possible snow/ice...\n",
      "INFO:TATSSI.qa.EOS.quality:Decoding QA layer Possible shadow...\n",
      "INFO:TATSSI.qa.EOS.quality:Decoding finished.\n",
      "INFO:TATSSI.qa.EOS.quality:Decoding MOD13A2.006...\n",
      "INFO:TATSSI.qa.EOS.quality:File /home/glopez/Projects/TATSSI/data/test_gee/1_km_16_days_VI_Quality/MOD13A2.2016_01_17.006.1_km_16_days_VI_Quality.tif\n",
      "INFO:TATSSI.qa.EOS.quality:Decoding QA layer MODLAND...\n",
      "INFO:TATSSI.qa.EOS.quality:Decoding QA layer VI Usefulness...\n",
      "INFO:TATSSI.qa.EOS.quality:Decoding QA layer Aerosol Quantity...\n",
      "INFO:TATSSI.qa.EOS.quality:Decoding QA layer Adjacent cloud detected...\n",
      "INFO:TATSSI.qa.EOS.quality:Decoding QA layer Atmosphere BRDF Correction...\n",
      "INFO:TATSSI.qa.EOS.quality:Decoding QA layer Mixed Clouds...\n",
      "INFO:TATSSI.qa.EOS.quality:Decoding QA layer Land/Water Mask...\n",
      "INFO:TATSSI.qa.EOS.quality:Decoding QA layer Possible snow/ice...\n",
      "INFO:TATSSI.qa.EOS.quality:Decoding QA layer Possible shadow...\n",
      "INFO:TATSSI.qa.EOS.quality:Decoding finished.\n",
      "INFO:TATSSI.qa.EOS.quality:Decoding MOD13A2.006...\n",
      "INFO:TATSSI.qa.EOS.quality:File /home/glopez/Projects/TATSSI/data/test_gee/1_km_16_days_VI_Quality/MOD13A2.2016_02_02.006.1_km_16_days_VI_Quality.tif\n",
      "INFO:TATSSI.qa.EOS.quality:Decoding QA layer MODLAND...\n",
      "INFO:TATSSI.qa.EOS.quality:Decoding QA layer VI Usefulness...\n",
      "INFO:TATSSI.qa.EOS.quality:Decoding QA layer Aerosol Quantity...\n",
      "INFO:TATSSI.qa.EOS.quality:Decoding QA layer Adjacent cloud detected...\n",
      "INFO:TATSSI.qa.EOS.quality:Decoding QA layer Atmosphere BRDF Correction...\n",
      "INFO:TATSSI.qa.EOS.quality:Decoding QA layer Mixed Clouds...\n",
      "INFO:TATSSI.qa.EOS.quality:Decoding QA layer Land/Water Mask...\n",
      "INFO:TATSSI.qa.EOS.quality:Decoding QA layer Possible snow/ice...\n",
      "INFO:TATSSI.qa.EOS.quality:Decoding QA layer Possible shadow...\n",
      "INFO:TATSSI.qa.EOS.quality:Decoding finished.\n",
      "INFO:TATSSI.qa.EOS.quality:Decoding MOD13A2.006...\n",
      "INFO:TATSSI.qa.EOS.quality:File /home/glopez/Projects/TATSSI/data/test_gee/1_km_16_days_VI_Quality/MOD13A2.2016_02_18.006.1_km_16_days_VI_Quality.tif\n",
      "INFO:TATSSI.qa.EOS.quality:Decoding QA layer MODLAND...\n",
      "INFO:TATSSI.qa.EOS.quality:Decoding QA layer VI Usefulness...\n",
      "INFO:TATSSI.qa.EOS.quality:Decoding QA layer Aerosol Quantity...\n",
      "INFO:TATSSI.qa.EOS.quality:Decoding QA layer Adjacent cloud detected...\n",
      "INFO:TATSSI.qa.EOS.quality:Decoding QA layer Atmosphere BRDF Correction...\n",
      "INFO:TATSSI.qa.EOS.quality:Decoding QA layer Mixed Clouds...\n",
      "INFO:TATSSI.qa.EOS.quality:Decoding QA layer Land/Water Mask...\n",
      "INFO:TATSSI.qa.EOS.quality:Decoding QA layer Possible snow/ice...\n",
      "INFO:TATSSI.qa.EOS.quality:Decoding QA layer Possible shadow...\n",
      "INFO:TATSSI.qa.EOS.quality:Decoding finished.\n",
      "INFO:TATSSI.qa.EOS.quality:Decoding MOD13A2.006...\n",
      "INFO:TATSSI.qa.EOS.quality:File /home/glopez/Projects/TATSSI/data/test_gee/1_km_16_days_VI_Quality/MOD13A2.2016_03_05.006.1_km_16_days_VI_Quality.tif\n"
     ]
    },
    {
     "name": "stderr",
     "output_type": "stream",
     "text": [
      "INFO:TATSSI.qa.EOS.quality:Decoding QA layer MODLAND...\n",
      "INFO:TATSSI.qa.EOS.quality:Decoding QA layer VI Usefulness...\n",
      "INFO:TATSSI.qa.EOS.quality:Decoding QA layer Aerosol Quantity...\n",
      "INFO:TATSSI.qa.EOS.quality:Decoding QA layer Adjacent cloud detected...\n",
      "INFO:TATSSI.qa.EOS.quality:Decoding QA layer Atmosphere BRDF Correction...\n",
      "INFO:TATSSI.qa.EOS.quality:Decoding QA layer Mixed Clouds...\n",
      "INFO:TATSSI.qa.EOS.quality:Decoding QA layer Land/Water Mask...\n",
      "INFO:TATSSI.qa.EOS.quality:Decoding QA layer Possible snow/ice...\n",
      "INFO:TATSSI.qa.EOS.quality:Decoding QA layer Possible shadow...\n",
      "INFO:TATSSI.qa.EOS.quality:Decoding finished.\n",
      "INFO:TATSSI.qa.EOS.quality:Decoding MOD13A2.006...\n",
      "INFO:TATSSI.qa.EOS.quality:File /home/glopez/Projects/TATSSI/data/test_gee/1_km_16_days_VI_Quality/MOD13A2.2016_03_21.006.1_km_16_days_VI_Quality.tif\n",
      "INFO:TATSSI.qa.EOS.quality:Decoding QA layer MODLAND...\n",
      "INFO:TATSSI.qa.EOS.quality:Decoding QA layer VI Usefulness...\n",
      "INFO:TATSSI.qa.EOS.quality:Decoding QA layer Aerosol Quantity...\n",
      "INFO:TATSSI.qa.EOS.quality:Decoding QA layer Adjacent cloud detected...\n",
      "INFO:TATSSI.qa.EOS.quality:Decoding QA layer Atmosphere BRDF Correction...\n",
      "INFO:TATSSI.qa.EOS.quality:Decoding QA layer Mixed Clouds...\n",
      "INFO:TATSSI.qa.EOS.quality:Decoding QA layer Land/Water Mask...\n",
      "INFO:TATSSI.qa.EOS.quality:Decoding QA layer Possible snow/ice...\n",
      "INFO:TATSSI.qa.EOS.quality:Decoding QA layer Possible shadow...\n",
      "INFO:TATSSI.qa.EOS.quality:Decoding finished.\n",
      "INFO:TATSSI.qa.EOS.quality:Decoding MOD13A2.006...\n",
      "INFO:TATSSI.qa.EOS.quality:File /home/glopez/Projects/TATSSI/data/test_gee/1_km_16_days_VI_Quality/MOD13A2.2016_04_06.006.1_km_16_days_VI_Quality.tif\n",
      "INFO:TATSSI.qa.EOS.quality:Decoding QA layer MODLAND...\n",
      "INFO:TATSSI.qa.EOS.quality:Decoding QA layer VI Usefulness...\n",
      "INFO:TATSSI.qa.EOS.quality:Decoding QA layer Aerosol Quantity...\n",
      "INFO:TATSSI.qa.EOS.quality:Decoding QA layer Adjacent cloud detected...\n",
      "INFO:TATSSI.qa.EOS.quality:Decoding QA layer Atmosphere BRDF Correction...\n",
      "INFO:TATSSI.qa.EOS.quality:Decoding QA layer Mixed Clouds...\n",
      "INFO:TATSSI.qa.EOS.quality:Decoding QA layer Land/Water Mask...\n",
      "INFO:TATSSI.qa.EOS.quality:Decoding QA layer Possible snow/ice...\n",
      "INFO:TATSSI.qa.EOS.quality:Decoding QA layer Possible shadow...\n",
      "INFO:TATSSI.qa.EOS.quality:Decoding finished.\n",
      "INFO:TATSSI.qa.EOS.quality:Decoding MOD13A2.006...\n",
      "INFO:TATSSI.qa.EOS.quality:File /home/glopez/Projects/TATSSI/data/test_gee/1_km_16_days_VI_Quality/MOD13A2.2016_04_22.006.1_km_16_days_VI_Quality.tif\n",
      "INFO:TATSSI.qa.EOS.quality:Decoding QA layer MODLAND...\n",
      "INFO:TATSSI.qa.EOS.quality:Decoding QA layer VI Usefulness...\n",
      "INFO:TATSSI.qa.EOS.quality:Decoding QA layer Aerosol Quantity...\n",
      "INFO:TATSSI.qa.EOS.quality:Decoding QA layer Adjacent cloud detected...\n",
      "INFO:TATSSI.qa.EOS.quality:Decoding QA layer Atmosphere BRDF Correction...\n",
      "INFO:TATSSI.qa.EOS.quality:Decoding QA layer Mixed Clouds...\n",
      "INFO:TATSSI.qa.EOS.quality:Decoding QA layer Land/Water Mask...\n",
      "INFO:TATSSI.qa.EOS.quality:Decoding QA layer Possible snow/ice...\n",
      "INFO:TATSSI.qa.EOS.quality:Decoding QA layer Possible shadow...\n",
      "INFO:TATSSI.qa.EOS.quality:Decoding finished.\n",
      "INFO:TATSSI.qa.EOS.quality:Decoding MOD13A2.006...\n",
      "INFO:TATSSI.qa.EOS.quality:File /home/glopez/Projects/TATSSI/data/test_gee/1_km_16_days_VI_Quality/MOD13A2.2016_05_08.006.1_km_16_days_VI_Quality.tif\n",
      "INFO:TATSSI.qa.EOS.quality:Decoding QA layer MODLAND...\n",
      "INFO:TATSSI.qa.EOS.quality:Decoding QA layer VI Usefulness...\n",
      "INFO:TATSSI.qa.EOS.quality:Decoding QA layer Aerosol Quantity...\n",
      "INFO:TATSSI.qa.EOS.quality:Decoding QA layer Adjacent cloud detected...\n",
      "INFO:TATSSI.qa.EOS.quality:Decoding QA layer Atmosphere BRDF Correction...\n",
      "INFO:TATSSI.qa.EOS.quality:Decoding QA layer Mixed Clouds...\n",
      "INFO:TATSSI.qa.EOS.quality:Decoding QA layer Land/Water Mask...\n",
      "INFO:TATSSI.qa.EOS.quality:Decoding QA layer Possible snow/ice...\n",
      "INFO:TATSSI.qa.EOS.quality:Decoding QA layer Possible shadow...\n",
      "INFO:TATSSI.qa.EOS.quality:Decoding finished.\n",
      "INFO:TATSSI.qa.EOS.quality:Decoding MOD13A2.006...\n",
      "INFO:TATSSI.qa.EOS.quality:File /home/glopez/Projects/TATSSI/data/test_gee/1_km_16_days_VI_Quality/MOD13A2.2016_05_24.006.1_km_16_days_VI_Quality.tif\n",
      "INFO:TATSSI.qa.EOS.quality:Decoding QA layer MODLAND...\n",
      "INFO:TATSSI.qa.EOS.quality:Decoding QA layer VI Usefulness...\n",
      "INFO:TATSSI.qa.EOS.quality:Decoding QA layer Aerosol Quantity...\n",
      "INFO:TATSSI.qa.EOS.quality:Decoding QA layer Adjacent cloud detected...\n",
      "INFO:TATSSI.qa.EOS.quality:Decoding QA layer Atmosphere BRDF Correction...\n",
      "INFO:TATSSI.qa.EOS.quality:Decoding QA layer Mixed Clouds...\n",
      "INFO:TATSSI.qa.EOS.quality:Decoding QA layer Land/Water Mask...\n",
      "INFO:TATSSI.qa.EOS.quality:Decoding QA layer Possible snow/ice...\n",
      "INFO:TATSSI.qa.EOS.quality:Decoding QA layer Possible shadow...\n",
      "INFO:TATSSI.qa.EOS.quality:Decoding finished.\n",
      "INFO:TATSSI.qa.EOS.quality:Decoding MOD13A2.006...\n",
      "INFO:TATSSI.qa.EOS.quality:File /home/glopez/Projects/TATSSI/data/test_gee/1_km_16_days_VI_Quality/MOD13A2.2016_06_09.006.1_km_16_days_VI_Quality.tif\n",
      "INFO:TATSSI.qa.EOS.quality:Decoding QA layer MODLAND...\n",
      "INFO:TATSSI.qa.EOS.quality:Decoding QA layer VI Usefulness...\n",
      "INFO:TATSSI.qa.EOS.quality:Decoding QA layer Aerosol Quantity...\n",
      "INFO:TATSSI.qa.EOS.quality:Decoding QA layer Adjacent cloud detected...\n",
      "INFO:TATSSI.qa.EOS.quality:Decoding QA layer Atmosphere BRDF Correction...\n",
      "INFO:TATSSI.qa.EOS.quality:Decoding QA layer Mixed Clouds...\n",
      "INFO:TATSSI.qa.EOS.quality:Decoding QA layer Land/Water Mask...\n",
      "INFO:TATSSI.qa.EOS.quality:Decoding QA layer Possible snow/ice...\n",
      "INFO:TATSSI.qa.EOS.quality:Decoding QA layer Possible shadow...\n",
      "INFO:TATSSI.qa.EOS.quality:Decoding finished.\n",
      "INFO:TATSSI.qa.EOS.quality:Decoding MOD13A2.006...\n",
      "INFO:TATSSI.qa.EOS.quality:File /home/glopez/Projects/TATSSI/data/test_gee/1_km_16_days_VI_Quality/MOD13A2.2016_06_25.006.1_km_16_days_VI_Quality.tif\n",
      "INFO:TATSSI.qa.EOS.quality:Decoding QA layer MODLAND...\n",
      "INFO:TATSSI.qa.EOS.quality:Decoding QA layer VI Usefulness...\n",
      "INFO:TATSSI.qa.EOS.quality:Decoding QA layer Aerosol Quantity...\n",
      "INFO:TATSSI.qa.EOS.quality:Decoding QA layer Adjacent cloud detected...\n",
      "INFO:TATSSI.qa.EOS.quality:Decoding QA layer Atmosphere BRDF Correction...\n",
      "INFO:TATSSI.qa.EOS.quality:Decoding QA layer Mixed Clouds...\n",
      "INFO:TATSSI.qa.EOS.quality:Decoding QA layer Land/Water Mask...\n",
      "INFO:TATSSI.qa.EOS.quality:Decoding QA layer Possible snow/ice...\n",
      "INFO:TATSSI.qa.EOS.quality:Decoding QA layer Possible shadow...\n",
      "INFO:TATSSI.qa.EOS.quality:Decoding finished.\n",
      "INFO:TATSSI.qa.EOS.quality:Decoding MOD13A2.006...\n",
      "INFO:TATSSI.qa.EOS.quality:File /home/glopez/Projects/TATSSI/data/test_gee/1_km_16_days_VI_Quality/MOD13A2.2016_07_11.006.1_km_16_days_VI_Quality.tif\n",
      "INFO:TATSSI.qa.EOS.quality:Decoding QA layer MODLAND...\n",
      "INFO:TATSSI.qa.EOS.quality:Decoding QA layer VI Usefulness...\n",
      "INFO:TATSSI.qa.EOS.quality:Decoding QA layer Aerosol Quantity...\n",
      "INFO:TATSSI.qa.EOS.quality:Decoding QA layer Adjacent cloud detected...\n",
      "INFO:TATSSI.qa.EOS.quality:Decoding QA layer Atmosphere BRDF Correction...\n",
      "INFO:TATSSI.qa.EOS.quality:Decoding QA layer Mixed Clouds...\n",
      "INFO:TATSSI.qa.EOS.quality:Decoding QA layer Land/Water Mask...\n",
      "INFO:TATSSI.qa.EOS.quality:Decoding QA layer Possible snow/ice...\n",
      "INFO:TATSSI.qa.EOS.quality:Decoding QA layer Possible shadow...\n",
      "INFO:TATSSI.qa.EOS.quality:Decoding finished.\n",
      "INFO:TATSSI.qa.EOS.quality:Decoding MOD13A2.006...\n",
      "INFO:TATSSI.qa.EOS.quality:File /home/glopez/Projects/TATSSI/data/test_gee/1_km_16_days_VI_Quality/MOD13A2.2016_07_27.006.1_km_16_days_VI_Quality.tif\n",
      "INFO:TATSSI.qa.EOS.quality:Decoding QA layer MODLAND...\n",
      "INFO:TATSSI.qa.EOS.quality:Decoding QA layer VI Usefulness...\n",
      "INFO:TATSSI.qa.EOS.quality:Decoding QA layer Aerosol Quantity...\n",
      "INFO:TATSSI.qa.EOS.quality:Decoding QA layer Adjacent cloud detected...\n",
      "INFO:TATSSI.qa.EOS.quality:Decoding QA layer Atmosphere BRDF Correction...\n",
      "INFO:TATSSI.qa.EOS.quality:Decoding QA layer Mixed Clouds...\n",
      "INFO:TATSSI.qa.EOS.quality:Decoding QA layer Land/Water Mask...\n",
      "INFO:TATSSI.qa.EOS.quality:Decoding QA layer Possible snow/ice...\n",
      "INFO:TATSSI.qa.EOS.quality:Decoding QA layer Possible shadow...\n",
      "INFO:TATSSI.qa.EOS.quality:Decoding finished.\n",
      "INFO:TATSSI.qa.EOS.quality:Decoding MOD13A2.006...\n",
      "INFO:TATSSI.qa.EOS.quality:File /home/glopez/Projects/TATSSI/data/test_gee/1_km_16_days_VI_Quality/MOD13A2.2016_08_12.006.1_km_16_days_VI_Quality.tif\n"
     ]
    },
    {
     "name": "stderr",
     "output_type": "stream",
     "text": [
      "INFO:TATSSI.qa.EOS.quality:Decoding QA layer MODLAND...\n",
      "INFO:TATSSI.qa.EOS.quality:Decoding QA layer VI Usefulness...\n",
      "INFO:TATSSI.qa.EOS.quality:Decoding QA layer Aerosol Quantity...\n",
      "INFO:TATSSI.qa.EOS.quality:Decoding QA layer Adjacent cloud detected...\n",
      "INFO:TATSSI.qa.EOS.quality:Decoding QA layer Atmosphere BRDF Correction...\n",
      "INFO:TATSSI.qa.EOS.quality:Decoding QA layer Mixed Clouds...\n",
      "INFO:TATSSI.qa.EOS.quality:Decoding QA layer Land/Water Mask...\n",
      "INFO:TATSSI.qa.EOS.quality:Decoding QA layer Possible snow/ice...\n",
      "INFO:TATSSI.qa.EOS.quality:Decoding QA layer Possible shadow...\n",
      "INFO:TATSSI.qa.EOS.quality:Decoding finished.\n",
      "INFO:TATSSI.qa.EOS.quality:Decoding MOD13A2.006...\n",
      "INFO:TATSSI.qa.EOS.quality:File /home/glopez/Projects/TATSSI/data/test_gee/1_km_16_days_VI_Quality/MOD13A2.2016_08_28.006.1_km_16_days_VI_Quality.tif\n",
      "INFO:TATSSI.qa.EOS.quality:Decoding QA layer MODLAND...\n",
      "INFO:TATSSI.qa.EOS.quality:Decoding QA layer VI Usefulness...\n",
      "INFO:TATSSI.qa.EOS.quality:Decoding QA layer Aerosol Quantity...\n",
      "INFO:TATSSI.qa.EOS.quality:Decoding QA layer Adjacent cloud detected...\n",
      "INFO:TATSSI.qa.EOS.quality:Decoding QA layer Atmosphere BRDF Correction...\n",
      "INFO:TATSSI.qa.EOS.quality:Decoding QA layer Mixed Clouds...\n",
      "INFO:TATSSI.qa.EOS.quality:Decoding QA layer Land/Water Mask...\n",
      "INFO:TATSSI.qa.EOS.quality:Decoding QA layer Possible snow/ice...\n",
      "INFO:TATSSI.qa.EOS.quality:Decoding QA layer Possible shadow...\n",
      "INFO:TATSSI.qa.EOS.quality:Decoding finished.\n",
      "INFO:TATSSI.qa.EOS.quality:Decoding MOD13A2.006...\n",
      "INFO:TATSSI.qa.EOS.quality:File /home/glopez/Projects/TATSSI/data/test_gee/1_km_16_days_VI_Quality/MOD13A2.2016_09_13.006.1_km_16_days_VI_Quality.tif\n",
      "INFO:TATSSI.qa.EOS.quality:Decoding QA layer MODLAND...\n",
      "INFO:TATSSI.qa.EOS.quality:Decoding QA layer VI Usefulness...\n",
      "INFO:TATSSI.qa.EOS.quality:Decoding QA layer Aerosol Quantity...\n",
      "INFO:TATSSI.qa.EOS.quality:Decoding QA layer Adjacent cloud detected...\n",
      "INFO:TATSSI.qa.EOS.quality:Decoding QA layer Atmosphere BRDF Correction...\n",
      "INFO:TATSSI.qa.EOS.quality:Decoding QA layer Mixed Clouds...\n",
      "INFO:TATSSI.qa.EOS.quality:Decoding QA layer Land/Water Mask...\n",
      "INFO:TATSSI.qa.EOS.quality:Decoding QA layer Possible snow/ice...\n",
      "INFO:TATSSI.qa.EOS.quality:Decoding QA layer Possible shadow...\n",
      "INFO:TATSSI.qa.EOS.quality:Decoding finished.\n",
      "INFO:TATSSI.qa.EOS.quality:Decoding MOD13A2.006...\n",
      "INFO:TATSSI.qa.EOS.quality:File /home/glopez/Projects/TATSSI/data/test_gee/1_km_16_days_VI_Quality/MOD13A2.2016_09_29.006.1_km_16_days_VI_Quality.tif\n",
      "INFO:TATSSI.qa.EOS.quality:Decoding QA layer MODLAND...\n",
      "INFO:TATSSI.qa.EOS.quality:Decoding QA layer VI Usefulness...\n",
      "INFO:TATSSI.qa.EOS.quality:Decoding QA layer Aerosol Quantity...\n",
      "INFO:TATSSI.qa.EOS.quality:Decoding QA layer Adjacent cloud detected...\n",
      "INFO:TATSSI.qa.EOS.quality:Decoding QA layer Atmosphere BRDF Correction...\n",
      "INFO:TATSSI.qa.EOS.quality:Decoding QA layer Mixed Clouds...\n",
      "INFO:TATSSI.qa.EOS.quality:Decoding QA layer Land/Water Mask...\n",
      "INFO:TATSSI.qa.EOS.quality:Decoding QA layer Possible snow/ice...\n",
      "INFO:TATSSI.qa.EOS.quality:Decoding QA layer Possible shadow...\n",
      "INFO:TATSSI.qa.EOS.quality:Decoding finished.\n",
      "INFO:TATSSI.qa.EOS.quality:Decoding MOD13A2.006...\n",
      "INFO:TATSSI.qa.EOS.quality:File /home/glopez/Projects/TATSSI/data/test_gee/1_km_16_days_VI_Quality/MOD13A2.2016_10_15.006.1_km_16_days_VI_Quality.tif\n",
      "INFO:TATSSI.qa.EOS.quality:Decoding QA layer MODLAND...\n",
      "INFO:TATSSI.qa.EOS.quality:Decoding QA layer VI Usefulness...\n",
      "INFO:TATSSI.qa.EOS.quality:Decoding QA layer Aerosol Quantity...\n",
      "INFO:TATSSI.qa.EOS.quality:Decoding QA layer Adjacent cloud detected...\n",
      "INFO:TATSSI.qa.EOS.quality:Decoding QA layer Atmosphere BRDF Correction...\n",
      "INFO:TATSSI.qa.EOS.quality:Decoding QA layer Mixed Clouds...\n",
      "INFO:TATSSI.qa.EOS.quality:Decoding QA layer Land/Water Mask...\n",
      "INFO:TATSSI.qa.EOS.quality:Decoding QA layer Possible snow/ice...\n",
      "INFO:TATSSI.qa.EOS.quality:Decoding QA layer Possible shadow...\n",
      "INFO:TATSSI.qa.EOS.quality:Decoding finished.\n",
      "INFO:TATSSI.qa.EOS.quality:Decoding MOD13A2.006...\n",
      "INFO:TATSSI.qa.EOS.quality:File /home/glopez/Projects/TATSSI/data/test_gee/1_km_16_days_VI_Quality/MOD13A2.2016_10_31.006.1_km_16_days_VI_Quality.tif\n",
      "INFO:TATSSI.qa.EOS.quality:Decoding QA layer MODLAND...\n",
      "INFO:TATSSI.qa.EOS.quality:Decoding QA layer VI Usefulness...\n",
      "INFO:TATSSI.qa.EOS.quality:Decoding QA layer Aerosol Quantity...\n",
      "INFO:TATSSI.qa.EOS.quality:Decoding QA layer Adjacent cloud detected...\n",
      "INFO:TATSSI.qa.EOS.quality:Decoding QA layer Atmosphere BRDF Correction...\n",
      "INFO:TATSSI.qa.EOS.quality:Decoding QA layer Mixed Clouds...\n",
      "INFO:TATSSI.qa.EOS.quality:Decoding QA layer Land/Water Mask...\n",
      "INFO:TATSSI.qa.EOS.quality:Decoding QA layer Possible snow/ice...\n",
      "INFO:TATSSI.qa.EOS.quality:Decoding QA layer Possible shadow...\n",
      "INFO:TATSSI.qa.EOS.quality:Decoding finished.\n",
      "INFO:TATSSI.qa.EOS.quality:Decoding MOD13A2.006...\n",
      "INFO:TATSSI.qa.EOS.quality:File /home/glopez/Projects/TATSSI/data/test_gee/1_km_16_days_VI_Quality/MOD13A2.2016_11_16.006.1_km_16_days_VI_Quality.tif\n",
      "INFO:TATSSI.qa.EOS.quality:Decoding QA layer MODLAND...\n",
      "INFO:TATSSI.qa.EOS.quality:Decoding QA layer VI Usefulness...\n",
      "INFO:TATSSI.qa.EOS.quality:Decoding QA layer Aerosol Quantity...\n",
      "INFO:TATSSI.qa.EOS.quality:Decoding QA layer Adjacent cloud detected...\n",
      "INFO:TATSSI.qa.EOS.quality:Decoding QA layer Atmosphere BRDF Correction...\n",
      "INFO:TATSSI.qa.EOS.quality:Decoding QA layer Mixed Clouds...\n",
      "INFO:TATSSI.qa.EOS.quality:Decoding QA layer Land/Water Mask...\n",
      "INFO:TATSSI.qa.EOS.quality:Decoding QA layer Possible snow/ice...\n",
      "INFO:TATSSI.qa.EOS.quality:Decoding QA layer Possible shadow...\n",
      "INFO:TATSSI.qa.EOS.quality:Decoding finished.\n",
      "INFO:TATSSI.qa.EOS.quality:Decoding MOD13A2.006...\n",
      "INFO:TATSSI.qa.EOS.quality:File /home/glopez/Projects/TATSSI/data/test_gee/1_km_16_days_VI_Quality/MOD13A2.2016_12_02.006.1_km_16_days_VI_Quality.tif\n",
      "INFO:TATSSI.qa.EOS.quality:Decoding QA layer MODLAND...\n",
      "INFO:TATSSI.qa.EOS.quality:Decoding QA layer VI Usefulness...\n",
      "INFO:TATSSI.qa.EOS.quality:Decoding QA layer Aerosol Quantity...\n",
      "INFO:TATSSI.qa.EOS.quality:Decoding QA layer Adjacent cloud detected...\n",
      "INFO:TATSSI.qa.EOS.quality:Decoding QA layer Atmosphere BRDF Correction...\n",
      "INFO:TATSSI.qa.EOS.quality:Decoding QA layer Mixed Clouds...\n",
      "INFO:TATSSI.qa.EOS.quality:Decoding QA layer Land/Water Mask...\n",
      "INFO:TATSSI.qa.EOS.quality:Decoding QA layer Possible snow/ice...\n",
      "INFO:TATSSI.qa.EOS.quality:Decoding QA layer Possible shadow...\n",
      "INFO:TATSSI.qa.EOS.quality:Decoding finished.\n",
      "INFO:TATSSI.qa.EOS.quality:Decoding MOD13A2.006...\n",
      "INFO:TATSSI.qa.EOS.quality:File /home/glopez/Projects/TATSSI/data/test_gee/1_km_16_days_VI_Quality/MOD13A2.2016_12_18.006.1_km_16_days_VI_Quality.tif\n",
      "INFO:TATSSI.qa.EOS.quality:Decoding QA layer MODLAND...\n",
      "INFO:TATSSI.qa.EOS.quality:Decoding QA layer VI Usefulness...\n",
      "INFO:TATSSI.qa.EOS.quality:Decoding QA layer Aerosol Quantity...\n",
      "INFO:TATSSI.qa.EOS.quality:Decoding QA layer Adjacent cloud detected...\n",
      "INFO:TATSSI.qa.EOS.quality:Decoding QA layer Atmosphere BRDF Correction...\n",
      "INFO:TATSSI.qa.EOS.quality:Decoding QA layer Mixed Clouds...\n",
      "INFO:TATSSI.qa.EOS.quality:Decoding QA layer Land/Water Mask...\n",
      "INFO:TATSSI.qa.EOS.quality:Decoding QA layer Possible snow/ice...\n",
      "INFO:TATSSI.qa.EOS.quality:Decoding QA layer Possible shadow...\n",
      "INFO:TATSSI.qa.EOS.quality:Decoding finished.\n",
      "INFO:TATSSI.qa.EOS.quality:Decoding MOD13A2.006...\n",
      "INFO:TATSSI.qa.EOS.quality:File /home/glopez/Projects/TATSSI/data/test_gee/1_km_16_days_VI_Quality/MOD13A2.2017_01_01.006.1_km_16_days_VI_Quality.tif\n",
      "INFO:TATSSI.qa.EOS.quality:Decoding QA layer MODLAND...\n",
      "INFO:TATSSI.qa.EOS.quality:Decoding QA layer VI Usefulness...\n",
      "INFO:TATSSI.qa.EOS.quality:Decoding QA layer Aerosol Quantity...\n",
      "INFO:TATSSI.qa.EOS.quality:Decoding QA layer Adjacent cloud detected...\n",
      "INFO:TATSSI.qa.EOS.quality:Decoding QA layer Atmosphere BRDF Correction...\n",
      "INFO:TATSSI.qa.EOS.quality:Decoding QA layer Mixed Clouds...\n",
      "INFO:TATSSI.qa.EOS.quality:Decoding QA layer Land/Water Mask...\n",
      "INFO:TATSSI.qa.EOS.quality:Decoding QA layer Possible snow/ice...\n",
      "INFO:TATSSI.qa.EOS.quality:Decoding QA layer Possible shadow...\n",
      "INFO:TATSSI.qa.EOS.quality:Decoding finished.\n",
      "INFO:TATSSI.qa.EOS.quality:Decoding MOD13A2.006...\n",
      "INFO:TATSSI.qa.EOS.quality:File /home/glopez/Projects/TATSSI/data/test_gee/1_km_16_days_VI_Quality/MOD13A2.2017_01_17.006.1_km_16_days_VI_Quality.tif\n"
     ]
    },
    {
     "name": "stderr",
     "output_type": "stream",
     "text": [
      "INFO:TATSSI.qa.EOS.quality:Decoding QA layer MODLAND...\n",
      "INFO:TATSSI.qa.EOS.quality:Decoding QA layer VI Usefulness...\n",
      "INFO:TATSSI.qa.EOS.quality:Decoding QA layer Aerosol Quantity...\n",
      "INFO:TATSSI.qa.EOS.quality:Decoding QA layer Adjacent cloud detected...\n",
      "INFO:TATSSI.qa.EOS.quality:Decoding QA layer Atmosphere BRDF Correction...\n",
      "INFO:TATSSI.qa.EOS.quality:Decoding QA layer Mixed Clouds...\n",
      "INFO:TATSSI.qa.EOS.quality:Decoding QA layer Land/Water Mask...\n",
      "INFO:TATSSI.qa.EOS.quality:Decoding QA layer Possible snow/ice...\n",
      "INFO:TATSSI.qa.EOS.quality:Decoding QA layer Possible shadow...\n",
      "INFO:TATSSI.qa.EOS.quality:Decoding finished.\n",
      "INFO:TATSSI.qa.EOS.quality:Decoding MOD13A2.006...\n",
      "INFO:TATSSI.qa.EOS.quality:File /home/glopez/Projects/TATSSI/data/test_gee/1_km_16_days_VI_Quality/MOD13A2.2017_02_02.006.1_km_16_days_VI_Quality.tif\n",
      "INFO:TATSSI.qa.EOS.quality:Decoding QA layer MODLAND...\n",
      "INFO:TATSSI.qa.EOS.quality:Decoding QA layer VI Usefulness...\n",
      "INFO:TATSSI.qa.EOS.quality:Decoding QA layer Aerosol Quantity...\n",
      "INFO:TATSSI.qa.EOS.quality:Decoding QA layer Adjacent cloud detected...\n",
      "INFO:TATSSI.qa.EOS.quality:Decoding QA layer Atmosphere BRDF Correction...\n",
      "INFO:TATSSI.qa.EOS.quality:Decoding QA layer Mixed Clouds...\n",
      "INFO:TATSSI.qa.EOS.quality:Decoding QA layer Land/Water Mask...\n",
      "INFO:TATSSI.qa.EOS.quality:Decoding QA layer Possible snow/ice...\n",
      "INFO:TATSSI.qa.EOS.quality:Decoding QA layer Possible shadow...\n",
      "INFO:TATSSI.qa.EOS.quality:Decoding finished.\n",
      "INFO:TATSSI.qa.EOS.quality:Decoding MOD13A2.006...\n",
      "INFO:TATSSI.qa.EOS.quality:File /home/glopez/Projects/TATSSI/data/test_gee/1_km_16_days_VI_Quality/MOD13A2.2017_02_18.006.1_km_16_days_VI_Quality.tif\n",
      "INFO:TATSSI.qa.EOS.quality:Decoding QA layer MODLAND...\n",
      "INFO:TATSSI.qa.EOS.quality:Decoding QA layer VI Usefulness...\n",
      "INFO:TATSSI.qa.EOS.quality:Decoding QA layer Aerosol Quantity...\n",
      "INFO:TATSSI.qa.EOS.quality:Decoding QA layer Adjacent cloud detected...\n",
      "INFO:TATSSI.qa.EOS.quality:Decoding QA layer Atmosphere BRDF Correction...\n",
      "INFO:TATSSI.qa.EOS.quality:Decoding QA layer Mixed Clouds...\n",
      "INFO:TATSSI.qa.EOS.quality:Decoding QA layer Land/Water Mask...\n",
      "INFO:TATSSI.qa.EOS.quality:Decoding QA layer Possible snow/ice...\n",
      "INFO:TATSSI.qa.EOS.quality:Decoding QA layer Possible shadow...\n",
      "INFO:TATSSI.qa.EOS.quality:Decoding finished.\n",
      "INFO:TATSSI.qa.EOS.quality:Decoding MOD13A2.006...\n",
      "INFO:TATSSI.qa.EOS.quality:File /home/glopez/Projects/TATSSI/data/test_gee/1_km_16_days_VI_Quality/MOD13A2.2017_03_06.006.1_km_16_days_VI_Quality.tif\n",
      "INFO:TATSSI.qa.EOS.quality:Decoding QA layer MODLAND...\n",
      "INFO:TATSSI.qa.EOS.quality:Decoding QA layer VI Usefulness...\n",
      "INFO:TATSSI.qa.EOS.quality:Decoding QA layer Aerosol Quantity...\n",
      "INFO:TATSSI.qa.EOS.quality:Decoding QA layer Adjacent cloud detected...\n",
      "INFO:TATSSI.qa.EOS.quality:Decoding QA layer Atmosphere BRDF Correction...\n",
      "INFO:TATSSI.qa.EOS.quality:Decoding QA layer Mixed Clouds...\n",
      "INFO:TATSSI.qa.EOS.quality:Decoding QA layer Land/Water Mask...\n",
      "INFO:TATSSI.qa.EOS.quality:Decoding QA layer Possible snow/ice...\n",
      "INFO:TATSSI.qa.EOS.quality:Decoding QA layer Possible shadow...\n",
      "INFO:TATSSI.qa.EOS.quality:Decoding finished.\n",
      "INFO:TATSSI.qa.EOS.quality:Decoding MOD13A2.006...\n",
      "INFO:TATSSI.qa.EOS.quality:File /home/glopez/Projects/TATSSI/data/test_gee/1_km_16_days_VI_Quality/MOD13A2.2017_03_22.006.1_km_16_days_VI_Quality.tif\n",
      "INFO:TATSSI.qa.EOS.quality:Decoding QA layer MODLAND...\n",
      "INFO:TATSSI.qa.EOS.quality:Decoding QA layer VI Usefulness...\n",
      "INFO:TATSSI.qa.EOS.quality:Decoding QA layer Aerosol Quantity...\n",
      "INFO:TATSSI.qa.EOS.quality:Decoding QA layer Adjacent cloud detected...\n",
      "INFO:TATSSI.qa.EOS.quality:Decoding QA layer Atmosphere BRDF Correction...\n",
      "INFO:TATSSI.qa.EOS.quality:Decoding QA layer Mixed Clouds...\n",
      "INFO:TATSSI.qa.EOS.quality:Decoding QA layer Land/Water Mask...\n",
      "INFO:TATSSI.qa.EOS.quality:Decoding QA layer Possible snow/ice...\n",
      "INFO:TATSSI.qa.EOS.quality:Decoding QA layer Possible shadow...\n",
      "INFO:TATSSI.qa.EOS.quality:Decoding finished.\n",
      "INFO:TATSSI.qa.EOS.quality:Decoding MOD13A2.006...\n",
      "INFO:TATSSI.qa.EOS.quality:File /home/glopez/Projects/TATSSI/data/test_gee/1_km_16_days_VI_Quality/MOD13A2.2017_04_07.006.1_km_16_days_VI_Quality.tif\n",
      "INFO:TATSSI.qa.EOS.quality:Decoding QA layer MODLAND...\n",
      "INFO:TATSSI.qa.EOS.quality:Decoding QA layer VI Usefulness...\n",
      "INFO:TATSSI.qa.EOS.quality:Decoding QA layer Aerosol Quantity...\n",
      "INFO:TATSSI.qa.EOS.quality:Decoding QA layer Adjacent cloud detected...\n",
      "INFO:TATSSI.qa.EOS.quality:Decoding QA layer Atmosphere BRDF Correction...\n",
      "INFO:TATSSI.qa.EOS.quality:Decoding QA layer Mixed Clouds...\n",
      "INFO:TATSSI.qa.EOS.quality:Decoding QA layer Land/Water Mask...\n",
      "INFO:TATSSI.qa.EOS.quality:Decoding QA layer Possible snow/ice...\n",
      "INFO:TATSSI.qa.EOS.quality:Decoding QA layer Possible shadow...\n",
      "INFO:TATSSI.qa.EOS.quality:Decoding finished.\n",
      "INFO:TATSSI.qa.EOS.quality:Decoding MOD13A2.006...\n",
      "INFO:TATSSI.qa.EOS.quality:File /home/glopez/Projects/TATSSI/data/test_gee/1_km_16_days_VI_Quality/MOD13A2.2017_04_23.006.1_km_16_days_VI_Quality.tif\n",
      "INFO:TATSSI.qa.EOS.quality:Decoding QA layer MODLAND...\n",
      "INFO:TATSSI.qa.EOS.quality:Decoding QA layer VI Usefulness...\n",
      "INFO:TATSSI.qa.EOS.quality:Decoding QA layer Aerosol Quantity...\n",
      "INFO:TATSSI.qa.EOS.quality:Decoding QA layer Adjacent cloud detected...\n",
      "INFO:TATSSI.qa.EOS.quality:Decoding QA layer Atmosphere BRDF Correction...\n",
      "INFO:TATSSI.qa.EOS.quality:Decoding QA layer Mixed Clouds...\n",
      "INFO:TATSSI.qa.EOS.quality:Decoding QA layer Land/Water Mask...\n",
      "INFO:TATSSI.qa.EOS.quality:Decoding QA layer Possible snow/ice...\n",
      "INFO:TATSSI.qa.EOS.quality:Decoding QA layer Possible shadow...\n",
      "INFO:TATSSI.qa.EOS.quality:Decoding finished.\n",
      "INFO:TATSSI.qa.EOS.quality:Decoding MOD13A2.006...\n",
      "INFO:TATSSI.qa.EOS.quality:File /home/glopez/Projects/TATSSI/data/test_gee/1_km_16_days_VI_Quality/MOD13A2.2017_05_09.006.1_km_16_days_VI_Quality.tif\n",
      "INFO:TATSSI.qa.EOS.quality:Decoding QA layer MODLAND...\n",
      "INFO:TATSSI.qa.EOS.quality:Decoding QA layer VI Usefulness...\n",
      "INFO:TATSSI.qa.EOS.quality:Decoding QA layer Aerosol Quantity...\n",
      "INFO:TATSSI.qa.EOS.quality:Decoding QA layer Adjacent cloud detected...\n",
      "INFO:TATSSI.qa.EOS.quality:Decoding QA layer Atmosphere BRDF Correction...\n",
      "INFO:TATSSI.qa.EOS.quality:Decoding QA layer Mixed Clouds...\n",
      "INFO:TATSSI.qa.EOS.quality:Decoding QA layer Land/Water Mask...\n",
      "INFO:TATSSI.qa.EOS.quality:Decoding QA layer Possible snow/ice...\n",
      "INFO:TATSSI.qa.EOS.quality:Decoding QA layer Possible shadow...\n",
      "INFO:TATSSI.qa.EOS.quality:Decoding finished.\n",
      "INFO:TATSSI.qa.EOS.quality:Decoding MOD13A2.006...\n",
      "INFO:TATSSI.qa.EOS.quality:File /home/glopez/Projects/TATSSI/data/test_gee/1_km_16_days_VI_Quality/MOD13A2.2017_05_25.006.1_km_16_days_VI_Quality.tif\n",
      "INFO:TATSSI.qa.EOS.quality:Decoding QA layer MODLAND...\n",
      "INFO:TATSSI.qa.EOS.quality:Decoding QA layer VI Usefulness...\n",
      "INFO:TATSSI.qa.EOS.quality:Decoding QA layer Aerosol Quantity...\n",
      "INFO:TATSSI.qa.EOS.quality:Decoding QA layer Adjacent cloud detected...\n",
      "INFO:TATSSI.qa.EOS.quality:Decoding QA layer Atmosphere BRDF Correction...\n",
      "INFO:TATSSI.qa.EOS.quality:Decoding QA layer Mixed Clouds...\n",
      "INFO:TATSSI.qa.EOS.quality:Decoding QA layer Land/Water Mask...\n",
      "INFO:TATSSI.qa.EOS.quality:Decoding QA layer Possible snow/ice...\n",
      "INFO:TATSSI.qa.EOS.quality:Decoding QA layer Possible shadow...\n",
      "INFO:TATSSI.qa.EOS.quality:Decoding finished.\n",
      "INFO:TATSSI.qa.EOS.quality:Decoding MOD13A2.006...\n",
      "INFO:TATSSI.qa.EOS.quality:File /home/glopez/Projects/TATSSI/data/test_gee/1_km_16_days_VI_Quality/MOD13A2.2017_06_10.006.1_km_16_days_VI_Quality.tif\n",
      "INFO:TATSSI.qa.EOS.quality:Decoding QA layer MODLAND...\n",
      "INFO:TATSSI.qa.EOS.quality:Decoding QA layer VI Usefulness...\n",
      "INFO:TATSSI.qa.EOS.quality:Decoding QA layer Aerosol Quantity...\n",
      "INFO:TATSSI.qa.EOS.quality:Decoding QA layer Adjacent cloud detected...\n",
      "INFO:TATSSI.qa.EOS.quality:Decoding QA layer Atmosphere BRDF Correction...\n",
      "INFO:TATSSI.qa.EOS.quality:Decoding QA layer Mixed Clouds...\n",
      "INFO:TATSSI.qa.EOS.quality:Decoding QA layer Land/Water Mask...\n",
      "INFO:TATSSI.qa.EOS.quality:Decoding QA layer Possible snow/ice...\n",
      "INFO:TATSSI.qa.EOS.quality:Decoding QA layer Possible shadow...\n",
      "INFO:TATSSI.qa.EOS.quality:Decoding finished.\n",
      "INFO:TATSSI.qa.EOS.quality:Decoding MOD13A2.006...\n",
      "INFO:TATSSI.qa.EOS.quality:File /home/glopez/Projects/TATSSI/data/test_gee/1_km_16_days_VI_Quality/MOD13A2.2017_06_26.006.1_km_16_days_VI_Quality.tif\n"
     ]
    },
    {
     "name": "stderr",
     "output_type": "stream",
     "text": [
      "INFO:TATSSI.qa.EOS.quality:Decoding QA layer MODLAND...\n",
      "INFO:TATSSI.qa.EOS.quality:Decoding QA layer VI Usefulness...\n",
      "INFO:TATSSI.qa.EOS.quality:Decoding QA layer Aerosol Quantity...\n",
      "INFO:TATSSI.qa.EOS.quality:Decoding QA layer Adjacent cloud detected...\n",
      "INFO:TATSSI.qa.EOS.quality:Decoding QA layer Atmosphere BRDF Correction...\n",
      "INFO:TATSSI.qa.EOS.quality:Decoding QA layer Mixed Clouds...\n",
      "INFO:TATSSI.qa.EOS.quality:Decoding QA layer Land/Water Mask...\n",
      "INFO:TATSSI.qa.EOS.quality:Decoding QA layer Possible snow/ice...\n",
      "INFO:TATSSI.qa.EOS.quality:Decoding QA layer Possible shadow...\n",
      "INFO:TATSSI.qa.EOS.quality:Decoding finished.\n",
      "INFO:TATSSI.qa.EOS.quality:Decoding MOD13A2.006...\n",
      "INFO:TATSSI.qa.EOS.quality:File /home/glopez/Projects/TATSSI/data/test_gee/1_km_16_days_VI_Quality/MOD13A2.2017_07_12.006.1_km_16_days_VI_Quality.tif\n",
      "INFO:TATSSI.qa.EOS.quality:Decoding QA layer MODLAND...\n",
      "INFO:TATSSI.qa.EOS.quality:Decoding QA layer VI Usefulness...\n",
      "INFO:TATSSI.qa.EOS.quality:Decoding QA layer Aerosol Quantity...\n",
      "INFO:TATSSI.qa.EOS.quality:Decoding QA layer Adjacent cloud detected...\n",
      "INFO:TATSSI.qa.EOS.quality:Decoding QA layer Atmosphere BRDF Correction...\n",
      "INFO:TATSSI.qa.EOS.quality:Decoding QA layer Mixed Clouds...\n",
      "INFO:TATSSI.qa.EOS.quality:Decoding QA layer Land/Water Mask...\n",
      "INFO:TATSSI.qa.EOS.quality:Decoding QA layer Possible snow/ice...\n",
      "INFO:TATSSI.qa.EOS.quality:Decoding QA layer Possible shadow...\n",
      "INFO:TATSSI.qa.EOS.quality:Decoding finished.\n",
      "INFO:TATSSI.qa.EOS.quality:Decoding MOD13A2.006...\n",
      "INFO:TATSSI.qa.EOS.quality:File /home/glopez/Projects/TATSSI/data/test_gee/1_km_16_days_VI_Quality/MOD13A2.2017_07_28.006.1_km_16_days_VI_Quality.tif\n",
      "INFO:TATSSI.qa.EOS.quality:Decoding QA layer MODLAND...\n",
      "INFO:TATSSI.qa.EOS.quality:Decoding QA layer VI Usefulness...\n",
      "INFO:TATSSI.qa.EOS.quality:Decoding QA layer Aerosol Quantity...\n",
      "INFO:TATSSI.qa.EOS.quality:Decoding QA layer Adjacent cloud detected...\n",
      "INFO:TATSSI.qa.EOS.quality:Decoding QA layer Atmosphere BRDF Correction...\n",
      "INFO:TATSSI.qa.EOS.quality:Decoding QA layer Mixed Clouds...\n",
      "INFO:TATSSI.qa.EOS.quality:Decoding QA layer Land/Water Mask...\n",
      "INFO:TATSSI.qa.EOS.quality:Decoding QA layer Possible snow/ice...\n",
      "INFO:TATSSI.qa.EOS.quality:Decoding QA layer Possible shadow...\n",
      "INFO:TATSSI.qa.EOS.quality:Decoding finished.\n",
      "INFO:TATSSI.qa.EOS.quality:Decoding MOD13A2.006...\n",
      "INFO:TATSSI.qa.EOS.quality:File /home/glopez/Projects/TATSSI/data/test_gee/1_km_16_days_VI_Quality/MOD13A2.2017_08_13.006.1_km_16_days_VI_Quality.tif\n",
      "INFO:TATSSI.qa.EOS.quality:Decoding QA layer MODLAND...\n",
      "INFO:TATSSI.qa.EOS.quality:Decoding QA layer VI Usefulness...\n",
      "INFO:TATSSI.qa.EOS.quality:Decoding QA layer Aerosol Quantity...\n",
      "INFO:TATSSI.qa.EOS.quality:Decoding QA layer Adjacent cloud detected...\n",
      "INFO:TATSSI.qa.EOS.quality:Decoding QA layer Atmosphere BRDF Correction...\n",
      "INFO:TATSSI.qa.EOS.quality:Decoding QA layer Mixed Clouds...\n",
      "INFO:TATSSI.qa.EOS.quality:Decoding QA layer Land/Water Mask...\n",
      "INFO:TATSSI.qa.EOS.quality:Decoding QA layer Possible snow/ice...\n",
      "INFO:TATSSI.qa.EOS.quality:Decoding QA layer Possible shadow...\n",
      "INFO:TATSSI.qa.EOS.quality:Decoding finished.\n",
      "INFO:TATSSI.qa.EOS.quality:Decoding MOD13A2.006...\n",
      "INFO:TATSSI.qa.EOS.quality:File /home/glopez/Projects/TATSSI/data/test_gee/1_km_16_days_VI_Quality/MOD13A2.2017_08_29.006.1_km_16_days_VI_Quality.tif\n",
      "INFO:TATSSI.qa.EOS.quality:Decoding QA layer MODLAND...\n",
      "INFO:TATSSI.qa.EOS.quality:Decoding QA layer VI Usefulness...\n",
      "INFO:TATSSI.qa.EOS.quality:Decoding QA layer Aerosol Quantity...\n",
      "INFO:TATSSI.qa.EOS.quality:Decoding QA layer Adjacent cloud detected...\n",
      "INFO:TATSSI.qa.EOS.quality:Decoding QA layer Atmosphere BRDF Correction...\n",
      "INFO:TATSSI.qa.EOS.quality:Decoding QA layer Mixed Clouds...\n",
      "INFO:TATSSI.qa.EOS.quality:Decoding QA layer Land/Water Mask...\n",
      "INFO:TATSSI.qa.EOS.quality:Decoding QA layer Possible snow/ice...\n",
      "INFO:TATSSI.qa.EOS.quality:Decoding QA layer Possible shadow...\n",
      "INFO:TATSSI.qa.EOS.quality:Decoding finished.\n",
      "INFO:TATSSI.qa.EOS.quality:Decoding MOD13A2.006...\n",
      "INFO:TATSSI.qa.EOS.quality:File /home/glopez/Projects/TATSSI/data/test_gee/1_km_16_days_VI_Quality/MOD13A2.2017_09_14.006.1_km_16_days_VI_Quality.tif\n",
      "INFO:TATSSI.qa.EOS.quality:Decoding QA layer MODLAND...\n",
      "INFO:TATSSI.qa.EOS.quality:Decoding QA layer VI Usefulness...\n",
      "INFO:TATSSI.qa.EOS.quality:Decoding QA layer Aerosol Quantity...\n",
      "INFO:TATSSI.qa.EOS.quality:Decoding QA layer Adjacent cloud detected...\n",
      "INFO:TATSSI.qa.EOS.quality:Decoding QA layer Atmosphere BRDF Correction...\n",
      "INFO:TATSSI.qa.EOS.quality:Decoding QA layer Mixed Clouds...\n",
      "INFO:TATSSI.qa.EOS.quality:Decoding QA layer Land/Water Mask...\n",
      "INFO:TATSSI.qa.EOS.quality:Decoding QA layer Possible snow/ice...\n",
      "INFO:TATSSI.qa.EOS.quality:Decoding QA layer Possible shadow...\n",
      "INFO:TATSSI.qa.EOS.quality:Decoding finished.\n",
      "INFO:TATSSI.qa.EOS.quality:Decoding MOD13A2.006...\n",
      "INFO:TATSSI.qa.EOS.quality:File /home/glopez/Projects/TATSSI/data/test_gee/1_km_16_days_VI_Quality/MOD13A2.2017_09_30.006.1_km_16_days_VI_Quality.tif\n",
      "INFO:TATSSI.qa.EOS.quality:Decoding QA layer MODLAND...\n",
      "INFO:TATSSI.qa.EOS.quality:Decoding QA layer VI Usefulness...\n",
      "INFO:TATSSI.qa.EOS.quality:Decoding QA layer Aerosol Quantity...\n",
      "INFO:TATSSI.qa.EOS.quality:Decoding QA layer Adjacent cloud detected...\n",
      "INFO:TATSSI.qa.EOS.quality:Decoding QA layer Atmosphere BRDF Correction...\n",
      "INFO:TATSSI.qa.EOS.quality:Decoding QA layer Mixed Clouds...\n",
      "INFO:TATSSI.qa.EOS.quality:Decoding QA layer Land/Water Mask...\n",
      "INFO:TATSSI.qa.EOS.quality:Decoding QA layer Possible snow/ice...\n",
      "INFO:TATSSI.qa.EOS.quality:Decoding QA layer Possible shadow...\n",
      "INFO:TATSSI.qa.EOS.quality:Decoding finished.\n",
      "INFO:TATSSI.qa.EOS.quality:Decoding MOD13A2.006...\n",
      "INFO:TATSSI.qa.EOS.quality:File /home/glopez/Projects/TATSSI/data/test_gee/1_km_16_days_VI_Quality/MOD13A2.2017_10_16.006.1_km_16_days_VI_Quality.tif\n",
      "INFO:TATSSI.qa.EOS.quality:Decoding QA layer MODLAND...\n",
      "INFO:TATSSI.qa.EOS.quality:Decoding QA layer VI Usefulness...\n",
      "INFO:TATSSI.qa.EOS.quality:Decoding QA layer Aerosol Quantity...\n",
      "INFO:TATSSI.qa.EOS.quality:Decoding QA layer Adjacent cloud detected...\n",
      "INFO:TATSSI.qa.EOS.quality:Decoding QA layer Atmosphere BRDF Correction...\n",
      "INFO:TATSSI.qa.EOS.quality:Decoding QA layer Mixed Clouds...\n",
      "INFO:TATSSI.qa.EOS.quality:Decoding QA layer Land/Water Mask...\n",
      "INFO:TATSSI.qa.EOS.quality:Decoding QA layer Possible snow/ice...\n",
      "INFO:TATSSI.qa.EOS.quality:Decoding QA layer Possible shadow...\n",
      "INFO:TATSSI.qa.EOS.quality:Decoding finished.\n",
      "INFO:TATSSI.qa.EOS.quality:Decoding MOD13A2.006...\n",
      "INFO:TATSSI.qa.EOS.quality:File /home/glopez/Projects/TATSSI/data/test_gee/1_km_16_days_VI_Quality/MOD13A2.2017_11_01.006.1_km_16_days_VI_Quality.tif\n",
      "INFO:TATSSI.qa.EOS.quality:Decoding QA layer MODLAND...\n",
      "INFO:TATSSI.qa.EOS.quality:Decoding QA layer VI Usefulness...\n",
      "INFO:TATSSI.qa.EOS.quality:Decoding QA layer Aerosol Quantity...\n",
      "INFO:TATSSI.qa.EOS.quality:Decoding QA layer Adjacent cloud detected...\n",
      "INFO:TATSSI.qa.EOS.quality:Decoding QA layer Atmosphere BRDF Correction...\n",
      "INFO:TATSSI.qa.EOS.quality:Decoding QA layer Mixed Clouds...\n",
      "INFO:TATSSI.qa.EOS.quality:Decoding QA layer Land/Water Mask...\n",
      "INFO:TATSSI.qa.EOS.quality:Decoding QA layer Possible snow/ice...\n",
      "INFO:TATSSI.qa.EOS.quality:Decoding QA layer Possible shadow...\n",
      "INFO:TATSSI.qa.EOS.quality:Decoding finished.\n",
      "INFO:TATSSI.qa.EOS.quality:Decoding MOD13A2.006...\n",
      "INFO:TATSSI.qa.EOS.quality:File /home/glopez/Projects/TATSSI/data/test_gee/1_km_16_days_VI_Quality/MOD13A2.2017_11_17.006.1_km_16_days_VI_Quality.tif\n",
      "INFO:TATSSI.qa.EOS.quality:Decoding QA layer MODLAND...\n",
      "INFO:TATSSI.qa.EOS.quality:Decoding QA layer VI Usefulness...\n",
      "INFO:TATSSI.qa.EOS.quality:Decoding QA layer Aerosol Quantity...\n",
      "INFO:TATSSI.qa.EOS.quality:Decoding QA layer Adjacent cloud detected...\n",
      "INFO:TATSSI.qa.EOS.quality:Decoding QA layer Atmosphere BRDF Correction...\n",
      "INFO:TATSSI.qa.EOS.quality:Decoding QA layer Mixed Clouds...\n",
      "INFO:TATSSI.qa.EOS.quality:Decoding QA layer Land/Water Mask...\n",
      "INFO:TATSSI.qa.EOS.quality:Decoding QA layer Possible snow/ice...\n",
      "INFO:TATSSI.qa.EOS.quality:Decoding QA layer Possible shadow...\n",
      "INFO:TATSSI.qa.EOS.quality:Decoding finished.\n",
      "INFO:TATSSI.qa.EOS.quality:Decoding MOD13A2.006...\n",
      "INFO:TATSSI.qa.EOS.quality:File /home/glopez/Projects/TATSSI/data/test_gee/1_km_16_days_VI_Quality/MOD13A2.2017_12_03.006.1_km_16_days_VI_Quality.tif\n"
     ]
    },
    {
     "name": "stderr",
     "output_type": "stream",
     "text": [
      "INFO:TATSSI.qa.EOS.quality:Decoding QA layer MODLAND...\n",
      "INFO:TATSSI.qa.EOS.quality:Decoding QA layer VI Usefulness...\n",
      "INFO:TATSSI.qa.EOS.quality:Decoding QA layer Aerosol Quantity...\n",
      "INFO:TATSSI.qa.EOS.quality:Decoding QA layer Adjacent cloud detected...\n",
      "INFO:TATSSI.qa.EOS.quality:Decoding QA layer Atmosphere BRDF Correction...\n",
      "INFO:TATSSI.qa.EOS.quality:Decoding QA layer Mixed Clouds...\n",
      "INFO:TATSSI.qa.EOS.quality:Decoding QA layer Land/Water Mask...\n",
      "INFO:TATSSI.qa.EOS.quality:Decoding QA layer Possible snow/ice...\n",
      "INFO:TATSSI.qa.EOS.quality:Decoding QA layer Possible shadow...\n",
      "INFO:TATSSI.qa.EOS.quality:Decoding finished.\n",
      "INFO:TATSSI.qa.EOS.quality:Decoding MOD13A2.006...\n",
      "INFO:TATSSI.qa.EOS.quality:File /home/glopez/Projects/TATSSI/data/test_gee/1_km_16_days_VI_Quality/MOD13A2.2017_12_19.006.1_km_16_days_VI_Quality.tif\n",
      "INFO:TATSSI.qa.EOS.quality:Decoding QA layer MODLAND...\n",
      "INFO:TATSSI.qa.EOS.quality:Decoding QA layer VI Usefulness...\n",
      "INFO:TATSSI.qa.EOS.quality:Decoding QA layer Aerosol Quantity...\n",
      "INFO:TATSSI.qa.EOS.quality:Decoding QA layer Adjacent cloud detected...\n",
      "INFO:TATSSI.qa.EOS.quality:Decoding QA layer Atmosphere BRDF Correction...\n",
      "INFO:TATSSI.qa.EOS.quality:Decoding QA layer Mixed Clouds...\n",
      "INFO:TATSSI.qa.EOS.quality:Decoding QA layer Land/Water Mask...\n",
      "INFO:TATSSI.qa.EOS.quality:Decoding QA layer Possible snow/ice...\n",
      "INFO:TATSSI.qa.EOS.quality:Decoding QA layer Possible shadow...\n",
      "INFO:TATSSI.qa.EOS.quality:Decoding finished.\n",
      "INFO:TATSSI.qa.EOS.quality:Decoding MOD13A2.006...\n",
      "INFO:TATSSI.qa.EOS.quality:File /home/glopez/Projects/TATSSI/data/test_gee/1_km_16_days_VI_Quality/MOD13A2.2018_01_01.006.1_km_16_days_VI_Quality.tif\n",
      "INFO:TATSSI.qa.EOS.quality:Decoding QA layer MODLAND...\n",
      "INFO:TATSSI.qa.EOS.quality:Decoding QA layer VI Usefulness...\n",
      "INFO:TATSSI.qa.EOS.quality:Decoding QA layer Aerosol Quantity...\n",
      "INFO:TATSSI.qa.EOS.quality:Decoding QA layer Adjacent cloud detected...\n",
      "INFO:TATSSI.qa.EOS.quality:Decoding QA layer Atmosphere BRDF Correction...\n",
      "INFO:TATSSI.qa.EOS.quality:Decoding QA layer Mixed Clouds...\n",
      "INFO:TATSSI.qa.EOS.quality:Decoding QA layer Land/Water Mask...\n",
      "INFO:TATSSI.qa.EOS.quality:Decoding QA layer Possible snow/ice...\n",
      "INFO:TATSSI.qa.EOS.quality:Decoding QA layer Possible shadow...\n",
      "INFO:TATSSI.qa.EOS.quality:Decoding finished.\n",
      "INFO:TATSSI.qa.EOS.quality:Decoding MOD13A2.006...\n",
      "INFO:TATSSI.qa.EOS.quality:File /home/glopez/Projects/TATSSI/data/test_gee/1_km_16_days_VI_Quality/MOD13A2.2018_01_17.006.1_km_16_days_VI_Quality.tif\n",
      "INFO:TATSSI.qa.EOS.quality:Decoding QA layer MODLAND...\n",
      "INFO:TATSSI.qa.EOS.quality:Decoding QA layer VI Usefulness...\n",
      "INFO:TATSSI.qa.EOS.quality:Decoding QA layer Aerosol Quantity...\n",
      "INFO:TATSSI.qa.EOS.quality:Decoding QA layer Adjacent cloud detected...\n",
      "INFO:TATSSI.qa.EOS.quality:Decoding QA layer Atmosphere BRDF Correction...\n",
      "INFO:TATSSI.qa.EOS.quality:Decoding QA layer Mixed Clouds...\n",
      "INFO:TATSSI.qa.EOS.quality:Decoding QA layer Land/Water Mask...\n",
      "INFO:TATSSI.qa.EOS.quality:Decoding QA layer Possible snow/ice...\n",
      "INFO:TATSSI.qa.EOS.quality:Decoding QA layer Possible shadow...\n",
      "INFO:TATSSI.qa.EOS.quality:Decoding finished.\n",
      "INFO:TATSSI.qa.EOS.quality:Decoding MOD13A2.006...\n",
      "INFO:TATSSI.qa.EOS.quality:File /home/glopez/Projects/TATSSI/data/test_gee/1_km_16_days_VI_Quality/MOD13A2.2018_02_02.006.1_km_16_days_VI_Quality.tif\n",
      "INFO:TATSSI.qa.EOS.quality:Decoding QA layer MODLAND...\n",
      "INFO:TATSSI.qa.EOS.quality:Decoding QA layer VI Usefulness...\n",
      "INFO:TATSSI.qa.EOS.quality:Decoding QA layer Aerosol Quantity...\n",
      "INFO:TATSSI.qa.EOS.quality:Decoding QA layer Adjacent cloud detected...\n",
      "INFO:TATSSI.qa.EOS.quality:Decoding QA layer Atmosphere BRDF Correction...\n",
      "INFO:TATSSI.qa.EOS.quality:Decoding QA layer Mixed Clouds...\n",
      "INFO:TATSSI.qa.EOS.quality:Decoding QA layer Land/Water Mask...\n",
      "INFO:TATSSI.qa.EOS.quality:Decoding QA layer Possible snow/ice...\n",
      "INFO:TATSSI.qa.EOS.quality:Decoding QA layer Possible shadow...\n",
      "INFO:TATSSI.qa.EOS.quality:Decoding finished.\n",
      "INFO:TATSSI.qa.EOS.quality:Decoding MOD13A2.006...\n",
      "INFO:TATSSI.qa.EOS.quality:File /home/glopez/Projects/TATSSI/data/test_gee/1_km_16_days_VI_Quality/MOD13A2.2018_02_18.006.1_km_16_days_VI_Quality.tif\n",
      "INFO:TATSSI.qa.EOS.quality:Decoding QA layer MODLAND...\n",
      "INFO:TATSSI.qa.EOS.quality:Decoding QA layer VI Usefulness...\n",
      "INFO:TATSSI.qa.EOS.quality:Decoding QA layer Aerosol Quantity...\n",
      "INFO:TATSSI.qa.EOS.quality:Decoding QA layer Adjacent cloud detected...\n",
      "INFO:TATSSI.qa.EOS.quality:Decoding QA layer Atmosphere BRDF Correction...\n",
      "INFO:TATSSI.qa.EOS.quality:Decoding QA layer Mixed Clouds...\n",
      "INFO:TATSSI.qa.EOS.quality:Decoding QA layer Land/Water Mask...\n",
      "INFO:TATSSI.qa.EOS.quality:Decoding QA layer Possible snow/ice...\n",
      "INFO:TATSSI.qa.EOS.quality:Decoding QA layer Possible shadow...\n",
      "INFO:TATSSI.qa.EOS.quality:Decoding finished.\n",
      "INFO:TATSSI.qa.EOS.quality:Decoding MOD13A2.006...\n",
      "INFO:TATSSI.qa.EOS.quality:File /home/glopez/Projects/TATSSI/data/test_gee/1_km_16_days_VI_Quality/MOD13A2.2018_03_06.006.1_km_16_days_VI_Quality.tif\n",
      "INFO:TATSSI.qa.EOS.quality:Decoding QA layer MODLAND...\n",
      "INFO:TATSSI.qa.EOS.quality:Decoding QA layer VI Usefulness...\n",
      "INFO:TATSSI.qa.EOS.quality:Decoding QA layer Aerosol Quantity...\n",
      "INFO:TATSSI.qa.EOS.quality:Decoding QA layer Adjacent cloud detected...\n",
      "INFO:TATSSI.qa.EOS.quality:Decoding QA layer Atmosphere BRDF Correction...\n",
      "INFO:TATSSI.qa.EOS.quality:Decoding QA layer Mixed Clouds...\n",
      "INFO:TATSSI.qa.EOS.quality:Decoding QA layer Land/Water Mask...\n",
      "INFO:TATSSI.qa.EOS.quality:Decoding QA layer Possible snow/ice...\n",
      "INFO:TATSSI.qa.EOS.quality:Decoding QA layer Possible shadow...\n",
      "INFO:TATSSI.qa.EOS.quality:Decoding finished.\n",
      "INFO:TATSSI.qa.EOS.quality:Decoding MOD13A2.006...\n",
      "INFO:TATSSI.qa.EOS.quality:File /home/glopez/Projects/TATSSI/data/test_gee/1_km_16_days_VI_Quality/MOD13A2.2018_03_22.006.1_km_16_days_VI_Quality.tif\n",
      "INFO:TATSSI.qa.EOS.quality:Decoding QA layer MODLAND...\n",
      "INFO:TATSSI.qa.EOS.quality:Decoding QA layer VI Usefulness...\n",
      "INFO:TATSSI.qa.EOS.quality:Decoding QA layer Aerosol Quantity...\n",
      "INFO:TATSSI.qa.EOS.quality:Decoding QA layer Adjacent cloud detected...\n",
      "INFO:TATSSI.qa.EOS.quality:Decoding QA layer Atmosphere BRDF Correction...\n",
      "INFO:TATSSI.qa.EOS.quality:Decoding QA layer Mixed Clouds...\n",
      "INFO:TATSSI.qa.EOS.quality:Decoding QA layer Land/Water Mask...\n",
      "INFO:TATSSI.qa.EOS.quality:Decoding QA layer Possible snow/ice...\n",
      "INFO:TATSSI.qa.EOS.quality:Decoding QA layer Possible shadow...\n",
      "INFO:TATSSI.qa.EOS.quality:Decoding finished.\n",
      "INFO:TATSSI.qa.EOS.quality:Decoding MOD13A2.006...\n",
      "INFO:TATSSI.qa.EOS.quality:File /home/glopez/Projects/TATSSI/data/test_gee/1_km_16_days_VI_Quality/MOD13A2.2018_04_07.006.1_km_16_days_VI_Quality.tif\n",
      "INFO:TATSSI.qa.EOS.quality:Decoding QA layer MODLAND...\n",
      "INFO:TATSSI.qa.EOS.quality:Decoding QA layer VI Usefulness...\n",
      "INFO:TATSSI.qa.EOS.quality:Decoding QA layer Aerosol Quantity...\n",
      "INFO:TATSSI.qa.EOS.quality:Decoding QA layer Adjacent cloud detected...\n",
      "INFO:TATSSI.qa.EOS.quality:Decoding QA layer Atmosphere BRDF Correction...\n",
      "INFO:TATSSI.qa.EOS.quality:Decoding QA layer Mixed Clouds...\n",
      "INFO:TATSSI.qa.EOS.quality:Decoding QA layer Land/Water Mask...\n",
      "INFO:TATSSI.qa.EOS.quality:Decoding QA layer Possible snow/ice...\n",
      "INFO:TATSSI.qa.EOS.quality:Decoding QA layer Possible shadow...\n",
      "INFO:TATSSI.qa.EOS.quality:Decoding finished.\n",
      "INFO:TATSSI.qa.EOS.quality:Decoding MOD13A2.006...\n",
      "INFO:TATSSI.qa.EOS.quality:File /home/glopez/Projects/TATSSI/data/test_gee/1_km_16_days_VI_Quality/MOD13A2.2018_04_23.006.1_km_16_days_VI_Quality.tif\n",
      "INFO:TATSSI.qa.EOS.quality:Decoding QA layer MODLAND...\n",
      "INFO:TATSSI.qa.EOS.quality:Decoding QA layer VI Usefulness...\n",
      "INFO:TATSSI.qa.EOS.quality:Decoding QA layer Aerosol Quantity...\n",
      "INFO:TATSSI.qa.EOS.quality:Decoding QA layer Adjacent cloud detected...\n",
      "INFO:TATSSI.qa.EOS.quality:Decoding QA layer Atmosphere BRDF Correction...\n",
      "INFO:TATSSI.qa.EOS.quality:Decoding QA layer Mixed Clouds...\n",
      "INFO:TATSSI.qa.EOS.quality:Decoding QA layer Land/Water Mask...\n",
      "INFO:TATSSI.qa.EOS.quality:Decoding QA layer Possible snow/ice...\n",
      "INFO:TATSSI.qa.EOS.quality:Decoding QA layer Possible shadow...\n",
      "INFO:TATSSI.qa.EOS.quality:Decoding finished.\n",
      "INFO:TATSSI.qa.EOS.quality:Decoding MOD13A2.006...\n",
      "INFO:TATSSI.qa.EOS.quality:File /home/glopez/Projects/TATSSI/data/test_gee/1_km_16_days_VI_Quality/MOD13A2.2018_05_09.006.1_km_16_days_VI_Quality.tif\n"
     ]
    },
    {
     "name": "stderr",
     "output_type": "stream",
     "text": [
      "INFO:TATSSI.qa.EOS.quality:Decoding QA layer MODLAND...\n",
      "INFO:TATSSI.qa.EOS.quality:Decoding QA layer VI Usefulness...\n",
      "INFO:TATSSI.qa.EOS.quality:Decoding QA layer Aerosol Quantity...\n",
      "INFO:TATSSI.qa.EOS.quality:Decoding QA layer Adjacent cloud detected...\n",
      "INFO:TATSSI.qa.EOS.quality:Decoding QA layer Atmosphere BRDF Correction...\n",
      "INFO:TATSSI.qa.EOS.quality:Decoding QA layer Mixed Clouds...\n",
      "INFO:TATSSI.qa.EOS.quality:Decoding QA layer Land/Water Mask...\n",
      "INFO:TATSSI.qa.EOS.quality:Decoding QA layer Possible snow/ice...\n",
      "INFO:TATSSI.qa.EOS.quality:Decoding QA layer Possible shadow...\n",
      "INFO:TATSSI.qa.EOS.quality:Decoding finished.\n",
      "INFO:TATSSI.qa.EOS.quality:Decoding MOD13A2.006...\n",
      "INFO:TATSSI.qa.EOS.quality:File /home/glopez/Projects/TATSSI/data/test_gee/1_km_16_days_VI_Quality/MOD13A2.2018_05_25.006.1_km_16_days_VI_Quality.tif\n",
      "INFO:TATSSI.qa.EOS.quality:Decoding QA layer MODLAND...\n",
      "INFO:TATSSI.qa.EOS.quality:Decoding QA layer VI Usefulness...\n",
      "INFO:TATSSI.qa.EOS.quality:Decoding QA layer Aerosol Quantity...\n",
      "INFO:TATSSI.qa.EOS.quality:Decoding QA layer Adjacent cloud detected...\n",
      "INFO:TATSSI.qa.EOS.quality:Decoding QA layer Atmosphere BRDF Correction...\n",
      "INFO:TATSSI.qa.EOS.quality:Decoding QA layer Mixed Clouds...\n",
      "INFO:TATSSI.qa.EOS.quality:Decoding QA layer Land/Water Mask...\n",
      "INFO:TATSSI.qa.EOS.quality:Decoding QA layer Possible snow/ice...\n",
      "INFO:TATSSI.qa.EOS.quality:Decoding QA layer Possible shadow...\n",
      "INFO:TATSSI.qa.EOS.quality:Decoding finished.\n",
      "INFO:TATSSI.qa.EOS.quality:Decoding MOD13A2.006...\n",
      "INFO:TATSSI.qa.EOS.quality:File /home/glopez/Projects/TATSSI/data/test_gee/1_km_16_days_VI_Quality/MOD13A2.2018_06_10.006.1_km_16_days_VI_Quality.tif\n",
      "INFO:TATSSI.qa.EOS.quality:Decoding QA layer MODLAND...\n",
      "INFO:TATSSI.qa.EOS.quality:Decoding QA layer VI Usefulness...\n",
      "INFO:TATSSI.qa.EOS.quality:Decoding QA layer Aerosol Quantity...\n",
      "INFO:TATSSI.qa.EOS.quality:Decoding QA layer Adjacent cloud detected...\n",
      "INFO:TATSSI.qa.EOS.quality:Decoding QA layer Atmosphere BRDF Correction...\n",
      "INFO:TATSSI.qa.EOS.quality:Decoding QA layer Mixed Clouds...\n",
      "INFO:TATSSI.qa.EOS.quality:Decoding QA layer Land/Water Mask...\n",
      "INFO:TATSSI.qa.EOS.quality:Decoding QA layer Possible snow/ice...\n",
      "INFO:TATSSI.qa.EOS.quality:Decoding QA layer Possible shadow...\n",
      "INFO:TATSSI.qa.EOS.quality:Decoding finished.\n",
      "INFO:TATSSI.qa.EOS.quality:Decoding MOD13A2.006...\n",
      "INFO:TATSSI.qa.EOS.quality:File /home/glopez/Projects/TATSSI/data/test_gee/1_km_16_days_VI_Quality/MOD13A2.2018_06_26.006.1_km_16_days_VI_Quality.tif\n",
      "INFO:TATSSI.qa.EOS.quality:Decoding QA layer MODLAND...\n",
      "INFO:TATSSI.qa.EOS.quality:Decoding QA layer VI Usefulness...\n",
      "INFO:TATSSI.qa.EOS.quality:Decoding QA layer Aerosol Quantity...\n",
      "INFO:TATSSI.qa.EOS.quality:Decoding QA layer Adjacent cloud detected...\n",
      "INFO:TATSSI.qa.EOS.quality:Decoding QA layer Atmosphere BRDF Correction...\n",
      "INFO:TATSSI.qa.EOS.quality:Decoding QA layer Mixed Clouds...\n",
      "INFO:TATSSI.qa.EOS.quality:Decoding QA layer Land/Water Mask...\n",
      "INFO:TATSSI.qa.EOS.quality:Decoding QA layer Possible snow/ice...\n",
      "INFO:TATSSI.qa.EOS.quality:Decoding QA layer Possible shadow...\n",
      "INFO:TATSSI.qa.EOS.quality:Decoding finished.\n",
      "INFO:TATSSI.qa.EOS.quality:Decoding MOD13A2.006...\n",
      "INFO:TATSSI.qa.EOS.quality:File /home/glopez/Projects/TATSSI/data/test_gee/1_km_16_days_VI_Quality/MOD13A2.2018_07_12.006.1_km_16_days_VI_Quality.tif\n",
      "INFO:TATSSI.qa.EOS.quality:Decoding QA layer MODLAND...\n",
      "INFO:TATSSI.qa.EOS.quality:Decoding QA layer VI Usefulness...\n",
      "INFO:TATSSI.qa.EOS.quality:Decoding QA layer Aerosol Quantity...\n",
      "INFO:TATSSI.qa.EOS.quality:Decoding QA layer Adjacent cloud detected...\n",
      "INFO:TATSSI.qa.EOS.quality:Decoding QA layer Atmosphere BRDF Correction...\n",
      "INFO:TATSSI.qa.EOS.quality:Decoding QA layer Mixed Clouds...\n",
      "INFO:TATSSI.qa.EOS.quality:Decoding QA layer Land/Water Mask...\n",
      "INFO:TATSSI.qa.EOS.quality:Decoding QA layer Possible snow/ice...\n",
      "INFO:TATSSI.qa.EOS.quality:Decoding QA layer Possible shadow...\n",
      "INFO:TATSSI.qa.EOS.quality:Decoding finished.\n",
      "INFO:TATSSI.qa.EOS.quality:Decoding MOD13A2.006...\n",
      "INFO:TATSSI.qa.EOS.quality:File /home/glopez/Projects/TATSSI/data/test_gee/1_km_16_days_VI_Quality/MOD13A2.2018_07_28.006.1_km_16_days_VI_Quality.tif\n",
      "INFO:TATSSI.qa.EOS.quality:Decoding QA layer MODLAND...\n",
      "INFO:TATSSI.qa.EOS.quality:Decoding QA layer VI Usefulness...\n",
      "INFO:TATSSI.qa.EOS.quality:Decoding QA layer Aerosol Quantity...\n",
      "INFO:TATSSI.qa.EOS.quality:Decoding QA layer Adjacent cloud detected...\n",
      "INFO:TATSSI.qa.EOS.quality:Decoding QA layer Atmosphere BRDF Correction...\n",
      "INFO:TATSSI.qa.EOS.quality:Decoding QA layer Mixed Clouds...\n",
      "INFO:TATSSI.qa.EOS.quality:Decoding QA layer Land/Water Mask...\n",
      "INFO:TATSSI.qa.EOS.quality:Decoding QA layer Possible snow/ice...\n",
      "INFO:TATSSI.qa.EOS.quality:Decoding QA layer Possible shadow...\n",
      "INFO:TATSSI.qa.EOS.quality:Decoding finished.\n",
      "INFO:TATSSI.qa.EOS.quality:Decoding MOD13A2.006...\n",
      "INFO:TATSSI.qa.EOS.quality:File /home/glopez/Projects/TATSSI/data/test_gee/1_km_16_days_VI_Quality/MOD13A2.2018_08_13.006.1_km_16_days_VI_Quality.tif\n",
      "INFO:TATSSI.qa.EOS.quality:Decoding QA layer MODLAND...\n",
      "INFO:TATSSI.qa.EOS.quality:Decoding QA layer VI Usefulness...\n",
      "INFO:TATSSI.qa.EOS.quality:Decoding QA layer Aerosol Quantity...\n",
      "INFO:TATSSI.qa.EOS.quality:Decoding QA layer Adjacent cloud detected...\n",
      "INFO:TATSSI.qa.EOS.quality:Decoding QA layer Atmosphere BRDF Correction...\n",
      "INFO:TATSSI.qa.EOS.quality:Decoding QA layer Mixed Clouds...\n",
      "INFO:TATSSI.qa.EOS.quality:Decoding QA layer Land/Water Mask...\n",
      "INFO:TATSSI.qa.EOS.quality:Decoding QA layer Possible snow/ice...\n",
      "INFO:TATSSI.qa.EOS.quality:Decoding QA layer Possible shadow...\n",
      "INFO:TATSSI.qa.EOS.quality:Decoding finished.\n",
      "INFO:TATSSI.qa.EOS.quality:Decoding MOD13A2.006...\n",
      "INFO:TATSSI.qa.EOS.quality:File /home/glopez/Projects/TATSSI/data/test_gee/1_km_16_days_VI_Quality/MOD13A2.2018_08_29.006.1_km_16_days_VI_Quality.tif\n",
      "INFO:TATSSI.qa.EOS.quality:Decoding QA layer MODLAND...\n",
      "INFO:TATSSI.qa.EOS.quality:Decoding QA layer VI Usefulness...\n",
      "INFO:TATSSI.qa.EOS.quality:Decoding QA layer Aerosol Quantity...\n",
      "INFO:TATSSI.qa.EOS.quality:Decoding QA layer Adjacent cloud detected...\n",
      "INFO:TATSSI.qa.EOS.quality:Decoding QA layer Atmosphere BRDF Correction...\n",
      "INFO:TATSSI.qa.EOS.quality:Decoding QA layer Mixed Clouds...\n",
      "INFO:TATSSI.qa.EOS.quality:Decoding QA layer Land/Water Mask...\n",
      "INFO:TATSSI.qa.EOS.quality:Decoding QA layer Possible snow/ice...\n",
      "INFO:TATSSI.qa.EOS.quality:Decoding QA layer Possible shadow...\n",
      "INFO:TATSSI.qa.EOS.quality:Decoding finished.\n",
      "INFO:TATSSI.qa.EOS.quality:Decoding MOD13A2.006...\n",
      "INFO:TATSSI.qa.EOS.quality:File /home/glopez/Projects/TATSSI/data/test_gee/1_km_16_days_VI_Quality/MOD13A2.2018_09_14.006.1_km_16_days_VI_Quality.tif\n",
      "INFO:TATSSI.qa.EOS.quality:Decoding QA layer MODLAND...\n",
      "INFO:TATSSI.qa.EOS.quality:Decoding QA layer VI Usefulness...\n",
      "INFO:TATSSI.qa.EOS.quality:Decoding QA layer Aerosol Quantity...\n",
      "INFO:TATSSI.qa.EOS.quality:Decoding QA layer Adjacent cloud detected...\n",
      "INFO:TATSSI.qa.EOS.quality:Decoding QA layer Atmosphere BRDF Correction...\n",
      "INFO:TATSSI.qa.EOS.quality:Decoding QA layer Mixed Clouds...\n",
      "INFO:TATSSI.qa.EOS.quality:Decoding QA layer Land/Water Mask...\n",
      "INFO:TATSSI.qa.EOS.quality:Decoding QA layer Possible snow/ice...\n",
      "INFO:TATSSI.qa.EOS.quality:Decoding QA layer Possible shadow...\n",
      "INFO:TATSSI.qa.EOS.quality:Decoding finished.\n",
      "INFO:TATSSI.qa.EOS.quality:Decoding MOD13A2.006...\n",
      "INFO:TATSSI.qa.EOS.quality:File /home/glopez/Projects/TATSSI/data/test_gee/1_km_16_days_VI_Quality/MOD13A2.2018_09_30.006.1_km_16_days_VI_Quality.tif\n",
      "INFO:TATSSI.qa.EOS.quality:Decoding QA layer MODLAND...\n",
      "INFO:TATSSI.qa.EOS.quality:Decoding QA layer VI Usefulness...\n",
      "INFO:TATSSI.qa.EOS.quality:Decoding QA layer Aerosol Quantity...\n",
      "INFO:TATSSI.qa.EOS.quality:Decoding QA layer Adjacent cloud detected...\n",
      "INFO:TATSSI.qa.EOS.quality:Decoding QA layer Atmosphere BRDF Correction...\n",
      "INFO:TATSSI.qa.EOS.quality:Decoding QA layer Mixed Clouds...\n",
      "INFO:TATSSI.qa.EOS.quality:Decoding QA layer Land/Water Mask...\n",
      "INFO:TATSSI.qa.EOS.quality:Decoding QA layer Possible snow/ice...\n",
      "INFO:TATSSI.qa.EOS.quality:Decoding QA layer Possible shadow...\n",
      "INFO:TATSSI.qa.EOS.quality:Decoding finished.\n",
      "INFO:TATSSI.qa.EOS.quality:Decoding MOD13A2.006...\n",
      "INFO:TATSSI.qa.EOS.quality:File /home/glopez/Projects/TATSSI/data/test_gee/1_km_16_days_VI_Quality/MOD13A2.2018_10_16.006.1_km_16_days_VI_Quality.tif\n"
     ]
    },
    {
     "name": "stderr",
     "output_type": "stream",
     "text": [
      "INFO:TATSSI.qa.EOS.quality:Decoding QA layer MODLAND...\n",
      "INFO:TATSSI.qa.EOS.quality:Decoding QA layer VI Usefulness...\n",
      "INFO:TATSSI.qa.EOS.quality:Decoding QA layer Aerosol Quantity...\n",
      "INFO:TATSSI.qa.EOS.quality:Decoding QA layer Adjacent cloud detected...\n",
      "INFO:TATSSI.qa.EOS.quality:Decoding QA layer Atmosphere BRDF Correction...\n",
      "INFO:TATSSI.qa.EOS.quality:Decoding QA layer Mixed Clouds...\n",
      "INFO:TATSSI.qa.EOS.quality:Decoding QA layer Land/Water Mask...\n",
      "INFO:TATSSI.qa.EOS.quality:Decoding QA layer Possible snow/ice...\n",
      "INFO:TATSSI.qa.EOS.quality:Decoding QA layer Possible shadow...\n",
      "INFO:TATSSI.qa.EOS.quality:Decoding finished.\n",
      "INFO:TATSSI.qa.EOS.quality:Decoding MOD13A2.006...\n",
      "INFO:TATSSI.qa.EOS.quality:File /home/glopez/Projects/TATSSI/data/test_gee/1_km_16_days_VI_Quality/MOD13A2.2018_11_01.006.1_km_16_days_VI_Quality.tif\n",
      "INFO:TATSSI.qa.EOS.quality:Decoding QA layer MODLAND...\n",
      "INFO:TATSSI.qa.EOS.quality:Decoding QA layer VI Usefulness...\n",
      "INFO:TATSSI.qa.EOS.quality:Decoding QA layer Aerosol Quantity...\n",
      "INFO:TATSSI.qa.EOS.quality:Decoding QA layer Adjacent cloud detected...\n",
      "INFO:TATSSI.qa.EOS.quality:Decoding QA layer Atmosphere BRDF Correction...\n",
      "INFO:TATSSI.qa.EOS.quality:Decoding QA layer Mixed Clouds...\n",
      "INFO:TATSSI.qa.EOS.quality:Decoding QA layer Land/Water Mask...\n",
      "INFO:TATSSI.qa.EOS.quality:Decoding QA layer Possible snow/ice...\n",
      "INFO:TATSSI.qa.EOS.quality:Decoding QA layer Possible shadow...\n",
      "INFO:TATSSI.qa.EOS.quality:Decoding finished.\n",
      "INFO:TATSSI.qa.EOS.quality:Decoding MOD13A2.006...\n",
      "INFO:TATSSI.qa.EOS.quality:File /home/glopez/Projects/TATSSI/data/test_gee/1_km_16_days_VI_Quality/MOD13A2.2018_11_17.006.1_km_16_days_VI_Quality.tif\n",
      "INFO:TATSSI.qa.EOS.quality:Decoding QA layer MODLAND...\n",
      "INFO:TATSSI.qa.EOS.quality:Decoding QA layer VI Usefulness...\n",
      "INFO:TATSSI.qa.EOS.quality:Decoding QA layer Aerosol Quantity...\n",
      "INFO:TATSSI.qa.EOS.quality:Decoding QA layer Adjacent cloud detected...\n",
      "INFO:TATSSI.qa.EOS.quality:Decoding QA layer Atmosphere BRDF Correction...\n",
      "INFO:TATSSI.qa.EOS.quality:Decoding QA layer Mixed Clouds...\n",
      "INFO:TATSSI.qa.EOS.quality:Decoding QA layer Land/Water Mask...\n",
      "INFO:TATSSI.qa.EOS.quality:Decoding QA layer Possible snow/ice...\n",
      "INFO:TATSSI.qa.EOS.quality:Decoding QA layer Possible shadow...\n",
      "INFO:TATSSI.qa.EOS.quality:Decoding finished.\n",
      "INFO:TATSSI.qa.EOS.quality:Decoding MOD13A2.006...\n",
      "INFO:TATSSI.qa.EOS.quality:File /home/glopez/Projects/TATSSI/data/test_gee/1_km_16_days_VI_Quality/MOD13A2.2018_12_03.006.1_km_16_days_VI_Quality.tif\n",
      "INFO:TATSSI.qa.EOS.quality:Decoding QA layer MODLAND...\n",
      "INFO:TATSSI.qa.EOS.quality:Decoding QA layer VI Usefulness...\n",
      "INFO:TATSSI.qa.EOS.quality:Decoding QA layer Aerosol Quantity...\n",
      "INFO:TATSSI.qa.EOS.quality:Decoding QA layer Adjacent cloud detected...\n",
      "INFO:TATSSI.qa.EOS.quality:Decoding QA layer Atmosphere BRDF Correction...\n",
      "INFO:TATSSI.qa.EOS.quality:Decoding QA layer Mixed Clouds...\n",
      "INFO:TATSSI.qa.EOS.quality:Decoding QA layer Land/Water Mask...\n",
      "INFO:TATSSI.qa.EOS.quality:Decoding QA layer Possible snow/ice...\n",
      "INFO:TATSSI.qa.EOS.quality:Decoding QA layer Possible shadow...\n",
      "INFO:TATSSI.qa.EOS.quality:Decoding finished.\n",
      "INFO:TATSSI.qa.EOS.quality:Decoding MOD13A2.006...\n",
      "INFO:TATSSI.qa.EOS.quality:File /home/glopez/Projects/TATSSI/data/test_gee/1_km_16_days_VI_Quality/MOD13A2.2018_12_19.006.1_km_16_days_VI_Quality.tif\n",
      "INFO:TATSSI.qa.EOS.quality:Decoding QA layer MODLAND...\n",
      "INFO:TATSSI.qa.EOS.quality:Decoding QA layer VI Usefulness...\n",
      "INFO:TATSSI.qa.EOS.quality:Decoding QA layer Aerosol Quantity...\n",
      "INFO:TATSSI.qa.EOS.quality:Decoding QA layer Adjacent cloud detected...\n",
      "INFO:TATSSI.qa.EOS.quality:Decoding QA layer Atmosphere BRDF Correction...\n",
      "INFO:TATSSI.qa.EOS.quality:Decoding QA layer Mixed Clouds...\n",
      "INFO:TATSSI.qa.EOS.quality:Decoding QA layer Land/Water Mask...\n",
      "INFO:TATSSI.qa.EOS.quality:Decoding QA layer Possible snow/ice...\n",
      "INFO:TATSSI.qa.EOS.quality:Decoding QA layer Possible shadow...\n",
      "INFO:TATSSI.qa.EOS.quality:Decoding finished.\n",
      "INFO:TATSSI.qa.EOS.quality:Decoding MOD13A2.006...\n",
      "INFO:TATSSI.qa.EOS.quality:File /home/glopez/Projects/TATSSI/data/test_gee/1_km_16_days_VI_Quality/MOD13A2.2019_01_01.006.1_km_16_days_VI_Quality.tif\n",
      "INFO:TATSSI.qa.EOS.quality:Decoding QA layer MODLAND...\n",
      "INFO:TATSSI.qa.EOS.quality:Decoding QA layer VI Usefulness...\n",
      "INFO:TATSSI.qa.EOS.quality:Decoding QA layer Aerosol Quantity...\n",
      "INFO:TATSSI.qa.EOS.quality:Decoding QA layer Adjacent cloud detected...\n",
      "INFO:TATSSI.qa.EOS.quality:Decoding QA layer Atmosphere BRDF Correction...\n",
      "INFO:TATSSI.qa.EOS.quality:Decoding QA layer Mixed Clouds...\n",
      "INFO:TATSSI.qa.EOS.quality:Decoding QA layer Land/Water Mask...\n",
      "INFO:TATSSI.qa.EOS.quality:Decoding QA layer Possible snow/ice...\n",
      "INFO:TATSSI.qa.EOS.quality:Decoding QA layer Possible shadow...\n",
      "INFO:TATSSI.qa.EOS.quality:Decoding finished.\n",
      "INFO:TATSSI.qa.EOS.quality:Decoding MOD13A2.006...\n",
      "INFO:TATSSI.qa.EOS.quality:File /home/glopez/Projects/TATSSI/data/test_gee/1_km_16_days_VI_Quality/MOD13A2.2019_01_17.006.1_km_16_days_VI_Quality.tif\n",
      "INFO:TATSSI.qa.EOS.quality:Decoding QA layer MODLAND...\n",
      "INFO:TATSSI.qa.EOS.quality:Decoding QA layer VI Usefulness...\n",
      "INFO:TATSSI.qa.EOS.quality:Decoding QA layer Aerosol Quantity...\n",
      "INFO:TATSSI.qa.EOS.quality:Decoding QA layer Adjacent cloud detected...\n",
      "INFO:TATSSI.qa.EOS.quality:Decoding QA layer Atmosphere BRDF Correction...\n",
      "INFO:TATSSI.qa.EOS.quality:Decoding QA layer Mixed Clouds...\n",
      "INFO:TATSSI.qa.EOS.quality:Decoding QA layer Land/Water Mask...\n",
      "INFO:TATSSI.qa.EOS.quality:Decoding QA layer Possible snow/ice...\n",
      "INFO:TATSSI.qa.EOS.quality:Decoding QA layer Possible shadow...\n",
      "INFO:TATSSI.qa.EOS.quality:Decoding finished.\n",
      "INFO:TATSSI.qa.EOS.quality:Decoding MOD13A2.006...\n",
      "INFO:TATSSI.qa.EOS.quality:File /home/glopez/Projects/TATSSI/data/test_gee/1_km_16_days_VI_Quality/MOD13A2.2019_02_02.006.1_km_16_days_VI_Quality.tif\n",
      "INFO:TATSSI.qa.EOS.quality:Decoding QA layer MODLAND...\n",
      "INFO:TATSSI.qa.EOS.quality:Decoding QA layer VI Usefulness...\n",
      "INFO:TATSSI.qa.EOS.quality:Decoding QA layer Aerosol Quantity...\n",
      "INFO:TATSSI.qa.EOS.quality:Decoding QA layer Adjacent cloud detected...\n",
      "INFO:TATSSI.qa.EOS.quality:Decoding QA layer Atmosphere BRDF Correction...\n",
      "INFO:TATSSI.qa.EOS.quality:Decoding QA layer Mixed Clouds...\n",
      "INFO:TATSSI.qa.EOS.quality:Decoding QA layer Land/Water Mask...\n",
      "INFO:TATSSI.qa.EOS.quality:Decoding QA layer Possible snow/ice...\n",
      "INFO:TATSSI.qa.EOS.quality:Decoding QA layer Possible shadow...\n",
      "INFO:TATSSI.qa.EOS.quality:Decoding finished.\n",
      "INFO:TATSSI.qa.EOS.quality:Decoding MOD13A2.006...\n",
      "INFO:TATSSI.qa.EOS.quality:File /home/glopez/Projects/TATSSI/data/test_gee/1_km_16_days_VI_Quality/MOD13A2.2019_02_18.006.1_km_16_days_VI_Quality.tif\n",
      "INFO:TATSSI.qa.EOS.quality:Decoding QA layer MODLAND...\n",
      "INFO:TATSSI.qa.EOS.quality:Decoding QA layer VI Usefulness...\n",
      "INFO:TATSSI.qa.EOS.quality:Decoding QA layer Aerosol Quantity...\n",
      "INFO:TATSSI.qa.EOS.quality:Decoding QA layer Adjacent cloud detected...\n",
      "INFO:TATSSI.qa.EOS.quality:Decoding QA layer Atmosphere BRDF Correction...\n",
      "INFO:TATSSI.qa.EOS.quality:Decoding QA layer Mixed Clouds...\n",
      "INFO:TATSSI.qa.EOS.quality:Decoding QA layer Land/Water Mask...\n",
      "INFO:TATSSI.qa.EOS.quality:Decoding QA layer Possible snow/ice...\n",
      "INFO:TATSSI.qa.EOS.quality:Decoding QA layer Possible shadow...\n",
      "INFO:TATSSI.qa.EOS.quality:Decoding finished.\n",
      "INFO:TATSSI.qa.EOS.quality:Decoding MOD13A2.006...\n",
      "INFO:TATSSI.qa.EOS.quality:File /home/glopez/Projects/TATSSI/data/test_gee/1_km_16_days_VI_Quality/MOD13A2.2019_03_06.006.1_km_16_days_VI_Quality.tif\n",
      "INFO:TATSSI.qa.EOS.quality:Decoding QA layer MODLAND...\n",
      "INFO:TATSSI.qa.EOS.quality:Decoding QA layer VI Usefulness...\n",
      "INFO:TATSSI.qa.EOS.quality:Decoding QA layer Aerosol Quantity...\n",
      "INFO:TATSSI.qa.EOS.quality:Decoding QA layer Adjacent cloud detected...\n",
      "INFO:TATSSI.qa.EOS.quality:Decoding QA layer Atmosphere BRDF Correction...\n",
      "INFO:TATSSI.qa.EOS.quality:Decoding QA layer Mixed Clouds...\n",
      "INFO:TATSSI.qa.EOS.quality:Decoding QA layer Land/Water Mask...\n",
      "INFO:TATSSI.qa.EOS.quality:Decoding QA layer Possible snow/ice...\n",
      "INFO:TATSSI.qa.EOS.quality:Decoding QA layer Possible shadow...\n",
      "INFO:TATSSI.qa.EOS.quality:Decoding finished.\n",
      "INFO:TATSSI.qa.EOS.quality:Decoding MOD13A2.006...\n",
      "INFO:TATSSI.qa.EOS.quality:File /home/glopez/Projects/TATSSI/data/test_gee/1_km_16_days_VI_Quality/MOD13A2.2019_03_22.006.1_km_16_days_VI_Quality.tif\n"
     ]
    },
    {
     "name": "stderr",
     "output_type": "stream",
     "text": [
      "INFO:TATSSI.qa.EOS.quality:Decoding QA layer MODLAND...\n",
      "INFO:TATSSI.qa.EOS.quality:Decoding QA layer VI Usefulness...\n",
      "INFO:TATSSI.qa.EOS.quality:Decoding QA layer Aerosol Quantity...\n",
      "INFO:TATSSI.qa.EOS.quality:Decoding QA layer Adjacent cloud detected...\n",
      "INFO:TATSSI.qa.EOS.quality:Decoding QA layer Atmosphere BRDF Correction...\n",
      "INFO:TATSSI.qa.EOS.quality:Decoding QA layer Mixed Clouds...\n",
      "INFO:TATSSI.qa.EOS.quality:Decoding QA layer Land/Water Mask...\n",
      "INFO:TATSSI.qa.EOS.quality:Decoding QA layer Possible snow/ice...\n",
      "INFO:TATSSI.qa.EOS.quality:Decoding QA layer Possible shadow...\n",
      "INFO:TATSSI.qa.EOS.quality:Decoding finished.\n",
      "INFO:TATSSI.qa.EOS.quality:Decoding MOD13A2.006...\n",
      "INFO:TATSSI.qa.EOS.quality:File /home/glopez/Projects/TATSSI/data/test_gee/1_km_16_days_VI_Quality/MOD13A2.2019_04_07.006.1_km_16_days_VI_Quality.tif\n",
      "INFO:TATSSI.qa.EOS.quality:Decoding QA layer MODLAND...\n",
      "INFO:TATSSI.qa.EOS.quality:Decoding QA layer VI Usefulness...\n",
      "INFO:TATSSI.qa.EOS.quality:Decoding QA layer Aerosol Quantity...\n",
      "INFO:TATSSI.qa.EOS.quality:Decoding QA layer Adjacent cloud detected...\n",
      "INFO:TATSSI.qa.EOS.quality:Decoding QA layer Atmosphere BRDF Correction...\n",
      "INFO:TATSSI.qa.EOS.quality:Decoding QA layer Mixed Clouds...\n",
      "INFO:TATSSI.qa.EOS.quality:Decoding QA layer Land/Water Mask...\n",
      "INFO:TATSSI.qa.EOS.quality:Decoding QA layer Possible snow/ice...\n",
      "INFO:TATSSI.qa.EOS.quality:Decoding QA layer Possible shadow...\n",
      "INFO:TATSSI.qa.EOS.quality:Decoding finished.\n",
      "INFO:TATSSI.qa.EOS.quality:Decoding MOD13A2.006...\n",
      "INFO:TATSSI.qa.EOS.quality:File /home/glopez/Projects/TATSSI/data/test_gee/1_km_16_days_VI_Quality/MOD13A2.2019_04_23.006.1_km_16_days_VI_Quality.tif\n",
      "INFO:TATSSI.qa.EOS.quality:Decoding QA layer MODLAND...\n",
      "INFO:TATSSI.qa.EOS.quality:Decoding QA layer VI Usefulness...\n",
      "INFO:TATSSI.qa.EOS.quality:Decoding QA layer Aerosol Quantity...\n",
      "INFO:TATSSI.qa.EOS.quality:Decoding QA layer Adjacent cloud detected...\n",
      "INFO:TATSSI.qa.EOS.quality:Decoding QA layer Atmosphere BRDF Correction...\n",
      "INFO:TATSSI.qa.EOS.quality:Decoding QA layer Mixed Clouds...\n",
      "INFO:TATSSI.qa.EOS.quality:Decoding QA layer Land/Water Mask...\n",
      "INFO:TATSSI.qa.EOS.quality:Decoding QA layer Possible snow/ice...\n",
      "INFO:TATSSI.qa.EOS.quality:Decoding QA layer Possible shadow...\n",
      "INFO:TATSSI.qa.EOS.quality:Decoding finished.\n",
      "INFO:TATSSI.qa.EOS.quality:Decoding MOD13A2.006...\n",
      "INFO:TATSSI.qa.EOS.quality:File /home/glopez/Projects/TATSSI/data/test_gee/1_km_16_days_VI_Quality/MOD13A2.2019_05_09.006.1_km_16_days_VI_Quality.tif\n",
      "INFO:TATSSI.qa.EOS.quality:Decoding QA layer MODLAND...\n",
      "INFO:TATSSI.qa.EOS.quality:Decoding QA layer VI Usefulness...\n",
      "INFO:TATSSI.qa.EOS.quality:Decoding QA layer Aerosol Quantity...\n",
      "INFO:TATSSI.qa.EOS.quality:Decoding QA layer Adjacent cloud detected...\n",
      "INFO:TATSSI.qa.EOS.quality:Decoding QA layer Atmosphere BRDF Correction...\n",
      "INFO:TATSSI.qa.EOS.quality:Decoding QA layer Mixed Clouds...\n",
      "INFO:TATSSI.qa.EOS.quality:Decoding QA layer Land/Water Mask...\n",
      "INFO:TATSSI.qa.EOS.quality:Decoding QA layer Possible snow/ice...\n",
      "INFO:TATSSI.qa.EOS.quality:Decoding QA layer Possible shadow...\n",
      "INFO:TATSSI.qa.EOS.quality:Decoding finished.\n",
      "INFO:TATSSI.qa.EOS.quality:Decoding MOD13A2.006...\n",
      "INFO:TATSSI.qa.EOS.quality:File /home/glopez/Projects/TATSSI/data/test_gee/1_km_16_days_VI_Quality/MOD13A2.2019_05_25.006.1_km_16_days_VI_Quality.tif\n",
      "INFO:TATSSI.qa.EOS.quality:Decoding QA layer MODLAND...\n",
      "INFO:TATSSI.qa.EOS.quality:Decoding QA layer VI Usefulness...\n",
      "INFO:TATSSI.qa.EOS.quality:Decoding QA layer Aerosol Quantity...\n",
      "INFO:TATSSI.qa.EOS.quality:Decoding QA layer Adjacent cloud detected...\n",
      "INFO:TATSSI.qa.EOS.quality:Decoding QA layer Atmosphere BRDF Correction...\n",
      "INFO:TATSSI.qa.EOS.quality:Decoding QA layer Mixed Clouds...\n",
      "INFO:TATSSI.qa.EOS.quality:Decoding QA layer Land/Water Mask...\n",
      "INFO:TATSSI.qa.EOS.quality:Decoding QA layer Possible snow/ice...\n",
      "INFO:TATSSI.qa.EOS.quality:Decoding QA layer Possible shadow...\n",
      "INFO:TATSSI.qa.EOS.quality:Decoding finished.\n",
      "INFO:TATSSI.qa.EOS.quality:Decoding MOD13A2.006...\n",
      "INFO:TATSSI.qa.EOS.quality:File /home/glopez/Projects/TATSSI/data/test_gee/1_km_16_days_VI_Quality/MOD13A2.2019_06_10.006.1_km_16_days_VI_Quality.tif\n",
      "INFO:TATSSI.qa.EOS.quality:Decoding QA layer MODLAND...\n",
      "INFO:TATSSI.qa.EOS.quality:Decoding QA layer VI Usefulness...\n",
      "INFO:TATSSI.qa.EOS.quality:Decoding QA layer Aerosol Quantity...\n",
      "INFO:TATSSI.qa.EOS.quality:Decoding QA layer Adjacent cloud detected...\n",
      "INFO:TATSSI.qa.EOS.quality:Decoding QA layer Atmosphere BRDF Correction...\n",
      "INFO:TATSSI.qa.EOS.quality:Decoding QA layer Mixed Clouds...\n",
      "INFO:TATSSI.qa.EOS.quality:Decoding QA layer Land/Water Mask...\n",
      "INFO:TATSSI.qa.EOS.quality:Decoding QA layer Possible snow/ice...\n",
      "INFO:TATSSI.qa.EOS.quality:Decoding QA layer Possible shadow...\n",
      "INFO:TATSSI.qa.EOS.quality:Decoding finished.\n",
      "INFO:TATSSI.qa.EOS.quality:Decoding MOD13A2.006...\n",
      "INFO:TATSSI.qa.EOS.quality:File /home/glopez/Projects/TATSSI/data/test_gee/1_km_16_days_VI_Quality/MOD13A2.2019_06_26.006.1_km_16_days_VI_Quality.tif\n",
      "INFO:TATSSI.qa.EOS.quality:Decoding QA layer MODLAND...\n",
      "INFO:TATSSI.qa.EOS.quality:Decoding QA layer VI Usefulness...\n",
      "INFO:TATSSI.qa.EOS.quality:Decoding QA layer Aerosol Quantity...\n",
      "INFO:TATSSI.qa.EOS.quality:Decoding QA layer Adjacent cloud detected...\n",
      "INFO:TATSSI.qa.EOS.quality:Decoding QA layer Atmosphere BRDF Correction...\n",
      "INFO:TATSSI.qa.EOS.quality:Decoding QA layer Mixed Clouds...\n",
      "INFO:TATSSI.qa.EOS.quality:Decoding QA layer Land/Water Mask...\n",
      "INFO:TATSSI.qa.EOS.quality:Decoding QA layer Possible snow/ice...\n",
      "INFO:TATSSI.qa.EOS.quality:Decoding QA layer Possible shadow...\n",
      "INFO:TATSSI.qa.EOS.quality:Decoding finished.\n",
      "INFO:TATSSI.qa.EOS.quality:Decoding MOD13A2.006...\n",
      "INFO:TATSSI.qa.EOS.quality:File /home/glopez/Projects/TATSSI/data/test_gee/1_km_16_days_VI_Quality/MOD13A2.2019_07_12.006.1_km_16_days_VI_Quality.tif\n",
      "INFO:TATSSI.qa.EOS.quality:Decoding QA layer MODLAND...\n",
      "INFO:TATSSI.qa.EOS.quality:Decoding QA layer VI Usefulness...\n",
      "INFO:TATSSI.qa.EOS.quality:Decoding QA layer Aerosol Quantity...\n",
      "INFO:TATSSI.qa.EOS.quality:Decoding QA layer Adjacent cloud detected...\n",
      "INFO:TATSSI.qa.EOS.quality:Decoding QA layer Atmosphere BRDF Correction...\n",
      "INFO:TATSSI.qa.EOS.quality:Decoding QA layer Mixed Clouds...\n",
      "INFO:TATSSI.qa.EOS.quality:Decoding QA layer Land/Water Mask...\n",
      "INFO:TATSSI.qa.EOS.quality:Decoding QA layer Possible snow/ice...\n",
      "INFO:TATSSI.qa.EOS.quality:Decoding QA layer Possible shadow...\n",
      "INFO:TATSSI.qa.EOS.quality:Decoding finished.\n",
      "INFO:TATSSI.qa.EOS.quality:Decoding MOD13A2.006...\n",
      "INFO:TATSSI.qa.EOS.quality:File /home/glopez/Projects/TATSSI/data/test_gee/1_km_16_days_VI_Quality/MOD13A2.2019_07_28.006.1_km_16_days_VI_Quality.tif\n",
      "INFO:TATSSI.qa.EOS.quality:Decoding QA layer MODLAND...\n",
      "INFO:TATSSI.qa.EOS.quality:Decoding QA layer VI Usefulness...\n",
      "INFO:TATSSI.qa.EOS.quality:Decoding QA layer Aerosol Quantity...\n",
      "INFO:TATSSI.qa.EOS.quality:Decoding QA layer Adjacent cloud detected...\n",
      "INFO:TATSSI.qa.EOS.quality:Decoding QA layer Atmosphere BRDF Correction...\n",
      "INFO:TATSSI.qa.EOS.quality:Decoding QA layer Mixed Clouds...\n",
      "INFO:TATSSI.qa.EOS.quality:Decoding QA layer Land/Water Mask...\n",
      "INFO:TATSSI.qa.EOS.quality:Decoding QA layer Possible snow/ice...\n",
      "INFO:TATSSI.qa.EOS.quality:Decoding QA layer Possible shadow...\n",
      "INFO:TATSSI.qa.EOS.quality:Decoding finished.\n",
      "INFO:TATSSI.qa.EOS.quality:Decoding MOD13A2.006...\n",
      "INFO:TATSSI.qa.EOS.quality:File /home/glopez/Projects/TATSSI/data/test_gee/1_km_16_days_VI_Quality/MOD13A2.2019_08_13.006.1_km_16_days_VI_Quality.tif\n",
      "INFO:TATSSI.qa.EOS.quality:Decoding QA layer MODLAND...\n",
      "INFO:TATSSI.qa.EOS.quality:Decoding QA layer VI Usefulness...\n",
      "INFO:TATSSI.qa.EOS.quality:Decoding QA layer Aerosol Quantity...\n",
      "INFO:TATSSI.qa.EOS.quality:Decoding QA layer Adjacent cloud detected...\n",
      "INFO:TATSSI.qa.EOS.quality:Decoding QA layer Atmosphere BRDF Correction...\n",
      "INFO:TATSSI.qa.EOS.quality:Decoding QA layer Mixed Clouds...\n",
      "INFO:TATSSI.qa.EOS.quality:Decoding QA layer Land/Water Mask...\n",
      "INFO:TATSSI.qa.EOS.quality:Decoding QA layer Possible snow/ice...\n",
      "INFO:TATSSI.qa.EOS.quality:Decoding QA layer Possible shadow...\n",
      "INFO:TATSSI.qa.EOS.quality:Decoding finished.\n",
      "INFO:TATSSI.qa.EOS.quality:Decoding MOD13A2.006...\n",
      "INFO:TATSSI.qa.EOS.quality:File /home/glopez/Projects/TATSSI/data/test_gee/1_km_16_days_VI_Quality/MOD13A2.2019_08_29.006.1_km_16_days_VI_Quality.tif\n"
     ]
    },
    {
     "name": "stderr",
     "output_type": "stream",
     "text": [
      "INFO:TATSSI.qa.EOS.quality:Decoding QA layer MODLAND...\n",
      "INFO:TATSSI.qa.EOS.quality:Decoding QA layer VI Usefulness...\n",
      "INFO:TATSSI.qa.EOS.quality:Decoding QA layer Aerosol Quantity...\n",
      "INFO:TATSSI.qa.EOS.quality:Decoding QA layer Adjacent cloud detected...\n",
      "INFO:TATSSI.qa.EOS.quality:Decoding QA layer Atmosphere BRDF Correction...\n",
      "INFO:TATSSI.qa.EOS.quality:Decoding QA layer Mixed Clouds...\n",
      "INFO:TATSSI.qa.EOS.quality:Decoding QA layer Land/Water Mask...\n",
      "INFO:TATSSI.qa.EOS.quality:Decoding QA layer Possible snow/ice...\n",
      "INFO:TATSSI.qa.EOS.quality:Decoding QA layer Possible shadow...\n",
      "INFO:TATSSI.qa.EOS.quality:Decoding finished.\n",
      "INFO:TATSSI.qa.EOS.quality:Decoding MOD13A2.006...\n",
      "INFO:TATSSI.qa.EOS.quality:File /home/glopez/Projects/TATSSI/data/test_gee/1_km_16_days_VI_Quality/MOD13A2.2019_09_14.006.1_km_16_days_VI_Quality.tif\n",
      "INFO:TATSSI.qa.EOS.quality:Decoding QA layer MODLAND...\n",
      "INFO:TATSSI.qa.EOS.quality:Decoding QA layer VI Usefulness...\n",
      "INFO:TATSSI.qa.EOS.quality:Decoding QA layer Aerosol Quantity...\n",
      "INFO:TATSSI.qa.EOS.quality:Decoding QA layer Adjacent cloud detected...\n",
      "INFO:TATSSI.qa.EOS.quality:Decoding QA layer Atmosphere BRDF Correction...\n",
      "INFO:TATSSI.qa.EOS.quality:Decoding QA layer Mixed Clouds...\n",
      "INFO:TATSSI.qa.EOS.quality:Decoding QA layer Land/Water Mask...\n",
      "INFO:TATSSI.qa.EOS.quality:Decoding QA layer Possible snow/ice...\n",
      "INFO:TATSSI.qa.EOS.quality:Decoding QA layer Possible shadow...\n",
      "INFO:TATSSI.qa.EOS.quality:Decoding finished.\n",
      "INFO:TATSSI.qa.EOS.quality:Decoding MOD13A2.006...\n",
      "INFO:TATSSI.qa.EOS.quality:File /home/glopez/Projects/TATSSI/data/test_gee/1_km_16_days_VI_Quality/MOD13A2.2019_09_30.006.1_km_16_days_VI_Quality.tif\n",
      "INFO:TATSSI.qa.EOS.quality:Decoding QA layer MODLAND...\n",
      "INFO:TATSSI.qa.EOS.quality:Decoding QA layer VI Usefulness...\n",
      "INFO:TATSSI.qa.EOS.quality:Decoding QA layer Aerosol Quantity...\n",
      "INFO:TATSSI.qa.EOS.quality:Decoding QA layer Adjacent cloud detected...\n",
      "INFO:TATSSI.qa.EOS.quality:Decoding QA layer Atmosphere BRDF Correction...\n",
      "INFO:TATSSI.qa.EOS.quality:Decoding QA layer Mixed Clouds...\n",
      "INFO:TATSSI.qa.EOS.quality:Decoding QA layer Land/Water Mask...\n",
      "INFO:TATSSI.qa.EOS.quality:Decoding QA layer Possible snow/ice...\n",
      "INFO:TATSSI.qa.EOS.quality:Decoding QA layer Possible shadow...\n",
      "INFO:TATSSI.qa.EOS.quality:Decoding finished.\n",
      "INFO:TATSSI.qa.EOS.quality:Decoding MOD13A2.006...\n",
      "INFO:TATSSI.qa.EOS.quality:File /home/glopez/Projects/TATSSI/data/test_gee/1_km_16_days_VI_Quality/MOD13A2.2019_10_16.006.1_km_16_days_VI_Quality.tif\n",
      "INFO:TATSSI.qa.EOS.quality:Decoding QA layer MODLAND...\n",
      "INFO:TATSSI.qa.EOS.quality:Decoding QA layer VI Usefulness...\n",
      "INFO:TATSSI.qa.EOS.quality:Decoding QA layer Aerosol Quantity...\n",
      "INFO:TATSSI.qa.EOS.quality:Decoding QA layer Adjacent cloud detected...\n",
      "INFO:TATSSI.qa.EOS.quality:Decoding QA layer Atmosphere BRDF Correction...\n",
      "INFO:TATSSI.qa.EOS.quality:Decoding QA layer Mixed Clouds...\n",
      "INFO:TATSSI.qa.EOS.quality:Decoding QA layer Land/Water Mask...\n",
      "INFO:TATSSI.qa.EOS.quality:Decoding QA layer Possible snow/ice...\n",
      "INFO:TATSSI.qa.EOS.quality:Decoding QA layer Possible shadow...\n",
      "INFO:TATSSI.qa.EOS.quality:Decoding finished.\n",
      "INFO:TATSSI.qa.EOS.quality:Decoding MOD13A2.006...\n",
      "INFO:TATSSI.qa.EOS.quality:File /home/glopez/Projects/TATSSI/data/test_gee/1_km_16_days_VI_Quality/MOD13A2.2019_11_01.006.1_km_16_days_VI_Quality.tif\n",
      "INFO:TATSSI.qa.EOS.quality:Decoding QA layer MODLAND...\n",
      "INFO:TATSSI.qa.EOS.quality:Decoding QA layer VI Usefulness...\n",
      "INFO:TATSSI.qa.EOS.quality:Decoding QA layer Aerosol Quantity...\n",
      "INFO:TATSSI.qa.EOS.quality:Decoding QA layer Adjacent cloud detected...\n",
      "INFO:TATSSI.qa.EOS.quality:Decoding QA layer Atmosphere BRDF Correction...\n",
      "INFO:TATSSI.qa.EOS.quality:Decoding QA layer Mixed Clouds...\n",
      "INFO:TATSSI.qa.EOS.quality:Decoding QA layer Land/Water Mask...\n",
      "INFO:TATSSI.qa.EOS.quality:Decoding QA layer Possible snow/ice...\n",
      "INFO:TATSSI.qa.EOS.quality:Decoding QA layer Possible shadow...\n",
      "INFO:TATSSI.qa.EOS.quality:Decoding finished.\n",
      "INFO:TATSSI.qa.EOS.quality:Decoding MOD13A2.006...\n",
      "INFO:TATSSI.qa.EOS.quality:File /home/glopez/Projects/TATSSI/data/test_gee/1_km_16_days_VI_Quality/MOD13A2.2019_11_17.006.1_km_16_days_VI_Quality.tif\n",
      "INFO:TATSSI.qa.EOS.quality:Decoding QA layer MODLAND...\n",
      "INFO:TATSSI.qa.EOS.quality:Decoding QA layer VI Usefulness...\n",
      "INFO:TATSSI.qa.EOS.quality:Decoding QA layer Aerosol Quantity...\n",
      "INFO:TATSSI.qa.EOS.quality:Decoding QA layer Adjacent cloud detected...\n",
      "INFO:TATSSI.qa.EOS.quality:Decoding QA layer Atmosphere BRDF Correction...\n",
      "INFO:TATSSI.qa.EOS.quality:Decoding QA layer Mixed Clouds...\n",
      "INFO:TATSSI.qa.EOS.quality:Decoding QA layer Land/Water Mask...\n",
      "INFO:TATSSI.qa.EOS.quality:Decoding QA layer Possible snow/ice...\n",
      "INFO:TATSSI.qa.EOS.quality:Decoding QA layer Possible shadow...\n",
      "INFO:TATSSI.qa.EOS.quality:Decoding finished.\n",
      "INFO:TATSSI.qa.EOS.quality:Decoding MOD13A2.006...\n",
      "INFO:TATSSI.qa.EOS.quality:File /home/glopez/Projects/TATSSI/data/test_gee/1_km_16_days_VI_Quality/MOD13A2.2019_12_03.006.1_km_16_days_VI_Quality.tif\n",
      "INFO:TATSSI.qa.EOS.quality:Decoding QA layer MODLAND...\n",
      "INFO:TATSSI.qa.EOS.quality:Decoding QA layer VI Usefulness...\n",
      "INFO:TATSSI.qa.EOS.quality:Decoding QA layer Aerosol Quantity...\n",
      "INFO:TATSSI.qa.EOS.quality:Decoding QA layer Adjacent cloud detected...\n",
      "INFO:TATSSI.qa.EOS.quality:Decoding QA layer Atmosphere BRDF Correction...\n",
      "INFO:TATSSI.qa.EOS.quality:Decoding QA layer Mixed Clouds...\n",
      "INFO:TATSSI.qa.EOS.quality:Decoding QA layer Land/Water Mask...\n",
      "INFO:TATSSI.qa.EOS.quality:Decoding QA layer Possible snow/ice...\n",
      "INFO:TATSSI.qa.EOS.quality:Decoding QA layer Possible shadow...\n",
      "INFO:TATSSI.qa.EOS.quality:Decoding finished.\n",
      "INFO:TATSSI.qa.EOS.quality:Decoding MOD13A2.006...\n",
      "INFO:TATSSI.qa.EOS.quality:File /home/glopez/Projects/TATSSI/data/test_gee/1_km_16_days_VI_Quality/MOD13A2.2019_12_19.006.1_km_16_days_VI_Quality.tif\n",
      "INFO:TATSSI.qa.EOS.quality:Decoding QA layer MODLAND...\n",
      "INFO:TATSSI.qa.EOS.quality:Decoding QA layer VI Usefulness...\n",
      "INFO:TATSSI.qa.EOS.quality:Decoding QA layer Aerosol Quantity...\n",
      "INFO:TATSSI.qa.EOS.quality:Decoding QA layer Adjacent cloud detected...\n",
      "INFO:TATSSI.qa.EOS.quality:Decoding QA layer Atmosphere BRDF Correction...\n",
      "INFO:TATSSI.qa.EOS.quality:Decoding QA layer Mixed Clouds...\n",
      "INFO:TATSSI.qa.EOS.quality:Decoding QA layer Land/Water Mask...\n",
      "INFO:TATSSI.qa.EOS.quality:Decoding QA layer Possible snow/ice...\n",
      "INFO:TATSSI.qa.EOS.quality:Decoding QA layer Possible shadow...\n",
      "INFO:TATSSI.qa.EOS.quality:Decoding finished.\n",
      "INFO:TATSSI.qa.EOS.quality:Decoding MOD13A2.006...\n",
      "INFO:TATSSI.qa.EOS.quality:File /home/glopez/Projects/TATSSI/data/test_gee/1_km_16_days_VI_Quality/MOD13A2.2020_01_01.006.1_km_16_days_VI_Quality.tif\n",
      "INFO:TATSSI.qa.EOS.quality:Decoding QA layer MODLAND...\n",
      "INFO:TATSSI.qa.EOS.quality:Decoding QA layer VI Usefulness...\n",
      "INFO:TATSSI.qa.EOS.quality:Decoding QA layer Aerosol Quantity...\n",
      "INFO:TATSSI.qa.EOS.quality:Decoding QA layer Adjacent cloud detected...\n",
      "INFO:TATSSI.qa.EOS.quality:Decoding QA layer Atmosphere BRDF Correction...\n",
      "INFO:TATSSI.qa.EOS.quality:Decoding QA layer Mixed Clouds...\n",
      "INFO:TATSSI.qa.EOS.quality:Decoding QA layer Land/Water Mask...\n",
      "INFO:TATSSI.qa.EOS.quality:Decoding QA layer Possible snow/ice...\n",
      "INFO:TATSSI.qa.EOS.quality:Decoding QA layer Possible shadow...\n",
      "INFO:TATSSI.qa.EOS.quality:Decoding finished.\n",
      "INFO:TATSSI.qa.EOS.quality:Decoding MOD13A2.006...\n",
      "INFO:TATSSI.qa.EOS.quality:File /home/glopez/Projects/TATSSI/data/test_gee/1_km_16_days_VI_Quality/MOD13A2.2020_01_17.006.1_km_16_days_VI_Quality.tif\n",
      "INFO:TATSSI.qa.EOS.quality:Decoding QA layer MODLAND...\n",
      "INFO:TATSSI.qa.EOS.quality:Decoding QA layer VI Usefulness...\n",
      "INFO:TATSSI.qa.EOS.quality:Decoding QA layer Aerosol Quantity...\n",
      "INFO:TATSSI.qa.EOS.quality:Decoding QA layer Adjacent cloud detected...\n",
      "INFO:TATSSI.qa.EOS.quality:Decoding QA layer Atmosphere BRDF Correction...\n",
      "INFO:TATSSI.qa.EOS.quality:Decoding QA layer Mixed Clouds...\n",
      "INFO:TATSSI.qa.EOS.quality:Decoding QA layer Land/Water Mask...\n",
      "INFO:TATSSI.qa.EOS.quality:Decoding QA layer Possible snow/ice...\n",
      "INFO:TATSSI.qa.EOS.quality:Decoding QA layer Possible shadow...\n",
      "INFO:TATSSI.qa.EOS.quality:Decoding finished.\n",
      "INFO:TATSSI.qa.EOS.quality:Decoding MOD13A2.006...\n",
      "INFO:TATSSI.qa.EOS.quality:File /home/glopez/Projects/TATSSI/data/test_gee/1_km_16_days_VI_Quality/MOD13A2.2020_02_02.006.1_km_16_days_VI_Quality.tif\n"
     ]
    },
    {
     "name": "stderr",
     "output_type": "stream",
     "text": [
      "INFO:TATSSI.qa.EOS.quality:Decoding QA layer MODLAND...\n",
      "INFO:TATSSI.qa.EOS.quality:Decoding QA layer VI Usefulness...\n",
      "INFO:TATSSI.qa.EOS.quality:Decoding QA layer Aerosol Quantity...\n",
      "INFO:TATSSI.qa.EOS.quality:Decoding QA layer Adjacent cloud detected...\n",
      "INFO:TATSSI.qa.EOS.quality:Decoding QA layer Atmosphere BRDF Correction...\n",
      "INFO:TATSSI.qa.EOS.quality:Decoding QA layer Mixed Clouds...\n",
      "INFO:TATSSI.qa.EOS.quality:Decoding QA layer Land/Water Mask...\n",
      "INFO:TATSSI.qa.EOS.quality:Decoding QA layer Possible snow/ice...\n",
      "INFO:TATSSI.qa.EOS.quality:Decoding QA layer Possible shadow...\n",
      "INFO:TATSSI.qa.EOS.quality:Decoding finished.\n",
      "INFO:TATSSI.qa.EOS.quality:Decoding MOD13A2.006...\n",
      "INFO:TATSSI.qa.EOS.quality:File /home/glopez/Projects/TATSSI/data/test_gee/1_km_16_days_VI_Quality/MOD13A2.2020_02_18.006.1_km_16_days_VI_Quality.tif\n",
      "INFO:TATSSI.qa.EOS.quality:Decoding QA layer MODLAND...\n",
      "INFO:TATSSI.qa.EOS.quality:Decoding QA layer VI Usefulness...\n",
      "INFO:TATSSI.qa.EOS.quality:Decoding QA layer Aerosol Quantity...\n",
      "INFO:TATSSI.qa.EOS.quality:Decoding QA layer Adjacent cloud detected...\n",
      "INFO:TATSSI.qa.EOS.quality:Decoding QA layer Atmosphere BRDF Correction...\n",
      "INFO:TATSSI.qa.EOS.quality:Decoding QA layer Mixed Clouds...\n",
      "INFO:TATSSI.qa.EOS.quality:Decoding QA layer Land/Water Mask...\n",
      "INFO:TATSSI.qa.EOS.quality:Decoding QA layer Possible snow/ice...\n",
      "INFO:TATSSI.qa.EOS.quality:Decoding QA layer Possible shadow...\n",
      "INFO:TATSSI.qa.EOS.quality:Decoding finished.\n",
      "INFO:TATSSI.qa.EOS.quality:Decoding MOD13A2.006...\n",
      "INFO:TATSSI.qa.EOS.quality:File /home/glopez/Projects/TATSSI/data/test_gee/1_km_16_days_VI_Quality/MOD13A2.2020_03_05.006.1_km_16_days_VI_Quality.tif\n",
      "INFO:TATSSI.qa.EOS.quality:Decoding QA layer MODLAND...\n",
      "INFO:TATSSI.qa.EOS.quality:Decoding QA layer VI Usefulness...\n",
      "INFO:TATSSI.qa.EOS.quality:Decoding QA layer Aerosol Quantity...\n",
      "INFO:TATSSI.qa.EOS.quality:Decoding QA layer Adjacent cloud detected...\n",
      "INFO:TATSSI.qa.EOS.quality:Decoding QA layer Atmosphere BRDF Correction...\n",
      "INFO:TATSSI.qa.EOS.quality:Decoding QA layer Mixed Clouds...\n",
      "INFO:TATSSI.qa.EOS.quality:Decoding QA layer Land/Water Mask...\n",
      "INFO:TATSSI.qa.EOS.quality:Decoding QA layer Possible snow/ice...\n",
      "INFO:TATSSI.qa.EOS.quality:Decoding QA layer Possible shadow...\n",
      "INFO:TATSSI.qa.EOS.quality:Decoding finished.\n",
      "INFO:TATSSI.qa.EOS.quality:Decoding MOD13A2.006...\n",
      "INFO:TATSSI.qa.EOS.quality:File /home/glopez/Projects/TATSSI/data/test_gee/1_km_16_days_VI_Quality/MOD13A2.2020_03_21.006.1_km_16_days_VI_Quality.tif\n",
      "INFO:TATSSI.qa.EOS.quality:Decoding QA layer MODLAND...\n",
      "INFO:TATSSI.qa.EOS.quality:Decoding QA layer VI Usefulness...\n",
      "INFO:TATSSI.qa.EOS.quality:Decoding QA layer Aerosol Quantity...\n",
      "INFO:TATSSI.qa.EOS.quality:Decoding QA layer Adjacent cloud detected...\n",
      "INFO:TATSSI.qa.EOS.quality:Decoding QA layer Atmosphere BRDF Correction...\n",
      "INFO:TATSSI.qa.EOS.quality:Decoding QA layer Mixed Clouds...\n",
      "INFO:TATSSI.qa.EOS.quality:Decoding QA layer Land/Water Mask...\n",
      "INFO:TATSSI.qa.EOS.quality:Decoding QA layer Possible snow/ice...\n",
      "INFO:TATSSI.qa.EOS.quality:Decoding QA layer Possible shadow...\n",
      "INFO:TATSSI.qa.EOS.quality:Decoding finished.\n",
      "INFO:TATSSI.qa.EOS.quality:Decoding MOD13A2.006...\n",
      "INFO:TATSSI.qa.EOS.quality:File /home/glopez/Projects/TATSSI/data/test_gee/1_km_16_days_VI_Quality/MOD13A2.2020_04_06.006.1_km_16_days_VI_Quality.tif\n",
      "INFO:TATSSI.qa.EOS.quality:Decoding QA layer MODLAND...\n",
      "INFO:TATSSI.qa.EOS.quality:Decoding QA layer VI Usefulness...\n",
      "INFO:TATSSI.qa.EOS.quality:Decoding QA layer Aerosol Quantity...\n",
      "INFO:TATSSI.qa.EOS.quality:Decoding QA layer Adjacent cloud detected...\n",
      "INFO:TATSSI.qa.EOS.quality:Decoding QA layer Atmosphere BRDF Correction...\n",
      "INFO:TATSSI.qa.EOS.quality:Decoding QA layer Mixed Clouds...\n",
      "INFO:TATSSI.qa.EOS.quality:Decoding QA layer Land/Water Mask...\n",
      "INFO:TATSSI.qa.EOS.quality:Decoding QA layer Possible snow/ice...\n",
      "INFO:TATSSI.qa.EOS.quality:Decoding QA layer Possible shadow...\n",
      "INFO:TATSSI.qa.EOS.quality:Decoding finished.\n",
      "INFO:TATSSI.qa.EOS.quality:Decoding MOD13A2.006...\n",
      "INFO:TATSSI.qa.EOS.quality:File /home/glopez/Projects/TATSSI/data/test_gee/1_km_16_days_VI_Quality/MOD13A2.2020_04_22.006.1_km_16_days_VI_Quality.tif\n",
      "INFO:TATSSI.qa.EOS.quality:Decoding QA layer MODLAND...\n",
      "INFO:TATSSI.qa.EOS.quality:Decoding QA layer VI Usefulness...\n",
      "INFO:TATSSI.qa.EOS.quality:Decoding QA layer Aerosol Quantity...\n",
      "INFO:TATSSI.qa.EOS.quality:Decoding QA layer Adjacent cloud detected...\n",
      "INFO:TATSSI.qa.EOS.quality:Decoding QA layer Atmosphere BRDF Correction...\n",
      "INFO:TATSSI.qa.EOS.quality:Decoding QA layer Mixed Clouds...\n",
      "INFO:TATSSI.qa.EOS.quality:Decoding QA layer Land/Water Mask...\n",
      "INFO:TATSSI.qa.EOS.quality:Decoding QA layer Possible snow/ice...\n",
      "INFO:TATSSI.qa.EOS.quality:Decoding QA layer Possible shadow...\n",
      "INFO:TATSSI.qa.EOS.quality:Decoding finished.\n",
      "INFO:TATSSI.qa.EOS.quality:Decoding MOD13A2.006...\n",
      "INFO:TATSSI.qa.EOS.quality:File /home/glopez/Projects/TATSSI/data/test_gee/1_km_16_days_VI_Quality/MOD13A2.2020_05_08.006.1_km_16_days_VI_Quality.tif\n",
      "INFO:TATSSI.qa.EOS.quality:Decoding QA layer MODLAND...\n",
      "INFO:TATSSI.qa.EOS.quality:Decoding QA layer VI Usefulness...\n",
      "INFO:TATSSI.qa.EOS.quality:Decoding QA layer Aerosol Quantity...\n",
      "INFO:TATSSI.qa.EOS.quality:Decoding QA layer Adjacent cloud detected...\n",
      "INFO:TATSSI.qa.EOS.quality:Decoding QA layer Atmosphere BRDF Correction...\n",
      "INFO:TATSSI.qa.EOS.quality:Decoding QA layer Mixed Clouds...\n",
      "INFO:TATSSI.qa.EOS.quality:Decoding QA layer Land/Water Mask...\n",
      "INFO:TATSSI.qa.EOS.quality:Decoding QA layer Possible snow/ice...\n",
      "INFO:TATSSI.qa.EOS.quality:Decoding QA layer Possible shadow...\n",
      "INFO:TATSSI.qa.EOS.quality:Decoding finished.\n",
      "INFO:TATSSI.qa.EOS.quality:Decoding MOD13A2.006...\n",
      "INFO:TATSSI.qa.EOS.quality:File /home/glopez/Projects/TATSSI/data/test_gee/1_km_16_days_VI_Quality/MOD13A2.2020_05_24.006.1_km_16_days_VI_Quality.tif\n",
      "INFO:TATSSI.qa.EOS.quality:Decoding QA layer MODLAND...\n",
      "INFO:TATSSI.qa.EOS.quality:Decoding QA layer VI Usefulness...\n",
      "INFO:TATSSI.qa.EOS.quality:Decoding QA layer Aerosol Quantity...\n",
      "INFO:TATSSI.qa.EOS.quality:Decoding QA layer Adjacent cloud detected...\n",
      "INFO:TATSSI.qa.EOS.quality:Decoding QA layer Atmosphere BRDF Correction...\n",
      "INFO:TATSSI.qa.EOS.quality:Decoding QA layer Mixed Clouds...\n",
      "INFO:TATSSI.qa.EOS.quality:Decoding QA layer Land/Water Mask...\n",
      "INFO:TATSSI.qa.EOS.quality:Decoding QA layer Possible snow/ice...\n",
      "INFO:TATSSI.qa.EOS.quality:Decoding QA layer Possible shadow...\n",
      "INFO:TATSSI.qa.EOS.quality:Decoding finished.\n",
      "INFO:TATSSI.qa.EOS.quality:Decoding MOD13A2.006...\n",
      "INFO:TATSSI.qa.EOS.quality:File /home/glopez/Projects/TATSSI/data/test_gee/1_km_16_days_VI_Quality/MOD13A2.2020_06_09.006.1_km_16_days_VI_Quality.tif\n",
      "INFO:TATSSI.qa.EOS.quality:Decoding QA layer MODLAND...\n",
      "INFO:TATSSI.qa.EOS.quality:Decoding QA layer VI Usefulness...\n",
      "INFO:TATSSI.qa.EOS.quality:Decoding QA layer Aerosol Quantity...\n",
      "INFO:TATSSI.qa.EOS.quality:Decoding QA layer Adjacent cloud detected...\n",
      "INFO:TATSSI.qa.EOS.quality:Decoding QA layer Atmosphere BRDF Correction...\n",
      "INFO:TATSSI.qa.EOS.quality:Decoding QA layer Mixed Clouds...\n",
      "INFO:TATSSI.qa.EOS.quality:Decoding QA layer Land/Water Mask...\n",
      "INFO:TATSSI.qa.EOS.quality:Decoding QA layer Possible snow/ice...\n",
      "INFO:TATSSI.qa.EOS.quality:Decoding QA layer Possible shadow...\n",
      "INFO:TATSSI.qa.EOS.quality:Decoding finished.\n",
      "INFO:TATSSI.qa.EOS.quality:Decoding MOD13A2.006...\n",
      "INFO:TATSSI.qa.EOS.quality:File /home/glopez/Projects/TATSSI/data/test_gee/1_km_16_days_VI_Quality/MOD13A2.2020_06_25.006.1_km_16_days_VI_Quality.tif\n",
      "INFO:TATSSI.qa.EOS.quality:Decoding QA layer MODLAND...\n",
      "INFO:TATSSI.qa.EOS.quality:Decoding QA layer VI Usefulness...\n",
      "INFO:TATSSI.qa.EOS.quality:Decoding QA layer Aerosol Quantity...\n",
      "INFO:TATSSI.qa.EOS.quality:Decoding QA layer Adjacent cloud detected...\n",
      "INFO:TATSSI.qa.EOS.quality:Decoding QA layer Atmosphere BRDF Correction...\n",
      "INFO:TATSSI.qa.EOS.quality:Decoding QA layer Mixed Clouds...\n",
      "INFO:TATSSI.qa.EOS.quality:Decoding QA layer Land/Water Mask...\n",
      "INFO:TATSSI.qa.EOS.quality:Decoding QA layer Possible snow/ice...\n",
      "INFO:TATSSI.qa.EOS.quality:Decoding QA layer Possible shadow...\n",
      "INFO:TATSSI.qa.EOS.quality:Decoding finished.\n",
      "INFO:TATSSI.qa.EOS.quality:Decoding MOD13A2.006...\n",
      "INFO:TATSSI.qa.EOS.quality:File /home/glopez/Projects/TATSSI/data/test_gee/1_km_16_days_VI_Quality/MOD13A2.2020_07_11.006.1_km_16_days_VI_Quality.tif\n"
     ]
    },
    {
     "name": "stderr",
     "output_type": "stream",
     "text": [
      "INFO:TATSSI.qa.EOS.quality:Decoding QA layer MODLAND...\n",
      "INFO:TATSSI.qa.EOS.quality:Decoding QA layer VI Usefulness...\n",
      "INFO:TATSSI.qa.EOS.quality:Decoding QA layer Aerosol Quantity...\n",
      "INFO:TATSSI.qa.EOS.quality:Decoding QA layer Adjacent cloud detected...\n",
      "INFO:TATSSI.qa.EOS.quality:Decoding QA layer Atmosphere BRDF Correction...\n",
      "INFO:TATSSI.qa.EOS.quality:Decoding QA layer Mixed Clouds...\n",
      "INFO:TATSSI.qa.EOS.quality:Decoding QA layer Land/Water Mask...\n",
      "INFO:TATSSI.qa.EOS.quality:Decoding QA layer Possible snow/ice...\n",
      "INFO:TATSSI.qa.EOS.quality:Decoding QA layer Possible shadow...\n",
      "INFO:TATSSI.qa.EOS.quality:Decoding finished.\n",
      "INFO:TATSSI.qa.EOS.quality:Decoding MOD13A2.006...\n",
      "INFO:TATSSI.qa.EOS.quality:File /home/glopez/Projects/TATSSI/data/test_gee/1_km_16_days_VI_Quality/MOD13A2.2020_07_27.006.1_km_16_days_VI_Quality.tif\n",
      "INFO:TATSSI.qa.EOS.quality:Decoding QA layer MODLAND...\n",
      "INFO:TATSSI.qa.EOS.quality:Decoding QA layer VI Usefulness...\n",
      "INFO:TATSSI.qa.EOS.quality:Decoding QA layer Aerosol Quantity...\n",
      "INFO:TATSSI.qa.EOS.quality:Decoding QA layer Adjacent cloud detected...\n",
      "INFO:TATSSI.qa.EOS.quality:Decoding QA layer Atmosphere BRDF Correction...\n",
      "INFO:TATSSI.qa.EOS.quality:Decoding QA layer Mixed Clouds...\n",
      "INFO:TATSSI.qa.EOS.quality:Decoding QA layer Land/Water Mask...\n",
      "INFO:TATSSI.qa.EOS.quality:Decoding QA layer Possible snow/ice...\n",
      "INFO:TATSSI.qa.EOS.quality:Decoding QA layer Possible shadow...\n",
      "INFO:TATSSI.qa.EOS.quality:Decoding finished.\n",
      "INFO:TATSSI.qa.EOS.quality:Decoding MOD13A2.006...\n",
      "INFO:TATSSI.qa.EOS.quality:File /home/glopez/Projects/TATSSI/data/test_gee/1_km_16_days_VI_Quality/MOD13A2.2020_08_12.006.1_km_16_days_VI_Quality.tif\n",
      "INFO:TATSSI.qa.EOS.quality:Decoding QA layer MODLAND...\n",
      "INFO:TATSSI.qa.EOS.quality:Decoding QA layer VI Usefulness...\n",
      "INFO:TATSSI.qa.EOS.quality:Decoding QA layer Aerosol Quantity...\n",
      "INFO:TATSSI.qa.EOS.quality:Decoding QA layer Adjacent cloud detected...\n",
      "INFO:TATSSI.qa.EOS.quality:Decoding QA layer Atmosphere BRDF Correction...\n",
      "INFO:TATSSI.qa.EOS.quality:Decoding QA layer Mixed Clouds...\n",
      "INFO:TATSSI.qa.EOS.quality:Decoding QA layer Land/Water Mask...\n",
      "INFO:TATSSI.qa.EOS.quality:Decoding QA layer Possible snow/ice...\n",
      "INFO:TATSSI.qa.EOS.quality:Decoding QA layer Possible shadow...\n",
      "INFO:TATSSI.qa.EOS.quality:Decoding finished.\n",
      "INFO:TATSSI.qa.EOS.quality:Decoding MOD13A2.006...\n",
      "INFO:TATSSI.qa.EOS.quality:File /home/glopez/Projects/TATSSI/data/test_gee/1_km_16_days_VI_Quality/MOD13A2.2020_08_28.006.1_km_16_days_VI_Quality.tif\n",
      "INFO:TATSSI.qa.EOS.quality:Decoding QA layer MODLAND...\n",
      "INFO:TATSSI.qa.EOS.quality:Decoding QA layer VI Usefulness...\n",
      "INFO:TATSSI.qa.EOS.quality:Decoding QA layer Aerosol Quantity...\n",
      "INFO:TATSSI.qa.EOS.quality:Decoding QA layer Adjacent cloud detected...\n",
      "INFO:TATSSI.qa.EOS.quality:Decoding QA layer Atmosphere BRDF Correction...\n",
      "INFO:TATSSI.qa.EOS.quality:Decoding QA layer Mixed Clouds...\n",
      "INFO:TATSSI.qa.EOS.quality:Decoding QA layer Land/Water Mask...\n",
      "INFO:TATSSI.qa.EOS.quality:Decoding QA layer Possible snow/ice...\n",
      "INFO:TATSSI.qa.EOS.quality:Decoding QA layer Possible shadow...\n",
      "INFO:TATSSI.qa.EOS.quality:Decoding finished.\n",
      "INFO:TATSSI.qa.EOS.quality:Decoding MOD13A2.006...\n",
      "INFO:TATSSI.qa.EOS.quality:File /home/glopez/Projects/TATSSI/data/test_gee/1_km_16_days_VI_Quality/MOD13A2.2020_09_13.006.1_km_16_days_VI_Quality.tif\n",
      "INFO:TATSSI.qa.EOS.quality:Decoding QA layer MODLAND...\n",
      "INFO:TATSSI.qa.EOS.quality:Decoding QA layer VI Usefulness...\n",
      "INFO:TATSSI.qa.EOS.quality:Decoding QA layer Aerosol Quantity...\n",
      "INFO:TATSSI.qa.EOS.quality:Decoding QA layer Adjacent cloud detected...\n",
      "INFO:TATSSI.qa.EOS.quality:Decoding QA layer Atmosphere BRDF Correction...\n",
      "INFO:TATSSI.qa.EOS.quality:Decoding QA layer Mixed Clouds...\n",
      "INFO:TATSSI.qa.EOS.quality:Decoding QA layer Land/Water Mask...\n",
      "INFO:TATSSI.qa.EOS.quality:Decoding QA layer Possible snow/ice...\n",
      "INFO:TATSSI.qa.EOS.quality:Decoding QA layer Possible shadow...\n",
      "INFO:TATSSI.qa.EOS.quality:Decoding finished.\n",
      "INFO:TATSSI.qa.EOS.quality:Decoding MOD13A2.006...\n",
      "INFO:TATSSI.qa.EOS.quality:File /home/glopez/Projects/TATSSI/data/test_gee/1_km_16_days_VI_Quality/MOD13A2.2020_09_29.006.1_km_16_days_VI_Quality.tif\n",
      "INFO:TATSSI.qa.EOS.quality:Decoding QA layer MODLAND...\n",
      "INFO:TATSSI.qa.EOS.quality:Decoding QA layer VI Usefulness...\n",
      "INFO:TATSSI.qa.EOS.quality:Decoding QA layer Aerosol Quantity...\n",
      "INFO:TATSSI.qa.EOS.quality:Decoding QA layer Adjacent cloud detected...\n",
      "INFO:TATSSI.qa.EOS.quality:Decoding QA layer Atmosphere BRDF Correction...\n",
      "INFO:TATSSI.qa.EOS.quality:Decoding QA layer Mixed Clouds...\n",
      "INFO:TATSSI.qa.EOS.quality:Decoding QA layer Land/Water Mask...\n",
      "INFO:TATSSI.qa.EOS.quality:Decoding QA layer Possible snow/ice...\n",
      "INFO:TATSSI.qa.EOS.quality:Decoding QA layer Possible shadow...\n",
      "INFO:TATSSI.qa.EOS.quality:Decoding finished.\n",
      "INFO:TATSSI.qa.EOS.quality:Decoding MOD13A2.006...\n",
      "INFO:TATSSI.qa.EOS.quality:File /home/glopez/Projects/TATSSI/data/test_gee/1_km_16_days_VI_Quality/MOD13A2.2020_10_15.006.1_km_16_days_VI_Quality.tif\n",
      "INFO:TATSSI.qa.EOS.quality:Decoding QA layer MODLAND...\n",
      "INFO:TATSSI.qa.EOS.quality:Decoding QA layer VI Usefulness...\n",
      "INFO:TATSSI.qa.EOS.quality:Decoding QA layer Aerosol Quantity...\n",
      "INFO:TATSSI.qa.EOS.quality:Decoding QA layer Adjacent cloud detected...\n",
      "INFO:TATSSI.qa.EOS.quality:Decoding QA layer Atmosphere BRDF Correction...\n",
      "INFO:TATSSI.qa.EOS.quality:Decoding QA layer Mixed Clouds...\n",
      "INFO:TATSSI.qa.EOS.quality:Decoding QA layer Land/Water Mask...\n",
      "INFO:TATSSI.qa.EOS.quality:Decoding QA layer Possible snow/ice...\n",
      "INFO:TATSSI.qa.EOS.quality:Decoding QA layer Possible shadow...\n",
      "INFO:TATSSI.qa.EOS.quality:Decoding finished.\n",
      "INFO:TATSSI.qa.EOS.quality:Decoding MOD13A2.006...\n",
      "INFO:TATSSI.qa.EOS.quality:File /home/glopez/Projects/TATSSI/data/test_gee/1_km_16_days_VI_Quality/MOD13A2.2020_10_31.006.1_km_16_days_VI_Quality.tif\n",
      "INFO:TATSSI.qa.EOS.quality:Decoding QA layer MODLAND...\n",
      "INFO:TATSSI.qa.EOS.quality:Decoding QA layer VI Usefulness...\n",
      "INFO:TATSSI.qa.EOS.quality:Decoding QA layer Aerosol Quantity...\n",
      "INFO:TATSSI.qa.EOS.quality:Decoding QA layer Adjacent cloud detected...\n",
      "INFO:TATSSI.qa.EOS.quality:Decoding QA layer Atmosphere BRDF Correction...\n",
      "INFO:TATSSI.qa.EOS.quality:Decoding QA layer Mixed Clouds...\n",
      "INFO:TATSSI.qa.EOS.quality:Decoding QA layer Land/Water Mask...\n",
      "INFO:TATSSI.qa.EOS.quality:Decoding QA layer Possible snow/ice...\n",
      "INFO:TATSSI.qa.EOS.quality:Decoding QA layer Possible shadow...\n",
      "INFO:TATSSI.qa.EOS.quality:Decoding finished.\n",
      "INFO:TATSSI.qa.EOS.quality:Decoding MOD13A2.006...\n",
      "INFO:TATSSI.qa.EOS.quality:File /home/glopez/Projects/TATSSI/data/test_gee/1_km_16_days_VI_Quality/MOD13A2.2020_11_16.006.1_km_16_days_VI_Quality.tif\n",
      "INFO:TATSSI.qa.EOS.quality:Decoding QA layer MODLAND...\n",
      "INFO:TATSSI.qa.EOS.quality:Decoding QA layer VI Usefulness...\n",
      "INFO:TATSSI.qa.EOS.quality:Decoding QA layer Aerosol Quantity...\n",
      "INFO:TATSSI.qa.EOS.quality:Decoding QA layer Adjacent cloud detected...\n",
      "INFO:TATSSI.qa.EOS.quality:Decoding QA layer Atmosphere BRDF Correction...\n",
      "INFO:TATSSI.qa.EOS.quality:Decoding QA layer Mixed Clouds...\n",
      "INFO:TATSSI.qa.EOS.quality:Decoding QA layer Land/Water Mask...\n",
      "INFO:TATSSI.qa.EOS.quality:Decoding QA layer Possible snow/ice...\n",
      "INFO:TATSSI.qa.EOS.quality:Decoding QA layer Possible shadow...\n",
      "INFO:TATSSI.qa.EOS.quality:Decoding finished.\n",
      "INFO:TATSSI.qa.EOS.quality:Decoding MOD13A2.006...\n",
      "INFO:TATSSI.qa.EOS.quality:File /home/glopez/Projects/TATSSI/data/test_gee/1_km_16_days_pixel_reliability/MOD13A2.2008_01_01.006.1_km_16_days_pixel_reliability.tif\n",
      "INFO:TATSSI.qa.EOS.quality:Decoding QA layer MODLAND...\n",
      "INFO:TATSSI.qa.EOS.quality:Decoding finished.\n",
      "INFO:TATSSI.qa.EOS.quality:Decoding MOD13A2.006...\n",
      "INFO:TATSSI.qa.EOS.quality:File /home/glopez/Projects/TATSSI/data/test_gee/1_km_16_days_pixel_reliability/MOD13A2.2008_01_17.006.1_km_16_days_pixel_reliability.tif\n",
      "INFO:TATSSI.qa.EOS.quality:Decoding QA layer MODLAND...\n",
      "INFO:TATSSI.qa.EOS.quality:Decoding finished.\n",
      "INFO:TATSSI.qa.EOS.quality:Decoding MOD13A2.006...\n",
      "INFO:TATSSI.qa.EOS.quality:File /home/glopez/Projects/TATSSI/data/test_gee/1_km_16_days_pixel_reliability/MOD13A2.2008_02_02.006.1_km_16_days_pixel_reliability.tif\n",
      "INFO:TATSSI.qa.EOS.quality:Decoding QA layer MODLAND...\n",
      "INFO:TATSSI.qa.EOS.quality:Decoding finished.\n"
     ]
    },
    {
     "name": "stderr",
     "output_type": "stream",
     "text": [
      "INFO:TATSSI.qa.EOS.quality:Decoding MOD13A2.006...\n",
      "INFO:TATSSI.qa.EOS.quality:File /home/glopez/Projects/TATSSI/data/test_gee/1_km_16_days_pixel_reliability/MOD13A2.2008_02_18.006.1_km_16_days_pixel_reliability.tif\n",
      "INFO:TATSSI.qa.EOS.quality:Decoding QA layer MODLAND...\n",
      "INFO:TATSSI.qa.EOS.quality:Decoding finished.\n",
      "INFO:TATSSI.qa.EOS.quality:Decoding MOD13A2.006...\n",
      "INFO:TATSSI.qa.EOS.quality:File /home/glopez/Projects/TATSSI/data/test_gee/1_km_16_days_pixel_reliability/MOD13A2.2008_03_05.006.1_km_16_days_pixel_reliability.tif\n",
      "INFO:TATSSI.qa.EOS.quality:Decoding QA layer MODLAND...\n",
      "INFO:TATSSI.qa.EOS.quality:Decoding finished.\n",
      "INFO:TATSSI.qa.EOS.quality:Decoding MOD13A2.006...\n",
      "INFO:TATSSI.qa.EOS.quality:File /home/glopez/Projects/TATSSI/data/test_gee/1_km_16_days_pixel_reliability/MOD13A2.2008_03_21.006.1_km_16_days_pixel_reliability.tif\n",
      "INFO:TATSSI.qa.EOS.quality:Decoding QA layer MODLAND...\n",
      "INFO:TATSSI.qa.EOS.quality:Decoding finished.\n",
      "INFO:TATSSI.qa.EOS.quality:Decoding MOD13A2.006...\n",
      "INFO:TATSSI.qa.EOS.quality:File /home/glopez/Projects/TATSSI/data/test_gee/1_km_16_days_pixel_reliability/MOD13A2.2008_04_06.006.1_km_16_days_pixel_reliability.tif\n",
      "INFO:TATSSI.qa.EOS.quality:Decoding QA layer MODLAND...\n",
      "INFO:TATSSI.qa.EOS.quality:Decoding finished.\n",
      "INFO:TATSSI.qa.EOS.quality:Decoding MOD13A2.006...\n",
      "INFO:TATSSI.qa.EOS.quality:File /home/glopez/Projects/TATSSI/data/test_gee/1_km_16_days_pixel_reliability/MOD13A2.2008_04_22.006.1_km_16_days_pixel_reliability.tif\n",
      "INFO:TATSSI.qa.EOS.quality:Decoding QA layer MODLAND...\n",
      "INFO:TATSSI.qa.EOS.quality:Decoding finished.\n",
      "INFO:TATSSI.qa.EOS.quality:Decoding MOD13A2.006...\n",
      "INFO:TATSSI.qa.EOS.quality:File /home/glopez/Projects/TATSSI/data/test_gee/1_km_16_days_pixel_reliability/MOD13A2.2008_05_08.006.1_km_16_days_pixel_reliability.tif\n",
      "INFO:TATSSI.qa.EOS.quality:Decoding QA layer MODLAND...\n",
      "INFO:TATSSI.qa.EOS.quality:Decoding finished.\n",
      "INFO:TATSSI.qa.EOS.quality:Decoding MOD13A2.006...\n",
      "INFO:TATSSI.qa.EOS.quality:File /home/glopez/Projects/TATSSI/data/test_gee/1_km_16_days_pixel_reliability/MOD13A2.2008_05_24.006.1_km_16_days_pixel_reliability.tif\n",
      "INFO:TATSSI.qa.EOS.quality:Decoding QA layer MODLAND...\n",
      "INFO:TATSSI.qa.EOS.quality:Decoding finished.\n",
      "INFO:TATSSI.qa.EOS.quality:Decoding MOD13A2.006...\n",
      "INFO:TATSSI.qa.EOS.quality:File /home/glopez/Projects/TATSSI/data/test_gee/1_km_16_days_pixel_reliability/MOD13A2.2008_06_09.006.1_km_16_days_pixel_reliability.tif\n",
      "INFO:TATSSI.qa.EOS.quality:Decoding QA layer MODLAND...\n",
      "INFO:TATSSI.qa.EOS.quality:Decoding finished.\n",
      "INFO:TATSSI.qa.EOS.quality:Decoding MOD13A2.006...\n",
      "INFO:TATSSI.qa.EOS.quality:File /home/glopez/Projects/TATSSI/data/test_gee/1_km_16_days_pixel_reliability/MOD13A2.2008_06_25.006.1_km_16_days_pixel_reliability.tif\n",
      "INFO:TATSSI.qa.EOS.quality:Decoding QA layer MODLAND...\n",
      "INFO:TATSSI.qa.EOS.quality:Decoding finished.\n",
      "INFO:TATSSI.qa.EOS.quality:Decoding MOD13A2.006...\n",
      "INFO:TATSSI.qa.EOS.quality:File /home/glopez/Projects/TATSSI/data/test_gee/1_km_16_days_pixel_reliability/MOD13A2.2008_07_11.006.1_km_16_days_pixel_reliability.tif\n",
      "INFO:TATSSI.qa.EOS.quality:Decoding QA layer MODLAND...\n",
      "INFO:TATSSI.qa.EOS.quality:Decoding finished.\n",
      "INFO:TATSSI.qa.EOS.quality:Decoding MOD13A2.006...\n",
      "INFO:TATSSI.qa.EOS.quality:File /home/glopez/Projects/TATSSI/data/test_gee/1_km_16_days_pixel_reliability/MOD13A2.2008_07_27.006.1_km_16_days_pixel_reliability.tif\n",
      "INFO:TATSSI.qa.EOS.quality:Decoding QA layer MODLAND...\n",
      "INFO:TATSSI.qa.EOS.quality:Decoding finished.\n",
      "INFO:TATSSI.qa.EOS.quality:Decoding MOD13A2.006...\n",
      "INFO:TATSSI.qa.EOS.quality:File /home/glopez/Projects/TATSSI/data/test_gee/1_km_16_days_pixel_reliability/MOD13A2.2008_08_12.006.1_km_16_days_pixel_reliability.tif\n",
      "INFO:TATSSI.qa.EOS.quality:Decoding QA layer MODLAND...\n",
      "INFO:TATSSI.qa.EOS.quality:Decoding finished.\n",
      "INFO:TATSSI.qa.EOS.quality:Decoding MOD13A2.006...\n",
      "INFO:TATSSI.qa.EOS.quality:File /home/glopez/Projects/TATSSI/data/test_gee/1_km_16_days_pixel_reliability/MOD13A2.2008_08_28.006.1_km_16_days_pixel_reliability.tif\n",
      "INFO:TATSSI.qa.EOS.quality:Decoding QA layer MODLAND...\n",
      "INFO:TATSSI.qa.EOS.quality:Decoding finished.\n",
      "INFO:TATSSI.qa.EOS.quality:Decoding MOD13A2.006...\n",
      "INFO:TATSSI.qa.EOS.quality:File /home/glopez/Projects/TATSSI/data/test_gee/1_km_16_days_pixel_reliability/MOD13A2.2008_09_13.006.1_km_16_days_pixel_reliability.tif\n",
      "INFO:TATSSI.qa.EOS.quality:Decoding QA layer MODLAND...\n",
      "INFO:TATSSI.qa.EOS.quality:Decoding finished.\n",
      "INFO:TATSSI.qa.EOS.quality:Decoding MOD13A2.006...\n",
      "INFO:TATSSI.qa.EOS.quality:File /home/glopez/Projects/TATSSI/data/test_gee/1_km_16_days_pixel_reliability/MOD13A2.2008_09_29.006.1_km_16_days_pixel_reliability.tif\n",
      "INFO:TATSSI.qa.EOS.quality:Decoding QA layer MODLAND...\n",
      "INFO:TATSSI.qa.EOS.quality:Decoding finished.\n",
      "INFO:TATSSI.qa.EOS.quality:Decoding MOD13A2.006...\n",
      "INFO:TATSSI.qa.EOS.quality:File /home/glopez/Projects/TATSSI/data/test_gee/1_km_16_days_pixel_reliability/MOD13A2.2008_10_15.006.1_km_16_days_pixel_reliability.tif\n",
      "INFO:TATSSI.qa.EOS.quality:Decoding QA layer MODLAND...\n",
      "INFO:TATSSI.qa.EOS.quality:Decoding finished.\n",
      "INFO:TATSSI.qa.EOS.quality:Decoding MOD13A2.006...\n",
      "INFO:TATSSI.qa.EOS.quality:File /home/glopez/Projects/TATSSI/data/test_gee/1_km_16_days_pixel_reliability/MOD13A2.2008_10_31.006.1_km_16_days_pixel_reliability.tif\n",
      "INFO:TATSSI.qa.EOS.quality:Decoding QA layer MODLAND...\n",
      "INFO:TATSSI.qa.EOS.quality:Decoding finished.\n",
      "INFO:TATSSI.qa.EOS.quality:Decoding MOD13A2.006...\n",
      "INFO:TATSSI.qa.EOS.quality:File /home/glopez/Projects/TATSSI/data/test_gee/1_km_16_days_pixel_reliability/MOD13A2.2008_11_16.006.1_km_16_days_pixel_reliability.tif\n",
      "INFO:TATSSI.qa.EOS.quality:Decoding QA layer MODLAND...\n",
      "INFO:TATSSI.qa.EOS.quality:Decoding finished.\n",
      "INFO:TATSSI.qa.EOS.quality:Decoding MOD13A2.006...\n",
      "INFO:TATSSI.qa.EOS.quality:File /home/glopez/Projects/TATSSI/data/test_gee/1_km_16_days_pixel_reliability/MOD13A2.2008_12_02.006.1_km_16_days_pixel_reliability.tif\n",
      "INFO:TATSSI.qa.EOS.quality:Decoding QA layer MODLAND...\n",
      "INFO:TATSSI.qa.EOS.quality:Decoding finished.\n",
      "INFO:TATSSI.qa.EOS.quality:Decoding MOD13A2.006...\n",
      "INFO:TATSSI.qa.EOS.quality:File /home/glopez/Projects/TATSSI/data/test_gee/1_km_16_days_pixel_reliability/MOD13A2.2008_12_18.006.1_km_16_days_pixel_reliability.tif\n",
      "INFO:TATSSI.qa.EOS.quality:Decoding QA layer MODLAND...\n",
      "INFO:TATSSI.qa.EOS.quality:Decoding finished.\n",
      "INFO:TATSSI.qa.EOS.quality:Decoding MOD13A2.006...\n",
      "INFO:TATSSI.qa.EOS.quality:File /home/glopez/Projects/TATSSI/data/test_gee/1_km_16_days_pixel_reliability/MOD13A2.2009_01_01.006.1_km_16_days_pixel_reliability.tif\n",
      "INFO:TATSSI.qa.EOS.quality:Decoding QA layer MODLAND...\n",
      "INFO:TATSSI.qa.EOS.quality:Decoding finished.\n",
      "INFO:TATSSI.qa.EOS.quality:Decoding MOD13A2.006...\n",
      "INFO:TATSSI.qa.EOS.quality:File /home/glopez/Projects/TATSSI/data/test_gee/1_km_16_days_pixel_reliability/MOD13A2.2009_01_17.006.1_km_16_days_pixel_reliability.tif\n",
      "INFO:TATSSI.qa.EOS.quality:Decoding QA layer MODLAND...\n",
      "INFO:TATSSI.qa.EOS.quality:Decoding finished.\n",
      "INFO:TATSSI.qa.EOS.quality:Decoding MOD13A2.006...\n",
      "INFO:TATSSI.qa.EOS.quality:File /home/glopez/Projects/TATSSI/data/test_gee/1_km_16_days_pixel_reliability/MOD13A2.2009_02_02.006.1_km_16_days_pixel_reliability.tif\n",
      "INFO:TATSSI.qa.EOS.quality:Decoding QA layer MODLAND...\n",
      "INFO:TATSSI.qa.EOS.quality:Decoding finished.\n",
      "INFO:TATSSI.qa.EOS.quality:Decoding MOD13A2.006...\n",
      "INFO:TATSSI.qa.EOS.quality:File /home/glopez/Projects/TATSSI/data/test_gee/1_km_16_days_pixel_reliability/MOD13A2.2009_02_18.006.1_km_16_days_pixel_reliability.tif\n",
      "INFO:TATSSI.qa.EOS.quality:Decoding QA layer MODLAND...\n",
      "INFO:TATSSI.qa.EOS.quality:Decoding finished.\n",
      "INFO:TATSSI.qa.EOS.quality:Decoding MOD13A2.006...\n",
      "INFO:TATSSI.qa.EOS.quality:File /home/glopez/Projects/TATSSI/data/test_gee/1_km_16_days_pixel_reliability/MOD13A2.2009_03_06.006.1_km_16_days_pixel_reliability.tif\n",
      "INFO:TATSSI.qa.EOS.quality:Decoding QA layer MODLAND...\n",
      "INFO:TATSSI.qa.EOS.quality:Decoding finished.\n",
      "INFO:TATSSI.qa.EOS.quality:Decoding MOD13A2.006...\n",
      "INFO:TATSSI.qa.EOS.quality:File /home/glopez/Projects/TATSSI/data/test_gee/1_km_16_days_pixel_reliability/MOD13A2.2009_03_22.006.1_km_16_days_pixel_reliability.tif\n",
      "INFO:TATSSI.qa.EOS.quality:Decoding QA layer MODLAND...\n"
     ]
    },
    {
     "name": "stderr",
     "output_type": "stream",
     "text": [
      "INFO:TATSSI.qa.EOS.quality:Decoding finished.\n",
      "INFO:TATSSI.qa.EOS.quality:Decoding MOD13A2.006...\n",
      "INFO:TATSSI.qa.EOS.quality:File /home/glopez/Projects/TATSSI/data/test_gee/1_km_16_days_pixel_reliability/MOD13A2.2009_04_07.006.1_km_16_days_pixel_reliability.tif\n",
      "INFO:TATSSI.qa.EOS.quality:Decoding QA layer MODLAND...\n",
      "INFO:TATSSI.qa.EOS.quality:Decoding finished.\n",
      "INFO:TATSSI.qa.EOS.quality:Decoding MOD13A2.006...\n",
      "INFO:TATSSI.qa.EOS.quality:File /home/glopez/Projects/TATSSI/data/test_gee/1_km_16_days_pixel_reliability/MOD13A2.2009_04_23.006.1_km_16_days_pixel_reliability.tif\n",
      "INFO:TATSSI.qa.EOS.quality:Decoding QA layer MODLAND...\n",
      "INFO:TATSSI.qa.EOS.quality:Decoding finished.\n",
      "INFO:TATSSI.qa.EOS.quality:Decoding MOD13A2.006...\n",
      "INFO:TATSSI.qa.EOS.quality:File /home/glopez/Projects/TATSSI/data/test_gee/1_km_16_days_pixel_reliability/MOD13A2.2009_05_09.006.1_km_16_days_pixel_reliability.tif\n",
      "INFO:TATSSI.qa.EOS.quality:Decoding QA layer MODLAND...\n",
      "INFO:TATSSI.qa.EOS.quality:Decoding finished.\n",
      "INFO:TATSSI.qa.EOS.quality:Decoding MOD13A2.006...\n",
      "INFO:TATSSI.qa.EOS.quality:File /home/glopez/Projects/TATSSI/data/test_gee/1_km_16_days_pixel_reliability/MOD13A2.2009_05_25.006.1_km_16_days_pixel_reliability.tif\n",
      "INFO:TATSSI.qa.EOS.quality:Decoding QA layer MODLAND...\n",
      "INFO:TATSSI.qa.EOS.quality:Decoding finished.\n",
      "INFO:TATSSI.qa.EOS.quality:Decoding MOD13A2.006...\n",
      "INFO:TATSSI.qa.EOS.quality:File /home/glopez/Projects/TATSSI/data/test_gee/1_km_16_days_pixel_reliability/MOD13A2.2009_06_10.006.1_km_16_days_pixel_reliability.tif\n",
      "INFO:TATSSI.qa.EOS.quality:Decoding QA layer MODLAND...\n",
      "INFO:TATSSI.qa.EOS.quality:Decoding finished.\n",
      "INFO:TATSSI.qa.EOS.quality:Decoding MOD13A2.006...\n",
      "INFO:TATSSI.qa.EOS.quality:File /home/glopez/Projects/TATSSI/data/test_gee/1_km_16_days_pixel_reliability/MOD13A2.2009_06_26.006.1_km_16_days_pixel_reliability.tif\n",
      "INFO:TATSSI.qa.EOS.quality:Decoding QA layer MODLAND...\n",
      "INFO:TATSSI.qa.EOS.quality:Decoding finished.\n",
      "INFO:TATSSI.qa.EOS.quality:Decoding MOD13A2.006...\n",
      "INFO:TATSSI.qa.EOS.quality:File /home/glopez/Projects/TATSSI/data/test_gee/1_km_16_days_pixel_reliability/MOD13A2.2009_07_12.006.1_km_16_days_pixel_reliability.tif\n",
      "INFO:TATSSI.qa.EOS.quality:Decoding QA layer MODLAND...\n",
      "INFO:TATSSI.qa.EOS.quality:Decoding finished.\n",
      "INFO:TATSSI.qa.EOS.quality:Decoding MOD13A2.006...\n",
      "INFO:TATSSI.qa.EOS.quality:File /home/glopez/Projects/TATSSI/data/test_gee/1_km_16_days_pixel_reliability/MOD13A2.2009_07_28.006.1_km_16_days_pixel_reliability.tif\n",
      "INFO:TATSSI.qa.EOS.quality:Decoding QA layer MODLAND...\n",
      "INFO:TATSSI.qa.EOS.quality:Decoding finished.\n",
      "INFO:TATSSI.qa.EOS.quality:Decoding MOD13A2.006...\n",
      "INFO:TATSSI.qa.EOS.quality:File /home/glopez/Projects/TATSSI/data/test_gee/1_km_16_days_pixel_reliability/MOD13A2.2009_08_13.006.1_km_16_days_pixel_reliability.tif\n",
      "INFO:TATSSI.qa.EOS.quality:Decoding QA layer MODLAND...\n",
      "INFO:TATSSI.qa.EOS.quality:Decoding finished.\n",
      "INFO:TATSSI.qa.EOS.quality:Decoding MOD13A2.006...\n",
      "INFO:TATSSI.qa.EOS.quality:File /home/glopez/Projects/TATSSI/data/test_gee/1_km_16_days_pixel_reliability/MOD13A2.2009_08_29.006.1_km_16_days_pixel_reliability.tif\n",
      "INFO:TATSSI.qa.EOS.quality:Decoding QA layer MODLAND...\n",
      "INFO:TATSSI.qa.EOS.quality:Decoding finished.\n",
      "INFO:TATSSI.qa.EOS.quality:Decoding MOD13A2.006...\n",
      "INFO:TATSSI.qa.EOS.quality:File /home/glopez/Projects/TATSSI/data/test_gee/1_km_16_days_pixel_reliability/MOD13A2.2009_09_14.006.1_km_16_days_pixel_reliability.tif\n",
      "INFO:TATSSI.qa.EOS.quality:Decoding QA layer MODLAND...\n",
      "INFO:TATSSI.qa.EOS.quality:Decoding finished.\n",
      "INFO:TATSSI.qa.EOS.quality:Decoding MOD13A2.006...\n",
      "INFO:TATSSI.qa.EOS.quality:File /home/glopez/Projects/TATSSI/data/test_gee/1_km_16_days_pixel_reliability/MOD13A2.2009_09_30.006.1_km_16_days_pixel_reliability.tif\n",
      "INFO:TATSSI.qa.EOS.quality:Decoding QA layer MODLAND...\n",
      "INFO:TATSSI.qa.EOS.quality:Decoding finished.\n",
      "INFO:TATSSI.qa.EOS.quality:Decoding MOD13A2.006...\n",
      "INFO:TATSSI.qa.EOS.quality:File /home/glopez/Projects/TATSSI/data/test_gee/1_km_16_days_pixel_reliability/MOD13A2.2009_10_16.006.1_km_16_days_pixel_reliability.tif\n",
      "INFO:TATSSI.qa.EOS.quality:Decoding QA layer MODLAND...\n",
      "INFO:TATSSI.qa.EOS.quality:Decoding finished.\n",
      "INFO:TATSSI.qa.EOS.quality:Decoding MOD13A2.006...\n",
      "INFO:TATSSI.qa.EOS.quality:File /home/glopez/Projects/TATSSI/data/test_gee/1_km_16_days_pixel_reliability/MOD13A2.2009_11_01.006.1_km_16_days_pixel_reliability.tif\n",
      "INFO:TATSSI.qa.EOS.quality:Decoding QA layer MODLAND...\n",
      "INFO:TATSSI.qa.EOS.quality:Decoding finished.\n",
      "INFO:TATSSI.qa.EOS.quality:Decoding MOD13A2.006...\n",
      "INFO:TATSSI.qa.EOS.quality:File /home/glopez/Projects/TATSSI/data/test_gee/1_km_16_days_pixel_reliability/MOD13A2.2009_11_17.006.1_km_16_days_pixel_reliability.tif\n",
      "INFO:TATSSI.qa.EOS.quality:Decoding QA layer MODLAND...\n",
      "INFO:TATSSI.qa.EOS.quality:Decoding finished.\n",
      "INFO:TATSSI.qa.EOS.quality:Decoding MOD13A2.006...\n",
      "INFO:TATSSI.qa.EOS.quality:File /home/glopez/Projects/TATSSI/data/test_gee/1_km_16_days_pixel_reliability/MOD13A2.2009_12_03.006.1_km_16_days_pixel_reliability.tif\n",
      "INFO:TATSSI.qa.EOS.quality:Decoding QA layer MODLAND...\n",
      "INFO:TATSSI.qa.EOS.quality:Decoding finished.\n",
      "INFO:TATSSI.qa.EOS.quality:Decoding MOD13A2.006...\n",
      "INFO:TATSSI.qa.EOS.quality:File /home/glopez/Projects/TATSSI/data/test_gee/1_km_16_days_pixel_reliability/MOD13A2.2009_12_19.006.1_km_16_days_pixel_reliability.tif\n",
      "INFO:TATSSI.qa.EOS.quality:Decoding QA layer MODLAND...\n",
      "INFO:TATSSI.qa.EOS.quality:Decoding finished.\n",
      "INFO:TATSSI.qa.EOS.quality:Decoding MOD13A2.006...\n",
      "INFO:TATSSI.qa.EOS.quality:File /home/glopez/Projects/TATSSI/data/test_gee/1_km_16_days_pixel_reliability/MOD13A2.2010_01_01.006.1_km_16_days_pixel_reliability.tif\n",
      "INFO:TATSSI.qa.EOS.quality:Decoding QA layer MODLAND...\n",
      "INFO:TATSSI.qa.EOS.quality:Decoding finished.\n",
      "INFO:TATSSI.qa.EOS.quality:Decoding MOD13A2.006...\n",
      "INFO:TATSSI.qa.EOS.quality:File /home/glopez/Projects/TATSSI/data/test_gee/1_km_16_days_pixel_reliability/MOD13A2.2010_01_17.006.1_km_16_days_pixel_reliability.tif\n",
      "INFO:TATSSI.qa.EOS.quality:Decoding QA layer MODLAND...\n",
      "INFO:TATSSI.qa.EOS.quality:Decoding finished.\n",
      "INFO:TATSSI.qa.EOS.quality:Decoding MOD13A2.006...\n",
      "INFO:TATSSI.qa.EOS.quality:File /home/glopez/Projects/TATSSI/data/test_gee/1_km_16_days_pixel_reliability/MOD13A2.2010_02_02.006.1_km_16_days_pixel_reliability.tif\n",
      "INFO:TATSSI.qa.EOS.quality:Decoding QA layer MODLAND...\n",
      "INFO:TATSSI.qa.EOS.quality:Decoding finished.\n",
      "INFO:TATSSI.qa.EOS.quality:Decoding MOD13A2.006...\n",
      "INFO:TATSSI.qa.EOS.quality:File /home/glopez/Projects/TATSSI/data/test_gee/1_km_16_days_pixel_reliability/MOD13A2.2010_02_18.006.1_km_16_days_pixel_reliability.tif\n",
      "INFO:TATSSI.qa.EOS.quality:Decoding QA layer MODLAND...\n",
      "INFO:TATSSI.qa.EOS.quality:Decoding finished.\n",
      "INFO:TATSSI.qa.EOS.quality:Decoding MOD13A2.006...\n",
      "INFO:TATSSI.qa.EOS.quality:File /home/glopez/Projects/TATSSI/data/test_gee/1_km_16_days_pixel_reliability/MOD13A2.2010_03_06.006.1_km_16_days_pixel_reliability.tif\n",
      "INFO:TATSSI.qa.EOS.quality:Decoding QA layer MODLAND...\n",
      "INFO:TATSSI.qa.EOS.quality:Decoding finished.\n",
      "INFO:TATSSI.qa.EOS.quality:Decoding MOD13A2.006...\n",
      "INFO:TATSSI.qa.EOS.quality:File /home/glopez/Projects/TATSSI/data/test_gee/1_km_16_days_pixel_reliability/MOD13A2.2010_03_22.006.1_km_16_days_pixel_reliability.tif\n",
      "INFO:TATSSI.qa.EOS.quality:Decoding QA layer MODLAND...\n",
      "INFO:TATSSI.qa.EOS.quality:Decoding finished.\n",
      "INFO:TATSSI.qa.EOS.quality:Decoding MOD13A2.006...\n",
      "INFO:TATSSI.qa.EOS.quality:File /home/glopez/Projects/TATSSI/data/test_gee/1_km_16_days_pixel_reliability/MOD13A2.2010_04_07.006.1_km_16_days_pixel_reliability.tif\n",
      "INFO:TATSSI.qa.EOS.quality:Decoding QA layer MODLAND...\n",
      "INFO:TATSSI.qa.EOS.quality:Decoding finished.\n",
      "INFO:TATSSI.qa.EOS.quality:Decoding MOD13A2.006...\n",
      "INFO:TATSSI.qa.EOS.quality:File /home/glopez/Projects/TATSSI/data/test_gee/1_km_16_days_pixel_reliability/MOD13A2.2010_04_23.006.1_km_16_days_pixel_reliability.tif\n",
      "INFO:TATSSI.qa.EOS.quality:Decoding QA layer MODLAND...\n",
      "INFO:TATSSI.qa.EOS.quality:Decoding finished.\n",
      "INFO:TATSSI.qa.EOS.quality:Decoding MOD13A2.006...\n",
      "INFO:TATSSI.qa.EOS.quality:File /home/glopez/Projects/TATSSI/data/test_gee/1_km_16_days_pixel_reliability/MOD13A2.2010_05_09.006.1_km_16_days_pixel_reliability.tif\n",
      "INFO:TATSSI.qa.EOS.quality:Decoding QA layer MODLAND...\n"
     ]
    },
    {
     "name": "stderr",
     "output_type": "stream",
     "text": [
      "INFO:TATSSI.qa.EOS.quality:Decoding finished.\n",
      "INFO:TATSSI.qa.EOS.quality:Decoding MOD13A2.006...\n",
      "INFO:TATSSI.qa.EOS.quality:File /home/glopez/Projects/TATSSI/data/test_gee/1_km_16_days_pixel_reliability/MOD13A2.2010_05_25.006.1_km_16_days_pixel_reliability.tif\n",
      "INFO:TATSSI.qa.EOS.quality:Decoding QA layer MODLAND...\n",
      "INFO:TATSSI.qa.EOS.quality:Decoding finished.\n",
      "INFO:TATSSI.qa.EOS.quality:Decoding MOD13A2.006...\n",
      "INFO:TATSSI.qa.EOS.quality:File /home/glopez/Projects/TATSSI/data/test_gee/1_km_16_days_pixel_reliability/MOD13A2.2010_06_10.006.1_km_16_days_pixel_reliability.tif\n",
      "INFO:TATSSI.qa.EOS.quality:Decoding QA layer MODLAND...\n",
      "INFO:TATSSI.qa.EOS.quality:Decoding finished.\n",
      "INFO:TATSSI.qa.EOS.quality:Decoding MOD13A2.006...\n",
      "INFO:TATSSI.qa.EOS.quality:File /home/glopez/Projects/TATSSI/data/test_gee/1_km_16_days_pixel_reliability/MOD13A2.2010_06_26.006.1_km_16_days_pixel_reliability.tif\n",
      "INFO:TATSSI.qa.EOS.quality:Decoding QA layer MODLAND...\n",
      "INFO:TATSSI.qa.EOS.quality:Decoding finished.\n",
      "INFO:TATSSI.qa.EOS.quality:Decoding MOD13A2.006...\n",
      "INFO:TATSSI.qa.EOS.quality:File /home/glopez/Projects/TATSSI/data/test_gee/1_km_16_days_pixel_reliability/MOD13A2.2010_07_12.006.1_km_16_days_pixel_reliability.tif\n",
      "INFO:TATSSI.qa.EOS.quality:Decoding QA layer MODLAND...\n",
      "INFO:TATSSI.qa.EOS.quality:Decoding finished.\n",
      "INFO:TATSSI.qa.EOS.quality:Decoding MOD13A2.006...\n",
      "INFO:TATSSI.qa.EOS.quality:File /home/glopez/Projects/TATSSI/data/test_gee/1_km_16_days_pixel_reliability/MOD13A2.2010_07_28.006.1_km_16_days_pixel_reliability.tif\n",
      "INFO:TATSSI.qa.EOS.quality:Decoding QA layer MODLAND...\n",
      "INFO:TATSSI.qa.EOS.quality:Decoding finished.\n",
      "INFO:TATSSI.qa.EOS.quality:Decoding MOD13A2.006...\n",
      "INFO:TATSSI.qa.EOS.quality:File /home/glopez/Projects/TATSSI/data/test_gee/1_km_16_days_pixel_reliability/MOD13A2.2010_08_13.006.1_km_16_days_pixel_reliability.tif\n",
      "INFO:TATSSI.qa.EOS.quality:Decoding QA layer MODLAND...\n",
      "INFO:TATSSI.qa.EOS.quality:Decoding finished.\n",
      "INFO:TATSSI.qa.EOS.quality:Decoding MOD13A2.006...\n",
      "INFO:TATSSI.qa.EOS.quality:File /home/glopez/Projects/TATSSI/data/test_gee/1_km_16_days_pixel_reliability/MOD13A2.2010_08_29.006.1_km_16_days_pixel_reliability.tif\n",
      "INFO:TATSSI.qa.EOS.quality:Decoding QA layer MODLAND...\n",
      "INFO:TATSSI.qa.EOS.quality:Decoding finished.\n",
      "INFO:TATSSI.qa.EOS.quality:Decoding MOD13A2.006...\n",
      "INFO:TATSSI.qa.EOS.quality:File /home/glopez/Projects/TATSSI/data/test_gee/1_km_16_days_pixel_reliability/MOD13A2.2010_09_14.006.1_km_16_days_pixel_reliability.tif\n",
      "INFO:TATSSI.qa.EOS.quality:Decoding QA layer MODLAND...\n",
      "INFO:TATSSI.qa.EOS.quality:Decoding finished.\n",
      "INFO:TATSSI.qa.EOS.quality:Decoding MOD13A2.006...\n",
      "INFO:TATSSI.qa.EOS.quality:File /home/glopez/Projects/TATSSI/data/test_gee/1_km_16_days_pixel_reliability/MOD13A2.2010_09_30.006.1_km_16_days_pixel_reliability.tif\n",
      "INFO:TATSSI.qa.EOS.quality:Decoding QA layer MODLAND...\n",
      "INFO:TATSSI.qa.EOS.quality:Decoding finished.\n",
      "INFO:TATSSI.qa.EOS.quality:Decoding MOD13A2.006...\n",
      "INFO:TATSSI.qa.EOS.quality:File /home/glopez/Projects/TATSSI/data/test_gee/1_km_16_days_pixel_reliability/MOD13A2.2010_10_16.006.1_km_16_days_pixel_reliability.tif\n",
      "INFO:TATSSI.qa.EOS.quality:Decoding QA layer MODLAND...\n",
      "INFO:TATSSI.qa.EOS.quality:Decoding finished.\n",
      "INFO:TATSSI.qa.EOS.quality:Decoding MOD13A2.006...\n",
      "INFO:TATSSI.qa.EOS.quality:File /home/glopez/Projects/TATSSI/data/test_gee/1_km_16_days_pixel_reliability/MOD13A2.2010_11_01.006.1_km_16_days_pixel_reliability.tif\n",
      "INFO:TATSSI.qa.EOS.quality:Decoding QA layer MODLAND...\n",
      "INFO:TATSSI.qa.EOS.quality:Decoding finished.\n",
      "INFO:TATSSI.qa.EOS.quality:Decoding MOD13A2.006...\n",
      "INFO:TATSSI.qa.EOS.quality:File /home/glopez/Projects/TATSSI/data/test_gee/1_km_16_days_pixel_reliability/MOD13A2.2010_11_17.006.1_km_16_days_pixel_reliability.tif\n",
      "INFO:TATSSI.qa.EOS.quality:Decoding QA layer MODLAND...\n",
      "INFO:TATSSI.qa.EOS.quality:Decoding finished.\n",
      "INFO:TATSSI.qa.EOS.quality:Decoding MOD13A2.006...\n",
      "INFO:TATSSI.qa.EOS.quality:File /home/glopez/Projects/TATSSI/data/test_gee/1_km_16_days_pixel_reliability/MOD13A2.2010_12_03.006.1_km_16_days_pixel_reliability.tif\n",
      "INFO:TATSSI.qa.EOS.quality:Decoding QA layer MODLAND...\n",
      "INFO:TATSSI.qa.EOS.quality:Decoding finished.\n",
      "INFO:TATSSI.qa.EOS.quality:Decoding MOD13A2.006...\n",
      "INFO:TATSSI.qa.EOS.quality:File /home/glopez/Projects/TATSSI/data/test_gee/1_km_16_days_pixel_reliability/MOD13A2.2010_12_19.006.1_km_16_days_pixel_reliability.tif\n",
      "INFO:TATSSI.qa.EOS.quality:Decoding QA layer MODLAND...\n",
      "INFO:TATSSI.qa.EOS.quality:Decoding finished.\n",
      "INFO:TATSSI.qa.EOS.quality:Decoding MOD13A2.006...\n",
      "INFO:TATSSI.qa.EOS.quality:File /home/glopez/Projects/TATSSI/data/test_gee/1_km_16_days_pixel_reliability/MOD13A2.2011_01_01.006.1_km_16_days_pixel_reliability.tif\n",
      "INFO:TATSSI.qa.EOS.quality:Decoding QA layer MODLAND...\n",
      "INFO:TATSSI.qa.EOS.quality:Decoding finished.\n",
      "INFO:TATSSI.qa.EOS.quality:Decoding MOD13A2.006...\n",
      "INFO:TATSSI.qa.EOS.quality:File /home/glopez/Projects/TATSSI/data/test_gee/1_km_16_days_pixel_reliability/MOD13A2.2011_01_17.006.1_km_16_days_pixel_reliability.tif\n",
      "INFO:TATSSI.qa.EOS.quality:Decoding QA layer MODLAND...\n",
      "INFO:TATSSI.qa.EOS.quality:Decoding finished.\n",
      "INFO:TATSSI.qa.EOS.quality:Decoding MOD13A2.006...\n",
      "INFO:TATSSI.qa.EOS.quality:File /home/glopez/Projects/TATSSI/data/test_gee/1_km_16_days_pixel_reliability/MOD13A2.2011_02_02.006.1_km_16_days_pixel_reliability.tif\n",
      "INFO:TATSSI.qa.EOS.quality:Decoding QA layer MODLAND...\n",
      "INFO:TATSSI.qa.EOS.quality:Decoding finished.\n",
      "INFO:TATSSI.qa.EOS.quality:Decoding MOD13A2.006...\n",
      "INFO:TATSSI.qa.EOS.quality:File /home/glopez/Projects/TATSSI/data/test_gee/1_km_16_days_pixel_reliability/MOD13A2.2011_02_18.006.1_km_16_days_pixel_reliability.tif\n",
      "INFO:TATSSI.qa.EOS.quality:Decoding QA layer MODLAND...\n",
      "INFO:TATSSI.qa.EOS.quality:Decoding finished.\n",
      "INFO:TATSSI.qa.EOS.quality:Decoding MOD13A2.006...\n",
      "INFO:TATSSI.qa.EOS.quality:File /home/glopez/Projects/TATSSI/data/test_gee/1_km_16_days_pixel_reliability/MOD13A2.2011_03_06.006.1_km_16_days_pixel_reliability.tif\n",
      "INFO:TATSSI.qa.EOS.quality:Decoding QA layer MODLAND...\n",
      "INFO:TATSSI.qa.EOS.quality:Decoding finished.\n",
      "INFO:TATSSI.qa.EOS.quality:Decoding MOD13A2.006...\n",
      "INFO:TATSSI.qa.EOS.quality:File /home/glopez/Projects/TATSSI/data/test_gee/1_km_16_days_pixel_reliability/MOD13A2.2011_03_22.006.1_km_16_days_pixel_reliability.tif\n",
      "INFO:TATSSI.qa.EOS.quality:Decoding QA layer MODLAND...\n",
      "INFO:TATSSI.qa.EOS.quality:Decoding finished.\n",
      "INFO:TATSSI.qa.EOS.quality:Decoding MOD13A2.006...\n",
      "INFO:TATSSI.qa.EOS.quality:File /home/glopez/Projects/TATSSI/data/test_gee/1_km_16_days_pixel_reliability/MOD13A2.2011_04_07.006.1_km_16_days_pixel_reliability.tif\n",
      "INFO:TATSSI.qa.EOS.quality:Decoding QA layer MODLAND...\n",
      "INFO:TATSSI.qa.EOS.quality:Decoding finished.\n",
      "INFO:TATSSI.qa.EOS.quality:Decoding MOD13A2.006...\n",
      "INFO:TATSSI.qa.EOS.quality:File /home/glopez/Projects/TATSSI/data/test_gee/1_km_16_days_pixel_reliability/MOD13A2.2011_04_23.006.1_km_16_days_pixel_reliability.tif\n",
      "INFO:TATSSI.qa.EOS.quality:Decoding QA layer MODLAND...\n",
      "INFO:TATSSI.qa.EOS.quality:Decoding finished.\n",
      "INFO:TATSSI.qa.EOS.quality:Decoding MOD13A2.006...\n",
      "INFO:TATSSI.qa.EOS.quality:File /home/glopez/Projects/TATSSI/data/test_gee/1_km_16_days_pixel_reliability/MOD13A2.2011_05_09.006.1_km_16_days_pixel_reliability.tif\n",
      "INFO:TATSSI.qa.EOS.quality:Decoding QA layer MODLAND...\n",
      "INFO:TATSSI.qa.EOS.quality:Decoding finished.\n",
      "INFO:TATSSI.qa.EOS.quality:Decoding MOD13A2.006...\n",
      "INFO:TATSSI.qa.EOS.quality:File /home/glopez/Projects/TATSSI/data/test_gee/1_km_16_days_pixel_reliability/MOD13A2.2011_05_25.006.1_km_16_days_pixel_reliability.tif\n",
      "INFO:TATSSI.qa.EOS.quality:Decoding QA layer MODLAND...\n",
      "INFO:TATSSI.qa.EOS.quality:Decoding finished.\n",
      "INFO:TATSSI.qa.EOS.quality:Decoding MOD13A2.006...\n",
      "INFO:TATSSI.qa.EOS.quality:File /home/glopez/Projects/TATSSI/data/test_gee/1_km_16_days_pixel_reliability/MOD13A2.2011_06_10.006.1_km_16_days_pixel_reliability.tif\n",
      "INFO:TATSSI.qa.EOS.quality:Decoding QA layer MODLAND...\n",
      "INFO:TATSSI.qa.EOS.quality:Decoding finished.\n",
      "INFO:TATSSI.qa.EOS.quality:Decoding MOD13A2.006...\n",
      "INFO:TATSSI.qa.EOS.quality:File /home/glopez/Projects/TATSSI/data/test_gee/1_km_16_days_pixel_reliability/MOD13A2.2011_06_26.006.1_km_16_days_pixel_reliability.tif\n",
      "INFO:TATSSI.qa.EOS.quality:Decoding QA layer MODLAND...\n"
     ]
    },
    {
     "name": "stderr",
     "output_type": "stream",
     "text": [
      "INFO:TATSSI.qa.EOS.quality:Decoding finished.\n",
      "INFO:TATSSI.qa.EOS.quality:Decoding MOD13A2.006...\n",
      "INFO:TATSSI.qa.EOS.quality:File /home/glopez/Projects/TATSSI/data/test_gee/1_km_16_days_pixel_reliability/MOD13A2.2011_07_12.006.1_km_16_days_pixel_reliability.tif\n",
      "INFO:TATSSI.qa.EOS.quality:Decoding QA layer MODLAND...\n",
      "INFO:TATSSI.qa.EOS.quality:Decoding finished.\n",
      "INFO:TATSSI.qa.EOS.quality:Decoding MOD13A2.006...\n",
      "INFO:TATSSI.qa.EOS.quality:File /home/glopez/Projects/TATSSI/data/test_gee/1_km_16_days_pixel_reliability/MOD13A2.2011_07_28.006.1_km_16_days_pixel_reliability.tif\n",
      "INFO:TATSSI.qa.EOS.quality:Decoding QA layer MODLAND...\n",
      "INFO:TATSSI.qa.EOS.quality:Decoding finished.\n",
      "INFO:TATSSI.qa.EOS.quality:Decoding MOD13A2.006...\n",
      "INFO:TATSSI.qa.EOS.quality:File /home/glopez/Projects/TATSSI/data/test_gee/1_km_16_days_pixel_reliability/MOD13A2.2011_08_13.006.1_km_16_days_pixel_reliability.tif\n",
      "INFO:TATSSI.qa.EOS.quality:Decoding QA layer MODLAND...\n",
      "INFO:TATSSI.qa.EOS.quality:Decoding finished.\n",
      "INFO:TATSSI.qa.EOS.quality:Decoding MOD13A2.006...\n",
      "INFO:TATSSI.qa.EOS.quality:File /home/glopez/Projects/TATSSI/data/test_gee/1_km_16_days_pixel_reliability/MOD13A2.2011_08_29.006.1_km_16_days_pixel_reliability.tif\n",
      "INFO:TATSSI.qa.EOS.quality:Decoding QA layer MODLAND...\n",
      "INFO:TATSSI.qa.EOS.quality:Decoding finished.\n",
      "INFO:TATSSI.qa.EOS.quality:Decoding MOD13A2.006...\n",
      "INFO:TATSSI.qa.EOS.quality:File /home/glopez/Projects/TATSSI/data/test_gee/1_km_16_days_pixel_reliability/MOD13A2.2011_09_14.006.1_km_16_days_pixel_reliability.tif\n",
      "INFO:TATSSI.qa.EOS.quality:Decoding QA layer MODLAND...\n",
      "INFO:TATSSI.qa.EOS.quality:Decoding finished.\n",
      "INFO:TATSSI.qa.EOS.quality:Decoding MOD13A2.006...\n",
      "INFO:TATSSI.qa.EOS.quality:File /home/glopez/Projects/TATSSI/data/test_gee/1_km_16_days_pixel_reliability/MOD13A2.2011_09_30.006.1_km_16_days_pixel_reliability.tif\n",
      "INFO:TATSSI.qa.EOS.quality:Decoding QA layer MODLAND...\n",
      "INFO:TATSSI.qa.EOS.quality:Decoding finished.\n",
      "INFO:TATSSI.qa.EOS.quality:Decoding MOD13A2.006...\n",
      "INFO:TATSSI.qa.EOS.quality:File /home/glopez/Projects/TATSSI/data/test_gee/1_km_16_days_pixel_reliability/MOD13A2.2011_10_16.006.1_km_16_days_pixel_reliability.tif\n",
      "INFO:TATSSI.qa.EOS.quality:Decoding QA layer MODLAND...\n",
      "INFO:TATSSI.qa.EOS.quality:Decoding finished.\n",
      "INFO:TATSSI.qa.EOS.quality:Decoding MOD13A2.006...\n",
      "INFO:TATSSI.qa.EOS.quality:File /home/glopez/Projects/TATSSI/data/test_gee/1_km_16_days_pixel_reliability/MOD13A2.2011_11_01.006.1_km_16_days_pixel_reliability.tif\n",
      "INFO:TATSSI.qa.EOS.quality:Decoding QA layer MODLAND...\n",
      "INFO:TATSSI.qa.EOS.quality:Decoding finished.\n",
      "INFO:TATSSI.qa.EOS.quality:Decoding MOD13A2.006...\n",
      "INFO:TATSSI.qa.EOS.quality:File /home/glopez/Projects/TATSSI/data/test_gee/1_km_16_days_pixel_reliability/MOD13A2.2011_11_17.006.1_km_16_days_pixel_reliability.tif\n",
      "INFO:TATSSI.qa.EOS.quality:Decoding QA layer MODLAND...\n",
      "INFO:TATSSI.qa.EOS.quality:Decoding finished.\n",
      "INFO:TATSSI.qa.EOS.quality:Decoding MOD13A2.006...\n",
      "INFO:TATSSI.qa.EOS.quality:File /home/glopez/Projects/TATSSI/data/test_gee/1_km_16_days_pixel_reliability/MOD13A2.2011_12_03.006.1_km_16_days_pixel_reliability.tif\n",
      "INFO:TATSSI.qa.EOS.quality:Decoding QA layer MODLAND...\n",
      "INFO:TATSSI.qa.EOS.quality:Decoding finished.\n",
      "INFO:TATSSI.qa.EOS.quality:Decoding MOD13A2.006...\n",
      "INFO:TATSSI.qa.EOS.quality:File /home/glopez/Projects/TATSSI/data/test_gee/1_km_16_days_pixel_reliability/MOD13A2.2011_12_19.006.1_km_16_days_pixel_reliability.tif\n",
      "INFO:TATSSI.qa.EOS.quality:Decoding QA layer MODLAND...\n",
      "INFO:TATSSI.qa.EOS.quality:Decoding finished.\n",
      "INFO:TATSSI.qa.EOS.quality:Decoding MOD13A2.006...\n",
      "INFO:TATSSI.qa.EOS.quality:File /home/glopez/Projects/TATSSI/data/test_gee/1_km_16_days_pixel_reliability/MOD13A2.2012_01_01.006.1_km_16_days_pixel_reliability.tif\n",
      "INFO:TATSSI.qa.EOS.quality:Decoding QA layer MODLAND...\n",
      "INFO:TATSSI.qa.EOS.quality:Decoding finished.\n",
      "INFO:TATSSI.qa.EOS.quality:Decoding MOD13A2.006...\n",
      "INFO:TATSSI.qa.EOS.quality:File /home/glopez/Projects/TATSSI/data/test_gee/1_km_16_days_pixel_reliability/MOD13A2.2012_01_17.006.1_km_16_days_pixel_reliability.tif\n",
      "INFO:TATSSI.qa.EOS.quality:Decoding QA layer MODLAND...\n",
      "INFO:TATSSI.qa.EOS.quality:Decoding finished.\n",
      "INFO:TATSSI.qa.EOS.quality:Decoding MOD13A2.006...\n",
      "INFO:TATSSI.qa.EOS.quality:File /home/glopez/Projects/TATSSI/data/test_gee/1_km_16_days_pixel_reliability/MOD13A2.2012_02_02.006.1_km_16_days_pixel_reliability.tif\n",
      "INFO:TATSSI.qa.EOS.quality:Decoding QA layer MODLAND...\n",
      "INFO:TATSSI.qa.EOS.quality:Decoding finished.\n",
      "INFO:TATSSI.qa.EOS.quality:Decoding MOD13A2.006...\n",
      "INFO:TATSSI.qa.EOS.quality:File /home/glopez/Projects/TATSSI/data/test_gee/1_km_16_days_pixel_reliability/MOD13A2.2012_02_18.006.1_km_16_days_pixel_reliability.tif\n",
      "INFO:TATSSI.qa.EOS.quality:Decoding QA layer MODLAND...\n",
      "INFO:TATSSI.qa.EOS.quality:Decoding finished.\n",
      "INFO:TATSSI.qa.EOS.quality:Decoding MOD13A2.006...\n",
      "INFO:TATSSI.qa.EOS.quality:File /home/glopez/Projects/TATSSI/data/test_gee/1_km_16_days_pixel_reliability/MOD13A2.2012_03_05.006.1_km_16_days_pixel_reliability.tif\n",
      "INFO:TATSSI.qa.EOS.quality:Decoding QA layer MODLAND...\n",
      "INFO:TATSSI.qa.EOS.quality:Decoding finished.\n",
      "INFO:TATSSI.qa.EOS.quality:Decoding MOD13A2.006...\n",
      "INFO:TATSSI.qa.EOS.quality:File /home/glopez/Projects/TATSSI/data/test_gee/1_km_16_days_pixel_reliability/MOD13A2.2012_03_21.006.1_km_16_days_pixel_reliability.tif\n",
      "INFO:TATSSI.qa.EOS.quality:Decoding QA layer MODLAND...\n",
      "INFO:TATSSI.qa.EOS.quality:Decoding finished.\n",
      "INFO:TATSSI.qa.EOS.quality:Decoding MOD13A2.006...\n",
      "INFO:TATSSI.qa.EOS.quality:File /home/glopez/Projects/TATSSI/data/test_gee/1_km_16_days_pixel_reliability/MOD13A2.2012_04_06.006.1_km_16_days_pixel_reliability.tif\n",
      "INFO:TATSSI.qa.EOS.quality:Decoding QA layer MODLAND...\n",
      "INFO:TATSSI.qa.EOS.quality:Decoding finished.\n",
      "INFO:TATSSI.qa.EOS.quality:Decoding MOD13A2.006...\n",
      "INFO:TATSSI.qa.EOS.quality:File /home/glopez/Projects/TATSSI/data/test_gee/1_km_16_days_pixel_reliability/MOD13A2.2012_04_22.006.1_km_16_days_pixel_reliability.tif\n",
      "INFO:TATSSI.qa.EOS.quality:Decoding QA layer MODLAND...\n",
      "INFO:TATSSI.qa.EOS.quality:Decoding finished.\n",
      "INFO:TATSSI.qa.EOS.quality:Decoding MOD13A2.006...\n",
      "INFO:TATSSI.qa.EOS.quality:File /home/glopez/Projects/TATSSI/data/test_gee/1_km_16_days_pixel_reliability/MOD13A2.2012_05_08.006.1_km_16_days_pixel_reliability.tif\n",
      "INFO:TATSSI.qa.EOS.quality:Decoding QA layer MODLAND...\n",
      "INFO:TATSSI.qa.EOS.quality:Decoding finished.\n",
      "INFO:TATSSI.qa.EOS.quality:Decoding MOD13A2.006...\n",
      "INFO:TATSSI.qa.EOS.quality:File /home/glopez/Projects/TATSSI/data/test_gee/1_km_16_days_pixel_reliability/MOD13A2.2012_05_24.006.1_km_16_days_pixel_reliability.tif\n",
      "INFO:TATSSI.qa.EOS.quality:Decoding QA layer MODLAND...\n",
      "INFO:TATSSI.qa.EOS.quality:Decoding finished.\n",
      "INFO:TATSSI.qa.EOS.quality:Decoding MOD13A2.006...\n",
      "INFO:TATSSI.qa.EOS.quality:File /home/glopez/Projects/TATSSI/data/test_gee/1_km_16_days_pixel_reliability/MOD13A2.2012_06_09.006.1_km_16_days_pixel_reliability.tif\n",
      "INFO:TATSSI.qa.EOS.quality:Decoding QA layer MODLAND...\n",
      "INFO:TATSSI.qa.EOS.quality:Decoding finished.\n",
      "INFO:TATSSI.qa.EOS.quality:Decoding MOD13A2.006...\n",
      "INFO:TATSSI.qa.EOS.quality:File /home/glopez/Projects/TATSSI/data/test_gee/1_km_16_days_pixel_reliability/MOD13A2.2012_06_25.006.1_km_16_days_pixel_reliability.tif\n",
      "INFO:TATSSI.qa.EOS.quality:Decoding QA layer MODLAND...\n",
      "INFO:TATSSI.qa.EOS.quality:Decoding finished.\n",
      "INFO:TATSSI.qa.EOS.quality:Decoding MOD13A2.006...\n",
      "INFO:TATSSI.qa.EOS.quality:File /home/glopez/Projects/TATSSI/data/test_gee/1_km_16_days_pixel_reliability/MOD13A2.2012_07_11.006.1_km_16_days_pixel_reliability.tif\n",
      "INFO:TATSSI.qa.EOS.quality:Decoding QA layer MODLAND...\n",
      "INFO:TATSSI.qa.EOS.quality:Decoding finished.\n",
      "INFO:TATSSI.qa.EOS.quality:Decoding MOD13A2.006...\n",
      "INFO:TATSSI.qa.EOS.quality:File /home/glopez/Projects/TATSSI/data/test_gee/1_km_16_days_pixel_reliability/MOD13A2.2012_07_27.006.1_km_16_days_pixel_reliability.tif\n",
      "INFO:TATSSI.qa.EOS.quality:Decoding QA layer MODLAND...\n",
      "INFO:TATSSI.qa.EOS.quality:Decoding finished.\n",
      "INFO:TATSSI.qa.EOS.quality:Decoding MOD13A2.006...\n",
      "INFO:TATSSI.qa.EOS.quality:File /home/glopez/Projects/TATSSI/data/test_gee/1_km_16_days_pixel_reliability/MOD13A2.2012_08_12.006.1_km_16_days_pixel_reliability.tif\n",
      "INFO:TATSSI.qa.EOS.quality:Decoding QA layer MODLAND...\n"
     ]
    },
    {
     "name": "stderr",
     "output_type": "stream",
     "text": [
      "INFO:TATSSI.qa.EOS.quality:Decoding finished.\n",
      "INFO:TATSSI.qa.EOS.quality:Decoding MOD13A2.006...\n",
      "INFO:TATSSI.qa.EOS.quality:File /home/glopez/Projects/TATSSI/data/test_gee/1_km_16_days_pixel_reliability/MOD13A2.2012_08_28.006.1_km_16_days_pixel_reliability.tif\n",
      "INFO:TATSSI.qa.EOS.quality:Decoding QA layer MODLAND...\n",
      "INFO:TATSSI.qa.EOS.quality:Decoding finished.\n",
      "INFO:TATSSI.qa.EOS.quality:Decoding MOD13A2.006...\n",
      "INFO:TATSSI.qa.EOS.quality:File /home/glopez/Projects/TATSSI/data/test_gee/1_km_16_days_pixel_reliability/MOD13A2.2012_09_13.006.1_km_16_days_pixel_reliability.tif\n",
      "INFO:TATSSI.qa.EOS.quality:Decoding QA layer MODLAND...\n",
      "INFO:TATSSI.qa.EOS.quality:Decoding finished.\n",
      "INFO:TATSSI.qa.EOS.quality:Decoding MOD13A2.006...\n",
      "INFO:TATSSI.qa.EOS.quality:File /home/glopez/Projects/TATSSI/data/test_gee/1_km_16_days_pixel_reliability/MOD13A2.2012_09_29.006.1_km_16_days_pixel_reliability.tif\n",
      "INFO:TATSSI.qa.EOS.quality:Decoding QA layer MODLAND...\n",
      "INFO:TATSSI.qa.EOS.quality:Decoding finished.\n",
      "INFO:TATSSI.qa.EOS.quality:Decoding MOD13A2.006...\n",
      "INFO:TATSSI.qa.EOS.quality:File /home/glopez/Projects/TATSSI/data/test_gee/1_km_16_days_pixel_reliability/MOD13A2.2012_10_15.006.1_km_16_days_pixel_reliability.tif\n",
      "INFO:TATSSI.qa.EOS.quality:Decoding QA layer MODLAND...\n",
      "INFO:TATSSI.qa.EOS.quality:Decoding finished.\n",
      "INFO:TATSSI.qa.EOS.quality:Decoding MOD13A2.006...\n",
      "INFO:TATSSI.qa.EOS.quality:File /home/glopez/Projects/TATSSI/data/test_gee/1_km_16_days_pixel_reliability/MOD13A2.2012_10_31.006.1_km_16_days_pixel_reliability.tif\n",
      "INFO:TATSSI.qa.EOS.quality:Decoding QA layer MODLAND...\n",
      "INFO:TATSSI.qa.EOS.quality:Decoding finished.\n",
      "INFO:TATSSI.qa.EOS.quality:Decoding MOD13A2.006...\n",
      "INFO:TATSSI.qa.EOS.quality:File /home/glopez/Projects/TATSSI/data/test_gee/1_km_16_days_pixel_reliability/MOD13A2.2012_11_16.006.1_km_16_days_pixel_reliability.tif\n",
      "INFO:TATSSI.qa.EOS.quality:Decoding QA layer MODLAND...\n",
      "INFO:TATSSI.qa.EOS.quality:Decoding finished.\n",
      "INFO:TATSSI.qa.EOS.quality:Decoding MOD13A2.006...\n",
      "INFO:TATSSI.qa.EOS.quality:File /home/glopez/Projects/TATSSI/data/test_gee/1_km_16_days_pixel_reliability/MOD13A2.2012_12_02.006.1_km_16_days_pixel_reliability.tif\n",
      "INFO:TATSSI.qa.EOS.quality:Decoding QA layer MODLAND...\n",
      "INFO:TATSSI.qa.EOS.quality:Decoding finished.\n",
      "INFO:TATSSI.qa.EOS.quality:Decoding MOD13A2.006...\n",
      "INFO:TATSSI.qa.EOS.quality:File /home/glopez/Projects/TATSSI/data/test_gee/1_km_16_days_pixel_reliability/MOD13A2.2012_12_18.006.1_km_16_days_pixel_reliability.tif\n",
      "INFO:TATSSI.qa.EOS.quality:Decoding QA layer MODLAND...\n",
      "INFO:TATSSI.qa.EOS.quality:Decoding finished.\n",
      "INFO:TATSSI.qa.EOS.quality:Decoding MOD13A2.006...\n",
      "INFO:TATSSI.qa.EOS.quality:File /home/glopez/Projects/TATSSI/data/test_gee/1_km_16_days_pixel_reliability/MOD13A2.2013_01_01.006.1_km_16_days_pixel_reliability.tif\n",
      "INFO:TATSSI.qa.EOS.quality:Decoding QA layer MODLAND...\n",
      "INFO:TATSSI.qa.EOS.quality:Decoding finished.\n",
      "INFO:TATSSI.qa.EOS.quality:Decoding MOD13A2.006...\n",
      "INFO:TATSSI.qa.EOS.quality:File /home/glopez/Projects/TATSSI/data/test_gee/1_km_16_days_pixel_reliability/MOD13A2.2013_01_17.006.1_km_16_days_pixel_reliability.tif\n",
      "INFO:TATSSI.qa.EOS.quality:Decoding QA layer MODLAND...\n",
      "INFO:TATSSI.qa.EOS.quality:Decoding finished.\n",
      "INFO:TATSSI.qa.EOS.quality:Decoding MOD13A2.006...\n",
      "INFO:TATSSI.qa.EOS.quality:File /home/glopez/Projects/TATSSI/data/test_gee/1_km_16_days_pixel_reliability/MOD13A2.2013_02_02.006.1_km_16_days_pixel_reliability.tif\n",
      "INFO:TATSSI.qa.EOS.quality:Decoding QA layer MODLAND...\n",
      "INFO:TATSSI.qa.EOS.quality:Decoding finished.\n",
      "INFO:TATSSI.qa.EOS.quality:Decoding MOD13A2.006...\n",
      "INFO:TATSSI.qa.EOS.quality:File /home/glopez/Projects/TATSSI/data/test_gee/1_km_16_days_pixel_reliability/MOD13A2.2013_02_18.006.1_km_16_days_pixel_reliability.tif\n",
      "INFO:TATSSI.qa.EOS.quality:Decoding QA layer MODLAND...\n",
      "INFO:TATSSI.qa.EOS.quality:Decoding finished.\n",
      "INFO:TATSSI.qa.EOS.quality:Decoding MOD13A2.006...\n",
      "INFO:TATSSI.qa.EOS.quality:File /home/glopez/Projects/TATSSI/data/test_gee/1_km_16_days_pixel_reliability/MOD13A2.2013_03_06.006.1_km_16_days_pixel_reliability.tif\n",
      "INFO:TATSSI.qa.EOS.quality:Decoding QA layer MODLAND...\n",
      "INFO:TATSSI.qa.EOS.quality:Decoding finished.\n",
      "INFO:TATSSI.qa.EOS.quality:Decoding MOD13A2.006...\n",
      "INFO:TATSSI.qa.EOS.quality:File /home/glopez/Projects/TATSSI/data/test_gee/1_km_16_days_pixel_reliability/MOD13A2.2013_03_22.006.1_km_16_days_pixel_reliability.tif\n",
      "INFO:TATSSI.qa.EOS.quality:Decoding QA layer MODLAND...\n",
      "INFO:TATSSI.qa.EOS.quality:Decoding finished.\n",
      "INFO:TATSSI.qa.EOS.quality:Decoding MOD13A2.006...\n",
      "INFO:TATSSI.qa.EOS.quality:File /home/glopez/Projects/TATSSI/data/test_gee/1_km_16_days_pixel_reliability/MOD13A2.2013_04_07.006.1_km_16_days_pixel_reliability.tif\n",
      "INFO:TATSSI.qa.EOS.quality:Decoding QA layer MODLAND...\n",
      "INFO:TATSSI.qa.EOS.quality:Decoding finished.\n",
      "INFO:TATSSI.qa.EOS.quality:Decoding MOD13A2.006...\n",
      "INFO:TATSSI.qa.EOS.quality:File /home/glopez/Projects/TATSSI/data/test_gee/1_km_16_days_pixel_reliability/MOD13A2.2013_04_23.006.1_km_16_days_pixel_reliability.tif\n",
      "INFO:TATSSI.qa.EOS.quality:Decoding QA layer MODLAND...\n",
      "INFO:TATSSI.qa.EOS.quality:Decoding finished.\n",
      "INFO:TATSSI.qa.EOS.quality:Decoding MOD13A2.006...\n",
      "INFO:TATSSI.qa.EOS.quality:File /home/glopez/Projects/TATSSI/data/test_gee/1_km_16_days_pixel_reliability/MOD13A2.2013_05_09.006.1_km_16_days_pixel_reliability.tif\n",
      "INFO:TATSSI.qa.EOS.quality:Decoding QA layer MODLAND...\n",
      "INFO:TATSSI.qa.EOS.quality:Decoding finished.\n",
      "INFO:TATSSI.qa.EOS.quality:Decoding MOD13A2.006...\n",
      "INFO:TATSSI.qa.EOS.quality:File /home/glopez/Projects/TATSSI/data/test_gee/1_km_16_days_pixel_reliability/MOD13A2.2013_05_25.006.1_km_16_days_pixel_reliability.tif\n",
      "INFO:TATSSI.qa.EOS.quality:Decoding QA layer MODLAND...\n",
      "INFO:TATSSI.qa.EOS.quality:Decoding finished.\n",
      "INFO:TATSSI.qa.EOS.quality:Decoding MOD13A2.006...\n",
      "INFO:TATSSI.qa.EOS.quality:File /home/glopez/Projects/TATSSI/data/test_gee/1_km_16_days_pixel_reliability/MOD13A2.2013_06_10.006.1_km_16_days_pixel_reliability.tif\n",
      "INFO:TATSSI.qa.EOS.quality:Decoding QA layer MODLAND...\n",
      "INFO:TATSSI.qa.EOS.quality:Decoding finished.\n",
      "INFO:TATSSI.qa.EOS.quality:Decoding MOD13A2.006...\n",
      "INFO:TATSSI.qa.EOS.quality:File /home/glopez/Projects/TATSSI/data/test_gee/1_km_16_days_pixel_reliability/MOD13A2.2013_06_26.006.1_km_16_days_pixel_reliability.tif\n",
      "INFO:TATSSI.qa.EOS.quality:Decoding QA layer MODLAND...\n",
      "INFO:TATSSI.qa.EOS.quality:Decoding finished.\n",
      "INFO:TATSSI.qa.EOS.quality:Decoding MOD13A2.006...\n",
      "INFO:TATSSI.qa.EOS.quality:File /home/glopez/Projects/TATSSI/data/test_gee/1_km_16_days_pixel_reliability/MOD13A2.2013_07_12.006.1_km_16_days_pixel_reliability.tif\n",
      "INFO:TATSSI.qa.EOS.quality:Decoding QA layer MODLAND...\n",
      "INFO:TATSSI.qa.EOS.quality:Decoding finished.\n",
      "INFO:TATSSI.qa.EOS.quality:Decoding MOD13A2.006...\n",
      "INFO:TATSSI.qa.EOS.quality:File /home/glopez/Projects/TATSSI/data/test_gee/1_km_16_days_pixel_reliability/MOD13A2.2013_07_28.006.1_km_16_days_pixel_reliability.tif\n",
      "INFO:TATSSI.qa.EOS.quality:Decoding QA layer MODLAND...\n",
      "INFO:TATSSI.qa.EOS.quality:Decoding finished.\n",
      "INFO:TATSSI.qa.EOS.quality:Decoding MOD13A2.006...\n",
      "INFO:TATSSI.qa.EOS.quality:File /home/glopez/Projects/TATSSI/data/test_gee/1_km_16_days_pixel_reliability/MOD13A2.2013_08_13.006.1_km_16_days_pixel_reliability.tif\n",
      "INFO:TATSSI.qa.EOS.quality:Decoding QA layer MODLAND...\n",
      "INFO:TATSSI.qa.EOS.quality:Decoding finished.\n",
      "INFO:TATSSI.qa.EOS.quality:Decoding MOD13A2.006...\n",
      "INFO:TATSSI.qa.EOS.quality:File /home/glopez/Projects/TATSSI/data/test_gee/1_km_16_days_pixel_reliability/MOD13A2.2013_08_29.006.1_km_16_days_pixel_reliability.tif\n",
      "INFO:TATSSI.qa.EOS.quality:Decoding QA layer MODLAND...\n",
      "INFO:TATSSI.qa.EOS.quality:Decoding finished.\n",
      "INFO:TATSSI.qa.EOS.quality:Decoding MOD13A2.006...\n",
      "INFO:TATSSI.qa.EOS.quality:File /home/glopez/Projects/TATSSI/data/test_gee/1_km_16_days_pixel_reliability/MOD13A2.2013_09_14.006.1_km_16_days_pixel_reliability.tif\n",
      "INFO:TATSSI.qa.EOS.quality:Decoding QA layer MODLAND...\n",
      "INFO:TATSSI.qa.EOS.quality:Decoding finished.\n",
      "INFO:TATSSI.qa.EOS.quality:Decoding MOD13A2.006...\n",
      "INFO:TATSSI.qa.EOS.quality:File /home/glopez/Projects/TATSSI/data/test_gee/1_km_16_days_pixel_reliability/MOD13A2.2013_09_30.006.1_km_16_days_pixel_reliability.tif\n",
      "INFO:TATSSI.qa.EOS.quality:Decoding QA layer MODLAND...\n"
     ]
    },
    {
     "name": "stderr",
     "output_type": "stream",
     "text": [
      "INFO:TATSSI.qa.EOS.quality:Decoding finished.\n",
      "INFO:TATSSI.qa.EOS.quality:Decoding MOD13A2.006...\n",
      "INFO:TATSSI.qa.EOS.quality:File /home/glopez/Projects/TATSSI/data/test_gee/1_km_16_days_pixel_reliability/MOD13A2.2013_10_16.006.1_km_16_days_pixel_reliability.tif\n",
      "INFO:TATSSI.qa.EOS.quality:Decoding QA layer MODLAND...\n",
      "INFO:TATSSI.qa.EOS.quality:Decoding finished.\n",
      "INFO:TATSSI.qa.EOS.quality:Decoding MOD13A2.006...\n",
      "INFO:TATSSI.qa.EOS.quality:File /home/glopez/Projects/TATSSI/data/test_gee/1_km_16_days_pixel_reliability/MOD13A2.2013_11_01.006.1_km_16_days_pixel_reliability.tif\n",
      "INFO:TATSSI.qa.EOS.quality:Decoding QA layer MODLAND...\n",
      "INFO:TATSSI.qa.EOS.quality:Decoding finished.\n",
      "INFO:TATSSI.qa.EOS.quality:Decoding MOD13A2.006...\n",
      "INFO:TATSSI.qa.EOS.quality:File /home/glopez/Projects/TATSSI/data/test_gee/1_km_16_days_pixel_reliability/MOD13A2.2013_11_17.006.1_km_16_days_pixel_reliability.tif\n",
      "INFO:TATSSI.qa.EOS.quality:Decoding QA layer MODLAND...\n",
      "INFO:TATSSI.qa.EOS.quality:Decoding finished.\n",
      "INFO:TATSSI.qa.EOS.quality:Decoding MOD13A2.006...\n",
      "INFO:TATSSI.qa.EOS.quality:File /home/glopez/Projects/TATSSI/data/test_gee/1_km_16_days_pixel_reliability/MOD13A2.2013_12_03.006.1_km_16_days_pixel_reliability.tif\n",
      "INFO:TATSSI.qa.EOS.quality:Decoding QA layer MODLAND...\n",
      "INFO:TATSSI.qa.EOS.quality:Decoding finished.\n",
      "INFO:TATSSI.qa.EOS.quality:Decoding MOD13A2.006...\n",
      "INFO:TATSSI.qa.EOS.quality:File /home/glopez/Projects/TATSSI/data/test_gee/1_km_16_days_pixel_reliability/MOD13A2.2013_12_19.006.1_km_16_days_pixel_reliability.tif\n",
      "INFO:TATSSI.qa.EOS.quality:Decoding QA layer MODLAND...\n",
      "INFO:TATSSI.qa.EOS.quality:Decoding finished.\n",
      "INFO:TATSSI.qa.EOS.quality:Decoding MOD13A2.006...\n",
      "INFO:TATSSI.qa.EOS.quality:File /home/glopez/Projects/TATSSI/data/test_gee/1_km_16_days_pixel_reliability/MOD13A2.2014_01_01.006.1_km_16_days_pixel_reliability.tif\n",
      "INFO:TATSSI.qa.EOS.quality:Decoding QA layer MODLAND...\n",
      "INFO:TATSSI.qa.EOS.quality:Decoding finished.\n",
      "INFO:TATSSI.qa.EOS.quality:Decoding MOD13A2.006...\n",
      "INFO:TATSSI.qa.EOS.quality:File /home/glopez/Projects/TATSSI/data/test_gee/1_km_16_days_pixel_reliability/MOD13A2.2014_01_17.006.1_km_16_days_pixel_reliability.tif\n",
      "INFO:TATSSI.qa.EOS.quality:Decoding QA layer MODLAND...\n",
      "INFO:TATSSI.qa.EOS.quality:Decoding finished.\n",
      "INFO:TATSSI.qa.EOS.quality:Decoding MOD13A2.006...\n",
      "INFO:TATSSI.qa.EOS.quality:File /home/glopez/Projects/TATSSI/data/test_gee/1_km_16_days_pixel_reliability/MOD13A2.2014_02_02.006.1_km_16_days_pixel_reliability.tif\n",
      "INFO:TATSSI.qa.EOS.quality:Decoding QA layer MODLAND...\n",
      "INFO:TATSSI.qa.EOS.quality:Decoding finished.\n",
      "INFO:TATSSI.qa.EOS.quality:Decoding MOD13A2.006...\n",
      "INFO:TATSSI.qa.EOS.quality:File /home/glopez/Projects/TATSSI/data/test_gee/1_km_16_days_pixel_reliability/MOD13A2.2014_02_18.006.1_km_16_days_pixel_reliability.tif\n",
      "INFO:TATSSI.qa.EOS.quality:Decoding QA layer MODLAND...\n",
      "INFO:TATSSI.qa.EOS.quality:Decoding finished.\n",
      "INFO:TATSSI.qa.EOS.quality:Decoding MOD13A2.006...\n",
      "INFO:TATSSI.qa.EOS.quality:File /home/glopez/Projects/TATSSI/data/test_gee/1_km_16_days_pixel_reliability/MOD13A2.2014_03_06.006.1_km_16_days_pixel_reliability.tif\n",
      "INFO:TATSSI.qa.EOS.quality:Decoding QA layer MODLAND...\n",
      "INFO:TATSSI.qa.EOS.quality:Decoding finished.\n",
      "INFO:TATSSI.qa.EOS.quality:Decoding MOD13A2.006...\n",
      "INFO:TATSSI.qa.EOS.quality:File /home/glopez/Projects/TATSSI/data/test_gee/1_km_16_days_pixel_reliability/MOD13A2.2014_03_22.006.1_km_16_days_pixel_reliability.tif\n",
      "INFO:TATSSI.qa.EOS.quality:Decoding QA layer MODLAND...\n",
      "INFO:TATSSI.qa.EOS.quality:Decoding finished.\n",
      "INFO:TATSSI.qa.EOS.quality:Decoding MOD13A2.006...\n",
      "INFO:TATSSI.qa.EOS.quality:File /home/glopez/Projects/TATSSI/data/test_gee/1_km_16_days_pixel_reliability/MOD13A2.2014_04_07.006.1_km_16_days_pixel_reliability.tif\n",
      "INFO:TATSSI.qa.EOS.quality:Decoding QA layer MODLAND...\n",
      "INFO:TATSSI.qa.EOS.quality:Decoding finished.\n",
      "INFO:TATSSI.qa.EOS.quality:Decoding MOD13A2.006...\n",
      "INFO:TATSSI.qa.EOS.quality:File /home/glopez/Projects/TATSSI/data/test_gee/1_km_16_days_pixel_reliability/MOD13A2.2014_04_23.006.1_km_16_days_pixel_reliability.tif\n",
      "INFO:TATSSI.qa.EOS.quality:Decoding QA layer MODLAND...\n",
      "INFO:TATSSI.qa.EOS.quality:Decoding finished.\n",
      "INFO:TATSSI.qa.EOS.quality:Decoding MOD13A2.006...\n",
      "INFO:TATSSI.qa.EOS.quality:File /home/glopez/Projects/TATSSI/data/test_gee/1_km_16_days_pixel_reliability/MOD13A2.2014_05_09.006.1_km_16_days_pixel_reliability.tif\n",
      "INFO:TATSSI.qa.EOS.quality:Decoding QA layer MODLAND...\n",
      "INFO:TATSSI.qa.EOS.quality:Decoding finished.\n",
      "INFO:TATSSI.qa.EOS.quality:Decoding MOD13A2.006...\n",
      "INFO:TATSSI.qa.EOS.quality:File /home/glopez/Projects/TATSSI/data/test_gee/1_km_16_days_pixel_reliability/MOD13A2.2014_05_25.006.1_km_16_days_pixel_reliability.tif\n",
      "INFO:TATSSI.qa.EOS.quality:Decoding QA layer MODLAND...\n",
      "INFO:TATSSI.qa.EOS.quality:Decoding finished.\n",
      "INFO:TATSSI.qa.EOS.quality:Decoding MOD13A2.006...\n",
      "INFO:TATSSI.qa.EOS.quality:File /home/glopez/Projects/TATSSI/data/test_gee/1_km_16_days_pixel_reliability/MOD13A2.2014_06_10.006.1_km_16_days_pixel_reliability.tif\n",
      "INFO:TATSSI.qa.EOS.quality:Decoding QA layer MODLAND...\n",
      "INFO:TATSSI.qa.EOS.quality:Decoding finished.\n",
      "INFO:TATSSI.qa.EOS.quality:Decoding MOD13A2.006...\n",
      "INFO:TATSSI.qa.EOS.quality:File /home/glopez/Projects/TATSSI/data/test_gee/1_km_16_days_pixel_reliability/MOD13A2.2014_06_26.006.1_km_16_days_pixel_reliability.tif\n",
      "INFO:TATSSI.qa.EOS.quality:Decoding QA layer MODLAND...\n",
      "INFO:TATSSI.qa.EOS.quality:Decoding finished.\n",
      "INFO:TATSSI.qa.EOS.quality:Decoding MOD13A2.006...\n",
      "INFO:TATSSI.qa.EOS.quality:File /home/glopez/Projects/TATSSI/data/test_gee/1_km_16_days_pixel_reliability/MOD13A2.2014_07_12.006.1_km_16_days_pixel_reliability.tif\n",
      "INFO:TATSSI.qa.EOS.quality:Decoding QA layer MODLAND...\n",
      "INFO:TATSSI.qa.EOS.quality:Decoding finished.\n",
      "INFO:TATSSI.qa.EOS.quality:Decoding MOD13A2.006...\n",
      "INFO:TATSSI.qa.EOS.quality:File /home/glopez/Projects/TATSSI/data/test_gee/1_km_16_days_pixel_reliability/MOD13A2.2014_07_28.006.1_km_16_days_pixel_reliability.tif\n",
      "INFO:TATSSI.qa.EOS.quality:Decoding QA layer MODLAND...\n",
      "INFO:TATSSI.qa.EOS.quality:Decoding finished.\n",
      "INFO:TATSSI.qa.EOS.quality:Decoding MOD13A2.006...\n",
      "INFO:TATSSI.qa.EOS.quality:File /home/glopez/Projects/TATSSI/data/test_gee/1_km_16_days_pixel_reliability/MOD13A2.2014_08_13.006.1_km_16_days_pixel_reliability.tif\n",
      "INFO:TATSSI.qa.EOS.quality:Decoding QA layer MODLAND...\n",
      "INFO:TATSSI.qa.EOS.quality:Decoding finished.\n",
      "INFO:TATSSI.qa.EOS.quality:Decoding MOD13A2.006...\n",
      "INFO:TATSSI.qa.EOS.quality:File /home/glopez/Projects/TATSSI/data/test_gee/1_km_16_days_pixel_reliability/MOD13A2.2014_08_29.006.1_km_16_days_pixel_reliability.tif\n",
      "INFO:TATSSI.qa.EOS.quality:Decoding QA layer MODLAND...\n",
      "INFO:TATSSI.qa.EOS.quality:Decoding finished.\n",
      "INFO:TATSSI.qa.EOS.quality:Decoding MOD13A2.006...\n",
      "INFO:TATSSI.qa.EOS.quality:File /home/glopez/Projects/TATSSI/data/test_gee/1_km_16_days_pixel_reliability/MOD13A2.2014_09_14.006.1_km_16_days_pixel_reliability.tif\n",
      "INFO:TATSSI.qa.EOS.quality:Decoding QA layer MODLAND...\n",
      "INFO:TATSSI.qa.EOS.quality:Decoding finished.\n",
      "INFO:TATSSI.qa.EOS.quality:Decoding MOD13A2.006...\n",
      "INFO:TATSSI.qa.EOS.quality:File /home/glopez/Projects/TATSSI/data/test_gee/1_km_16_days_pixel_reliability/MOD13A2.2014_09_30.006.1_km_16_days_pixel_reliability.tif\n",
      "INFO:TATSSI.qa.EOS.quality:Decoding QA layer MODLAND...\n",
      "INFO:TATSSI.qa.EOS.quality:Decoding finished.\n",
      "INFO:TATSSI.qa.EOS.quality:Decoding MOD13A2.006...\n",
      "INFO:TATSSI.qa.EOS.quality:File /home/glopez/Projects/TATSSI/data/test_gee/1_km_16_days_pixel_reliability/MOD13A2.2014_10_16.006.1_km_16_days_pixel_reliability.tif\n",
      "INFO:TATSSI.qa.EOS.quality:Decoding QA layer MODLAND...\n",
      "INFO:TATSSI.qa.EOS.quality:Decoding finished.\n",
      "INFO:TATSSI.qa.EOS.quality:Decoding MOD13A2.006...\n",
      "INFO:TATSSI.qa.EOS.quality:File /home/glopez/Projects/TATSSI/data/test_gee/1_km_16_days_pixel_reliability/MOD13A2.2014_11_01.006.1_km_16_days_pixel_reliability.tif\n",
      "INFO:TATSSI.qa.EOS.quality:Decoding QA layer MODLAND...\n",
      "INFO:TATSSI.qa.EOS.quality:Decoding finished.\n",
      "INFO:TATSSI.qa.EOS.quality:Decoding MOD13A2.006...\n",
      "INFO:TATSSI.qa.EOS.quality:File /home/glopez/Projects/TATSSI/data/test_gee/1_km_16_days_pixel_reliability/MOD13A2.2014_11_17.006.1_km_16_days_pixel_reliability.tif\n",
      "INFO:TATSSI.qa.EOS.quality:Decoding QA layer MODLAND...\n"
     ]
    },
    {
     "name": "stderr",
     "output_type": "stream",
     "text": [
      "INFO:TATSSI.qa.EOS.quality:Decoding finished.\n",
      "INFO:TATSSI.qa.EOS.quality:Decoding MOD13A2.006...\n",
      "INFO:TATSSI.qa.EOS.quality:File /home/glopez/Projects/TATSSI/data/test_gee/1_km_16_days_pixel_reliability/MOD13A2.2014_12_03.006.1_km_16_days_pixel_reliability.tif\n",
      "INFO:TATSSI.qa.EOS.quality:Decoding QA layer MODLAND...\n",
      "INFO:TATSSI.qa.EOS.quality:Decoding finished.\n",
      "INFO:TATSSI.qa.EOS.quality:Decoding MOD13A2.006...\n",
      "INFO:TATSSI.qa.EOS.quality:File /home/glopez/Projects/TATSSI/data/test_gee/1_km_16_days_pixel_reliability/MOD13A2.2014_12_19.006.1_km_16_days_pixel_reliability.tif\n",
      "INFO:TATSSI.qa.EOS.quality:Decoding QA layer MODLAND...\n",
      "INFO:TATSSI.qa.EOS.quality:Decoding finished.\n",
      "INFO:TATSSI.qa.EOS.quality:Decoding MOD13A2.006...\n",
      "INFO:TATSSI.qa.EOS.quality:File /home/glopez/Projects/TATSSI/data/test_gee/1_km_16_days_pixel_reliability/MOD13A2.2015_01_01.006.1_km_16_days_pixel_reliability.tif\n",
      "INFO:TATSSI.qa.EOS.quality:Decoding QA layer MODLAND...\n",
      "INFO:TATSSI.qa.EOS.quality:Decoding finished.\n",
      "INFO:TATSSI.qa.EOS.quality:Decoding MOD13A2.006...\n",
      "INFO:TATSSI.qa.EOS.quality:File /home/glopez/Projects/TATSSI/data/test_gee/1_km_16_days_pixel_reliability/MOD13A2.2015_01_17.006.1_km_16_days_pixel_reliability.tif\n",
      "INFO:TATSSI.qa.EOS.quality:Decoding QA layer MODLAND...\n",
      "INFO:TATSSI.qa.EOS.quality:Decoding finished.\n",
      "INFO:TATSSI.qa.EOS.quality:Decoding MOD13A2.006...\n",
      "INFO:TATSSI.qa.EOS.quality:File /home/glopez/Projects/TATSSI/data/test_gee/1_km_16_days_pixel_reliability/MOD13A2.2015_02_02.006.1_km_16_days_pixel_reliability.tif\n",
      "INFO:TATSSI.qa.EOS.quality:Decoding QA layer MODLAND...\n",
      "INFO:TATSSI.qa.EOS.quality:Decoding finished.\n",
      "INFO:TATSSI.qa.EOS.quality:Decoding MOD13A2.006...\n",
      "INFO:TATSSI.qa.EOS.quality:File /home/glopez/Projects/TATSSI/data/test_gee/1_km_16_days_pixel_reliability/MOD13A2.2015_02_18.006.1_km_16_days_pixel_reliability.tif\n",
      "INFO:TATSSI.qa.EOS.quality:Decoding QA layer MODLAND...\n",
      "INFO:TATSSI.qa.EOS.quality:Decoding finished.\n",
      "INFO:TATSSI.qa.EOS.quality:Decoding MOD13A2.006...\n",
      "INFO:TATSSI.qa.EOS.quality:File /home/glopez/Projects/TATSSI/data/test_gee/1_km_16_days_pixel_reliability/MOD13A2.2015_03_06.006.1_km_16_days_pixel_reliability.tif\n",
      "INFO:TATSSI.qa.EOS.quality:Decoding QA layer MODLAND...\n",
      "INFO:TATSSI.qa.EOS.quality:Decoding finished.\n",
      "INFO:TATSSI.qa.EOS.quality:Decoding MOD13A2.006...\n",
      "INFO:TATSSI.qa.EOS.quality:File /home/glopez/Projects/TATSSI/data/test_gee/1_km_16_days_pixel_reliability/MOD13A2.2015_03_22.006.1_km_16_days_pixel_reliability.tif\n",
      "INFO:TATSSI.qa.EOS.quality:Decoding QA layer MODLAND...\n",
      "INFO:TATSSI.qa.EOS.quality:Decoding finished.\n",
      "INFO:TATSSI.qa.EOS.quality:Decoding MOD13A2.006...\n",
      "INFO:TATSSI.qa.EOS.quality:File /home/glopez/Projects/TATSSI/data/test_gee/1_km_16_days_pixel_reliability/MOD13A2.2015_04_07.006.1_km_16_days_pixel_reliability.tif\n",
      "INFO:TATSSI.qa.EOS.quality:Decoding QA layer MODLAND...\n",
      "INFO:TATSSI.qa.EOS.quality:Decoding finished.\n",
      "INFO:TATSSI.qa.EOS.quality:Decoding MOD13A2.006...\n",
      "INFO:TATSSI.qa.EOS.quality:File /home/glopez/Projects/TATSSI/data/test_gee/1_km_16_days_pixel_reliability/MOD13A2.2015_04_23.006.1_km_16_days_pixel_reliability.tif\n",
      "INFO:TATSSI.qa.EOS.quality:Decoding QA layer MODLAND...\n",
      "INFO:TATSSI.qa.EOS.quality:Decoding finished.\n",
      "INFO:TATSSI.qa.EOS.quality:Decoding MOD13A2.006...\n",
      "INFO:TATSSI.qa.EOS.quality:File /home/glopez/Projects/TATSSI/data/test_gee/1_km_16_days_pixel_reliability/MOD13A2.2015_05_09.006.1_km_16_days_pixel_reliability.tif\n",
      "INFO:TATSSI.qa.EOS.quality:Decoding QA layer MODLAND...\n",
      "INFO:TATSSI.qa.EOS.quality:Decoding finished.\n",
      "INFO:TATSSI.qa.EOS.quality:Decoding MOD13A2.006...\n",
      "INFO:TATSSI.qa.EOS.quality:File /home/glopez/Projects/TATSSI/data/test_gee/1_km_16_days_pixel_reliability/MOD13A2.2015_05_25.006.1_km_16_days_pixel_reliability.tif\n",
      "INFO:TATSSI.qa.EOS.quality:Decoding QA layer MODLAND...\n",
      "INFO:TATSSI.qa.EOS.quality:Decoding finished.\n",
      "INFO:TATSSI.qa.EOS.quality:Decoding MOD13A2.006...\n",
      "INFO:TATSSI.qa.EOS.quality:File /home/glopez/Projects/TATSSI/data/test_gee/1_km_16_days_pixel_reliability/MOD13A2.2015_06_10.006.1_km_16_days_pixel_reliability.tif\n",
      "INFO:TATSSI.qa.EOS.quality:Decoding QA layer MODLAND...\n",
      "INFO:TATSSI.qa.EOS.quality:Decoding finished.\n",
      "INFO:TATSSI.qa.EOS.quality:Decoding MOD13A2.006...\n",
      "INFO:TATSSI.qa.EOS.quality:File /home/glopez/Projects/TATSSI/data/test_gee/1_km_16_days_pixel_reliability/MOD13A2.2015_06_26.006.1_km_16_days_pixel_reliability.tif\n",
      "INFO:TATSSI.qa.EOS.quality:Decoding QA layer MODLAND...\n",
      "INFO:TATSSI.qa.EOS.quality:Decoding finished.\n",
      "INFO:TATSSI.qa.EOS.quality:Decoding MOD13A2.006...\n",
      "INFO:TATSSI.qa.EOS.quality:File /home/glopez/Projects/TATSSI/data/test_gee/1_km_16_days_pixel_reliability/MOD13A2.2015_07_12.006.1_km_16_days_pixel_reliability.tif\n",
      "INFO:TATSSI.qa.EOS.quality:Decoding QA layer MODLAND...\n",
      "INFO:TATSSI.qa.EOS.quality:Decoding finished.\n",
      "INFO:TATSSI.qa.EOS.quality:Decoding MOD13A2.006...\n",
      "INFO:TATSSI.qa.EOS.quality:File /home/glopez/Projects/TATSSI/data/test_gee/1_km_16_days_pixel_reliability/MOD13A2.2015_07_28.006.1_km_16_days_pixel_reliability.tif\n",
      "INFO:TATSSI.qa.EOS.quality:Decoding QA layer MODLAND...\n",
      "INFO:TATSSI.qa.EOS.quality:Decoding finished.\n",
      "INFO:TATSSI.qa.EOS.quality:Decoding MOD13A2.006...\n",
      "INFO:TATSSI.qa.EOS.quality:File /home/glopez/Projects/TATSSI/data/test_gee/1_km_16_days_pixel_reliability/MOD13A2.2015_08_13.006.1_km_16_days_pixel_reliability.tif\n",
      "INFO:TATSSI.qa.EOS.quality:Decoding QA layer MODLAND...\n",
      "INFO:TATSSI.qa.EOS.quality:Decoding finished.\n",
      "INFO:TATSSI.qa.EOS.quality:Decoding MOD13A2.006...\n",
      "INFO:TATSSI.qa.EOS.quality:File /home/glopez/Projects/TATSSI/data/test_gee/1_km_16_days_pixel_reliability/MOD13A2.2015_08_29.006.1_km_16_days_pixel_reliability.tif\n",
      "INFO:TATSSI.qa.EOS.quality:Decoding QA layer MODLAND...\n",
      "INFO:TATSSI.qa.EOS.quality:Decoding finished.\n",
      "INFO:TATSSI.qa.EOS.quality:Decoding MOD13A2.006...\n",
      "INFO:TATSSI.qa.EOS.quality:File /home/glopez/Projects/TATSSI/data/test_gee/1_km_16_days_pixel_reliability/MOD13A2.2015_09_14.006.1_km_16_days_pixel_reliability.tif\n",
      "INFO:TATSSI.qa.EOS.quality:Decoding QA layer MODLAND...\n",
      "INFO:TATSSI.qa.EOS.quality:Decoding finished.\n",
      "INFO:TATSSI.qa.EOS.quality:Decoding MOD13A2.006...\n",
      "INFO:TATSSI.qa.EOS.quality:File /home/glopez/Projects/TATSSI/data/test_gee/1_km_16_days_pixel_reliability/MOD13A2.2015_09_30.006.1_km_16_days_pixel_reliability.tif\n",
      "INFO:TATSSI.qa.EOS.quality:Decoding QA layer MODLAND...\n",
      "INFO:TATSSI.qa.EOS.quality:Decoding finished.\n",
      "INFO:TATSSI.qa.EOS.quality:Decoding MOD13A2.006...\n",
      "INFO:TATSSI.qa.EOS.quality:File /home/glopez/Projects/TATSSI/data/test_gee/1_km_16_days_pixel_reliability/MOD13A2.2015_10_16.006.1_km_16_days_pixel_reliability.tif\n",
      "INFO:TATSSI.qa.EOS.quality:Decoding QA layer MODLAND...\n",
      "INFO:TATSSI.qa.EOS.quality:Decoding finished.\n",
      "INFO:TATSSI.qa.EOS.quality:Decoding MOD13A2.006...\n",
      "INFO:TATSSI.qa.EOS.quality:File /home/glopez/Projects/TATSSI/data/test_gee/1_km_16_days_pixel_reliability/MOD13A2.2015_11_01.006.1_km_16_days_pixel_reliability.tif\n",
      "INFO:TATSSI.qa.EOS.quality:Decoding QA layer MODLAND...\n",
      "INFO:TATSSI.qa.EOS.quality:Decoding finished.\n",
      "INFO:TATSSI.qa.EOS.quality:Decoding MOD13A2.006...\n",
      "INFO:TATSSI.qa.EOS.quality:File /home/glopez/Projects/TATSSI/data/test_gee/1_km_16_days_pixel_reliability/MOD13A2.2015_11_17.006.1_km_16_days_pixel_reliability.tif\n",
      "INFO:TATSSI.qa.EOS.quality:Decoding QA layer MODLAND...\n",
      "INFO:TATSSI.qa.EOS.quality:Decoding finished.\n",
      "INFO:TATSSI.qa.EOS.quality:Decoding MOD13A2.006...\n",
      "INFO:TATSSI.qa.EOS.quality:File /home/glopez/Projects/TATSSI/data/test_gee/1_km_16_days_pixel_reliability/MOD13A2.2015_12_03.006.1_km_16_days_pixel_reliability.tif\n",
      "INFO:TATSSI.qa.EOS.quality:Decoding QA layer MODLAND...\n",
      "INFO:TATSSI.qa.EOS.quality:Decoding finished.\n",
      "INFO:TATSSI.qa.EOS.quality:Decoding MOD13A2.006...\n",
      "INFO:TATSSI.qa.EOS.quality:File /home/glopez/Projects/TATSSI/data/test_gee/1_km_16_days_pixel_reliability/MOD13A2.2015_12_19.006.1_km_16_days_pixel_reliability.tif\n",
      "INFO:TATSSI.qa.EOS.quality:Decoding QA layer MODLAND...\n",
      "INFO:TATSSI.qa.EOS.quality:Decoding finished.\n",
      "INFO:TATSSI.qa.EOS.quality:Decoding MOD13A2.006...\n",
      "INFO:TATSSI.qa.EOS.quality:File /home/glopez/Projects/TATSSI/data/test_gee/1_km_16_days_pixel_reliability/MOD13A2.2016_01_01.006.1_km_16_days_pixel_reliability.tif\n",
      "INFO:TATSSI.qa.EOS.quality:Decoding QA layer MODLAND...\n"
     ]
    },
    {
     "name": "stderr",
     "output_type": "stream",
     "text": [
      "INFO:TATSSI.qa.EOS.quality:Decoding finished.\n",
      "INFO:TATSSI.qa.EOS.quality:Decoding MOD13A2.006...\n",
      "INFO:TATSSI.qa.EOS.quality:File /home/glopez/Projects/TATSSI/data/test_gee/1_km_16_days_pixel_reliability/MOD13A2.2016_01_17.006.1_km_16_days_pixel_reliability.tif\n",
      "INFO:TATSSI.qa.EOS.quality:Decoding QA layer MODLAND...\n",
      "INFO:TATSSI.qa.EOS.quality:Decoding finished.\n",
      "INFO:TATSSI.qa.EOS.quality:Decoding MOD13A2.006...\n",
      "INFO:TATSSI.qa.EOS.quality:File /home/glopez/Projects/TATSSI/data/test_gee/1_km_16_days_pixel_reliability/MOD13A2.2016_02_02.006.1_km_16_days_pixel_reliability.tif\n",
      "INFO:TATSSI.qa.EOS.quality:Decoding QA layer MODLAND...\n",
      "INFO:TATSSI.qa.EOS.quality:Decoding finished.\n",
      "INFO:TATSSI.qa.EOS.quality:Decoding MOD13A2.006...\n",
      "INFO:TATSSI.qa.EOS.quality:File /home/glopez/Projects/TATSSI/data/test_gee/1_km_16_days_pixel_reliability/MOD13A2.2016_02_18.006.1_km_16_days_pixel_reliability.tif\n",
      "INFO:TATSSI.qa.EOS.quality:Decoding QA layer MODLAND...\n",
      "INFO:TATSSI.qa.EOS.quality:Decoding finished.\n",
      "INFO:TATSSI.qa.EOS.quality:Decoding MOD13A2.006...\n",
      "INFO:TATSSI.qa.EOS.quality:File /home/glopez/Projects/TATSSI/data/test_gee/1_km_16_days_pixel_reliability/MOD13A2.2016_03_05.006.1_km_16_days_pixel_reliability.tif\n",
      "INFO:TATSSI.qa.EOS.quality:Decoding QA layer MODLAND...\n",
      "INFO:TATSSI.qa.EOS.quality:Decoding finished.\n",
      "INFO:TATSSI.qa.EOS.quality:Decoding MOD13A2.006...\n",
      "INFO:TATSSI.qa.EOS.quality:File /home/glopez/Projects/TATSSI/data/test_gee/1_km_16_days_pixel_reliability/MOD13A2.2016_03_21.006.1_km_16_days_pixel_reliability.tif\n",
      "INFO:TATSSI.qa.EOS.quality:Decoding QA layer MODLAND...\n",
      "INFO:TATSSI.qa.EOS.quality:Decoding finished.\n",
      "INFO:TATSSI.qa.EOS.quality:Decoding MOD13A2.006...\n",
      "INFO:TATSSI.qa.EOS.quality:File /home/glopez/Projects/TATSSI/data/test_gee/1_km_16_days_pixel_reliability/MOD13A2.2016_04_06.006.1_km_16_days_pixel_reliability.tif\n",
      "INFO:TATSSI.qa.EOS.quality:Decoding QA layer MODLAND...\n",
      "INFO:TATSSI.qa.EOS.quality:Decoding finished.\n",
      "INFO:TATSSI.qa.EOS.quality:Decoding MOD13A2.006...\n",
      "INFO:TATSSI.qa.EOS.quality:File /home/glopez/Projects/TATSSI/data/test_gee/1_km_16_days_pixel_reliability/MOD13A2.2016_04_22.006.1_km_16_days_pixel_reliability.tif\n",
      "INFO:TATSSI.qa.EOS.quality:Decoding QA layer MODLAND...\n",
      "INFO:TATSSI.qa.EOS.quality:Decoding finished.\n",
      "INFO:TATSSI.qa.EOS.quality:Decoding MOD13A2.006...\n",
      "INFO:TATSSI.qa.EOS.quality:File /home/glopez/Projects/TATSSI/data/test_gee/1_km_16_days_pixel_reliability/MOD13A2.2016_05_08.006.1_km_16_days_pixel_reliability.tif\n",
      "INFO:TATSSI.qa.EOS.quality:Decoding QA layer MODLAND...\n",
      "INFO:TATSSI.qa.EOS.quality:Decoding finished.\n",
      "INFO:TATSSI.qa.EOS.quality:Decoding MOD13A2.006...\n",
      "INFO:TATSSI.qa.EOS.quality:File /home/glopez/Projects/TATSSI/data/test_gee/1_km_16_days_pixel_reliability/MOD13A2.2016_05_24.006.1_km_16_days_pixel_reliability.tif\n",
      "INFO:TATSSI.qa.EOS.quality:Decoding QA layer MODLAND...\n",
      "INFO:TATSSI.qa.EOS.quality:Decoding finished.\n",
      "INFO:TATSSI.qa.EOS.quality:Decoding MOD13A2.006...\n",
      "INFO:TATSSI.qa.EOS.quality:File /home/glopez/Projects/TATSSI/data/test_gee/1_km_16_days_pixel_reliability/MOD13A2.2016_06_09.006.1_km_16_days_pixel_reliability.tif\n",
      "INFO:TATSSI.qa.EOS.quality:Decoding QA layer MODLAND...\n",
      "INFO:TATSSI.qa.EOS.quality:Decoding finished.\n",
      "INFO:TATSSI.qa.EOS.quality:Decoding MOD13A2.006...\n",
      "INFO:TATSSI.qa.EOS.quality:File /home/glopez/Projects/TATSSI/data/test_gee/1_km_16_days_pixel_reliability/MOD13A2.2016_06_25.006.1_km_16_days_pixel_reliability.tif\n",
      "INFO:TATSSI.qa.EOS.quality:Decoding QA layer MODLAND...\n",
      "INFO:TATSSI.qa.EOS.quality:Decoding finished.\n",
      "INFO:TATSSI.qa.EOS.quality:Decoding MOD13A2.006...\n",
      "INFO:TATSSI.qa.EOS.quality:File /home/glopez/Projects/TATSSI/data/test_gee/1_km_16_days_pixel_reliability/MOD13A2.2016_07_11.006.1_km_16_days_pixel_reliability.tif\n",
      "INFO:TATSSI.qa.EOS.quality:Decoding QA layer MODLAND...\n",
      "INFO:TATSSI.qa.EOS.quality:Decoding finished.\n",
      "INFO:TATSSI.qa.EOS.quality:Decoding MOD13A2.006...\n",
      "INFO:TATSSI.qa.EOS.quality:File /home/glopez/Projects/TATSSI/data/test_gee/1_km_16_days_pixel_reliability/MOD13A2.2016_07_27.006.1_km_16_days_pixel_reliability.tif\n",
      "INFO:TATSSI.qa.EOS.quality:Decoding QA layer MODLAND...\n",
      "INFO:TATSSI.qa.EOS.quality:Decoding finished.\n",
      "INFO:TATSSI.qa.EOS.quality:Decoding MOD13A2.006...\n",
      "INFO:TATSSI.qa.EOS.quality:File /home/glopez/Projects/TATSSI/data/test_gee/1_km_16_days_pixel_reliability/MOD13A2.2016_08_12.006.1_km_16_days_pixel_reliability.tif\n",
      "INFO:TATSSI.qa.EOS.quality:Decoding QA layer MODLAND...\n",
      "INFO:TATSSI.qa.EOS.quality:Decoding finished.\n",
      "INFO:TATSSI.qa.EOS.quality:Decoding MOD13A2.006...\n",
      "INFO:TATSSI.qa.EOS.quality:File /home/glopez/Projects/TATSSI/data/test_gee/1_km_16_days_pixel_reliability/MOD13A2.2016_08_28.006.1_km_16_days_pixel_reliability.tif\n",
      "INFO:TATSSI.qa.EOS.quality:Decoding QA layer MODLAND...\n",
      "INFO:TATSSI.qa.EOS.quality:Decoding finished.\n",
      "INFO:TATSSI.qa.EOS.quality:Decoding MOD13A2.006...\n",
      "INFO:TATSSI.qa.EOS.quality:File /home/glopez/Projects/TATSSI/data/test_gee/1_km_16_days_pixel_reliability/MOD13A2.2016_09_13.006.1_km_16_days_pixel_reliability.tif\n",
      "INFO:TATSSI.qa.EOS.quality:Decoding QA layer MODLAND...\n",
      "INFO:TATSSI.qa.EOS.quality:Decoding finished.\n",
      "INFO:TATSSI.qa.EOS.quality:Decoding MOD13A2.006...\n",
      "INFO:TATSSI.qa.EOS.quality:File /home/glopez/Projects/TATSSI/data/test_gee/1_km_16_days_pixel_reliability/MOD13A2.2016_09_29.006.1_km_16_days_pixel_reliability.tif\n",
      "INFO:TATSSI.qa.EOS.quality:Decoding QA layer MODLAND...\n",
      "INFO:TATSSI.qa.EOS.quality:Decoding finished.\n",
      "INFO:TATSSI.qa.EOS.quality:Decoding MOD13A2.006...\n",
      "INFO:TATSSI.qa.EOS.quality:File /home/glopez/Projects/TATSSI/data/test_gee/1_km_16_days_pixel_reliability/MOD13A2.2016_10_15.006.1_km_16_days_pixel_reliability.tif\n",
      "INFO:TATSSI.qa.EOS.quality:Decoding QA layer MODLAND...\n",
      "INFO:TATSSI.qa.EOS.quality:Decoding finished.\n",
      "INFO:TATSSI.qa.EOS.quality:Decoding MOD13A2.006...\n",
      "INFO:TATSSI.qa.EOS.quality:File /home/glopez/Projects/TATSSI/data/test_gee/1_km_16_days_pixel_reliability/MOD13A2.2016_10_31.006.1_km_16_days_pixel_reliability.tif\n",
      "INFO:TATSSI.qa.EOS.quality:Decoding QA layer MODLAND...\n",
      "INFO:TATSSI.qa.EOS.quality:Decoding finished.\n",
      "INFO:TATSSI.qa.EOS.quality:Decoding MOD13A2.006...\n",
      "INFO:TATSSI.qa.EOS.quality:File /home/glopez/Projects/TATSSI/data/test_gee/1_km_16_days_pixel_reliability/MOD13A2.2016_11_16.006.1_km_16_days_pixel_reliability.tif\n",
      "INFO:TATSSI.qa.EOS.quality:Decoding QA layer MODLAND...\n",
      "INFO:TATSSI.qa.EOS.quality:Decoding finished.\n",
      "INFO:TATSSI.qa.EOS.quality:Decoding MOD13A2.006...\n",
      "INFO:TATSSI.qa.EOS.quality:File /home/glopez/Projects/TATSSI/data/test_gee/1_km_16_days_pixel_reliability/MOD13A2.2016_12_02.006.1_km_16_days_pixel_reliability.tif\n",
      "INFO:TATSSI.qa.EOS.quality:Decoding QA layer MODLAND...\n",
      "INFO:TATSSI.qa.EOS.quality:Decoding finished.\n",
      "INFO:TATSSI.qa.EOS.quality:Decoding MOD13A2.006...\n",
      "INFO:TATSSI.qa.EOS.quality:File /home/glopez/Projects/TATSSI/data/test_gee/1_km_16_days_pixel_reliability/MOD13A2.2016_12_18.006.1_km_16_days_pixel_reliability.tif\n",
      "INFO:TATSSI.qa.EOS.quality:Decoding QA layer MODLAND...\n",
      "INFO:TATSSI.qa.EOS.quality:Decoding finished.\n",
      "INFO:TATSSI.qa.EOS.quality:Decoding MOD13A2.006...\n",
      "INFO:TATSSI.qa.EOS.quality:File /home/glopez/Projects/TATSSI/data/test_gee/1_km_16_days_pixel_reliability/MOD13A2.2017_01_01.006.1_km_16_days_pixel_reliability.tif\n",
      "INFO:TATSSI.qa.EOS.quality:Decoding QA layer MODLAND...\n",
      "INFO:TATSSI.qa.EOS.quality:Decoding finished.\n",
      "INFO:TATSSI.qa.EOS.quality:Decoding MOD13A2.006...\n",
      "INFO:TATSSI.qa.EOS.quality:File /home/glopez/Projects/TATSSI/data/test_gee/1_km_16_days_pixel_reliability/MOD13A2.2017_01_17.006.1_km_16_days_pixel_reliability.tif\n",
      "INFO:TATSSI.qa.EOS.quality:Decoding QA layer MODLAND...\n",
      "INFO:TATSSI.qa.EOS.quality:Decoding finished.\n",
      "INFO:TATSSI.qa.EOS.quality:Decoding MOD13A2.006...\n",
      "INFO:TATSSI.qa.EOS.quality:File /home/glopez/Projects/TATSSI/data/test_gee/1_km_16_days_pixel_reliability/MOD13A2.2017_02_02.006.1_km_16_days_pixel_reliability.tif\n",
      "INFO:TATSSI.qa.EOS.quality:Decoding QA layer MODLAND...\n",
      "INFO:TATSSI.qa.EOS.quality:Decoding finished.\n",
      "INFO:TATSSI.qa.EOS.quality:Decoding MOD13A2.006...\n",
      "INFO:TATSSI.qa.EOS.quality:File /home/glopez/Projects/TATSSI/data/test_gee/1_km_16_days_pixel_reliability/MOD13A2.2017_02_18.006.1_km_16_days_pixel_reliability.tif\n",
      "INFO:TATSSI.qa.EOS.quality:Decoding QA layer MODLAND...\n"
     ]
    },
    {
     "name": "stderr",
     "output_type": "stream",
     "text": [
      "INFO:TATSSI.qa.EOS.quality:Decoding finished.\n",
      "INFO:TATSSI.qa.EOS.quality:Decoding MOD13A2.006...\n",
      "INFO:TATSSI.qa.EOS.quality:File /home/glopez/Projects/TATSSI/data/test_gee/1_km_16_days_pixel_reliability/MOD13A2.2017_03_06.006.1_km_16_days_pixel_reliability.tif\n",
      "INFO:TATSSI.qa.EOS.quality:Decoding QA layer MODLAND...\n",
      "INFO:TATSSI.qa.EOS.quality:Decoding finished.\n",
      "INFO:TATSSI.qa.EOS.quality:Decoding MOD13A2.006...\n",
      "INFO:TATSSI.qa.EOS.quality:File /home/glopez/Projects/TATSSI/data/test_gee/1_km_16_days_pixel_reliability/MOD13A2.2017_03_22.006.1_km_16_days_pixel_reliability.tif\n",
      "INFO:TATSSI.qa.EOS.quality:Decoding QA layer MODLAND...\n",
      "INFO:TATSSI.qa.EOS.quality:Decoding finished.\n",
      "INFO:TATSSI.qa.EOS.quality:Decoding MOD13A2.006...\n",
      "INFO:TATSSI.qa.EOS.quality:File /home/glopez/Projects/TATSSI/data/test_gee/1_km_16_days_pixel_reliability/MOD13A2.2017_04_07.006.1_km_16_days_pixel_reliability.tif\n",
      "INFO:TATSSI.qa.EOS.quality:Decoding QA layer MODLAND...\n",
      "INFO:TATSSI.qa.EOS.quality:Decoding finished.\n",
      "INFO:TATSSI.qa.EOS.quality:Decoding MOD13A2.006...\n",
      "INFO:TATSSI.qa.EOS.quality:File /home/glopez/Projects/TATSSI/data/test_gee/1_km_16_days_pixel_reliability/MOD13A2.2017_04_23.006.1_km_16_days_pixel_reliability.tif\n",
      "INFO:TATSSI.qa.EOS.quality:Decoding QA layer MODLAND...\n",
      "INFO:TATSSI.qa.EOS.quality:Decoding finished.\n",
      "INFO:TATSSI.qa.EOS.quality:Decoding MOD13A2.006...\n",
      "INFO:TATSSI.qa.EOS.quality:File /home/glopez/Projects/TATSSI/data/test_gee/1_km_16_days_pixel_reliability/MOD13A2.2017_05_09.006.1_km_16_days_pixel_reliability.tif\n",
      "INFO:TATSSI.qa.EOS.quality:Decoding QA layer MODLAND...\n",
      "INFO:TATSSI.qa.EOS.quality:Decoding finished.\n",
      "INFO:TATSSI.qa.EOS.quality:Decoding MOD13A2.006...\n",
      "INFO:TATSSI.qa.EOS.quality:File /home/glopez/Projects/TATSSI/data/test_gee/1_km_16_days_pixel_reliability/MOD13A2.2017_05_25.006.1_km_16_days_pixel_reliability.tif\n",
      "INFO:TATSSI.qa.EOS.quality:Decoding QA layer MODLAND...\n",
      "INFO:TATSSI.qa.EOS.quality:Decoding finished.\n",
      "INFO:TATSSI.qa.EOS.quality:Decoding MOD13A2.006...\n",
      "INFO:TATSSI.qa.EOS.quality:File /home/glopez/Projects/TATSSI/data/test_gee/1_km_16_days_pixel_reliability/MOD13A2.2017_06_10.006.1_km_16_days_pixel_reliability.tif\n",
      "INFO:TATSSI.qa.EOS.quality:Decoding QA layer MODLAND...\n",
      "INFO:TATSSI.qa.EOS.quality:Decoding finished.\n",
      "INFO:TATSSI.qa.EOS.quality:Decoding MOD13A2.006...\n",
      "INFO:TATSSI.qa.EOS.quality:File /home/glopez/Projects/TATSSI/data/test_gee/1_km_16_days_pixel_reliability/MOD13A2.2017_06_26.006.1_km_16_days_pixel_reliability.tif\n",
      "INFO:TATSSI.qa.EOS.quality:Decoding QA layer MODLAND...\n",
      "INFO:TATSSI.qa.EOS.quality:Decoding finished.\n",
      "INFO:TATSSI.qa.EOS.quality:Decoding MOD13A2.006...\n",
      "INFO:TATSSI.qa.EOS.quality:File /home/glopez/Projects/TATSSI/data/test_gee/1_km_16_days_pixel_reliability/MOD13A2.2017_07_12.006.1_km_16_days_pixel_reliability.tif\n",
      "INFO:TATSSI.qa.EOS.quality:Decoding QA layer MODLAND...\n",
      "INFO:TATSSI.qa.EOS.quality:Decoding finished.\n",
      "INFO:TATSSI.qa.EOS.quality:Decoding MOD13A2.006...\n",
      "INFO:TATSSI.qa.EOS.quality:File /home/glopez/Projects/TATSSI/data/test_gee/1_km_16_days_pixel_reliability/MOD13A2.2017_07_28.006.1_km_16_days_pixel_reliability.tif\n",
      "INFO:TATSSI.qa.EOS.quality:Decoding QA layer MODLAND...\n",
      "INFO:TATSSI.qa.EOS.quality:Decoding finished.\n",
      "INFO:TATSSI.qa.EOS.quality:Decoding MOD13A2.006...\n",
      "INFO:TATSSI.qa.EOS.quality:File /home/glopez/Projects/TATSSI/data/test_gee/1_km_16_days_pixel_reliability/MOD13A2.2017_08_13.006.1_km_16_days_pixel_reliability.tif\n",
      "INFO:TATSSI.qa.EOS.quality:Decoding QA layer MODLAND...\n",
      "INFO:TATSSI.qa.EOS.quality:Decoding finished.\n",
      "INFO:TATSSI.qa.EOS.quality:Decoding MOD13A2.006...\n",
      "INFO:TATSSI.qa.EOS.quality:File /home/glopez/Projects/TATSSI/data/test_gee/1_km_16_days_pixel_reliability/MOD13A2.2017_08_29.006.1_km_16_days_pixel_reliability.tif\n",
      "INFO:TATSSI.qa.EOS.quality:Decoding QA layer MODLAND...\n",
      "INFO:TATSSI.qa.EOS.quality:Decoding finished.\n",
      "INFO:TATSSI.qa.EOS.quality:Decoding MOD13A2.006...\n",
      "INFO:TATSSI.qa.EOS.quality:File /home/glopez/Projects/TATSSI/data/test_gee/1_km_16_days_pixel_reliability/MOD13A2.2017_09_14.006.1_km_16_days_pixel_reliability.tif\n",
      "INFO:TATSSI.qa.EOS.quality:Decoding QA layer MODLAND...\n",
      "INFO:TATSSI.qa.EOS.quality:Decoding finished.\n",
      "INFO:TATSSI.qa.EOS.quality:Decoding MOD13A2.006...\n",
      "INFO:TATSSI.qa.EOS.quality:File /home/glopez/Projects/TATSSI/data/test_gee/1_km_16_days_pixel_reliability/MOD13A2.2017_09_30.006.1_km_16_days_pixel_reliability.tif\n",
      "INFO:TATSSI.qa.EOS.quality:Decoding QA layer MODLAND...\n",
      "INFO:TATSSI.qa.EOS.quality:Decoding finished.\n",
      "INFO:TATSSI.qa.EOS.quality:Decoding MOD13A2.006...\n",
      "INFO:TATSSI.qa.EOS.quality:File /home/glopez/Projects/TATSSI/data/test_gee/1_km_16_days_pixel_reliability/MOD13A2.2017_10_16.006.1_km_16_days_pixel_reliability.tif\n",
      "INFO:TATSSI.qa.EOS.quality:Decoding QA layer MODLAND...\n",
      "INFO:TATSSI.qa.EOS.quality:Decoding finished.\n",
      "INFO:TATSSI.qa.EOS.quality:Decoding MOD13A2.006...\n",
      "INFO:TATSSI.qa.EOS.quality:File /home/glopez/Projects/TATSSI/data/test_gee/1_km_16_days_pixel_reliability/MOD13A2.2017_11_01.006.1_km_16_days_pixel_reliability.tif\n",
      "INFO:TATSSI.qa.EOS.quality:Decoding QA layer MODLAND...\n",
      "INFO:TATSSI.qa.EOS.quality:Decoding finished.\n",
      "INFO:TATSSI.qa.EOS.quality:Decoding MOD13A2.006...\n",
      "INFO:TATSSI.qa.EOS.quality:File /home/glopez/Projects/TATSSI/data/test_gee/1_km_16_days_pixel_reliability/MOD13A2.2017_11_17.006.1_km_16_days_pixel_reliability.tif\n",
      "INFO:TATSSI.qa.EOS.quality:Decoding QA layer MODLAND...\n",
      "INFO:TATSSI.qa.EOS.quality:Decoding finished.\n",
      "INFO:TATSSI.qa.EOS.quality:Decoding MOD13A2.006...\n",
      "INFO:TATSSI.qa.EOS.quality:File /home/glopez/Projects/TATSSI/data/test_gee/1_km_16_days_pixel_reliability/MOD13A2.2017_12_03.006.1_km_16_days_pixel_reliability.tif\n",
      "INFO:TATSSI.qa.EOS.quality:Decoding QA layer MODLAND...\n",
      "INFO:TATSSI.qa.EOS.quality:Decoding finished.\n",
      "INFO:TATSSI.qa.EOS.quality:Decoding MOD13A2.006...\n",
      "INFO:TATSSI.qa.EOS.quality:File /home/glopez/Projects/TATSSI/data/test_gee/1_km_16_days_pixel_reliability/MOD13A2.2017_12_19.006.1_km_16_days_pixel_reliability.tif\n",
      "INFO:TATSSI.qa.EOS.quality:Decoding QA layer MODLAND...\n",
      "INFO:TATSSI.qa.EOS.quality:Decoding finished.\n",
      "INFO:TATSSI.qa.EOS.quality:Decoding MOD13A2.006...\n",
      "INFO:TATSSI.qa.EOS.quality:File /home/glopez/Projects/TATSSI/data/test_gee/1_km_16_days_pixel_reliability/MOD13A2.2018_01_01.006.1_km_16_days_pixel_reliability.tif\n",
      "INFO:TATSSI.qa.EOS.quality:Decoding QA layer MODLAND...\n",
      "INFO:TATSSI.qa.EOS.quality:Decoding finished.\n",
      "INFO:TATSSI.qa.EOS.quality:Decoding MOD13A2.006...\n",
      "INFO:TATSSI.qa.EOS.quality:File /home/glopez/Projects/TATSSI/data/test_gee/1_km_16_days_pixel_reliability/MOD13A2.2018_01_17.006.1_km_16_days_pixel_reliability.tif\n",
      "INFO:TATSSI.qa.EOS.quality:Decoding QA layer MODLAND...\n",
      "INFO:TATSSI.qa.EOS.quality:Decoding finished.\n",
      "INFO:TATSSI.qa.EOS.quality:Decoding MOD13A2.006...\n",
      "INFO:TATSSI.qa.EOS.quality:File /home/glopez/Projects/TATSSI/data/test_gee/1_km_16_days_pixel_reliability/MOD13A2.2018_02_02.006.1_km_16_days_pixel_reliability.tif\n",
      "INFO:TATSSI.qa.EOS.quality:Decoding QA layer MODLAND...\n",
      "INFO:TATSSI.qa.EOS.quality:Decoding finished.\n",
      "INFO:TATSSI.qa.EOS.quality:Decoding MOD13A2.006...\n",
      "INFO:TATSSI.qa.EOS.quality:File /home/glopez/Projects/TATSSI/data/test_gee/1_km_16_days_pixel_reliability/MOD13A2.2018_02_18.006.1_km_16_days_pixel_reliability.tif\n",
      "INFO:TATSSI.qa.EOS.quality:Decoding QA layer MODLAND...\n",
      "INFO:TATSSI.qa.EOS.quality:Decoding finished.\n",
      "INFO:TATSSI.qa.EOS.quality:Decoding MOD13A2.006...\n",
      "INFO:TATSSI.qa.EOS.quality:File /home/glopez/Projects/TATSSI/data/test_gee/1_km_16_days_pixel_reliability/MOD13A2.2018_03_06.006.1_km_16_days_pixel_reliability.tif\n",
      "INFO:TATSSI.qa.EOS.quality:Decoding QA layer MODLAND...\n",
      "INFO:TATSSI.qa.EOS.quality:Decoding finished.\n",
      "INFO:TATSSI.qa.EOS.quality:Decoding MOD13A2.006...\n",
      "INFO:TATSSI.qa.EOS.quality:File /home/glopez/Projects/TATSSI/data/test_gee/1_km_16_days_pixel_reliability/MOD13A2.2018_03_22.006.1_km_16_days_pixel_reliability.tif\n",
      "INFO:TATSSI.qa.EOS.quality:Decoding QA layer MODLAND...\n",
      "INFO:TATSSI.qa.EOS.quality:Decoding finished.\n",
      "INFO:TATSSI.qa.EOS.quality:Decoding MOD13A2.006...\n",
      "INFO:TATSSI.qa.EOS.quality:File /home/glopez/Projects/TATSSI/data/test_gee/1_km_16_days_pixel_reliability/MOD13A2.2018_04_07.006.1_km_16_days_pixel_reliability.tif\n",
      "INFO:TATSSI.qa.EOS.quality:Decoding QA layer MODLAND...\n"
     ]
    },
    {
     "name": "stderr",
     "output_type": "stream",
     "text": [
      "INFO:TATSSI.qa.EOS.quality:Decoding finished.\n",
      "INFO:TATSSI.qa.EOS.quality:Decoding MOD13A2.006...\n",
      "INFO:TATSSI.qa.EOS.quality:File /home/glopez/Projects/TATSSI/data/test_gee/1_km_16_days_pixel_reliability/MOD13A2.2018_04_23.006.1_km_16_days_pixel_reliability.tif\n",
      "INFO:TATSSI.qa.EOS.quality:Decoding QA layer MODLAND...\n",
      "INFO:TATSSI.qa.EOS.quality:Decoding finished.\n",
      "INFO:TATSSI.qa.EOS.quality:Decoding MOD13A2.006...\n",
      "INFO:TATSSI.qa.EOS.quality:File /home/glopez/Projects/TATSSI/data/test_gee/1_km_16_days_pixel_reliability/MOD13A2.2018_05_09.006.1_km_16_days_pixel_reliability.tif\n",
      "INFO:TATSSI.qa.EOS.quality:Decoding QA layer MODLAND...\n",
      "INFO:TATSSI.qa.EOS.quality:Decoding finished.\n",
      "INFO:TATSSI.qa.EOS.quality:Decoding MOD13A2.006...\n",
      "INFO:TATSSI.qa.EOS.quality:File /home/glopez/Projects/TATSSI/data/test_gee/1_km_16_days_pixel_reliability/MOD13A2.2018_05_25.006.1_km_16_days_pixel_reliability.tif\n",
      "INFO:TATSSI.qa.EOS.quality:Decoding QA layer MODLAND...\n",
      "INFO:TATSSI.qa.EOS.quality:Decoding finished.\n",
      "INFO:TATSSI.qa.EOS.quality:Decoding MOD13A2.006...\n",
      "INFO:TATSSI.qa.EOS.quality:File /home/glopez/Projects/TATSSI/data/test_gee/1_km_16_days_pixel_reliability/MOD13A2.2018_06_10.006.1_km_16_days_pixel_reliability.tif\n",
      "INFO:TATSSI.qa.EOS.quality:Decoding QA layer MODLAND...\n",
      "INFO:TATSSI.qa.EOS.quality:Decoding finished.\n",
      "INFO:TATSSI.qa.EOS.quality:Decoding MOD13A2.006...\n",
      "INFO:TATSSI.qa.EOS.quality:File /home/glopez/Projects/TATSSI/data/test_gee/1_km_16_days_pixel_reliability/MOD13A2.2018_06_26.006.1_km_16_days_pixel_reliability.tif\n",
      "INFO:TATSSI.qa.EOS.quality:Decoding QA layer MODLAND...\n",
      "INFO:TATSSI.qa.EOS.quality:Decoding finished.\n",
      "INFO:TATSSI.qa.EOS.quality:Decoding MOD13A2.006...\n",
      "INFO:TATSSI.qa.EOS.quality:File /home/glopez/Projects/TATSSI/data/test_gee/1_km_16_days_pixel_reliability/MOD13A2.2018_07_12.006.1_km_16_days_pixel_reliability.tif\n",
      "INFO:TATSSI.qa.EOS.quality:Decoding QA layer MODLAND...\n",
      "INFO:TATSSI.qa.EOS.quality:Decoding finished.\n",
      "INFO:TATSSI.qa.EOS.quality:Decoding MOD13A2.006...\n",
      "INFO:TATSSI.qa.EOS.quality:File /home/glopez/Projects/TATSSI/data/test_gee/1_km_16_days_pixel_reliability/MOD13A2.2018_07_28.006.1_km_16_days_pixel_reliability.tif\n",
      "INFO:TATSSI.qa.EOS.quality:Decoding QA layer MODLAND...\n",
      "INFO:TATSSI.qa.EOS.quality:Decoding finished.\n",
      "INFO:TATSSI.qa.EOS.quality:Decoding MOD13A2.006...\n",
      "INFO:TATSSI.qa.EOS.quality:File /home/glopez/Projects/TATSSI/data/test_gee/1_km_16_days_pixel_reliability/MOD13A2.2018_08_13.006.1_km_16_days_pixel_reliability.tif\n",
      "INFO:TATSSI.qa.EOS.quality:Decoding QA layer MODLAND...\n",
      "INFO:TATSSI.qa.EOS.quality:Decoding finished.\n",
      "INFO:TATSSI.qa.EOS.quality:Decoding MOD13A2.006...\n",
      "INFO:TATSSI.qa.EOS.quality:File /home/glopez/Projects/TATSSI/data/test_gee/1_km_16_days_pixel_reliability/MOD13A2.2018_08_29.006.1_km_16_days_pixel_reliability.tif\n",
      "INFO:TATSSI.qa.EOS.quality:Decoding QA layer MODLAND...\n",
      "INFO:TATSSI.qa.EOS.quality:Decoding finished.\n",
      "INFO:TATSSI.qa.EOS.quality:Decoding MOD13A2.006...\n",
      "INFO:TATSSI.qa.EOS.quality:File /home/glopez/Projects/TATSSI/data/test_gee/1_km_16_days_pixel_reliability/MOD13A2.2018_09_14.006.1_km_16_days_pixel_reliability.tif\n",
      "INFO:TATSSI.qa.EOS.quality:Decoding QA layer MODLAND...\n",
      "INFO:TATSSI.qa.EOS.quality:Decoding finished.\n",
      "INFO:TATSSI.qa.EOS.quality:Decoding MOD13A2.006...\n",
      "INFO:TATSSI.qa.EOS.quality:File /home/glopez/Projects/TATSSI/data/test_gee/1_km_16_days_pixel_reliability/MOD13A2.2018_09_30.006.1_km_16_days_pixel_reliability.tif\n",
      "INFO:TATSSI.qa.EOS.quality:Decoding QA layer MODLAND...\n",
      "INFO:TATSSI.qa.EOS.quality:Decoding finished.\n",
      "INFO:TATSSI.qa.EOS.quality:Decoding MOD13A2.006...\n",
      "INFO:TATSSI.qa.EOS.quality:File /home/glopez/Projects/TATSSI/data/test_gee/1_km_16_days_pixel_reliability/MOD13A2.2018_10_16.006.1_km_16_days_pixel_reliability.tif\n",
      "INFO:TATSSI.qa.EOS.quality:Decoding QA layer MODLAND...\n",
      "INFO:TATSSI.qa.EOS.quality:Decoding finished.\n",
      "INFO:TATSSI.qa.EOS.quality:Decoding MOD13A2.006...\n",
      "INFO:TATSSI.qa.EOS.quality:File /home/glopez/Projects/TATSSI/data/test_gee/1_km_16_days_pixel_reliability/MOD13A2.2018_11_01.006.1_km_16_days_pixel_reliability.tif\n",
      "INFO:TATSSI.qa.EOS.quality:Decoding QA layer MODLAND...\n",
      "INFO:TATSSI.qa.EOS.quality:Decoding finished.\n",
      "INFO:TATSSI.qa.EOS.quality:Decoding MOD13A2.006...\n",
      "INFO:TATSSI.qa.EOS.quality:File /home/glopez/Projects/TATSSI/data/test_gee/1_km_16_days_pixel_reliability/MOD13A2.2018_11_17.006.1_km_16_days_pixel_reliability.tif\n",
      "INFO:TATSSI.qa.EOS.quality:Decoding QA layer MODLAND...\n",
      "INFO:TATSSI.qa.EOS.quality:Decoding finished.\n",
      "INFO:TATSSI.qa.EOS.quality:Decoding MOD13A2.006...\n",
      "INFO:TATSSI.qa.EOS.quality:File /home/glopez/Projects/TATSSI/data/test_gee/1_km_16_days_pixel_reliability/MOD13A2.2018_12_03.006.1_km_16_days_pixel_reliability.tif\n",
      "INFO:TATSSI.qa.EOS.quality:Decoding QA layer MODLAND...\n",
      "INFO:TATSSI.qa.EOS.quality:Decoding finished.\n",
      "INFO:TATSSI.qa.EOS.quality:Decoding MOD13A2.006...\n",
      "INFO:TATSSI.qa.EOS.quality:File /home/glopez/Projects/TATSSI/data/test_gee/1_km_16_days_pixel_reliability/MOD13A2.2018_12_19.006.1_km_16_days_pixel_reliability.tif\n",
      "INFO:TATSSI.qa.EOS.quality:Decoding QA layer MODLAND...\n",
      "INFO:TATSSI.qa.EOS.quality:Decoding finished.\n",
      "INFO:TATSSI.qa.EOS.quality:Decoding MOD13A2.006...\n",
      "INFO:TATSSI.qa.EOS.quality:File /home/glopez/Projects/TATSSI/data/test_gee/1_km_16_days_pixel_reliability/MOD13A2.2019_01_01.006.1_km_16_days_pixel_reliability.tif\n",
      "INFO:TATSSI.qa.EOS.quality:Decoding QA layer MODLAND...\n",
      "INFO:TATSSI.qa.EOS.quality:Decoding finished.\n",
      "INFO:TATSSI.qa.EOS.quality:Decoding MOD13A2.006...\n",
      "INFO:TATSSI.qa.EOS.quality:File /home/glopez/Projects/TATSSI/data/test_gee/1_km_16_days_pixel_reliability/MOD13A2.2019_01_17.006.1_km_16_days_pixel_reliability.tif\n",
      "INFO:TATSSI.qa.EOS.quality:Decoding QA layer MODLAND...\n",
      "INFO:TATSSI.qa.EOS.quality:Decoding finished.\n",
      "INFO:TATSSI.qa.EOS.quality:Decoding MOD13A2.006...\n",
      "INFO:TATSSI.qa.EOS.quality:File /home/glopez/Projects/TATSSI/data/test_gee/1_km_16_days_pixel_reliability/MOD13A2.2019_02_02.006.1_km_16_days_pixel_reliability.tif\n",
      "INFO:TATSSI.qa.EOS.quality:Decoding QA layer MODLAND...\n",
      "INFO:TATSSI.qa.EOS.quality:Decoding finished.\n",
      "INFO:TATSSI.qa.EOS.quality:Decoding MOD13A2.006...\n",
      "INFO:TATSSI.qa.EOS.quality:File /home/glopez/Projects/TATSSI/data/test_gee/1_km_16_days_pixel_reliability/MOD13A2.2019_02_18.006.1_km_16_days_pixel_reliability.tif\n",
      "INFO:TATSSI.qa.EOS.quality:Decoding QA layer MODLAND...\n",
      "INFO:TATSSI.qa.EOS.quality:Decoding finished.\n",
      "INFO:TATSSI.qa.EOS.quality:Decoding MOD13A2.006...\n",
      "INFO:TATSSI.qa.EOS.quality:File /home/glopez/Projects/TATSSI/data/test_gee/1_km_16_days_pixel_reliability/MOD13A2.2019_03_06.006.1_km_16_days_pixel_reliability.tif\n",
      "INFO:TATSSI.qa.EOS.quality:Decoding QA layer MODLAND...\n",
      "INFO:TATSSI.qa.EOS.quality:Decoding finished.\n",
      "INFO:TATSSI.qa.EOS.quality:Decoding MOD13A2.006...\n",
      "INFO:TATSSI.qa.EOS.quality:File /home/glopez/Projects/TATSSI/data/test_gee/1_km_16_days_pixel_reliability/MOD13A2.2019_03_22.006.1_km_16_days_pixel_reliability.tif\n",
      "INFO:TATSSI.qa.EOS.quality:Decoding QA layer MODLAND...\n",
      "INFO:TATSSI.qa.EOS.quality:Decoding finished.\n",
      "INFO:TATSSI.qa.EOS.quality:Decoding MOD13A2.006...\n",
      "INFO:TATSSI.qa.EOS.quality:File /home/glopez/Projects/TATSSI/data/test_gee/1_km_16_days_pixel_reliability/MOD13A2.2019_04_07.006.1_km_16_days_pixel_reliability.tif\n",
      "INFO:TATSSI.qa.EOS.quality:Decoding QA layer MODLAND...\n",
      "INFO:TATSSI.qa.EOS.quality:Decoding finished.\n",
      "INFO:TATSSI.qa.EOS.quality:Decoding MOD13A2.006...\n",
      "INFO:TATSSI.qa.EOS.quality:File /home/glopez/Projects/TATSSI/data/test_gee/1_km_16_days_pixel_reliability/MOD13A2.2019_04_23.006.1_km_16_days_pixel_reliability.tif\n",
      "INFO:TATSSI.qa.EOS.quality:Decoding QA layer MODLAND...\n",
      "INFO:TATSSI.qa.EOS.quality:Decoding finished.\n",
      "INFO:TATSSI.qa.EOS.quality:Decoding MOD13A2.006...\n",
      "INFO:TATSSI.qa.EOS.quality:File /home/glopez/Projects/TATSSI/data/test_gee/1_km_16_days_pixel_reliability/MOD13A2.2019_05_09.006.1_km_16_days_pixel_reliability.tif\n",
      "INFO:TATSSI.qa.EOS.quality:Decoding QA layer MODLAND...\n",
      "INFO:TATSSI.qa.EOS.quality:Decoding finished.\n",
      "INFO:TATSSI.qa.EOS.quality:Decoding MOD13A2.006...\n",
      "INFO:TATSSI.qa.EOS.quality:File /home/glopez/Projects/TATSSI/data/test_gee/1_km_16_days_pixel_reliability/MOD13A2.2019_05_25.006.1_km_16_days_pixel_reliability.tif\n",
      "INFO:TATSSI.qa.EOS.quality:Decoding QA layer MODLAND...\n"
     ]
    },
    {
     "name": "stderr",
     "output_type": "stream",
     "text": [
      "INFO:TATSSI.qa.EOS.quality:Decoding finished.\n",
      "INFO:TATSSI.qa.EOS.quality:Decoding MOD13A2.006...\n",
      "INFO:TATSSI.qa.EOS.quality:File /home/glopez/Projects/TATSSI/data/test_gee/1_km_16_days_pixel_reliability/MOD13A2.2019_06_10.006.1_km_16_days_pixel_reliability.tif\n",
      "INFO:TATSSI.qa.EOS.quality:Decoding QA layer MODLAND...\n",
      "INFO:TATSSI.qa.EOS.quality:Decoding finished.\n",
      "INFO:TATSSI.qa.EOS.quality:Decoding MOD13A2.006...\n",
      "INFO:TATSSI.qa.EOS.quality:File /home/glopez/Projects/TATSSI/data/test_gee/1_km_16_days_pixel_reliability/MOD13A2.2019_06_26.006.1_km_16_days_pixel_reliability.tif\n",
      "INFO:TATSSI.qa.EOS.quality:Decoding QA layer MODLAND...\n",
      "INFO:TATSSI.qa.EOS.quality:Decoding finished.\n",
      "INFO:TATSSI.qa.EOS.quality:Decoding MOD13A2.006...\n",
      "INFO:TATSSI.qa.EOS.quality:File /home/glopez/Projects/TATSSI/data/test_gee/1_km_16_days_pixel_reliability/MOD13A2.2019_07_12.006.1_km_16_days_pixel_reliability.tif\n",
      "INFO:TATSSI.qa.EOS.quality:Decoding QA layer MODLAND...\n",
      "INFO:TATSSI.qa.EOS.quality:Decoding finished.\n",
      "INFO:TATSSI.qa.EOS.quality:Decoding MOD13A2.006...\n",
      "INFO:TATSSI.qa.EOS.quality:File /home/glopez/Projects/TATSSI/data/test_gee/1_km_16_days_pixel_reliability/MOD13A2.2019_07_28.006.1_km_16_days_pixel_reliability.tif\n",
      "INFO:TATSSI.qa.EOS.quality:Decoding QA layer MODLAND...\n",
      "INFO:TATSSI.qa.EOS.quality:Decoding finished.\n",
      "INFO:TATSSI.qa.EOS.quality:Decoding MOD13A2.006...\n",
      "INFO:TATSSI.qa.EOS.quality:File /home/glopez/Projects/TATSSI/data/test_gee/1_km_16_days_pixel_reliability/MOD13A2.2019_08_13.006.1_km_16_days_pixel_reliability.tif\n",
      "INFO:TATSSI.qa.EOS.quality:Decoding QA layer MODLAND...\n",
      "INFO:TATSSI.qa.EOS.quality:Decoding finished.\n",
      "INFO:TATSSI.qa.EOS.quality:Decoding MOD13A2.006...\n",
      "INFO:TATSSI.qa.EOS.quality:File /home/glopez/Projects/TATSSI/data/test_gee/1_km_16_days_pixel_reliability/MOD13A2.2019_08_29.006.1_km_16_days_pixel_reliability.tif\n",
      "INFO:TATSSI.qa.EOS.quality:Decoding QA layer MODLAND...\n",
      "INFO:TATSSI.qa.EOS.quality:Decoding finished.\n",
      "INFO:TATSSI.qa.EOS.quality:Decoding MOD13A2.006...\n",
      "INFO:TATSSI.qa.EOS.quality:File /home/glopez/Projects/TATSSI/data/test_gee/1_km_16_days_pixel_reliability/MOD13A2.2019_09_14.006.1_km_16_days_pixel_reliability.tif\n",
      "INFO:TATSSI.qa.EOS.quality:Decoding QA layer MODLAND...\n",
      "INFO:TATSSI.qa.EOS.quality:Decoding finished.\n",
      "INFO:TATSSI.qa.EOS.quality:Decoding MOD13A2.006...\n",
      "INFO:TATSSI.qa.EOS.quality:File /home/glopez/Projects/TATSSI/data/test_gee/1_km_16_days_pixel_reliability/MOD13A2.2019_09_30.006.1_km_16_days_pixel_reliability.tif\n",
      "INFO:TATSSI.qa.EOS.quality:Decoding QA layer MODLAND...\n",
      "INFO:TATSSI.qa.EOS.quality:Decoding finished.\n",
      "INFO:TATSSI.qa.EOS.quality:Decoding MOD13A2.006...\n",
      "INFO:TATSSI.qa.EOS.quality:File /home/glopez/Projects/TATSSI/data/test_gee/1_km_16_days_pixel_reliability/MOD13A2.2019_10_16.006.1_km_16_days_pixel_reliability.tif\n",
      "INFO:TATSSI.qa.EOS.quality:Decoding QA layer MODLAND...\n",
      "INFO:TATSSI.qa.EOS.quality:Decoding finished.\n",
      "INFO:TATSSI.qa.EOS.quality:Decoding MOD13A2.006...\n",
      "INFO:TATSSI.qa.EOS.quality:File /home/glopez/Projects/TATSSI/data/test_gee/1_km_16_days_pixel_reliability/MOD13A2.2019_11_01.006.1_km_16_days_pixel_reliability.tif\n",
      "INFO:TATSSI.qa.EOS.quality:Decoding QA layer MODLAND...\n",
      "INFO:TATSSI.qa.EOS.quality:Decoding finished.\n",
      "INFO:TATSSI.qa.EOS.quality:Decoding MOD13A2.006...\n",
      "INFO:TATSSI.qa.EOS.quality:File /home/glopez/Projects/TATSSI/data/test_gee/1_km_16_days_pixel_reliability/MOD13A2.2019_11_17.006.1_km_16_days_pixel_reliability.tif\n",
      "INFO:TATSSI.qa.EOS.quality:Decoding QA layer MODLAND...\n",
      "INFO:TATSSI.qa.EOS.quality:Decoding finished.\n",
      "INFO:TATSSI.qa.EOS.quality:Decoding MOD13A2.006...\n",
      "INFO:TATSSI.qa.EOS.quality:File /home/glopez/Projects/TATSSI/data/test_gee/1_km_16_days_pixel_reliability/MOD13A2.2019_12_03.006.1_km_16_days_pixel_reliability.tif\n",
      "INFO:TATSSI.qa.EOS.quality:Decoding QA layer MODLAND...\n",
      "INFO:TATSSI.qa.EOS.quality:Decoding finished.\n",
      "INFO:TATSSI.qa.EOS.quality:Decoding MOD13A2.006...\n",
      "INFO:TATSSI.qa.EOS.quality:File /home/glopez/Projects/TATSSI/data/test_gee/1_km_16_days_pixel_reliability/MOD13A2.2019_12_19.006.1_km_16_days_pixel_reliability.tif\n",
      "INFO:TATSSI.qa.EOS.quality:Decoding QA layer MODLAND...\n",
      "INFO:TATSSI.qa.EOS.quality:Decoding finished.\n",
      "INFO:TATSSI.qa.EOS.quality:Decoding MOD13A2.006...\n",
      "INFO:TATSSI.qa.EOS.quality:File /home/glopez/Projects/TATSSI/data/test_gee/1_km_16_days_pixel_reliability/MOD13A2.2020_01_01.006.1_km_16_days_pixel_reliability.tif\n",
      "INFO:TATSSI.qa.EOS.quality:Decoding QA layer MODLAND...\n",
      "INFO:TATSSI.qa.EOS.quality:Decoding finished.\n",
      "INFO:TATSSI.qa.EOS.quality:Decoding MOD13A2.006...\n",
      "INFO:TATSSI.qa.EOS.quality:File /home/glopez/Projects/TATSSI/data/test_gee/1_km_16_days_pixel_reliability/MOD13A2.2020_01_17.006.1_km_16_days_pixel_reliability.tif\n",
      "INFO:TATSSI.qa.EOS.quality:Decoding QA layer MODLAND...\n",
      "INFO:TATSSI.qa.EOS.quality:Decoding finished.\n",
      "INFO:TATSSI.qa.EOS.quality:Decoding MOD13A2.006...\n",
      "INFO:TATSSI.qa.EOS.quality:File /home/glopez/Projects/TATSSI/data/test_gee/1_km_16_days_pixel_reliability/MOD13A2.2020_02_02.006.1_km_16_days_pixel_reliability.tif\n",
      "INFO:TATSSI.qa.EOS.quality:Decoding QA layer MODLAND...\n",
      "INFO:TATSSI.qa.EOS.quality:Decoding finished.\n",
      "INFO:TATSSI.qa.EOS.quality:Decoding MOD13A2.006...\n",
      "INFO:TATSSI.qa.EOS.quality:File /home/glopez/Projects/TATSSI/data/test_gee/1_km_16_days_pixel_reliability/MOD13A2.2020_02_18.006.1_km_16_days_pixel_reliability.tif\n",
      "INFO:TATSSI.qa.EOS.quality:Decoding QA layer MODLAND...\n",
      "INFO:TATSSI.qa.EOS.quality:Decoding finished.\n",
      "INFO:TATSSI.qa.EOS.quality:Decoding MOD13A2.006...\n",
      "INFO:TATSSI.qa.EOS.quality:File /home/glopez/Projects/TATSSI/data/test_gee/1_km_16_days_pixel_reliability/MOD13A2.2020_03_05.006.1_km_16_days_pixel_reliability.tif\n",
      "INFO:TATSSI.qa.EOS.quality:Decoding QA layer MODLAND...\n",
      "INFO:TATSSI.qa.EOS.quality:Decoding finished.\n",
      "INFO:TATSSI.qa.EOS.quality:Decoding MOD13A2.006...\n",
      "INFO:TATSSI.qa.EOS.quality:File /home/glopez/Projects/TATSSI/data/test_gee/1_km_16_days_pixel_reliability/MOD13A2.2020_03_21.006.1_km_16_days_pixel_reliability.tif\n",
      "INFO:TATSSI.qa.EOS.quality:Decoding QA layer MODLAND...\n",
      "INFO:TATSSI.qa.EOS.quality:Decoding finished.\n",
      "INFO:TATSSI.qa.EOS.quality:Decoding MOD13A2.006...\n",
      "INFO:TATSSI.qa.EOS.quality:File /home/glopez/Projects/TATSSI/data/test_gee/1_km_16_days_pixel_reliability/MOD13A2.2020_04_06.006.1_km_16_days_pixel_reliability.tif\n",
      "INFO:TATSSI.qa.EOS.quality:Decoding QA layer MODLAND...\n",
      "INFO:TATSSI.qa.EOS.quality:Decoding finished.\n",
      "INFO:TATSSI.qa.EOS.quality:Decoding MOD13A2.006...\n",
      "INFO:TATSSI.qa.EOS.quality:File /home/glopez/Projects/TATSSI/data/test_gee/1_km_16_days_pixel_reliability/MOD13A2.2020_04_22.006.1_km_16_days_pixel_reliability.tif\n",
      "INFO:TATSSI.qa.EOS.quality:Decoding QA layer MODLAND...\n",
      "INFO:TATSSI.qa.EOS.quality:Decoding finished.\n",
      "INFO:TATSSI.qa.EOS.quality:Decoding MOD13A2.006...\n",
      "INFO:TATSSI.qa.EOS.quality:File /home/glopez/Projects/TATSSI/data/test_gee/1_km_16_days_pixel_reliability/MOD13A2.2020_05_08.006.1_km_16_days_pixel_reliability.tif\n",
      "INFO:TATSSI.qa.EOS.quality:Decoding QA layer MODLAND...\n",
      "INFO:TATSSI.qa.EOS.quality:Decoding finished.\n",
      "INFO:TATSSI.qa.EOS.quality:Decoding MOD13A2.006...\n",
      "INFO:TATSSI.qa.EOS.quality:File /home/glopez/Projects/TATSSI/data/test_gee/1_km_16_days_pixel_reliability/MOD13A2.2020_05_24.006.1_km_16_days_pixel_reliability.tif\n",
      "INFO:TATSSI.qa.EOS.quality:Decoding QA layer MODLAND...\n",
      "INFO:TATSSI.qa.EOS.quality:Decoding finished.\n",
      "INFO:TATSSI.qa.EOS.quality:Decoding MOD13A2.006...\n",
      "INFO:TATSSI.qa.EOS.quality:File /home/glopez/Projects/TATSSI/data/test_gee/1_km_16_days_pixel_reliability/MOD13A2.2020_06_09.006.1_km_16_days_pixel_reliability.tif\n",
      "INFO:TATSSI.qa.EOS.quality:Decoding QA layer MODLAND...\n",
      "INFO:TATSSI.qa.EOS.quality:Decoding finished.\n",
      "INFO:TATSSI.qa.EOS.quality:Decoding MOD13A2.006...\n",
      "INFO:TATSSI.qa.EOS.quality:File /home/glopez/Projects/TATSSI/data/test_gee/1_km_16_days_pixel_reliability/MOD13A2.2020_06_25.006.1_km_16_days_pixel_reliability.tif\n",
      "INFO:TATSSI.qa.EOS.quality:Decoding QA layer MODLAND...\n",
      "INFO:TATSSI.qa.EOS.quality:Decoding finished.\n",
      "INFO:TATSSI.qa.EOS.quality:Decoding MOD13A2.006...\n",
      "INFO:TATSSI.qa.EOS.quality:File /home/glopez/Projects/TATSSI/data/test_gee/1_km_16_days_pixel_reliability/MOD13A2.2020_07_11.006.1_km_16_days_pixel_reliability.tif\n",
      "INFO:TATSSI.qa.EOS.quality:Decoding QA layer MODLAND...\n"
     ]
    },
    {
     "name": "stderr",
     "output_type": "stream",
     "text": [
      "INFO:TATSSI.qa.EOS.quality:Decoding finished.\n",
      "INFO:TATSSI.qa.EOS.quality:Decoding MOD13A2.006...\n",
      "INFO:TATSSI.qa.EOS.quality:File /home/glopez/Projects/TATSSI/data/test_gee/1_km_16_days_pixel_reliability/MOD13A2.2020_07_27.006.1_km_16_days_pixel_reliability.tif\n",
      "INFO:TATSSI.qa.EOS.quality:Decoding QA layer MODLAND...\n",
      "INFO:TATSSI.qa.EOS.quality:Decoding finished.\n",
      "INFO:TATSSI.qa.EOS.quality:Decoding MOD13A2.006...\n",
      "INFO:TATSSI.qa.EOS.quality:File /home/glopez/Projects/TATSSI/data/test_gee/1_km_16_days_pixel_reliability/MOD13A2.2020_08_12.006.1_km_16_days_pixel_reliability.tif\n",
      "INFO:TATSSI.qa.EOS.quality:Decoding QA layer MODLAND...\n",
      "INFO:TATSSI.qa.EOS.quality:Decoding finished.\n",
      "INFO:TATSSI.qa.EOS.quality:Decoding MOD13A2.006...\n",
      "INFO:TATSSI.qa.EOS.quality:File /home/glopez/Projects/TATSSI/data/test_gee/1_km_16_days_pixel_reliability/MOD13A2.2020_08_28.006.1_km_16_days_pixel_reliability.tif\n",
      "INFO:TATSSI.qa.EOS.quality:Decoding QA layer MODLAND...\n",
      "INFO:TATSSI.qa.EOS.quality:Decoding finished.\n",
      "INFO:TATSSI.qa.EOS.quality:Decoding MOD13A2.006...\n",
      "INFO:TATSSI.qa.EOS.quality:File /home/glopez/Projects/TATSSI/data/test_gee/1_km_16_days_pixel_reliability/MOD13A2.2020_09_13.006.1_km_16_days_pixel_reliability.tif\n",
      "INFO:TATSSI.qa.EOS.quality:Decoding QA layer MODLAND...\n",
      "INFO:TATSSI.qa.EOS.quality:Decoding finished.\n",
      "INFO:TATSSI.qa.EOS.quality:Decoding MOD13A2.006...\n",
      "INFO:TATSSI.qa.EOS.quality:File /home/glopez/Projects/TATSSI/data/test_gee/1_km_16_days_pixel_reliability/MOD13A2.2020_09_29.006.1_km_16_days_pixel_reliability.tif\n",
      "INFO:TATSSI.qa.EOS.quality:Decoding QA layer MODLAND...\n",
      "INFO:TATSSI.qa.EOS.quality:Decoding finished.\n",
      "INFO:TATSSI.qa.EOS.quality:Decoding MOD13A2.006...\n",
      "INFO:TATSSI.qa.EOS.quality:File /home/glopez/Projects/TATSSI/data/test_gee/1_km_16_days_pixel_reliability/MOD13A2.2020_10_15.006.1_km_16_days_pixel_reliability.tif\n",
      "INFO:TATSSI.qa.EOS.quality:Decoding QA layer MODLAND...\n",
      "INFO:TATSSI.qa.EOS.quality:Decoding finished.\n",
      "INFO:TATSSI.qa.EOS.quality:Decoding MOD13A2.006...\n",
      "INFO:TATSSI.qa.EOS.quality:File /home/glopez/Projects/TATSSI/data/test_gee/1_km_16_days_pixel_reliability/MOD13A2.2020_10_31.006.1_km_16_days_pixel_reliability.tif\n",
      "INFO:TATSSI.qa.EOS.quality:Decoding QA layer MODLAND...\n",
      "INFO:TATSSI.qa.EOS.quality:Decoding finished.\n",
      "INFO:TATSSI.qa.EOS.quality:Decoding MOD13A2.006...\n",
      "INFO:TATSSI.qa.EOS.quality:File /home/glopez/Projects/TATSSI/data/test_gee/1_km_16_days_pixel_reliability/MOD13A2.2020_11_16.006.1_km_16_days_pixel_reliability.tif\n",
      "INFO:TATSSI.qa.EOS.quality:Decoding QA layer MODLAND...\n",
      "INFO:TATSSI.qa.EOS.quality:Decoding finished.\n",
      "INFO:TATSSI.time_series.generator:Generating MOD13A2.006 QA layer stacks for _1_km_16_days_VI_Quality...\n",
      "INFO:TATSSI.time_series.generator:Layer stack for Mixed_Clouds created successfully.\n",
      "INFO:TATSSI.time_series.generator:Layer stack for VI_Usefulness created successfully.\n",
      "INFO:TATSSI.time_series.generator:Layer stack for MODLAND created successfully.\n",
      "INFO:TATSSI.time_series.generator:Layer stack for Possible_shadow created successfully.\n",
      "INFO:TATSSI.time_series.generator:Layer stack for Possible_snow_ice created successfully.\n",
      "INFO:TATSSI.time_series.generator:Layer stack for Adjacent_cloud_detected created successfully.\n",
      "INFO:TATSSI.time_series.generator:Layer stack for Atmosphere_BRDF_Correction created successfully.\n",
      "INFO:TATSSI.time_series.generator:Layer stack for Land_Water_Mask created successfully.\n",
      "INFO:TATSSI.time_series.generator:Layer stack for Aerosol_Quantity created successfully.\n",
      "INFO:TATSSI.time_series.generator:Generating MOD13A2.006 QA layer stacks for _1_km_16_days_pixel_reliability...\n",
      "INFO:TATSSI.time_series.generator:Layer stack for Mixed_Clouds created successfully.\n",
      "INFO:TATSSI.time_series.generator:Layer stack for VI_Usefulness created successfully.\n",
      "INFO:TATSSI.time_series.generator:Layer stack for MODLAND created successfully.\n",
      "INFO:TATSSI.time_series.generator:Layer stack for Possible_shadow created successfully.\n",
      "INFO:TATSSI.time_series.generator:Layer stack for Possible_snow_ice created successfully.\n",
      "INFO:TATSSI.time_series.generator:Layer stack for Adjacent_cloud_detected created successfully.\n",
      "INFO:TATSSI.time_series.generator:Layer stack for Atmosphere_BRDF_Correction created successfully.\n",
      "INFO:TATSSI.time_series.generator:Layer stack for Land_Water_Mask created successfully.\n",
      "INFO:TATSSI.time_series.generator:Layer stack for Aerosol_Quantity created successfully.\n",
      "INFO:TATSSI.time_series.generator:Layer stack for MODLAND created successfully.\n"
     ]
    }
   ],
   "source": [
    "# TATSSI Time Series Generator object\n",
    "tsg = Generator(source_dir=output_dir, product=product_name,\n",
    "                version=version, data_format='tif',\n",
    "                progressBar=None, preprocessed=True)\n",
    "\n",
    "# Create layerstacks\n",
    "tsg._Generator__datasets = datasets\n",
    "for dataset in tsg._Generator__datasets:\n",
    "    tsg._Generator__generate_layerstack(dataset, 'tif')\n",
    "\n",
    "# For the associated product layers, decode the corresponding QA bands\n",
    "tsg._Generator__decode_qa('tif')"
   ]
  },
  {
   "cell_type": "code",
   "execution_count": null,
   "metadata": {},
   "outputs": [],
   "source": []
  }
 ],
 "metadata": {
  "kernelspec": {
   "display_name": "Python 3",
   "language": "python",
   "name": "python3"
  },
  "language_info": {
   "codemirror_mode": {
    "name": "ipython",
    "version": 3
   },
   "file_extension": ".py",
   "mimetype": "text/x-python",
   "name": "python",
   "nbconvert_exporter": "python",
   "pygments_lexer": "ipython3",
   "version": "3.7.3"
  },
  "toc": {
   "base_numbering": 1,
   "nav_menu": {},
   "number_sections": false,
   "sideBar": false,
   "skip_h1_title": false,
   "title_cell": "Table of Contents",
   "title_sidebar": "Contents",
   "toc_cell": false,
   "toc_position": {},
   "toc_section_display": false,
   "toc_window_display": false
  },
  "varInspector": {
   "cols": {
    "lenName": 16,
    "lenType": 16,
    "lenVar": 40
   },
   "kernels_config": {
    "python": {
     "delete_cmd_postfix": "",
     "delete_cmd_prefix": "del ",
     "library": "var_list.py",
     "varRefreshCmd": "print(var_dic_list())"
    },
    "r": {
     "delete_cmd_postfix": ") ",
     "delete_cmd_prefix": "rm(",
     "library": "var_list.r",
     "varRefreshCmd": "cat(var_dic_list()) "
    }
   },
   "types_to_exclude": [
    "module",
    "function",
    "builtin_function_or_method",
    "instance",
    "_Feature"
   ],
   "window_display": false
  }
 },
 "nbformat": 4,
 "nbformat_minor": 2
}
