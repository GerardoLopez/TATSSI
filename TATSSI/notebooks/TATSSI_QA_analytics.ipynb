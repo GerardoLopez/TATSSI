{
 "cells": [
  {
   "cell_type": "markdown",
   "metadata": {},
   "source": [
    "# Tools for Analyzing Time Series of Satellite Imagery (TATSSI)"
   ]
  },
  {
   "cell_type": "code",
   "execution_count": 2,
   "metadata": {
    "ExecuteTime": {
     "end_time": "2019-11-04T18:11:49.031202Z",
     "start_time": "2019-11-04T18:11:49.025698Z"
    },
    "hide_input": true,
    "init_cell": true
   },
   "outputs": [
    {
     "data": {
      "application/javascript": [
       "IPython.notebook.set_autosave_interval(0)"
      ]
     },
     "metadata": {},
     "output_type": "display_data"
    },
    {
     "name": "stdout",
     "output_type": "stream",
     "text": [
      "Autosave disabled\n"
     ]
    }
   ],
   "source": [
    "%autosave 0\n",
    "# Import TATSSI libraries\n",
    "from helpers import utils\n",
    "from TATSSI.notebooks.helpers.qa_analytics import Analytics\n",
    "from TATSSI.notebooks.helpers.time_series_interpolation import TimeSeriesInterpolation"
   ]
  },
  {
   "cell_type": "markdown",
   "metadata": {},
   "source": [
    "## QA analytics\n",
    "\n",
    "In the TATSSI Downloaders demonstrator we downloaded some MODIS data, the [MOD13A2.006](https://lpdaac.usgs.gov/products/mod13a2v006/) product for 2017. This product contains several layers including the EVI and NDVI, at 1km every 16 days, as well as associated Quality Assessment flags.\n",
    "\n",
    "Then, we created a time series for this dataset. Now we need to perfrom a systematic analysis of the per-pixel QA flags that will allow to keep only the best data for scientific purposes or to reach a compromise between the amount of data we can keep and the amount of data needed to characterise the land surface (or ocean surface).\n",
    "\n",
    "1. For the specific QA layer we need to select the QA flags for the data we want to keep. If you **select** a QA flag means that the data will be kept for further analysis.\n",
    "\n",
    "2. Once the QA flags selection is done, the data will be masked and per-pixel two products will be produced:\n",
    "  - The percentage of data available for further processing and\n",
    "  - The maxium gap-length in the time series\n",
    "  \n",
    "3. Based on those variables, it is possible to select/unselect different QA flags and recompute the data availibility percentage and the max gap-lenght."
   ]
  },
  {
   "cell_type": "code",
   "execution_count": 3,
   "metadata": {
    "ExecuteTime": {
     "end_time": "2019-11-04T18:12:35.307971Z",
     "start_time": "2019-11-04T18:12:35.304355Z"
    }
   },
   "outputs": [],
   "source": [
    "# Set data directory\n",
    "source_dir = '../../data/MOD13A2.006/'\n",
    "# Set product, it must match product name in TATSSI catalogue\n",
    "product, version = 'MOD13A2', '006'\n",
    "# Year to analyse\n",
    "#year = 2013\n",
    "start, end = '2016-10-01', '2019-03-31'"
   ]
  },
  {
   "cell_type": "markdown",
   "metadata": {},
   "source": [
    "We have to create a TATSSI QA analytics object to perform a systematic analysis of the different QA layers and associated flags:"
   ]
  },
  {
   "cell_type": "code",
   "execution_count": 4,
   "metadata": {
    "ExecuteTime": {
     "end_time": "2019-11-04T18:12:51.208342Z",
     "start_time": "2019-11-04T18:12:38.008563Z"
    }
   },
   "outputs": [],
   "source": [
    "# Create the QA analytics object\n",
    "qa_analytics = Analytics(source_dir=source_dir, product=product,chunked=True,\n",
    "                         version=version, start=start, end=end) #, year=year)"
   ]
  },
  {
   "cell_type": "markdown",
   "metadata": {},
   "source": [
    "Every product might have one or more QA layers. Hence we need to select the QA layer to analyse. In order to get the number of QA layers we can get the length of the ```qa_analytics.qa_defs``` list with ```len(qa_analytics.qa_defs)```:"
   ]
  },
  {
   "cell_type": "code",
   "execution_count": 5,
   "metadata": {
    "ExecuteTime": {
     "end_time": "2019-11-04T18:12:51.229163Z",
     "start_time": "2019-11-04T18:12:51.224534Z"
    }
   },
   "outputs": [
    {
     "name": "stdout",
     "output_type": "stream",
     "text": [
      "2\n"
     ]
    }
   ],
   "source": [
    "print(len(qa_analytics.qa_defs))"
   ]
  },
  {
   "cell_type": "markdown",
   "metadata": {},
   "source": [
    "## Selecting the QA layer to analyse\n",
    "We have to layers, if you (still) remember from the QA analysis session, the MOD13A2 has indeed 2 QA layers, let's have a quick look to remind the content of every layer. In Python all arrays, lists, etc. are 0-based index, therefore if we want to access the first element, it'll be index 0, second element, it'll be index 1, etc."
   ]
  },
  {
   "cell_type": "code",
   "execution_count": 7,
   "metadata": {
    "ExecuteTime": {
     "end_time": "2019-11-04T18:02:01.676622Z",
     "start_time": "2019-11-04T18:02:01.646887Z"
    },
    "scrolled": true
   },
   "outputs": [
    {
     "data": {
      "text/html": [
       "<div>\n",
       "<style scoped>\n",
       "    .dataframe tbody tr th:only-of-type {\n",
       "        vertical-align: middle;\n",
       "    }\n",
       "\n",
       "    .dataframe tbody tr th {\n",
       "        vertical-align: top;\n",
       "    }\n",
       "\n",
       "    .dataframe thead th {\n",
       "        text-align: right;\n",
       "    }\n",
       "</style>\n",
       "<table border=\"1\" class=\"dataframe\">\n",
       "  <thead>\n",
       "    <tr style=\"text-align: right;\">\n",
       "      <th></th>\n",
       "      <th>ProductAndVersion</th>\n",
       "      <th>QualityLayer</th>\n",
       "      <th>Name</th>\n",
       "      <th>Value</th>\n",
       "      <th>Description</th>\n",
       "      <th>Acceptable</th>\n",
       "      <th>Length</th>\n",
       "    </tr>\n",
       "  </thead>\n",
       "  <tbody>\n",
       "    <tr>\n",
       "      <th>0</th>\n",
       "      <td>MOD13A2.006</td>\n",
       "      <td>_1_km_16_days_pixel_reliability</td>\n",
       "      <td>MODLAND</td>\n",
       "      <td>0</td>\n",
       "      <td>Good data, use with confidence</td>\n",
       "      <td>True</td>\n",
       "      <td>2</td>\n",
       "    </tr>\n",
       "    <tr>\n",
       "      <th>1</th>\n",
       "      <td>MOD13A2.006</td>\n",
       "      <td>_1_km_16_days_pixel_reliability</td>\n",
       "      <td>MODLAND</td>\n",
       "      <td>1</td>\n",
       "      <td>Marginal data, Useful, but look at other QA in...</td>\n",
       "      <td>False</td>\n",
       "      <td>2</td>\n",
       "    </tr>\n",
       "    <tr>\n",
       "      <th>2</th>\n",
       "      <td>MOD13A2.006</td>\n",
       "      <td>_1_km_16_days_pixel_reliability</td>\n",
       "      <td>MODLAND</td>\n",
       "      <td>10</td>\n",
       "      <td>Snow/Ice Target covered with snow/ice</td>\n",
       "      <td>False</td>\n",
       "      <td>2</td>\n",
       "    </tr>\n",
       "    <tr>\n",
       "      <th>3</th>\n",
       "      <td>MOD13A2.006</td>\n",
       "      <td>_1_km_16_days_pixel_reliability</td>\n",
       "      <td>MODLAND</td>\n",
       "      <td>11</td>\n",
       "      <td>Cloudy data, Target not visible, covered with ...</td>\n",
       "      <td>False</td>\n",
       "      <td>2</td>\n",
       "    </tr>\n",
       "  </tbody>\n",
       "</table>\n",
       "</div>"
      ],
      "text/plain": [
       "  ProductAndVersion                     QualityLayer     Name  Value  \\\n",
       "0       MOD13A2.006  _1_km_16_days_pixel_reliability  MODLAND      0   \n",
       "1       MOD13A2.006  _1_km_16_days_pixel_reliability  MODLAND      1   \n",
       "2       MOD13A2.006  _1_km_16_days_pixel_reliability  MODLAND     10   \n",
       "3       MOD13A2.006  _1_km_16_days_pixel_reliability  MODLAND     11   \n",
       "\n",
       "                                         Description  Acceptable  Length  \n",
       "0                     Good data, use with confidence        True       2  \n",
       "1  Marginal data, Useful, but look at other QA in...       False       2  \n",
       "2              Snow/Ice Target covered with snow/ice       False       2  \n",
       "3  Cloudy data, Target not visible, covered with ...       False       2  "
      ]
     },
     "execution_count": 7,
     "metadata": {},
     "output_type": "execute_result"
    }
   ],
   "source": [
    "qa_analytics.qa_defs[0]"
   ]
  },
  {
   "cell_type": "markdown",
   "metadata": {},
   "source": [
    "The ```_1_km_16_days_pixel_reliability``` QA layer has only one QA flag, ```MODLAND``` with four values to analyse, it seems to be fairly basic (and boring), let's have a look to the other layer."
   ]
  },
  {
   "cell_type": "code",
   "execution_count": 8,
   "metadata": {
    "ExecuteTime": {
     "end_time": "2019-11-04T18:02:03.807414Z",
     "start_time": "2019-11-04T18:02:03.756379Z"
    },
    "scrolled": true
   },
   "outputs": [
    {
     "data": {
      "text/html": [
       "<div>\n",
       "<style scoped>\n",
       "    .dataframe tbody tr th:only-of-type {\n",
       "        vertical-align: middle;\n",
       "    }\n",
       "\n",
       "    .dataframe tbody tr th {\n",
       "        vertical-align: top;\n",
       "    }\n",
       "\n",
       "    .dataframe thead th {\n",
       "        text-align: right;\n",
       "    }\n",
       "</style>\n",
       "<table border=\"1\" class=\"dataframe\">\n",
       "  <thead>\n",
       "    <tr style=\"text-align: right;\">\n",
       "      <th></th>\n",
       "      <th>ProductAndVersion</th>\n",
       "      <th>QualityLayer</th>\n",
       "      <th>Name</th>\n",
       "      <th>Value</th>\n",
       "      <th>Description</th>\n",
       "      <th>Acceptable</th>\n",
       "      <th>Length</th>\n",
       "    </tr>\n",
       "  </thead>\n",
       "  <tbody>\n",
       "    <tr>\n",
       "      <th>0</th>\n",
       "      <td>MOD13A2.006</td>\n",
       "      <td>_1_km_16_days_VI_Quality</td>\n",
       "      <td>MODLAND</td>\n",
       "      <td>0</td>\n",
       "      <td>VI produced, good quality</td>\n",
       "      <td>True</td>\n",
       "      <td>2</td>\n",
       "    </tr>\n",
       "    <tr>\n",
       "      <th>1</th>\n",
       "      <td>MOD13A2.006</td>\n",
       "      <td>_1_km_16_days_VI_Quality</td>\n",
       "      <td>MODLAND</td>\n",
       "      <td>1</td>\n",
       "      <td>VI produced, but check other QA</td>\n",
       "      <td>False</td>\n",
       "      <td>2</td>\n",
       "    </tr>\n",
       "    <tr>\n",
       "      <th>2</th>\n",
       "      <td>MOD13A2.006</td>\n",
       "      <td>_1_km_16_days_VI_Quality</td>\n",
       "      <td>MODLAND</td>\n",
       "      <td>10</td>\n",
       "      <td>Pixel produced, but most probably cloudy</td>\n",
       "      <td>False</td>\n",
       "      <td>2</td>\n",
       "    </tr>\n",
       "    <tr>\n",
       "      <th>3</th>\n",
       "      <td>MOD13A2.006</td>\n",
       "      <td>_1_km_16_days_VI_Quality</td>\n",
       "      <td>MODLAND</td>\n",
       "      <td>11</td>\n",
       "      <td>Pixel not produced due to other reasons than c...</td>\n",
       "      <td>False</td>\n",
       "      <td>2</td>\n",
       "    </tr>\n",
       "    <tr>\n",
       "      <th>4</th>\n",
       "      <td>MOD13A2.006</td>\n",
       "      <td>_1_km_16_days_VI_Quality</td>\n",
       "      <td>VI Usefulness</td>\n",
       "      <td>0</td>\n",
       "      <td>Highest quality</td>\n",
       "      <td>None</td>\n",
       "      <td>4</td>\n",
       "    </tr>\n",
       "    <tr>\n",
       "      <th>5</th>\n",
       "      <td>MOD13A2.006</td>\n",
       "      <td>_1_km_16_days_VI_Quality</td>\n",
       "      <td>VI Usefulness</td>\n",
       "      <td>1</td>\n",
       "      <td>Lower quality</td>\n",
       "      <td>None</td>\n",
       "      <td>4</td>\n",
       "    </tr>\n",
       "    <tr>\n",
       "      <th>6</th>\n",
       "      <td>MOD13A2.006</td>\n",
       "      <td>_1_km_16_days_VI_Quality</td>\n",
       "      <td>VI Usefulness</td>\n",
       "      <td>10</td>\n",
       "      <td>Decreasing quality (0010)</td>\n",
       "      <td>None</td>\n",
       "      <td>4</td>\n",
       "    </tr>\n",
       "    <tr>\n",
       "      <th>7</th>\n",
       "      <td>MOD13A2.006</td>\n",
       "      <td>_1_km_16_days_VI_Quality</td>\n",
       "      <td>VI Usefulness</td>\n",
       "      <td>11</td>\n",
       "      <td>Decreasing quality (0011)</td>\n",
       "      <td>None</td>\n",
       "      <td>4</td>\n",
       "    </tr>\n",
       "    <tr>\n",
       "      <th>8</th>\n",
       "      <td>MOD13A2.006</td>\n",
       "      <td>_1_km_16_days_VI_Quality</td>\n",
       "      <td>VI Usefulness</td>\n",
       "      <td>100</td>\n",
       "      <td>Decreasing quality (0100)</td>\n",
       "      <td>None</td>\n",
       "      <td>4</td>\n",
       "    </tr>\n",
       "    <tr>\n",
       "      <th>9</th>\n",
       "      <td>MOD13A2.006</td>\n",
       "      <td>_1_km_16_days_VI_Quality</td>\n",
       "      <td>VI Usefulness</td>\n",
       "      <td>101</td>\n",
       "      <td>Decreasing quality (0101)</td>\n",
       "      <td>None</td>\n",
       "      <td>4</td>\n",
       "    </tr>\n",
       "    <tr>\n",
       "      <th>10</th>\n",
       "      <td>MOD13A2.006</td>\n",
       "      <td>_1_km_16_days_VI_Quality</td>\n",
       "      <td>VI Usefulness</td>\n",
       "      <td>110</td>\n",
       "      <td>Decreasing quality (0110)</td>\n",
       "      <td>None</td>\n",
       "      <td>4</td>\n",
       "    </tr>\n",
       "    <tr>\n",
       "      <th>11</th>\n",
       "      <td>MOD13A2.006</td>\n",
       "      <td>_1_km_16_days_VI_Quality</td>\n",
       "      <td>VI Usefulness</td>\n",
       "      <td>111</td>\n",
       "      <td>Decreasing quality (0111)</td>\n",
       "      <td>None</td>\n",
       "      <td>4</td>\n",
       "    </tr>\n",
       "    <tr>\n",
       "      <th>12</th>\n",
       "      <td>MOD13A2.006</td>\n",
       "      <td>_1_km_16_days_VI_Quality</td>\n",
       "      <td>VI Usefulness</td>\n",
       "      <td>1000</td>\n",
       "      <td>Decreasing quality (1000)</td>\n",
       "      <td>None</td>\n",
       "      <td>4</td>\n",
       "    </tr>\n",
       "    <tr>\n",
       "      <th>13</th>\n",
       "      <td>MOD13A2.006</td>\n",
       "      <td>_1_km_16_days_VI_Quality</td>\n",
       "      <td>VI Usefulness</td>\n",
       "      <td>1001</td>\n",
       "      <td>Decreasing quality (1001)</td>\n",
       "      <td>None</td>\n",
       "      <td>4</td>\n",
       "    </tr>\n",
       "    <tr>\n",
       "      <th>14</th>\n",
       "      <td>MOD13A2.006</td>\n",
       "      <td>_1_km_16_days_VI_Quality</td>\n",
       "      <td>VI Usefulness</td>\n",
       "      <td>1010</td>\n",
       "      <td>Decreasing quality (1010)</td>\n",
       "      <td>None</td>\n",
       "      <td>4</td>\n",
       "    </tr>\n",
       "    <tr>\n",
       "      <th>15</th>\n",
       "      <td>MOD13A2.006</td>\n",
       "      <td>_1_km_16_days_VI_Quality</td>\n",
       "      <td>VI Usefulness</td>\n",
       "      <td>1011</td>\n",
       "      <td>Decreasing quality (1011)</td>\n",
       "      <td>None</td>\n",
       "      <td>4</td>\n",
       "    </tr>\n",
       "    <tr>\n",
       "      <th>16</th>\n",
       "      <td>MOD13A2.006</td>\n",
       "      <td>_1_km_16_days_VI_Quality</td>\n",
       "      <td>VI Usefulness</td>\n",
       "      <td>1100</td>\n",
       "      <td>Lowest quality</td>\n",
       "      <td>None</td>\n",
       "      <td>4</td>\n",
       "    </tr>\n",
       "    <tr>\n",
       "      <th>17</th>\n",
       "      <td>MOD13A2.006</td>\n",
       "      <td>_1_km_16_days_VI_Quality</td>\n",
       "      <td>VI Usefulness</td>\n",
       "      <td>1101</td>\n",
       "      <td>Quality so low that it is not useful</td>\n",
       "      <td>None</td>\n",
       "      <td>4</td>\n",
       "    </tr>\n",
       "    <tr>\n",
       "      <th>18</th>\n",
       "      <td>MOD13A2.006</td>\n",
       "      <td>_1_km_16_days_VI_Quality</td>\n",
       "      <td>VI Usefulness</td>\n",
       "      <td>1110</td>\n",
       "      <td>L1B data faulty</td>\n",
       "      <td>None</td>\n",
       "      <td>4</td>\n",
       "    </tr>\n",
       "    <tr>\n",
       "      <th>19</th>\n",
       "      <td>MOD13A2.006</td>\n",
       "      <td>_1_km_16_days_VI_Quality</td>\n",
       "      <td>VI Usefulness</td>\n",
       "      <td>1111</td>\n",
       "      <td>Not useful for any other reason/not processed</td>\n",
       "      <td>None</td>\n",
       "      <td>4</td>\n",
       "    </tr>\n",
       "    <tr>\n",
       "      <th>20</th>\n",
       "      <td>MOD13A2.006</td>\n",
       "      <td>_1_km_16_days_VI_Quality</td>\n",
       "      <td>Aerosol Quantity</td>\n",
       "      <td>0</td>\n",
       "      <td>Climatology</td>\n",
       "      <td>None</td>\n",
       "      <td>2</td>\n",
       "    </tr>\n",
       "    <tr>\n",
       "      <th>21</th>\n",
       "      <td>MOD13A2.006</td>\n",
       "      <td>_1_km_16_days_VI_Quality</td>\n",
       "      <td>Aerosol Quantity</td>\n",
       "      <td>1</td>\n",
       "      <td>Low</td>\n",
       "      <td>None</td>\n",
       "      <td>2</td>\n",
       "    </tr>\n",
       "    <tr>\n",
       "      <th>22</th>\n",
       "      <td>MOD13A2.006</td>\n",
       "      <td>_1_km_16_days_VI_Quality</td>\n",
       "      <td>Aerosol Quantity</td>\n",
       "      <td>10</td>\n",
       "      <td>Average</td>\n",
       "      <td>None</td>\n",
       "      <td>2</td>\n",
       "    </tr>\n",
       "    <tr>\n",
       "      <th>23</th>\n",
       "      <td>MOD13A2.006</td>\n",
       "      <td>_1_km_16_days_VI_Quality</td>\n",
       "      <td>Aerosol Quantity</td>\n",
       "      <td>11</td>\n",
       "      <td>High</td>\n",
       "      <td>None</td>\n",
       "      <td>2</td>\n",
       "    </tr>\n",
       "    <tr>\n",
       "      <th>24</th>\n",
       "      <td>MOD13A2.006</td>\n",
       "      <td>_1_km_16_days_VI_Quality</td>\n",
       "      <td>Adjacent cloud detected</td>\n",
       "      <td>0</td>\n",
       "      <td>No</td>\n",
       "      <td>None</td>\n",
       "      <td>1</td>\n",
       "    </tr>\n",
       "    <tr>\n",
       "      <th>25</th>\n",
       "      <td>MOD13A2.006</td>\n",
       "      <td>_1_km_16_days_VI_Quality</td>\n",
       "      <td>Adjacent cloud detected</td>\n",
       "      <td>1</td>\n",
       "      <td>Yes</td>\n",
       "      <td>None</td>\n",
       "      <td>1</td>\n",
       "    </tr>\n",
       "    <tr>\n",
       "      <th>26</th>\n",
       "      <td>MOD13A2.006</td>\n",
       "      <td>_1_km_16_days_VI_Quality</td>\n",
       "      <td>Atmosphere BRDF Correction</td>\n",
       "      <td>0</td>\n",
       "      <td>No</td>\n",
       "      <td>None</td>\n",
       "      <td>1</td>\n",
       "    </tr>\n",
       "    <tr>\n",
       "      <th>27</th>\n",
       "      <td>MOD13A2.006</td>\n",
       "      <td>_1_km_16_days_VI_Quality</td>\n",
       "      <td>Atmosphere BRDF Correction</td>\n",
       "      <td>1</td>\n",
       "      <td>Yes</td>\n",
       "      <td>None</td>\n",
       "      <td>1</td>\n",
       "    </tr>\n",
       "    <tr>\n",
       "      <th>28</th>\n",
       "      <td>MOD13A2.006</td>\n",
       "      <td>_1_km_16_days_VI_Quality</td>\n",
       "      <td>Mixed Clouds</td>\n",
       "      <td>0</td>\n",
       "      <td>No</td>\n",
       "      <td>None</td>\n",
       "      <td>1</td>\n",
       "    </tr>\n",
       "    <tr>\n",
       "      <th>29</th>\n",
       "      <td>MOD13A2.006</td>\n",
       "      <td>_1_km_16_days_VI_Quality</td>\n",
       "      <td>Mixed Clouds</td>\n",
       "      <td>1</td>\n",
       "      <td>Yes</td>\n",
       "      <td>None</td>\n",
       "      <td>1</td>\n",
       "    </tr>\n",
       "    <tr>\n",
       "      <th>30</th>\n",
       "      <td>MOD13A2.006</td>\n",
       "      <td>_1_km_16_days_VI_Quality</td>\n",
       "      <td>Land/Water Mask</td>\n",
       "      <td>0</td>\n",
       "      <td>Shallow ocean</td>\n",
       "      <td>None</td>\n",
       "      <td>3</td>\n",
       "    </tr>\n",
       "    <tr>\n",
       "      <th>31</th>\n",
       "      <td>MOD13A2.006</td>\n",
       "      <td>_1_km_16_days_VI_Quality</td>\n",
       "      <td>Land/Water Mask</td>\n",
       "      <td>1</td>\n",
       "      <td>Land (Nothing else but land)</td>\n",
       "      <td>None</td>\n",
       "      <td>3</td>\n",
       "    </tr>\n",
       "    <tr>\n",
       "      <th>32</th>\n",
       "      <td>MOD13A2.006</td>\n",
       "      <td>_1_km_16_days_VI_Quality</td>\n",
       "      <td>Land/Water Mask</td>\n",
       "      <td>10</td>\n",
       "      <td>Ocean coastlines and lake shorelines</td>\n",
       "      <td>None</td>\n",
       "      <td>3</td>\n",
       "    </tr>\n",
       "    <tr>\n",
       "      <th>33</th>\n",
       "      <td>MOD13A2.006</td>\n",
       "      <td>_1_km_16_days_VI_Quality</td>\n",
       "      <td>Land/Water Mask</td>\n",
       "      <td>11</td>\n",
       "      <td>Shallow inland water</td>\n",
       "      <td>None</td>\n",
       "      <td>3</td>\n",
       "    </tr>\n",
       "    <tr>\n",
       "      <th>34</th>\n",
       "      <td>MOD13A2.006</td>\n",
       "      <td>_1_km_16_days_VI_Quality</td>\n",
       "      <td>Land/Water Mask</td>\n",
       "      <td>100</td>\n",
       "      <td>Ephemeral water</td>\n",
       "      <td>None</td>\n",
       "      <td>3</td>\n",
       "    </tr>\n",
       "    <tr>\n",
       "      <th>35</th>\n",
       "      <td>MOD13A2.006</td>\n",
       "      <td>_1_km_16_days_VI_Quality</td>\n",
       "      <td>Land/Water Mask</td>\n",
       "      <td>101</td>\n",
       "      <td>Deep inland water</td>\n",
       "      <td>None</td>\n",
       "      <td>3</td>\n",
       "    </tr>\n",
       "    <tr>\n",
       "      <th>36</th>\n",
       "      <td>MOD13A2.006</td>\n",
       "      <td>_1_km_16_days_VI_Quality</td>\n",
       "      <td>Land/Water Mask</td>\n",
       "      <td>110</td>\n",
       "      <td>Moderate or continental ocean</td>\n",
       "      <td>None</td>\n",
       "      <td>3</td>\n",
       "    </tr>\n",
       "    <tr>\n",
       "      <th>37</th>\n",
       "      <td>MOD13A2.006</td>\n",
       "      <td>_1_km_16_days_VI_Quality</td>\n",
       "      <td>Land/Water Mask</td>\n",
       "      <td>111</td>\n",
       "      <td>Deep ocean</td>\n",
       "      <td>None</td>\n",
       "      <td>3</td>\n",
       "    </tr>\n",
       "    <tr>\n",
       "      <th>38</th>\n",
       "      <td>MOD13A2.006</td>\n",
       "      <td>_1_km_16_days_VI_Quality</td>\n",
       "      <td>Possible snow/ice</td>\n",
       "      <td>0</td>\n",
       "      <td>No</td>\n",
       "      <td>None</td>\n",
       "      <td>1</td>\n",
       "    </tr>\n",
       "    <tr>\n",
       "      <th>39</th>\n",
       "      <td>MOD13A2.006</td>\n",
       "      <td>_1_km_16_days_VI_Quality</td>\n",
       "      <td>Possible snow/ice</td>\n",
       "      <td>1</td>\n",
       "      <td>Yes</td>\n",
       "      <td>None</td>\n",
       "      <td>1</td>\n",
       "    </tr>\n",
       "    <tr>\n",
       "      <th>40</th>\n",
       "      <td>MOD13A2.006</td>\n",
       "      <td>_1_km_16_days_VI_Quality</td>\n",
       "      <td>Possible shadow</td>\n",
       "      <td>0</td>\n",
       "      <td>No</td>\n",
       "      <td>None</td>\n",
       "      <td>1</td>\n",
       "    </tr>\n",
       "    <tr>\n",
       "      <th>41</th>\n",
       "      <td>MOD13A2.006</td>\n",
       "      <td>_1_km_16_days_VI_Quality</td>\n",
       "      <td>Possible shadow</td>\n",
       "      <td>1</td>\n",
       "      <td>Yes</td>\n",
       "      <td>None</td>\n",
       "      <td>1</td>\n",
       "    </tr>\n",
       "  </tbody>\n",
       "</table>\n",
       "</div>"
      ],
      "text/plain": [
       "   ProductAndVersion              QualityLayer                        Name  \\\n",
       "0        MOD13A2.006  _1_km_16_days_VI_Quality                     MODLAND   \n",
       "1        MOD13A2.006  _1_km_16_days_VI_Quality                     MODLAND   \n",
       "2        MOD13A2.006  _1_km_16_days_VI_Quality                     MODLAND   \n",
       "3        MOD13A2.006  _1_km_16_days_VI_Quality                     MODLAND   \n",
       "4        MOD13A2.006  _1_km_16_days_VI_Quality               VI Usefulness   \n",
       "5        MOD13A2.006  _1_km_16_days_VI_Quality               VI Usefulness   \n",
       "6        MOD13A2.006  _1_km_16_days_VI_Quality               VI Usefulness   \n",
       "7        MOD13A2.006  _1_km_16_days_VI_Quality               VI Usefulness   \n",
       "8        MOD13A2.006  _1_km_16_days_VI_Quality               VI Usefulness   \n",
       "9        MOD13A2.006  _1_km_16_days_VI_Quality               VI Usefulness   \n",
       "10       MOD13A2.006  _1_km_16_days_VI_Quality               VI Usefulness   \n",
       "11       MOD13A2.006  _1_km_16_days_VI_Quality               VI Usefulness   \n",
       "12       MOD13A2.006  _1_km_16_days_VI_Quality               VI Usefulness   \n",
       "13       MOD13A2.006  _1_km_16_days_VI_Quality               VI Usefulness   \n",
       "14       MOD13A2.006  _1_km_16_days_VI_Quality               VI Usefulness   \n",
       "15       MOD13A2.006  _1_km_16_days_VI_Quality               VI Usefulness   \n",
       "16       MOD13A2.006  _1_km_16_days_VI_Quality               VI Usefulness   \n",
       "17       MOD13A2.006  _1_km_16_days_VI_Quality               VI Usefulness   \n",
       "18       MOD13A2.006  _1_km_16_days_VI_Quality               VI Usefulness   \n",
       "19       MOD13A2.006  _1_km_16_days_VI_Quality               VI Usefulness   \n",
       "20       MOD13A2.006  _1_km_16_days_VI_Quality            Aerosol Quantity   \n",
       "21       MOD13A2.006  _1_km_16_days_VI_Quality            Aerosol Quantity   \n",
       "22       MOD13A2.006  _1_km_16_days_VI_Quality            Aerosol Quantity   \n",
       "23       MOD13A2.006  _1_km_16_days_VI_Quality            Aerosol Quantity   \n",
       "24       MOD13A2.006  _1_km_16_days_VI_Quality     Adjacent cloud detected   \n",
       "25       MOD13A2.006  _1_km_16_days_VI_Quality     Adjacent cloud detected   \n",
       "26       MOD13A2.006  _1_km_16_days_VI_Quality  Atmosphere BRDF Correction   \n",
       "27       MOD13A2.006  _1_km_16_days_VI_Quality  Atmosphere BRDF Correction   \n",
       "28       MOD13A2.006  _1_km_16_days_VI_Quality                Mixed Clouds   \n",
       "29       MOD13A2.006  _1_km_16_days_VI_Quality                Mixed Clouds   \n",
       "30       MOD13A2.006  _1_km_16_days_VI_Quality             Land/Water Mask   \n",
       "31       MOD13A2.006  _1_km_16_days_VI_Quality             Land/Water Mask   \n",
       "32       MOD13A2.006  _1_km_16_days_VI_Quality             Land/Water Mask   \n",
       "33       MOD13A2.006  _1_km_16_days_VI_Quality             Land/Water Mask   \n",
       "34       MOD13A2.006  _1_km_16_days_VI_Quality             Land/Water Mask   \n",
       "35       MOD13A2.006  _1_km_16_days_VI_Quality             Land/Water Mask   \n",
       "36       MOD13A2.006  _1_km_16_days_VI_Quality             Land/Water Mask   \n",
       "37       MOD13A2.006  _1_km_16_days_VI_Quality             Land/Water Mask   \n",
       "38       MOD13A2.006  _1_km_16_days_VI_Quality           Possible snow/ice   \n",
       "39       MOD13A2.006  _1_km_16_days_VI_Quality           Possible snow/ice   \n",
       "40       MOD13A2.006  _1_km_16_days_VI_Quality             Possible shadow   \n",
       "41       MOD13A2.006  _1_km_16_days_VI_Quality             Possible shadow   \n",
       "\n",
       "    Value                                        Description Acceptable  \\\n",
       "0       0                          VI produced, good quality       True   \n",
       "1       1                    VI produced, but check other QA      False   \n",
       "2      10           Pixel produced, but most probably cloudy      False   \n",
       "3      11  Pixel not produced due to other reasons than c...      False   \n",
       "4       0                                    Highest quality       None   \n",
       "5       1                                      Lower quality       None   \n",
       "6      10                          Decreasing quality (0010)       None   \n",
       "7      11                          Decreasing quality (0011)       None   \n",
       "8     100                          Decreasing quality (0100)       None   \n",
       "9     101                          Decreasing quality (0101)       None   \n",
       "10    110                          Decreasing quality (0110)       None   \n",
       "11    111                          Decreasing quality (0111)       None   \n",
       "12   1000                          Decreasing quality (1000)       None   \n",
       "13   1001                          Decreasing quality (1001)       None   \n",
       "14   1010                          Decreasing quality (1010)       None   \n",
       "15   1011                          Decreasing quality (1011)       None   \n",
       "16   1100                                     Lowest quality       None   \n",
       "17   1101               Quality so low that it is not useful       None   \n",
       "18   1110                                    L1B data faulty       None   \n",
       "19   1111      Not useful for any other reason/not processed       None   \n",
       "20      0                                        Climatology       None   \n",
       "21      1                                                Low       None   \n",
       "22     10                                            Average       None   \n",
       "23     11                                               High       None   \n",
       "24      0                                                 No       None   \n",
       "25      1                                                Yes       None   \n",
       "26      0                                                 No       None   \n",
       "27      1                                                Yes       None   \n",
       "28      0                                                 No       None   \n",
       "29      1                                                Yes       None   \n",
       "30      0                                      Shallow ocean       None   \n",
       "31      1                       Land (Nothing else but land)       None   \n",
       "32     10               Ocean coastlines and lake shorelines       None   \n",
       "33     11                               Shallow inland water       None   \n",
       "34    100                                    Ephemeral water       None   \n",
       "35    101                                  Deep inland water       None   \n",
       "36    110                      Moderate or continental ocean       None   \n",
       "37    111                                         Deep ocean       None   \n",
       "38      0                                                 No       None   \n",
       "39      1                                                Yes       None   \n",
       "40      0                                                 No       None   \n",
       "41      1                                                Yes       None   \n",
       "\n",
       "    Length  \n",
       "0        2  \n",
       "1        2  \n",
       "2        2  \n",
       "3        2  \n",
       "4        4  \n",
       "5        4  \n",
       "6        4  \n",
       "7        4  \n",
       "8        4  \n",
       "9        4  \n",
       "10       4  \n",
       "11       4  \n",
       "12       4  \n",
       "13       4  \n",
       "14       4  \n",
       "15       4  \n",
       "16       4  \n",
       "17       4  \n",
       "18       4  \n",
       "19       4  \n",
       "20       2  \n",
       "21       2  \n",
       "22       2  \n",
       "23       2  \n",
       "24       1  \n",
       "25       1  \n",
       "26       1  \n",
       "27       1  \n",
       "28       1  \n",
       "29       1  \n",
       "30       3  \n",
       "31       3  \n",
       "32       3  \n",
       "33       3  \n",
       "34       3  \n",
       "35       3  \n",
       "36       3  \n",
       "37       3  \n",
       "38       1  \n",
       "39       1  \n",
       "40       1  \n",
       "41       1  "
      ]
     },
     "execution_count": 8,
     "metadata": {},
     "output_type": "execute_result"
    }
   ],
   "source": [
    "qa_analytics.qa_defs[1]"
   ]
  },
  {
   "cell_type": "markdown",
   "metadata": {},
   "source": [
    "This definitely is more useful, we'll use the ```_1_km_16_days_VI_Quality``` QA layer to perform the analysis. But as a starting point, let's select the ```_1_km_16_days_pixel_reliability``` layer.\n",
    "\n",
    "It is neccesary now to set the QA definition into the ```qa_analytics``` object:"
   ]
  },
  {
   "cell_type": "code",
   "execution_count": 9,
   "metadata": {
    "ExecuteTime": {
     "end_time": "2019-11-04T18:02:09.765752Z",
     "start_time": "2019-11-04T18:02:09.761173Z"
    }
   },
   "outputs": [],
   "source": [
    "# Set the _1_km_16_days_VI_Quality (index 0) definition to be the one to perform the analysis\n",
    "# later on we can just change the 0 for 1 to use the _1_km_16_days_VI_Quality layer\n",
    "\n",
    "qa_analytics.qa_def = qa_analytics.qa_defs[0]"
   ]
  },
  {
   "cell_type": "markdown",
   "metadata": {},
   "source": [
    "## Performing the QA analytics\n",
    "Now we can luanch the TATSSI QA analytics User Interface to select the QA flags that we consider adequate for out purposes.\n",
    "1. Click on one the ```QA Parameter name``` list that contains all the QA parameters for the selected product\n",
    "2. Then click on one or more of the ```Description``` list that contains the QA flag description. To select multiple descriptions you can click-and-drag or keep pressing the ```CTRL``` key and click on the description to select.\n",
    "3. To perform the QA analytics click on the ```QA analytics``` button. This will generate the following layers:\n",
    " * A boolean ```mask``` object where ```True``` indicates that the pixel will be kept for further processing.\n",
    " * The percentage of data avilable after masking in the ```pct_data_available``` object\n",
    " * The maximum gap length in the time series in the ```max_gap_length``` object.\n",
    " \n",
    "Clicking on the ```Select ALL``` button will select **all** QA flags, this will be equivalent to have **all** the data without any masking.\n",
    "The ```Default selection``` button selects the first QA flag from each QA parameter.\n",
    "\n",
    "The ```Save QA analytics``` save the current QA parameters selection into a JSON file with the name of the current QA layer, the ```Load QA analytics``` button loads the selection if the file already exists."
   ]
  },
  {
   "cell_type": "code",
   "execution_count": 10,
   "metadata": {
    "ExecuteTime": {
     "end_time": "2019-11-04T18:02:11.643170Z",
     "start_time": "2019-11-04T18:02:11.499277Z"
    }
   },
   "outputs": [
    {
     "data": {
      "application/vnd.jupyter.widget-view+json": {
       "model_id": "88e7cfcc9fa3404db8ca26e9f8ef7b92",
       "version_major": 2,
       "version_minor": 0
      },
      "text/plain": [
       "HTML(value='<b>_1_km_16_days_pixel_reliability</b>', description='QA layer:')"
      ]
     },
     "metadata": {},
     "output_type": "display_data"
    },
    {
     "data": {
      "application/vnd.jupyter.widget-view+json": {
       "model_id": "0075c30f9f094898909b06e970c62218",
       "version_major": 2,
       "version_minor": 0
      },
      "text/plain": [
       "HBox(children=(VBox(children=(Select(description='QA Parameter name:', layout=Layout(width='400px'), options=(…"
      ]
     },
     "metadata": {},
     "output_type": "display_data"
    },
    {
     "data": {
      "application/vnd.jupyter.widget-view+json": {
       "model_id": "d6ff13e3de444f85b15d9477051a9ad7",
       "version_major": 2,
       "version_minor": 0
      },
      "text/plain": [
       "HBox(children=(Button(description='Select ALL', layout=Layout(width='19%'), style=ButtonStyle()), Button(descr…"
      ]
     },
     "metadata": {},
     "output_type": "display_data"
    }
   ],
   "source": [
    "# Launch the TATSSI QA analytics User Interface\n",
    "qa_analytics.ui()"
   ]
  },
  {
   "cell_type": "markdown",
   "metadata": {},
   "source": [
    "We can examine now the user QA selection, it is stored in the ```qa_analytics.user_qa_selection``` dictionary:"
   ]
  },
  {
   "cell_type": "code",
   "execution_count": null,
   "metadata": {},
   "outputs": [],
   "source": [
    "qa_analytics.user_qa_selection"
   ]
  },
  {
   "cell_type": "markdown",
   "metadata": {},
   "source": [
    "Now we can visualise the percentage of data available and the max gap-lenght computed using the user QA settings. In case you want to plot the data using a diferent colorbar, pass the ```cbar``` argument to the ```plot_analytics``` method. Have a look to the different [colobars](https://matplotlib.org/3.1.0/tutorials/colors/colormaps.html) available."
   ]
  },
  {
   "cell_type": "code",
   "execution_count": null,
   "metadata": {
    "ExecuteTime": {
     "end_time": "2019-07-15T21:33:42.888082Z",
     "start_time": "2019-07-15T21:33:42.477588Z"
    },
    "scrolled": false
   },
   "outputs": [],
   "source": [
    "# QA analytics layers\n",
    "cmap='cividis'\n",
    "qa_analytics.plot_analytics(cmap=cmap, dpi=120)"
   ]
  },
  {
   "cell_type": "markdown",
   "metadata": {},
   "source": [
    "## Time series interpolation\n",
    "Once the masking of pixels according to the QA selection has been performed, TATSSI allows to:\n",
    "* Fill the gaps in the time series using different interpolation techniques"
   ]
  },
  {
   "cell_type": "code",
   "execution_count": null,
   "metadata": {
    "ExecuteTime": {
     "end_time": "2019-07-15T21:33:50.013299Z",
     "start_time": "2019-07-15T21:33:47.991069Z"
    },
    "hide_input": false,
    "scrolled": false
   },
   "outputs": [],
   "source": [
    "# Time series interpolation\n",
    "tsi = TimeSeriesInterpolation(qa_analytics)"
   ]
  },
  {
   "cell_type": "markdown",
   "metadata": {},
   "source": [
    "Once you selected the interpolation method or methods to apply to the dataset, we can perform the interpolation by using the ```interpolate``` method from the Time Series Analysis object:"
   ]
  },
  {
   "cell_type": "code",
   "execution_count": null,
   "metadata": {
    "ExecuteTime": {
     "end_time": "2019-07-15T21:35:09.280041Z",
     "start_time": "2019-07-15T21:34:20.232370Z"
    },
    "scrolled": true
   },
   "outputs": [],
   "source": [
    "# Apply the interpolation, grab a coffee or a mezcal it might take a few minutes...\n",
    "# Particulary if smoothing consider a small tile, e.g. 50\n",
    "#tsa.interpolate(tile_size=20)\n",
    "%time tsi.interpolate(n_workers=3, threads_per_worker=1, memory_limit='4GB')"
   ]
  },
  {
   "cell_type": "code",
   "execution_count": null,
   "metadata": {
    "ExecuteTime": {
     "end_time": "2019-07-15T21:40:20.729109Z",
     "start_time": "2019-07-15T21:40:20.449473Z"
    }
   },
   "outputs": [],
   "source": [
    "# Explore the interpolated file\n",
    "!gdalinfo ../../data/MOD13A2.006/1_km_16_days_EVI/interpolated/*.tif"
   ]
  },
  {
   "cell_type": "markdown",
   "metadata": {
    "ExecuteTime": {
     "end_time": "2019-06-20T15:39:09.892820Z",
     "start_time": "2019-06-20T15:39:09.503Z"
    }
   },
   "source": [
    "## EX5 - Find the best QA settings and interpolation method to capture the vegetation seasonality around \"La Angostura\"\n",
    "\n",
    "* Hint - Change the QA settings, click on some pixels aroung \"La Angostura\""
   ]
  }
 ],
 "metadata": {
  "kernelspec": {
   "display_name": "Python 3",
   "language": "python",
   "name": "python3"
  },
  "language_info": {
   "codemirror_mode": {
    "name": "ipython",
    "version": 3
   },
   "file_extension": ".py",
   "mimetype": "text/x-python",
   "name": "python",
   "nbconvert_exporter": "python",
   "pygments_lexer": "ipython3",
   "version": "3.7.3"
  },
  "toc": {
   "base_numbering": 1,
   "nav_menu": {},
   "number_sections": false,
   "sideBar": true,
   "skip_h1_title": false,
   "title_cell": "Table of Contents",
   "title_sidebar": "Contents",
   "toc_cell": false,
   "toc_position": {
    "height": "185px",
    "left": "1381px",
    "top": "102px",
    "width": "247px"
   },
   "toc_section_display": true,
   "toc_window_display": false
  },
  "varInspector": {
   "cols": {
    "lenName": 16,
    "lenType": 16,
    "lenVar": 40
   },
   "kernels_config": {
    "python": {
     "delete_cmd_postfix": "",
     "delete_cmd_prefix": "del ",
     "library": "var_list.py",
     "varRefreshCmd": "print(var_dic_list())"
    },
    "r": {
     "delete_cmd_postfix": ") ",
     "delete_cmd_prefix": "rm(",
     "library": "var_list.r",
     "varRefreshCmd": "cat(var_dic_list()) "
    }
   },
   "position": {
    "height": "422px",
    "left": "1285px",
    "right": "20px",
    "top": "172px",
    "width": "519px"
   },
   "types_to_exclude": [
    "module",
    "function",
    "builtin_function_or_method",
    "instance",
    "_Feature"
   ],
   "window_display": false
  },
  "widgets": {
   "application/vnd.jupyter.widget-state+json": {
    "state": {
     "0023433664ca4a9a9085c27cd27b7ac1": {
      "model_module": "@jupyter-widgets/controls",
      "model_module_version": "1.4.0",
      "model_name": "ButtonModel",
      "state": {
       "description": "Select ALL",
       "layout": "IPY_MODEL_7adf8aaf111b4802bdb33867b50e3a4e",
       "style": "IPY_MODEL_ae366eb7e36c41e0b131617b94d1d136"
      }
     },
     "0045939765b2409eb0d1315b3c2bb14a": {
      "model_module": "@jupyter-widgets/controls",
      "model_module_version": "1.4.0",
      "model_name": "ButtonStyleModel",
      "state": {}
     },
     "006b6cb6da394a33a75d4b5ca18823d6": {
      "model_module": "@jupyter-widgets/base",
      "model_module_version": "1.1.0",
      "model_name": "LayoutModel",
      "state": {
       "width": "30%"
      }
     },
     "0083739d68114ec5950e8d3e87570139": {
      "model_module": "@jupyter-widgets/base",
      "model_module_version": "1.1.0",
      "model_name": "LayoutModel",
      "state": {}
     },
     "008fbe5a943a47d197df13ea7ff59eb0": {
      "model_module": "@jupyter-widgets/controls",
      "model_module_version": "1.4.0",
      "model_name": "DescriptionStyleModel",
      "state": {
       "description_width": "initial"
      }
     },
     "009394dd95d6437b8dfbe97d5bfb500a": {
      "model_module": "@jupyter-widgets/controls",
      "model_module_version": "1.4.0",
      "model_name": "HBoxModel",
      "state": {
       "children": [
        "IPY_MODEL_641bbcd9ffef47eb810b8f999871a85c",
        "IPY_MODEL_43f3b8014dc24b6792a3f6aa62ac2d02"
       ],
       "layout": "IPY_MODEL_f8347bd09709449bb9128d6c63ed5e32"
      }
     },
     "00a328bf1ce44f648d8504512b01d346": {
      "model_module": "@jupyter-widgets/controls",
      "model_module_version": "1.4.0",
      "model_name": "ButtonStyleModel",
      "state": {}
     },
     "00b3b3ea86094f0c85dec64664ad042a": {
      "model_module": "@jupyter-widgets/base",
      "model_module_version": "1.1.0",
      "model_name": "LayoutModel",
      "state": {}
     },
     "016b89167b9b46389af108aed4e44ad4": {
      "model_module": "@jupyter-widgets/base",
      "model_module_version": "1.1.0",
      "model_name": "LayoutModel",
      "state": {
       "width": "20%"
      }
     },
     "017ea2dea1b84f8fbaf99081aced9d28": {
      "model_module": "@jupyter-widgets/controls",
      "model_module_version": "1.4.0",
      "model_name": "ButtonStyleModel",
      "state": {}
     },
     "0189ccb3763e4504b15ff6cd45b60478": {
      "model_module": "@jupyter-widgets/controls",
      "model_module_version": "1.4.0",
      "model_name": "ButtonStyleModel",
      "state": {}
     },
     "01b239f66c4a4effb8b8ed033b6f843e": {
      "model_module": "@jupyter-widgets/base",
      "model_module_version": "1.1.0",
      "model_name": "LayoutModel",
      "state": {
       "width": "30%"
      }
     },
     "01d45602d17943fc8810c770008ce4cb": {
      "model_module": "@jupyter-widgets/controls",
      "model_module_version": "1.4.0",
      "model_name": "HBoxModel",
      "state": {
       "children": [
        "IPY_MODEL_c3578ea35da94028b6af4b245d9b0ab3",
        "IPY_MODEL_8b8fa6b334d84a87adf9e1d6d13c4f56",
        "IPY_MODEL_faa57e72de8949a6a1e8129e694dc575",
        "IPY_MODEL_bf4c2e4c87d24522953d7e3a9edff5a7"
       ],
       "layout": "IPY_MODEL_2318ec78e6134c2dafc8c4e0b5ef2cb2"
      }
     },
     "01e76db0ef5a43aa9b229e24e26edf45": {
      "model_module": "@jupyter-widgets/controls",
      "model_module_version": "1.4.0",
      "model_name": "ButtonStyleModel",
      "state": {}
     },
     "01f146b593744138aed2ddd804a25edd": {
      "model_module": "@jupyter-widgets/controls",
      "model_module_version": "1.4.0",
      "model_name": "HTMLModel",
      "state": {
       "description": "QA layer:",
       "layout": "IPY_MODEL_37864395e7774c68ac6e984be5cff1c6",
       "style": "IPY_MODEL_e4c362775fd241129f8b22651d0ca1d8",
       "value": "<b>_1_km_16_days_VI_Quality</b>"
      }
     },
     "01f1e5006e0b47e8ae60e1a532ace08b": {
      "model_module": "@jupyter-widgets/controls",
      "model_module_version": "1.4.0",
      "model_name": "ButtonStyleModel",
      "state": {}
     },
     "01fdc74ea57f4d828ee9bc2ccd4b0284": {
      "model_module": "@jupyter-widgets/base",
      "model_module_version": "1.1.0",
      "model_name": "LayoutModel",
      "state": {
       "width": "20%"
      }
     },
     "021b5a68c98f431b815c6bead60ac9aa": {
      "model_module": "@jupyter-widgets/base",
      "model_module_version": "1.1.0",
      "model_name": "LayoutModel",
      "state": {
       "width": "50%"
      }
     },
     "022776907494499896257b07021d9f77": {
      "model_module": "@jupyter-widgets/base",
      "model_module_version": "1.1.0",
      "model_name": "LayoutModel",
      "state": {}
     },
     "023ddd5fce2f4aa88b203887b52afb12": {
      "model_module": "@jupyter-widgets/base",
      "model_module_version": "1.1.0",
      "model_name": "LayoutModel",
      "state": {}
     },
     "0257e0ad1aff4b3690a257c4b28dd7b7": {
      "model_module": "@jupyter-widgets/base",
      "model_module_version": "1.1.0",
      "model_name": "LayoutModel",
      "state": {
       "width": "400px"
      }
     },
     "025f9c35ec5542fca8951ef2e04984bf": {
      "model_module": "@jupyter-widgets/base",
      "model_module_version": "1.1.0",
      "model_name": "LayoutModel",
      "state": {}
     },
     "02662f2fc1c5418683082586e484a182": {
      "model_module": "@jupyter-widgets/base",
      "model_module_version": "1.1.0",
      "model_name": "LayoutModel",
      "state": {
       "width": "20%"
      }
     },
     "0294894c49ab4c19811648888d037f79": {
      "model_module": "@jupyter-widgets/base",
      "model_module_version": "1.1.0",
      "model_name": "LayoutModel",
      "state": {
       "width": "50%"
      }
     },
     "029d75e9960f4d07aaf72aeafcb7d275": {
      "model_module": "@jupyter-widgets/base",
      "model_module_version": "1.1.0",
      "model_name": "LayoutModel",
      "state": {}
     },
     "02d5e159b36240328771cfafaf5d713a": {
      "model_module": "@jupyter-widgets/controls",
      "model_module_version": "1.4.0",
      "model_name": "HBoxModel",
      "state": {
       "children": [
        "IPY_MODEL_5efa89d587c0451a9fd99f038016a778",
        "IPY_MODEL_5dfd10ba8ec5432284c9c527f1ca8f55"
       ],
       "layout": "IPY_MODEL_bf5a1de0e5594940ad7d0f5937bf9ba7"
      }
     },
     "02de2a24cfbe4a76a46b5251ead96a25": {
      "model_module": "@jupyter-widgets/base",
      "model_module_version": "1.1.0",
      "model_name": "LayoutModel",
      "state": {
       "width": "400px"
      }
     },
     "02f7385231b54992a700c537a6574b66": {
      "model_module": "@jupyter-widgets/base",
      "model_module_version": "1.1.0",
      "model_name": "LayoutModel",
      "state": {}
     },
     "030acbeacb0044a5933324eba59fa130": {
      "model_module": "@jupyter-widgets/base",
      "model_module_version": "1.1.0",
      "model_name": "LayoutModel",
      "state": {}
     },
     "03271fc1058f4f2095af0b18f0223913": {
      "model_module": "@jupyter-widgets/controls",
      "model_module_version": "1.4.0",
      "model_name": "ProgressStyleModel",
      "state": {
       "description_width": ""
      }
     },
     "033285fd855f49b8a504ffb3c17124b1": {
      "model_module": "@jupyter-widgets/base",
      "model_module_version": "1.1.0",
      "model_name": "LayoutModel",
      "state": {}
     },
     "033cb84edb714141b361aed1c856a6ed": {
      "model_module": "@jupyter-widgets/controls",
      "model_module_version": "1.4.0",
      "model_name": "ButtonStyleModel",
      "state": {}
     },
     "0356813bbe3743d68be4366d62939d50": {
      "model_module": "@jupyter-widgets/controls",
      "model_module_version": "1.4.0",
      "model_name": "ButtonModel",
      "state": {
       "description": "Select ALL",
       "layout": "IPY_MODEL_da0a222ccb9e429bbd513a5c7cbb3edd",
       "style": "IPY_MODEL_199e4515c0ab408382cfaef757179d46"
      }
     },
     "036ec536a4994008b8252cccf69eedb6": {
      "model_module": "@jupyter-widgets/controls",
      "model_module_version": "1.4.0",
      "model_name": "DescriptionStyleModel",
      "state": {
       "description_width": "initial"
      }
     },
     "037109c2e2cc45fb847cb71d91e09946": {
      "model_module": "@jupyter-widgets/controls",
      "model_module_version": "1.4.0",
      "model_name": "SelectMultipleModel",
      "state": {
       "_options_labels": [
        "VI produced, good quality",
        "VI produced, but check other QA",
        "Pixel produced, but most probably cloudy",
        "Pixel not produced due to other reasons than clouds"
       ],
       "description": "Description",
       "index": [
        0
       ],
       "layout": "IPY_MODEL_0c3ecf5a2d7f4efc8f1cbb64522a1d56",
       "rows": 4,
       "style": "IPY_MODEL_61a3efc25757401e8bf33cdd8831c848"
      }
     },
     "038fb9217813473b8d1a37a33062000d": {
      "model_module": "@jupyter-widgets/controls",
      "model_module_version": "1.4.0",
      "model_name": "HBoxModel",
      "state": {
       "children": [
        "IPY_MODEL_cc2e00e7a8fb4ff38d376f4d6780b77e",
        "IPY_MODEL_f2f3a1e177de4a0fb2ffcf4dedbb14c6",
        "IPY_MODEL_39d1d954a91640cea3c1dd8f0890ee51"
       ],
       "layout": "IPY_MODEL_f600414b6c3a42b9a0f17ec53f71a249"
      }
     },
     "03b67576852f4a439fec3191a4e1d167": {
      "model_module": "@jupyter-widgets/controls",
      "model_module_version": "1.4.0",
      "model_name": "DescriptionStyleModel",
      "state": {
       "description_width": "initial"
      }
     },
     "040238f9d5b54467b3de806300b6bdf9": {
      "model_module": "@jupyter-widgets/base",
      "model_module_version": "1.1.0",
      "model_name": "LayoutModel",
      "state": {
       "width": "20%"
      }
     },
     "0405b417377e429185d1e88563ca549e": {
      "model_module": "@jupyter-widgets/base",
      "model_module_version": "1.1.0",
      "model_name": "LayoutModel",
      "state": {
       "width": "50%"
      }
     },
     "043045322af144978a38fc353b6d1fc5": {
      "model_module": "@jupyter-widgets/base",
      "model_module_version": "1.1.0",
      "model_name": "LayoutModel",
      "state": {
       "width": "19%"
      }
     },
     "0464f71d6bae4b8bbae268200cb45c02": {
      "model_module": "@jupyter-widgets/base",
      "model_module_version": "1.1.0",
      "model_name": "LayoutModel",
      "state": {
       "width": "50%"
      }
     },
     "046715e1b4ac472a903d8a826ed4d0b5": {
      "model_module": "@jupyter-widgets/controls",
      "model_module_version": "1.4.0",
      "model_name": "ProgressStyleModel",
      "state": {
       "description_width": "initial"
      }
     },
     "048eaa204c614fada3e2657e68caacf7": {
      "model_module": "@jupyter-widgets/controls",
      "model_module_version": "1.4.0",
      "model_name": "HBoxModel",
      "state": {
       "children": [
        "IPY_MODEL_6c44186abf0b4c389bcbf1a536ebc33f",
        "IPY_MODEL_9714d8ea17b746ae8d69c69eab6b3ae4"
       ],
       "layout": "IPY_MODEL_2ddd3e087de54bfd9e0c1a81e90dcea7"
      }
     },
     "04b3a7ab57c140039ace2ea6cabc355f": {
      "model_module": "@jupyter-widgets/base",
      "model_module_version": "1.1.0",
      "model_name": "LayoutModel",
      "state": {
       "width": "50%"
      }
     },
     "04c1c77090b94427a69a3183681deed4": {
      "model_module": "@jupyter-widgets/base",
      "model_module_version": "1.1.0",
      "model_name": "LayoutModel",
      "state": {}
     },
     "04e2fd2bd38b451e867acdcab2acfbc3": {
      "model_module": "@jupyter-widgets/base",
      "model_module_version": "1.1.0",
      "model_name": "LayoutModel",
      "state": {}
     },
     "04fd2c460ba04f20abc40432b055ae54": {
      "model_module": "@jupyter-widgets/base",
      "model_module_version": "1.1.0",
      "model_name": "LayoutModel",
      "state": {}
     },
     "0532aaa07447410aa64eb818a8484104": {
      "model_module": "@jupyter-widgets/controls",
      "model_module_version": "1.4.0",
      "model_name": "ButtonStyleModel",
      "state": {}
     },
     "0563bbd9266e46d2be64f91912f24747": {
      "model_module": "@jupyter-widgets/controls",
      "model_module_version": "1.4.0",
      "model_name": "HBoxModel",
      "state": {
       "children": [
        "IPY_MODEL_c2ea3065c88740ce81fd1b60f3844437",
        "IPY_MODEL_7eeb19ffb23644ca824d1f96346d199d"
       ],
       "layout": "IPY_MODEL_094af03731f64e93bef5e29f197e5400"
      }
     },
     "058e4ff390da43d6927852f05afedfc8": {
      "model_module": "@jupyter-widgets/controls",
      "model_module_version": "1.4.0",
      "model_name": "VBoxModel",
      "state": {
       "children": [
        "IPY_MODEL_4048056fd9a644cd9adae25fac611238"
       ],
       "layout": "IPY_MODEL_3539a202b73b46da93f27bdb033e9767"
      }
     },
     "05e22688799d40afb7653dbc9dc822d9": {
      "model_module": "@jupyter-widgets/controls",
      "model_module_version": "1.4.0",
      "model_name": "ButtonModel",
      "state": {
       "description": "Select ALL",
       "layout": "IPY_MODEL_848d83e5abfa473682905eaa675d1d60",
       "style": "IPY_MODEL_ba23999108f048a8b6f699531c861408"
      }
     },
     "05e8f875caf94e2693a3aac340466ea6": {
      "model_module": "@jupyter-widgets/controls",
      "model_module_version": "1.4.0",
      "model_name": "SelectMultipleModel",
      "state": {
       "_options_labels": [
        "Good data, use with confidence",
        "Marginal data, Useful, but look at other QA information",
        "Snow/Ice Target covered with snow/ice",
        "Cloudy data, Target not visible, covered with cloud"
       ],
       "description": "Description",
       "index": [
        0
       ],
       "layout": "IPY_MODEL_9968963eda7c43528d47a8e1db964bc1",
       "rows": 4,
       "style": "IPY_MODEL_f617886d9bac4d17b833bbdd0a0a468e"
      }
     },
     "060b7b96c4e64220b3f14fa101dd37dd": {
      "model_module": "@jupyter-widgets/controls",
      "model_module_version": "1.4.0",
      "model_name": "HTMLModel",
      "state": {
       "description": "QA layer:",
       "layout": "IPY_MODEL_04fd2c460ba04f20abc40432b055ae54",
       "style": "IPY_MODEL_2e08207dc2b24a1cb9f6fb381bc4a29c",
       "value": "<b>_1_km_16_days_VI_Quality</b>"
      }
     },
     "061b993b993549a19680cd06f0fc7b1d": {
      "model_module": "@jupyter-widgets/controls",
      "model_module_version": "1.4.0",
      "model_name": "HTMLModel",
      "state": {
       "description": "QA layer:",
       "layout": "IPY_MODEL_c05abb40ecad43f0b4d50a25261e7dfa",
       "style": "IPY_MODEL_150a07a378364ce9814f8bdd06abdb61",
       "value": "<b>_1_km_16_days_VI_Quality</b>"
      }
     },
     "0641ef1bf18d4a629cec1ccb4a11f292": {
      "model_module": "@jupyter-widgets/base",
      "model_module_version": "1.1.0",
      "model_name": "LayoutModel",
      "state": {
       "width": "400px"
      }
     },
     "0646030b1d574bf391586343eb47d359": {
      "model_module": "@jupyter-widgets/controls",
      "model_module_version": "1.4.0",
      "model_name": "ButtonModel",
      "state": {
       "description": "QA analytics",
       "layout": "IPY_MODEL_fc27629ce17d451a8166ad149620b233",
       "style": "IPY_MODEL_a03a7c46090c4283a56dd740716f5266"
      }
     },
     "06498e42077e4888bae5827de0a2f102": {
      "model_module": "@jupyter-widgets/controls",
      "model_module_version": "1.4.0",
      "model_name": "DescriptionStyleModel",
      "state": {
       "description_width": "initial"
      }
     },
     "064c7eb6cc5c4a518a0132159213069e": {
      "model_module": "@jupyter-widgets/controls",
      "model_module_version": "1.4.0",
      "model_name": "ProgressStyleModel",
      "state": {
       "description_width": "initial"
      }
     },
     "06632d5fc0dc493f80d7714b94e6a2d6": {
      "model_module": "@jupyter-widgets/controls",
      "model_module_version": "1.4.0",
      "model_name": "HBoxModel",
      "state": {
       "children": [
        "IPY_MODEL_7a47feb02993435998b20eb8d2912942",
        "IPY_MODEL_2e1b9bea68624ecc9af7e68a9f7f4ef6",
        "IPY_MODEL_1fdceeb6d61d4c21b8e51a24edfe0f78"
       ],
       "layout": "IPY_MODEL_3eb6df4f84c64d57978ad426b507420c"
      }
     },
     "06683aae51e24f019faf6d9788c98df0": {
      "model_module": "@jupyter-widgets/base",
      "model_module_version": "1.1.0",
      "model_name": "LayoutModel",
      "state": {
       "width": "400px"
      }
     },
     "066abc017b36405ebfdf22f8d061f2d7": {
      "model_module": "@jupyter-widgets/controls",
      "model_module_version": "1.4.0",
      "model_name": "DescriptionStyleModel",
      "state": {
       "description_width": "initial"
      }
     },
     "06907f4932e34d879638b52b3749f9fc": {
      "model_module": "@jupyter-widgets/controls",
      "model_module_version": "1.4.0",
      "model_name": "ButtonStyleModel",
      "state": {}
     },
     "06d3c8c314ae4602a919a611de4d5909": {
      "model_module": "@jupyter-widgets/base",
      "model_module_version": "1.1.0",
      "model_name": "LayoutModel",
      "state": {
       "height": "350px",
       "width": "99%"
      }
     },
     "06f3798cd43741c88320f56520861ff7": {
      "model_module": "@jupyter-widgets/base",
      "model_module_version": "1.1.0",
      "model_name": "LayoutModel",
      "state": {
       "width": "30%"
      }
     },
     "0730c9a238a74e948bcb2b42dde56df9": {
      "model_module": "@jupyter-widgets/base",
      "model_module_version": "1.1.0",
      "model_name": "LayoutModel",
      "state": {}
     },
     "075280ff991e4e57b45411286aa487b8": {
      "model_module": "@jupyter-widgets/base",
      "model_module_version": "1.1.0",
      "model_name": "LayoutModel",
      "state": {
       "width": "400px"
      }
     },
     "07677bb86e5a4cf39a7cf38f671dea3c": {
      "model_module": "@jupyter-widgets/controls",
      "model_module_version": "1.4.0",
      "model_name": "ButtonModel",
      "state": {
       "description": "Default selection",
       "layout": "IPY_MODEL_2397d79dbc5b4689a62c4f36fb34f522",
       "style": "IPY_MODEL_1321cdeaeba64387bb00189ea8be4f5c"
      }
     },
     "079d327d390142169d65c66772bb099c": {
      "model_module": "@jupyter-widgets/controls",
      "model_module_version": "1.4.0",
      "model_name": "HBoxModel",
      "state": {
       "children": [
        "IPY_MODEL_1163cbb12c714af49807325332af23ed",
        "IPY_MODEL_4b07bf9cf1904ee886255e675705fff0",
        "IPY_MODEL_50e994922821479d92187f837e947d57",
        "IPY_MODEL_54a8f0b3749748b7b870cd6b0abfe2c6",
        "IPY_MODEL_f5fce8e7c3ce49cd86a1cbbd4184cd88"
       ],
       "layout": "IPY_MODEL_f6557685897e42a182cce4400f6ab39c"
      }
     },
     "07b69bed9bfb41f49da601f9506a0c35": {
      "model_module": "@jupyter-widgets/controls",
      "model_module_version": "1.4.0",
      "model_name": "DescriptionStyleModel",
      "state": {
       "description_width": "initial"
      }
     },
     "07cd8d62d7e0437a9bdbf418326a94aa": {
      "model_module": "@jupyter-widgets/controls",
      "model_module_version": "1.4.0",
      "model_name": "SelectMultipleModel",
      "state": {
       "_options_labels": [
        "VI produced, good quality",
        "VI produced, but check other QA",
        "Pixel produced, but most probably cloudy",
        "Pixel not produced due to other reasons than clouds"
       ],
       "description": "Description",
       "index": [
        0
       ],
       "layout": "IPY_MODEL_df7496f883ad41e7b3503e1893fe69bb",
       "rows": 4,
       "style": "IPY_MODEL_76ede610c65647529380081b40377804"
      }
     },
     "07e56314e17c449ab61bb15a5db47634": {
      "model_module": "@jupyter-widgets/base",
      "model_module_version": "1.1.0",
      "model_name": "LayoutModel",
      "state": {}
     },
     "0803d1479974468fbc032f0f12ddaf0f": {
      "model_module": "@jupyter-widgets/base",
      "model_module_version": "1.1.0",
      "model_name": "LayoutModel",
      "state": {}
     },
     "081394b0144644ae811114b83e5fe1cd": {
      "model_module": "@jupyter-widgets/base",
      "model_module_version": "1.1.0",
      "model_name": "LayoutModel",
      "state": {
       "width": "400px"
      }
     },
     "08225e7b8e744f4bb47a7c8435a149de": {
      "model_module": "@jupyter-widgets/base",
      "model_module_version": "1.1.0",
      "model_name": "LayoutModel",
      "state": {
       "width": "20%"
      }
     },
     "08681ec616594ab5b7c886705b482e4c": {
      "model_module": "@jupyter-widgets/controls",
      "model_module_version": "1.4.0",
      "model_name": "ButtonModel",
      "state": {
       "description": "Select ALL",
       "layout": "IPY_MODEL_d7589883c2564030a1d27c4107be68e5",
       "style": "IPY_MODEL_db0ed4ef4d8042aebb776312a67901e3"
      }
     },
     "086ddf4760514770be93e4c3062c0e2a": {
      "model_module": "@jupyter-widgets/base",
      "model_module_version": "1.1.0",
      "model_name": "LayoutModel",
      "state": {}
     },
     "0876b48354694ae5b29cb6a8a21a6bdc": {
      "model_module": "@jupyter-widgets/controls",
      "model_module_version": "1.4.0",
      "model_name": "SelectModel",
      "state": {
       "_options_labels": [
        "MODLAND",
        "VI Usefulness",
        "Aerosol Quantity",
        "Adjacent cloud detected",
        "Atmosphere BRDF Correction",
        "Mixed Clouds",
        "Land/Water Mask",
        "Possible snow/ice",
        "Possible shadow"
       ],
       "description": "QA Parameter name:",
       "index": 0,
       "layout": "IPY_MODEL_72ff21b784564cc282b6921a528ebf2e",
       "rows": 9,
       "style": "IPY_MODEL_a6c94002f5fc4ddcbbecc64512b13eb0"
      }
     },
     "0895a4464aa647ed8bcd168c2b082afc": {
      "model_module": "@jupyter-widgets/base",
      "model_module_version": "1.1.0",
      "model_name": "LayoutModel",
      "state": {
       "width": "20%"
      }
     },
     "08c1ba36a5b344e1a61d271f11ca7167": {
      "model_module": "@jupyter-widgets/base",
      "model_module_version": "1.1.0",
      "model_name": "LayoutModel",
      "state": {
       "width": "400px"
      }
     },
     "08fc074dda834c7184d1d721baa9f296": {
      "model_module": "@jupyter-widgets/base",
      "model_module_version": "1.1.0",
      "model_name": "LayoutModel",
      "state": {
       "width": "20%"
      }
     },
     "0909e03188db450aa7bf107aa6fdc746": {
      "model_module": "@jupyter-widgets/base",
      "model_module_version": "1.1.0",
      "model_name": "LayoutModel",
      "state": {
       "width": "50%"
      }
     },
     "093da263196b447f88cf6f921aef316c": {
      "model_module": "@jupyter-widgets/base",
      "model_module_version": "1.1.0",
      "model_name": "LayoutModel",
      "state": {}
     },
     "094af03731f64e93bef5e29f197e5400": {
      "model_module": "@jupyter-widgets/base",
      "model_module_version": "1.1.0",
      "model_name": "LayoutModel",
      "state": {
       "height": "200px",
       "width": "99%"
      }
     },
     "09562fa34a0c4d1f98253c66928fc10f": {
      "model_module": "@jupyter-widgets/base",
      "model_module_version": "1.1.0",
      "model_name": "LayoutModel",
      "state": {}
     },
     "0962c92e08ac4b6d8d394e87a7dbd062": {
      "model_module": "@jupyter-widgets/controls",
      "model_module_version": "1.4.0",
      "model_name": "ButtonModel",
      "state": {
       "description": "Select ALL",
       "layout": "IPY_MODEL_7a3005bffd4f49cc8feb11c7cfb18466",
       "style": "IPY_MODEL_a4c7576ddf63466b9b5bca8991a7d26c"
      }
     },
     "0963559de78941d8b149c6c24206371f": {
      "model_module": "@jupyter-widgets/controls",
      "model_module_version": "1.4.0",
      "model_name": "HBoxModel",
      "state": {
       "children": [
        "IPY_MODEL_624d050331aa467eada99653e32a44ac",
        "IPY_MODEL_3e2073bd977d47b596f1f7b2ff3cc140",
        "IPY_MODEL_dd19f5dfa7bb4be1b8120741eaabe4f4"
       ],
       "layout": "IPY_MODEL_61366a1fadc34b21ba5e038b12a9a63e"
      }
     },
     "09891aea639b4dd789b05e464481a157": {
      "model_module": "@jupyter-widgets/base",
      "model_module_version": "1.1.0",
      "model_name": "LayoutModel",
      "state": {
       "width": "20%"
      }
     },
     "09cf0a0d028748549ee3ecbf1eeac748": {
      "model_module": "@jupyter-widgets/controls",
      "model_module_version": "1.4.0",
      "model_name": "ButtonModel",
      "state": {
       "description": "Default selection",
       "layout": "IPY_MODEL_27c2c7c675cc4858a184a4cc4b70e0a4",
       "style": "IPY_MODEL_1b54900f14004f408712dca575e441c4"
      }
     },
     "09efffc7584242fea9da9e6fcc612eab": {
      "model_module": "@jupyter-widgets/base",
      "model_module_version": "1.1.0",
      "model_name": "LayoutModel",
      "state": {}
     },
     "0a0b20d59cb6440a9152ef1db77f8c01": {
      "model_module": "@jupyter-widgets/base",
      "model_module_version": "1.1.0",
      "model_name": "LayoutModel",
      "state": {
       "width": "50%"
      }
     },
     "0a1baaa7a46a40f18b93a6175c548bba": {
      "model_module": "@jupyter-widgets/base",
      "model_module_version": "1.1.0",
      "model_name": "LayoutModel",
      "state": {
       "width": "50%"
      }
     },
     "0a2949cf914644c1a1bce9a3844ed794": {
      "model_module": "@jupyter-widgets/controls",
      "model_module_version": "1.4.0",
      "model_name": "DescriptionStyleModel",
      "state": {
       "description_width": "initial"
      }
     },
     "0a383c41cf744923b93e4c9c3a7485dc": {
      "model_module": "@jupyter-widgets/base",
      "model_module_version": "1.1.0",
      "model_name": "LayoutModel",
      "state": {
       "width": "20%"
      }
     },
     "0a3fdc0a29444cc7a7dd89698b0fb279": {
      "model_module": "@jupyter-widgets/controls",
      "model_module_version": "1.4.0",
      "model_name": "HTMLModel",
      "state": {
       "description": "QA layer:",
       "layout": "IPY_MODEL_6f7c528f2c8b4ab79f3a85f6e7d9c10a",
       "style": "IPY_MODEL_d113c7d53da24ad2a2fc26ad304665d9",
       "value": "<b>_1_km_16_days_VI_Quality</b>"
      }
     },
     "0a68b17e81f44f528bf13fbd597ee2e9": {
      "model_module": "@jupyter-widgets/controls",
      "model_module_version": "1.4.0",
      "model_name": "HBoxModel",
      "state": {
       "children": [
        "IPY_MODEL_2e157b567b8e4ce1bb74824576afd43d",
        "IPY_MODEL_6f844d6eb59b4eca88fbe467002a0d4f"
       ],
       "layout": "IPY_MODEL_570631ef64d34985aa4419e0e56b633e"
      }
     },
     "0b1746c0054b406381838007aa48bfb2": {
      "model_module": "@jupyter-widgets/controls",
      "model_module_version": "1.4.0",
      "model_name": "HTMLModel",
      "state": {
       "description": "QA layer:",
       "layout": "IPY_MODEL_ddc0715aec5c4436b9f6a7732d4d1cc6",
       "style": "IPY_MODEL_cfc9346e0eeb4cd7a55d3bc366da1113",
       "value": "<b>_1_km_16_days_VI_Quality</b>"
      }
     },
     "0b1d06c1ddb14140bbef9dd011ac8443": {
      "model_module": "@jupyter-widgets/controls",
      "model_module_version": "1.4.0",
      "model_name": "HBoxModel",
      "state": {
       "children": [
        "IPY_MODEL_6ff18d46b22147539215ae1b1759739b",
        "IPY_MODEL_bdcf2a8fc9a8456db4c68d98475050e3",
        "IPY_MODEL_1f765ab97a55415899415d72936dc98a"
       ],
       "layout": "IPY_MODEL_62b87c49856846309157e1ad0e3c97c6"
      }
     },
     "0b72c69063d44946bd4d5c621a954f9c": {
      "model_module": "@jupyter-widgets/base",
      "model_module_version": "1.1.0",
      "model_name": "LayoutModel",
      "state": {}
     },
     "0b7fb4db6b284dc885fe0ea8c0b71842": {
      "model_module": "@jupyter-widgets/controls",
      "model_module_version": "1.4.0",
      "model_name": "ButtonModel",
      "state": {
       "description": "Select ALL",
       "layout": "IPY_MODEL_cc4c8f2f9caf4dfbbc6a949daea1db6c",
       "style": "IPY_MODEL_ad1279537e074363af57b271901f7a13"
      }
     },
     "0bc74b84fc88448993990dc484441f29": {
      "model_module": "@jupyter-widgets/controls",
      "model_module_version": "1.4.0",
      "model_name": "VBoxModel",
      "state": {
       "children": [
        "IPY_MODEL_41f7ced26fdc4a89806d3dcf60b4c9b6"
       ],
       "layout": "IPY_MODEL_abc8a4e1f11a4b6a8d356d4cea406683"
      }
     },
     "0c19fd283539455d875ecf05e6c8c039": {
      "model_module": "@jupyter-widgets/base",
      "model_module_version": "1.1.0",
      "model_name": "LayoutModel",
      "state": {}
     },
     "0c1f43ab0b8049f6b3e521dfc13e88f5": {
      "model_module": "@jupyter-widgets/base",
      "model_module_version": "1.1.0",
      "model_name": "LayoutModel",
      "state": {
       "width": "400px"
      }
     },
     "0c203d6ef98747acb55133e9dc3ca8d8": {
      "model_module": "@jupyter-widgets/base",
      "model_module_version": "1.1.0",
      "model_name": "LayoutModel",
      "state": {
       "width": "400px"
      }
     },
     "0c223f8e75e0485b835285595b78f9fe": {
      "model_module": "@jupyter-widgets/base",
      "model_module_version": "1.1.0",
      "model_name": "LayoutModel",
      "state": {}
     },
     "0c3ecf5a2d7f4efc8f1cbb64522a1d56": {
      "model_module": "@jupyter-widgets/base",
      "model_module_version": "1.1.0",
      "model_name": "LayoutModel",
      "state": {
       "width": "400px"
      }
     },
     "0cac349d40e14e598854fb7669976aa7": {
      "model_module": "@jupyter-widgets/base",
      "model_module_version": "1.1.0",
      "model_name": "LayoutModel",
      "state": {
       "width": "20%"
      }
     },
     "0cb15f86f316478f917b7305ff00bbad": {
      "model_module": "@jupyter-widgets/controls",
      "model_module_version": "1.4.0",
      "model_name": "ButtonModel",
      "state": {
       "description": "Default selection",
       "layout": "IPY_MODEL_a284776e6f4b4c73bec7e6c9d6054816",
       "style": "IPY_MODEL_e2745682ea334edfad94031610851668"
      }
     },
     "0cfc670b52b2499788d6049a63b5c1fa": {
      "model_module": "@jupyter-widgets/base",
      "model_module_version": "1.1.0",
      "model_name": "LayoutModel",
      "state": {
       "width": "400px"
      }
     },
     "0d1ea90fc73f4bf695e5e5a440c61fea": {
      "model_module": "@jupyter-widgets/controls",
      "model_module_version": "1.4.0",
      "model_name": "ButtonModel",
      "state": {
       "description": "Select ALL",
       "layout": "IPY_MODEL_21b123bc10454efda4f1638cfe53cc39",
       "style": "IPY_MODEL_918c7c457e0b438fa481c3cdf72d8694"
      }
     },
     "0d366115377040c296a2e11af45b7a6a": {
      "model_module": "@jupyter-widgets/controls",
      "model_module_version": "1.4.0",
      "model_name": "ButtonModel",
      "state": {
       "description": "Default selection",
       "layout": "IPY_MODEL_760c48f7bd9142008540a0d17255d1d7",
       "style": "IPY_MODEL_e7c62eb1f55a42c58ca598690d4f6b8e"
      }
     },
     "0d453c892154499ab192f604d45c71b1": {
      "model_module": "@jupyter-widgets/controls",
      "model_module_version": "1.4.0",
      "model_name": "DescriptionStyleModel",
      "state": {
       "description_width": "initial"
      }
     },
     "0d5f46beb7f246daa7007c761e9b622b": {
      "model_module": "@jupyter-widgets/base",
      "model_module_version": "1.1.0",
      "model_name": "LayoutModel",
      "state": {
       "width": "20%"
      }
     },
     "0d627ee69bc146f280fc8969d43389e5": {
      "model_module": "@jupyter-widgets/controls",
      "model_module_version": "1.4.0",
      "model_name": "ButtonModel",
      "state": {
       "description": "Select ALL",
       "layout": "IPY_MODEL_bcf8d6b59f174a9abf4cf25a5d307737",
       "style": "IPY_MODEL_137c2b0130bd43cb8a103f395eba4363"
      }
     },
     "0db7ed4aede84a07b378fc860cad3c8c": {
      "model_module": "@jupyter-widgets/controls",
      "model_module_version": "1.4.0",
      "model_name": "ButtonStyleModel",
      "state": {}
     },
     "0dcd2b87b4b144a9b4a63eb2efc2cee7": {
      "model_module": "@jupyter-widgets/controls",
      "model_module_version": "1.4.0",
      "model_name": "ButtonModel",
      "state": {
       "description": "Select ALL",
       "layout": "IPY_MODEL_ca4bc37d01cb449db39457e4b392cebd",
       "style": "IPY_MODEL_3ab12e99723946329c761cceefb190b7"
      }
     },
     "0de453db826347a9aafa5acf2e83588d": {
      "model_module": "@jupyter-widgets/controls",
      "model_module_version": "1.4.0",
      "model_name": "ButtonStyleModel",
      "state": {}
     },
     "0dfffa79b7eb4a1b909cbd17daa98179": {
      "model_module": "@jupyter-widgets/controls",
      "model_module_version": "1.4.0",
      "model_name": "SelectMultipleModel",
      "state": {
       "_options_labels": [
        "linear",
        "nearest",
        "zero",
        "slinear",
        "quadratic",
        "cubic",
        "barycentric",
        "krog",
        "pchip",
        "spline",
        "akima"
       ],
       "description": "Interpolation methods",
       "index": [
        0,
        4,
        8,
        10
       ],
       "layout": "IPY_MODEL_7008f6129f73472398cb3b89bd575ac2",
       "rows": 11,
       "style": "IPY_MODEL_64ec8cd32345488bb4af3327cdef193f"
      }
     },
     "0e04b0f48ded4fe0bae872ab793d4490": {
      "model_module": "@jupyter-widgets/controls",
      "model_module_version": "1.4.0",
      "model_name": "ButtonStyleModel",
      "state": {}
     },
     "0e24dd01646144f58c4d92fe2c97d552": {
      "model_module": "@jupyter-widgets/controls",
      "model_module_version": "1.4.0",
      "model_name": "HBoxModel",
      "state": {
       "children": [
        "IPY_MODEL_4daf4afcab8946609bcf6f161619d363",
        "IPY_MODEL_fadf6ec74aba416281aff0b6a5704999",
        "IPY_MODEL_29fcf80829ca4754bef8db6f75067eda",
        "IPY_MODEL_e9528f60ec684fa5a50665aeba05c167"
       ],
       "layout": "IPY_MODEL_64f7d7e8a5384be6aff81da5fb63f495"
      }
     },
     "0e4c33e692d84618ae660c66f14fe888": {
      "model_module": "@jupyter-widgets/controls",
      "model_module_version": "1.4.0",
      "model_name": "ButtonStyleModel",
      "state": {}
     },
     "0e4f2f0eab9f47ee91397f1fd1c8efb9": {
      "model_module": "@jupyter-widgets/base",
      "model_module_version": "1.1.0",
      "model_name": "LayoutModel",
      "state": {}
     },
     "0e62a609e9f543cabde53d9c083d601e": {
      "model_module": "@jupyter-widgets/controls",
      "model_module_version": "1.4.0",
      "model_name": "ButtonStyleModel",
      "state": {}
     },
     "0e79237d7c02468b98fa75358d40c427": {
      "model_module": "@jupyter-widgets/controls",
      "model_module_version": "1.4.0",
      "model_name": "DescriptionStyleModel",
      "state": {
       "description_width": ""
      }
     },
     "0e965bdf67fc43de8593f8f854aeba52": {
      "model_module": "@jupyter-widgets/controls",
      "model_module_version": "1.4.0",
      "model_name": "SelectModel",
      "state": {
       "_options_labels": [
        "MODLAND"
       ],
       "description": "QA Parameter name:",
       "index": 0,
       "layout": "IPY_MODEL_d20d72e9e0b14f4d83018370fb5f1bc9",
       "rows": 1,
       "style": "IPY_MODEL_e9624f5298a6411bba644df83eb4ccf9"
      }
     },
     "0ea50f36b4b240bda3ae9977bfcc7ef9": {
      "model_module": "@jupyter-widgets/base",
      "model_module_version": "1.1.0",
      "model_name": "LayoutModel",
      "state": {}
     },
     "0ec7b17239374d958da8aad790a8f3d0": {
      "model_module": "@jupyter-widgets/base",
      "model_module_version": "1.1.0",
      "model_name": "LayoutModel",
      "state": {
       "width": "20%"
      }
     },
     "0ef4aafff3654812bd030f8abd45024b": {
      "model_module": "@jupyter-widgets/base",
      "model_module_version": "1.1.0",
      "model_name": "LayoutModel",
      "state": {
       "height": "200px",
       "width": "99%"
      }
     },
     "0f166cd47bbe4db8af8f1af9c5c1476f": {
      "model_module": "@jupyter-widgets/controls",
      "model_module_version": "1.4.0",
      "model_name": "IntProgressModel",
      "state": {
       "description": "Computing max gap length...",
       "layout": "IPY_MODEL_90a1b806194f43ab8cc9bbe870d58201",
       "max": 1440000,
       "style": "IPY_MODEL_79f579763ecf4bbbafb67c5341700eee",
       "value": 14756
      }
     },
     "0f2fe90ad3794b9984f13998b8dda9fe": {
      "model_module": "@jupyter-widgets/base",
      "model_module_version": "1.1.0",
      "model_name": "LayoutModel",
      "state": {}
     },
     "0f5f4d0ced994ff5bb674be0f02c77e0": {
      "model_module": "@jupyter-widgets/controls",
      "model_module_version": "1.4.0",
      "model_name": "HTMLModel",
      "state": {
       "description": "QA layer:",
       "layout": "IPY_MODEL_61a5996821684378b6d3679e198377c7",
       "style": "IPY_MODEL_b81ec450cf174962942d3bfcdb946dfe",
       "value": "<b>_1_km_16_days_pixel_reliability</b>"
      }
     },
     "0f67cdb9227048479caff2764e681f68": {
      "model_module": "@jupyter-widgets/controls",
      "model_module_version": "1.4.0",
      "model_name": "ButtonStyleModel",
      "state": {}
     },
     "0f709ebe198d40999aebe87bbea653ec": {
      "model_module": "@jupyter-widgets/controls",
      "model_module_version": "1.4.0",
      "model_name": "VBoxModel",
      "state": {
       "children": [
        "IPY_MODEL_8b851cf553a94ff7969adbc979fa175e"
       ],
       "layout": "IPY_MODEL_65ab104d8e184bfbad9c7547365dc882"
      }
     },
     "0f72ac2918154b859ba2117750e473c6": {
      "model_module": "@jupyter-widgets/base",
      "model_module_version": "1.1.0",
      "model_name": "LayoutModel",
      "state": {}
     },
     "0f8d1030b4894254adfc4b4417a0baa4": {
      "model_module": "@jupyter-widgets/controls",
      "model_module_version": "1.4.0",
      "model_name": "ButtonModel",
      "state": {
       "description": "Default selection",
       "layout": "IPY_MODEL_3750a09228234ee08cb676d83a8b713a",
       "style": "IPY_MODEL_5022a4c6335f4c2c955ed66da52f7d84"
      }
     },
     "0fa7cab60afa4132b45c90a2b3208bd4": {
      "model_module": "@jupyter-widgets/controls",
      "model_module_version": "1.4.0",
      "model_name": "ButtonStyleModel",
      "state": {}
     },
     "0fd3e4f0b8ef4e7aa052d0ea15b4a399": {
      "model_module": "@jupyter-widgets/base",
      "model_module_version": "1.1.0",
      "model_name": "LayoutModel",
      "state": {
       "width": "20%"
      }
     },
     "0fe1c182ae7546668b3d481ba149ff7e": {
      "model_module": "@jupyter-widgets/base",
      "model_module_version": "1.1.0",
      "model_name": "LayoutModel",
      "state": {
       "height": "300px",
       "width": "99%"
      }
     },
     "10095ffa10a7459780c928edb7ff6548": {
      "model_module": "@jupyter-widgets/controls",
      "model_module_version": "1.4.0",
      "model_name": "HTMLModel",
      "state": {
       "description": "QA layer:",
       "layout": "IPY_MODEL_ae5d1b456c49495fa5c2b212c3efd6c2",
       "style": "IPY_MODEL_618492c7566d41d7b93bb1fcd9a1be80",
       "value": "<b>_1_km_16_days_VI_Quality</b>"
      }
     },
     "1019d200dd5e4127a1f0638e6edc30c3": {
      "model_module": "@jupyter-widgets/base",
      "model_module_version": "1.1.0",
      "model_name": "LayoutModel",
      "state": {
       "width": "30%"
      }
     },
     "10c5352651ec40b19a178b178f1c5bc1": {
      "model_module": "@jupyter-widgets/base",
      "model_module_version": "1.1.0",
      "model_name": "LayoutModel",
      "state": {
       "width": "50%"
      }
     },
     "110460a919114d6d868f7bffc39a72f6": {
      "model_module": "@jupyter-widgets/controls",
      "model_module_version": "1.4.0",
      "model_name": "ButtonStyleModel",
      "state": {}
     },
     "1123933e3ebd49ce88fe40c0e0798f02": {
      "model_module": "@jupyter-widgets/controls",
      "model_module_version": "1.4.0",
      "model_name": "HTMLModel",
      "state": {
       "description": "QA layer:",
       "layout": "IPY_MODEL_cd95123da3c74b2881beaf98d832b54e",
       "style": "IPY_MODEL_cd3333debf1041b0b95612f19fa47f9b",
       "value": "<b>_1_km_16_days_VI_Quality</b>"
      }
     },
     "112cdb285da040aa8ec2377991efe4fe": {
      "model_module": "@jupyter-widgets/controls",
      "model_module_version": "1.4.0",
      "model_name": "HBoxModel",
      "state": {
       "children": [
        "IPY_MODEL_d4fdf635475b45c99649273055dd3cff",
        "IPY_MODEL_8542350df8d94276b12672b297514ba8"
       ],
       "layout": "IPY_MODEL_bab35d3d57c54920b3c0c0db55f765e7"
      }
     },
     "115397dd86f548c8bbf6d0d6bc3a7685": {
      "model_module": "@jupyter-widgets/controls",
      "model_module_version": "1.4.0",
      "model_name": "HBoxModel",
      "state": {
       "children": [
        "IPY_MODEL_53702125c8e54d37b3944fc945ed0569",
        "IPY_MODEL_fdec7c6e39764bac8ee5a7ffdc5d924f",
        "IPY_MODEL_65127ee2cfad49e0b2f136130be4dc44"
       ],
       "layout": "IPY_MODEL_65d349baef1a49718b565cc42ae097ed"
      }
     },
     "1163cbb12c714af49807325332af23ed": {
      "model_module": "@jupyter-widgets/controls",
      "model_module_version": "1.4.0",
      "model_name": "ButtonModel",
      "state": {
       "description": "Select ALL",
       "layout": "IPY_MODEL_e59d97b096f54b8c9935bb53518bdd00",
       "style": "IPY_MODEL_33621953e00946a683f1dd28078e1a26"
      }
     },
     "11722d9a1eb84b81a268257afa24a43d": {
      "model_module": "@jupyter-widgets/controls",
      "model_module_version": "1.4.0",
      "model_name": "SelectMultipleModel",
      "state": {
       "_options_labels": [
        "Good data, use with confidence",
        "Marginal data, Useful, but look at other QA information",
        "Snow/Ice Target covered with snow/ice",
        "Cloudy data, Target not visible, covered with cloud"
       ],
       "description": "Description",
       "index": [
        0
       ],
       "layout": "IPY_MODEL_8f76af7caf93473cbf063251e1c93719",
       "rows": 4,
       "style": "IPY_MODEL_9eba561f64d141ee990373341574daee"
      }
     },
     "11806b3b4f17413b83e08305d7303fac": {
      "model_module": "@jupyter-widgets/base",
      "model_module_version": "1.1.0",
      "model_name": "LayoutModel",
      "state": {
       "width": "20%"
      }
     },
     "11b92ebe95c44d979f434a621b378df2": {
      "model_module": "@jupyter-widgets/base",
      "model_module_version": "1.1.0",
      "model_name": "LayoutModel",
      "state": {
       "width": "20%"
      }
     },
     "11c083c86d2b419e8f2f379206d18b10": {
      "model_module": "@jupyter-widgets/controls",
      "model_module_version": "1.4.0",
      "model_name": "DescriptionStyleModel",
      "state": {
       "description_width": ""
      }
     },
     "11e5bae68a9d42d19647897c53e1244c": {
      "model_module": "@jupyter-widgets/base",
      "model_module_version": "1.1.0",
      "model_name": "LayoutModel",
      "state": {
       "height": "350px",
       "width": "99%"
      }
     },
     "11fd92e9e7284289bec33b19db0c6547": {
      "model_module": "@jupyter-widgets/base",
      "model_module_version": "1.1.0",
      "model_name": "LayoutModel",
      "state": {
       "width": "400px"
      }
     },
     "120945fac4c945a2ad5c617ccb5201c3": {
      "model_module": "@jupyter-widgets/base",
      "model_module_version": "1.1.0",
      "model_name": "LayoutModel",
      "state": {
       "width": "50%"
      }
     },
     "122038fbf76844088f5500bf6cbac854": {
      "model_module": "@jupyter-widgets/base",
      "model_module_version": "1.1.0",
      "model_name": "LayoutModel",
      "state": {
       "width": "50%"
      }
     },
     "1248ab1901c047eb9d926a1f0db6ed3c": {
      "model_module": "@jupyter-widgets/base",
      "model_module_version": "1.1.0",
      "model_name": "LayoutModel",
      "state": {}
     },
     "127923edfe184be0ab35f94b5e1059c5": {
      "model_module": "@jupyter-widgets/base",
      "model_module_version": "1.1.0",
      "model_name": "LayoutModel",
      "state": {
       "height": "300px",
       "width": "99%"
      }
     },
     "1288e162fc4443bd882e1fceb4c4a9dc": {
      "model_module": "@jupyter-widgets/base",
      "model_module_version": "1.1.0",
      "model_name": "LayoutModel",
      "state": {
       "width": "400px"
      }
     },
     "1293c5335dc04acfb3bc6bee8962fbc0": {
      "model_module": "@jupyter-widgets/controls",
      "model_module_version": "1.4.0",
      "model_name": "DescriptionStyleModel",
      "state": {
       "description_width": ""
      }
     },
     "12bac710042143f88f675e70662b5bba": {
      "model_module": "@jupyter-widgets/controls",
      "model_module_version": "1.4.0",
      "model_name": "ButtonModel",
      "state": {
       "description": "Default selection",
       "layout": "IPY_MODEL_3047c53770ec49aab3216f51456ea688",
       "style": "IPY_MODEL_8bb26497835143b2a3debd18ef938afa"
      }
     },
     "12dd10672b32451eb87adadd520fc344": {
      "model_module": "@jupyter-widgets/controls",
      "model_module_version": "1.4.0",
      "model_name": "ButtonStyleModel",
      "state": {}
     },
     "1321cdeaeba64387bb00189ea8be4f5c": {
      "model_module": "@jupyter-widgets/controls",
      "model_module_version": "1.4.0",
      "model_name": "ButtonStyleModel",
      "state": {}
     },
     "1359ad95eed74adf9fda865364ad4abf": {
      "model_module": "@jupyter-widgets/controls",
      "model_module_version": "1.4.0",
      "model_name": "ButtonModel",
      "state": {
       "description": "Default selection",
       "layout": "IPY_MODEL_c9ba821732e848e58facfaea2bfd1cd2",
       "style": "IPY_MODEL_17e810b64f89441899322c4c2192bc52"
      }
     },
     "137c2b0130bd43cb8a103f395eba4363": {
      "model_module": "@jupyter-widgets/controls",
      "model_module_version": "1.4.0",
      "model_name": "ButtonStyleModel",
      "state": {}
     },
     "138563f039854c5ebe13ce908372bd40": {
      "model_module": "@jupyter-widgets/controls",
      "model_module_version": "1.4.0",
      "model_name": "ButtonStyleModel",
      "state": {}
     },
     "13ed238c21694b25af66597c6216d099": {
      "model_module": "@jupyter-widgets/controls",
      "model_module_version": "1.4.0",
      "model_name": "DescriptionStyleModel",
      "state": {
       "description_width": "initial"
      }
     },
     "13f900f9989e45a498df4e20172817a1": {
      "model_module": "@jupyter-widgets/base",
      "model_module_version": "1.1.0",
      "model_name": "LayoutModel",
      "state": {}
     },
     "13fa70f069774f02a6864f60bbea6432": {
      "model_module": "@jupyter-widgets/controls",
      "model_module_version": "1.4.0",
      "model_name": "DropdownModel",
      "state": {
       "_options_labels": [
        "_1_km_16_days_EVI",
        "_1_km_16_days_MIR_reflectance",
        "_1_km_16_days_NDVI",
        "_1_km_16_days_NIR_reflectance",
        "_1_km_16_days_VI_Quality",
        "_1_km_16_days_blue_reflectance",
        "_1_km_16_days_composite_day_of_the_year",
        "_1_km_16_days_pixel_reliability",
        "_1_km_16_days_red_reflectance",
        "_1_km_16_days_relative_azimuth_angle",
        "_1_km_16_days_sun_zenith_angle",
        "_1_km_16_days_view_zenith_angle"
       ],
       "description": "Data variables:",
       "index": 0,
       "layout": "IPY_MODEL_c7284045d2c74370991c6aeba6546258",
       "style": "IPY_MODEL_fdd196f2a54f436288327339852502c3"
      }
     },
     "1420dbfcf1f946b88cff3a0cfcf86859": {
      "model_module": "@jupyter-widgets/controls",
      "model_module_version": "1.4.0",
      "model_name": "ButtonModel",
      "state": {
       "description": "Create mask and max gap length",
       "layout": "IPY_MODEL_19c96c1748a243a8b47e361bf1634da3",
       "style": "IPY_MODEL_c168dbb147ca41478e115c4d355a0559"
      }
     },
     "1439d407b9db4a3d86f112e5151207f8": {
      "model_module": "@jupyter-widgets/controls",
      "model_module_version": "1.4.0",
      "model_name": "HBoxModel",
      "state": {
       "children": [
        "IPY_MODEL_8aac1537c3864b36ae9404bc64b1c1e3",
        "IPY_MODEL_c1bdf4a75f604103804d55abf1a6a25b",
        "IPY_MODEL_b4f5e2a7bc844f1f912b3c5e3d127d30",
        "IPY_MODEL_7d76ad2290be4b47877f6ca200600282"
       ],
       "layout": "IPY_MODEL_06d3c8c314ae4602a919a611de4d5909"
      }
     },
     "1455f5f5ad8f48ec81a513bd44a861d7": {
      "model_module": "@jupyter-widgets/controls",
      "model_module_version": "1.4.0",
      "model_name": "SelectMultipleModel",
      "state": {
       "_options_labels": [
        "VI produced, good quality",
        "VI produced, but check other QA",
        "Pixel produced, but most probably cloudy",
        "Pixel not produced due to other reasons than clouds"
       ],
       "description": "Description",
       "index": [
        0
       ],
       "layout": "IPY_MODEL_075280ff991e4e57b45411286aa487b8",
       "rows": 4,
       "style": "IPY_MODEL_03b67576852f4a439fec3191a4e1d167"
      }
     },
     "147335332e414a29b69ccfe3d42fcc66": {
      "model_module": "@jupyter-widgets/controls",
      "model_module_version": "1.4.0",
      "model_name": "ButtonModel",
      "state": {
       "description": "Default selection",
       "layout": "IPY_MODEL_09891aea639b4dd789b05e464481a157",
       "style": "IPY_MODEL_2cddd8f3ea8a4973955295bf64754e25"
      }
     },
     "147e953ef1a84af5aa822410437b5e42": {
      "model_module": "@jupyter-widgets/base",
      "model_module_version": "1.1.0",
      "model_name": "LayoutModel",
      "state": {
       "width": "400px"
      }
     },
     "148eafa7397f47f8a893af4b850e2910": {
      "model_module": "@jupyter-widgets/controls",
      "model_module_version": "1.4.0",
      "model_name": "SelectModel",
      "state": {
       "_options_labels": [
        "MODLAND",
        "VI Usefulness",
        "Aerosol Quantity",
        "Adjacent cloud detected",
        "Atmosphere BRDF Correction",
        "Mixed Clouds",
        "Land/Water Mask",
        "Possible snow/ice",
        "Possible shadow"
       ],
       "description": "QA Parameter name:",
       "index": 0,
       "layout": "IPY_MODEL_83ae6899af82490aa42fc41ad81c847e",
       "rows": 9,
       "style": "IPY_MODEL_4dba8375cb064b1da6bbfcd0b4198088"
      }
     },
     "14c221ea8124410a9839ac7579144b81": {
      "model_module": "@jupyter-widgets/base",
      "model_module_version": "1.1.0",
      "model_name": "LayoutModel",
      "state": {
       "width": "20%"
      }
     },
     "14ef014eb3cd4694a03fa7d15daf71b5": {
      "model_module": "@jupyter-widgets/base",
      "model_module_version": "1.1.0",
      "model_name": "LayoutModel",
      "state": {
       "width": "20%"
      }
     },
     "1506581605334134baa59296d702dae1": {
      "model_module": "@jupyter-widgets/controls",
      "model_module_version": "1.4.0",
      "model_name": "VBoxModel",
      "state": {
       "children": [
        "IPY_MODEL_73656e9ae27b4fa79c26dacd2524d8be"
       ],
       "layout": "IPY_MODEL_56fa71f71c7d4fc0a12dbd3c81e162bc"
      }
     },
     "150a07a378364ce9814f8bdd06abdb61": {
      "model_module": "@jupyter-widgets/controls",
      "model_module_version": "1.4.0",
      "model_name": "DescriptionStyleModel",
      "state": {
       "description_width": ""
      }
     },
     "15107522eb3a4d1593a38724b99c6e20": {
      "model_module": "@jupyter-widgets/controls",
      "model_module_version": "1.4.0",
      "model_name": "SelectMultipleModel",
      "state": {
       "_options_labels": [
        "VI produced, good quality",
        "VI produced, but check other QA",
        "Pixel produced, but most probably cloudy",
        "Pixel not produced due to other reasons than clouds"
       ],
       "description": "Description",
       "index": [
        0
       ],
       "layout": "IPY_MODEL_02de2a24cfbe4a76a46b5251ead96a25",
       "rows": 4,
       "style": "IPY_MODEL_dfbffee918c44d21b3310380e0c682c7"
      }
     },
     "151a9f1994424c52bd8e3b8857d4c5b3": {
      "model_module": "@jupyter-widgets/controls",
      "model_module_version": "1.4.0",
      "model_name": "DescriptionStyleModel",
      "state": {
       "description_width": "initial"
      }
     },
     "157ad0ce64ab488389736479595a6dbb": {
      "model_module": "@jupyter-widgets/base",
      "model_module_version": "1.1.0",
      "model_name": "LayoutModel",
      "state": {
       "width": "400px"
      }
     },
     "15911de183c24d57a83ec5de479584f4": {
      "model_module": "@jupyter-widgets/controls",
      "model_module_version": "1.4.0",
      "model_name": "ButtonModel",
      "state": {
       "description": "Default selection",
       "layout": "IPY_MODEL_bb5dd41c300343238d4920555fa1848d",
       "style": "IPY_MODEL_6964bb158dc848528b1d66e0e69e19a9"
      }
     },
     "15e77c6cecc945c4bfd2349d5e8a169e": {
      "model_module": "@jupyter-widgets/controls",
      "model_module_version": "1.4.0",
      "model_name": "HBoxModel",
      "state": {
       "children": [
        "IPY_MODEL_8ec7803e2ceb43ec97491943428a5738",
        "IPY_MODEL_1e565c97be9c4a858f578b6702dcf97f"
       ],
       "layout": "IPY_MODEL_5ce3455a57d04a03a3aac19a93ef9889"
      }
     },
     "1627db996dbe48a2b51d14549d9c4242": {
      "model_module": "@jupyter-widgets/controls",
      "model_module_version": "1.4.0",
      "model_name": "SelectModel",
      "state": {
       "_options_labels": [
        "MODLAND",
        "VI Usefulness",
        "Aerosol Quantity",
        "Adjacent cloud detected",
        "Atmosphere BRDF Correction",
        "Mixed Clouds",
        "Land/Water Mask",
        "Possible snow/ice",
        "Possible shadow"
       ],
       "description": "QA Parameter name:",
       "index": 0,
       "layout": "IPY_MODEL_b4d448e70b4647febddcdd85e4b7fbd2",
       "rows": 9,
       "style": "IPY_MODEL_974bb8709fa54253b04084c19bc946ed"
      }
     },
     "163f622fee8d48f3bd16c2e5c6a4b75a": {
      "model_module": "@jupyter-widgets/controls",
      "model_module_version": "1.4.0",
      "model_name": "ButtonModel",
      "state": {
       "description": "Select ALL",
       "layout": "IPY_MODEL_6df791593b9f49b081f4f6d42c7f0d1d",
       "style": "IPY_MODEL_00a328bf1ce44f648d8504512b01d346"
      }
     },
     "1644fc17384b42e69e4b7219f35fd17a": {
      "model_module": "@jupyter-widgets/controls",
      "model_module_version": "1.4.0",
      "model_name": "HTMLModel",
      "state": {
       "description": "QA layer:",
       "layout": "IPY_MODEL_a1a8c4fb332044238159be1cb15938ff",
       "style": "IPY_MODEL_d31e286c787647419c35505d2269ede0",
       "value": "<b>_1_km_16_days_VI_Quality</b>"
      }
     },
     "164c3606166545eab27b42ce03421019": {
      "model_module": "@jupyter-widgets/controls",
      "model_module_version": "1.4.0",
      "model_name": "DescriptionStyleModel",
      "state": {
       "description_width": "initial"
      }
     },
     "164c3cd08c184fe0abae6e1b66a2423c": {
      "model_module": "@jupyter-widgets/controls",
      "model_module_version": "1.4.0",
      "model_name": "ButtonModel",
      "state": {
       "description": "Create mask and max gap length",
       "layout": "IPY_MODEL_af7d8ccb0a0d493dbd50f20ec7512f96",
       "style": "IPY_MODEL_94dbda32a3cb425f96a87f1bb3362e97"
      }
     },
     "165ed080d63243408b37e35580bc8a19": {
      "model_module": "@jupyter-widgets/controls",
      "model_module_version": "1.4.0",
      "model_name": "DescriptionStyleModel",
      "state": {
       "description_width": "initial"
      }
     },
     "1688b2d833ab48039046a11709a0cda6": {
      "model_module": "@jupyter-widgets/base",
      "model_module_version": "1.1.0",
      "model_name": "LayoutModel",
      "state": {
       "width": "50%"
      }
     },
     "16d60379d4534000ad83b11d0b5d6ef5": {
      "model_module": "@jupyter-widgets/controls",
      "model_module_version": "1.4.0",
      "model_name": "SelectMultipleModel",
      "state": {
       "_options_labels": [
        "VI produced, good quality",
        "VI produced, but check other QA",
        "Pixel produced, but most probably cloudy",
        "Pixel not produced due to other reasons than clouds"
       ],
       "description": "Description",
       "index": [
        0
       ],
       "layout": "IPY_MODEL_450a8f4f75b247019b4e08f99bb401a3",
       "rows": 4,
       "style": "IPY_MODEL_2f8df66b7ea3401c9fc3f43f458bcf48"
      }
     },
     "16de96baa6f44d1cbf168e334caf4632": {
      "model_module": "@jupyter-widgets/controls",
      "model_module_version": "1.4.0",
      "model_name": "ProgressStyleModel",
      "state": {
       "description_width": "initial"
      }
     },
     "16e8d46631504fd5a9865a1de4c7e386": {
      "model_module": "@jupyter-widgets/base",
      "model_module_version": "1.1.0",
      "model_name": "LayoutModel",
      "state": {}
     },
     "172ab49d86324f368a8317d7df1f4cc5": {
      "model_module": "@jupyter-widgets/controls",
      "model_module_version": "1.4.0",
      "model_name": "ButtonModel",
      "state": {
       "description": "Default selection",
       "layout": "IPY_MODEL_2ef14051eff84b7292974e8f2ba3cea8",
       "style": "IPY_MODEL_033cb84edb714141b361aed1c856a6ed"
      }
     },
     "1743f044b51748e0ab5eb977e8177c7d": {
      "model_module": "@jupyter-widgets/base",
      "model_module_version": "1.1.0",
      "model_name": "LayoutModel",
      "state": {
       "width": "50%"
      }
     },
     "17680aed17ee4f29870a68981657ba8c": {
      "model_module": "@jupyter-widgets/controls",
      "model_module_version": "1.4.0",
      "model_name": "ButtonModel",
      "state": {
       "description": "Select ALL",
       "layout": "IPY_MODEL_c60d4d48d5924e6a8661cb3be15419f0",
       "style": "IPY_MODEL_74f8d7564dba40be8242870760b7bc83"
      }
     },
     "17798a680f2f4dcc94c81abacedd1833": {
      "model_module": "@jupyter-widgets/controls",
      "model_module_version": "1.4.0",
      "model_name": "SelectModel",
      "state": {
       "_options_labels": [
        "MODLAND",
        "VI Usefulness",
        "Aerosol Quantity",
        "Adjacent cloud detected",
        "Atmosphere BRDF Correction",
        "Mixed Clouds",
        "Land/Water Mask",
        "Possible snow/ice",
        "Possible shadow"
       ],
       "description": "QA Parameter name:",
       "index": 0,
       "layout": "IPY_MODEL_d9585e819d194337a4263a52d8456ffc",
       "rows": 9,
       "style": "IPY_MODEL_1ab72810c1b54f4da94531d20497190b"
      }
     },
     "178137a0403741a396587a26f0a13c07": {
      "model_module": "@jupyter-widgets/base",
      "model_module_version": "1.1.0",
      "model_name": "LayoutModel",
      "state": {
       "width": "350px"
      }
     },
     "17a2ed406bee4098bb0b2d32b200a987": {
      "model_module": "@jupyter-widgets/base",
      "model_module_version": "1.1.0",
      "model_name": "LayoutModel",
      "state": {}
     },
     "17ad27edc6524f83a3701e14084b72aa": {
      "model_module": "@jupyter-widgets/controls",
      "model_module_version": "1.4.0",
      "model_name": "VBoxModel",
      "state": {
       "children": [
        "IPY_MODEL_c058fa4e0a7843578bfed52c840a6d3e"
       ],
       "layout": "IPY_MODEL_0083739d68114ec5950e8d3e87570139"
      }
     },
     "17c7fb0079224c0da5e91750e661f8c8": {
      "model_module": "@jupyter-widgets/base",
      "model_module_version": "1.1.0",
      "model_name": "LayoutModel",
      "state": {}
     },
     "17e810b64f89441899322c4c2192bc52": {
      "model_module": "@jupyter-widgets/controls",
      "model_module_version": "1.4.0",
      "model_name": "ButtonStyleModel",
      "state": {}
     },
     "17e9fb66fd3b43399961e0933a5e0a7b": {
      "model_module": "@jupyter-widgets/controls",
      "model_module_version": "1.4.0",
      "model_name": "VBoxModel",
      "state": {
       "children": [
        "IPY_MODEL_fffa665b389143c0867d99cf4e3d2cc8"
       ],
       "layout": "IPY_MODEL_9399ce62d65a470c9574d782b7a4c982"
      }
     },
     "1806bda9153b426dbc293361a9563bfe": {
      "model_module": "@jupyter-widgets/controls",
      "model_module_version": "1.4.0",
      "model_name": "ButtonModel",
      "state": {
       "description": "QA analytics",
       "layout": "IPY_MODEL_d360fde4d573419ea29dcba79423df79",
       "style": "IPY_MODEL_fd2a1bab6a0e48bcaa62115df7244eef"
      }
     },
     "1809703dcc774933bf329b54cf289c91": {
      "model_module": "@jupyter-widgets/base",
      "model_module_version": "1.1.0",
      "model_name": "LayoutModel",
      "state": {
       "width": "400px"
      }
     },
     "1809b905ea1042889b214cbb779bbc4b": {
      "model_module": "@jupyter-widgets/controls",
      "model_module_version": "1.4.0",
      "model_name": "DescriptionStyleModel",
      "state": {
       "description_width": ""
      }
     },
     "1817876697fb441296c03ab2b7901846": {
      "model_module": "@jupyter-widgets/controls",
      "model_module_version": "1.4.0",
      "model_name": "HBoxModel",
      "state": {
       "children": [
        "IPY_MODEL_c2ac74fa0f4348cb810fd8456942888b",
        "IPY_MODEL_6aeed1843f364c959fd037b39fd29658"
       ],
       "layout": "IPY_MODEL_44565473115e4b6597ac0eb1fbf86c3f"
      }
     },
     "18276ea9f674426e9913e686b9c30474": {
      "model_module": "@jupyter-widgets/controls",
      "model_module_version": "1.4.0",
      "model_name": "ProgressStyleModel",
      "state": {
       "description_width": "initial"
      }
     },
     "182d4e589fc44f7bbb39ebf61aa608d8": {
      "model_module": "@jupyter-widgets/base",
      "model_module_version": "1.1.0",
      "model_name": "LayoutModel",
      "state": {
       "width": "400px"
      }
     },
     "184b7b0868af4000b0c4e49f2bb31337": {
      "model_module": "@jupyter-widgets/base",
      "model_module_version": "1.1.0",
      "model_name": "LayoutModel",
      "state": {
       "width": "50%"
      }
     },
     "1852a04783154906841712febafd9290": {
      "model_module": "@jupyter-widgets/base",
      "model_module_version": "1.1.0",
      "model_name": "LayoutModel",
      "state": {}
     },
     "1873f7fe28ac48a391591019b8637ee8": {
      "model_module": "@jupyter-widgets/controls",
      "model_module_version": "1.4.0",
      "model_name": "HTMLModel",
      "state": {
       "description": "QA layer:",
       "layout": "IPY_MODEL_643744c79b1447a196dca6db0b0604a3",
       "style": "IPY_MODEL_dd54b9e2b947419e8634d942676ab5a6",
       "value": "<b>_1_km_16_days_VI_Quality</b>"
      }
     },
     "18a749ee2ac64d9daebbfb8c7ec74636": {
      "model_module": "@jupyter-widgets/controls",
      "model_module_version": "1.4.0",
      "model_name": "VBoxModel",
      "state": {
       "children": [
        "IPY_MODEL_2155a60d512a430085377e3726a7c69b"
       ],
       "layout": "IPY_MODEL_7340e644504544668c18d24d3220f2dd"
      }
     },
     "18b7dbbb7f0d4990bd1a35bf4c32a615": {
      "model_module": "@jupyter-widgets/base",
      "model_module_version": "1.1.0",
      "model_name": "LayoutModel",
      "state": {
       "width": "30%"
      }
     },
     "18ba67a6f1574c35bef7c2c1ede1ac8b": {
      "model_module": "@jupyter-widgets/controls",
      "model_module_version": "1.4.0",
      "model_name": "ButtonStyleModel",
      "state": {}
     },
     "18c04d45bfce49ce8c78eeffd393e326": {
      "model_module": "@jupyter-widgets/controls",
      "model_module_version": "1.4.0",
      "model_name": "ButtonStyleModel",
      "state": {}
     },
     "18ddce6892254e50897ba5d5b5aba449": {
      "model_module": "@jupyter-widgets/controls",
      "model_module_version": "1.4.0",
      "model_name": "ButtonModel",
      "state": {
       "description": "QA analytics",
       "layout": "IPY_MODEL_758759c0385a40f589dcfeea5fda3699",
       "style": "IPY_MODEL_c8c9089d011e45179619a4f29c75aa5e"
      }
     },
     "193691638d634287ae015126b45b578b": {
      "model_module": "@jupyter-widgets/controls",
      "model_module_version": "1.4.0",
      "model_name": "DescriptionStyleModel",
      "state": {
       "description_width": ""
      }
     },
     "1944f939411d4e0e966559f20c88bd3b": {
      "model_module": "@jupyter-widgets/controls",
      "model_module_version": "1.4.0",
      "model_name": "VBoxModel",
      "state": {
       "children": [
        "IPY_MODEL_90dd00d9f2574cf095cd9bd5fe850c74"
       ],
       "layout": "IPY_MODEL_1aa6947c58ff49058e7bd721ae45dd29"
      }
     },
     "1957792f479c4b34ac3e25f9f5a990ae": {
      "model_module": "@jupyter-widgets/controls",
      "model_module_version": "1.4.0",
      "model_name": "SelectModel",
      "state": {
       "_options_labels": [
        "MODLAND",
        "VI Usefulness",
        "Aerosol Quantity",
        "Adjacent cloud detected",
        "Atmosphere BRDF Correction",
        "Mixed Clouds",
        "Land/Water Mask",
        "Possible snow/ice",
        "Possible shadow"
       ],
       "description": "QA Parameter name:",
       "index": 1,
       "layout": "IPY_MODEL_b4adbad661954973ac26b40dc4e620cf",
       "rows": 9,
       "style": "IPY_MODEL_27aba4500c2a4896b0d8257fe9243269"
      }
     },
     "199e4515c0ab408382cfaef757179d46": {
      "model_module": "@jupyter-widgets/controls",
      "model_module_version": "1.4.0",
      "model_name": "ButtonStyleModel",
      "state": {}
     },
     "19a519b7939b47b3831acc7c5d6f80dd": {
      "model_module": "@jupyter-widgets/controls",
      "model_module_version": "1.4.0",
      "model_name": "SelectMultipleModel",
      "state": {
       "_options_labels": [
        "Good data, use with confidence",
        "Marginal data, Useful, but look at other QA information",
        "Snow/Ice Target covered with snow/ice",
        "Cloudy data, Target not visible, covered with cloud"
       ],
       "description": "Description",
       "index": [
        0
       ],
       "layout": "IPY_MODEL_182d4e589fc44f7bbb39ebf61aa608d8",
       "rows": 4,
       "style": "IPY_MODEL_e384f4e601be4db3a723522c1f6f47d2"
      }
     },
     "19ba217154594e419c20a056cb97b23f": {
      "model_module": "@jupyter-widgets/controls",
      "model_module_version": "1.4.0",
      "model_name": "HBoxModel",
      "state": {
       "children": [
        "IPY_MODEL_1627db996dbe48a2b51d14549d9c4242",
        "IPY_MODEL_f25dac2ce4b441bc99b2b6a62389f8d2",
        "IPY_MODEL_6ed861cf0ce247bd8a6856083407dd13",
        "IPY_MODEL_b6074627bb784547be5ae97ce9eb988c"
       ],
       "layout": "IPY_MODEL_eee29aae4df94dc2871e393a7aecc6d8"
      }
     },
     "19c96c1748a243a8b47e361bf1634da3": {
      "model_module": "@jupyter-widgets/base",
      "model_module_version": "1.1.0",
      "model_name": "LayoutModel",
      "state": {
       "width": "30%"
      }
     },
     "1a02e57e07ca42268404c8642de03dd5": {
      "model_module": "@jupyter-widgets/controls",
      "model_module_version": "1.4.0",
      "model_name": "HBoxModel",
      "state": {
       "children": [
        "IPY_MODEL_abc9839fc770441c88d8064cc7947660",
        "IPY_MODEL_a3abd56012d74a478c850898eebea7ee",
        "IPY_MODEL_9ce687bb65e64e4cb5b51675f2b6c4f7",
        "IPY_MODEL_e0ea05f9721a4de094a25709e95f2ac3"
       ],
       "layout": "IPY_MODEL_f82b45a4efd64003b88816411d6f89bb"
      }
     },
     "1a31a1c44c5042bf9db30ab3f1f711d1": {
      "model_module": "@jupyter-widgets/controls",
      "model_module_version": "1.4.0",
      "model_name": "VBoxModel",
      "state": {
       "children": [
        "IPY_MODEL_fab1431e98fa4858801ae82f34101422"
       ],
       "layout": "IPY_MODEL_823a8e6cbdb34702a93ba2842e43c896"
      }
     },
     "1a5fcf2176a7496182cc3ebb4c7d2af7": {
      "model_module": "@jupyter-widgets/controls",
      "model_module_version": "1.4.0",
      "model_name": "ButtonStyleModel",
      "state": {}
     },
     "1a85d58e7a544d92b1b9f549c560f48b": {
      "model_module": "@jupyter-widgets/base",
      "model_module_version": "1.1.0",
      "model_name": "LayoutModel",
      "state": {}
     },
     "1a890a6bc21e4e01ae8d3bf0c5e8d510": {
      "model_module": "@jupyter-widgets/controls",
      "model_module_version": "1.4.0",
      "model_name": "SelectMultipleModel",
      "state": {
       "_options_labels": [
        "VI produced, good quality",
        "VI produced, but check other QA",
        "Pixel produced, but most probably cloudy",
        "Pixel not produced due to other reasons than clouds"
       ],
       "description": "Description",
       "index": [
        0
       ],
       "layout": "IPY_MODEL_86acf9271098444ea9fd0feb2da696e0",
       "rows": 4,
       "style": "IPY_MODEL_f756bd161d774cd9aed2a8ca34142bc8"
      }
     },
     "1aa6947c58ff49058e7bd721ae45dd29": {
      "model_module": "@jupyter-widgets/base",
      "model_module_version": "1.1.0",
      "model_name": "LayoutModel",
      "state": {}
     },
     "1ab72810c1b54f4da94531d20497190b": {
      "model_module": "@jupyter-widgets/controls",
      "model_module_version": "1.4.0",
      "model_name": "DescriptionStyleModel",
      "state": {
       "description_width": "initial"
      }
     },
     "1ada5af6993e484b833110c65d7406e3": {
      "model_module": "@jupyter-widgets/controls",
      "model_module_version": "1.4.0",
      "model_name": "ButtonStyleModel",
      "state": {}
     },
     "1ae6bf9034724031819f24eb5b721e26": {
      "model_module": "@jupyter-widgets/base",
      "model_module_version": "1.1.0",
      "model_name": "LayoutModel",
      "state": {}
     },
     "1b283f67bb3e435bb486833439f4e15d": {
      "model_module": "@jupyter-widgets/controls",
      "model_module_version": "1.4.0",
      "model_name": "ButtonModel",
      "state": {
       "description": "Select ALL",
       "layout": "IPY_MODEL_55241db938be408cb3af63a4c0b3f1da",
       "style": "IPY_MODEL_bb237c7cc4714b11a4fe00a424278f1a"
      }
     },
     "1b2de33ec8cf4964b362a57e94fc2f06": {
      "model_module": "@jupyter-widgets/base",
      "model_module_version": "1.1.0",
      "model_name": "LayoutModel",
      "state": {}
     },
     "1b54900f14004f408712dca575e441c4": {
      "model_module": "@jupyter-widgets/controls",
      "model_module_version": "1.4.0",
      "model_name": "ButtonStyleModel",
      "state": {}
     },
     "1b7fc13927f04404bbdd4805e4f28b7e": {
      "model_module": "@jupyter-widgets/base",
      "model_module_version": "1.1.0",
      "model_name": "LayoutModel",
      "state": {}
     },
     "1b8acd06078a442bb5879cee12828968": {
      "model_module": "@jupyter-widgets/controls",
      "model_module_version": "1.4.0",
      "model_name": "HBoxModel",
      "state": {
       "children": [
        "IPY_MODEL_e4c4a3c9872749b0959ad08734ed11d8",
        "IPY_MODEL_fa2a637bf8594122b3a1b808b7cdd11f"
       ],
       "layout": "IPY_MODEL_63fe4385663346bba7a6f10035f53760"
      }
     },
     "1b8dbc569ff84478881fa431c104181e": {
      "model_module": "@jupyter-widgets/base",
      "model_module_version": "1.1.0",
      "model_name": "LayoutModel",
      "state": {
       "width": "20%"
      }
     },
     "1c1cfdc572a54d52a1a5be61b02bcc6f": {
      "model_module": "@jupyter-widgets/controls",
      "model_module_version": "1.4.0",
      "model_name": "ButtonModel",
      "state": {
       "description": "Default selection",
       "layout": "IPY_MODEL_ee7ae93b36e148328f3393ba157074bb",
       "style": "IPY_MODEL_e2d6249afae645c3bfd37f64c299ef81"
      }
     },
     "1c3ff150ae174d8cb4add0b19704de99": {
      "model_module": "@jupyter-widgets/controls",
      "model_module_version": "1.4.0",
      "model_name": "HTMLModel",
      "state": {
       "description": "QA layer:",
       "layout": "IPY_MODEL_b866cc744e8542f5a2cb65a69eb4a556",
       "style": "IPY_MODEL_82c9b80f394d48a3b0e67adfec86639c",
       "value": "<b>_1_km_16_days_VI_Quality</b>"
      }
     },
     "1c69aefdb3d148e4bbf6ae0bc29ae2ff": {
      "model_module": "@jupyter-widgets/controls",
      "model_module_version": "1.4.0",
      "model_name": "DescriptionStyleModel",
      "state": {
       "description_width": ""
      }
     },
     "1c7c0c01c49a4c67987327ff95bb4856": {
      "model_module": "@jupyter-widgets/controls",
      "model_module_version": "1.4.0",
      "model_name": "VBoxModel",
      "state": {
       "children": [
        "IPY_MODEL_763945f19e8f4bfeaa80636411ff7302"
       ],
       "layout": "IPY_MODEL_7f4ca7631df243e4acd3b247659ccfc6"
      }
     },
     "1c8c0498cc7149d7b9600e87d2e84fa2": {
      "model_module": "@jupyter-widgets/base",
      "model_module_version": "1.1.0",
      "model_name": "LayoutModel",
      "state": {
       "width": "20%"
      }
     },
     "1cf241f00d74428c9ff362b5b910e757": {
      "model_module": "@jupyter-widgets/base",
      "model_module_version": "1.1.0",
      "model_name": "LayoutModel",
      "state": {
       "width": "50%"
      }
     },
     "1d64871329bd4a1381d201899d7f4f16": {
      "model_module": "@jupyter-widgets/controls",
      "model_module_version": "1.4.0",
      "model_name": "HTMLModel",
      "state": {
       "description": "QA layer:",
       "layout": "IPY_MODEL_2028c398e4fb4a159e8098000da6c6ae",
       "style": "IPY_MODEL_54c2f70c01d64fb69813df8c2fa446dd",
       "value": "<b>_1_km_16_days_VI_Quality</b>"
      }
     },
     "1d795a102ae94aeaad891d01b85a7c50": {
      "model_module": "@jupyter-widgets/controls",
      "model_module_version": "1.4.0",
      "model_name": "DescriptionStyleModel",
      "state": {
       "description_width": ""
      }
     },
     "1dabc728b6134ed689dce9734f368e56": {
      "model_module": "@jupyter-widgets/controls",
      "model_module_version": "1.4.0",
      "model_name": "ButtonStyleModel",
      "state": {}
     },
     "1ddabc68fd754b798d56012756d8a7ce": {
      "model_module": "@jupyter-widgets/base",
      "model_module_version": "1.1.0",
      "model_name": "LayoutModel",
      "state": {}
     },
     "1e330ed74cfa40edb269aa6e35c5fda1": {
      "model_module": "@jupyter-widgets/controls",
      "model_module_version": "1.4.0",
      "model_name": "SelectMultipleModel",
      "state": {
       "_options_labels": [
        "Good data, use with confidence",
        "Marginal data, Useful, but look at other QA information",
        "Snow/Ice Target covered with snow/ice",
        "Cloudy data, Target not visible, covered with cloud"
       ],
       "description": "Description",
       "index": [
        0
       ],
       "layout": "IPY_MODEL_a319858f00f3406782840269329e1448",
       "rows": 4,
       "style": "IPY_MODEL_13ed238c21694b25af66597c6216d099"
      }
     },
     "1e36e758d3e74e08940f3c291d7764ea": {
      "model_module": "@jupyter-widgets/controls",
      "model_module_version": "1.4.0",
      "model_name": "ButtonStyleModel",
      "state": {}
     },
     "1e3a4d9b79b44b2792709a9414361554": {
      "model_module": "@jupyter-widgets/controls",
      "model_module_version": "1.4.0",
      "model_name": "SelectModel",
      "state": {
       "_options_labels": [
        "MODLAND",
        "VI Usefulness",
        "Aerosol Quantity",
        "Adjacent cloud detected",
        "Atmosphere BRDF Correction",
        "Mixed Clouds",
        "Land/Water Mask",
        "Possible snow/ice",
        "Possible shadow"
       ],
       "description": "QA Parameter name:",
       "index": 0,
       "layout": "IPY_MODEL_8f3239b606624f29815035ede0c161f4",
       "rows": 9,
       "style": "IPY_MODEL_626381dc39eb4bc280433a3c68f7d2e6"
      }
     },
     "1e565c97be9c4a858f578b6702dcf97f": {
      "model_module": "@jupyter-widgets/controls",
      "model_module_version": "1.4.0",
      "model_name": "VBoxModel",
      "state": {
       "children": [
        "IPY_MODEL_1455f5f5ad8f48ec81a513bd44a861d7"
       ],
       "layout": "IPY_MODEL_0803d1479974468fbc032f0f12ddaf0f"
      }
     },
     "1e5e2a6bda804c848055fed26c8fc423": {
      "model_module": "@jupyter-widgets/base",
      "model_module_version": "1.1.0",
      "model_name": "LayoutModel",
      "state": {}
     },
     "1e8cff59b5204b6a93a14bf6384e70e4": {
      "model_module": "@jupyter-widgets/controls",
      "model_module_version": "1.4.0",
      "model_name": "ProgressStyleModel",
      "state": {
       "description_width": "initial"
      }
     },
     "1ea68c1f34ec4f568971b528c1288e9d": {
      "model_module": "@jupyter-widgets/controls",
      "model_module_version": "1.4.0",
      "model_name": "SelectMultipleModel",
      "state": {
       "_options_labels": [
        "VI produced, good quality",
        "VI produced, but check other QA",
        "Pixel produced, but most probably cloudy",
        "Pixel not produced due to other reasons than clouds"
       ],
       "description": "Description",
       "index": [
        0
       ],
       "layout": "IPY_MODEL_bed16365a8024e9f8542eb1d3fc19f3c",
       "rows": 4,
       "style": "IPY_MODEL_f5ed86dc5a834e85b8e28552f145a067"
      }
     },
     "1eaad0d0ade14976994c4f10d4cd9a83": {
      "model_module": "@jupyter-widgets/controls",
      "model_module_version": "1.4.0",
      "model_name": "ProgressStyleModel",
      "state": {
       "description_width": "initial"
      }
     },
     "1eb720346ad6446ab53748dd8dada53a": {
      "model_module": "@jupyter-widgets/controls",
      "model_module_version": "1.4.0",
      "model_name": "HTMLModel",
      "state": {
       "description": "QA layer:",
       "layout": "IPY_MODEL_81b827b100b54be2bd170f67c97ed768",
       "style": "IPY_MODEL_c734e6d873c149b48fbc5eca103ca356",
       "value": "<b>_1_km_16_days_VI_Quality</b>"
      }
     },
     "1f1c0f5ef49f4ec288bf05812aae3643": {
      "model_module": "@jupyter-widgets/controls",
      "model_module_version": "1.4.0",
      "model_name": "DescriptionStyleModel",
      "state": {
       "description_width": "initial"
      }
     },
     "1f3a8fcc0a214771bef5f425a1604201": {
      "model_module": "@jupyter-widgets/controls",
      "model_module_version": "1.4.0",
      "model_name": "ButtonModel",
      "state": {
       "description": "Default selection",
       "layout": "IPY_MODEL_08225e7b8e744f4bb47a7c8435a149de",
       "style": "IPY_MODEL_f18f808d6f7146698d9dd74a65cb8713"
      }
     },
     "1f660fbaebfd44ecbf2cc1486c58056f": {
      "model_module": "@jupyter-widgets/controls",
      "model_module_version": "1.4.0",
      "model_name": "VBoxModel",
      "state": {
       "children": [
        "IPY_MODEL_2db0146b5a284a0dad93c39f2e54d8fb"
       ],
       "layout": "IPY_MODEL_470d9f058df84a1daa94c38ec716d962"
      }
     },
     "1f73854a354e441f92bbe2691f8f30b4": {
      "model_module": "@jupyter-widgets/base",
      "model_module_version": "1.1.0",
      "model_name": "LayoutModel",
      "state": {
       "width": "400px"
      }
     },
     "1f765ab97a55415899415d72936dc98a": {
      "model_module": "@jupyter-widgets/controls",
      "model_module_version": "1.4.0",
      "model_name": "ButtonModel",
      "state": {
       "description": "QA analytics",
       "layout": "IPY_MODEL_667c600504814b269435372c40c43332",
       "style": "IPY_MODEL_4bec6398b9c14549a59b720fc0d5ade5"
      }
     },
     "1f7684738bf347458fa06ee6018f79c5": {
      "model_module": "@jupyter-widgets/controls",
      "model_module_version": "1.4.0",
      "model_name": "SelectMultipleModel",
      "state": {
       "_options_labels": [
        "VI produced, good quality",
        "VI produced, but check other QA",
        "Pixel produced, but most probably cloudy",
        "Pixel not produced due to other reasons than clouds"
       ],
       "description": "Description",
       "index": [
        0
       ],
       "layout": "IPY_MODEL_6f4354cb40524901b40f70d26f6f2c75",
       "rows": 4,
       "style": "IPY_MODEL_27fa614808fb4cf0a7323d2aea744681"
      }
     },
     "1f9160e0f2184a09aeb42fe1190ebfd3": {
      "model_module": "@jupyter-widgets/controls",
      "model_module_version": "1.4.0",
      "model_name": "VBoxModel",
      "state": {
       "children": [
        "IPY_MODEL_ef3b9c96dd6441f9bf5100255edef921"
       ],
       "layout": "IPY_MODEL_82cacee4a3944312a597faff1300ba88"
      }
     },
     "1f99f2e6272d42a991e3579015ffc0df": {
      "model_module": "@jupyter-widgets/controls",
      "model_module_version": "1.4.0",
      "model_name": "SelectMultipleModel",
      "state": {
       "_options_labels": [
        "linear",
        "nearest",
        "zero",
        "slinear",
        "quadratic",
        "cubic",
        "barycentric",
        "krog",
        "pchip",
        "spline",
        "akima"
       ],
       "description": "Interpolation methods",
       "index": [
        0
       ],
       "layout": "IPY_MODEL_4ba26abdbc1e4eed888bc0ff6ef27e12",
       "rows": 11,
       "style": "IPY_MODEL_6ad2840c69654f9cbfb72e65fc48a2bd"
      }
     },
     "1fa09f9222ad40ed9816f93194a568cb": {
      "model_module": "@jupyter-widgets/base",
      "model_module_version": "1.1.0",
      "model_name": "LayoutModel",
      "state": {}
     },
     "1fcc3a665eea4f208dd0962bcf1a98c6": {
      "model_module": "@jupyter-widgets/base",
      "model_module_version": "1.1.0",
      "model_name": "LayoutModel",
      "state": {
       "width": "30%"
      }
     },
     "1fdceeb6d61d4c21b8e51a24edfe0f78": {
      "model_module": "@jupyter-widgets/controls",
      "model_module_version": "1.4.0",
      "model_name": "ButtonModel",
      "state": {
       "description": "Create mask",
       "layout": "IPY_MODEL_42c574036d984e16b4940d365ed33c8e",
       "style": "IPY_MODEL_5a95a5c50a684f33883f1b46bd962172"
      }
     },
     "20165f298ef0477d845e098ba3efcf64": {
      "model_module": "@jupyter-widgets/controls",
      "model_module_version": "1.4.0",
      "model_name": "SelectModel",
      "state": {
       "_options_labels": [
        "MODLAND",
        "VI Usefulness",
        "Aerosol Quantity",
        "Adjacent cloud detected",
        "Atmosphere BRDF Correction",
        "Mixed Clouds",
        "Land/Water Mask",
        "Possible snow/ice",
        "Possible shadow"
       ],
       "description": "QA Parameter name:",
       "index": 0,
       "layout": "IPY_MODEL_6672e42daac74193b0a9ad4e0612742f",
       "rows": 9,
       "style": "IPY_MODEL_a64f3ca25aad45028f9fe770ace4be30"
      }
     },
     "2028c398e4fb4a159e8098000da6c6ae": {
      "model_module": "@jupyter-widgets/base",
      "model_module_version": "1.1.0",
      "model_name": "LayoutModel",
      "state": {}
     },
     "203fe867a08946ba8254270d26987f44": {
      "model_module": "@jupyter-widgets/base",
      "model_module_version": "1.1.0",
      "model_name": "LayoutModel",
      "state": {
       "width": "50%"
      }
     },
     "204ad9e64da94f8eb74548b81a423638": {
      "model_module": "@jupyter-widgets/controls",
      "model_module_version": "1.4.0",
      "model_name": "DescriptionStyleModel",
      "state": {
       "description_width": "initial"
      }
     },
     "2073319bd3874bb0a000dc44ba150c7b": {
      "model_module": "@jupyter-widgets/base",
      "model_module_version": "1.1.0",
      "model_name": "LayoutModel",
      "state": {
       "width": "20%"
      }
     },
     "209a5365eb8f4a32949885f458c66a35": {
      "model_module": "@jupyter-widgets/controls",
      "model_module_version": "1.4.0",
      "model_name": "ProgressStyleModel",
      "state": {
       "description_width": "initial"
      }
     },
     "209e9203467a46a6b0453c9c7bc2920b": {
      "model_module": "@jupyter-widgets/controls",
      "model_module_version": "1.4.0",
      "model_name": "ButtonStyleModel",
      "state": {}
     },
     "20ac4f7babf64243a36c6f1071ba7673": {
      "model_module": "@jupyter-widgets/base",
      "model_module_version": "1.1.0",
      "model_name": "LayoutModel",
      "state": {
       "width": "30%"
      }
     },
     "20e79d7039ca453a9e4e2338c274a673": {
      "model_module": "@jupyter-widgets/controls",
      "model_module_version": "1.4.0",
      "model_name": "HTMLModel",
      "state": {
       "description": "QA layer:",
       "layout": "IPY_MODEL_412ee85c2c864108a7b6975c854d5b8d",
       "style": "IPY_MODEL_b98fdd05d5bb4b0c945cae4937986f47",
       "value": "<b>_1_km_16_days_VI_Quality</b>"
      }
     },
     "20fd842c8adb4280b5d974bb26bd643a": {
      "model_module": "@jupyter-widgets/base",
      "model_module_version": "1.1.0",
      "model_name": "LayoutModel",
      "state": {}
     },
     "210a149f055e496b862d667f96a6e7d7": {
      "model_module": "@jupyter-widgets/base",
      "model_module_version": "1.1.0",
      "model_name": "LayoutModel",
      "state": {}
     },
     "21168dd3a71c4a49bc2df901cfb4176e": {
      "model_module": "@jupyter-widgets/controls",
      "model_module_version": "1.4.0",
      "model_name": "SelectMultipleModel",
      "state": {
       "_options_labels": [
        "VI produced, good quality",
        "VI produced, but check other QA",
        "Pixel produced, but most probably cloudy",
        "Pixel not produced due to other reasons than clouds"
       ],
       "description": "Description",
       "index": [
        0
       ],
       "layout": "IPY_MODEL_cfaccfe167a84a61a66d7f27884c380b",
       "rows": 4,
       "style": "IPY_MODEL_7d92ef463979456abdb12b67cd72eaad"
      }
     },
     "211993c2440241d78a3344d3c8f7e137": {
      "model_module": "@jupyter-widgets/controls",
      "model_module_version": "1.4.0",
      "model_name": "HBoxModel",
      "state": {
       "children": [
        "IPY_MODEL_9772246476b5447b866afa4a3abdd167",
        "IPY_MODEL_2bb3ce1b44d647feb34709478beda153"
       ],
       "layout": "IPY_MODEL_a9c867dc1fdd440f9d1b1b7e1adc3c77"
      }
     },
     "214df4efd9154b2f87fd27bca10d928a": {
      "model_module": "@jupyter-widgets/controls",
      "model_module_version": "1.4.0",
      "model_name": "VBoxModel",
      "state": {
       "children": [
        "IPY_MODEL_e6cd23e9ba2c4fb6be08d3368ee20853"
       ],
       "layout": "IPY_MODEL_44439a7ac4b8448585a5e654772f3a28"
      }
     },
     "21543d526d4c4208a5e9defb0b959b1d": {
      "model_module": "@jupyter-widgets/controls",
      "model_module_version": "1.4.0",
      "model_name": "ButtonStyleModel",
      "state": {}
     },
     "2155a60d512a430085377e3726a7c69b": {
      "model_module": "@jupyter-widgets/controls",
      "model_module_version": "1.4.0",
      "model_name": "SelectMultipleModel",
      "state": {
       "_options_labels": [
        "VI produced, good quality",
        "VI produced, but check other QA",
        "Pixel produced, but most probably cloudy",
        "Pixel not produced due to other reasons than clouds"
       ],
       "description": "Description",
       "index": [
        0
       ],
       "layout": "IPY_MODEL_4ee2cca749ef4b4b8c8fd4f946c91cd1",
       "rows": 4,
       "style": "IPY_MODEL_46b3f5afb70d427e975bc5e41db04fa8"
      }
     },
     "216e24d6deb2434a952896293e5e0b0c": {
      "model_module": "@jupyter-widgets/controls",
      "model_module_version": "1.4.0",
      "model_name": "SelectMultipleModel",
      "state": {
       "_options_labels": [
        "VI produced, good quality",
        "VI produced, but check other QA",
        "Pixel produced, but most probably cloudy",
        "Pixel not produced due to other reasons than clouds"
       ],
       "description": "Description",
       "index": [
        0
       ],
       "layout": "IPY_MODEL_e74a089bb90543a990e964dd0af92db3",
       "rows": 4,
       "style": "IPY_MODEL_ad3730c6be4b47be8535ce2c65aa74a5"
      }
     },
     "217132024abd40cd9621fbffae20bcbc": {
      "model_module": "@jupyter-widgets/base",
      "model_module_version": "1.1.0",
      "model_name": "LayoutModel",
      "state": {
       "width": "20%"
      }
     },
     "217b8e4d42084ab68f43b0a537e7bdcc": {
      "model_module": "@jupyter-widgets/base",
      "model_module_version": "1.1.0",
      "model_name": "LayoutModel",
      "state": {
       "width": "50%"
      }
     },
     "21827b1c753c4d6c8bf93bf28d9d54d5": {
      "model_module": "@jupyter-widgets/controls",
      "model_module_version": "1.4.0",
      "model_name": "DescriptionStyleModel",
      "state": {
       "description_width": ""
      }
     },
     "2195aa12fe5e4af29de9a37384b511c6": {
      "model_module": "@jupyter-widgets/controls",
      "model_module_version": "1.4.0",
      "model_name": "ProgressStyleModel",
      "state": {
       "description_width": "initial"
      }
     },
     "21b123bc10454efda4f1638cfe53cc39": {
      "model_module": "@jupyter-widgets/base",
      "model_module_version": "1.1.0",
      "model_name": "LayoutModel",
      "state": {
       "width": "20%"
      }
     },
     "21f8c17101ab492c8da53a3ff5269194": {
      "model_module": "@jupyter-widgets/controls",
      "model_module_version": "1.4.0",
      "model_name": "ButtonStyleModel",
      "state": {}
     },
     "2202afdaa02c48ac9ec0f355d66a0afa": {
      "model_module": "@jupyter-widgets/controls",
      "model_module_version": "1.4.0",
      "model_name": "VBoxModel",
      "state": {
       "children": [
        "IPY_MODEL_9092dcd67e704fc38f71977d4e922de9"
       ],
       "layout": "IPY_MODEL_fca92984db2a4f7db89793712c9a7428"
      }
     },
     "2204d94a445f40fd8e23ac9ee376437d": {
      "model_module": "@jupyter-widgets/controls",
      "model_module_version": "1.4.0",
      "model_name": "DescriptionStyleModel",
      "state": {
       "description_width": ""
      }
     },
     "221573275ec44d648ac7fbf41d748588": {
      "model_module": "@jupyter-widgets/controls",
      "model_module_version": "1.4.0",
      "model_name": "DescriptionStyleModel",
      "state": {
       "description_width": "initial"
      }
     },
     "222b3cefe2b24ab2b62908d5deaf7df2": {
      "model_module": "@jupyter-widgets/base",
      "model_module_version": "1.1.0",
      "model_name": "LayoutModel",
      "state": {
       "width": "400px"
      }
     },
     "222d24536c2b4de9b08b437f6e3a8768": {
      "model_module": "@jupyter-widgets/base",
      "model_module_version": "1.1.0",
      "model_name": "LayoutModel",
      "state": {
       "width": "20%"
      }
     },
     "223012d925fb43bdb96dad48992ee40b": {
      "model_module": "@jupyter-widgets/base",
      "model_module_version": "1.1.0",
      "model_name": "LayoutModel",
      "state": {
       "width": "30%"
      }
     },
     "228ceb9dbe0f485fbe4bc2d17ab40e0e": {
      "model_module": "@jupyter-widgets/controls",
      "model_module_version": "1.4.0",
      "model_name": "DescriptionStyleModel",
      "state": {
       "description_width": "initial"
      }
     },
     "228da76ba67d4667a9d3052c9750d891": {
      "model_module": "@jupyter-widgets/controls",
      "model_module_version": "1.4.0",
      "model_name": "HBoxModel",
      "state": {
       "children": [
        "IPY_MODEL_b5abab89dbef4b529b7ea31ba4717e04",
        "IPY_MODEL_e7e45b1e058c4e95912e0d76594fa03c",
        "IPY_MODEL_a3c1cbdcc93a4d13a588a50502e87fdd"
       ],
       "layout": "IPY_MODEL_04c1c77090b94427a69a3183681deed4"
      }
     },
     "22a90c59c656411ba675bbec2708322f": {
      "model_module": "@jupyter-widgets/controls",
      "model_module_version": "1.4.0",
      "model_name": "ButtonStyleModel",
      "state": {}
     },
     "22e13510e0e34cccb0c7122aeffcb989": {
      "model_module": "@jupyter-widgets/controls",
      "model_module_version": "1.4.0",
      "model_name": "HTMLModel",
      "state": {
       "description": "QA layer:",
       "layout": "IPY_MODEL_9f1495f28bfd4144a8e939badbbd1352",
       "style": "IPY_MODEL_58ca972e2d9344509cd6ff4d098664a9",
       "value": "<b>_1_km_16_days_VI_Quality</b>"
      }
     },
     "2309e09855b047a89c533a58bcbc560c": {
      "model_module": "@jupyter-widgets/controls",
      "model_module_version": "1.4.0",
      "model_name": "ProgressStyleModel",
      "state": {
       "description_width": "initial"
      }
     },
     "230e662c65c14751a02fbc0d1d1bbfab": {
      "model_module": "@jupyter-widgets/controls",
      "model_module_version": "1.4.0",
      "model_name": "ButtonModel",
      "state": {
       "description": "Select ALL",
       "layout": "IPY_MODEL_0ec7b17239374d958da8aad790a8f3d0",
       "style": "IPY_MODEL_c2f3b5fa479644f9a1882f7e3f0f5b07"
      }
     },
     "2315ea5e1fd7443fb4b57a40294f6c36": {
      "model_module": "@jupyter-widgets/controls",
      "model_module_version": "1.4.0",
      "model_name": "HBoxModel",
      "state": {
       "children": [
        "IPY_MODEL_957c290faa3d42acb759ee9572af4b3e",
        "IPY_MODEL_45b97ba841ae4b77813d88fede96ca7a"
       ],
       "layout": "IPY_MODEL_658efcf1ce5345789d7a13b731f2a38f"
      }
     },
     "2318ec78e6134c2dafc8c4e0b5ef2cb2": {
      "model_module": "@jupyter-widgets/base",
      "model_module_version": "1.1.0",
      "model_name": "LayoutModel",
      "state": {
       "height": "350px",
       "width": "99%"
      }
     },
     "2347bf544a214f318eb79a011784d54e": {
      "model_module": "@jupyter-widgets/base",
      "model_module_version": "1.1.0",
      "model_name": "LayoutModel",
      "state": {}
     },
     "238938819d6549b48c60cb09167b4447": {
      "model_module": "@jupyter-widgets/base",
      "model_module_version": "1.1.0",
      "model_name": "LayoutModel",
      "state": {
       "width": "400px"
      }
     },
     "2390a3ec2b844b0880264df26fea6bf0": {
      "model_module": "@jupyter-widgets/base",
      "model_module_version": "1.1.0",
      "model_name": "LayoutModel",
      "state": {}
     },
     "2397d79dbc5b4689a62c4f36fb34f522": {
      "model_module": "@jupyter-widgets/base",
      "model_module_version": "1.1.0",
      "model_name": "LayoutModel",
      "state": {
       "width": "20%"
      }
     },
     "239bd33b331a45a998b144ff925cff7e": {
      "model_module": "@jupyter-widgets/base",
      "model_module_version": "1.1.0",
      "model_name": "LayoutModel",
      "state": {
       "width": "20%"
      }
     },
     "23b9e9b274bb4983a54f4c03c295f58d": {
      "model_module": "@jupyter-widgets/controls",
      "model_module_version": "1.4.0",
      "model_name": "ButtonModel",
      "state": {
       "description": "Select ALL",
       "layout": "IPY_MODEL_0895a4464aa647ed8bcd168c2b082afc",
       "style": "IPY_MODEL_4b1135e2471844748152c415d1bb47d1"
      }
     },
     "2402ed7a8a6c45ffb630baf06b0afbf6": {
      "model_module": "@jupyter-widgets/base",
      "model_module_version": "1.1.0",
      "model_name": "LayoutModel",
      "state": {
       "width": "400px"
      }
     },
     "240567731c34423db95656da655e14ce": {
      "model_module": "@jupyter-widgets/controls",
      "model_module_version": "1.4.0",
      "model_name": "HBoxModel",
      "state": {
       "children": [
        "IPY_MODEL_61e95be702954133a783b4bde84d3ad6",
        "IPY_MODEL_62b0ad0856fe4ddca0ba6a3e140e86ce"
       ],
       "layout": "IPY_MODEL_88fd52833675491399e34475a72c2103"
      }
     },
     "243f9cfbb4884b87871b2deb6d47e765": {
      "model_module": "@jupyter-widgets/controls",
      "model_module_version": "1.4.0",
      "model_name": "VBoxModel",
      "state": {
       "children": [
        "IPY_MODEL_b4abd675f1ac430bbb8115b12040e508"
       ],
       "layout": "IPY_MODEL_c1077fc28e1e4d87bfabb07a3ececa40"
      }
     },
     "24573989349a4a88bef1aa29ad73d3b8": {
      "model_module": "@jupyter-widgets/controls",
      "model_module_version": "1.4.0",
      "model_name": "HBoxModel",
      "state": {
       "children": [
        "IPY_MODEL_acf79ecc0d194cccadabb8039ccfe7b2",
        "IPY_MODEL_e32843efc1d749bfb9e33d91ab4465df"
       ],
       "layout": "IPY_MODEL_0fe1c182ae7546668b3d481ba149ff7e"
      }
     },
     "2461d477850e4d1fabd6be43bdee873f": {
      "model_module": "@jupyter-widgets/base",
      "model_module_version": "1.1.0",
      "model_name": "LayoutModel",
      "state": {}
     },
     "248c9676964f49a4a7adcfb97df1d8b2": {
      "model_module": "@jupyter-widgets/controls",
      "model_module_version": "1.4.0",
      "model_name": "HBoxModel",
      "state": {
       "children": [
        "IPY_MODEL_1b283f67bb3e435bb486833439f4e15d",
        "IPY_MODEL_c6e474b257504120801bf5cf47c25673",
        "IPY_MODEL_64a740b9436f44aaa0cfc998be5bbacf"
       ],
       "layout": "IPY_MODEL_920ba9f7922142f3aca9c323e0825cc8"
      }
     },
     "249b0a489e7641d29fefa57c779e57d4": {
      "model_module": "@jupyter-widgets/base",
      "model_module_version": "1.1.0",
      "model_name": "LayoutModel",
      "state": {}
     },
     "24a0079b86c44579bb0b72d47e9aa9e1": {
      "model_module": "@jupyter-widgets/base",
      "model_module_version": "1.1.0",
      "model_name": "LayoutModel",
      "state": {
       "width": "20%"
      }
     },
     "24b8343f3aaf421d82bd41de58ccf06d": {
      "model_module": "@jupyter-widgets/base",
      "model_module_version": "1.1.0",
      "model_name": "LayoutModel",
      "state": {
       "width": "20%"
      }
     },
     "24fd6c9dd6c9434ea7244642035ea6e6": {
      "model_module": "@jupyter-widgets/base",
      "model_module_version": "1.1.0",
      "model_name": "LayoutModel",
      "state": {
       "width": "400px"
      }
     },
     "25066a0254274b978b78d676b1e6f0ff": {
      "model_module": "@jupyter-widgets/base",
      "model_module_version": "1.1.0",
      "model_name": "LayoutModel",
      "state": {
       "width": "50%"
      }
     },
     "2554c7ecebe34df9b09c3c5ef23d5504": {
      "model_module": "@jupyter-widgets/controls",
      "model_module_version": "1.4.0",
      "model_name": "ProgressStyleModel",
      "state": {
       "description_width": "initial"
      }
     },
     "2572bfd03a524f67a39f0af9549804c0": {
      "model_module": "@jupyter-widgets/controls",
      "model_module_version": "1.4.0",
      "model_name": "ButtonModel",
      "state": {
       "description": "Select ALL",
       "layout": "IPY_MODEL_5dd04bab801641ab99ee5d1aed119628",
       "style": "IPY_MODEL_bcf2472d805b40479621d2bebb8c97d5"
      }
     },
     "259f52eb93d04c00b084f5039e6e2de0": {
      "model_module": "@jupyter-widgets/base",
      "model_module_version": "1.1.0",
      "model_name": "LayoutModel",
      "state": {
       "width": "50%"
      }
     },
     "25bad9bdf5274c2ebd8a349fe1c8ba0c": {
      "model_module": "@jupyter-widgets/controls",
      "model_module_version": "1.4.0",
      "model_name": "SelectMultipleModel",
      "state": {
       "_options_labels": [
        "VI produced, good quality",
        "VI produced, but check other QA",
        "Pixel produced, but most probably cloudy",
        "Pixel not produced due to other reasons than clouds"
       ],
       "description": "Description",
       "index": [
        0
       ],
       "layout": "IPY_MODEL_ae509636cd934201bea56594dba6b625",
       "rows": 4,
       "style": "IPY_MODEL_2cdbb64c357f458b8cf2cadb39166c8b"
      }
     },
     "264112a1921c4cb4a91516a009535fad": {
      "model_module": "@jupyter-widgets/controls",
      "model_module_version": "1.4.0",
      "model_name": "SelectModel",
      "state": {
       "_options_labels": [
        "MODLAND",
        "VI Usefulness",
        "Aerosol Quantity",
        "Adjacent cloud detected",
        "Atmosphere BRDF Correction",
        "Mixed Clouds",
        "Land/Water Mask",
        "Possible snow/ice",
        "Possible shadow"
       ],
       "description": "QA Parameter name:",
       "index": 0,
       "layout": "IPY_MODEL_d401a8fbf26c49759194f70a59890fe4",
       "rows": 9,
       "style": "IPY_MODEL_d14444cc5a6e4d29a435550cc0fef159"
      }
     },
     "266c4a07dec245d698e3656b8a78a9a8": {
      "model_module": "@jupyter-widgets/base",
      "model_module_version": "1.1.0",
      "model_name": "LayoutModel",
      "state": {
       "width": "400px"
      }
     },
     "26d58705abb2428ea90969620b2a14ff": {
      "model_module": "@jupyter-widgets/controls",
      "model_module_version": "1.4.0",
      "model_name": "SelectModel",
      "state": {
       "_options_labels": [
        "MODLAND",
        "VI Usefulness",
        "Aerosol Quantity",
        "Adjacent cloud detected",
        "Atmosphere BRDF Correction",
        "Mixed Clouds",
        "Land/Water Mask",
        "Possible snow/ice",
        "Possible shadow"
       ],
       "description": "QA Parameter name:",
       "index": 8,
       "layout": "IPY_MODEL_9fb7ac70b9e949bda5859962e0518365",
       "rows": 9,
       "style": "IPY_MODEL_389ff2b4ebba446fb91fe16f2c42e716"
      }
     },
     "270e387467d64ff4b87bbbc9c60951a7": {
      "model_module": "@jupyter-widgets/base",
      "model_module_version": "1.1.0",
      "model_name": "LayoutModel",
      "state": {}
     },
     "274d52bb670345e38529fecf2138691d": {
      "model_module": "@jupyter-widgets/controls",
      "model_module_version": "1.4.0",
      "model_name": "DescriptionStyleModel",
      "state": {
       "description_width": ""
      }
     },
     "274fa190e5b847059e8265b409031bf2": {
      "model_module": "@jupyter-widgets/controls",
      "model_module_version": "1.4.0",
      "model_name": "DescriptionStyleModel",
      "state": {
       "description_width": ""
      }
     },
     "27aba4500c2a4896b0d8257fe9243269": {
      "model_module": "@jupyter-widgets/controls",
      "model_module_version": "1.4.0",
      "model_name": "DescriptionStyleModel",
      "state": {
       "description_width": "initial"
      }
     },
     "27c2c7c675cc4858a184a4cc4b70e0a4": {
      "model_module": "@jupyter-widgets/base",
      "model_module_version": "1.1.0",
      "model_name": "LayoutModel",
      "state": {
       "width": "20%"
      }
     },
     "27cf21b124fd40c3988f837b27c70557": {
      "model_module": "@jupyter-widgets/base",
      "model_module_version": "1.1.0",
      "model_name": "LayoutModel",
      "state": {
       "width": "400px"
      }
     },
     "27dd7585e8bc427a86ead79324609d5a": {
      "model_module": "@jupyter-widgets/controls",
      "model_module_version": "1.4.0",
      "model_name": "DescriptionStyleModel",
      "state": {
       "description_width": "initial"
      }
     },
     "27fa614808fb4cf0a7323d2aea744681": {
      "model_module": "@jupyter-widgets/controls",
      "model_module_version": "1.4.0",
      "model_name": "DescriptionStyleModel",
      "state": {
       "description_width": "initial"
      }
     },
     "28222368c77540849f9a0ac991025fc7": {
      "model_module": "@jupyter-widgets/base",
      "model_module_version": "1.1.0",
      "model_name": "LayoutModel",
      "state": {
       "width": "400px"
      }
     },
     "2829dd07eaf840aca96d578e3e93ace2": {
      "model_module": "@jupyter-widgets/base",
      "model_module_version": "1.1.0",
      "model_name": "LayoutModel",
      "state": {
       "width": "400px"
      }
     },
     "2834ac86181145cab7982e96ec8a5bf5": {
      "model_module": "@jupyter-widgets/controls",
      "model_module_version": "1.4.0",
      "model_name": "VBoxModel",
      "state": {
       "children": [
        "IPY_MODEL_533710720958450f9f06970d32d8b522"
       ],
       "layout": "IPY_MODEL_60ed67b3afd84a88a024fb90bb3d15d8"
      }
     },
     "28472946049a4892b887400bdff41433": {
      "model_module": "@jupyter-widgets/base",
      "model_module_version": "1.1.0",
      "model_name": "LayoutModel",
      "state": {}
     },
     "28527b93eceb4cf2b343126440d4be0a": {
      "model_module": "@jupyter-widgets/controls",
      "model_module_version": "1.4.0",
      "model_name": "ButtonStyleModel",
      "state": {}
     },
     "28bf80f859424696a83d0d48ebab201e": {
      "model_module": "@jupyter-widgets/controls",
      "model_module_version": "1.4.0",
      "model_name": "ButtonModel",
      "state": {
       "description": "QA analytics",
       "layout": "IPY_MODEL_3e4be94961704d5c98a5bd5c4bcc520a",
       "style": "IPY_MODEL_5e6fcfd840174106a12abb62897c52b2"
      }
     },
     "2903db63948d404d961d236b79eafd5f": {
      "model_module": "@jupyter-widgets/controls",
      "model_module_version": "1.4.0",
      "model_name": "ButtonStyleModel",
      "state": {}
     },
     "295a6c50dbb141a287fc6f1390e4bc04": {
      "model_module": "@jupyter-widgets/base",
      "model_module_version": "1.1.0",
      "model_name": "LayoutModel",
      "state": {
       "width": "20%"
      }
     },
     "29952583964b48e49209bbd948ae891e": {
      "model_module": "@jupyter-widgets/controls",
      "model_module_version": "1.4.0",
      "model_name": "HBoxModel",
      "state": {
       "children": [
        "IPY_MODEL_de6c210076fc4243b7049c4e328f9a71",
        "IPY_MODEL_49f4ac03e54d4a5787b2259f0364020e"
       ],
       "layout": "IPY_MODEL_ae29bb78e12044ae825d516ba95597cb"
      }
     },
     "29b518c557b245e7a8cd9a7928845b4c": {
      "model_module": "@jupyter-widgets/base",
      "model_module_version": "1.1.0",
      "model_name": "LayoutModel",
      "state": {
       "width": "400px"
      }
     },
     "29b997cd7a0a4f15b8b8806b90fa7eca": {
      "model_module": "@jupyter-widgets/controls",
      "model_module_version": "1.4.0",
      "model_name": "ButtonModel",
      "state": {
       "description": "Create mask",
       "layout": "IPY_MODEL_1c8c0498cc7149d7b9600e87d2e84fa2",
       "style": "IPY_MODEL_4eb68b496f1142a580f4dd0a53b6e184"
      }
     },
     "29e12c2d860d4bdaa0c7d048ed917825": {
      "model_module": "@jupyter-widgets/controls",
      "model_module_version": "1.4.0",
      "model_name": "HBoxModel",
      "state": {
       "children": [
        "IPY_MODEL_08681ec616594ab5b7c886705b482e4c",
        "IPY_MODEL_7918498bd3584f9391995c9b5df740e8",
        "IPY_MODEL_925c45d052e94c5ea2c3aa6e222e0e73"
       ],
       "layout": "IPY_MODEL_94a1dcec3ec34142b91a606a87bfe28a"
      }
     },
     "29f76712931c4302a61be18be160a238": {
      "model_module": "@jupyter-widgets/base",
      "model_module_version": "1.1.0",
      "model_name": "LayoutModel",
      "state": {}
     },
     "29fcf80829ca4754bef8db6f75067eda": {
      "model_module": "@jupyter-widgets/controls",
      "model_module_version": "1.4.0",
      "model_name": "ButtonModel",
      "state": {
       "description": "Select ALL",
       "layout": "IPY_MODEL_6583165a108b4220b9ca1ba2718bcde9",
       "style": "IPY_MODEL_2c95a0973e954d2fafa2cb9af69442b8"
      }
     },
     "2a0c8e8b1e384803bb0aeb1ee8deba91": {
      "model_module": "@jupyter-widgets/controls",
      "model_module_version": "1.4.0",
      "model_name": "ButtonModel",
      "state": {
       "description": "Default selection",
       "layout": "IPY_MODEL_502e325608e84b86a61a82529adf10dd",
       "style": "IPY_MODEL_7bc1fb9e0e2447429b4879f2ac138697"
      }
     },
     "2a0ffeb939ca40f2997e7d8d9023c6bb": {
      "model_module": "@jupyter-widgets/controls",
      "model_module_version": "1.4.0",
      "model_name": "VBoxModel",
      "state": {
       "children": [
        "IPY_MODEL_4daf4afcab8946609bcf6f161619d363"
       ],
       "layout": "IPY_MODEL_2461d477850e4d1fabd6be43bdee873f"
      }
     },
     "2a220d8bcbc04eaaa506020f594cd136": {
      "model_module": "@jupyter-widgets/controls",
      "model_module_version": "1.4.0",
      "model_name": "ButtonStyleModel",
      "state": {}
     },
     "2a2f4484f0094d4a9b315d23d3a0345f": {
      "model_module": "@jupyter-widgets/controls",
      "model_module_version": "1.4.0",
      "model_name": "HTMLModel",
      "state": {
       "description": "QA layer:",
       "layout": "IPY_MODEL_a2949af3ef9c44c38593c1b0e533b6d2",
       "style": "IPY_MODEL_502d16ff1575476a888260a0e505129c",
       "value": "<b>_1_km_16_days_pixel_reliability</b>"
      }
     },
     "2a4a5d52e1eb4a0abbe1d7d94e458ab5": {
      "model_module": "@jupyter-widgets/base",
      "model_module_version": "1.1.0",
      "model_name": "LayoutModel",
      "state": {}
     },
     "2a5c9e202a864c198018f1be67537eb0": {
      "model_module": "@jupyter-widgets/controls",
      "model_module_version": "1.4.0",
      "model_name": "HBoxModel",
      "state": {
       "children": [
        "IPY_MODEL_3f035a3944784ba38d064ebd8919278f",
        "IPY_MODEL_9b2912b9df1b4a76ada2d16e528cf2c1"
       ],
       "layout": "IPY_MODEL_832f6a1701f24e2d99a9ee109f93138e"
      }
     },
     "2a71b3ca41584cfdbdbdcbf72dd7f48f": {
      "model_module": "@jupyter-widgets/controls",
      "model_module_version": "1.4.0",
      "model_name": "ButtonStyleModel",
      "state": {}
     },
     "2a81d16840c341b6983a14f9cc07b136": {
      "model_module": "@jupyter-widgets/controls",
      "model_module_version": "1.4.0",
      "model_name": "HTMLModel",
      "state": {
       "description": "QA layer:",
       "layout": "IPY_MODEL_c53f2de9fd4d4ce3b5a32b4d9bf69e1a",
       "style": "IPY_MODEL_fba4426550a54ccdab33d8110f1d0f34",
       "value": "<b>_1_km_16_days_VI_Quality</b>"
      }
     },
     "2abbf3d69d7846fabbf6c4f1d2e6c6c9": {
      "model_module": "@jupyter-widgets/base",
      "model_module_version": "1.1.0",
      "model_name": "LayoutModel",
      "state": {
       "width": "400px"
      }
     },
     "2abdb439f3a541379b3e8569481f64ce": {
      "model_module": "@jupyter-widgets/base",
      "model_module_version": "1.1.0",
      "model_name": "LayoutModel",
      "state": {}
     },
     "2abe893524f24559aacab9c690b7994a": {
      "model_module": "@jupyter-widgets/base",
      "model_module_version": "1.1.0",
      "model_name": "LayoutModel",
      "state": {}
     },
     "2b17cc7c13884f0292bb2532b0eae484": {
      "model_module": "@jupyter-widgets/base",
      "model_module_version": "1.1.0",
      "model_name": "LayoutModel",
      "state": {
       "width": "400px"
      }
     },
     "2b286b9eff0b486593590c2f8fa05e79": {
      "model_module": "@jupyter-widgets/controls",
      "model_module_version": "1.4.0",
      "model_name": "VBoxModel",
      "state": {
       "children": [
        "IPY_MODEL_1a890a6bc21e4e01ae8d3bf0c5e8d510"
       ],
       "layout": "IPY_MODEL_2abe893524f24559aacab9c690b7994a"
      }
     },
     "2b34fe26dbd64f98ac45cd34778c7876": {
      "model_module": "@jupyter-widgets/base",
      "model_module_version": "1.1.0",
      "model_name": "LayoutModel",
      "state": {}
     },
     "2b3e8d4971c042219c52a80ac84c83a6": {
      "model_module": "@jupyter-widgets/controls",
      "model_module_version": "1.4.0",
      "model_name": "DescriptionStyleModel",
      "state": {
       "description_width": "initial"
      }
     },
     "2b80b8efdcd14e75979bdf1712bfa52a": {
      "model_module": "@jupyter-widgets/base",
      "model_module_version": "1.1.0",
      "model_name": "LayoutModel",
      "state": {
       "width": "20%"
      }
     },
     "2b99ea60a2eb47d3b3bf0361bf21731a": {
      "model_module": "@jupyter-widgets/base",
      "model_module_version": "1.1.0",
      "model_name": "LayoutModel",
      "state": {
       "width": "400px"
      }
     },
     "2b9c21ce1d274cd995eb2f48b54a21d7": {
      "model_module": "@jupyter-widgets/base",
      "model_module_version": "1.1.0",
      "model_name": "LayoutModel",
      "state": {}
     },
     "2bb3ce1b44d647feb34709478beda153": {
      "model_module": "@jupyter-widgets/controls",
      "model_module_version": "1.4.0",
      "model_name": "VBoxModel",
      "state": {
       "children": [
        "IPY_MODEL_25bad9bdf5274c2ebd8a349fe1c8ba0c"
       ],
       "layout": "IPY_MODEL_871ea2aafa8549eb8c49a5075c024373"
      }
     },
     "2bc2da23d4c04c6b9cc35decbb940748": {
      "model_module": "@jupyter-widgets/base",
      "model_module_version": "1.1.0",
      "model_name": "LayoutModel",
      "state": {
       "width": "20%"
      }
     },
     "2bc4b9792f5048f19ec2c8fc3cefc2cf": {
      "model_module": "@jupyter-widgets/base",
      "model_module_version": "1.1.0",
      "model_name": "LayoutModel",
      "state": {
       "width": "400px"
      }
     },
     "2bd1f74660874bb1b00483bbb55f3b0b": {
      "model_module": "@jupyter-widgets/base",
      "model_module_version": "1.1.0",
      "model_name": "LayoutModel",
      "state": {}
     },
     "2bf0a7ee93014f08836cb3780afb6e98": {
      "model_module": "@jupyter-widgets/controls",
      "model_module_version": "1.4.0",
      "model_name": "DescriptionStyleModel",
      "state": {
       "description_width": ""
      }
     },
     "2c376ff915e940f1908da7b7efd36b61": {
      "model_module": "@jupyter-widgets/base",
      "model_module_version": "1.1.0",
      "model_name": "LayoutModel",
      "state": {
       "width": "20%"
      }
     },
     "2c4e274ef0654d5dbfe671549c94cbea": {
      "model_module": "@jupyter-widgets/base",
      "model_module_version": "1.1.0",
      "model_name": "LayoutModel",
      "state": {}
     },
     "2c66ba0adb034a08b33ca35b6ee5a142": {
      "model_module": "@jupyter-widgets/controls",
      "model_module_version": "1.4.0",
      "model_name": "ButtonModel",
      "state": {
       "description": "Default selection",
       "layout": "IPY_MODEL_80b17b7a58b64bf785335225e22967b4",
       "style": "IPY_MODEL_556556c154074e1c9f14b373b8c7b8c4"
      }
     },
     "2c6c800aa6e144b7bee27b9e597a5d34": {
      "model_module": "@jupyter-widgets/controls",
      "model_module_version": "1.4.0",
      "model_name": "ProgressStyleModel",
      "state": {
       "description_width": "initial"
      }
     },
     "2c95a0973e954d2fafa2cb9af69442b8": {
      "model_module": "@jupyter-widgets/controls",
      "model_module_version": "1.4.0",
      "model_name": "ButtonStyleModel",
      "state": {}
     },
     "2ca84de7e3d145f1838bf3ef11d2ec6d": {
      "model_module": "@jupyter-widgets/base",
      "model_module_version": "1.1.0",
      "model_name": "LayoutModel",
      "state": {
       "width": "400px"
      }
     },
     "2cac40d73da14cc4b7d8a43bd76f0cfe": {
      "model_module": "@jupyter-widgets/controls",
      "model_module_version": "1.4.0",
      "model_name": "SelectMultipleModel",
      "state": {
       "_options_labels": [
        "VI produced, good quality",
        "VI produced, but check other QA",
        "Pixel produced, but most probably cloudy",
        "Pixel not produced due to other reasons than clouds"
       ],
       "description": "Description",
       "index": [
        0
       ],
       "layout": "IPY_MODEL_464b12aae835474faa1cd4c27b064e62",
       "rows": 4,
       "style": "IPY_MODEL_65e2abd0d07a434d82146a415ea41a71"
      }
     },
     "2cba1d10c2d94b7abeb0391d7273124a": {
      "model_module": "@jupyter-widgets/base",
      "model_module_version": "1.1.0",
      "model_name": "LayoutModel",
      "state": {}
     },
     "2cbf54e0e3e5401ca843d1919eb97d83": {
      "model_module": "@jupyter-widgets/base",
      "model_module_version": "1.1.0",
      "model_name": "LayoutModel",
      "state": {
       "width": "400px"
      }
     },
     "2cdbb64c357f458b8cf2cadb39166c8b": {
      "model_module": "@jupyter-widgets/controls",
      "model_module_version": "1.4.0",
      "model_name": "DescriptionStyleModel",
      "state": {
       "description_width": "initial"
      }
     },
     "2cddd8f3ea8a4973955295bf64754e25": {
      "model_module": "@jupyter-widgets/controls",
      "model_module_version": "1.4.0",
      "model_name": "ButtonStyleModel",
      "state": {}
     },
     "2ce44ceeb5034fc1ba4688bf6979c902": {
      "model_module": "@jupyter-widgets/controls",
      "model_module_version": "1.4.0",
      "model_name": "HTMLModel",
      "state": {
       "description": "QA layer:",
       "layout": "IPY_MODEL_6642f33871aa4d4eb04e8edf8b75bff6",
       "style": "IPY_MODEL_a3fe0091d5514ca791a18081dfe133c7",
       "value": "<b>_1_km_16_days_VI_Quality</b>"
      }
     },
     "2d03a538860744daac70ec3a566574d8": {
      "model_module": "@jupyter-widgets/base",
      "model_module_version": "1.1.0",
      "model_name": "LayoutModel",
      "state": {
       "width": "20%"
      }
     },
     "2d04215c11f94c00a3f55d025b872108": {
      "model_module": "@jupyter-widgets/controls",
      "model_module_version": "1.4.0",
      "model_name": "HTMLModel",
      "state": {
       "description": "QA layer:",
       "layout": "IPY_MODEL_1ddabc68fd754b798d56012756d8a7ce",
       "style": "IPY_MODEL_ca9fa59691104ae19853d213b0de015e",
       "value": "<b>_1_km_16_days_VI_Quality</b>"
      }
     },
     "2d26346c5bc84438872963fcbb3b12c0": {
      "model_module": "@jupyter-widgets/controls",
      "model_module_version": "1.4.0",
      "model_name": "ButtonModel",
      "state": {
       "description": "Select ALL",
       "layout": "IPY_MODEL_c1c1b80c211647f1903cf7f33fa71556",
       "style": "IPY_MODEL_c52a94c0f9a94687bc580a4b7974285d"
      }
     },
     "2d39ca88f1dd4458b536d54083d77912": {
      "model_module": "@jupyter-widgets/base",
      "model_module_version": "1.1.0",
      "model_name": "LayoutModel",
      "state": {
       "height": "350px",
       "width": "99%"
      }
     },
     "2d5fc16dc6d748669955e1f41342b500": {
      "model_module": "@jupyter-widgets/controls",
      "model_module_version": "1.4.0",
      "model_name": "HTMLModel",
      "state": {
       "description": "QA layer:",
       "layout": "IPY_MODEL_49c9c258b2734cb2952ed13cd1a46594",
       "style": "IPY_MODEL_d596834e527d40d29d0d61eb1b27a7a7",
       "value": "<b>_1_km_16_days_VI_Quality</b>"
      }
     },
     "2d705405e176413db6586a5c5094726e": {
      "model_module": "@jupyter-widgets/controls",
      "model_module_version": "1.4.0",
      "model_name": "DescriptionStyleModel",
      "state": {
       "description_width": "initial"
      }
     },
     "2d7d283c7a9a43de9e20047eea12c715": {
      "model_module": "@jupyter-widgets/base",
      "model_module_version": "1.1.0",
      "model_name": "LayoutModel",
      "state": {
       "height": "300px",
       "width": "99%"
      }
     },
     "2da6360d9a674ff2a13be7c561f9b6eb": {
      "model_module": "@jupyter-widgets/base",
      "model_module_version": "1.1.0",
      "model_name": "LayoutModel",
      "state": {}
     },
     "2db0146b5a284a0dad93c39f2e54d8fb": {
      "model_module": "@jupyter-widgets/controls",
      "model_module_version": "1.4.0",
      "model_name": "SelectMultipleModel",
      "state": {
       "_options_labels": [
        "No",
        "Yes"
       ],
       "description": "Description",
       "index": [
        0,
        1
       ],
       "layout": "IPY_MODEL_238938819d6549b48c60cb09167b4447",
       "rows": 2,
       "style": "IPY_MODEL_0a2949cf914644c1a1bce9a3844ed794"
      }
     },
     "2dc03a341cc34a57b150909b33aa950e": {
      "model_module": "@jupyter-widgets/controls",
      "model_module_version": "1.4.0",
      "model_name": "ButtonStyleModel",
      "state": {}
     },
     "2dc3b1b90b774ccc857c3f6baec3d677": {
      "model_module": "@jupyter-widgets/controls",
      "model_module_version": "1.4.0",
      "model_name": "SelectModel",
      "state": {
       "_options_labels": [
        "MODLAND",
        "VI Usefulness",
        "Aerosol Quantity",
        "Adjacent cloud detected",
        "Atmosphere BRDF Correction",
        "Mixed Clouds",
        "Land/Water Mask",
        "Possible snow/ice",
        "Possible shadow"
       ],
       "description": "QA Parameter name:",
       "index": 8,
       "layout": "IPY_MODEL_2abbf3d69d7846fabbf6c4f1d2e6c6c9",
       "rows": 9,
       "style": "IPY_MODEL_a0d8eb47340340f2901f6c5154615b67"
      }
     },
     "2dcf6882506b4d5ebf5e484d686f2272": {
      "model_module": "@jupyter-widgets/controls",
      "model_module_version": "1.4.0",
      "model_name": "SelectMultipleModel",
      "state": {
       "_options_labels": [
        "VI produced, good quality",
        "VI produced, but check other QA",
        "Pixel produced, but most probably cloudy",
        "Pixel not produced due to other reasons than clouds"
       ],
       "description": "Description",
       "index": [
        0
       ],
       "layout": "IPY_MODEL_2402ed7a8a6c45ffb630baf06b0afbf6",
       "rows": 4,
       "style": "IPY_MODEL_42513564edb143feae49a61a107ca53e"
      }
     },
     "2ddd3e087de54bfd9e0c1a81e90dcea7": {
      "model_module": "@jupyter-widgets/base",
      "model_module_version": "1.1.0",
      "model_name": "LayoutModel",
      "state": {
       "height": "300px",
       "width": "99%"
      }
     },
     "2de4330e2c604875b6056e95a286d15f": {
      "model_module": "@jupyter-widgets/controls",
      "model_module_version": "1.4.0",
      "model_name": "ButtonModel",
      "state": {
       "description": "Default selection",
       "layout": "IPY_MODEL_e1fc1647f6644814b341305b0b79af17",
       "style": "IPY_MODEL_0532aaa07447410aa64eb818a8484104"
      }
     },
     "2e08207dc2b24a1cb9f6fb381bc4a29c": {
      "model_module": "@jupyter-widgets/controls",
      "model_module_version": "1.4.0",
      "model_name": "DescriptionStyleModel",
      "state": {
       "description_width": ""
      }
     },
     "2e0fa5774b1d4b0f89b379eaba7865cc": {
      "model_module": "@jupyter-widgets/base",
      "model_module_version": "1.1.0",
      "model_name": "LayoutModel",
      "state": {
       "width": "20%"
      }
     },
     "2e157b567b8e4ce1bb74824576afd43d": {
      "model_module": "@jupyter-widgets/controls",
      "model_module_version": "1.4.0",
      "model_name": "VBoxModel",
      "state": {
       "children": [
        "IPY_MODEL_5c5a211e79bd455694ae69cb73733ecb"
       ],
       "layout": "IPY_MODEL_02f7385231b54992a700c537a6574b66"
      }
     },
     "2e1b9bea68624ecc9af7e68a9f7f4ef6": {
      "model_module": "@jupyter-widgets/controls",
      "model_module_version": "1.4.0",
      "model_name": "ButtonModel",
      "state": {
       "description": "Default selection",
       "layout": "IPY_MODEL_9583f87bddaf46239f4d88fa676c4b00",
       "style": "IPY_MODEL_a2ca52b8f2bc4656ad95b7c8ddffab76"
      }
     },
     "2e22a6ebfeac4633883c0874e612eb2c": {
      "model_module": "@jupyter-widgets/controls",
      "model_module_version": "1.4.0",
      "model_name": "HTMLModel",
      "state": {
       "description": "QA layer:",
       "layout": "IPY_MODEL_022776907494499896257b07021d9f77",
       "style": "IPY_MODEL_dc7e06e77261415ca0d41b899ce88245",
       "value": "<b>_1_km_16_days_pixel_reliability</b>"
      }
     },
     "2e435fbc493c4f0cb415a8fec10171e2": {
      "model_module": "@jupyter-widgets/controls",
      "model_module_version": "1.4.0",
      "model_name": "ButtonStyleModel",
      "state": {}
     },
     "2e6e060aaec945fcac57f540103c8494": {
      "model_module": "@jupyter-widgets/controls",
      "model_module_version": "1.4.0",
      "model_name": "ButtonStyleModel",
      "state": {}
     },
     "2e88afd67c8e4831a81cbcdad4a0a928": {
      "model_module": "@jupyter-widgets/base",
      "model_module_version": "1.1.0",
      "model_name": "LayoutModel",
      "state": {
       "width": "400px"
      }
     },
     "2ea85195a4d6482b8092fe05d734a502": {
      "model_module": "@jupyter-widgets/controls",
      "model_module_version": "1.4.0",
      "model_name": "SelectMultipleModel",
      "state": {
       "_options_labels": [
        "No",
        "Yes"
       ],
       "description": "Description",
       "index": [
        0
       ],
       "layout": "IPY_MODEL_81d46869bcc7453c9744f4bd264c9059",
       "rows": 2,
       "style": "IPY_MODEL_0d453c892154499ab192f604d45c71b1"
      }
     },
     "2ebf03da28174c8697256632bbc6f732": {
      "model_module": "@jupyter-widgets/base",
      "model_module_version": "1.1.0",
      "model_name": "LayoutModel",
      "state": {
       "width": "20%"
      }
     },
     "2ed6be27893341e994f7320225441a3b": {
      "model_module": "@jupyter-widgets/controls",
      "model_module_version": "1.4.0",
      "model_name": "ButtonStyleModel",
      "state": {}
     },
     "2ef14051eff84b7292974e8f2ba3cea8": {
      "model_module": "@jupyter-widgets/base",
      "model_module_version": "1.1.0",
      "model_name": "LayoutModel",
      "state": {
       "width": "20%"
      }
     },
     "2f02b6fff31844c6b21f2f3aba108245": {
      "model_module": "@jupyter-widgets/base",
      "model_module_version": "1.1.0",
      "model_name": "LayoutModel",
      "state": {
       "width": "20%"
      }
     },
     "2f412c971dc44cac871aa202008f54fe": {
      "model_module": "@jupyter-widgets/base",
      "model_module_version": "1.1.0",
      "model_name": "LayoutModel",
      "state": {}
     },
     "2f8c9f2ec17c4e87b538c987d3dfc49d": {
      "model_module": "@jupyter-widgets/controls",
      "model_module_version": "1.4.0",
      "model_name": "ButtonStyleModel",
      "state": {}
     },
     "2f8df66b7ea3401c9fc3f43f458bcf48": {
      "model_module": "@jupyter-widgets/controls",
      "model_module_version": "1.4.0",
      "model_name": "DescriptionStyleModel",
      "state": {
       "description_width": "initial"
      }
     },
     "2ffb9f06647d4a5d9639803c777ba950": {
      "model_module": "@jupyter-widgets/base",
      "model_module_version": "1.1.0",
      "model_name": "LayoutModel",
      "state": {
       "width": "400px"
      }
     },
     "3047c53770ec49aab3216f51456ea688": {
      "model_module": "@jupyter-widgets/base",
      "model_module_version": "1.1.0",
      "model_name": "LayoutModel",
      "state": {
       "width": "20%"
      }
     },
     "3076fff0f0d64fb299c8f7cbf9b076da": {
      "model_module": "@jupyter-widgets/base",
      "model_module_version": "1.1.0",
      "model_name": "LayoutModel",
      "state": {}
     },
     "3077541acf6444caa244c937aa00a621": {
      "model_module": "@jupyter-widgets/controls",
      "model_module_version": "1.4.0",
      "model_name": "VBoxModel",
      "state": {
       "children": [
        "IPY_MODEL_d0a821561ed943e4b53923d5185f405e"
       ],
       "layout": "IPY_MODEL_92101dde13d2497ebe8967ffbbcc2933"
      }
     },
     "3092a3fbf2764d22b306ce7a788f38a1": {
      "model_module": "@jupyter-widgets/controls",
      "model_module_version": "1.4.0",
      "model_name": "HTMLModel",
      "state": {
       "description": "QA layer:",
       "layout": "IPY_MODEL_2b34fe26dbd64f98ac45cd34778c7876",
       "style": "IPY_MODEL_274d52bb670345e38529fecf2138691d",
       "value": "<b>_1_km_16_days_VI_Quality</b>"
      }
     },
     "30951e5b9fba48edba688d70e9712d01": {
      "model_module": "@jupyter-widgets/controls",
      "model_module_version": "1.4.0",
      "model_name": "SelectModel",
      "state": {
       "_options_labels": [
        "MODLAND",
        "VI Usefulness",
        "Aerosol Quantity",
        "Adjacent cloud detected",
        "Atmosphere BRDF Correction",
        "Mixed Clouds",
        "Land/Water Mask",
        "Possible snow/ice",
        "Possible shadow"
       ],
       "description": "QA Parameter name:",
       "index": 0,
       "layout": "IPY_MODEL_fcb6143ce1a6499caf785a99c4fa0afc",
       "rows": 9,
       "style": "IPY_MODEL_37844a4e40b84621b8b55097fff095eb"
      }
     },
     "30ad613dc0f340199f0d0e435d90585b": {
      "model_module": "@jupyter-widgets/controls",
      "model_module_version": "1.4.0",
      "model_name": "HBoxModel",
      "state": {
       "children": [
        "IPY_MODEL_89f99677d925413986681a2eaf52ffeb",
        "IPY_MODEL_96033b897acb4b4fbdc07676bd2c7284"
       ],
       "layout": "IPY_MODEL_ef644ecf497549768a81c3a85035c9ed"
      }
     },
     "30cb908f1c4b45ecb71b3e670d61d4ea": {
      "model_module": "@jupyter-widgets/controls",
      "model_module_version": "1.4.0",
      "model_name": "HTMLModel",
      "state": {
       "description": "QA layer:",
       "layout": "IPY_MODEL_4dc03e0ffe8140a8b0a9e0efc94ae836",
       "style": "IPY_MODEL_c625062ae77a4f359c72fef93871eebc",
       "value": "<b>_1_km_16_days_VI_Quality</b>"
      }
     },
     "30d0afb23be14d628bae09b41e0631d2": {
      "model_module": "@jupyter-widgets/base",
      "model_module_version": "1.1.0",
      "model_name": "LayoutModel",
      "state": {
       "width": "20%"
      }
     },
     "30da3984e5fe48f5ba24e9709dec8f91": {
      "model_module": "@jupyter-widgets/base",
      "model_module_version": "1.1.0",
      "model_name": "LayoutModel",
      "state": {
       "height": "300px",
       "width": "99%"
      }
     },
     "30dba7168a774088965d35f2bbe1b24e": {
      "model_module": "@jupyter-widgets/controls",
      "model_module_version": "1.4.0",
      "model_name": "ButtonStyleModel",
      "state": {}
     },
     "313d190ea8bb47f6ab75c5b23d166ac1": {
      "model_module": "@jupyter-widgets/controls",
      "model_module_version": "1.4.0",
      "model_name": "HTMLModel",
      "state": {
       "description": "QA layer:",
       "layout": "IPY_MODEL_3fc2a42aea354a4188fb570ccad5846c",
       "style": "IPY_MODEL_ad1c8ed474b24b5cae4f5423b354df6c",
       "value": "<b>_1_km_16_days_pixel_reliability</b>"
      }
     },
     "3147842e03b44f0a9cdb5ea510519392": {
      "model_module": "@jupyter-widgets/controls",
      "model_module_version": "1.4.0",
      "model_name": "ButtonStyleModel",
      "state": {}
     },
     "3149d2704d804440823fa64d79ea934c": {
      "model_module": "@jupyter-widgets/controls",
      "model_module_version": "1.4.0",
      "model_name": "ButtonModel",
      "state": {
       "description": "Default selection",
       "layout": "IPY_MODEL_edd52ff7ab0647e9bbea5871a97b717d",
       "style": "IPY_MODEL_2ed6be27893341e994f7320225441a3b"
      }
     },
     "316c2209c1244d159ea0ad41032cea18": {
      "model_module": "@jupyter-widgets/base",
      "model_module_version": "1.1.0",
      "model_name": "LayoutModel",
      "state": {}
     },
     "319eedc4e2bf4903b06bf630c7e4eafc": {
      "model_module": "@jupyter-widgets/base",
      "model_module_version": "1.1.0",
      "model_name": "LayoutModel",
      "state": {}
     },
     "31d842f56add478f875483c201922890": {
      "model_module": "@jupyter-widgets/base",
      "model_module_version": "1.1.0",
      "model_name": "LayoutModel",
      "state": {}
     },
     "3247faf3a5804705ac0203819db802fc": {
      "model_module": "@jupyter-widgets/controls",
      "model_module_version": "1.4.0",
      "model_name": "DescriptionStyleModel",
      "state": {
       "description_width": "initial"
      }
     },
     "328f3dd70fb448e8bb85c071a337f132": {
      "model_module": "@jupyter-widgets/base",
      "model_module_version": "1.1.0",
      "model_name": "LayoutModel",
      "state": {
       "width": "50%"
      }
     },
     "32955758328341509682931284b532f1": {
      "model_module": "@jupyter-widgets/controls",
      "model_module_version": "1.4.0",
      "model_name": "DescriptionStyleModel",
      "state": {
       "description_width": ""
      }
     },
     "32c4e8ea507d4af59da623bc3f925453": {
      "model_module": "@jupyter-widgets/controls",
      "model_module_version": "1.4.0",
      "model_name": "HTMLModel",
      "state": {
       "description": "QA layer:",
       "layout": "IPY_MODEL_5303ad3fba83404f89b0e294bd17eccb",
       "style": "IPY_MODEL_69814ca2040e425fb96e904e404a62af",
       "value": "<b>_1_km_16_days_VI_Quality</b>"
      }
     },
     "3316d7604c464b54bfaf368b9946ecba": {
      "model_module": "@jupyter-widgets/controls",
      "model_module_version": "1.4.0",
      "model_name": "ButtonStyleModel",
      "state": {}
     },
     "334017913c7a402aabde7a853c31363b": {
      "model_module": "@jupyter-widgets/controls",
      "model_module_version": "1.4.0",
      "model_name": "ButtonStyleModel",
      "state": {}
     },
     "33621953e00946a683f1dd28078e1a26": {
      "model_module": "@jupyter-widgets/controls",
      "model_module_version": "1.4.0",
      "model_name": "ButtonStyleModel",
      "state": {}
     },
     "3377a39b84aa45f89fc6aff04f169216": {
      "model_module": "@jupyter-widgets/controls",
      "model_module_version": "1.4.0",
      "model_name": "VBoxModel",
      "state": {
       "children": [
        "IPY_MODEL_a002be20c79044db8718a47ba3ddf2d3"
       ],
       "layout": "IPY_MODEL_b0f470ea3a5844afa51f61c54a378baf"
      }
     },
     "3386ccc9581e4874b6f426375112e0f4": {
      "model_module": "@jupyter-widgets/controls",
      "model_module_version": "1.4.0",
      "model_name": "DescriptionStyleModel",
      "state": {
       "description_width": "initial"
      }
     },
     "339eb2c2b4d743c88e62bc01ba585f01": {
      "model_module": "@jupyter-widgets/base",
      "model_module_version": "1.1.0",
      "model_name": "LayoutModel",
      "state": {
       "width": "50%"
      }
     },
     "33b704aab6d44277b5c1a673ccee9bc0": {
      "model_module": "@jupyter-widgets/controls",
      "model_module_version": "1.4.0",
      "model_name": "HBoxModel",
      "state": {
       "children": [
        "IPY_MODEL_2834ac86181145cab7982e96ec8a5bf5",
        "IPY_MODEL_c575b1cb8ac04441b7610d7bfec0166e"
       ],
       "layout": "IPY_MODEL_b0437aecd5e448979c0f6f796a41909d"
      }
     },
     "33c938526aee48fa8c4a57c2455261cd": {
      "model_module": "@jupyter-widgets/controls",
      "model_module_version": "1.4.0",
      "model_name": "ButtonStyleModel",
      "state": {}
     },
     "33d32f0b1d084ed09213a28ee47410b3": {
      "model_module": "@jupyter-widgets/controls",
      "model_module_version": "1.4.0",
      "model_name": "VBoxModel",
      "state": {
       "children": [
        "IPY_MODEL_fc87876d70b449168d76c4110de2c6a0"
       ],
       "layout": "IPY_MODEL_cc556288185e4ecf8866a7824bdf4e12"
      }
     },
     "33f50ae5b5e34608b2e4d09de5e347f5": {
      "model_module": "@jupyter-widgets/base",
      "model_module_version": "1.1.0",
      "model_name": "LayoutModel",
      "state": {
       "width": "400px"
      }
     },
     "33fb51f8fb1e4a26b3fe428bc718ecf9": {
      "model_module": "@jupyter-widgets/controls",
      "model_module_version": "1.4.0",
      "model_name": "ButtonModel",
      "state": {
       "description": "Select ALL",
       "layout": "IPY_MODEL_a1105c87cbfc49d89bb6181832302945",
       "style": "IPY_MODEL_138563f039854c5ebe13ce908372bd40"
      }
     },
     "3400e41ba610485e8742c717649d34a0": {
      "model_module": "@jupyter-widgets/base",
      "model_module_version": "1.1.0",
      "model_name": "LayoutModel",
      "state": {
       "width": "49%"
      }
     },
     "341880262886454aa41ba04455696499": {
      "model_module": "@jupyter-widgets/controls",
      "model_module_version": "1.4.0",
      "model_name": "ButtonStyleModel",
      "state": {}
     },
     "34a179cf34b5442fbaae55e10db5f7b4": {
      "model_module": "@jupyter-widgets/base",
      "model_module_version": "1.1.0",
      "model_name": "LayoutModel",
      "state": {
       "height": "350px",
       "width": "99%"
      }
     },
     "34cb9b60a7274f389d6509c6cd700f30": {
      "model_module": "@jupyter-widgets/controls",
      "model_module_version": "1.4.0",
      "model_name": "VBoxModel",
      "state": {
       "children": [
        "IPY_MODEL_7197d78f437f4f8195ae21ae4e33487d"
       ],
       "layout": "IPY_MODEL_369ef5ba2a9a4e92bf46ba3078a20f51"
      }
     },
     "351df6b21dfc4b27b51b540b5ddda4da": {
      "model_module": "@jupyter-widgets/base",
      "model_module_version": "1.1.0",
      "model_name": "LayoutModel",
      "state": {}
     },
     "3539a202b73b46da93f27bdb033e9767": {
      "model_module": "@jupyter-widgets/base",
      "model_module_version": "1.1.0",
      "model_name": "LayoutModel",
      "state": {}
     },
     "3541f04e34094dfda8e83e6f7109f7f9": {
      "model_module": "@jupyter-widgets/base",
      "model_module_version": "1.1.0",
      "model_name": "LayoutModel",
      "state": {
       "width": "400px"
      }
     },
     "35473008c8e3445cb056e12aaa0b79ec": {
      "model_module": "@jupyter-widgets/controls",
      "model_module_version": "1.4.0",
      "model_name": "SelectMultipleModel",
      "state": {
       "_options_labels": [
        "VI produced, good quality",
        "VI produced, but check other QA",
        "Pixel produced, but most probably cloudy",
        "Pixel not produced due to other reasons than clouds"
       ],
       "description": "Description",
       "index": [
        0
       ],
       "layout": "IPY_MODEL_1288e162fc4443bd882e1fceb4c4a9dc",
       "rows": 4,
       "style": "IPY_MODEL_9569ab31c9ae47c087fedef5ef40f43f"
      }
     },
     "3547f4204f4b41b1b17f97a2791daab8": {
      "model_module": "@jupyter-widgets/base",
      "model_module_version": "1.1.0",
      "model_name": "LayoutModel",
      "state": {
       "width": "19%"
      }
     },
     "3551277058f745198282e3cf08bb6251": {
      "model_module": "@jupyter-widgets/controls",
      "model_module_version": "1.4.0",
      "model_name": "VBoxModel",
      "state": {
       "children": [
        "IPY_MODEL_35473008c8e3445cb056e12aaa0b79ec"
       ],
       "layout": "IPY_MODEL_92ab97ebff8e421ca6d3bdffb634b228"
      }
     },
     "357c9fc9267040e880c0bd505c2ffcc2": {
      "model_module": "@jupyter-widgets/base",
      "model_module_version": "1.1.0",
      "model_name": "LayoutModel",
      "state": {}
     },
     "35a4e9785ba44a1ba4b700421ae00552": {
      "model_module": "@jupyter-widgets/controls",
      "model_module_version": "1.4.0",
      "model_name": "DescriptionStyleModel",
      "state": {
       "description_width": "initial"
      }
     },
     "35f1132ff90441e496b723e9cf337539": {
      "model_module": "@jupyter-widgets/controls",
      "model_module_version": "1.4.0",
      "model_name": "DescriptionStyleModel",
      "state": {
       "description_width": "initial"
      }
     },
     "35fc3f33dd584121b1a5aca02bb53a5d": {
      "model_module": "@jupyter-widgets/controls",
      "model_module_version": "1.4.0",
      "model_name": "ButtonModel",
      "state": {
       "description": "Default selection",
       "layout": "IPY_MODEL_ae4e99b6b3de4ee79f888bfeec25fee6",
       "style": "IPY_MODEL_79d3d05ba4a74ba793e9d1ccc8e9e389"
      }
     },
     "3636b30bb3cc4d2a9474afb3befd28a8": {
      "model_module": "@jupyter-widgets/base",
      "model_module_version": "1.1.0",
      "model_name": "LayoutModel",
      "state": {
       "width": "50%"
      }
     },
     "369da348771543148f0fd1e50d0cdc87": {
      "model_module": "@jupyter-widgets/base",
      "model_module_version": "1.1.0",
      "model_name": "LayoutModel",
      "state": {}
     },
     "369ef5ba2a9a4e92bf46ba3078a20f51": {
      "model_module": "@jupyter-widgets/base",
      "model_module_version": "1.1.0",
      "model_name": "LayoutModel",
      "state": {}
     },
     "36af847586f1410a8831434418832718": {
      "model_module": "@jupyter-widgets/base",
      "model_module_version": "1.1.0",
      "model_name": "LayoutModel",
      "state": {
       "width": "20%"
      }
     },
     "36ea5c7085b7419e9c9b208648a05967": {
      "model_module": "@jupyter-widgets/controls",
      "model_module_version": "1.4.0",
      "model_name": "ProgressStyleModel",
      "state": {
       "description_width": "initial"
      }
     },
     "36fbd56f9e164cbb9f2010f4b94ee7ce": {
      "model_module": "@jupyter-widgets/controls",
      "model_module_version": "1.4.0",
      "model_name": "ButtonStyleModel",
      "state": {}
     },
     "36fbd7cdba034eaab147c97dcc8133d3": {
      "model_module": "@jupyter-widgets/base",
      "model_module_version": "1.1.0",
      "model_name": "LayoutModel",
      "state": {
       "width": "400px"
      }
     },
     "3702ac33c0e44d10a60bca979a999dd7": {
      "model_module": "@jupyter-widgets/controls",
      "model_module_version": "1.4.0",
      "model_name": "DescriptionStyleModel",
      "state": {
       "description_width": ""
      }
     },
     "370b9060558a46a0972614895d3472bb": {
      "model_module": "@jupyter-widgets/base",
      "model_module_version": "1.1.0",
      "model_name": "LayoutModel",
      "state": {}
     },
     "370c724799c444b6b17b619a1722d481": {
      "model_module": "@jupyter-widgets/controls",
      "model_module_version": "1.4.0",
      "model_name": "ButtonModel",
      "state": {
       "description": "Select ALL",
       "layout": "IPY_MODEL_9d7113f31bd74ea4b0ee2128f5e290ca",
       "style": "IPY_MODEL_b233f60d9c904692ac5740fe02ae53d9"
      }
     },
     "371aa72cca204abdb87cfe1fbd501b14": {
      "model_module": "@jupyter-widgets/base",
      "model_module_version": "1.1.0",
      "model_name": "LayoutModel",
      "state": {
       "width": "400px"
      }
     },
     "3745ad6943794a1d9ebffe1cd6bc1f88": {
      "model_module": "@jupyter-widgets/controls",
      "model_module_version": "1.4.0",
      "model_name": "ProgressStyleModel",
      "state": {
       "description_width": "initial"
      }
     },
     "3750a09228234ee08cb676d83a8b713a": {
      "model_module": "@jupyter-widgets/base",
      "model_module_version": "1.1.0",
      "model_name": "LayoutModel",
      "state": {
       "width": "20%"
      }
     },
     "37844a4e40b84621b8b55097fff095eb": {
      "model_module": "@jupyter-widgets/controls",
      "model_module_version": "1.4.0",
      "model_name": "DescriptionStyleModel",
      "state": {
       "description_width": "initial"
      }
     },
     "37864395e7774c68ac6e984be5cff1c6": {
      "model_module": "@jupyter-widgets/base",
      "model_module_version": "1.1.0",
      "model_name": "LayoutModel",
      "state": {}
     },
     "3788059c8bba4688b64d741687ce5742": {
      "model_module": "@jupyter-widgets/base",
      "model_module_version": "1.1.0",
      "model_name": "LayoutModel",
      "state": {}
     },
     "37f0a27ea89243449b5c5bad4b501942": {
      "model_module": "@jupyter-widgets/base",
      "model_module_version": "1.1.0",
      "model_name": "LayoutModel",
      "state": {
       "width": "20%"
      }
     },
     "383a79ad9e9d4a00b4312a4159735a74": {
      "model_module": "@jupyter-widgets/base",
      "model_module_version": "1.1.0",
      "model_name": "LayoutModel",
      "state": {
       "width": "30%"
      }
     },
     "389ff2b4ebba446fb91fe16f2c42e716": {
      "model_module": "@jupyter-widgets/controls",
      "model_module_version": "1.4.0",
      "model_name": "DescriptionStyleModel",
      "state": {
       "description_width": "initial"
      }
     },
     "38eb957940e94386b29920f326e3a7af": {
      "model_module": "@jupyter-widgets/base",
      "model_module_version": "1.1.0",
      "model_name": "LayoutModel",
      "state": {
       "height": "300px",
       "width": "99%"
      }
     },
     "38fe4e89d9804b96822239db5958e0f4": {
      "model_module": "@jupyter-widgets/base",
      "model_module_version": "1.1.0",
      "model_name": "LayoutModel",
      "state": {
       "width": "50%"
      }
     },
     "3902f59ac4ed4d68b408cf395ca6635b": {
      "model_module": "@jupyter-widgets/controls",
      "model_module_version": "1.4.0",
      "model_name": "VBoxModel",
      "state": {
       "children": [
        "IPY_MODEL_20165f298ef0477d845e098ba3efcf64"
       ],
       "layout": "IPY_MODEL_316c2209c1244d159ea0ad41032cea18"
      }
     },
     "392f65f71c894cb994f165c2c983c698": {
      "model_module": "@jupyter-widgets/controls",
      "model_module_version": "1.4.0",
      "model_name": "ButtonStyleModel",
      "state": {}
     },
     "3930a1f17d5c45fbb0e053503c270719": {
      "model_module": "@jupyter-widgets/base",
      "model_module_version": "1.1.0",
      "model_name": "LayoutModel",
      "state": {
       "width": "50%"
      }
     },
     "3954c909bf2b46e29c2e863728ceca52": {
      "model_module": "@jupyter-widgets/controls",
      "model_module_version": "1.4.0",
      "model_name": "ButtonStyleModel",
      "state": {}
     },
     "397c091aa6894aa1bb6edc353115afda": {
      "model_module": "@jupyter-widgets/controls",
      "model_module_version": "1.4.0",
      "model_name": "ProgressStyleModel",
      "state": {
       "description_width": "initial"
      }
     },
     "397c5735834f442f8c2116447c472421": {
      "model_module": "@jupyter-widgets/controls",
      "model_module_version": "1.4.0",
      "model_name": "DescriptionStyleModel",
      "state": {
       "description_width": "initial"
      }
     },
     "39819f6505294f8ba16542d0dd6fa8b3": {
      "model_module": "@jupyter-widgets/controls",
      "model_module_version": "1.4.0",
      "model_name": "VBoxModel",
      "state": {
       "children": [
        "IPY_MODEL_f3ad8b16ec314fcda83be5da3f0c6a65"
       ],
       "layout": "IPY_MODEL_fe216738383a4fd29a8425d0329efade"
      }
     },
     "3994e4675af14176ab8345001b3ae705": {
      "model_module": "@jupyter-widgets/controls",
      "model_module_version": "1.4.0",
      "model_name": "SelectModel",
      "state": {
       "_options_labels": [
        "MODLAND",
        "VI Usefulness",
        "Aerosol Quantity",
        "Adjacent cloud detected",
        "Atmosphere BRDF Correction",
        "Mixed Clouds",
        "Land/Water Mask",
        "Possible snow/ice",
        "Possible shadow"
       ],
       "description": "QA Parameter name:",
       "index": 8,
       "layout": "IPY_MODEL_2ca84de7e3d145f1838bf3ef11d2ec6d",
       "rows": 9,
       "style": "IPY_MODEL_d34e057ce23c47e7b4f36a419d18fba4"
      }
     },
     "3999127778ad4d6eb657b92e563cf9f3": {
      "model_module": "@jupyter-widgets/controls",
      "model_module_version": "1.4.0",
      "model_name": "DescriptionStyleModel",
      "state": {
       "description_width": "initial"
      }
     },
     "39b7bedef60d4fd99d01ec3ca07d234f": {
      "model_module": "@jupyter-widgets/controls",
      "model_module_version": "1.4.0",
      "model_name": "VBoxModel",
      "state": {
       "children": [
        "IPY_MODEL_bdcb2fa91b0e469bac8fe486bd5e0e73"
       ],
       "layout": "IPY_MODEL_a475424f0a8f4b018321d0224be04fb7"
      }
     },
     "39d1d954a91640cea3c1dd8f0890ee51": {
      "model_module": "@jupyter-widgets/controls",
      "model_module_version": "1.4.0",
      "model_name": "ButtonModel",
      "state": {
       "description": "QA analytics",
       "layout": "IPY_MODEL_d8e391f6a98e447cb193560bd4ece120",
       "style": "IPY_MODEL_18c04d45bfce49ce8c78eeffd393e326"
      }
     },
     "39d3fa30850e4e96aa7f22c1655cc341": {
      "model_module": "@jupyter-widgets/base",
      "model_module_version": "1.1.0",
      "model_name": "LayoutModel",
      "state": {}
     },
     "3a00d78c49854041893f2e0596a8da9e": {
      "model_module": "@jupyter-widgets/controls",
      "model_module_version": "1.4.0",
      "model_name": "ButtonModel",
      "state": {
       "description": "Default selection",
       "layout": "IPY_MODEL_b995b90c7a084ed597e3c5a712ec3460",
       "style": "IPY_MODEL_f88b5724957f4224a76af72c5f0b4615"
      }
     },
     "3a28d54993824abf9f131323bba244a8": {
      "model_module": "@jupyter-widgets/controls",
      "model_module_version": "1.4.0",
      "model_name": "SelectMultipleModel",
      "state": {
       "_options_labels": [
        "VI produced, good quality",
        "VI produced, but check other QA",
        "Pixel produced, but most probably cloudy",
        "Pixel not produced due to other reasons than clouds"
       ],
       "description": "Description",
       "index": [
        0
       ],
       "layout": "IPY_MODEL_4d29ee000be942809c32a9313addfea2",
       "rows": 4,
       "style": "IPY_MODEL_e1f06265b35d485886bdb2805469c66e"
      }
     },
     "3a2e2907f0174d30ae432ab427a2dc3d": {
      "model_module": "@jupyter-widgets/base",
      "model_module_version": "1.1.0",
      "model_name": "LayoutModel",
      "state": {
       "width": "30%"
      }
     },
     "3a314e6d98834bbe823bc71b56eec991": {
      "model_module": "@jupyter-widgets/controls",
      "model_module_version": "1.4.0",
      "model_name": "SelectModel",
      "state": {
       "_options_labels": [
        "MODLAND",
        "VI Usefulness",
        "Aerosol Quantity",
        "Adjacent cloud detected",
        "Atmosphere BRDF Correction",
        "Mixed Clouds",
        "Land/Water Mask",
        "Possible snow/ice",
        "Possible shadow"
       ],
       "description": "QA Parameter name:",
       "index": 0,
       "layout": "IPY_MODEL_66989a7d6dee4d77bc6a5c3d35995f84",
       "rows": 9,
       "style": "IPY_MODEL_07b69bed9bfb41f49da601f9506a0c35"
      }
     },
     "3a366bb9fdc04c90a9843a6feab8b5bd": {
      "model_module": "@jupyter-widgets/controls",
      "model_module_version": "1.4.0",
      "model_name": "ButtonStyleModel",
      "state": {}
     },
     "3a5c51fae1a743bbb41a188ca298fcc2": {
      "model_module": "@jupyter-widgets/controls",
      "model_module_version": "1.4.0",
      "model_name": "DescriptionStyleModel",
      "state": {
       "description_width": ""
      }
     },
     "3a79954b385a474cbc755198dc2c2a20": {
      "model_module": "@jupyter-widgets/controls",
      "model_module_version": "1.4.0",
      "model_name": "VBoxModel",
      "state": {
       "children": [
        "IPY_MODEL_865d5d75a72b4b23b864cef1c57a9af4"
       ],
       "layout": "IPY_MODEL_55e3689d62f34e6aa8c8bdc54d866fbe"
      }
     },
     "3a80d8a0c40d447abe26f1443f6d90e3": {
      "model_module": "@jupyter-widgets/controls",
      "model_module_version": "1.4.0",
      "model_name": "VBoxModel",
      "state": {
       "children": [
        "IPY_MODEL_93192ff5326f4a00930c4b460cf749e0"
       ],
       "layout": "IPY_MODEL_e319e1f2c2e5485ba5b7a05063365b5f"
      }
     },
     "3aa240466fef436a88426fff3c3af406": {
      "model_module": "@jupyter-widgets/base",
      "model_module_version": "1.1.0",
      "model_name": "LayoutModel",
      "state": {}
     },
     "3ab12e99723946329c761cceefb190b7": {
      "model_module": "@jupyter-widgets/controls",
      "model_module_version": "1.4.0",
      "model_name": "ButtonStyleModel",
      "state": {}
     },
     "3b2478b27bba4b40be0edec4f51cddeb": {
      "model_module": "@jupyter-widgets/controls",
      "model_module_version": "1.4.0",
      "model_name": "DescriptionStyleModel",
      "state": {
       "description_width": "initial"
      }
     },
     "3b5e020b0ac44694b52bb4e68720069f": {
      "model_module": "@jupyter-widgets/controls",
      "model_module_version": "1.4.0",
      "model_name": "ProgressStyleModel",
      "state": {
       "description_width": "initial"
      }
     },
     "3b6ba1c07780461aaa5e0a8d64c2a7aa": {
      "model_module": "@jupyter-widgets/controls",
      "model_module_version": "1.4.0",
      "model_name": "ButtonStyleModel",
      "state": {}
     },
     "3b7e49b740884f6597ac899512af11f0": {
      "model_module": "@jupyter-widgets/base",
      "model_module_version": "1.1.0",
      "model_name": "LayoutModel",
      "state": {
       "width": "30%"
      }
     },
     "3b8aed1749de42c98d51d5859270759f": {
      "model_module": "@jupyter-widgets/controls",
      "model_module_version": "1.4.0",
      "model_name": "DescriptionStyleModel",
      "state": {
       "description_width": "initial"
      }
     },
     "3bab113c61034554b8ea974a8c9560f0": {
      "model_module": "@jupyter-widgets/controls",
      "model_module_version": "1.4.0",
      "model_name": "ButtonStyleModel",
      "state": {}
     },
     "3bc78b05ea2c4fb0be71cce557305797": {
      "model_module": "@jupyter-widgets/controls",
      "model_module_version": "1.4.0",
      "model_name": "ButtonStyleModel",
      "state": {}
     },
     "3bd97194314846e5949bf9766f6c12d3": {
      "model_module": "@jupyter-widgets/base",
      "model_module_version": "1.1.0",
      "model_name": "LayoutModel",
      "state": {}
     },
     "3bea4cda6fdc4bfb9233276b2bfb3e96": {
      "model_module": "@jupyter-widgets/base",
      "model_module_version": "1.1.0",
      "model_name": "LayoutModel",
      "state": {
       "width": "19%"
      }
     },
     "3beb57b351db41d4b8c9bc303bfba7fd": {
      "model_module": "@jupyter-widgets/controls",
      "model_module_version": "1.4.0",
      "model_name": "VBoxModel",
      "state": {
       "children": [
        "IPY_MODEL_a5b4c16a578f4f45a27cda6004781a14"
       ],
       "layout": "IPY_MODEL_7b0e4f5165044e83aaf10185d875c5a7"
      }
     },
     "3beb85f3eabb41f4865d0e2c92600d9f": {
      "model_module": "@jupyter-widgets/base",
      "model_module_version": "1.1.0",
      "model_name": "LayoutModel",
      "state": {
       "height": "350px",
       "width": "99%"
      }
     },
     "3c04bc7f11d74912ac0dcb206294ae5f": {
      "model_module": "@jupyter-widgets/controls",
      "model_module_version": "1.4.0",
      "model_name": "ButtonModel",
      "state": {
       "description": "Default selection",
       "layout": "IPY_MODEL_837bb709f6fd477898a01e8401a4e46a",
       "style": "IPY_MODEL_a604dd00f1fa400584ade9ed2e06047e"
      }
     },
     "3c072c4a228c4a2d86a9440ab837de69": {
      "model_module": "@jupyter-widgets/controls",
      "model_module_version": "1.4.0",
      "model_name": "ButtonModel",
      "state": {
       "description": "Create mask",
       "layout": "IPY_MODEL_8dc7032a9913455c8daaa4286e37d3a9",
       "style": "IPY_MODEL_ec89ff03698f49bd960d5b9481273993"
      }
     },
     "3c34f0d6c46b4c7591fa286d2752c894": {
      "model_module": "@jupyter-widgets/controls",
      "model_module_version": "1.4.0",
      "model_name": "ButtonStyleModel",
      "state": {}
     },
     "3c4f0e23d1a84376aa529137515f6421": {
      "model_module": "@jupyter-widgets/controls",
      "model_module_version": "1.4.0",
      "model_name": "ButtonModel",
      "state": {
       "description": "Select ALL",
       "layout": "IPY_MODEL_6bf16b10ebac4aabb6b644a715822338",
       "style": "IPY_MODEL_eed76eac15504d6190be8798a6124ad1"
      }
     },
     "3c52e697f82649a3a0d6bc3faeb6fffe": {
      "model_module": "@jupyter-widgets/controls",
      "model_module_version": "1.4.0",
      "model_name": "HBoxModel",
      "state": {
       "children": [
        "IPY_MODEL_e9c48cc239954d60bf93455e721bb0ba",
        "IPY_MODEL_3149d2704d804440823fa64d79ea934c",
        "IPY_MODEL_28bf80f859424696a83d0d48ebab201e"
       ],
       "layout": "IPY_MODEL_9cb59ab36152487c80c255ca677829c0"
      }
     },
     "3cd2e8dd0ab64699adaf539375c14ba9": {
      "model_module": "@jupyter-widgets/controls",
      "model_module_version": "1.4.0",
      "model_name": "DescriptionStyleModel",
      "state": {
       "description_width": "initial"
      }
     },
     "3d14843199d0442d841213d41e8a929d": {
      "model_module": "@jupyter-widgets/controls",
      "model_module_version": "1.4.0",
      "model_name": "DescriptionStyleModel",
      "state": {
       "description_width": "initial"
      }
     },
     "3dc2e53569e84b71a9f2e014da41d093": {
      "model_module": "@jupyter-widgets/base",
      "model_module_version": "1.1.0",
      "model_name": "LayoutModel",
      "state": {
       "height": "200px",
       "width": "99%"
      }
     },
     "3dc3e4989bb54d8081698f91d3415d8b": {
      "model_module": "@jupyter-widgets/base",
      "model_module_version": "1.1.0",
      "model_name": "LayoutModel",
      "state": {
       "height": "300px",
       "width": "99%"
      }
     },
     "3dc9160e5bc240058879d8a219ac009d": {
      "model_module": "@jupyter-widgets/controls",
      "model_module_version": "1.4.0",
      "model_name": "SelectModel",
      "state": {
       "_options_labels": [
        "MODLAND",
        "VI Usefulness",
        "Aerosol Quantity",
        "Adjacent cloud detected",
        "Atmosphere BRDF Correction",
        "Mixed Clouds",
        "Land/Water Mask",
        "Possible snow/ice",
        "Possible shadow"
       ],
       "description": "QA Parameter name:",
       "index": 0,
       "layout": "IPY_MODEL_f774325fda184bb8acb55c832cd73d5b",
       "rows": 9,
       "style": "IPY_MODEL_bb8c811a6aee466f9c080498efc6013f"
      }
     },
     "3de2d77639524ec480d49fcbfb3eff11": {
      "model_module": "@jupyter-widgets/base",
      "model_module_version": "1.1.0",
      "model_name": "LayoutModel",
      "state": {}
     },
     "3de7b4b3de5846e49868df7edcec461c": {
      "model_module": "@jupyter-widgets/base",
      "model_module_version": "1.1.0",
      "model_name": "LayoutModel",
      "state": {}
     },
     "3e2073bd977d47b596f1f7b2ff3cc140": {
      "model_module": "@jupyter-widgets/controls",
      "model_module_version": "1.4.0",
      "model_name": "ButtonModel",
      "state": {
       "description": "Default selection",
       "layout": "IPY_MODEL_a4d3462cc5a74c92b963eb574b32ca12",
       "style": "IPY_MODEL_8555620b93a743ba90337634a7b2b886"
      }
     },
     "3e3ecea6762d4fab8b5d456dfdc8eb64": {
      "model_module": "@jupyter-widgets/controls",
      "model_module_version": "1.4.0",
      "model_name": "VBoxModel",
      "state": {
       "children": [
        "IPY_MODEL_1ea68c1f34ec4f568971b528c1288e9d"
       ],
       "layout": "IPY_MODEL_efa9a168d1af4e1fa3cf7c875667bdc8"
      }
     },
     "3e4be94961704d5c98a5bd5c4bcc520a": {
      "model_module": "@jupyter-widgets/base",
      "model_module_version": "1.1.0",
      "model_name": "LayoutModel",
      "state": {
       "width": "30%"
      }
     },
     "3e6661e4702a40e0bcb270b6e0fac3a4": {
      "model_module": "@jupyter-widgets/base",
      "model_module_version": "1.1.0",
      "model_name": "LayoutModel",
      "state": {
       "width": "20%"
      }
     },
     "3e9350b6d9fa4c6d8a6db784cd984a7e": {
      "model_module": "@jupyter-widgets/controls",
      "model_module_version": "1.4.0",
      "model_name": "HBoxModel",
      "state": {
       "children": [
        "IPY_MODEL_622a401de88a470882c0e574780296e4",
        "IPY_MODEL_e380c316488b4d499dcce8cceb4ba155"
       ],
       "layout": "IPY_MODEL_5ea4d35b4b474919b1759085ec3f2df3"
      }
     },
     "3e96e531fb98423d85203ae65a56e4a0": {
      "model_module": "@jupyter-widgets/base",
      "model_module_version": "1.1.0",
      "model_name": "LayoutModel",
      "state": {}
     },
     "3eb6df4f84c64d57978ad426b507420c": {
      "model_module": "@jupyter-widgets/base",
      "model_module_version": "1.1.0",
      "model_name": "LayoutModel",
      "state": {}
     },
     "3ec126f887fe4eaf87093af657dedea3": {
      "model_module": "@jupyter-widgets/base",
      "model_module_version": "1.1.0",
      "model_name": "LayoutModel",
      "state": {
       "width": "20%"
      }
     },
     "3f035a3944784ba38d064ebd8919278f": {
      "model_module": "@jupyter-widgets/controls",
      "model_module_version": "1.4.0",
      "model_name": "VBoxModel",
      "state": {
       "children": [
        "IPY_MODEL_66fb9df309c642bebaf788ae4f68536c"
       ],
       "layout": "IPY_MODEL_16e8d46631504fd5a9865a1de4c7e386"
      }
     },
     "3f06e2f98d18495b9acd601cf3f4e169": {
      "model_module": "@jupyter-widgets/controls",
      "model_module_version": "1.4.0",
      "model_name": "ButtonModel",
      "state": {
       "description": "QA analytics",
       "layout": "IPY_MODEL_673f7029c2304bcc8c04c96a7a32a103",
       "style": "IPY_MODEL_44d13e6a3836430ba32785461b68f1b3"
      }
     },
     "3f0f8b7091394845adac557cc60734a3": {
      "model_module": "@jupyter-widgets/controls",
      "model_module_version": "1.4.0",
      "model_name": "ProgressStyleModel",
      "state": {
       "description_width": "initial"
      }
     },
     "3f1d2741d91f46d9931c3632e9568a00": {
      "model_module": "@jupyter-widgets/controls",
      "model_module_version": "1.4.0",
      "model_name": "DescriptionStyleModel",
      "state": {
       "description_width": "initial"
      }
     },
     "3f22da0b23a5484f98daa3a47f61118d": {
      "model_module": "@jupyter-widgets/base",
      "model_module_version": "1.1.0",
      "model_name": "LayoutModel",
      "state": {
       "width": "50%"
      }
     },
     "3f44b0860ff640d1a084940067f099bb": {
      "model_module": "@jupyter-widgets/controls",
      "model_module_version": "1.4.0",
      "model_name": "HBoxModel",
      "state": {
       "children": [
        "IPY_MODEL_0f709ebe198d40999aebe87bbea653ec",
        "IPY_MODEL_865bac97272a40828ad52e9aaa96dda7"
       ],
       "layout": "IPY_MODEL_30da3984e5fe48f5ba24e9709dec8f91"
      }
     },
     "3f806a0f1fad4673b4633fe4df70f02e": {
      "model_module": "@jupyter-widgets/controls",
      "model_module_version": "1.4.0",
      "model_name": "VBoxModel",
      "state": {
       "children": [
        "IPY_MODEL_f1b21db136de4c8fb5cb4449b3e28a16"
       ],
       "layout": "IPY_MODEL_7df6eee0a4354ba9918a965b09431851"
      }
     },
     "3f83f069813940ad870a8f44e155d129": {
      "model_module": "@jupyter-widgets/base",
      "model_module_version": "1.1.0",
      "model_name": "LayoutModel",
      "state": {
       "height": "300px",
       "width": "99%"
      }
     },
     "3f9c7528a8964f43b787a490da0452ec": {
      "model_module": "@jupyter-widgets/controls",
      "model_module_version": "1.4.0",
      "model_name": "SelectModel",
      "state": {
       "_options_labels": [
        "MODLAND",
        "VI Usefulness",
        "Aerosol Quantity",
        "Adjacent cloud detected",
        "Atmosphere BRDF Correction",
        "Mixed Clouds",
        "Land/Water Mask",
        "Possible snow/ice",
        "Possible shadow"
       ],
       "description": "QA Parameter name:",
       "index": 7,
       "layout": "IPY_MODEL_703e9aa2642a4c9bbaf01352076d26d7",
       "rows": 9,
       "style": "IPY_MODEL_ef2b9f2ed0c54c999e3a5dc8a8e8a322"
      }
     },
     "3fc2a42aea354a4188fb570ccad5846c": {
      "model_module": "@jupyter-widgets/base",
      "model_module_version": "1.1.0",
      "model_name": "LayoutModel",
      "state": {}
     },
     "3fd8c6a02e03484e994a9b758dbaf38d": {
      "model_module": "@jupyter-widgets/base",
      "model_module_version": "1.1.0",
      "model_name": "LayoutModel",
      "state": {
       "width": "400px"
      }
     },
     "4004e93a34094382a62a81e30478ff95": {
      "model_module": "@jupyter-widgets/base",
      "model_module_version": "1.1.0",
      "model_name": "LayoutModel",
      "state": {}
     },
     "401012ab8ba54ac59ef35027d6a46121": {
      "model_module": "@jupyter-widgets/base",
      "model_module_version": "1.1.0",
      "model_name": "LayoutModel",
      "state": {
       "height": "300px",
       "width": "99%"
      }
     },
     "4024377a0adf4b2db5c3bdd36e263d05": {
      "model_module": "@jupyter-widgets/base",
      "model_module_version": "1.1.0",
      "model_name": "LayoutModel",
      "state": {
       "width": "30%"
      }
     },
     "403b922e63854e2ea5e9d0d688f98318": {
      "model_module": "@jupyter-widgets/base",
      "model_module_version": "1.1.0",
      "model_name": "LayoutModel",
      "state": {
       "width": "30%"
      }
     },
     "4048056fd9a644cd9adae25fac611238": {
      "model_module": "@jupyter-widgets/controls",
      "model_module_version": "1.4.0",
      "model_name": "SelectModel",
      "state": {
       "_options_labels": [
        "MODLAND"
       ],
       "description": "QA Parameter name:",
       "index": 0,
       "layout": "IPY_MODEL_1f73854a354e441f92bbe2691f8f30b4",
       "rows": 1,
       "style": "IPY_MODEL_2b3e8d4971c042219c52a80ac84c83a6"
      }
     },
     "404b203f2209483291574c6b70c5b8c9": {
      "model_module": "@jupyter-widgets/base",
      "model_module_version": "1.1.0",
      "model_name": "LayoutModel",
      "state": {}
     },
     "404d6c6bc57549d5bed2fbdf01687740": {
      "model_module": "@jupyter-widgets/base",
      "model_module_version": "1.1.0",
      "model_name": "LayoutModel",
      "state": {
       "width": "20%"
      }
     },
     "4077e52987a24108b735932fc5e0998f": {
      "model_module": "@jupyter-widgets/controls",
      "model_module_version": "1.4.0",
      "model_name": "SelectModel",
      "state": {
       "_options_labels": [
        "MODLAND",
        "VI Usefulness",
        "Aerosol Quantity",
        "Adjacent cloud detected",
        "Atmosphere BRDF Correction",
        "Mixed Clouds",
        "Land/Water Mask",
        "Possible snow/ice",
        "Possible shadow"
       ],
       "description": "QA Parameter name:",
       "index": 0,
       "layout": "IPY_MODEL_f0d55c216d4d4ba3984a5f8e7225e671",
       "rows": 9,
       "style": "IPY_MODEL_5cf2436875f34c569df33428a8262af6"
      }
     },
     "40786aa5b99c4dabb8b6d42e1270bc6f": {
      "model_module": "@jupyter-widgets/controls",
      "model_module_version": "1.4.0",
      "model_name": "HTMLModel",
      "state": {
       "description": "QA layer:",
       "layout": "IPY_MODEL_13f900f9989e45a498df4e20172817a1",
       "style": "IPY_MODEL_a6fb7237920b485294d9621d739ede41",
       "value": "<b>_1_km_16_days_VI_Quality</b>"
      }
     },
     "408c024faf2648b3a1aa3ae082a8112b": {
      "model_module": "@jupyter-widgets/controls",
      "model_module_version": "1.4.0",
      "model_name": "DescriptionStyleModel",
      "state": {
       "description_width": ""
      }
     },
     "40a9fefe3c9d4b449be2298bdabf330d": {
      "model_module": "@jupyter-widgets/controls",
      "model_module_version": "1.4.0",
      "model_name": "ButtonModel",
      "state": {
       "description": "Select ALL",
       "layout": "IPY_MODEL_c52770712e7d4a289435a24af87c3058",
       "style": "IPY_MODEL_73fcbd36ee104fea85b02c401cf48db1"
      }
     },
     "4104275dad8748afb1624ea0237d19ea": {
      "model_module": "@jupyter-widgets/controls",
      "model_module_version": "1.4.0",
      "model_name": "SelectMultipleModel",
      "state": {
       "_options_labels": [
        "VI produced, good quality",
        "VI produced, but check other QA",
        "Pixel produced, but most probably cloudy",
        "Pixel not produced due to other reasons than clouds"
       ],
       "description": "Description",
       "index": [
        0,
        1,
        2,
        3
       ],
       "layout": "IPY_MODEL_6a1f4757ad65444080fd63ecca562556",
       "rows": 4,
       "style": "IPY_MODEL_9d123fb8be38401b9cf2adac2a8c4463"
      }
     },
     "41291ccd965f497ba122cc4420b1aa37": {
      "model_module": "@jupyter-widgets/controls",
      "model_module_version": "1.4.0",
      "model_name": "ProgressStyleModel",
      "state": {
       "description_width": "initial"
      }
     },
     "41292a925a3e4d759617f20b9429b09c": {
      "model_module": "@jupyter-widgets/controls",
      "model_module_version": "1.4.0",
      "model_name": "HTMLModel",
      "state": {
       "description": "QA layer:",
       "layout": "IPY_MODEL_656e819332564b3484998fa64374ddad",
       "style": "IPY_MODEL_1d795a102ae94aeaad891d01b85a7c50",
       "value": "<b>_1_km_16_days_VI_Quality</b>"
      }
     },
     "412e3e6934c44f4fae33b06a50da8ca1": {
      "model_module": "@jupyter-widgets/controls",
      "model_module_version": "1.4.0",
      "model_name": "ButtonStyleModel",
      "state": {}
     },
     "412ee85c2c864108a7b6975c854d5b8d": {
      "model_module": "@jupyter-widgets/base",
      "model_module_version": "1.1.0",
      "model_name": "LayoutModel",
      "state": {}
     },
     "413b852107ae41078f8517ced7733951": {
      "model_module": "@jupyter-widgets/base",
      "model_module_version": "1.1.0",
      "model_name": "LayoutModel",
      "state": {
       "width": "20%"
      }
     },
     "413ed81f3c784b6e99006aaba048171b": {
      "model_module": "@jupyter-widgets/base",
      "model_module_version": "1.1.0",
      "model_name": "LayoutModel",
      "state": {
       "width": "20%"
      }
     },
     "414325fb59fa48f6854a28a34095d572": {
      "model_module": "@jupyter-widgets/controls",
      "model_module_version": "1.4.0",
      "model_name": "VBoxModel",
      "state": {
       "children": [
        "IPY_MODEL_9f6e2182cb204146b1f02ab950ce195d"
       ],
       "layout": "IPY_MODEL_030acbeacb0044a5933324eba59fa130"
      }
     },
     "415689515de041919da605dfd0acce89": {
      "model_module": "@jupyter-widgets/base",
      "model_module_version": "1.1.0",
      "model_name": "LayoutModel",
      "state": {
       "width": "400px"
      }
     },
     "415f1aea7628465ba1293622416acf7f": {
      "model_module": "@jupyter-widgets/controls",
      "model_module_version": "1.4.0",
      "model_name": "ButtonModel",
      "state": {
       "description": "QA analytics",
       "layout": "IPY_MODEL_1fcc3a665eea4f208dd0962bcf1a98c6",
       "style": "IPY_MODEL_82c2873e424140f9b8e328132670422c"
      }
     },
     "417a7c9aa41b419396c2ed473a64bf86": {
      "model_module": "@jupyter-widgets/controls",
      "model_module_version": "1.4.0",
      "model_name": "ButtonModel",
      "state": {
       "description": "Default selection",
       "layout": "IPY_MODEL_bdc416d6251d4946ae2967de37279db6",
       "style": "IPY_MODEL_209e9203467a46a6b0453c9c7bc2920b"
      }
     },
     "417e30e590e04fb1a97b6330261d4644": {
      "model_module": "@jupyter-widgets/controls",
      "model_module_version": "1.4.0",
      "model_name": "DescriptionStyleModel",
      "state": {
       "description_width": ""
      }
     },
     "41ebdb9852114e6787ca3df77b6ae3c3": {
      "model_module": "@jupyter-widgets/base",
      "model_module_version": "1.1.0",
      "model_name": "LayoutModel",
      "state": {
       "width": "20%"
      }
     },
     "41ec28fc660f4ce681d3f473639113c1": {
      "model_module": "@jupyter-widgets/base",
      "model_module_version": "1.1.0",
      "model_name": "LayoutModel",
      "state": {
       "width": "20%"
      }
     },
     "41f7ced26fdc4a89806d3dcf60b4c9b6": {
      "model_module": "@jupyter-widgets/controls",
      "model_module_version": "1.4.0",
      "model_name": "SelectMultipleModel",
      "state": {
       "_options_labels": [
        "Good data, use with confidence",
        "Marginal data, Useful, but look at other QA information",
        "Snow/Ice Target covered with snow/ice",
        "Cloudy data, Target not visible, covered with cloud"
       ],
       "description": "Description",
       "index": [
        0
       ],
       "layout": "IPY_MODEL_147e953ef1a84af5aa822410437b5e42",
       "rows": 4,
       "style": "IPY_MODEL_ee254ea9f94b40838672c54d0a2c3f50"
      }
     },
     "4225e6b71382405f9709a962e34a558a": {
      "model_module": "@jupyter-widgets/controls",
      "model_module_version": "1.4.0",
      "model_name": "VBoxModel",
      "state": {
       "children": [
        "IPY_MODEL_4c51d4fcfa014adaa9ce6b7b277e36d1"
       ],
       "layout": "IPY_MODEL_7d21b1c111f249f6a2004723e8ef221e"
      }
     },
     "42513564edb143feae49a61a107ca53e": {
      "model_module": "@jupyter-widgets/controls",
      "model_module_version": "1.4.0",
      "model_name": "DescriptionStyleModel",
      "state": {
       "description_width": "initial"
      }
     },
     "4251e955e1b84e398a88153b1b02b70c": {
      "model_module": "@jupyter-widgets/controls",
      "model_module_version": "1.4.0",
      "model_name": "DescriptionStyleModel",
      "state": {
       "description_width": "initial"
      }
     },
     "426a1e1cba7844b892475106e5ec47ff": {
      "model_module": "@jupyter-widgets/controls",
      "model_module_version": "1.4.0",
      "model_name": "DescriptionStyleModel",
      "state": {
       "description_width": "initial"
      }
     },
     "429141028ec84446a2ae9a64256609c8": {
      "model_module": "@jupyter-widgets/controls",
      "model_module_version": "1.4.0",
      "model_name": "DescriptionStyleModel",
      "state": {
       "description_width": "initial"
      }
     },
     "42abd81e59de41efbfd0dbb588380c0f": {
      "model_module": "@jupyter-widgets/controls",
      "model_module_version": "1.4.0",
      "model_name": "ButtonStyleModel",
      "state": {}
     },
     "42c574036d984e16b4940d365ed33c8e": {
      "model_module": "@jupyter-widgets/base",
      "model_module_version": "1.1.0",
      "model_name": "LayoutModel",
      "state": {
       "width": "20%"
      }
     },
     "42ff0711bb4c4287a99696cf4e22e768": {
      "model_module": "@jupyter-widgets/base",
      "model_module_version": "1.1.0",
      "model_name": "LayoutModel",
      "state": {
       "width": "400px"
      }
     },
     "430f72d236b34871a2c7109730288ead": {
      "model_module": "@jupyter-widgets/base",
      "model_module_version": "1.1.0",
      "model_name": "LayoutModel",
      "state": {
       "height": "200px",
       "width": "99%"
      }
     },
     "43138292ae9a453e99e3e5aa576d99f9": {
      "model_module": "@jupyter-widgets/controls",
      "model_module_version": "1.4.0",
      "model_name": "SelectModel",
      "state": {
       "_options_labels": [
        "MODLAND",
        "VI Usefulness",
        "Aerosol Quantity",
        "Adjacent cloud detected",
        "Atmosphere BRDF Correction",
        "Mixed Clouds",
        "Land/Water Mask",
        "Possible snow/ice",
        "Possible shadow"
       ],
       "description": "QA Parameter name:",
       "index": 0,
       "layout": "IPY_MODEL_76eeb0cb23f849e690c5ea543e402677",
       "rows": 9,
       "style": "IPY_MODEL_d434fa6ec1914e2bbac3fbb922ed8a56"
      }
     },
     "43438f4f18ca448da34092c851142d13": {
      "model_module": "@jupyter-widgets/controls",
      "model_module_version": "1.4.0",
      "model_name": "ButtonModel",
      "state": {
       "description": "QA analytics",
       "layout": "IPY_MODEL_20ac4f7babf64243a36c6f1071ba7673",
       "style": "IPY_MODEL_a51126f73c5942ed9443c7d5a4f8d85f"
      }
     },
     "43760133edc54e58ae2f8f8414975cea": {
      "model_module": "@jupyter-widgets/controls",
      "model_module_version": "1.4.0",
      "model_name": "HBoxModel",
      "state": {
       "children": [
        "IPY_MODEL_706bdcc81d5648c09198ae27abc79e70",
        "IPY_MODEL_83dba7a1b87749c996b1134c2c54715c"
       ],
       "layout": "IPY_MODEL_5769ed21f60b435f810ae0620d9a835f"
      }
     },
     "439730b4b96d4d37bd9d6de2d776c33c": {
      "model_module": "@jupyter-widgets/controls",
      "model_module_version": "1.4.0",
      "model_name": "ButtonStyleModel",
      "state": {}
     },
     "43f3b8014dc24b6792a3f6aa62ac2d02": {
      "model_module": "@jupyter-widgets/controls",
      "model_module_version": "1.4.0",
      "model_name": "VBoxModel",
      "state": {
       "children": [
        "IPY_MODEL_c43f54d5876446cd867f8d003de13a6e"
       ],
       "layout": "IPY_MODEL_c462d80abc9547cf929f112593980988"
      }
     },
     "4411573fec8b4df4bff3f5e79dadfd50": {
      "model_module": "@jupyter-widgets/controls",
      "model_module_version": "1.4.0",
      "model_name": "VBoxModel",
      "state": {
       "children": [
        "IPY_MODEL_aa51325fd38f494fb5d54f0f0acd307c"
       ],
       "layout": "IPY_MODEL_4f9e41c43a904440a9b95d7b441f78b9"
      }
     },
     "442cf7c762604f4292e019387b991d60": {
      "model_module": "@jupyter-widgets/controls",
      "model_module_version": "1.4.0",
      "model_name": "VBoxModel",
      "state": {
       "children": [
        "IPY_MODEL_f605799b77fb45cab74dbec6f25073de"
       ],
       "layout": "IPY_MODEL_aa5f596601eb468f91b56a0d0bc9179a"
      }
     },
     "44399d40d9304ec5b1e68ac7b7e8db2d": {
      "model_module": "@jupyter-widgets/base",
      "model_module_version": "1.1.0",
      "model_name": "LayoutModel",
      "state": {}
     },
     "44439a7ac4b8448585a5e654772f3a28": {
      "model_module": "@jupyter-widgets/base",
      "model_module_version": "1.1.0",
      "model_name": "LayoutModel",
      "state": {}
     },
     "4454ae662d8d48f79fe82161d666cdea": {
      "model_module": "@jupyter-widgets/controls",
      "model_module_version": "1.4.0",
      "model_name": "ButtonStyleModel",
      "state": {}
     },
     "44565473115e4b6597ac0eb1fbf86c3f": {
      "model_module": "@jupyter-widgets/base",
      "model_module_version": "1.1.0",
      "model_name": "LayoutModel",
      "state": {
       "height": "300px",
       "width": "99%"
      }
     },
     "44572303469e434fa2fff0eab8f74e68": {
      "model_module": "@jupyter-widgets/base",
      "model_module_version": "1.1.0",
      "model_name": "LayoutModel",
      "state": {
       "width": "30%"
      }
     },
     "44589ab4f9c14c23a4a1b17a8d645cc1": {
      "model_module": "@jupyter-widgets/controls",
      "model_module_version": "1.4.0",
      "model_name": "HBoxModel",
      "state": {
       "children": [
        "IPY_MODEL_e87ebd5f61ee420d9ef1c3c3b9a6abdd",
        "IPY_MODEL_6cf608e62013485e8a91bbaeaf2f2765",
        "IPY_MODEL_3f06e2f98d18495b9acd601cf3f4e169"
       ],
       "layout": "IPY_MODEL_249b0a489e7641d29fefa57c779e57d4"
      }
     },
     "44a2b80b202f49288b8ae0844359c755": {
      "model_module": "@jupyter-widgets/controls",
      "model_module_version": "1.4.0",
      "model_name": "DescriptionStyleModel",
      "state": {
       "description_width": "initial"
      }
     },
     "44c79c8b55fc404c85ce59efd9994699": {
      "model_module": "@jupyter-widgets/controls",
      "model_module_version": "1.4.0",
      "model_name": "SelectModel",
      "state": {
       "_options_labels": [
        "MODLAND"
       ],
       "description": "QA Parameter name:",
       "index": 0,
       "layout": "IPY_MODEL_3541f04e34094dfda8e83e6f7109f7f9",
       "rows": 1,
       "style": "IPY_MODEL_601df3dc867c4bd185769437739f8e96"
      }
     },
     "44cc0cdb76b345dba36765ffe36a41b1": {
      "model_module": "@jupyter-widgets/base",
      "model_module_version": "1.1.0",
      "model_name": "LayoutModel",
      "state": {
       "width": "50%"
      }
     },
     "44d13e6a3836430ba32785461b68f1b3": {
      "model_module": "@jupyter-widgets/controls",
      "model_module_version": "1.4.0",
      "model_name": "ButtonStyleModel",
      "state": {}
     },
     "44f78b25fd804c16b729671b79129f45": {
      "model_module": "@jupyter-widgets/controls",
      "model_module_version": "1.4.0",
      "model_name": "DescriptionStyleModel",
      "state": {
       "description_width": "initial"
      }
     },
     "450a8f4f75b247019b4e08f99bb401a3": {
      "model_module": "@jupyter-widgets/base",
      "model_module_version": "1.1.0",
      "model_name": "LayoutModel",
      "state": {
       "width": "400px"
      }
     },
     "4512006727d946ec97a1c7f267491291": {
      "model_module": "@jupyter-widgets/base",
      "model_module_version": "1.1.0",
      "model_name": "LayoutModel",
      "state": {
       "width": "220px"
      }
     },
     "451f080a9979470d89f1067d321d5d5e": {
      "model_module": "@jupyter-widgets/controls",
      "model_module_version": "1.4.0",
      "model_name": "ProgressStyleModel",
      "state": {
       "description_width": "initial"
      }
     },
     "453aadba60534514bf836f62a873cfa6": {
      "model_module": "@jupyter-widgets/base",
      "model_module_version": "1.1.0",
      "model_name": "LayoutModel",
      "state": {}
     },
     "4550d77588174c8b94f5de7598922ce2": {
      "model_module": "@jupyter-widgets/controls",
      "model_module_version": "1.4.0",
      "model_name": "ButtonStyleModel",
      "state": {}
     },
     "4579f207b3534ae0857b4b276cf621fc": {
      "model_module": "@jupyter-widgets/base",
      "model_module_version": "1.1.0",
      "model_name": "LayoutModel",
      "state": {}
     },
     "45a31cb9cadf402e8bfe1966bbc50653": {
      "model_module": "@jupyter-widgets/controls",
      "model_module_version": "1.4.0",
      "model_name": "ProgressStyleModel",
      "state": {
       "description_width": "initial"
      }
     },
     "45b8879efb754013a89b69e6ed947a80": {
      "model_module": "@jupyter-widgets/base",
      "model_module_version": "1.1.0",
      "model_name": "LayoutModel",
      "state": {
       "width": "50%"
      }
     },
     "45b97ba841ae4b77813d88fede96ca7a": {
      "model_module": "@jupyter-widgets/controls",
      "model_module_version": "1.4.0",
      "model_name": "VBoxModel",
      "state": {
       "children": [
        "IPY_MODEL_c99251d9320a4b029aafe4163a9331c2"
       ],
       "layout": "IPY_MODEL_029d75e9960f4d07aaf72aeafcb7d275"
      }
     },
     "45c05c6bb2e14c55a3d65429fde508c0": {
      "model_module": "@jupyter-widgets/controls",
      "model_module_version": "1.4.0",
      "model_name": "VBoxModel",
      "state": {
       "children": [
        "IPY_MODEL_9fc3d10736134f0687fef32f9c7638bb"
       ],
       "layout": "IPY_MODEL_07e56314e17c449ab61bb15a5db47634"
      }
     },
     "45f99bd1aad4425cbec22207429af8d9": {
      "model_module": "@jupyter-widgets/base",
      "model_module_version": "1.1.0",
      "model_name": "LayoutModel",
      "state": {}
     },
     "46362a471d774723818b9534cb86256e": {
      "model_module": "@jupyter-widgets/base",
      "model_module_version": "1.1.0",
      "model_name": "LayoutModel",
      "state": {}
     },
     "464b12aae835474faa1cd4c27b064e62": {
      "model_module": "@jupyter-widgets/base",
      "model_module_version": "1.1.0",
      "model_name": "LayoutModel",
      "state": {
       "width": "400px"
      }
     },
     "465bc6971a8e4212b4fc04c0398f07a8": {
      "model_module": "@jupyter-widgets/controls",
      "model_module_version": "1.4.0",
      "model_name": "SelectMultipleModel",
      "state": {
       "_options_labels": [
        "No",
        "Yes"
       ],
       "description": "Description",
       "index": [
        0
       ],
       "layout": "IPY_MODEL_bcf9cdab7c924a82a7aeac1d526c5165",
       "rows": 2,
       "style": "IPY_MODEL_066abc017b36405ebfdf22f8d061f2d7"
      }
     },
     "46677bd8c1be4e2e9571187cc0d31712": {
      "model_module": "@jupyter-widgets/controls",
      "model_module_version": "1.4.0",
      "model_name": "VBoxModel",
      "state": {
       "children": [
        "IPY_MODEL_d45c2164d441488e933a0b47d6567b8b"
       ],
       "layout": "IPY_MODEL_404b203f2209483291574c6b70c5b8c9"
      }
     },
     "46b3f5afb70d427e975bc5e41db04fa8": {
      "model_module": "@jupyter-widgets/controls",
      "model_module_version": "1.4.0",
      "model_name": "DescriptionStyleModel",
      "state": {
       "description_width": "initial"
      }
     },
     "46e65524c60b4e9d91534eb746915907": {
      "model_module": "@jupyter-widgets/base",
      "model_module_version": "1.1.0",
      "model_name": "LayoutModel",
      "state": {
       "width": "30%"
      }
     },
     "46e8b1feaf6345a29940b8b36d896bcf": {
      "model_module": "@jupyter-widgets/controls",
      "model_module_version": "1.4.0",
      "model_name": "SelectMultipleModel",
      "state": {
       "_options_labels": [
        "No",
        "Yes"
       ],
       "description": "Description",
       "index": [
        0,
        1
       ],
       "layout": "IPY_MODEL_a6318a1a39ea4723826d7d05d8cac313",
       "rows": 2,
       "style": "IPY_MODEL_606cdb70d60448c89ac2aa3c1d283a73"
      }
     },
     "4705152479114acd9053ba7231924c05": {
      "model_module": "@jupyter-widgets/controls",
      "model_module_version": "1.4.0",
      "model_name": "VBoxModel",
      "state": {
       "children": [
        "IPY_MODEL_a19c32162792415491aba390dbef743d"
       ],
       "layout": "IPY_MODEL_7f5afbe3035541378a9bb909589f288c"
      }
     },
     "470b14a2a96e4c78a0b581ec20b19131": {
      "model_module": "@jupyter-widgets/base",
      "model_module_version": "1.1.0",
      "model_name": "LayoutModel",
      "state": {
       "width": "20%"
      }
     },
     "470d9f058df84a1daa94c38ec716d962": {
      "model_module": "@jupyter-widgets/base",
      "model_module_version": "1.1.0",
      "model_name": "LayoutModel",
      "state": {}
     },
     "4773aec33e0b498bb7684f63e612262c": {
      "model_module": "@jupyter-widgets/controls",
      "model_module_version": "1.4.0",
      "model_name": "DescriptionStyleModel",
      "state": {
       "description_width": ""
      }
     },
     "477c28c444c844a9ba5ea64e0365d5a4": {
      "model_module": "@jupyter-widgets/controls",
      "model_module_version": "1.4.0",
      "model_name": "ButtonStyleModel",
      "state": {}
     },
     "47beca00f01e41ceae880e7c41cfeadb": {
      "model_module": "@jupyter-widgets/base",
      "model_module_version": "1.1.0",
      "model_name": "LayoutModel",
      "state": {}
     },
     "47f3bc48fd6949a49c9bc431fe71d1ed": {
      "model_module": "@jupyter-widgets/controls",
      "model_module_version": "1.4.0",
      "model_name": "VBoxModel",
      "state": {
       "children": [
        "IPY_MODEL_4077e52987a24108b735932fc5e0998f"
       ],
       "layout": "IPY_MODEL_d8b63eac71e749f4ad0481dda5a18fcd"
      }
     },
     "4807db10e0a94c78926726749d8195c0": {
      "model_module": "@jupyter-widgets/base",
      "model_module_version": "1.1.0",
      "model_name": "LayoutModel",
      "state": {
       "width": "30%"
      }
     },
     "4827f07116694afe8520bc17cb57897c": {
      "model_module": "@jupyter-widgets/base",
      "model_module_version": "1.1.0",
      "model_name": "LayoutModel",
      "state": {}
     },
     "482f410617a1480683b3d84b0d8dd72c": {
      "model_module": "@jupyter-widgets/base",
      "model_module_version": "1.1.0",
      "model_name": "LayoutModel",
      "state": {
       "width": "20%"
      }
     },
     "48c3298966d14aa0a3e45b8ab3cf6cb7": {
      "model_module": "@jupyter-widgets/controls",
      "model_module_version": "1.4.0",
      "model_name": "VBoxModel",
      "state": {
       "children": [
        "IPY_MODEL_c3578ea35da94028b6af4b245d9b0ab3"
       ],
       "layout": "IPY_MODEL_c88a43527a22464386edcbf6fa87682f"
      }
     },
     "490e6a93df28479586c4e121b2bbc5b2": {
      "model_module": "@jupyter-widgets/controls",
      "model_module_version": "1.4.0",
      "model_name": "HTMLModel",
      "state": {
       "description": "QA layer:",
       "layout": "IPY_MODEL_4ea99679b88a456cbdf9f9f74df95de7",
       "style": "IPY_MODEL_c62dd104be9b4cfe9f5b732899f1ebfe",
       "value": "<b>_1_km_16_days_pixel_reliability</b>"
      }
     },
     "491a220489fa4252ac9c9b8533a567ef": {
      "model_module": "@jupyter-widgets/base",
      "model_module_version": "1.1.0",
      "model_name": "LayoutModel",
      "state": {
       "width": "20%"
      }
     },
     "497fb7fa7b984f3086fc170f649df160": {
      "model_module": "@jupyter-widgets/base",
      "model_module_version": "1.1.0",
      "model_name": "LayoutModel",
      "state": {}
     },
     "49a0b22f0c2b4293b51f21b055bc32bb": {
      "model_module": "@jupyter-widgets/controls",
      "model_module_version": "1.4.0",
      "model_name": "SelectMultipleModel",
      "state": {
       "_options_labels": [
        "VI produced, good quality",
        "VI produced, but check other QA",
        "Pixel produced, but most probably cloudy",
        "Pixel not produced due to other reasons than clouds"
       ],
       "description": "Description",
       "index": [
        0
       ],
       "layout": "IPY_MODEL_27cf21b124fd40c3988f837b27c70557",
       "rows": 4,
       "style": "IPY_MODEL_429141028ec84446a2ae9a64256609c8"
      }
     },
     "49ad328bf77940c6b3ab8866554b983f": {
      "model_module": "@jupyter-widgets/controls",
      "model_module_version": "1.4.0",
      "model_name": "ButtonModel",
      "state": {
       "description": "Select ALL",
       "layout": "IPY_MODEL_dd8545e0de8d43e6b469931e36bd6154",
       "style": "IPY_MODEL_d4a45b76983e41c6b7be47355d17fddf"
      }
     },
     "49bc17bfdea84301b6b95a06ebe96aa5": {
      "model_module": "@jupyter-widgets/base",
      "model_module_version": "1.1.0",
      "model_name": "LayoutModel",
      "state": {
       "height": "300px",
       "width": "99%"
      }
     },
     "49c9c258b2734cb2952ed13cd1a46594": {
      "model_module": "@jupyter-widgets/base",
      "model_module_version": "1.1.0",
      "model_name": "LayoutModel",
      "state": {}
     },
     "49e69b7701194554abbb4854640ecd2d": {
      "model_module": "@jupyter-widgets/controls",
      "model_module_version": "1.4.0",
      "model_name": "DescriptionStyleModel",
      "state": {
       "description_width": ""
      }
     },
     "49f4ac03e54d4a5787b2259f0364020e": {
      "model_module": "@jupyter-widgets/controls",
      "model_module_version": "1.4.0",
      "model_name": "VBoxModel",
      "state": {
       "children": [
        "IPY_MODEL_4c9ddbfe33314ca4bc6242dfacfd8f03"
       ],
       "layout": "IPY_MODEL_ec5cf9ba693c4063ba9c771d7d150c1e"
      }
     },
     "4a08bccdb94d43e6a99ad921977ad292": {
      "model_module": "@jupyter-widgets/base",
      "model_module_version": "1.1.0",
      "model_name": "LayoutModel",
      "state": {
       "width": "50%"
      }
     },
     "4a17b4d61f424fde972e6d4d3f258a9a": {
      "model_module": "@jupyter-widgets/base",
      "model_module_version": "1.1.0",
      "model_name": "LayoutModel",
      "state": {}
     },
     "4a64696e4f3246fda1cb57ea86986372": {
      "model_module": "@jupyter-widgets/controls",
      "model_module_version": "1.4.0",
      "model_name": "SelectModel",
      "state": {
       "_options_labels": [
        "MODLAND",
        "VI Usefulness",
        "Aerosol Quantity",
        "Adjacent cloud detected",
        "Atmosphere BRDF Correction",
        "Mixed Clouds",
        "Land/Water Mask",
        "Possible snow/ice",
        "Possible shadow"
       ],
       "description": "QA Parameter name:",
       "index": 0,
       "layout": "IPY_MODEL_0cfc670b52b2499788d6049a63b5c1fa",
       "rows": 9,
       "style": "IPY_MODEL_dda50d3d990b4fc39cd0527d0fd8ad8c"
      }
     },
     "4a6a2aa52c504b3a8b0bff70f01ec090": {
      "model_module": "@jupyter-widgets/controls",
      "model_module_version": "1.4.0",
      "model_name": "HBoxModel",
      "state": {
       "children": [
        "IPY_MODEL_ff5cb15920034bc49f1157ea962ab346",
        "IPY_MODEL_39b7bedef60d4fd99d01ec3ca07d234f"
       ],
       "layout": "IPY_MODEL_d682e0c67c5c4eb399d6cd1007e109c1"
      }
     },
     "4a7053c91cb34e9cb51e5187ea0789cb": {
      "model_module": "@jupyter-widgets/base",
      "model_module_version": "1.1.0",
      "model_name": "LayoutModel",
      "state": {
       "width": "20%"
      }
     },
     "4b07bf9cf1904ee886255e675705fff0": {
      "model_module": "@jupyter-widgets/controls",
      "model_module_version": "1.4.0",
      "model_name": "ButtonModel",
      "state": {
       "description": "Default selection",
       "layout": "IPY_MODEL_4fe3697af6b14a1c80ada70c25164bcd",
       "style": "IPY_MODEL_cb6b023361984fcaab4d14aa93a3e1ab"
      }
     },
     "4b08f128148e4564bbfff52764456642": {
      "model_module": "@jupyter-widgets/controls",
      "model_module_version": "1.4.0",
      "model_name": "SelectMultipleModel",
      "state": {
       "_options_labels": [
        "VI produced, good quality",
        "VI produced, but check other QA",
        "Pixel produced, but most probably cloudy",
        "Pixel not produced due to other reasons than clouds"
       ],
       "description": "Description",
       "index": [
        0
       ],
       "layout": "IPY_MODEL_d775570db50842b88d8ec58715eda83a",
       "rows": 4,
       "style": "IPY_MODEL_036ec536a4994008b8252cccf69eedb6"
      }
     },
     "4b1135e2471844748152c415d1bb47d1": {
      "model_module": "@jupyter-widgets/controls",
      "model_module_version": "1.4.0",
      "model_name": "ButtonStyleModel",
      "state": {}
     },
     "4b26135ef451485fad1ea6f912bfaeb9": {
      "model_module": "@jupyter-widgets/base",
      "model_module_version": "1.1.0",
      "model_name": "LayoutModel",
      "state": {}
     },
     "4b2b3188fca54bf5b000ec062f73549e": {
      "model_module": "@jupyter-widgets/base",
      "model_module_version": "1.1.0",
      "model_name": "LayoutModel",
      "state": {
       "width": "400px"
      }
     },
     "4b56a5e517f2478baf4b6cc7475d11bc": {
      "model_module": "@jupyter-widgets/controls",
      "model_module_version": "1.4.0",
      "model_name": "DescriptionStyleModel",
      "state": {
       "description_width": "initial"
      }
     },
     "4b801745bc5e4adbb294ccfc5ffb1062": {
      "model_module": "@jupyter-widgets/controls",
      "model_module_version": "1.4.0",
      "model_name": "HBoxModel",
      "state": {
       "children": [
        "IPY_MODEL_a931e7080c61496ba892de8e74d578c0",
        "IPY_MODEL_bff65775889a4b3e94fc1aacd17027b7"
       ],
       "layout": "IPY_MODEL_0ef4aafff3654812bd030f8abd45024b"
      }
     },
     "4ba26abdbc1e4eed888bc0ff6ef27e12": {
      "model_module": "@jupyter-widgets/base",
      "model_module_version": "1.1.0",
      "model_name": "LayoutModel",
      "state": {
       "width": "220px"
      }
     },
     "4bca563f4f4c4ba09a9d0abd33b75c68": {
      "model_module": "@jupyter-widgets/controls",
      "model_module_version": "1.4.0",
      "model_name": "DescriptionStyleModel",
      "state": {
       "description_width": "initial"
      }
     },
     "4bec6398b9c14549a59b720fc0d5ade5": {
      "model_module": "@jupyter-widgets/controls",
      "model_module_version": "1.4.0",
      "model_name": "ButtonStyleModel",
      "state": {}
     },
     "4bfcd34ef8924da689afaa2a25e348c2": {
      "model_module": "@jupyter-widgets/base",
      "model_module_version": "1.1.0",
      "model_name": "LayoutModel",
      "state": {}
     },
     "4c3cfeb448ba4387b258d1d784236924": {
      "model_module": "@jupyter-widgets/controls",
      "model_module_version": "1.4.0",
      "model_name": "SelectMultipleModel",
      "state": {
       "_options_labels": [
        "VI produced, good quality",
        "VI produced, but check other QA",
        "Pixel produced, but most probably cloudy",
        "Pixel not produced due to other reasons than clouds"
       ],
       "description": "Description",
       "index": [
        0
       ],
       "layout": "IPY_MODEL_28222368c77540849f9a0ac991025fc7",
       "rows": 4,
       "style": "IPY_MODEL_df67c2efcefb462f83e5f4ac72393475"
      }
     },
     "4c51d4fcfa014adaa9ce6b7b277e36d1": {
      "model_module": "@jupyter-widgets/controls",
      "model_module_version": "1.4.0",
      "model_name": "SelectMultipleModel",
      "state": {
       "_options_labels": [
        "VI produced, good quality",
        "VI produced, but check other QA",
        "Pixel produced, but most probably cloudy",
        "Pixel not produced due to other reasons than clouds"
       ],
       "description": "Description",
       "index": [
        0
       ],
       "layout": "IPY_MODEL_0c203d6ef98747acb55133e9dc3ca8d8",
       "rows": 4,
       "style": "IPY_MODEL_68e3939f9cba42459e06e4e3101d3cc1"
      }
     },
     "4c57b132f0404b85a4f45c8130abc953": {
      "model_module": "@jupyter-widgets/base",
      "model_module_version": "1.1.0",
      "model_name": "LayoutModel",
      "state": {
       "width": "400px"
      }
     },
     "4c57cc20e9b342c08544a9b919b3fdec": {
      "model_module": "@jupyter-widgets/base",
      "model_module_version": "1.1.0",
      "model_name": "LayoutModel",
      "state": {
       "height": "300px",
       "width": "99%"
      }
     },
     "4c72624f76ca45c8b6462089ada40259": {
      "model_module": "@jupyter-widgets/controls",
      "model_module_version": "1.4.0",
      "model_name": "SelectModel",
      "state": {
       "_options_labels": [
        "MODLAND",
        "VI Usefulness",
        "Aerosol Quantity",
        "Adjacent cloud detected",
        "Atmosphere BRDF Correction",
        "Mixed Clouds",
        "Land/Water Mask",
        "Possible snow/ice",
        "Possible shadow"
       ],
       "description": "QA Parameter name:",
       "index": 0,
       "layout": "IPY_MODEL_df339e73ce634f0682edcbf2f47e31c0",
       "rows": 9,
       "style": "IPY_MODEL_9891e4888b9a469bb943cafb884892d5"
      }
     },
     "4c9ddbfe33314ca4bc6242dfacfd8f03": {
      "model_module": "@jupyter-widgets/controls",
      "model_module_version": "1.4.0",
      "model_name": "SelectMultipleModel",
      "state": {
       "_options_labels": [
        "VI produced, good quality",
        "VI produced, but check other QA",
        "Pixel produced, but most probably cloudy",
        "Pixel not produced due to other reasons than clouds"
       ],
       "description": "Description",
       "index": [
        0
       ],
       "layout": "IPY_MODEL_5afdc1d110cb45699234215ac916ea59",
       "rows": 4,
       "style": "IPY_MODEL_e7b6e98612994d08bfaf7cf80d82482c"
      }
     },
     "4caa942ac5be48a7bd67b997db414dae": {
      "model_module": "@jupyter-widgets/controls",
      "model_module_version": "1.4.0",
      "model_name": "ProgressStyleModel",
      "state": {
       "description_width": "initial"
      }
     },
     "4cd2445bdec545bfb2107ad9df51eec2": {
      "model_module": "@jupyter-widgets/base",
      "model_module_version": "1.1.0",
      "model_name": "LayoutModel",
      "state": {
       "width": "50%"
      }
     },
     "4d0520158e8c4a3aa7b3c3b8562e3f26": {
      "model_module": "@jupyter-widgets/controls",
      "model_module_version": "1.4.0",
      "model_name": "SelectModel",
      "state": {
       "_options_labels": [
        "MODLAND",
        "VI Usefulness",
        "Aerosol Quantity",
        "Adjacent cloud detected",
        "Atmosphere BRDF Correction",
        "Mixed Clouds",
        "Land/Water Mask",
        "Possible snow/ice",
        "Possible shadow"
       ],
       "description": "QA Parameter name:",
       "index": 0,
       "layout": "IPY_MODEL_42ff0711bb4c4287a99696cf4e22e768",
       "rows": 9,
       "style": "IPY_MODEL_5d843a44bebc421cac8a4c50bd13c2a6"
      }
     },
     "4d08613da8314ca2a6bfaef9becc7a8b": {
      "model_module": "@jupyter-widgets/base",
      "model_module_version": "1.1.0",
      "model_name": "LayoutModel",
      "state": {}
     },
     "4d17a2e6a10e48bfb68b376e7e008844": {
      "model_module": "@jupyter-widgets/controls",
      "model_module_version": "1.4.0",
      "model_name": "ButtonStyleModel",
      "state": {}
     },
     "4d29ee000be942809c32a9313addfea2": {
      "model_module": "@jupyter-widgets/base",
      "model_module_version": "1.1.0",
      "model_name": "LayoutModel",
      "state": {
       "width": "400px"
      }
     },
     "4d7f4842c0524e07976c42fe4839f985": {
      "model_module": "@jupyter-widgets/controls",
      "model_module_version": "1.4.0",
      "model_name": "HBoxModel",
      "state": {
       "children": [
        "IPY_MODEL_50b289771ff3476480e1f470e0ac7d1b",
        "IPY_MODEL_2c66ba0adb034a08b33ca35b6ee5a142",
        "IPY_MODEL_d6a8f0b622744e3a8fd021b5e0d941b6"
       ],
       "layout": "IPY_MODEL_a808d02e81614d80a0492b2ebf77b2fd"
      }
     },
     "4d8f3831f3e340fa9d29910da752b97d": {
      "model_module": "@jupyter-widgets/base",
      "model_module_version": "1.1.0",
      "model_name": "LayoutModel",
      "state": {
       "height": "200px",
       "width": "99%"
      }
     },
     "4daf4afcab8946609bcf6f161619d363": {
      "model_module": "@jupyter-widgets/controls",
      "model_module_version": "1.4.0",
      "model_name": "SelectModel",
      "state": {
       "_options_labels": [
        "MODLAND",
        "VI Usefulness",
        "Aerosol Quantity",
        "Adjacent cloud detected",
        "Atmosphere BRDF Correction",
        "Mixed Clouds",
        "Land/Water Mask",
        "Possible snow/ice",
        "Possible shadow"
       ],
       "description": "QA Parameter name:",
       "index": 0,
       "layout": "IPY_MODEL_929457be0ec5433ea9aa52201dd5dde6",
       "rows": 9,
       "style": "IPY_MODEL_f160077f7087419ca8e9cc192ea853c9"
      }
     },
     "4dba8375cb064b1da6bbfcd0b4198088": {
      "model_module": "@jupyter-widgets/controls",
      "model_module_version": "1.4.0",
      "model_name": "DescriptionStyleModel",
      "state": {
       "description_width": "initial"
      }
     },
     "4dbf41bc9a274fdea6fe4ae8b5fc9f8c": {
      "model_module": "@jupyter-widgets/controls",
      "model_module_version": "1.4.0",
      "model_name": "HTMLModel",
      "state": {
       "description": "QA layer:",
       "layout": "IPY_MODEL_8f6898f517db41c89ee542643045baed",
       "style": "IPY_MODEL_e55a20e23f0b47c681c28c2de5b4d609",
       "value": "<b>_1_km_16_days_pixel_reliability</b>"
      }
     },
     "4dc03e0ffe8140a8b0a9e0efc94ae836": {
      "model_module": "@jupyter-widgets/base",
      "model_module_version": "1.1.0",
      "model_name": "LayoutModel",
      "state": {}
     },
     "4dfb4f7131384f628aecfbb89df53beb": {
      "model_module": "@jupyter-widgets/controls",
      "model_module_version": "1.4.0",
      "model_name": "ProgressStyleModel",
      "state": {
       "description_width": "initial"
      }
     },
     "4e502768f9fe4f33bf410f839386b5f2": {
      "model_module": "@jupyter-widgets/controls",
      "model_module_version": "1.4.0",
      "model_name": "HBoxModel",
      "state": {
       "children": [
        "IPY_MODEL_c867f1eb865243a0aa16481de05d39f3",
        "IPY_MODEL_fdbecdb5c6c941b79f6a6ba127f7f4cf"
       ],
       "layout": "IPY_MODEL_72f75701f6c9430db9017d3435ab851e"
      }
     },
     "4e7817c293744bdba6ae99eb7e8dcc15": {
      "model_module": "@jupyter-widgets/base",
      "model_module_version": "1.1.0",
      "model_name": "LayoutModel",
      "state": {
       "width": "50%"
      }
     },
     "4ea99679b88a456cbdf9f9f74df95de7": {
      "model_module": "@jupyter-widgets/base",
      "model_module_version": "1.1.0",
      "model_name": "LayoutModel",
      "state": {}
     },
     "4eb68b496f1142a580f4dd0a53b6e184": {
      "model_module": "@jupyter-widgets/controls",
      "model_module_version": "1.4.0",
      "model_name": "ButtonStyleModel",
      "state": {}
     },
     "4ecefa34d214417faf4a269a4e0d7610": {
      "model_module": "@jupyter-widgets/controls",
      "model_module_version": "1.4.0",
      "model_name": "DescriptionStyleModel",
      "state": {
       "description_width": ""
      }
     },
     "4ee2cca749ef4b4b8c8fd4f946c91cd1": {
      "model_module": "@jupyter-widgets/base",
      "model_module_version": "1.1.0",
      "model_name": "LayoutModel",
      "state": {
       "width": "400px"
      }
     },
     "4ee4fa227f87439ebb7219b1e94873bb": {
      "model_module": "@jupyter-widgets/controls",
      "model_module_version": "1.4.0",
      "model_name": "DescriptionStyleModel",
      "state": {
       "description_width": ""
      }
     },
     "4f14cce36270475ea139ae109342ee7f": {
      "model_module": "@jupyter-widgets/controls",
      "model_module_version": "1.4.0",
      "model_name": "ProgressStyleModel",
      "state": {
       "description_width": "initial"
      }
     },
     "4f4c7225517048c686019b5b9ccedf69": {
      "model_module": "@jupyter-widgets/controls",
      "model_module_version": "1.4.0",
      "model_name": "ButtonStyleModel",
      "state": {}
     },
     "4f54e838d4b94053abd237aec792e970": {
      "model_module": "@jupyter-widgets/base",
      "model_module_version": "1.1.0",
      "model_name": "LayoutModel",
      "state": {
       "width": "19%"
      }
     },
     "4f9e41c43a904440a9b95d7b441f78b9": {
      "model_module": "@jupyter-widgets/base",
      "model_module_version": "1.1.0",
      "model_name": "LayoutModel",
      "state": {}
     },
     "4fd15934f23a45a5a193c4bb3617e9c5": {
      "model_module": "@jupyter-widgets/base",
      "model_module_version": "1.1.0",
      "model_name": "LayoutModel",
      "state": {
       "width": "20%"
      }
     },
     "4fe3697af6b14a1c80ada70c25164bcd": {
      "model_module": "@jupyter-widgets/base",
      "model_module_version": "1.1.0",
      "model_name": "LayoutModel",
      "state": {
       "width": "19%"
      }
     },
     "50038abcc552438cb69a324e48a81e1a": {
      "model_module": "@jupyter-widgets/base",
      "model_module_version": "1.1.0",
      "model_name": "LayoutModel",
      "state": {
       "width": "400px"
      }
     },
     "500dfab5039e449f8860d4514afdf8db": {
      "model_module": "@jupyter-widgets/controls",
      "model_module_version": "1.4.0",
      "model_name": "HBoxModel",
      "state": {
       "children": [
        "IPY_MODEL_163f622fee8d48f3bd16c2e5c6a4b75a",
        "IPY_MODEL_a4ea8d1f73894de78985d31cc28fcd2c",
        "IPY_MODEL_f5f4b4975aaa4fef848d595c0c0acb28"
       ],
       "layout": "IPY_MODEL_319eedc4e2bf4903b06bf630c7e4eafc"
      }
     },
     "5015a2ca527f427391243b979ef24c9a": {
      "model_module": "@jupyter-widgets/controls",
      "model_module_version": "1.4.0",
      "model_name": "DescriptionStyleModel",
      "state": {
       "description_width": "initial"
      }
     },
     "5022a4c6335f4c2c955ed66da52f7d84": {
      "model_module": "@jupyter-widgets/controls",
      "model_module_version": "1.4.0",
      "model_name": "ButtonStyleModel",
      "state": {}
     },
     "502d16ff1575476a888260a0e505129c": {
      "model_module": "@jupyter-widgets/controls",
      "model_module_version": "1.4.0",
      "model_name": "DescriptionStyleModel",
      "state": {
       "description_width": ""
      }
     },
     "502e325608e84b86a61a82529adf10dd": {
      "model_module": "@jupyter-widgets/base",
      "model_module_version": "1.1.0",
      "model_name": "LayoutModel",
      "state": {
       "width": "19%"
      }
     },
     "505cf8403f9144858f40b3293ccf5f31": {
      "model_module": "@jupyter-widgets/base",
      "model_module_version": "1.1.0",
      "model_name": "LayoutModel",
      "state": {
       "width": "99%"
      }
     },
     "50671e0b3bd040b49423324b1e482fa1": {
      "model_module": "@jupyter-widgets/controls",
      "model_module_version": "1.4.0",
      "model_name": "DescriptionStyleModel",
      "state": {
       "description_width": "initial"
      }
     },
     "507fdbfb168d479eb022eb7bb5990a68": {
      "model_module": "@jupyter-widgets/controls",
      "model_module_version": "1.4.0",
      "model_name": "ButtonStyleModel",
      "state": {}
     },
     "509685375b3a4123ae943eb9bf4fa271": {
      "model_module": "@jupyter-widgets/base",
      "model_module_version": "1.1.0",
      "model_name": "LayoutModel",
      "state": {
       "width": "20%"
      }
     },
     "50b289771ff3476480e1f470e0ac7d1b": {
      "model_module": "@jupyter-widgets/controls",
      "model_module_version": "1.4.0",
      "model_name": "ButtonModel",
      "state": {
       "description": "Select ALL",
       "layout": "IPY_MODEL_72f622fb4ff947868f732c3d8948a443",
       "style": "IPY_MODEL_b4d5f6395c1842be9f8c374dbc7b0ed9"
      }
     },
     "50e2073cbb76438390edcaa8dbae5437": {
      "model_module": "@jupyter-widgets/controls",
      "model_module_version": "1.4.0",
      "model_name": "ProgressStyleModel",
      "state": {
       "description_width": "initial"
      }
     },
     "50e994922821479d92187f837e947d57": {
      "model_module": "@jupyter-widgets/controls",
      "model_module_version": "1.4.0",
      "model_name": "ButtonModel",
      "state": {
       "description": "QA analytics",
       "layout": "IPY_MODEL_3547f4204f4b41b1b17f97a2791daab8",
       "style": "IPY_MODEL_cd2f88ea80ce428187d6e200b9f945c3"
      }
     },
     "5108165f32c34fdca39e2885816f5fc4": {
      "model_module": "@jupyter-widgets/controls",
      "model_module_version": "1.4.0",
      "model_name": "ButtonModel",
      "state": {
       "description": "Select ALL",
       "layout": "IPY_MODEL_14ef014eb3cd4694a03fa7d15daf71b5",
       "style": "IPY_MODEL_3bc78b05ea2c4fb0be71cce557305797"
      }
     },
     "5144c169910046bb9df46d7f1052f66e": {
      "model_module": "@jupyter-widgets/base",
      "model_module_version": "1.1.0",
      "model_name": "LayoutModel",
      "state": {}
     },
     "514d3f03ec2940edbf88f9d421cd4dd8": {
      "model_module": "@jupyter-widgets/controls",
      "model_module_version": "1.4.0",
      "model_name": "ButtonStyleModel",
      "state": {}
     },
     "516979254a17412ca5145113d05ab761": {
      "model_module": "@jupyter-widgets/base",
      "model_module_version": "1.1.0",
      "model_name": "LayoutModel",
      "state": {
       "width": "400px"
      }
     },
     "516bfc73f02748ab896814504190efa2": {
      "model_module": "@jupyter-widgets/controls",
      "model_module_version": "1.4.0",
      "model_name": "DescriptionStyleModel",
      "state": {
       "description_width": "initial"
      }
     },
     "5190b9adf1d04458a12a0223179c0cb8": {
      "model_module": "@jupyter-widgets/controls",
      "model_module_version": "1.4.0",
      "model_name": "DescriptionStyleModel",
      "state": {
       "description_width": ""
      }
     },
     "5194d8d0148a44f39c68f4643be44b27": {
      "model_module": "@jupyter-widgets/controls",
      "model_module_version": "1.4.0",
      "model_name": "ButtonModel",
      "state": {
       "description": "Select ALL",
       "layout": "IPY_MODEL_e628e7d9a779454fb26c593639012894",
       "style": "IPY_MODEL_952bb0af5a3e455b8f5574a8bd67a000"
      }
     },
     "5196a405dbe6411b94bf3aba5ecf8ea9": {
      "model_module": "@jupyter-widgets/controls",
      "model_module_version": "1.4.0",
      "model_name": "HBoxModel",
      "state": {
       "children": [
        "IPY_MODEL_9ecba8087d934f27a0e0e54088cb7994",
        "IPY_MODEL_a853e8555bde4b73a7d7de6ba4513c37"
       ],
       "layout": "IPY_MODEL_49bc17bfdea84301b6b95a06ebe96aa5"
      }
     },
     "51998ac275bd4c66b31a54b9e0d0fbdf": {
      "model_module": "@jupyter-widgets/controls",
      "model_module_version": "1.4.0",
      "model_name": "VBoxModel",
      "state": {
       "children": [
        "IPY_MODEL_f2525a3280ab42f88beed30e611f91ce"
       ],
       "layout": "IPY_MODEL_543652cb537e44efa862d5ec1fc84ad9"
      }
     },
     "51ccda3694e346849b7f74a12796592b": {
      "model_module": "@jupyter-widgets/base",
      "model_module_version": "1.1.0",
      "model_name": "LayoutModel",
      "state": {}
     },
     "51e540e29eb14567948bf27385a7faf7": {
      "model_module": "@jupyter-widgets/controls",
      "model_module_version": "1.4.0",
      "model_name": "ButtonModel",
      "state": {
       "description": "Default selection",
       "layout": "IPY_MODEL_dd73b69586534466a68db22120e38c7a",
       "style": "IPY_MODEL_0189ccb3763e4504b15ff6cd45b60478"
      }
     },
     "5214de4edc8942ebbf09caec6dc6871d": {
      "model_module": "@jupyter-widgets/controls",
      "model_module_version": "1.4.0",
      "model_name": "DescriptionStyleModel",
      "state": {
       "description_width": "initial"
      }
     },
     "5229d45b172e4dd481e9006d3803ff76": {
      "model_module": "@jupyter-widgets/base",
      "model_module_version": "1.1.0",
      "model_name": "LayoutModel",
      "state": {
       "width": "50%"
      }
     },
     "52306438c469461a8371230d65c6fcf5": {
      "model_module": "@jupyter-widgets/controls",
      "model_module_version": "1.4.0",
      "model_name": "HBoxModel",
      "state": {
       "children": [
        "IPY_MODEL_58c8aa31b8594da2999a8a2390d296d1",
        "IPY_MODEL_be50aaa13ad44bc1a6bc1ae70c9a94d4"
       ],
       "layout": "IPY_MODEL_2d7d283c7a9a43de9e20047eea12c715"
      }
     },
     "526bd6286a564fd9a418472b5835134d": {
      "model_module": "@jupyter-widgets/base",
      "model_module_version": "1.1.0",
      "model_name": "LayoutModel",
      "state": {}
     },
     "52a4c41d36ff49649083b18eb2d5f596": {
      "model_module": "@jupyter-widgets/controls",
      "model_module_version": "1.4.0",
      "model_name": "ProgressStyleModel",
      "state": {
       "description_width": "initial"
      }
     },
     "52be89f04ec3470da7e5e25fcd128a47": {
      "model_module": "@jupyter-widgets/base",
      "model_module_version": "1.1.0",
      "model_name": "LayoutModel",
      "state": {
       "width": "20%"
      }
     },
     "5303ad3fba83404f89b0e294bd17eccb": {
      "model_module": "@jupyter-widgets/base",
      "model_module_version": "1.1.0",
      "model_name": "LayoutModel",
      "state": {}
     },
     "533710720958450f9f06970d32d8b522": {
      "model_module": "@jupyter-widgets/controls",
      "model_module_version": "1.4.0",
      "model_name": "SelectModel",
      "state": {
       "_options_labels": [
        "MODLAND",
        "VI Usefulness",
        "Aerosol Quantity",
        "Adjacent cloud detected",
        "Atmosphere BRDF Correction",
        "Mixed Clouds",
        "Land/Water Mask",
        "Possible snow/ice",
        "Possible shadow"
       ],
       "description": "QA Parameter name:",
       "index": 8,
       "layout": "IPY_MODEL_cb0e49b84dd14b64b13ce8e217243717",
       "rows": 9,
       "style": "IPY_MODEL_d4df2e7de5ce4e04a54ff943f52187b3"
      }
     },
     "53702125c8e54d37b3944fc945ed0569": {
      "model_module": "@jupyter-widgets/controls",
      "model_module_version": "1.4.0",
      "model_name": "ButtonModel",
      "state": {
       "description": "Select ALL",
       "layout": "IPY_MODEL_295a6c50dbb141a287fc6f1390e4bc04",
       "style": "IPY_MODEL_53d9a6d05a1049309276720bb7fc9d7e"
      }
     },
     "5392920cccf4413ea27742cff19719b8": {
      "model_module": "@jupyter-widgets/controls",
      "model_module_version": "1.4.0",
      "model_name": "HTMLModel",
      "state": {
       "description": "QA layer:",
       "layout": "IPY_MODEL_fcf84d9eef464a71b35f15c4af8e37e5",
       "style": "IPY_MODEL_dda17bd7d46a4faf89875b5b9f634c95",
       "value": "<b>_1_km_16_days_VI_Quality</b>"
      }
     },
     "53b500286d7d41b29f672f0a77776658": {
      "model_module": "@jupyter-widgets/controls",
      "model_module_version": "1.4.0",
      "model_name": "ButtonModel",
      "state": {
       "description": "Default selection",
       "layout": "IPY_MODEL_bc0825599f3a4a1cbb032bc295239381",
       "style": "IPY_MODEL_be4ccb72df7e417687b1008eb8047133"
      }
     },
     "53c394994fb6413590d0a55c22a3fbd7": {
      "model_module": "@jupyter-widgets/controls",
      "model_module_version": "1.4.0",
      "model_name": "ButtonModel",
      "state": {
       "description": "Select ALL",
       "layout": "IPY_MODEL_222d24536c2b4de9b08b437f6e3a8768",
       "style": "IPY_MODEL_3954c909bf2b46e29c2e863728ceca52"
      }
     },
     "53c4f94f449141ecb32e8b4f502610e4": {
      "model_module": "@jupyter-widgets/base",
      "model_module_version": "1.1.0",
      "model_name": "LayoutModel",
      "state": {
       "width": "20%"
      }
     },
     "53d0a539716e4cb5b81e68089a405718": {
      "model_module": "@jupyter-widgets/base",
      "model_module_version": "1.1.0",
      "model_name": "LayoutModel",
      "state": {
       "height": "300px",
       "width": "99%"
      }
     },
     "53d9a6d05a1049309276720bb7fc9d7e": {
      "model_module": "@jupyter-widgets/controls",
      "model_module_version": "1.4.0",
      "model_name": "ButtonStyleModel",
      "state": {}
     },
     "542fcd0acd664e7d8d59f219ad5ad20c": {
      "model_module": "@jupyter-widgets/controls",
      "model_module_version": "1.4.0",
      "model_name": "SelectMultipleModel",
      "state": {
       "_options_labels": [
        "VI produced, good quality",
        "VI produced, but check other QA",
        "Pixel produced, but most probably cloudy",
        "Pixel not produced due to other reasons than clouds"
       ],
       "description": "Description",
       "index": [
        0
       ],
       "layout": "IPY_MODEL_157ad0ce64ab488389736479595a6dbb",
       "rows": 4,
       "style": "IPY_MODEL_4bca563f4f4c4ba09a9d0abd33b75c68"
      }
     },
     "543652cb537e44efa862d5ec1fc84ad9": {
      "model_module": "@jupyter-widgets/base",
      "model_module_version": "1.1.0",
      "model_name": "LayoutModel",
      "state": {}
     },
     "5469658e4da047bcb7241d3399d71e22": {
      "model_module": "@jupyter-widgets/controls",
      "model_module_version": "1.4.0",
      "model_name": "HBoxModel",
      "state": {
       "children": [
        "IPY_MODEL_05e22688799d40afb7653dbc9dc822d9",
        "IPY_MODEL_beca49b4c7bb4f318ab4a8d4c72baab4",
        "IPY_MODEL_6e139794bda14e21b1473b7950354ed8"
       ],
       "layout": "IPY_MODEL_845ae6ec8af04cb3b52c453624a72832"
      }
     },
     "5479ac423afb4ac4b4b6e5baa73c83a2": {
      "model_module": "@jupyter-widgets/controls",
      "model_module_version": "1.4.0",
      "model_name": "VBoxModel",
      "state": {
       "children": [
        "IPY_MODEL_ad6fa6f1d81c45a2b1c85dd69807dc7b"
       ],
       "layout": "IPY_MODEL_1248ab1901c047eb9d926a1f0db6ed3c"
      }
     },
     "54a8f0b3749748b7b870cd6b0abfe2c6": {
      "model_module": "@jupyter-widgets/controls",
      "model_module_version": "1.4.0",
      "model_name": "ButtonModel",
      "state": {
       "description": "Save QA analytics",
       "layout": "IPY_MODEL_043045322af144978a38fc353b6d1fc5",
       "style": "IPY_MODEL_b06c8ad78be849bf8ef62ae22eb8dcde"
      }
     },
     "54c2f70c01d64fb69813df8c2fa446dd": {
      "model_module": "@jupyter-widgets/controls",
      "model_module_version": "1.4.0",
      "model_name": "DescriptionStyleModel",
      "state": {
       "description_width": ""
      }
     },
     "551a83dd3fe448ff915fb5bd9a3b5b51": {
      "model_module": "@jupyter-widgets/base",
      "model_module_version": "1.1.0",
      "model_name": "LayoutModel",
      "state": {
       "width": "400px"
      }
     },
     "551c8e36b16a45c3b98457b42bc31188": {
      "model_module": "@jupyter-widgets/controls",
      "model_module_version": "1.4.0",
      "model_name": "HBoxModel",
      "state": {
       "children": [
        "IPY_MODEL_8e15ca759fe74b61a975c190ae741c2d",
        "IPY_MODEL_eccac62a53e7469e89798cef481ea2b4",
        "IPY_MODEL_5ceb4b181d8d4a69b59b30b7a6423590"
       ],
       "layout": "IPY_MODEL_ca31844d6f1f4bb281e9511d6aede538"
      }
     },
     "55241db938be408cb3af63a4c0b3f1da": {
      "model_module": "@jupyter-widgets/base",
      "model_module_version": "1.1.0",
      "model_name": "LayoutModel",
      "state": {
       "width": "20%"
      }
     },
     "55427b0f7e74415cbb33735a878112b0": {
      "model_module": "@jupyter-widgets/base",
      "model_module_version": "1.1.0",
      "model_name": "LayoutModel",
      "state": {
       "width": "20%"
      }
     },
     "556556c154074e1c9f14b373b8c7b8c4": {
      "model_module": "@jupyter-widgets/controls",
      "model_module_version": "1.4.0",
      "model_name": "ButtonStyleModel",
      "state": {}
     },
     "556fdd7872cc42aa9ed7c74655aef5c5": {
      "model_module": "@jupyter-widgets/controls",
      "model_module_version": "1.4.0",
      "model_name": "ButtonModel",
      "state": {
       "description": "Select ALL",
       "layout": "IPY_MODEL_6ca5d921ca51446a83146600b227881f",
       "style": "IPY_MODEL_8c0b122bff644e2aa01d3d4f440660df"
      }
     },
     "55bb9761ca3349c8bcae30838b60390e": {
      "model_module": "@jupyter-widgets/base",
      "model_module_version": "1.1.0",
      "model_name": "LayoutModel",
      "state": {
       "width": "400px"
      }
     },
     "55e252cd54bf435787b7a6961d4eb70b": {
      "model_module": "@jupyter-widgets/controls",
      "model_module_version": "1.4.0",
      "model_name": "SelectModel",
      "state": {
       "_options_labels": [
        "MODLAND",
        "VI Usefulness",
        "Aerosol Quantity",
        "Adjacent cloud detected",
        "Atmosphere BRDF Correction",
        "Mixed Clouds",
        "Land/Water Mask",
        "Possible snow/ice",
        "Possible shadow"
       ],
       "description": "QA Parameter name:",
       "index": 0,
       "layout": "IPY_MODEL_68dd5ffd107f416799fd0400f89d9533",
       "rows": 9,
       "style": "IPY_MODEL_151a9f1994424c52bd8e3b8857d4c5b3"
      }
     },
     "55e3689d62f34e6aa8c8bdc54d866fbe": {
      "model_module": "@jupyter-widgets/base",
      "model_module_version": "1.1.0",
      "model_name": "LayoutModel",
      "state": {}
     },
     "560f6461af364b9bbe299dda4710bda7": {
      "model_module": "@jupyter-widgets/controls",
      "model_module_version": "1.4.0",
      "model_name": "HBoxModel",
      "state": {
       "children": [
        "IPY_MODEL_fab1431e98fa4858801ae82f34101422",
        "IPY_MODEL_77d59c88146448a3bbdb8d197ad87a3d",
        "IPY_MODEL_0dcd2b87b4b144a9b4a63eb2efc2cee7",
        "IPY_MODEL_c99a1c8cf1ee418daa018e71510571c8"
       ],
       "layout": "IPY_MODEL_9618e3481d51475aa61c28533b709608"
      }
     },
     "5623fe92e7f348578d69ed867050a557": {
      "model_module": "@jupyter-widgets/controls",
      "model_module_version": "1.4.0",
      "model_name": "HBoxModel",
      "state": {
       "children": [
        "IPY_MODEL_657b0aa2f9d543ea80fd5d8d24bf671d",
        "IPY_MODEL_1f9160e0f2184a09aeb42fe1190ebfd3"
       ],
       "layout": "IPY_MODEL_e8e583fda1f44512bbd8dd95af9eacea"
      }
     },
     "562cedd210bd418cb954c4f84a36403c": {
      "model_module": "@jupyter-widgets/controls",
      "model_module_version": "1.4.0",
      "model_name": "ButtonStyleModel",
      "state": {}
     },
     "562d7240874341a7b54357e9c462ea4f": {
      "model_module": "@jupyter-widgets/controls",
      "model_module_version": "1.4.0",
      "model_name": "SelectMultipleModel",
      "state": {
       "_options_labels": [
        "VI produced, good quality",
        "VI produced, but check other QA",
        "Pixel produced, but most probably cloudy",
        "Pixel not produced due to other reasons than clouds"
       ],
       "description": "Description",
       "index": [
        0
       ],
       "layout": "IPY_MODEL_c92c8be87197426db2de16b86eef0104",
       "rows": 4,
       "style": "IPY_MODEL_e4ffb4de4d7e4fdcaa5c674888d3a612"
      }
     },
     "56901bae163e46aa9130e76f9cf0abc6": {
      "model_module": "@jupyter-widgets/base",
      "model_module_version": "1.1.0",
      "model_name": "LayoutModel",
      "state": {
       "width": "20%"
      }
     },
     "56aaeccfa6fd4fac9f2ec02ae83a5b21": {
      "model_module": "@jupyter-widgets/base",
      "model_module_version": "1.1.0",
      "model_name": "LayoutModel",
      "state": {
       "width": "350px"
      }
     },
     "56aaf97579424a94b587906476a101e1": {
      "model_module": "@jupyter-widgets/controls",
      "model_module_version": "1.4.0",
      "model_name": "VBoxModel",
      "state": {
       "children": [
        "IPY_MODEL_f71e3ab779594e4ab58d524d3e33fed1"
       ],
       "layout": "IPY_MODEL_b204f4dac7774b1cb3bef7c73d22294f"
      }
     },
     "56fa71f71c7d4fc0a12dbd3c81e162bc": {
      "model_module": "@jupyter-widgets/base",
      "model_module_version": "1.1.0",
      "model_name": "LayoutModel",
      "state": {}
     },
     "5700af2538844a6fb304d9fedcfa6949": {
      "model_module": "@jupyter-widgets/base",
      "model_module_version": "1.1.0",
      "model_name": "LayoutModel",
      "state": {
       "width": "20%"
      }
     },
     "570631ef64d34985aa4419e0e56b633e": {
      "model_module": "@jupyter-widgets/base",
      "model_module_version": "1.1.0",
      "model_name": "LayoutModel",
      "state": {
       "height": "300px",
       "width": "99%"
      }
     },
     "5716f2f99761400a8f11999439ffc8a7": {
      "model_module": "@jupyter-widgets/controls",
      "model_module_version": "1.4.0",
      "model_name": "ButtonStyleModel",
      "state": {}
     },
     "572f52c71bfa438ca22295405cc0646e": {
      "model_module": "@jupyter-widgets/base",
      "model_module_version": "1.1.0",
      "model_name": "LayoutModel",
      "state": {}
     },
     "57303d3a0fc84c75990529b602514248": {
      "model_module": "@jupyter-widgets/controls",
      "model_module_version": "1.4.0",
      "model_name": "ProgressStyleModel",
      "state": {
       "description_width": "initial"
      }
     },
     "573dd6b7c1754840867d7b79476017ae": {
      "model_module": "@jupyter-widgets/base",
      "model_module_version": "1.1.0",
      "model_name": "LayoutModel",
      "state": {
       "height": "300px",
       "width": "99%"
      }
     },
     "5769561ff35f45f183b5b98871921f24": {
      "model_module": "@jupyter-widgets/base",
      "model_module_version": "1.1.0",
      "model_name": "LayoutModel",
      "state": {
       "width": "400px"
      }
     },
     "5769ed21f60b435f810ae0620d9a835f": {
      "model_module": "@jupyter-widgets/base",
      "model_module_version": "1.1.0",
      "model_name": "LayoutModel",
      "state": {
       "height": "300px",
       "width": "99%"
      }
     },
     "577340d6d0124ce8a7c619baf5550b33": {
      "model_module": "@jupyter-widgets/base",
      "model_module_version": "1.1.0",
      "model_name": "LayoutModel",
      "state": {
       "width": "20%"
      }
     },
     "57a4a7d8226a4287ade78b4f4b2baef1": {
      "model_module": "@jupyter-widgets/controls",
      "model_module_version": "1.4.0",
      "model_name": "VBoxModel",
      "state": {
       "children": [
        "IPY_MODEL_26d58705abb2428ea90969620b2a14ff"
       ],
       "layout": "IPY_MODEL_fe76640adfe647829a3db4d5d132e8b2"
      }
     },
     "57d7809918cb483eab4b01d89893ddb8": {
      "model_module": "@jupyter-widgets/base",
      "model_module_version": "1.1.0",
      "model_name": "LayoutModel",
      "state": {
       "width": "20%"
      }
     },
     "57f2ad859171475b84b70bb3b9c76838": {
      "model_module": "@jupyter-widgets/base",
      "model_module_version": "1.1.0",
      "model_name": "LayoutModel",
      "state": {}
     },
     "5802b974aa7a4068b97fd846d6814365": {
      "model_module": "@jupyter-widgets/controls",
      "model_module_version": "1.4.0",
      "model_name": "HBoxModel",
      "state": {
       "children": [
        "IPY_MODEL_62c49a1595cf4d208d65857366367830",
        "IPY_MODEL_fdaf36beaf564780b2c485e06b493db9"
       ],
       "layout": "IPY_MODEL_60942433b8a643d1839306073d85803d"
      }
     },
     "5803a4bccd5946a4a3d10a20a8da6d84": {
      "model_module": "@jupyter-widgets/base",
      "model_module_version": "1.1.0",
      "model_name": "LayoutModel",
      "state": {
       "width": "20%"
      }
     },
     "5814e99877f0413ea3a16f5be9efdd4a": {
      "model_module": "@jupyter-widgets/controls",
      "model_module_version": "1.4.0",
      "model_name": "SelectMultipleModel",
      "state": {
       "_options_labels": [
        "VI produced, good quality",
        "VI produced, but check other QA",
        "Pixel produced, but most probably cloudy",
        "Pixel not produced due to other reasons than clouds"
       ],
       "description": "Description",
       "index": [
        0
       ],
       "layout": "IPY_MODEL_79914e40cc1f4cacace01989fff78427",
       "rows": 4,
       "style": "IPY_MODEL_1f1c0f5ef49f4ec288bf05812aae3643"
      }
     },
     "5846c63ea3be45c48f3b86d15d1038dc": {
      "model_module": "@jupyter-widgets/controls",
      "model_module_version": "1.4.0",
      "model_name": "SelectModel",
      "state": {
       "_options_labels": [
        "MODLAND",
        "VI Usefulness",
        "Aerosol Quantity",
        "Adjacent cloud detected",
        "Atmosphere BRDF Correction",
        "Mixed Clouds",
        "Land/Water Mask",
        "Possible snow/ice",
        "Possible shadow"
       ],
       "description": "QA Parameter name:",
       "index": 0,
       "layout": "IPY_MODEL_6359783a01e14d12b768a91d54901b86",
       "rows": 9,
       "style": "IPY_MODEL_3247faf3a5804705ac0203819db802fc"
      }
     },
     "584c1e8f059947299210b5fdec6d287d": {
      "model_module": "@jupyter-widgets/controls",
      "model_module_version": "1.4.0",
      "model_name": "ButtonModel",
      "state": {
       "description": "Default selection",
       "layout": "IPY_MODEL_217132024abd40cd9621fbffae20bcbc",
       "style": "IPY_MODEL_c0d069e653e048eb9b8df2d15572a863"
      }
     },
     "586bb5fe232b460abe6315916a388e21": {
      "model_module": "@jupyter-widgets/base",
      "model_module_version": "1.1.0",
      "model_name": "LayoutModel",
      "state": {}
     },
     "58c569f2c8f54bd7b5dcbb4a5fc45ac3": {
      "model_module": "@jupyter-widgets/controls",
      "model_module_version": "1.4.0",
      "model_name": "HTMLModel",
      "state": {
       "description": "QA layer:",
       "layout": "IPY_MODEL_3de2d77639524ec480d49fcbfb3eff11",
       "style": "IPY_MODEL_f1d77d6b0c9542e2991632dcef174c63",
       "value": "<b>_1_km_16_days_VI_Quality</b>"
      }
     },
     "58c8aa31b8594da2999a8a2390d296d1": {
      "model_module": "@jupyter-widgets/controls",
      "model_module_version": "1.4.0",
      "model_name": "VBoxModel",
      "state": {
       "children": [
        "IPY_MODEL_8f9e361fef19417196b632b847cafca5"
       ],
       "layout": "IPY_MODEL_4a17b4d61f424fde972e6d4d3f258a9a"
      }
     },
     "58ca972e2d9344509cd6ff4d098664a9": {
      "model_module": "@jupyter-widgets/controls",
      "model_module_version": "1.4.0",
      "model_name": "DescriptionStyleModel",
      "state": {
       "description_width": ""
      }
     },
     "58d3c736fcbe412baf36bcfc50e57187": {
      "model_module": "@jupyter-widgets/controls",
      "model_module_version": "1.4.0",
      "model_name": "SelectMultipleModel",
      "state": {
       "_options_labels": [
        "VI produced, good quality",
        "VI produced, but check other QA",
        "Pixel produced, but most probably cloudy",
        "Pixel not produced due to other reasons than clouds"
       ],
       "description": "Description",
       "index": [
        0
       ],
       "layout": "IPY_MODEL_aa5fd3f8d342424c961f266838c2de4d",
       "rows": 4,
       "style": "IPY_MODEL_64fb3c3aa3144d99bab4d8642008c83c"
      }
     },
     "58e185423b094877b2bec8ab4fae0073": {
      "model_module": "@jupyter-widgets/base",
      "model_module_version": "1.1.0",
      "model_name": "LayoutModel",
      "state": {
       "height": "350px",
       "width": "99%"
      }
     },
     "58e4f92e80ce4cbdb1d57c334d4a6b21": {
      "model_module": "@jupyter-widgets/controls",
      "model_module_version": "1.4.0",
      "model_name": "SelectMultipleModel",
      "state": {
       "_options_labels": [
        "VI produced, good quality",
        "VI produced, but check other QA",
        "Pixel produced, but most probably cloudy",
        "Pixel not produced due to other reasons than clouds"
       ],
       "description": "Description",
       "index": [
        0
       ],
       "layout": "IPY_MODEL_e8fc7f1f018542b082928fdc5a7e57e6",
       "rows": 4,
       "style": "IPY_MODEL_f5f5155fb7f240dab1d801aaa9bf3bc6"
      }
     },
     "58e63a2336874e379b4826ba722acfb7": {
      "model_module": "@jupyter-widgets/controls",
      "model_module_version": "1.4.0",
      "model_name": "HBoxModel",
      "state": {
       "children": [
        "IPY_MODEL_d8cdf810f7914100857fa2db26db29bd",
        "IPY_MODEL_417a7c9aa41b419396c2ed473a64bf86",
        "IPY_MODEL_7936c81920e149d6829cfd93e6bee621"
       ],
       "layout": "IPY_MODEL_44399d40d9304ec5b1e68ac7b7e8db2d"
      }
     },
     "58ed96e880e24c84902f8fae16c21b56": {
      "model_module": "@jupyter-widgets/base",
      "model_module_version": "1.1.0",
      "model_name": "LayoutModel",
      "state": {
       "width": "50%"
      }
     },
     "590dd1f2e9454af6ae8c5e114c808d35": {
      "model_module": "@jupyter-widgets/controls",
      "model_module_version": "1.4.0",
      "model_name": "ButtonModel",
      "state": {
       "description": "Select ALL",
       "layout": "IPY_MODEL_e5b7d6789f5c472fbe575c7011a23ada",
       "style": "IPY_MODEL_3316d7604c464b54bfaf368b9946ecba"
      }
     },
     "5977f2c725b54c98b8ab4ff60bd98a54": {
      "model_module": "@jupyter-widgets/base",
      "model_module_version": "1.1.0",
      "model_name": "LayoutModel",
      "state": {
       "width": "20%"
      }
     },
     "5993c7e5af4e4e66a639e2572e5dd48c": {
      "model_module": "@jupyter-widgets/controls",
      "model_module_version": "1.4.0",
      "model_name": "ButtonStyleModel",
      "state": {}
     },
     "59a0302633d74b41b7e9ea699ec9fc0c": {
      "model_module": "@jupyter-widgets/base",
      "model_module_version": "1.1.0",
      "model_name": "LayoutModel",
      "state": {
       "height": "200px",
       "width": "99%"
      }
     },
     "59d74a9b62064f928356a20edb1a451e": {
      "model_module": "@jupyter-widgets/base",
      "model_module_version": "1.1.0",
      "model_name": "LayoutModel",
      "state": {
       "width": "75%"
      }
     },
     "59f4ca0f0423442da642795c07b7365a": {
      "model_module": "@jupyter-widgets/controls",
      "model_module_version": "1.4.0",
      "model_name": "ButtonModel",
      "state": {
       "description": "Create mask",
       "layout": "IPY_MODEL_0cac349d40e14e598854fb7669976aa7",
       "style": "IPY_MODEL_8fb3d373ad274e8ebbb126c45725586b"
      }
     },
     "5a5f1c6d95754eb39b6c8aca323cc806": {
      "model_module": "@jupyter-widgets/controls",
      "model_module_version": "1.4.0",
      "model_name": "SelectMultipleModel",
      "state": {
       "_options_labels": [
        "Shallow ocean",
        "Land (Nothing else but land)",
        "Ocean coastlines and lake shorelines",
        "Shallow inland water",
        "Ephemeral water",
        "Deep inland water",
        "Moderate or continental ocean",
        "Deep ocean"
       ],
       "description": "Description",
       "index": [
        1
       ],
       "layout": "IPY_MODEL_c8f68c41bcee4c7ab1c9c0d5549396ea",
       "rows": 8,
       "style": "IPY_MODEL_837746741ba24f9881300a22100ef141"
      }
     },
     "5a74e4f8221d45ef96c8d96ff081be48": {
      "model_module": "@jupyter-widgets/base",
      "model_module_version": "1.1.0",
      "model_name": "LayoutModel",
      "state": {
       "width": "20%"
      }
     },
     "5a76b6f1997a46c490def1e9bb09518e": {
      "model_module": "@jupyter-widgets/controls",
      "model_module_version": "1.4.0",
      "model_name": "DescriptionStyleModel",
      "state": {
       "description_width": "initial"
      }
     },
     "5a95a5c50a684f33883f1b46bd962172": {
      "model_module": "@jupyter-widgets/controls",
      "model_module_version": "1.4.0",
      "model_name": "ButtonStyleModel",
      "state": {}
     },
     "5aa259bf9abb4529871c5b6f813382f6": {
      "model_module": "@jupyter-widgets/controls",
      "model_module_version": "1.4.0",
      "model_name": "VBoxModel",
      "state": {
       "children": [
        "IPY_MODEL_542fcd0acd664e7d8d59f219ad5ad20c"
       ],
       "layout": "IPY_MODEL_758006c7b90840aaa9a3116f957abd54"
      }
     },
     "5acaef2fd45841fbb39906bee1aefd4b": {
      "model_module": "@jupyter-widgets/base",
      "model_module_version": "1.1.0",
      "model_name": "LayoutModel",
      "state": {
       "width": "20%"
      }
     },
     "5afdc1d110cb45699234215ac916ea59": {
      "model_module": "@jupyter-widgets/base",
      "model_module_version": "1.1.0",
      "model_name": "LayoutModel",
      "state": {
       "width": "400px"
      }
     },
     "5b1446b240c24a7f93c5c1d5b20a53f2": {
      "model_module": "@jupyter-widgets/base",
      "model_module_version": "1.1.0",
      "model_name": "LayoutModel",
      "state": {
       "width": "400px"
      }
     },
     "5b17a4185e064482a6edc09f4d0e11e7": {
      "model_module": "@jupyter-widgets/controls",
      "model_module_version": "1.4.0",
      "model_name": "ButtonStyleModel",
      "state": {}
     },
     "5b6c3ebc5e57401f98c660890ac4d8ab": {
      "model_module": "@jupyter-widgets/base",
      "model_module_version": "1.1.0",
      "model_name": "LayoutModel",
      "state": {}
     },
     "5b7f8d15f07c458da82fa6c1211d9a04": {
      "model_module": "@jupyter-widgets/controls",
      "model_module_version": "1.4.0",
      "model_name": "ButtonStyleModel",
      "state": {}
     },
     "5bb332ab52c64b7a9c52758392ddcca1": {
      "model_module": "@jupyter-widgets/controls",
      "model_module_version": "1.4.0",
      "model_name": "ButtonModel",
      "state": {
       "description": "Default selection",
       "layout": "IPY_MODEL_899d9e87b20948d28982f312d1c81ddc",
       "style": "IPY_MODEL_f8a35aaf9c3d4cc2ad9cffac91469e72"
      }
     },
     "5bcf0e8a32a7429f82454a5f1f8e3f0a": {
      "model_module": "@jupyter-widgets/base",
      "model_module_version": "1.1.0",
      "model_name": "LayoutModel",
      "state": {}
     },
     "5c5a211e79bd455694ae69cb73733ecb": {
      "model_module": "@jupyter-widgets/controls",
      "model_module_version": "1.4.0",
      "model_name": "SelectModel",
      "state": {
       "_options_labels": [
        "MODLAND"
       ],
       "description": "QA Parameter name:",
       "index": 0,
       "layout": "IPY_MODEL_a9549642783c41e6a5aa3bef35f8c911",
       "rows": 1,
       "style": "IPY_MODEL_5214de4edc8942ebbf09caec6dc6871d"
      }
     },
     "5c8e3dd34aad47f09ff09c1f2454ea10": {
      "model_module": "@jupyter-widgets/base",
      "model_module_version": "1.1.0",
      "model_name": "LayoutModel",
      "state": {
       "width": "20%"
      }
     },
     "5c9571edc43f4eeda4f4df7327ddf5c4": {
      "model_module": "@jupyter-widgets/controls",
      "model_module_version": "1.4.0",
      "model_name": "ButtonModel",
      "state": {
       "description": "Create mask and max gap length",
       "layout": "IPY_MODEL_223012d925fb43bdb96dad48992ee40b",
       "style": "IPY_MODEL_1dabc728b6134ed689dce9734f368e56"
      }
     },
     "5cc0094fe313461186cdf16587d650d0": {
      "model_module": "@jupyter-widgets/base",
      "model_module_version": "1.1.0",
      "model_name": "LayoutModel",
      "state": {}
     },
     "5ce3455a57d04a03a3aac19a93ef9889": {
      "model_module": "@jupyter-widgets/base",
      "model_module_version": "1.1.0",
      "model_name": "LayoutModel",
      "state": {
       "height": "100px",
       "width": "99%"
      }
     },
     "5ceb4b181d8d4a69b59b30b7a6423590": {
      "model_module": "@jupyter-widgets/controls",
      "model_module_version": "1.4.0",
      "model_name": "ButtonModel",
      "state": {
       "description": "QA analytics",
       "layout": "IPY_MODEL_ff01652771a44acbb362f8a8500895a7",
       "style": "IPY_MODEL_2e6e060aaec945fcac57f540103c8494"
      }
     },
     "5cf2436875f34c569df33428a8262af6": {
      "model_module": "@jupyter-widgets/controls",
      "model_module_version": "1.4.0",
      "model_name": "DescriptionStyleModel",
      "state": {
       "description_width": "initial"
      }
     },
     "5d5d2d0afd8b46cba4a1ef6a84f0ed2e": {
      "model_module": "@jupyter-widgets/base",
      "model_module_version": "1.1.0",
      "model_name": "LayoutModel",
      "state": {
       "width": "400px"
      }
     },
     "5d843a44bebc421cac8a4c50bd13c2a6": {
      "model_module": "@jupyter-widgets/controls",
      "model_module_version": "1.4.0",
      "model_name": "DescriptionStyleModel",
      "state": {
       "description_width": "initial"
      }
     },
     "5db78c4d230d4b5e9fc0fa8a07d59c12": {
      "model_module": "@jupyter-widgets/base",
      "model_module_version": "1.1.0",
      "model_name": "LayoutModel",
      "state": {
       "width": "20%"
      }
     },
     "5dd04bab801641ab99ee5d1aed119628": {
      "model_module": "@jupyter-widgets/base",
      "model_module_version": "1.1.0",
      "model_name": "LayoutModel",
      "state": {
       "width": "20%"
      }
     },
     "5ddef30933914e3894193c9c67891bb2": {
      "model_module": "@jupyter-widgets/controls",
      "model_module_version": "1.4.0",
      "model_name": "ProgressStyleModel",
      "state": {
       "description_width": "initial"
      }
     },
     "5dfd10ba8ec5432284c9c527f1ca8f55": {
      "model_module": "@jupyter-widgets/controls",
      "model_module_version": "1.4.0",
      "model_name": "VBoxModel",
      "state": {
       "children": [
        "IPY_MODEL_e062cd00c75841a1ad39794e58087a5f"
       ],
       "layout": "IPY_MODEL_dfdcc3376b9547a78f049ada75850a63"
      }
     },
     "5e1c0574e5de4d6399e1dc647c362074": {
      "model_module": "@jupyter-widgets/base",
      "model_module_version": "1.1.0",
      "model_name": "LayoutModel",
      "state": {}
     },
     "5e5171afa59344999e13cc90db0be61e": {
      "model_module": "@jupyter-widgets/controls",
      "model_module_version": "1.4.0",
      "model_name": "ButtonModel",
      "state": {
       "description": "Select ALL",
       "layout": "IPY_MODEL_67b67df610734216952394a2d72db2bd",
       "style": "IPY_MODEL_18ba67a6f1574c35bef7c2c1ede1ac8b"
      }
     },
     "5e6fcfd840174106a12abb62897c52b2": {
      "model_module": "@jupyter-widgets/controls",
      "model_module_version": "1.4.0",
      "model_name": "ButtonStyleModel",
      "state": {}
     },
     "5e7d375288af4e839bbd0a3458aa799a": {
      "model_module": "@jupyter-widgets/controls",
      "model_module_version": "1.4.0",
      "model_name": "ButtonStyleModel",
      "state": {}
     },
     "5e7f6d6ca20c415898833157d6f7b18f": {
      "model_module": "@jupyter-widgets/base",
      "model_module_version": "1.1.0",
      "model_name": "LayoutModel",
      "state": {
       "width": "400px"
      }
     },
     "5e81d6d94ccb41d3b11fa6c770ad4a92": {
      "model_module": "@jupyter-widgets/base",
      "model_module_version": "1.1.0",
      "model_name": "LayoutModel",
      "state": {
       "width": "400px"
      }
     },
     "5e89dc63a24e418fa012cf02ab1dc5de": {
      "model_module": "@jupyter-widgets/base",
      "model_module_version": "1.1.0",
      "model_name": "LayoutModel",
      "state": {}
     },
     "5ea35eafdc4c498f8cbedcad25131678": {
      "model_module": "@jupyter-widgets/controls",
      "model_module_version": "1.4.0",
      "model_name": "ButtonModel",
      "state": {
       "description": "QA analytics",
       "layout": "IPY_MODEL_7e655a02e1014ffd84d20e68e3f5fed6",
       "style": "IPY_MODEL_3bab113c61034554b8ea974a8c9560f0"
      }
     },
     "5ea4d35b4b474919b1759085ec3f2df3": {
      "model_module": "@jupyter-widgets/base",
      "model_module_version": "1.1.0",
      "model_name": "LayoutModel",
      "state": {
       "height": "300px",
       "width": "99%"
      }
     },
     "5eb1c23cb8634e78aa3d015e2ee6519f": {
      "model_module": "@jupyter-widgets/controls",
      "model_module_version": "1.4.0",
      "model_name": "ButtonModel",
      "state": {
       "description": "Select ALL",
       "layout": "IPY_MODEL_7424e55c8b93451e9b21914f1367236b",
       "style": "IPY_MODEL_b84625cb16254e74ada1af7880a3c357"
      }
     },
     "5efa89d587c0451a9fd99f038016a778": {
      "model_module": "@jupyter-widgets/controls",
      "model_module_version": "1.4.0",
      "model_name": "VBoxModel",
      "state": {
       "children": [
        "IPY_MODEL_6c22cbbaaf0449d9a1c945504123e5bb"
       ],
       "layout": "IPY_MODEL_b057e3bc2bff4398b3965e983d368e31"
      }
     },
     "5f084b6f12de4a56a08e9204f6ab1d77": {
      "model_module": "@jupyter-widgets/controls",
      "model_module_version": "1.4.0",
      "model_name": "SelectModel",
      "state": {
       "_options_labels": [
        "MODLAND",
        "VI Usefulness",
        "Aerosol Quantity",
        "Adjacent cloud detected",
        "Atmosphere BRDF Correction",
        "Mixed Clouds",
        "Land/Water Mask",
        "Possible snow/ice",
        "Possible shadow"
       ],
       "description": "QA Parameter name:",
       "index": 0,
       "layout": "IPY_MODEL_eb6f94f265c64d638b86000b9aacda6b",
       "rows": 9,
       "style": "IPY_MODEL_be75db788c3246519751ff13d4cbe5a0"
      }
     },
     "5f0c7ceb362e4ed7933bb7b388a15d01": {
      "model_module": "@jupyter-widgets/base",
      "model_module_version": "1.1.0",
      "model_name": "LayoutModel",
      "state": {}
     },
     "5f0dbdce338744bcbcc53bf622684457": {
      "model_module": "@jupyter-widgets/controls",
      "model_module_version": "1.4.0",
      "model_name": "ButtonModel",
      "state": {
       "description": "Select ALL",
       "layout": "IPY_MODEL_ae889f7b068045fd8cb8515b50b3bbb3",
       "style": "IPY_MODEL_36fbd56f9e164cbb9f2010f4b94ee7ce"
      }
     },
     "5f2b6b1c8fd14f1d87944f8db5afca5f": {
      "model_module": "@jupyter-widgets/controls",
      "model_module_version": "1.4.0",
      "model_name": "ButtonModel",
      "state": {
       "description": "Save QA analytics",
       "layout": "IPY_MODEL_b02919a4ec564ba3b92d889ca446c50f",
       "style": "IPY_MODEL_e4581d0cea46462c85f03257b8a886cd"
      }
     },
     "5f8afce93a3f4fd09547cd820915cc75": {
      "model_module": "@jupyter-widgets/base",
      "model_module_version": "1.1.0",
      "model_name": "LayoutModel",
      "state": {}
     },
     "5fa812b34bfc4b9f9887a34f13d5ae3d": {
      "model_module": "@jupyter-widgets/controls",
      "model_module_version": "1.4.0",
      "model_name": "VBoxModel",
      "state": {
       "children": [
        "IPY_MODEL_f88ab3864eac4bd6945cde3a38bca592"
       ],
       "layout": "IPY_MODEL_a79dba3cf4a145afa7aaf78c44576a07"
      }
     },
     "5fc4c441ddc24fcf8f03a357be10416a": {
      "model_module": "@jupyter-widgets/controls",
      "model_module_version": "1.4.0",
      "model_name": "ButtonStyleModel",
      "state": {}
     },
     "5fdbc68a208a47e4a29532ad54ded650": {
      "model_module": "@jupyter-widgets/controls",
      "model_module_version": "1.4.0",
      "model_name": "ButtonStyleModel",
      "state": {}
     },
     "5ffaf2c5f23c433fa5751e82c37fd03b": {
      "model_module": "@jupyter-widgets/controls",
      "model_module_version": "1.4.0",
      "model_name": "ButtonModel",
      "state": {
       "description": "Default selection",
       "layout": "IPY_MODEL_0fd3e4f0b8ef4e7aa052d0ea15b4a399",
       "style": "IPY_MODEL_776ca41e269b416aae6276b01e0b9808"
      }
     },
     "601df3dc867c4bd185769437739f8e96": {
      "model_module": "@jupyter-widgets/controls",
      "model_module_version": "1.4.0",
      "model_name": "DescriptionStyleModel",
      "state": {
       "description_width": "initial"
      }
     },
     "602473fe70ac404ca6b6c11a749c1277": {
      "model_module": "@jupyter-widgets/controls",
      "model_module_version": "1.4.0",
      "model_name": "VBoxModel",
      "state": {
       "children": [
        "IPY_MODEL_61ae087bf29c46d580279bf0df717b72"
       ],
       "layout": "IPY_MODEL_1ae6bf9034724031819f24eb5b721e26"
      }
     },
     "60545437560340bfbdc6427755ef25dc": {
      "model_module": "@jupyter-widgets/base",
      "model_module_version": "1.1.0",
      "model_name": "LayoutModel",
      "state": {
       "width": "400px"
      }
     },
     "6066dce1009b4480ad3211e0021c7083": {
      "model_module": "@jupyter-widgets/controls",
      "model_module_version": "1.4.0",
      "model_name": "ButtonStyleModel",
      "state": {}
     },
     "606cdb70d60448c89ac2aa3c1d283a73": {
      "model_module": "@jupyter-widgets/controls",
      "model_module_version": "1.4.0",
      "model_name": "DescriptionStyleModel",
      "state": {
       "description_width": "initial"
      }
     },
     "60755f2afa194808804321aa05f8c59f": {
      "model_module": "@jupyter-widgets/base",
      "model_module_version": "1.1.0",
      "model_name": "LayoutModel",
      "state": {
       "width": "400px"
      }
     },
     "607b7115bd2743f7857d2eb291608721": {
      "model_module": "@jupyter-widgets/controls",
      "model_module_version": "1.4.0",
      "model_name": "ButtonModel",
      "state": {
       "description": "Default selection",
       "layout": "IPY_MODEL_66f5be8bd0be4227bc3d194633895e30",
       "style": "IPY_MODEL_610245c464d14ee78b431d73378457b8"
      }
     },
     "60942433b8a643d1839306073d85803d": {
      "model_module": "@jupyter-widgets/base",
      "model_module_version": "1.1.0",
      "model_name": "LayoutModel",
      "state": {
       "height": "350px",
       "width": "99%"
      }
     },
     "60968d9873914b34902ec527d05fa78e": {
      "model_module": "@jupyter-widgets/base",
      "model_module_version": "1.1.0",
      "model_name": "LayoutModel",
      "state": {}
     },
     "60ed67b3afd84a88a024fb90bb3d15d8": {
      "model_module": "@jupyter-widgets/base",
      "model_module_version": "1.1.0",
      "model_name": "LayoutModel",
      "state": {}
     },
     "610245c464d14ee78b431d73378457b8": {
      "model_module": "@jupyter-widgets/controls",
      "model_module_version": "1.4.0",
      "model_name": "ButtonStyleModel",
      "state": {}
     },
     "610c6e032f3745e1a66fc2d6cb47b3f4": {
      "model_module": "@jupyter-widgets/controls",
      "model_module_version": "1.4.0",
      "model_name": "DescriptionStyleModel",
      "state": {
       "description_width": ""
      }
     },
     "611cc2ffe82846f2b07232844c3229d4": {
      "model_module": "@jupyter-widgets/base",
      "model_module_version": "1.1.0",
      "model_name": "LayoutModel",
      "state": {
       "width": "20%"
      }
     },
     "61366a1fadc34b21ba5e038b12a9a63e": {
      "model_module": "@jupyter-widgets/base",
      "model_module_version": "1.1.0",
      "model_name": "LayoutModel",
      "state": {}
     },
     "6155682d2093467c8dbaa8dd62fa87f2": {
      "model_module": "@jupyter-widgets/controls",
      "model_module_version": "1.4.0",
      "model_name": "DescriptionStyleModel",
      "state": {
       "description_width": "initial"
      }
     },
     "618083d0432149878a2c5fd9bd040e78": {
      "model_module": "@jupyter-widgets/base",
      "model_module_version": "1.1.0",
      "model_name": "LayoutModel",
      "state": {
       "width": "20%"
      }
     },
     "618492c7566d41d7b93bb1fcd9a1be80": {
      "model_module": "@jupyter-widgets/controls",
      "model_module_version": "1.4.0",
      "model_name": "DescriptionStyleModel",
      "state": {
       "description_width": ""
      }
     },
     "6192e3e7cf374d658991d858045838d8": {
      "model_module": "@jupyter-widgets/controls",
      "model_module_version": "1.4.0",
      "model_name": "HBoxModel",
      "state": {
       "children": [
        "IPY_MODEL_5846c63ea3be45c48f3b86d15d1038dc",
        "IPY_MODEL_bb85f5f75efb458fa1054eabac395ba8",
        "IPY_MODEL_5eb1c23cb8634e78aa3d015e2ee6519f",
        "IPY_MODEL_d4db1d4f785c4a9bb57ecadf2bc3c22e"
       ],
       "layout": "IPY_MODEL_df9ba61d1a0140a4968f14f350ad336d"
      }
     },
     "61a3efc25757401e8bf33cdd8831c848": {
      "model_module": "@jupyter-widgets/controls",
      "model_module_version": "1.4.0",
      "model_name": "DescriptionStyleModel",
      "state": {
       "description_width": "initial"
      }
     },
     "61a5996821684378b6d3679e198377c7": {
      "model_module": "@jupyter-widgets/base",
      "model_module_version": "1.1.0",
      "model_name": "LayoutModel",
      "state": {}
     },
     "61ae087bf29c46d580279bf0df717b72": {
      "model_module": "@jupyter-widgets/controls",
      "model_module_version": "1.4.0",
      "model_name": "SelectModel",
      "state": {
       "_options_labels": [
        "MODLAND",
        "VI Usefulness",
        "Aerosol Quantity",
        "Adjacent cloud detected",
        "Atmosphere BRDF Correction",
        "Mixed Clouds",
        "Land/Water Mask",
        "Possible snow/ice",
        "Possible shadow"
       ],
       "description": "QA Parameter name:",
       "index": 8,
       "layout": "IPY_MODEL_bf30e775f2fc49c38f225bb82b960bed",
       "rows": 9,
       "style": "IPY_MODEL_8ada1905e30d43f1bbab612d5b8afc29"
      }
     },
     "61e95be702954133a783b4bde84d3ad6": {
      "model_module": "@jupyter-widgets/controls",
      "model_module_version": "1.4.0",
      "model_name": "VBoxModel",
      "state": {
       "children": [
        "IPY_MODEL_ddcd74c306f24425ad759cc02711ccd6"
       ],
       "layout": "IPY_MODEL_3788059c8bba4688b64d741687ce5742"
      }
     },
     "61fb9d0622764885a92fa771a4ff8692": {
      "model_module": "@jupyter-widgets/controls",
      "model_module_version": "1.4.0",
      "model_name": "ButtonStyleModel",
      "state": {}
     },
     "61fd204a537f45a29017c0768593bbce": {
      "model_module": "@jupyter-widgets/base",
      "model_module_version": "1.1.0",
      "model_name": "LayoutModel",
      "state": {
       "width": "50%"
      }
     },
     "62103a4903a743eda3a75f4b31321bbc": {
      "model_module": "@jupyter-widgets/controls",
      "model_module_version": "1.4.0",
      "model_name": "HBoxModel",
      "state": {
       "children": [
        "IPY_MODEL_34cb9b60a7274f389d6509c6cd700f30",
        "IPY_MODEL_72941c686ca24f3cba6b7878dca573da"
       ],
       "layout": "IPY_MODEL_63c727c61303473d9a6a40e8be48daeb"
      }
     },
     "6216290f224a48099f4814ea19f69bdd": {
      "model_module": "@jupyter-widgets/base",
      "model_module_version": "1.1.0",
      "model_name": "LayoutModel",
      "state": {
       "width": "20%"
      }
     },
     "622a401de88a470882c0e574780296e4": {
      "model_module": "@jupyter-widgets/controls",
      "model_module_version": "1.4.0",
      "model_name": "VBoxModel",
      "state": {
       "children": [
        "IPY_MODEL_64cb915966bf492c9e87c9fb8a6a115a"
       ],
       "layout": "IPY_MODEL_fbc05f701a344ee3b900f972dec00322"
      }
     },
     "624d050331aa467eada99653e32a44ac": {
      "model_module": "@jupyter-widgets/controls",
      "model_module_version": "1.4.0",
      "model_name": "ButtonModel",
      "state": {
       "description": "Select ALL",
       "layout": "IPY_MODEL_f4e7fe92fd14459d82e3162dc103e129",
       "style": "IPY_MODEL_999e99640b6b4854a9b042bc9bf2abc6"
      }
     },
     "626381dc39eb4bc280433a3c68f7d2e6": {
      "model_module": "@jupyter-widgets/controls",
      "model_module_version": "1.4.0",
      "model_name": "DescriptionStyleModel",
      "state": {
       "description_width": "initial"
      }
     },
     "62b0ad0856fe4ddca0ba6a3e140e86ce": {
      "model_module": "@jupyter-widgets/controls",
      "model_module_version": "1.4.0",
      "model_name": "VBoxModel",
      "state": {
       "children": [
        "IPY_MODEL_216e24d6deb2434a952896293e5e0b0c"
       ],
       "layout": "IPY_MODEL_51ccda3694e346849b7f74a12796592b"
      }
     },
     "62b87c49856846309157e1ad0e3c97c6": {
      "model_module": "@jupyter-widgets/base",
      "model_module_version": "1.1.0",
      "model_name": "LayoutModel",
      "state": {}
     },
     "62c49a1595cf4d208d65857366367830": {
      "model_module": "@jupyter-widgets/controls",
      "model_module_version": "1.4.0",
      "model_name": "VBoxModel",
      "state": {
       "children": [
        "IPY_MODEL_63029e6f15784c7bab1caff4b181b309"
       ],
       "layout": "IPY_MODEL_20fd842c8adb4280b5d974bb26bd643a"
      }
     },
     "62e474cd2ac745179f6cd7511acc8eb5": {
      "model_module": "@jupyter-widgets/controls",
      "model_module_version": "1.4.0",
      "model_name": "DescriptionStyleModel",
      "state": {
       "description_width": "initial"
      }
     },
     "62ece105d92d47a39168ba5ee839e037": {
      "model_module": "@jupyter-widgets/base",
      "model_module_version": "1.1.0",
      "model_name": "LayoutModel",
      "state": {}
     },
     "63029e6f15784c7bab1caff4b181b309": {
      "model_module": "@jupyter-widgets/controls",
      "model_module_version": "1.4.0",
      "model_name": "SelectModel",
      "state": {
       "_options_labels": [
        "MODLAND",
        "VI Usefulness",
        "Aerosol Quantity",
        "Adjacent cloud detected",
        "Atmosphere BRDF Correction",
        "Mixed Clouds",
        "Land/Water Mask",
        "Possible snow/ice",
        "Possible shadow"
       ],
       "description": "QA Parameter name:",
       "index": 0,
       "layout": "IPY_MODEL_505cf8403f9144858f40b3293ccf5f31",
       "rows": 9,
       "style": "IPY_MODEL_b0597ef7908c44339be7ecf0c445e87d"
      }
     },
     "63030f8db1f64d88857b8f93d6aa9f35": {
      "model_module": "@jupyter-widgets/controls",
      "model_module_version": "1.4.0",
      "model_name": "DescriptionStyleModel",
      "state": {
       "description_width": ""
      }
     },
     "633196f9f1c14406955c0547caf5e86c": {
      "model_module": "@jupyter-widgets/controls",
      "model_module_version": "1.4.0",
      "model_name": "DescriptionStyleModel",
      "state": {
       "description_width": "initial"
      }
     },
     "6359783a01e14d12b768a91d54901b86": {
      "model_module": "@jupyter-widgets/base",
      "model_module_version": "1.1.0",
      "model_name": "LayoutModel",
      "state": {
       "width": "350px"
      }
     },
     "635a6813025e45ebaa4a63ee3b74041d": {
      "model_module": "@jupyter-widgets/controls",
      "model_module_version": "1.4.0",
      "model_name": "HBoxModel",
      "state": {
       "children": [
        "IPY_MODEL_e75ebf4d18ab435c9e6688d337276072",
        "IPY_MODEL_147335332e414a29b69ccfe3d42fcc66",
        "IPY_MODEL_18ddce6892254e50897ba5d5b5aba449"
       ],
       "layout": "IPY_MODEL_1e5e2a6bda804c848055fed26c8fc423"
      }
     },
     "639a450e33ae42a7a1fa3040982d74f4": {
      "model_module": "@jupyter-widgets/base",
      "model_module_version": "1.1.0",
      "model_name": "LayoutModel",
      "state": {
       "width": "20%"
      }
     },
     "63b401077f7b4de781d481d30f964aa6": {
      "model_module": "@jupyter-widgets/base",
      "model_module_version": "1.1.0",
      "model_name": "LayoutModel",
      "state": {}
     },
     "63c727c61303473d9a6a40e8be48daeb": {
      "model_module": "@jupyter-widgets/base",
      "model_module_version": "1.1.0",
      "model_name": "LayoutModel",
      "state": {
       "height": "300px",
       "width": "99%"
      }
     },
     "63d4cc1ed9e444e3b9a1018b5a47cd7f": {
      "model_module": "@jupyter-widgets/base",
      "model_module_version": "1.1.0",
      "model_name": "LayoutModel",
      "state": {}
     },
     "63e9f5dbc2dc45d3a0f3440639b9b539": {
      "model_module": "@jupyter-widgets/controls",
      "model_module_version": "1.4.0",
      "model_name": "VBoxModel",
      "state": {
       "children": [
        "IPY_MODEL_cdf2cad5ac184ac481e8c3f8d0d358d9"
       ],
       "layout": "IPY_MODEL_7cdb2798d77d4674a6b9661a04a7594b"
      }
     },
     "63fe4385663346bba7a6f10035f53760": {
      "model_module": "@jupyter-widgets/base",
      "model_module_version": "1.1.0",
      "model_name": "LayoutModel",
      "state": {
       "height": "200px",
       "width": "99%"
      }
     },
     "6410b741df6d41cb97cb2e40e88ad97b": {
      "model_module": "@jupyter-widgets/controls",
      "model_module_version": "1.4.0",
      "model_name": "HBoxModel",
      "state": {
       "children": [
        "IPY_MODEL_590dd1f2e9454af6ae8c5e114c808d35",
        "IPY_MODEL_bb79e7091e5548f29fe310f6777d4637",
        "IPY_MODEL_ccb8b48f28ea4d8bb40dfaaa4bb2a1e5"
       ],
       "layout": "IPY_MODEL_88ea6771376f424dbcb8dddd580fc3be"
      }
     },
     "641bbcd9ffef47eb810b8f999871a85c": {
      "model_module": "@jupyter-widgets/controls",
      "model_module_version": "1.4.0",
      "model_name": "VBoxModel",
      "state": {
       "children": [
        "IPY_MODEL_6b08386345454dcb8ba31bc4c363e746"
       ],
       "layout": "IPY_MODEL_2f412c971dc44cac871aa202008f54fe"
      }
     },
     "643744c79b1447a196dca6db0b0604a3": {
      "model_module": "@jupyter-widgets/base",
      "model_module_version": "1.1.0",
      "model_name": "LayoutModel",
      "state": {}
     },
     "64454f71f4844e6da3edb580d05149a4": {
      "model_module": "@jupyter-widgets/base",
      "model_module_version": "1.1.0",
      "model_name": "LayoutModel",
      "state": {
       "width": "20%"
      }
     },
     "6484d3f1b3bd4d3295977af834ae8a33": {
      "model_module": "@jupyter-widgets/controls",
      "model_module_version": "1.4.0",
      "model_name": "SelectMultipleModel",
      "state": {
       "_options_labels": [
        "VI produced, good quality",
        "VI produced, but check other QA",
        "Pixel produced, but most probably cloudy",
        "Pixel not produced due to other reasons than clouds"
       ],
       "description": "Description",
       "index": [
        0
       ],
       "layout": "IPY_MODEL_371aa72cca204abdb87cfe1fbd501b14",
       "rows": 4,
       "style": "IPY_MODEL_633196f9f1c14406955c0547caf5e86c"
      }
     },
     "64a6650c14ff4b3cb8f65a9c3d8d690c": {
      "model_module": "@jupyter-widgets/base",
      "model_module_version": "1.1.0",
      "model_name": "LayoutModel",
      "state": {
       "width": "20%"
      }
     },
     "64a740b9436f44aaa0cfc998be5bbacf": {
      "model_module": "@jupyter-widgets/controls",
      "model_module_version": "1.4.0",
      "model_name": "ButtonModel",
      "state": {
       "description": "Create mask",
       "layout": "IPY_MODEL_3ec126f887fe4eaf87093af657dedea3",
       "style": "IPY_MODEL_d886493be3b245dcbc38337f8206b41b"
      }
     },
     "64cb915966bf492c9e87c9fb8a6a115a": {
      "model_module": "@jupyter-widgets/controls",
      "model_module_version": "1.4.0",
      "model_name": "SelectModel",
      "state": {
       "_options_labels": [
        "MODLAND"
       ],
       "description": "QA Parameter name:",
       "index": 0,
       "layout": "IPY_MODEL_6b2b76cd9e054085a92838570f541eee",
       "rows": 1,
       "style": "IPY_MODEL_87858733ec334d268d350689037146c0"
      }
     },
     "64dbe5ee1b474593a4ac43ba65f09e52": {
      "model_module": "@jupyter-widgets/base",
      "model_module_version": "1.1.0",
      "model_name": "LayoutModel",
      "state": {
       "width": "50%"
      }
     },
     "64ec396762094618950605eb1073a9c6": {
      "model_module": "@jupyter-widgets/base",
      "model_module_version": "1.1.0",
      "model_name": "LayoutModel",
      "state": {
       "width": "30%"
      }
     },
     "64ec8cd32345488bb4af3327cdef193f": {
      "model_module": "@jupyter-widgets/controls",
      "model_module_version": "1.4.0",
      "model_name": "DescriptionStyleModel",
      "state": {
       "description_width": "initial"
      }
     },
     "64f7d7e8a5384be6aff81da5fb63f495": {
      "model_module": "@jupyter-widgets/base",
      "model_module_version": "1.1.0",
      "model_name": "LayoutModel",
      "state": {
       "height": "350px",
       "width": "99%"
      }
     },
     "64fb3c3aa3144d99bab4d8642008c83c": {
      "model_module": "@jupyter-widgets/controls",
      "model_module_version": "1.4.0",
      "model_name": "DescriptionStyleModel",
      "state": {
       "description_width": "initial"
      }
     },
     "65127ee2cfad49e0b2f136130be4dc44": {
      "model_module": "@jupyter-widgets/controls",
      "model_module_version": "1.4.0",
      "model_name": "ButtonModel",
      "state": {
       "description": "QA analytics",
       "layout": "IPY_MODEL_6f5049e6963e4445a4a36f041abb7051",
       "style": "IPY_MODEL_e6721040263d4125b87a00c211a3dce6"
      }
     },
     "6514d89454914db48cc7a7f5a025272a": {
      "model_module": "@jupyter-widgets/base",
      "model_module_version": "1.1.0",
      "model_name": "LayoutModel",
      "state": {
       "width": "30%"
      }
     },
     "6545e502898c42faa59caeb2785c21ba": {
      "model_module": "@jupyter-widgets/controls",
      "model_module_version": "1.4.0",
      "model_name": "HTMLModel",
      "state": {
       "description": "QA layer:",
       "layout": "IPY_MODEL_0b72c69063d44946bd4d5c621a954f9c",
       "style": "IPY_MODEL_ffa8f5a83a66460ca16813206496b3c6",
       "value": "<b>_1_km_16_days_VI_Quality</b>"
      }
     },
     "656e819332564b3484998fa64374ddad": {
      "model_module": "@jupyter-widgets/base",
      "model_module_version": "1.1.0",
      "model_name": "LayoutModel",
      "state": {}
     },
     "657b0aa2f9d543ea80fd5d8d24bf671d": {
      "model_module": "@jupyter-widgets/controls",
      "model_module_version": "1.4.0",
      "model_name": "VBoxModel",
      "state": {
       "children": [
        "IPY_MODEL_f8f297ec4554400ca60c04e14866c190"
       ],
       "layout": "IPY_MODEL_add0e2076d9049ffa8c441edafd64696"
      }
     },
     "6583165a108b4220b9ca1ba2718bcde9": {
      "model_module": "@jupyter-widgets/base",
      "model_module_version": "1.1.0",
      "model_name": "LayoutModel",
      "state": {
       "width": "20%"
      }
     },
     "658efcf1ce5345789d7a13b731f2a38f": {
      "model_module": "@jupyter-widgets/base",
      "model_module_version": "1.1.0",
      "model_name": "LayoutModel",
      "state": {
       "height": "350px",
       "width": "99%"
      }
     },
     "65ab104d8e184bfbad9c7547365dc882": {
      "model_module": "@jupyter-widgets/base",
      "model_module_version": "1.1.0",
      "model_name": "LayoutModel",
      "state": {}
     },
     "65d349baef1a49718b565cc42ae097ed": {
      "model_module": "@jupyter-widgets/base",
      "model_module_version": "1.1.0",
      "model_name": "LayoutModel",
      "state": {}
     },
     "65e2abd0d07a434d82146a415ea41a71": {
      "model_module": "@jupyter-widgets/controls",
      "model_module_version": "1.4.0",
      "model_name": "DescriptionStyleModel",
      "state": {
       "description_width": "initial"
      }
     },
     "662f290cc086498fb8a908f435da1364": {
      "model_module": "@jupyter-widgets/controls",
      "model_module_version": "1.4.0",
      "model_name": "VBoxModel",
      "state": {
       "children": [
        "IPY_MODEL_7c74efdbf1294a3cb4514fdc2dd1cc77"
       ],
       "layout": "IPY_MODEL_5e89dc63a24e418fa012cf02ab1dc5de"
      }
     },
     "6642f33871aa4d4eb04e8edf8b75bff6": {
      "model_module": "@jupyter-widgets/base",
      "model_module_version": "1.1.0",
      "model_name": "LayoutModel",
      "state": {}
     },
     "6672e42daac74193b0a9ad4e0612742f": {
      "model_module": "@jupyter-widgets/base",
      "model_module_version": "1.1.0",
      "model_name": "LayoutModel",
      "state": {
       "width": "400px"
      }
     },
     "667c600504814b269435372c40c43332": {
      "model_module": "@jupyter-widgets/base",
      "model_module_version": "1.1.0",
      "model_name": "LayoutModel",
      "state": {
       "width": "30%"
      }
     },
     "66989a7d6dee4d77bc6a5c3d35995f84": {
      "model_module": "@jupyter-widgets/base",
      "model_module_version": "1.1.0",
      "model_name": "LayoutModel",
      "state": {
       "width": "400px"
      }
     },
     "669c5196d73c4b05942c86415209df39": {
      "model_module": "@jupyter-widgets/controls",
      "model_module_version": "1.4.0",
      "model_name": "ButtonModel",
      "state": {
       "description": "Default selection",
       "layout": "IPY_MODEL_4a7053c91cb34e9cb51e5187ea0789cb",
       "style": "IPY_MODEL_d76199888ec04e39916246aec25faacc"
      }
     },
     "66a582cea3744c2dbfcf951e3fa5d0f1": {
      "model_module": "@jupyter-widgets/base",
      "model_module_version": "1.1.0",
      "model_name": "LayoutModel",
      "state": {
       "width": "400px"
      }
     },
     "66c4ba228654447786f7324e6ceee906": {
      "model_module": "@jupyter-widgets/controls",
      "model_module_version": "1.4.0",
      "model_name": "ProgressStyleModel",
      "state": {
       "description_width": "initial"
      }
     },
     "66d1e8cd93324d92bf41a70b987e0c78": {
      "model_module": "@jupyter-widgets/base",
      "model_module_version": "1.1.0",
      "model_name": "LayoutModel",
      "state": {}
     },
     "66e9f11254d7462d868edf249f91744e": {
      "model_module": "@jupyter-widgets/controls",
      "model_module_version": "1.4.0",
      "model_name": "ButtonStyleModel",
      "state": {}
     },
     "66ed4669845144a1a607f662f792066b": {
      "model_module": "@jupyter-widgets/base",
      "model_module_version": "1.1.0",
      "model_name": "LayoutModel",
      "state": {}
     },
     "66f5be8bd0be4227bc3d194633895e30": {
      "model_module": "@jupyter-widgets/base",
      "model_module_version": "1.1.0",
      "model_name": "LayoutModel",
      "state": {
       "width": "20%"
      }
     },
     "66fb9df309c642bebaf788ae4f68536c": {
      "model_module": "@jupyter-widgets/controls",
      "model_module_version": "1.4.0",
      "model_name": "SelectModel",
      "state": {
       "_options_labels": [
        "MODLAND"
       ],
       "description": "QA Parameter name:",
       "index": 0,
       "layout": "IPY_MODEL_9de02dd1bb30437d9c0b1e5ebd95e69b",
       "rows": 1,
       "style": "IPY_MODEL_dbc747dfb77345a18561e2b5193a9bf0"
      }
     },
     "67147a2fd02544b9ae17f8f156f287b2": {
      "model_module": "@jupyter-widgets/controls",
      "model_module_version": "1.4.0",
      "model_name": "HBoxModel",
      "state": {
       "children": [
        "IPY_MODEL_4411573fec8b4df4bff3f5e79dadfd50",
        "IPY_MODEL_39819f6505294f8ba16542d0dd6fa8b3"
       ],
       "layout": "IPY_MODEL_127923edfe184be0ab35f94b5e1059c5"
      }
     },
     "6734ec232d6642b6bb46fbaaa4dfe527": {
      "model_module": "@jupyter-widgets/controls",
      "model_module_version": "1.4.0",
      "model_name": "DescriptionStyleModel",
      "state": {
       "description_width": ""
      }
     },
     "673f7029c2304bcc8c04c96a7a32a103": {
      "model_module": "@jupyter-widgets/base",
      "model_module_version": "1.1.0",
      "model_name": "LayoutModel",
      "state": {
       "width": "30%"
      }
     },
     "675141f0da9447eb911cb294f0c0eb3d": {
      "model_module": "@jupyter-widgets/controls",
      "model_module_version": "1.4.0",
      "model_name": "HTMLModel",
      "state": {
       "description": "QA layer:",
       "layout": "IPY_MODEL_80e3834b190d48a4881807a3077ec19e",
       "style": "IPY_MODEL_2bf0a7ee93014f08836cb3780afb6e98",
       "value": "<b>_1_km_16_days_VI_Quality</b>"
      }
     },
     "676ee46d280f46caa2e04f71a727fb75": {
      "model_module": "@jupyter-widgets/controls",
      "model_module_version": "1.4.0",
      "model_name": "HBoxModel",
      "state": {
       "children": [
        "IPY_MODEL_fe26e716aaef4e378f0dfb5f848c190b",
        "IPY_MODEL_b0e90cf03c3a4961ab31c20b91f1ad31"
       ],
       "layout": "IPY_MODEL_af74f9bc04c94175ae465f5841973a8d"
      }
     },
     "67b67df610734216952394a2d72db2bd": {
      "model_module": "@jupyter-widgets/base",
      "model_module_version": "1.1.0",
      "model_name": "LayoutModel",
      "state": {
       "width": "20%"
      }
     },
     "67fcb3ec16c7496c80996b506523dd84": {
      "model_module": "@jupyter-widgets/base",
      "model_module_version": "1.1.0",
      "model_name": "LayoutModel",
      "state": {
       "height": "200px",
       "width": "99%"
      }
     },
     "6822cf64342f43f5a34b94c95dd84302": {
      "model_module": "@jupyter-widgets/base",
      "model_module_version": "1.1.0",
      "model_name": "LayoutModel",
      "state": {}
     },
     "686b8bc137914495bcf2a48509daf7c6": {
      "model_module": "@jupyter-widgets/controls",
      "model_module_version": "1.4.0",
      "model_name": "ButtonStyleModel",
      "state": {}
     },
     "686d9827695e40bd9f232bd207de3318": {
      "model_module": "@jupyter-widgets/controls",
      "model_module_version": "1.4.0",
      "model_name": "VBoxModel",
      "state": {
       "children": [
        "IPY_MODEL_58e4f92e80ce4cbdb1d57c334d4a6b21"
       ],
       "layout": "IPY_MODEL_5b6c3ebc5e57401f98c660890ac4d8ab"
      }
     },
     "686ec12a4bf54e2398af14aa26ba0585": {
      "model_module": "@jupyter-widgets/controls",
      "model_module_version": "1.4.0",
      "model_name": "HTMLModel",
      "state": {
       "description": "QA layer:",
       "layout": "IPY_MODEL_00b3b3ea86094f0c85dec64664ad042a",
       "style": "IPY_MODEL_6ad6740762974e7695e3ccb8bd66b733",
       "value": "<b>_1_km_16_days_VI_Quality</b>"
      }
     },
     "68aeaf11168340ccb0dafd643aba2efe": {
      "model_module": "@jupyter-widgets/controls",
      "model_module_version": "1.4.0",
      "model_name": "HBoxModel",
      "state": {
       "children": [
        "IPY_MODEL_0d1ea90fc73f4bf695e5e5a440c61fea",
        "IPY_MODEL_1359ad95eed74adf9fda865364ad4abf",
        "IPY_MODEL_1420dbfcf1f946b88cff3a0cfcf86859"
       ],
       "layout": "IPY_MODEL_858a4bd718644c8b9678c908d8ca03f7"
      }
     },
     "68bdd79b1ee64eacacd3ac8b548f559e": {
      "model_module": "@jupyter-widgets/controls",
      "model_module_version": "1.4.0",
      "model_name": "HBoxModel",
      "state": {
       "children": [
        "IPY_MODEL_d4adbf70cb774c4ea5a7dd5ec036e1da",
        "IPY_MODEL_d3d383d7d13d4f99821161ea2f24115b",
        "IPY_MODEL_71a4490699324bd5a73721ff651f1f3a"
       ],
       "layout": "IPY_MODEL_988c0265008049f1971e848606a62ac9"
      }
     },
     "68c5c426f5334843bd7bafd7375bae3d": {
      "model_module": "@jupyter-widgets/base",
      "model_module_version": "1.1.0",
      "model_name": "LayoutModel",
      "state": {
       "width": "30%"
      }
     },
     "68cd4309072d438f9cdf5a8e2d233446": {
      "model_module": "@jupyter-widgets/controls",
      "model_module_version": "1.4.0",
      "model_name": "ProgressStyleModel",
      "state": {
       "description_width": "initial"
      }
     },
     "68dd5ffd107f416799fd0400f89d9533": {
      "model_module": "@jupyter-widgets/base",
      "model_module_version": "1.1.0",
      "model_name": "LayoutModel",
      "state": {
       "width": "400px"
      }
     },
     "68e3939f9cba42459e06e4e3101d3cc1": {
      "model_module": "@jupyter-widgets/controls",
      "model_module_version": "1.4.0",
      "model_name": "DescriptionStyleModel",
      "state": {
       "description_width": "initial"
      }
     },
     "68e796c631df492a95200f7fe660a357": {
      "model_module": "@jupyter-widgets/controls",
      "model_module_version": "1.4.0",
      "model_name": "ButtonStyleModel",
      "state": {}
     },
     "6957e5d15bb144b2865ec887f9532391": {
      "model_module": "@jupyter-widgets/controls",
      "model_module_version": "1.4.0",
      "model_name": "VBoxModel",
      "state": {
       "children": [
        "IPY_MODEL_abc9839fc770441c88d8064cc7947660"
       ],
       "layout": "IPY_MODEL_956b8232871148c599b1b8acd59c987b"
      }
     },
     "6964bb158dc848528b1d66e0e69e19a9": {
      "model_module": "@jupyter-widgets/controls",
      "model_module_version": "1.4.0",
      "model_name": "ButtonStyleModel",
      "state": {}
     },
     "69814ca2040e425fb96e904e404a62af": {
      "model_module": "@jupyter-widgets/controls",
      "model_module_version": "1.4.0",
      "model_name": "DescriptionStyleModel",
      "state": {
       "description_width": ""
      }
     },
     "69bf364762ef4985b297d884e531107e": {
      "model_module": "@jupyter-widgets/controls",
      "model_module_version": "1.4.0",
      "model_name": "ButtonStyleModel",
      "state": {}
     },
     "69de4c3edaa0429c9878ae31b7f79d1f": {
      "model_module": "@jupyter-widgets/base",
      "model_module_version": "1.1.0",
      "model_name": "LayoutModel",
      "state": {}
     },
     "69e7d8d94aa24c4b9304cfaa58ee723a": {
      "model_module": "@jupyter-widgets/base",
      "model_module_version": "1.1.0",
      "model_name": "LayoutModel",
      "state": {
       "width": "400px"
      }
     },
     "69f3bd0790914c07af9a7653c3ce8918": {
      "model_module": "@jupyter-widgets/controls",
      "model_module_version": "1.4.0",
      "model_name": "ButtonModel",
      "state": {
       "description": "Create mask",
       "layout": "IPY_MODEL_a766c3a37a214469a58542268e8d8203",
       "style": "IPY_MODEL_b0e2599305114330a928669da5df8c22"
      }
     },
     "6a0f7ea9a314403ea5d85714f771f4ff": {
      "model_module": "@jupyter-widgets/controls",
      "model_module_version": "1.4.0",
      "model_name": "SelectMultipleModel",
      "state": {
       "_options_labels": [
        "VI produced, good quality",
        "VI produced, but check other QA",
        "Pixel produced, but most probably cloudy",
        "Pixel not produced due to other reasons than clouds"
       ],
       "description": "Description",
       "index": [
        0
       ],
       "layout": "IPY_MODEL_1809703dcc774933bf329b54cf289c91",
       "rows": 4,
       "style": "IPY_MODEL_b0c940a547ec49c6953ef180c723ce4a"
      }
     },
     "6a14390c157c4ff4a4d4a7e35aedbde5": {
      "model_module": "@jupyter-widgets/controls",
      "model_module_version": "1.4.0",
      "model_name": "SelectModel",
      "state": {
       "_options_labels": [
        "MODLAND",
        "VI Usefulness",
        "Aerosol Quantity",
        "Adjacent cloud detected",
        "Atmosphere BRDF Correction",
        "Mixed Clouds",
        "Land/Water Mask",
        "Possible snow/ice",
        "Possible shadow"
       ],
       "description": "QA Parameter name:",
       "index": 8,
       "layout": "IPY_MODEL_5e7f6d6ca20c415898833157d6f7b18f",
       "rows": 9,
       "style": "IPY_MODEL_35a4e9785ba44a1ba4b700421ae00552"
      }
     },
     "6a1f4757ad65444080fd63ecca562556": {
      "model_module": "@jupyter-widgets/base",
      "model_module_version": "1.1.0",
      "model_name": "LayoutModel",
      "state": {
       "width": "400px"
      }
     },
     "6a2ff90de0124bf684b40e9be502b867": {
      "model_module": "@jupyter-widgets/base",
      "model_module_version": "1.1.0",
      "model_name": "LayoutModel",
      "state": {}
     },
     "6a73374d402d4df689cd829c72caa2c8": {
      "model_module": "@jupyter-widgets/controls",
      "model_module_version": "1.4.0",
      "model_name": "HBoxModel",
      "state": {
       "children": [
        "IPY_MODEL_cfa2d2ed6b484fb0a2414da0ba6f52e7",
        "IPY_MODEL_bea77ae13dc64bbbaf443007950cb53a"
       ],
       "layout": "IPY_MODEL_b13544aa1feb456198b6e05e01517d2d"
      }
     },
     "6a7efe6630db4f63944d7b81041d2add": {
      "model_module": "@jupyter-widgets/base",
      "model_module_version": "1.1.0",
      "model_name": "LayoutModel",
      "state": {}
     },
     "6a81f8f34c644bdf915d7cba7633dc3c": {
      "model_module": "@jupyter-widgets/base",
      "model_module_version": "1.1.0",
      "model_name": "LayoutModel",
      "state": {
       "width": "50%"
      }
     },
     "6a9562b3081645e98543d1dfd9f68ccf": {
      "model_module": "@jupyter-widgets/controls",
      "model_module_version": "1.4.0",
      "model_name": "DescriptionStyleModel",
      "state": {
       "description_width": "initial"
      }
     },
     "6aa967f7a51c46edb2e4bda52da28321": {
      "model_module": "@jupyter-widgets/controls",
      "model_module_version": "1.4.0",
      "model_name": "ButtonStyleModel",
      "state": {}
     },
     "6ad2840c69654f9cbfb72e65fc48a2bd": {
      "model_module": "@jupyter-widgets/controls",
      "model_module_version": "1.4.0",
      "model_name": "DescriptionStyleModel",
      "state": {
       "description_width": "initial"
      }
     },
     "6ad52e61b9cf4c2f91998aada9e966f6": {
      "model_module": "@jupyter-widgets/controls",
      "model_module_version": "1.4.0",
      "model_name": "HTMLModel",
      "state": {
       "description": "QA layer:",
       "layout": "IPY_MODEL_09562fa34a0c4d1f98253c66928fc10f",
       "style": "IPY_MODEL_408c024faf2648b3a1aa3ae082a8112b",
       "value": "<b>_1_km_16_days_VI_Quality</b>"
      }
     },
     "6ad6740762974e7695e3ccb8bd66b733": {
      "model_module": "@jupyter-widgets/controls",
      "model_module_version": "1.4.0",
      "model_name": "DescriptionStyleModel",
      "state": {
       "description_width": ""
      }
     },
     "6adf1e1117ce44daac1764763385473c": {
      "model_module": "@jupyter-widgets/controls",
      "model_module_version": "1.4.0",
      "model_name": "HBoxModel",
      "state": {
       "children": [
        "IPY_MODEL_e433f982487e41d4b6d2f2dd6c79ebf3",
        "IPY_MODEL_ef7303bb0a7f431797ca4c28768a8bdb"
       ],
       "layout": "IPY_MODEL_401012ab8ba54ac59ef35027d6a46121"
      }
     },
     "6aeed1843f364c959fd037b39fd29658": {
      "model_module": "@jupyter-widgets/controls",
      "model_module_version": "1.4.0",
      "model_name": "VBoxModel",
      "state": {
       "children": [
        "IPY_MODEL_19a519b7939b47b3831acc7c5d6f80dd"
       ],
       "layout": "IPY_MODEL_6a7efe6630db4f63944d7b81041d2add"
      }
     },
     "6af2f706b84a43fa8306a3ccd1855e78": {
      "model_module": "@jupyter-widgets/base",
      "model_module_version": "1.1.0",
      "model_name": "LayoutModel",
      "state": {
       "width": "400px"
      }
     },
     "6b08386345454dcb8ba31bc4c363e746": {
      "model_module": "@jupyter-widgets/controls",
      "model_module_version": "1.4.0",
      "model_name": "SelectModel",
      "state": {
       "_options_labels": [
        "MODLAND",
        "VI Usefulness",
        "Aerosol Quantity",
        "Adjacent cloud detected",
        "Atmosphere BRDF Correction",
        "Mixed Clouds",
        "Land/Water Mask",
        "Possible snow/ice",
        "Possible shadow"
       ],
       "description": "QA Parameter name:",
       "index": 0,
       "layout": "IPY_MODEL_77897c6fc30e42a2a424a2373bda6ef3",
       "rows": 9,
       "style": "IPY_MODEL_816bdc88b98f4237b093075df223700a"
      }
     },
     "6b125f43972a4e0ebacab9166143b8a0": {
      "model_module": "@jupyter-widgets/controls",
      "model_module_version": "1.4.0",
      "model_name": "SelectMultipleModel",
      "state": {
       "_options_labels": [
        "VI produced, good quality",
        "VI produced, but check other QA",
        "Pixel produced, but most probably cloudy",
        "Pixel not produced due to other reasons than clouds"
       ],
       "description": "Description",
       "index": [
        0
       ],
       "layout": "IPY_MODEL_08c1ba36a5b344e1a61d271f11ca7167",
       "rows": 4,
       "style": "IPY_MODEL_4251e955e1b84e398a88153b1b02b70c"
      }
     },
     "6b2b76cd9e054085a92838570f541eee": {
      "model_module": "@jupyter-widgets/base",
      "model_module_version": "1.1.0",
      "model_name": "LayoutModel",
      "state": {
       "width": "400px"
      }
     },
     "6b8b3f5f24134aee94a1eb48dda6283c": {
      "model_module": "@jupyter-widgets/controls",
      "model_module_version": "1.4.0",
      "model_name": "ButtonModel",
      "state": {
       "description": "Select ALL",
       "layout": "IPY_MODEL_41ebdb9852114e6787ca3df77b6ae3c3",
       "style": "IPY_MODEL_3147842e03b44f0a9cdb5ea510519392"
      }
     },
     "6bc34c08b7dc42daaa10ae5c47359a0b": {
      "model_module": "@jupyter-widgets/controls",
      "model_module_version": "1.4.0",
      "model_name": "DescriptionStyleModel",
      "state": {
       "description_width": "initial"
      }
     },
     "6bf16b10ebac4aabb6b644a715822338": {
      "model_module": "@jupyter-widgets/base",
      "model_module_version": "1.1.0",
      "model_name": "LayoutModel",
      "state": {
       "width": "20%"
      }
     },
     "6c22cbbaaf0449d9a1c945504123e5bb": {
      "model_module": "@jupyter-widgets/controls",
      "model_module_version": "1.4.0",
      "model_name": "SelectModel",
      "state": {
       "_options_labels": [
        "MODLAND",
        "VI Usefulness",
        "Aerosol Quantity",
        "Adjacent cloud detected",
        "Atmosphere BRDF Correction",
        "Mixed Clouds",
        "Land/Water Mask",
        "Possible snow/ice",
        "Possible shadow"
       ],
       "description": "QA Parameter name:",
       "index": 0,
       "layout": "IPY_MODEL_a9b3a979622047088da9f74ea1816bd8",
       "rows": 9,
       "style": "IPY_MODEL_a126d403dde5434d80d5108b207473e4"
      }
     },
     "6c44186abf0b4c389bcbf1a536ebc33f": {
      "model_module": "@jupyter-widgets/controls",
      "model_module_version": "1.4.0",
      "model_name": "VBoxModel",
      "state": {
       "children": [
        "IPY_MODEL_44c79c8b55fc404c85ce59efd9994699"
       ],
       "layout": "IPY_MODEL_2abdb439f3a541379b3e8569481f64ce"
      }
     },
     "6c986ef4739b492487aba6bac4e1d8c0": {
      "model_module": "@jupyter-widgets/controls",
      "model_module_version": "1.4.0",
      "model_name": "ButtonModel",
      "state": {
       "description": "QA analytics",
       "layout": "IPY_MODEL_4024377a0adf4b2db5c3bdd36e263d05",
       "style": "IPY_MODEL_1a5fcf2176a7496182cc3ebb4c7d2af7"
      }
     },
     "6ca5d921ca51446a83146600b227881f": {
      "model_module": "@jupyter-widgets/base",
      "model_module_version": "1.1.0",
      "model_name": "LayoutModel",
      "state": {
       "width": "20%"
      }
     },
     "6cb3c5733a0244bdbe50ee681135d4b2": {
      "model_module": "@jupyter-widgets/controls",
      "model_module_version": "1.4.0",
      "model_name": "VBoxModel",
      "state": {
       "children": [
        "IPY_MODEL_5a5f1c6d95754eb39b6c8aca323cc806"
       ],
       "layout": "IPY_MODEL_92b6d4e8dd1649ebbd880a1081d99924"
      }
     },
     "6cc405b0142c42e3abf441be9bdb63f6": {
      "model_module": "@jupyter-widgets/controls",
      "model_module_version": "1.4.0",
      "model_name": "ProgressStyleModel",
      "state": {
       "description_width": "initial"
      }
     },
     "6cca35ea9d3845b283b1c1df3a91cd3c": {
      "model_module": "@jupyter-widgets/base",
      "model_module_version": "1.1.0",
      "model_name": "LayoutModel",
      "state": {}
     },
     "6ce9925048b644a99ab070cf51dd07d5": {
      "model_module": "@jupyter-widgets/base",
      "model_module_version": "1.1.0",
      "model_name": "LayoutModel",
      "state": {}
     },
     "6cf608e62013485e8a91bbaeaf2f2765": {
      "model_module": "@jupyter-widgets/controls",
      "model_module_version": "1.4.0",
      "model_name": "ButtonModel",
      "state": {
       "description": "Default selection",
       "layout": "IPY_MODEL_24a0079b86c44579bb0b72d47e9aa9e1",
       "style": "IPY_MODEL_b49a91845a464c27a586ed84cfa66b14"
      }
     },
     "6cf6a98c3dfd4629afdff1f7cedb9ea9": {
      "model_module": "@jupyter-widgets/controls",
      "model_module_version": "1.4.0",
      "model_name": "ProgressStyleModel",
      "state": {
       "description_width": "initial"
      }
     },
     "6d572e5b0ea447d09cd198a8dc558ab3": {
      "model_module": "@jupyter-widgets/controls",
      "model_module_version": "1.4.0",
      "model_name": "DescriptionStyleModel",
      "state": {
       "description_width": "initial"
      }
     },
     "6d7710bf8a7447c78c9c29e6be7ed952": {
      "model_module": "@jupyter-widgets/base",
      "model_module_version": "1.1.0",
      "model_name": "LayoutModel",
      "state": {}
     },
     "6d970b4207dd4a0a835ca391a1246f1f": {
      "model_module": "@jupyter-widgets/controls",
      "model_module_version": "1.4.0",
      "model_name": "HTMLModel",
      "state": {
       "description": "QA layer:",
       "layout": "IPY_MODEL_46362a471d774723818b9534cb86256e",
       "style": "IPY_MODEL_610c6e032f3745e1a66fc2d6cb47b3f4",
       "value": "<b>_1_km_16_days_VI_Quality</b>"
      }
     },
     "6dbc26bdfe9944fda2c7caa0a98d0e0b": {
      "model_module": "@jupyter-widgets/controls",
      "model_module_version": "1.4.0",
      "model_name": "VBoxModel",
      "state": {
       "children": [
        "IPY_MODEL_8aac1537c3864b36ae9404bc64b1c1e3"
       ],
       "layout": "IPY_MODEL_1a85d58e7a544d92b1b9f549c560f48b"
      }
     },
     "6ddadab5d8774832ae66455267fe7338": {
      "model_module": "@jupyter-widgets/base",
      "model_module_version": "1.1.0",
      "model_name": "LayoutModel",
      "state": {
       "width": "400px"
      }
     },
     "6dddf507b4844565981746969defb074": {
      "model_module": "@jupyter-widgets/controls",
      "model_module_version": "1.4.0",
      "model_name": "DescriptionStyleModel",
      "state": {
       "description_width": "initial"
      }
     },
     "6df05bc5f10c4fb081a9d7f7d9f3365e": {
      "model_module": "@jupyter-widgets/base",
      "model_module_version": "1.1.0",
      "model_name": "LayoutModel",
      "state": {
       "width": "400px"
      }
     },
     "6df5c536eb4643dc951c5c1ad39baf82": {
      "model_module": "@jupyter-widgets/base",
      "model_module_version": "1.1.0",
      "model_name": "LayoutModel",
      "state": {
       "width": "400px"
      }
     },
     "6df791593b9f49b081f4f6d42c7f0d1d": {
      "model_module": "@jupyter-widgets/base",
      "model_module_version": "1.1.0",
      "model_name": "LayoutModel",
      "state": {
       "width": "20%"
      }
     },
     "6e139794bda14e21b1473b7950354ed8": {
      "model_module": "@jupyter-widgets/controls",
      "model_module_version": "1.4.0",
      "model_name": "ButtonModel",
      "state": {
       "description": "QA analytics",
       "layout": "IPY_MODEL_6216290f224a48099f4814ea19f69bdd",
       "style": "IPY_MODEL_b86d50448b0b430c996d3ac4faf17420"
      }
     },
     "6e1587e04ca34f01a0780e8681c4cf22": {
      "model_module": "@jupyter-widgets/controls",
      "model_module_version": "1.4.0",
      "model_name": "ProgressStyleModel",
      "state": {
       "description_width": "initial"
      }
     },
     "6e16ed82a64147c790de71d32556b5ac": {
      "model_module": "@jupyter-widgets/base",
      "model_module_version": "1.1.0",
      "model_name": "LayoutModel",
      "state": {
       "height": "300px",
       "width": "99%"
      }
     },
     "6e1ada2802e6440aa02a00adc75a0a61": {
      "model_module": "@jupyter-widgets/base",
      "model_module_version": "1.1.0",
      "model_name": "LayoutModel",
      "state": {
       "height": "200px",
       "width": "99%"
      }
     },
     "6e96e55d28fa4063a44f26efc9f069a8": {
      "model_module": "@jupyter-widgets/base",
      "model_module_version": "1.1.0",
      "model_name": "LayoutModel",
      "state": {}
     },
     "6e9d2a200e3e44b69e218f12e368d029": {
      "model_module": "@jupyter-widgets/controls",
      "model_module_version": "1.4.0",
      "model_name": "ProgressStyleModel",
      "state": {
       "description_width": "initial"
      }
     },
     "6eaecffa43664ceaa55123383d3e4be5": {
      "model_module": "@jupyter-widgets/controls",
      "model_module_version": "1.4.0",
      "model_name": "VBoxModel",
      "state": {
       "children": [
        "IPY_MODEL_dd16c4d14d504e68b243d7ac165d6d5e"
       ],
       "layout": "IPY_MODEL_60968d9873914b34902ec527d05fa78e"
      }
     },
     "6ed861cf0ce247bd8a6856083407dd13": {
      "model_module": "@jupyter-widgets/controls",
      "model_module_version": "1.4.0",
      "model_name": "ButtonModel",
      "state": {
       "description": "Select ALL",
       "layout": "IPY_MODEL_f80a7c41ad8147988f3b638b5ebc0188",
       "style": "IPY_MODEL_76fa5063b88b47c38973dbb156768fe2"
      }
     },
     "6f1cf183935d4cda9dd5b8acbde883a4": {
      "model_module": "@jupyter-widgets/controls",
      "model_module_version": "1.4.0",
      "model_name": "HBoxModel",
      "state": {
       "children": [
        "IPY_MODEL_058e4ff390da43d6927852f05afedfc8",
        "IPY_MODEL_be1de8da87e648df801fdf2159024af1"
       ],
       "layout": "IPY_MODEL_3dc3e4989bb54d8081698f91d3415d8b"
      }
     },
     "6f278978813244bfb180497044182964": {
      "model_module": "@jupyter-widgets/controls",
      "model_module_version": "1.4.0",
      "model_name": "ButtonModel",
      "state": {
       "description": "Default selection",
       "layout": "IPY_MODEL_14c221ea8124410a9839ac7579144b81",
       "style": "IPY_MODEL_7b8d5e6989e245858dc58aac47c09013"
      }
     },
     "6f2b4d5e82ba42ed86957b231adec960": {
      "model_module": "@jupyter-widgets/controls",
      "model_module_version": "1.4.0",
      "model_name": "HBoxModel",
      "state": {
       "children": [
        "IPY_MODEL_5e5171afa59344999e13cc90db0be61e",
        "IPY_MODEL_9d723fe165f1403dab0bab6ba161067d",
        "IPY_MODEL_d3afdbac390442abb7305434172a744d"
       ],
       "layout": "IPY_MODEL_7d29c1e2cc484c4b8aaed75fbd0fb02f"
      }
     },
     "6f313e753ec4441ca79bfc9b4ae3a80d": {
      "model_module": "@jupyter-widgets/controls",
      "model_module_version": "1.4.0",
      "model_name": "ButtonStyleModel",
      "state": {}
     },
     "6f4354cb40524901b40f70d26f6f2c75": {
      "model_module": "@jupyter-widgets/base",
      "model_module_version": "1.1.0",
      "model_name": "LayoutModel",
      "state": {
       "width": "400px"
      }
     },
     "6f49fbb5e692435884802d977dd0f8e9": {
      "model_module": "@jupyter-widgets/controls",
      "model_module_version": "1.4.0",
      "model_name": "SelectMultipleModel",
      "state": {
       "_options_labels": [
        "VI produced, good quality",
        "VI produced, but check other QA",
        "Pixel produced, but most probably cloudy",
        "Pixel not produced due to other reasons than clouds"
       ],
       "description": "Description",
       "index": [
        0
       ],
       "layout": "IPY_MODEL_8bf2db0bc32843689d7e8371064729f2",
       "rows": 4,
       "style": "IPY_MODEL_008fbe5a943a47d197df13ea7ff59eb0"
      }
     },
     "6f5049e6963e4445a4a36f041abb7051": {
      "model_module": "@jupyter-widgets/base",
      "model_module_version": "1.1.0",
      "model_name": "LayoutModel",
      "state": {
       "width": "30%"
      }
     },
     "6f5c889c62b94f1d94dd512fd4ffc7cf": {
      "model_module": "@jupyter-widgets/controls",
      "model_module_version": "1.4.0",
      "model_name": "ButtonModel",
      "state": {
       "description": "Load QA analytics",
       "layout": "IPY_MODEL_4f54e838d4b94053abd237aec792e970",
       "style": "IPY_MODEL_bde4f078b6734b829690c4fe248791ca"
      }
     },
     "6f781ebc6d4b4714903618a28ee817bb": {
      "model_module": "@jupyter-widgets/controls",
      "model_module_version": "1.4.0",
      "model_name": "ProgressStyleModel",
      "state": {
       "description_width": "initial"
      }
     },
     "6f7c528f2c8b4ab79f3a85f6e7d9c10a": {
      "model_module": "@jupyter-widgets/base",
      "model_module_version": "1.1.0",
      "model_name": "LayoutModel",
      "state": {}
     },
     "6f844d6eb59b4eca88fbe467002a0d4f": {
      "model_module": "@jupyter-widgets/controls",
      "model_module_version": "1.4.0",
      "model_name": "VBoxModel",
      "state": {
       "children": [
        "IPY_MODEL_7bd5b4fbc6bd481eb4f7e7a97232493e"
       ],
       "layout": "IPY_MODEL_86120358616c41818157771dfe258da8"
      }
     },
     "6fc2adbfaf02420fac62c070637c20d6": {
      "model_module": "@jupyter-widgets/base",
      "model_module_version": "1.1.0",
      "model_name": "LayoutModel",
      "state": {}
     },
     "6ff18d46b22147539215ae1b1759739b": {
      "model_module": "@jupyter-widgets/controls",
      "model_module_version": "1.4.0",
      "model_name": "ButtonModel",
      "state": {
       "description": "Select ALL",
       "layout": "IPY_MODEL_7c52ac37a81f4d888a2ace023025939e",
       "style": "IPY_MODEL_4550d77588174c8b94f5de7598922ce2"
      }
     },
     "7007bdaf74a74596ae5465eb1f642384": {
      "model_module": "@jupyter-widgets/base",
      "model_module_version": "1.1.0",
      "model_name": "LayoutModel",
      "state": {}
     },
     "7008f6129f73472398cb3b89bd575ac2": {
      "model_module": "@jupyter-widgets/base",
      "model_module_version": "1.1.0",
      "model_name": "LayoutModel",
      "state": {
       "width": "220px"
      }
     },
     "700f0fcdb384446ba6a27cbed9c970cc": {
      "model_module": "@jupyter-widgets/controls",
      "model_module_version": "1.4.0",
      "model_name": "ButtonStyleModel",
      "state": {}
     },
     "702100f4360f446ebc0b2025b46c372f": {
      "model_module": "@jupyter-widgets/base",
      "model_module_version": "1.1.0",
      "model_name": "LayoutModel",
      "state": {}
     },
     "7024fa028d234ed7a25475d7954cf289": {
      "model_module": "@jupyter-widgets/controls",
      "model_module_version": "1.4.0",
      "model_name": "ButtonModel",
      "state": {
       "description": "Default selection",
       "layout": "IPY_MODEL_a69efe3e986e4aac84aa55bf85b350e3",
       "style": "IPY_MODEL_7d92448815ef49588cf0336e22ceecb1"
      }
     },
     "703e9aa2642a4c9bbaf01352076d26d7": {
      "model_module": "@jupyter-widgets/base",
      "model_module_version": "1.1.0",
      "model_name": "LayoutModel",
      "state": {
       "width": "400px"
      }
     },
     "7041033ab52443cbaf4b6021d38df3f1": {
      "model_module": "@jupyter-widgets/base",
      "model_module_version": "1.1.0",
      "model_name": "LayoutModel",
      "state": {
       "width": "20%"
      }
     },
     "704e3484e77b472ba8376dab198b6d63": {
      "model_module": "@jupyter-widgets/controls",
      "model_module_version": "1.4.0",
      "model_name": "VBoxModel",
      "state": {
       "children": [
        "IPY_MODEL_b67d35f1269542ad9f83aa086db3d60d"
       ],
       "layout": "IPY_MODEL_2bd1f74660874bb1b00483bbb55f3b0b"
      }
     },
     "706bdcc81d5648c09198ae27abc79e70": {
      "model_module": "@jupyter-widgets/controls",
      "model_module_version": "1.4.0",
      "model_name": "VBoxModel",
      "state": {
       "children": [
        "IPY_MODEL_2dc3b1b90b774ccc857c3f6baec3d677"
       ],
       "layout": "IPY_MODEL_f3cdb2b7276a46bf952e61c655edaf1c"
      }
     },
     "70f7619678ad4e8bacfb7f9eff81f139": {
      "model_module": "@jupyter-widgets/base",
      "model_module_version": "1.1.0",
      "model_name": "LayoutModel",
      "state": {}
     },
     "71158aa1f78e45d98b9edf86474b016f": {
      "model_module": "@jupyter-widgets/base",
      "model_module_version": "1.1.0",
      "model_name": "LayoutModel",
      "state": {}
     },
     "718594f1987d4670af379d9bc3668cc7": {
      "model_module": "@jupyter-widgets/controls",
      "model_module_version": "1.4.0",
      "model_name": "DescriptionStyleModel",
      "state": {
       "description_width": ""
      }
     },
     "718dfee5a2dd4dda97c07d919306ae4b": {
      "model_module": "@jupyter-widgets/controls",
      "model_module_version": "1.4.0",
      "model_name": "HTMLModel",
      "state": {
       "description": "QA layer:",
       "layout": "IPY_MODEL_d49d5f488b4e4d4fad8c1c1f7a25b64b",
       "style": "IPY_MODEL_a88ad1be6009414e84682972a96f94d8",
       "value": "<b>_1_km_16_days_VI_Quality</b>"
      }
     },
     "7197d78f437f4f8195ae21ae4e33487d": {
      "model_module": "@jupyter-widgets/controls",
      "model_module_version": "1.4.0",
      "model_name": "SelectModel",
      "state": {
       "_options_labels": [
        "MODLAND"
       ],
       "description": "QA Parameter name:",
       "index": 0,
       "layout": "IPY_MODEL_2829dd07eaf840aca96d578e3e93ace2",
       "rows": 1,
       "style": "IPY_MODEL_44f78b25fd804c16b729671b79129f45"
      }
     },
     "71a4490699324bd5a73721ff651f1f3a": {
      "model_module": "@jupyter-widgets/controls",
      "model_module_version": "1.4.0",
      "model_name": "ButtonModel",
      "state": {
       "description": "QA analytics",
       "layout": "IPY_MODEL_1019d200dd5e4127a1f0638e6edc30c3",
       "style": "IPY_MODEL_562cedd210bd418cb954c4f84a36403c"
      }
     },
     "71a708ac88bd4fbea1cbc2a859aea447": {
      "model_module": "@jupyter-widgets/controls",
      "model_module_version": "1.4.0",
      "model_name": "HBoxModel",
      "state": {
       "children": [
        "IPY_MODEL_704e3484e77b472ba8376dab198b6d63",
        "IPY_MODEL_f4a45bfa2b264bc1ae7c8ead9f896692"
       ],
       "layout": "IPY_MODEL_9e5d119f74c94544a2b3af0e49c6c28c"
      }
     },
     "71babe139052497dab7e284d7a60a400": {
      "model_module": "@jupyter-widgets/base",
      "model_module_version": "1.1.0",
      "model_name": "LayoutModel",
      "state": {
       "width": "20%"
      }
     },
     "7239d97ff1d44365ac17c5cb81a6fbd4": {
      "model_module": "@jupyter-widgets/controls",
      "model_module_version": "1.4.0",
      "model_name": "HBoxModel",
      "state": {
       "children": [
        "IPY_MODEL_cd78950b392c4730aaf93eb0645ed6ef",
        "IPY_MODEL_f0da8691a0ea4a128c1d8506470fe75f",
        "IPY_MODEL_ed3fdeab2bcf4c85887214f690b3c4f3"
       ],
       "layout": "IPY_MODEL_586bb5fe232b460abe6315916a388e21"
      }
     },
     "723e5ccfcf334ec2b671755038ecaf40": {
      "model_module": "@jupyter-widgets/base",
      "model_module_version": "1.1.0",
      "model_name": "LayoutModel",
      "state": {}
     },
     "72418b43dd994da8a0d022993f080fcb": {
      "model_module": "@jupyter-widgets/base",
      "model_module_version": "1.1.0",
      "model_name": "LayoutModel",
      "state": {}
     },
     "727b31ee67554957a12f374f12446ea5": {
      "model_module": "@jupyter-widgets/controls",
      "model_module_version": "1.4.0",
      "model_name": "DescriptionStyleModel",
      "state": {
       "description_width": "initial"
      }
     },
     "7281f93790b64aba85d1816157b0ef1a": {
      "model_module": "@jupyter-widgets/controls",
      "model_module_version": "1.4.0",
      "model_name": "DescriptionStyleModel",
      "state": {
       "description_width": "initial"
      }
     },
     "72941c686ca24f3cba6b7878dca573da": {
      "model_module": "@jupyter-widgets/controls",
      "model_module_version": "1.4.0",
      "model_name": "VBoxModel",
      "state": {
       "children": [
        "IPY_MODEL_05e8f875caf94e2693a3aac340466ea6"
       ],
       "layout": "IPY_MODEL_70f7619678ad4e8bacfb7f9eff81f139"
      }
     },
     "729a2ad1e1f546749dde94932af3924a": {
      "model_module": "@jupyter-widgets/base",
      "model_module_version": "1.1.0",
      "model_name": "LayoutModel",
      "state": {
       "width": "400px"
      }
     },
     "729b4d68dbcb4f77b928154d74643260": {
      "model_module": "@jupyter-widgets/controls",
      "model_module_version": "1.4.0",
      "model_name": "HBoxModel",
      "state": {
       "children": [
        "IPY_MODEL_945f092b9380479a968e3b30d1e88885",
        "IPY_MODEL_75651600273a4cd69f968249bee8b0a6"
       ],
       "layout": "IPY_MODEL_fda1ee3ab6674c77a88ed9513eecbbcd"
      }
     },
     "72aeb786b84943ad98ef2af08a4c4834": {
      "model_module": "@jupyter-widgets/controls",
      "model_module_version": "1.4.0",
      "model_name": "HTMLModel",
      "state": {
       "description": "QA layer:",
       "layout": "IPY_MODEL_a1c8b531d1d5435b8c7e3a67b7eaf4d4",
       "style": "IPY_MODEL_0e79237d7c02468b98fa75358d40c427",
       "value": "<b>_1_km_16_days_VI_Quality</b>"
      }
     },
     "72f622fb4ff947868f732c3d8948a443": {
      "model_module": "@jupyter-widgets/base",
      "model_module_version": "1.1.0",
      "model_name": "LayoutModel",
      "state": {
       "width": "20%"
      }
     },
     "72f75701f6c9430db9017d3435ab851e": {
      "model_module": "@jupyter-widgets/base",
      "model_module_version": "1.1.0",
      "model_name": "LayoutModel",
      "state": {
       "height": "300px",
       "width": "99%"
      }
     },
     "72ff21b784564cc282b6921a528ebf2e": {
      "model_module": "@jupyter-widgets/base",
      "model_module_version": "1.1.0",
      "model_name": "LayoutModel",
      "state": {
       "width": "400px"
      }
     },
     "7324d6ca2467460a96ba9f8d6f0ec27f": {
      "model_module": "@jupyter-widgets/controls",
      "model_module_version": "1.4.0",
      "model_name": "DescriptionStyleModel",
      "state": {
       "description_width": "initial"
      }
     },
     "7340e644504544668c18d24d3220f2dd": {
      "model_module": "@jupyter-widgets/base",
      "model_module_version": "1.1.0",
      "model_name": "LayoutModel",
      "state": {}
     },
     "73462efce06a49659ff43e2f1d68b1e2": {
      "model_module": "@jupyter-widgets/base",
      "model_module_version": "1.1.0",
      "model_name": "LayoutModel",
      "state": {}
     },
     "7356499705ef4ca08c1c7c4bad558234": {
      "model_module": "@jupyter-widgets/controls",
      "model_module_version": "1.4.0",
      "model_name": "HBoxModel",
      "state": {
       "children": [
        "IPY_MODEL_a8c045949e934184a0f1435429cc8280",
        "IPY_MODEL_2b286b9eff0b486593590c2f8fa05e79"
       ],
       "layout": "IPY_MODEL_a7819211aa9e4147a396898c9465cff1"
      }
     },
     "73656e9ae27b4fa79c26dacd2524d8be": {
      "model_module": "@jupyter-widgets/controls",
      "model_module_version": "1.4.0",
      "model_name": "SelectModel",
      "state": {
       "_options_labels": [
        "MODLAND",
        "VI Usefulness",
        "Aerosol Quantity",
        "Adjacent cloud detected",
        "Atmosphere BRDF Correction",
        "Mixed Clouds",
        "Land/Water Mask",
        "Possible snow/ice",
        "Possible shadow"
       ],
       "description": "QA Parameter name:",
       "index": 3,
       "layout": "IPY_MODEL_92d9d89a2ad947d5b061ca030d6d5e08",
       "rows": 9,
       "style": "IPY_MODEL_f30728f4572d4f0ab23dd69ea57be6e1"
      }
     },
     "738e8f2485704aceba8d864ed7313867": {
      "model_module": "@jupyter-widgets/controls",
      "model_module_version": "1.4.0",
      "model_name": "DescriptionStyleModel",
      "state": {
       "description_width": ""
      }
     },
     "73c45db3c2aa4725a408c9429017553e": {
      "model_module": "@jupyter-widgets/controls",
      "model_module_version": "1.4.0",
      "model_name": "HBoxModel",
      "state": {
       "children": [
        "IPY_MODEL_b1b7da47e8e54217abc4df408ddbbe08",
        "IPY_MODEL_73e82ae3bcac49eda97bb4878fa5f4ef"
       ],
       "layout": "IPY_MODEL_98cdc8aa76b34954b1a5dc9b16202fea"
      }
     },
     "73d6eca11dfd48fbbf49454db4caca11": {
      "model_module": "@jupyter-widgets/controls",
      "model_module_version": "1.4.0",
      "model_name": "ButtonStyleModel",
      "state": {}
     },
     "73dfb3893cdd46f1b6085be8f98e812b": {
      "model_module": "@jupyter-widgets/controls",
      "model_module_version": "1.4.0",
      "model_name": "ButtonModel",
      "state": {
       "description": "Select ALL",
       "layout": "IPY_MODEL_2b80b8efdcd14e75979bdf1712bfa52a",
       "style": "IPY_MODEL_e11e1279d51a4591b57a941916031741"
      }
     },
     "73e82ae3bcac49eda97bb4878fa5f4ef": {
      "model_module": "@jupyter-widgets/controls",
      "model_module_version": "1.4.0",
      "model_name": "VBoxModel",
      "state": {
       "children": [
        "IPY_MODEL_b27ada6560dc4c1990e260423cc2abd3"
       ],
       "layout": "IPY_MODEL_0ea50f36b4b240bda3ae9977bfcc7ef9"
      }
     },
     "73fcbd36ee104fea85b02c401cf48db1": {
      "model_module": "@jupyter-widgets/controls",
      "model_module_version": "1.4.0",
      "model_name": "ButtonStyleModel",
      "state": {}
     },
     "74017d2d2461428e864a354d2ce166e2": {
      "model_module": "@jupyter-widgets/controls",
      "model_module_version": "1.4.0",
      "model_name": "ButtonStyleModel",
      "state": {}
     },
     "7424e55c8b93451e9b21914f1367236b": {
      "model_module": "@jupyter-widgets/base",
      "model_module_version": "1.1.0",
      "model_name": "LayoutModel",
      "state": {
       "width": "20%"
      }
     },
     "743e3606c19d4c92a74622cf9760d865": {
      "model_module": "@jupyter-widgets/controls",
      "model_module_version": "1.4.0",
      "model_name": "ButtonModel",
      "state": {
       "description": "Default selection",
       "layout": "IPY_MODEL_e82947d0fdcb4772b42bf1a6e0e3f330",
       "style": "IPY_MODEL_959892dec6cb406dbf4961cd324591f5"
      }
     },
     "7469c4ebecb547d9b88488d055a35631": {
      "model_module": "@jupyter-widgets/controls",
      "model_module_version": "1.4.0",
      "model_name": "SelectModel",
      "state": {
       "_options_labels": [
        "MODLAND",
        "VI Usefulness",
        "Aerosol Quantity",
        "Adjacent cloud detected",
        "Atmosphere BRDF Correction",
        "Mixed Clouds",
        "Land/Water Mask",
        "Possible snow/ice",
        "Possible shadow"
       ],
       "description": "QA Parameter name:",
       "index": 0,
       "layout": "IPY_MODEL_8d94f0746fb24c1992fb26fbcea009e6",
       "rows": 9,
       "style": "IPY_MODEL_787f3a58c81341e9acb55cf065a62c02"
      }
     },
     "747aebafeced4e77bbd990b586154698": {
      "model_module": "@jupyter-widgets/controls",
      "model_module_version": "1.4.0",
      "model_name": "ButtonModel",
      "state": {
       "description": "QA analytics",
       "layout": "IPY_MODEL_3a2e2907f0174d30ae432ab427a2dc3d",
       "style": "IPY_MODEL_9056e51520e54ee2986ea4a932883b21"
      }
     },
     "74bb935408a948f0a33e64e118c73429": {
      "model_module": "@jupyter-widgets/controls",
      "model_module_version": "1.4.0",
      "model_name": "HBoxModel",
      "state": {
       "children": [
        "IPY_MODEL_763945f19e8f4bfeaa80636411ff7302",
        "IPY_MODEL_8e71180ef3524fdf9ae29b423c451d48",
        "IPY_MODEL_0962c92e08ac4b6d8d394e87a7dbd062",
        "IPY_MODEL_09cf0a0d028748549ee3ecbf1eeac748"
       ],
       "layout": "IPY_MODEL_2d39ca88f1dd4458b536d54083d77912"
      }
     },
     "74cb56f0fdcd42ae9cb0d5c4ebb2e842": {
      "model_module": "@jupyter-widgets/controls",
      "model_module_version": "1.4.0",
      "model_name": "ButtonStyleModel",
      "state": {}
     },
     "74d3aa956f0f40a6a2eb84276ec9860f": {
      "model_module": "@jupyter-widgets/controls",
      "model_module_version": "1.4.0",
      "model_name": "VBoxModel",
      "state": {
       "children": [
        "IPY_MODEL_1f99f2e6272d42a991e3579015ffc0df"
       ],
       "layout": "IPY_MODEL_93eb21918d9345f5bc2a5c5db3755983"
      }
     },
     "74f8d7564dba40be8242870760b7bc83": {
      "model_module": "@jupyter-widgets/controls",
      "model_module_version": "1.4.0",
      "model_name": "ButtonStyleModel",
      "state": {}
     },
     "75002102f00440e4a2c8d815dd1ce9a0": {
      "model_module": "@jupyter-widgets/controls",
      "model_module_version": "1.4.0",
      "model_name": "HBoxModel",
      "state": {
       "children": [
        "IPY_MODEL_aa678b29560843338ca934374de44776",
        "IPY_MODEL_b388c447d36a4825b7fed33849b046ad"
       ],
       "layout": "IPY_MODEL_98d68d0aaaa944c18cf4fea2a6d73c7c"
      }
     },
     "750b1036a33640deab6b9f10da8fd898": {
      "model_module": "@jupyter-widgets/controls",
      "model_module_version": "1.4.0",
      "model_name": "SelectModel",
      "state": {
       "_options_labels": [
        "MODLAND"
       ],
       "description": "QA Parameter name:",
       "index": 0,
       "layout": "IPY_MODEL_9d4410b927e4426f9cf4eed2df129d82",
       "rows": 1,
       "style": "IPY_MODEL_afe40347b0634931bb1e9c8b5918a31e"
      }
     },
     "75149cde0c0348fe87c587708b855d2e": {
      "model_module": "@jupyter-widgets/base",
      "model_module_version": "1.1.0",
      "model_name": "LayoutModel",
      "state": {
       "width": "20%"
      }
     },
     "75569b4f127041acbff8d12684b4d325": {
      "model_module": "@jupyter-widgets/base",
      "model_module_version": "1.1.0",
      "model_name": "LayoutModel",
      "state": {
       "width": "20%"
      }
     },
     "75651600273a4cd69f968249bee8b0a6": {
      "model_module": "@jupyter-widgets/controls",
      "model_module_version": "1.4.0",
      "model_name": "VBoxModel",
      "state": {
       "children": [
        "IPY_MODEL_4c3cfeb448ba4387b258d1d784236924"
       ],
       "layout": "IPY_MODEL_6cca35ea9d3845b283b1c1df3a91cd3c"
      }
     },
     "7569dec42c824b95a22efa325ded8ce4": {
      "model_module": "@jupyter-widgets/base",
      "model_module_version": "1.1.0",
      "model_name": "LayoutModel",
      "state": {
       "width": "400px"
      }
     },
     "758006c7b90840aaa9a3116f957abd54": {
      "model_module": "@jupyter-widgets/base",
      "model_module_version": "1.1.0",
      "model_name": "LayoutModel",
      "state": {}
     },
     "758759c0385a40f589dcfeea5fda3699": {
      "model_module": "@jupyter-widgets/base",
      "model_module_version": "1.1.0",
      "model_name": "LayoutModel",
      "state": {
       "width": "30%"
      }
     },
     "759f9a5c46b3427c80092deb787608c5": {
      "model_module": "@jupyter-widgets/controls",
      "model_module_version": "1.4.0",
      "model_name": "HBoxModel",
      "state": {
       "children": [
        "IPY_MODEL_3beb57b351db41d4b8c9bc303bfba7fd",
        "IPY_MODEL_7eff846613414d549162ae96b96f9512"
       ],
       "layout": "IPY_MODEL_bc9ebbd9307a42d9b17f7ada872e3fcd"
      }
     },
     "75aeb2861d63477189ccc134fade6245": {
      "model_module": "@jupyter-widgets/base",
      "model_module_version": "1.1.0",
      "model_name": "LayoutModel",
      "state": {}
     },
     "75b42be453474ad2ab11138e648f0f39": {
      "model_module": "@jupyter-widgets/base",
      "model_module_version": "1.1.0",
      "model_name": "LayoutModel",
      "state": {}
     },
     "75c808421af646a2b11b9d6db8ac6f50": {
      "model_module": "@jupyter-widgets/controls",
      "model_module_version": "1.4.0",
      "model_name": "VBoxModel",
      "state": {
       "children": [
        "IPY_MODEL_762d65fe7da8438f886650ed82022d0c"
       ],
       "layout": "IPY_MODEL_c69e9030d50841f7804cb4621bc32598"
      }
     },
     "75cfdd1f449c4b97b3ffa779898f157e": {
      "model_module": "@jupyter-widgets/controls",
      "model_module_version": "1.4.0",
      "model_name": "DescriptionStyleModel",
      "state": {
       "description_width": "initial"
      }
     },
     "75f665509cfc4584bb421804d37f0ddb": {
      "model_module": "@jupyter-widgets/controls",
      "model_module_version": "1.4.0",
      "model_name": "HBoxModel",
      "state": {
       "children": [
        "IPY_MODEL_57a4a7d8226a4287ade78b4f4b2baef1",
        "IPY_MODEL_17ad27edc6524f83a3701e14084b72aa"
       ],
       "layout": "IPY_MODEL_78c5d5284e784db5b99d70c3655091ba"
      }
     },
     "760c48f7bd9142008540a0d17255d1d7": {
      "model_module": "@jupyter-widgets/base",
      "model_module_version": "1.1.0",
      "model_name": "LayoutModel",
      "state": {
       "width": "20%"
      }
     },
     "762d65fe7da8438f886650ed82022d0c": {
      "model_module": "@jupyter-widgets/controls",
      "model_module_version": "1.4.0",
      "model_name": "SelectMultipleModel",
      "state": {
       "_options_labels": [
        "VI produced, good quality",
        "VI produced, but check other QA",
        "Pixel produced, but most probably cloudy",
        "Pixel not produced due to other reasons than clouds"
       ],
       "description": "Description",
       "index": [
        0
       ],
       "layout": "IPY_MODEL_aba69d7f3df64e50b6f330f034ee3a30",
       "rows": 4,
       "style": "IPY_MODEL_6a9562b3081645e98543d1dfd9f68ccf"
      }
     },
     "763945f19e8f4bfeaa80636411ff7302": {
      "model_module": "@jupyter-widgets/controls",
      "model_module_version": "1.4.0",
      "model_name": "SelectModel",
      "state": {
       "_options_labels": [
        "MODLAND",
        "VI Usefulness",
        "Aerosol Quantity",
        "Adjacent cloud detected",
        "Atmosphere BRDF Correction",
        "Mixed Clouds",
        "Land/Water Mask",
        "Possible snow/ice",
        "Possible shadow"
       ],
       "description": "QA Parameter name:",
       "index": 0,
       "layout": "IPY_MODEL_56aaeccfa6fd4fac9f2ec02ae83a5b21",
       "rows": 9,
       "style": "IPY_MODEL_a8e4d97f9ca94dea8df107aee95e0642"
      }
     },
     "766eea6ebcb14502aa5ca6ba9ada8a1a": {
      "model_module": "@jupyter-widgets/controls",
      "model_module_version": "1.4.0",
      "model_name": "VBoxModel",
      "state": {
       "children": [
        "IPY_MODEL_1e3a4d9b79b44b2792709a9414361554"
       ],
       "layout": "IPY_MODEL_f1a290073a7349538c1f622c3ed1686b"
      }
     },
     "767f8e33fdbd435481df1a1992e8cc3e": {
      "model_module": "@jupyter-widgets/controls",
      "model_module_version": "1.4.0",
      "model_name": "HTMLModel",
      "state": {
       "description": "QA layer:",
       "layout": "IPY_MODEL_9a16f1e216f44ccd8281ee224ffd1474",
       "style": "IPY_MODEL_95bee077fed94f94b64c866894bd461d",
       "value": "<b>_1_km_16_days_VI_Quality</b>"
      }
     },
     "76989e168f61425fb5ac04f695e3696b": {
      "model_module": "@jupyter-widgets/controls",
      "model_module_version": "1.4.0",
      "model_name": "HBoxModel",
      "state": {
       "children": [
        "IPY_MODEL_73656e9ae27b4fa79c26dacd2524d8be",
        "IPY_MODEL_662f290cc086498fb8a908f435da1364",
        "IPY_MODEL_230e662c65c14751a02fbc0d1d1bbfab",
        "IPY_MODEL_a1a2c8d08519450c98cce96ca2614bca"
       ],
       "layout": "IPY_MODEL_ccaf1b9ea75041ddbd13dea3de1e6718"
      }
     },
     "76a3b1d0c9fe4f61a3dd4e3df2b9fd24": {
      "model_module": "@jupyter-widgets/base",
      "model_module_version": "1.1.0",
      "model_name": "LayoutModel",
      "state": {
       "width": "220px"
      }
     },
     "76a819b4578445b9b203b0d513a693b8": {
      "model_module": "@jupyter-widgets/controls",
      "model_module_version": "1.4.0",
      "model_name": "HTMLModel",
      "state": {
       "description": "QA layer:",
       "layout": "IPY_MODEL_71158aa1f78e45d98b9edf86474b016f",
       "style": "IPY_MODEL_274fa190e5b847059e8265b409031bf2",
       "value": "<b>_1_km_16_days_VI_Quality</b>"
      }
     },
     "76b421e5eb954d4095e2e40bf34d96e9": {
      "model_module": "@jupyter-widgets/controls",
      "model_module_version": "1.4.0",
      "model_name": "ButtonStyleModel",
      "state": {}
     },
     "76c0157e03634c979fd52f69bec06b22": {
      "model_module": "@jupyter-widgets/controls",
      "model_module_version": "1.4.0",
      "model_name": "HTMLModel",
      "state": {
       "description": "QA layer:",
       "layout": "IPY_MODEL_4004e93a34094382a62a81e30478ff95",
       "style": "IPY_MODEL_4773aec33e0b498bb7684f63e612262c",
       "value": "<b>_1_km_16_days_VI_Quality</b>"
      }
     },
     "76ede610c65647529380081b40377804": {
      "model_module": "@jupyter-widgets/controls",
      "model_module_version": "1.4.0",
      "model_name": "DescriptionStyleModel",
      "state": {
       "description_width": "initial"
      }
     },
     "76eeb0cb23f849e690c5ea543e402677": {
      "model_module": "@jupyter-widgets/base",
      "model_module_version": "1.1.0",
      "model_name": "LayoutModel",
      "state": {
       "width": "400px"
      }
     },
     "76fa5063b88b47c38973dbb156768fe2": {
      "model_module": "@jupyter-widgets/controls",
      "model_module_version": "1.4.0",
      "model_name": "ButtonStyleModel",
      "state": {}
     },
     "773cff4abaed433ca3929971bb16386e": {
      "model_module": "@jupyter-widgets/base",
      "model_module_version": "1.1.0",
      "model_name": "LayoutModel",
      "state": {}
     },
     "776ca41e269b416aae6276b01e0b9808": {
      "model_module": "@jupyter-widgets/controls",
      "model_module_version": "1.4.0",
      "model_name": "ButtonStyleModel",
      "state": {}
     },
     "777072fe74ed4c9f8477c85e0df3a4b0": {
      "model_module": "@jupyter-widgets/controls",
      "model_module_version": "1.4.0",
      "model_name": "ButtonModel",
      "state": {
       "description": "Default selection",
       "layout": "IPY_MODEL_b132844f2847403592e95f3cc468af55",
       "style": "IPY_MODEL_b1130c0b68aa49eab1f4e458a2347d44"
      }
     },
     "777dc390845242aba1596227f2447e0e": {
      "model_module": "@jupyter-widgets/base",
      "model_module_version": "1.1.0",
      "model_name": "LayoutModel",
      "state": {
       "width": "20%"
      }
     },
     "77886378f0a4415c9e419a8a2f2c9c89": {
      "model_module": "@jupyter-widgets/controls",
      "model_module_version": "1.4.0",
      "model_name": "ProgressStyleModel",
      "state": {
       "description_width": "initial"
      }
     },
     "77897c6fc30e42a2a424a2373bda6ef3": {
      "model_module": "@jupyter-widgets/base",
      "model_module_version": "1.1.0",
      "model_name": "LayoutModel",
      "state": {
       "width": "400px"
      }
     },
     "778ec761d3434880a60f75977e82ced3": {
      "model_module": "@jupyter-widgets/controls",
      "model_module_version": "1.4.0",
      "model_name": "HBoxModel",
      "state": {
       "children": [
        "IPY_MODEL_b205d3cb0c9d4e1492eb4f0cf17e1c33",
        "IPY_MODEL_1f660fbaebfd44ecbf2cc1486c58056f"
       ],
       "layout": "IPY_MODEL_3f83f069813940ad870a8f44e155d129"
      }
     },
     "77bf5d8ce4fe4aaebf663af349a94167": {
      "model_module": "@jupyter-widgets/controls",
      "model_module_version": "1.4.0",
      "model_name": "HBoxModel",
      "state": {
       "children": [
        "IPY_MODEL_5f0dbdce338744bcbcc53bf622684457",
        "IPY_MODEL_ddca87211cc3400a8eb0002686af1bba",
        "IPY_MODEL_e3658fb240724a60b0ff5a77b8b94f6d"
       ],
       "layout": "IPY_MODEL_7f892bceb00c4ec7a3fce991ef54ea57"
      }
     },
     "77c0c8487d4a432d9a2455ebf721ab30": {
      "model_module": "@jupyter-widgets/controls",
      "model_module_version": "1.4.0",
      "model_name": "ButtonStyleModel",
      "state": {}
     },
     "77c4c56b369549fcaa7a2f1b49850147": {
      "model_module": "@jupyter-widgets/controls",
      "model_module_version": "1.4.0",
      "model_name": "ButtonStyleModel",
      "state": {}
     },
     "77d59c88146448a3bbdb8d197ad87a3d": {
      "model_module": "@jupyter-widgets/controls",
      "model_module_version": "1.4.0",
      "model_name": "VBoxModel",
      "state": {
       "children": [
        "IPY_MODEL_6b125f43972a4e0ebacab9166143b8a0"
       ],
       "layout": "IPY_MODEL_f28305c77879433891e7b33908e1b043"
      }
     },
     "77e3ee1d86494ebdb7ebb7a45858031e": {
      "model_module": "@jupyter-widgets/controls",
      "model_module_version": "1.4.0",
      "model_name": "HBoxModel",
      "state": {
       "children": [
        "IPY_MODEL_77e9947615e94467a38cb9216d857c1b",
        "IPY_MODEL_eed7939d7ac2433db3197ee07e8ba05e"
       ],
       "layout": "IPY_MODEL_53d0a539716e4cb5b81e68089a405718"
      }
     },
     "77e9947615e94467a38cb9216d857c1b": {
      "model_module": "@jupyter-widgets/controls",
      "model_module_version": "1.4.0",
      "model_name": "VBoxModel",
      "state": {
       "children": [
        "IPY_MODEL_17798a680f2f4dcc94c81abacedd1833"
       ],
       "layout": "IPY_MODEL_e58cd7683d76480a812121d34e2beee4"
      }
     },
     "780268783c6241d7806eebdc9c1a2769": {
      "model_module": "@jupyter-widgets/controls",
      "model_module_version": "1.4.0",
      "model_name": "ButtonStyleModel",
      "state": {}
     },
     "781542e3c7be47708cc5dd75019e5886": {
      "model_module": "@jupyter-widgets/controls",
      "model_module_version": "1.4.0",
      "model_name": "ButtonModel",
      "state": {
       "description": "Default selection",
       "layout": "IPY_MODEL_860b8bce48674335b84242d61915c821",
       "style": "IPY_MODEL_66e9f11254d7462d868edf249f91744e"
      }
     },
     "782c72d2943c4531b70f5404c6b9733a": {
      "model_module": "@jupyter-widgets/controls",
      "model_module_version": "1.4.0",
      "model_name": "DescriptionStyleModel",
      "state": {
       "description_width": "initial"
      }
     },
     "7848df38a25346c4871c99d6c4608fed": {
      "model_module": "@jupyter-widgets/base",
      "model_module_version": "1.1.0",
      "model_name": "LayoutModel",
      "state": {}
     },
     "7873065d08c147e38780097eb904b857": {
      "model_module": "@jupyter-widgets/base",
      "model_module_version": "1.1.0",
      "model_name": "LayoutModel",
      "state": {}
     },
     "787f3a58c81341e9acb55cf065a62c02": {
      "model_module": "@jupyter-widgets/controls",
      "model_module_version": "1.4.0",
      "model_name": "DescriptionStyleModel",
      "state": {
       "description_width": "initial"
      }
     },
     "78c5d5284e784db5b99d70c3655091ba": {
      "model_module": "@jupyter-widgets/base",
      "model_module_version": "1.1.0",
      "model_name": "LayoutModel",
      "state": {
       "height": "300px",
       "width": "99%"
      }
     },
     "78c63633e56147398882aebf45437987": {
      "model_module": "@jupyter-widgets/base",
      "model_module_version": "1.1.0",
      "model_name": "LayoutModel",
      "state": {
       "width": "350px"
      }
     },
     "7918498bd3584f9391995c9b5df740e8": {
      "model_module": "@jupyter-widgets/controls",
      "model_module_version": "1.4.0",
      "model_name": "ButtonModel",
      "state": {
       "description": "Default selection",
       "layout": "IPY_MODEL_e37bb57b33a747b4b931a7e75c914574",
       "style": "IPY_MODEL_f9fd3a1ef5794c4c948bc76d387f9359"
      }
     },
     "7936c81920e149d6829cfd93e6bee621": {
      "model_module": "@jupyter-widgets/controls",
      "model_module_version": "1.4.0",
      "model_name": "ButtonModel",
      "state": {
       "description": "QA analytics",
       "layout": "IPY_MODEL_006b6cb6da394a33a75d4b5ca18823d6",
       "style": "IPY_MODEL_28527b93eceb4cf2b343126440d4be0a"
      }
     },
     "796abd022c2e4fc69ca730ecdf9848a2": {
      "model_module": "@jupyter-widgets/base",
      "model_module_version": "1.1.0",
      "model_name": "LayoutModel",
      "state": {}
     },
     "7979e7ac6d00418a9dd8291f12f38538": {
      "model_module": "@jupyter-widgets/controls",
      "model_module_version": "1.4.0",
      "model_name": "HTMLModel",
      "state": {
       "description": "QA layer:",
       "layout": "IPY_MODEL_572f52c71bfa438ca22295405cc0646e",
       "style": "IPY_MODEL_ee372edd35864ff48a7947ae2537f437",
       "value": "<b>_1_km_16_days_pixel_reliability</b>"
      }
     },
     "79914e40cc1f4cacace01989fff78427": {
      "model_module": "@jupyter-widgets/base",
      "model_module_version": "1.1.0",
      "model_name": "LayoutModel",
      "state": {
       "width": "400px"
      }
     },
     "79c71a0a01a7417484676927383cefeb": {
      "model_module": "@jupyter-widgets/base",
      "model_module_version": "1.1.0",
      "model_name": "LayoutModel",
      "state": {
       "width": "20%"
      }
     },
     "79d38e7bbfde4b86b08ec639eacc55f6": {
      "model_module": "@jupyter-widgets/controls",
      "model_module_version": "1.4.0",
      "model_name": "ButtonStyleModel",
      "state": {}
     },
     "79d3d05ba4a74ba793e9d1ccc8e9e389": {
      "model_module": "@jupyter-widgets/controls",
      "model_module_version": "1.4.0",
      "model_name": "ButtonStyleModel",
      "state": {}
     },
     "79dd0a7760324c2ca5eb04eede531e70": {
      "model_module": "@jupyter-widgets/controls",
      "model_module_version": "1.4.0",
      "model_name": "DescriptionStyleModel",
      "state": {
       "description_width": "initial"
      }
     },
     "79f15613ccfc420ba73962d28d149700": {
      "model_module": "@jupyter-widgets/controls",
      "model_module_version": "1.4.0",
      "model_name": "SelectModel",
      "state": {
       "_options_labels": [
        "MODLAND",
        "VI Usefulness",
        "Aerosol Quantity",
        "Adjacent cloud detected",
        "Atmosphere BRDF Correction",
        "Mixed Clouds",
        "Land/Water Mask",
        "Possible snow/ice",
        "Possible shadow"
       ],
       "description": "QA Parameter name:",
       "index": 0,
       "layout": "IPY_MODEL_83275533fb9c40a2af70e943f9895422",
       "rows": 9,
       "style": "IPY_MODEL_221573275ec44d648ac7fbf41d748588"
      }
     },
     "79f579763ecf4bbbafb67c5341700eee": {
      "model_module": "@jupyter-widgets/controls",
      "model_module_version": "1.4.0",
      "model_name": "ProgressStyleModel",
      "state": {
       "description_width": "initial"
      }
     },
     "7a0192fe2fb44991ab33499841033428": {
      "model_module": "@jupyter-widgets/controls",
      "model_module_version": "1.4.0",
      "model_name": "ProgressStyleModel",
      "state": {
       "description_width": "initial"
      }
     },
     "7a0c65de3f484b21a98e4a59dfe4f54a": {
      "model_module": "@jupyter-widgets/controls",
      "model_module_version": "1.4.0",
      "model_name": "DescriptionStyleModel",
      "state": {
       "description_width": "initial"
      }
     },
     "7a240781db2f452b84ab5ea2fca690dd": {
      "model_module": "@jupyter-widgets/controls",
      "model_module_version": "1.4.0",
      "model_name": "VBoxModel",
      "state": {
       "children": [
        "IPY_MODEL_13fa70f069774f02a6864f60bbea6432"
       ],
       "layout": "IPY_MODEL_31d842f56add478f875483c201922890"
      }
     },
     "7a3005bffd4f49cc8feb11c7cfb18466": {
      "model_module": "@jupyter-widgets/base",
      "model_module_version": "1.1.0",
      "model_name": "LayoutModel",
      "state": {
       "width": "20%"
      }
     },
     "7a47feb02993435998b20eb8d2912942": {
      "model_module": "@jupyter-widgets/controls",
      "model_module_version": "1.4.0",
      "model_name": "ButtonModel",
      "state": {
       "description": "Select ALL",
       "layout": "IPY_MODEL_d9a64b03db9148be924848d1ce2ab435",
       "style": "IPY_MODEL_fb0662a9c8c84158b83f717c3cdbba88"
      }
     },
     "7a48e46611674e58a60077602853c01c": {
      "model_module": "@jupyter-widgets/base",
      "model_module_version": "1.1.0",
      "model_name": "LayoutModel",
      "state": {
       "height": "300px",
       "width": "99%"
      }
     },
     "7a552c11d658460b83aac29591860869": {
      "model_module": "@jupyter-widgets/base",
      "model_module_version": "1.1.0",
      "model_name": "LayoutModel",
      "state": {}
     },
     "7a6a754524c94003891dd9235c3ca93f": {
      "model_module": "@jupyter-widgets/controls",
      "model_module_version": "1.4.0",
      "model_name": "ProgressStyleModel",
      "state": {
       "description_width": "initial"
      }
     },
     "7a6c73341b854b0fbdcb1abeb72920d4": {
      "model_module": "@jupyter-widgets/controls",
      "model_module_version": "1.4.0",
      "model_name": "HBoxModel",
      "state": {
       "children": [
        "IPY_MODEL_214df4efd9154b2f87fd27bca10d928a",
        "IPY_MODEL_d462dbcf7ba64f95be571306e5fdb438"
       ],
       "layout": "IPY_MODEL_cabaffd368104961b995bce6830e9384"
      }
     },
     "7a6f2e16a51a471fad3c428f8df2b971": {
      "model_module": "@jupyter-widgets/controls",
      "model_module_version": "1.4.0",
      "model_name": "DescriptionStyleModel",
      "state": {
       "description_width": "initial"
      }
     },
     "7ad20d6a388e4279af8a55b47ac80974": {
      "model_module": "@jupyter-widgets/controls",
      "model_module_version": "1.4.0",
      "model_name": "ButtonStyleModel",
      "state": {}
     },
     "7adf8aaf111b4802bdb33867b50e3a4e": {
      "model_module": "@jupyter-widgets/base",
      "model_module_version": "1.1.0",
      "model_name": "LayoutModel",
      "state": {
       "width": "20%"
      }
     },
     "7afedca9337146e196e51db5d9176229": {
      "model_module": "@jupyter-widgets/controls",
      "model_module_version": "1.4.0",
      "model_name": "HBoxModel",
      "state": {
       "children": [
        "IPY_MODEL_3077541acf6444caa244c937aa00a621",
        "IPY_MODEL_fbd65f671fd44b859d149b9f3bdc2d53"
       ],
       "layout": "IPY_MODEL_ed3379e051cd4a639a819b247c65bdcf"
      }
     },
     "7b0e4f5165044e83aaf10185d875c5a7": {
      "model_module": "@jupyter-widgets/base",
      "model_module_version": "1.1.0",
      "model_name": "LayoutModel",
      "state": {}
     },
     "7b783190c2eb4002a1ee19a7cbab0149": {
      "model_module": "@jupyter-widgets/controls",
      "model_module_version": "1.4.0",
      "model_name": "ButtonModel",
      "state": {
       "description": "QA analytics",
       "layout": "IPY_MODEL_3bea4cda6fdc4bfb9233276b2bfb3e96",
       "style": "IPY_MODEL_8e4562168b41478392ad558735889908"
      }
     },
     "7b8ceb53865f452a8577b10a53506263": {
      "model_module": "@jupyter-widgets/base",
      "model_module_version": "1.1.0",
      "model_name": "LayoutModel",
      "state": {
       "width": "20%"
      }
     },
     "7b8d5e6989e245858dc58aac47c09013": {
      "model_module": "@jupyter-widgets/controls",
      "model_module_version": "1.4.0",
      "model_name": "ButtonStyleModel",
      "state": {}
     },
     "7bad61a7080c47178e92ad2e348f1622": {
      "model_module": "@jupyter-widgets/base",
      "model_module_version": "1.1.0",
      "model_name": "LayoutModel",
      "state": {
       "width": "400px"
      }
     },
     "7bb2ac8a8952408fa68c257ab8388df0": {
      "model_module": "@jupyter-widgets/base",
      "model_module_version": "1.1.0",
      "model_name": "LayoutModel",
      "state": {
       "width": "20%"
      }
     },
     "7bc1fb9e0e2447429b4879f2ac138697": {
      "model_module": "@jupyter-widgets/controls",
      "model_module_version": "1.4.0",
      "model_name": "ButtonStyleModel",
      "state": {}
     },
     "7bd5b4fbc6bd481eb4f7e7a97232493e": {
      "model_module": "@jupyter-widgets/controls",
      "model_module_version": "1.4.0",
      "model_name": "SelectMultipleModel",
      "state": {
       "_options_labels": [
        "Good data, use with confidence",
        "Marginal data, Useful, but look at other QA information",
        "Snow/Ice Target covered with snow/ice",
        "Cloudy data, Target not visible, covered with cloud"
       ],
       "description": "Description",
       "index": [
        0,
        1
       ],
       "layout": "IPY_MODEL_8645dab5d48a4000adbe619ce66f684e",
       "rows": 4,
       "style": "IPY_MODEL_7a6f2e16a51a471fad3c428f8df2b971"
      }
     },
     "7c2559d43e544a1c8181c2c144408303": {
      "model_module": "@jupyter-widgets/base",
      "model_module_version": "1.1.0",
      "model_name": "LayoutModel",
      "state": {}
     },
     "7c2e1d3d25d6480db3da49114058d706": {
      "model_module": "@jupyter-widgets/controls",
      "model_module_version": "1.4.0",
      "model_name": "ButtonModel",
      "state": {
       "description": "Select ALL",
       "layout": "IPY_MODEL_11b92ebe95c44d979f434a621b378df2",
       "style": "IPY_MODEL_a7040bcfdcac4e9593df3aba046a72cb"
      }
     },
     "7c381343aac644798e45fb9e92371fb8": {
      "model_module": "@jupyter-widgets/controls",
      "model_module_version": "1.4.0",
      "model_name": "HTMLModel",
      "state": {
       "description": "QA layer:",
       "layout": "IPY_MODEL_4b26135ef451485fad1ea6f912bfaeb9",
       "style": "IPY_MODEL_a653b4826a0944bfb33455b953035ff5",
       "value": "<b>_1_km_16_days_VI_Quality</b>"
      }
     },
     "7c52ac37a81f4d888a2ace023025939e": {
      "model_module": "@jupyter-widgets/base",
      "model_module_version": "1.1.0",
      "model_name": "LayoutModel",
      "state": {
       "width": "20%"
      }
     },
     "7c6518a8aed74ed18961db69ea90894e": {
      "model_module": "@jupyter-widgets/base",
      "model_module_version": "1.1.0",
      "model_name": "LayoutModel",
      "state": {
       "width": "30%"
      }
     },
     "7c6bd17b193d4254831b8d3cb6ecd1a4": {
      "model_module": "@jupyter-widgets/controls",
      "model_module_version": "1.4.0",
      "model_name": "HBoxModel",
      "state": {
       "children": [
        "IPY_MODEL_d0ef88c3e50f4c56badf35052ee145f6",
        "IPY_MODEL_faae7520e9d2483b8ca67610d3adb319"
       ],
       "layout": "IPY_MODEL_ad57e51c212043e993ffeef386a33578"
      }
     },
     "7c74efdbf1294a3cb4514fdc2dd1cc77": {
      "model_module": "@jupyter-widgets/controls",
      "model_module_version": "1.4.0",
      "model_name": "SelectMultipleModel",
      "state": {
       "_options_labels": [
        "No",
        "Yes"
       ],
       "description": "Description",
       "index": [
        0
       ],
       "layout": "IPY_MODEL_2bc4b9792f5048f19ec2c8fc3cefc2cf",
       "rows": 2,
       "style": "IPY_MODEL_6d572e5b0ea447d09cd198a8dc558ab3"
      }
     },
     "7ca3d3c085944b2c9f816214e9fa7eab": {
      "model_module": "@jupyter-widgets/controls",
      "model_module_version": "1.4.0",
      "model_name": "SelectMultipleModel",
      "state": {
       "_options_labels": [
        "VI produced, good quality",
        "VI produced, but check other QA",
        "Pixel produced, but most probably cloudy",
        "Pixel not produced due to other reasons than clouds"
       ],
       "description": "Description",
       "index": [
        0
       ],
       "layout": "IPY_MODEL_06683aae51e24f019faf6d9788c98df0",
       "rows": 4,
       "style": "IPY_MODEL_934284de91cb4bca990038d831666077"
      }
     },
     "7ca5e751f68444e485ecf98edfe1c91d": {
      "model_module": "@jupyter-widgets/controls",
      "model_module_version": "1.4.0",
      "model_name": "HTMLModel",
      "state": {
       "description": "QA layer:",
       "layout": "IPY_MODEL_bbd40368fdc4490aa645ffab2e292361",
       "style": "IPY_MODEL_1809b905ea1042889b214cbb779bbc4b",
       "value": "<b>_1_km_16_days_VI_Quality</b>"
      }
     },
     "7cd618a1edfb4715acc433aff0c99303": {
      "model_module": "@jupyter-widgets/base",
      "model_module_version": "1.1.0",
      "model_name": "LayoutModel",
      "state": {
       "height": "300px",
       "width": "99%"
      }
     },
     "7cdb2798d77d4674a6b9661a04a7594b": {
      "model_module": "@jupyter-widgets/base",
      "model_module_version": "1.1.0",
      "model_name": "LayoutModel",
      "state": {}
     },
     "7d21b1c111f249f6a2004723e8ef221e": {
      "model_module": "@jupyter-widgets/base",
      "model_module_version": "1.1.0",
      "model_name": "LayoutModel",
      "state": {}
     },
     "7d21e53550864e97a4f87eade08a6b1f": {
      "model_module": "@jupyter-widgets/controls",
      "model_module_version": "1.4.0",
      "model_name": "SelectMultipleModel",
      "state": {
       "_options_labels": [
        "No",
        "Yes"
       ],
       "description": "Description",
       "index": [
        0,
        1
       ],
       "layout": "IPY_MODEL_7ec528752d5240219b28918bfb765bc5",
       "rows": 2,
       "style": "IPY_MODEL_165ed080d63243408b37e35580bc8a19"
      }
     },
     "7d29c1e2cc484c4b8aaed75fbd0fb02f": {
      "model_module": "@jupyter-widgets/base",
      "model_module_version": "1.1.0",
      "model_name": "LayoutModel",
      "state": {}
     },
     "7d5b3c6fc8434957a2ee1106be439544": {
      "model_module": "@jupyter-widgets/controls",
      "model_module_version": "1.4.0",
      "model_name": "HBoxModel",
      "state": {
       "children": [
        "IPY_MODEL_ad53c7c8eba14e49a8767f45f93a9a9f",
        "IPY_MODEL_ed2c5f0a306b4a4f841926a92d5ed326"
       ],
       "layout": "IPY_MODEL_7de2c5f9c44740eb861742c80e009ecb"
      }
     },
     "7d6f139aab56461e86ffc2b2832ff9a5": {
      "model_module": "@jupyter-widgets/controls",
      "model_module_version": "1.4.0",
      "model_name": "ButtonModel",
      "state": {
       "description": "Default selection",
       "layout": "IPY_MODEL_dee0bbf0664f465798c1393743da58db",
       "style": "IPY_MODEL_b363bc51a72e4fc0ad3f597f9fabd0b7"
      }
     },
     "7d76ad2290be4b47877f6ca200600282": {
      "model_module": "@jupyter-widgets/controls",
      "model_module_version": "1.4.0",
      "model_name": "ButtonModel",
      "state": {
       "description": "Default selection",
       "layout": "IPY_MODEL_413ed81f3c784b6e99006aaba048171b",
       "style": "IPY_MODEL_d6c3d1f452f94565936c0f7583083aad"
      }
     },
     "7d92448815ef49588cf0336e22ceecb1": {
      "model_module": "@jupyter-widgets/controls",
      "model_module_version": "1.4.0",
      "model_name": "ButtonStyleModel",
      "state": {}
     },
     "7d92ef463979456abdb12b67cd72eaad": {
      "model_module": "@jupyter-widgets/controls",
      "model_module_version": "1.4.0",
      "model_name": "DescriptionStyleModel",
      "state": {
       "description_width": "initial"
      }
     },
     "7dabf6be4f08499fae72b5131b2cb3af": {
      "model_module": "@jupyter-widgets/controls",
      "model_module_version": "1.4.0",
      "model_name": "DescriptionStyleModel",
      "state": {
       "description_width": ""
      }
     },
     "7db2effc18c54e05a6429ce74b85922a": {
      "model_module": "@jupyter-widgets/controls",
      "model_module_version": "1.4.0",
      "model_name": "ProgressStyleModel",
      "state": {
       "description_width": "initial"
      }
     },
     "7de2c5f9c44740eb861742c80e009ecb": {
      "model_module": "@jupyter-widgets/base",
      "model_module_version": "1.1.0",
      "model_name": "LayoutModel",
      "state": {
       "height": "300px",
       "width": "99%"
      }
     },
     "7df6eee0a4354ba9918a965b09431851": {
      "model_module": "@jupyter-widgets/base",
      "model_module_version": "1.1.0",
      "model_name": "LayoutModel",
      "state": {}
     },
     "7e655a02e1014ffd84d20e68e3f5fed6": {
      "model_module": "@jupyter-widgets/base",
      "model_module_version": "1.1.0",
      "model_name": "LayoutModel",
      "state": {
       "width": "30%"
      }
     },
     "7e669a786bd24dd7a9275f3e7a91b0e5": {
      "model_module": "@jupyter-widgets/controls",
      "model_module_version": "1.4.0",
      "model_name": "SelectModel",
      "state": {
       "_options_labels": [
        "MODLAND",
        "VI Usefulness",
        "Aerosol Quantity",
        "Adjacent cloud detected",
        "Atmosphere BRDF Correction",
        "Mixed Clouds",
        "Land/Water Mask",
        "Possible snow/ice",
        "Possible shadow"
       ],
       "description": "QA Parameter name:",
       "index": 0,
       "layout": "IPY_MODEL_7569dec42c824b95a22efa325ded8ce4",
       "rows": 9,
       "style": "IPY_MODEL_c64e371b3fbe4311a0d28e7649eb9862"
      }
     },
     "7ec528752d5240219b28918bfb765bc5": {
      "model_module": "@jupyter-widgets/base",
      "model_module_version": "1.1.0",
      "model_name": "LayoutModel",
      "state": {
       "width": "400px"
      }
     },
     "7eccd491f8174f198de97e7ae0691db6": {
      "model_module": "@jupyter-widgets/base",
      "model_module_version": "1.1.0",
      "model_name": "LayoutModel",
      "state": {
       "width": "50%"
      }
     },
     "7eeb19ffb23644ca824d1f96346d199d": {
      "model_module": "@jupyter-widgets/controls",
      "model_module_version": "1.4.0",
      "model_name": "VBoxModel",
      "state": {
       "children": [
        "IPY_MODEL_7ca3d3c085944b2c9f816214e9fa7eab"
       ],
       "layout": "IPY_MODEL_7848df38a25346c4871c99d6c4608fed"
      }
     },
     "7efb363610ff420ea896fbb350656ed8": {
      "model_module": "@jupyter-widgets/base",
      "model_module_version": "1.1.0",
      "model_name": "LayoutModel",
      "state": {
       "width": "50%"
      }
     },
     "7eff846613414d549162ae96b96f9512": {
      "model_module": "@jupyter-widgets/controls",
      "model_module_version": "1.4.0",
      "model_name": "VBoxModel",
      "state": {
       "children": [
        "IPY_MODEL_465bc6971a8e4212b4fc04c0398f07a8"
       ],
       "layout": "IPY_MODEL_723e5ccfcf334ec2b671755038ecaf40"
      }
     },
     "7f37a6f05d044b4d9b04aec78b83ed95": {
      "model_module": "@jupyter-widgets/base",
      "model_module_version": "1.1.0",
      "model_name": "LayoutModel",
      "state": {
       "width": "50%"
      }
     },
     "7f4ca7631df243e4acd3b247659ccfc6": {
      "model_module": "@jupyter-widgets/base",
      "model_module_version": "1.1.0",
      "model_name": "LayoutModel",
      "state": {}
     },
     "7f4e27e3c85a431c87be05bd42bc5d3c": {
      "model_module": "@jupyter-widgets/controls",
      "model_module_version": "1.4.0",
      "model_name": "ProgressStyleModel",
      "state": {
       "description_width": "initial"
      }
     },
     "7f5afbe3035541378a9bb909589f288c": {
      "model_module": "@jupyter-widgets/base",
      "model_module_version": "1.1.0",
      "model_name": "LayoutModel",
      "state": {}
     },
     "7f892bceb00c4ec7a3fce991ef54ea57": {
      "model_module": "@jupyter-widgets/base",
      "model_module_version": "1.1.0",
      "model_name": "LayoutModel",
      "state": {}
     },
     "7fd08c1d06024fa5aba90e3e0d7ebdb0": {
      "model_module": "@jupyter-widgets/base",
      "model_module_version": "1.1.0",
      "model_name": "LayoutModel",
      "state": {
       "width": "20%"
      }
     },
     "7fd1e893a5d84fe48fb7c0bc37c2122e": {
      "model_module": "@jupyter-widgets/controls",
      "model_module_version": "1.4.0",
      "model_name": "ButtonModel",
      "state": {
       "description": "Default selection",
       "layout": "IPY_MODEL_2f02b6fff31844c6b21f2f3aba108245",
       "style": "IPY_MODEL_0e4c33e692d84618ae660c66f14fe888"
      }
     },
     "7fdb599637eb47cea0494c3940c9be76": {
      "model_module": "@jupyter-widgets/controls",
      "model_module_version": "1.4.0",
      "model_name": "ButtonModel",
      "state": {
       "description": "Select ALL",
       "layout": "IPY_MODEL_86c2b58bf01940bf80b2315578a96679",
       "style": "IPY_MODEL_c3301fec047148fe96ff0409b080bcf8"
      }
     },
     "7fe7fa5d61154aada3ad5b32d8d09a62": {
      "model_module": "@jupyter-widgets/base",
      "model_module_version": "1.1.0",
      "model_name": "LayoutModel",
      "state": {
       "height": "200px",
       "width": "99%"
      }
     },
     "7ffa67f1dec74172a21b0bbe78f5b115": {
      "model_module": "@jupyter-widgets/base",
      "model_module_version": "1.1.0",
      "model_name": "LayoutModel",
      "state": {}
     },
     "8005e2949237452e8359fccf67c87810": {
      "model_module": "@jupyter-widgets/controls",
      "model_module_version": "1.4.0",
      "model_name": "ButtonStyleModel",
      "state": {}
     },
     "800675b8a99446198dc44ccb3c9f922d": {
      "model_module": "@jupyter-widgets/controls",
      "model_module_version": "1.4.0",
      "model_name": "SelectModel",
      "state": {
       "_options_labels": [
        "MODLAND",
        "VI Usefulness",
        "Aerosol Quantity",
        "Adjacent cloud detected",
        "Atmosphere BRDF Correction",
        "Mixed Clouds",
        "Land/Water Mask",
        "Possible snow/ice",
        "Possible shadow"
       ],
       "description": "QA Parameter name:",
       "index": 0,
       "layout": "IPY_MODEL_8990599484714199af800415ad96a1e3",
       "rows": 9,
       "style": "IPY_MODEL_87234e8687244990be2a1056309c8c2f"
      }
     },
     "801b78a2b1634135ac11369692f5079a": {
      "model_module": "@jupyter-widgets/controls",
      "model_module_version": "1.4.0",
      "model_name": "SelectMultipleModel",
      "state": {
       "_options_labels": [
        "Good data, use with confidence",
        "Marginal data, Useful, but look at other QA information",
        "Snow/Ice Target covered with snow/ice",
        "Cloudy data, Target not visible, covered with cloud"
       ],
       "description": "Description",
       "index": [
        0
       ],
       "layout": "IPY_MODEL_a1c2d147b974467f954aa0dea80d7360",
       "rows": 4,
       "style": "IPY_MODEL_dc2ad029ac5449fc9688bc4c907fc1a9"
      }
     },
     "802e4114968d4311bb379cebb4c26781": {
      "model_module": "@jupyter-widgets/base",
      "model_module_version": "1.1.0",
      "model_name": "LayoutModel",
      "state": {
       "width": "350px"
      }
     },
     "80371cdda3b94ebb854d015bfd79b7c2": {
      "model_module": "@jupyter-widgets/controls",
      "model_module_version": "1.4.0",
      "model_name": "HBoxModel",
      "state": {
       "children": [
        "IPY_MODEL_d1d6386feb1240f69e7117a8c927a8c5",
        "IPY_MODEL_51e540e29eb14567948bf27385a7faf7",
        "IPY_MODEL_deab2ae1fdbc47d291d7c0c98910be42"
       ],
       "layout": "IPY_MODEL_b5d32200c8a44305bced7886b207ee6a"
      }
     },
     "80b17b7a58b64bf785335225e22967b4": {
      "model_module": "@jupyter-widgets/base",
      "model_module_version": "1.1.0",
      "model_name": "LayoutModel",
      "state": {
       "width": "20%"
      }
     },
     "80b5a73dca5f420e8feb850c8671b3b8": {
      "model_module": "@jupyter-widgets/base",
      "model_module_version": "1.1.0",
      "model_name": "LayoutModel",
      "state": {
       "width": "20%"
      }
     },
     "80d500df191845678ba7726d3954d8a2": {
      "model_module": "@jupyter-widgets/controls",
      "model_module_version": "1.4.0",
      "model_name": "SelectModel",
      "state": {
       "_options_labels": [
        "MODLAND",
        "VI Usefulness",
        "Aerosol Quantity",
        "Adjacent cloud detected",
        "Atmosphere BRDF Correction",
        "Mixed Clouds",
        "Land/Water Mask",
        "Possible snow/ice",
        "Possible shadow"
       ],
       "description": "QA Parameter name:",
       "index": 0,
       "layout": "IPY_MODEL_802e4114968d4311bb379cebb4c26781",
       "rows": 9,
       "style": "IPY_MODEL_397c5735834f442f8c2116447c472421"
      }
     },
     "80da1ccb4c804c13869f6be258513656": {
      "model_module": "@jupyter-widgets/base",
      "model_module_version": "1.1.0",
      "model_name": "LayoutModel",
      "state": {}
     },
     "80e3834b190d48a4881807a3077ec19e": {
      "model_module": "@jupyter-widgets/base",
      "model_module_version": "1.1.0",
      "model_name": "LayoutModel",
      "state": {}
     },
     "80efeb2adc6844b0a029f31603987c56": {
      "model_module": "@jupyter-widgets/base",
      "model_module_version": "1.1.0",
      "model_name": "LayoutModel",
      "state": {
       "width": "20%"
      }
     },
     "816bdc88b98f4237b093075df223700a": {
      "model_module": "@jupyter-widgets/controls",
      "model_module_version": "1.4.0",
      "model_name": "DescriptionStyleModel",
      "state": {
       "description_width": "initial"
      }
     },
     "81849b374fba42e4ac1632427b611044": {
      "model_module": "@jupyter-widgets/base",
      "model_module_version": "1.1.0",
      "model_name": "LayoutModel",
      "state": {}
     },
     "81a411ab03204f289c3d5c3802a8ebf1": {
      "model_module": "@jupyter-widgets/controls",
      "model_module_version": "1.4.0",
      "model_name": "HBoxModel",
      "state": {
       "children": [
        "IPY_MODEL_3f806a0f1fad4673b4633fe4df70f02e",
        "IPY_MODEL_1944f939411d4e0e966559f20c88bd3b"
       ],
       "layout": "IPY_MODEL_573dd6b7c1754840867d7b79476017ae"
      }
     },
     "81a731469d82445eaa1c14243888d666": {
      "model_module": "@jupyter-widgets/base",
      "model_module_version": "1.1.0",
      "model_name": "LayoutModel",
      "state": {
       "width": "20%"
      }
     },
     "81ab7c116d8847fb93f2b108cfa1a6c2": {
      "model_module": "@jupyter-widgets/controls",
      "model_module_version": "1.4.0",
      "model_name": "ButtonModel",
      "state": {
       "description": "Default selection",
       "layout": "IPY_MODEL_509685375b3a4123ae943eb9bf4fa271",
       "style": "IPY_MODEL_fc08d2e9c9694437905fd52943614030"
      }
     },
     "81b827b100b54be2bd170f67c97ed768": {
      "model_module": "@jupyter-widgets/base",
      "model_module_version": "1.1.0",
      "model_name": "LayoutModel",
      "state": {}
     },
     "81d46869bcc7453c9744f4bd264c9059": {
      "model_module": "@jupyter-widgets/base",
      "model_module_version": "1.1.0",
      "model_name": "LayoutModel",
      "state": {
       "width": "400px"
      }
     },
     "81ecdba216a94d86ba8b9d29013fe9b8": {
      "model_module": "@jupyter-widgets/controls",
      "model_module_version": "1.4.0",
      "model_name": "HTMLModel",
      "state": {
       "description": "QA layer:",
       "layout": "IPY_MODEL_aaa753300e904f8aa6cbbd53c8678905",
       "style": "IPY_MODEL_32955758328341509682931284b532f1",
       "value": "<b>_1_km_16_days_pixel_reliability</b>"
      }
     },
     "8234a167a446405997b8d7e0407a0475": {
      "model_module": "@jupyter-widgets/base",
      "model_module_version": "1.1.0",
      "model_name": "LayoutModel",
      "state": {
       "width": "20%"
      }
     },
     "823a8e6cbdb34702a93ba2842e43c896": {
      "model_module": "@jupyter-widgets/base",
      "model_module_version": "1.1.0",
      "model_name": "LayoutModel",
      "state": {}
     },
     "829efeeb4f6b43548f90199ab6958103": {
      "model_module": "@jupyter-widgets/controls",
      "model_module_version": "1.4.0",
      "model_name": "DescriptionStyleModel",
      "state": {
       "description_width": "initial"
      }
     },
     "82c2873e424140f9b8e328132670422c": {
      "model_module": "@jupyter-widgets/controls",
      "model_module_version": "1.4.0",
      "model_name": "ButtonStyleModel",
      "state": {}
     },
     "82c9b80f394d48a3b0e67adfec86639c": {
      "model_module": "@jupyter-widgets/controls",
      "model_module_version": "1.4.0",
      "model_name": "DescriptionStyleModel",
      "state": {
       "description_width": ""
      }
     },
     "82cacee4a3944312a597faff1300ba88": {
      "model_module": "@jupyter-widgets/base",
      "model_module_version": "1.1.0",
      "model_name": "LayoutModel",
      "state": {}
     },
     "82d7aa33c76f420ea32daf03fe61ed88": {
      "model_module": "@jupyter-widgets/controls",
      "model_module_version": "1.4.0",
      "model_name": "DescriptionStyleModel",
      "state": {
       "description_width": "initial"
      }
     },
     "8324b74168ac4fa6a93336a8b042f54e": {
      "model_module": "@jupyter-widgets/controls",
      "model_module_version": "1.4.0",
      "model_name": "DescriptionStyleModel",
      "state": {
       "description_width": ""
      }
     },
     "83275533fb9c40a2af70e943f9895422": {
      "model_module": "@jupyter-widgets/base",
      "model_module_version": "1.1.0",
      "model_name": "LayoutModel",
      "state": {
       "width": "400px"
      }
     },
     "8328244c84794b599c848d9d2c51ee4b": {
      "model_module": "@jupyter-widgets/controls",
      "model_module_version": "1.4.0",
      "model_name": "ButtonModel",
      "state": {
       "description": "Select ALL",
       "layout": "IPY_MODEL_cc3f4a329cce4ce3b04477dab01f681e",
       "style": "IPY_MODEL_f4025728a33c4b5f8de9a439c1ec9885"
      }
     },
     "832f6a1701f24e2d99a9ee109f93138e": {
      "model_module": "@jupyter-widgets/base",
      "model_module_version": "1.1.0",
      "model_name": "LayoutModel",
      "state": {
       "height": "300px",
       "width": "99%"
      }
     },
     "83363ceb73b04701bfb15c011990cbc4": {
      "model_module": "@jupyter-widgets/controls",
      "model_module_version": "1.4.0",
      "model_name": "DescriptionStyleModel",
      "state": {
       "description_width": "initial"
      }
     },
     "8338942bc53b4bc891af4461dcc9d6f4": {
      "model_module": "@jupyter-widgets/controls",
      "model_module_version": "1.4.0",
      "model_name": "DescriptionStyleModel",
      "state": {
       "description_width": "initial"
      }
     },
     "834ccd4d589d472f8f27e465c9140cb5": {
      "model_module": "@jupyter-widgets/controls",
      "model_module_version": "1.4.0",
      "model_name": "HBoxModel",
      "state": {
       "children": [
        "IPY_MODEL_0023433664ca4a9a9085c27cd27b7ac1",
        "IPY_MODEL_c5f8a2ae485443539fd9bc0f11287cef",
        "IPY_MODEL_43438f4f18ca448da34092c851142d13"
       ],
       "layout": "IPY_MODEL_773cff4abaed433ca3929971bb16386e"
      }
     },
     "836c064d8add44268caed17acf658d81": {
      "model_module": "@jupyter-widgets/controls",
      "model_module_version": "1.4.0",
      "model_name": "ButtonStyleModel",
      "state": {}
     },
     "837746741ba24f9881300a22100ef141": {
      "model_module": "@jupyter-widgets/controls",
      "model_module_version": "1.4.0",
      "model_name": "DescriptionStyleModel",
      "state": {
       "description_width": "initial"
      }
     },
     "837bb709f6fd477898a01e8401a4e46a": {
      "model_module": "@jupyter-widgets/base",
      "model_module_version": "1.1.0",
      "model_name": "LayoutModel",
      "state": {
       "width": "20%"
      }
     },
     "838b8872894d4cbdad54ca8d4ab797c0": {
      "model_module": "@jupyter-widgets/controls",
      "model_module_version": "1.4.0",
      "model_name": "ButtonModel",
      "state": {
       "description": "Select ALL",
       "layout": "IPY_MODEL_41ec28fc660f4ce681d3f473639113c1",
       "style": "IPY_MODEL_c41b1e59b828486cb0938df6e09baff8"
      }
     },
     "83ae6899af82490aa42fc41ad81c847e": {
      "model_module": "@jupyter-widgets/base",
      "model_module_version": "1.1.0",
      "model_name": "LayoutModel",
      "state": {
       "width": "400px"
      }
     },
     "83cd6db10aa64748bcb6749c95925565": {
      "model_module": "@jupyter-widgets/base",
      "model_module_version": "1.1.0",
      "model_name": "LayoutModel",
      "state": {}
     },
     "83dba7a1b87749c996b1134c2c54715c": {
      "model_module": "@jupyter-widgets/controls",
      "model_module_version": "1.4.0",
      "model_name": "VBoxModel",
      "state": {
       "children": [
        "IPY_MODEL_7d21e53550864e97a4f87eade08a6b1f"
       ],
       "layout": "IPY_MODEL_dbfdadf97dcf4308bdf8cd6e1bfb57e6"
      }
     },
     "84017450133649d69559e4eefc3d7a8e": {
      "model_module": "@jupyter-widgets/controls",
      "model_module_version": "1.4.0",
      "model_name": "ButtonModel",
      "state": {
       "description": "Select ALL",
       "layout": "IPY_MODEL_a1e3a29f948944d2af007875ba7db07a",
       "style": "IPY_MODEL_a381de81e9a24d70ae15a73a1ac2d6ce"
      }
     },
     "845ae6ec8af04cb3b52c453624a72832": {
      "model_module": "@jupyter-widgets/base",
      "model_module_version": "1.1.0",
      "model_name": "LayoutModel",
      "state": {}
     },
     "846db7c86a5240c186fefc927bb24484": {
      "model_module": "@jupyter-widgets/controls",
      "model_module_version": "1.4.0",
      "model_name": "HBoxModel",
      "state": {
       "children": [
        "IPY_MODEL_bfb9640297ac44738af48c5420f26f48",
        "IPY_MODEL_414325fb59fa48f6854a28a34095d572"
       ],
       "layout": "IPY_MODEL_a7ffae7a635e447699b733c9b0f1bc6a"
      }
     },
     "848d83e5abfa473682905eaa675d1d60": {
      "model_module": "@jupyter-widgets/base",
      "model_module_version": "1.1.0",
      "model_name": "LayoutModel",
      "state": {
       "width": "20%"
      }
     },
     "84d0c2ff82cf448dbab2e008e1a4e01d": {
      "model_module": "@jupyter-widgets/base",
      "model_module_version": "1.1.0",
      "model_name": "LayoutModel",
      "state": {}
     },
     "8542350df8d94276b12672b297514ba8": {
      "model_module": "@jupyter-widgets/controls",
      "model_module_version": "1.4.0",
      "model_name": "VBoxModel",
      "state": {
       "children": [
        "IPY_MODEL_5814e99877f0413ea3a16f5be9efdd4a"
       ],
       "layout": "IPY_MODEL_e58434f7ebe341298b35cb438fc6dbcb"
      }
     },
     "8555620b93a743ba90337634a7b2b886": {
      "model_module": "@jupyter-widgets/controls",
      "model_module_version": "1.4.0",
      "model_name": "ButtonStyleModel",
      "state": {}
     },
     "858a4bd718644c8b9678c908d8ca03f7": {
      "model_module": "@jupyter-widgets/base",
      "model_module_version": "1.1.0",
      "model_name": "LayoutModel",
      "state": {}
     },
     "85b5ca356762455da70c955e52f01e80": {
      "model_module": "@jupyter-widgets/base",
      "model_module_version": "1.1.0",
      "model_name": "LayoutModel",
      "state": {
       "width": "50%"
      }
     },
     "85b90f71dc0d4c6ebf720dae374c21e2": {
      "model_module": "@jupyter-widgets/base",
      "model_module_version": "1.1.0",
      "model_name": "LayoutModel",
      "state": {
       "width": "20%"
      }
     },
     "86015f56a34c4d5f9b04c2660a089be6": {
      "model_module": "@jupyter-widgets/controls",
      "model_module_version": "1.4.0",
      "model_name": "ButtonModel",
      "state": {
       "description": "Default selection",
       "layout": "IPY_MODEL_81a731469d82445eaa1c14243888d666",
       "style": "IPY_MODEL_e1237b882c1c4eea87212a766abefd87"
      }
     },
     "860b8bce48674335b84242d61915c821": {
      "model_module": "@jupyter-widgets/base",
      "model_module_version": "1.1.0",
      "model_name": "LayoutModel",
      "state": {
       "width": "20%"
      }
     },
     "8611fbe5bd9f402d9ff45cf8f7a5f70f": {
      "model_module": "@jupyter-widgets/base",
      "model_module_version": "1.1.0",
      "model_name": "LayoutModel",
      "state": {}
     },
     "86120358616c41818157771dfe258da8": {
      "model_module": "@jupyter-widgets/base",
      "model_module_version": "1.1.0",
      "model_name": "LayoutModel",
      "state": {}
     },
     "8645dab5d48a4000adbe619ce66f684e": {
      "model_module": "@jupyter-widgets/base",
      "model_module_version": "1.1.0",
      "model_name": "LayoutModel",
      "state": {
       "width": "400px"
      }
     },
     "865074ec7dcf4eb8a31766503e8e443a": {
      "model_module": "@jupyter-widgets/base",
      "model_module_version": "1.1.0",
      "model_name": "LayoutModel",
      "state": {
       "width": "20%"
      }
     },
     "865bac97272a40828ad52e9aaa96dda7": {
      "model_module": "@jupyter-widgets/controls",
      "model_module_version": "1.4.0",
      "model_name": "VBoxModel",
      "state": {
       "children": [
        "IPY_MODEL_e531b1d7c2714ac2a6b022b9f2663561"
       ],
       "layout": "IPY_MODEL_2b9c21ce1d274cd995eb2f48b54a21d7"
      }
     },
     "865d5d75a72b4b23b864cef1c57a9af4": {
      "model_module": "@jupyter-widgets/controls",
      "model_module_version": "1.4.0",
      "model_name": "SelectModel",
      "state": {
       "_options_labels": [
        "MODLAND",
        "VI Usefulness",
        "Aerosol Quantity",
        "Adjacent cloud detected",
        "Atmosphere BRDF Correction",
        "Mixed Clouds",
        "Land/Water Mask",
        "Possible snow/ice",
        "Possible shadow"
       ],
       "description": "QA Parameter name:",
       "index": 0,
       "layout": "IPY_MODEL_a72529c088a94387b2b82ae1eff82ade",
       "rows": 9,
       "style": "IPY_MODEL_62e474cd2ac745179f6cd7511acc8eb5"
      }
     },
     "865ef147cbb1401aad06c575742905b5": {
      "model_module": "@jupyter-widgets/controls",
      "model_module_version": "1.4.0",
      "model_name": "ButtonModel",
      "state": {
       "description": "QA analytics",
       "layout": "IPY_MODEL_f510d3104aeb4b9893c1c5d29b47523f",
       "style": "IPY_MODEL_5e7d375288af4e839bbd0a3458aa799a"
      }
     },
     "8660f83af675440f933ce2609e3c1ebe": {
      "model_module": "@jupyter-widgets/controls",
      "model_module_version": "1.4.0",
      "model_name": "ProgressStyleModel",
      "state": {
       "description_width": "initial"
      }
     },
     "8679a30664df4b2e81b579f1c70f6bb1": {
      "model_module": "@jupyter-widgets/controls",
      "model_module_version": "1.4.0",
      "model_name": "DropdownModel",
      "state": {
       "_options_labels": [
        "_1_km_16_days_EVI",
        "_1_km_16_days_MIR_reflectance",
        "_1_km_16_days_NDVI",
        "_1_km_16_days_NIR_reflectance",
        "_1_km_16_days_VI_Quality",
        "_1_km_16_days_blue_reflectance",
        "_1_km_16_days_composite_day_of_the_year",
        "_1_km_16_days_pixel_reliability",
        "_1_km_16_days_red_reflectance",
        "_1_km_16_days_relative_azimuth_angle",
        "_1_km_16_days_sun_zenith_angle",
        "_1_km_16_days_view_zenith_angle"
       ],
       "description": "Data variables:",
       "index": 0,
       "layout": "IPY_MODEL_222b3cefe2b24ab2b62908d5deaf7df2",
       "style": "IPY_MODEL_af33df9032784959a9d2e500de7965cb"
      }
     },
     "86ab92724a8c44e6b0b75f713ed72d84": {
      "model_module": "@jupyter-widgets/controls",
      "model_module_version": "1.4.0",
      "model_name": "HBoxModel",
      "state": {
       "children": [
        "IPY_MODEL_ad6fa6f1d81c45a2b1c85dd69807dc7b",
        "IPY_MODEL_3377a39b84aa45f89fc6aff04f169216",
        "IPY_MODEL_0356813bbe3743d68be4366d62939d50",
        "IPY_MODEL_781542e3c7be47708cc5dd75019e5886"
       ],
       "layout": "IPY_MODEL_3beb85f3eabb41f4865d0e2c92600d9f"
      }
     },
     "86acf9271098444ea9fd0feb2da696e0": {
      "model_module": "@jupyter-widgets/base",
      "model_module_version": "1.1.0",
      "model_name": "LayoutModel",
      "state": {
       "width": "400px"
      }
     },
     "86b26502ef124d3198be799353b12bba": {
      "model_module": "@jupyter-widgets/base",
      "model_module_version": "1.1.0",
      "model_name": "LayoutModel",
      "state": {
       "width": "20%"
      }
     },
     "86b2fbf937fc47a1a285e3b0f1896154": {
      "model_module": "@jupyter-widgets/controls",
      "model_module_version": "1.4.0",
      "model_name": "ButtonModel",
      "state": {
       "description": "Default selection",
       "layout": "IPY_MODEL_040238f9d5b54467b3de806300b6bdf9",
       "style": "IPY_MODEL_c05a8e9a7ff6446fb9dd69ff603d3d88"
      }
     },
     "86b59a94a4cd4976b080f22cc70515aa": {
      "model_module": "@jupyter-widgets/base",
      "model_module_version": "1.1.0",
      "model_name": "LayoutModel",
      "state": {
       "width": "20%"
      }
     },
     "86c2b58bf01940bf80b2315578a96679": {
      "model_module": "@jupyter-widgets/base",
      "model_module_version": "1.1.0",
      "model_name": "LayoutModel",
      "state": {
       "width": "20%"
      }
     },
     "86f1afa8e2504721b34d1b99875a5eaf": {
      "model_module": "@jupyter-widgets/base",
      "model_module_version": "1.1.0",
      "model_name": "LayoutModel",
      "state": {
       "width": "50%"
      }
     },
     "8701aeed8e404a549311d57e3cbce686": {
      "model_module": "@jupyter-widgets/base",
      "model_module_version": "1.1.0",
      "model_name": "LayoutModel",
      "state": {
       "width": "400px"
      }
     },
     "8706edb1305548a9ac138626c7ff89e6": {
      "model_module": "@jupyter-widgets/controls",
      "model_module_version": "1.4.0",
      "model_name": "ButtonModel",
      "state": {
       "description": "QA analytics",
       "layout": "IPY_MODEL_06f3798cd43741c88320f56520861ff7",
       "style": "IPY_MODEL_5993c7e5af4e4e66a639e2572e5dd48c"
      }
     },
     "871ea2aafa8549eb8c49a5075c024373": {
      "model_module": "@jupyter-widgets/base",
      "model_module_version": "1.1.0",
      "model_name": "LayoutModel",
      "state": {}
     },
     "87234e8687244990be2a1056309c8c2f": {
      "model_module": "@jupyter-widgets/controls",
      "model_module_version": "1.4.0",
      "model_name": "DescriptionStyleModel",
      "state": {
       "description_width": "initial"
      }
     },
     "87768870d8654c2c9f78419b02512435": {
      "model_module": "@jupyter-widgets/controls",
      "model_module_version": "1.4.0",
      "model_name": "VBoxModel",
      "state": {
       "children": [
        "IPY_MODEL_46e8b1feaf6345a29940b8b36d896bcf"
       ],
       "layout": "IPY_MODEL_63d4cc1ed9e444e3b9a1018b5a47cd7f"
      }
     },
     "87858733ec334d268d350689037146c0": {
      "model_module": "@jupyter-widgets/controls",
      "model_module_version": "1.4.0",
      "model_name": "DescriptionStyleModel",
      "state": {
       "description_width": "initial"
      }
     },
     "87b80f7a56b2494db76ae5d785c22930": {
      "model_module": "@jupyter-widgets/controls",
      "model_module_version": "1.4.0",
      "model_name": "SelectModel",
      "state": {
       "_options_labels": [
        "MODLAND",
        "VI Usefulness",
        "Aerosol Quantity",
        "Adjacent cloud detected",
        "Atmosphere BRDF Correction",
        "Mixed Clouds",
        "Land/Water Mask",
        "Possible snow/ice",
        "Possible shadow"
       ],
       "description": "QA Parameter name:",
       "index": 0,
       "layout": "IPY_MODEL_7bad61a7080c47178e92ad2e348f1622",
       "rows": 9,
       "style": "IPY_MODEL_27dd7585e8bc427a86ead79324609d5a"
      }
     },
     "87be2ee1064a43dca40272f9b4cda698": {
      "model_module": "@jupyter-widgets/base",
      "model_module_version": "1.1.0",
      "model_name": "LayoutModel",
      "state": {}
     },
     "87c67b05e94246a487bb6ea4898207a3": {
      "model_module": "@jupyter-widgets/controls",
      "model_module_version": "1.4.0",
      "model_name": "VBoxModel",
      "state": {
       "children": [
        "IPY_MODEL_0876b48354694ae5b29cb6a8a21a6bdc"
       ],
       "layout": "IPY_MODEL_3aa240466fef436a88426fff3c3af406"
      }
     },
     "87f04aae42344dc9b3ebc2bd0c16ca10": {
      "model_module": "@jupyter-widgets/controls",
      "model_module_version": "1.4.0",
      "model_name": "ButtonStyleModel",
      "state": {}
     },
     "88300c7af4824441a0375e26f1c8a558": {
      "model_module": "@jupyter-widgets/controls",
      "model_module_version": "1.4.0",
      "model_name": "SelectMultipleModel",
      "state": {
       "_options_labels": [
        "VI produced, good quality",
        "VI produced, but check other QA",
        "Pixel produced, but most probably cloudy",
        "Pixel not produced due to other reasons than clouds"
       ],
       "description": "Description",
       "index": [
        0
       ],
       "layout": "IPY_MODEL_729a2ad1e1f546749dde94932af3924a",
       "rows": 4,
       "style": "IPY_MODEL_782c72d2943c4531b70f5404c6b9733a"
      }
     },
     "884eef90db484de2b501f009504d978f": {
      "model_module": "@jupyter-widgets/base",
      "model_module_version": "1.1.0",
      "model_name": "LayoutModel",
      "state": {
       "width": "400px"
      }
     },
     "88d11798ed62459e98f6604fab6e6775": {
      "model_module": "@jupyter-widgets/controls",
      "model_module_version": "1.4.0",
      "model_name": "HTMLModel",
      "state": {
       "description": "QA layer:",
       "layout": "IPY_MODEL_ad8b731cfb004c04bc354b6c19f2de16",
       "style": "IPY_MODEL_b0775e2a5629465a94e5f3abdef7f22e",
       "value": "<b>_1_km_16_days_VI_Quality</b>"
      }
     },
     "88d1343765f14143a1035a73de13522b": {
      "model_module": "@jupyter-widgets/controls",
      "model_module_version": "1.4.0",
      "model_name": "DescriptionStyleModel",
      "state": {
       "description_width": "initial"
      }
     },
     "88ea6771376f424dbcb8dddd580fc3be": {
      "model_module": "@jupyter-widgets/base",
      "model_module_version": "1.1.0",
      "model_name": "LayoutModel",
      "state": {}
     },
     "88fd52833675491399e34475a72c2103": {
      "model_module": "@jupyter-widgets/base",
      "model_module_version": "1.1.0",
      "model_name": "LayoutModel",
      "state": {
       "height": "350px",
       "width": "99%"
      }
     },
     "896b2b0460e246c48e0ae9dba4af5eeb": {
      "model_module": "@jupyter-widgets/controls",
      "model_module_version": "1.4.0",
      "model_name": "HTMLModel",
      "state": {
       "description": "QA layer:",
       "layout": "IPY_MODEL_0f72ac2918154b859ba2117750e473c6",
       "style": "IPY_MODEL_bbaad931ffc740e9addcc0ba1551e9e1",
       "value": "<b>_1_km_16_days_pixel_reliability</b>"
      }
     },
     "896fc00edd9a4bde9ff8abef37c73da2": {
      "model_module": "@jupyter-widgets/base",
      "model_module_version": "1.1.0",
      "model_name": "LayoutModel",
      "state": {}
     },
     "8990599484714199af800415ad96a1e3": {
      "model_module": "@jupyter-widgets/base",
      "model_module_version": "1.1.0",
      "model_name": "LayoutModel",
      "state": {
       "width": "400px"
      }
     },
     "899d9e87b20948d28982f312d1c81ddc": {
      "model_module": "@jupyter-widgets/base",
      "model_module_version": "1.1.0",
      "model_name": "LayoutModel",
      "state": {
       "width": "20%"
      }
     },
     "89a4e451a62740788555096ac694777b": {
      "model_module": "@jupyter-widgets/controls",
      "model_module_version": "1.4.0",
      "model_name": "SelectMultipleModel",
      "state": {
       "_options_labels": [
        "linear",
        "nearest",
        "zero",
        "slinear",
        "quadratic",
        "cubic",
        "barycentric",
        "krog",
        "pchip",
        "spline",
        "akima"
       ],
       "description": "Interpolation methods",
       "index": [
        0,
        4,
        8,
        10
       ],
       "layout": "IPY_MODEL_76a3b1d0c9fe4f61a3dd4e3df2b9fd24",
       "rows": 11,
       "style": "IPY_MODEL_3cd2e8dd0ab64699adaf539375c14ba9"
      }
     },
     "89f99677d925413986681a2eaf52ffeb": {
      "model_module": "@jupyter-widgets/controls",
      "model_module_version": "1.4.0",
      "model_name": "VBoxModel",
      "state": {
       "children": [
        "IPY_MODEL_8679a30664df4b2e81b579f1c70f6bb1"
       ],
       "layout": "IPY_MODEL_c85c978843b045da836fd81d85ccafe4"
      }
     },
     "89fe34c39d72404eaaa4f9513e078f1c": {
      "model_module": "@jupyter-widgets/controls",
      "model_module_version": "1.4.0",
      "model_name": "VBoxModel",
      "state": {
       "children": [
        "IPY_MODEL_58d3c736fcbe412baf36bcfc50e57187"
       ],
       "layout": "IPY_MODEL_0e4f2f0eab9f47ee91397f1fd1c8efb9"
      }
     },
     "89ffaf17126941f2a60a5a8a00f8af03": {
      "model_module": "@jupyter-widgets/controls",
      "model_module_version": "1.4.0",
      "model_name": "ButtonStyleModel",
      "state": {}
     },
     "8a248a57851045b0ba8a7c60f642b5cb": {
      "model_module": "@jupyter-widgets/controls",
      "model_module_version": "1.4.0",
      "model_name": "SelectModel",
      "state": {
       "_options_labels": [
        "MODLAND",
        "VI Usefulness",
        "Aerosol Quantity",
        "Adjacent cloud detected",
        "Atmosphere BRDF Correction",
        "Mixed Clouds",
        "Land/Water Mask",
        "Possible snow/ice",
        "Possible shadow"
       ],
       "description": "QA Parameter name:",
       "index": 0,
       "layout": "IPY_MODEL_bcba5a9fd6414b41b9cf034d1dbe3b5a",
       "rows": 9,
       "style": "IPY_MODEL_efad78ae57914de09e24c2e656c38e18"
      }
     },
     "8a61a1c998f145c3b595eb166f9c70cf": {
      "model_module": "@jupyter-widgets/controls",
      "model_module_version": "1.4.0",
      "model_name": "ButtonStyleModel",
      "state": {}
     },
     "8a96944491ad4f279a63e182e6a34951": {
      "model_module": "@jupyter-widgets/base",
      "model_module_version": "1.1.0",
      "model_name": "LayoutModel",
      "state": {}
     },
     "8aac1537c3864b36ae9404bc64b1c1e3": {
      "model_module": "@jupyter-widgets/controls",
      "model_module_version": "1.4.0",
      "model_name": "SelectModel",
      "state": {
       "_options_labels": [
        "MODLAND",
        "VI Usefulness",
        "Aerosol Quantity",
        "Adjacent cloud detected",
        "Atmosphere BRDF Correction",
        "Mixed Clouds",
        "Land/Water Mask",
        "Possible snow/ice",
        "Possible shadow"
       ],
       "description": "QA Parameter name:",
       "index": 0,
       "layout": "IPY_MODEL_9efd796111e3424f9438f3acdbe40c80",
       "rows": 9,
       "style": "IPY_MODEL_35f1132ff90441e496b723e9cf337539"
      }
     },
     "8acae312aa4644a489a15bb89cbebf20": {
      "model_module": "@jupyter-widgets/controls",
      "model_module_version": "1.4.0",
      "model_name": "HBoxModel",
      "state": {
       "children": [
        "IPY_MODEL_370c724799c444b6b17b619a1722d481",
        "IPY_MODEL_1c1cfdc572a54d52a1a5be61b02bcc6f",
        "IPY_MODEL_865ef147cbb1401aad06c575742905b5"
       ],
       "layout": "IPY_MODEL_a4099c5bf08f4769b613fa3e00d2e027"
      }
     },
     "8ad802d33e1742f484344acbe24ef20d": {
      "model_module": "@jupyter-widgets/controls",
      "model_module_version": "1.4.0",
      "model_name": "ButtonStyleModel",
      "state": {}
     },
     "8ada1905e30d43f1bbab612d5b8afc29": {
      "model_module": "@jupyter-widgets/controls",
      "model_module_version": "1.4.0",
      "model_name": "DescriptionStyleModel",
      "state": {
       "description_width": "initial"
      }
     },
     "8b01282394634cf79c49bc0db01c3078": {
      "model_module": "@jupyter-widgets/base",
      "model_module_version": "1.1.0",
      "model_name": "LayoutModel",
      "state": {
       "height": "200px",
       "width": "99%"
      }
     },
     "8b7b69eac62341de9e98500e1ed35b43": {
      "model_module": "@jupyter-widgets/base",
      "model_module_version": "1.1.0",
      "model_name": "LayoutModel",
      "state": {
       "height": "200px",
       "width": "99%"
      }
     },
     "8b851cf553a94ff7969adbc979fa175e": {
      "model_module": "@jupyter-widgets/controls",
      "model_module_version": "1.4.0",
      "model_name": "SelectModel",
      "state": {
       "_options_labels": [
        "MODLAND",
        "VI Usefulness",
        "Aerosol Quantity",
        "Adjacent cloud detected",
        "Atmosphere BRDF Correction",
        "Mixed Clouds",
        "Land/Water Mask",
        "Possible snow/ice",
        "Possible shadow"
       ],
       "description": "QA Parameter name:",
       "index": 0,
       "layout": "IPY_MODEL_6ddadab5d8774832ae66455267fe7338",
       "rows": 9,
       "style": "IPY_MODEL_164c3606166545eab27b42ce03421019"
      }
     },
     "8b8fa6b334d84a87adf9e1d6d13c4f56": {
      "model_module": "@jupyter-widgets/controls",
      "model_module_version": "1.4.0",
      "model_name": "VBoxModel",
      "state": {
       "children": [
        "IPY_MODEL_2cac40d73da14cc4b7d8a43bd76f0cfe"
       ],
       "layout": "IPY_MODEL_023ddd5fce2f4aa88b203887b52afb12"
      }
     },
     "8bad5a19aff447fd90e6f4ab91d4814f": {
      "model_module": "@jupyter-widgets/controls",
      "model_module_version": "1.4.0",
      "model_name": "ButtonModel",
      "state": {
       "description": "QA analytics",
       "layout": "IPY_MODEL_64ec396762094618950605eb1073a9c6",
       "style": "IPY_MODEL_21f8c17101ab492c8da53a3ff5269194"
      }
     },
     "8bb26497835143b2a3debd18ef938afa": {
      "model_module": "@jupyter-widgets/controls",
      "model_module_version": "1.4.0",
      "model_name": "ButtonStyleModel",
      "state": {}
     },
     "8bec2e5fc1ce4fc3a39a8db55adc5ea0": {
      "model_module": "@jupyter-widgets/controls",
      "model_module_version": "1.4.0",
      "model_name": "ProgressStyleModel",
      "state": {
       "description_width": "initial"
      }
     },
     "8bf2db0bc32843689d7e8371064729f2": {
      "model_module": "@jupyter-widgets/base",
      "model_module_version": "1.1.0",
      "model_name": "LayoutModel",
      "state": {
       "width": "400px"
      }
     },
     "8c0b122bff644e2aa01d3d4f440660df": {
      "model_module": "@jupyter-widgets/controls",
      "model_module_version": "1.4.0",
      "model_name": "ButtonStyleModel",
      "state": {}
     },
     "8c9fb151fbc04c218bcb5cae834c9902": {
      "model_module": "@jupyter-widgets/controls",
      "model_module_version": "1.4.0",
      "model_name": "DescriptionStyleModel",
      "state": {
       "description_width": ""
      }
     },
     "8cb2217adddb4fbbb1f1e9c307f9c55a": {
      "model_module": "@jupyter-widgets/controls",
      "model_module_version": "1.4.0",
      "model_name": "DescriptionStyleModel",
      "state": {
       "description_width": "initial"
      }
     },
     "8ce07b741750404693e1f559fd6b2913": {
      "model_module": "@jupyter-widgets/base",
      "model_module_version": "1.1.0",
      "model_name": "LayoutModel",
      "state": {
       "width": "400px"
      }
     },
     "8cfd6013f3404f1c9520d6f0139b422c": {
      "model_module": "@jupyter-widgets/base",
      "model_module_version": "1.1.0",
      "model_name": "LayoutModel",
      "state": {
       "width": "20%"
      }
     },
     "8d03aa5f8a214bdf8bdfec033d1bae71": {
      "model_module": "@jupyter-widgets/controls",
      "model_module_version": "1.4.0",
      "model_name": "HBoxModel",
      "state": {
       "children": [
        "IPY_MODEL_f4f07962b534434dbce867176e0ee543",
        "IPY_MODEL_777072fe74ed4c9f8477c85e0df3a4b0",
        "IPY_MODEL_98c8aa49e3314551a2a66ee9978ed0cd"
       ],
       "layout": "IPY_MODEL_17c7fb0079224c0da5e91750e661f8c8"
      }
     },
     "8d0e3151a460483e9022429732cd15ab": {
      "model_module": "@jupyter-widgets/base",
      "model_module_version": "1.1.0",
      "model_name": "LayoutModel",
      "state": {
       "width": "50%"
      }
     },
     "8d14f8f5e88249b5b20c4255ea87081a": {
      "model_module": "@jupyter-widgets/controls",
      "model_module_version": "1.4.0",
      "model_name": "ProgressStyleModel",
      "state": {
       "description_width": "initial"
      }
     },
     "8d21980aecd54a83b60b4862aa461ee8": {
      "model_module": "@jupyter-widgets/controls",
      "model_module_version": "1.4.0",
      "model_name": "ButtonStyleModel",
      "state": {}
     },
     "8d3b7905995a474383b06b53f7c090c4": {
      "model_module": "@jupyter-widgets/base",
      "model_module_version": "1.1.0",
      "model_name": "LayoutModel",
      "state": {
       "width": "20%"
      }
     },
     "8d94f0746fb24c1992fb26fbcea009e6": {
      "model_module": "@jupyter-widgets/base",
      "model_module_version": "1.1.0",
      "model_name": "LayoutModel",
      "state": {
       "width": "400px"
      }
     },
     "8d9e2012786444e4a653e561d3b460d6": {
      "model_module": "@jupyter-widgets/controls",
      "model_module_version": "1.4.0",
      "model_name": "ButtonModel",
      "state": {
       "description": "Select ALL",
       "layout": "IPY_MODEL_2c376ff915e940f1908da7b7efd36b61",
       "style": "IPY_MODEL_2f8c9f2ec17c4e87b538c987d3dfc49d"
      }
     },
     "8dc7032a9913455c8daaa4286e37d3a9": {
      "model_module": "@jupyter-widgets/base",
      "model_module_version": "1.1.0",
      "model_name": "LayoutModel",
      "state": {
       "width": "20%"
      }
     },
     "8e08b5e37d324f6880a0238090609c5c": {
      "model_module": "@jupyter-widgets/controls",
      "model_module_version": "1.4.0",
      "model_name": "ProgressStyleModel",
      "state": {
       "description_width": "initial"
      }
     },
     "8e15ca759fe74b61a975c190ae741c2d": {
      "model_module": "@jupyter-widgets/controls",
      "model_module_version": "1.4.0",
      "model_name": "ButtonModel",
      "state": {
       "description": "Select ALL",
       "layout": "IPY_MODEL_639a450e33ae42a7a1fa3040982d74f4",
       "style": "IPY_MODEL_0045939765b2409eb0d1315b3c2bb14a"
      }
     },
     "8e1cfa88126a41e2b3d9f0dd3dd68ba9": {
      "model_module": "@jupyter-widgets/controls",
      "model_module_version": "1.4.0",
      "model_name": "HTMLModel",
      "state": {
       "description": "QA layer:",
       "layout": "IPY_MODEL_e009d2afe7384071ba457eff78633f6f",
       "style": "IPY_MODEL_21827b1c753c4d6c8bf93bf28d9d54d5",
       "value": "<b>_1_km_16_days_VI_Quality</b>"
      }
     },
     "8e4562168b41478392ad558735889908": {
      "model_module": "@jupyter-widgets/controls",
      "model_module_version": "1.4.0",
      "model_name": "ButtonStyleModel",
      "state": {}
     },
     "8e71180ef3524fdf9ae29b423c451d48": {
      "model_module": "@jupyter-widgets/controls",
      "model_module_version": "1.4.0",
      "model_name": "VBoxModel",
      "state": {
       "children": [
        "IPY_MODEL_a7c0d5e6e9444da49c2987677a745293"
       ],
       "layout": "IPY_MODEL_80da1ccb4c804c13869f6be258513656"
      }
     },
     "8eae9065ee55489e94567865a5580872": {
      "model_module": "@jupyter-widgets/controls",
      "model_module_version": "1.4.0",
      "model_name": "HBoxModel",
      "state": {
       "children": [
        "IPY_MODEL_b34148e9147e45138002fdb03e232144",
        "IPY_MODEL_eae92b97e30c450b84ea7040c80bbf9e",
        "IPY_MODEL_3c072c4a228c4a2d86a9440ab837de69"
       ],
       "layout": "IPY_MODEL_97759ca0b17a49ad8e1d4cd96247f58a"
      }
     },
     "8ec7803e2ceb43ec97491943428a5738": {
      "model_module": "@jupyter-widgets/controls",
      "model_module_version": "1.4.0",
      "model_name": "VBoxModel",
      "state": {
       "children": [
        "IPY_MODEL_55e252cd54bf435787b7a6961d4eb70b"
       ],
       "layout": "IPY_MODEL_47beca00f01e41ceae880e7c41cfeadb"
      }
     },
     "8ee99dec17f24749a77e6ae3fadf0ba5": {
      "model_module": "@jupyter-widgets/base",
      "model_module_version": "1.1.0",
      "model_name": "LayoutModel",
      "state": {}
     },
     "8efd9dbd5ac14310a0cc697f47839a15": {
      "model_module": "@jupyter-widgets/controls",
      "model_module_version": "1.4.0",
      "model_name": "ButtonModel",
      "state": {
       "description": "Default selection",
       "layout": "IPY_MODEL_b2f718a20e76423eb44a5f8715134e47",
       "style": "IPY_MODEL_8005e2949237452e8359fccf67c87810"
      }
     },
     "8f1132a7420742f189504cf4e5de3500": {
      "model_module": "@jupyter-widgets/controls",
      "model_module_version": "1.4.0",
      "model_name": "VBoxModel",
      "state": {
       "children": [
        "IPY_MODEL_9ed67707fc284bfc9f621f874c7c6412"
       ],
       "layout": "IPY_MODEL_c30ddfbbfd954b25ab18fde09ca918db"
      }
     },
     "8f3239b606624f29815035ede0c161f4": {
      "model_module": "@jupyter-widgets/base",
      "model_module_version": "1.1.0",
      "model_name": "LayoutModel",
      "state": {
       "width": "350px"
      }
     },
     "8f51d715eedd49908d24657fae200e11": {
      "model_module": "@jupyter-widgets/base",
      "model_module_version": "1.1.0",
      "model_name": "LayoutModel",
      "state": {}
     },
     "8f62922319aa456cadbe8f84321b5fd7": {
      "model_module": "@jupyter-widgets/controls",
      "model_module_version": "1.4.0",
      "model_name": "ButtonModel",
      "state": {
       "description": "Default selection",
       "layout": "IPY_MODEL_2d03a538860744daac70ec3a566574d8",
       "style": "IPY_MODEL_c59eadbccadf4d708ae80d5afd0d8ce8"
      }
     },
     "8f6898f517db41c89ee542643045baed": {
      "model_module": "@jupyter-widgets/base",
      "model_module_version": "1.1.0",
      "model_name": "LayoutModel",
      "state": {}
     },
     "8f76af7caf93473cbf063251e1c93719": {
      "model_module": "@jupyter-widgets/base",
      "model_module_version": "1.1.0",
      "model_name": "LayoutModel",
      "state": {
       "width": "400px"
      }
     },
     "8f83b07c913f43c5b6ba5561c3d05a00": {
      "model_module": "@jupyter-widgets/controls",
      "model_module_version": "1.4.0",
      "model_name": "SelectModel",
      "state": {
       "_options_labels": [
        "MODLAND"
       ],
       "description": "QA Parameter name:",
       "index": 0,
       "layout": "IPY_MODEL_4c57b132f0404b85a4f45c8130abc953",
       "rows": 1,
       "style": "IPY_MODEL_7a0c65de3f484b21a98e4a59dfe4f54a"
      }
     },
     "8f8c6d5398e34630939973fe60cf1703": {
      "model_module": "@jupyter-widgets/controls",
      "model_module_version": "1.4.0",
      "model_name": "ButtonStyleModel",
      "state": {}
     },
     "8f9e361fef19417196b632b847cafca5": {
      "model_module": "@jupyter-widgets/controls",
      "model_module_version": "1.4.0",
      "model_name": "SelectModel",
      "state": {
       "_options_labels": [
        "MODLAND",
        "VI Usefulness",
        "Aerosol Quantity",
        "Adjacent cloud detected",
        "Atmosphere BRDF Correction",
        "Mixed Clouds",
        "Land/Water Mask",
        "Possible snow/ice",
        "Possible shadow"
       ],
       "description": "QA Parameter name:",
       "index": 0,
       "layout": "IPY_MODEL_5e81d6d94ccb41d3b11fa6c770ad4a92",
       "rows": 9,
       "style": "IPY_MODEL_ae7a997e4d96438d9742769dee049086"
      }
     },
     "8fb0a7e1480448d98802c7ef49da278a": {
      "model_module": "@jupyter-widgets/controls",
      "model_module_version": "1.4.0",
      "model_name": "HBoxModel",
      "state": {
       "children": [
        "IPY_MODEL_17680aed17ee4f29870a68981657ba8c",
        "IPY_MODEL_f8277e0399b8476d9dea0d769a620292",
        "IPY_MODEL_e3316da9f47046fcbefb0ca0dd35cabd"
       ],
       "layout": "IPY_MODEL_453aadba60534514bf836f62a873cfa6"
      }
     },
     "8fb3d373ad274e8ebbb126c45725586b": {
      "model_module": "@jupyter-widgets/controls",
      "model_module_version": "1.4.0",
      "model_name": "ButtonStyleModel",
      "state": {}
     },
     "8fd9a569208b4cca86f1e61ebb861460": {
      "model_module": "@jupyter-widgets/controls",
      "model_module_version": "1.4.0",
      "model_name": "DescriptionStyleModel",
      "state": {
       "description_width": "initial"
      }
     },
     "9049030abb914393a79255766850f866": {
      "model_module": "@jupyter-widgets/base",
      "model_module_version": "1.1.0",
      "model_name": "LayoutModel",
      "state": {
       "width": "350px"
      }
     },
     "90519339d5a346c3a7eaaf5974075e2f": {
      "model_module": "@jupyter-widgets/base",
      "model_module_version": "1.1.0",
      "model_name": "LayoutModel",
      "state": {}
     },
     "9056e51520e54ee2986ea4a932883b21": {
      "model_module": "@jupyter-widgets/controls",
      "model_module_version": "1.4.0",
      "model_name": "ButtonStyleModel",
      "state": {}
     },
     "90862690a1644e76bcfa1798322934f7": {
      "model_module": "@jupyter-widgets/base",
      "model_module_version": "1.1.0",
      "model_name": "LayoutModel",
      "state": {
       "width": "400px"
      }
     },
     "9092dcd67e704fc38f71977d4e922de9": {
      "model_module": "@jupyter-widgets/controls",
      "model_module_version": "1.4.0",
      "model_name": "SelectModel",
      "state": {
       "_options_labels": [
        "MODLAND",
        "VI Usefulness",
        "Aerosol Quantity",
        "Adjacent cloud detected",
        "Atmosphere BRDF Correction",
        "Mixed Clouds",
        "Land/Water Mask",
        "Possible snow/ice",
        "Possible shadow"
       ],
       "description": "QA Parameter name:",
       "index": 0,
       "layout": "IPY_MODEL_5b1446b240c24a7f93c5c1d5b20a53f2",
       "rows": 9,
       "style": "IPY_MODEL_ecbca6e7366f4e12ae0379a8c5895a9f"
      }
     },
     "90a1b806194f43ab8cc9bbe870d58201": {
      "model_module": "@jupyter-widgets/base",
      "model_module_version": "1.1.0",
      "model_name": "LayoutModel",
      "state": {
       "width": "50%"
      }
     },
     "90bfccce59ad4319b6a4a66207002c5f": {
      "model_module": "@jupyter-widgets/controls",
      "model_module_version": "1.4.0",
      "model_name": "DescriptionStyleModel",
      "state": {
       "description_width": "initial"
      }
     },
     "90dd00d9f2574cf095cd9bd5fe850c74": {
      "model_module": "@jupyter-widgets/controls",
      "model_module_version": "1.4.0",
      "model_name": "SelectMultipleModel",
      "state": {
       "_options_labels": [
        "Good data, use with confidence",
        "Marginal data, Useful, but look at other QA information",
        "Snow/Ice Target covered with snow/ice",
        "Cloudy data, Target not visible, covered with cloud"
       ],
       "description": "Description",
       "index": [
        0
       ],
       "layout": "IPY_MODEL_9d66e15906cf45a7b8d100e08dda53ff",
       "rows": 4,
       "style": "IPY_MODEL_d183eb9f4ca646b0918eb79e4eab8f6e"
      }
     },
     "90eeef66bbf549a4930c7a40adf1348a": {
      "model_module": "@jupyter-widgets/controls",
      "model_module_version": "1.4.0",
      "model_name": "DescriptionStyleModel",
      "state": {
       "description_width": ""
      }
     },
     "90f4b021336f4b4cbe4883fefb999473": {
      "model_module": "@jupyter-widgets/controls",
      "model_module_version": "1.4.0",
      "model_name": "ProgressStyleModel",
      "state": {
       "description_width": "initial"
      }
     },
     "914f5779e8c54b13afe4fe3166f77d65": {
      "model_module": "@jupyter-widgets/base",
      "model_module_version": "1.1.0",
      "model_name": "LayoutModel",
      "state": {}
     },
     "9165e64b44c842439dcd55f921fbe716": {
      "model_module": "@jupyter-widgets/base",
      "model_module_version": "1.1.0",
      "model_name": "LayoutModel",
      "state": {
       "width": "50%"
      }
     },
     "918c7c457e0b438fa481c3cdf72d8694": {
      "model_module": "@jupyter-widgets/controls",
      "model_module_version": "1.4.0",
      "model_name": "ButtonStyleModel",
      "state": {}
     },
     "91cad4b52db748ee9e428e02e70251f6": {
      "model_module": "@jupyter-widgets/controls",
      "model_module_version": "1.4.0",
      "model_name": "SelectMultipleModel",
      "state": {
       "_options_labels": [
        "VI produced, good quality",
        "VI produced, but check other QA",
        "Pixel produced, but most probably cloudy",
        "Pixel not produced due to other reasons than clouds"
       ],
       "description": "Description",
       "index": [
        0,
        1,
        2,
        3
       ],
       "layout": "IPY_MODEL_884eef90db484de2b501f009504d978f",
       "rows": 4,
       "style": "IPY_MODEL_933a00607823424abbd5343dd9a29b0e"
      }
     },
     "91f42e1909564d16b7fd14f3b1a74c03": {
      "model_module": "@jupyter-widgets/base",
      "model_module_version": "1.1.0",
      "model_name": "LayoutModel",
      "state": {}
     },
     "920ba9f7922142f3aca9c323e0825cc8": {
      "model_module": "@jupyter-widgets/base",
      "model_module_version": "1.1.0",
      "model_name": "LayoutModel",
      "state": {}
     },
     "92101dde13d2497ebe8967ffbbcc2933": {
      "model_module": "@jupyter-widgets/base",
      "model_module_version": "1.1.0",
      "model_name": "LayoutModel",
      "state": {}
     },
     "925c45d052e94c5ea2c3aa6e222e0e73": {
      "model_module": "@jupyter-widgets/controls",
      "model_module_version": "1.4.0",
      "model_name": "ButtonModel",
      "state": {
       "description": "QA analytics",
       "layout": "IPY_MODEL_3b7e49b740884f6597ac899512af11f0",
       "style": "IPY_MODEL_d18590cdd3e148e9ac05921978c3ac49"
      }
     },
     "9288d1b2ba09465a81ab839e5e9c0bb8": {
      "model_module": "@jupyter-widgets/controls",
      "model_module_version": "1.4.0",
      "model_name": "VBoxModel",
      "state": {
       "children": [
        "IPY_MODEL_e9358eddb9ce43a7959cee74cf907df8"
       ],
       "layout": "IPY_MODEL_6ce9925048b644a99ab070cf51dd07d5"
      }
     },
     "929457be0ec5433ea9aa52201dd5dde6": {
      "model_module": "@jupyter-widgets/base",
      "model_module_version": "1.1.0",
      "model_name": "LayoutModel",
      "state": {
       "width": "350px"
      }
     },
     "929f0137b0c94963a639daa14b860577": {
      "model_module": "@jupyter-widgets/controls",
      "model_module_version": "1.4.0",
      "model_name": "ButtonModel",
      "state": {
       "description": "Default selection",
       "layout": "IPY_MODEL_af79e66c774b4f699dc1bc5ae89300a4",
       "style": "IPY_MODEL_b2f45a6e9800476f8c7f9d5db69b923e"
      }
     },
     "92ab97ebff8e421ca6d3bdffb634b228": {
      "model_module": "@jupyter-widgets/base",
      "model_module_version": "1.1.0",
      "model_name": "LayoutModel",
      "state": {}
     },
     "92b6d4e8dd1649ebbd880a1081d99924": {
      "model_module": "@jupyter-widgets/base",
      "model_module_version": "1.1.0",
      "model_name": "LayoutModel",
      "state": {}
     },
     "92c17b07efe64eb598be8731c186bf78": {
      "model_module": "@jupyter-widgets/controls",
      "model_module_version": "1.4.0",
      "model_name": "SelectMultipleModel",
      "state": {
       "_options_labels": [
        "VI produced, good quality",
        "VI produced, but check other QA",
        "Pixel produced, but most probably cloudy",
        "Pixel not produced due to other reasons than clouds"
       ],
       "description": "Description",
       "index": [
        0
       ],
       "layout": "IPY_MODEL_c58b7c225e194868ae7afc16a49f76d1",
       "rows": 4,
       "style": "IPY_MODEL_eea431aa5758404e901e4b8a8b0020ef"
      }
     },
     "92d9d89a2ad947d5b061ca030d6d5e08": {
      "model_module": "@jupyter-widgets/base",
      "model_module_version": "1.1.0",
      "model_name": "LayoutModel",
      "state": {
       "width": "350px"
      }
     },
     "92e9bcd6834a46c9adf90601c7e3283c": {
      "model_module": "@jupyter-widgets/controls",
      "model_module_version": "1.4.0",
      "model_name": "HTMLModel",
      "state": {
       "description": "QA layer:",
       "layout": "IPY_MODEL_39d3fa30850e4e96aa7f22c1655cc341",
       "style": "IPY_MODEL_11c083c86d2b419e8f2f379206d18b10",
       "value": "<b>_1_km_16_days_VI_Quality</b>"
      }
     },
     "930c74fe121c4c889b9fed8ac880ef34": {
      "model_module": "@jupyter-widgets/controls",
      "model_module_version": "1.4.0",
      "model_name": "ProgressStyleModel",
      "state": {
       "description_width": "initial"
      }
     },
     "93192ff5326f4a00930c4b460cf749e0": {
      "model_module": "@jupyter-widgets/controls",
      "model_module_version": "1.4.0",
      "model_name": "SelectMultipleModel",
      "state": {
       "_options_labels": [
        "No",
        "Yes"
       ],
       "description": "Description",
       "index": [
        0
       ],
       "layout": "IPY_MODEL_5d5d2d0afd8b46cba4a1ef6a84f0ed2e",
       "rows": 2,
       "style": "IPY_MODEL_b89e17b512fd4c9c8c665a58442784cc"
      }
     },
     "932591a1b29242b69b6afb53a404363b": {
      "model_module": "@jupyter-widgets/base",
      "model_module_version": "1.1.0",
      "model_name": "LayoutModel",
      "state": {
       "width": "20%"
      }
     },
     "933a00607823424abbd5343dd9a29b0e": {
      "model_module": "@jupyter-widgets/controls",
      "model_module_version": "1.4.0",
      "model_name": "DescriptionStyleModel",
      "state": {
       "description_width": "initial"
      }
     },
     "934284de91cb4bca990038d831666077": {
      "model_module": "@jupyter-widgets/controls",
      "model_module_version": "1.4.0",
      "model_name": "DescriptionStyleModel",
      "state": {
       "description_width": "initial"
      }
     },
     "9399ce62d65a470c9574d782b7a4c982": {
      "model_module": "@jupyter-widgets/base",
      "model_module_version": "1.1.0",
      "model_name": "LayoutModel",
      "state": {}
     },
     "93befd0217504c818634cdf62a275347": {
      "model_module": "@jupyter-widgets/base",
      "model_module_version": "1.1.0",
      "model_name": "LayoutModel",
      "state": {
       "width": "20%"
      }
     },
     "93ddd334c215453ba041a56a4a498b4f": {
      "model_module": "@jupyter-widgets/controls",
      "model_module_version": "1.4.0",
      "model_name": "HBoxModel",
      "state": {
       "children": [
        "IPY_MODEL_865d5d75a72b4b23b864cef1c57a9af4",
        "IPY_MODEL_b50b2813672443f8a7852b909e353c86",
        "IPY_MODEL_c6acf869544f4602860af9c9e16fb026",
        "IPY_MODEL_e712a3c96b9e4389bbfdfc59e803156e"
       ],
       "layout": "IPY_MODEL_adbcf688175e4dd4a6873beefc6d2931"
      }
     },
     "93eb21918d9345f5bc2a5c5db3755983": {
      "model_module": "@jupyter-widgets/base",
      "model_module_version": "1.1.0",
      "model_name": "LayoutModel",
      "state": {}
     },
     "93facdde38bd4683bf51bca95649ed02": {
      "model_module": "@jupyter-widgets/controls",
      "model_module_version": "1.4.0",
      "model_name": "ButtonStyleModel",
      "state": {}
     },
     "94450a86e863446f8bfaa45ea461bd9b": {
      "model_module": "@jupyter-widgets/controls",
      "model_module_version": "1.4.0",
      "model_name": "HTMLModel",
      "state": {
       "description": "QA layer:",
       "layout": "IPY_MODEL_fdeb4c30776a45bb8b427760fc243339",
       "style": "IPY_MODEL_2204d94a445f40fd8e23ac9ee376437d",
       "value": "<b>_1_km_16_days_VI_Quality</b>"
      }
     },
     "945f092b9380479a968e3b30d1e88885": {
      "model_module": "@jupyter-widgets/controls",
      "model_module_version": "1.4.0",
      "model_name": "VBoxModel",
      "state": {
       "children": [
        "IPY_MODEL_dc6ef7c43dba40cdb1f28a750126b920"
       ],
       "layout": "IPY_MODEL_d89a35070a6944979d33e93f4fa83b31"
      }
     },
     "94a1dcec3ec34142b91a606a87bfe28a": {
      "model_module": "@jupyter-widgets/base",
      "model_module_version": "1.1.0",
      "model_name": "LayoutModel",
      "state": {}
     },
     "94b9d01c48cb403094b02936985d0529": {
      "model_module": "@jupyter-widgets/controls",
      "model_module_version": "1.4.0",
      "model_name": "DescriptionStyleModel",
      "state": {
       "description_width": "initial"
      }
     },
     "94dbda32a3cb425f96a87f1bb3362e97": {
      "model_module": "@jupyter-widgets/controls",
      "model_module_version": "1.4.0",
      "model_name": "ButtonStyleModel",
      "state": {}
     },
     "950472f2a95843bba84db94adf297967": {
      "model_module": "@jupyter-widgets/controls",
      "model_module_version": "1.4.0",
      "model_name": "HBoxModel",
      "state": {
       "children": [
        "IPY_MODEL_c1d86a99a4d94e0989031018dd0db047",
        "IPY_MODEL_c51ccf00cf224f8da1aa199686562613",
        "IPY_MODEL_f2fb4d944e5041dc892b29b44e75a910",
        "IPY_MODEL_7d6f139aab56461e86ffc2b2832ff9a5"
       ],
       "layout": "IPY_MODEL_11e5bae68a9d42d19647897c53e1244c"
      }
     },
     "952bb0af5a3e455b8f5574a8bd67a000": {
      "model_module": "@jupyter-widgets/controls",
      "model_module_version": "1.4.0",
      "model_name": "ButtonStyleModel",
      "state": {}
     },
     "953d61d27f2a4a82a6751b418304f624": {
      "model_module": "@jupyter-widgets/controls",
      "model_module_version": "1.4.0",
      "model_name": "VBoxModel",
      "state": {
       "children": [
        "IPY_MODEL_264112a1921c4cb4a91516a009535fad"
       ],
       "layout": "IPY_MODEL_45f99bd1aad4425cbec22207429af8d9"
      }
     },
     "954fc36289c94d8d9b0932074c9c5b5c": {
      "model_module": "@jupyter-widgets/base",
      "model_module_version": "1.1.0",
      "model_name": "LayoutModel",
      "state": {
       "width": "20%"
      }
     },
     "9559301433194b4997347b0388a57f6f": {
      "model_module": "@jupyter-widgets/controls",
      "model_module_version": "1.4.0",
      "model_name": "ButtonModel",
      "state": {
       "description": "Default selection",
       "layout": "IPY_MODEL_64454f71f4844e6da3edb580d05149a4",
       "style": "IPY_MODEL_bbaf5fa32fe94494b69588857d69e90b"
      }
     },
     "9569ab31c9ae47c087fedef5ef40f43f": {
      "model_module": "@jupyter-widgets/controls",
      "model_module_version": "1.4.0",
      "model_name": "DescriptionStyleModel",
      "state": {
       "description_width": "initial"
      }
     },
     "956b8232871148c599b1b8acd59c987b": {
      "model_module": "@jupyter-widgets/base",
      "model_module_version": "1.1.0",
      "model_name": "LayoutModel",
      "state": {}
     },
     "957c290faa3d42acb759ee9572af4b3e": {
      "model_module": "@jupyter-widgets/controls",
      "model_module_version": "1.4.0",
      "model_name": "VBoxModel",
      "state": {
       "children": [
        "IPY_MODEL_5f084b6f12de4a56a08e9204f6ab1d77"
       ],
       "layout": "IPY_MODEL_4827f07116694afe8520bc17cb57897c"
      }
     },
     "9583f87bddaf46239f4d88fa676c4b00": {
      "model_module": "@jupyter-widgets/base",
      "model_module_version": "1.1.0",
      "model_name": "LayoutModel",
      "state": {
       "width": "20%"
      }
     },
     "959892dec6cb406dbf4961cd324591f5": {
      "model_module": "@jupyter-widgets/controls",
      "model_module_version": "1.4.0",
      "model_name": "ButtonStyleModel",
      "state": {}
     },
     "95aa62d5383349f0891e4b270b8aaf3d": {
      "model_module": "@jupyter-widgets/controls",
      "model_module_version": "1.4.0",
      "model_name": "ButtonModel",
      "state": {
       "description": "Select ALL",
       "layout": "IPY_MODEL_d5f2886c34d84ec390792a0a11a56174",
       "style": "IPY_MODEL_2a220d8bcbc04eaaa506020f594cd136"
      }
     },
     "95b1ba3befef4e498240412e92d279c3": {
      "model_module": "@jupyter-widgets/base",
      "model_module_version": "1.1.0",
      "model_name": "LayoutModel",
      "state": {}
     },
     "95bee077fed94f94b64c866894bd461d": {
      "model_module": "@jupyter-widgets/controls",
      "model_module_version": "1.4.0",
      "model_name": "DescriptionStyleModel",
      "state": {
       "description_width": ""
      }
     },
     "95e60c245d294f2d8e7e0f9e19d02e1b": {
      "model_module": "@jupyter-widgets/base",
      "model_module_version": "1.1.0",
      "model_name": "LayoutModel",
      "state": {
       "height": "300px",
       "width": "99%"
      }
     },
     "95f50222990a48fdb7691ca85a7bc6a4": {
      "model_module": "@jupyter-widgets/controls",
      "model_module_version": "1.4.0",
      "model_name": "ProgressStyleModel",
      "state": {
       "description_width": "initial"
      }
     },
     "96033b897acb4b4fbdc07676bd2c7284": {
      "model_module": "@jupyter-widgets/controls",
      "model_module_version": "1.4.0",
      "model_name": "VBoxModel",
      "state": {
       "children": [
        "IPY_MODEL_0dfffa79b7eb4a1b909cbd17daa98179"
       ],
       "layout": "IPY_MODEL_ca87cdfe5c054eb294cd28ad9fc8bef2"
      }
     },
     "960a39e8271f483cabdfcbd917af2dfd": {
      "model_module": "@jupyter-widgets/controls",
      "model_module_version": "1.4.0",
      "model_name": "ButtonModel",
      "state": {
       "description": "Default selection",
       "layout": "IPY_MODEL_bd363e52ab5445a1bb1914473da0718a",
       "style": "IPY_MODEL_74017d2d2461428e864a354d2ce166e2"
      }
     },
     "9618e3481d51475aa61c28533b709608": {
      "model_module": "@jupyter-widgets/base",
      "model_module_version": "1.1.0",
      "model_name": "LayoutModel",
      "state": {
       "height": "350px",
       "width": "99%"
      }
     },
     "962dd78b5e6c49f899231c6731df23ed": {
      "model_module": "@jupyter-widgets/base",
      "model_module_version": "1.1.0",
      "model_name": "LayoutModel",
      "state": {
       "width": "20%"
      }
     },
     "965cc0b374944f7e94f9f56e4f8b27f7": {
      "model_module": "@jupyter-widgets/controls",
      "model_module_version": "1.4.0",
      "model_name": "HBoxModel",
      "state": {
       "children": [
        "IPY_MODEL_da5da6bd3060480faa51ee678c64df09",
        "IPY_MODEL_3551277058f745198282e3cf08bb6251"
       ],
       "layout": "IPY_MODEL_9ce2db0dc08644afba1c25d8d7e36535"
      }
     },
     "96651f0c9a1844a9a7b8572c9b145310": {
      "model_module": "@jupyter-widgets/base",
      "model_module_version": "1.1.0",
      "model_name": "LayoutModel",
      "state": {}
     },
     "96654593b8a94607b5ac74233e15820e": {
      "model_module": "@jupyter-widgets/controls",
      "model_module_version": "1.4.0",
      "model_name": "DescriptionStyleModel",
      "state": {
       "description_width": "initial"
      }
     },
     "96bdfeedc9454f3fa37c3c6c8fd89952": {
      "model_module": "@jupyter-widgets/controls",
      "model_module_version": "1.4.0",
      "model_name": "ButtonModel",
      "state": {
       "description": "Default selection",
       "layout": "IPY_MODEL_8d3b7905995a474383b06b53f7c090c4",
       "style": "IPY_MODEL_4d17a2e6a10e48bfb68b376e7e008844"
      }
     },
     "9714d8ea17b746ae8d69c69eab6b3ae4": {
      "model_module": "@jupyter-widgets/controls",
      "model_module_version": "1.4.0",
      "model_name": "VBoxModel",
      "state": {
       "children": [
        "IPY_MODEL_11722d9a1eb84b81a268257afa24a43d"
       ],
       "layout": "IPY_MODEL_2347bf544a214f318eb79a011784d54e"
      }
     },
     "9743688332034e83aa6c7f5c8d18806d": {
      "model_module": "@jupyter-widgets/controls",
      "model_module_version": "1.4.0",
      "model_name": "SelectModel",
      "state": {
       "_options_labels": [
        "MODLAND"
       ],
       "description": "QA Parameter name:",
       "index": 0,
       "layout": "IPY_MODEL_69e7d8d94aa24c4b9304cfaa58ee723a",
       "rows": 1,
       "style": "IPY_MODEL_a2cabfabd8f449e191d7d10550caf663"
      }
     },
     "974bb8709fa54253b04084c19bc946ed": {
      "model_module": "@jupyter-widgets/controls",
      "model_module_version": "1.4.0",
      "model_name": "DescriptionStyleModel",
      "state": {
       "description_width": "initial"
      }
     },
     "9759accb8ca74699b04835a73b0a38a2": {
      "model_module": "@jupyter-widgets/controls",
      "model_module_version": "1.4.0",
      "model_name": "SelectMultipleModel",
      "state": {
       "_options_labels": [
        "No",
        "Yes"
       ],
       "description": "Description",
       "index": [
        0,
        1
       ],
       "layout": "IPY_MODEL_551a83dd3fe448ff915fb5bd9a3b5b51",
       "rows": 2,
       "style": "IPY_MODEL_727b31ee67554957a12f374f12446ea5"
      }
     },
     "9771736f26714ff59c6c130f5feb21d5": {
      "model_module": "@jupyter-widgets/controls",
      "model_module_version": "1.4.0",
      "model_name": "HTMLModel",
      "state": {
       "description": "QA layer:",
       "layout": "IPY_MODEL_09efffc7584242fea9da9e6fcc612eab",
       "style": "IPY_MODEL_8c9fb151fbc04c218bcb5cae834c9902",
       "value": "<b>_1_km_16_days_VI_Quality</b>"
      }
     },
     "9772246476b5447b866afa4a3abdd167": {
      "model_module": "@jupyter-widgets/controls",
      "model_module_version": "1.4.0",
      "model_name": "VBoxModel",
      "state": {
       "children": [
        "IPY_MODEL_8a248a57851045b0ba8a7c60f642b5cb"
       ],
       "layout": "IPY_MODEL_6822cf64342f43f5a34b94c95dd84302"
      }
     },
     "97759ca0b17a49ad8e1d4cd96247f58a": {
      "model_module": "@jupyter-widgets/base",
      "model_module_version": "1.1.0",
      "model_name": "LayoutModel",
      "state": {}
     },
     "97b59966679441669f227cb3118bb5a8": {
      "model_module": "@jupyter-widgets/base",
      "model_module_version": "1.1.0",
      "model_name": "LayoutModel",
      "state": {
       "width": "30%"
      }
     },
     "988c0265008049f1971e848606a62ac9": {
      "model_module": "@jupyter-widgets/base",
      "model_module_version": "1.1.0",
      "model_name": "LayoutModel",
      "state": {}
     },
     "9891e4888b9a469bb943cafb884892d5": {
      "model_module": "@jupyter-widgets/controls",
      "model_module_version": "1.4.0",
      "model_name": "DescriptionStyleModel",
      "state": {
       "description_width": "initial"
      }
     },
     "98ad305165f64a4cb64ccb95177681be": {
      "model_module": "@jupyter-widgets/controls",
      "model_module_version": "1.4.0",
      "model_name": "VBoxModel",
      "state": {
       "children": [
        "IPY_MODEL_037109c2e2cc45fb847cb71d91e09946"
       ],
       "layout": "IPY_MODEL_c34fe0b7df18477cb0aa4c7b2ef160e5"
      }
     },
     "98c047fee8f74a23bc256ef5848ba52e": {
      "model_module": "@jupyter-widgets/controls",
      "model_module_version": "1.4.0",
      "model_name": "ButtonModel",
      "state": {
       "description": "Default selection",
       "layout": "IPY_MODEL_5acaef2fd45841fbb39906bee1aefd4b",
       "style": "IPY_MODEL_1ada5af6993e484b833110c65d7406e3"
      }
     },
     "98c8aa49e3314551a2a66ee9978ed0cd": {
      "model_module": "@jupyter-widgets/controls",
      "model_module_version": "1.4.0",
      "model_name": "ButtonModel",
      "state": {
       "description": "Create mask and max gap length",
       "layout": "IPY_MODEL_d77a030125284d20a2aed0c9051ef52a",
       "style": "IPY_MODEL_cedbfb480fae47d09300060c38e0b3ca"
      }
     },
     "98cdc8aa76b34954b1a5dc9b16202fea": {
      "model_module": "@jupyter-widgets/base",
      "model_module_version": "1.1.0",
      "model_name": "LayoutModel",
      "state": {
       "height": "300px",
       "width": "99%"
      }
     },
     "98d24a0c94e844d991bb856f894686f6": {
      "model_module": "@jupyter-widgets/controls",
      "model_module_version": "1.4.0",
      "model_name": "ProgressStyleModel",
      "state": {
       "description_width": "initial"
      }
     },
     "98d68d0aaaa944c18cf4fea2a6d73c7c": {
      "model_module": "@jupyter-widgets/base",
      "model_module_version": "1.1.0",
      "model_name": "LayoutModel",
      "state": {}
     },
     "9911ca01d5b84f3caca818db56ea0498": {
      "model_module": "@jupyter-widgets/controls",
      "model_module_version": "1.4.0",
      "model_name": "HBoxModel",
      "state": {
       "children": [
        "IPY_MODEL_953d61d27f2a4a82a6751b418304f624",
        "IPY_MODEL_8f1132a7420742f189504cf4e5de3500"
       ],
       "layout": "IPY_MODEL_8b7b69eac62341de9e98500e1ed35b43"
      }
     },
     "99572f3a064b4dc8bd985caab306d80f": {
      "model_module": "@jupyter-widgets/controls",
      "model_module_version": "1.4.0",
      "model_name": "ButtonStyleModel",
      "state": {}
     },
     "995b679499954ac6a36cef35284b0991": {
      "model_module": "@jupyter-widgets/controls",
      "model_module_version": "1.4.0",
      "model_name": "HTMLModel",
      "state": {
       "description": "QA layer:",
       "layout": "IPY_MODEL_8ee99dec17f24749a77e6ae3fadf0ba5",
       "style": "IPY_MODEL_eaf6e5b37029410697f9b50b14bf7fd2",
       "value": "<b>_1_km_16_days_VI_Quality</b>"
      }
     },
     "99687474083446e79f611aa970875735": {
      "model_module": "@jupyter-widgets/base",
      "model_module_version": "1.1.0",
      "model_name": "LayoutModel",
      "state": {}
     },
     "9968963eda7c43528d47a8e1db964bc1": {
      "model_module": "@jupyter-widgets/base",
      "model_module_version": "1.1.0",
      "model_name": "LayoutModel",
      "state": {
       "width": "400px"
      }
     },
     "997019bd7b7c464ca54309f9c2e6cf66": {
      "model_module": "@jupyter-widgets/controls",
      "model_module_version": "1.4.0",
      "model_name": "HTMLModel",
      "state": {
       "description": "QA layer:",
       "layout": "IPY_MODEL_7a552c11d658460b83aac29591860869",
       "style": "IPY_MODEL_adbc46a536244d87a751ce931145b450",
       "value": "<b>_1_km_16_days_VI_Quality</b>"
      }
     },
     "997a1dea6575423a9a09d253539053d4": {
      "model_module": "@jupyter-widgets/controls",
      "model_module_version": "1.4.0",
      "model_name": "ProgressStyleModel",
      "state": {
       "description_width": "initial"
      }
     },
     "998ae835209148b2b30b5d97fe2a0a29": {
      "model_module": "@jupyter-widgets/controls",
      "model_module_version": "1.4.0",
      "model_name": "ButtonStyleModel",
      "state": {}
     },
     "999e99640b6b4854a9b042bc9bf2abc6": {
      "model_module": "@jupyter-widgets/controls",
      "model_module_version": "1.4.0",
      "model_name": "ButtonStyleModel",
      "state": {}
     },
     "99c3ab84e1f540a9a09d134819b2ba3f": {
      "model_module": "@jupyter-widgets/controls",
      "model_module_version": "1.4.0",
      "model_name": "HBoxModel",
      "state": {
       "children": [
        "IPY_MODEL_d07e538bad6b469e928ea878bdc8e476",
        "IPY_MODEL_2a0c8e8b1e384803bb0aeb1ee8deba91",
        "IPY_MODEL_7b783190c2eb4002a1ee19a7cbab0149",
        "IPY_MODEL_5f2b6b1c8fd14f1d87944f8db5afca5f",
        "IPY_MODEL_6f5c889c62b94f1d94dd512fd4ffc7cf"
       ],
       "layout": "IPY_MODEL_a963dc3dc54c48eea7bc73af8be909c2"
      }
     },
     "99cf3acd58764e2daee66c230c13631b": {
      "model_module": "@jupyter-widgets/controls",
      "model_module_version": "1.4.0",
      "model_name": "ButtonStyleModel",
      "state": {}
     },
     "99de7d72fbd143f0b96f5ef97328a8a2": {
      "model_module": "@jupyter-widgets/base",
      "model_module_version": "1.1.0",
      "model_name": "LayoutModel",
      "state": {}
     },
     "9a147b0d1b1643d3bf3e55770002353b": {
      "model_module": "@jupyter-widgets/controls",
      "model_module_version": "1.4.0",
      "model_name": "IntProgressModel",
      "state": {
       "description": "Computing max gap length...",
       "layout": "IPY_MODEL_6a81f8f34c644bdf915d7cba7633dc3c",
       "max": 10,
       "style": "IPY_MODEL_f907fc73ba9546889d549f9b241b57e3"
      }
     },
     "9a16f1e216f44ccd8281ee224ffd1474": {
      "model_module": "@jupyter-widgets/base",
      "model_module_version": "1.1.0",
      "model_name": "LayoutModel",
      "state": {}
     },
     "9a69698e79cb417a99e1ff80209bf140": {
      "model_module": "@jupyter-widgets/controls",
      "model_module_version": "1.4.0",
      "model_name": "HBoxModel",
      "state": {
       "children": [
        "IPY_MODEL_2202afdaa02c48ac9ec0f355d66a0afa",
        "IPY_MODEL_89fe34c39d72404eaaa4f9513e078f1c"
       ],
       "layout": "IPY_MODEL_b82a4f004ea04779822b792a623542aa"
      }
     },
     "9a7aca9ba36146c1ac4604fe94363bb3": {
      "model_module": "@jupyter-widgets/base",
      "model_module_version": "1.1.0",
      "model_name": "LayoutModel",
      "state": {
       "width": "30%"
      }
     },
     "9ae80a992b94425d91bd5dbe97cbd3ac": {
      "model_module": "@jupyter-widgets/base",
      "model_module_version": "1.1.0",
      "model_name": "LayoutModel",
      "state": {}
     },
     "9affa3259f2b4e1e8ce05643430e7736": {
      "model_module": "@jupyter-widgets/controls",
      "model_module_version": "1.4.0",
      "model_name": "VBoxModel",
      "state": {
       "children": [
        "IPY_MODEL_e710ed0815c441dea0d43e97f2ef1225"
       ],
       "layout": "IPY_MODEL_bd127322654043c0a5f37eb895b38c7e"
      }
     },
     "9b2912b9df1b4a76ada2d16e528cf2c1": {
      "model_module": "@jupyter-widgets/controls",
      "model_module_version": "1.4.0",
      "model_name": "VBoxModel",
      "state": {
       "children": [
        "IPY_MODEL_aa5bfc70906545488d2b1b6a316aa7c8"
       ],
       "layout": "IPY_MODEL_0f2fe90ad3794b9984f13998b8dda9fe"
      }
     },
     "9b7add23f6a44bbc95265a91f24427e3": {
      "model_module": "@jupyter-widgets/controls",
      "model_module_version": "1.4.0",
      "model_name": "HTMLModel",
      "state": {
       "description": "QA layer:",
       "layout": "IPY_MODEL_a892a29e65bc4eb99fa6e73c23657d08",
       "style": "IPY_MODEL_49e69b7701194554abbb4854640ecd2d",
       "value": "<b>_1_km_16_days_VI_Quality</b>"
      }
     },
     "9bf6c2a7278840509f5c6526da783bf7": {
      "model_module": "@jupyter-widgets/base",
      "model_module_version": "1.1.0",
      "model_name": "LayoutModel",
      "state": {}
     },
     "9c14c90c08474111bf7581eb4d102773": {
      "model_module": "@jupyter-widgets/controls",
      "model_module_version": "1.4.0",
      "model_name": "VBoxModel",
      "state": {
       "children": [
        "IPY_MODEL_ea57fe6238864f64922edad10e1ea267"
       ],
       "layout": "IPY_MODEL_e5b2d005e6bd48d8bdc57c3db38b69f6"
      }
     },
     "9c2f748dd38347af817f01eaa4b1e35e": {
      "model_module": "@jupyter-widgets/controls",
      "model_module_version": "1.4.0",
      "model_name": "HBoxModel",
      "state": {
       "children": [
        "IPY_MODEL_f0fbbc4e03004a8eacbf2d306504c9dd",
        "IPY_MODEL_86b2fbf937fc47a1a285e3b0f1896154",
        "IPY_MODEL_b062072f98394c48b50039f1638693d6"
       ],
       "layout": "IPY_MODEL_086ddf4760514770be93e4c3062c0e2a"
      }
     },
     "9cb59ab36152487c80c255ca677829c0": {
      "model_module": "@jupyter-widgets/base",
      "model_module_version": "1.1.0",
      "model_name": "LayoutModel",
      "state": {}
     },
     "9ce2db0dc08644afba1c25d8d7e36535": {
      "model_module": "@jupyter-widgets/base",
      "model_module_version": "1.1.0",
      "model_name": "LayoutModel",
      "state": {
       "height": "200px",
       "width": "99%"
      }
     },
     "9ce687bb65e64e4cb5b51675f2b6c4f7": {
      "model_module": "@jupyter-widgets/controls",
      "model_module_version": "1.4.0",
      "model_name": "ButtonModel",
      "state": {
       "description": "Select ALL",
       "layout": "IPY_MODEL_a70b57df69ca4ca883cff7e6b56bc4c2",
       "style": "IPY_MODEL_01f1e5006e0b47e8ae60e1a532ace08b"
      }
     },
     "9cf6ed325e5f496ebaeda994d4ac4503": {
      "model_module": "@jupyter-widgets/controls",
      "model_module_version": "1.4.0",
      "model_name": "ButtonModel",
      "state": {
       "description": "Select ALL",
       "layout": "IPY_MODEL_b736d2717b8f4822867a12751a520128",
       "style": "IPY_MODEL_afe5f7d54973483ba4ad2472becf9012"
      }
     },
     "9d123fb8be38401b9cf2adac2a8c4463": {
      "model_module": "@jupyter-widgets/controls",
      "model_module_version": "1.4.0",
      "model_name": "DescriptionStyleModel",
      "state": {
       "description_width": "initial"
      }
     },
     "9d23418ccd894690a5abed9e144c2abd": {
      "model_module": "@jupyter-widgets/base",
      "model_module_version": "1.1.0",
      "model_name": "LayoutModel",
      "state": {}
     },
     "9d4410b927e4426f9cf4eed2df129d82": {
      "model_module": "@jupyter-widgets/base",
      "model_module_version": "1.1.0",
      "model_name": "LayoutModel",
      "state": {
       "width": "400px"
      }
     },
     "9d66e15906cf45a7b8d100e08dda53ff": {
      "model_module": "@jupyter-widgets/base",
      "model_module_version": "1.1.0",
      "model_name": "LayoutModel",
      "state": {
       "width": "400px"
      }
     },
     "9d70a5fded6143f6b7734f7ab8d5eae9": {
      "model_module": "@jupyter-widgets/controls",
      "model_module_version": "1.4.0",
      "model_name": "HBoxModel",
      "state": {
       "children": [
        "IPY_MODEL_a19c32162792415491aba390dbef743d",
        "IPY_MODEL_e6c32407b25a47709440802adc753a50",
        "IPY_MODEL_fda36595450e4b7e89fc7101e36dd76b",
        "IPY_MODEL_3a00d78c49854041893f2e0596a8da9e"
       ],
       "layout": "IPY_MODEL_58e185423b094877b2bec8ab4fae0073"
      }
     },
     "9d7113f31bd74ea4b0ee2128f5e290ca": {
      "model_module": "@jupyter-widgets/base",
      "model_module_version": "1.1.0",
      "model_name": "LayoutModel",
      "state": {
       "width": "20%"
      }
     },
     "9d723fe165f1403dab0bab6ba161067d": {
      "model_module": "@jupyter-widgets/controls",
      "model_module_version": "1.4.0",
      "model_name": "ButtonModel",
      "state": {
       "description": "Default selection",
       "layout": "IPY_MODEL_5db78c4d230d4b5e9fc0fa8a07d59c12",
       "style": "IPY_MODEL_5fdbc68a208a47e4a29532ad54ded650"
      }
     },
     "9d7e3802bb054f2295e930d57caef346": {
      "model_module": "@jupyter-widgets/controls",
      "model_module_version": "1.4.0",
      "model_name": "HTMLModel",
      "state": {
       "description": "QA layer:",
       "layout": "IPY_MODEL_4d08613da8314ca2a6bfaef9becc7a8b",
       "style": "IPY_MODEL_8324b74168ac4fa6a93336a8b042f54e",
       "value": "<b>_1_km_16_days_VI_Quality</b>"
      }
     },
     "9dbc63a8a9194f34ab0b0c2f30255c14": {
      "model_module": "@jupyter-widgets/base",
      "model_module_version": "1.1.0",
      "model_name": "LayoutModel",
      "state": {
       "height": "300px",
       "width": "99%"
      }
     },
     "9dc04b4c7dac40fd973a5aee71b334cd": {
      "model_module": "@jupyter-widgets/controls",
      "model_module_version": "1.4.0",
      "model_name": "SelectMultipleModel",
      "state": {
       "_options_labels": [
        "VI produced, good quality",
        "VI produced, but check other QA",
        "Pixel produced, but most probably cloudy",
        "Pixel not produced due to other reasons than clouds"
       ],
       "description": "Description",
       "index": [
        0
       ],
       "layout": "IPY_MODEL_50038abcc552438cb69a324e48a81e1a",
       "rows": 4,
       "style": "IPY_MODEL_228ceb9dbe0f485fbe4bc2d17ab40e0e"
      }
     },
     "9de02dd1bb30437d9c0b1e5ebd95e69b": {
      "model_module": "@jupyter-widgets/base",
      "model_module_version": "1.1.0",
      "model_name": "LayoutModel",
      "state": {
       "width": "400px"
      }
     },
     "9e2fb3e321444ecf811d5254cc4b6f80": {
      "model_module": "@jupyter-widgets/controls",
      "model_module_version": "1.4.0",
      "model_name": "SelectModel",
      "state": {
       "_options_labels": [
        "MODLAND",
        "VI Usefulness",
        "Aerosol Quantity",
        "Adjacent cloud detected",
        "Atmosphere BRDF Correction",
        "Mixed Clouds",
        "Land/Water Mask",
        "Possible snow/ice",
        "Possible shadow"
       ],
       "description": "QA Parameter name:",
       "index": 0,
       "layout": "IPY_MODEL_f1b688e8bf40459683ec0d1259a151d1",
       "rows": 9,
       "style": "IPY_MODEL_edb2ed43f53a4ea096c256e91ea187bb"
      }
     },
     "9e5685e95d7a48c08fcd6f954eb29b58": {
      "model_module": "@jupyter-widgets/controls",
      "model_module_version": "1.4.0",
      "model_name": "VBoxModel",
      "state": {
       "children": [
        "IPY_MODEL_e7219d41124843a6a1f2484e362f99ee"
       ],
       "layout": "IPY_MODEL_81849b374fba42e4ac1632427b611044"
      }
     },
     "9e5d119f74c94544a2b3af0e49c6c28c": {
      "model_module": "@jupyter-widgets/base",
      "model_module_version": "1.1.0",
      "model_name": "LayoutModel",
      "state": {
       "height": "300px",
       "width": "99%"
      }
     },
     "9e714ee398ec4271b99bf554064fee1f": {
      "model_module": "@jupyter-widgets/controls",
      "model_module_version": "1.4.0",
      "model_name": "ButtonModel",
      "state": {
       "description": "Select ALL",
       "layout": "IPY_MODEL_d7b5b7034f744be6ac802b05a7f9d487",
       "style": "IPY_MODEL_fbce0a3501c04c01b5be8c6e7fd80c3f"
      }
     },
     "9e7e45ce8f8f4ae08e4ceddaed2c0f3e": {
      "model_module": "@jupyter-widgets/controls",
      "model_module_version": "1.4.0",
      "model_name": "VBoxModel",
      "state": {
       "children": [
        "IPY_MODEL_1f7684738bf347458fa06ee6018f79c5"
       ],
       "layout": "IPY_MODEL_c779139728bc4da593518f855c8a7d42"
      }
     },
     "9eba561f64d141ee990373341574daee": {
      "model_module": "@jupyter-widgets/controls",
      "model_module_version": "1.4.0",
      "model_name": "DescriptionStyleModel",
      "state": {
       "description_width": "initial"
      }
     },
     "9ecba8087d934f27a0e0e54088cb7994": {
      "model_module": "@jupyter-widgets/controls",
      "model_module_version": "1.4.0",
      "model_name": "VBoxModel",
      "state": {
       "children": [
        "IPY_MODEL_9e2fb3e321444ecf811d5254cc4b6f80"
       ],
       "layout": "IPY_MODEL_e4af34dfdc9c4211a64463439ee76043"
      }
     },
     "9ed67707fc284bfc9f621f874c7c6412": {
      "model_module": "@jupyter-widgets/controls",
      "model_module_version": "1.4.0",
      "model_name": "SelectMultipleModel",
      "state": {
       "_options_labels": [
        "VI produced, good quality",
        "VI produced, but check other QA",
        "Pixel produced, but most probably cloudy",
        "Pixel not produced due to other reasons than clouds"
       ],
       "description": "Description",
       "index": [
        0
       ],
       "layout": "IPY_MODEL_f7ce89c0318b47e08df875d2a4d9715c",
       "rows": 4,
       "style": "IPY_MODEL_8cb2217adddb4fbbb1f1e9c307f9c55a"
      }
     },
     "9efd796111e3424f9438f3acdbe40c80": {
      "model_module": "@jupyter-widgets/base",
      "model_module_version": "1.1.0",
      "model_name": "LayoutModel",
      "state": {
       "width": "350px"
      }
     },
     "9f1495f28bfd4144a8e939badbbd1352": {
      "model_module": "@jupyter-widgets/base",
      "model_module_version": "1.1.0",
      "model_name": "LayoutModel",
      "state": {}
     },
     "9f20245641334288bc287baabcacb6ce": {
      "model_module": "@jupyter-widgets/controls",
      "model_module_version": "1.4.0",
      "model_name": "VBoxModel",
      "state": {
       "children": [
        "IPY_MODEL_07cd8d62d7e0437a9bdbf418326a94aa"
       ],
       "layout": "IPY_MODEL_c1aed131da824eb7b4a332611ab79439"
      }
     },
     "9f5f58d71de44443b4fb9cf79ffa87db": {
      "model_module": "@jupyter-widgets/base",
      "model_module_version": "1.1.0",
      "model_name": "LayoutModel",
      "state": {}
     },
     "9f6918f3ae8c4f78990990157c61d328": {
      "model_module": "@jupyter-widgets/controls",
      "model_module_version": "1.4.0",
      "model_name": "DescriptionStyleModel",
      "state": {
       "description_width": ""
      }
     },
     "9f6e2182cb204146b1f02ab950ce195d": {
      "model_module": "@jupyter-widgets/controls",
      "model_module_version": "1.4.0",
      "model_name": "SelectMultipleModel",
      "state": {
       "_options_labels": [
        "Good data, use with confidence",
        "Marginal data, Useful, but look at other QA information",
        "Snow/Ice Target covered with snow/ice",
        "Cloudy data, Target not visible, covered with cloud"
       ],
       "description": "Description",
       "index": [
        0,
        1
       ],
       "layout": "IPY_MODEL_b60d37269f6b4e7c915b4c257d952376",
       "rows": 4,
       "style": "IPY_MODEL_e6056ff3b2224e0e9384f9253359dd3c"
      }
     },
     "9fb7ac70b9e949bda5859962e0518365": {
      "model_module": "@jupyter-widgets/base",
      "model_module_version": "1.1.0",
      "model_name": "LayoutModel",
      "state": {
       "width": "400px"
      }
     },
     "9fc3d10736134f0687fef32f9c7638bb": {
      "model_module": "@jupyter-widgets/controls",
      "model_module_version": "1.4.0",
      "model_name": "SelectModel",
      "state": {
       "_options_labels": [
        "MODLAND",
        "VI Usefulness",
        "Aerosol Quantity",
        "Adjacent cloud detected",
        "Atmosphere BRDF Correction",
        "Mixed Clouds",
        "Land/Water Mask",
        "Possible snow/ice",
        "Possible shadow"
       ],
       "description": "QA Parameter name:",
       "index": 0,
       "layout": "IPY_MODEL_e36660d93b8047728a1d8e0db312ded0",
       "rows": 9,
       "style": "IPY_MODEL_aaaed25475b14c35b955a52ea85a6180"
      }
     },
     "a002be20c79044db8718a47ba3ddf2d3": {
      "model_module": "@jupyter-widgets/controls",
      "model_module_version": "1.4.0",
      "model_name": "SelectMultipleModel",
      "state": {
       "_options_labels": [
        "VI produced, good quality",
        "VI produced, but check other QA",
        "Pixel produced, but most probably cloudy",
        "Pixel not produced due to other reasons than clouds"
       ],
       "description": "Description",
       "index": [
        0
       ],
       "layout": "IPY_MODEL_266c4a07dec245d698e3656b8a78a9a8",
       "rows": 4,
       "style": "IPY_MODEL_3386ccc9581e4874b6f426375112e0f4"
      }
     },
     "a00f3801f8c147cdb7cc41889a66c09e": {
      "model_module": "@jupyter-widgets/base",
      "model_module_version": "1.1.0",
      "model_name": "LayoutModel",
      "state": {}
     },
     "a03a7c46090c4283a56dd740716f5266": {
      "model_module": "@jupyter-widgets/controls",
      "model_module_version": "1.4.0",
      "model_name": "ButtonStyleModel",
      "state": {}
     },
     "a0590c75f52c4816b053bba563b67d07": {
      "model_module": "@jupyter-widgets/base",
      "model_module_version": "1.1.0",
      "model_name": "LayoutModel",
      "state": {
       "width": "400px"
      }
     },
     "a0737f03d36f45ec9297c37805b1f780": {
      "model_module": "@jupyter-widgets/controls",
      "model_module_version": "1.4.0",
      "model_name": "SelectModel",
      "state": {
       "_options_labels": [
        "MODLAND",
        "VI Usefulness",
        "Aerosol Quantity",
        "Adjacent cloud detected",
        "Atmosphere BRDF Correction",
        "Mixed Clouds",
        "Land/Water Mask",
        "Possible snow/ice",
        "Possible shadow"
       ],
       "description": "QA Parameter name:",
       "index": 0,
       "layout": "IPY_MODEL_d7634c8e99324dd18d104466e974a5c7",
       "rows": 9,
       "style": "IPY_MODEL_be1925841d3d4a90aa0c83ee5a9ad47a"
      }
     },
     "a09cd3b9c5c44bc2936deb28da726826": {
      "model_module": "@jupyter-widgets/controls",
      "model_module_version": "1.4.0",
      "model_name": "DescriptionStyleModel",
      "state": {
       "description_width": "initial"
      }
     },
     "a0ab3fa7d74445e6bdd2b644285bda33": {
      "model_module": "@jupyter-widgets/controls",
      "model_module_version": "1.4.0",
      "model_name": "VBoxModel",
      "state": {
       "children": [
        "IPY_MODEL_b7bf2ae98c7740caa668f1d6f4abbb16"
       ],
       "layout": "IPY_MODEL_025f9c35ec5542fca8951ef2e04984bf"
      }
     },
     "a0d8eb47340340f2901f6c5154615b67": {
      "model_module": "@jupyter-widgets/controls",
      "model_module_version": "1.4.0",
      "model_name": "DescriptionStyleModel",
      "state": {
       "description_width": "initial"
      }
     },
     "a1105c87cbfc49d89bb6181832302945": {
      "model_module": "@jupyter-widgets/base",
      "model_module_version": "1.1.0",
      "model_name": "LayoutModel",
      "state": {
       "width": "20%"
      }
     },
     "a126d403dde5434d80d5108b207473e4": {
      "model_module": "@jupyter-widgets/controls",
      "model_module_version": "1.4.0",
      "model_name": "DescriptionStyleModel",
      "state": {
       "description_width": "initial"
      }
     },
     "a145a18415b54cebb89da5b4c38dcdf1": {
      "model_module": "@jupyter-widgets/controls",
      "model_module_version": "1.4.0",
      "model_name": "VBoxModel",
      "state": {
       "children": [
        "IPY_MODEL_7469c4ebecb547d9b88488d055a35631"
       ],
       "layout": "IPY_MODEL_8611fbe5bd9f402d9ff45cf8f7a5f70f"
      }
     },
     "a14be49e2e624059aea8e0ca0d883109": {
      "model_module": "@jupyter-widgets/controls",
      "model_module_version": "1.4.0",
      "model_name": "ButtonModel",
      "state": {
       "description": "Select ALL",
       "layout": "IPY_MODEL_2e0fa5774b1d4b0f89b379eaba7865cc",
       "style": "IPY_MODEL_5b7f8d15f07c458da82fa6c1211d9a04"
      }
     },
     "a16effd177ca4a349d1ca4d31330233e": {
      "model_module": "@jupyter-widgets/base",
      "model_module_version": "1.1.0",
      "model_name": "LayoutModel",
      "state": {
       "width": "20%"
      }
     },
     "a19c32162792415491aba390dbef743d": {
      "model_module": "@jupyter-widgets/controls",
      "model_module_version": "1.4.0",
      "model_name": "SelectModel",
      "state": {
       "_options_labels": [
        "MODLAND",
        "VI Usefulness",
        "Aerosol Quantity",
        "Adjacent cloud detected",
        "Atmosphere BRDF Correction",
        "Mixed Clouds",
        "Land/Water Mask",
        "Possible snow/ice",
        "Possible shadow"
       ],
       "description": "QA Parameter name:",
       "index": 0,
       "layout": "IPY_MODEL_78c63633e56147398882aebf45437987",
       "rows": 9,
       "style": "IPY_MODEL_2d705405e176413db6586a5c5094726e"
      }
     },
     "a1a02dde174a4f8187ddb9aa685672d5": {
      "model_module": "@jupyter-widgets/controls",
      "model_module_version": "1.4.0",
      "model_name": "ButtonModel",
      "state": {
       "description": "Select ALL",
       "layout": "IPY_MODEL_30d0afb23be14d628bae09b41e0631d2",
       "style": "IPY_MODEL_12dd10672b32451eb87adadd520fc344"
      }
     },
     "a1a2c8d08519450c98cce96ca2614bca": {
      "model_module": "@jupyter-widgets/controls",
      "model_module_version": "1.4.0",
      "model_name": "ButtonModel",
      "state": {
       "description": "Default selection",
       "layout": "IPY_MODEL_f94fc59073d4464fb9b50c7606547b30",
       "style": "IPY_MODEL_06907f4932e34d879638b52b3749f9fc"
      }
     },
     "a1a8c4fb332044238159be1cb15938ff": {
      "model_module": "@jupyter-widgets/base",
      "model_module_version": "1.1.0",
      "model_name": "LayoutModel",
      "state": {}
     },
     "a1c2d147b974467f954aa0dea80d7360": {
      "model_module": "@jupyter-widgets/base",
      "model_module_version": "1.1.0",
      "model_name": "LayoutModel",
      "state": {
       "width": "400px"
      }
     },
     "a1c318a5959a41cb8f360f3fa40edb04": {
      "model_module": "@jupyter-widgets/controls",
      "model_module_version": "1.4.0",
      "model_name": "HTMLModel",
      "state": {
       "description": "QA layer:",
       "layout": "IPY_MODEL_3076fff0f0d64fb299c8f7cbf9b076da",
       "style": "IPY_MODEL_aa8672c915214a24ad54779bdb7e9ed2",
       "value": "<b>_1_km_16_days_VI_Quality</b>"
      }
     },
     "a1c8b531d1d5435b8c7e3a67b7eaf4d4": {
      "model_module": "@jupyter-widgets/base",
      "model_module_version": "1.1.0",
      "model_name": "LayoutModel",
      "state": {}
     },
     "a1e3a29f948944d2af007875ba7db07a": {
      "model_module": "@jupyter-widgets/base",
      "model_module_version": "1.1.0",
      "model_name": "LayoutModel",
      "state": {
       "width": "20%"
      }
     },
     "a22544860bda43ed905e7c2927bfdd65": {
      "model_module": "@jupyter-widgets/controls",
      "model_module_version": "1.4.0",
      "model_name": "SelectModel",
      "state": {
       "_options_labels": [
        "MODLAND"
       ],
       "description": "QA Parameter name:",
       "index": 0,
       "layout": "IPY_MODEL_ed257a97fb12455692677ddacbb88fb9",
       "rows": 1,
       "style": "IPY_MODEL_6155682d2093467c8dbaa8dd62fa87f2"
      }
     },
     "a263dcf074634b7f993e9fa96ab6997f": {
      "model_module": "@jupyter-widgets/base",
      "model_module_version": "1.1.0",
      "model_name": "LayoutModel",
      "state": {
       "height": "200px",
       "width": "99%"
      }
     },
     "a284776e6f4b4c73bec7e6c9d6054816": {
      "model_module": "@jupyter-widgets/base",
      "model_module_version": "1.1.0",
      "model_name": "LayoutModel",
      "state": {
       "width": "20%"
      }
     },
     "a2949af3ef9c44c38593c1b0e533b6d2": {
      "model_module": "@jupyter-widgets/base",
      "model_module_version": "1.1.0",
      "model_name": "LayoutModel",
      "state": {}
     },
     "a29b24ef74ba4f96a3e59d3073777ce7": {
      "model_module": "@jupyter-widgets/base",
      "model_module_version": "1.1.0",
      "model_name": "LayoutModel",
      "state": {}
     },
     "a29ef499a407431292bd33cb30789145": {
      "model_module": "@jupyter-widgets/controls",
      "model_module_version": "1.4.0",
      "model_name": "HBoxModel",
      "state": {
       "children": [
        "IPY_MODEL_80d500df191845678ba7726d3954d8a2",
        "IPY_MODEL_33d32f0b1d084ed09213a28ee47410b3",
        "IPY_MODEL_c24d679f331e4c7eaf46a3716c721897",
        "IPY_MODEL_7024fa028d234ed7a25475d7954cf289"
       ],
       "layout": "IPY_MODEL_34a179cf34b5442fbaae55e10db5f7b4"
      }
     },
     "a2ca52b8f2bc4656ad95b7c8ddffab76": {
      "model_module": "@jupyter-widgets/controls",
      "model_module_version": "1.4.0",
      "model_name": "ButtonStyleModel",
      "state": {}
     },
     "a2cabfabd8f449e191d7d10550caf663": {
      "model_module": "@jupyter-widgets/controls",
      "model_module_version": "1.4.0",
      "model_name": "DescriptionStyleModel",
      "state": {
       "description_width": "initial"
      }
     },
     "a319858f00f3406782840269329e1448": {
      "model_module": "@jupyter-widgets/base",
      "model_module_version": "1.1.0",
      "model_name": "LayoutModel",
      "state": {
       "width": "400px"
      }
     },
     "a36c3caa205840ccaaedf979df1f9de8": {
      "model_module": "@jupyter-widgets/controls",
      "model_module_version": "1.4.0",
      "model_name": "SelectModel",
      "state": {
       "_options_labels": [
        "MODLAND",
        "VI Usefulness",
        "Aerosol Quantity",
        "Adjacent cloud detected",
        "Atmosphere BRDF Correction",
        "Mixed Clouds",
        "Land/Water Mask",
        "Possible snow/ice",
        "Possible shadow"
       ],
       "description": "QA Parameter name:",
       "index": 8,
       "layout": "IPY_MODEL_d84baeb1685243f484a7bde09e103814",
       "rows": 9,
       "style": "IPY_MODEL_6bc34c08b7dc42daaa10ae5c47359a0b"
      }
     },
     "a381de81e9a24d70ae15a73a1ac2d6ce": {
      "model_module": "@jupyter-widgets/controls",
      "model_module_version": "1.4.0",
      "model_name": "ButtonStyleModel",
      "state": {}
     },
     "a38ff1de06c64ed398eb81b6c84e66d3": {
      "model_module": "@jupyter-widgets/base",
      "model_module_version": "1.1.0",
      "model_name": "LayoutModel",
      "state": {
       "height": "300px",
       "width": "99%"
      }
     },
     "a3abd56012d74a478c850898eebea7ee": {
      "model_module": "@jupyter-widgets/controls",
      "model_module_version": "1.4.0",
      "model_name": "VBoxModel",
      "state": {
       "children": [
        "IPY_MODEL_3a28d54993824abf9f131323bba244a8"
       ],
       "layout": "IPY_MODEL_fc1b45949ef44887a3e78d3af01a98dc"
      }
     },
     "a3c1cbdcc93a4d13a588a50502e87fdd": {
      "model_module": "@jupyter-widgets/controls",
      "model_module_version": "1.4.0",
      "model_name": "ButtonModel",
      "state": {
       "description": "QA analytics",
       "layout": "IPY_MODEL_44572303469e434fa2fff0eab8f74e68",
       "style": "IPY_MODEL_c7e86b3f79a64e398ee4704df1007b33"
      }
     },
     "a3fe0091d5514ca791a18081dfe133c7": {
      "model_module": "@jupyter-widgets/controls",
      "model_module_version": "1.4.0",
      "model_name": "DescriptionStyleModel",
      "state": {
       "description_width": ""
      }
     },
     "a4099c5bf08f4769b613fa3e00d2e027": {
      "model_module": "@jupyter-widgets/base",
      "model_module_version": "1.1.0",
      "model_name": "LayoutModel",
      "state": {}
     },
     "a41d5fa543ff42efa75705cda78c055f": {
      "model_module": "@jupyter-widgets/base",
      "model_module_version": "1.1.0",
      "model_name": "LayoutModel",
      "state": {
       "width": "50%"
      }
     },
     "a4636a4d4f234479b544daff50643093": {
      "model_module": "@jupyter-widgets/controls",
      "model_module_version": "1.4.0",
      "model_name": "HTMLModel",
      "state": {
       "description": "QA layer:",
       "layout": "IPY_MODEL_f8da3c21038a41b7be547c572eded264",
       "style": "IPY_MODEL_aa5f1c3e7cc5461b955531fcf757ca26",
       "value": "<b>_1_km_16_days_VI_Quality</b>"
      }
     },
     "a475424f0a8f4b018321d0224be04fb7": {
      "model_module": "@jupyter-widgets/base",
      "model_module_version": "1.1.0",
      "model_name": "LayoutModel",
      "state": {}
     },
     "a4c7576ddf63466b9b5bca8991a7d26c": {
      "model_module": "@jupyter-widgets/controls",
      "model_module_version": "1.4.0",
      "model_name": "ButtonStyleModel",
      "state": {}
     },
     "a4d3462cc5a74c92b963eb574b32ca12": {
      "model_module": "@jupyter-widgets/base",
      "model_module_version": "1.1.0",
      "model_name": "LayoutModel",
      "state": {
       "width": "20%"
      }
     },
     "a4ea8d1f73894de78985d31cc28fcd2c": {
      "model_module": "@jupyter-widgets/controls",
      "model_module_version": "1.4.0",
      "model_name": "ButtonModel",
      "state": {
       "description": "Default selection",
       "layout": "IPY_MODEL_4fd15934f23a45a5a193c4bb3617e9c5",
       "style": "IPY_MODEL_0db7ed4aede84a07b378fc860cad3c8c"
      }
     },
     "a51126f73c5942ed9443c7d5a4f8d85f": {
      "model_module": "@jupyter-widgets/controls",
      "model_module_version": "1.4.0",
      "model_name": "ButtonStyleModel",
      "state": {}
     },
     "a551b7b80bb54d8fb49df2d570c4a08d": {
      "model_module": "@jupyter-widgets/controls",
      "model_module_version": "1.4.0",
      "model_name": "DescriptionStyleModel",
      "state": {
       "description_width": "initial"
      }
     },
     "a553d77654254052b708e06d089278c5": {
      "model_module": "@jupyter-widgets/controls",
      "model_module_version": "1.4.0",
      "model_name": "VBoxModel",
      "state": {
       "children": [
        "IPY_MODEL_c47e43bcf34d41e2876e150cf27af53e"
       ],
       "layout": "IPY_MODEL_d660bce74b844368917b75de6d133f81"
      }
     },
     "a598006ce02044f494625cb901835060": {
      "model_module": "@jupyter-widgets/base",
      "model_module_version": "1.1.0",
      "model_name": "LayoutModel",
      "state": {
       "width": "400px"
      }
     },
     "a5b4c16a578f4f45a27cda6004781a14": {
      "model_module": "@jupyter-widgets/controls",
      "model_module_version": "1.4.0",
      "model_name": "SelectModel",
      "state": {
       "_options_labels": [
        "MODLAND",
        "VI Usefulness",
        "Aerosol Quantity",
        "Adjacent cloud detected",
        "Atmosphere BRDF Correction",
        "Mixed Clouds",
        "Land/Water Mask",
        "Possible snow/ice",
        "Possible shadow"
       ],
       "description": "QA Parameter name:",
       "index": 8,
       "layout": "IPY_MODEL_a9260f159dcb4b83a362be6a311b0740",
       "rows": 9,
       "style": "IPY_MODEL_cfee4f1afe1340c3b70d3149ff05e508"
      }
     },
     "a5bffd53a4e24ad9bec3136502ac88f2": {
      "model_module": "@jupyter-widgets/base",
      "model_module_version": "1.1.0",
      "model_name": "LayoutModel",
      "state": {
       "height": "300px",
       "width": "99%"
      }
     },
     "a5e74cd31475490aa3a995dd05215aaa": {
      "model_module": "@jupyter-widgets/base",
      "model_module_version": "1.1.0",
      "model_name": "LayoutModel",
      "state": {}
     },
     "a5f1e4d42e2949da9583a35f230f0bce": {
      "model_module": "@jupyter-widgets/controls",
      "model_module_version": "1.4.0",
      "model_name": "ButtonModel",
      "state": {
       "description": "QA analytics",
       "layout": "IPY_MODEL_0a383c41cf744923b93e4c9c3a7485dc",
       "style": "IPY_MODEL_ffa41570b67044469c8f1d250f5ef22d"
      }
     },
     "a6010c48e316496190249c12f4094ed5": {
      "model_module": "@jupyter-widgets/controls",
      "model_module_version": "1.4.0",
      "model_name": "DescriptionStyleModel",
      "state": {
       "description_width": "initial"
      }
     },
     "a604dd00f1fa400584ade9ed2e06047e": {
      "model_module": "@jupyter-widgets/controls",
      "model_module_version": "1.4.0",
      "model_name": "ButtonStyleModel",
      "state": {}
     },
     "a6318a1a39ea4723826d7d05d8cac313": {
      "model_module": "@jupyter-widgets/base",
      "model_module_version": "1.1.0",
      "model_name": "LayoutModel",
      "state": {
       "width": "400px"
      }
     },
     "a64f3ca25aad45028f9fe770ace4be30": {
      "model_module": "@jupyter-widgets/controls",
      "model_module_version": "1.4.0",
      "model_name": "DescriptionStyleModel",
      "state": {
       "description_width": "initial"
      }
     },
     "a65240f7bc1a4b109fe91c2c061cdd91": {
      "model_module": "@jupyter-widgets/controls",
      "model_module_version": "1.4.0",
      "model_name": "HBoxModel",
      "state": {
       "children": [
        "IPY_MODEL_c1a048b9f82d42cf8662d6a0be07da07",
        "IPY_MODEL_75c808421af646a2b11b9d6db8ac6f50"
       ],
       "layout": "IPY_MODEL_9dbc63a8a9194f34ab0b0c2f30255c14"
      }
     },
     "a653b4826a0944bfb33455b953035ff5": {
      "model_module": "@jupyter-widgets/controls",
      "model_module_version": "1.4.0",
      "model_name": "DescriptionStyleModel",
      "state": {
       "description_width": ""
      }
     },
     "a69efe3e986e4aac84aa55bf85b350e3": {
      "model_module": "@jupyter-widgets/base",
      "model_module_version": "1.1.0",
      "model_name": "LayoutModel",
      "state": {
       "width": "20%"
      }
     },
     "a6c94002f5fc4ddcbbecc64512b13eb0": {
      "model_module": "@jupyter-widgets/controls",
      "model_module_version": "1.4.0",
      "model_name": "DescriptionStyleModel",
      "state": {
       "description_width": "initial"
      }
     },
     "a6fb7237920b485294d9621d739ede41": {
      "model_module": "@jupyter-widgets/controls",
      "model_module_version": "1.4.0",
      "model_name": "DescriptionStyleModel",
      "state": {
       "description_width": ""
      }
     },
     "a7040bcfdcac4e9593df3aba046a72cb": {
      "model_module": "@jupyter-widgets/controls",
      "model_module_version": "1.4.0",
      "model_name": "ButtonStyleModel",
      "state": {}
     },
     "a70b57df69ca4ca883cff7e6b56bc4c2": {
      "model_module": "@jupyter-widgets/base",
      "model_module_version": "1.1.0",
      "model_name": "LayoutModel",
      "state": {
       "width": "20%"
      }
     },
     "a70b9743983b4f9a91ff058e20b486ce": {
      "model_module": "@jupyter-widgets/controls",
      "model_module_version": "1.4.0",
      "model_name": "ButtonStyleModel",
      "state": {}
     },
     "a72529c088a94387b2b82ae1eff82ade": {
      "model_module": "@jupyter-widgets/base",
      "model_module_version": "1.1.0",
      "model_name": "LayoutModel",
      "state": {
       "width": "350px"
      }
     },
     "a735ff8e3d704d2f909f25595729832d": {
      "model_module": "@jupyter-widgets/base",
      "model_module_version": "1.1.0",
      "model_name": "LayoutModel",
      "state": {
       "width": "50%"
      }
     },
     "a766c3a37a214469a58542268e8d8203": {
      "model_module": "@jupyter-widgets/base",
      "model_module_version": "1.1.0",
      "model_name": "LayoutModel",
      "state": {
       "width": "20%"
      }
     },
     "a7819211aa9e4147a396898c9465cff1": {
      "model_module": "@jupyter-widgets/base",
      "model_module_version": "1.1.0",
      "model_name": "LayoutModel",
      "state": {
       "height": "250px",
       "width": "99%"
      }
     },
     "a792ab8d91ca4e63bd2b059f6be5f3fe": {
      "model_module": "@jupyter-widgets/controls",
      "model_module_version": "1.4.0",
      "model_name": "HBoxModel",
      "state": {
       "children": [
        "IPY_MODEL_d784c6b3e69042d99de9de59e3a772ac",
        "IPY_MODEL_18a749ee2ac64d9daebbfb8c7ec74636"
       ],
       "layout": "IPY_MODEL_e147d3abae9a49f2a9700ba6faacdc21"
      }
     },
     "a79a6c886eb546a680c33d2e3ec1c7b9": {
      "model_module": "@jupyter-widgets/base",
      "model_module_version": "1.1.0",
      "model_name": "LayoutModel",
      "state": {}
     },
     "a79dba3cf4a145afa7aaf78c44576a07": {
      "model_module": "@jupyter-widgets/base",
      "model_module_version": "1.1.0",
      "model_name": "LayoutModel",
      "state": {}
     },
     "a7a8dfd2286c4c22b3f12c73e999d49e": {
      "model_module": "@jupyter-widgets/controls",
      "model_module_version": "1.4.0",
      "model_name": "SelectMultipleModel",
      "state": {
       "_options_labels": [
        "VI produced, good quality",
        "VI produced, but check other QA",
        "Pixel produced, but most probably cloudy",
        "Pixel not produced due to other reasons than clouds"
       ],
       "description": "Description",
       "index": [
        0
       ],
       "layout": "IPY_MODEL_29b518c557b245e7a8cd9a7928845b4c",
       "rows": 4,
       "style": "IPY_MODEL_06498e42077e4888bae5827de0a2f102"
      }
     },
     "a7c0d5e6e9444da49c2987677a745293": {
      "model_module": "@jupyter-widgets/controls",
      "model_module_version": "1.4.0",
      "model_name": "SelectMultipleModel",
      "state": {
       "_options_labels": [
        "VI produced, good quality",
        "VI produced, but check other QA",
        "Pixel produced, but most probably cloudy",
        "Pixel not produced due to other reasons than clouds"
       ],
       "description": "Description",
       "index": [
        0
       ],
       "layout": "IPY_MODEL_d5db99f748a94d0ca071b1a5a094699d",
       "rows": 4,
       "style": "IPY_MODEL_b504cb52d1ed40cead538da1e8e46e8c"
      }
     },
     "a7ffae7a635e447699b733c9b0f1bc6a": {
      "model_module": "@jupyter-widgets/base",
      "model_module_version": "1.1.0",
      "model_name": "LayoutModel",
      "state": {
       "height": "300px",
       "width": "99%"
      }
     },
     "a808d02e81614d80a0492b2ebf77b2fd": {
      "model_module": "@jupyter-widgets/base",
      "model_module_version": "1.1.0",
      "model_name": "LayoutModel",
      "state": {}
     },
     "a851f9dd3ae64b93bf7dd66e67e73c0f": {
      "model_module": "@jupyter-widgets/controls",
      "model_module_version": "1.4.0",
      "model_name": "HBoxModel",
      "state": {
       "children": [
        "IPY_MODEL_87c67b05e94246a487bb6ea4898207a3",
        "IPY_MODEL_686d9827695e40bd9f232bd207de3318"
       ],
       "layout": "IPY_MODEL_430f72d236b34871a2c7109730288ead"
      }
     },
     "a853e8555bde4b73a7d7de6ba4513c37": {
      "model_module": "@jupyter-widgets/controls",
      "model_module_version": "1.4.0",
      "model_name": "VBoxModel",
      "state": {
       "children": [
        "IPY_MODEL_91cad4b52db748ee9e428e02e70251f6"
       ],
       "layout": "IPY_MODEL_3bd97194314846e5949bf9766f6c12d3"
      }
     },
     "a861c68657b247fcbe557d2bdce2d94a": {
      "model_module": "@jupyter-widgets/controls",
      "model_module_version": "1.4.0",
      "model_name": "HBoxModel",
      "state": {
       "children": [
        "IPY_MODEL_47f3bc48fd6949a49c9bc431fe71d1ed",
        "IPY_MODEL_3e3ecea6762d4fab8b5d456dfdc8eb64"
       ],
       "layout": "IPY_MODEL_7cd618a1edfb4715acc433aff0c99303"
      }
     },
     "a88ad1be6009414e84682972a96f94d8": {
      "model_module": "@jupyter-widgets/controls",
      "model_module_version": "1.4.0",
      "model_name": "DescriptionStyleModel",
      "state": {
       "description_width": ""
      }
     },
     "a892a29e65bc4eb99fa6e73c23657d08": {
      "model_module": "@jupyter-widgets/base",
      "model_module_version": "1.1.0",
      "model_name": "LayoutModel",
      "state": {}
     },
     "a895dd33bf67478b8596293d9b8b9c13": {
      "model_module": "@jupyter-widgets/controls",
      "model_module_version": "1.4.0",
      "model_name": "DescriptionStyleModel",
      "state": {
       "description_width": "initial"
      }
     },
     "a8c045949e934184a0f1435429cc8280": {
      "model_module": "@jupyter-widgets/controls",
      "model_module_version": "1.4.0",
      "model_name": "VBoxModel",
      "state": {
       "children": [
        "IPY_MODEL_4a64696e4f3246fda1cb57ea86986372"
       ],
       "layout": "IPY_MODEL_2da6360d9a674ff2a13be7c561f9b6eb"
      }
     },
     "a8e4d97f9ca94dea8df107aee95e0642": {
      "model_module": "@jupyter-widgets/controls",
      "model_module_version": "1.4.0",
      "model_name": "DescriptionStyleModel",
      "state": {
       "description_width": "initial"
      }
     },
     "a901948002f8438b8f2dad3887c30571": {
      "model_module": "@jupyter-widgets/controls",
      "model_module_version": "1.4.0",
      "model_name": "VBoxModel",
      "state": {
       "children": [
        "IPY_MODEL_6a14390c157c4ff4a4d4a7e35aedbde5"
       ],
       "layout": "IPY_MODEL_66d1e8cd93324d92bf41a70b987e0c78"
      }
     },
     "a92338001abc434d967ae1710235ecbd": {
      "model_module": "@jupyter-widgets/controls",
      "model_module_version": "1.4.0",
      "model_name": "SelectMultipleModel",
      "state": {
       "_options_labels": [
        "VI produced, good quality",
        "VI produced, but check other QA",
        "Pixel produced, but most probably cloudy",
        "Pixel not produced due to other reasons than clouds"
       ],
       "description": "Description",
       "index": [
        0
       ],
       "layout": "IPY_MODEL_36fbd7cdba034eaab147c97dcc8133d3",
       "rows": 4,
       "style": "IPY_MODEL_90bfccce59ad4319b6a4a66207002c5f"
      }
     },
     "a9260f159dcb4b83a362be6a311b0740": {
      "model_module": "@jupyter-widgets/base",
      "model_module_version": "1.1.0",
      "model_name": "LayoutModel",
      "state": {
       "width": "400px"
      }
     },
     "a92cdea91b4b472e89d0a89a4bc5af97": {
      "model_module": "@jupyter-widgets/controls",
      "model_module_version": "1.4.0",
      "model_name": "HTMLModel",
      "state": {
       "description": "QA layer:",
       "layout": "IPY_MODEL_fb6bf275a3424571befd1f1f26e54b99",
       "style": "IPY_MODEL_193691638d634287ae015126b45b578b",
       "value": "<b>_1_km_16_days_pixel_reliability</b>"
      }
     },
     "a931e7080c61496ba892de8e74d578c0": {
      "model_module": "@jupyter-widgets/controls",
      "model_module_version": "1.4.0",
      "model_name": "VBoxModel",
      "state": {
       "children": [
        "IPY_MODEL_e7c9dbb596b84bbea7ddd323ea1e42a3"
       ],
       "layout": "IPY_MODEL_75aeb2861d63477189ccc134fade6245"
      }
     },
     "a9549642783c41e6a5aa3bef35f8c911": {
      "model_module": "@jupyter-widgets/base",
      "model_module_version": "1.1.0",
      "model_name": "LayoutModel",
      "state": {
       "width": "400px"
      }
     },
     "a95509ee7c5e43269be7d7293a07df19": {
      "model_module": "@jupyter-widgets/controls",
      "model_module_version": "1.4.0",
      "model_name": "DescriptionStyleModel",
      "state": {
       "description_width": "initial"
      }
     },
     "a963dc3dc54c48eea7bc73af8be909c2": {
      "model_module": "@jupyter-widgets/base",
      "model_module_version": "1.1.0",
      "model_name": "LayoutModel",
      "state": {}
     },
     "a9708cc7926442748f5c4c4bfd5dd29e": {
      "model_module": "@jupyter-widgets/controls",
      "model_module_version": "1.4.0",
      "model_name": "ButtonStyleModel",
      "state": {}
     },
     "a9b3a979622047088da9f74ea1816bd8": {
      "model_module": "@jupyter-widgets/base",
      "model_module_version": "1.1.0",
      "model_name": "LayoutModel",
      "state": {
       "width": "400px"
      }
     },
     "a9c867dc1fdd440f9d1b1b7e1adc3c77": {
      "model_module": "@jupyter-widgets/base",
      "model_module_version": "1.1.0",
      "model_name": "LayoutModel",
      "state": {
       "height": "300px",
       "width": "99%"
      }
     },
     "a9f5f88e7bc044d18b4fc11444af91b6": {
      "model_module": "@jupyter-widgets/controls",
      "model_module_version": "1.4.0",
      "model_name": "HBoxModel",
      "state": {
       "children": [
        "IPY_MODEL_bd294d36b73d4092a46a452ba28e5e15",
        "IPY_MODEL_51998ac275bd4c66b31a54b9e0d0fbdf"
       ],
       "layout": "IPY_MODEL_4c57cc20e9b342c08544a9b919b3fdec"
      }
     },
     "aa1561aa50924bb28f9d65f7888bd503": {
      "model_module": "@jupyter-widgets/controls",
      "model_module_version": "1.4.0",
      "model_name": "DescriptionStyleModel",
      "state": {
       "description_width": "initial"
      }
     },
     "aa4afeaa6f7a4d9882492a0f6aa0584f": {
      "model_module": "@jupyter-widgets/base",
      "model_module_version": "1.1.0",
      "model_name": "LayoutModel",
      "state": {
       "width": "50%"
      }
     },
     "aa51325fd38f494fb5d54f0f0acd307c": {
      "model_module": "@jupyter-widgets/controls",
      "model_module_version": "1.4.0",
      "model_name": "SelectModel",
      "state": {
       "_options_labels": [
        "MODLAND",
        "VI Usefulness",
        "Aerosol Quantity",
        "Adjacent cloud detected",
        "Atmosphere BRDF Correction",
        "Mixed Clouds",
        "Land/Water Mask",
        "Possible snow/ice",
        "Possible shadow"
       ],
       "description": "QA Parameter name:",
       "index": 0,
       "layout": "IPY_MODEL_fdd7e4d7149f4908906a01b2f1276cc8",
       "rows": 9,
       "style": "IPY_MODEL_e5f2107ce39c497cbfb4e0990b864cbb"
      }
     },
     "aa54196610634190b5d2a7c4383fb1fb": {
      "model_module": "@jupyter-widgets/controls",
      "model_module_version": "1.4.0",
      "model_name": "DescriptionStyleModel",
      "state": {
       "description_width": ""
      }
     },
     "aa5bfc70906545488d2b1b6a316aa7c8": {
      "model_module": "@jupyter-widgets/controls",
      "model_module_version": "1.4.0",
      "model_name": "SelectMultipleModel",
      "state": {
       "_options_labels": [
        "Good data, use with confidence",
        "Marginal data, Useful, but look at other QA information",
        "Snow/Ice Target covered with snow/ice",
        "Cloudy data, Target not visible, covered with cloud"
       ],
       "description": "Description",
       "index": [
        0
       ],
       "layout": "IPY_MODEL_0c1f43ab0b8049f6b3e521dfc13e88f5",
       "rows": 4,
       "style": "IPY_MODEL_a95509ee7c5e43269be7d7293a07df19"
      }
     },
     "aa5f1c3e7cc5461b955531fcf757ca26": {
      "model_module": "@jupyter-widgets/controls",
      "model_module_version": "1.4.0",
      "model_name": "DescriptionStyleModel",
      "state": {
       "description_width": ""
      }
     },
     "aa5f596601eb468f91b56a0d0bc9179a": {
      "model_module": "@jupyter-widgets/base",
      "model_module_version": "1.1.0",
      "model_name": "LayoutModel",
      "state": {}
     },
     "aa5fd3f8d342424c961f266838c2de4d": {
      "model_module": "@jupyter-widgets/base",
      "model_module_version": "1.1.0",
      "model_name": "LayoutModel",
      "state": {
       "width": "400px"
      }
     },
     "aa61e27630e64d50a1990f89bc771911": {
      "model_module": "@jupyter-widgets/base",
      "model_module_version": "1.1.0",
      "model_name": "LayoutModel",
      "state": {
       "width": "350px"
      }
     },
     "aa635167f25a4cb38c6ac1c9fd67417c": {
      "model_module": "@jupyter-widgets/base",
      "model_module_version": "1.1.0",
      "model_name": "LayoutModel",
      "state": {
       "width": "30%"
      }
     },
     "aa678b29560843338ca934374de44776": {
      "model_module": "@jupyter-widgets/controls",
      "model_module_version": "1.4.0",
      "model_name": "ButtonModel",
      "state": {
       "description": "Select ALL",
       "layout": "IPY_MODEL_8234a167a446405997b8d7e0407a0475",
       "style": "IPY_MODEL_3a366bb9fdc04c90a9843a6feab8b5bd"
      }
     },
     "aa6caf8486cc45e185252bcb6c34b64c": {
      "model_module": "@jupyter-widgets/base",
      "model_module_version": "1.1.0",
      "model_name": "LayoutModel",
      "state": {
       "width": "50%"
      }
     },
     "aa859502b50b405ca9bcc72cdd81eb35": {
      "model_module": "@jupyter-widgets/controls",
      "model_module_version": "1.4.0",
      "model_name": "ButtonModel",
      "state": {
       "description": "Default selection",
       "layout": "IPY_MODEL_52be89f04ec3470da7e5e25fcd128a47",
       "style": "IPY_MODEL_507fdbfb168d479eb022eb7bb5990a68"
      }
     },
     "aa8672c915214a24ad54779bdb7e9ed2": {
      "model_module": "@jupyter-widgets/controls",
      "model_module_version": "1.4.0",
      "model_name": "DescriptionStyleModel",
      "state": {
       "description_width": ""
      }
     },
     "aa8aa7d309bc42aab37d31dd58aff056": {
      "model_module": "@jupyter-widgets/base",
      "model_module_version": "1.1.0",
      "model_name": "LayoutModel",
      "state": {
       "width": "50%"
      }
     },
     "aa946834f5d64512a74ec3cbaf167f42": {
      "model_module": "@jupyter-widgets/controls",
      "model_module_version": "1.4.0",
      "model_name": "VBoxModel",
      "state": {
       "children": [
        "IPY_MODEL_6a0f7ea9a314403ea5d85714f771f4ff"
       ],
       "layout": "IPY_MODEL_e1bdab738c0f42859222b24f72aa9364"
      }
     },
     "aaa753300e904f8aa6cbbd53c8678905": {
      "model_module": "@jupyter-widgets/base",
      "model_module_version": "1.1.0",
      "model_name": "LayoutModel",
      "state": {}
     },
     "aaaed25475b14c35b955a52ea85a6180": {
      "model_module": "@jupyter-widgets/controls",
      "model_module_version": "1.4.0",
      "model_name": "DescriptionStyleModel",
      "state": {
       "description_width": "initial"
      }
     },
     "aabc4d6b611b48aca4b15b9115436f19": {
      "model_module": "@jupyter-widgets/base",
      "model_module_version": "1.1.0",
      "model_name": "LayoutModel",
      "state": {}
     },
     "aba69d7f3df64e50b6f330f034ee3a30": {
      "model_module": "@jupyter-widgets/base",
      "model_module_version": "1.1.0",
      "model_name": "LayoutModel",
      "state": {
       "width": "400px"
      }
     },
     "abb7d9ad96214e5883b4b235b6083743": {
      "model_module": "@jupyter-widgets/base",
      "model_module_version": "1.1.0",
      "model_name": "LayoutModel",
      "state": {
       "width": "50%"
      }
     },
     "abc8a4e1f11a4b6a8d356d4cea406683": {
      "model_module": "@jupyter-widgets/base",
      "model_module_version": "1.1.0",
      "model_name": "LayoutModel",
      "state": {}
     },
     "abc9839fc770441c88d8064cc7947660": {
      "model_module": "@jupyter-widgets/controls",
      "model_module_version": "1.4.0",
      "model_name": "SelectModel",
      "state": {
       "_options_labels": [
        "MODLAND",
        "VI Usefulness",
        "Aerosol Quantity",
        "Adjacent cloud detected",
        "Atmosphere BRDF Correction",
        "Mixed Clouds",
        "Land/Water Mask",
        "Possible snow/ice",
        "Possible shadow"
       ],
       "description": "QA Parameter name:",
       "index": 0,
       "layout": "IPY_MODEL_e96258befb254b38ae6539ac63c26042",
       "rows": 9,
       "style": "IPY_MODEL_3f1d2741d91f46d9931c3632e9568a00"
      }
     },
     "ac07851c2ac2479c8dba920c25201ecd": {
      "model_module": "@jupyter-widgets/base",
      "model_module_version": "1.1.0",
      "model_name": "LayoutModel",
      "state": {}
     },
     "ac0ac2aac3e54adf986d7331f7a77426": {
      "model_module": "@jupyter-widgets/controls",
      "model_module_version": "1.4.0",
      "model_name": "ButtonModel",
      "state": {
       "description": "Create mask",
       "layout": "IPY_MODEL_01fdc74ea57f4d828ee9bc2ccd4b0284",
       "style": "IPY_MODEL_2dc03a341cc34a57b150909b33aa950e"
      }
     },
     "ac0dcfd7bb7f4e81a2199c4f34f60ffc": {
      "model_module": "@jupyter-widgets/base",
      "model_module_version": "1.1.0",
      "model_name": "LayoutModel",
      "state": {
       "width": "50%"
      }
     },
     "ac4d8b5e144841b1ab78f7548c6a6ffe": {
      "model_module": "@jupyter-widgets/base",
      "model_module_version": "1.1.0",
      "model_name": "LayoutModel",
      "state": {}
     },
     "ac542b1f5a1540c6ac01e999db5b1bcf": {
      "model_module": "@jupyter-widgets/controls",
      "model_module_version": "1.4.0",
      "model_name": "HBoxModel",
      "state": {
       "children": [
        "IPY_MODEL_45c05c6bb2e14c55a3d65429fde508c0",
        "IPY_MODEL_9f20245641334288bc287baabcacb6ce"
       ],
       "layout": "IPY_MODEL_6e1ada2802e6440aa02a00adc75a0a61"
      }
     },
     "acf79ecc0d194cccadabb8039ccfe7b2": {
      "model_module": "@jupyter-widgets/controls",
      "model_module_version": "1.4.0",
      "model_name": "VBoxModel",
      "state": {
       "children": [
        "IPY_MODEL_f53df63387e540b7a8731d844f324a5e"
       ],
       "layout": "IPY_MODEL_69de4c3edaa0429c9878ae31b7f79d1f"
      }
     },
     "ad1279537e074363af57b271901f7a13": {
      "model_module": "@jupyter-widgets/controls",
      "model_module_version": "1.4.0",
      "model_name": "ButtonStyleModel",
      "state": {}
     },
     "ad1c8ed474b24b5cae4f5423b354df6c": {
      "model_module": "@jupyter-widgets/controls",
      "model_module_version": "1.4.0",
      "model_name": "DescriptionStyleModel",
      "state": {
       "description_width": ""
      }
     },
     "ad3730c6be4b47be8535ce2c65aa74a5": {
      "model_module": "@jupyter-widgets/controls",
      "model_module_version": "1.4.0",
      "model_name": "DescriptionStyleModel",
      "state": {
       "description_width": "initial"
      }
     },
     "ad53c7c8eba14e49a8767f45f93a9a9f": {
      "model_module": "@jupyter-widgets/controls",
      "model_module_version": "1.4.0",
      "model_name": "VBoxModel",
      "state": {
       "children": [
        "IPY_MODEL_3f9c7528a8964f43b787a490da0452ec"
       ],
       "layout": "IPY_MODEL_8a96944491ad4f279a63e182e6a34951"
      }
     },
     "ad57e51c212043e993ffeef386a33578": {
      "model_module": "@jupyter-widgets/base",
      "model_module_version": "1.1.0",
      "model_name": "LayoutModel",
      "state": {
       "height": "200px",
       "width": "99%"
      }
     },
     "ad6fa6f1d81c45a2b1c85dd69807dc7b": {
      "model_module": "@jupyter-widgets/controls",
      "model_module_version": "1.4.0",
      "model_name": "SelectModel",
      "state": {
       "_options_labels": [
        "MODLAND",
        "VI Usefulness",
        "Aerosol Quantity",
        "Adjacent cloud detected",
        "Atmosphere BRDF Correction",
        "Mixed Clouds",
        "Land/Water Mask",
        "Possible snow/ice",
        "Possible shadow"
       ],
       "description": "QA Parameter name:",
       "index": 0,
       "layout": "IPY_MODEL_ae8282798e884571bf4cbd73b39a590b",
       "rows": 9,
       "style": "IPY_MODEL_b5e20fac174048c690440961ce6189f6"
      }
     },
     "ad8b731cfb004c04bc354b6c19f2de16": {
      "model_module": "@jupyter-widgets/base",
      "model_module_version": "1.1.0",
      "model_name": "LayoutModel",
      "state": {}
     },
     "ada603c63a544e2f96592b4d5f20ecb4": {
      "model_module": "@jupyter-widgets/controls",
      "model_module_version": "1.4.0",
      "model_name": "ProgressStyleModel",
      "state": {
       "description_width": "initial"
      }
     },
     "adbc46a536244d87a751ce931145b450": {
      "model_module": "@jupyter-widgets/controls",
      "model_module_version": "1.4.0",
      "model_name": "DescriptionStyleModel",
      "state": {
       "description_width": ""
      }
     },
     "adbcf688175e4dd4a6873beefc6d2931": {
      "model_module": "@jupyter-widgets/base",
      "model_module_version": "1.1.0",
      "model_name": "LayoutModel",
      "state": {
       "height": "350px",
       "width": "99%"
      }
     },
     "add0e2076d9049ffa8c441edafd64696": {
      "model_module": "@jupyter-widgets/base",
      "model_module_version": "1.1.0",
      "model_name": "LayoutModel",
      "state": {}
     },
     "adec4c5b6f53406da1a0279d8d8ced7f": {
      "model_module": "@jupyter-widgets/base",
      "model_module_version": "1.1.0",
      "model_name": "LayoutModel",
      "state": {
       "width": "400px"
      }
     },
     "adfea26ff92247858f8ee758db6c5993": {
      "model_module": "@jupyter-widgets/controls",
      "model_module_version": "1.4.0",
      "model_name": "HTMLModel",
      "state": {
       "description": "QA layer:",
       "layout": "IPY_MODEL_f858f712b95c4fa4830b2014a3f1f270",
       "style": "IPY_MODEL_7dabf6be4f08499fae72b5131b2cb3af",
       "value": "<b>_1_km_16_days_VI_Quality</b>"
      }
     },
     "ae0a96cd6443457e96f003d7d9ec3726": {
      "model_module": "@jupyter-widgets/base",
      "model_module_version": "1.1.0",
      "model_name": "LayoutModel",
      "state": {
       "width": "350px"
      }
     },
     "ae29bb78e12044ae825d516ba95597cb": {
      "model_module": "@jupyter-widgets/base",
      "model_module_version": "1.1.0",
      "model_name": "LayoutModel",
      "state": {
       "height": "300px",
       "width": "99%"
      }
     },
     "ae366eb7e36c41e0b131617b94d1d136": {
      "model_module": "@jupyter-widgets/controls",
      "model_module_version": "1.4.0",
      "model_name": "ButtonStyleModel",
      "state": {}
     },
     "ae4e99b6b3de4ee79f888bfeec25fee6": {
      "model_module": "@jupyter-widgets/base",
      "model_module_version": "1.1.0",
      "model_name": "LayoutModel",
      "state": {
       "width": "20%"
      }
     },
     "ae509636cd934201bea56594dba6b625": {
      "model_module": "@jupyter-widgets/base",
      "model_module_version": "1.1.0",
      "model_name": "LayoutModel",
      "state": {
       "width": "400px"
      }
     },
     "ae5d1b456c49495fa5c2b212c3efd6c2": {
      "model_module": "@jupyter-widgets/base",
      "model_module_version": "1.1.0",
      "model_name": "LayoutModel",
      "state": {}
     },
     "ae5d5deae6cf43a29ee1f99bf2262e75": {
      "model_module": "@jupyter-widgets/base",
      "model_module_version": "1.1.0",
      "model_name": "LayoutModel",
      "state": {}
     },
     "ae7a997e4d96438d9742769dee049086": {
      "model_module": "@jupyter-widgets/controls",
      "model_module_version": "1.4.0",
      "model_name": "DescriptionStyleModel",
      "state": {
       "description_width": "initial"
      }
     },
     "ae8282798e884571bf4cbd73b39a590b": {
      "model_module": "@jupyter-widgets/base",
      "model_module_version": "1.1.0",
      "model_name": "LayoutModel",
      "state": {
       "width": "350px"
      }
     },
     "ae853592bb744025927bda530e9a621f": {
      "model_module": "@jupyter-widgets/controls",
      "model_module_version": "1.4.0",
      "model_name": "HBoxModel",
      "state": {
       "children": [
        "IPY_MODEL_9e714ee398ec4271b99bf554064fee1f",
        "IPY_MODEL_96bdfeedc9454f3fa37c3c6c8fd89952",
        "IPY_MODEL_ef0146609f5243938bf9b0cdaf6c4749"
       ],
       "layout": "IPY_MODEL_db29418121a54585abf29d620bfc6367"
      }
     },
     "ae889f7b068045fd8cb8515b50b3bbb3": {
      "model_module": "@jupyter-widgets/base",
      "model_module_version": "1.1.0",
      "model_name": "LayoutModel",
      "state": {
       "width": "20%"
      }
     },
     "ae995d8d074e404aa7c0d91e23a7c448": {
      "model_module": "@jupyter-widgets/controls",
      "model_module_version": "1.4.0",
      "model_name": "ButtonModel",
      "state": {
       "description": "Select ALL",
       "layout": "IPY_MODEL_3e6661e4702a40e0bcb270b6e0fac3a4",
       "style": "IPY_MODEL_77c0c8487d4a432d9a2455ebf721ab30"
      }
     },
     "aeaab68086f041f1a4732ecf045457e6": {
      "model_module": "@jupyter-widgets/base",
      "model_module_version": "1.1.0",
      "model_name": "LayoutModel",
      "state": {
       "width": "50%"
      }
     },
     "af2e9d6e89ca40bfb786fb35ccc1014f": {
      "model_module": "@jupyter-widgets/base",
      "model_module_version": "1.1.0",
      "model_name": "LayoutModel",
      "state": {
       "height": "350px",
       "width": "99%"
      }
     },
     "af33df9032784959a9d2e500de7965cb": {
      "model_module": "@jupyter-widgets/controls",
      "model_module_version": "1.4.0",
      "model_name": "DescriptionStyleModel",
      "state": {
       "description_width": "initial"
      }
     },
     "af465a9817be4038b554f5fb73d16f64": {
      "model_module": "@jupyter-widgets/base",
      "model_module_version": "1.1.0",
      "model_name": "LayoutModel",
      "state": {
       "width": "50%"
      }
     },
     "af6065f3018549c3bec705dc8a482da4": {
      "model_module": "@jupyter-widgets/controls",
      "model_module_version": "1.4.0",
      "model_name": "HBoxModel",
      "state": {
       "children": [
        "IPY_MODEL_a901948002f8438b8f2dad3887c30571",
        "IPY_MODEL_87768870d8654c2c9f78419b02512435"
       ],
       "layout": "IPY_MODEL_7a48e46611674e58a60077602853c01c"
      }
     },
     "af6e35e2eb2449a0937af94610ad5fb9": {
      "model_module": "@jupyter-widgets/controls",
      "model_module_version": "1.4.0",
      "model_name": "HTMLModel",
      "state": {
       "description": "QA layer:",
       "layout": "IPY_MODEL_b05317c5909d44b496af8d3720ecb018",
       "style": "IPY_MODEL_aa54196610634190b5d2a7c4383fb1fb",
       "value": "<b>_1_km_16_days_VI_Quality</b>"
      }
     },
     "af74f9bc04c94175ae465f5841973a8d": {
      "model_module": "@jupyter-widgets/base",
      "model_module_version": "1.1.0",
      "model_name": "LayoutModel",
      "state": {
       "height": "300px",
       "width": "99%"
      }
     },
     "af79e66c774b4f699dc1bc5ae89300a4": {
      "model_module": "@jupyter-widgets/base",
      "model_module_version": "1.1.0",
      "model_name": "LayoutModel",
      "state": {
       "width": "20%"
      }
     },
     "af7d8ccb0a0d493dbd50f20ec7512f96": {
      "model_module": "@jupyter-widgets/base",
      "model_module_version": "1.1.0",
      "model_name": "LayoutModel",
      "state": {
       "width": "20%"
      }
     },
     "afb32b22f9af4430aba03dcba1ccc961": {
      "model_module": "@jupyter-widgets/controls",
      "model_module_version": "1.4.0",
      "model_name": "DescriptionStyleModel",
      "state": {
       "description_width": "initial"
      }
     },
     "afca662e09784efb8d11a85eeb18c8a0": {
      "model_module": "@jupyter-widgets/base",
      "model_module_version": "1.1.0",
      "model_name": "LayoutModel",
      "state": {}
     },
     "afda68071e8241f3a29e61f2658c1eec": {
      "model_module": "@jupyter-widgets/controls",
      "model_module_version": "1.4.0",
      "model_name": "HBoxModel",
      "state": {
       "children": [
        "IPY_MODEL_b82f4fe5e70d4d7fa3aff54b79f52af1",
        "IPY_MODEL_960a39e8271f483cabdfcbd917af2dfd",
        "IPY_MODEL_a5f1e4d42e2949da9583a35f230f0bce"
       ],
       "layout": "IPY_MODEL_497fb7fa7b984f3086fc170f649df160"
      }
     },
     "afe40347b0634931bb1e9c8b5918a31e": {
      "model_module": "@jupyter-widgets/controls",
      "model_module_version": "1.4.0",
      "model_name": "DescriptionStyleModel",
      "state": {
       "description_width": "initial"
      }
     },
     "afe5f7d54973483ba4ad2472becf9012": {
      "model_module": "@jupyter-widgets/controls",
      "model_module_version": "1.4.0",
      "model_name": "ButtonStyleModel",
      "state": {}
     },
     "b02919a4ec564ba3b92d889ca446c50f": {
      "model_module": "@jupyter-widgets/base",
      "model_module_version": "1.1.0",
      "model_name": "LayoutModel",
      "state": {
       "width": "19%"
      }
     },
     "b02a604a0faf49919843bdbcf6f2eea5": {
      "model_module": "@jupyter-widgets/controls",
      "model_module_version": "1.4.0",
      "model_name": "ButtonModel",
      "state": {
       "description": "Select ALL",
       "layout": "IPY_MODEL_85b90f71dc0d4c6ebf720dae374c21e2",
       "style": "IPY_MODEL_439730b4b96d4d37bd9d6de2d776c33c"
      }
     },
     "b0437aecd5e448979c0f6f796a41909d": {
      "model_module": "@jupyter-widgets/base",
      "model_module_version": "1.1.0",
      "model_name": "LayoutModel",
      "state": {
       "height": "300px",
       "width": "99%"
      }
     },
     "b05317c5909d44b496af8d3720ecb018": {
      "model_module": "@jupyter-widgets/base",
      "model_module_version": "1.1.0",
      "model_name": "LayoutModel",
      "state": {}
     },
     "b057e3bc2bff4398b3965e983d368e31": {
      "model_module": "@jupyter-widgets/base",
      "model_module_version": "1.1.0",
      "model_name": "LayoutModel",
      "state": {}
     },
     "b0597ef7908c44339be7ecf0c445e87d": {
      "model_module": "@jupyter-widgets/controls",
      "model_module_version": "1.4.0",
      "model_name": "DescriptionStyleModel",
      "state": {
       "description_width": "initial"
      }
     },
     "b062072f98394c48b50039f1638693d6": {
      "model_module": "@jupyter-widgets/controls",
      "model_module_version": "1.4.0",
      "model_name": "ButtonModel",
      "state": {
       "description": "QA analytics",
       "layout": "IPY_MODEL_aa635167f25a4cb38c6ac1c9fd67417c",
       "style": "IPY_MODEL_22a90c59c656411ba675bbec2708322f"
      }
     },
     "b06c8ad78be849bf8ef62ae22eb8dcde": {
      "model_module": "@jupyter-widgets/controls",
      "model_module_version": "1.4.0",
      "model_name": "ButtonStyleModel",
      "state": {}
     },
     "b0775e2a5629465a94e5f3abdef7f22e": {
      "model_module": "@jupyter-widgets/controls",
      "model_module_version": "1.4.0",
      "model_name": "DescriptionStyleModel",
      "state": {
       "description_width": ""
      }
     },
     "b0a8acdcc9a3443d8b5ee8d233533e1b": {
      "model_module": "@jupyter-widgets/base",
      "model_module_version": "1.1.0",
      "model_name": "LayoutModel",
      "state": {
       "width": "400px"
      }
     },
     "b0c940a547ec49c6953ef180c723ce4a": {
      "model_module": "@jupyter-widgets/controls",
      "model_module_version": "1.4.0",
      "model_name": "DescriptionStyleModel",
      "state": {
       "description_width": "initial"
      }
     },
     "b0e2599305114330a928669da5df8c22": {
      "model_module": "@jupyter-widgets/controls",
      "model_module_version": "1.4.0",
      "model_name": "ButtonStyleModel",
      "state": {}
     },
     "b0e8f1c45fd0462982c2ec0a3f7398c6": {
      "model_module": "@jupyter-widgets/controls",
      "model_module_version": "1.4.0",
      "model_name": "HBoxModel",
      "state": {
       "children": [
        "IPY_MODEL_b491f1f01de2477e8358b18a9fc475f7",
        "IPY_MODEL_0d366115377040c296a2e11af45b7a6a",
        "IPY_MODEL_f0a51aebc98b4dfc92d5f81f14c789be"
       ],
       "layout": "IPY_MODEL_b8c78df261c443439c5f0aca0ba08d85"
      }
     },
     "b0e90cf03c3a4961ab31c20b91f1ad31": {
      "model_module": "@jupyter-widgets/controls",
      "model_module_version": "1.4.0",
      "model_name": "VBoxModel",
      "state": {
       "children": [
        "IPY_MODEL_1e330ed74cfa40edb269aa6e35c5fda1"
       ],
       "layout": "IPY_MODEL_3de7b4b3de5846e49868df7edcec461c"
      }
     },
     "b0f470ea3a5844afa51f61c54a378baf": {
      "model_module": "@jupyter-widgets/base",
      "model_module_version": "1.1.0",
      "model_name": "LayoutModel",
      "state": {}
     },
     "b1130c0b68aa49eab1f4e458a2347d44": {
      "model_module": "@jupyter-widgets/controls",
      "model_module_version": "1.4.0",
      "model_name": "ButtonStyleModel",
      "state": {}
     },
     "b132844f2847403592e95f3cc468af55": {
      "model_module": "@jupyter-widgets/base",
      "model_module_version": "1.1.0",
      "model_name": "LayoutModel",
      "state": {
       "width": "20%"
      }
     },
     "b13544aa1feb456198b6e05e01517d2d": {
      "model_module": "@jupyter-widgets/base",
      "model_module_version": "1.1.0",
      "model_name": "LayoutModel",
      "state": {
       "height": "300px",
       "width": "99%"
      }
     },
     "b14a52689804435483aca24f3ad1f1d2": {
      "model_module": "@jupyter-widgets/controls",
      "model_module_version": "1.4.0",
      "model_name": "HBoxModel",
      "state": {
       "children": [
        "IPY_MODEL_5194d8d0148a44f39c68f4643be44b27",
        "IPY_MODEL_d2987f51bb2e4c28bb507fc5f62dc9b5",
        "IPY_MODEL_c302a98a5cda4b3bb48890625366c8dd"
       ],
       "layout": "IPY_MODEL_e4b796a484424d86827492b817360203"
      }
     },
     "b1620665afae4e6a87f7b0bc4c50f8ce": {
      "model_module": "@jupyter-widgets/controls",
      "model_module_version": "1.4.0",
      "model_name": "HBoxModel",
      "state": {
       "children": [
        "IPY_MODEL_2572bfd03a524f67a39f0af9549804c0",
        "IPY_MODEL_929f0137b0c94963a639daa14b860577",
        "IPY_MODEL_59f4ca0f0423442da642795c07b7365a"
       ],
       "layout": "IPY_MODEL_dac7cc1255be42e8b5ea7a20bd0a61a4"
      }
     },
     "b162b7297bef4077baf24c837f7cedf6": {
      "model_module": "@jupyter-widgets/controls",
      "model_module_version": "1.4.0",
      "model_name": "ProgressStyleModel",
      "state": {
       "description_width": "initial"
      }
     },
     "b1a9917efe594ff0bca2308bed6d989b": {
      "model_module": "@jupyter-widgets/controls",
      "model_module_version": "1.4.0",
      "model_name": "ButtonStyleModel",
      "state": {}
     },
     "b1b7da47e8e54217abc4df408ddbbe08": {
      "model_module": "@jupyter-widgets/controls",
      "model_module_version": "1.4.0",
      "model_name": "VBoxModel",
      "state": {
       "children": [
        "IPY_MODEL_79f15613ccfc420ba73962d28d149700"
       ],
       "layout": "IPY_MODEL_17a2ed406bee4098bb0b2d32b200a987"
      }
     },
     "b1e7f48346cf4c90b0e3ecd8f1346611": {
      "model_module": "@jupyter-widgets/controls",
      "model_module_version": "1.4.0",
      "model_name": "HBoxModel",
      "state": {
       "children": [
        "IPY_MODEL_fff3c4aa955a4d878bccbc7da1fb62de",
        "IPY_MODEL_8f62922319aa456cadbe8f84321b5fd7",
        "IPY_MODEL_cca002bb1ca047fb8ba2f34fa743a1fb"
       ],
       "layout": "IPY_MODEL_270e387467d64ff4b87bbbc9c60951a7"
      }
     },
     "b204f4dac7774b1cb3bef7c73d22294f": {
      "model_module": "@jupyter-widgets/base",
      "model_module_version": "1.1.0",
      "model_name": "LayoutModel",
      "state": {}
     },
     "b205d3cb0c9d4e1492eb4f0cf17e1c33": {
      "model_module": "@jupyter-widgets/controls",
      "model_module_version": "1.4.0",
      "model_name": "VBoxModel",
      "state": {
       "children": [
        "IPY_MODEL_a36c3caa205840ccaaedf979df1f9de8"
       ],
       "layout": "IPY_MODEL_cac62d519f534eb6a482903f9111e5fe"
      }
     },
     "b233f60d9c904692ac5740fe02ae53d9": {
      "model_module": "@jupyter-widgets/controls",
      "model_module_version": "1.4.0",
      "model_name": "ButtonStyleModel",
      "state": {}
     },
     "b27ada6560dc4c1990e260423cc2abd3": {
      "model_module": "@jupyter-widgets/controls",
      "model_module_version": "1.4.0",
      "model_name": "SelectMultipleModel",
      "state": {
       "_options_labels": [
        "VI produced, good quality",
        "VI produced, but check other QA",
        "Pixel produced, but most probably cloudy",
        "Pixel not produced due to other reasons than clouds"
       ],
       "description": "Description",
       "index": [
        0
       ],
       "layout": "IPY_MODEL_90862690a1644e76bcfa1798322934f7",
       "rows": 4,
       "style": "IPY_MODEL_44a2b80b202f49288b8ae0844359c755"
      }
     },
     "b2b1be67c2354dfabbd0cdf6afd5bc55": {
      "model_module": "@jupyter-widgets/controls",
      "model_module_version": "1.4.0",
      "model_name": "ButtonModel",
      "state": {
       "description": "Select ALL",
       "layout": "IPY_MODEL_5803a4bccd5946a4a3d10a20a8da6d84",
       "style": "IPY_MODEL_3b6ba1c07780461aaa5e0a8d64c2a7aa"
      }
     },
     "b2f45a6e9800476f8c7f9d5db69b923e": {
      "model_module": "@jupyter-widgets/controls",
      "model_module_version": "1.4.0",
      "model_name": "ButtonStyleModel",
      "state": {}
     },
     "b2f718a20e76423eb44a5f8715134e47": {
      "model_module": "@jupyter-widgets/base",
      "model_module_version": "1.1.0",
      "model_name": "LayoutModel",
      "state": {
       "width": "20%"
      }
     },
     "b30cd37b60c64534bf83d301f97e9c0e": {
      "model_module": "@jupyter-widgets/base",
      "model_module_version": "1.1.0",
      "model_name": "LayoutModel",
      "state": {
       "height": "200px",
       "width": "99%"
      }
     },
     "b34148e9147e45138002fdb03e232144": {
      "model_module": "@jupyter-widgets/controls",
      "model_module_version": "1.4.0",
      "model_name": "ButtonModel",
      "state": {
       "description": "Select ALL",
       "layout": "IPY_MODEL_5977f2c725b54c98b8ab4ff60bd98a54",
       "style": "IPY_MODEL_2a71b3ca41584cfdbdbdcbf72dd7f48f"
      }
     },
     "b363bc51a72e4fc0ad3f597f9fabd0b7": {
      "model_module": "@jupyter-widgets/controls",
      "model_module_version": "1.4.0",
      "model_name": "ButtonStyleModel",
      "state": {}
     },
     "b388c447d36a4825b7fed33849b046ad": {
      "model_module": "@jupyter-widgets/controls",
      "model_module_version": "1.4.0",
      "model_name": "ButtonModel",
      "state": {
       "description": "Default selection",
       "layout": "IPY_MODEL_ee29b06a86ab4d92b5e023e9e3b58af7",
       "style": "IPY_MODEL_74cb56f0fdcd42ae9cb0d5c4ebb2e842"
      }
     },
     "b3b510c4e0344012863d3be7b0190cf9": {
      "model_module": "@jupyter-widgets/base",
      "model_module_version": "1.1.0",
      "model_name": "LayoutModel",
      "state": {
       "width": "400px"
      }
     },
     "b41e1cdff33148468a9ccdc2e9fbae3e": {
      "model_module": "@jupyter-widgets/controls",
      "model_module_version": "1.4.0",
      "model_name": "ButtonModel",
      "state": {
       "description": "Default selection",
       "layout": "IPY_MODEL_239bd33b331a45a998b144ff925cff7e",
       "style": "IPY_MODEL_01e76db0ef5a43aa9b229e24e26edf45"
      }
     },
     "b47bc9414089457484a20e442a9cb073": {
      "model_module": "@jupyter-widgets/controls",
      "model_module_version": "1.4.0",
      "model_name": "HTMLModel",
      "state": {
       "description": "QA layer:",
       "layout": "IPY_MODEL_351df6b21dfc4b27b51b540b5ddda4da",
       "style": "IPY_MODEL_417e30e590e04fb1a97b6330261d4644",
       "value": "<b>_1_km_16_days_VI_Quality</b>"
      }
     },
     "b491f1f01de2477e8358b18a9fc475f7": {
      "model_module": "@jupyter-widgets/controls",
      "model_module_version": "1.4.0",
      "model_name": "ButtonModel",
      "state": {
       "description": "Select ALL",
       "layout": "IPY_MODEL_d49e98dc9437404e99eb3ff35590022f",
       "style": "IPY_MODEL_f7aec7aecf8b49e39815e5c603fea98c"
      }
     },
     "b49a91845a464c27a586ed84cfa66b14": {
      "model_module": "@jupyter-widgets/controls",
      "model_module_version": "1.4.0",
      "model_name": "ButtonStyleModel",
      "state": {}
     },
     "b4abd675f1ac430bbb8115b12040e508": {
      "model_module": "@jupyter-widgets/controls",
      "model_module_version": "1.4.0",
      "model_name": "SelectModel",
      "state": {
       "_options_labels": [
        "MODLAND",
        "VI Usefulness",
        "Aerosol Quantity",
        "Adjacent cloud detected",
        "Atmosphere BRDF Correction",
        "Mixed Clouds",
        "Land/Water Mask",
        "Possible snow/ice",
        "Possible shadow"
       ],
       "description": "QA Parameter name:",
       "index": 0,
       "layout": "IPY_MODEL_0641ef1bf18d4a629cec1ccb4a11f292",
       "rows": 9,
       "style": "IPY_MODEL_ecddd67569584447beb4106c4d67e451"
      }
     },
     "b4adbad661954973ac26b40dc4e620cf": {
      "model_module": "@jupyter-widgets/base",
      "model_module_version": "1.1.0",
      "model_name": "LayoutModel",
      "state": {
       "width": "400px"
      }
     },
     "b4d448e70b4647febddcdd85e4b7fbd2": {
      "model_module": "@jupyter-widgets/base",
      "model_module_version": "1.1.0",
      "model_name": "LayoutModel",
      "state": {
       "width": "350px"
      }
     },
     "b4d5f6395c1842be9f8c374dbc7b0ed9": {
      "model_module": "@jupyter-widgets/controls",
      "model_module_version": "1.4.0",
      "model_name": "ButtonStyleModel",
      "state": {}
     },
     "b4f5e2a7bc844f1f912b3c5e3d127d30": {
      "model_module": "@jupyter-widgets/controls",
      "model_module_version": "1.4.0",
      "model_name": "ButtonModel",
      "state": {
       "description": "Select ALL",
       "layout": "IPY_MODEL_80efeb2adc6844b0a029f31603987c56",
       "style": "IPY_MODEL_5b17a4185e064482a6edc09f4d0e11e7"
      }
     },
     "b504cb52d1ed40cead538da1e8e46e8c": {
      "model_module": "@jupyter-widgets/controls",
      "model_module_version": "1.4.0",
      "model_name": "DescriptionStyleModel",
      "state": {
       "description_width": "initial"
      }
     },
     "b50b2813672443f8a7852b909e353c86": {
      "model_module": "@jupyter-widgets/controls",
      "model_module_version": "1.4.0",
      "model_name": "VBoxModel",
      "state": {
       "children": [
        "IPY_MODEL_b602b067ea7a4abb9d5cc91fe7caee7f"
       ],
       "layout": "IPY_MODEL_526bd6286a564fd9a418472b5835134d"
      }
     },
     "b5129acc15b54bdcbc4945450f882bf4": {
      "model_module": "@jupyter-widgets/base",
      "model_module_version": "1.1.0",
      "model_name": "LayoutModel",
      "state": {}
     },
     "b54a203cdf1442b3ba8ede9db413d74f": {
      "model_module": "@jupyter-widgets/base",
      "model_module_version": "1.1.0",
      "model_name": "LayoutModel",
      "state": {
       "width": "400px"
      }
     },
     "b55d807bc43944c28006bdf145a05c3c": {
      "model_module": "@jupyter-widgets/controls",
      "model_module_version": "1.4.0",
      "model_name": "VBoxModel",
      "state": {
       "children": [
        "IPY_MODEL_5846c63ea3be45c48f3b86d15d1038dc"
       ],
       "layout": "IPY_MODEL_896fc00edd9a4bde9ff8abef37c73da2"
      }
     },
     "b5abab89dbef4b529b7ea31ba4717e04": {
      "model_module": "@jupyter-widgets/controls",
      "model_module_version": "1.4.0",
      "model_name": "ButtonModel",
      "state": {
       "description": "Select ALL",
       "layout": "IPY_MODEL_865074ec7dcf4eb8a31766503e8e443a",
       "style": "IPY_MODEL_7ad20d6a388e4279af8a55b47ac80974"
      }
     },
     "b5d32200c8a44305bced7886b207ee6a": {
      "model_module": "@jupyter-widgets/base",
      "model_module_version": "1.1.0",
      "model_name": "LayoutModel",
      "state": {}
     },
     "b5e20fac174048c690440961ce6189f6": {
      "model_module": "@jupyter-widgets/controls",
      "model_module_version": "1.4.0",
      "model_name": "DescriptionStyleModel",
      "state": {
       "description_width": "initial"
      }
     },
     "b602b067ea7a4abb9d5cc91fe7caee7f": {
      "model_module": "@jupyter-widgets/controls",
      "model_module_version": "1.4.0",
      "model_name": "SelectMultipleModel",
      "state": {
       "_options_labels": [
        "VI produced, good quality",
        "VI produced, but check other QA",
        "Pixel produced, but most probably cloudy",
        "Pixel not produced due to other reasons than clouds"
       ],
       "description": "Description",
       "index": [
        0
       ],
       "layout": "IPY_MODEL_ca67552208be4c0ebd05b1ce0c25138f",
       "rows": 4,
       "style": "IPY_MODEL_6dddf507b4844565981746969defb074"
      }
     },
     "b6074627bb784547be5ae97ce9eb988c": {
      "model_module": "@jupyter-widgets/controls",
      "model_module_version": "1.4.0",
      "model_name": "ButtonModel",
      "state": {
       "description": "Default selection",
       "layout": "IPY_MODEL_c32130e27d4e4c4f8302988415dbb543",
       "style": "IPY_MODEL_4454ae662d8d48f79fe82161d666cdea"
      }
     },
     "b60d37269f6b4e7c915b4c257d952376": {
      "model_module": "@jupyter-widgets/base",
      "model_module_version": "1.1.0",
      "model_name": "LayoutModel",
      "state": {
       "width": "400px"
      }
     },
     "b67d35f1269542ad9f83aa086db3d60d": {
      "model_module": "@jupyter-widgets/controls",
      "model_module_version": "1.4.0",
      "model_name": "SelectModel",
      "state": {
       "_options_labels": [
        "MODLAND",
        "VI Usefulness",
        "Aerosol Quantity",
        "Adjacent cloud detected",
        "Atmosphere BRDF Correction",
        "Mixed Clouds",
        "Land/Water Mask",
        "Possible snow/ice",
        "Possible shadow"
       ],
       "description": "QA Parameter name:",
       "index": 0,
       "layout": "IPY_MODEL_adec4c5b6f53406da1a0279d8d8ced7f",
       "rows": 9,
       "style": "IPY_MODEL_79dd0a7760324c2ca5eb04eede531e70"
      }
     },
     "b736d2717b8f4822867a12751a520128": {
      "model_module": "@jupyter-widgets/base",
      "model_module_version": "1.1.0",
      "model_name": "LayoutModel",
      "state": {
       "width": "20%"
      }
     },
     "b7bf2ae98c7740caa668f1d6f4abbb16": {
      "model_module": "@jupyter-widgets/controls",
      "model_module_version": "1.4.0",
      "model_name": "SelectMultipleModel",
      "state": {
       "_options_labels": [
        "VI produced, good quality",
        "VI produced, but check other QA",
        "Pixel produced, but most probably cloudy",
        "Pixel not produced due to other reasons than clouds"
       ],
       "description": "Description",
       "index": [
        0,
        1,
        2,
        3
       ],
       "layout": "IPY_MODEL_2cbf54e0e3e5401ca843d1919eb97d83",
       "rows": 4,
       "style": "IPY_MODEL_96654593b8a94607b5ac74233e15820e"
      }
     },
     "b7d0649d62f2469caf513bf83c1704a3": {
      "model_module": "@jupyter-widgets/controls",
      "model_module_version": "1.4.0",
      "model_name": "ButtonStyleModel",
      "state": {}
     },
     "b7d6efd526f342089584d4ddda7f3378": {
      "model_module": "@jupyter-widgets/base",
      "model_module_version": "1.1.0",
      "model_name": "LayoutModel",
      "state": {
       "width": "50%"
      }
     },
     "b7f234db88944b229c9964a560c8c077": {
      "model_module": "@jupyter-widgets/base",
      "model_module_version": "1.1.0",
      "model_name": "LayoutModel",
      "state": {
       "width": "20%"
      }
     },
     "b81ec450cf174962942d3bfcdb946dfe": {
      "model_module": "@jupyter-widgets/controls",
      "model_module_version": "1.4.0",
      "model_name": "DescriptionStyleModel",
      "state": {
       "description_width": ""
      }
     },
     "b82a2a140d8742a2958ef618c8ca2251": {
      "model_module": "@jupyter-widgets/base",
      "model_module_version": "1.1.0",
      "model_name": "LayoutModel",
      "state": {
       "width": "19%"
      }
     },
     "b82a4f004ea04779822b792a623542aa": {
      "model_module": "@jupyter-widgets/base",
      "model_module_version": "1.1.0",
      "model_name": "LayoutModel",
      "state": {
       "height": "200px",
       "width": "99%"
      }
     },
     "b82f4fe5e70d4d7fa3aff54b79f52af1": {
      "model_module": "@jupyter-widgets/controls",
      "model_module_version": "1.4.0",
      "model_name": "ButtonModel",
      "state": {
       "description": "Select ALL",
       "layout": "IPY_MODEL_2ebf03da28174c8697256632bbc6f732",
       "style": "IPY_MODEL_21543d526d4c4208a5e9defb0b959b1d"
      }
     },
     "b8325c66602d40f79641bae47eca42f4": {
      "model_module": "@jupyter-widgets/controls",
      "model_module_version": "1.4.0",
      "model_name": "DescriptionStyleModel",
      "state": {
       "description_width": "initial"
      }
     },
     "b835901740de4399bfb0868af17526fd": {
      "model_module": "@jupyter-widgets/controls",
      "model_module_version": "1.4.0",
      "model_name": "HBoxModel",
      "state": {
       "children": [
        "IPY_MODEL_ef3b7c62a1f144ec96517caf59b704df",
        "IPY_MODEL_c348f81e47374ef5bf9645b05390180b"
       ],
       "layout": "IPY_MODEL_95e60c245d294f2d8e7e0f9e19d02e1b"
      }
     },
     "b84625cb16254e74ada1af7880a3c357": {
      "model_module": "@jupyter-widgets/controls",
      "model_module_version": "1.4.0",
      "model_name": "ButtonStyleModel",
      "state": {}
     },
     "b866cc744e8542f5a2cb65a69eb4a556": {
      "model_module": "@jupyter-widgets/base",
      "model_module_version": "1.1.0",
      "model_name": "LayoutModel",
      "state": {}
     },
     "b86d50448b0b430c996d3ac4faf17420": {
      "model_module": "@jupyter-widgets/controls",
      "model_module_version": "1.4.0",
      "model_name": "ButtonStyleModel",
      "state": {}
     },
     "b89e17b512fd4c9c8c665a58442784cc": {
      "model_module": "@jupyter-widgets/controls",
      "model_module_version": "1.4.0",
      "model_name": "DescriptionStyleModel",
      "state": {
       "description_width": "initial"
      }
     },
     "b8a54eacce074ca3b36373d9fb4c2d25": {
      "model_module": "@jupyter-widgets/controls",
      "model_module_version": "1.4.0",
      "model_name": "ButtonModel",
      "state": {
       "description": "Select ALL",
       "layout": "IPY_MODEL_2073319bd3874bb0a000dc44ba150c7b",
       "style": "IPY_MODEL_f333eca906b44e089805a6bacbb2b0c7"
      }
     },
     "b8c78df261c443439c5f0aca0ba08d85": {
      "model_module": "@jupyter-widgets/base",
      "model_module_version": "1.1.0",
      "model_name": "LayoutModel",
      "state": {}
     },
     "b9457f540c7a45beafc54ef99df49295": {
      "model_module": "@jupyter-widgets/controls",
      "model_module_version": "1.4.0",
      "model_name": "HBoxModel",
      "state": {
       "children": [
        "IPY_MODEL_e88b704d13b742578b9871147b745de6",
        "IPY_MODEL_17e9fb66fd3b43399961e0933a5e0a7b"
       ],
       "layout": "IPY_MODEL_38eb957940e94386b29920f326e3a7af"
      }
     },
     "b98fdd05d5bb4b0c945cae4937986f47": {
      "model_module": "@jupyter-widgets/controls",
      "model_module_version": "1.4.0",
      "model_name": "DescriptionStyleModel",
      "state": {
       "description_width": ""
      }
     },
     "b995b90c7a084ed597e3c5a712ec3460": {
      "model_module": "@jupyter-widgets/base",
      "model_module_version": "1.1.0",
      "model_name": "LayoutModel",
      "state": {
       "width": "20%"
      }
     },
     "b9a4c266f49e43dea795236288de9ff4": {
      "model_module": "@jupyter-widgets/controls",
      "model_module_version": "1.4.0",
      "model_name": "ProgressStyleModel",
      "state": {
       "description_width": "initial"
      }
     },
     "ba23999108f048a8b6f699531c861408": {
      "model_module": "@jupyter-widgets/controls",
      "model_module_version": "1.4.0",
      "model_name": "ButtonStyleModel",
      "state": {}
     },
     "baaca349d88d4c2daa70fd24c87341f7": {
      "model_module": "@jupyter-widgets/controls",
      "model_module_version": "1.4.0",
      "model_name": "ProgressStyleModel",
      "state": {
       "description_width": "initial"
      }
     },
     "bab35d3d57c54920b3c0c0db55f765e7": {
      "model_module": "@jupyter-widgets/base",
      "model_module_version": "1.1.0",
      "model_name": "LayoutModel",
      "state": {
       "height": "300px",
       "width": "99%"
      }
     },
     "badbe5fb620746de98be84685a415823": {
      "model_module": "@jupyter-widgets/base",
      "model_module_version": "1.1.0",
      "model_name": "LayoutModel",
      "state": {}
     },
     "bae8522ab5914e65a23779b3675593a7": {
      "model_module": "@jupyter-widgets/controls",
      "model_module_version": "1.4.0",
      "model_name": "VBoxModel",
      "state": {
       "children": [
        "IPY_MODEL_1627db996dbe48a2b51d14549d9c4242"
       ],
       "layout": "IPY_MODEL_b5129acc15b54bdcbc4945450f882bf4"
      }
     },
     "bb237c7cc4714b11a4fe00a424278f1a": {
      "model_module": "@jupyter-widgets/controls",
      "model_module_version": "1.4.0",
      "model_name": "ButtonStyleModel",
      "state": {}
     },
     "bb476f47b308487ea9e64ab89f7b5712": {
      "model_module": "@jupyter-widgets/controls",
      "model_module_version": "1.4.0",
      "model_name": "DescriptionStyleModel",
      "state": {
       "description_width": "initial"
      }
     },
     "bb5dd41c300343238d4920555fa1848d": {
      "model_module": "@jupyter-widgets/base",
      "model_module_version": "1.1.0",
      "model_name": "LayoutModel",
      "state": {
       "width": "20%"
      }
     },
     "bb79e7091e5548f29fe310f6777d4637": {
      "model_module": "@jupyter-widgets/controls",
      "model_module_version": "1.4.0",
      "model_name": "ButtonModel",
      "state": {
       "description": "Default selection",
       "layout": "IPY_MODEL_470b14a2a96e4c78a0b581ec20b19131",
       "style": "IPY_MODEL_dfeb91fa296b47d5b5604cd40dd38dc2"
      }
     },
     "bb85f5f75efb458fa1054eabac395ba8": {
      "model_module": "@jupyter-widgets/controls",
      "model_module_version": "1.4.0",
      "model_name": "VBoxModel",
      "state": {
       "children": [
        "IPY_MODEL_6f49fbb5e692435884802d977dd0f8e9"
       ],
       "layout": "IPY_MODEL_0c223f8e75e0485b835285595b78f9fe"
      }
     },
     "bb8ad8eb336141b1ba737daa74da1861": {
      "model_module": "@jupyter-widgets/base",
      "model_module_version": "1.1.0",
      "model_name": "LayoutModel",
      "state": {}
     },
     "bb8c811a6aee466f9c080498efc6013f": {
      "model_module": "@jupyter-widgets/controls",
      "model_module_version": "1.4.0",
      "model_name": "DescriptionStyleModel",
      "state": {
       "description_width": "initial"
      }
     },
     "bbaad931ffc740e9addcc0ba1551e9e1": {
      "model_module": "@jupyter-widgets/controls",
      "model_module_version": "1.4.0",
      "model_name": "DescriptionStyleModel",
      "state": {
       "description_width": ""
      }
     },
     "bbaf5fa32fe94494b69588857d69e90b": {
      "model_module": "@jupyter-widgets/controls",
      "model_module_version": "1.4.0",
      "model_name": "ButtonStyleModel",
      "state": {}
     },
     "bbd40368fdc4490aa645ffab2e292361": {
      "model_module": "@jupyter-widgets/base",
      "model_module_version": "1.1.0",
      "model_name": "LayoutModel",
      "state": {}
     },
     "bbe67f7068d44e23a8ef3dced42a54b0": {
      "model_module": "@jupyter-widgets/base",
      "model_module_version": "1.1.0",
      "model_name": "LayoutModel",
      "state": {}
     },
     "bc07217b606f4f8f872d521d7701cc04": {
      "model_module": "@jupyter-widgets/base",
      "model_module_version": "1.1.0",
      "model_name": "LayoutModel",
      "state": {
       "width": "400px"
      }
     },
     "bc0825599f3a4a1cbb032bc295239381": {
      "model_module": "@jupyter-widgets/base",
      "model_module_version": "1.1.0",
      "model_name": "LayoutModel",
      "state": {
       "width": "20%"
      }
     },
     "bc2fabf5c3ee48f6be2af42ce9102e14": {
      "model_module": "@jupyter-widgets/base",
      "model_module_version": "1.1.0",
      "model_name": "LayoutModel",
      "state": {
       "width": "400px"
      }
     },
     "bc5f51300f71491881422846d7406c25": {
      "model_module": "@jupyter-widgets/base",
      "model_module_version": "1.1.0",
      "model_name": "LayoutModel",
      "state": {
       "height": "350px",
       "width": "99%"
      }
     },
     "bc909563a08242619961cd064a90fa93": {
      "model_module": "@jupyter-widgets/base",
      "model_module_version": "1.1.0",
      "model_name": "LayoutModel",
      "state": {
       "width": "50%"
      }
     },
     "bc9ebbd9307a42d9b17f7ada872e3fcd": {
      "model_module": "@jupyter-widgets/base",
      "model_module_version": "1.1.0",
      "model_name": "LayoutModel",
      "state": {
       "height": "200px",
       "width": "99%"
      }
     },
     "bcba5a9fd6414b41b9cf034d1dbe3b5a": {
      "model_module": "@jupyter-widgets/base",
      "model_module_version": "1.1.0",
      "model_name": "LayoutModel",
      "state": {
       "width": "400px"
      }
     },
     "bce450e565ad48abbda81f7d2813fe90": {
      "model_module": "@jupyter-widgets/controls",
      "model_module_version": "1.4.0",
      "model_name": "HBoxModel",
      "state": {
       "children": [
        "IPY_MODEL_46677bd8c1be4e2e9571187cc0d31712",
        "IPY_MODEL_a0ab3fa7d74445e6bdd2b644285bda33"
       ],
       "layout": "IPY_MODEL_6e16ed82a64147c790de71d32556b5ac"
      }
     },
     "bcf2472d805b40479621d2bebb8c97d5": {
      "model_module": "@jupyter-widgets/controls",
      "model_module_version": "1.4.0",
      "model_name": "ButtonStyleModel",
      "state": {}
     },
     "bcf8d6b59f174a9abf4cf25a5d307737": {
      "model_module": "@jupyter-widgets/base",
      "model_module_version": "1.1.0",
      "model_name": "LayoutModel",
      "state": {
       "width": "20%"
      }
     },
     "bcf9cdab7c924a82a7aeac1d526c5165": {
      "model_module": "@jupyter-widgets/base",
      "model_module_version": "1.1.0",
      "model_name": "LayoutModel",
      "state": {
       "width": "400px"
      }
     },
     "bd127322654043c0a5f37eb895b38c7e": {
      "model_module": "@jupyter-widgets/base",
      "model_module_version": "1.1.0",
      "model_name": "LayoutModel",
      "state": {}
     },
     "bd294d36b73d4092a46a452ba28e5e15": {
      "model_module": "@jupyter-widgets/controls",
      "model_module_version": "1.4.0",
      "model_name": "VBoxModel",
      "state": {
       "children": [
        "IPY_MODEL_3a314e6d98834bbe823bc71b56eec991"
       ],
       "layout": "IPY_MODEL_e5930db6f3844ac7a63fdc6f206f9949"
      }
     },
     "bd363e52ab5445a1bb1914473da0718a": {
      "model_module": "@jupyter-widgets/base",
      "model_module_version": "1.1.0",
      "model_name": "LayoutModel",
      "state": {
       "width": "20%"
      }
     },
     "bd7d882e970c46a79061917312326620": {
      "model_module": "@jupyter-widgets/base",
      "model_module_version": "1.1.0",
      "model_name": "LayoutModel",
      "state": {}
     },
     "bdafb50d3a424956b7b08b6206b98106": {
      "model_module": "@jupyter-widgets/controls",
      "model_module_version": "1.4.0",
      "model_name": "ButtonModel",
      "state": {
       "description": "QA analytics",
       "layout": "IPY_MODEL_01b239f66c4a4effb8b8ed033b6f843e",
       "style": "IPY_MODEL_1e36e758d3e74e08940f3c291d7764ea"
      }
     },
     "bdc416d6251d4946ae2967de37279db6": {
      "model_module": "@jupyter-widgets/base",
      "model_module_version": "1.1.0",
      "model_name": "LayoutModel",
      "state": {
       "width": "20%"
      }
     },
     "bdcb2fa91b0e469bac8fe486bd5e0e73": {
      "model_module": "@jupyter-widgets/controls",
      "model_module_version": "1.4.0",
      "model_name": "SelectMultipleModel",
      "state": {
       "_options_labels": [
        "VI produced, good quality",
        "VI produced, but check other QA",
        "Pixel produced, but most probably cloudy",
        "Pixel not produced due to other reasons than clouds"
       ],
       "description": "Description",
       "index": [
        0
       ],
       "layout": "IPY_MODEL_24fd6c9dd6c9434ea7244642035ea6e6",
       "rows": 4,
       "style": "IPY_MODEL_afb32b22f9af4430aba03dcba1ccc961"
      }
     },
     "bdcf2a8fc9a8456db4c68d98475050e3": {
      "model_module": "@jupyter-widgets/controls",
      "model_module_version": "1.4.0",
      "model_name": "ButtonModel",
      "state": {
       "description": "Default selection",
       "layout": "IPY_MODEL_0d5f46beb7f246daa7007c761e9b622b",
       "style": "IPY_MODEL_61fb9d0622764885a92fa771a4ff8692"
      }
     },
     "bde4f078b6734b829690c4fe248791ca": {
      "model_module": "@jupyter-widgets/controls",
      "model_module_version": "1.4.0",
      "model_name": "ButtonStyleModel",
      "state": {}
     },
     "be1925841d3d4a90aa0c83ee5a9ad47a": {
      "model_module": "@jupyter-widgets/controls",
      "model_module_version": "1.4.0",
      "model_name": "DescriptionStyleModel",
      "state": {
       "description_width": "initial"
      }
     },
     "be1de8da87e648df801fdf2159024af1": {
      "model_module": "@jupyter-widgets/controls",
      "model_module_version": "1.4.0",
      "model_name": "VBoxModel",
      "state": {
       "children": [
        "IPY_MODEL_d8958cb97d384167a89d8671434d6a33"
       ],
       "layout": "IPY_MODEL_cee8dcc3321e4a70b6bb1f0dfb154b47"
      }
     },
     "be4ccb72df7e417687b1008eb8047133": {
      "model_module": "@jupyter-widgets/controls",
      "model_module_version": "1.4.0",
      "model_name": "ButtonStyleModel",
      "state": {}
     },
     "be50aaa13ad44bc1a6bc1ae70c9a94d4": {
      "model_module": "@jupyter-widgets/controls",
      "model_module_version": "1.4.0",
      "model_name": "VBoxModel",
      "state": {
       "children": [
        "IPY_MODEL_9dc04b4c7dac40fd973a5aee71b334cd"
       ],
       "layout": "IPY_MODEL_702100f4360f446ebc0b2025b46c372f"
      }
     },
     "be75db788c3246519751ff13d4cbe5a0": {
      "model_module": "@jupyter-widgets/controls",
      "model_module_version": "1.4.0",
      "model_name": "DescriptionStyleModel",
      "state": {
       "description_width": "initial"
      }
     },
     "bea77ae13dc64bbbaf443007950cb53a": {
      "model_module": "@jupyter-widgets/controls",
      "model_module_version": "1.4.0",
      "model_name": "VBoxModel",
      "state": {
       "children": [
        "IPY_MODEL_ef556bd6bf0048819a354cdaad82406d"
       ],
       "layout": "IPY_MODEL_d549fccca1cb4d4ea02af219ff6a5089"
      }
     },
     "bec46cfb23d5432789bedcab90f4c224": {
      "model_module": "@jupyter-widgets/base",
      "model_module_version": "1.1.0",
      "model_name": "LayoutModel",
      "state": {
       "width": "50%"
      }
     },
     "beca49b4c7bb4f318ab4a8d4c72baab4": {
      "model_module": "@jupyter-widgets/controls",
      "model_module_version": "1.4.0",
      "model_name": "ButtonModel",
      "state": {
       "description": "Default selection",
       "layout": "IPY_MODEL_e15a8d7b1bc445a58185c323ee4282e3",
       "style": "IPY_MODEL_780268783c6241d7806eebdc9c1a2769"
      }
     },
     "beccbb63915d428aab4d2ee7d17c48c9": {
      "model_module": "@jupyter-widgets/controls",
      "model_module_version": "1.4.0",
      "model_name": "HTMLModel",
      "state": {
       "description": "QA layer:",
       "layout": "IPY_MODEL_73462efce06a49659ff43e2f1d68b1e2",
       "style": "IPY_MODEL_3a5c51fae1a743bbb41a188ca298fcc2",
       "value": "<b>_1_km_16_days_VI_Quality</b>"
      }
     },
     "bed16365a8024e9f8542eb1d3fc19f3c": {
      "model_module": "@jupyter-widgets/base",
      "model_module_version": "1.1.0",
      "model_name": "LayoutModel",
      "state": {
       "width": "400px"
      }
     },
     "bf1fa8036ecd425cb30c0722caefe497": {
      "model_module": "@jupyter-widgets/controls",
      "model_module_version": "1.4.0",
      "model_name": "ProgressStyleModel",
      "state": {
       "description_width": "initial"
      }
     },
     "bf30e775f2fc49c38f225bb82b960bed": {
      "model_module": "@jupyter-widgets/base",
      "model_module_version": "1.1.0",
      "model_name": "LayoutModel",
      "state": {
       "width": "350px"
      }
     },
     "bf4c2e4c87d24522953d7e3a9edff5a7": {
      "model_module": "@jupyter-widgets/controls",
      "model_module_version": "1.4.0",
      "model_name": "ButtonModel",
      "state": {
       "description": "Default selection",
       "layout": "IPY_MODEL_a16effd177ca4a349d1ca4d31330233e",
       "style": "IPY_MODEL_d71a6461f8bc43e69010849213708430"
      }
     },
     "bf5a1de0e5594940ad7d0f5937bf9ba7": {
      "model_module": "@jupyter-widgets/base",
      "model_module_version": "1.1.0",
      "model_name": "LayoutModel",
      "state": {
       "height": "300px",
       "width": "99%"
      }
     },
     "bf60cf5964b4436db0c7d0a99ae28ef0": {
      "model_module": "@jupyter-widgets/controls",
      "model_module_version": "1.4.0",
      "model_name": "ProgressStyleModel",
      "state": {
       "description_width": "initial"
      }
     },
     "bf989bf2e3244e4885f826c38234beb3": {
      "model_module": "@jupyter-widgets/base",
      "model_module_version": "1.1.0",
      "model_name": "LayoutModel",
      "state": {}
     },
     "bfad47680d10465f97fd9f76dc3388f6": {
      "model_module": "@jupyter-widgets/base",
      "model_module_version": "1.1.0",
      "model_name": "LayoutModel",
      "state": {}
     },
     "bfb51148ea924c4eab725ebe3ed036c0": {
      "model_module": "@jupyter-widgets/base",
      "model_module_version": "1.1.0",
      "model_name": "LayoutModel",
      "state": {
       "width": "400px"
      }
     },
     "bfb9640297ac44738af48c5420f26f48": {
      "model_module": "@jupyter-widgets/controls",
      "model_module_version": "1.4.0",
      "model_name": "VBoxModel",
      "state": {
       "children": [
        "IPY_MODEL_750b1036a33640deab6b9f10da8fd898"
       ],
       "layout": "IPY_MODEL_9f5f58d71de44443b4fb9cf79ffa87db"
      }
     },
     "bff65775889a4b3e94fc1aacd17027b7": {
      "model_module": "@jupyter-widgets/controls",
      "model_module_version": "1.4.0",
      "model_name": "VBoxModel",
      "state": {
       "children": [
        "IPY_MODEL_2dcf6882506b4d5ebf5e484d686f2272"
       ],
       "layout": "IPY_MODEL_57f2ad859171475b84b70bb3b9c76838"
      }
     },
     "c0457e7d801848f8ad754aa4e9db41f8": {
      "model_module": "@jupyter-widgets/base",
      "model_module_version": "1.1.0",
      "model_name": "LayoutModel",
      "state": {}
     },
     "c04eb28c063a4896b896f486dffc8d11": {
      "model_module": "@jupyter-widgets/controls",
      "model_module_version": "1.4.0",
      "model_name": "ButtonStyleModel",
      "state": {}
     },
     "c058fa4e0a7843578bfed52c840a6d3e": {
      "model_module": "@jupyter-widgets/controls",
      "model_module_version": "1.4.0",
      "model_name": "SelectMultipleModel",
      "state": {
       "_options_labels": [
        "No",
        "Yes"
       ],
       "description": "Description",
       "index": [
        0,
        1
       ],
       "layout": "IPY_MODEL_6df05bc5f10c4fb081a9d7f7d9f3365e",
       "rows": 2,
       "style": "IPY_MODEL_d562accff913468ebd51c16708efc21e"
      }
     },
     "c05a8e9a7ff6446fb9dd69ff603d3d88": {
      "model_module": "@jupyter-widgets/controls",
      "model_module_version": "1.4.0",
      "model_name": "ButtonStyleModel",
      "state": {}
     },
     "c05abb40ecad43f0b4d50a25261e7dfa": {
      "model_module": "@jupyter-widgets/base",
      "model_module_version": "1.1.0",
      "model_name": "LayoutModel",
      "state": {}
     },
     "c0d069e653e048eb9b8df2d15572a863": {
      "model_module": "@jupyter-widgets/controls",
      "model_module_version": "1.4.0",
      "model_name": "ButtonStyleModel",
      "state": {}
     },
     "c1077fc28e1e4d87bfabb07a3ececa40": {
      "model_module": "@jupyter-widgets/base",
      "model_module_version": "1.1.0",
      "model_name": "LayoutModel",
      "state": {}
     },
     "c133ebfad16d4c70a1a7b74030389192": {
      "model_module": "@jupyter-widgets/controls",
      "model_module_version": "1.4.0",
      "model_name": "VBoxModel",
      "state": {
       "children": [
        "IPY_MODEL_a7a8dfd2286c4c22b3f12c73e999d49e"
       ],
       "layout": "IPY_MODEL_90519339d5a346c3a7eaaf5974075e2f"
      }
     },
     "c13a0aa7520643b7ab20c70075cf5fcb": {
      "model_module": "@jupyter-widgets/controls",
      "model_module_version": "1.4.0",
      "model_name": "ButtonStyleModel",
      "state": {}
     },
     "c168dbb147ca41478e115c4d355a0559": {
      "model_module": "@jupyter-widgets/controls",
      "model_module_version": "1.4.0",
      "model_name": "ButtonStyleModel",
      "state": {}
     },
     "c1a048b9f82d42cf8662d6a0be07da07": {
      "model_module": "@jupyter-widgets/controls",
      "model_module_version": "1.4.0",
      "model_name": "VBoxModel",
      "state": {
       "children": [
        "IPY_MODEL_f2ca36accd3d43d091445a7687c01722"
       ],
       "layout": "IPY_MODEL_c0457e7d801848f8ad754aa4e9db41f8"
      }
     },
     "c1aed131da824eb7b4a332611ab79439": {
      "model_module": "@jupyter-widgets/base",
      "model_module_version": "1.1.0",
      "model_name": "LayoutModel",
      "state": {}
     },
     "c1bdf4a75f604103804d55abf1a6a25b": {
      "model_module": "@jupyter-widgets/controls",
      "model_module_version": "1.4.0",
      "model_name": "VBoxModel",
      "state": {
       "children": [
        "IPY_MODEL_4b08f128148e4564bbfff52764456642"
       ],
       "layout": "IPY_MODEL_ac07851c2ac2479c8dba920c25201ecd"
      }
     },
     "c1bfb79b30c74c70b732a8b069ec7107": {
      "model_module": "@jupyter-widgets/base",
      "model_module_version": "1.1.0",
      "model_name": "LayoutModel",
      "state": {
       "width": "400px"
      }
     },
     "c1c1b80c211647f1903cf7f33fa71556": {
      "model_module": "@jupyter-widgets/base",
      "model_module_version": "1.1.0",
      "model_name": "LayoutModel",
      "state": {
       "width": "20%"
      }
     },
     "c1d86a99a4d94e0989031018dd0db047": {
      "model_module": "@jupyter-widgets/controls",
      "model_module_version": "1.4.0",
      "model_name": "SelectModel",
      "state": {
       "_options_labels": [
        "MODLAND",
        "VI Usefulness",
        "Aerosol Quantity",
        "Adjacent cloud detected",
        "Atmosphere BRDF Correction",
        "Mixed Clouds",
        "Land/Water Mask",
        "Possible snow/ice",
        "Possible shadow"
       ],
       "description": "QA Parameter name:",
       "index": 0,
       "layout": "IPY_MODEL_ae0a96cd6443457e96f003d7d9ec3726",
       "rows": 9,
       "style": "IPY_MODEL_3999127778ad4d6eb657b92e563cf9f3"
      }
     },
     "c220ecef5ea3471da03b57577494aaf5": {
      "model_module": "@jupyter-widgets/controls",
      "model_module_version": "1.4.0",
      "model_name": "ButtonStyleModel",
      "state": {}
     },
     "c24d679f331e4c7eaf46a3716c721897": {
      "model_module": "@jupyter-widgets/controls",
      "model_module_version": "1.4.0",
      "model_name": "ButtonModel",
      "state": {
       "description": "Select ALL",
       "layout": "IPY_MODEL_d8dbeffe925a42b8932f18708b979f38",
       "style": "IPY_MODEL_c220ecef5ea3471da03b57577494aaf5"
      }
     },
     "c2a9956d70144bc0a81ee9a6be081294": {
      "model_module": "@jupyter-widgets/controls",
      "model_module_version": "1.4.0",
      "model_name": "ButtonStyleModel",
      "state": {}
     },
     "c2ac554a8b93480db4aaa42fb791ed26": {
      "model_module": "@jupyter-widgets/controls",
      "model_module_version": "1.4.0",
      "model_name": "SelectMultipleModel",
      "state": {
       "_options_labels": [
        "Good data, use with confidence",
        "Marginal data, Useful, but look at other QA information",
        "Snow/Ice Target covered with snow/ice",
        "Cloudy data, Target not visible, covered with cloud"
       ],
       "description": "Description",
       "index": [
        0
       ],
       "layout": "IPY_MODEL_8ce07b741750404693e1f559fd6b2913",
       "rows": 4,
       "style": "IPY_MODEL_a551b7b80bb54d8fb49df2d570c4a08d"
      }
     },
     "c2ac74fa0f4348cb810fd8456942888b": {
      "model_module": "@jupyter-widgets/controls",
      "model_module_version": "1.4.0",
      "model_name": "VBoxModel",
      "state": {
       "children": [
        "IPY_MODEL_8f83b07c913f43c5b6ba5561c3d05a00"
       ],
       "layout": "IPY_MODEL_1b2de33ec8cf4964b362a57e94fc2f06"
      }
     },
     "c2b84b38d5654e6e88a6708609bb0122": {
      "model_module": "@jupyter-widgets/base",
      "model_module_version": "1.1.0",
      "model_name": "LayoutModel",
      "state": {}
     },
     "c2bc2234e0f04cd580c324de053d29c8": {
      "model_module": "@jupyter-widgets/controls",
      "model_module_version": "1.4.0",
      "model_name": "ButtonModel",
      "state": {
       "description": "Default selection",
       "layout": "IPY_MODEL_37f0a27ea89243449b5c5bad4b501942",
       "style": "IPY_MODEL_110460a919114d6d868f7bffc39a72f6"
      }
     },
     "c2bf878ebf664ff5b0d158bbf7c0028d": {
      "model_module": "@jupyter-widgets/controls",
      "model_module_version": "1.4.0",
      "model_name": "ButtonStyleModel",
      "state": {}
     },
     "c2d2fed738ea449880e2df70bf7de691": {
      "model_module": "@jupyter-widgets/controls",
      "model_module_version": "1.4.0",
      "model_name": "ButtonModel",
      "state": {
       "description": "Select ALL",
       "layout": "IPY_MODEL_71babe139052497dab7e284d7a60a400",
       "style": "IPY_MODEL_c04eb28c063a4896b896f486dffc8d11"
      }
     },
     "c2d82b35eb5041cc89240a8583913873": {
      "model_module": "@jupyter-widgets/base",
      "model_module_version": "1.1.0",
      "model_name": "LayoutModel",
      "state": {
       "width": "400px"
      }
     },
     "c2ea3065c88740ce81fd1b60f3844437": {
      "model_module": "@jupyter-widgets/controls",
      "model_module_version": "1.4.0",
      "model_name": "VBoxModel",
      "state": {
       "children": [
        "IPY_MODEL_4c72624f76ca45c8b6462089ada40259"
       ],
       "layout": "IPY_MODEL_e4da7748e982466d891181a844c87a16"
      }
     },
     "c2f3b5fa479644f9a1882f7e3f0f5b07": {
      "model_module": "@jupyter-widgets/controls",
      "model_module_version": "1.4.0",
      "model_name": "ButtonStyleModel",
      "state": {}
     },
     "c302a98a5cda4b3bb48890625366c8dd": {
      "model_module": "@jupyter-widgets/controls",
      "model_module_version": "1.4.0",
      "model_name": "ButtonModel",
      "state": {
       "description": "QA analytics",
       "layout": "IPY_MODEL_777dc390845242aba1596227f2447e0e",
       "style": "IPY_MODEL_b1a9917efe594ff0bca2308bed6d989b"
      }
     },
     "c30ddfbbfd954b25ab18fde09ca918db": {
      "model_module": "@jupyter-widgets/base",
      "model_module_version": "1.1.0",
      "model_name": "LayoutModel",
      "state": {}
     },
     "c32130e27d4e4c4f8302988415dbb543": {
      "model_module": "@jupyter-widgets/base",
      "model_module_version": "1.1.0",
      "model_name": "LayoutModel",
      "state": {
       "width": "20%"
      }
     },
     "c3301fec047148fe96ff0409b080bcf8": {
      "model_module": "@jupyter-widgets/controls",
      "model_module_version": "1.4.0",
      "model_name": "ButtonStyleModel",
      "state": {}
     },
     "c335dd47092e494789b824cad96581e6": {
      "model_module": "@jupyter-widgets/controls",
      "model_module_version": "1.4.0",
      "model_name": "VBoxModel",
      "state": {
       "children": [
        "IPY_MODEL_f637328ab4054f1c8c51f03e87dc2e05"
       ],
       "layout": "IPY_MODEL_1fa09f9222ad40ed9816f93194a568cb"
      }
     },
     "c348f81e47374ef5bf9645b05390180b": {
      "model_module": "@jupyter-widgets/controls",
      "model_module_version": "1.4.0",
      "model_name": "VBoxModel",
      "state": {
       "children": [
        "IPY_MODEL_4104275dad8748afb1624ea0237d19ea"
       ],
       "layout": "IPY_MODEL_66ed4669845144a1a607f662f792066b"
      }
     },
     "c34fe0b7df18477cb0aa4c7b2ef160e5": {
      "model_module": "@jupyter-widgets/base",
      "model_module_version": "1.1.0",
      "model_name": "LayoutModel",
      "state": {}
     },
     "c3578ea35da94028b6af4b245d9b0ab3": {
      "model_module": "@jupyter-widgets/controls",
      "model_module_version": "1.4.0",
      "model_name": "SelectModel",
      "state": {
       "_options_labels": [
        "MODLAND",
        "VI Usefulness",
        "Aerosol Quantity",
        "Adjacent cloud detected",
        "Atmosphere BRDF Correction",
        "Mixed Clouds",
        "Land/Water Mask",
        "Possible snow/ice",
        "Possible shadow"
       ],
       "description": "QA Parameter name:",
       "index": 0,
       "layout": "IPY_MODEL_9049030abb914393a79255766850f866",
       "rows": 9,
       "style": "IPY_MODEL_d5b18c2186814c0983761885665e3647"
      }
     },
     "c3becd7c445946d2aa495261e7f3d391": {
      "model_module": "@jupyter-widgets/controls",
      "model_module_version": "1.4.0",
      "model_name": "DescriptionStyleModel",
      "state": {
       "description_width": "initial"
      }
     },
     "c3c313d315ff4bb489fb81c5efd56d5e": {
      "model_module": "@jupyter-widgets/controls",
      "model_module_version": "1.4.0",
      "model_name": "HTMLModel",
      "state": {
       "description": "QA layer:",
       "layout": "IPY_MODEL_d8845f06a5a341a99a8c49d9867a3e98",
       "style": "IPY_MODEL_4ecefa34d214417faf4a269a4e0d7610",
       "value": "<b>_1_km_16_days_VI_Quality</b>"
      }
     },
     "c41b1e59b828486cb0938df6e09baff8": {
      "model_module": "@jupyter-widgets/controls",
      "model_module_version": "1.4.0",
      "model_name": "ButtonStyleModel",
      "state": {}
     },
     "c43f54d5876446cd867f8d003de13a6e": {
      "model_module": "@jupyter-widgets/controls",
      "model_module_version": "1.4.0",
      "model_name": "SelectMultipleModel",
      "state": {
       "_options_labels": [
        "VI produced, good quality",
        "VI produced, but check other QA",
        "Pixel produced, but most probably cloudy",
        "Pixel not produced due to other reasons than clouds"
       ],
       "description": "Description",
       "index": [
        0
       ],
       "layout": "IPY_MODEL_c2d82b35eb5041cc89240a8583913873",
       "rows": 4,
       "style": "IPY_MODEL_7324d6ca2467460a96ba9f8d6f0ec27f"
      }
     },
     "c45203201a3c4456a8f7e54d0c0e8777": {
      "model_module": "@jupyter-widgets/controls",
      "model_module_version": "1.4.0",
      "model_name": "HTMLModel",
      "state": {
       "description": "QA layer:",
       "layout": "IPY_MODEL_6a2ff90de0124bf684b40e9be502b867",
       "style": "IPY_MODEL_9f6918f3ae8c4f78990990157c61d328",
       "value": "<b>_1_km_16_days_VI_Quality</b>"
      }
     },
     "c462d80abc9547cf929f112593980988": {
      "model_module": "@jupyter-widgets/base",
      "model_module_version": "1.1.0",
      "model_name": "LayoutModel",
      "state": {}
     },
     "c47df2ca894b4e9aa727fc86c6a8ed74": {
      "model_module": "@jupyter-widgets/controls",
      "model_module_version": "1.4.0",
      "model_name": "HBoxModel",
      "state": {
       "children": [
        "IPY_MODEL_a553d77654254052b708e06d089278c5",
        "IPY_MODEL_9e7e45ce8f8f4ae08e4ceddaed2c0f3e"
       ],
       "layout": "IPY_MODEL_3dc2e53569e84b71a9f2e014da41d093"
      }
     },
     "c47e43bcf34d41e2876e150cf27af53e": {
      "model_module": "@jupyter-widgets/controls",
      "model_module_version": "1.4.0",
      "model_name": "SelectModel",
      "state": {
       "_options_labels": [
        "MODLAND",
        "VI Usefulness",
        "Aerosol Quantity",
        "Adjacent cloud detected",
        "Atmosphere BRDF Correction",
        "Mixed Clouds",
        "Land/Water Mask",
        "Possible snow/ice",
        "Possible shadow"
       ],
       "description": "QA Parameter name:",
       "index": 0,
       "layout": "IPY_MODEL_b54a203cdf1442b3ba8ede9db413d74f",
       "rows": 9,
       "style": "IPY_MODEL_c3becd7c445946d2aa495261e7f3d391"
      }
     },
     "c51ccf00cf224f8da1aa199686562613": {
      "model_module": "@jupyter-widgets/controls",
      "model_module_version": "1.4.0",
      "model_name": "VBoxModel",
      "state": {
       "children": [
        "IPY_MODEL_88300c7af4824441a0375e26f1c8a558"
       ],
       "layout": "IPY_MODEL_4bfcd34ef8924da689afaa2a25e348c2"
      }
     },
     "c52770712e7d4a289435a24af87c3058": {
      "model_module": "@jupyter-widgets/base",
      "model_module_version": "1.1.0",
      "model_name": "LayoutModel",
      "state": {
       "width": "20%"
      }
     },
     "c52a94c0f9a94687bc580a4b7974285d": {
      "model_module": "@jupyter-widgets/controls",
      "model_module_version": "1.4.0",
      "model_name": "ButtonStyleModel",
      "state": {}
     },
     "c53f2de9fd4d4ce3b5a32b4d9bf69e1a": {
      "model_module": "@jupyter-widgets/base",
      "model_module_version": "1.1.0",
      "model_name": "LayoutModel",
      "state": {}
     },
     "c575b1cb8ac04441b7610d7bfec0166e": {
      "model_module": "@jupyter-widgets/controls",
      "model_module_version": "1.4.0",
      "model_name": "VBoxModel",
      "state": {
       "children": [
        "IPY_MODEL_2ea85195a4d6482b8092fe05d734a502"
       ],
       "layout": "IPY_MODEL_aabc4d6b611b48aca4b15b9115436f19"
      }
     },
     "c58b7c225e194868ae7afc16a49f76d1": {
      "model_module": "@jupyter-widgets/base",
      "model_module_version": "1.1.0",
      "model_name": "LayoutModel",
      "state": {
       "width": "400px"
      }
     },
     "c59eadbccadf4d708ae80d5afd0d8ce8": {
      "model_module": "@jupyter-widgets/controls",
      "model_module_version": "1.4.0",
      "model_name": "ButtonStyleModel",
      "state": {}
     },
     "c5b105d1276e4b12a0ceb28ff6a02216": {
      "model_module": "@jupyter-widgets/base",
      "model_module_version": "1.1.0",
      "model_name": "LayoutModel",
      "state": {}
     },
     "c5c3ce3dbc3e4d68b0c31a3c5ae7027c": {
      "model_module": "@jupyter-widgets/controls",
      "model_module_version": "1.4.0",
      "model_name": "DescriptionStyleModel",
      "state": {
       "description_width": "initial"
      }
     },
     "c5f8a2ae485443539fd9bc0f11287cef": {
      "model_module": "@jupyter-widgets/controls",
      "model_module_version": "1.4.0",
      "model_name": "ButtonModel",
      "state": {
       "description": "Default selection",
       "layout": "IPY_MODEL_eaeac6e6ac244efab3a32059d10c16d8",
       "style": "IPY_MODEL_6aa967f7a51c46edb2e4bda52da28321"
      }
     },
     "c5ff0c9b31cb421fb9da46da7b30da85": {
      "model_module": "@jupyter-widgets/base",
      "model_module_version": "1.1.0",
      "model_name": "LayoutModel",
      "state": {
       "width": "20%"
      }
     },
     "c60d4d48d5924e6a8661cb3be15419f0": {
      "model_module": "@jupyter-widgets/base",
      "model_module_version": "1.1.0",
      "model_name": "LayoutModel",
      "state": {
       "width": "20%"
      }
     },
     "c625062ae77a4f359c72fef93871eebc": {
      "model_module": "@jupyter-widgets/controls",
      "model_module_version": "1.4.0",
      "model_name": "DescriptionStyleModel",
      "state": {
       "description_width": ""
      }
     },
     "c62dd104be9b4cfe9f5b732899f1ebfe": {
      "model_module": "@jupyter-widgets/controls",
      "model_module_version": "1.4.0",
      "model_name": "DescriptionStyleModel",
      "state": {
       "description_width": ""
      }
     },
     "c64e371b3fbe4311a0d28e7649eb9862": {
      "model_module": "@jupyter-widgets/controls",
      "model_module_version": "1.4.0",
      "model_name": "DescriptionStyleModel",
      "state": {
       "description_width": "initial"
      }
     },
     "c69e9030d50841f7804cb4621bc32598": {
      "model_module": "@jupyter-widgets/base",
      "model_module_version": "1.1.0",
      "model_name": "LayoutModel",
      "state": {}
     },
     "c6acf869544f4602860af9c9e16fb026": {
      "model_module": "@jupyter-widgets/controls",
      "model_module_version": "1.4.0",
      "model_name": "ButtonModel",
      "state": {
       "description": "Select ALL",
       "layout": "IPY_MODEL_7fd08c1d06024fa5aba90e3e0d7ebdb0",
       "style": "IPY_MODEL_cb3a25581d0d4f3d8b499a906f3e1f83"
      }
     },
     "c6e474b257504120801bf5cf47c25673": {
      "model_module": "@jupyter-widgets/controls",
      "model_module_version": "1.4.0",
      "model_name": "ButtonModel",
      "state": {
       "description": "Default selection",
       "layout": "IPY_MODEL_5c8e3dd34aad47f09ff09c1f2454ea10",
       "style": "IPY_MODEL_eed9a544a8d84ec9bfc9db14e62180e2"
      }
     },
     "c6e95c1f026c427e96041be9cb1ef177": {
      "model_module": "@jupyter-widgets/controls",
      "model_module_version": "1.4.0",
      "model_name": "HBoxModel",
      "state": {
       "children": [
        "IPY_MODEL_f489c4b1d90942019ad096acee7e8e54",
        "IPY_MODEL_442cf7c762604f4292e019387b991d60"
       ],
       "layout": "IPY_MODEL_7fe7fa5d61154aada3ad5b32d8d09a62"
      }
     },
     "c7284045d2c74370991c6aeba6546258": {
      "model_module": "@jupyter-widgets/base",
      "model_module_version": "1.1.0",
      "model_name": "LayoutModel",
      "state": {
       "width": "400px"
      }
     },
     "c734e6d873c149b48fbc5eca103ca356": {
      "model_module": "@jupyter-widgets/controls",
      "model_module_version": "1.4.0",
      "model_name": "DescriptionStyleModel",
      "state": {
       "description_width": ""
      }
     },
     "c779139728bc4da593518f855c8a7d42": {
      "model_module": "@jupyter-widgets/base",
      "model_module_version": "1.1.0",
      "model_name": "LayoutModel",
      "state": {}
     },
     "c77f7e3885b14f7ca0a7271fb2cd0354": {
      "model_module": "@jupyter-widgets/base",
      "model_module_version": "1.1.0",
      "model_name": "LayoutModel",
      "state": {
       "width": "400px"
      }
     },
     "c7990511f27048069ee4d022f9307ea1": {
      "model_module": "@jupyter-widgets/controls",
      "model_module_version": "1.4.0",
      "model_name": "DescriptionStyleModel",
      "state": {
       "description_width": ""
      }
     },
     "c7a5beed3fe244b891ae67808a6fd5c7": {
      "model_module": "@jupyter-widgets/controls",
      "model_module_version": "1.4.0",
      "model_name": "ProgressStyleModel",
      "state": {
       "description_width": "initial"
      }
     },
     "c7e86b3f79a64e398ee4704df1007b33": {
      "model_module": "@jupyter-widgets/controls",
      "model_module_version": "1.4.0",
      "model_name": "ButtonStyleModel",
      "state": {}
     },
     "c7e8a18386184e1f962f4b4b33054ac3": {
      "model_module": "@jupyter-widgets/base",
      "model_module_version": "1.1.0",
      "model_name": "LayoutModel",
      "state": {
       "width": "20%"
      }
     },
     "c817d3b0d388469c86af138f34587b07": {
      "model_module": "@jupyter-widgets/controls",
      "model_module_version": "1.4.0",
      "model_name": "HTMLModel",
      "state": {
       "description": "QA layer:",
       "layout": "IPY_MODEL_8f51d715eedd49908d24657fae200e11",
       "style": "IPY_MODEL_f4d8c79476c04a7fae44baea6bf7b413",
       "value": "<b>_1_km_16_days_VI_Quality</b>"
      }
     },
     "c827ec8a8c6b462b8e9e11481bbe6052": {
      "model_module": "@jupyter-widgets/controls",
      "model_module_version": "1.4.0",
      "model_name": "VBoxModel",
      "state": {
       "children": [
        "IPY_MODEL_c1d86a99a4d94e0989031018dd0db047"
       ],
       "layout": "IPY_MODEL_2cba1d10c2d94b7abeb0391d7273124a"
      }
     },
     "c85c978843b045da836fd81d85ccafe4": {
      "model_module": "@jupyter-widgets/base",
      "model_module_version": "1.1.0",
      "model_name": "LayoutModel",
      "state": {}
     },
     "c867f1eb865243a0aa16481de05d39f3": {
      "model_module": "@jupyter-widgets/controls",
      "model_module_version": "1.4.0",
      "model_name": "VBoxModel",
      "state": {
       "children": [
        "IPY_MODEL_4d0520158e8c4a3aa7b3c3b8562e3f26"
       ],
       "layout": "IPY_MODEL_033285fd855f49b8a504ffb3c17124b1"
      }
     },
     "c88a43527a22464386edcbf6fa87682f": {
      "model_module": "@jupyter-widgets/base",
      "model_module_version": "1.1.0",
      "model_name": "LayoutModel",
      "state": {}
     },
     "c8a12de1f52e4aeb9b81034da6cb0905": {
      "model_module": "@jupyter-widgets/controls",
      "model_module_version": "1.4.0",
      "model_name": "VBoxModel",
      "state": {
       "children": [
        "IPY_MODEL_d4670fcfe77f41e4b9e2586ada67782b"
       ],
       "layout": "IPY_MODEL_bfad47680d10465f97fd9f76dc3388f6"
      }
     },
     "c8a51140561f466d86c0347556036ce7": {
      "model_module": "@jupyter-widgets/controls",
      "model_module_version": "1.4.0",
      "model_name": "ButtonStyleModel",
      "state": {}
     },
     "c8c9089d011e45179619a4f29c75aa5e": {
      "model_module": "@jupyter-widgets/controls",
      "model_module_version": "1.4.0",
      "model_name": "ButtonStyleModel",
      "state": {}
     },
     "c8f1f919eeaa4006989347ddf461527d": {
      "model_module": "@jupyter-widgets/controls",
      "model_module_version": "1.4.0",
      "model_name": "HBoxModel",
      "state": {
       "children": [
        "IPY_MODEL_f88ab3864eac4bd6945cde3a38bca592",
        "IPY_MODEL_aa946834f5d64512a74ec3cbaf167f42",
        "IPY_MODEL_49ad328bf77940c6b3ab8866554b983f",
        "IPY_MODEL_6f278978813244bfb180497044182964"
       ],
       "layout": "IPY_MODEL_af2e9d6e89ca40bfb786fb35ccc1014f"
      }
     },
     "c8f68c41bcee4c7ab1c9c0d5549396ea": {
      "model_module": "@jupyter-widgets/base",
      "model_module_version": "1.1.0",
      "model_name": "LayoutModel",
      "state": {
       "width": "400px"
      }
     },
     "c905f3df6d29482c9e82239f7de3181d": {
      "model_module": "@jupyter-widgets/controls",
      "model_module_version": "1.4.0",
      "model_name": "HTMLModel",
      "state": {
       "description": "QA layer:",
       "layout": "IPY_MODEL_ac4d8b5e144841b1ab78f7548c6a6ffe",
       "style": "IPY_MODEL_eba5403057cf499ab7cebb2eb3d9cb70",
       "value": "<b>_1_km_16_days_pixel_reliability</b>"
      }
     },
     "c92c8be87197426db2de16b86eef0104": {
      "model_module": "@jupyter-widgets/base",
      "model_module_version": "1.1.0",
      "model_name": "LayoutModel",
      "state": {
       "width": "400px"
      }
     },
     "c99251d9320a4b029aafe4163a9331c2": {
      "model_module": "@jupyter-widgets/controls",
      "model_module_version": "1.4.0",
      "model_name": "SelectMultipleModel",
      "state": {
       "_options_labels": [
        "VI produced, good quality",
        "VI produced, but check other QA",
        "Pixel produced, but most probably cloudy",
        "Pixel not produced due to other reasons than clouds"
       ],
       "description": "Description",
       "index": [
        0
       ],
       "layout": "IPY_MODEL_b3b510c4e0344012863d3be7b0190cf9",
       "rows": 4,
       "style": "IPY_MODEL_b8325c66602d40f79641bae47eca42f4"
      }
     },
     "c99a1c8cf1ee418daa018e71510571c8": {
      "model_module": "@jupyter-widgets/controls",
      "model_module_version": "1.4.0",
      "model_name": "ButtonModel",
      "state": {
       "description": "Default selection",
       "layout": "IPY_MODEL_86b26502ef124d3198be799353b12bba",
       "style": "IPY_MODEL_8a61a1c998f145c3b595eb166f9c70cf"
      }
     },
     "c9b41a6e99ea4848b391dc610d88f153": {
      "model_module": "@jupyter-widgets/base",
      "model_module_version": "1.1.0",
      "model_name": "LayoutModel",
      "state": {}
     },
     "c9ba821732e848e58facfaea2bfd1cd2": {
      "model_module": "@jupyter-widgets/base",
      "model_module_version": "1.1.0",
      "model_name": "LayoutModel",
      "state": {
       "width": "20%"
      }
     },
     "c9c40abe3ba6408796e7a45f693b27c1": {
      "model_module": "@jupyter-widgets/base",
      "model_module_version": "1.1.0",
      "model_name": "LayoutModel",
      "state": {}
     },
     "c9fae44c1b9d473f96ec0f651896208c": {
      "model_module": "@jupyter-widgets/base",
      "model_module_version": "1.1.0",
      "model_name": "LayoutModel",
      "state": {
       "width": "50%"
      }
     },
     "ca0c95fbdd9a4c12b9a4b2e45a34d361": {
      "model_module": "@jupyter-widgets/controls",
      "model_module_version": "1.4.0",
      "model_name": "ButtonStyleModel",
      "state": {}
     },
     "ca1bd922405d4dffb395c259938ae8d3": {
      "model_module": "@jupyter-widgets/controls",
      "model_module_version": "1.4.0",
      "model_name": "HTMLModel",
      "state": {
       "description": "QA layer:",
       "layout": "IPY_MODEL_95b1ba3befef4e498240412e92d279c3",
       "style": "IPY_MODEL_63030f8db1f64d88857b8f93d6aa9f35",
       "value": "<b>_1_km_16_days_pixel_reliability</b>"
      }
     },
     "ca1d67c18e5c4ba4905700d14a3655cf": {
      "model_module": "@jupyter-widgets/controls",
      "model_module_version": "1.4.0",
      "model_name": "ButtonStyleModel",
      "state": {}
     },
     "ca31844d6f1f4bb281e9511d6aede538": {
      "model_module": "@jupyter-widgets/base",
      "model_module_version": "1.1.0",
      "model_name": "LayoutModel",
      "state": {}
     },
     "ca4bc37d01cb449db39457e4b392cebd": {
      "model_module": "@jupyter-widgets/base",
      "model_module_version": "1.1.0",
      "model_name": "LayoutModel",
      "state": {
       "width": "20%"
      }
     },
     "ca67552208be4c0ebd05b1ce0c25138f": {
      "model_module": "@jupyter-widgets/base",
      "model_module_version": "1.1.0",
      "model_name": "LayoutModel",
      "state": {
       "width": "400px"
      }
     },
     "ca87cdfe5c054eb294cd28ad9fc8bef2": {
      "model_module": "@jupyter-widgets/base",
      "model_module_version": "1.1.0",
      "model_name": "LayoutModel",
      "state": {}
     },
     "ca888a4b995a466abfae9512049a298a": {
      "model_module": "@jupyter-widgets/controls",
      "model_module_version": "1.4.0",
      "model_name": "DescriptionStyleModel",
      "state": {
       "description_width": "initial"
      }
     },
     "ca9fa59691104ae19853d213b0de015e": {
      "model_module": "@jupyter-widgets/controls",
      "model_module_version": "1.4.0",
      "model_name": "DescriptionStyleModel",
      "state": {
       "description_width": ""
      }
     },
     "cabaffd368104961b995bce6830e9384": {
      "model_module": "@jupyter-widgets/base",
      "model_module_version": "1.1.0",
      "model_name": "LayoutModel",
      "state": {
       "height": "300px",
       "width": "99%"
      }
     },
     "cac62d519f534eb6a482903f9111e5fe": {
      "model_module": "@jupyter-widgets/base",
      "model_module_version": "1.1.0",
      "model_name": "LayoutModel",
      "state": {}
     },
     "cad2f12102eb490f99898005c693a621": {
      "model_module": "@jupyter-widgets/controls",
      "model_module_version": "1.4.0",
      "model_name": "SelectMultipleModel",
      "state": {
       "_options_labels": [
        "VI produced, good quality",
        "VI produced, but check other QA",
        "Pixel produced, but most probably cloudy",
        "Pixel not produced due to other reasons than clouds"
       ],
       "description": "Description",
       "index": [
        0
       ],
       "layout": "IPY_MODEL_66a582cea3744c2dbfcf951e3fa5d0f1",
       "rows": 4,
       "style": "IPY_MODEL_50671e0b3bd040b49423324b1e482fa1"
      }
     },
     "cb0e49b84dd14b64b13ce8e217243717": {
      "model_module": "@jupyter-widgets/base",
      "model_module_version": "1.1.0",
      "model_name": "LayoutModel",
      "state": {
       "width": "400px"
      }
     },
     "cb1452f68d764cfd81e12530538ace3e": {
      "model_module": "@jupyter-widgets/base",
      "model_module_version": "1.1.0",
      "model_name": "LayoutModel",
      "state": {}
     },
     "cb279dce53a44916bb48a2d0e07edad5": {
      "model_module": "@jupyter-widgets/controls",
      "model_module_version": "1.4.0",
      "model_name": "HBoxModel",
      "state": {
       "children": [
        "IPY_MODEL_a1a02dde174a4f8187ddb9aa685672d5",
        "IPY_MODEL_9559301433194b4997347b0388a57f6f",
        "IPY_MODEL_6c986ef4739b492487aba6bac4e1d8c0"
       ],
       "layout": "IPY_MODEL_370b9060558a46a0972614895d3472bb"
      }
     },
     "cb3a25581d0d4f3d8b499a906f3e1f83": {
      "model_module": "@jupyter-widgets/controls",
      "model_module_version": "1.4.0",
      "model_name": "ButtonStyleModel",
      "state": {}
     },
     "cb597abe7ca5444f9a14a707b6bd5945": {
      "model_module": "@jupyter-widgets/controls",
      "model_module_version": "1.4.0",
      "model_name": "HTMLModel",
      "state": {
       "description": "QA layer:",
       "layout": "IPY_MODEL_91f42e1909564d16b7fd14f3b1a74c03",
       "style": "IPY_MODEL_c7990511f27048069ee4d022f9307ea1",
       "value": "<b>_1_km_16_days_VI_Quality</b>"
      }
     },
     "cb6b023361984fcaab4d14aa93a3e1ab": {
      "model_module": "@jupyter-widgets/controls",
      "model_module_version": "1.4.0",
      "model_name": "ButtonStyleModel",
      "state": {}
     },
     "cb88a70c67614772b9440cea9276926c": {
      "model_module": "@jupyter-widgets/controls",
      "model_module_version": "1.4.0",
      "model_name": "DescriptionStyleModel",
      "state": {
       "description_width": "initial"
      }
     },
     "cbcb05b1422648c4a765e6ff532465c3": {
      "model_module": "@jupyter-widgets/controls",
      "model_module_version": "1.4.0",
      "model_name": "HTMLModel",
      "state": {
       "description": "QA layer:",
       "layout": "IPY_MODEL_04e2fd2bd38b451e867acdcab2acfbc3",
       "style": "IPY_MODEL_d4547d51cf114f238b8326bdfd82969d",
       "value": "<b>_1_km_16_days_VI_Quality</b>"
      }
     },
     "cbd2addc97cc44b5b6f02e115a12bda4": {
      "model_module": "@jupyter-widgets/controls",
      "model_module_version": "1.4.0",
      "model_name": "ButtonStyleModel",
      "state": {}
     },
     "cc2e00e7a8fb4ff38d376f4d6780b77e": {
      "model_module": "@jupyter-widgets/controls",
      "model_module_version": "1.4.0",
      "model_name": "ButtonModel",
      "state": {
       "description": "Select ALL",
       "layout": "IPY_MODEL_482f410617a1480683b3d84b0d8dd72c",
       "style": "IPY_MODEL_d527aa7c9e36401e9057c2a29008f467"
      }
     },
     "cc3f4a329cce4ce3b04477dab01f681e": {
      "model_module": "@jupyter-widgets/base",
      "model_module_version": "1.1.0",
      "model_name": "LayoutModel",
      "state": {
       "width": "20%"
      }
     },
     "cc4c8f2f9caf4dfbbc6a949daea1db6c": {
      "model_module": "@jupyter-widgets/base",
      "model_module_version": "1.1.0",
      "model_name": "LayoutModel",
      "state": {
       "width": "20%"
      }
     },
     "cc556288185e4ecf8866a7824bdf4e12": {
      "model_module": "@jupyter-widgets/base",
      "model_module_version": "1.1.0",
      "model_name": "LayoutModel",
      "state": {}
     },
     "cc7b7184256f43b9a6549a109d94eff3": {
      "model_module": "@jupyter-widgets/controls",
      "model_module_version": "1.4.0",
      "model_name": "HBoxModel",
      "state": {
       "children": [
        "IPY_MODEL_c2d2fed738ea449880e2df70bf7de691",
        "IPY_MODEL_cf8964821b594da2a5c51eefa052182c",
        "IPY_MODEL_e9afe5db3e444f1fb6b665d098648d3e"
       ],
       "layout": "IPY_MODEL_75b42be453474ad2ab11138e648f0f39"
      }
     },
     "cca002bb1ca047fb8ba2f34fa743a1fb": {
      "model_module": "@jupyter-widgets/controls",
      "model_module_version": "1.4.0",
      "model_name": "ButtonModel",
      "state": {
       "description": "QA analytics",
       "layout": "IPY_MODEL_68c5c426f5334843bd7bafd7375bae3d",
       "style": "IPY_MODEL_33c938526aee48fa8c4a57c2455261cd"
      }
     },
     "ccaf1b9ea75041ddbd13dea3de1e6718": {
      "model_module": "@jupyter-widgets/base",
      "model_module_version": "1.1.0",
      "model_name": "LayoutModel",
      "state": {
       "height": "350px",
       "width": "99%"
      }
     },
     "ccb8b48f28ea4d8bb40dfaaa4bb2a1e5": {
      "model_module": "@jupyter-widgets/controls",
      "model_module_version": "1.4.0",
      "model_name": "ButtonModel",
      "state": {
       "description": "QA analytics",
       "layout": "IPY_MODEL_383a79ad9e9d4a00b4312a4159735a74",
       "style": "IPY_MODEL_0de453db826347a9aafa5acf2e83588d"
      }
     },
     "ccf6fb47c09e4ff69d84722bb6e80fda": {
      "model_module": "@jupyter-widgets/controls",
      "model_module_version": "1.4.0",
      "model_name": "ProgressStyleModel",
      "state": {
       "description_width": "initial"
      }
     },
     "ccfdd8139eaf42409351b3bdc1687d31": {
      "model_module": "@jupyter-widgets/controls",
      "model_module_version": "1.4.0",
      "model_name": "DescriptionStyleModel",
      "state": {
       "description_width": "initial"
      }
     },
     "cd2f88ea80ce428187d6e200b9f945c3": {
      "model_module": "@jupyter-widgets/controls",
      "model_module_version": "1.4.0",
      "model_name": "ButtonStyleModel",
      "state": {}
     },
     "cd3333debf1041b0b95612f19fa47f9b": {
      "model_module": "@jupyter-widgets/controls",
      "model_module_version": "1.4.0",
      "model_name": "DescriptionStyleModel",
      "state": {
       "description_width": ""
      }
     },
     "cd78950b392c4730aaf93eb0645ed6ef": {
      "model_module": "@jupyter-widgets/controls",
      "model_module_version": "1.4.0",
      "model_name": "ButtonModel",
      "state": {
       "description": "Select ALL",
       "layout": "IPY_MODEL_79c71a0a01a7417484676927383cefeb",
       "style": "IPY_MODEL_68e796c631df492a95200f7fe660a357"
      }
     },
     "cd95123da3c74b2881beaf98d832b54e": {
      "model_module": "@jupyter-widgets/base",
      "model_module_version": "1.1.0",
      "model_name": "LayoutModel",
      "state": {}
     },
     "cdb3321327574c28aada1f2f4a47baee": {
      "model_module": "@jupyter-widgets/controls",
      "model_module_version": "1.4.0",
      "model_name": "HBoxModel",
      "state": {
       "children": [
        "IPY_MODEL_5108165f32c34fdca39e2885816f5fc4",
        "IPY_MODEL_5bb332ab52c64b7a9c52758392ddcca1",
        "IPY_MODEL_747aebafeced4e77bbd990b586154698"
       ],
       "layout": "IPY_MODEL_210a149f055e496b862d667f96a6e7d7"
      }
     },
     "cdf2cad5ac184ac481e8c3f8d0d358d9": {
      "model_module": "@jupyter-widgets/controls",
      "model_module_version": "1.4.0",
      "model_name": "SelectModel",
      "state": {
       "_options_labels": [
        "MODLAND",
        "VI Usefulness",
        "Aerosol Quantity",
        "Adjacent cloud detected",
        "Atmosphere BRDF Correction",
        "Mixed Clouds",
        "Land/Water Mask",
        "Possible snow/ice",
        "Possible shadow"
       ],
       "description": "QA Parameter name:",
       "index": 0,
       "layout": "IPY_MODEL_bfb51148ea924c4eab725ebe3ed036c0",
       "rows": 9,
       "style": "IPY_MODEL_4b56a5e517f2478baf4b6cc7475d11bc"
      }
     },
     "cdfe21ddef034760b6211aee0d70bf94": {
      "model_module": "@jupyter-widgets/base",
      "model_module_version": "1.1.0",
      "model_name": "LayoutModel",
      "state": {
       "width": "50%"
      }
     },
     "ce2d9629825848588c70d42d1ca68c61": {
      "model_module": "@jupyter-widgets/controls",
      "model_module_version": "1.4.0",
      "model_name": "ButtonStyleModel",
      "state": {}
     },
     "ce60d2099c02437eac08488bcb6950dd": {
      "model_module": "@jupyter-widgets/controls",
      "model_module_version": "1.4.0",
      "model_name": "HBoxModel",
      "state": {
       "children": [
        "IPY_MODEL_243f9cfbb4884b87871b2deb6d47e765",
        "IPY_MODEL_4225e6b71382405f9709a962e34a558a"
       ],
       "layout": "IPY_MODEL_a263dcf074634b7f993e9fa96ab6997f"
      }
     },
     "cebf06df4d76446b8b04d756d8672ba6": {
      "model_module": "@jupyter-widgets/base",
      "model_module_version": "1.1.0",
      "model_name": "LayoutModel",
      "state": {
       "height": "350px",
       "width": "99%"
      }
     },
     "cedbfb480fae47d09300060c38e0b3ca": {
      "model_module": "@jupyter-widgets/controls",
      "model_module_version": "1.4.0",
      "model_name": "ButtonStyleModel",
      "state": {}
     },
     "cee8dcc3321e4a70b6bb1f0dfb154b47": {
      "model_module": "@jupyter-widgets/base",
      "model_module_version": "1.1.0",
      "model_name": "LayoutModel",
      "state": {}
     },
     "cf31c1cc6f734f4cb25d240952231326": {
      "model_module": "@jupyter-widgets/controls",
      "model_module_version": "1.4.0",
      "model_name": "HTMLModel",
      "state": {
       "description": "QA layer:",
       "layout": "IPY_MODEL_9ae80a992b94425d91bd5dbe97cbd3ac",
       "style": "IPY_MODEL_1c69aefdb3d148e4bbf6ae0bc29ae2ff",
       "value": "<b>_1_km_16_days_VI_Quality</b>"
      }
     },
     "cf5ab40001944cb9bc465eaa92a6c7da": {
      "model_module": "@jupyter-widgets/base",
      "model_module_version": "1.1.0",
      "model_name": "LayoutModel",
      "state": {
       "width": "20%"
      }
     },
     "cf79d4e97f844c63bd618aa73a610b92": {
      "model_module": "@jupyter-widgets/controls",
      "model_module_version": "1.4.0",
      "model_name": "ButtonModel",
      "state": {
       "description": "Select ALL",
       "layout": "IPY_MODEL_11806b3b4f17413b83e08305d7303fac",
       "style": "IPY_MODEL_77c4c56b369549fcaa7a2f1b49850147"
      }
     },
     "cf83a41ddc9a41d8acd9b43a9c129ad8": {
      "model_module": "@jupyter-widgets/controls",
      "model_module_version": "1.4.0",
      "model_name": "DescriptionStyleModel",
      "state": {
       "description_width": ""
      }
     },
     "cf8964821b594da2a5c51eefa052182c": {
      "model_module": "@jupyter-widgets/controls",
      "model_module_version": "1.4.0",
      "model_name": "ButtonModel",
      "state": {
       "description": "Default selection",
       "layout": "IPY_MODEL_016b89167b9b46389af108aed4e44ad4",
       "style": "IPY_MODEL_341880262886454aa41ba04455696499"
      }
     },
     "cfa2d2ed6b484fb0a2414da0ba6f52e7": {
      "model_module": "@jupyter-widgets/controls",
      "model_module_version": "1.4.0",
      "model_name": "VBoxModel",
      "state": {
       "children": [
        "IPY_MODEL_a22544860bda43ed905e7c2927bfdd65"
       ],
       "layout": "IPY_MODEL_c2b84b38d5654e6e88a6708609bb0122"
      }
     },
     "cfaccfe167a84a61a66d7f27884c380b": {
      "model_module": "@jupyter-widgets/base",
      "model_module_version": "1.1.0",
      "model_name": "LayoutModel",
      "state": {
       "width": "99%"
      }
     },
     "cfc9346e0eeb4cd7a55d3bc366da1113": {
      "model_module": "@jupyter-widgets/controls",
      "model_module_version": "1.4.0",
      "model_name": "DescriptionStyleModel",
      "state": {
       "description_width": ""
      }
     },
     "cfee4f1afe1340c3b70d3149ff05e508": {
      "model_module": "@jupyter-widgets/controls",
      "model_module_version": "1.4.0",
      "model_name": "DescriptionStyleModel",
      "state": {
       "description_width": "initial"
      }
     },
     "d03c42a3bb0742aa82fe1b22a725ad9d": {
      "model_module": "@jupyter-widgets/controls",
      "model_module_version": "1.4.0",
      "model_name": "HTMLModel",
      "state": {
       "description": "QA layer:",
       "layout": "IPY_MODEL_e66879a0ad9741dbb5fbf64d0b8084d2",
       "style": "IPY_MODEL_6734ec232d6642b6bb46fbaaa4dfe527",
       "value": "<b>_1_km_16_days_VI_Quality</b>"
      }
     },
     "d044b01e04b24e278a29fa6f3b0a8787": {
      "model_module": "@jupyter-widgets/base",
      "model_module_version": "1.1.0",
      "model_name": "LayoutModel",
      "state": {
       "width": "30%"
      }
     },
     "d06a336f3f5249a1bcb088239c0f5cb2": {
      "model_module": "@jupyter-widgets/base",
      "model_module_version": "1.1.0",
      "model_name": "LayoutModel",
      "state": {
       "width": "50%"
      }
     },
     "d07e538bad6b469e928ea878bdc8e476": {
      "model_module": "@jupyter-widgets/controls",
      "model_module_version": "1.4.0",
      "model_name": "ButtonModel",
      "state": {
       "description": "Select ALL",
       "layout": "IPY_MODEL_b82a2a140d8742a2958ef618c8ca2251",
       "style": "IPY_MODEL_ca1d67c18e5c4ba4905700d14a3655cf"
      }
     },
     "d0a821561ed943e4b53923d5185f405e": {
      "model_module": "@jupyter-widgets/controls",
      "model_module_version": "1.4.0",
      "model_name": "SelectModel",
      "state": {
       "_options_labels": [
        "MODLAND",
        "VI Usefulness",
        "Aerosol Quantity",
        "Adjacent cloud detected",
        "Atmosphere BRDF Correction",
        "Mixed Clouds",
        "Land/Water Mask",
        "Possible snow/ice",
        "Possible shadow"
       ],
       "description": "QA Parameter name:",
       "index": 0,
       "layout": "IPY_MODEL_60545437560340bfbdc6427755ef25dc",
       "rows": 9,
       "style": "IPY_MODEL_3b2478b27bba4b40be0edec4f51cddeb"
      }
     },
     "d0ef88c3e50f4c56badf35052ee145f6": {
      "model_module": "@jupyter-widgets/controls",
      "model_module_version": "1.4.0",
      "model_name": "VBoxModel",
      "state": {
       "children": [
        "IPY_MODEL_7e669a786bd24dd7a9275f3e7a91b0e5"
       ],
       "layout": "IPY_MODEL_4579f207b3534ae0857b4b276cf621fc"
      }
     },
     "d113c7d53da24ad2a2fc26ad304665d9": {
      "model_module": "@jupyter-widgets/controls",
      "model_module_version": "1.4.0",
      "model_name": "DescriptionStyleModel",
      "state": {
       "description_width": ""
      }
     },
     "d14444cc5a6e4d29a435550cc0fef159": {
      "model_module": "@jupyter-widgets/controls",
      "model_module_version": "1.4.0",
      "model_name": "DescriptionStyleModel",
      "state": {
       "description_width": "initial"
      }
     },
     "d183eb9f4ca646b0918eb79e4eab8f6e": {
      "model_module": "@jupyter-widgets/controls",
      "model_module_version": "1.4.0",
      "model_name": "DescriptionStyleModel",
      "state": {
       "description_width": "initial"
      }
     },
     "d18590cdd3e148e9ac05921978c3ac49": {
      "model_module": "@jupyter-widgets/controls",
      "model_module_version": "1.4.0",
      "model_name": "ButtonStyleModel",
      "state": {}
     },
     "d19573abc2f24b8bb31d8e39d57893ce": {
      "model_module": "@jupyter-widgets/controls",
      "model_module_version": "1.4.0",
      "model_name": "HTMLModel",
      "state": {
       "description": "QA layer:",
       "layout": "IPY_MODEL_2390a3ec2b844b0880264df26fea6bf0",
       "style": "IPY_MODEL_f451a58c505a4090b6a8fd0a3cff9f20",
       "value": "<b>_1_km_16_days_VI_Quality</b>"
      }
     },
     "d1d6386feb1240f69e7117a8c927a8c5": {
      "model_module": "@jupyter-widgets/controls",
      "model_module_version": "1.4.0",
      "model_name": "ButtonModel",
      "state": {
       "description": "Select ALL",
       "layout": "IPY_MODEL_75149cde0c0348fe87c587708b855d2e",
       "style": "IPY_MODEL_93facdde38bd4683bf51bca95649ed02"
      }
     },
     "d1daf33ec1054034ae4c8f42c30d6dbb": {
      "model_module": "@jupyter-widgets/controls",
      "model_module_version": "1.4.0",
      "model_name": "ButtonStyleModel",
      "state": {}
     },
     "d1ffd01f9bbc4992bec0bdabf7b4976b": {
      "model_module": "@jupyter-widgets/controls",
      "model_module_version": "1.4.0",
      "model_name": "ButtonModel",
      "state": {
       "description": "Default selection",
       "layout": "IPY_MODEL_ddf2e8812e864a5a8a90de257bead483",
       "style": "IPY_MODEL_d48abe00c77a4ca7a67ef81e5341d136"
      }
     },
     "d20d72e9e0b14f4d83018370fb5f1bc9": {
      "model_module": "@jupyter-widgets/base",
      "model_module_version": "1.1.0",
      "model_name": "LayoutModel",
      "state": {
       "width": "400px"
      }
     },
     "d21264f069bf475e90291e0f9caa46e3": {
      "model_module": "@jupyter-widgets/controls",
      "model_module_version": "1.4.0",
      "model_name": "DescriptionStyleModel",
      "state": {
       "description_width": "initial"
      }
     },
     "d27670f454d24a4da99f115cf5f47f3a": {
      "model_module": "@jupyter-widgets/base",
      "model_module_version": "1.1.0",
      "model_name": "LayoutModel",
      "state": {
       "height": "300px",
       "width": "99%"
      }
     },
     "d2987f51bb2e4c28bb507fc5f62dc9b5": {
      "model_module": "@jupyter-widgets/controls",
      "model_module_version": "1.4.0",
      "model_name": "ButtonModel",
      "state": {
       "description": "Default selection",
       "layout": "IPY_MODEL_86b59a94a4cd4976b080f22cc70515aa",
       "style": "IPY_MODEL_a9708cc7926442748f5c4c4bfd5dd29e"
      }
     },
     "d2f466526976472399af8422c8489160": {
      "model_module": "@jupyter-widgets/controls",
      "model_module_version": "1.4.0",
      "model_name": "HTMLModel",
      "state": {
       "description": "QA layer:",
       "layout": "IPY_MODEL_72418b43dd994da8a0d022993f080fcb",
       "style": "IPY_MODEL_cf83a41ddc9a41d8acd9b43a9c129ad8",
       "value": "<b>_1_km_16_days_VI_Quality</b>"
      }
     },
     "d31e286c787647419c35505d2269ede0": {
      "model_module": "@jupyter-widgets/controls",
      "model_module_version": "1.4.0",
      "model_name": "DescriptionStyleModel",
      "state": {
       "description_width": ""
      }
     },
     "d34e057ce23c47e7b4f36a419d18fba4": {
      "model_module": "@jupyter-widgets/controls",
      "model_module_version": "1.4.0",
      "model_name": "DescriptionStyleModel",
      "state": {
       "description_width": "initial"
      }
     },
     "d360fde4d573419ea29dcba79423df79": {
      "model_module": "@jupyter-widgets/base",
      "model_module_version": "1.1.0",
      "model_name": "LayoutModel",
      "state": {
       "width": "30%"
      }
     },
     "d3afdbac390442abb7305434172a744d": {
      "model_module": "@jupyter-widgets/controls",
      "model_module_version": "1.4.0",
      "model_name": "ButtonModel",
      "state": {
       "description": "QA analytics",
       "layout": "IPY_MODEL_e7cdb29f45a94e04b1a196fe62b40ef6",
       "style": "IPY_MODEL_8f8c6d5398e34630939973fe60cf1703"
      }
     },
     "d3d383d7d13d4f99821161ea2f24115b": {
      "model_module": "@jupyter-widgets/controls",
      "model_module_version": "1.4.0",
      "model_name": "ButtonModel",
      "state": {
       "description": "Default selection",
       "layout": "IPY_MODEL_55427b0f7e74415cbb33735a878112b0",
       "style": "IPY_MODEL_836c064d8add44268caed17acf658d81"
      }
     },
     "d401a8fbf26c49759194f70a59890fe4": {
      "model_module": "@jupyter-widgets/base",
      "model_module_version": "1.1.0",
      "model_name": "LayoutModel",
      "state": {
       "width": "400px"
      }
     },
     "d434fa6ec1914e2bbac3fbb922ed8a56": {
      "model_module": "@jupyter-widgets/controls",
      "model_module_version": "1.4.0",
      "model_name": "DescriptionStyleModel",
      "state": {
       "description_width": "initial"
      }
     },
     "d43cbe35756b4942b8769d893565ede7": {
      "model_module": "@jupyter-widgets/controls",
      "model_module_version": "1.4.0",
      "model_name": "HTMLModel",
      "state": {
       "description": "QA layer:",
       "layout": "IPY_MODEL_6d7710bf8a7447c78c9c29e6be7ed952",
       "style": "IPY_MODEL_90eeef66bbf549a4930c7a40adf1348a",
       "value": "<b>_1_km_16_days_VI_Quality</b>"
      }
     },
     "d4547d51cf114f238b8326bdfd82969d": {
      "model_module": "@jupyter-widgets/controls",
      "model_module_version": "1.4.0",
      "model_name": "DescriptionStyleModel",
      "state": {
       "description_width": ""
      }
     },
     "d45c2164d441488e933a0b47d6567b8b": {
      "model_module": "@jupyter-widgets/controls",
      "model_module_version": "1.4.0",
      "model_name": "SelectModel",
      "state": {
       "_options_labels": [
        "MODLAND",
        "VI Usefulness",
        "Aerosol Quantity",
        "Adjacent cloud detected",
        "Atmosphere BRDF Correction",
        "Mixed Clouds",
        "Land/Water Mask",
        "Possible snow/ice",
        "Possible shadow"
       ],
       "description": "QA Parameter name:",
       "index": 0,
       "layout": "IPY_MODEL_bc07217b606f4f8f872d521d7701cc04",
       "rows": 9,
       "style": "IPY_MODEL_ccfdd8139eaf42409351b3bdc1687d31"
      }
     },
     "d462dbcf7ba64f95be571306e5fdb438": {
      "model_module": "@jupyter-widgets/controls",
      "model_module_version": "1.4.0",
      "model_name": "VBoxModel",
      "state": {
       "children": [
        "IPY_MODEL_801b78a2b1634135ac11369692f5079a"
       ],
       "layout": "IPY_MODEL_0730c9a238a74e948bcb2b42dde56df9"
      }
     },
     "d4670fcfe77f41e4b9e2586ada67782b": {
      "model_module": "@jupyter-widgets/controls",
      "model_module_version": "1.4.0",
      "model_name": "SelectMultipleModel",
      "state": {
       "_options_labels": [
        "linear",
        "nearest",
        "zero",
        "slinear",
        "quadratic",
        "cubic",
        "barycentric",
        "krog",
        "pchip",
        "spline",
        "akima"
       ],
       "description": "Interpolation methods",
       "index": [
        0
       ],
       "layout": "IPY_MODEL_4512006727d946ec97a1c7f267491291",
       "rows": 11,
       "style": "IPY_MODEL_d84825f547424de989e94636582f7790"
      }
     },
     "d46c71e8da8e47d9900d84a623afa5c2": {
      "model_module": "@jupyter-widgets/controls",
      "model_module_version": "1.4.0",
      "model_name": "ProgressStyleModel",
      "state": {
       "description_width": "initial"
      }
     },
     "d46f3f337ca0407cbcb79e22826c6cca": {
      "model_module": "@jupyter-widgets/base",
      "model_module_version": "1.1.0",
      "model_name": "LayoutModel",
      "state": {
       "width": "19%"
      }
     },
     "d4773e83c9dd4a508e26db2106acb3be": {
      "model_module": "@jupyter-widgets/controls",
      "model_module_version": "1.4.0",
      "model_name": "IntProgressModel",
      "state": {
       "description": "Computing max gap length...",
       "layout": "IPY_MODEL_203fe867a08946ba8254270d26987f44",
       "max": 10,
       "style": "IPY_MODEL_7f4e27e3c85a431c87be05bd42bc5d3c",
       "value": 2
      }
     },
     "d48abe00c77a4ca7a67ef81e5341d136": {
      "model_module": "@jupyter-widgets/controls",
      "model_module_version": "1.4.0",
      "model_name": "ButtonStyleModel",
      "state": {}
     },
     "d49d5f488b4e4d4fad8c1c1f7a25b64b": {
      "model_module": "@jupyter-widgets/base",
      "model_module_version": "1.1.0",
      "model_name": "LayoutModel",
      "state": {}
     },
     "d49e98dc9437404e99eb3ff35590022f": {
      "model_module": "@jupyter-widgets/base",
      "model_module_version": "1.1.0",
      "model_name": "LayoutModel",
      "state": {
       "width": "20%"
      }
     },
     "d4a45b76983e41c6b7be47355d17fddf": {
      "model_module": "@jupyter-widgets/controls",
      "model_module_version": "1.4.0",
      "model_name": "ButtonStyleModel",
      "state": {}
     },
     "d4adbf70cb774c4ea5a7dd5ec036e1da": {
      "model_module": "@jupyter-widgets/controls",
      "model_module_version": "1.4.0",
      "model_name": "ButtonModel",
      "state": {
       "description": "Select ALL",
       "layout": "IPY_MODEL_24b8343f3aaf421d82bd41de58ccf06d",
       "style": "IPY_MODEL_fa02fa034e7345188df7b669a86452cd"
      }
     },
     "d4db1d4f785c4a9bb57ecadf2bc3c22e": {
      "model_module": "@jupyter-widgets/controls",
      "model_module_version": "1.4.0",
      "model_name": "ButtonModel",
      "state": {
       "description": "Default selection",
       "layout": "IPY_MODEL_80b5a73dca5f420e8feb850c8671b3b8",
       "style": "IPY_MODEL_477c28c444c844a9ba5ea64e0365d5a4"
      }
     },
     "d4df2e7de5ce4e04a54ff943f52187b3": {
      "model_module": "@jupyter-widgets/controls",
      "model_module_version": "1.4.0",
      "model_name": "DescriptionStyleModel",
      "state": {
       "description_width": "initial"
      }
     },
     "d4f930c5a9904f5b8fa8722221db9040": {
      "model_module": "@jupyter-widgets/base",
      "model_module_version": "1.1.0",
      "model_name": "LayoutModel",
      "state": {
       "width": "50%"
      }
     },
     "d4fc012aa4544826bfbda7fd3493e64a": {
      "model_module": "@jupyter-widgets/controls",
      "model_module_version": "1.4.0",
      "model_name": "DescriptionStyleModel",
      "state": {
       "description_width": "initial"
      }
     },
     "d4fdf635475b45c99649273055dd3cff": {
      "model_module": "@jupyter-widgets/controls",
      "model_module_version": "1.4.0",
      "model_name": "VBoxModel",
      "state": {
       "children": [
        "IPY_MODEL_3dc9160e5bc240058879d8a219ac009d"
       ],
       "layout": "IPY_MODEL_f9cb42fc5ad74aab88e03e1c4442c96a"
      }
     },
     "d51ef3ba35ca49ef80f885300bf5564f": {
      "model_module": "@jupyter-widgets/controls",
      "model_module_version": "1.4.0",
      "model_name": "HBoxModel",
      "state": {
       "children": [
        "IPY_MODEL_ae995d8d074e404aa7c0d91e23a7c448",
        "IPY_MODEL_35fc3f33dd584121b1a5aca02bb53a5d",
        "IPY_MODEL_e40d004346bc4513a1781b83bf9ee0af"
       ],
       "layout": "IPY_MODEL_87be2ee1064a43dca40272f9b4cda698"
      }
     },
     "d527aa7c9e36401e9057c2a29008f467": {
      "model_module": "@jupyter-widgets/controls",
      "model_module_version": "1.4.0",
      "model_name": "ButtonStyleModel",
      "state": {}
     },
     "d549fccca1cb4d4ea02af219ff6a5089": {
      "model_module": "@jupyter-widgets/base",
      "model_module_version": "1.1.0",
      "model_name": "LayoutModel",
      "state": {}
     },
     "d562accff913468ebd51c16708efc21e": {
      "model_module": "@jupyter-widgets/controls",
      "model_module_version": "1.4.0",
      "model_name": "DescriptionStyleModel",
      "state": {
       "description_width": "initial"
      }
     },
     "d596834e527d40d29d0d61eb1b27a7a7": {
      "model_module": "@jupyter-widgets/controls",
      "model_module_version": "1.4.0",
      "model_name": "DescriptionStyleModel",
      "state": {
       "description_width": ""
      }
     },
     "d5b13bbd7cc54462bda7ca5591f03c51": {
      "model_module": "@jupyter-widgets/base",
      "model_module_version": "1.1.0",
      "model_name": "LayoutModel",
      "state": {
       "width": "50%"
      }
     },
     "d5b18c2186814c0983761885665e3647": {
      "model_module": "@jupyter-widgets/controls",
      "model_module_version": "1.4.0",
      "model_name": "DescriptionStyleModel",
      "state": {
       "description_width": "initial"
      }
     },
     "d5db99f748a94d0ca071b1a5a094699d": {
      "model_module": "@jupyter-widgets/base",
      "model_module_version": "1.1.0",
      "model_name": "LayoutModel",
      "state": {
       "width": "400px"
      }
     },
     "d5ec953b0c854ca782d5ed0b29cf67d8": {
      "model_module": "@jupyter-widgets/base",
      "model_module_version": "1.1.0",
      "model_name": "LayoutModel",
      "state": {}
     },
     "d5f2886c34d84ec390792a0a11a56174": {
      "model_module": "@jupyter-widgets/base",
      "model_module_version": "1.1.0",
      "model_name": "LayoutModel",
      "state": {
       "width": "20%"
      }
     },
     "d5ffc504e0914b6ab711dca0d650bd5a": {
      "model_module": "@jupyter-widgets/base",
      "model_module_version": "1.1.0",
      "model_name": "LayoutModel",
      "state": {}
     },
     "d6339813af284c6fb7f1d2e412845926": {
      "model_module": "@jupyter-widgets/controls",
      "model_module_version": "1.4.0",
      "model_name": "HBoxModel",
      "state": {
       "children": [
        "IPY_MODEL_b2b1be67c2354dfabbd0cdf6afd5bc55",
        "IPY_MODEL_669c5196d73c4b05942c86415209df39",
        "IPY_MODEL_164c3cd08c184fe0abae6e1b66a2423c"
       ],
       "layout": "IPY_MODEL_bd7d882e970c46a79061917312326620"
      }
     },
     "d65e4a70747f4e62b6e1227ecd722de8": {
      "model_module": "@jupyter-widgets/controls",
      "model_module_version": "1.4.0",
      "model_name": "DescriptionStyleModel",
      "state": {
       "description_width": "initial"
      }
     },
     "d660bce74b844368917b75de6d133f81": {
      "model_module": "@jupyter-widgets/base",
      "model_module_version": "1.1.0",
      "model_name": "LayoutModel",
      "state": {}
     },
     "d682e0c67c5c4eb399d6cd1007e109c1": {
      "model_module": "@jupyter-widgets/base",
      "model_module_version": "1.1.0",
      "model_name": "LayoutModel",
      "state": {
       "height": "300px",
       "width": "99%"
      }
     },
     "d6845dbbae3f412cbf4312a44443b06c": {
      "model_module": "@jupyter-widgets/controls",
      "model_module_version": "1.4.0",
      "model_name": "HBoxModel",
      "state": {
       "children": [
        "IPY_MODEL_61ae087bf29c46d580279bf0df717b72",
        "IPY_MODEL_3a80d8a0c40d447abe26f1443f6d90e3",
        "IPY_MODEL_23b9e9b274bb4983a54f4c03c295f58d",
        "IPY_MODEL_743e3606c19d4c92a74622cf9760d865"
       ],
       "layout": "IPY_MODEL_bc5f51300f71491881422846d7406c25"
      }
     },
     "d6870dd14f6a4b99afb7833169a4e923": {
      "model_module": "@jupyter-widgets/base",
      "model_module_version": "1.1.0",
      "model_name": "LayoutModel",
      "state": {}
     },
     "d6a8f0b622744e3a8fd021b5e0d941b6": {
      "model_module": "@jupyter-widgets/controls",
      "model_module_version": "1.4.0",
      "model_name": "ButtonModel",
      "state": {
       "description": "Create mask",
       "layout": "IPY_MODEL_f4a71096f5694088919fe451a94ab08c",
       "style": "IPY_MODEL_6066dce1009b4480ad3211e0021c7083"
      }
     },
     "d6b566a893a1464ab2750f83da5cf24f": {
      "model_module": "@jupyter-widgets/controls",
      "model_module_version": "1.4.0",
      "model_name": "HBoxModel",
      "state": {
       "children": [
        "IPY_MODEL_ea1e0454de2742bb9cc4875c9c2b7ba7",
        "IPY_MODEL_0cb15f86f316478f917b7305ff00bbad",
        "IPY_MODEL_8bad5a19aff447fd90e6f4ab91d4814f"
       ],
       "layout": "IPY_MODEL_83cd6db10aa64748bcb6749c95925565"
      }
     },
     "d6c3d1f452f94565936c0f7583083aad": {
      "model_module": "@jupyter-widgets/controls",
      "model_module_version": "1.4.0",
      "model_name": "ButtonStyleModel",
      "state": {}
     },
     "d6ea665f05d04162922894e13e8502c6": {
      "model_module": "@jupyter-widgets/controls",
      "model_module_version": "1.4.0",
      "model_name": "ProgressStyleModel",
      "state": {
       "description_width": "initial"
      }
     },
     "d71a6461f8bc43e69010849213708430": {
      "model_module": "@jupyter-widgets/controls",
      "model_module_version": "1.4.0",
      "model_name": "ButtonStyleModel",
      "state": {}
     },
     "d734c3c364414df6939be96d90445f75": {
      "model_module": "@jupyter-widgets/controls",
      "model_module_version": "1.4.0",
      "model_name": "HTMLModel",
      "state": {
       "description": "QA layer:",
       "layout": "IPY_MODEL_63b401077f7b4de781d481d30f964aa6",
       "style": "IPY_MODEL_f6da4daa0bdb48f4bd2cd3090073d51e",
       "value": "<b>_1_km_16_days_pixel_reliability</b>"
      }
     },
     "d7589883c2564030a1d27c4107be68e5": {
      "model_module": "@jupyter-widgets/base",
      "model_module_version": "1.1.0",
      "model_name": "LayoutModel",
      "state": {
       "width": "20%"
      }
     },
     "d76199888ec04e39916246aec25faacc": {
      "model_module": "@jupyter-widgets/controls",
      "model_module_version": "1.4.0",
      "model_name": "ButtonStyleModel",
      "state": {}
     },
     "d7634c8e99324dd18d104466e974a5c7": {
      "model_module": "@jupyter-widgets/base",
      "model_module_version": "1.1.0",
      "model_name": "LayoutModel",
      "state": {
       "width": "400px"
      }
     },
     "d775570db50842b88d8ec58715eda83a": {
      "model_module": "@jupyter-widgets/base",
      "model_module_version": "1.1.0",
      "model_name": "LayoutModel",
      "state": {
       "width": "400px"
      }
     },
     "d775da67a9934938b1aa7f9ac394f9c7": {
      "model_module": "@jupyter-widgets/controls",
      "model_module_version": "1.4.0",
      "model_name": "ButtonModel",
      "state": {
       "description": "QA analytics",
       "layout": "IPY_MODEL_7c6518a8aed74ed18961db69ea90894e",
       "style": "IPY_MODEL_e425180bae6d47c8bf2c1eeaaf14292c"
      }
     },
     "d77a030125284d20a2aed0c9051ef52a": {
      "model_module": "@jupyter-widgets/base",
      "model_module_version": "1.1.0",
      "model_name": "LayoutModel",
      "state": {
       "width": "30%"
      }
     },
     "d77d91573c5d4d10bc3ab12be866031e": {
      "model_module": "@jupyter-widgets/controls",
      "model_module_version": "1.4.0",
      "model_name": "HBoxModel",
      "state": {
       "children": [
        "IPY_MODEL_9affa3259f2b4e1e8ce05643430e7736",
        "IPY_MODEL_0bc74b84fc88448993990dc484441f29"
       ],
       "layout": "IPY_MODEL_a5bffd53a4e24ad9bec3136502ac88f2"
      }
     },
     "d784c6b3e69042d99de9de59e3a772ac": {
      "model_module": "@jupyter-widgets/controls",
      "model_module_version": "1.4.0",
      "model_name": "VBoxModel",
      "state": {
       "children": [
        "IPY_MODEL_30951e5b9fba48edba688d70e9712d01"
       ],
       "layout": "IPY_MODEL_7ffa67f1dec74172a21b0bbe78f5b115"
      }
     },
     "d7b5b7034f744be6ac802b05a7f9d487": {
      "model_module": "@jupyter-widgets/base",
      "model_module_version": "1.1.0",
      "model_name": "LayoutModel",
      "state": {
       "width": "20%"
      }
     },
     "d82980e0956944eb9fb767ecf6b0a1cb": {
      "model_module": "@jupyter-widgets/base",
      "model_module_version": "1.1.0",
      "model_name": "LayoutModel",
      "state": {
       "width": "400px"
      }
     },
     "d84825f547424de989e94636582f7790": {
      "model_module": "@jupyter-widgets/controls",
      "model_module_version": "1.4.0",
      "model_name": "DescriptionStyleModel",
      "state": {
       "description_width": "initial"
      }
     },
     "d84baeb1685243f484a7bde09e103814": {
      "model_module": "@jupyter-widgets/base",
      "model_module_version": "1.1.0",
      "model_name": "LayoutModel",
      "state": {
       "width": "400px"
      }
     },
     "d8703cbf977645c687c2e25f4f4872b2": {
      "model_module": "@jupyter-widgets/controls",
      "model_module_version": "1.4.0",
      "model_name": "VBoxModel",
      "state": {
       "children": [
        "IPY_MODEL_89a4e451a62740788555096ac694777b"
       ],
       "layout": "IPY_MODEL_e216fc63e1794fa1b10f336fbc1eecda"
      }
     },
     "d8845f06a5a341a99a8c49d9867a3e98": {
      "model_module": "@jupyter-widgets/base",
      "model_module_version": "1.1.0",
      "model_name": "LayoutModel",
      "state": {}
     },
     "d886493be3b245dcbc38337f8206b41b": {
      "model_module": "@jupyter-widgets/controls",
      "model_module_version": "1.4.0",
      "model_name": "ButtonStyleModel",
      "state": {}
     },
     "d8958cb97d384167a89d8671434d6a33": {
      "model_module": "@jupyter-widgets/controls",
      "model_module_version": "1.4.0",
      "model_name": "SelectMultipleModel",
      "state": {
       "_options_labels": [
        "Good data, use with confidence",
        "Marginal data, Useful, but look at other QA information",
        "Snow/Ice Target covered with snow/ice",
        "Cloudy data, Target not visible, covered with cloud"
       ],
       "description": "Description",
       "index": [
        0,
        1
       ],
       "layout": "IPY_MODEL_a0590c75f52c4816b053bba563b67d07",
       "rows": 4,
       "style": "IPY_MODEL_3d14843199d0442d841213d41e8a929d"
      }
     },
     "d89a35070a6944979d33e93f4fa83b31": {
      "model_module": "@jupyter-widgets/base",
      "model_module_version": "1.1.0",
      "model_name": "LayoutModel",
      "state": {}
     },
     "d8b63eac71e749f4ad0481dda5a18fcd": {
      "model_module": "@jupyter-widgets/base",
      "model_module_version": "1.1.0",
      "model_name": "LayoutModel",
      "state": {}
     },
     "d8cdf810f7914100857fa2db26db29bd": {
      "model_module": "@jupyter-widgets/controls",
      "model_module_version": "1.4.0",
      "model_name": "ButtonModel",
      "state": {
       "description": "Select ALL",
       "layout": "IPY_MODEL_53c4f94f449141ecb32e8b4f502610e4",
       "style": "IPY_MODEL_cbd2addc97cc44b5b6f02e115a12bda4"
      }
     },
     "d8d163eda7a945c7abb863a591d5ae07": {
      "model_module": "@jupyter-widgets/controls",
      "model_module_version": "1.4.0",
      "model_name": "ButtonModel",
      "state": {
       "description": "Create mask",
       "layout": "IPY_MODEL_611cc2ffe82846f2b07232844c3229d4",
       "style": "IPY_MODEL_8d21980aecd54a83b60b4862aa461ee8"
      }
     },
     "d8dbeffe925a42b8932f18708b979f38": {
      "model_module": "@jupyter-widgets/base",
      "model_module_version": "1.1.0",
      "model_name": "LayoutModel",
      "state": {
       "width": "20%"
      }
     },
     "d8e391f6a98e447cb193560bd4ece120": {
      "model_module": "@jupyter-widgets/base",
      "model_module_version": "1.1.0",
      "model_name": "LayoutModel",
      "state": {
       "width": "30%"
      }
     },
     "d902963b0573403294aad2db554686d0": {
      "model_module": "@jupyter-widgets/controls",
      "model_module_version": "1.4.0",
      "model_name": "HTMLModel",
      "state": {
       "description": "QA layer:",
       "layout": "IPY_MODEL_cb1452f68d764cfd81e12530538ace3e",
       "style": "IPY_MODEL_fb663ad86f454a718b1377ae592fb93c",
       "value": "<b>_1_km_16_days_VI_Quality</b>"
      }
     },
     "d90f33548a1843b5aa918656317bf158": {
      "model_module": "@jupyter-widgets/controls",
      "model_module_version": "1.4.0",
      "model_name": "ButtonStyleModel",
      "state": {}
     },
     "d9585e819d194337a4263a52d8456ffc": {
      "model_module": "@jupyter-widgets/base",
      "model_module_version": "1.1.0",
      "model_name": "LayoutModel",
      "state": {
       "width": "400px"
      }
     },
     "d97724099817420890773dbae80f4783": {
      "model_module": "@jupyter-widgets/controls",
      "model_module_version": "1.4.0",
      "model_name": "ProgressStyleModel",
      "state": {
       "description_width": "initial"
      }
     },
     "d9a64b03db9148be924848d1ce2ab435": {
      "model_module": "@jupyter-widgets/base",
      "model_module_version": "1.1.0",
      "model_name": "LayoutModel",
      "state": {
       "width": "20%"
      }
     },
     "d9c25d636d0e4721bed5f4de31f22ea9": {
      "model_module": "@jupyter-widgets/controls",
      "model_module_version": "1.4.0",
      "model_name": "HTMLModel",
      "state": {
       "description": "QA layer:",
       "layout": "IPY_MODEL_d5ffc504e0914b6ab711dca0d650bd5a",
       "style": "IPY_MODEL_f711c6e3bceb4280a32017af3e51d9ca",
       "value": "<b>_1_km_16_days_pixel_reliability</b>"
      }
     },
     "da0a222ccb9e429bbd513a5c7cbb3edd": {
      "model_module": "@jupyter-widgets/base",
      "model_module_version": "1.1.0",
      "model_name": "LayoutModel",
      "state": {
       "width": "20%"
      }
     },
     "da5da6bd3060480faa51ee678c64df09": {
      "model_module": "@jupyter-widgets/controls",
      "model_module_version": "1.4.0",
      "model_name": "VBoxModel",
      "state": {
       "children": [
        "IPY_MODEL_43138292ae9a453e99e3e5aa576d99f9"
       ],
       "layout": "IPY_MODEL_6e96e55d28fa4063a44f26efc9f069a8"
      }
     },
     "da89436ee9fa4b6bb8a13c5dd234d56e": {
      "model_module": "@jupyter-widgets/base",
      "model_module_version": "1.1.0",
      "model_name": "LayoutModel",
      "state": {
       "width": "20%"
      }
     },
     "dac7cc1255be42e8b5ea7a20bd0a61a4": {
      "model_module": "@jupyter-widgets/base",
      "model_module_version": "1.1.0",
      "model_name": "LayoutModel",
      "state": {}
     },
     "dafe25788ab446be8246ee5a1125599f": {
      "model_module": "@jupyter-widgets/controls",
      "model_module_version": "1.4.0",
      "model_name": "DescriptionStyleModel",
      "state": {
       "description_width": ""
      }
     },
     "db0ed4ef4d8042aebb776312a67901e3": {
      "model_module": "@jupyter-widgets/controls",
      "model_module_version": "1.4.0",
      "model_name": "ButtonStyleModel",
      "state": {}
     },
     "db29418121a54585abf29d620bfc6367": {
      "model_module": "@jupyter-widgets/base",
      "model_module_version": "1.1.0",
      "model_name": "LayoutModel",
      "state": {}
     },
     "db42272650c34bec8c2544df16fb4596": {
      "model_module": "@jupyter-widgets/base",
      "model_module_version": "1.1.0",
      "model_name": "LayoutModel",
      "state": {
       "width": "20%"
      }
     },
     "db8c3d04399d4b90956a94ce6602ee60": {
      "model_module": "@jupyter-widgets/controls",
      "model_module_version": "1.4.0",
      "model_name": "ButtonModel",
      "state": {
       "description": "Select ALL",
       "layout": "IPY_MODEL_7bb2ac8a8952408fa68c257ab8388df0",
       "style": "IPY_MODEL_017ea2dea1b84f8fbaf99081aced9d28"
      }
     },
     "dbc747dfb77345a18561e2b5193a9bf0": {
      "model_module": "@jupyter-widgets/controls",
      "model_module_version": "1.4.0",
      "model_name": "DescriptionStyleModel",
      "state": {
       "description_width": "initial"
      }
     },
     "dbfdadf97dcf4308bdf8cd6e1bfb57e6": {
      "model_module": "@jupyter-widgets/base",
      "model_module_version": "1.1.0",
      "model_name": "LayoutModel",
      "state": {}
     },
     "dc2ad029ac5449fc9688bc4c907fc1a9": {
      "model_module": "@jupyter-widgets/controls",
      "model_module_version": "1.4.0",
      "model_name": "DescriptionStyleModel",
      "state": {
       "description_width": "initial"
      }
     },
     "dc6ef7c43dba40cdb1f28a750126b920": {
      "model_module": "@jupyter-widgets/controls",
      "model_module_version": "1.4.0",
      "model_name": "SelectModel",
      "state": {
       "_options_labels": [
        "MODLAND",
        "VI Usefulness",
        "Aerosol Quantity",
        "Adjacent cloud detected",
        "Atmosphere BRDF Correction",
        "Mixed Clouds",
        "Land/Water Mask",
        "Possible snow/ice",
        "Possible shadow"
       ],
       "description": "QA Parameter name:",
       "index": 0,
       "layout": "IPY_MODEL_bc2fabf5c3ee48f6be2af42ce9102e14",
       "rows": 9,
       "style": "IPY_MODEL_bb476f47b308487ea9e64ab89f7b5712"
      }
     },
     "dc7e06e77261415ca0d41b899ce88245": {
      "model_module": "@jupyter-widgets/controls",
      "model_module_version": "1.4.0",
      "model_name": "DescriptionStyleModel",
      "state": {
       "description_width": ""
      }
     },
     "dd0579df910e4ef19049b8d787b240c3": {
      "model_module": "@jupyter-widgets/controls",
      "model_module_version": "1.4.0",
      "model_name": "ButtonModel",
      "state": {
       "description": "Default selection",
       "layout": "IPY_MODEL_491a220489fa4252ac9c9b8533a567ef",
       "style": "IPY_MODEL_76b421e5eb954d4095e2e40bf34d96e9"
      }
     },
     "dd16c4d14d504e68b243d7ac165d6d5e": {
      "model_module": "@jupyter-widgets/controls",
      "model_module_version": "1.4.0",
      "model_name": "SelectMultipleModel",
      "state": {
       "_options_labels": [
        "VI produced, good quality",
        "VI produced, but check other QA",
        "Pixel produced, but most probably cloudy",
        "Pixel not produced due to other reasons than clouds"
       ],
       "description": "Description",
       "index": [
        0
       ],
       "layout": "IPY_MODEL_6df5c536eb4643dc951c5c1ad39baf82",
       "rows": 4,
       "style": "IPY_MODEL_7281f93790b64aba85d1816157b0ef1a"
      }
     },
     "dd19f5dfa7bb4be1b8120741eaabe4f4": {
      "model_module": "@jupyter-widgets/controls",
      "model_module_version": "1.4.0",
      "model_name": "ButtonModel",
      "state": {
       "description": "QA analytics",
       "layout": "IPY_MODEL_cf5ab40001944cb9bc465eaa92a6c7da",
       "style": "IPY_MODEL_4f4c7225517048c686019b5b9ccedf69"
      }
     },
     "dd304b9352484e1f8bc5b79b84057d7d": {
      "model_module": "@jupyter-widgets/base",
      "model_module_version": "1.1.0",
      "model_name": "LayoutModel",
      "state": {
       "width": "400px"
      }
     },
     "dd54b9e2b947419e8634d942676ab5a6": {
      "model_module": "@jupyter-widgets/controls",
      "model_module_version": "1.4.0",
      "model_name": "DescriptionStyleModel",
      "state": {
       "description_width": ""
      }
     },
     "dd73b69586534466a68db22120e38c7a": {
      "model_module": "@jupyter-widgets/base",
      "model_module_version": "1.1.0",
      "model_name": "LayoutModel",
      "state": {
       "width": "20%"
      }
     },
     "dd8545e0de8d43e6b469931e36bd6154": {
      "model_module": "@jupyter-widgets/base",
      "model_module_version": "1.1.0",
      "model_name": "LayoutModel",
      "state": {
       "width": "20%"
      }
     },
     "dda17bd7d46a4faf89875b5b9f634c95": {
      "model_module": "@jupyter-widgets/controls",
      "model_module_version": "1.4.0",
      "model_name": "DescriptionStyleModel",
      "state": {
       "description_width": ""
      }
     },
     "dda50d3d990b4fc39cd0527d0fd8ad8c": {
      "model_module": "@jupyter-widgets/controls",
      "model_module_version": "1.4.0",
      "model_name": "DescriptionStyleModel",
      "state": {
       "description_width": "initial"
      }
     },
     "ddc0715aec5c4436b9f6a7732d4d1cc6": {
      "model_module": "@jupyter-widgets/base",
      "model_module_version": "1.1.0",
      "model_name": "LayoutModel",
      "state": {}
     },
     "ddca87211cc3400a8eb0002686af1bba": {
      "model_module": "@jupyter-widgets/controls",
      "model_module_version": "1.4.0",
      "model_name": "ButtonModel",
      "state": {
       "description": "Default selection",
       "layout": "IPY_MODEL_93befd0217504c818634cdf62a275347",
       "style": "IPY_MODEL_c13a0aa7520643b7ab20c70075cf5fcb"
      }
     },
     "ddcd74c306f24425ad759cc02711ccd6": {
      "model_module": "@jupyter-widgets/controls",
      "model_module_version": "1.4.0",
      "model_name": "SelectModel",
      "state": {
       "_options_labels": [
        "MODLAND",
        "VI Usefulness",
        "Aerosol Quantity",
        "Adjacent cloud detected",
        "Atmosphere BRDF Correction",
        "Mixed Clouds",
        "Land/Water Mask",
        "Possible snow/ice",
        "Possible shadow"
       ],
       "description": "QA Parameter name:",
       "index": 0,
       "layout": "IPY_MODEL_3400e41ba610485e8742c717649d34a0",
       "rows": 9,
       "style": "IPY_MODEL_83363ceb73b04701bfb15c011990cbc4"
      }
     },
     "ddf22bf0de2d40d1b8198e88c934519d": {
      "model_module": "@jupyter-widgets/base",
      "model_module_version": "1.1.0",
      "model_name": "LayoutModel",
      "state": {
       "width": "50%"
      }
     },
     "ddf2e8812e864a5a8a90de257bead483": {
      "model_module": "@jupyter-widgets/base",
      "model_module_version": "1.1.0",
      "model_name": "LayoutModel",
      "state": {
       "width": "20%"
      }
     },
     "de04e1aca6854f76afb599dcc005f678": {
      "model_module": "@jupyter-widgets/controls",
      "model_module_version": "1.4.0",
      "model_name": "HBoxModel",
      "state": {
       "children": [
        "IPY_MODEL_7c2e1d3d25d6480db3da49114058d706",
        "IPY_MODEL_e5ca5654d00b4552bcbf252f09e2f27d",
        "IPY_MODEL_f2ecce47635343b2a02e78a9ed3e4dae"
       ],
       "layout": "IPY_MODEL_bf989bf2e3244e4885f826c38234beb3"
      }
     },
     "de6c210076fc4243b7049c4e328f9a71": {
      "model_module": "@jupyter-widgets/controls",
      "model_module_version": "1.4.0",
      "model_name": "VBoxModel",
      "state": {
       "children": [
        "IPY_MODEL_e604ed83b29d46f091f72d68288c0160"
       ],
       "layout": "IPY_MODEL_ee0b560818f744c7b0817bc33c95d5eb"
      }
     },
     "de6e345b6a5d4df787f6934093e58f61": {
      "model_module": "@jupyter-widgets/controls",
      "model_module_version": "1.4.0",
      "model_name": "ProgressStyleModel",
      "state": {
       "description_width": "initial"
      }
     },
     "de90c9ac99954c22b22c7c4f2586ec4b": {
      "model_module": "@jupyter-widgets/base",
      "model_module_version": "1.1.0",
      "model_name": "LayoutModel",
      "state": {
       "width": "20%"
      }
     },
     "deab2ae1fdbc47d291d7c0c98910be42": {
      "model_module": "@jupyter-widgets/controls",
      "model_module_version": "1.4.0",
      "model_name": "ButtonModel",
      "state": {
       "description": "QA analytics",
       "layout": "IPY_MODEL_56901bae163e46aa9130e76f9cf0abc6",
       "style": "IPY_MODEL_392f65f71c894cb994f165c2c983c698"
      }
     },
     "dee0bbf0664f465798c1393743da58db": {
      "model_module": "@jupyter-widgets/base",
      "model_module_version": "1.1.0",
      "model_name": "LayoutModel",
      "state": {
       "width": "20%"
      }
     },
     "def9089991f44e4fa7264e0de5ab4995": {
      "model_module": "@jupyter-widgets/controls",
      "model_module_version": "1.4.0",
      "model_name": "ButtonModel",
      "state": {
       "description": "Select ALL",
       "layout": "IPY_MODEL_1b8dbc569ff84478881fa431c104181e",
       "style": "IPY_MODEL_c2bf878ebf664ff5b0d158bbf7c0028d"
      }
     },
     "df339e73ce634f0682edcbf2f47e31c0": {
      "model_module": "@jupyter-widgets/base",
      "model_module_version": "1.1.0",
      "model_name": "LayoutModel",
      "state": {
       "width": "400px"
      }
     },
     "df67c2efcefb462f83e5f4ac72393475": {
      "model_module": "@jupyter-widgets/controls",
      "model_module_version": "1.4.0",
      "model_name": "DescriptionStyleModel",
      "state": {
       "description_width": "initial"
      }
     },
     "df6e91236a524068a02869e80f3bd793": {
      "model_module": "@jupyter-widgets/controls",
      "model_module_version": "1.4.0",
      "model_name": "ButtonModel",
      "state": {
       "description": "Select ALL",
       "layout": "IPY_MODEL_ffa831ff80c54237839e7a6d95ef86ef",
       "style": "IPY_MODEL_79d38e7bbfde4b86b08ec639eacc55f6"
      }
     },
     "df7496f883ad41e7b3503e1893fe69bb": {
      "model_module": "@jupyter-widgets/base",
      "model_module_version": "1.1.0",
      "model_name": "LayoutModel",
      "state": {
       "width": "400px"
      }
     },
     "df9ba61d1a0140a4968f14f350ad336d": {
      "model_module": "@jupyter-widgets/base",
      "model_module_version": "1.1.0",
      "model_name": "LayoutModel",
      "state": {
       "height": "350px",
       "width": "99%"
      }
     },
     "dfbffee918c44d21b3310380e0c682c7": {
      "model_module": "@jupyter-widgets/controls",
      "model_module_version": "1.4.0",
      "model_name": "DescriptionStyleModel",
      "state": {
       "description_width": "initial"
      }
     },
     "dfdcc3376b9547a78f049ada75850a63": {
      "model_module": "@jupyter-widgets/base",
      "model_module_version": "1.1.0",
      "model_name": "LayoutModel",
      "state": {}
     },
     "dfeb91fa296b47d5b5604cd40dd38dc2": {
      "model_module": "@jupyter-widgets/controls",
      "model_module_version": "1.4.0",
      "model_name": "ButtonStyleModel",
      "state": {}
     },
     "e009d2afe7384071ba457eff78633f6f": {
      "model_module": "@jupyter-widgets/base",
      "model_module_version": "1.1.0",
      "model_name": "LayoutModel",
      "state": {}
     },
     "e062cd00c75841a1ad39794e58087a5f": {
      "model_module": "@jupyter-widgets/controls",
      "model_module_version": "1.4.0",
      "model_name": "SelectMultipleModel",
      "state": {
       "_options_labels": [
        "VI produced, good quality",
        "VI produced, but check other QA",
        "Pixel produced, but most probably cloudy",
        "Pixel not produced due to other reasons than clouds"
       ],
       "description": "Description",
       "index": [
        0
       ],
       "layout": "IPY_MODEL_8701aeed8e404a549311d57e3cbce686",
       "rows": 4,
       "style": "IPY_MODEL_eff34cca477f4fe49289c25c89aa9dba"
      }
     },
     "e0ea05f9721a4de094a25709e95f2ac3": {
      "model_module": "@jupyter-widgets/controls",
      "model_module_version": "1.4.0",
      "model_name": "ButtonModel",
      "state": {
       "description": "Default selection",
       "layout": "IPY_MODEL_5a74e4f8221d45ef96c8d96ff081be48",
       "style": "IPY_MODEL_d1daf33ec1054034ae4c8f42c30d6dbb"
      }
     },
     "e0f00a2bfd064f4a90860e7d7ed7c830": {
      "model_module": "@jupyter-widgets/controls",
      "model_module_version": "1.4.0",
      "model_name": "HBoxModel",
      "state": {
       "children": [
        "IPY_MODEL_63e9f5dbc2dc45d3a0f3440639b9b539",
        "IPY_MODEL_98ad305165f64a4cb64ccb95177681be"
       ],
       "layout": "IPY_MODEL_59a0302633d74b41b7e9ea699ec9fc0c"
      }
     },
     "e11e1279d51a4591b57a941916031741": {
      "model_module": "@jupyter-widgets/controls",
      "model_module_version": "1.4.0",
      "model_name": "ButtonStyleModel",
      "state": {}
     },
     "e1237b882c1c4eea87212a766abefd87": {
      "model_module": "@jupyter-widgets/controls",
      "model_module_version": "1.4.0",
      "model_name": "ButtonStyleModel",
      "state": {}
     },
     "e147d3abae9a49f2a9700ba6faacdc21": {
      "model_module": "@jupyter-widgets/base",
      "model_module_version": "1.1.0",
      "model_name": "LayoutModel",
      "state": {
       "height": "200px",
       "width": "99%"
      }
     },
     "e15a8d7b1bc445a58185c323ee4282e3": {
      "model_module": "@jupyter-widgets/base",
      "model_module_version": "1.1.0",
      "model_name": "LayoutModel",
      "state": {
       "width": "20%"
      }
     },
     "e176812e24284ab7a161cfaf7c94608c": {
      "model_module": "@jupyter-widgets/controls",
      "model_module_version": "1.4.0",
      "model_name": "ProgressStyleModel",
      "state": {
       "description_width": "initial"
      }
     },
     "e1bdab738c0f42859222b24f72aa9364": {
      "model_module": "@jupyter-widgets/base",
      "model_module_version": "1.1.0",
      "model_name": "LayoutModel",
      "state": {}
     },
     "e1cbb58cff9c4294a0ea58df70655b2b": {
      "model_module": "@jupyter-widgets/controls",
      "model_module_version": "1.4.0",
      "model_name": "HBoxModel",
      "state": {
       "children": [
        "IPY_MODEL_9cf6ed325e5f496ebaeda994d4ac4503",
        "IPY_MODEL_15911de183c24d57a83ec5de479584f4",
        "IPY_MODEL_ea4005d910474883a8088bfc768b5d83"
       ],
       "layout": "IPY_MODEL_99de7d72fbd143f0b96f5ef97328a8a2"
      }
     },
     "e1f06265b35d485886bdb2805469c66e": {
      "model_module": "@jupyter-widgets/controls",
      "model_module_version": "1.4.0",
      "model_name": "DescriptionStyleModel",
      "state": {
       "description_width": "initial"
      }
     },
     "e1fc1647f6644814b341305b0b79af17": {
      "model_module": "@jupyter-widgets/base",
      "model_module_version": "1.1.0",
      "model_name": "LayoutModel",
      "state": {
       "width": "20%"
      }
     },
     "e216fc63e1794fa1b10f336fbc1eecda": {
      "model_module": "@jupyter-widgets/base",
      "model_module_version": "1.1.0",
      "model_name": "LayoutModel",
      "state": {}
     },
     "e2745682ea334edfad94031610851668": {
      "model_module": "@jupyter-widgets/controls",
      "model_module_version": "1.4.0",
      "model_name": "ButtonStyleModel",
      "state": {}
     },
     "e2afa1114b5c4535abcb3b0b6a953639": {
      "model_module": "@jupyter-widgets/base",
      "model_module_version": "1.1.0",
      "model_name": "LayoutModel",
      "state": {
       "width": "50%"
      }
     },
     "e2d6249afae645c3bfd37f64c299ef81": {
      "model_module": "@jupyter-widgets/controls",
      "model_module_version": "1.4.0",
      "model_name": "ButtonStyleModel",
      "state": {}
     },
     "e3199631e1e3499ba50ed9c595d68ca2": {
      "model_module": "@jupyter-widgets/base",
      "model_module_version": "1.1.0",
      "model_name": "LayoutModel",
      "state": {
       "width": "20%"
      }
     },
     "e319e1f2c2e5485ba5b7a05063365b5f": {
      "model_module": "@jupyter-widgets/base",
      "model_module_version": "1.1.0",
      "model_name": "LayoutModel",
      "state": {}
     },
     "e31c5c62ae9a416991daf9542de4fa26": {
      "model_module": "@jupyter-widgets/controls",
      "model_module_version": "1.4.0",
      "model_name": "HBoxModel",
      "state": {
       "children": [
        "IPY_MODEL_fee63d18b90a4793b1ccd47562c68972",
        "IPY_MODEL_ff2009148c534fbf87cdd7b00be534c9"
       ],
       "layout": "IPY_MODEL_d27670f454d24a4da99f115cf5f47f3a"
      }
     },
     "e32843efc1d749bfb9e33d91ab4465df": {
      "model_module": "@jupyter-widgets/controls",
      "model_module_version": "1.4.0",
      "model_name": "VBoxModel",
      "state": {
       "children": [
        "IPY_MODEL_562d7240874341a7b54357e9c462ea4f"
       ],
       "layout": "IPY_MODEL_5f0c7ceb362e4ed7933bb7b388a15d01"
      }
     },
     "e3316da9f47046fcbefb0ca0dd35cabd": {
      "model_module": "@jupyter-widgets/controls",
      "model_module_version": "1.4.0",
      "model_name": "ButtonModel",
      "state": {
       "description": "QA analytics",
       "layout": "IPY_MODEL_46e65524c60b4e9d91534eb746915907",
       "style": "IPY_MODEL_69bf364762ef4985b297d884e531107e"
      }
     },
     "e34aece27a4f4b40bb31d79d1a49aa74": {
      "model_module": "@jupyter-widgets/base",
      "model_module_version": "1.1.0",
      "model_name": "LayoutModel",
      "state": {
       "width": "400px"
      }
     },
     "e3658fb240724a60b0ff5a77b8b94f6d": {
      "model_module": "@jupyter-widgets/controls",
      "model_module_version": "1.4.0",
      "model_name": "ButtonModel",
      "state": {
       "description": "QA analytics",
       "layout": "IPY_MODEL_7041033ab52443cbaf4b6021d38df3f1",
       "style": "IPY_MODEL_ca0c95fbdd9a4c12b9a4b2e45a34d361"
      }
     },
     "e36660d93b8047728a1d8e0db312ded0": {
      "model_module": "@jupyter-widgets/base",
      "model_module_version": "1.1.0",
      "model_name": "LayoutModel",
      "state": {
       "width": "400px"
      }
     },
     "e37bb57b33a747b4b931a7e75c914574": {
      "model_module": "@jupyter-widgets/base",
      "model_module_version": "1.1.0",
      "model_name": "LayoutModel",
      "state": {
       "width": "20%"
      }
     },
     "e380c316488b4d499dcce8cceb4ba155": {
      "model_module": "@jupyter-widgets/controls",
      "model_module_version": "1.4.0",
      "model_name": "VBoxModel",
      "state": {
       "children": [
        "IPY_MODEL_f60b27d07940459c80d220fd3d7e5162"
       ],
       "layout": "IPY_MODEL_d5ec953b0c854ca782d5ed0b29cf67d8"
      }
     },
     "e384f4e601be4db3a723522c1f6f47d2": {
      "model_module": "@jupyter-widgets/controls",
      "model_module_version": "1.4.0",
      "model_name": "DescriptionStyleModel",
      "state": {
       "description_width": "initial"
      }
     },
     "e396ceb38e7943fa999b91562e39a202": {
      "model_module": "@jupyter-widgets/controls",
      "model_module_version": "1.4.0",
      "model_name": "ButtonStyleModel",
      "state": {}
     },
     "e3d1db86432d421f91883d39ddd828c9": {
      "model_module": "@jupyter-widgets/controls",
      "model_module_version": "1.4.0",
      "model_name": "HBoxModel",
      "state": {
       "children": [
        "IPY_MODEL_def9089991f44e4fa7264e0de5ab4995",
        "IPY_MODEL_07677bb86e5a4cf39a7cf38f671dea3c",
        "IPY_MODEL_1806bda9153b426dbc293361a9563bfe"
       ],
       "layout": "IPY_MODEL_e9c657ee850c435294f33efbac12f5a5"
      }
     },
     "e3f656902f834251a2e068eb23634dff": {
      "model_module": "@jupyter-widgets/base",
      "model_module_version": "1.1.0",
      "model_name": "LayoutModel",
      "state": {
       "width": "50%"
      }
     },
     "e40d004346bc4513a1781b83bf9ee0af": {
      "model_module": "@jupyter-widgets/controls",
      "model_module_version": "1.4.0",
      "model_name": "ButtonModel",
      "state": {
       "description": "QA analytics",
       "layout": "IPY_MODEL_4807db10e0a94c78926726749d8195c0",
       "style": "IPY_MODEL_412e3e6934c44f4fae33b06a50da8ca1"
      }
     },
     "e425180bae6d47c8bf2c1eeaaf14292c": {
      "model_module": "@jupyter-widgets/controls",
      "model_module_version": "1.4.0",
      "model_name": "ButtonStyleModel",
      "state": {}
     },
     "e433f982487e41d4b6d2f2dd6c79ebf3": {
      "model_module": "@jupyter-widgets/controls",
      "model_module_version": "1.4.0",
      "model_name": "VBoxModel",
      "state": {
       "children": [
        "IPY_MODEL_9743688332034e83aa6c7f5c8d18806d"
       ],
       "layout": "IPY_MODEL_e615c879a43a40b89674a8335547fffd"
      }
     },
     "e4581d0cea46462c85f03257b8a886cd": {
      "model_module": "@jupyter-widgets/controls",
      "model_module_version": "1.4.0",
      "model_name": "ButtonStyleModel",
      "state": {}
     },
     "e475ccafdeeb44a6b8c12ef5dedbd666": {
      "model_module": "@jupyter-widgets/controls",
      "model_module_version": "1.4.0",
      "model_name": "HBoxModel",
      "state": {
       "children": [
        "IPY_MODEL_9c14c90c08474111bf7581eb4d102773",
        "IPY_MODEL_74d3aa956f0f40a6a2eb84276ec9860f"
       ],
       "layout": "IPY_MODEL_8b01282394634cf79c49bc0db01c3078"
      }
     },
     "e4af34dfdc9c4211a64463439ee76043": {
      "model_module": "@jupyter-widgets/base",
      "model_module_version": "1.1.0",
      "model_name": "LayoutModel",
      "state": {}
     },
     "e4b796a484424d86827492b817360203": {
      "model_module": "@jupyter-widgets/base",
      "model_module_version": "1.1.0",
      "model_name": "LayoutModel",
      "state": {}
     },
     "e4c362775fd241129f8b22651d0ca1d8": {
      "model_module": "@jupyter-widgets/controls",
      "model_module_version": "1.4.0",
      "model_name": "DescriptionStyleModel",
      "state": {
       "description_width": ""
      }
     },
     "e4c4a3c9872749b0959ad08734ed11d8": {
      "model_module": "@jupyter-widgets/controls",
      "model_module_version": "1.4.0",
      "model_name": "VBoxModel",
      "state": {
       "children": [
        "IPY_MODEL_87b80f7a56b2494db76ae5d785c22930"
       ],
       "layout": "IPY_MODEL_fcd93c38e5b5486d91f623aba2e32f35"
      }
     },
     "e4da7748e982466d891181a844c87a16": {
      "model_module": "@jupyter-widgets/base",
      "model_module_version": "1.1.0",
      "model_name": "LayoutModel",
      "state": {}
     },
     "e4ffb4de4d7e4fdcaa5c674888d3a612": {
      "model_module": "@jupyter-widgets/controls",
      "model_module_version": "1.4.0",
      "model_name": "DescriptionStyleModel",
      "state": {
       "description_width": "initial"
      }
     },
     "e531b1d7c2714ac2a6b022b9f2663561": {
      "model_module": "@jupyter-widgets/controls",
      "model_module_version": "1.4.0",
      "model_name": "SelectMultipleModel",
      "state": {
       "_options_labels": [
        "VI produced, good quality",
        "VI produced, but check other QA",
        "Pixel produced, but most probably cloudy",
        "Pixel not produced due to other reasons than clouds"
       ],
       "description": "Description",
       "index": [
        0
       ],
       "layout": "IPY_MODEL_3fd8c6a02e03484e994a9b758dbaf38d",
       "rows": 4,
       "style": "IPY_MODEL_f01fdf39a9914ac1975b01289f2f0b30"
      }
     },
     "e55a20e23f0b47c681c28c2de5b4d609": {
      "model_module": "@jupyter-widgets/controls",
      "model_module_version": "1.4.0",
      "model_name": "DescriptionStyleModel",
      "state": {
       "description_width": ""
      }
     },
     "e58434f7ebe341298b35cb438fc6dbcb": {
      "model_module": "@jupyter-widgets/base",
      "model_module_version": "1.1.0",
      "model_name": "LayoutModel",
      "state": {}
     },
     "e58cd7683d76480a812121d34e2beee4": {
      "model_module": "@jupyter-widgets/base",
      "model_module_version": "1.1.0",
      "model_name": "LayoutModel",
      "state": {}
     },
     "e5930db6f3844ac7a63fdc6f206f9949": {
      "model_module": "@jupyter-widgets/base",
      "model_module_version": "1.1.0",
      "model_name": "LayoutModel",
      "state": {}
     },
     "e59d97b096f54b8c9935bb53518bdd00": {
      "model_module": "@jupyter-widgets/base",
      "model_module_version": "1.1.0",
      "model_name": "LayoutModel",
      "state": {
       "width": "19%"
      }
     },
     "e5b2d005e6bd48d8bdc57c3db38b69f6": {
      "model_module": "@jupyter-widgets/base",
      "model_module_version": "1.1.0",
      "model_name": "LayoutModel",
      "state": {}
     },
     "e5b7d6789f5c472fbe575c7011a23ada": {
      "model_module": "@jupyter-widgets/base",
      "model_module_version": "1.1.0",
      "model_name": "LayoutModel",
      "state": {
       "width": "20%"
      }
     },
     "e5ca5654d00b4552bcbf252f09e2f27d": {
      "model_module": "@jupyter-widgets/controls",
      "model_module_version": "1.4.0",
      "model_name": "ButtonModel",
      "state": {
       "description": "Default selection",
       "layout": "IPY_MODEL_5700af2538844a6fb304d9fedcfa6949",
       "style": "IPY_MODEL_42abd81e59de41efbfd0dbb588380c0f"
      }
     },
     "e5f06704316f40e090093a2ae94a7468": {
      "model_module": "@jupyter-widgets/controls",
      "model_module_version": "1.4.0",
      "model_name": "ButtonStyleModel",
      "state": {}
     },
     "e5f2107ce39c497cbfb4e0990b864cbb": {
      "model_module": "@jupyter-widgets/controls",
      "model_module_version": "1.4.0",
      "model_name": "DescriptionStyleModel",
      "state": {
       "description_width": "initial"
      }
     },
     "e604ed83b29d46f091f72d68288c0160": {
      "model_module": "@jupyter-widgets/controls",
      "model_module_version": "1.4.0",
      "model_name": "SelectModel",
      "state": {
       "_options_labels": [
        "MODLAND",
        "VI Usefulness",
        "Aerosol Quantity",
        "Adjacent cloud detected",
        "Atmosphere BRDF Correction",
        "Mixed Clouds",
        "Land/Water Mask",
        "Possible snow/ice",
        "Possible shadow"
       ],
       "description": "QA Parameter name:",
       "index": 0,
       "layout": "IPY_MODEL_b0a8acdcc9a3443d8b5ee8d233533e1b",
       "rows": 9,
       "style": "IPY_MODEL_f7575b00918a424e885abef923cc7c20"
      }
     },
     "e6056ff3b2224e0e9384f9253359dd3c": {
      "model_module": "@jupyter-widgets/controls",
      "model_module_version": "1.4.0",
      "model_name": "DescriptionStyleModel",
      "state": {
       "description_width": "initial"
      }
     },
     "e615c879a43a40b89674a8335547fffd": {
      "model_module": "@jupyter-widgets/base",
      "model_module_version": "1.1.0",
      "model_name": "LayoutModel",
      "state": {}
     },
     "e61a733a94d346aaab0842aaa1629981": {
      "model_module": "@jupyter-widgets/controls",
      "model_module_version": "1.4.0",
      "model_name": "HBoxModel",
      "state": {
       "children": [
        "IPY_MODEL_df6e91236a524068a02869e80f3bd793",
        "IPY_MODEL_7fd1e893a5d84fe48fb7c0bc37c2122e",
        "IPY_MODEL_f7c3455c411b4621b6905cd9493883ae"
       ],
       "layout": "IPY_MODEL_badbe5fb620746de98be84685a415823"
      }
     },
     "e62231300ede40e689c9f482cddd0536": {
      "model_module": "@jupyter-widgets/controls",
      "model_module_version": "1.4.0",
      "model_name": "ButtonModel",
      "state": {
       "description": "QA analytics",
       "layout": "IPY_MODEL_18b7dbbb7f0d4990bd1a35bf4c32a615",
       "style": "IPY_MODEL_5716f2f99761400a8f11999439ffc8a7"
      }
     },
     "e628e7d9a779454fb26c593639012894": {
      "model_module": "@jupyter-widgets/base",
      "model_module_version": "1.1.0",
      "model_name": "LayoutModel",
      "state": {
       "width": "20%"
      }
     },
     "e63f4382f99e4a26b38ad6cb347da85a": {
      "model_module": "@jupyter-widgets/controls",
      "model_module_version": "1.4.0",
      "model_name": "HTMLModel",
      "state": {
       "description": "QA layer:",
       "layout": "IPY_MODEL_d6870dd14f6a4b99afb7833169a4e923",
       "style": "IPY_MODEL_ebfdd9c8efcc4b70b0d3f551ab772545",
       "value": "<b>_1_km_16_days_VI_Quality</b>"
      }
     },
     "e66879a0ad9741dbb5fbf64d0b8084d2": {
      "model_module": "@jupyter-widgets/base",
      "model_module_version": "1.1.0",
      "model_name": "LayoutModel",
      "state": {}
     },
     "e6721040263d4125b87a00c211a3dce6": {
      "model_module": "@jupyter-widgets/controls",
      "model_module_version": "1.4.0",
      "model_name": "ButtonStyleModel",
      "state": {}
     },
     "e6c32407b25a47709440802adc753a50": {
      "model_module": "@jupyter-widgets/controls",
      "model_module_version": "1.4.0",
      "model_name": "VBoxModel",
      "state": {
       "children": [
        "IPY_MODEL_cad2f12102eb490f99898005c693a621"
       ],
       "layout": "IPY_MODEL_7007bdaf74a74596ae5465eb1f642384"
      }
     },
     "e6cd23e9ba2c4fb6be08d3368ee20853": {
      "model_module": "@jupyter-widgets/controls",
      "model_module_version": "1.4.0",
      "model_name": "SelectModel",
      "state": {
       "_options_labels": [
        "MODLAND"
       ],
       "description": "QA Parameter name:",
       "index": 0,
       "layout": "IPY_MODEL_dd304b9352484e1f8bc5b79b84057d7d",
       "rows": 1,
       "style": "IPY_MODEL_a09cd3b9c5c44bc2936deb28da726826"
      }
     },
     "e710ed0815c441dea0d43e97f2ef1225": {
      "model_module": "@jupyter-widgets/controls",
      "model_module_version": "1.4.0",
      "model_name": "SelectModel",
      "state": {
       "_options_labels": [
        "MODLAND"
       ],
       "description": "QA Parameter name:",
       "index": 0,
       "layout": "IPY_MODEL_d82980e0956944eb9fb767ecf6b0a1cb",
       "rows": 1,
       "style": "IPY_MODEL_d4fc012aa4544826bfbda7fd3493e64a"
      }
     },
     "e712a3c96b9e4389bbfdfc59e803156e": {
      "model_module": "@jupyter-widgets/controls",
      "model_module_version": "1.4.0",
      "model_name": "ButtonModel",
      "state": {
       "description": "Default selection",
       "layout": "IPY_MODEL_64a6650c14ff4b3cb8f65a9c3d8d690c",
       "style": "IPY_MODEL_a70b9743983b4f9a91ff058e20b486ce"
      }
     },
     "e7219d41124843a6a1f2484e362f99ee": {
      "model_module": "@jupyter-widgets/controls",
      "model_module_version": "1.4.0",
      "model_name": "DropdownModel",
      "state": {
       "_options_labels": [
        "_1_km_16_days_EVI",
        "_1_km_16_days_MIR_reflectance",
        "_1_km_16_days_NDVI",
        "_1_km_16_days_NIR_reflectance",
        "_1_km_16_days_VI_Quality",
        "_1_km_16_days_blue_reflectance",
        "_1_km_16_days_composite_day_of_the_year",
        "_1_km_16_days_pixel_reliability",
        "_1_km_16_days_red_reflectance",
        "_1_km_16_days_relative_azimuth_angle",
        "_1_km_16_days_sun_zenith_angle",
        "_1_km_16_days_view_zenith_angle"
       ],
       "description": "Data variables:",
       "index": 0,
       "layout": "IPY_MODEL_5769561ff35f45f183b5b98871921f24",
       "style": "IPY_MODEL_5015a2ca527f427391243b979ef24c9a"
      }
     },
     "e74a089bb90543a990e964dd0af92db3": {
      "model_module": "@jupyter-widgets/base",
      "model_module_version": "1.1.0",
      "model_name": "LayoutModel",
      "state": {
       "width": "49%"
      }
     },
     "e74fdd9a8be84c8d983588d68f6aaf6d": {
      "model_module": "@jupyter-widgets/controls",
      "model_module_version": "1.4.0",
      "model_name": "HTMLModel",
      "state": {
       "description": "QA layer:",
       "layout": "IPY_MODEL_a79a6c886eb546a680c33d2e3ec1c7b9",
       "style": "IPY_MODEL_738e8f2485704aceba8d864ed7313867",
       "value": "<b>_1_km_16_days_VI_Quality</b>"
      }
     },
     "e75016b253fd40feab4a47552b76ed1f": {
      "model_module": "@jupyter-widgets/base",
      "model_module_version": "1.1.0",
      "model_name": "LayoutModel",
      "state": {
       "width": "30%"
      }
     },
     "e75ebf4d18ab435c9e6688d337276072": {
      "model_module": "@jupyter-widgets/controls",
      "model_module_version": "1.4.0",
      "model_name": "ButtonModel",
      "state": {
       "description": "Select ALL",
       "layout": "IPY_MODEL_ef78dda1f536462ba94e2579bcb1040d",
       "style": "IPY_MODEL_ffc63419d5a94b95a819551e21f87f95"
      }
     },
     "e7b6e98612994d08bfaf7cf80d82482c": {
      "model_module": "@jupyter-widgets/controls",
      "model_module_version": "1.4.0",
      "model_name": "DescriptionStyleModel",
      "state": {
       "description_width": "initial"
      }
     },
     "e7c62eb1f55a42c58ca598690d4f6b8e": {
      "model_module": "@jupyter-widgets/controls",
      "model_module_version": "1.4.0",
      "model_name": "ButtonStyleModel",
      "state": {}
     },
     "e7c9dbb596b84bbea7ddd323ea1e42a3": {
      "model_module": "@jupyter-widgets/controls",
      "model_module_version": "1.4.0",
      "model_name": "SelectModel",
      "state": {
       "_options_labels": [
        "MODLAND",
        "VI Usefulness",
        "Aerosol Quantity",
        "Adjacent cloud detected",
        "Atmosphere BRDF Correction",
        "Mixed Clouds",
        "Land/Water Mask",
        "Possible snow/ice",
        "Possible shadow"
       ],
       "description": "QA Parameter name:",
       "index": 0,
       "layout": "IPY_MODEL_e34aece27a4f4b40bb31d79d1a49aa74",
       "rows": 9,
       "style": "IPY_MODEL_75cfdd1f449c4b97b3ffa779898f157e"
      }
     },
     "e7cdb29f45a94e04b1a196fe62b40ef6": {
      "model_module": "@jupyter-widgets/base",
      "model_module_version": "1.1.0",
      "model_name": "LayoutModel",
      "state": {
       "width": "30%"
      }
     },
     "e7e45b1e058c4e95912e0d76594fa03c": {
      "model_module": "@jupyter-widgets/controls",
      "model_module_version": "1.4.0",
      "model_name": "ButtonModel",
      "state": {
       "description": "Default selection",
       "layout": "IPY_MODEL_f1a3e0a809bc416e8a6f91bb971bbb00",
       "style": "IPY_MODEL_2903db63948d404d961d236b79eafd5f"
      }
     },
     "e82947d0fdcb4772b42bf1a6e0e3f330": {
      "model_module": "@jupyter-widgets/base",
      "model_module_version": "1.1.0",
      "model_name": "LayoutModel",
      "state": {
       "width": "20%"
      }
     },
     "e84e0234305743a0880b8f545e24cee0": {
      "model_module": "@jupyter-widgets/controls",
      "model_module_version": "1.4.0",
      "model_name": "DescriptionStyleModel",
      "state": {
       "description_width": "initial"
      }
     },
     "e873b7c28dbd4a08a98d44f4a1bcf7cc": {
      "model_module": "@jupyter-widgets/controls",
      "model_module_version": "1.4.0",
      "model_name": "HBoxModel",
      "state": {
       "children": [
        "IPY_MODEL_7a240781db2f452b84ab5ea2fca690dd",
        "IPY_MODEL_c8a12de1f52e4aeb9b81034da6cb0905"
       ],
       "layout": "IPY_MODEL_b30cd37b60c64534bf83d301f97e9c0e"
      }
     },
     "e87ebd5f61ee420d9ef1c3c3b9a6abdd": {
      "model_module": "@jupyter-widgets/controls",
      "model_module_version": "1.4.0",
      "model_name": "ButtonModel",
      "state": {
       "description": "Select ALL",
       "layout": "IPY_MODEL_08fc074dda834c7184d1d721baa9f296",
       "style": "IPY_MODEL_8ad802d33e1742f484344acbe24ef20d"
      }
     },
     "e88b704d13b742578b9871147b745de6": {
      "model_module": "@jupyter-widgets/controls",
      "model_module_version": "1.4.0",
      "model_name": "VBoxModel",
      "state": {
       "children": [
        "IPY_MODEL_1957792f479c4b34ac3e25f9f5a990ae"
       ],
       "layout": "IPY_MODEL_9d23418ccd894690a5abed9e144c2abd"
      }
     },
     "e8e583fda1f44512bbd8dd95af9eacea": {
      "model_module": "@jupyter-widgets/base",
      "model_module_version": "1.1.0",
      "model_name": "LayoutModel",
      "state": {
       "height": "350px",
       "width": "99%"
      }
     },
     "e8fc7f1f018542b082928fdc5a7e57e6": {
      "model_module": "@jupyter-widgets/base",
      "model_module_version": "1.1.0",
      "model_name": "LayoutModel",
      "state": {
       "width": "400px"
      }
     },
     "e9358eddb9ce43a7959cee74cf907df8": {
      "model_module": "@jupyter-widgets/controls",
      "model_module_version": "1.4.0",
      "model_name": "SelectModel",
      "state": {
       "_options_labels": [
        "MODLAND",
        "VI Usefulness",
        "Aerosol Quantity",
        "Adjacent cloud detected",
        "Atmosphere BRDF Correction",
        "Mixed Clouds",
        "Land/Water Mask",
        "Possible snow/ice",
        "Possible shadow"
       ],
       "description": "QA Parameter name:",
       "index": 6,
       "layout": "IPY_MODEL_0257e0ad1aff4b3690a257c4b28dd7b7",
       "rows": 9,
       "style": "IPY_MODEL_cb88a70c67614772b9440cea9276926c"
      }
     },
     "e9528f60ec684fa5a50665aeba05c167": {
      "model_module": "@jupyter-widgets/controls",
      "model_module_version": "1.4.0",
      "model_name": "ButtonModel",
      "state": {
       "description": "Default selection",
       "layout": "IPY_MODEL_02662f2fc1c5418683082586e484a182",
       "style": "IPY_MODEL_ce2d9629825848588c70d42d1ca68c61"
      }
     },
     "e9624f5298a6411bba644df83eb4ccf9": {
      "model_module": "@jupyter-widgets/controls",
      "model_module_version": "1.4.0",
      "model_name": "DescriptionStyleModel",
      "state": {
       "description_width": "initial"
      }
     },
     "e96258befb254b38ae6539ac63c26042": {
      "model_module": "@jupyter-widgets/base",
      "model_module_version": "1.1.0",
      "model_name": "LayoutModel",
      "state": {
       "width": "350px"
      }
     },
     "e9afe5db3e444f1fb6b665d098648d3e": {
      "model_module": "@jupyter-widgets/controls",
      "model_module_version": "1.4.0",
      "model_name": "ButtonModel",
      "state": {
       "description": "QA analytics",
       "layout": "IPY_MODEL_2bc2da23d4c04c6b9cc35decbb940748",
       "style": "IPY_MODEL_ea4ea0346a684ec2ace8ab14dac7177a"
      }
     },
     "e9c48cc239954d60bf93455e721bb0ba": {
      "model_module": "@jupyter-widgets/controls",
      "model_module_version": "1.4.0",
      "model_name": "ButtonModel",
      "state": {
       "description": "Select ALL",
       "layout": "IPY_MODEL_8cfd6013f3404f1c9520d6f0139b422c",
       "style": "IPY_MODEL_514d3f03ec2940edbf88f9d421cd4dd8"
      }
     },
     "e9c657ee850c435294f33efbac12f5a5": {
      "model_module": "@jupyter-widgets/base",
      "model_module_version": "1.1.0",
      "model_name": "LayoutModel",
      "state": {}
     },
     "ea1e0454de2742bb9cc4875c9c2b7ba7": {
      "model_module": "@jupyter-widgets/controls",
      "model_module_version": "1.4.0",
      "model_name": "ButtonModel",
      "state": {
       "description": "Select ALL",
       "layout": "IPY_MODEL_932591a1b29242b69b6afb53a404363b",
       "style": "IPY_MODEL_f3f7d175bc124d52871d164454cc5b03"
      }
     },
     "ea4005d910474883a8088bfc768b5d83": {
      "model_module": "@jupyter-widgets/controls",
      "model_module_version": "1.4.0",
      "model_name": "ButtonModel",
      "state": {
       "description": "Create mask",
       "layout": "IPY_MODEL_36af847586f1410a8831434418832718",
       "style": "IPY_MODEL_0e04b0f48ded4fe0bae872ab793d4490"
      }
     },
     "ea4ea0346a684ec2ace8ab14dac7177a": {
      "model_module": "@jupyter-widgets/controls",
      "model_module_version": "1.4.0",
      "model_name": "ButtonStyleModel",
      "state": {}
     },
     "ea57fe6238864f64922edad10e1ea267": {
      "model_module": "@jupyter-widgets/controls",
      "model_module_version": "1.4.0",
      "model_name": "DropdownModel",
      "state": {
       "_options_labels": [
        "_1_km_16_days_EVI",
        "_1_km_16_days_MIR_reflectance",
        "_1_km_16_days_NDVI",
        "_1_km_16_days_NIR_reflectance",
        "_1_km_16_days_VI_Quality",
        "_1_km_16_days_blue_reflectance",
        "_1_km_16_days_composite_day_of_the_year",
        "_1_km_16_days_pixel_reliability",
        "_1_km_16_days_red_reflectance",
        "_1_km_16_days_relative_azimuth_angle",
        "_1_km_16_days_sun_zenith_angle",
        "_1_km_16_days_view_zenith_angle"
       ],
       "description": "Data variables:",
       "index": 0,
       "layout": "IPY_MODEL_60755f2afa194808804321aa05f8c59f",
       "style": "IPY_MODEL_8fd9a569208b4cca86f1e61ebb861460"
      }
     },
     "eae92b97e30c450b84ea7040c80bbf9e": {
      "model_module": "@jupyter-widgets/controls",
      "model_module_version": "1.4.0",
      "model_name": "ButtonModel",
      "state": {
       "description": "Default selection",
       "layout": "IPY_MODEL_75569b4f127041acbff8d12684b4d325",
       "style": "IPY_MODEL_686b8bc137914495bcf2a48509daf7c6"
      }
     },
     "eaeac6e6ac244efab3a32059d10c16d8": {
      "model_module": "@jupyter-widgets/base",
      "model_module_version": "1.1.0",
      "model_name": "LayoutModel",
      "state": {
       "width": "20%"
      }
     },
     "eaf6e5b37029410697f9b50b14bf7fd2": {
      "model_module": "@jupyter-widgets/controls",
      "model_module_version": "1.4.0",
      "model_name": "DescriptionStyleModel",
      "state": {
       "description_width": ""
      }
     },
     "eaf7190eb830408fa36bd892ec5ea9d5": {
      "model_module": "@jupyter-widgets/controls",
      "model_module_version": "1.4.0",
      "model_name": "ProgressStyleModel",
      "state": {
       "description_width": "initial"
      }
     },
     "eb0441e1df5b4412848127a94137f59b": {
      "model_module": "@jupyter-widgets/controls",
      "model_module_version": "1.4.0",
      "model_name": "ProgressStyleModel",
      "state": {
       "description_width": "initial"
      }
     },
     "eb6465a0b6164b619244bf33d5675ccc": {
      "model_module": "@jupyter-widgets/controls",
      "model_module_version": "1.4.0",
      "model_name": "HTMLModel",
      "state": {
       "description": "QA layer:",
       "layout": "IPY_MODEL_2a4a5d52e1eb4a0abbe1d7d94e458ab5",
       "style": "IPY_MODEL_1293c5335dc04acfb3bc6bee8962fbc0",
       "value": "<b>_1_km_16_days_VI_Quality</b>"
      }
     },
     "eb6f94f265c64d638b86000b9aacda6b": {
      "model_module": "@jupyter-widgets/base",
      "model_module_version": "1.1.0",
      "model_name": "LayoutModel",
      "state": {
       "width": "350px"
      }
     },
     "eb966d7bf11945f1bb69a90911e5cc29": {
      "model_module": "@jupyter-widgets/controls",
      "model_module_version": "1.4.0",
      "model_name": "HBoxModel",
      "state": {
       "children": [
        "IPY_MODEL_7fdb599637eb47cea0494c3940c9be76",
        "IPY_MODEL_584c1e8f059947299210b5fdec6d287d",
        "IPY_MODEL_e62231300ede40e689c9f482cddd0536"
       ],
       "layout": "IPY_MODEL_96651f0c9a1844a9a7b8572c9b145310"
      }
     },
     "eb9f156cb07b4e32a9f20eb419bb97be": {
      "model_module": "@jupyter-widgets/controls",
      "model_module_version": "1.4.0",
      "model_name": "SelectMultipleModel",
      "state": {
       "_options_labels": [
        "VI produced, good quality",
        "VI produced, but check other QA",
        "Pixel produced, but most probably cloudy",
        "Pixel not produced due to other reasons than clouds"
       ],
       "description": "Description",
       "index": [
        0
       ],
       "layout": "IPY_MODEL_415689515de041919da605dfd0acce89",
       "rows": 4,
       "style": "IPY_MODEL_a6010c48e316496190249c12f4094ed5"
      }
     },
     "eb9f852e78974333a803c795fb010a03": {
      "model_module": "@jupyter-widgets/controls",
      "model_module_version": "1.4.0",
      "model_name": "HTMLModel",
      "state": {
       "description": "QA layer:",
       "layout": "IPY_MODEL_6fc2adbfaf02420fac62c070637c20d6",
       "style": "IPY_MODEL_4ee4fa227f87439ebb7219b1e94873bb",
       "value": "<b>_1_km_16_days_VI_Quality</b>"
      }
     },
     "eba5403057cf499ab7cebb2eb3d9cb70": {
      "model_module": "@jupyter-widgets/controls",
      "model_module_version": "1.4.0",
      "model_name": "DescriptionStyleModel",
      "state": {
       "description_width": ""
      }
     },
     "ebdb01bfa4f948b2affa33caf6bdf0bb": {
      "model_module": "@jupyter-widgets/controls",
      "model_module_version": "1.4.0",
      "model_name": "ButtonModel",
      "state": {
       "description": "Default selection",
       "layout": "IPY_MODEL_57d7809918cb483eab4b01d89893ddb8",
       "style": "IPY_MODEL_e5f06704316f40e090093a2ae94a7468"
      }
     },
     "ebe127e00546463b9472c1345fdcd95c": {
      "model_module": "@jupyter-widgets/base",
      "model_module_version": "1.1.0",
      "model_name": "LayoutModel",
      "state": {
       "width": "50%"
      }
     },
     "ebe5be50344b4516a5981b3d992a8776": {
      "model_module": "@jupyter-widgets/controls",
      "model_module_version": "1.4.0",
      "model_name": "HBoxModel",
      "state": {
       "children": [
        "IPY_MODEL_1e3a4d9b79b44b2792709a9414361554",
        "IPY_MODEL_5aa259bf9abb4529871c5b6f813382f6",
        "IPY_MODEL_b8a54eacce074ca3b36373d9fb4c2d25",
        "IPY_MODEL_d1ffd01f9bbc4992bec0bdabf7b4976b"
       ],
       "layout": "IPY_MODEL_cebf06df4d76446b8b04d756d8672ba6"
      }
     },
     "ebfdd9c8efcc4b70b0d3f551ab772545": {
      "model_module": "@jupyter-widgets/controls",
      "model_module_version": "1.4.0",
      "model_name": "DescriptionStyleModel",
      "state": {
       "description_width": ""
      }
     },
     "ec34ddbcf1924daeb70e99c4b92de958": {
      "model_module": "@jupyter-widgets/controls",
      "model_module_version": "1.4.0",
      "model_name": "ButtonModel",
      "state": {
       "description": "QA analytics",
       "layout": "IPY_MODEL_e75016b253fd40feab4a47552b76ed1f",
       "style": "IPY_MODEL_5fc4c441ddc24fcf8f03a357be10416a"
      }
     },
     "ec3dbad485214fd8bfe12bf68ca78241": {
      "model_module": "@jupyter-widgets/controls",
      "model_module_version": "1.4.0",
      "model_name": "ButtonStyleModel",
      "state": {}
     },
     "ec5cf9ba693c4063ba9c771d7d150c1e": {
      "model_module": "@jupyter-widgets/base",
      "model_module_version": "1.1.0",
      "model_name": "LayoutModel",
      "state": {}
     },
     "ec5d08bd5192459c86cb6eae20f1215f": {
      "model_module": "@jupyter-widgets/base",
      "model_module_version": "1.1.0",
      "model_name": "LayoutModel",
      "state": {
       "height": "300px",
       "width": "99%"
      }
     },
     "ec89ff03698f49bd960d5b9481273993": {
      "model_module": "@jupyter-widgets/controls",
      "model_module_version": "1.4.0",
      "model_name": "ButtonStyleModel",
      "state": {}
     },
     "ecbca6e7366f4e12ae0379a8c5895a9f": {
      "model_module": "@jupyter-widgets/controls",
      "model_module_version": "1.4.0",
      "model_name": "DescriptionStyleModel",
      "state": {
       "description_width": "initial"
      }
     },
     "eccac62a53e7469e89798cef481ea2b4": {
      "model_module": "@jupyter-widgets/controls",
      "model_module_version": "1.4.0",
      "model_name": "ButtonModel",
      "state": {
       "description": "Default selection",
       "layout": "IPY_MODEL_618083d0432149878a2c5fd9bd040e78",
       "style": "IPY_MODEL_30dba7168a774088965d35f2bbe1b24e"
      }
     },
     "ecddd67569584447beb4106c4d67e451": {
      "model_module": "@jupyter-widgets/controls",
      "model_module_version": "1.4.0",
      "model_name": "DescriptionStyleModel",
      "state": {
       "description_width": "initial"
      }
     },
     "ed19a12170b34b4ab90ec0e08fbc365a": {
      "model_module": "@jupyter-widgets/controls",
      "model_module_version": "1.4.0",
      "model_name": "HBoxModel",
      "state": {
       "children": [
        "IPY_MODEL_cf79d4e97f844c63bd618aa73a610b92",
        "IPY_MODEL_81ab7c116d8847fb93f2b108cfa1a6c2",
        "IPY_MODEL_0646030b1d574bf391586343eb47d359"
       ],
       "layout": "IPY_MODEL_bbe67f7068d44e23a8ef3dced42a54b0"
      }
     },
     "ed257a97fb12455692677ddacbb88fb9": {
      "model_module": "@jupyter-widgets/base",
      "model_module_version": "1.1.0",
      "model_name": "LayoutModel",
      "state": {
       "width": "400px"
      }
     },
     "ed2c5f0a306b4a4f841926a92d5ed326": {
      "model_module": "@jupyter-widgets/controls",
      "model_module_version": "1.4.0",
      "model_name": "VBoxModel",
      "state": {
       "children": [
        "IPY_MODEL_9759accb8ca74699b04835a73b0a38a2"
       ],
       "layout": "IPY_MODEL_99687474083446e79f611aa970875735"
      }
     },
     "ed3379e051cd4a639a819b247c65bdcf": {
      "model_module": "@jupyter-widgets/base",
      "model_module_version": "1.1.0",
      "model_name": "LayoutModel",
      "state": {
       "height": "200px",
       "width": "99%"
      }
     },
     "ed3fdeab2bcf4c85887214f690b3c4f3": {
      "model_module": "@jupyter-widgets/controls",
      "model_module_version": "1.4.0",
      "model_name": "ButtonModel",
      "state": {
       "description": "QA analytics",
       "layout": "IPY_MODEL_d044b01e04b24e278a29fa6f3b0a8787",
       "style": "IPY_MODEL_73d6eca11dfd48fbbf49454db4caca11"
      }
     },
     "edb2ed43f53a4ea096c256e91ea187bb": {
      "model_module": "@jupyter-widgets/controls",
      "model_module_version": "1.4.0",
      "model_name": "DescriptionStyleModel",
      "state": {
       "description_width": "initial"
      }
     },
     "edb896b0e17041c4bc510882aa773803": {
      "model_module": "@jupyter-widgets/controls",
      "model_module_version": "1.4.0",
      "model_name": "ProgressStyleModel",
      "state": {
       "description_width": "initial"
      }
     },
     "edd52ff7ab0647e9bbea5871a97b717d": {
      "model_module": "@jupyter-widgets/base",
      "model_module_version": "1.1.0",
      "model_name": "LayoutModel",
      "state": {
       "width": "20%"
      }
     },
     "ee0b560818f744c7b0817bc33c95d5eb": {
      "model_module": "@jupyter-widgets/base",
      "model_module_version": "1.1.0",
      "model_name": "LayoutModel",
      "state": {}
     },
     "ee254ea9f94b40838672c54d0a2c3f50": {
      "model_module": "@jupyter-widgets/controls",
      "model_module_version": "1.4.0",
      "model_name": "DescriptionStyleModel",
      "state": {
       "description_width": "initial"
      }
     },
     "ee29b06a86ab4d92b5e023e9e3b58af7": {
      "model_module": "@jupyter-widgets/base",
      "model_module_version": "1.1.0",
      "model_name": "LayoutModel",
      "state": {
       "width": "20%"
      }
     },
     "ee372edd35864ff48a7947ae2537f437": {
      "model_module": "@jupyter-widgets/controls",
      "model_module_version": "1.4.0",
      "model_name": "DescriptionStyleModel",
      "state": {
       "description_width": ""
      }
     },
     "ee7ae93b36e148328f3393ba157074bb": {
      "model_module": "@jupyter-widgets/base",
      "model_module_version": "1.1.0",
      "model_name": "LayoutModel",
      "state": {
       "width": "20%"
      }
     },
     "eea431aa5758404e901e4b8a8b0020ef": {
      "model_module": "@jupyter-widgets/controls",
      "model_module_version": "1.4.0",
      "model_name": "DescriptionStyleModel",
      "state": {
       "description_width": "initial"
      }
     },
     "eeb816e29c3044c7b4cc0fe79a5a08a2": {
      "model_module": "@jupyter-widgets/controls",
      "model_module_version": "1.4.0",
      "model_name": "HTMLModel",
      "state": {
       "description": "QA layer:",
       "layout": "IPY_MODEL_5e1c0574e5de4d6399e1dc647c362074",
       "style": "IPY_MODEL_f092436f3ebd4c69906d39a823fec4a9",
       "value": "<b>_1_km_16_days_VI_Quality</b>"
      }
     },
     "eebe7a9fe3874478b554a7ba21832c92": {
      "model_module": "@jupyter-widgets/controls",
      "model_module_version": "1.4.0",
      "model_name": "SelectMultipleModel",
      "state": {
       "_options_labels": [
        "VI produced, good quality",
        "VI produced, but check other QA",
        "Pixel produced, but most probably cloudy",
        "Pixel not produced due to other reasons than clouds"
       ],
       "description": "Description",
       "index": [
        0
       ],
       "layout": "IPY_MODEL_fb467cb081f14987a86d7f04f714d518",
       "rows": 4,
       "style": "IPY_MODEL_204ad9e64da94f8eb74548b81a423638"
      }
     },
     "eed76eac15504d6190be8798a6124ad1": {
      "model_module": "@jupyter-widgets/controls",
      "model_module_version": "1.4.0",
      "model_name": "ButtonStyleModel",
      "state": {}
     },
     "eed7939d7ac2433db3197ee07e8ba05e": {
      "model_module": "@jupyter-widgets/controls",
      "model_module_version": "1.4.0",
      "model_name": "VBoxModel",
      "state": {
       "children": [
        "IPY_MODEL_eebe7a9fe3874478b554a7ba21832c92"
       ],
       "layout": "IPY_MODEL_84d0c2ff82cf448dbab2e008e1a4e01d"
      }
     },
     "eed9a544a8d84ec9bfc9db14e62180e2": {
      "model_module": "@jupyter-widgets/controls",
      "model_module_version": "1.4.0",
      "model_name": "ButtonStyleModel",
      "state": {}
     },
     "eee29aae4df94dc2871e393a7aecc6d8": {
      "model_module": "@jupyter-widgets/base",
      "model_module_version": "1.1.0",
      "model_name": "LayoutModel",
      "state": {
       "height": "350px",
       "width": "99%"
      }
     },
     "eee41bfea6ad40ae8e88979313d6cbd4": {
      "model_module": "@jupyter-widgets/controls",
      "model_module_version": "1.4.0",
      "model_name": "VBoxModel",
      "state": {
       "children": [
        "IPY_MODEL_80d500df191845678ba7726d3954d8a2"
       ],
       "layout": "IPY_MODEL_0c19fd283539455d875ecf05e6c8c039"
      }
     },
     "eeeb4a706f7147158d176fdf552bb51c": {
      "model_module": "@jupyter-widgets/controls",
      "model_module_version": "1.4.0",
      "model_name": "HBoxModel",
      "state": {
       "children": [
        "IPY_MODEL_8328244c84794b599c848d9d2c51ee4b",
        "IPY_MODEL_ebdb01bfa4f948b2affa33caf6bdf0bb",
        "IPY_MODEL_d775da67a9934938b1aa7f9ac394f9c7"
       ],
       "layout": "IPY_MODEL_5144c169910046bb9df46d7f1052f66e"
      }
     },
     "ef0146609f5243938bf9b0cdaf6c4749": {
      "model_module": "@jupyter-widgets/controls",
      "model_module_version": "1.4.0",
      "model_name": "ButtonModel",
      "state": {
       "description": "QA analytics",
       "layout": "IPY_MODEL_97b59966679441669f227cb3118bb5a8",
       "style": "IPY_MODEL_0f67cdb9227048479caff2764e681f68"
      }
     },
     "ef24c8cbee76491e80b7b1303716a6da": {
      "model_module": "@jupyter-widgets/controls",
      "model_module_version": "1.4.0",
      "model_name": "HBoxModel",
      "state": {
       "children": [
        "IPY_MODEL_fb298b9d872243cca967c71cbd8226b1",
        "IPY_MODEL_2de4330e2c604875b6056e95a286d15f",
        "IPY_MODEL_415f1aea7628465ba1293622416acf7f"
       ],
       "layout": "IPY_MODEL_2c4e274ef0654d5dbfe671549c94cbea"
      }
     },
     "ef2b9f2ed0c54c999e3a5dc8a8e8a322": {
      "model_module": "@jupyter-widgets/controls",
      "model_module_version": "1.4.0",
      "model_name": "DescriptionStyleModel",
      "state": {
       "description_width": "initial"
      }
     },
     "ef3b7c62a1f144ec96517caf59b704df": {
      "model_module": "@jupyter-widgets/controls",
      "model_module_version": "1.4.0",
      "model_name": "VBoxModel",
      "state": {
       "children": [
        "IPY_MODEL_a0737f03d36f45ec9297c37805b1f780"
       ],
       "layout": "IPY_MODEL_c9b41a6e99ea4848b391dc610d88f153"
      }
     },
     "ef3b9c96dd6441f9bf5100255edef921": {
      "model_module": "@jupyter-widgets/controls",
      "model_module_version": "1.4.0",
      "model_name": "SelectMultipleModel",
      "state": {
       "_options_labels": [
        "VI produced, good quality",
        "VI produced, but check other QA",
        "Pixel produced, but most probably cloudy",
        "Pixel not produced due to other reasons than clouds"
       ],
       "description": "Description",
       "index": [
        0
       ],
       "layout": "IPY_MODEL_2e88afd67c8e4831a81cbcdad4a0a928",
       "rows": 4,
       "style": "IPY_MODEL_e84e0234305743a0880b8f545e24cee0"
      }
     },
     "ef556bd6bf0048819a354cdaad82406d": {
      "model_module": "@jupyter-widgets/controls",
      "model_module_version": "1.4.0",
      "model_name": "SelectMultipleModel",
      "state": {
       "_options_labels": [
        "Good data, use with confidence",
        "Marginal data, Useful, but look at other QA information",
        "Snow/Ice Target covered with snow/ice",
        "Cloudy data, Target not visible, covered with cloud"
       ],
       "description": "Description",
       "index": [
        0,
        1
       ],
       "layout": "IPY_MODEL_f768a5a53f2341f382cf796c63af922b",
       "rows": 4,
       "style": "IPY_MODEL_94b9d01c48cb403094b02936985d0529"
      }
     },
     "ef644ecf497549768a81c3a85035c9ed": {
      "model_module": "@jupyter-widgets/base",
      "model_module_version": "1.1.0",
      "model_name": "LayoutModel",
      "state": {
       "height": "200px",
       "width": "99%"
      }
     },
     "ef7303bb0a7f431797ca4c28768a8bdb": {
      "model_module": "@jupyter-widgets/controls",
      "model_module_version": "1.4.0",
      "model_name": "VBoxModel",
      "state": {
       "children": [
        "IPY_MODEL_c2ac554a8b93480db4aaa42fb791ed26"
       ],
       "layout": "IPY_MODEL_c5b105d1276e4b12a0ceb28ff6a02216"
      }
     },
     "ef78dda1f536462ba94e2579bcb1040d": {
      "model_module": "@jupyter-widgets/base",
      "model_module_version": "1.1.0",
      "model_name": "LayoutModel",
      "state": {
       "width": "20%"
      }
     },
     "efa9a168d1af4e1fa3cf7c875667bdc8": {
      "model_module": "@jupyter-widgets/base",
      "model_module_version": "1.1.0",
      "model_name": "LayoutModel",
      "state": {}
     },
     "efad78ae57914de09e24c2e656c38e18": {
      "model_module": "@jupyter-widgets/controls",
      "model_module_version": "1.4.0",
      "model_name": "DescriptionStyleModel",
      "state": {
       "description_width": "initial"
      }
     },
     "eff34cca477f4fe49289c25c89aa9dba": {
      "model_module": "@jupyter-widgets/controls",
      "model_module_version": "1.4.0",
      "model_name": "DescriptionStyleModel",
      "state": {
       "description_width": "initial"
      }
     },
     "f01fdf39a9914ac1975b01289f2f0b30": {
      "model_module": "@jupyter-widgets/controls",
      "model_module_version": "1.4.0",
      "model_name": "DescriptionStyleModel",
      "state": {
       "description_width": "initial"
      }
     },
     "f092436f3ebd4c69906d39a823fec4a9": {
      "model_module": "@jupyter-widgets/controls",
      "model_module_version": "1.4.0",
      "model_name": "DescriptionStyleModel",
      "state": {
       "description_width": ""
      }
     },
     "f0a51aebc98b4dfc92d5f81f14c789be": {
      "model_module": "@jupyter-widgets/controls",
      "model_module_version": "1.4.0",
      "model_name": "ButtonModel",
      "state": {
       "description": "QA analytics",
       "layout": "IPY_MODEL_b7f234db88944b229c9964a560c8c077",
       "style": "IPY_MODEL_998ae835209148b2b30b5d97fe2a0a29"
      }
     },
     "f0d4275e7df040ce9da2375c69b24bb3": {
      "model_module": "@jupyter-widgets/controls",
      "model_module_version": "1.4.0",
      "model_name": "HBoxModel",
      "state": {
       "children": [
        "IPY_MODEL_2d26346c5bc84438872963fcbb3b12c0",
        "IPY_MODEL_86015f56a34c4d5f9b04c2660a089be6",
        "IPY_MODEL_5ea35eafdc4c498f8cbedcad25131678"
       ],
       "layout": "IPY_MODEL_093da263196b447f88cf6f921aef316c"
      }
     },
     "f0d55c216d4d4ba3984a5f8e7225e671": {
      "model_module": "@jupyter-widgets/base",
      "model_module_version": "1.1.0",
      "model_name": "LayoutModel",
      "state": {
       "width": "400px"
      }
     },
     "f0da8691a0ea4a128c1d8506470fe75f": {
      "model_module": "@jupyter-widgets/controls",
      "model_module_version": "1.4.0",
      "model_name": "ButtonModel",
      "state": {
       "description": "Default selection",
       "layout": "IPY_MODEL_e3199631e1e3499ba50ed9c595d68ca2",
       "style": "IPY_MODEL_700f0fcdb384446ba6a27cbed9c970cc"
      }
     },
     "f0fbbc4e03004a8eacbf2d306504c9dd": {
      "model_module": "@jupyter-widgets/controls",
      "model_module_version": "1.4.0",
      "model_name": "ButtonModel",
      "state": {
       "description": "Select ALL",
       "layout": "IPY_MODEL_954fc36289c94d8d9b0932074c9c5b5c",
       "style": "IPY_MODEL_2e435fbc493c4f0cb415a8fec10171e2"
      }
     },
     "f160077f7087419ca8e9cc192ea853c9": {
      "model_module": "@jupyter-widgets/controls",
      "model_module_version": "1.4.0",
      "model_name": "DescriptionStyleModel",
      "state": {
       "description_width": "initial"
      }
     },
     "f18f808d6f7146698d9dd74a65cb8713": {
      "model_module": "@jupyter-widgets/controls",
      "model_module_version": "1.4.0",
      "model_name": "ButtonStyleModel",
      "state": {}
     },
     "f1a290073a7349538c1f622c3ed1686b": {
      "model_module": "@jupyter-widgets/base",
      "model_module_version": "1.1.0",
      "model_name": "LayoutModel",
      "state": {}
     },
     "f1a3e0a809bc416e8a6f91bb971bbb00": {
      "model_module": "@jupyter-widgets/base",
      "model_module_version": "1.1.0",
      "model_name": "LayoutModel",
      "state": {
       "width": "20%"
      }
     },
     "f1b21db136de4c8fb5cb4449b3e28a16": {
      "model_module": "@jupyter-widgets/controls",
      "model_module_version": "1.4.0",
      "model_name": "SelectModel",
      "state": {
       "_options_labels": [
        "MODLAND"
       ],
       "description": "QA Parameter name:",
       "index": 0,
       "layout": "IPY_MODEL_2ffb9f06647d4a5d9639803c777ba950",
       "rows": 1,
       "style": "IPY_MODEL_ca888a4b995a466abfae9512049a298a"
      }
     },
     "f1b688e8bf40459683ec0d1259a151d1": {
      "model_module": "@jupyter-widgets/base",
      "model_module_version": "1.1.0",
      "model_name": "LayoutModel",
      "state": {
       "width": "400px"
      }
     },
     "f1c9f877de9940c69915f5754b2b6a4f": {
      "model_module": "@jupyter-widgets/controls",
      "model_module_version": "1.4.0",
      "model_name": "HTMLModel",
      "state": {
       "description": "QA layer:",
       "layout": "IPY_MODEL_5f8afce93a3f4fd09547cd820915cc75",
       "style": "IPY_MODEL_5190b9adf1d04458a12a0223179c0cb8",
       "value": "<b>_1_km_16_days_VI_Quality</b>"
      }
     },
     "f1d77d6b0c9542e2991632dcef174c63": {
      "model_module": "@jupyter-widgets/controls",
      "model_module_version": "1.4.0",
      "model_name": "DescriptionStyleModel",
      "state": {
       "description_width": ""
      }
     },
     "f22c5542739445938cf0e3fa66f3c7e7": {
      "model_module": "@jupyter-widgets/controls",
      "model_module_version": "1.4.0",
      "model_name": "HBoxModel",
      "state": {
       "children": [
        "IPY_MODEL_3902f59ac4ed4d68b408cf395ca6635b",
        "IPY_MODEL_56aaf97579424a94b587906476a101e1"
       ],
       "layout": "IPY_MODEL_4d8f3831f3e340fa9d29910da752b97d"
      }
     },
     "f24224433e494e8190e63d6801968e94": {
      "model_module": "@jupyter-widgets/controls",
      "model_module_version": "1.4.0",
      "model_name": "DescriptionStyleModel",
      "state": {
       "description_width": "initial"
      }
     },
     "f2525a3280ab42f88beed30e611f91ce": {
      "model_module": "@jupyter-widgets/controls",
      "model_module_version": "1.4.0",
      "model_name": "SelectMultipleModel",
      "state": {
       "_options_labels": [
        "VI produced, good quality",
        "VI produced, but check other QA",
        "Pixel produced, but most probably cloudy",
        "Pixel not produced due to other reasons than clouds"
       ],
       "description": "Description",
       "index": [
        0
       ],
       "layout": "IPY_MODEL_4b2b3188fca54bf5b000ec062f73549e",
       "rows": 4,
       "style": "IPY_MODEL_5a76b6f1997a46c490def1e9bb09518e"
      }
     },
     "f25dac2ce4b441bc99b2b6a62389f8d2": {
      "model_module": "@jupyter-widgets/controls",
      "model_module_version": "1.4.0",
      "model_name": "VBoxModel",
      "state": {
       "children": [
        "IPY_MODEL_49a0b22f0c2b4293b51f21b055bc32bb"
       ],
       "layout": "IPY_MODEL_afca662e09784efb8d11a85eeb18c8a0"
      }
     },
     "f28305c77879433891e7b33908e1b043": {
      "model_module": "@jupyter-widgets/base",
      "model_module_version": "1.1.0",
      "model_name": "LayoutModel",
      "state": {}
     },
     "f2ca36accd3d43d091445a7687c01722": {
      "model_module": "@jupyter-widgets/controls",
      "model_module_version": "1.4.0",
      "model_name": "SelectModel",
      "state": {
       "_options_labels": [
        "MODLAND",
        "VI Usefulness",
        "Aerosol Quantity",
        "Adjacent cloud detected",
        "Atmosphere BRDF Correction",
        "Mixed Clouds",
        "Land/Water Mask",
        "Possible snow/ice",
        "Possible shadow"
       ],
       "description": "QA Parameter name:",
       "index": 0,
       "layout": "IPY_MODEL_55bb9761ca3349c8bcae30838b60390e",
       "rows": 9,
       "style": "IPY_MODEL_829efeeb4f6b43548f90199ab6958103"
      }
     },
     "f2ecce47635343b2a02e78a9ed3e4dae": {
      "model_module": "@jupyter-widgets/controls",
      "model_module_version": "1.4.0",
      "model_name": "ButtonModel",
      "state": {
       "description": "QA analytics",
       "layout": "IPY_MODEL_9a7aca9ba36146c1ac4604fe94363bb3",
       "style": "IPY_MODEL_89ffaf17126941f2a60a5a8a00f8af03"
      }
     },
     "f2f3a1e177de4a0fb2ffcf4dedbb14c6": {
      "model_module": "@jupyter-widgets/controls",
      "model_module_version": "1.4.0",
      "model_name": "ButtonModel",
      "state": {
       "description": "Default selection",
       "layout": "IPY_MODEL_db42272650c34bec8c2544df16fb4596",
       "style": "IPY_MODEL_ec3dbad485214fd8bfe12bf68ca78241"
      }
     },
     "f2fb4d944e5041dc892b29b44e75a910": {
      "model_module": "@jupyter-widgets/controls",
      "model_module_version": "1.4.0",
      "model_name": "ButtonModel",
      "state": {
       "description": "Select ALL",
       "layout": "IPY_MODEL_c5ff0c9b31cb421fb9da46da7b30da85",
       "style": "IPY_MODEL_c2a9956d70144bc0a81ee9a6be081294"
      }
     },
     "f30728f4572d4f0ab23dd69ea57be6e1": {
      "model_module": "@jupyter-widgets/controls",
      "model_module_version": "1.4.0",
      "model_name": "DescriptionStyleModel",
      "state": {
       "description_width": "initial"
      }
     },
     "f321fe39f44c46c0a0f0d5a7287845e8": {
      "model_module": "@jupyter-widgets/controls",
      "model_module_version": "1.4.0",
      "model_name": "SelectMultipleModel",
      "state": {
       "_options_labels": [
        "No",
        "Yes"
       ],
       "description": "Description",
       "index": [
        0
       ],
       "layout": "IPY_MODEL_33f50ae5b5e34608b2e4d09de5e347f5",
       "rows": 2,
       "style": "IPY_MODEL_d65e4a70747f4e62b6e1227ecd722de8"
      }
     },
     "f333eca906b44e089805a6bacbb2b0c7": {
      "model_module": "@jupyter-widgets/controls",
      "model_module_version": "1.4.0",
      "model_name": "ButtonStyleModel",
      "state": {}
     },
     "f3ad8b16ec314fcda83be5da3f0c6a65": {
      "model_module": "@jupyter-widgets/controls",
      "model_module_version": "1.4.0",
      "model_name": "SelectMultipleModel",
      "state": {
       "_options_labels": [
        "VI produced, good quality",
        "VI produced, but check other QA",
        "Pixel produced, but most probably cloudy",
        "Pixel not produced due to other reasons than clouds"
       ],
       "description": "Description",
       "index": [
        0
       ],
       "layout": "IPY_MODEL_2b99ea60a2eb47d3b3bf0361bf21731a",
       "rows": 4,
       "style": "IPY_MODEL_8338942bc53b4bc891af4461dcc9d6f4"
      }
     },
     "f3cdb2b7276a46bf952e61c655edaf1c": {
      "model_module": "@jupyter-widgets/base",
      "model_module_version": "1.1.0",
      "model_name": "LayoutModel",
      "state": {}
     },
     "f3f7d175bc124d52871d164454cc5b03": {
      "model_module": "@jupyter-widgets/controls",
      "model_module_version": "1.4.0",
      "model_name": "ButtonStyleModel",
      "state": {}
     },
     "f4025728a33c4b5f8de9a439c1ec9885": {
      "model_module": "@jupyter-widgets/controls",
      "model_module_version": "1.4.0",
      "model_name": "ButtonStyleModel",
      "state": {}
     },
     "f440b2d754b6490b876616ff4cd6deca": {
      "model_module": "@jupyter-widgets/controls",
      "model_module_version": "1.4.0",
      "model_name": "HTMLModel",
      "state": {
       "description": "QA layer:",
       "layout": "IPY_MODEL_914f5779e8c54b13afe4fe3166f77d65",
       "style": "IPY_MODEL_dafe25788ab446be8246ee5a1125599f",
       "value": "<b>_1_km_16_days_VI_Quality</b>"
      }
     },
     "f451a58c505a4090b6a8fd0a3cff9f20": {
      "model_module": "@jupyter-widgets/controls",
      "model_module_version": "1.4.0",
      "model_name": "DescriptionStyleModel",
      "state": {
       "description_width": ""
      }
     },
     "f489c4b1d90942019ad096acee7e8e54": {
      "model_module": "@jupyter-widgets/controls",
      "model_module_version": "1.4.0",
      "model_name": "VBoxModel",
      "state": {
       "children": [
        "IPY_MODEL_800675b8a99446198dc44ccb3c9f922d"
       ],
       "layout": "IPY_MODEL_796abd022c2e4fc69ca730ecdf9848a2"
      }
     },
     "f4a45bfa2b264bc1ae7c8ead9f896692": {
      "model_module": "@jupyter-widgets/controls",
      "model_module_version": "1.4.0",
      "model_name": "VBoxModel",
      "state": {
       "children": [
        "IPY_MODEL_92c17b07efe64eb598be8731c186bf78"
       ],
       "layout": "IPY_MODEL_28472946049a4892b887400bdff41433"
      }
     },
     "f4a71096f5694088919fe451a94ab08c": {
      "model_module": "@jupyter-widgets/base",
      "model_module_version": "1.1.0",
      "model_name": "LayoutModel",
      "state": {
       "width": "20%"
      }
     },
     "f4d161a4505047419310177fae9a98c0": {
      "model_module": "@jupyter-widgets/controls",
      "model_module_version": "1.4.0",
      "model_name": "HBoxModel",
      "state": {
       "children": [
        "IPY_MODEL_8d9e2012786444e4a653e561d3b460d6",
        "IPY_MODEL_f7ea5d9c0c9d422194f4c1532b84943e",
        "IPY_MODEL_8706edb1305548a9ac138626c7ff89e6"
       ],
       "layout": "IPY_MODEL_c9c40abe3ba6408796e7a45f693b27c1"
      }
     },
     "f4d8c79476c04a7fae44baea6bf7b413": {
      "model_module": "@jupyter-widgets/controls",
      "model_module_version": "1.4.0",
      "model_name": "DescriptionStyleModel",
      "state": {
       "description_width": ""
      }
     },
     "f4e7fe92fd14459d82e3162dc103e129": {
      "model_module": "@jupyter-widgets/base",
      "model_module_version": "1.1.0",
      "model_name": "LayoutModel",
      "state": {
       "width": "20%"
      }
     },
     "f4eb524abf35475e988fa2067df16b53": {
      "model_module": "@jupyter-widgets/controls",
      "model_module_version": "1.4.0",
      "model_name": "HBoxModel",
      "state": {
       "children": [
        "IPY_MODEL_a145a18415b54cebb89da5b4c38dcdf1",
        "IPY_MODEL_6eaecffa43664ceaa55123383d3e4be5"
       ],
       "layout": "IPY_MODEL_ec5d08bd5192459c86cb6eae20f1215f"
      }
     },
     "f4f07962b534434dbce867176e0ee543": {
      "model_module": "@jupyter-widgets/controls",
      "model_module_version": "1.4.0",
      "model_name": "ButtonModel",
      "state": {
       "description": "Select ALL",
       "layout": "IPY_MODEL_404d6c6bc57549d5bed2fbdf01687740",
       "style": "IPY_MODEL_e396ceb38e7943fa999b91562e39a202"
      }
     },
     "f510d3104aeb4b9893c1c5d29b47523f": {
      "model_module": "@jupyter-widgets/base",
      "model_module_version": "1.1.0",
      "model_name": "LayoutModel",
      "state": {
       "width": "30%"
      }
     },
     "f52888743417496e97966d6d3160ce6b": {
      "model_module": "@jupyter-widgets/controls",
      "model_module_version": "1.4.0",
      "model_name": "ProgressStyleModel",
      "state": {
       "description_width": "initial"
      }
     },
     "f53df63387e540b7a8731d844f324a5e": {
      "model_module": "@jupyter-widgets/controls",
      "model_module_version": "1.4.0",
      "model_name": "SelectModel",
      "state": {
       "_options_labels": [
        "MODLAND",
        "VI Usefulness",
        "Aerosol Quantity",
        "Adjacent cloud detected",
        "Atmosphere BRDF Correction",
        "Mixed Clouds",
        "Land/Water Mask",
        "Possible snow/ice",
        "Possible shadow"
       ],
       "description": "QA Parameter name:",
       "index": 0,
       "layout": "IPY_MODEL_2b17cc7c13884f0292bb2532b0eae484",
       "rows": 9,
       "style": "IPY_MODEL_516bfc73f02748ab896814504190efa2"
      }
     },
     "f5ed86dc5a834e85b8e28552f145a067": {
      "model_module": "@jupyter-widgets/controls",
      "model_module_version": "1.4.0",
      "model_name": "DescriptionStyleModel",
      "state": {
       "description_width": "initial"
      }
     },
     "f5f4b4975aaa4fef848d595c0c0acb28": {
      "model_module": "@jupyter-widgets/controls",
      "model_module_version": "1.4.0",
      "model_name": "ButtonModel",
      "state": {
       "description": "QA analytics",
       "layout": "IPY_MODEL_6514d89454914db48cc7a7f5a025272a",
       "style": "IPY_MODEL_b7d0649d62f2469caf513bf83c1704a3"
      }
     },
     "f5f5155fb7f240dab1d801aaa9bf3bc6": {
      "model_module": "@jupyter-widgets/controls",
      "model_module_version": "1.4.0",
      "model_name": "DescriptionStyleModel",
      "state": {
       "description_width": "initial"
      }
     },
     "f5fce8e7c3ce49cd86a1cbbd4184cd88": {
      "model_module": "@jupyter-widgets/controls",
      "model_module_version": "1.4.0",
      "model_name": "ButtonModel",
      "state": {
       "description": "Load QA analytics",
       "layout": "IPY_MODEL_d46f3f337ca0407cbcb79e22826c6cca",
       "style": "IPY_MODEL_d90f33548a1843b5aa918656317bf158"
      }
     },
     "f600414b6c3a42b9a0f17ec53f71a249": {
      "model_module": "@jupyter-widgets/base",
      "model_module_version": "1.1.0",
      "model_name": "LayoutModel",
      "state": {}
     },
     "f605799b77fb45cab74dbec6f25073de": {
      "model_module": "@jupyter-widgets/controls",
      "model_module_version": "1.4.0",
      "model_name": "SelectMultipleModel",
      "state": {
       "_options_labels": [
        "VI produced, good quality",
        "VI produced, but check other QA",
        "Pixel produced, but most probably cloudy",
        "Pixel not produced due to other reasons than clouds"
       ],
       "description": "Description",
       "index": [
        0
       ],
       "layout": "IPY_MODEL_a598006ce02044f494625cb901835060",
       "rows": 4,
       "style": "IPY_MODEL_f24224433e494e8190e63d6801968e94"
      }
     },
     "f60b27d07940459c80d220fd3d7e5162": {
      "model_module": "@jupyter-widgets/controls",
      "model_module_version": "1.4.0",
      "model_name": "SelectMultipleModel",
      "state": {
       "_options_labels": [
        "Good data, use with confidence",
        "Marginal data, Useful, but look at other QA information",
        "Snow/Ice Target covered with snow/ice",
        "Cloudy data, Target not visible, covered with cloud"
       ],
       "description": "Description",
       "index": [
        0
       ],
       "layout": "IPY_MODEL_081394b0144644ae811114b83e5fe1cd",
       "rows": 4,
       "style": "IPY_MODEL_a895dd33bf67478b8596293d9b8b9c13"
      }
     },
     "f617886d9bac4d17b833bbdd0a0a468e": {
      "model_module": "@jupyter-widgets/controls",
      "model_module_version": "1.4.0",
      "model_name": "DescriptionStyleModel",
      "state": {
       "description_width": "initial"
      }
     },
     "f637328ab4054f1c8c51f03e87dc2e05": {
      "model_module": "@jupyter-widgets/controls",
      "model_module_version": "1.4.0",
      "model_name": "SelectModel",
      "state": {
       "_options_labels": [
        "MODLAND",
        "VI Usefulness",
        "Aerosol Quantity",
        "Adjacent cloud detected",
        "Atmosphere BRDF Correction",
        "Mixed Clouds",
        "Land/Water Mask",
        "Possible snow/ice",
        "Possible shadow"
       ],
       "description": "QA Parameter name:",
       "index": 0,
       "layout": "IPY_MODEL_6af2f706b84a43fa8306a3ccd1855e78",
       "rows": 9,
       "style": "IPY_MODEL_88d1343765f14143a1035a73de13522b"
      }
     },
     "f63b841129084ff8b1bff360a056792e": {
      "model_module": "@jupyter-widgets/base",
      "model_module_version": "1.1.0",
      "model_name": "LayoutModel",
      "state": {
       "width": "50%"
      }
     },
     "f6557685897e42a182cce4400f6ab39c": {
      "model_module": "@jupyter-widgets/base",
      "model_module_version": "1.1.0",
      "model_name": "LayoutModel",
      "state": {}
     },
     "f66347072ae14dad84c11973280acac1": {
      "model_module": "@jupyter-widgets/controls",
      "model_module_version": "1.4.0",
      "model_name": "ProgressStyleModel",
      "state": {
       "description_width": "initial"
      }
     },
     "f6b7bda8920b4ad986f4fc15a200ec51": {
      "model_module": "@jupyter-widgets/controls",
      "model_module_version": "1.4.0",
      "model_name": "HTMLModel",
      "state": {
       "description": "QA layer:",
       "layout": "IPY_MODEL_369da348771543148f0fd1e50d0cdc87",
       "style": "IPY_MODEL_718594f1987d4670af379d9bc3668cc7",
       "value": "<b>_1_km_16_days_VI_Quality</b>"
      }
     },
     "f6bf0564a6eb4145a47bbb9e5e1cfbe5": {
      "model_module": "@jupyter-widgets/base",
      "model_module_version": "1.1.0",
      "model_name": "LayoutModel",
      "state": {
       "width": "50%"
      }
     },
     "f6da4daa0bdb48f4bd2cd3090073d51e": {
      "model_module": "@jupyter-widgets/controls",
      "model_module_version": "1.4.0",
      "model_name": "DescriptionStyleModel",
      "state": {
       "description_width": ""
      }
     },
     "f7038259a231469daa2dfcee13058714": {
      "model_module": "@jupyter-widgets/controls",
      "model_module_version": "1.4.0",
      "model_name": "ProgressStyleModel",
      "state": {
       "description_width": "initial"
      }
     },
     "f711c6e3bceb4280a32017af3e51d9ca": {
      "model_module": "@jupyter-widgets/controls",
      "model_module_version": "1.4.0",
      "model_name": "DescriptionStyleModel",
      "state": {
       "description_width": ""
      }
     },
     "f71e3ab779594e4ab58d524d3e33fed1": {
      "model_module": "@jupyter-widgets/controls",
      "model_module_version": "1.4.0",
      "model_name": "SelectMultipleModel",
      "state": {
       "_options_labels": [
        "VI produced, good quality",
        "VI produced, but check other QA",
        "Pixel produced, but most probably cloudy",
        "Pixel not produced due to other reasons than clouds"
       ],
       "description": "Description",
       "index": [
        0
       ],
       "layout": "IPY_MODEL_c77f7e3885b14f7ca0a7271fb2cd0354",
       "rows": 4,
       "style": "IPY_MODEL_3b8aed1749de42c98d51d5859270759f"
      }
     },
     "f73b452116474706a026947fc274ce08": {
      "model_module": "@jupyter-widgets/controls",
      "model_module_version": "1.4.0",
      "model_name": "HBoxModel",
      "state": {
       "children": [
        "IPY_MODEL_73dfb3893cdd46f1b6085be8f98e812b",
        "IPY_MODEL_1f3a8fcc0a214771bef5f425a1604201",
        "IPY_MODEL_5c9571edc43f4eeda4f4df7327ddf5c4"
       ],
       "layout": "IPY_MODEL_29f76712931c4302a61be18be160a238"
      }
     },
     "f756bd161d774cd9aed2a8ca34142bc8": {
      "model_module": "@jupyter-widgets/controls",
      "model_module_version": "1.4.0",
      "model_name": "DescriptionStyleModel",
      "state": {
       "description_width": "initial"
      }
     },
     "f7575b00918a424e885abef923cc7c20": {
      "model_module": "@jupyter-widgets/controls",
      "model_module_version": "1.4.0",
      "model_name": "DescriptionStyleModel",
      "state": {
       "description_width": "initial"
      }
     },
     "f768a5a53f2341f382cf796c63af922b": {
      "model_module": "@jupyter-widgets/base",
      "model_module_version": "1.1.0",
      "model_name": "LayoutModel",
      "state": {
       "width": "400px"
      }
     },
     "f774325fda184bb8acb55c832cd73d5b": {
      "model_module": "@jupyter-widgets/base",
      "model_module_version": "1.1.0",
      "model_name": "LayoutModel",
      "state": {
       "width": "400px"
      }
     },
     "f77d4ec63fa246c7af1b34f90b04979d": {
      "model_module": "@jupyter-widgets/base",
      "model_module_version": "1.1.0",
      "model_name": "LayoutModel",
      "state": {
       "width": "50%"
      }
     },
     "f7aec7aecf8b49e39815e5c603fea98c": {
      "model_module": "@jupyter-widgets/controls",
      "model_module_version": "1.4.0",
      "model_name": "ButtonStyleModel",
      "state": {}
     },
     "f7bfd1536e494680b1f0d75e2f79a8ac": {
      "model_module": "@jupyter-widgets/controls",
      "model_module_version": "1.4.0",
      "model_name": "ProgressStyleModel",
      "state": {
       "description_width": "initial"
      }
     },
     "f7c3455c411b4621b6905cd9493883ae": {
      "model_module": "@jupyter-widgets/controls",
      "model_module_version": "1.4.0",
      "model_name": "ButtonModel",
      "state": {
       "description": "QA analytics",
       "layout": "IPY_MODEL_403b922e63854e2ea5e9d0d688f98318",
       "style": "IPY_MODEL_0fa7cab60afa4132b45c90a2b3208bd4"
      }
     },
     "f7ce89c0318b47e08df875d2a4d9715c": {
      "model_module": "@jupyter-widgets/base",
      "model_module_version": "1.1.0",
      "model_name": "LayoutModel",
      "state": {
       "width": "400px"
      }
     },
     "f7ea5d9c0c9d422194f4c1532b84943e": {
      "model_module": "@jupyter-widgets/controls",
      "model_module_version": "1.4.0",
      "model_name": "ButtonModel",
      "state": {
       "description": "Default selection",
       "layout": "IPY_MODEL_7b8ceb53865f452a8577b10a53506263",
       "style": "IPY_MODEL_0e62a609e9f543cabde53d9c083d601e"
      }
     },
     "f80a7c41ad8147988f3b638b5ebc0188": {
      "model_module": "@jupyter-widgets/base",
      "model_module_version": "1.1.0",
      "model_name": "LayoutModel",
      "state": {
       "width": "20%"
      }
     },
     "f8277e0399b8476d9dea0d769a620292": {
      "model_module": "@jupyter-widgets/controls",
      "model_module_version": "1.4.0",
      "model_name": "ButtonModel",
      "state": {
       "description": "Default selection",
       "layout": "IPY_MODEL_de90c9ac99954c22b22c7c4f2586ec4b",
       "style": "IPY_MODEL_3c34f0d6c46b4c7591fa286d2752c894"
      }
     },
     "f82b45a4efd64003b88816411d6f89bb": {
      "model_module": "@jupyter-widgets/base",
      "model_module_version": "1.1.0",
      "model_name": "LayoutModel",
      "state": {
       "height": "350px",
       "width": "99%"
      }
     },
     "f8347bd09709449bb9128d6c63ed5e32": {
      "model_module": "@jupyter-widgets/base",
      "model_module_version": "1.1.0",
      "model_name": "LayoutModel",
      "state": {
       "height": "300px",
       "width": "99%"
      }
     },
     "f858f712b95c4fa4830b2014a3f1f270": {
      "model_module": "@jupyter-widgets/base",
      "model_module_version": "1.1.0",
      "model_name": "LayoutModel",
      "state": {}
     },
     "f863f10a0f434166a2cbc29f03dd2540": {
      "model_module": "@jupyter-widgets/controls",
      "model_module_version": "1.4.0",
      "model_name": "HBoxModel",
      "state": {
       "children": [
        "IPY_MODEL_9288d1b2ba09465a81ab839e5e9c0bb8",
        "IPY_MODEL_6cb3c5733a0244bdbe50ee681135d4b2"
       ],
       "layout": "IPY_MODEL_a38ff1de06c64ed398eb81b6c84e66d3"
      }
     },
     "f88ab3864eac4bd6945cde3a38bca592": {
      "model_module": "@jupyter-widgets/controls",
      "model_module_version": "1.4.0",
      "model_name": "SelectModel",
      "state": {
       "_options_labels": [
        "MODLAND",
        "VI Usefulness",
        "Aerosol Quantity",
        "Adjacent cloud detected",
        "Atmosphere BRDF Correction",
        "Mixed Clouds",
        "Land/Water Mask",
        "Possible snow/ice",
        "Possible shadow"
       ],
       "description": "QA Parameter name:",
       "index": 0,
       "layout": "IPY_MODEL_178137a0403741a396587a26f0a13c07",
       "rows": 9,
       "style": "IPY_MODEL_c5c3ce3dbc3e4d68b0c31a3c5ae7027c"
      }
     },
     "f88b5724957f4224a76af72c5f0b4615": {
      "model_module": "@jupyter-widgets/controls",
      "model_module_version": "1.4.0",
      "model_name": "ButtonStyleModel",
      "state": {}
     },
     "f8a35aaf9c3d4cc2ad9cffac91469e72": {
      "model_module": "@jupyter-widgets/controls",
      "model_module_version": "1.4.0",
      "model_name": "ButtonStyleModel",
      "state": {}
     },
     "f8da3c21038a41b7be547c572eded264": {
      "model_module": "@jupyter-widgets/base",
      "model_module_version": "1.1.0",
      "model_name": "LayoutModel",
      "state": {}
     },
     "f8f297ec4554400ca60c04e14866c190": {
      "model_module": "@jupyter-widgets/controls",
      "model_module_version": "1.4.0",
      "model_name": "SelectModel",
      "state": {
       "_options_labels": [
        "MODLAND",
        "VI Usefulness",
        "Aerosol Quantity",
        "Adjacent cloud detected",
        "Atmosphere BRDF Correction",
        "Mixed Clouds",
        "Land/Water Mask",
        "Possible snow/ice",
        "Possible shadow"
       ],
       "description": "QA Parameter name:",
       "index": 0,
       "layout": "IPY_MODEL_516979254a17412ca5145113d05ab761",
       "rows": 9,
       "style": "IPY_MODEL_82d7aa33c76f420ea32daf03fe61ed88"
      }
     },
     "f907fc73ba9546889d549f9b241b57e3": {
      "model_module": "@jupyter-widgets/controls",
      "model_module_version": "1.4.0",
      "model_name": "ProgressStyleModel",
      "state": {
       "description_width": "initial"
      }
     },
     "f90d6bf69b5745eab46c46e79f689d28": {
      "model_module": "@jupyter-widgets/controls",
      "model_module_version": "1.4.0",
      "model_name": "HBoxModel",
      "state": {
       "children": [
        "IPY_MODEL_556fdd7872cc42aa9ed7c74655aef5c5",
        "IPY_MODEL_0f8d1030b4894254adfc4b4417a0baa4",
        "IPY_MODEL_bdafb50d3a424956b7b08b6206b98106"
       ],
       "layout": "IPY_MODEL_7c2559d43e544a1c8181c2c144408303"
      }
     },
     "f90efe83f91243b9a62189472277ebff": {
      "model_module": "@jupyter-widgets/controls",
      "model_module_version": "1.4.0",
      "model_name": "HBoxModel",
      "state": {
       "children": [
        "IPY_MODEL_c335dd47092e494789b824cad96581e6",
        "IPY_MODEL_c133ebfad16d4c70a1a7b74030389192"
       ],
       "layout": "IPY_MODEL_feb20c206fa44d3c9c812b43721e757c"
      }
     },
     "f90ff4bee84b4ce88c3828c7d9fe17ae": {
      "model_module": "@jupyter-widgets/controls",
      "model_module_version": "1.4.0",
      "model_name": "HTMLModel",
      "state": {
       "description": "QA layer:",
       "layout": "IPY_MODEL_9bf6c2a7278840509f5c6526da783bf7",
       "style": "IPY_MODEL_3702ac33c0e44d10a60bca979a999dd7",
       "value": "<b>_1_km_16_days_VI_Quality</b>"
      }
     },
     "f94fc59073d4464fb9b50c7606547b30": {
      "model_module": "@jupyter-widgets/base",
      "model_module_version": "1.1.0",
      "model_name": "LayoutModel",
      "state": {
       "width": "20%"
      }
     },
     "f9c482ac290d4bae8b0dee3533f3349f": {
      "model_module": "@jupyter-widgets/base",
      "model_module_version": "1.1.0",
      "model_name": "LayoutModel",
      "state": {
       "width": "20%"
      }
     },
     "f9cb42fc5ad74aab88e03e1c4442c96a": {
      "model_module": "@jupyter-widgets/base",
      "model_module_version": "1.1.0",
      "model_name": "LayoutModel",
      "state": {}
     },
     "f9fd3a1ef5794c4c948bc76d387f9359": {
      "model_module": "@jupyter-widgets/controls",
      "model_module_version": "1.4.0",
      "model_name": "ButtonStyleModel",
      "state": {}
     },
     "fa02fa034e7345188df7b669a86452cd": {
      "model_module": "@jupyter-widgets/controls",
      "model_module_version": "1.4.0",
      "model_name": "ButtonStyleModel",
      "state": {}
     },
     "fa2a637bf8594122b3a1b808b7cdd11f": {
      "model_module": "@jupyter-widgets/controls",
      "model_module_version": "1.4.0",
      "model_name": "VBoxModel",
      "state": {
       "children": [
        "IPY_MODEL_16d60379d4534000ad83b11d0b5d6ef5"
       ],
       "layout": "IPY_MODEL_a00f3801f8c147cdb7cc41889a66c09e"
      }
     },
     "faa57e72de8949a6a1e8129e694dc575": {
      "model_module": "@jupyter-widgets/controls",
      "model_module_version": "1.4.0",
      "model_name": "ButtonModel",
      "state": {
       "description": "Select ALL",
       "layout": "IPY_MODEL_577340d6d0124ce8a7c619baf5550b33",
       "style": "IPY_MODEL_99572f3a064b4dc8bd985caab306d80f"
      }
     },
     "faae7520e9d2483b8ca67610d3adb319": {
      "model_module": "@jupyter-widgets/controls",
      "model_module_version": "1.4.0",
      "model_name": "VBoxModel",
      "state": {
       "children": [
        "IPY_MODEL_6484d3f1b3bd4d3295977af834ae8a33"
       ],
       "layout": "IPY_MODEL_7873065d08c147e38780097eb904b857"
      }
     },
     "fab1431e98fa4858801ae82f34101422": {
      "model_module": "@jupyter-widgets/controls",
      "model_module_version": "1.4.0",
      "model_name": "SelectModel",
      "state": {
       "_options_labels": [
        "MODLAND",
        "VI Usefulness",
        "Aerosol Quantity",
        "Adjacent cloud detected",
        "Atmosphere BRDF Correction",
        "Mixed Clouds",
        "Land/Water Mask",
        "Possible snow/ice",
        "Possible shadow"
       ],
       "description": "QA Parameter name:",
       "index": 0,
       "layout": "IPY_MODEL_aa61e27630e64d50a1990f89bc771911",
       "rows": 9,
       "style": "IPY_MODEL_d21264f069bf475e90291e0f9caa46e3"
      }
     },
     "fade8ac0cc374142983f5835fa4afca5": {
      "model_module": "@jupyter-widgets/controls",
      "model_module_version": "1.4.0",
      "model_name": "ProgressStyleModel",
      "state": {
       "description_width": "initial"
      }
     },
     "fadf6ec74aba416281aff0b6a5704999": {
      "model_module": "@jupyter-widgets/controls",
      "model_module_version": "1.4.0",
      "model_name": "VBoxModel",
      "state": {
       "children": [
        "IPY_MODEL_a92338001abc434d967ae1710235ecbd"
       ],
       "layout": "IPY_MODEL_a5e74cd31475490aa3a995dd05215aaa"
      }
     },
     "fb0662a9c8c84158b83f717c3cdbba88": {
      "model_module": "@jupyter-widgets/controls",
      "model_module_version": "1.4.0",
      "model_name": "ButtonStyleModel",
      "state": {}
     },
     "fb298b9d872243cca967c71cbd8226b1": {
      "model_module": "@jupyter-widgets/controls",
      "model_module_version": "1.4.0",
      "model_name": "ButtonModel",
      "state": {
       "description": "Select ALL",
       "layout": "IPY_MODEL_c7e8a18386184e1f962f4b4b33054ac3",
       "style": "IPY_MODEL_6f313e753ec4441ca79bfc9b4ae3a80d"
      }
     },
     "fb467cb081f14987a86d7f04f714d518": {
      "model_module": "@jupyter-widgets/base",
      "model_module_version": "1.1.0",
      "model_name": "LayoutModel",
      "state": {
       "width": "400px"
      }
     },
     "fb663ad86f454a718b1377ae592fb93c": {
      "model_module": "@jupyter-widgets/controls",
      "model_module_version": "1.4.0",
      "model_name": "DescriptionStyleModel",
      "state": {
       "description_width": ""
      }
     },
     "fb6bf275a3424571befd1f1f26e54b99": {
      "model_module": "@jupyter-widgets/base",
      "model_module_version": "1.1.0",
      "model_name": "LayoutModel",
      "state": {}
     },
     "fba4426550a54ccdab33d8110f1d0f34": {
      "model_module": "@jupyter-widgets/controls",
      "model_module_version": "1.4.0",
      "model_name": "DescriptionStyleModel",
      "state": {
       "description_width": ""
      }
     },
     "fbc05f701a344ee3b900f972dec00322": {
      "model_module": "@jupyter-widgets/base",
      "model_module_version": "1.1.0",
      "model_name": "LayoutModel",
      "state": {}
     },
     "fbce0a3501c04c01b5be8c6e7fd80c3f": {
      "model_module": "@jupyter-widgets/controls",
      "model_module_version": "1.4.0",
      "model_name": "ButtonStyleModel",
      "state": {}
     },
     "fbd65f671fd44b859d149b9f3bdc2d53": {
      "model_module": "@jupyter-widgets/controls",
      "model_module_version": "1.4.0",
      "model_name": "VBoxModel",
      "state": {
       "children": [
        "IPY_MODEL_15107522eb3a4d1593a38724b99c6e20"
       ],
       "layout": "IPY_MODEL_3e96e531fb98423d85203ae65a56e4a0"
      }
     },
     "fc08d2e9c9694437905fd52943614030": {
      "model_module": "@jupyter-widgets/controls",
      "model_module_version": "1.4.0",
      "model_name": "ButtonStyleModel",
      "state": {}
     },
     "fc1b45949ef44887a3e78d3af01a98dc": {
      "model_module": "@jupyter-widgets/base",
      "model_module_version": "1.1.0",
      "model_name": "LayoutModel",
      "state": {}
     },
     "fc27629ce17d451a8166ad149620b233": {
      "model_module": "@jupyter-widgets/base",
      "model_module_version": "1.1.0",
      "model_name": "LayoutModel",
      "state": {
       "width": "30%"
      }
     },
     "fc7dae741fcf47b9817fecb1fccefee6": {
      "model_module": "@jupyter-widgets/controls",
      "model_module_version": "1.4.0",
      "model_name": "ProgressStyleModel",
      "state": {
       "description_width": "initial"
      }
     },
     "fc87876d70b449168d76c4110de2c6a0": {
      "model_module": "@jupyter-widgets/controls",
      "model_module_version": "1.4.0",
      "model_name": "SelectMultipleModel",
      "state": {
       "_options_labels": [
        "VI produced, good quality",
        "VI produced, but check other QA",
        "Pixel produced, but most probably cloudy",
        "Pixel not produced due to other reasons than clouds"
       ],
       "description": "Description",
       "index": [
        0
       ],
       "layout": "IPY_MODEL_c1bfb79b30c74c70b732a8b069ec7107",
       "rows": 4,
       "style": "IPY_MODEL_aa1561aa50924bb28f9d65f7888bd503"
      }
     },
     "fca92984db2a4f7db89793712c9a7428": {
      "model_module": "@jupyter-widgets/base",
      "model_module_version": "1.1.0",
      "model_name": "LayoutModel",
      "state": {}
     },
     "fcb6143ce1a6499caf785a99c4fa0afc": {
      "model_module": "@jupyter-widgets/base",
      "model_module_version": "1.1.0",
      "model_name": "LayoutModel",
      "state": {
       "width": "400px"
      }
     },
     "fccefb217c554b42bb21d600ae7867b0": {
      "model_module": "@jupyter-widgets/controls",
      "model_module_version": "1.4.0",
      "model_name": "HBoxModel",
      "state": {
       "children": [
        "IPY_MODEL_9e5685e95d7a48c08fcd6f954eb29b58",
        "IPY_MODEL_d8703cbf977645c687c2e25f4f4872b2"
       ],
       "layout": "IPY_MODEL_67fcb3ec16c7496c80996b506523dd84"
      }
     },
     "fcd93c38e5b5486d91f623aba2e32f35": {
      "model_module": "@jupyter-widgets/base",
      "model_module_version": "1.1.0",
      "model_name": "LayoutModel",
      "state": {}
     },
     "fcf84d9eef464a71b35f15c4af8e37e5": {
      "model_module": "@jupyter-widgets/base",
      "model_module_version": "1.1.0",
      "model_name": "LayoutModel",
      "state": {}
     },
     "fd2a1bab6a0e48bcaa62115df7244eef": {
      "model_module": "@jupyter-widgets/controls",
      "model_module_version": "1.4.0",
      "model_name": "ButtonStyleModel",
      "state": {}
     },
     "fda1ee3ab6674c77a88ed9513eecbbcd": {
      "model_module": "@jupyter-widgets/base",
      "model_module_version": "1.1.0",
      "model_name": "LayoutModel",
      "state": {
       "height": "200px",
       "width": "99%"
      }
     },
     "fda36595450e4b7e89fc7101e36dd76b": {
      "model_module": "@jupyter-widgets/controls",
      "model_module_version": "1.4.0",
      "model_name": "ButtonModel",
      "state": {
       "description": "Select ALL",
       "layout": "IPY_MODEL_413b852107ae41078f8517ced7733951",
       "style": "IPY_MODEL_c8a51140561f466d86c0347556036ce7"
      }
     },
     "fdaf36beaf564780b2c485e06b493db9": {
      "model_module": "@jupyter-widgets/controls",
      "model_module_version": "1.4.0",
      "model_name": "VBoxModel",
      "state": {
       "children": [
        "IPY_MODEL_21168dd3a71c4a49bc2df901cfb4176e"
       ],
       "layout": "IPY_MODEL_357c9fc9267040e880c0bd505c2ffcc2"
      }
     },
     "fdbecdb5c6c941b79f6a6ba127f7f4cf": {
      "model_module": "@jupyter-widgets/controls",
      "model_module_version": "1.4.0",
      "model_name": "VBoxModel",
      "state": {
       "children": [
        "IPY_MODEL_eb9f156cb07b4e32a9f20eb419bb97be"
       ],
       "layout": "IPY_MODEL_5cc0094fe313461186cdf16587d650d0"
      }
     },
     "fdd196f2a54f436288327339852502c3": {
      "model_module": "@jupyter-widgets/controls",
      "model_module_version": "1.4.0",
      "model_name": "DescriptionStyleModel",
      "state": {
       "description_width": "initial"
      }
     },
     "fdd7e4d7149f4908906a01b2f1276cc8": {
      "model_module": "@jupyter-widgets/base",
      "model_module_version": "1.1.0",
      "model_name": "LayoutModel",
      "state": {
       "width": "400px"
      }
     },
     "fdeb4c30776a45bb8b427760fc243339": {
      "model_module": "@jupyter-widgets/base",
      "model_module_version": "1.1.0",
      "model_name": "LayoutModel",
      "state": {}
     },
     "fdec7c6e39764bac8ee5a7ffdc5d924f": {
      "model_module": "@jupyter-widgets/controls",
      "model_module_version": "1.4.0",
      "model_name": "ButtonModel",
      "state": {
       "description": "Default selection",
       "layout": "IPY_MODEL_962dd78b5e6c49f899231c6731df23ed",
       "style": "IPY_MODEL_334017913c7a402aabde7a853c31363b"
      }
     },
     "fe11d88ef1e74010ab65421dcfc851f3": {
      "model_module": "@jupyter-widgets/base",
      "model_module_version": "1.1.0",
      "model_name": "LayoutModel",
      "state": {
       "width": "50%"
      }
     },
     "fe216738383a4fd29a8425d0329efade": {
      "model_module": "@jupyter-widgets/base",
      "model_module_version": "1.1.0",
      "model_name": "LayoutModel",
      "state": {}
     },
     "fe26e716aaef4e378f0dfb5f848c190b": {
      "model_module": "@jupyter-widgets/controls",
      "model_module_version": "1.4.0",
      "model_name": "VBoxModel",
      "state": {
       "children": [
        "IPY_MODEL_0e965bdf67fc43de8593f8f854aeba52"
       ],
       "layout": "IPY_MODEL_a29b24ef74ba4f96a3e59d3073777ce7"
      }
     },
     "fe49ce2cd26740bbbe74611cb350cf4a": {
      "model_module": "@jupyter-widgets/controls",
      "model_module_version": "1.4.0",
      "model_name": "HBoxModel",
      "state": {
       "children": [
        "IPY_MODEL_95aa62d5383349f0891e4b270b8aaf3d",
        "IPY_MODEL_53b500286d7d41b29f672f0a77776658",
        "IPY_MODEL_ec34ddbcf1924daeb70e99c4b92de958"
       ],
       "layout": "IPY_MODEL_5bcf0e8a32a7429f82454a5f1f8e3f0a"
      }
     },
     "fe76640adfe647829a3db4d5d132e8b2": {
      "model_module": "@jupyter-widgets/base",
      "model_module_version": "1.1.0",
      "model_name": "LayoutModel",
      "state": {}
     },
     "fe9ed20a4d0a44c99631e101ac1f83f8": {
      "model_module": "@jupyter-widgets/base",
      "model_module_version": "1.1.0",
      "model_name": "LayoutModel",
      "state": {
       "width": "50%"
      }
     },
     "feb20c206fa44d3c9c812b43721e757c": {
      "model_module": "@jupyter-widgets/base",
      "model_module_version": "1.1.0",
      "model_name": "LayoutModel",
      "state": {
       "height": "300px",
       "width": "99%"
      }
     },
     "fee63d18b90a4793b1ccd47562c68972": {
      "model_module": "@jupyter-widgets/controls",
      "model_module_version": "1.4.0",
      "model_name": "VBoxModel",
      "state": {
       "children": [
        "IPY_MODEL_3994e4675af14176ab8345001b3ae705"
       ],
       "layout": "IPY_MODEL_1b7fc13927f04404bbdd4805e4f28b7e"
      }
     },
     "ff01652771a44acbb362f8a8500895a7": {
      "model_module": "@jupyter-widgets/base",
      "model_module_version": "1.1.0",
      "model_name": "LayoutModel",
      "state": {
       "width": "30%"
      }
     },
     "ff09a4d4d1324505aa6d32b58588b8be": {
      "model_module": "@jupyter-widgets/controls",
      "model_module_version": "1.4.0",
      "model_name": "ButtonModel",
      "state": {
       "description": "Default selection",
       "layout": "IPY_MODEL_da89436ee9fa4b6bb8a13c5dd234d56e",
       "style": "IPY_MODEL_99cf3acd58764e2daee66c230c13631b"
      }
     },
     "ff2009148c534fbf87cdd7b00be534c9": {
      "model_module": "@jupyter-widgets/controls",
      "model_module_version": "1.4.0",
      "model_name": "VBoxModel",
      "state": {
       "children": [
        "IPY_MODEL_f321fe39f44c46c0a0f0d5a7287845e8"
       ],
       "layout": "IPY_MODEL_ae5d5deae6cf43a29ee1f99bf2262e75"
      }
     },
     "ff5cb15920034bc49f1157ea962ab346": {
      "model_module": "@jupyter-widgets/controls",
      "model_module_version": "1.4.0",
      "model_name": "VBoxModel",
      "state": {
       "children": [
        "IPY_MODEL_148eafa7397f47f8a893af4b850e2910"
       ],
       "layout": "IPY_MODEL_1852a04783154906841712febafd9290"
      }
     },
     "ffa41570b67044469c8f1d250f5ef22d": {
      "model_module": "@jupyter-widgets/controls",
      "model_module_version": "1.4.0",
      "model_name": "ButtonStyleModel",
      "state": {}
     },
     "ffa831ff80c54237839e7a6d95ef86ef": {
      "model_module": "@jupyter-widgets/base",
      "model_module_version": "1.1.0",
      "model_name": "LayoutModel",
      "state": {
       "width": "20%"
      }
     },
     "ffa8f5a83a66460ca16813206496b3c6": {
      "model_module": "@jupyter-widgets/controls",
      "model_module_version": "1.4.0",
      "model_name": "DescriptionStyleModel",
      "state": {
       "description_width": ""
      }
     },
     "ffc63419d5a94b95a819551e21f87f95": {
      "model_module": "@jupyter-widgets/controls",
      "model_module_version": "1.4.0",
      "model_name": "ButtonStyleModel",
      "state": {}
     },
     "fff3c4aa955a4d878bccbc7da1fb62de": {
      "model_module": "@jupyter-widgets/controls",
      "model_module_version": "1.4.0",
      "model_name": "ButtonModel",
      "state": {
       "description": "Select ALL",
       "layout": "IPY_MODEL_f9c482ac290d4bae8b0dee3533f3349f",
       "style": "IPY_MODEL_87f04aae42344dc9b3ebc2bd0c16ca10"
      }
     },
     "fffa665b389143c0867d99cf4e3d2cc8": {
      "model_module": "@jupyter-widgets/controls",
      "model_module_version": "1.4.0",
      "model_name": "SelectMultipleModel",
      "state": {
       "_options_labels": [
        "Highest quality",
        "Lower quality",
        "Decreasing quality (0010)",
        "Decreasing quality (0011)",
        "Decreasing quality (0100)",
        "Decreasing quality (0101)",
        "Decreasing quality (0110)",
        "Decreasing quality (0111)",
        "Decreasing quality (1000)",
        "Decreasing quality (1001)",
        "Decreasing quality (1010)",
        "Decreasing quality (1011)",
        "Lowest quality",
        "Quality so low that it is not useful",
        "L1B data faulty",
        "Not useful for any other reason/not processed"
       ],
       "description": "Description",
       "index": [
        0
       ],
       "layout": "IPY_MODEL_11fd92e9e7284289bec33b19db0c6547",
       "rows": 16,
       "style": "IPY_MODEL_426a1e1cba7844b892475106e5ec47ff"
      }
     }
    },
    "version_major": 2,
    "version_minor": 0
   }
  }
 },
 "nbformat": 4,
 "nbformat_minor": 2
}
