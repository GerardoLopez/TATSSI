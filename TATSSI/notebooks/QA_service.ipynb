{
 "cells": [
  {
   "cell_type": "markdown",
   "metadata": {},
   "source": [
    "## Using AppEEARS Quality Service to Extract Information from MODIS Quality Layers\n",
    "---"
   ]
  },
  {
   "cell_type": "markdown",
   "metadata": {},
   "source": [
    "Quality information for LP DAAC (Land Processes Distributed Active Archive Center) data products is important to consider when determining the usability and usefulness of a data product for a particular science application. However, this information has been notoriously difficult for users to access. Quality information is often stored as an integer value that requires the user to decode into binary strings. In order to interpret the binary string users must map the unique combinations of bits found in separate subsets of the binary string (i.e. bit-fields) to quality tables that characterize the particular quality attribute associated with each bit-field. This process is difficult for most users and is often passed over.\n",
    "\n",
    "The LP DAAC has added a quality web service to its AppEEARS service API to alleviate the difficult process of decoding and interpreting quality layers for tiled MODIS and WELD products. The quality web service will decode an integer value for a data product/layer and return the quality attribute information associated with that particular integer value. Additionally, users can determine if a quality layer exists for a particular data product/layer as well as get details about individual quality layers."
   ]
  },
  {
   "cell_type": "markdown",
   "metadata": {},
   "source": [
    "***Required Packages***\n",
    "* requests (http://docs.python-requests.org/en/latest/)\n",
    "* pandas (http://pandas.pydata.org/)"
   ]
  },
  {
   "cell_type": "markdown",
   "metadata": {},
   "source": [
    "***NOTE***\n",
    "* Users of this tutorial will need internet access in order to successfully execute the python code.\n",
    "* This is a python specific tutorial and has been tested in Python 3.4 and 2.7."
   ]
  },
  {
   "cell_type": "markdown",
   "metadata": {},
   "source": [
    "---"
   ]
  },
  {
   "cell_type": "code",
   "execution_count": 1,
   "metadata": {
    "ExecuteTime": {
     "end_time": "2019-04-03T16:25:22.674674Z",
     "start_time": "2019-04-03T16:25:22.643687Z"
    }
   },
   "outputs": [
    {
     "data": {
      "application/javascript": [
       "IPython.notebook.set_autosave_interval(0)"
      ]
     },
     "metadata": {},
     "output_type": "display_data"
    },
    {
     "name": "stdout",
     "output_type": "stream",
     "text": [
      "Autosave disabled\n"
     ]
    }
   ],
   "source": [
    "%autosave 0"
   ]
  },
  {
   "cell_type": "markdown",
   "metadata": {},
   "source": [
    "**Let's start by importing the required packages.**"
   ]
  },
  {
   "cell_type": "code",
   "execution_count": 2,
   "metadata": {
    "ExecuteTime": {
     "end_time": "2019-04-03T16:25:25.259843Z",
     "start_time": "2019-04-03T16:25:25.246258Z"
    }
   },
   "outputs": [],
   "source": [
    "import requests\n",
    "import pandas as pd"
   ]
  },
  {
   "cell_type": "markdown",
   "metadata": {},
   "source": [
    "**Next, assign the AppEEARS services API URL to a variable**"
   ]
  },
  {
   "cell_type": "code",
   "execution_count": 3,
   "metadata": {
    "ExecuteTime": {
     "end_time": "2019-04-03T16:25:28.954386Z",
     "start_time": "2019-04-03T16:25:28.947827Z"
    }
   },
   "outputs": [],
   "source": [
    "SERVICES_URL = 'https://lpdaacsvc.cr.usgs.gov/services/appeears-api/'"
   ]
  },
  {
   "cell_type": "markdown",
   "metadata": {},
   "source": [
    "***NOTE:*** Placing https://lpdaacsvc.cr.usgs.gov/services/appeears-api/ in your browser will take you to the AppEEARS services API page. The page contains all of the AppEEARS services accompanied by their documentation."
   ]
  },
  {
   "cell_type": "markdown",
   "metadata": {},
   "source": [
    "## *Get all of the data layers that contain associated quality layers*\n",
    "---"
   ]
  },
  {
   "cell_type": "markdown",
   "metadata": {},
   "source": [
    "**Say we wish to know what layers have a quality layer associated with them. We can find that out! To start, let's print out a count of the number of layers with associated quality layers.**"
   ]
  },
  {
   "cell_type": "code",
   "execution_count": 4,
   "metadata": {
    "ExecuteTime": {
     "end_time": "2019-04-03T16:25:33.598388Z",
     "start_time": "2019-04-03T16:25:32.652404Z"
    }
   },
   "outputs": [
    {
     "data": {
      "text/plain": [
       "'Quality information was found for 1201 data layers!'"
      ]
     },
     "execution_count": 4,
     "metadata": {},
     "output_type": "execute_result"
    }
   ],
   "source": [
    "qualityLayers = requests.get('{}/quality?format=json'.format(SERVICES_URL)).json()\n",
    "#print(qualityLayers)\n",
    "\n",
    "'Quality information was found for {0} data layers!'.format(len(qualityLayers))"
   ]
  },
  {
   "cell_type": "markdown",
   "metadata": {},
   "source": [
    "**The request returns a list of dictionaries that can be indexed to filter the information returned**"
   ]
  },
  {
   "cell_type": "code",
   "execution_count": 5,
   "metadata": {
    "ExecuteTime": {
     "end_time": "2019-04-03T16:25:36.421926Z",
     "start_time": "2019-04-03T16:25:36.417652Z"
    }
   },
   "outputs": [
    {
     "data": {
      "text/plain": [
       "[{'Layer': 'BRDF_Albedo_Parameters_Band6',\n",
       "  'ProductAndVersion': 'MCD43B1.005',\n",
       "  'QualityLayers': ['BRDF_Albedo_Quality'],\n",
       "  'QualityProductAndVersion': 'MCD43B2.005'},\n",
       " {'Layer': 'BRDF_Albedo_Parameters_Band7',\n",
       "  'ProductAndVersion': 'MCD43B1.005',\n",
       "  'QualityLayers': ['BRDF_Albedo_Quality'],\n",
       "  'QualityProductAndVersion': 'MCD43B2.005'},\n",
       " {'Layer': 'BRDF_Albedo_Parameters_nir',\n",
       "  'ProductAndVersion': 'MCD43B1.005',\n",
       "  'QualityLayers': ['BRDF_Albedo_Quality'],\n",
       "  'QualityProductAndVersion': 'MCD43B2.005'},\n",
       " {'Layer': 'BRDF_Albedo_Parameters_shortwave',\n",
       "  'ProductAndVersion': 'MCD43B1.005',\n",
       "  'QualityLayers': ['BRDF_Albedo_Quality'],\n",
       "  'QualityProductAndVersion': 'MCD43B2.005'}]"
      ]
     },
     "execution_count": 5,
     "metadata": {},
     "output_type": "execute_result"
    }
   ],
   "source": [
    "qualityLayers[218:222]"
   ]
  },
  {
   "cell_type": "markdown",
   "metadata": {},
   "source": [
    "**The list of products contained in qualityLayers is long, and trying to find the product/layer of interest via indexing can be inefficient. Instead, let's use a python expression, known as a list comprehension, to get all of the layers in MYD13A2.005 that have quality layers associated with them.**"
   ]
  },
  {
   "cell_type": "code",
   "execution_count": 6,
   "metadata": {
    "ExecuteTime": {
     "end_time": "2019-04-03T16:25:39.380443Z",
     "start_time": "2019-04-03T16:25:39.376338Z"
    }
   },
   "outputs": [
    {
     "data": {
      "text/plain": [
       "[{'Layer': '_1_km_16_days_EVI',\n",
       "  'ProductAndVersion': 'MYD13A2.005',\n",
       "  'QualityLayers': ['_1_km_16_days_VI_Quality'],\n",
       "  'QualityProductAndVersion': 'MYD13A2.005'},\n",
       " {'Layer': '_1_km_16_days_NDVI',\n",
       "  'ProductAndVersion': 'MYD13A2.005',\n",
       "  'QualityLayers': ['_1_km_16_days_VI_Quality'],\n",
       "  'QualityProductAndVersion': 'MYD13A2.005'},\n",
       " {'Layer': '_1_km_16_days_blue_reflectance',\n",
       "  'ProductAndVersion': 'MYD13A2.005',\n",
       "  'QualityLayers': ['_1_km_16_days_pixel_reliability'],\n",
       "  'QualityProductAndVersion': 'MYD13A2.005'},\n",
       " {'Layer': '_1_km_16_days_MIR_reflectance',\n",
       "  'ProductAndVersion': 'MYD13A2.005',\n",
       "  'QualityLayers': ['_1_km_16_days_pixel_reliability'],\n",
       "  'QualityProductAndVersion': 'MYD13A2.005'},\n",
       " {'Layer': '_1_km_16_days_NIR_reflectance',\n",
       "  'ProductAndVersion': 'MYD13A2.005',\n",
       "  'QualityLayers': ['_1_km_16_days_pixel_reliability'],\n",
       "  'QualityProductAndVersion': 'MYD13A2.005'},\n",
       " {'Layer': '_1_km_16_days_red_reflectance',\n",
       "  'ProductAndVersion': 'MYD13A2.005',\n",
       "  'QualityLayers': ['_1_km_16_days_pixel_reliability'],\n",
       "  'QualityProductAndVersion': 'MYD13A2.005'}]"
      ]
     },
     "execution_count": 6,
     "metadata": {},
     "output_type": "execute_result"
    }
   ],
   "source": [
    "productQuality_A = [q for q in qualityLayers if q['ProductAndVersion'] == 'MYD13A2.005']\n",
    "\n",
    "productQuality_A"
   ]
  },
  {
   "cell_type": "markdown",
   "metadata": {},
   "source": [
    "**If you don't want to use indexing or list comprehensions (the previous two steps), just use the** *product* **parameter in the quality service URL to get all of the layers in MYD13A2.005 that have associated quality layers.**"
   ]
  },
  {
   "cell_type": "code",
   "execution_count": 7,
   "metadata": {
    "ExecuteTime": {
     "end_time": "2019-04-03T16:25:44.051415Z",
     "start_time": "2019-04-03T16:25:43.457990Z"
    }
   },
   "outputs": [
    {
     "data": {
      "text/plain": [
       "[{'Layer': '_1_km_16_days_EVI',\n",
       "  'ProductAndVersion': 'MYD13A2.005',\n",
       "  'QualityLayers': ['_1_km_16_days_VI_Quality'],\n",
       "  'QualityProductAndVersion': 'MYD13A2.005'},\n",
       " {'Layer': '_1_km_16_days_NDVI',\n",
       "  'ProductAndVersion': 'MYD13A2.005',\n",
       "  'QualityLayers': ['_1_km_16_days_VI_Quality'],\n",
       "  'QualityProductAndVersion': 'MYD13A2.005'},\n",
       " {'Layer': '_1_km_16_days_blue_reflectance',\n",
       "  'ProductAndVersion': 'MYD13A2.005',\n",
       "  'QualityLayers': ['_1_km_16_days_pixel_reliability'],\n",
       "  'QualityProductAndVersion': 'MYD13A2.005'},\n",
       " {'Layer': '_1_km_16_days_MIR_reflectance',\n",
       "  'ProductAndVersion': 'MYD13A2.005',\n",
       "  'QualityLayers': ['_1_km_16_days_pixel_reliability'],\n",
       "  'QualityProductAndVersion': 'MYD13A2.005'},\n",
       " {'Layer': '_1_km_16_days_NIR_reflectance',\n",
       "  'ProductAndVersion': 'MYD13A2.005',\n",
       "  'QualityLayers': ['_1_km_16_days_pixel_reliability'],\n",
       "  'QualityProductAndVersion': 'MYD13A2.005'},\n",
       " {'Layer': '_1_km_16_days_red_reflectance',\n",
       "  'ProductAndVersion': 'MYD13A2.005',\n",
       "  'QualityLayers': ['_1_km_16_days_pixel_reliability'],\n",
       "  'QualityProductAndVersion': 'MYD13A2.005'}]"
      ]
     },
     "execution_count": 7,
     "metadata": {},
     "output_type": "execute_result"
    }
   ],
   "source": [
    "productQuality_B = requests.get('{}/quality/MYD13A2.005?format=json'.format(SERVICES_URL)).json()\n",
    "\n",
    "productQuality_B"
   ]
  },
  {
   "cell_type": "code",
   "execution_count": 8,
   "metadata": {
    "ExecuteTime": {
     "end_time": "2019-04-03T16:25:46.433547Z",
     "start_time": "2019-04-03T16:25:46.420074Z"
    }
   },
   "outputs": [
    {
     "data": {
      "text/plain": [
       "'_1_km_16_days_VI_Quality'"
      ]
     },
     "execution_count": 8,
     "metadata": {},
     "output_type": "execute_result"
    }
   ],
   "source": [
    "productQuality_B[0]['QualityLayers'][0]"
   ]
  },
  {
   "cell_type": "markdown",
   "metadata": {},
   "source": [
    "***NOTE:*** In both cases above, we can see that EVI (_1_km_16_days_EVI) and NDVI (_1_km_16_days_NDVI) have the same quality layer (_1_km_16_days_VI_Quality). This is the case for many of the MODIS products. However, there are occasions when the layers within products have their own associated quality layers (e.g., MOD/MYD11 products)."
   ]
  },
  {
   "cell_type": "markdown",
   "metadata": {},
   "source": [
    "## *Get the quality layer description for MYD13A2.005*\n",
    "---"
   ]
  },
  {
   "cell_type": "markdown",
   "metadata": {},
   "source": [
    "**Information within quality layers is often stored as bit-packed integers. This means that in order to get the actual quality information, one must convert the integer to binary and parse the binary string into bit-fields. Bit-fields are distinct combinations of bits representing quality categories that give an indication as to the usability and usefulness of the data product. Let's get the quality layer description for MYD13A2.005 by adding the** *quality layer* **parameter to the quality service URL.**    "
   ]
  },
  {
   "cell_type": "code",
   "execution_count": 9,
   "metadata": {
    "ExecuteTime": {
     "end_time": "2019-04-03T16:26:06.578578Z",
     "start_time": "2019-04-03T16:26:05.990938Z"
    }
   },
   "outputs": [
    {
     "data": {
      "text/html": [
       "<div>\n",
       "<style scoped>\n",
       "    .dataframe tbody tr th:only-of-type {\n",
       "        vertical-align: middle;\n",
       "    }\n",
       "\n",
       "    .dataframe tbody tr th {\n",
       "        vertical-align: top;\n",
       "    }\n",
       "\n",
       "    .dataframe thead th {\n",
       "        text-align: right;\n",
       "    }\n",
       "</style>\n",
       "<table border=\"1\" class=\"dataframe\">\n",
       "  <thead>\n",
       "    <tr style=\"text-align: right;\">\n",
       "      <th></th>\n",
       "      <th>Acceptable</th>\n",
       "      <th>Description</th>\n",
       "      <th>Name</th>\n",
       "      <th>ProductAndVersion</th>\n",
       "      <th>QualityLayer</th>\n",
       "      <th>Value</th>\n",
       "    </tr>\n",
       "  </thead>\n",
       "  <tbody>\n",
       "    <tr>\n",
       "      <th>0</th>\n",
       "      <td>True</td>\n",
       "      <td>VI produced, good quality</td>\n",
       "      <td>MODLAND</td>\n",
       "      <td>MYD13A2.005</td>\n",
       "      <td>_1_km_16_days_VI_Quality</td>\n",
       "      <td>0</td>\n",
       "    </tr>\n",
       "    <tr>\n",
       "      <th>1</th>\n",
       "      <td>False</td>\n",
       "      <td>VI produced, but check other QA</td>\n",
       "      <td>MODLAND</td>\n",
       "      <td>MYD13A2.005</td>\n",
       "      <td>_1_km_16_days_VI_Quality</td>\n",
       "      <td>1</td>\n",
       "    </tr>\n",
       "    <tr>\n",
       "      <th>2</th>\n",
       "      <td>False</td>\n",
       "      <td>Pixel produced, but most probably cloudy</td>\n",
       "      <td>MODLAND</td>\n",
       "      <td>MYD13A2.005</td>\n",
       "      <td>_1_km_16_days_VI_Quality</td>\n",
       "      <td>2</td>\n",
       "    </tr>\n",
       "    <tr>\n",
       "      <th>3</th>\n",
       "      <td>False</td>\n",
       "      <td>Pixel not produced due to other reasons than c...</td>\n",
       "      <td>MODLAND</td>\n",
       "      <td>MYD13A2.005</td>\n",
       "      <td>_1_km_16_days_VI_Quality</td>\n",
       "      <td>3</td>\n",
       "    </tr>\n",
       "    <tr>\n",
       "      <th>4</th>\n",
       "      <td>None</td>\n",
       "      <td>Highest quality</td>\n",
       "      <td>VI Usefulness</td>\n",
       "      <td>MYD13A2.005</td>\n",
       "      <td>_1_km_16_days_VI_Quality</td>\n",
       "      <td>0</td>\n",
       "    </tr>\n",
       "    <tr>\n",
       "      <th>5</th>\n",
       "      <td>None</td>\n",
       "      <td>Lower quality</td>\n",
       "      <td>VI Usefulness</td>\n",
       "      <td>MYD13A2.005</td>\n",
       "      <td>_1_km_16_days_VI_Quality</td>\n",
       "      <td>1</td>\n",
       "    </tr>\n",
       "    <tr>\n",
       "      <th>6</th>\n",
       "      <td>None</td>\n",
       "      <td>Decreasing quality (0010)</td>\n",
       "      <td>VI Usefulness</td>\n",
       "      <td>MYD13A2.005</td>\n",
       "      <td>_1_km_16_days_VI_Quality</td>\n",
       "      <td>2</td>\n",
       "    </tr>\n",
       "    <tr>\n",
       "      <th>7</th>\n",
       "      <td>None</td>\n",
       "      <td>Decreasing quality (0011)</td>\n",
       "      <td>VI Usefulness</td>\n",
       "      <td>MYD13A2.005</td>\n",
       "      <td>_1_km_16_days_VI_Quality</td>\n",
       "      <td>3</td>\n",
       "    </tr>\n",
       "    <tr>\n",
       "      <th>8</th>\n",
       "      <td>None</td>\n",
       "      <td>Decreasing quality (0100)</td>\n",
       "      <td>VI Usefulness</td>\n",
       "      <td>MYD13A2.005</td>\n",
       "      <td>_1_km_16_days_VI_Quality</td>\n",
       "      <td>4</td>\n",
       "    </tr>\n",
       "    <tr>\n",
       "      <th>9</th>\n",
       "      <td>None</td>\n",
       "      <td>Decreasing quality (0101)</td>\n",
       "      <td>VI Usefulness</td>\n",
       "      <td>MYD13A2.005</td>\n",
       "      <td>_1_km_16_days_VI_Quality</td>\n",
       "      <td>5</td>\n",
       "    </tr>\n",
       "    <tr>\n",
       "      <th>10</th>\n",
       "      <td>None</td>\n",
       "      <td>Decreasing quality (0110)</td>\n",
       "      <td>VI Usefulness</td>\n",
       "      <td>MYD13A2.005</td>\n",
       "      <td>_1_km_16_days_VI_Quality</td>\n",
       "      <td>6</td>\n",
       "    </tr>\n",
       "    <tr>\n",
       "      <th>11</th>\n",
       "      <td>None</td>\n",
       "      <td>Decreasing quality (0111)</td>\n",
       "      <td>VI Usefulness</td>\n",
       "      <td>MYD13A2.005</td>\n",
       "      <td>_1_km_16_days_VI_Quality</td>\n",
       "      <td>7</td>\n",
       "    </tr>\n",
       "    <tr>\n",
       "      <th>12</th>\n",
       "      <td>None</td>\n",
       "      <td>Decreasing quality (1000)</td>\n",
       "      <td>VI Usefulness</td>\n",
       "      <td>MYD13A2.005</td>\n",
       "      <td>_1_km_16_days_VI_Quality</td>\n",
       "      <td>8</td>\n",
       "    </tr>\n",
       "    <tr>\n",
       "      <th>13</th>\n",
       "      <td>None</td>\n",
       "      <td>Decreasing quality (1001)</td>\n",
       "      <td>VI Usefulness</td>\n",
       "      <td>MYD13A2.005</td>\n",
       "      <td>_1_km_16_days_VI_Quality</td>\n",
       "      <td>9</td>\n",
       "    </tr>\n",
       "    <tr>\n",
       "      <th>14</th>\n",
       "      <td>None</td>\n",
       "      <td>Decreasing quality (1010)</td>\n",
       "      <td>VI Usefulness</td>\n",
       "      <td>MYD13A2.005</td>\n",
       "      <td>_1_km_16_days_VI_Quality</td>\n",
       "      <td>10</td>\n",
       "    </tr>\n",
       "    <tr>\n",
       "      <th>15</th>\n",
       "      <td>None</td>\n",
       "      <td>Decreasing quality (1011)</td>\n",
       "      <td>VI Usefulness</td>\n",
       "      <td>MYD13A2.005</td>\n",
       "      <td>_1_km_16_days_VI_Quality</td>\n",
       "      <td>11</td>\n",
       "    </tr>\n",
       "    <tr>\n",
       "      <th>16</th>\n",
       "      <td>None</td>\n",
       "      <td>Lowest quality</td>\n",
       "      <td>VI Usefulness</td>\n",
       "      <td>MYD13A2.005</td>\n",
       "      <td>_1_km_16_days_VI_Quality</td>\n",
       "      <td>12</td>\n",
       "    </tr>\n",
       "    <tr>\n",
       "      <th>17</th>\n",
       "      <td>None</td>\n",
       "      <td>Quality so low that it is not useful</td>\n",
       "      <td>VI Usefulness</td>\n",
       "      <td>MYD13A2.005</td>\n",
       "      <td>_1_km_16_days_VI_Quality</td>\n",
       "      <td>13</td>\n",
       "    </tr>\n",
       "    <tr>\n",
       "      <th>18</th>\n",
       "      <td>None</td>\n",
       "      <td>L1B data faulty</td>\n",
       "      <td>VI Usefulness</td>\n",
       "      <td>MYD13A2.005</td>\n",
       "      <td>_1_km_16_days_VI_Quality</td>\n",
       "      <td>14</td>\n",
       "    </tr>\n",
       "    <tr>\n",
       "      <th>19</th>\n",
       "      <td>None</td>\n",
       "      <td>Not useful for any other reason/not processed</td>\n",
       "      <td>VI Usefulness</td>\n",
       "      <td>MYD13A2.005</td>\n",
       "      <td>_1_km_16_days_VI_Quality</td>\n",
       "      <td>15</td>\n",
       "    </tr>\n",
       "    <tr>\n",
       "      <th>20</th>\n",
       "      <td>None</td>\n",
       "      <td>Climatology</td>\n",
       "      <td>Aerosol Quantity</td>\n",
       "      <td>MYD13A2.005</td>\n",
       "      <td>_1_km_16_days_VI_Quality</td>\n",
       "      <td>0</td>\n",
       "    </tr>\n",
       "    <tr>\n",
       "      <th>21</th>\n",
       "      <td>None</td>\n",
       "      <td>Low</td>\n",
       "      <td>Aerosol Quantity</td>\n",
       "      <td>MYD13A2.005</td>\n",
       "      <td>_1_km_16_days_VI_Quality</td>\n",
       "      <td>1</td>\n",
       "    </tr>\n",
       "    <tr>\n",
       "      <th>22</th>\n",
       "      <td>None</td>\n",
       "      <td>Average</td>\n",
       "      <td>Aerosol Quantity</td>\n",
       "      <td>MYD13A2.005</td>\n",
       "      <td>_1_km_16_days_VI_Quality</td>\n",
       "      <td>2</td>\n",
       "    </tr>\n",
       "    <tr>\n",
       "      <th>23</th>\n",
       "      <td>None</td>\n",
       "      <td>High</td>\n",
       "      <td>Aerosol Quantity</td>\n",
       "      <td>MYD13A2.005</td>\n",
       "      <td>_1_km_16_days_VI_Quality</td>\n",
       "      <td>3</td>\n",
       "    </tr>\n",
       "    <tr>\n",
       "      <th>24</th>\n",
       "      <td>None</td>\n",
       "      <td>No</td>\n",
       "      <td>Adjacent cloud detected</td>\n",
       "      <td>MYD13A2.005</td>\n",
       "      <td>_1_km_16_days_VI_Quality</td>\n",
       "      <td>0</td>\n",
       "    </tr>\n",
       "    <tr>\n",
       "      <th>25</th>\n",
       "      <td>None</td>\n",
       "      <td>Yes</td>\n",
       "      <td>Adjacent cloud detected</td>\n",
       "      <td>MYD13A2.005</td>\n",
       "      <td>_1_km_16_days_VI_Quality</td>\n",
       "      <td>1</td>\n",
       "    </tr>\n",
       "    <tr>\n",
       "      <th>26</th>\n",
       "      <td>None</td>\n",
       "      <td>No</td>\n",
       "      <td>Atmosphere BRDF Correction</td>\n",
       "      <td>MYD13A2.005</td>\n",
       "      <td>_1_km_16_days_VI_Quality</td>\n",
       "      <td>0</td>\n",
       "    </tr>\n",
       "    <tr>\n",
       "      <th>27</th>\n",
       "      <td>None</td>\n",
       "      <td>Yes</td>\n",
       "      <td>Atmosphere BRDF Correction</td>\n",
       "      <td>MYD13A2.005</td>\n",
       "      <td>_1_km_16_days_VI_Quality</td>\n",
       "      <td>1</td>\n",
       "    </tr>\n",
       "    <tr>\n",
       "      <th>28</th>\n",
       "      <td>None</td>\n",
       "      <td>No</td>\n",
       "      <td>Mixed Clouds</td>\n",
       "      <td>MYD13A2.005</td>\n",
       "      <td>_1_km_16_days_VI_Quality</td>\n",
       "      <td>0</td>\n",
       "    </tr>\n",
       "    <tr>\n",
       "      <th>29</th>\n",
       "      <td>None</td>\n",
       "      <td>Yes</td>\n",
       "      <td>Mixed Clouds</td>\n",
       "      <td>MYD13A2.005</td>\n",
       "      <td>_1_km_16_days_VI_Quality</td>\n",
       "      <td>1</td>\n",
       "    </tr>\n",
       "    <tr>\n",
       "      <th>30</th>\n",
       "      <td>None</td>\n",
       "      <td>Shallow ocean</td>\n",
       "      <td>Land/Water Flag</td>\n",
       "      <td>MYD13A2.005</td>\n",
       "      <td>_1_km_16_days_VI_Quality</td>\n",
       "      <td>0</td>\n",
       "    </tr>\n",
       "    <tr>\n",
       "      <th>31</th>\n",
       "      <td>None</td>\n",
       "      <td>Land (Nothing else but land)</td>\n",
       "      <td>Land/Water Flag</td>\n",
       "      <td>MYD13A2.005</td>\n",
       "      <td>_1_km_16_days_VI_Quality</td>\n",
       "      <td>1</td>\n",
       "    </tr>\n",
       "    <tr>\n",
       "      <th>32</th>\n",
       "      <td>None</td>\n",
       "      <td>Ocean coastlines and lake shorelines</td>\n",
       "      <td>Land/Water Flag</td>\n",
       "      <td>MYD13A2.005</td>\n",
       "      <td>_1_km_16_days_VI_Quality</td>\n",
       "      <td>2</td>\n",
       "    </tr>\n",
       "    <tr>\n",
       "      <th>33</th>\n",
       "      <td>None</td>\n",
       "      <td>Shallow inland water</td>\n",
       "      <td>Land/Water Flag</td>\n",
       "      <td>MYD13A2.005</td>\n",
       "      <td>_1_km_16_days_VI_Quality</td>\n",
       "      <td>3</td>\n",
       "    </tr>\n",
       "    <tr>\n",
       "      <th>34</th>\n",
       "      <td>None</td>\n",
       "      <td>Ephemeral water</td>\n",
       "      <td>Land/Water Flag</td>\n",
       "      <td>MYD13A2.005</td>\n",
       "      <td>_1_km_16_days_VI_Quality</td>\n",
       "      <td>4</td>\n",
       "    </tr>\n",
       "    <tr>\n",
       "      <th>35</th>\n",
       "      <td>None</td>\n",
       "      <td>Deep inland water</td>\n",
       "      <td>Land/Water Flag</td>\n",
       "      <td>MYD13A2.005</td>\n",
       "      <td>_1_km_16_days_VI_Quality</td>\n",
       "      <td>5</td>\n",
       "    </tr>\n",
       "    <tr>\n",
       "      <th>36</th>\n",
       "      <td>None</td>\n",
       "      <td>Moderate or continental ocean</td>\n",
       "      <td>Land/Water Flag</td>\n",
       "      <td>MYD13A2.005</td>\n",
       "      <td>_1_km_16_days_VI_Quality</td>\n",
       "      <td>6</td>\n",
       "    </tr>\n",
       "    <tr>\n",
       "      <th>37</th>\n",
       "      <td>None</td>\n",
       "      <td>Deep ocean</td>\n",
       "      <td>Land/Water Flag</td>\n",
       "      <td>MYD13A2.005</td>\n",
       "      <td>_1_km_16_days_VI_Quality</td>\n",
       "      <td>7</td>\n",
       "    </tr>\n",
       "    <tr>\n",
       "      <th>38</th>\n",
       "      <td>None</td>\n",
       "      <td>No</td>\n",
       "      <td>Possible snow/ice</td>\n",
       "      <td>MYD13A2.005</td>\n",
       "      <td>_1_km_16_days_VI_Quality</td>\n",
       "      <td>0</td>\n",
       "    </tr>\n",
       "    <tr>\n",
       "      <th>39</th>\n",
       "      <td>None</td>\n",
       "      <td>Yes</td>\n",
       "      <td>Possible snow/ice</td>\n",
       "      <td>MYD13A2.005</td>\n",
       "      <td>_1_km_16_days_VI_Quality</td>\n",
       "      <td>1</td>\n",
       "    </tr>\n",
       "    <tr>\n",
       "      <th>40</th>\n",
       "      <td>None</td>\n",
       "      <td>No</td>\n",
       "      <td>Possible shadow</td>\n",
       "      <td>MYD13A2.005</td>\n",
       "      <td>_1_km_16_days_VI_Quality</td>\n",
       "      <td>0</td>\n",
       "    </tr>\n",
       "    <tr>\n",
       "      <th>41</th>\n",
       "      <td>None</td>\n",
       "      <td>Yes</td>\n",
       "      <td>Possible shadow</td>\n",
       "      <td>MYD13A2.005</td>\n",
       "      <td>_1_km_16_days_VI_Quality</td>\n",
       "      <td>1</td>\n",
       "    </tr>\n",
       "  </tbody>\n",
       "</table>\n",
       "</div>"
      ],
      "text/plain": [
       "   Acceptable                                        Description  \\\n",
       "0        True                          VI produced, good quality   \n",
       "1       False                    VI produced, but check other QA   \n",
       "2       False           Pixel produced, but most probably cloudy   \n",
       "3       False  Pixel not produced due to other reasons than c...   \n",
       "4        None                                    Highest quality   \n",
       "5        None                                      Lower quality   \n",
       "6        None                          Decreasing quality (0010)   \n",
       "7        None                          Decreasing quality (0011)   \n",
       "8        None                          Decreasing quality (0100)   \n",
       "9        None                          Decreasing quality (0101)   \n",
       "10       None                          Decreasing quality (0110)   \n",
       "11       None                          Decreasing quality (0111)   \n",
       "12       None                          Decreasing quality (1000)   \n",
       "13       None                          Decreasing quality (1001)   \n",
       "14       None                          Decreasing quality (1010)   \n",
       "15       None                          Decreasing quality (1011)   \n",
       "16       None                                     Lowest quality   \n",
       "17       None               Quality so low that it is not useful   \n",
       "18       None                                    L1B data faulty   \n",
       "19       None      Not useful for any other reason/not processed   \n",
       "20       None                                        Climatology   \n",
       "21       None                                                Low   \n",
       "22       None                                            Average   \n",
       "23       None                                               High   \n",
       "24       None                                                 No   \n",
       "25       None                                                Yes   \n",
       "26       None                                                 No   \n",
       "27       None                                                Yes   \n",
       "28       None                                                 No   \n",
       "29       None                                                Yes   \n",
       "30       None                                      Shallow ocean   \n",
       "31       None                       Land (Nothing else but land)   \n",
       "32       None               Ocean coastlines and lake shorelines   \n",
       "33       None                               Shallow inland water   \n",
       "34       None                                    Ephemeral water   \n",
       "35       None                                  Deep inland water   \n",
       "36       None                      Moderate or continental ocean   \n",
       "37       None                                         Deep ocean   \n",
       "38       None                                                 No   \n",
       "39       None                                                Yes   \n",
       "40       None                                                 No   \n",
       "41       None                                                Yes   \n",
       "\n",
       "                          Name ProductAndVersion              QualityLayer  \\\n",
       "0                      MODLAND       MYD13A2.005  _1_km_16_days_VI_Quality   \n",
       "1                      MODLAND       MYD13A2.005  _1_km_16_days_VI_Quality   \n",
       "2                      MODLAND       MYD13A2.005  _1_km_16_days_VI_Quality   \n",
       "3                      MODLAND       MYD13A2.005  _1_km_16_days_VI_Quality   \n",
       "4                VI Usefulness       MYD13A2.005  _1_km_16_days_VI_Quality   \n",
       "5                VI Usefulness       MYD13A2.005  _1_km_16_days_VI_Quality   \n",
       "6                VI Usefulness       MYD13A2.005  _1_km_16_days_VI_Quality   \n",
       "7                VI Usefulness       MYD13A2.005  _1_km_16_days_VI_Quality   \n",
       "8                VI Usefulness       MYD13A2.005  _1_km_16_days_VI_Quality   \n",
       "9                VI Usefulness       MYD13A2.005  _1_km_16_days_VI_Quality   \n",
       "10               VI Usefulness       MYD13A2.005  _1_km_16_days_VI_Quality   \n",
       "11               VI Usefulness       MYD13A2.005  _1_km_16_days_VI_Quality   \n",
       "12               VI Usefulness       MYD13A2.005  _1_km_16_days_VI_Quality   \n",
       "13               VI Usefulness       MYD13A2.005  _1_km_16_days_VI_Quality   \n",
       "14               VI Usefulness       MYD13A2.005  _1_km_16_days_VI_Quality   \n",
       "15               VI Usefulness       MYD13A2.005  _1_km_16_days_VI_Quality   \n",
       "16               VI Usefulness       MYD13A2.005  _1_km_16_days_VI_Quality   \n",
       "17               VI Usefulness       MYD13A2.005  _1_km_16_days_VI_Quality   \n",
       "18               VI Usefulness       MYD13A2.005  _1_km_16_days_VI_Quality   \n",
       "19               VI Usefulness       MYD13A2.005  _1_km_16_days_VI_Quality   \n",
       "20            Aerosol Quantity       MYD13A2.005  _1_km_16_days_VI_Quality   \n",
       "21            Aerosol Quantity       MYD13A2.005  _1_km_16_days_VI_Quality   \n",
       "22            Aerosol Quantity       MYD13A2.005  _1_km_16_days_VI_Quality   \n",
       "23            Aerosol Quantity       MYD13A2.005  _1_km_16_days_VI_Quality   \n",
       "24     Adjacent cloud detected       MYD13A2.005  _1_km_16_days_VI_Quality   \n",
       "25     Adjacent cloud detected       MYD13A2.005  _1_km_16_days_VI_Quality   \n",
       "26  Atmosphere BRDF Correction       MYD13A2.005  _1_km_16_days_VI_Quality   \n",
       "27  Atmosphere BRDF Correction       MYD13A2.005  _1_km_16_days_VI_Quality   \n",
       "28                Mixed Clouds       MYD13A2.005  _1_km_16_days_VI_Quality   \n",
       "29                Mixed Clouds       MYD13A2.005  _1_km_16_days_VI_Quality   \n",
       "30             Land/Water Flag       MYD13A2.005  _1_km_16_days_VI_Quality   \n",
       "31             Land/Water Flag       MYD13A2.005  _1_km_16_days_VI_Quality   \n",
       "32             Land/Water Flag       MYD13A2.005  _1_km_16_days_VI_Quality   \n",
       "33             Land/Water Flag       MYD13A2.005  _1_km_16_days_VI_Quality   \n",
       "34             Land/Water Flag       MYD13A2.005  _1_km_16_days_VI_Quality   \n",
       "35             Land/Water Flag       MYD13A2.005  _1_km_16_days_VI_Quality   \n",
       "36             Land/Water Flag       MYD13A2.005  _1_km_16_days_VI_Quality   \n",
       "37             Land/Water Flag       MYD13A2.005  _1_km_16_days_VI_Quality   \n",
       "38           Possible snow/ice       MYD13A2.005  _1_km_16_days_VI_Quality   \n",
       "39           Possible snow/ice       MYD13A2.005  _1_km_16_days_VI_Quality   \n",
       "40             Possible shadow       MYD13A2.005  _1_km_16_days_VI_Quality   \n",
       "41             Possible shadow       MYD13A2.005  _1_km_16_days_VI_Quality   \n",
       "\n",
       "    Value  \n",
       "0       0  \n",
       "1       1  \n",
       "2       2  \n",
       "3       3  \n",
       "4       0  \n",
       "5       1  \n",
       "6       2  \n",
       "7       3  \n",
       "8       4  \n",
       "9       5  \n",
       "10      6  \n",
       "11      7  \n",
       "12      8  \n",
       "13      9  \n",
       "14     10  \n",
       "15     11  \n",
       "16     12  \n",
       "17     13  \n",
       "18     14  \n",
       "19     15  \n",
       "20      0  \n",
       "21      1  \n",
       "22      2  \n",
       "23      3  \n",
       "24      0  \n",
       "25      1  \n",
       "26      0  \n",
       "27      1  \n",
       "28      0  \n",
       "29      1  \n",
       "30      0  \n",
       "31      1  \n",
       "32      2  \n",
       "33      3  \n",
       "34      4  \n",
       "35      5  \n",
       "36      6  \n",
       "37      7  \n",
       "38      0  \n",
       "39      1  \n",
       "40      0  \n",
       "41      1  "
      ]
     },
     "execution_count": 9,
     "metadata": {},
     "output_type": "execute_result"
    }
   ],
   "source": [
    "qualityLayerInfo = requests.get('{}/quality/MYD13A2.005/_1_km_16_days_VI_Quality?format=json'.format(SERVICES_URL)).json()\n",
    "\n",
    "#qualityLayerInfo\n",
    "pd.DataFrame(qualityLayerInfo)"
   ]
  },
  {
   "cell_type": "markdown",
   "metadata": {},
   "source": [
    "***NOTE:*** The table above contains the description for each bit-field in MYD13A2.005's quality layer (i.e., _1_km_16_days_VI_Quality). For more information of quality layer descriptions, please consult with the product pages on the LP DAAC website."
   ]
  },
  {
   "cell_type": "markdown",
   "metadata": {},
   "source": [
    "## *Decode Quality Value*\n",
    "---"
   ]
  },
  {
   "cell_type": "markdown",
   "metadata": {},
   "source": [
    "**Say that we have extracted a pixel value from the EVI layer (i.e., _1_km_16_days_EVI) of product MYD13A2.005. We can use the quality service to decode the associated quality value for the pixel by inserting the pixel value from the quality layer (_1_km_16_days_VI_Quality) in the quality service URL. We see that our pixel value from the quality layer equals 4160 and that our EVI value equals 0.3091.**"
   ]
  },
  {
   "cell_type": "code",
   "execution_count": 10,
   "metadata": {
    "ExecuteTime": {
     "end_time": "2019-04-03T16:26:14.430926Z",
     "start_time": "2019-04-03T16:26:13.856413Z"
    }
   },
   "outputs": [
    {
     "data": {
      "text/plain": [
       "{'Adjacent cloud detected': {'bits': '0b0', 'description': 'No'},\n",
       " 'Aerosol Quantity': {'bits': '0b01', 'description': 'Low'},\n",
       " 'Atmosphere BRDF Correction': {'bits': '0b0', 'description': 'No'},\n",
       " 'Binary Representation': '0b0001000001000000',\n",
       " 'Land/Water Flag': {'bits': '0b010',\n",
       "  'description': 'Ocean coastlines and lake shorelines'},\n",
       " 'MODLAND': {'bits': '0b00', 'description': 'VI produced, good quality'},\n",
       " 'Mixed Clouds': {'bits': '0b0', 'description': 'No'},\n",
       " 'Possible shadow': {'bits': '0b0', 'description': 'No'},\n",
       " 'Possible snow/ice': {'bits': '0b0', 'description': 'No'},\n",
       " 'VI Usefulness': {'bits': '0b0000', 'description': 'Highest quality'}}"
      ]
     },
     "execution_count": 10,
     "metadata": {},
     "output_type": "execute_result"
    }
   ],
   "source": [
    "qualityIntDecoder = requests.get('{}/quality/MYD13A2.005/_1_km_16_days_VI_Quality/4160?format=json'.format(SERVICES_URL)).json()\n",
    "\n",
    "qualityIntDecoder"
   ]
  },
  {
   "cell_type": "markdown",
   "metadata": {},
   "source": [
    "**Display** *qualityIntDecoder* **as Pandas dataframe **"
   ]
  },
  {
   "cell_type": "code",
   "execution_count": 11,
   "metadata": {
    "ExecuteTime": {
     "end_time": "2019-04-03T16:26:31.230470Z",
     "start_time": "2019-04-03T16:26:31.209838Z"
    }
   },
   "outputs": [
    {
     "data": {
      "text/html": [
       "<div>\n",
       "<style scoped>\n",
       "    .dataframe tbody tr th:only-of-type {\n",
       "        vertical-align: middle;\n",
       "    }\n",
       "\n",
       "    .dataframe tbody tr th {\n",
       "        vertical-align: top;\n",
       "    }\n",
       "\n",
       "    .dataframe thead th {\n",
       "        text-align: right;\n",
       "    }\n",
       "</style>\n",
       "<table border=\"1\" class=\"dataframe\">\n",
       "  <thead>\n",
       "    <tr style=\"text-align: right;\">\n",
       "      <th></th>\n",
       "      <th>Binary Representation</th>\n",
       "      <th>MODLAND</th>\n",
       "      <th>VI Usefulness</th>\n",
       "      <th>Aerosol Quantity</th>\n",
       "      <th>Adjacent cloud detected</th>\n",
       "      <th>Atmosphere BRDF Correction</th>\n",
       "      <th>Mixed Clouds</th>\n",
       "      <th>Land/Water Flag</th>\n",
       "      <th>Possible snow/ice</th>\n",
       "      <th>Possible shadow</th>\n",
       "    </tr>\n",
       "  </thead>\n",
       "  <tbody>\n",
       "    <tr>\n",
       "      <th>bits</th>\n",
       "      <td>0b0001000001000000</td>\n",
       "      <td>0b00</td>\n",
       "      <td>0b0000</td>\n",
       "      <td>0b01</td>\n",
       "      <td>0b0</td>\n",
       "      <td>0b0</td>\n",
       "      <td>0b0</td>\n",
       "      <td>0b010</td>\n",
       "      <td>0b0</td>\n",
       "      <td>0b0</td>\n",
       "    </tr>\n",
       "    <tr>\n",
       "      <th>description</th>\n",
       "      <td>0b0001000001000000</td>\n",
       "      <td>VI produced, good quality</td>\n",
       "      <td>Highest quality</td>\n",
       "      <td>Low</td>\n",
       "      <td>No</td>\n",
       "      <td>No</td>\n",
       "      <td>No</td>\n",
       "      <td>Ocean coastlines and lake shorelines</td>\n",
       "      <td>No</td>\n",
       "      <td>No</td>\n",
       "    </tr>\n",
       "  </tbody>\n",
       "</table>\n",
       "</div>"
      ],
      "text/plain": [
       "            Binary Representation                    MODLAND    VI Usefulness  \\\n",
       "bits           0b0001000001000000                       0b00           0b0000   \n",
       "description    0b0001000001000000  VI produced, good quality  Highest quality   \n",
       "\n",
       "            Aerosol Quantity Adjacent cloud detected  \\\n",
       "bits                    0b01                     0b0   \n",
       "description              Low                      No   \n",
       "\n",
       "            Atmosphere BRDF Correction Mixed Clouds  \\\n",
       "bits                               0b0          0b0   \n",
       "description                         No           No   \n",
       "\n",
       "                                  Land/Water Flag Possible snow/ice  \\\n",
       "bits                                        0b010               0b0   \n",
       "description  Ocean coastlines and lake shorelines                No   \n",
       "\n",
       "            Possible shadow  \n",
       "bits                    0b0  \n",
       "description              No  "
      ]
     },
     "execution_count": 11,
     "metadata": {},
     "output_type": "execute_result"
    }
   ],
   "source": [
    "pd.DataFrame(qualityIntDecoder)"
   ]
  },
  {
   "cell_type": "markdown",
   "metadata": {},
   "source": [
    "**The above code snippet returns the decoded quality information for value 4160, however, the order in which the quality categories are displayed does not match the order in which the bit-fields are assembled in the binary string. To correct this, the same service call can be used, but the manner in which we bring the request into python changes.**"
   ]
  },
  {
   "cell_type": "code",
   "execution_count": 12,
   "metadata": {
    "ExecuteTime": {
     "end_time": "2019-04-03T16:27:03.047303Z",
     "start_time": "2019-04-03T16:27:02.488590Z"
    }
   },
   "outputs": [],
   "source": [
    "import json\n",
    "from collections import OrderedDict\n",
    "qualityIntDecoder = json.loads(\n",
    "    requests.get('{}/quality/MYD13A2.005/_1_km_16_days_VI_Quality/4160?format=json'.format(SERVICES_URL)).text, \n",
    "    object_pairs_hook=OrderedDict)"
   ]
  },
  {
   "cell_type": "markdown",
   "metadata": {},
   "source": [
    "**Now let's print out the decoded quality value in its proper order.**"
   ]
  },
  {
   "cell_type": "code",
   "execution_count": 13,
   "metadata": {
    "ExecuteTime": {
     "end_time": "2019-04-03T16:27:04.402924Z",
     "start_time": "2019-04-03T16:27:04.390444Z"
    }
   },
   "outputs": [
    {
     "data": {
      "text/html": [
       "<div>\n",
       "<style scoped>\n",
       "    .dataframe tbody tr th:only-of-type {\n",
       "        vertical-align: middle;\n",
       "    }\n",
       "\n",
       "    .dataframe tbody tr th {\n",
       "        vertical-align: top;\n",
       "    }\n",
       "\n",
       "    .dataframe thead th {\n",
       "        text-align: right;\n",
       "    }\n",
       "</style>\n",
       "<table border=\"1\" class=\"dataframe\">\n",
       "  <thead>\n",
       "    <tr style=\"text-align: right;\">\n",
       "      <th></th>\n",
       "      <th>Binary Representation</th>\n",
       "      <th>MODLAND</th>\n",
       "      <th>VI Usefulness</th>\n",
       "      <th>Aerosol Quantity</th>\n",
       "      <th>Adjacent cloud detected</th>\n",
       "      <th>Atmosphere BRDF Correction</th>\n",
       "      <th>Mixed Clouds</th>\n",
       "      <th>Land/Water Flag</th>\n",
       "      <th>Possible snow/ice</th>\n",
       "      <th>Possible shadow</th>\n",
       "    </tr>\n",
       "  </thead>\n",
       "  <tbody>\n",
       "    <tr>\n",
       "      <th>bits</th>\n",
       "      <td>0b0001000001000000</td>\n",
       "      <td>0b00</td>\n",
       "      <td>0b0000</td>\n",
       "      <td>0b01</td>\n",
       "      <td>0b0</td>\n",
       "      <td>0b0</td>\n",
       "      <td>0b0</td>\n",
       "      <td>0b010</td>\n",
       "      <td>0b0</td>\n",
       "      <td>0b0</td>\n",
       "    </tr>\n",
       "    <tr>\n",
       "      <th>description</th>\n",
       "      <td>0b0001000001000000</td>\n",
       "      <td>VI produced, good quality</td>\n",
       "      <td>Highest quality</td>\n",
       "      <td>Low</td>\n",
       "      <td>No</td>\n",
       "      <td>No</td>\n",
       "      <td>No</td>\n",
       "      <td>Ocean coastlines and lake shorelines</td>\n",
       "      <td>No</td>\n",
       "      <td>No</td>\n",
       "    </tr>\n",
       "  </tbody>\n",
       "</table>\n",
       "</div>"
      ],
      "text/plain": [
       "            Binary Representation                    MODLAND    VI Usefulness  \\\n",
       "bits           0b0001000001000000                       0b00           0b0000   \n",
       "description    0b0001000001000000  VI produced, good quality  Highest quality   \n",
       "\n",
       "            Aerosol Quantity Adjacent cloud detected  \\\n",
       "bits                    0b01                     0b0   \n",
       "description              Low                      No   \n",
       "\n",
       "            Atmosphere BRDF Correction Mixed Clouds  \\\n",
       "bits                               0b0          0b0   \n",
       "description                         No           No   \n",
       "\n",
       "                                  Land/Water Flag Possible snow/ice  \\\n",
       "bits                                        0b010               0b0   \n",
       "description  Ocean coastlines and lake shorelines                No   \n",
       "\n",
       "            Possible shadow  \n",
       "bits                    0b0  \n",
       "description              No  "
      ]
     },
     "execution_count": 13,
     "metadata": {},
     "output_type": "execute_result"
    }
   ],
   "source": [
    "#qualityIntDecoder\n",
    "pd.DataFrame(qualityIntDecoder)"
   ]
  },
  {
   "cell_type": "markdown",
   "metadata": {},
   "source": [
    "**We can see in the ** *MODLAND* ** column that this is a good quality pixel and the ** *Land/Water Flag* ** column indicates that this pixel is likely near a lake shoreline (given that the pixel extracted was from tile h10v04).**"
   ]
  },
  {
   "cell_type": "markdown",
   "metadata": {},
   "source": [
    "**Finally, we can take the decoded python object (a python dictionary) and filter it based on the bit-field description.**"
   ]
  },
  {
   "cell_type": "code",
   "execution_count": 14,
   "metadata": {
    "ExecuteTime": {
     "end_time": "2019-04-03T16:27:08.840609Z",
     "start_time": "2019-04-03T16:27:08.826580Z"
    }
   },
   "outputs": [
    {
     "data": {
      "text/plain": [
       "OrderedDict([('bits', '0b00'), ('description', 'VI produced, good quality')])"
      ]
     },
     "execution_count": 14,
     "metadata": {},
     "output_type": "execute_result"
    }
   ],
   "source": [
    "qualityIntDecoder['MODLAND']"
   ]
  }
 ],
 "metadata": {
  "kernelspec": {
   "display_name": "Python 3",
   "language": "python",
   "name": "python3"
  },
  "language_info": {
   "codemirror_mode": {
    "name": "ipython",
    "version": 3
   },
   "file_extension": ".py",
   "mimetype": "text/x-python",
   "name": "python",
   "nbconvert_exporter": "python",
   "pygments_lexer": "ipython3",
   "version": "3.7.3"
  },
  "toc": {
   "base_numbering": 1,
   "nav_menu": {},
   "number_sections": false,
   "sideBar": false,
   "skip_h1_title": false,
   "title_cell": "Table of Contents",
   "title_sidebar": "Contents",
   "toc_cell": false,
   "toc_position": {},
   "toc_section_display": false,
   "toc_window_display": false
  },
  "varInspector": {
   "cols": {
    "lenName": 16,
    "lenType": 16,
    "lenVar": 40
   },
   "kernels_config": {
    "python": {
     "delete_cmd_postfix": "",
     "delete_cmd_prefix": "del ",
     "library": "var_list.py",
     "varRefreshCmd": "print(var_dic_list())"
    },
    "r": {
     "delete_cmd_postfix": ") ",
     "delete_cmd_prefix": "rm(",
     "library": "var_list.r",
     "varRefreshCmd": "cat(var_dic_list()) "
    }
   },
   "types_to_exclude": [
    "module",
    "function",
    "builtin_function_or_method",
    "instance",
    "_Feature"
   ],
   "window_display": false
  }
 },
 "nbformat": 4,
 "nbformat_minor": 2
}
